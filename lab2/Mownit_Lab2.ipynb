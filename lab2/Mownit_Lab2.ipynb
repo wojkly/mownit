{
 "cells": [
  {
   "cell_type": "markdown",
   "metadata": {},
   "source": [
    "# MOwNiT\n",
    "## Laboratorium 2\n",
    "### Analiza danych - DataFrames"
   ]
  },
  {
   "cell_type": "markdown",
   "metadata": {},
   "source": [
    "- Zaawansowany pakiet do działania na tabelkach nxm danych \n",
    "- Podobne do pandas DataFrames w Pythonie albo data.frame w R\n",
    "- Specjalistyczne funkcje do statystyki\n",
    "- W przypadku włąsnej instalacji należy zaistalować pakiet:\n",
    "\n",
    "```julia\n",
    "Pkg.add(\"DataFrames\")\n",
    "```\n",
    "\n",
    "- DataFrame to rodzaj bazy danych in-memory\n",
    "- Składa się z kolumn, do których odwołujemy się używając symboli\n",
    "- Każda z kolumn może przechowywać inny typ (inaczej niż w dwuwymiarowych tablicach )\n",
    "- od wersji 0.11 każda z kolumn jest typu Array{T,1} gdzie T jest okreslonym typem danych (np. Float64)\n",
    "- strona pakietu: https://github.com/JuliaStats/DataFrames.jl\n",
    "- dokumentacja najnowszej wersji: https://juliadata.github.io/DataFrames.jl/stable/index.html\n",
    "\n",
    "\n",
    "\n"
   ]
  },
  {
   "cell_type": "code",
   "execution_count": 2,
   "metadata": {},
   "outputs": [],
   "source": [
    "# za pierwszym razem instalujemy\n",
    "# using Pkg\n",
    "# Pkg.add(\"DataFrames\")"
   ]
  },
  {
   "cell_type": "code",
   "execution_count": 3,
   "metadata": {},
   "outputs": [
    {
     "name": "stdout",
     "output_type": "stream",
     "text": [
      "\u001b[1m4×3 DataFrame\u001b[0m\n",
      "\u001b[1m Row \u001b[0m│\u001b[1m MojaKolumna \u001b[0m\u001b[1m x2       \u001b[0m\u001b[1m Col3  \u001b[0m\n",
      "\u001b[1m     \u001b[0m│\u001b[90m Int64       \u001b[0m\u001b[90m Float64  \u001b[0m\u001b[90m Bool  \u001b[0m\n",
      "─────┼──────────────────────────────\n",
      "   1 │           1   4.0       true\n",
      "   2 │           2   3.14159  false\n",
      "   3 │           3   1.41421   true\n",
      "   4 │           4  42.0      false"
     ]
    }
   ],
   "source": [
    "# Tworzenie DataFrame\n",
    "using DataFrames\n",
    "df1=DataFrame()\n",
    "df1.MojaKolumna= 1:4\n",
    "df1.x2= [4,pi,sqrt(2), 42]\n",
    "df1.Col3= [true,false, true, false]\n",
    "show(df1)"
   ]
  },
  {
   "cell_type": "code",
   "execution_count": 4,
   "metadata": {},
   "outputs": [
    {
     "data": {
      "text/plain": [
       "Vector{Float64} (alias for Array{Float64, 1})"
      ]
     },
     "execution_count": 4,
     "metadata": {},
     "output_type": "execute_result"
    }
   ],
   "source": [
    "# ! - nie tworzy kopii, : - tworzy kopię\n",
    "typeof(df1[!,2])"
   ]
  },
  {
   "cell_type": "code",
   "execution_count": 5,
   "metadata": {},
   "outputs": [
    {
     "data": {
      "text/plain": [
       "Vector{Bool} (alias for Array{Bool, 1})"
      ]
     },
     "execution_count": 5,
     "metadata": {},
     "output_type": "execute_result"
    }
   ],
   "source": [
    "typeof(df1.Col3)"
   ]
  },
  {
   "cell_type": "code",
   "execution_count": 6,
   "metadata": {},
   "outputs": [
    {
     "data": {
      "text/html": [
       "<table class=\"data-frame\"><thead><tr><th></th><th>MojaKolumna</th><th>Col2</th><th>Col3</th></tr><tr><th></th><th>Int64</th><th>Float64</th><th>Bool</th></tr></thead><tbody><p>10 rows × 3 columns</p><tr><th>1</th><td>1</td><td>2.0</td><td>1</td></tr><tr><th>2</th><td>2</td><td>3.14159</td><td>1</td></tr><tr><th>3</th><td>3</td><td>1.41421</td><td>0</td></tr><tr><th>4</th><td>4</td><td>3.0</td><td>1</td></tr><tr><th>5</th><td>5</td><td>4.0</td><td>0</td></tr><tr><th>6</th><td>6</td><td>2.0</td><td>1</td></tr><tr><th>7</th><td>7</td><td>3.14159</td><td>1</td></tr><tr><th>8</th><td>8</td><td>1.41421</td><td>0</td></tr><tr><th>9</th><td>9</td><td>3.0</td><td>1</td></tr><tr><th>10</th><td>10</td><td>4.0</td><td>0</td></tr></tbody></table>"
      ],
      "text/latex": [
       "\\begin{tabular}{r|ccc}\n",
       "\t& MojaKolumna & Col2 & Col3\\\\\n",
       "\t\\hline\n",
       "\t& Int64 & Float64 & Bool\\\\\n",
       "\t\\hline\n",
       "\t1 & 1 & 2.0 & 1 \\\\\n",
       "\t2 & 2 & 3.14159 & 1 \\\\\n",
       "\t3 & 3 & 1.41421 & 0 \\\\\n",
       "\t4 & 4 & 3.0 & 1 \\\\\n",
       "\t5 & 5 & 4.0 & 0 \\\\\n",
       "\t6 & 6 & 2.0 & 1 \\\\\n",
       "\t7 & 7 & 3.14159 & 1 \\\\\n",
       "\t8 & 8 & 1.41421 & 0 \\\\\n",
       "\t9 & 9 & 3.0 & 1 \\\\\n",
       "\t10 & 10 & 4.0 & 0 \\\\\n",
       "\\end{tabular}\n"
      ],
      "text/plain": [
       "\u001b[1m10×3 DataFrame\u001b[0m\n",
       "\u001b[1m Row \u001b[0m│\u001b[1m MojaKolumna \u001b[0m\u001b[1m Col2    \u001b[0m\u001b[1m Col3  \u001b[0m\n",
       "\u001b[1m     \u001b[0m│\u001b[90m Int64       \u001b[0m\u001b[90m Float64 \u001b[0m\u001b[90m Bool  \u001b[0m\n",
       "─────┼─────────────────────────────\n",
       "   1 │           1  2.0       true\n",
       "   2 │           2  3.14159   true\n",
       "   3 │           3  1.41421  false\n",
       "   4 │           4  3.0       true\n",
       "   5 │           5  4.0      false\n",
       "   6 │           6  2.0       true\n",
       "   7 │           7  3.14159   true\n",
       "   8 │           8  1.41421  false\n",
       "   9 │           9  3.0       true\n",
       "  10 │          10  4.0      false"
      ]
     },
     "execution_count": 6,
     "metadata": {},
     "output_type": "execute_result"
    }
   ],
   "source": [
    "# możemy też utworzyć DataFrame używając konstruktora\n",
    "df2=DataFrame(MojaKolumna=1:10, \n",
    "    Col2=[2,pi, sqrt(2), 3, 4,2,pi, sqrt(2), 3, 4], \n",
    "    Col3=[true,true,false,true,false,true,true,false,true,false])"
   ]
  },
  {
   "cell_type": "code",
   "execution_count": 7,
   "metadata": {},
   "outputs": [
    {
     "data": {
      "text/plain": [
       "10"
      ]
     },
     "execution_count": 7,
     "metadata": {},
     "output_type": "execute_result"
    }
   ],
   "source": [
    "# ilosc wierszy\n",
    "size(df2, 1) "
   ]
  },
  {
   "cell_type": "code",
   "execution_count": 8,
   "metadata": {},
   "outputs": [
    {
     "data": {
      "text/plain": [
       "3"
      ]
     },
     "execution_count": 8,
     "metadata": {},
     "output_type": "execute_result"
    }
   ],
   "source": [
    "#ilosc kolumn\n",
    "size(df2, 2) "
   ]
  },
  {
   "cell_type": "code",
   "execution_count": 9,
   "metadata": {},
   "outputs": [
    {
     "name": "stdout",
     "output_type": "stream",
     "text": [
      "[2.0, 3.141592653589793, 1.4142135623730951, 3.0, 4.0, 2.0, 3.141592653589793, 1.4142135623730951, 3.0, 4.0]"
     ]
    }
   ],
   "source": [
    "# można odwoływać się po indeksie\n",
    "show(df2[:,2])"
   ]
  },
  {
   "cell_type": "code",
   "execution_count": 10,
   "metadata": {},
   "outputs": [
    {
     "name": "stdout",
     "output_type": "stream",
     "text": [
      "[2.0, 3.141592653589793, 1.4142135623730951, 3.0, 4.0, 2.0, 3.141592653589793, 1.4142135623730951, 3.0, 4.0]"
     ]
    }
   ],
   "source": [
    "# albo po symbolu kolumny\n",
    "show(df2[!,:Col2])"
   ]
  },
  {
   "cell_type": "code",
   "execution_count": 11,
   "metadata": {},
   "outputs": [
    {
     "name": "stdout",
     "output_type": "stream",
     "text": [
      "\u001b[1mDataFrameRow\u001b[0m\n",
      "\u001b[1m Row \u001b[0m│\u001b[1m MojaKolumna \u001b[0m\u001b[1m Col2    \u001b[0m\u001b[1m Col3  \u001b[0m\n",
      "\u001b[1m     \u001b[0m│\u001b[90m Int64       \u001b[0m\u001b[90m Float64 \u001b[0m\u001b[90m Bool  \u001b[0m\n",
      "─────┼─────────────────────────────\n",
      "   3 │           3  1.41421  false"
     ]
    }
   ],
   "source": [
    "# wiersze lub podzbiory wierszy i kolumn uzyskujemy poprzez operator (:). Wynikiem jest nowy DataFrame\n",
    "show(df2[3,:])"
   ]
  },
  {
   "cell_type": "code",
   "execution_count": 12,
   "metadata": {},
   "outputs": [
    {
     "data": {
      "text/html": [
       "<table class=\"data-frame\"><thead><tr><th></th><th>MojaKolumna</th><th>Col2</th><th>Col3</th></tr><tr><th></th><th>Int64</th><th>Float64</th><th>Bool</th></tr></thead><tbody><p>2 rows × 3 columns</p><tr><th>1</th><td>2</td><td>3.14159</td><td>1</td></tr><tr><th>2</th><td>3</td><td>1.41421</td><td>0</td></tr></tbody></table>"
      ],
      "text/latex": [
       "\\begin{tabular}{r|ccc}\n",
       "\t& MojaKolumna & Col2 & Col3\\\\\n",
       "\t\\hline\n",
       "\t& Int64 & Float64 & Bool\\\\\n",
       "\t\\hline\n",
       "\t1 & 2 & 3.14159 & 1 \\\\\n",
       "\t2 & 3 & 1.41421 & 0 \\\\\n",
       "\\end{tabular}\n"
      ],
      "text/plain": [
       "\u001b[1m2×3 DataFrame\u001b[0m\n",
       "\u001b[1m Row \u001b[0m│\u001b[1m MojaKolumna \u001b[0m\u001b[1m Col2    \u001b[0m\u001b[1m Col3  \u001b[0m\n",
       "\u001b[1m     \u001b[0m│\u001b[90m Int64       \u001b[0m\u001b[90m Float64 \u001b[0m\u001b[90m Bool  \u001b[0m\n",
       "─────┼─────────────────────────────\n",
       "   1 │           2  3.14159   true\n",
       "   2 │           3  1.41421  false"
      ]
     },
     "execution_count": 12,
     "metadata": {},
     "output_type": "execute_result"
    }
   ],
   "source": [
    "# drugi i trzeci wiersz\n",
    "df2[2:3, :]"
   ]
  },
  {
   "cell_type": "code",
   "execution_count": 13,
   "metadata": {},
   "outputs": [
    {
     "data": {
      "text/plain": [
       "2-element Vector{Float64}:\n",
       " 3.141592653589793\n",
       " 1.4142135623730951"
      ]
     },
     "execution_count": 13,
     "metadata": {},
     "output_type": "execute_result"
    }
   ],
   "source": [
    "# druga kolumna drugiego i trzeciego wiersza\n",
    "df2[2:3, :Col2]"
   ]
  },
  {
   "cell_type": "code",
   "execution_count": 14,
   "metadata": {},
   "outputs": [
    {
     "data": {
      "text/html": [
       "<table class=\"data-frame\"><thead><tr><th></th><th>Col2</th><th>Col3</th></tr><tr><th></th><th>Float64</th><th>Bool</th></tr></thead><tbody><p>2 rows × 2 columns</p><tr><th>1</th><td>3.14159</td><td>1</td></tr><tr><th>2</th><td>1.41421</td><td>0</td></tr></tbody></table>"
      ],
      "text/latex": [
       "\\begin{tabular}{r|cc}\n",
       "\t& Col2 & Col3\\\\\n",
       "\t\\hline\n",
       "\t& Float64 & Bool\\\\\n",
       "\t\\hline\n",
       "\t1 & 3.14159 & 1 \\\\\n",
       "\t2 & 1.41421 & 0 \\\\\n",
       "\\end{tabular}\n"
      ],
      "text/plain": [
       "\u001b[1m2×2 DataFrame\u001b[0m\n",
       "\u001b[1m Row \u001b[0m│\u001b[1m Col2    \u001b[0m\u001b[1m Col3  \u001b[0m\n",
       "\u001b[1m     \u001b[0m│\u001b[90m Float64 \u001b[0m\u001b[90m Bool  \u001b[0m\n",
       "─────┼────────────────\n",
       "   1 │ 3.14159   true\n",
       "   2 │ 1.41421  false"
      ]
     },
     "execution_count": 14,
     "metadata": {},
     "output_type": "execute_result"
    }
   ],
   "source": [
    "# druga i trzecia kolumna drugiego i trzeciego wiersza\n",
    "df2[2:3,[:Col2, :Col3]]"
   ]
  },
  {
   "cell_type": "code",
   "execution_count": 15,
   "metadata": {},
   "outputs": [
    {
     "data": {
      "text/html": [
       "<table class=\"data-frame\"><thead><tr><th></th><th>MojaKolumna</th><th>Col2</th><th>Col3</th></tr><tr><th></th><th>Int64</th><th>Float64</th><th>Bool</th></tr></thead><tbody><p>6 rows × 3 columns</p><tr><th>1</th><td>1</td><td>2.0</td><td>1</td></tr><tr><th>2</th><td>2</td><td>3.14159</td><td>1</td></tr><tr><th>3</th><td>3</td><td>1.41421</td><td>0</td></tr><tr><th>4</th><td>4</td><td>3.0</td><td>1</td></tr><tr><th>5</th><td>5</td><td>4.0</td><td>0</td></tr><tr><th>6</th><td>6</td><td>2.0</td><td>1</td></tr></tbody></table>"
      ],
      "text/latex": [
       "\\begin{tabular}{r|ccc}\n",
       "\t& MojaKolumna & Col2 & Col3\\\\\n",
       "\t\\hline\n",
       "\t& Int64 & Float64 & Bool\\\\\n",
       "\t\\hline\n",
       "\t1 & 1 & 2.0 & 1 \\\\\n",
       "\t2 & 2 & 3.14159 & 1 \\\\\n",
       "\t3 & 3 & 1.41421 & 0 \\\\\n",
       "\t4 & 4 & 3.0 & 1 \\\\\n",
       "\t5 & 5 & 4.0 & 0 \\\\\n",
       "\t6 & 6 & 2.0 & 1 \\\\\n",
       "\\end{tabular}\n"
      ],
      "text/plain": [
       "\u001b[1m6×3 DataFrame\u001b[0m\n",
       "\u001b[1m Row \u001b[0m│\u001b[1m MojaKolumna \u001b[0m\u001b[1m Col2    \u001b[0m\u001b[1m Col3  \u001b[0m\n",
       "\u001b[1m     \u001b[0m│\u001b[90m Int64       \u001b[0m\u001b[90m Float64 \u001b[0m\u001b[90m Bool  \u001b[0m\n",
       "─────┼─────────────────────────────\n",
       "   1 │           1  2.0       true\n",
       "   2 │           2  3.14159   true\n",
       "   3 │           3  1.41421  false\n",
       "   4 │           4  3.0       true\n",
       "   5 │           5  4.0      false\n",
       "   6 │           6  2.0       true"
      ]
     },
     "execution_count": 15,
     "metadata": {},
     "output_type": "execute_result"
    }
   ],
   "source": [
    "# pierwsze sześć wierszy\n",
    "DataFrames.first(df2,6)"
   ]
  },
  {
   "cell_type": "code",
   "execution_count": 16,
   "metadata": {},
   "outputs": [
    {
     "data": {
      "text/html": [
       "<table class=\"data-frame\"><thead><tr><th></th><th>MojaKolumna</th><th>Col2</th><th>Col3</th></tr><tr><th></th><th>Int64</th><th>Float64</th><th>Bool</th></tr></thead><tbody><p>6 rows × 3 columns</p><tr><th>1</th><td>5</td><td>4.0</td><td>0</td></tr><tr><th>2</th><td>6</td><td>2.0</td><td>1</td></tr><tr><th>3</th><td>7</td><td>3.14159</td><td>1</td></tr><tr><th>4</th><td>8</td><td>1.41421</td><td>0</td></tr><tr><th>5</th><td>9</td><td>3.0</td><td>1</td></tr><tr><th>6</th><td>10</td><td>4.0</td><td>0</td></tr></tbody></table>"
      ],
      "text/latex": [
       "\\begin{tabular}{r|ccc}\n",
       "\t& MojaKolumna & Col2 & Col3\\\\\n",
       "\t\\hline\n",
       "\t& Int64 & Float64 & Bool\\\\\n",
       "\t\\hline\n",
       "\t1 & 5 & 4.0 & 0 \\\\\n",
       "\t2 & 6 & 2.0 & 1 \\\\\n",
       "\t3 & 7 & 3.14159 & 1 \\\\\n",
       "\t4 & 8 & 1.41421 & 0 \\\\\n",
       "\t5 & 9 & 3.0 & 1 \\\\\n",
       "\t6 & 10 & 4.0 & 0 \\\\\n",
       "\\end{tabular}\n"
      ],
      "text/plain": [
       "\u001b[1m6×3 DataFrame\u001b[0m\n",
       "\u001b[1m Row \u001b[0m│\u001b[1m MojaKolumna \u001b[0m\u001b[1m Col2    \u001b[0m\u001b[1m Col3  \u001b[0m\n",
       "\u001b[1m     \u001b[0m│\u001b[90m Int64       \u001b[0m\u001b[90m Float64 \u001b[0m\u001b[90m Bool  \u001b[0m\n",
       "─────┼─────────────────────────────\n",
       "   1 │           5  4.0      false\n",
       "   2 │           6  2.0       true\n",
       "   3 │           7  3.14159   true\n",
       "   4 │           8  1.41421  false\n",
       "   5 │           9  3.0       true\n",
       "   6 │          10  4.0      false"
      ]
     },
     "execution_count": 16,
     "metadata": {},
     "output_type": "execute_result"
    }
   ],
   "source": [
    "# ostatnie sześć wierszy\n",
    "DataFrames.last(df2,6)"
   ]
  },
  {
   "cell_type": "code",
   "execution_count": 17,
   "metadata": {},
   "outputs": [
    {
     "data": {
      "text/plain": [
       "3-element Vector{String}:\n",
       " \"MojaKolumna\"\n",
       " \"Col2\"\n",
       " \"Col3\""
      ]
     },
     "execution_count": 17,
     "metadata": {},
     "output_type": "execute_result"
    }
   ],
   "source": [
    "# nazwy kolumn\n",
    "names(df2)"
   ]
  },
  {
   "cell_type": "code",
   "execution_count": 18,
   "metadata": {},
   "outputs": [
    {
     "data": {
      "text/plain": [
       "3-element Vector{DataType}:\n",
       " Int64\n",
       " Float64\n",
       " Bool"
      ]
     },
     "execution_count": 18,
     "metadata": {},
     "output_type": "execute_result"
    }
   ],
   "source": [
    "# typy kolumn\n",
    "eltype.(eachcol(df2))"
   ]
  },
  {
   "cell_type": "code",
   "execution_count": 19,
   "metadata": {},
   "outputs": [
    {
     "data": {
      "text/html": [
       "<table class=\"data-frame\"><thead><tr><th></th><th>variable</th><th>mean</th><th>min</th><th>median</th><th>max</th><th>nmissing</th><th>eltype</th></tr><tr><th></th><th>Symbol</th><th>Float64</th><th>Real</th><th>Float64</th><th>Real</th><th>Int64</th><th>DataType</th></tr></thead><tbody><p>3 rows × 7 columns</p><tr><th>1</th><td>MojaKolumna</td><td>5.5</td><td>1</td><td>5.5</td><td>10</td><td>0</td><td>Int64</td></tr><tr><th>2</th><td>Col2</td><td>2.71116</td><td>1.41421</td><td>3.0</td><td>4.0</td><td>0</td><td>Float64</td></tr><tr><th>3</th><td>Col3</td><td>0.6</td><td>0</td><td>1.0</td><td>1</td><td>0</td><td>Bool</td></tr></tbody></table>"
      ],
      "text/latex": [
       "\\begin{tabular}{r|ccccccc}\n",
       "\t& variable & mean & min & median & max & nmissing & eltype\\\\\n",
       "\t\\hline\n",
       "\t& Symbol & Float64 & Real & Float64 & Real & Int64 & DataType\\\\\n",
       "\t\\hline\n",
       "\t1 & MojaKolumna & 5.5 & 1 & 5.5 & 10 & 0 & Int64 \\\\\n",
       "\t2 & Col2 & 2.71116 & 1.41421 & 3.0 & 4.0 & 0 & Float64 \\\\\n",
       "\t3 & Col3 & 0.6 & 0 & 1.0 & 1 & 0 & Bool \\\\\n",
       "\\end{tabular}\n"
      ],
      "text/plain": [
       "\u001b[1m3×7 DataFrame\u001b[0m\n",
       "\u001b[1m Row \u001b[0m│\u001b[1m variable    \u001b[0m\u001b[1m mean    \u001b[0m\u001b[1m min     \u001b[0m\u001b[1m median  \u001b[0m\u001b[1m max  \u001b[0m\u001b[1m nmissing \u001b[0m\u001b[1m eltype   \u001b[0m\n",
       "\u001b[1m     \u001b[0m│\u001b[90m Symbol      \u001b[0m\u001b[90m Float64 \u001b[0m\u001b[90m Real    \u001b[0m\u001b[90m Float64 \u001b[0m\u001b[90m Real \u001b[0m\u001b[90m Int64    \u001b[0m\u001b[90m DataType \u001b[0m\n",
       "─────┼──────────────────────────────────────────────────────────────────\n",
       "   1 │ MojaKolumna  5.5            1      5.5    10         0  Int64\n",
       "   2 │ Col2         2.71116  1.41421      3.0   4.0         0  Float64\n",
       "   3 │ Col3         0.6        false      1.0  true         0  Bool"
      ]
     },
     "execution_count": 19,
     "metadata": {},
     "output_type": "execute_result"
    }
   ],
   "source": [
    "# podstawowe dane statystyczne o wartościach w kolumnie\n",
    "describe(df2)"
   ]
  },
  {
   "cell_type": "code",
   "execution_count": 20,
   "metadata": {},
   "outputs": [
    {
     "data": {
      "text/plain": [
       "2.711161243192578"
      ]
     },
     "execution_count": 20,
     "metadata": {},
     "output_type": "execute_result"
    }
   ],
   "source": [
    "using Statistics\n",
    "mean(df2.Col2)"
   ]
  },
  {
   "cell_type": "code",
   "execution_count": 21,
   "metadata": {},
   "outputs": [
    {
     "data": {
      "text/plain": [
       "0.9150284373648316"
      ]
     },
     "execution_count": 21,
     "metadata": {},
     "output_type": "execute_result"
    }
   ],
   "source": [
    "var(df2.Col2)"
   ]
  },
  {
   "cell_type": "code",
   "execution_count": 24,
   "metadata": {},
   "outputs": [
    {
     "data": {
      "text/html": [
       "<table class=\"data-frame\"><thead><tr><th></th><th>fixed acidity</th><th>volatile acidity</th><th>citric acid</th><th>residual sugar</th><th>chlorides</th><th>free sulfur dioxide</th></tr><tr><th></th><th>Float64</th><th>Float64</th><th>Float64</th><th>Float64</th><th>Float64</th><th>Float64</th></tr></thead><tbody><p>1,599 rows × 12 columns (omitted printing of 6 columns)</p><tr><th>1</th><td>7.4</td><td>0.7</td><td>0.0</td><td>1.9</td><td>0.076</td><td>11.0</td></tr><tr><th>2</th><td>7.8</td><td>0.88</td><td>0.0</td><td>2.6</td><td>0.098</td><td>25.0</td></tr><tr><th>3</th><td>7.8</td><td>0.76</td><td>0.04</td><td>2.3</td><td>0.092</td><td>15.0</td></tr><tr><th>4</th><td>11.2</td><td>0.28</td><td>0.56</td><td>1.9</td><td>0.075</td><td>17.0</td></tr><tr><th>5</th><td>7.4</td><td>0.7</td><td>0.0</td><td>1.9</td><td>0.076</td><td>11.0</td></tr><tr><th>6</th><td>7.4</td><td>0.66</td><td>0.0</td><td>1.8</td><td>0.075</td><td>13.0</td></tr><tr><th>7</th><td>7.9</td><td>0.6</td><td>0.06</td><td>1.6</td><td>0.069</td><td>15.0</td></tr><tr><th>8</th><td>7.3</td><td>0.65</td><td>0.0</td><td>1.2</td><td>0.065</td><td>15.0</td></tr><tr><th>9</th><td>7.8</td><td>0.58</td><td>0.02</td><td>2.0</td><td>0.073</td><td>9.0</td></tr><tr><th>10</th><td>7.5</td><td>0.5</td><td>0.36</td><td>6.1</td><td>0.071</td><td>17.0</td></tr><tr><th>11</th><td>6.7</td><td>0.58</td><td>0.08</td><td>1.8</td><td>0.097</td><td>15.0</td></tr><tr><th>12</th><td>7.5</td><td>0.5</td><td>0.36</td><td>6.1</td><td>0.071</td><td>17.0</td></tr><tr><th>13</th><td>5.6</td><td>0.615</td><td>0.0</td><td>1.6</td><td>0.089</td><td>16.0</td></tr><tr><th>14</th><td>7.8</td><td>0.61</td><td>0.29</td><td>1.6</td><td>0.114</td><td>9.0</td></tr><tr><th>15</th><td>8.9</td><td>0.62</td><td>0.18</td><td>3.8</td><td>0.176</td><td>52.0</td></tr><tr><th>16</th><td>8.9</td><td>0.62</td><td>0.19</td><td>3.9</td><td>0.17</td><td>51.0</td></tr><tr><th>17</th><td>8.5</td><td>0.28</td><td>0.56</td><td>1.8</td><td>0.092</td><td>35.0</td></tr><tr><th>18</th><td>8.1</td><td>0.56</td><td>0.28</td><td>1.7</td><td>0.368</td><td>16.0</td></tr><tr><th>19</th><td>7.4</td><td>0.59</td><td>0.08</td><td>4.4</td><td>0.086</td><td>6.0</td></tr><tr><th>20</th><td>7.9</td><td>0.32</td><td>0.51</td><td>1.8</td><td>0.341</td><td>17.0</td></tr><tr><th>21</th><td>8.9</td><td>0.22</td><td>0.48</td><td>1.8</td><td>0.077</td><td>29.0</td></tr><tr><th>22</th><td>7.6</td><td>0.39</td><td>0.31</td><td>2.3</td><td>0.082</td><td>23.0</td></tr><tr><th>23</th><td>7.9</td><td>0.43</td><td>0.21</td><td>1.6</td><td>0.106</td><td>10.0</td></tr><tr><th>24</th><td>8.5</td><td>0.49</td><td>0.11</td><td>2.3</td><td>0.084</td><td>9.0</td></tr><tr><th>25</th><td>6.9</td><td>0.4</td><td>0.14</td><td>2.4</td><td>0.085</td><td>21.0</td></tr><tr><th>26</th><td>6.3</td><td>0.39</td><td>0.16</td><td>1.4</td><td>0.08</td><td>11.0</td></tr><tr><th>27</th><td>7.6</td><td>0.41</td><td>0.24</td><td>1.8</td><td>0.08</td><td>4.0</td></tr><tr><th>28</th><td>7.9</td><td>0.43</td><td>0.21</td><td>1.6</td><td>0.106</td><td>10.0</td></tr><tr><th>29</th><td>7.1</td><td>0.71</td><td>0.0</td><td>1.9</td><td>0.08</td><td>14.0</td></tr><tr><th>30</th><td>7.8</td><td>0.645</td><td>0.0</td><td>2.0</td><td>0.082</td><td>8.0</td></tr><tr><th>&vellip;</th><td>&vellip;</td><td>&vellip;</td><td>&vellip;</td><td>&vellip;</td><td>&vellip;</td><td>&vellip;</td></tr></tbody></table>"
      ],
      "text/latex": [
       "\\begin{tabular}{r|ccccccc}\n",
       "\t& fixed acidity & volatile acidity & citric acid & residual sugar & chlorides & free sulfur dioxide & \\\\\n",
       "\t\\hline\n",
       "\t& Float64 & Float64 & Float64 & Float64 & Float64 & Float64 & \\\\\n",
       "\t\\hline\n",
       "\t1 & 7.4 & 0.7 & 0.0 & 1.9 & 0.076 & 11.0 & $\\dots$ \\\\\n",
       "\t2 & 7.8 & 0.88 & 0.0 & 2.6 & 0.098 & 25.0 & $\\dots$ \\\\\n",
       "\t3 & 7.8 & 0.76 & 0.04 & 2.3 & 0.092 & 15.0 & $\\dots$ \\\\\n",
       "\t4 & 11.2 & 0.28 & 0.56 & 1.9 & 0.075 & 17.0 & $\\dots$ \\\\\n",
       "\t5 & 7.4 & 0.7 & 0.0 & 1.9 & 0.076 & 11.0 & $\\dots$ \\\\\n",
       "\t6 & 7.4 & 0.66 & 0.0 & 1.8 & 0.075 & 13.0 & $\\dots$ \\\\\n",
       "\t7 & 7.9 & 0.6 & 0.06 & 1.6 & 0.069 & 15.0 & $\\dots$ \\\\\n",
       "\t8 & 7.3 & 0.65 & 0.0 & 1.2 & 0.065 & 15.0 & $\\dots$ \\\\\n",
       "\t9 & 7.8 & 0.58 & 0.02 & 2.0 & 0.073 & 9.0 & $\\dots$ \\\\\n",
       "\t10 & 7.5 & 0.5 & 0.36 & 6.1 & 0.071 & 17.0 & $\\dots$ \\\\\n",
       "\t11 & 6.7 & 0.58 & 0.08 & 1.8 & 0.097 & 15.0 & $\\dots$ \\\\\n",
       "\t12 & 7.5 & 0.5 & 0.36 & 6.1 & 0.071 & 17.0 & $\\dots$ \\\\\n",
       "\t13 & 5.6 & 0.615 & 0.0 & 1.6 & 0.089 & 16.0 & $\\dots$ \\\\\n",
       "\t14 & 7.8 & 0.61 & 0.29 & 1.6 & 0.114 & 9.0 & $\\dots$ \\\\\n",
       "\t15 & 8.9 & 0.62 & 0.18 & 3.8 & 0.176 & 52.0 & $\\dots$ \\\\\n",
       "\t16 & 8.9 & 0.62 & 0.19 & 3.9 & 0.17 & 51.0 & $\\dots$ \\\\\n",
       "\t17 & 8.5 & 0.28 & 0.56 & 1.8 & 0.092 & 35.0 & $\\dots$ \\\\\n",
       "\t18 & 8.1 & 0.56 & 0.28 & 1.7 & 0.368 & 16.0 & $\\dots$ \\\\\n",
       "\t19 & 7.4 & 0.59 & 0.08 & 4.4 & 0.086 & 6.0 & $\\dots$ \\\\\n",
       "\t20 & 7.9 & 0.32 & 0.51 & 1.8 & 0.341 & 17.0 & $\\dots$ \\\\\n",
       "\t21 & 8.9 & 0.22 & 0.48 & 1.8 & 0.077 & 29.0 & $\\dots$ \\\\\n",
       "\t22 & 7.6 & 0.39 & 0.31 & 2.3 & 0.082 & 23.0 & $\\dots$ \\\\\n",
       "\t23 & 7.9 & 0.43 & 0.21 & 1.6 & 0.106 & 10.0 & $\\dots$ \\\\\n",
       "\t24 & 8.5 & 0.49 & 0.11 & 2.3 & 0.084 & 9.0 & $\\dots$ \\\\\n",
       "\t25 & 6.9 & 0.4 & 0.14 & 2.4 & 0.085 & 21.0 & $\\dots$ \\\\\n",
       "\t26 & 6.3 & 0.39 & 0.16 & 1.4 & 0.08 & 11.0 & $\\dots$ \\\\\n",
       "\t27 & 7.6 & 0.41 & 0.24 & 1.8 & 0.08 & 4.0 & $\\dots$ \\\\\n",
       "\t28 & 7.9 & 0.43 & 0.21 & 1.6 & 0.106 & 10.0 & $\\dots$ \\\\\n",
       "\t29 & 7.1 & 0.71 & 0.0 & 1.9 & 0.08 & 14.0 & $\\dots$ \\\\\n",
       "\t30 & 7.8 & 0.645 & 0.0 & 2.0 & 0.082 & 8.0 & $\\dots$ \\\\\n",
       "\t$\\dots$ & $\\dots$ & $\\dots$ & $\\dots$ & $\\dots$ & $\\dots$ & $\\dots$ &  \\\\\n",
       "\\end{tabular}\n"
      ],
      "text/plain": [
       "\u001b[1m1599×12 DataFrame\u001b[0m\n",
       "\u001b[1m  Row \u001b[0m│\u001b[1m fixed acidity \u001b[0m\u001b[1m volatile acidity \u001b[0m\u001b[1m citric acid \u001b[0m\u001b[1m residual sugar \u001b[0m\u001b[1m chloride\u001b[0m ⋯\n",
       "\u001b[1m      \u001b[0m│\u001b[90m Float64       \u001b[0m\u001b[90m Float64          \u001b[0m\u001b[90m Float64     \u001b[0m\u001b[90m Float64        \u001b[0m\u001b[90m Float64 \u001b[0m ⋯\n",
       "──────┼─────────────────────────────────────────────────────────────────────────\n",
       "    1 │           7.4             0.7           0.0              1.9      0.07 ⋯\n",
       "    2 │           7.8             0.88          0.0              2.6      0.09\n",
       "    3 │           7.8             0.76          0.04             2.3      0.09\n",
       "    4 │          11.2             0.28          0.56             1.9      0.07\n",
       "    5 │           7.4             0.7           0.0              1.9      0.07 ⋯\n",
       "    6 │           7.4             0.66          0.0              1.8      0.07\n",
       "    7 │           7.9             0.6           0.06             1.6      0.06\n",
       "    8 │           7.3             0.65          0.0              1.2      0.06\n",
       "    9 │           7.8             0.58          0.02             2.0      0.07 ⋯\n",
       "   10 │           7.5             0.5           0.36             6.1      0.07\n",
       "   11 │           6.7             0.58          0.08             1.8      0.09\n",
       "  ⋮   │       ⋮               ⋮               ⋮             ⋮             ⋮    ⋱\n",
       " 1590 │           6.6             0.725         0.2              7.8      0.07\n",
       " 1591 │           6.3             0.55          0.15             1.8      0.07 ⋯\n",
       " 1592 │           5.4             0.74          0.09             1.7      0.08\n",
       " 1593 │           6.3             0.51          0.13             2.3      0.07\n",
       " 1594 │           6.8             0.62          0.08             1.9      0.06\n",
       " 1595 │           6.2             0.6           0.08             2.0      0.09 ⋯\n",
       " 1596 │           5.9             0.55          0.1              2.2      0.06\n",
       " 1597 │           6.3             0.51          0.13             2.3      0.07\n",
       " 1598 │           5.9             0.645         0.12             2.0      0.07\n",
       " 1599 │           6.0             0.31          0.47             3.6      0.06 ⋯\n",
       "\u001b[36m                                                 8 columns and 1578 rows omitted\u001b[0m"
      ]
     },
     "execution_count": 24,
     "metadata": {},
     "output_type": "execute_result"
    }
   ],
   "source": [
    "# Pkg.add(\"CSV\")\n",
    "using CSV\n",
    "input=\"winequality.csv\"\n",
    "mydata=CSV.read(input, delim=\";\",DataFrame)"
   ]
  },
  {
   "cell_type": "code",
   "execution_count": 25,
   "metadata": {},
   "outputs": [
    {
     "data": {
      "text/html": [
       "<table class=\"data-frame\"><thead><tr><th></th><th>variable</th><th>mean</th><th>min</th><th>median</th><th>max</th><th>nmissing</th><th>eltype</th></tr><tr><th></th><th>Symbol</th><th>Float64</th><th>Real</th><th>Float64</th><th>Real</th><th>Int64</th><th>DataType</th></tr></thead><tbody><p>12 rows × 7 columns</p><tr><th>1</th><td>fixed acidity</td><td>8.31964</td><td>4.6</td><td>7.9</td><td>15.9</td><td>0</td><td>Float64</td></tr><tr><th>2</th><td>volatile acidity</td><td>0.527821</td><td>0.12</td><td>0.52</td><td>1.58</td><td>0</td><td>Float64</td></tr><tr><th>3</th><td>citric acid</td><td>0.270976</td><td>0.0</td><td>0.26</td><td>1.0</td><td>0</td><td>Float64</td></tr><tr><th>4</th><td>residual sugar</td><td>2.53881</td><td>0.9</td><td>2.2</td><td>15.5</td><td>0</td><td>Float64</td></tr><tr><th>5</th><td>chlorides</td><td>0.0874665</td><td>0.012</td><td>0.079</td><td>0.611</td><td>0</td><td>Float64</td></tr><tr><th>6</th><td>free sulfur dioxide</td><td>15.8749</td><td>1.0</td><td>14.0</td><td>72.0</td><td>0</td><td>Float64</td></tr><tr><th>7</th><td>total sulfur dioxide</td><td>46.4678</td><td>6.0</td><td>38.0</td><td>289.0</td><td>0</td><td>Float64</td></tr><tr><th>8</th><td>density</td><td>0.996747</td><td>0.99007</td><td>0.99675</td><td>1.00369</td><td>0</td><td>Float64</td></tr><tr><th>9</th><td>pH</td><td>3.31111</td><td>2.74</td><td>3.31</td><td>4.01</td><td>0</td><td>Float64</td></tr><tr><th>10</th><td>sulphates</td><td>0.658149</td><td>0.33</td><td>0.62</td><td>2.0</td><td>0</td><td>Float64</td></tr><tr><th>11</th><td>alcohol</td><td>10.423</td><td>8.4</td><td>10.2</td><td>14.9</td><td>0</td><td>Float64</td></tr><tr><th>12</th><td>quality</td><td>5.63602</td><td>3</td><td>6.0</td><td>8</td><td>0</td><td>Int64</td></tr></tbody></table>"
      ],
      "text/latex": [
       "\\begin{tabular}{r|ccccccc}\n",
       "\t& variable & mean & min & median & max & nmissing & eltype\\\\\n",
       "\t\\hline\n",
       "\t& Symbol & Float64 & Real & Float64 & Real & Int64 & DataType\\\\\n",
       "\t\\hline\n",
       "\t1 & fixed acidity & 8.31964 & 4.6 & 7.9 & 15.9 & 0 & Float64 \\\\\n",
       "\t2 & volatile acidity & 0.527821 & 0.12 & 0.52 & 1.58 & 0 & Float64 \\\\\n",
       "\t3 & citric acid & 0.270976 & 0.0 & 0.26 & 1.0 & 0 & Float64 \\\\\n",
       "\t4 & residual sugar & 2.53881 & 0.9 & 2.2 & 15.5 & 0 & Float64 \\\\\n",
       "\t5 & chlorides & 0.0874665 & 0.012 & 0.079 & 0.611 & 0 & Float64 \\\\\n",
       "\t6 & free sulfur dioxide & 15.8749 & 1.0 & 14.0 & 72.0 & 0 & Float64 \\\\\n",
       "\t7 & total sulfur dioxide & 46.4678 & 6.0 & 38.0 & 289.0 & 0 & Float64 \\\\\n",
       "\t8 & density & 0.996747 & 0.99007 & 0.99675 & 1.00369 & 0 & Float64 \\\\\n",
       "\t9 & pH & 3.31111 & 2.74 & 3.31 & 4.01 & 0 & Float64 \\\\\n",
       "\t10 & sulphates & 0.658149 & 0.33 & 0.62 & 2.0 & 0 & Float64 \\\\\n",
       "\t11 & alcohol & 10.423 & 8.4 & 10.2 & 14.9 & 0 & Float64 \\\\\n",
       "\t12 & quality & 5.63602 & 3 & 6.0 & 8 & 0 & Int64 \\\\\n",
       "\\end{tabular}\n"
      ],
      "text/plain": [
       "\u001b[1m12×7 DataFrame\u001b[0m\n",
       "\u001b[1m Row \u001b[0m│\u001b[1m variable             \u001b[0m\u001b[1m mean       \u001b[0m\u001b[1m min     \u001b[0m\u001b[1m median   \u001b[0m\u001b[1m max     \u001b[0m\u001b[1m nmissing \u001b[0m\u001b[1m\u001b[0m ⋯\n",
       "\u001b[1m     \u001b[0m│\u001b[90m Symbol               \u001b[0m\u001b[90m Float64    \u001b[0m\u001b[90m Real    \u001b[0m\u001b[90m Float64  \u001b[0m\u001b[90m Real    \u001b[0m\u001b[90m Int64    \u001b[0m\u001b[90m\u001b[0m ⋯\n",
       "─────┼──────────────────────────────────────────────────────────────────────────\n",
       "   1 │ fixed acidity          8.31964        4.6   7.9         15.9         0  ⋯\n",
       "   2 │ volatile acidity       0.527821      0.12   0.52        1.58         0\n",
       "   3 │ citric acid            0.270976       0.0   0.26         1.0         0\n",
       "   4 │ residual sugar         2.53881        0.9   2.2         15.5         0\n",
       "   5 │ chlorides              0.0874665    0.012   0.079      0.611         0  ⋯\n",
       "   6 │ free sulfur dioxide   15.8749         1.0  14.0         72.0         0\n",
       "   7 │ total sulfur dioxide  46.4678         6.0  38.0        289.0         0\n",
       "   8 │ density                0.996747   0.99007   0.99675  1.00369         0\n",
       "   9 │ pH                     3.31111       2.74   3.31        4.01         0  ⋯\n",
       "  10 │ sulphates              0.658149      0.33   0.62         2.0         0\n",
       "  11 │ alcohol               10.423          8.4  10.2         14.9         0\n",
       "  12 │ quality                5.63602          3   6.0            8         0\n",
       "\u001b[36m                                                                1 column omitted\u001b[0m"
      ]
     },
     "execution_count": 25,
     "metadata": {},
     "output_type": "execute_result"
    }
   ],
   "source": [
    "describe(mydata)"
   ]
  },
  {
   "cell_type": "code",
   "execution_count": 26,
   "metadata": {},
   "outputs": [
    {
     "data": {
      "text/plain": [
       "DataFrame"
      ]
     },
     "execution_count": 26,
     "metadata": {},
     "output_type": "execute_result"
    }
   ],
   "source": [
    "typeof(mydata)"
   ]
  },
  {
   "cell_type": "code",
   "execution_count": 27,
   "metadata": {},
   "outputs": [
    {
     "data": {
      "text/plain": [
       "(1599, 12)"
      ]
     },
     "execution_count": 27,
     "metadata": {},
     "output_type": "execute_result"
    }
   ],
   "source": [
    "size(mydata)"
   ]
  },
  {
   "cell_type": "code",
   "execution_count": 28,
   "metadata": {},
   "outputs": [
    {
     "data": {
      "text/html": [
       "<p><b>GroupedDataFrame with 6 groups based on key: quality</b></p><p><i>First Group (681 rows): quality = 5</i></p><table class=\"data-frame\"><thead><tr><th></th><th>fixed acidity</th><th>volatile acidity</th><th>citric acid</th><th>residual sugar</th><th>chlorides</th><th>free sulfur dioxide</th></tr><tr><th></th><th>Float64</th><th>Float64</th><th>Float64</th><th>Float64</th><th>Float64</th><th>Float64</th></tr></thead><tbody><tr><th>1</th><td>7.4</td><td>0.7</td><td>0.0</td><td>1.9</td><td>0.076</td><td>11.0</td></tr><tr><th>2</th><td>7.8</td><td>0.88</td><td>0.0</td><td>2.6</td><td>0.098</td><td>25.0</td></tr><tr><th>3</th><td>7.8</td><td>0.76</td><td>0.04</td><td>2.3</td><td>0.092</td><td>15.0</td></tr><tr><th>4</th><td>7.4</td><td>0.7</td><td>0.0</td><td>1.9</td><td>0.076</td><td>11.0</td></tr><tr><th>5</th><td>7.4</td><td>0.66</td><td>0.0</td><td>1.8</td><td>0.075</td><td>13.0</td></tr><tr><th>6</th><td>7.9</td><td>0.6</td><td>0.06</td><td>1.6</td><td>0.069</td><td>15.0</td></tr><tr><th>7</th><td>7.5</td><td>0.5</td><td>0.36</td><td>6.1</td><td>0.071</td><td>17.0</td></tr><tr><th>8</th><td>6.7</td><td>0.58</td><td>0.08</td><td>1.8</td><td>0.097</td><td>15.0</td></tr><tr><th>9</th><td>7.5</td><td>0.5</td><td>0.36</td><td>6.1</td><td>0.071</td><td>17.0</td></tr><tr><th>10</th><td>5.6</td><td>0.615</td><td>0.0</td><td>1.6</td><td>0.089</td><td>16.0</td></tr><tr><th>11</th><td>7.8</td><td>0.61</td><td>0.29</td><td>1.6</td><td>0.114</td><td>9.0</td></tr><tr><th>12</th><td>8.9</td><td>0.62</td><td>0.18</td><td>3.8</td><td>0.176</td><td>52.0</td></tr><tr><th>13</th><td>8.9</td><td>0.62</td><td>0.19</td><td>3.9</td><td>0.17</td><td>51.0</td></tr><tr><th>14</th><td>8.1</td><td>0.56</td><td>0.28</td><td>1.7</td><td>0.368</td><td>16.0</td></tr><tr><th>15</th><td>7.6</td><td>0.39</td><td>0.31</td><td>2.3</td><td>0.082</td><td>23.0</td></tr><tr><th>16</th><td>7.9</td><td>0.43</td><td>0.21</td><td>1.6</td><td>0.106</td><td>10.0</td></tr><tr><th>17</th><td>8.5</td><td>0.49</td><td>0.11</td><td>2.3</td><td>0.084</td><td>9.0</td></tr><tr><th>18</th><td>6.3</td><td>0.39</td><td>0.16</td><td>1.4</td><td>0.08</td><td>11.0</td></tr><tr><th>19</th><td>7.6</td><td>0.41</td><td>0.24</td><td>1.8</td><td>0.08</td><td>4.0</td></tr><tr><th>20</th><td>7.9</td><td>0.43</td><td>0.21</td><td>1.6</td><td>0.106</td><td>10.0</td></tr><tr><th>21</th><td>7.1</td><td>0.71</td><td>0.0</td><td>1.9</td><td>0.08</td><td>14.0</td></tr><tr><th>22</th><td>6.7</td><td>0.675</td><td>0.07</td><td>2.4</td><td>0.089</td><td>17.0</td></tr><tr><th>23</th><td>8.3</td><td>0.655</td><td>0.12</td><td>2.3</td><td>0.083</td><td>15.0</td></tr><tr><th>24</th><td>5.2</td><td>0.32</td><td>0.25</td><td>1.8</td><td>0.103</td><td>13.0</td></tr><tr><th>25</th><td>7.3</td><td>0.45</td><td>0.36</td><td>5.9</td><td>0.074</td><td>12.0</td></tr><tr><th>26</th><td>7.3</td><td>0.45</td><td>0.36</td><td>5.9</td><td>0.074</td><td>12.0</td></tr><tr><th>27</th><td>8.1</td><td>0.66</td><td>0.22</td><td>2.2</td><td>0.069</td><td>9.0</td></tr><tr><th>28</th><td>6.8</td><td>0.67</td><td>0.02</td><td>1.8</td><td>0.05</td><td>5.0</td></tr><tr><th>29</th><td>7.7</td><td>0.935</td><td>0.43</td><td>2.2</td><td>0.114</td><td>22.0</td></tr><tr><th>30</th><td>8.7</td><td>0.29</td><td>0.52</td><td>1.6</td><td>0.113</td><td>12.0</td></tr><tr><th>&vellip;</th><td>&vellip;</td><td>&vellip;</td><td>&vellip;</td><td>&vellip;</td><td>&vellip;</td><td>&vellip;</td></tr></tbody></table><p>&vellip;</p><p><i>Last Group (10 rows): quality = 3</i></p><table class=\"data-frame\"><thead><tr><th></th><th>fixed acidity</th><th>volatile acidity</th><th>citric acid</th><th>residual sugar</th><th>chlorides</th><th>free sulfur dioxide</th></tr><tr><th></th><th>Float64</th><th>Float64</th><th>Float64</th><th>Float64</th><th>Float64</th><th>Float64</th></tr></thead><tbody><tr><th>1</th><td>11.6</td><td>0.58</td><td>0.66</td><td>2.2</td><td>0.074</td><td>10.0</td></tr><tr><th>2</th><td>10.4</td><td>0.61</td><td>0.49</td><td>2.1</td><td>0.2</td><td>5.0</td></tr><tr><th>3</th><td>7.4</td><td>1.185</td><td>0.0</td><td>4.25</td><td>0.097</td><td>5.0</td></tr><tr><th>4</th><td>10.4</td><td>0.44</td><td>0.42</td><td>1.5</td><td>0.145</td><td>34.0</td></tr><tr><th>5</th><td>8.3</td><td>1.02</td><td>0.02</td><td>3.4</td><td>0.084</td><td>6.0</td></tr><tr><th>6</th><td>7.6</td><td>1.58</td><td>0.0</td><td>2.1</td><td>0.137</td><td>5.0</td></tr><tr><th>7</th><td>6.8</td><td>0.815</td><td>0.0</td><td>1.2</td><td>0.267</td><td>16.0</td></tr><tr><th>8</th><td>7.3</td><td>0.98</td><td>0.05</td><td>2.1</td><td>0.061</td><td>20.0</td></tr><tr><th>9</th><td>7.1</td><td>0.875</td><td>0.05</td><td>5.7</td><td>0.082</td><td>3.0</td></tr><tr><th>10</th><td>6.7</td><td>0.76</td><td>0.02</td><td>1.8</td><td>0.078</td><td>6.0</td></tr></tbody></table>"
      ],
      "text/latex": [
       "GroupedDataFrame with 6 groups based on key: quality\n",
       "\n",
       "First Group (681 rows): quality = 5\n",
       "\n",
       "\\begin{tabular}{r|ccccccc}\n",
       "\t& fixed acidity & volatile acidity & citric acid & residual sugar & chlorides & free sulfur dioxide & \\\\\n",
       "\t\\hline\n",
       "\t& Float64 & Float64 & Float64 & Float64 & Float64 & Float64 & \\\\\n",
       "\t\\hline\n",
       "\t1 & 7.4 & 0.7 & 0.0 & 1.9 & 0.076 & 11.0 & $\\dots$ \\\\\n",
       "\t2 & 7.8 & 0.88 & 0.0 & 2.6 & 0.098 & 25.0 & $\\dots$ \\\\\n",
       "\t3 & 7.8 & 0.76 & 0.04 & 2.3 & 0.092 & 15.0 & $\\dots$ \\\\\n",
       "\t4 & 7.4 & 0.7 & 0.0 & 1.9 & 0.076 & 11.0 & $\\dots$ \\\\\n",
       "\t5 & 7.4 & 0.66 & 0.0 & 1.8 & 0.075 & 13.0 & $\\dots$ \\\\\n",
       "\t6 & 7.9 & 0.6 & 0.06 & 1.6 & 0.069 & 15.0 & $\\dots$ \\\\\n",
       "\t7 & 7.5 & 0.5 & 0.36 & 6.1 & 0.071 & 17.0 & $\\dots$ \\\\\n",
       "\t8 & 6.7 & 0.58 & 0.08 & 1.8 & 0.097 & 15.0 & $\\dots$ \\\\\n",
       "\t9 & 7.5 & 0.5 & 0.36 & 6.1 & 0.071 & 17.0 & $\\dots$ \\\\\n",
       "\t10 & 5.6 & 0.615 & 0.0 & 1.6 & 0.089 & 16.0 & $\\dots$ \\\\\n",
       "\t11 & 7.8 & 0.61 & 0.29 & 1.6 & 0.114 & 9.0 & $\\dots$ \\\\\n",
       "\t12 & 8.9 & 0.62 & 0.18 & 3.8 & 0.176 & 52.0 & $\\dots$ \\\\\n",
       "\t13 & 8.9 & 0.62 & 0.19 & 3.9 & 0.17 & 51.0 & $\\dots$ \\\\\n",
       "\t14 & 8.1 & 0.56 & 0.28 & 1.7 & 0.368 & 16.0 & $\\dots$ \\\\\n",
       "\t15 & 7.6 & 0.39 & 0.31 & 2.3 & 0.082 & 23.0 & $\\dots$ \\\\\n",
       "\t16 & 7.9 & 0.43 & 0.21 & 1.6 & 0.106 & 10.0 & $\\dots$ \\\\\n",
       "\t17 & 8.5 & 0.49 & 0.11 & 2.3 & 0.084 & 9.0 & $\\dots$ \\\\\n",
       "\t18 & 6.3 & 0.39 & 0.16 & 1.4 & 0.08 & 11.0 & $\\dots$ \\\\\n",
       "\t19 & 7.6 & 0.41 & 0.24 & 1.8 & 0.08 & 4.0 & $\\dots$ \\\\\n",
       "\t20 & 7.9 & 0.43 & 0.21 & 1.6 & 0.106 & 10.0 & $\\dots$ \\\\\n",
       "\t21 & 7.1 & 0.71 & 0.0 & 1.9 & 0.08 & 14.0 & $\\dots$ \\\\\n",
       "\t22 & 6.7 & 0.675 & 0.07 & 2.4 & 0.089 & 17.0 & $\\dots$ \\\\\n",
       "\t23 & 8.3 & 0.655 & 0.12 & 2.3 & 0.083 & 15.0 & $\\dots$ \\\\\n",
       "\t24 & 5.2 & 0.32 & 0.25 & 1.8 & 0.103 & 13.0 & $\\dots$ \\\\\n",
       "\t25 & 7.3 & 0.45 & 0.36 & 5.9 & 0.074 & 12.0 & $\\dots$ \\\\\n",
       "\t26 & 7.3 & 0.45 & 0.36 & 5.9 & 0.074 & 12.0 & $\\dots$ \\\\\n",
       "\t27 & 8.1 & 0.66 & 0.22 & 2.2 & 0.069 & 9.0 & $\\dots$ \\\\\n",
       "\t28 & 6.8 & 0.67 & 0.02 & 1.8 & 0.05 & 5.0 & $\\dots$ \\\\\n",
       "\t29 & 7.7 & 0.935 & 0.43 & 2.2 & 0.114 & 22.0 & $\\dots$ \\\\\n",
       "\t30 & 8.7 & 0.29 & 0.52 & 1.6 & 0.113 & 12.0 & $\\dots$ \\\\\n",
       "\t$\\dots$ & $\\dots$ & $\\dots$ & $\\dots$ & $\\dots$ & $\\dots$ & $\\dots$ &  \\\\\n",
       "\\end{tabular}\n",
       "\n",
       "$\\dots$\n",
       "\n",
       "Last Group (10 rows): quality = 3\n",
       "\n",
       "\\begin{tabular}{r|ccccccc}\n",
       "\t& fixed acidity & volatile acidity & citric acid & residual sugar & chlorides & free sulfur dioxide & \\\\\n",
       "\t\\hline\n",
       "\t& Float64 & Float64 & Float64 & Float64 & Float64 & Float64 & \\\\\n",
       "\t\\hline\n",
       "\t1 & 11.6 & 0.58 & 0.66 & 2.2 & 0.074 & 10.0 & $\\dots$ \\\\\n",
       "\t2 & 10.4 & 0.61 & 0.49 & 2.1 & 0.2 & 5.0 & $\\dots$ \\\\\n",
       "\t3 & 7.4 & 1.185 & 0.0 & 4.25 & 0.097 & 5.0 & $\\dots$ \\\\\n",
       "\t4 & 10.4 & 0.44 & 0.42 & 1.5 & 0.145 & 34.0 & $\\dots$ \\\\\n",
       "\t5 & 8.3 & 1.02 & 0.02 & 3.4 & 0.084 & 6.0 & $\\dots$ \\\\\n",
       "\t6 & 7.6 & 1.58 & 0.0 & 2.1 & 0.137 & 5.0 & $\\dots$ \\\\\n",
       "\t7 & 6.8 & 0.815 & 0.0 & 1.2 & 0.267 & 16.0 & $\\dots$ \\\\\n",
       "\t8 & 7.3 & 0.98 & 0.05 & 2.1 & 0.061 & 20.0 & $\\dots$ \\\\\n",
       "\t9 & 7.1 & 0.875 & 0.05 & 5.7 & 0.082 & 3.0 & $\\dots$ \\\\\n",
       "\t10 & 6.7 & 0.76 & 0.02 & 1.8 & 0.078 & 6.0 & $\\dots$ \\\\\n",
       "\\end{tabular}\n"
      ],
      "text/plain": [
       "GroupedDataFrame with 6 groups based on key: quality\n",
       "First Group (681 rows): quality = 5\n",
       "\u001b[1m Row \u001b[0m│\u001b[1m fixed acidity \u001b[0m\u001b[1m volatile acidity \u001b[0m\u001b[1m citric acid \u001b[0m\u001b[1m residual sugar \u001b[0m\u001b[1m chlorides\u001b[0m ⋯\n",
       "\u001b[1m     \u001b[0m│\u001b[90m Float64       \u001b[0m\u001b[90m Float64          \u001b[0m\u001b[90m Float64     \u001b[0m\u001b[90m Float64        \u001b[0m\u001b[90m Float64  \u001b[0m ⋯\n",
       "─────┼──────────────────────────────────────────────────────────────────────────\n",
       "   1 │           7.4             0.7           0.0              1.9      0.076 ⋯\n",
       "   2 │           7.8             0.88          0.0              2.6      0.098\n",
       "   3 │           7.8             0.76          0.04             2.3      0.092\n",
       "   4 │           7.4             0.7           0.0              1.9      0.076\n",
       "   5 │           7.4             0.66          0.0              1.8      0.075 ⋯\n",
       "   6 │           7.9             0.6           0.06             1.6      0.069\n",
       "   7 │           7.5             0.5           0.36             6.1      0.071\n",
       "   8 │           6.7             0.58          0.08             1.8      0.097\n",
       "   9 │           7.5             0.5           0.36             6.1      0.071 ⋯\n",
       "  10 │           5.6             0.615         0.0              1.6      0.089\n",
       "  11 │           7.8             0.61          0.29             1.6      0.114\n",
       "  ⋮  │       ⋮               ⋮               ⋮             ⋮             ⋮     ⋱\n",
       " 671 │           7.2             0.695         0.13             2.0      0.076\n",
       " 672 │           7.2             0.695         0.13             2.0      0.076 ⋯\n",
       " 673 │           7.0             0.56          0.13             1.6      0.077\n",
       " 674 │           7.3             0.69          0.32             2.2      0.069\n",
       " 675 │           6.2             0.56          0.09             1.7      0.053\n",
       " 676 │           6.2             0.56          0.09             1.7      0.053 ⋯\n",
       " 677 │           6.1             0.715         0.1              2.6      0.053\n",
       " 678 │           6.2             0.46          0.29             2.1      0.074\n",
       " 679 │           6.6             0.725         0.2              7.8      0.073\n",
       " 680 │           6.2             0.6           0.08             2.0      0.09  ⋯\n",
       " 681 │           5.9             0.645         0.12             2.0      0.075\n",
       "\u001b[36m                                                  7 columns and 659 rows omitted\u001b[0m\n",
       "⋮\n",
       "Last Group (10 rows): quality = 3\n",
       "\u001b[1m Row \u001b[0m│\u001b[1m fixed acidity \u001b[0m\u001b[1m volatile acidity \u001b[0m\u001b[1m citric acid \u001b[0m\u001b[1m residual sugar \u001b[0m\u001b[1m chlorides\u001b[0m ⋯\n",
       "\u001b[1m     \u001b[0m│\u001b[90m Float64       \u001b[0m\u001b[90m Float64          \u001b[0m\u001b[90m Float64     \u001b[0m\u001b[90m Float64        \u001b[0m\u001b[90m Float64  \u001b[0m ⋯\n",
       "─────┼──────────────────────────────────────────────────────────────────────────\n",
       "   1 │          11.6             0.58          0.66            2.2       0.074 ⋯\n",
       "   2 │          10.4             0.61          0.49            2.1       0.2\n",
       "   3 │           7.4             1.185         0.0             4.25      0.097\n",
       "   4 │          10.4             0.44          0.42            1.5       0.145\n",
       "   5 │           8.3             1.02          0.02            3.4       0.084 ⋯\n",
       "   6 │           7.6             1.58          0.0             2.1       0.137\n",
       "   7 │           6.8             0.815         0.0             1.2       0.267\n",
       "   8 │           7.3             0.98          0.05            2.1       0.061\n",
       "   9 │           7.1             0.875         0.05            5.7       0.082 ⋯\n",
       "  10 │           6.7             0.76          0.02            1.8       0.078\n",
       "\u001b[36m                                                               7 columns omitted\u001b[0m"
      ]
     },
     "execution_count": 28,
     "metadata": {},
     "output_type": "execute_result"
    }
   ],
   "source": [
    "# Dzielenie DataFrame na podgrupy i działania na nich\n",
    "\n",
    "# Split -Apply - Combine\n",
    "\n",
    "#https://dataframes.juliadata.org/stable/man/split_apply_combine/\n",
    "\n",
    "# rozdzielanie na podgrupy po jakości wina (quality)\n",
    "# Split\n",
    "\n",
    "wine_grouped=groupby(mydata, :quality)"
   ]
  },
  {
   "cell_type": "code",
   "execution_count": 29,
   "metadata": {},
   "outputs": [
    {
     "data": {
      "text/html": [
       "<table class=\"data-frame\"><thead><tr><th></th><th>quality</th><th>nrow</th></tr><tr><th></th><th>Int64</th><th>Int64</th></tr></thead><tbody><p>6 rows × 2 columns</p><tr><th>1</th><td>5</td><td>681</td></tr><tr><th>2</th><td>6</td><td>638</td></tr><tr><th>3</th><td>7</td><td>199</td></tr><tr><th>4</th><td>4</td><td>53</td></tr><tr><th>5</th><td>8</td><td>18</td></tr><tr><th>6</th><td>3</td><td>10</td></tr></tbody></table>"
      ],
      "text/latex": [
       "\\begin{tabular}{r|cc}\n",
       "\t& quality & nrow\\\\\n",
       "\t\\hline\n",
       "\t& Int64 & Int64\\\\\n",
       "\t\\hline\n",
       "\t1 & 5 & 681 \\\\\n",
       "\t2 & 6 & 638 \\\\\n",
       "\t3 & 7 & 199 \\\\\n",
       "\t4 & 4 & 53 \\\\\n",
       "\t5 & 8 & 18 \\\\\n",
       "\t6 & 3 & 10 \\\\\n",
       "\\end{tabular}\n"
      ],
      "text/plain": [
       "\u001b[1m6×2 DataFrame\u001b[0m\n",
       "\u001b[1m Row \u001b[0m│\u001b[1m quality \u001b[0m\u001b[1m nrow  \u001b[0m\n",
       "\u001b[1m     \u001b[0m│\u001b[90m Int64   \u001b[0m\u001b[90m Int64 \u001b[0m\n",
       "─────┼────────────────\n",
       "   1 │       5    681\n",
       "   2 │       6    638\n",
       "   3 │       7    199\n",
       "   4 │       4     53\n",
       "   5 │       8     18\n",
       "   6 │       3     10"
      ]
     },
     "execution_count": 29,
     "metadata": {},
     "output_type": "execute_result"
    }
   ],
   "source": [
    "\n",
    "# podsumowanie ile jest win w każdej grupie \n",
    "combine(wine_grouped, nrow)"
   ]
  },
  {
   "cell_type": "code",
   "execution_count": 30,
   "metadata": {},
   "outputs": [
    {
     "data": {
      "text/html": [
       "<table class=\"data-frame\"><thead><tr><th></th><th>quality</th><th>fixed acidity_mean</th></tr><tr><th></th><th>Int64</th><th>Float64</th></tr></thead><tbody><p>6 rows × 2 columns</p><tr><th>1</th><td>5</td><td>8.16725</td></tr><tr><th>2</th><td>6</td><td>8.34718</td></tr><tr><th>3</th><td>7</td><td>8.87236</td></tr><tr><th>4</th><td>4</td><td>7.77925</td></tr><tr><th>5</th><td>8</td><td>8.56667</td></tr><tr><th>6</th><td>3</td><td>8.36</td></tr></tbody></table>"
      ],
      "text/latex": [
       "\\begin{tabular}{r|cc}\n",
       "\t& quality & fixed acidity\\_mean\\\\\n",
       "\t\\hline\n",
       "\t& Int64 & Float64\\\\\n",
       "\t\\hline\n",
       "\t1 & 5 & 8.16725 \\\\\n",
       "\t2 & 6 & 8.34718 \\\\\n",
       "\t3 & 7 & 8.87236 \\\\\n",
       "\t4 & 4 & 7.77925 \\\\\n",
       "\t5 & 8 & 8.56667 \\\\\n",
       "\t6 & 3 & 8.36 \\\\\n",
       "\\end{tabular}\n"
      ],
      "text/plain": [
       "\u001b[1m6×2 DataFrame\u001b[0m\n",
       "\u001b[1m Row \u001b[0m│\u001b[1m quality \u001b[0m\u001b[1m fixed acidity_mean \u001b[0m\n",
       "\u001b[1m     \u001b[0m│\u001b[90m Int64   \u001b[0m\u001b[90m Float64            \u001b[0m\n",
       "─────┼─────────────────────────────\n",
       "   1 │       5             8.16725\n",
       "   2 │       6             8.34718\n",
       "   3 │       7             8.87236\n",
       "   4 │       4             7.77925\n",
       "   5 │       8             8.56667\n",
       "   6 │       3             8.36"
      ]
     },
     "execution_count": 30,
     "metadata": {},
     "output_type": "execute_result"
    }
   ],
   "source": [
    "combine(wine_grouped, \"fixed acidity\" => mean)"
   ]
  },
  {
   "cell_type": "code",
   "execution_count": 31,
   "metadata": {},
   "outputs": [
    {
     "data": {
      "text/html": [
       "<table class=\"data-frame\"><thead><tr><th></th><th>quality</th><th>alcohol</th><th>liczba</th></tr><tr><th></th><th>Int64</th><th>Float64</th><th>Int64</th></tr></thead><tbody><p>190 rows × 3 columns</p><tr><th>1</th><td>3</td><td>8.4</td><td>1</td></tr><tr><th>2</th><td>3</td><td>9.0</td><td>1</td></tr><tr><th>3</th><td>3</td><td>9.7</td><td>1</td></tr><tr><th>4</th><td>3</td><td>9.8</td><td>1</td></tr><tr><th>5</th><td>3</td><td>9.9</td><td>1</td></tr><tr><th>6</th><td>3</td><td>9.95</td><td>1</td></tr><tr><th>7</th><td>3</td><td>10.2</td><td>1</td></tr><tr><th>8</th><td>3</td><td>10.7</td><td>1</td></tr><tr><th>9</th><td>3</td><td>10.9</td><td>1</td></tr><tr><th>10</th><td>3</td><td>11.0</td><td>1</td></tr><tr><th>11</th><td>4</td><td>9.0</td><td>2</td></tr><tr><th>12</th><td>4</td><td>9.05</td><td>1</td></tr><tr><th>13</th><td>4</td><td>9.1</td><td>2</td></tr><tr><th>14</th><td>4</td><td>9.2</td><td>3</td></tr><tr><th>15</th><td>4</td><td>9.3</td><td>2</td></tr><tr><th>16</th><td>4</td><td>9.4</td><td>2</td></tr><tr><th>17</th><td>4</td><td>9.6</td><td>6</td></tr><tr><th>18</th><td>4</td><td>9.7</td><td>2</td></tr><tr><th>19</th><td>4</td><td>9.8</td><td>3</td></tr><tr><th>20</th><td>4</td><td>9.9</td><td>1</td></tr><tr><th>21</th><td>4</td><td>10.0</td><td>4</td></tr><tr><th>22</th><td>4</td><td>10.1</td><td>1</td></tr><tr><th>23</th><td>4</td><td>10.3</td><td>1</td></tr><tr><th>24</th><td>4</td><td>10.4</td><td>3</td></tr><tr><th>25</th><td>4</td><td>10.5</td><td>1</td></tr><tr><th>26</th><td>4</td><td>10.9</td><td>3</td></tr><tr><th>27</th><td>4</td><td>11.0</td><td>4</td></tr><tr><th>28</th><td>4</td><td>11.1</td><td>1</td></tr><tr><th>29</th><td>4</td><td>11.2</td><td>3</td></tr><tr><th>30</th><td>4</td><td>11.3</td><td>1</td></tr><tr><th>&vellip;</th><td>&vellip;</td><td>&vellip;</td><td>&vellip;</td></tr></tbody></table>"
      ],
      "text/latex": [
       "\\begin{tabular}{r|ccc}\n",
       "\t& quality & alcohol & liczba\\\\\n",
       "\t\\hline\n",
       "\t& Int64 & Float64 & Int64\\\\\n",
       "\t\\hline\n",
       "\t1 & 3 & 8.4 & 1 \\\\\n",
       "\t2 & 3 & 9.0 & 1 \\\\\n",
       "\t3 & 3 & 9.7 & 1 \\\\\n",
       "\t4 & 3 & 9.8 & 1 \\\\\n",
       "\t5 & 3 & 9.9 & 1 \\\\\n",
       "\t6 & 3 & 9.95 & 1 \\\\\n",
       "\t7 & 3 & 10.2 & 1 \\\\\n",
       "\t8 & 3 & 10.7 & 1 \\\\\n",
       "\t9 & 3 & 10.9 & 1 \\\\\n",
       "\t10 & 3 & 11.0 & 1 \\\\\n",
       "\t11 & 4 & 9.0 & 2 \\\\\n",
       "\t12 & 4 & 9.05 & 1 \\\\\n",
       "\t13 & 4 & 9.1 & 2 \\\\\n",
       "\t14 & 4 & 9.2 & 3 \\\\\n",
       "\t15 & 4 & 9.3 & 2 \\\\\n",
       "\t16 & 4 & 9.4 & 2 \\\\\n",
       "\t17 & 4 & 9.6 & 6 \\\\\n",
       "\t18 & 4 & 9.7 & 2 \\\\\n",
       "\t19 & 4 & 9.8 & 3 \\\\\n",
       "\t20 & 4 & 9.9 & 1 \\\\\n",
       "\t21 & 4 & 10.0 & 4 \\\\\n",
       "\t22 & 4 & 10.1 & 1 \\\\\n",
       "\t23 & 4 & 10.3 & 1 \\\\\n",
       "\t24 & 4 & 10.4 & 3 \\\\\n",
       "\t25 & 4 & 10.5 & 1 \\\\\n",
       "\t26 & 4 & 10.9 & 3 \\\\\n",
       "\t27 & 4 & 11.0 & 4 \\\\\n",
       "\t28 & 4 & 11.1 & 1 \\\\\n",
       "\t29 & 4 & 11.2 & 3 \\\\\n",
       "\t30 & 4 & 11.3 & 1 \\\\\n",
       "\t$\\dots$ & $\\dots$ & $\\dots$ & $\\dots$ \\\\\n",
       "\\end{tabular}\n"
      ],
      "text/plain": [
       "\u001b[1m190×3 DataFrame\u001b[0m\n",
       "\u001b[1m Row \u001b[0m│\u001b[1m quality \u001b[0m\u001b[1m alcohol \u001b[0m\u001b[1m liczba \u001b[0m\n",
       "\u001b[1m     \u001b[0m│\u001b[90m Int64   \u001b[0m\u001b[90m Float64 \u001b[0m\u001b[90m Int64  \u001b[0m\n",
       "─────┼──────────────────────────\n",
       "   1 │       3     8.4        1\n",
       "   2 │       3     9.0        1\n",
       "   3 │       3     9.7        1\n",
       "   4 │       3     9.8        1\n",
       "   5 │       3     9.9        1\n",
       "   6 │       3     9.95       1\n",
       "   7 │       3    10.2        1\n",
       "   8 │       3    10.7        1\n",
       "   9 │       3    10.9        1\n",
       "  10 │       3    11.0        1\n",
       "  11 │       4     9.0        2\n",
       "  ⋮  │    ⋮        ⋮       ⋮\n",
       " 181 │       8    11.7        2\n",
       " 182 │       8    11.8        1\n",
       " 183 │       8    12.5        1\n",
       " 184 │       8    12.6        1\n",
       " 185 │       8    12.7        1\n",
       " 186 │       8    12.8        1\n",
       " 187 │       8    12.9        1\n",
       " 188 │       8    13.1        1\n",
       " 189 │       8    13.4        1\n",
       " 190 │       8    14.0        2\n",
       "\u001b[36m                169 rows omitted\u001b[0m"
      ]
     },
     "execution_count": 31,
     "metadata": {},
     "output_type": "execute_result"
    }
   ],
   "source": [
    "# zliczenie liczby win o danej jakości i zawartości alkoholu, posortowane\n",
    "wine_grouped2=sort(combine(groupby(mydata, [:quality,:alcohol]),nrow=> :liczba), [:quality,:alcohol])"
   ]
  },
  {
   "cell_type": "code",
   "execution_count": 32,
   "metadata": {},
   "outputs": [
    {
     "data": {
      "text/plain": [
       "\"dataframe1.csv\""
      ]
     },
     "execution_count": 32,
     "metadata": {},
     "output_type": "execute_result"
    }
   ],
   "source": [
    "# zapis do pliku\n",
    "CSV.write(\"dataframe1.csv\", wine_grouped2)"
   ]
  },
  {
   "cell_type": "markdown",
   "metadata": {},
   "source": [
    "\n",
    "### Graficzna reprezentacja DataFrames\n",
    "\n",
    "\n"
   ]
  },
  {
   "cell_type": "code",
   "execution_count": 33,
   "metadata": {},
   "outputs": [
    {
     "data": {
      "text/html": [
       "<table class=\"data-frame\"><thead><tr><th></th><th>a</th><th>b</th><th>c</th><th>d</th><th>e</th></tr><tr><th></th><th>Int64</th><th>Int64</th><th>Float64</th><th>Float64</th><th>Int64</th></tr></thead><tbody><p>10 rows × 5 columns</p><tr><th>1</th><td>1</td><td>2</td><td>0.0</td><td>0.509008</td><td>1</td></tr><tr><th>2</th><td>2</td><td>4</td><td>0.693147</td><td>0.460232</td><td>0</td></tr><tr><th>3</th><td>3</td><td>6</td><td>1.09861</td><td>0.551132</td><td>1</td></tr><tr><th>4</th><td>4</td><td>8</td><td>1.38629</td><td>0.430374</td><td>0</td></tr><tr><th>5</th><td>5</td><td>10</td><td>1.60944</td><td>0.291918</td><td>1</td></tr><tr><th>6</th><td>6</td><td>12</td><td>1.79176</td><td>0.0883121</td><td>0</td></tr><tr><th>7</th><td>7</td><td>14</td><td>1.94591</td><td>0.233992</td><td>1</td></tr><tr><th>8</th><td>8</td><td>16</td><td>2.07944</td><td>0.284034</td><td>0</td></tr><tr><th>9</th><td>9</td><td>18</td><td>2.19722</td><td>0.0707448</td><td>1</td></tr><tr><th>10</th><td>10</td><td>20</td><td>2.30259</td><td>0.976585</td><td>0</td></tr></tbody></table>"
      ],
      "text/latex": [
       "\\begin{tabular}{r|ccccc}\n",
       "\t& a & b & c & d & e\\\\\n",
       "\t\\hline\n",
       "\t& Int64 & Int64 & Float64 & Float64 & Int64\\\\\n",
       "\t\\hline\n",
       "\t1 & 1 & 2 & 0.0 & 0.509008 & 1 \\\\\n",
       "\t2 & 2 & 4 & 0.693147 & 0.460232 & 0 \\\\\n",
       "\t3 & 3 & 6 & 1.09861 & 0.551132 & 1 \\\\\n",
       "\t4 & 4 & 8 & 1.38629 & 0.430374 & 0 \\\\\n",
       "\t5 & 5 & 10 & 1.60944 & 0.291918 & 1 \\\\\n",
       "\t6 & 6 & 12 & 1.79176 & 0.0883121 & 0 \\\\\n",
       "\t7 & 7 & 14 & 1.94591 & 0.233992 & 1 \\\\\n",
       "\t8 & 8 & 16 & 2.07944 & 0.284034 & 0 \\\\\n",
       "\t9 & 9 & 18 & 2.19722 & 0.0707448 & 1 \\\\\n",
       "\t10 & 10 & 20 & 2.30259 & 0.976585 & 0 \\\\\n",
       "\\end{tabular}\n"
      ],
      "text/plain": [
       "\u001b[1m10×5 DataFrame\u001b[0m\n",
       "\u001b[1m Row \u001b[0m│\u001b[1m a     \u001b[0m\u001b[1m b     \u001b[0m\u001b[1m c        \u001b[0m\u001b[1m d         \u001b[0m\u001b[1m e     \u001b[0m\n",
       "\u001b[1m     \u001b[0m│\u001b[90m Int64 \u001b[0m\u001b[90m Int64 \u001b[0m\u001b[90m Float64  \u001b[0m\u001b[90m Float64   \u001b[0m\u001b[90m Int64 \u001b[0m\n",
       "─────┼──────────────────────────────────────────\n",
       "   1 │     1      2  0.0       0.509008       1\n",
       "   2 │     2      4  0.693147  0.460232       0\n",
       "   3 │     3      6  1.09861   0.551132       1\n",
       "   4 │     4      8  1.38629   0.430374       0\n",
       "   5 │     5     10  1.60944   0.291918       1\n",
       "   6 │     6     12  1.79176   0.0883121      0\n",
       "   7 │     7     14  1.94591   0.233992       1\n",
       "   8 │     8     16  2.07944   0.284034       0\n",
       "   9 │     9     18  2.19722   0.0707448      1\n",
       "  10 │    10     20  2.30259   0.976585       0"
      ]
     },
     "execution_count": 33,
     "metadata": {},
     "output_type": "execute_result"
    }
   ],
   "source": [
    "using DataFrames\n",
    "df = DataFrame(a = 1:10, b = map(x->2x,(1:10)), c = map(x->log(x),(1:10)), d=rand(10), e=map(x->x%2,(1:10)))"
   ]
  },
  {
   "cell_type": "code",
   "execution_count": 34,
   "metadata": {},
   "outputs": [
    {
     "data": {
      "image/svg+xml": [
       "<?xml version=\"1.0\" encoding=\"utf-8\"?>\n",
       "<svg xmlns=\"http://www.w3.org/2000/svg\" xmlns:xlink=\"http://www.w3.org/1999/xlink\" width=\"600\" height=\"400\" viewBox=\"0 0 2400 1600\">\n",
       "<defs>\n",
       "  <clipPath id=\"clip190\">\n",
       "    <rect x=\"0\" y=\"0\" width=\"2400\" height=\"1600\"/>\n",
       "  </clipPath>\n",
       "</defs>\n",
       "<path clip-path=\"url(#clip190)\" d=\"\n",
       "M0 1600 L2400 1600 L2400 0 L0 0  Z\n",
       "  \" fill=\"#ffffff\" fill-rule=\"evenodd\" fill-opacity=\"1\"/>\n",
       "<defs>\n",
       "  <clipPath id=\"clip191\">\n",
       "    <rect x=\"480\" y=\"0\" width=\"1681\" height=\"1600\"/>\n",
       "  </clipPath>\n",
       "</defs>\n",
       "<path clip-path=\"url(#clip190)\" d=\"\n",
       "M140.696 1486.45 L2352.76 1486.45 L2352.76 47.2441 L140.696 47.2441  Z\n",
       "  \" fill=\"#ffffff\" fill-rule=\"evenodd\" fill-opacity=\"1\"/>\n",
       "<defs>\n",
       "  <clipPath id=\"clip192\">\n",
       "    <rect x=\"140\" y=\"47\" width=\"2213\" height=\"1440\"/>\n",
       "  </clipPath>\n",
       "</defs>\n",
       "<polyline clip-path=\"url(#clip192)\" style=\"stroke:#000000; stroke-width:2; stroke-opacity:0.1; fill:none\" points=\"\n",
       "  435.173,1486.45 435.173,47.2441 \n",
       "  \"/>\n",
       "<polyline clip-path=\"url(#clip192)\" style=\"stroke:#000000; stroke-width:2; stroke-opacity:0.1; fill:none\" points=\"\n",
       "  898.917,1486.45 898.917,47.2441 \n",
       "  \"/>\n",
       "<polyline clip-path=\"url(#clip192)\" style=\"stroke:#000000; stroke-width:2; stroke-opacity:0.1; fill:none\" points=\"\n",
       "  1362.66,1486.45 1362.66,47.2441 \n",
       "  \"/>\n",
       "<polyline clip-path=\"url(#clip192)\" style=\"stroke:#000000; stroke-width:2; stroke-opacity:0.1; fill:none\" points=\"\n",
       "  1826.41,1486.45 1826.41,47.2441 \n",
       "  \"/>\n",
       "<polyline clip-path=\"url(#clip192)\" style=\"stroke:#000000; stroke-width:2; stroke-opacity:0.1; fill:none\" points=\"\n",
       "  2290.15,1486.45 2290.15,47.2441 \n",
       "  \"/>\n",
       "<polyline clip-path=\"url(#clip190)\" style=\"stroke:#000000; stroke-width:4; stroke-opacity:1; fill:none\" points=\"\n",
       "  140.696,1486.45 2352.76,1486.45 \n",
       "  \"/>\n",
       "<polyline clip-path=\"url(#clip190)\" style=\"stroke:#000000; stroke-width:4; stroke-opacity:1; fill:none\" points=\"\n",
       "  435.173,1486.45 435.173,1469.18 \n",
       "  \"/>\n",
       "<polyline clip-path=\"url(#clip190)\" style=\"stroke:#000000; stroke-width:4; stroke-opacity:1; fill:none\" points=\"\n",
       "  898.917,1486.45 898.917,1469.18 \n",
       "  \"/>\n",
       "<polyline clip-path=\"url(#clip190)\" style=\"stroke:#000000; stroke-width:4; stroke-opacity:1; fill:none\" points=\"\n",
       "  1362.66,1486.45 1362.66,1469.18 \n",
       "  \"/>\n",
       "<polyline clip-path=\"url(#clip190)\" style=\"stroke:#000000; stroke-width:4; stroke-opacity:1; fill:none\" points=\"\n",
       "  1826.41,1486.45 1826.41,1469.18 \n",
       "  \"/>\n",
       "<polyline clip-path=\"url(#clip190)\" style=\"stroke:#000000; stroke-width:4; stroke-opacity:1; fill:none\" points=\"\n",
       "  2290.15,1486.45 2290.15,1469.18 \n",
       "  \"/>\n",
       "<path clip-path=\"url(#clip190)\" d=\"M 0 0 M429.826 1543.18 L446.145 1543.18 L446.145 1547.12 L424.201 1547.12 L424.201 1543.18 Q426.863 1540.43 431.446 1535.8 Q436.053 1531.15 437.233 1529.81 Q439.479 1527.28 440.358 1525.55 Q441.261 1523.79 441.261 1522.1 Q441.261 1519.34 439.317 1517.61 Q437.395 1515.87 434.294 1515.87 Q432.094 1515.87 429.641 1516.63 Q427.21 1517.4 424.432 1518.95 L424.432 1514.23 Q427.257 1513.09 429.71 1512.51 Q432.164 1511.93 434.201 1511.93 Q439.571 1511.93 442.766 1514.62 Q445.96 1517.31 445.96 1521.8 Q445.96 1523.93 445.15 1525.85 Q444.363 1527.74 442.256 1530.34 Q441.678 1531.01 438.576 1534.23 Q435.474 1537.42 429.826 1543.18 Z\" fill=\"#000000\" fill-rule=\"evenodd\" fill-opacity=\"1\" /><path clip-path=\"url(#clip190)\" d=\"M 0 0 M901.927 1516.63 L890.121 1535.08 L901.927 1535.08 L901.927 1516.63 M900.7 1512.56 L906.579 1512.56 L906.579 1535.08 L911.51 1535.08 L911.51 1538.97 L906.579 1538.97 L906.579 1547.12 L901.927 1547.12 L901.927 1538.97 L886.325 1538.97 L886.325 1534.46 L900.7 1512.56 Z\" fill=\"#000000\" fill-rule=\"evenodd\" fill-opacity=\"1\" /><path clip-path=\"url(#clip190)\" d=\"M 0 0 M1363.07 1527.98 Q1359.92 1527.98 1358.07 1530.13 Q1356.24 1532.28 1356.24 1536.03 Q1356.24 1539.76 1358.07 1541.93 Q1359.92 1544.09 1363.07 1544.09 Q1366.22 1544.09 1368.04 1541.93 Q1369.9 1539.76 1369.9 1536.03 Q1369.9 1532.28 1368.04 1530.13 Q1366.22 1527.98 1363.07 1527.98 M1372.35 1513.32 L1372.35 1517.58 Q1370.59 1516.75 1368.78 1516.31 Q1367 1515.87 1365.24 1515.87 Q1360.61 1515.87 1358.16 1519 Q1355.73 1522.12 1355.38 1528.44 Q1356.75 1526.43 1358.81 1525.36 Q1360.87 1524.27 1363.34 1524.27 Q1368.55 1524.27 1371.56 1527.44 Q1374.59 1530.59 1374.59 1536.03 Q1374.59 1541.36 1371.45 1544.57 Q1368.3 1547.79 1363.07 1547.79 Q1357.07 1547.79 1353.9 1543.21 Q1350.73 1538.6 1350.73 1529.87 Q1350.73 1521.68 1354.62 1516.82 Q1358.51 1511.93 1365.06 1511.93 Q1366.82 1511.93 1368.6 1512.28 Q1370.4 1512.63 1372.35 1513.32 Z\" fill=\"#000000\" fill-rule=\"evenodd\" fill-opacity=\"1\" /><path clip-path=\"url(#clip190)\" d=\"M 0 0 M1826.41 1530.71 Q1823.07 1530.71 1821.15 1532.49 Q1819.25 1534.27 1819.25 1537.4 Q1819.25 1540.52 1821.15 1542.31 Q1823.07 1544.09 1826.41 1544.09 Q1829.74 1544.09 1831.66 1542.31 Q1833.58 1540.5 1833.58 1537.4 Q1833.58 1534.27 1831.66 1532.49 Q1829.76 1530.71 1826.41 1530.71 M1821.73 1528.72 Q1818.72 1527.98 1817.03 1525.92 Q1815.36 1523.86 1815.36 1520.89 Q1815.36 1516.75 1818.3 1514.34 Q1821.27 1511.93 1826.41 1511.93 Q1831.57 1511.93 1834.51 1514.34 Q1837.45 1516.75 1837.45 1520.89 Q1837.45 1523.86 1835.76 1525.92 Q1834.09 1527.98 1831.11 1528.72 Q1834.48 1529.5 1836.36 1531.8 Q1838.26 1534.09 1838.26 1537.4 Q1838.26 1542.42 1835.18 1545.11 Q1832.12 1547.79 1826.41 1547.79 Q1820.69 1547.79 1817.61 1545.11 Q1814.55 1542.42 1814.55 1537.4 Q1814.55 1534.09 1816.45 1531.8 Q1818.35 1529.5 1821.73 1528.72 M1820.02 1521.33 Q1820.02 1524.02 1821.68 1525.52 Q1823.37 1527.03 1826.41 1527.03 Q1829.42 1527.03 1831.11 1525.52 Q1832.82 1524.02 1832.82 1521.33 Q1832.82 1518.65 1831.11 1517.14 Q1829.42 1515.64 1826.41 1515.64 Q1823.37 1515.64 1821.68 1517.14 Q1820.02 1518.65 1820.02 1521.33 Z\" fill=\"#000000\" fill-rule=\"evenodd\" fill-opacity=\"1\" /><path clip-path=\"url(#clip190)\" d=\"M 0 0 M2264.84 1543.18 L2272.48 1543.18 L2272.48 1516.82 L2264.17 1518.49 L2264.17 1514.23 L2272.43 1512.56 L2277.11 1512.56 L2277.11 1543.18 L2284.75 1543.18 L2284.75 1547.12 L2264.84 1547.12 L2264.84 1543.18 Z\" fill=\"#000000\" fill-rule=\"evenodd\" fill-opacity=\"1\" /><path clip-path=\"url(#clip190)\" d=\"M 0 0 M2304.19 1515.64 Q2300.58 1515.64 2298.75 1519.2 Q2296.94 1522.75 2296.94 1529.87 Q2296.94 1536.98 2298.75 1540.55 Q2300.58 1544.09 2304.19 1544.09 Q2307.82 1544.09 2309.63 1540.55 Q2311.46 1536.98 2311.46 1529.87 Q2311.46 1522.75 2309.63 1519.2 Q2307.82 1515.64 2304.19 1515.64 M2304.19 1511.93 Q2310 1511.93 2313.06 1516.54 Q2316.13 1521.12 2316.13 1529.87 Q2316.13 1538.6 2313.06 1543.21 Q2310 1547.79 2304.19 1547.79 Q2298.38 1547.79 2295.3 1543.21 Q2292.25 1538.6 2292.25 1529.87 Q2292.25 1521.12 2295.3 1516.54 Q2298.38 1511.93 2304.19 1511.93 Z\" fill=\"#000000\" fill-rule=\"evenodd\" fill-opacity=\"1\" /><polyline clip-path=\"url(#clip192)\" style=\"stroke:#000000; stroke-width:2; stroke-opacity:0.1; fill:none\" points=\"\n",
       "  140.696,1413.55 2352.76,1413.55 \n",
       "  \"/>\n",
       "<polyline clip-path=\"url(#clip192)\" style=\"stroke:#000000; stroke-width:2; stroke-opacity:0.1; fill:none\" points=\"\n",
       "  140.696,1097.58 2352.76,1097.58 \n",
       "  \"/>\n",
       "<polyline clip-path=\"url(#clip192)\" style=\"stroke:#000000; stroke-width:2; stroke-opacity:0.1; fill:none\" points=\"\n",
       "  140.696,781.62 2352.76,781.62 \n",
       "  \"/>\n",
       "<polyline clip-path=\"url(#clip192)\" style=\"stroke:#000000; stroke-width:2; stroke-opacity:0.1; fill:none\" points=\"\n",
       "  140.696,465.655 2352.76,465.655 \n",
       "  \"/>\n",
       "<polyline clip-path=\"url(#clip192)\" style=\"stroke:#000000; stroke-width:2; stroke-opacity:0.1; fill:none\" points=\"\n",
       "  140.696,149.69 2352.76,149.69 \n",
       "  \"/>\n",
       "<polyline clip-path=\"url(#clip190)\" style=\"stroke:#000000; stroke-width:4; stroke-opacity:1; fill:none\" points=\"\n",
       "  140.696,1486.45 140.696,47.2441 \n",
       "  \"/>\n",
       "<polyline clip-path=\"url(#clip190)\" style=\"stroke:#000000; stroke-width:4; stroke-opacity:1; fill:none\" points=\"\n",
       "  140.696,1413.55 167.24,1413.55 \n",
       "  \"/>\n",
       "<polyline clip-path=\"url(#clip190)\" style=\"stroke:#000000; stroke-width:4; stroke-opacity:1; fill:none\" points=\"\n",
       "  140.696,1097.58 167.24,1097.58 \n",
       "  \"/>\n",
       "<polyline clip-path=\"url(#clip190)\" style=\"stroke:#000000; stroke-width:4; stroke-opacity:1; fill:none\" points=\"\n",
       "  140.696,781.62 167.24,781.62 \n",
       "  \"/>\n",
       "<polyline clip-path=\"url(#clip190)\" style=\"stroke:#000000; stroke-width:4; stroke-opacity:1; fill:none\" points=\"\n",
       "  140.696,465.655 167.24,465.655 \n",
       "  \"/>\n",
       "<polyline clip-path=\"url(#clip190)\" style=\"stroke:#000000; stroke-width:4; stroke-opacity:1; fill:none\" points=\"\n",
       "  140.696,149.69 167.24,149.69 \n",
       "  \"/>\n",
       "<path clip-path=\"url(#clip190)\" d=\"M 0 0 M92.7512 1399.35 Q89.1401 1399.35 87.3114 1402.91 Q85.5058 1406.46 85.5058 1413.58 Q85.5058 1420.69 87.3114 1424.26 Q89.1401 1427.8 92.7512 1427.8 Q96.3854 1427.8 98.1909 1424.26 Q100.02 1420.69 100.02 1413.58 Q100.02 1406.46 98.1909 1402.91 Q96.3854 1399.35 92.7512 1399.35 M92.7512 1395.64 Q98.5613 1395.64 101.617 1400.25 Q104.696 1404.83 104.696 1413.58 Q104.696 1422.31 101.617 1426.92 Q98.5613 1431.5 92.7512 1431.5 Q86.941 1431.5 83.8623 1426.92 Q80.8068 1422.31 80.8068 1413.58 Q80.8068 1404.83 83.8623 1400.25 Q86.941 1395.64 92.7512 1395.64 Z\" fill=\"#000000\" fill-rule=\"evenodd\" fill-opacity=\"1\" /><path clip-path=\"url(#clip190)\" d=\"M 0 0 M83.7929 1080.3 L102.149 1080.3 L102.149 1084.24 L88.0753 1084.24 L88.0753 1092.71 Q89.0938 1092.36 90.1123 1092.2 Q91.1308 1092.02 92.1493 1092.02 Q97.9363 1092.02 101.316 1095.19 Q104.696 1098.36 104.696 1103.78 Q104.696 1109.36 101.223 1112.46 Q97.7511 1115.54 91.4317 1115.54 Q89.2558 1115.54 86.9873 1115.17 Q84.7419 1114.8 82.3346 1114.05 L82.3346 1109.36 Q84.4179 1110.49 86.6401 1111.05 Q88.8623 1111.6 91.3391 1111.6 Q95.3437 1111.6 97.6817 1109.49 Q100.02 1107.39 100.02 1103.78 Q100.02 1100.17 97.6817 1098.06 Q95.3437 1095.95 91.3391 1095.95 Q89.4641 1095.95 87.5892 1096.37 Q85.7373 1096.79 83.7929 1097.67 L83.7929 1080.3 Z\" fill=\"#000000\" fill-rule=\"evenodd\" fill-opacity=\"1\" /><path clip-path=\"url(#clip190)\" d=\"M 0 0 M53.3995 794.965 L61.0384 794.965 L61.0384 768.599 L52.7282 770.266 L52.7282 766.006 L60.9921 764.34 L65.668 764.34 L65.668 794.965 L73.3068 794.965 L73.3068 798.9 L53.3995 798.9 L53.3995 794.965 Z\" fill=\"#000000\" fill-rule=\"evenodd\" fill-opacity=\"1\" /><path clip-path=\"url(#clip190)\" d=\"M 0 0 M92.7512 767.418 Q89.1401 767.418 87.3114 770.983 Q85.5058 774.525 85.5058 781.654 Q85.5058 788.761 87.3114 792.326 Q89.1401 795.867 92.7512 795.867 Q96.3854 795.867 98.1909 792.326 Q100.02 788.761 100.02 781.654 Q100.02 774.525 98.1909 770.983 Q96.3854 767.418 92.7512 767.418 M92.7512 763.715 Q98.5613 763.715 101.617 768.321 Q104.696 772.905 104.696 781.654 Q104.696 790.381 101.617 794.988 Q98.5613 799.571 92.7512 799.571 Q86.941 799.571 83.8623 794.988 Q80.8068 790.381 80.8068 781.654 Q80.8068 772.905 83.8623 768.321 Q86.941 763.715 92.7512 763.715 Z\" fill=\"#000000\" fill-rule=\"evenodd\" fill-opacity=\"1\" /><path clip-path=\"url(#clip190)\" d=\"M 0 0 M54.3949 479 L62.0337 479 L62.0337 452.634 L53.7236 454.301 L53.7236 450.041 L61.9874 448.375 L66.6633 448.375 L66.6633 479 L74.3022 479 L74.3022 482.935 L54.3949 482.935 L54.3949 479 Z\" fill=\"#000000\" fill-rule=\"evenodd\" fill-opacity=\"1\" /><path clip-path=\"url(#clip190)\" d=\"M 0 0 M83.7929 448.375 L102.149 448.375 L102.149 452.31 L88.0753 452.31 L88.0753 460.782 Q89.0938 460.435 90.1123 460.273 Q91.1308 460.088 92.1493 460.088 Q97.9363 460.088 101.316 463.259 Q104.696 466.43 104.696 471.847 Q104.696 477.425 101.223 480.527 Q97.7511 483.606 91.4317 483.606 Q89.2558 483.606 86.9873 483.236 Q84.7419 482.865 82.3346 482.124 L82.3346 477.425 Q84.4179 478.56 86.6401 479.115 Q88.8623 479.671 91.3391 479.671 Q95.3437 479.671 97.6817 477.564 Q100.02 475.458 100.02 471.847 Q100.02 468.236 97.6817 466.129 Q95.3437 464.023 91.3391 464.023 Q89.4641 464.023 87.5892 464.439 Q85.7373 464.856 83.7929 465.736 L83.7929 448.375 Z\" fill=\"#000000\" fill-rule=\"evenodd\" fill-opacity=\"1\" /><path clip-path=\"url(#clip190)\" d=\"M 0 0 M56.6171 163.034 L72.9365 163.034 L72.9365 166.97 L50.9921 166.97 L50.9921 163.034 Q53.6541 160.28 58.2375 155.65 Q62.8439 150.997 64.0245 149.655 Q66.2698 147.132 67.1494 145.396 Q68.0522 143.636 68.0522 141.947 Q68.0522 139.192 66.1078 137.456 Q64.1865 135.72 61.0847 135.72 Q58.8856 135.72 56.4319 136.484 Q54.0014 137.248 51.2236 138.798 L51.2236 134.076 Q54.0477 132.942 56.5014 132.363 Q58.955 131.785 60.9921 131.785 Q66.3624 131.785 69.5568 134.47 Q72.7513 137.155 72.7513 141.646 Q72.7513 143.775 71.9411 145.697 Q71.1541 147.595 69.0476 150.187 Q68.4689 150.859 65.367 154.076 Q62.2652 157.271 56.6171 163.034 Z\" fill=\"#000000\" fill-rule=\"evenodd\" fill-opacity=\"1\" /><path clip-path=\"url(#clip190)\" d=\"M 0 0 M92.7512 135.488 Q89.1401 135.488 87.3114 139.053 Q85.5058 142.595 85.5058 149.724 Q85.5058 156.831 87.3114 160.396 Q89.1401 163.937 92.7512 163.937 Q96.3854 163.937 98.1909 160.396 Q100.02 156.831 100.02 149.724 Q100.02 142.595 98.1909 139.053 Q96.3854 135.488 92.7512 135.488 M92.7512 131.785 Q98.5613 131.785 101.617 136.391 Q104.696 140.974 104.696 149.724 Q104.696 158.451 101.617 163.058 Q98.5613 167.641 92.7512 167.641 Q86.941 167.641 83.8623 163.058 Q80.8068 158.451 80.8068 149.724 Q80.8068 140.974 83.8623 136.391 Q86.941 131.785 92.7512 131.785 Z\" fill=\"#000000\" fill-rule=\"evenodd\" fill-opacity=\"1\" /><polyline clip-path=\"url(#clip192)\" style=\"stroke:#000000; stroke-width:4; stroke-opacity:1; fill:none\" points=\"\n",
       "  203.301,1319.33 203.301,1255 \n",
       "  \"/>\n",
       "<polyline clip-path=\"url(#clip192)\" style=\"stroke:#000000; stroke-width:4; stroke-opacity:1; fill:none\" points=\"\n",
       "  435.173,1189.86 435.173,1131.69 \n",
       "  \"/>\n",
       "<polyline clip-path=\"url(#clip192)\" style=\"stroke:#000000; stroke-width:4; stroke-opacity:1; fill:none\" points=\"\n",
       "  667.045,1069.22 667.045,999.564 \n",
       "  \"/>\n",
       "<polyline clip-path=\"url(#clip192)\" style=\"stroke:#000000; stroke-width:4; stroke-opacity:1; fill:none\" points=\"\n",
       "  898.917,935.202 898.917,880.809 \n",
       "  \"/>\n",
       "<polyline clip-path=\"url(#clip192)\" style=\"stroke:#000000; stroke-width:4; stroke-opacity:1; fill:none\" points=\"\n",
       "  1130.79,800.067 1130.79,763.173 \n",
       "  \"/>\n",
       "<polyline clip-path=\"url(#clip192)\" style=\"stroke:#000000; stroke-width:4; stroke-opacity:1; fill:none\" points=\"\n",
       "  1362.66,660.814 1362.66,649.653 \n",
       "  \"/>\n",
       "<polyline clip-path=\"url(#clip192)\" style=\"stroke:#000000; stroke-width:4; stroke-opacity:1; fill:none\" points=\"\n",
       "  1594.53,543.634 1594.53,514.061 \n",
       "  \"/>\n",
       "<polyline clip-path=\"url(#clip192)\" style=\"stroke:#000000; stroke-width:4; stroke-opacity:1; fill:none\" points=\"\n",
       "  1826.41,420.411 1826.41,384.513 \n",
       "  \"/>\n",
       "<polyline clip-path=\"url(#clip192)\" style=\"stroke:#000000; stroke-width:4; stroke-opacity:1; fill:none\" points=\"\n",
       "  2058.28,280.546 2058.28,271.605 \n",
       "  \"/>\n",
       "<polyline clip-path=\"url(#clip192)\" style=\"stroke:#000000; stroke-width:4; stroke-opacity:1; fill:none\" points=\"\n",
       "  2290.15,211.403 2290.15,87.9763 \n",
       "  \"/>\n",
       "<line clip-path=\"url(#clip192)\" x1=\"219.301\" y1=\"1319.33\" x2=\"187.301\" y2=\"1319.33\" style=\"stroke:#000000; stroke-width:3.2; stroke-opacity:1\"/>\n",
       "<line clip-path=\"url(#clip192)\" x1=\"219.301\" y1=\"1255\" x2=\"187.301\" y2=\"1255\" style=\"stroke:#000000; stroke-width:3.2; stroke-opacity:1\"/>\n",
       "<line clip-path=\"url(#clip192)\" x1=\"451.173\" y1=\"1189.86\" x2=\"419.173\" y2=\"1189.86\" style=\"stroke:#000000; stroke-width:3.2; stroke-opacity:1\"/>\n",
       "<line clip-path=\"url(#clip192)\" x1=\"451.173\" y1=\"1131.69\" x2=\"419.173\" y2=\"1131.69\" style=\"stroke:#000000; stroke-width:3.2; stroke-opacity:1\"/>\n",
       "<line clip-path=\"url(#clip192)\" x1=\"683.045\" y1=\"1069.22\" x2=\"651.045\" y2=\"1069.22\" style=\"stroke:#000000; stroke-width:3.2; stroke-opacity:1\"/>\n",
       "<line clip-path=\"url(#clip192)\" x1=\"683.045\" y1=\"999.564\" x2=\"651.045\" y2=\"999.564\" style=\"stroke:#000000; stroke-width:3.2; stroke-opacity:1\"/>\n",
       "<line clip-path=\"url(#clip192)\" x1=\"914.917\" y1=\"935.202\" x2=\"882.917\" y2=\"935.202\" style=\"stroke:#000000; stroke-width:3.2; stroke-opacity:1\"/>\n",
       "<line clip-path=\"url(#clip192)\" x1=\"914.917\" y1=\"880.809\" x2=\"882.917\" y2=\"880.809\" style=\"stroke:#000000; stroke-width:3.2; stroke-opacity:1\"/>\n",
       "<line clip-path=\"url(#clip192)\" x1=\"1146.79\" y1=\"800.067\" x2=\"1114.79\" y2=\"800.067\" style=\"stroke:#000000; stroke-width:3.2; stroke-opacity:1\"/>\n",
       "<line clip-path=\"url(#clip192)\" x1=\"1146.79\" y1=\"763.173\" x2=\"1114.79\" y2=\"763.173\" style=\"stroke:#000000; stroke-width:3.2; stroke-opacity:1\"/>\n",
       "<line clip-path=\"url(#clip192)\" x1=\"1378.66\" y1=\"660.814\" x2=\"1346.66\" y2=\"660.814\" style=\"stroke:#000000; stroke-width:3.2; stroke-opacity:1\"/>\n",
       "<line clip-path=\"url(#clip192)\" x1=\"1378.66\" y1=\"649.653\" x2=\"1346.66\" y2=\"649.653\" style=\"stroke:#000000; stroke-width:3.2; stroke-opacity:1\"/>\n",
       "<line clip-path=\"url(#clip192)\" x1=\"1610.53\" y1=\"543.634\" x2=\"1578.53\" y2=\"543.634\" style=\"stroke:#000000; stroke-width:3.2; stroke-opacity:1\"/>\n",
       "<line clip-path=\"url(#clip192)\" x1=\"1610.53\" y1=\"514.061\" x2=\"1578.53\" y2=\"514.061\" style=\"stroke:#000000; stroke-width:3.2; stroke-opacity:1\"/>\n",
       "<line clip-path=\"url(#clip192)\" x1=\"1842.41\" y1=\"420.411\" x2=\"1810.41\" y2=\"420.411\" style=\"stroke:#000000; stroke-width:3.2; stroke-opacity:1\"/>\n",
       "<line clip-path=\"url(#clip192)\" x1=\"1842.41\" y1=\"384.513\" x2=\"1810.41\" y2=\"384.513\" style=\"stroke:#000000; stroke-width:3.2; stroke-opacity:1\"/>\n",
       "<line clip-path=\"url(#clip192)\" x1=\"2074.28\" y1=\"280.546\" x2=\"2042.28\" y2=\"280.546\" style=\"stroke:#000000; stroke-width:3.2; stroke-opacity:1\"/>\n",
       "<line clip-path=\"url(#clip192)\" x1=\"2074.28\" y1=\"271.605\" x2=\"2042.28\" y2=\"271.605\" style=\"stroke:#000000; stroke-width:3.2; stroke-opacity:1\"/>\n",
       "<line clip-path=\"url(#clip192)\" x1=\"2306.15\" y1=\"211.403\" x2=\"2274.15\" y2=\"211.403\" style=\"stroke:#000000; stroke-width:3.2; stroke-opacity:1\"/>\n",
       "<line clip-path=\"url(#clip192)\" x1=\"2306.15\" y1=\"87.9763\" x2=\"2274.15\" y2=\"87.9763\" style=\"stroke:#000000; stroke-width:3.2; stroke-opacity:1\"/>\n",
       "<circle clip-path=\"url(#clip192)\" cx=\"203.301\" cy=\"1287.16\" r=\"14\" fill=\"#ff0000\" fill-rule=\"evenodd\" fill-opacity=\"1\" stroke=\"#000000\" stroke-opacity=\"1\" stroke-width=\"3.2\"/>\n",
       "<circle clip-path=\"url(#clip192)\" cx=\"435.173\" cy=\"1160.78\" r=\"14\" fill=\"#ff0000\" fill-rule=\"evenodd\" fill-opacity=\"1\" stroke=\"#000000\" stroke-opacity=\"1\" stroke-width=\"3.2\"/>\n",
       "<circle clip-path=\"url(#clip192)\" cx=\"667.045\" cy=\"1034.39\" r=\"14\" fill=\"#ff0000\" fill-rule=\"evenodd\" fill-opacity=\"1\" stroke=\"#000000\" stroke-opacity=\"1\" stroke-width=\"3.2\"/>\n",
       "<circle clip-path=\"url(#clip192)\" cx=\"898.917\" cy=\"908.006\" r=\"14\" fill=\"#ff0000\" fill-rule=\"evenodd\" fill-opacity=\"1\" stroke=\"#000000\" stroke-opacity=\"1\" stroke-width=\"3.2\"/>\n",
       "<circle clip-path=\"url(#clip192)\" cx=\"1130.79\" cy=\"781.62\" r=\"14\" fill=\"#ff0000\" fill-rule=\"evenodd\" fill-opacity=\"1\" stroke=\"#000000\" stroke-opacity=\"1\" stroke-width=\"3.2\"/>\n",
       "<circle clip-path=\"url(#clip192)\" cx=\"1362.66\" cy=\"655.234\" r=\"14\" fill=\"#ff0000\" fill-rule=\"evenodd\" fill-opacity=\"1\" stroke=\"#000000\" stroke-opacity=\"1\" stroke-width=\"3.2\"/>\n",
       "<circle clip-path=\"url(#clip192)\" cx=\"1594.53\" cy=\"528.848\" r=\"14\" fill=\"#ff0000\" fill-rule=\"evenodd\" fill-opacity=\"1\" stroke=\"#000000\" stroke-opacity=\"1\" stroke-width=\"3.2\"/>\n",
       "<circle clip-path=\"url(#clip192)\" cx=\"1826.41\" cy=\"402.462\" r=\"14\" fill=\"#ff0000\" fill-rule=\"evenodd\" fill-opacity=\"1\" stroke=\"#000000\" stroke-opacity=\"1\" stroke-width=\"3.2\"/>\n",
       "<circle clip-path=\"url(#clip192)\" cx=\"2058.28\" cy=\"276.076\" r=\"14\" fill=\"#ff0000\" fill-rule=\"evenodd\" fill-opacity=\"1\" stroke=\"#000000\" stroke-opacity=\"1\" stroke-width=\"3.2\"/>\n",
       "<circle clip-path=\"url(#clip192)\" cx=\"2290.15\" cy=\"149.69\" r=\"14\" fill=\"#ff0000\" fill-rule=\"evenodd\" fill-opacity=\"1\" stroke=\"#000000\" stroke-opacity=\"1\" stroke-width=\"3.2\"/>\n",
       "<polyline clip-path=\"url(#clip192)\" style=\"stroke:#000000; stroke-width:4; stroke-opacity:1; fill:none\" points=\"\n",
       "  203.301,1445.72 203.301,1381.38 \n",
       "  \"/>\n",
       "<polyline clip-path=\"url(#clip192)\" style=\"stroke:#000000; stroke-width:4; stroke-opacity:1; fill:none\" points=\"\n",
       "  435.173,1398.83 435.173,1340.66 \n",
       "  \"/>\n",
       "<polyline clip-path=\"url(#clip192)\" style=\"stroke:#000000; stroke-width:4; stroke-opacity:1; fill:none\" points=\"\n",
       "  667.045,1378.95 667.045,1309.3 \n",
       "  \"/>\n",
       "<polyline clip-path=\"url(#clip192)\" style=\"stroke:#000000; stroke-width:4; stroke-opacity:1; fill:none\" points=\"\n",
       "  898.917,1353.14 898.917,1298.75 \n",
       "  \"/>\n",
       "<polyline clip-path=\"url(#clip192)\" style=\"stroke:#000000; stroke-width:4; stroke-opacity:1; fill:none\" points=\"\n",
       "  1130.79,1330.29 1130.79,1293.4 \n",
       "  \"/>\n",
       "<polyline clip-path=\"url(#clip192)\" style=\"stroke:#000000; stroke-width:4; stroke-opacity:1; fill:none\" points=\"\n",
       "  1362.66,1305.9 1362.66,1294.74 \n",
       "  \"/>\n",
       "<polyline clip-path=\"url(#clip192)\" style=\"stroke:#000000; stroke-width:4; stroke-opacity:1; fill:none\" points=\"\n",
       "  1594.53,1305.37 1594.53,1275.8 \n",
       "  \"/>\n",
       "<polyline clip-path=\"url(#clip192)\" style=\"stroke:#000000; stroke-width:4; stroke-opacity:1; fill:none\" points=\"\n",
       "  1826.41,1300.09 1826.41,1264.19 \n",
       "  \"/>\n",
       "<polyline clip-path=\"url(#clip192)\" style=\"stroke:#000000; stroke-width:4; stroke-opacity:1; fill:none\" points=\"\n",
       "  2058.28,1279.17 2058.28,1270.23 \n",
       "  \"/>\n",
       "<polyline clip-path=\"url(#clip192)\" style=\"stroke:#000000; stroke-width:4; stroke-opacity:1; fill:none\" points=\"\n",
       "  2290.15,1329.76 2290.15,1206.33 \n",
       "  \"/>\n",
       "<line clip-path=\"url(#clip192)\" x1=\"219.301\" y1=\"1445.72\" x2=\"187.301\" y2=\"1445.72\" style=\"stroke:#000000; stroke-width:3.2; stroke-opacity:1\"/>\n",
       "<line clip-path=\"url(#clip192)\" x1=\"219.301\" y1=\"1381.38\" x2=\"187.301\" y2=\"1381.38\" style=\"stroke:#000000; stroke-width:3.2; stroke-opacity:1\"/>\n",
       "<line clip-path=\"url(#clip192)\" x1=\"451.173\" y1=\"1398.83\" x2=\"419.173\" y2=\"1398.83\" style=\"stroke:#000000; stroke-width:3.2; stroke-opacity:1\"/>\n",
       "<line clip-path=\"url(#clip192)\" x1=\"451.173\" y1=\"1340.66\" x2=\"419.173\" y2=\"1340.66\" style=\"stroke:#000000; stroke-width:3.2; stroke-opacity:1\"/>\n",
       "<line clip-path=\"url(#clip192)\" x1=\"683.045\" y1=\"1378.95\" x2=\"651.045\" y2=\"1378.95\" style=\"stroke:#000000; stroke-width:3.2; stroke-opacity:1\"/>\n",
       "<line clip-path=\"url(#clip192)\" x1=\"683.045\" y1=\"1309.3\" x2=\"651.045\" y2=\"1309.3\" style=\"stroke:#000000; stroke-width:3.2; stroke-opacity:1\"/>\n",
       "<line clip-path=\"url(#clip192)\" x1=\"914.917\" y1=\"1353.14\" x2=\"882.917\" y2=\"1353.14\" style=\"stroke:#000000; stroke-width:3.2; stroke-opacity:1\"/>\n",
       "<line clip-path=\"url(#clip192)\" x1=\"914.917\" y1=\"1298.75\" x2=\"882.917\" y2=\"1298.75\" style=\"stroke:#000000; stroke-width:3.2; stroke-opacity:1\"/>\n",
       "<line clip-path=\"url(#clip192)\" x1=\"1146.79\" y1=\"1330.29\" x2=\"1114.79\" y2=\"1330.29\" style=\"stroke:#000000; stroke-width:3.2; stroke-opacity:1\"/>\n",
       "<line clip-path=\"url(#clip192)\" x1=\"1146.79\" y1=\"1293.4\" x2=\"1114.79\" y2=\"1293.4\" style=\"stroke:#000000; stroke-width:3.2; stroke-opacity:1\"/>\n",
       "<line clip-path=\"url(#clip192)\" x1=\"1378.66\" y1=\"1305.9\" x2=\"1346.66\" y2=\"1305.9\" style=\"stroke:#000000; stroke-width:3.2; stroke-opacity:1\"/>\n",
       "<line clip-path=\"url(#clip192)\" x1=\"1378.66\" y1=\"1294.74\" x2=\"1346.66\" y2=\"1294.74\" style=\"stroke:#000000; stroke-width:3.2; stroke-opacity:1\"/>\n",
       "<line clip-path=\"url(#clip192)\" x1=\"1610.53\" y1=\"1305.37\" x2=\"1578.53\" y2=\"1305.37\" style=\"stroke:#000000; stroke-width:3.2; stroke-opacity:1\"/>\n",
       "<line clip-path=\"url(#clip192)\" x1=\"1610.53\" y1=\"1275.8\" x2=\"1578.53\" y2=\"1275.8\" style=\"stroke:#000000; stroke-width:3.2; stroke-opacity:1\"/>\n",
       "<line clip-path=\"url(#clip192)\" x1=\"1842.41\" y1=\"1300.09\" x2=\"1810.41\" y2=\"1300.09\" style=\"stroke:#000000; stroke-width:3.2; stroke-opacity:1\"/>\n",
       "<line clip-path=\"url(#clip192)\" x1=\"1842.41\" y1=\"1264.19\" x2=\"1810.41\" y2=\"1264.19\" style=\"stroke:#000000; stroke-width:3.2; stroke-opacity:1\"/>\n",
       "<line clip-path=\"url(#clip192)\" x1=\"2074.28\" y1=\"1279.17\" x2=\"2042.28\" y2=\"1279.17\" style=\"stroke:#000000; stroke-width:3.2; stroke-opacity:1\"/>\n",
       "<line clip-path=\"url(#clip192)\" x1=\"2074.28\" y1=\"1270.23\" x2=\"2042.28\" y2=\"1270.23\" style=\"stroke:#000000; stroke-width:3.2; stroke-opacity:1\"/>\n",
       "<line clip-path=\"url(#clip192)\" x1=\"2306.15\" y1=\"1329.76\" x2=\"2274.15\" y2=\"1329.76\" style=\"stroke:#000000; stroke-width:3.2; stroke-opacity:1\"/>\n",
       "<line clip-path=\"url(#clip192)\" x1=\"2306.15\" y1=\"1206.33\" x2=\"2274.15\" y2=\"1206.33\" style=\"stroke:#000000; stroke-width:3.2; stroke-opacity:1\"/>\n",
       "<circle clip-path=\"url(#clip192)\" cx=\"203.301\" cy=\"1413.55\" r=\"14\" fill=\"#0000ff\" fill-rule=\"evenodd\" fill-opacity=\"1\" stroke=\"#000000\" stroke-opacity=\"1\" stroke-width=\"3.2\"/>\n",
       "<circle clip-path=\"url(#clip192)\" cx=\"435.173\" cy=\"1369.75\" r=\"14\" fill=\"#0000ff\" fill-rule=\"evenodd\" fill-opacity=\"1\" stroke=\"#000000\" stroke-opacity=\"1\" stroke-width=\"3.2\"/>\n",
       "<circle clip-path=\"url(#clip192)\" cx=\"667.045\" cy=\"1344.13\" r=\"14\" fill=\"#0000ff\" fill-rule=\"evenodd\" fill-opacity=\"1\" stroke=\"#000000\" stroke-opacity=\"1\" stroke-width=\"3.2\"/>\n",
       "<circle clip-path=\"url(#clip192)\" cx=\"898.917\" cy=\"1325.95\" r=\"14\" fill=\"#0000ff\" fill-rule=\"evenodd\" fill-opacity=\"1\" stroke=\"#000000\" stroke-opacity=\"1\" stroke-width=\"3.2\"/>\n",
       "<circle clip-path=\"url(#clip192)\" cx=\"1130.79\" cy=\"1311.84\" r=\"14\" fill=\"#0000ff\" fill-rule=\"evenodd\" fill-opacity=\"1\" stroke=\"#000000\" stroke-opacity=\"1\" stroke-width=\"3.2\"/>\n",
       "<circle clip-path=\"url(#clip192)\" cx=\"1362.66\" cy=\"1300.32\" r=\"14\" fill=\"#0000ff\" fill-rule=\"evenodd\" fill-opacity=\"1\" stroke=\"#000000\" stroke-opacity=\"1\" stroke-width=\"3.2\"/>\n",
       "<circle clip-path=\"url(#clip192)\" cx=\"1594.53\" cy=\"1290.58\" r=\"14\" fill=\"#0000ff\" fill-rule=\"evenodd\" fill-opacity=\"1\" stroke=\"#000000\" stroke-opacity=\"1\" stroke-width=\"3.2\"/>\n",
       "<circle clip-path=\"url(#clip192)\" cx=\"1826.41\" cy=\"1282.14\" r=\"14\" fill=\"#0000ff\" fill-rule=\"evenodd\" fill-opacity=\"1\" stroke=\"#000000\" stroke-opacity=\"1\" stroke-width=\"3.2\"/>\n",
       "<circle clip-path=\"url(#clip192)\" cx=\"2058.28\" cy=\"1274.7\" r=\"14\" fill=\"#0000ff\" fill-rule=\"evenodd\" fill-opacity=\"1\" stroke=\"#000000\" stroke-opacity=\"1\" stroke-width=\"3.2\"/>\n",
       "<circle clip-path=\"url(#clip192)\" cx=\"2290.15\" cy=\"1268.04\" r=\"14\" fill=\"#0000ff\" fill-rule=\"evenodd\" fill-opacity=\"1\" stroke=\"#000000\" stroke-opacity=\"1\" stroke-width=\"3.2\"/>\n",
       "<path clip-path=\"url(#clip190)\" d=\"\n",
       "M1980.81 276.658 L2279.02 276.658 L2279.02 95.2176 L1980.81 95.2176  Z\n",
       "  \" fill=\"#ffffff\" fill-rule=\"evenodd\" fill-opacity=\"1\"/>\n",
       "<polyline clip-path=\"url(#clip190)\" style=\"stroke:#000000; stroke-width:4; stroke-opacity:1; fill:none\" points=\"\n",
       "  1980.81,276.658 2279.02,276.658 2279.02,95.2176 1980.81,95.2176 1980.81,276.658 \n",
       "  \"/>\n",
       "<circle clip-path=\"url(#clip190)\" cx=\"2079.12\" cy=\"155.698\" r=\"23\" fill=\"#ff0000\" fill-rule=\"evenodd\" fill-opacity=\"1\" stroke=\"#000000\" stroke-opacity=\"1\" stroke-width=\"5.12\"/>\n",
       "<path clip-path=\"url(#clip190)\" d=\"M 0 0 M2191.28 175.385 Q2189.47 180.015 2187.76 181.427 Q2186.04 182.839 2183.17 182.839 L2179.77 182.839 L2179.77 179.274 L2182.27 179.274 Q2184.03 179.274 2185 178.44 Q2185.98 177.607 2187.16 174.505 L2187.92 172.561 L2177.43 147.052 L2181.95 147.052 L2190.05 167.329 L2198.15 147.052 L2202.66 147.052 L2191.28 175.385 Z\" fill=\"#000000\" fill-rule=\"evenodd\" fill-opacity=\"1\" /><path clip-path=\"url(#clip190)\" d=\"M 0 0 M2209.96 169.042 L2217.6 169.042 L2217.6 142.677 L2209.29 144.343 L2209.29 140.084 L2217.55 138.418 L2222.22 138.418 L2222.22 169.042 L2229.86 169.042 L2229.86 172.978 L2209.96 172.978 L2209.96 169.042 Z\" fill=\"#000000\" fill-rule=\"evenodd\" fill-opacity=\"1\" /><circle clip-path=\"url(#clip190)\" cx=\"2079.12\" cy=\"216.178\" r=\"23\" fill=\"#0000ff\" fill-rule=\"evenodd\" fill-opacity=\"1\" stroke=\"#000000\" stroke-opacity=\"1\" stroke-width=\"5.12\"/>\n",
       "<path clip-path=\"url(#clip190)\" d=\"M 0 0 M2191.28 235.865 Q2189.47 240.495 2187.76 241.907 Q2186.04 243.319 2183.17 243.319 L2179.77 243.319 L2179.77 239.754 L2182.27 239.754 Q2184.03 239.754 2185 238.92 Q2185.98 238.087 2187.16 234.985 L2187.92 233.041 L2177.43 207.532 L2181.95 207.532 L2190.05 227.809 L2198.15 207.532 L2202.66 207.532 L2191.28 235.865 Z\" fill=\"#000000\" fill-rule=\"evenodd\" fill-opacity=\"1\" /><path clip-path=\"url(#clip190)\" d=\"M 0 0 M2213.17 229.522 L2229.49 229.522 L2229.49 233.458 L2207.55 233.458 L2207.55 229.522 Q2210.21 226.768 2214.79 222.138 Q2219.4 217.485 2220.58 216.143 Q2222.83 213.62 2223.71 211.884 Q2224.61 210.124 2224.61 208.435 Q2224.61 205.68 2222.66 203.944 Q2220.74 202.208 2217.64 202.208 Q2215.44 202.208 2212.99 202.972 Q2210.56 203.735 2207.78 205.286 L2207.78 200.564 Q2210.6 199.43 2213.06 198.851 Q2215.51 198.273 2217.55 198.273 Q2222.92 198.273 2226.11 200.958 Q2229.31 203.643 2229.31 208.134 Q2229.31 210.263 2228.5 212.185 Q2227.71 214.083 2225.6 216.675 Q2225.03 217.347 2221.92 220.564 Q2218.82 223.759 2213.17 229.522 Z\" fill=\"#000000\" fill-rule=\"evenodd\" fill-opacity=\"1\" /></svg>\n"
      ]
     },
     "execution_count": 34,
     "metadata": {},
     "output_type": "execute_result"
    }
   ],
   "source": [
    "# Mozna odwolywac sie bezposrednio do kolumn w poniższy sposób (gdyz sa typu jednowymiarowych tablic \n",
    "# Array{T,1})\n",
    "\n",
    "using Plots\n",
    "scatter(df.a, [df.b, df.c], colour = [:red :blue], yerr=df.d)\n"
   ]
  },
  {
   "cell_type": "code",
   "execution_count": 35,
   "metadata": {},
   "outputs": [
    {
     "data": {
      "image/svg+xml": [
       "<?xml version=\"1.0\" encoding=\"utf-8\"?>\n",
       "<svg xmlns=\"http://www.w3.org/2000/svg\" xmlns:xlink=\"http://www.w3.org/1999/xlink\" width=\"600\" height=\"400\" viewBox=\"0 0 2400 1600\">\n",
       "<defs>\n",
       "  <clipPath id=\"clip230\">\n",
       "    <rect x=\"0\" y=\"0\" width=\"2400\" height=\"1600\"/>\n",
       "  </clipPath>\n",
       "</defs>\n",
       "<path clip-path=\"url(#clip230)\" d=\"\n",
       "M0 1600 L2400 1600 L2400 0 L0 0  Z\n",
       "  \" fill=\"#ffffff\" fill-rule=\"evenodd\" fill-opacity=\"1\"/>\n",
       "<defs>\n",
       "  <clipPath id=\"clip231\">\n",
       "    <rect x=\"480\" y=\"0\" width=\"1681\" height=\"1600\"/>\n",
       "  </clipPath>\n",
       "</defs>\n",
       "<path clip-path=\"url(#clip230)\" d=\"\n",
       "M140.696 1486.45 L1145.05 1486.45 L1145.05 47.2441 L140.696 47.2441  Z\n",
       "  \" fill=\"#ffffff\" fill-rule=\"evenodd\" fill-opacity=\"1\"/>\n",
       "<defs>\n",
       "  <clipPath id=\"clip232\">\n",
       "    <rect x=\"140\" y=\"47\" width=\"1005\" height=\"1440\"/>\n",
       "  </clipPath>\n",
       "</defs>\n",
       "<polyline clip-path=\"url(#clip232)\" style=\"stroke:#000000; stroke-width:2; stroke-opacity:0.1; fill:none\" points=\"\n",
       "  274.399,1486.45 274.399,47.2441 \n",
       "  \"/>\n",
       "<polyline clip-path=\"url(#clip232)\" style=\"stroke:#000000; stroke-width:2; stroke-opacity:0.1; fill:none\" points=\"\n",
       "  484.955,1486.45 484.955,47.2441 \n",
       "  \"/>\n",
       "<polyline clip-path=\"url(#clip232)\" style=\"stroke:#000000; stroke-width:2; stroke-opacity:0.1; fill:none\" points=\"\n",
       "  695.511,1486.45 695.511,47.2441 \n",
       "  \"/>\n",
       "<polyline clip-path=\"url(#clip232)\" style=\"stroke:#000000; stroke-width:2; stroke-opacity:0.1; fill:none\" points=\"\n",
       "  906.067,1486.45 906.067,47.2441 \n",
       "  \"/>\n",
       "<polyline clip-path=\"url(#clip232)\" style=\"stroke:#000000; stroke-width:2; stroke-opacity:0.1; fill:none\" points=\"\n",
       "  1116.62,1486.45 1116.62,47.2441 \n",
       "  \"/>\n",
       "<polyline clip-path=\"url(#clip230)\" style=\"stroke:#000000; stroke-width:4; stroke-opacity:1; fill:none\" points=\"\n",
       "  140.696,1486.45 1145.05,1486.45 \n",
       "  \"/>\n",
       "<polyline clip-path=\"url(#clip230)\" style=\"stroke:#000000; stroke-width:4; stroke-opacity:1; fill:none\" points=\"\n",
       "  274.399,1486.45 274.399,1469.18 \n",
       "  \"/>\n",
       "<polyline clip-path=\"url(#clip230)\" style=\"stroke:#000000; stroke-width:4; stroke-opacity:1; fill:none\" points=\"\n",
       "  484.955,1486.45 484.955,1469.18 \n",
       "  \"/>\n",
       "<polyline clip-path=\"url(#clip230)\" style=\"stroke:#000000; stroke-width:4; stroke-opacity:1; fill:none\" points=\"\n",
       "  695.511,1486.45 695.511,1469.18 \n",
       "  \"/>\n",
       "<polyline clip-path=\"url(#clip230)\" style=\"stroke:#000000; stroke-width:4; stroke-opacity:1; fill:none\" points=\"\n",
       "  906.067,1486.45 906.067,1469.18 \n",
       "  \"/>\n",
       "<polyline clip-path=\"url(#clip230)\" style=\"stroke:#000000; stroke-width:4; stroke-opacity:1; fill:none\" points=\"\n",
       "  1116.62,1486.45 1116.62,1469.18 \n",
       "  \"/>\n",
       "<path clip-path=\"url(#clip230)\" d=\"M 0 0 M269.051 1543.18 L285.371 1543.18 L285.371 1547.12 L263.426 1547.12 L263.426 1543.18 Q266.088 1540.43 270.672 1535.8 Q275.278 1531.15 276.459 1529.81 Q278.704 1527.28 279.584 1525.55 Q280.487 1523.79 280.487 1522.1 Q280.487 1519.34 278.542 1517.61 Q276.621 1515.87 273.519 1515.87 Q271.32 1515.87 268.866 1516.63 Q266.436 1517.4 263.658 1518.95 L263.658 1514.23 Q266.482 1513.09 268.936 1512.51 Q271.389 1511.93 273.426 1511.93 Q278.797 1511.93 281.991 1514.62 Q285.186 1517.31 285.186 1521.8 Q285.186 1523.93 284.375 1525.85 Q283.588 1527.74 281.482 1530.34 Q280.903 1531.01 277.801 1534.23 Q274.7 1537.42 269.051 1543.18 Z\" fill=\"#000000\" fill-rule=\"evenodd\" fill-opacity=\"1\" /><path clip-path=\"url(#clip230)\" d=\"M 0 0 M487.964 1516.63 L476.158 1535.08 L487.964 1535.08 L487.964 1516.63 M486.737 1512.56 L492.617 1512.56 L492.617 1535.08 L497.547 1535.08 L497.547 1538.97 L492.617 1538.97 L492.617 1547.12 L487.964 1547.12 L487.964 1538.97 L472.362 1538.97 L472.362 1534.46 L486.737 1512.56 Z\" fill=\"#000000\" fill-rule=\"evenodd\" fill-opacity=\"1\" /><path clip-path=\"url(#clip230)\" d=\"M 0 0 M695.916 1527.98 Q692.768 1527.98 690.916 1530.13 Q689.087 1532.28 689.087 1536.03 Q689.087 1539.76 690.916 1541.93 Q692.768 1544.09 695.916 1544.09 Q699.064 1544.09 700.892 1541.93 Q702.744 1539.76 702.744 1536.03 Q702.744 1532.28 700.892 1530.13 Q699.064 1527.98 695.916 1527.98 M705.198 1513.32 L705.198 1517.58 Q703.439 1516.75 701.633 1516.31 Q699.851 1515.87 698.092 1515.87 Q693.462 1515.87 691.008 1519 Q688.578 1522.12 688.231 1528.44 Q689.596 1526.43 691.656 1525.36 Q693.717 1524.27 696.193 1524.27 Q701.402 1524.27 704.411 1527.44 Q707.443 1530.59 707.443 1536.03 Q707.443 1541.36 704.295 1544.57 Q701.147 1547.79 695.916 1547.79 Q689.92 1547.79 686.749 1543.21 Q683.578 1538.6 683.578 1529.87 Q683.578 1521.68 687.467 1516.82 Q691.356 1511.93 697.906 1511.93 Q699.666 1511.93 701.448 1512.28 Q703.254 1512.63 705.198 1513.32 Z\" fill=\"#000000\" fill-rule=\"evenodd\" fill-opacity=\"1\" /><path clip-path=\"url(#clip230)\" d=\"M 0 0 M906.067 1530.71 Q902.733 1530.71 900.812 1532.49 Q898.914 1534.27 898.914 1537.4 Q898.914 1540.52 900.812 1542.31 Q902.733 1544.09 906.067 1544.09 Q909.4 1544.09 911.321 1542.31 Q913.242 1540.5 913.242 1537.4 Q913.242 1534.27 911.321 1532.49 Q909.423 1530.71 906.067 1530.71 M901.391 1528.72 Q898.381 1527.98 896.692 1525.92 Q895.025 1523.86 895.025 1520.89 Q895.025 1516.75 897.965 1514.34 Q900.928 1511.93 906.067 1511.93 Q911.229 1511.93 914.168 1514.34 Q917.108 1516.75 917.108 1520.89 Q917.108 1523.86 915.418 1525.92 Q913.752 1527.98 910.766 1528.72 Q914.145 1529.5 916.02 1531.8 Q917.918 1534.09 917.918 1537.4 Q917.918 1542.42 914.84 1545.11 Q911.784 1547.79 906.067 1547.79 Q900.349 1547.79 897.27 1545.11 Q894.215 1542.42 894.215 1537.4 Q894.215 1534.09 896.113 1531.8 Q898.011 1529.5 901.391 1528.72 M899.678 1521.33 Q899.678 1524.02 901.344 1525.52 Q903.034 1527.03 906.067 1527.03 Q909.076 1527.03 910.766 1525.52 Q912.479 1524.02 912.479 1521.33 Q912.479 1518.65 910.766 1517.14 Q909.076 1515.64 906.067 1515.64 Q903.034 1515.64 901.344 1517.14 Q899.678 1518.65 899.678 1521.33 Z\" fill=\"#000000\" fill-rule=\"evenodd\" fill-opacity=\"1\" /><path clip-path=\"url(#clip230)\" d=\"M 0 0 M1091.31 1543.18 L1098.95 1543.18 L1098.95 1516.82 L1090.64 1518.49 L1090.64 1514.23 L1098.9 1512.56 L1103.58 1512.56 L1103.58 1543.18 L1111.22 1543.18 L1111.22 1547.12 L1091.31 1547.12 L1091.31 1543.18 Z\" fill=\"#000000\" fill-rule=\"evenodd\" fill-opacity=\"1\" /><path clip-path=\"url(#clip230)\" d=\"M 0 0 M1130.66 1515.64 Q1127.05 1515.64 1125.22 1519.2 Q1123.42 1522.75 1123.42 1529.87 Q1123.42 1536.98 1125.22 1540.55 Q1127.05 1544.09 1130.66 1544.09 Q1134.3 1544.09 1136.1 1540.55 Q1137.93 1536.98 1137.93 1529.87 Q1137.93 1522.75 1136.1 1519.2 Q1134.3 1515.64 1130.66 1515.64 M1130.66 1511.93 Q1136.47 1511.93 1139.53 1516.54 Q1142.61 1521.12 1142.61 1529.87 Q1142.61 1538.6 1139.53 1543.21 Q1136.47 1547.79 1130.66 1547.79 Q1124.85 1547.79 1121.77 1543.21 Q1118.72 1538.6 1118.72 1529.87 Q1118.72 1521.12 1121.77 1516.54 Q1124.85 1511.93 1130.66 1511.93 Z\" fill=\"#000000\" fill-rule=\"evenodd\" fill-opacity=\"1\" /><polyline clip-path=\"url(#clip232)\" style=\"stroke:#000000; stroke-width:2; stroke-opacity:0.1; fill:none\" points=\"\n",
       "  140.696,1219.43 1145.05,1219.43 \n",
       "  \"/>\n",
       "<polyline clip-path=\"url(#clip232)\" style=\"stroke:#000000; stroke-width:2; stroke-opacity:0.1; fill:none\" points=\"\n",
       "  140.696,842.276 1145.05,842.276 \n",
       "  \"/>\n",
       "<polyline clip-path=\"url(#clip232)\" style=\"stroke:#000000; stroke-width:2; stroke-opacity:0.1; fill:none\" points=\"\n",
       "  140.696,465.126 1145.05,465.126 \n",
       "  \"/>\n",
       "<polyline clip-path=\"url(#clip232)\" style=\"stroke:#000000; stroke-width:2; stroke-opacity:0.1; fill:none\" points=\"\n",
       "  140.696,87.9763 1145.05,87.9763 \n",
       "  \"/>\n",
       "<polyline clip-path=\"url(#clip230)\" style=\"stroke:#000000; stroke-width:4; stroke-opacity:1; fill:none\" points=\"\n",
       "  140.696,1486.45 140.696,47.2441 \n",
       "  \"/>\n",
       "<polyline clip-path=\"url(#clip230)\" style=\"stroke:#000000; stroke-width:4; stroke-opacity:1; fill:none\" points=\"\n",
       "  140.696,1219.43 152.748,1219.43 \n",
       "  \"/>\n",
       "<polyline clip-path=\"url(#clip230)\" style=\"stroke:#000000; stroke-width:4; stroke-opacity:1; fill:none\" points=\"\n",
       "  140.696,842.276 152.748,842.276 \n",
       "  \"/>\n",
       "<polyline clip-path=\"url(#clip230)\" style=\"stroke:#000000; stroke-width:4; stroke-opacity:1; fill:none\" points=\"\n",
       "  140.696,465.126 152.748,465.126 \n",
       "  \"/>\n",
       "<polyline clip-path=\"url(#clip230)\" style=\"stroke:#000000; stroke-width:4; stroke-opacity:1; fill:none\" points=\"\n",
       "  140.696,87.9763 152.748,87.9763 \n",
       "  \"/>\n",
       "<path clip-path=\"url(#clip230)\" d=\"M 0 0 M83.7929 1202.15 L102.149 1202.15 L102.149 1206.08 L88.0753 1206.08 L88.0753 1214.55 Q89.0938 1214.21 90.1123 1214.04 Q91.1308 1213.86 92.1493 1213.86 Q97.9363 1213.86 101.316 1217.03 Q104.696 1220.2 104.696 1225.62 Q104.696 1231.2 101.223 1234.3 Q97.7511 1237.38 91.4317 1237.38 Q89.2558 1237.38 86.9873 1237.01 Q84.7419 1236.64 82.3346 1235.9 L82.3346 1231.2 Q84.4179 1232.33 86.6401 1232.89 Q88.8623 1233.44 91.3391 1233.44 Q95.3437 1233.44 97.6817 1231.34 Q100.02 1229.23 100.02 1225.62 Q100.02 1222.01 97.6817 1219.9 Q95.3437 1217.79 91.3391 1217.79 Q89.4641 1217.79 87.5892 1218.21 Q85.7373 1218.63 83.7929 1219.51 L83.7929 1202.15 Z\" fill=\"#000000\" fill-rule=\"evenodd\" fill-opacity=\"1\" /><path clip-path=\"url(#clip230)\" d=\"M 0 0 M53.3995 855.621 L61.0384 855.621 L61.0384 829.255 L52.7282 830.922 L52.7282 826.663 L60.9921 824.996 L65.668 824.996 L65.668 855.621 L73.3068 855.621 L73.3068 859.556 L53.3995 859.556 L53.3995 855.621 Z\" fill=\"#000000\" fill-rule=\"evenodd\" fill-opacity=\"1\" /><path clip-path=\"url(#clip230)\" d=\"M 0 0 M92.7512 828.075 Q89.1401 828.075 87.3114 831.639 Q85.5058 835.181 85.5058 842.311 Q85.5058 849.417 87.3114 852.982 Q89.1401 856.524 92.7512 856.524 Q96.3854 856.524 98.1909 852.982 Q100.02 849.417 100.02 842.311 Q100.02 835.181 98.1909 831.639 Q96.3854 828.075 92.7512 828.075 M92.7512 824.371 Q98.5613 824.371 101.617 828.977 Q104.696 833.561 104.696 842.311 Q104.696 851.037 101.617 855.644 Q98.5613 860.227 92.7512 860.227 Q86.941 860.227 83.8623 855.644 Q80.8068 851.037 80.8068 842.311 Q80.8068 833.561 83.8623 828.977 Q86.941 824.371 92.7512 824.371 Z\" fill=\"#000000\" fill-rule=\"evenodd\" fill-opacity=\"1\" /><path clip-path=\"url(#clip230)\" d=\"M 0 0 M54.3949 478.471 L62.0337 478.471 L62.0337 452.105 L53.7236 453.772 L53.7236 449.513 L61.9874 447.846 L66.6633 447.846 L66.6633 478.471 L74.3022 478.471 L74.3022 482.406 L54.3949 482.406 L54.3949 478.471 Z\" fill=\"#000000\" fill-rule=\"evenodd\" fill-opacity=\"1\" /><path clip-path=\"url(#clip230)\" d=\"M 0 0 M83.7929 447.846 L102.149 447.846 L102.149 451.781 L88.0753 451.781 L88.0753 460.253 Q89.0938 459.906 90.1123 459.744 Q91.1308 459.559 92.1493 459.559 Q97.9363 459.559 101.316 462.73 Q104.696 465.902 104.696 471.318 Q104.696 476.897 101.223 479.999 Q97.7511 483.077 91.4317 483.077 Q89.2558 483.077 86.9873 482.707 Q84.7419 482.337 82.3346 481.596 L82.3346 476.897 Q84.4179 478.031 86.6401 478.587 Q88.8623 479.142 91.3391 479.142 Q95.3437 479.142 97.6817 477.036 Q100.02 474.929 100.02 471.318 Q100.02 467.707 97.6817 465.601 Q95.3437 463.494 91.3391 463.494 Q89.4641 463.494 87.5892 463.911 Q85.7373 464.328 83.7929 465.207 L83.7929 447.846 Z\" fill=\"#000000\" fill-rule=\"evenodd\" fill-opacity=\"1\" /><path clip-path=\"url(#clip230)\" d=\"M 0 0 M56.6171 101.321 L72.9365 101.321 L72.9365 105.256 L50.9921 105.256 L50.9921 101.321 Q53.6541 98.5665 58.2375 93.9369 Q62.8439 89.2841 64.0245 87.9416 Q66.2698 85.4184 67.1494 83.6823 Q68.0522 81.9231 68.0522 80.2333 Q68.0522 77.4786 66.1078 75.7425 Q64.1865 74.0064 61.0847 74.0064 Q58.8856 74.0064 56.4319 74.7703 Q54.0014 75.5342 51.2236 77.0851 L51.2236 72.3629 Q54.0477 71.2287 56.5014 70.65 Q58.955 70.0713 60.9921 70.0713 Q66.3624 70.0713 69.5568 72.7565 Q72.7513 75.4416 72.7513 79.9323 Q72.7513 82.062 71.9411 83.9832 Q71.1541 85.8814 69.0476 88.474 Q68.4689 89.1453 65.367 92.3628 Q62.2652 95.5573 56.6171 101.321 Z\" fill=\"#000000\" fill-rule=\"evenodd\" fill-opacity=\"1\" /><path clip-path=\"url(#clip230)\" d=\"M 0 0 M92.7512 73.775 Q89.1401 73.775 87.3114 77.3398 Q85.5058 80.8814 85.5058 88.011 Q85.5058 95.1174 87.3114 98.6822 Q89.1401 102.224 92.7512 102.224 Q96.3854 102.224 98.1909 98.6822 Q100.02 95.1174 100.02 88.011 Q100.02 80.8814 98.1909 77.3398 Q96.3854 73.775 92.7512 73.775 M92.7512 70.0713 Q98.5613 70.0713 101.617 74.6777 Q104.696 79.261 104.696 88.011 Q104.696 96.7378 101.617 101.344 Q98.5613 105.928 92.7512 105.928 Q86.941 105.928 83.8623 101.344 Q80.8068 96.7378 80.8068 88.011 Q80.8068 79.261 83.8623 74.6777 Q86.941 70.0713 92.7512 70.0713 Z\" fill=\"#000000\" fill-rule=\"evenodd\" fill-opacity=\"1\" /><circle clip-path=\"url(#clip232)\" cx=\"169.121\" cy=\"1445.72\" r=\"14\" fill=\"#ff0000\" fill-rule=\"evenodd\" fill-opacity=\"1\" stroke=\"#000000\" stroke-opacity=\"1\" stroke-width=\"3.2\"/>\n",
       "<circle clip-path=\"url(#clip232)\" cx=\"274.399\" cy=\"1294.86\" r=\"14\" fill=\"#ff0000\" fill-rule=\"evenodd\" fill-opacity=\"1\" stroke=\"#000000\" stroke-opacity=\"1\" stroke-width=\"3.2\"/>\n",
       "<circle clip-path=\"url(#clip232)\" cx=\"379.677\" cy=\"1144\" r=\"14\" fill=\"#ff0000\" fill-rule=\"evenodd\" fill-opacity=\"1\" stroke=\"#000000\" stroke-opacity=\"1\" stroke-width=\"3.2\"/>\n",
       "<circle clip-path=\"url(#clip232)\" cx=\"484.955\" cy=\"993.136\" r=\"14\" fill=\"#ff0000\" fill-rule=\"evenodd\" fill-opacity=\"1\" stroke=\"#000000\" stroke-opacity=\"1\" stroke-width=\"3.2\"/>\n",
       "<circle clip-path=\"url(#clip232)\" cx=\"590.233\" cy=\"842.276\" r=\"14\" fill=\"#ff0000\" fill-rule=\"evenodd\" fill-opacity=\"1\" stroke=\"#000000\" stroke-opacity=\"1\" stroke-width=\"3.2\"/>\n",
       "<circle clip-path=\"url(#clip232)\" cx=\"695.511\" cy=\"691.416\" r=\"14\" fill=\"#ff0000\" fill-rule=\"evenodd\" fill-opacity=\"1\" stroke=\"#000000\" stroke-opacity=\"1\" stroke-width=\"3.2\"/>\n",
       "<circle clip-path=\"url(#clip232)\" cx=\"800.789\" cy=\"540.556\" r=\"14\" fill=\"#ff0000\" fill-rule=\"evenodd\" fill-opacity=\"1\" stroke=\"#000000\" stroke-opacity=\"1\" stroke-width=\"3.2\"/>\n",
       "<circle clip-path=\"url(#clip232)\" cx=\"906.067\" cy=\"389.696\" r=\"14\" fill=\"#ff0000\" fill-rule=\"evenodd\" fill-opacity=\"1\" stroke=\"#000000\" stroke-opacity=\"1\" stroke-width=\"3.2\"/>\n",
       "<circle clip-path=\"url(#clip232)\" cx=\"1011.34\" cy=\"238.836\" r=\"14\" fill=\"#ff0000\" fill-rule=\"evenodd\" fill-opacity=\"1\" stroke=\"#000000\" stroke-opacity=\"1\" stroke-width=\"3.2\"/>\n",
       "<circle clip-path=\"url(#clip232)\" cx=\"1116.62\" cy=\"87.9763\" r=\"14\" fill=\"#ff0000\" fill-rule=\"evenodd\" fill-opacity=\"1\" stroke=\"#000000\" stroke-opacity=\"1\" stroke-width=\"3.2\"/>\n",
       "<path clip-path=\"url(#clip230)\" d=\"\n",
       "M947.544 216.178 L1111.57 216.178 L1111.57 95.2176 L947.544 95.2176  Z\n",
       "  \" fill=\"#ffffff\" fill-rule=\"evenodd\" fill-opacity=\"1\"/>\n",
       "<polyline clip-path=\"url(#clip230)\" style=\"stroke:#000000; stroke-width:4; stroke-opacity:1; fill:none\" points=\"\n",
       "  947.544,216.178 1111.57,216.178 1111.57,95.2176 947.544,95.2176 947.544,216.178 \n",
       "  \"/>\n",
       "<circle clip-path=\"url(#clip230)\" cx=\"992.182\" cy=\"155.698\" r=\"23\" fill=\"#ff0000\" fill-rule=\"evenodd\" fill-opacity=\"1\" stroke=\"#000000\" stroke-opacity=\"1\" stroke-width=\"5.12\"/>\n",
       "<path clip-path=\"url(#clip230)\" d=\"M 0 0 M1050.66 175.385 Q1048.86 180.015 1047.14 181.427 Q1045.43 182.839 1042.56 182.839 L1039.16 182.839 L1039.16 179.274 L1041.66 179.274 Q1043.42 179.274 1044.39 178.44 Q1045.36 177.607 1046.54 174.505 L1047.31 172.561 L1036.82 147.052 L1041.33 147.052 L1049.44 167.329 L1057.54 147.052 L1062.05 147.052 L1050.66 175.385 Z\" fill=\"#000000\" fill-rule=\"evenodd\" fill-opacity=\"1\" /><path clip-path=\"url(#clip230)\" d=\"M 0 0 M1069.34 169.042 L1076.98 169.042 L1076.98 142.677 L1068.67 144.343 L1068.67 140.084 L1076.94 138.418 L1081.61 138.418 L1081.61 169.042 L1089.25 169.042 L1089.25 172.978 L1069.34 172.978 L1069.34 169.042 Z\" fill=\"#000000\" fill-rule=\"evenodd\" fill-opacity=\"1\" /><path clip-path=\"url(#clip230)\" d=\"\n",
       "M1348.4 1486.45 L2352.76 1486.45 L2352.76 47.2441 L1348.4 47.2441  Z\n",
       "  \" fill=\"#ffffff\" fill-rule=\"evenodd\" fill-opacity=\"1\"/>\n",
       "<defs>\n",
       "  <clipPath id=\"clip233\">\n",
       "    <rect x=\"1348\" y=\"47\" width=\"1005\" height=\"1440\"/>\n",
       "  </clipPath>\n",
       "</defs>\n",
       "<polyline clip-path=\"url(#clip233)\" style=\"stroke:#000000; stroke-width:2; stroke-opacity:0.1; fill:none\" points=\"\n",
       "  1482.11,1486.45 1482.11,47.2441 \n",
       "  \"/>\n",
       "<polyline clip-path=\"url(#clip233)\" style=\"stroke:#000000; stroke-width:2; stroke-opacity:0.1; fill:none\" points=\"\n",
       "  1692.66,1486.45 1692.66,47.2441 \n",
       "  \"/>\n",
       "<polyline clip-path=\"url(#clip233)\" style=\"stroke:#000000; stroke-width:2; stroke-opacity:0.1; fill:none\" points=\"\n",
       "  1903.22,1486.45 1903.22,47.2441 \n",
       "  \"/>\n",
       "<polyline clip-path=\"url(#clip233)\" style=\"stroke:#000000; stroke-width:2; stroke-opacity:0.1; fill:none\" points=\"\n",
       "  2113.77,1486.45 2113.77,47.2441 \n",
       "  \"/>\n",
       "<polyline clip-path=\"url(#clip233)\" style=\"stroke:#000000; stroke-width:2; stroke-opacity:0.1; fill:none\" points=\"\n",
       "  2324.33,1486.45 2324.33,47.2441 \n",
       "  \"/>\n",
       "<polyline clip-path=\"url(#clip230)\" style=\"stroke:#000000; stroke-width:4; stroke-opacity:1; fill:none\" points=\"\n",
       "  1348.4,1486.45 2352.76,1486.45 \n",
       "  \"/>\n",
       "<polyline clip-path=\"url(#clip230)\" style=\"stroke:#000000; stroke-width:4; stroke-opacity:1; fill:none\" points=\"\n",
       "  1482.11,1486.45 1482.11,1469.18 \n",
       "  \"/>\n",
       "<polyline clip-path=\"url(#clip230)\" style=\"stroke:#000000; stroke-width:4; stroke-opacity:1; fill:none\" points=\"\n",
       "  1692.66,1486.45 1692.66,1469.18 \n",
       "  \"/>\n",
       "<polyline clip-path=\"url(#clip230)\" style=\"stroke:#000000; stroke-width:4; stroke-opacity:1; fill:none\" points=\"\n",
       "  1903.22,1486.45 1903.22,1469.18 \n",
       "  \"/>\n",
       "<polyline clip-path=\"url(#clip230)\" style=\"stroke:#000000; stroke-width:4; stroke-opacity:1; fill:none\" points=\"\n",
       "  2113.77,1486.45 2113.77,1469.18 \n",
       "  \"/>\n",
       "<polyline clip-path=\"url(#clip230)\" style=\"stroke:#000000; stroke-width:4; stroke-opacity:1; fill:none\" points=\"\n",
       "  2324.33,1486.45 2324.33,1469.18 \n",
       "  \"/>\n",
       "<path clip-path=\"url(#clip230)\" d=\"M 0 0 M1476.76 1543.18 L1493.08 1543.18 L1493.08 1547.12 L1471.13 1547.12 L1471.13 1543.18 Q1473.8 1540.43 1478.38 1535.8 Q1482.99 1531.15 1484.17 1529.81 Q1486.41 1527.28 1487.29 1525.55 Q1488.19 1523.79 1488.19 1522.1 Q1488.19 1519.34 1486.25 1517.61 Q1484.33 1515.87 1481.23 1515.87 Q1479.03 1515.87 1476.57 1516.63 Q1474.14 1517.4 1471.37 1518.95 L1471.37 1514.23 Q1474.19 1513.09 1476.64 1512.51 Q1479.1 1511.93 1481.13 1511.93 Q1486.51 1511.93 1489.7 1514.62 Q1492.89 1517.31 1492.89 1521.8 Q1492.89 1523.93 1492.08 1525.85 Q1491.3 1527.74 1489.19 1530.34 Q1488.61 1531.01 1485.51 1534.23 Q1482.41 1537.42 1476.76 1543.18 Z\" fill=\"#000000\" fill-rule=\"evenodd\" fill-opacity=\"1\" /><path clip-path=\"url(#clip230)\" d=\"M 0 0 M1695.67 1516.63 L1683.87 1535.08 L1695.67 1535.08 L1695.67 1516.63 M1694.45 1512.56 L1700.32 1512.56 L1700.32 1535.08 L1705.26 1535.08 L1705.26 1538.97 L1700.32 1538.97 L1700.32 1547.12 L1695.67 1547.12 L1695.67 1538.97 L1680.07 1538.97 L1680.07 1534.46 L1694.45 1512.56 Z\" fill=\"#000000\" fill-rule=\"evenodd\" fill-opacity=\"1\" /><path clip-path=\"url(#clip230)\" d=\"M 0 0 M1903.62 1527.98 Q1900.48 1527.98 1898.62 1530.13 Q1896.8 1532.28 1896.8 1536.03 Q1896.8 1539.76 1898.62 1541.93 Q1900.48 1544.09 1903.62 1544.09 Q1906.77 1544.09 1908.6 1541.93 Q1910.45 1539.76 1910.45 1536.03 Q1910.45 1532.28 1908.6 1530.13 Q1906.77 1527.98 1903.62 1527.98 M1912.91 1513.32 L1912.91 1517.58 Q1911.15 1516.75 1909.34 1516.31 Q1907.56 1515.87 1905.8 1515.87 Q1901.17 1515.87 1898.72 1519 Q1896.29 1522.12 1895.94 1528.44 Q1897.3 1526.43 1899.36 1525.36 Q1901.42 1524.27 1903.9 1524.27 Q1909.11 1524.27 1912.12 1527.44 Q1915.15 1530.59 1915.15 1536.03 Q1915.15 1541.36 1912 1544.57 Q1908.86 1547.79 1903.62 1547.79 Q1897.63 1547.79 1894.46 1543.21 Q1891.29 1538.6 1891.29 1529.87 Q1891.29 1521.68 1895.17 1516.82 Q1899.06 1511.93 1905.61 1511.93 Q1907.37 1511.93 1909.16 1512.28 Q1910.96 1512.63 1912.91 1513.32 Z\" fill=\"#000000\" fill-rule=\"evenodd\" fill-opacity=\"1\" /><path clip-path=\"url(#clip230)\" d=\"M 0 0 M2113.77 1530.71 Q2110.44 1530.71 2108.52 1532.49 Q2106.62 1534.27 2106.62 1537.4 Q2106.62 1540.52 2108.52 1542.31 Q2110.44 1544.09 2113.77 1544.09 Q2117.11 1544.09 2119.03 1542.31 Q2120.95 1540.5 2120.95 1537.4 Q2120.95 1534.27 2119.03 1532.49 Q2117.13 1530.71 2113.77 1530.71 M2109.1 1528.72 Q2106.09 1527.98 2104.4 1525.92 Q2102.73 1523.86 2102.73 1520.89 Q2102.73 1516.75 2105.67 1514.34 Q2108.64 1511.93 2113.77 1511.93 Q2118.94 1511.93 2121.88 1514.34 Q2124.82 1516.75 2124.82 1520.89 Q2124.82 1523.86 2123.13 1525.92 Q2121.46 1527.98 2118.47 1528.72 Q2121.85 1529.5 2123.73 1531.8 Q2125.63 1534.09 2125.63 1537.4 Q2125.63 1542.42 2122.55 1545.11 Q2119.49 1547.79 2113.77 1547.79 Q2108.06 1547.79 2104.98 1545.11 Q2101.92 1542.42 2101.92 1537.4 Q2101.92 1534.09 2103.82 1531.8 Q2105.72 1529.5 2109.1 1528.72 M2107.39 1521.33 Q2107.39 1524.02 2109.05 1525.52 Q2110.74 1527.03 2113.77 1527.03 Q2116.78 1527.03 2118.47 1525.52 Q2120.19 1524.02 2120.19 1521.33 Q2120.19 1518.65 2118.47 1517.14 Q2116.78 1515.64 2113.77 1515.64 Q2110.74 1515.64 2109.05 1517.14 Q2107.39 1518.65 2107.39 1521.33 Z\" fill=\"#000000\" fill-rule=\"evenodd\" fill-opacity=\"1\" /><path clip-path=\"url(#clip230)\" d=\"M 0 0 M2299.02 1543.18 L2306.66 1543.18 L2306.66 1516.82 L2298.35 1518.49 L2298.35 1514.23 L2306.61 1512.56 L2311.29 1512.56 L2311.29 1543.18 L2318.93 1543.18 L2318.93 1547.12 L2299.02 1547.12 L2299.02 1543.18 Z\" fill=\"#000000\" fill-rule=\"evenodd\" fill-opacity=\"1\" /><path clip-path=\"url(#clip230)\" d=\"M 0 0 M2338.37 1515.64 Q2334.76 1515.64 2332.93 1519.2 Q2331.12 1522.75 2331.12 1529.87 Q2331.12 1536.98 2332.93 1540.55 Q2334.76 1544.09 2338.37 1544.09 Q2342 1544.09 2343.81 1540.55 Q2345.64 1536.98 2345.64 1529.87 Q2345.64 1522.75 2343.81 1519.2 Q2342 1515.64 2338.37 1515.64 M2338.37 1511.93 Q2344.18 1511.93 2347.24 1516.54 Q2350.31 1521.12 2350.31 1529.87 Q2350.31 1538.6 2347.24 1543.21 Q2344.18 1547.79 2338.37 1547.79 Q2332.56 1547.79 2329.48 1543.21 Q2326.43 1538.6 2326.43 1529.87 Q2326.43 1521.12 2329.48 1516.54 Q2332.56 1511.93 2338.37 1511.93 Z\" fill=\"#000000\" fill-rule=\"evenodd\" fill-opacity=\"1\" /><polyline clip-path=\"url(#clip233)\" style=\"stroke:#000000; stroke-width:2; stroke-opacity:0.1; fill:none\" points=\"\n",
       "  1348.4,1445.72 2352.76,1445.72 \n",
       "  \"/>\n",
       "<polyline clip-path=\"url(#clip233)\" style=\"stroke:#000000; stroke-width:2; stroke-opacity:0.1; fill:none\" points=\"\n",
       "  1348.4,1150.89 2352.76,1150.89 \n",
       "  \"/>\n",
       "<polyline clip-path=\"url(#clip233)\" style=\"stroke:#000000; stroke-width:2; stroke-opacity:0.1; fill:none\" points=\"\n",
       "  1348.4,856.057 2352.76,856.057 \n",
       "  \"/>\n",
       "<polyline clip-path=\"url(#clip233)\" style=\"stroke:#000000; stroke-width:2; stroke-opacity:0.1; fill:none\" points=\"\n",
       "  1348.4,561.228 2352.76,561.228 \n",
       "  \"/>\n",
       "<polyline clip-path=\"url(#clip233)\" style=\"stroke:#000000; stroke-width:2; stroke-opacity:0.1; fill:none\" points=\"\n",
       "  1348.4,266.398 2352.76,266.398 \n",
       "  \"/>\n",
       "<polyline clip-path=\"url(#clip230)\" style=\"stroke:#000000; stroke-width:4; stroke-opacity:1; fill:none\" points=\"\n",
       "  1348.4,1486.45 1348.4,47.2441 \n",
       "  \"/>\n",
       "<polyline clip-path=\"url(#clip230)\" style=\"stroke:#000000; stroke-width:4; stroke-opacity:1; fill:none\" points=\"\n",
       "  1348.4,1445.72 1360.46,1445.72 \n",
       "  \"/>\n",
       "<polyline clip-path=\"url(#clip230)\" style=\"stroke:#000000; stroke-width:4; stroke-opacity:1; fill:none\" points=\"\n",
       "  1348.4,1150.89 1360.46,1150.89 \n",
       "  \"/>\n",
       "<polyline clip-path=\"url(#clip230)\" style=\"stroke:#000000; stroke-width:4; stroke-opacity:1; fill:none\" points=\"\n",
       "  1348.4,856.057 1360.46,856.057 \n",
       "  \"/>\n",
       "<polyline clip-path=\"url(#clip230)\" style=\"stroke:#000000; stroke-width:4; stroke-opacity:1; fill:none\" points=\"\n",
       "  1348.4,561.228 1360.46,561.228 \n",
       "  \"/>\n",
       "<polyline clip-path=\"url(#clip230)\" style=\"stroke:#000000; stroke-width:4; stroke-opacity:1; fill:none\" points=\"\n",
       "  1348.4,266.398 1360.46,266.398 \n",
       "  \"/>\n",
       "<path clip-path=\"url(#clip230)\" d=\"M 0 0 M1255.23 1431.51 Q1251.62 1431.51 1249.79 1435.08 Q1247.98 1438.62 1247.98 1445.75 Q1247.98 1452.86 1249.79 1456.42 Q1251.62 1459.96 1255.23 1459.96 Q1258.86 1459.96 1260.67 1456.42 Q1262.5 1452.86 1262.5 1445.75 Q1262.5 1438.62 1260.67 1435.08 Q1258.86 1431.51 1255.23 1431.51 M1255.23 1427.81 Q1261.04 1427.81 1264.09 1432.42 Q1267.17 1437 1267.17 1445.75 Q1267.17 1454.48 1264.09 1459.08 Q1261.04 1463.67 1255.23 1463.67 Q1249.42 1463.67 1246.34 1459.08 Q1243.28 1454.48 1243.28 1445.75 Q1243.28 1437 1246.34 1432.42 Q1249.42 1427.81 1255.23 1427.81 Z\" fill=\"#000000\" fill-rule=\"evenodd\" fill-opacity=\"1\" /><path clip-path=\"url(#clip230)\" d=\"M 0 0 M1275.39 1457.12 L1280.27 1457.12 L1280.27 1463 L1275.39 1463 L1275.39 1457.12 Z\" fill=\"#000000\" fill-rule=\"evenodd\" fill-opacity=\"1\" /><path clip-path=\"url(#clip230)\" d=\"M 0 0 M1300.46 1431.51 Q1296.85 1431.51 1295.02 1435.08 Q1293.21 1438.62 1293.21 1445.75 Q1293.21 1452.86 1295.02 1456.42 Q1296.85 1459.96 1300.46 1459.96 Q1304.09 1459.96 1305.9 1456.42 Q1307.73 1452.86 1307.73 1445.75 Q1307.73 1438.62 1305.9 1435.08 Q1304.09 1431.51 1300.46 1431.51 M1300.46 1427.81 Q1306.27 1427.81 1309.33 1432.42 Q1312.4 1437 1312.4 1445.75 Q1312.4 1454.48 1309.33 1459.08 Q1306.27 1463.67 1300.46 1463.67 Q1294.65 1463.67 1291.57 1459.08 Q1288.52 1454.48 1288.52 1445.75 Q1288.52 1437 1291.57 1432.42 Q1294.65 1427.81 1300.46 1427.81 Z\" fill=\"#000000\" fill-rule=\"evenodd\" fill-opacity=\"1\" /><path clip-path=\"url(#clip230)\" d=\"M 0 0 M1256.22 1136.69 Q1252.61 1136.69 1250.78 1140.25 Q1248.98 1143.79 1248.98 1150.92 Q1248.98 1158.03 1250.78 1161.59 Q1252.61 1165.13 1256.22 1165.13 Q1259.86 1165.13 1261.66 1161.59 Q1263.49 1158.03 1263.49 1150.92 Q1263.49 1143.79 1261.66 1140.25 Q1259.86 1136.69 1256.22 1136.69 M1256.22 1132.98 Q1262.03 1132.98 1265.09 1137.59 Q1268.17 1142.17 1268.17 1150.92 Q1268.17 1159.65 1265.09 1164.25 Q1262.03 1168.84 1256.22 1168.84 Q1250.41 1168.84 1247.33 1164.25 Q1244.28 1159.65 1244.28 1150.92 Q1244.28 1142.17 1247.33 1137.59 Q1250.41 1132.98 1256.22 1132.98 Z\" fill=\"#000000\" fill-rule=\"evenodd\" fill-opacity=\"1\" /><path clip-path=\"url(#clip230)\" d=\"M 0 0 M1276.39 1162.29 L1281.27 1162.29 L1281.27 1168.17 L1276.39 1168.17 L1276.39 1162.29 Z\" fill=\"#000000\" fill-rule=\"evenodd\" fill-opacity=\"1\" /><path clip-path=\"url(#clip230)\" d=\"M 0 0 M1291.5 1133.61 L1309.86 1133.61 L1309.86 1137.54 L1295.78 1137.54 L1295.78 1146.01 Q1296.8 1145.67 1297.82 1145.5 Q1298.84 1145.32 1299.86 1145.32 Q1305.64 1145.32 1309.02 1148.49 Q1312.4 1151.66 1312.4 1157.08 Q1312.4 1162.66 1308.93 1165.76 Q1305.46 1168.84 1299.14 1168.84 Q1296.96 1168.84 1294.7 1168.47 Q1292.45 1168.1 1290.04 1167.36 L1290.04 1162.66 Q1292.13 1163.79 1294.35 1164.35 Q1296.57 1164.9 1299.05 1164.9 Q1303.05 1164.9 1305.39 1162.8 Q1307.73 1160.69 1307.73 1157.08 Q1307.73 1153.47 1305.39 1151.36 Q1303.05 1149.25 1299.05 1149.25 Q1297.17 1149.25 1295.3 1149.67 Q1293.45 1150.09 1291.5 1150.97 L1291.5 1133.61 Z\" fill=\"#000000\" fill-rule=\"evenodd\" fill-opacity=\"1\" /><path clip-path=\"url(#clip230)\" d=\"M 0 0 M1246.04 869.402 L1253.68 869.402 L1253.68 843.036 L1245.37 844.703 L1245.37 840.444 L1253.63 838.777 L1258.31 838.777 L1258.31 869.402 L1265.95 869.402 L1265.95 873.337 L1246.04 873.337 L1246.04 869.402 Z\" fill=\"#000000\" fill-rule=\"evenodd\" fill-opacity=\"1\" /><path clip-path=\"url(#clip230)\" d=\"M 0 0 M1275.39 867.457 L1280.27 867.457 L1280.27 873.337 L1275.39 873.337 L1275.39 867.457 Z\" fill=\"#000000\" fill-rule=\"evenodd\" fill-opacity=\"1\" /><path clip-path=\"url(#clip230)\" d=\"M 0 0 M1300.46 841.856 Q1296.85 841.856 1295.02 845.42 Q1293.21 848.962 1293.21 856.092 Q1293.21 863.198 1295.02 866.763 Q1296.85 870.305 1300.46 870.305 Q1304.09 870.305 1305.9 866.763 Q1307.73 863.198 1307.73 856.092 Q1307.73 848.962 1305.9 845.42 Q1304.09 841.856 1300.46 841.856 M1300.46 838.152 Q1306.27 838.152 1309.33 842.758 Q1312.4 847.342 1312.4 856.092 Q1312.4 864.818 1309.33 869.425 Q1306.27 874.008 1300.46 874.008 Q1294.65 874.008 1291.57 869.425 Q1288.52 864.818 1288.52 856.092 Q1288.52 847.342 1291.57 842.758 Q1294.65 838.152 1300.46 838.152 Z\" fill=\"#000000\" fill-rule=\"evenodd\" fill-opacity=\"1\" /><path clip-path=\"url(#clip230)\" d=\"M 0 0 M1247.03 574.572 L1254.67 574.572 L1254.67 548.207 L1246.36 549.873 L1246.36 545.614 L1254.63 543.948 L1259.3 543.948 L1259.3 574.572 L1266.94 574.572 L1266.94 578.508 L1247.03 578.508 L1247.03 574.572 Z\" fill=\"#000000\" fill-rule=\"evenodd\" fill-opacity=\"1\" /><path clip-path=\"url(#clip230)\" d=\"M 0 0 M1276.39 572.628 L1281.27 572.628 L1281.27 578.508 L1276.39 578.508 L1276.39 572.628 Z\" fill=\"#000000\" fill-rule=\"evenodd\" fill-opacity=\"1\" /><path clip-path=\"url(#clip230)\" d=\"M 0 0 M1291.5 543.948 L1309.86 543.948 L1309.86 547.883 L1295.78 547.883 L1295.78 556.355 Q1296.8 556.008 1297.82 555.846 Q1298.84 555.66 1299.86 555.66 Q1305.64 555.66 1309.02 558.832 Q1312.4 562.003 1312.4 567.42 Q1312.4 572.998 1308.93 576.1 Q1305.46 579.179 1299.14 579.179 Q1296.96 579.179 1294.7 578.809 Q1292.45 578.438 1290.04 577.697 L1290.04 572.998 Q1292.13 574.133 1294.35 574.688 Q1296.57 575.244 1299.05 575.244 Q1303.05 575.244 1305.39 573.137 Q1307.73 571.031 1307.73 567.42 Q1307.73 563.809 1305.39 561.702 Q1303.05 559.596 1299.05 559.596 Q1297.17 559.596 1295.3 560.012 Q1293.45 560.429 1291.5 561.309 L1291.5 543.948 Z\" fill=\"#000000\" fill-rule=\"evenodd\" fill-opacity=\"1\" /><path clip-path=\"url(#clip230)\" d=\"M 0 0 M1249.26 279.743 L1265.58 279.743 L1265.58 283.678 L1243.63 283.678 L1243.63 279.743 Q1246.29 276.988 1250.88 272.359 Q1255.48 267.706 1256.66 266.363 Q1258.91 263.84 1259.79 262.104 Q1260.69 260.345 1260.69 258.655 Q1260.69 255.901 1258.75 254.164 Q1256.83 252.428 1253.72 252.428 Q1251.52 252.428 1249.07 253.192 Q1246.64 253.956 1243.86 255.507 L1243.86 250.785 Q1246.69 249.651 1249.14 249.072 Q1251.59 248.493 1253.63 248.493 Q1259 248.493 1262.2 251.178 Q1265.39 253.864 1265.39 258.354 Q1265.39 260.484 1264.58 262.405 Q1263.79 264.303 1261.69 266.896 Q1261.11 267.567 1258.01 270.785 Q1254.9 273.979 1249.26 279.743 Z\" fill=\"#000000\" fill-rule=\"evenodd\" fill-opacity=\"1\" /><path clip-path=\"url(#clip230)\" d=\"M 0 0 M1275.39 277.799 L1280.27 277.799 L1280.27 283.678 L1275.39 283.678 L1275.39 277.799 Z\" fill=\"#000000\" fill-rule=\"evenodd\" fill-opacity=\"1\" /><path clip-path=\"url(#clip230)\" d=\"M 0 0 M1300.46 252.197 Q1296.85 252.197 1295.02 255.762 Q1293.21 259.303 1293.21 266.433 Q1293.21 273.539 1295.02 277.104 Q1296.85 280.646 1300.46 280.646 Q1304.09 280.646 1305.9 277.104 Q1307.73 273.539 1307.73 266.433 Q1307.73 259.303 1305.9 255.762 Q1304.09 252.197 1300.46 252.197 M1300.46 248.493 Q1306.27 248.493 1309.33 253.1 Q1312.4 257.683 1312.4 266.433 Q1312.4 275.16 1309.33 279.766 Q1306.27 284.35 1300.46 284.35 Q1294.65 284.35 1291.57 279.766 Q1288.52 275.16 1288.52 266.433 Q1288.52 257.683 1291.57 253.1 Q1294.65 248.493 1300.46 248.493 Z\" fill=\"#000000\" fill-rule=\"evenodd\" fill-opacity=\"1\" /><circle clip-path=\"url(#clip233)\" cx=\"1376.83\" cy=\"1445.72\" r=\"14\" fill=\"#0000ff\" fill-rule=\"evenodd\" fill-opacity=\"1\" stroke=\"#000000\" stroke-opacity=\"1\" stroke-width=\"3.2\"/>\n",
       "<circle clip-path=\"url(#clip233)\" cx=\"1482.11\" cy=\"1037\" r=\"14\" fill=\"#0000ff\" fill-rule=\"evenodd\" fill-opacity=\"1\" stroke=\"#000000\" stroke-opacity=\"1\" stroke-width=\"3.2\"/>\n",
       "<circle clip-path=\"url(#clip233)\" cx=\"1587.38\" cy=\"797.909\" r=\"14\" fill=\"#0000ff\" fill-rule=\"evenodd\" fill-opacity=\"1\" stroke=\"#000000\" stroke-opacity=\"1\" stroke-width=\"3.2\"/>\n",
       "<circle clip-path=\"url(#clip233)\" cx=\"1692.66\" cy=\"628.275\" r=\"14\" fill=\"#0000ff\" fill-rule=\"evenodd\" fill-opacity=\"1\" stroke=\"#000000\" stroke-opacity=\"1\" stroke-width=\"3.2\"/>\n",
       "<circle clip-path=\"url(#clip233)\" cx=\"1797.94\" cy=\"496.697\" r=\"14\" fill=\"#0000ff\" fill-rule=\"evenodd\" fill-opacity=\"1\" stroke=\"#000000\" stroke-opacity=\"1\" stroke-width=\"3.2\"/>\n",
       "<circle clip-path=\"url(#clip233)\" cx=\"1903.22\" cy=\"389.189\" r=\"14\" fill=\"#0000ff\" fill-rule=\"evenodd\" fill-opacity=\"1\" stroke=\"#000000\" stroke-opacity=\"1\" stroke-width=\"3.2\"/>\n",
       "<circle clip-path=\"url(#clip233)\" cx=\"2008.5\" cy=\"298.293\" r=\"14\" fill=\"#0000ff\" fill-rule=\"evenodd\" fill-opacity=\"1\" stroke=\"#000000\" stroke-opacity=\"1\" stroke-width=\"3.2\"/>\n",
       "<circle clip-path=\"url(#clip233)\" cx=\"2113.77\" cy=\"219.555\" r=\"14\" fill=\"#0000ff\" fill-rule=\"evenodd\" fill-opacity=\"1\" stroke=\"#000000\" stroke-opacity=\"1\" stroke-width=\"3.2\"/>\n",
       "<circle clip-path=\"url(#clip233)\" cx=\"2219.05\" cy=\"150.103\" r=\"14\" fill=\"#0000ff\" fill-rule=\"evenodd\" fill-opacity=\"1\" stroke=\"#000000\" stroke-opacity=\"1\" stroke-width=\"3.2\"/>\n",
       "<circle clip-path=\"url(#clip233)\" cx=\"2324.33\" cy=\"87.9763\" r=\"14\" fill=\"#0000ff\" fill-rule=\"evenodd\" fill-opacity=\"1\" stroke=\"#000000\" stroke-opacity=\"1\" stroke-width=\"3.2\"/>\n",
       "<path clip-path=\"url(#clip230)\" d=\"\n",
       "M2155.62 216.178 L2319.28 216.178 L2319.28 95.2176 L2155.62 95.2176  Z\n",
       "  \" fill=\"#ffffff\" fill-rule=\"evenodd\" fill-opacity=\"1\"/>\n",
       "<polyline clip-path=\"url(#clip230)\" style=\"stroke:#000000; stroke-width:4; stroke-opacity:1; fill:none\" points=\"\n",
       "  2155.62,216.178 2319.28,216.178 2319.28,95.2176 2155.62,95.2176 2155.62,216.178 \n",
       "  \"/>\n",
       "<circle clip-path=\"url(#clip230)\" cx=\"2200.26\" cy=\"155.698\" r=\"23\" fill=\"#0000ff\" fill-rule=\"evenodd\" fill-opacity=\"1\" stroke=\"#000000\" stroke-opacity=\"1\" stroke-width=\"5.12\"/>\n",
       "<path clip-path=\"url(#clip230)\" d=\"M 0 0 M2258.74 175.385 Q2256.94 180.015 2255.22 181.427 Q2253.51 182.839 2250.64 182.839 L2247.24 182.839 L2247.24 179.274 L2249.74 179.274 Q2251.5 179.274 2252.47 178.44 Q2253.44 177.607 2254.62 174.505 L2255.38 172.561 L2244.9 147.052 L2249.41 147.052 L2257.51 167.329 L2265.62 147.052 L2270.13 147.052 L2258.74 175.385 Z\" fill=\"#000000\" fill-rule=\"evenodd\" fill-opacity=\"1\" /><path clip-path=\"url(#clip230)\" d=\"M 0 0 M2280.64 169.042 L2296.96 169.042 L2296.96 172.978 L2275.01 172.978 L2275.01 169.042 Q2277.68 166.288 2282.26 161.658 Q2286.87 157.005 2288.05 155.663 Q2290.29 153.14 2291.17 151.404 Q2292.07 149.644 2292.07 147.955 Q2292.07 145.2 2290.13 143.464 Q2288.21 141.728 2285.11 141.728 Q2282.91 141.728 2280.45 142.492 Q2278.02 143.255 2275.25 144.806 L2275.25 140.084 Q2278.07 138.95 2280.52 138.371 Q2282.98 137.793 2285.01 137.793 Q2290.38 137.793 2293.58 140.478 Q2296.77 143.163 2296.77 147.654 Q2296.77 149.783 2295.96 151.705 Q2295.18 153.603 2293.07 156.195 Q2292.49 156.867 2289.39 160.084 Q2286.29 163.279 2280.64 169.042 Z\" fill=\"#000000\" fill-rule=\"evenodd\" fill-opacity=\"1\" /></svg>\n"
      ]
     },
     "execution_count": 35,
     "metadata": {},
     "output_type": "execute_result"
    }
   ],
   "source": [
    "# użycie opcji layout\n",
    "scatter(df.a, [df.b, df.c],  colour = [:red :blue ], layout=2)"
   ]
  },
  {
   "cell_type": "code",
   "execution_count": 36,
   "metadata": {},
   "outputs": [
    {
     "data": {
      "image/svg+xml": [
       "<?xml version=\"1.0\" encoding=\"utf-8\"?>\n",
       "<svg xmlns=\"http://www.w3.org/2000/svg\" xmlns:xlink=\"http://www.w3.org/1999/xlink\" width=\"600\" height=\"400\" viewBox=\"0 0 2400 1600\">\n",
       "<defs>\n",
       "  <clipPath id=\"clip270\">\n",
       "    <rect x=\"0\" y=\"0\" width=\"2400\" height=\"1600\"/>\n",
       "  </clipPath>\n",
       "</defs>\n",
       "<path clip-path=\"url(#clip270)\" d=\"\n",
       "M0 1600 L2400 1600 L2400 0 L0 0  Z\n",
       "  \" fill=\"#ffffff\" fill-rule=\"evenodd\" fill-opacity=\"1\"/>\n",
       "<defs>\n",
       "  <clipPath id=\"clip271\">\n",
       "    <rect x=\"480\" y=\"0\" width=\"1681\" height=\"1600\"/>\n",
       "  </clipPath>\n",
       "</defs>\n",
       "<path clip-path=\"url(#clip270)\" d=\"\n",
       "M140.696 1486.45 L1145.05 1486.45 L1145.05 47.2441 L140.696 47.2441  Z\n",
       "  \" fill=\"#ffffff\" fill-rule=\"evenodd\" fill-opacity=\"1\"/>\n",
       "<defs>\n",
       "  <clipPath id=\"clip272\">\n",
       "    <rect x=\"140\" y=\"47\" width=\"1005\" height=\"1440\"/>\n",
       "  </clipPath>\n",
       "</defs>\n",
       "<polyline clip-path=\"url(#clip272)\" style=\"stroke:#000000; stroke-width:2; stroke-opacity:0.1; fill:none\" points=\"\n",
       "  274.399,1486.45 274.399,47.2441 \n",
       "  \"/>\n",
       "<polyline clip-path=\"url(#clip272)\" style=\"stroke:#000000; stroke-width:2; stroke-opacity:0.1; fill:none\" points=\"\n",
       "  484.955,1486.45 484.955,47.2441 \n",
       "  \"/>\n",
       "<polyline clip-path=\"url(#clip272)\" style=\"stroke:#000000; stroke-width:2; stroke-opacity:0.1; fill:none\" points=\"\n",
       "  695.511,1486.45 695.511,47.2441 \n",
       "  \"/>\n",
       "<polyline clip-path=\"url(#clip272)\" style=\"stroke:#000000; stroke-width:2; stroke-opacity:0.1; fill:none\" points=\"\n",
       "  906.067,1486.45 906.067,47.2441 \n",
       "  \"/>\n",
       "<polyline clip-path=\"url(#clip272)\" style=\"stroke:#000000; stroke-width:2; stroke-opacity:0.1; fill:none\" points=\"\n",
       "  1116.62,1486.45 1116.62,47.2441 \n",
       "  \"/>\n",
       "<polyline clip-path=\"url(#clip270)\" style=\"stroke:#000000; stroke-width:4; stroke-opacity:1; fill:none\" points=\"\n",
       "  140.696,1486.45 1145.05,1486.45 \n",
       "  \"/>\n",
       "<polyline clip-path=\"url(#clip270)\" style=\"stroke:#000000; stroke-width:4; stroke-opacity:1; fill:none\" points=\"\n",
       "  274.399,1486.45 274.399,1469.18 \n",
       "  \"/>\n",
       "<polyline clip-path=\"url(#clip270)\" style=\"stroke:#000000; stroke-width:4; stroke-opacity:1; fill:none\" points=\"\n",
       "  484.955,1486.45 484.955,1469.18 \n",
       "  \"/>\n",
       "<polyline clip-path=\"url(#clip270)\" style=\"stroke:#000000; stroke-width:4; stroke-opacity:1; fill:none\" points=\"\n",
       "  695.511,1486.45 695.511,1469.18 \n",
       "  \"/>\n",
       "<polyline clip-path=\"url(#clip270)\" style=\"stroke:#000000; stroke-width:4; stroke-opacity:1; fill:none\" points=\"\n",
       "  906.067,1486.45 906.067,1469.18 \n",
       "  \"/>\n",
       "<polyline clip-path=\"url(#clip270)\" style=\"stroke:#000000; stroke-width:4; stroke-opacity:1; fill:none\" points=\"\n",
       "  1116.62,1486.45 1116.62,1469.18 \n",
       "  \"/>\n",
       "<path clip-path=\"url(#clip270)\" d=\"M 0 0 M269.051 1543.18 L285.371 1543.18 L285.371 1547.12 L263.426 1547.12 L263.426 1543.18 Q266.088 1540.43 270.672 1535.8 Q275.278 1531.15 276.459 1529.81 Q278.704 1527.28 279.584 1525.55 Q280.487 1523.79 280.487 1522.1 Q280.487 1519.34 278.542 1517.61 Q276.621 1515.87 273.519 1515.87 Q271.32 1515.87 268.866 1516.63 Q266.436 1517.4 263.658 1518.95 L263.658 1514.23 Q266.482 1513.09 268.936 1512.51 Q271.389 1511.93 273.426 1511.93 Q278.797 1511.93 281.991 1514.62 Q285.186 1517.31 285.186 1521.8 Q285.186 1523.93 284.375 1525.85 Q283.588 1527.74 281.482 1530.34 Q280.903 1531.01 277.801 1534.23 Q274.7 1537.42 269.051 1543.18 Z\" fill=\"#000000\" fill-rule=\"evenodd\" fill-opacity=\"1\" /><path clip-path=\"url(#clip270)\" d=\"M 0 0 M487.964 1516.63 L476.158 1535.08 L487.964 1535.08 L487.964 1516.63 M486.737 1512.56 L492.617 1512.56 L492.617 1535.08 L497.547 1535.08 L497.547 1538.97 L492.617 1538.97 L492.617 1547.12 L487.964 1547.12 L487.964 1538.97 L472.362 1538.97 L472.362 1534.46 L486.737 1512.56 Z\" fill=\"#000000\" fill-rule=\"evenodd\" fill-opacity=\"1\" /><path clip-path=\"url(#clip270)\" d=\"M 0 0 M695.916 1527.98 Q692.768 1527.98 690.916 1530.13 Q689.087 1532.28 689.087 1536.03 Q689.087 1539.76 690.916 1541.93 Q692.768 1544.09 695.916 1544.09 Q699.064 1544.09 700.892 1541.93 Q702.744 1539.76 702.744 1536.03 Q702.744 1532.28 700.892 1530.13 Q699.064 1527.98 695.916 1527.98 M705.198 1513.32 L705.198 1517.58 Q703.439 1516.75 701.633 1516.31 Q699.851 1515.87 698.092 1515.87 Q693.462 1515.87 691.008 1519 Q688.578 1522.12 688.231 1528.44 Q689.596 1526.43 691.656 1525.36 Q693.717 1524.27 696.193 1524.27 Q701.402 1524.27 704.411 1527.44 Q707.443 1530.59 707.443 1536.03 Q707.443 1541.36 704.295 1544.57 Q701.147 1547.79 695.916 1547.79 Q689.92 1547.79 686.749 1543.21 Q683.578 1538.6 683.578 1529.87 Q683.578 1521.68 687.467 1516.82 Q691.356 1511.93 697.906 1511.93 Q699.666 1511.93 701.448 1512.28 Q703.254 1512.63 705.198 1513.32 Z\" fill=\"#000000\" fill-rule=\"evenodd\" fill-opacity=\"1\" /><path clip-path=\"url(#clip270)\" d=\"M 0 0 M906.067 1530.71 Q902.733 1530.71 900.812 1532.49 Q898.914 1534.27 898.914 1537.4 Q898.914 1540.52 900.812 1542.31 Q902.733 1544.09 906.067 1544.09 Q909.4 1544.09 911.321 1542.31 Q913.242 1540.5 913.242 1537.4 Q913.242 1534.27 911.321 1532.49 Q909.423 1530.71 906.067 1530.71 M901.391 1528.72 Q898.381 1527.98 896.692 1525.92 Q895.025 1523.86 895.025 1520.89 Q895.025 1516.75 897.965 1514.34 Q900.928 1511.93 906.067 1511.93 Q911.229 1511.93 914.168 1514.34 Q917.108 1516.75 917.108 1520.89 Q917.108 1523.86 915.418 1525.92 Q913.752 1527.98 910.766 1528.72 Q914.145 1529.5 916.02 1531.8 Q917.918 1534.09 917.918 1537.4 Q917.918 1542.42 914.84 1545.11 Q911.784 1547.79 906.067 1547.79 Q900.349 1547.79 897.27 1545.11 Q894.215 1542.42 894.215 1537.4 Q894.215 1534.09 896.113 1531.8 Q898.011 1529.5 901.391 1528.72 M899.678 1521.33 Q899.678 1524.02 901.344 1525.52 Q903.034 1527.03 906.067 1527.03 Q909.076 1527.03 910.766 1525.52 Q912.479 1524.02 912.479 1521.33 Q912.479 1518.65 910.766 1517.14 Q909.076 1515.64 906.067 1515.64 Q903.034 1515.64 901.344 1517.14 Q899.678 1518.65 899.678 1521.33 Z\" fill=\"#000000\" fill-rule=\"evenodd\" fill-opacity=\"1\" /><path clip-path=\"url(#clip270)\" d=\"M 0 0 M1091.31 1543.18 L1098.95 1543.18 L1098.95 1516.82 L1090.64 1518.49 L1090.64 1514.23 L1098.9 1512.56 L1103.58 1512.56 L1103.58 1543.18 L1111.22 1543.18 L1111.22 1547.12 L1091.31 1547.12 L1091.31 1543.18 Z\" fill=\"#000000\" fill-rule=\"evenodd\" fill-opacity=\"1\" /><path clip-path=\"url(#clip270)\" d=\"M 0 0 M1130.66 1515.64 Q1127.05 1515.64 1125.22 1519.2 Q1123.42 1522.75 1123.42 1529.87 Q1123.42 1536.98 1125.22 1540.55 Q1127.05 1544.09 1130.66 1544.09 Q1134.3 1544.09 1136.1 1540.55 Q1137.93 1536.98 1137.93 1529.87 Q1137.93 1522.75 1136.1 1519.2 Q1134.3 1515.64 1130.66 1515.64 M1130.66 1511.93 Q1136.47 1511.93 1139.53 1516.54 Q1142.61 1521.12 1142.61 1529.87 Q1142.61 1538.6 1139.53 1543.21 Q1136.47 1547.79 1130.66 1547.79 Q1124.85 1547.79 1121.77 1543.21 Q1118.72 1538.6 1118.72 1529.87 Q1118.72 1521.12 1121.77 1516.54 Q1124.85 1511.93 1130.66 1511.93 Z\" fill=\"#000000\" fill-rule=\"evenodd\" fill-opacity=\"1\" /><polyline clip-path=\"url(#clip272)\" style=\"stroke:#000000; stroke-width:2; stroke-opacity:0.1; fill:none\" points=\"\n",
       "  140.696,1219.43 1145.05,1219.43 \n",
       "  \"/>\n",
       "<polyline clip-path=\"url(#clip272)\" style=\"stroke:#000000; stroke-width:2; stroke-opacity:0.1; fill:none\" points=\"\n",
       "  140.696,842.276 1145.05,842.276 \n",
       "  \"/>\n",
       "<polyline clip-path=\"url(#clip272)\" style=\"stroke:#000000; stroke-width:2; stroke-opacity:0.1; fill:none\" points=\"\n",
       "  140.696,465.126 1145.05,465.126 \n",
       "  \"/>\n",
       "<polyline clip-path=\"url(#clip272)\" style=\"stroke:#000000; stroke-width:2; stroke-opacity:0.1; fill:none\" points=\"\n",
       "  140.696,87.9763 1145.05,87.9763 \n",
       "  \"/>\n",
       "<polyline clip-path=\"url(#clip270)\" style=\"stroke:#000000; stroke-width:4; stroke-opacity:1; fill:none\" points=\"\n",
       "  140.696,1486.45 140.696,47.2441 \n",
       "  \"/>\n",
       "<polyline clip-path=\"url(#clip270)\" style=\"stroke:#000000; stroke-width:4; stroke-opacity:1; fill:none\" points=\"\n",
       "  140.696,1219.43 152.748,1219.43 \n",
       "  \"/>\n",
       "<polyline clip-path=\"url(#clip270)\" style=\"stroke:#000000; stroke-width:4; stroke-opacity:1; fill:none\" points=\"\n",
       "  140.696,842.276 152.748,842.276 \n",
       "  \"/>\n",
       "<polyline clip-path=\"url(#clip270)\" style=\"stroke:#000000; stroke-width:4; stroke-opacity:1; fill:none\" points=\"\n",
       "  140.696,465.126 152.748,465.126 \n",
       "  \"/>\n",
       "<polyline clip-path=\"url(#clip270)\" style=\"stroke:#000000; stroke-width:4; stroke-opacity:1; fill:none\" points=\"\n",
       "  140.696,87.9763 152.748,87.9763 \n",
       "  \"/>\n",
       "<path clip-path=\"url(#clip270)\" d=\"M 0 0 M83.7929 1202.15 L102.149 1202.15 L102.149 1206.08 L88.0753 1206.08 L88.0753 1214.55 Q89.0938 1214.21 90.1123 1214.04 Q91.1308 1213.86 92.1493 1213.86 Q97.9363 1213.86 101.316 1217.03 Q104.696 1220.2 104.696 1225.62 Q104.696 1231.2 101.223 1234.3 Q97.7511 1237.38 91.4317 1237.38 Q89.2558 1237.38 86.9873 1237.01 Q84.7419 1236.64 82.3346 1235.9 L82.3346 1231.2 Q84.4179 1232.33 86.6401 1232.89 Q88.8623 1233.44 91.3391 1233.44 Q95.3437 1233.44 97.6817 1231.34 Q100.02 1229.23 100.02 1225.62 Q100.02 1222.01 97.6817 1219.9 Q95.3437 1217.79 91.3391 1217.79 Q89.4641 1217.79 87.5892 1218.21 Q85.7373 1218.63 83.7929 1219.51 L83.7929 1202.15 Z\" fill=\"#000000\" fill-rule=\"evenodd\" fill-opacity=\"1\" /><path clip-path=\"url(#clip270)\" d=\"M 0 0 M53.3995 855.621 L61.0384 855.621 L61.0384 829.255 L52.7282 830.922 L52.7282 826.663 L60.9921 824.996 L65.668 824.996 L65.668 855.621 L73.3068 855.621 L73.3068 859.556 L53.3995 859.556 L53.3995 855.621 Z\" fill=\"#000000\" fill-rule=\"evenodd\" fill-opacity=\"1\" /><path clip-path=\"url(#clip270)\" d=\"M 0 0 M92.7512 828.075 Q89.1401 828.075 87.3114 831.639 Q85.5058 835.181 85.5058 842.311 Q85.5058 849.417 87.3114 852.982 Q89.1401 856.524 92.7512 856.524 Q96.3854 856.524 98.1909 852.982 Q100.02 849.417 100.02 842.311 Q100.02 835.181 98.1909 831.639 Q96.3854 828.075 92.7512 828.075 M92.7512 824.371 Q98.5613 824.371 101.617 828.977 Q104.696 833.561 104.696 842.311 Q104.696 851.037 101.617 855.644 Q98.5613 860.227 92.7512 860.227 Q86.941 860.227 83.8623 855.644 Q80.8068 851.037 80.8068 842.311 Q80.8068 833.561 83.8623 828.977 Q86.941 824.371 92.7512 824.371 Z\" fill=\"#000000\" fill-rule=\"evenodd\" fill-opacity=\"1\" /><path clip-path=\"url(#clip270)\" d=\"M 0 0 M54.3949 478.471 L62.0337 478.471 L62.0337 452.105 L53.7236 453.772 L53.7236 449.513 L61.9874 447.846 L66.6633 447.846 L66.6633 478.471 L74.3022 478.471 L74.3022 482.406 L54.3949 482.406 L54.3949 478.471 Z\" fill=\"#000000\" fill-rule=\"evenodd\" fill-opacity=\"1\" /><path clip-path=\"url(#clip270)\" d=\"M 0 0 M83.7929 447.846 L102.149 447.846 L102.149 451.781 L88.0753 451.781 L88.0753 460.253 Q89.0938 459.906 90.1123 459.744 Q91.1308 459.559 92.1493 459.559 Q97.9363 459.559 101.316 462.73 Q104.696 465.902 104.696 471.318 Q104.696 476.897 101.223 479.999 Q97.7511 483.077 91.4317 483.077 Q89.2558 483.077 86.9873 482.707 Q84.7419 482.337 82.3346 481.596 L82.3346 476.897 Q84.4179 478.031 86.6401 478.587 Q88.8623 479.142 91.3391 479.142 Q95.3437 479.142 97.6817 477.036 Q100.02 474.929 100.02 471.318 Q100.02 467.707 97.6817 465.601 Q95.3437 463.494 91.3391 463.494 Q89.4641 463.494 87.5892 463.911 Q85.7373 464.328 83.7929 465.207 L83.7929 447.846 Z\" fill=\"#000000\" fill-rule=\"evenodd\" fill-opacity=\"1\" /><path clip-path=\"url(#clip270)\" d=\"M 0 0 M56.6171 101.321 L72.9365 101.321 L72.9365 105.256 L50.9921 105.256 L50.9921 101.321 Q53.6541 98.5665 58.2375 93.9369 Q62.8439 89.2841 64.0245 87.9416 Q66.2698 85.4184 67.1494 83.6823 Q68.0522 81.9231 68.0522 80.2333 Q68.0522 77.4786 66.1078 75.7425 Q64.1865 74.0064 61.0847 74.0064 Q58.8856 74.0064 56.4319 74.7703 Q54.0014 75.5342 51.2236 77.0851 L51.2236 72.3629 Q54.0477 71.2287 56.5014 70.65 Q58.955 70.0713 60.9921 70.0713 Q66.3624 70.0713 69.5568 72.7565 Q72.7513 75.4416 72.7513 79.9323 Q72.7513 82.062 71.9411 83.9832 Q71.1541 85.8814 69.0476 88.474 Q68.4689 89.1453 65.367 92.3628 Q62.2652 95.5573 56.6171 101.321 Z\" fill=\"#000000\" fill-rule=\"evenodd\" fill-opacity=\"1\" /><path clip-path=\"url(#clip270)\" d=\"M 0 0 M92.7512 73.775 Q89.1401 73.775 87.3114 77.3398 Q85.5058 80.8814 85.5058 88.011 Q85.5058 95.1174 87.3114 98.6822 Q89.1401 102.224 92.7512 102.224 Q96.3854 102.224 98.1909 98.6822 Q100.02 95.1174 100.02 88.011 Q100.02 80.8814 98.1909 77.3398 Q96.3854 73.775 92.7512 73.775 M92.7512 70.0713 Q98.5613 70.0713 101.617 74.6777 Q104.696 79.261 104.696 88.011 Q104.696 96.7378 101.617 101.344 Q98.5613 105.928 92.7512 105.928 Q86.941 105.928 83.8623 101.344 Q80.8068 96.7378 80.8068 88.011 Q80.8068 79.261 83.8623 74.6777 Q86.941 70.0713 92.7512 70.0713 Z\" fill=\"#000000\" fill-rule=\"evenodd\" fill-opacity=\"1\" /><circle clip-path=\"url(#clip272)\" cx=\"274.399\" cy=\"1294.86\" r=\"14\" fill=\"#ff0000\" fill-rule=\"evenodd\" fill-opacity=\"1\" stroke=\"#000000\" stroke-opacity=\"1\" stroke-width=\"3.2\"/>\n",
       "<circle clip-path=\"url(#clip272)\" cx=\"484.955\" cy=\"993.136\" r=\"14\" fill=\"#ff0000\" fill-rule=\"evenodd\" fill-opacity=\"1\" stroke=\"#000000\" stroke-opacity=\"1\" stroke-width=\"3.2\"/>\n",
       "<circle clip-path=\"url(#clip272)\" cx=\"695.511\" cy=\"691.416\" r=\"14\" fill=\"#ff0000\" fill-rule=\"evenodd\" fill-opacity=\"1\" stroke=\"#000000\" stroke-opacity=\"1\" stroke-width=\"3.2\"/>\n",
       "<circle clip-path=\"url(#clip272)\" cx=\"906.067\" cy=\"389.696\" r=\"14\" fill=\"#ff0000\" fill-rule=\"evenodd\" fill-opacity=\"1\" stroke=\"#000000\" stroke-opacity=\"1\" stroke-width=\"3.2\"/>\n",
       "<circle clip-path=\"url(#clip272)\" cx=\"1116.62\" cy=\"87.9763\" r=\"14\" fill=\"#ff0000\" fill-rule=\"evenodd\" fill-opacity=\"1\" stroke=\"#000000\" stroke-opacity=\"1\" stroke-width=\"3.2\"/>\n",
       "<circle clip-path=\"url(#clip272)\" cx=\"169.121\" cy=\"1445.72\" r=\"14\" fill=\"#008000\" fill-rule=\"evenodd\" fill-opacity=\"1\" stroke=\"#000000\" stroke-opacity=\"1\" stroke-width=\"3.2\"/>\n",
       "<circle clip-path=\"url(#clip272)\" cx=\"379.677\" cy=\"1144\" r=\"14\" fill=\"#008000\" fill-rule=\"evenodd\" fill-opacity=\"1\" stroke=\"#000000\" stroke-opacity=\"1\" stroke-width=\"3.2\"/>\n",
       "<circle clip-path=\"url(#clip272)\" cx=\"590.233\" cy=\"842.276\" r=\"14\" fill=\"#008000\" fill-rule=\"evenodd\" fill-opacity=\"1\" stroke=\"#000000\" stroke-opacity=\"1\" stroke-width=\"3.2\"/>\n",
       "<circle clip-path=\"url(#clip272)\" cx=\"800.789\" cy=\"540.556\" r=\"14\" fill=\"#008000\" fill-rule=\"evenodd\" fill-opacity=\"1\" stroke=\"#000000\" stroke-opacity=\"1\" stroke-width=\"3.2\"/>\n",
       "<circle clip-path=\"url(#clip272)\" cx=\"1011.34\" cy=\"238.836\" r=\"14\" fill=\"#008000\" fill-rule=\"evenodd\" fill-opacity=\"1\" stroke=\"#000000\" stroke-opacity=\"1\" stroke-width=\"3.2\"/>\n",
       "<path clip-path=\"url(#clip270)\" d=\"\n",
       "M976.086 276.658 L1111.57 276.658 L1111.57 95.2176 L976.086 95.2176  Z\n",
       "  \" fill=\"#ffffff\" fill-rule=\"evenodd\" fill-opacity=\"1\"/>\n",
       "<polyline clip-path=\"url(#clip270)\" style=\"stroke:#000000; stroke-width:4; stroke-opacity:1; fill:none\" points=\"\n",
       "  976.086,276.658 1111.57,276.658 1111.57,95.2176 976.086,95.2176 976.086,276.658 \n",
       "  \"/>\n",
       "<circle clip-path=\"url(#clip270)\" cx=\"1020.72\" cy=\"155.698\" r=\"23\" fill=\"#ff0000\" fill-rule=\"evenodd\" fill-opacity=\"1\" stroke=\"#000000\" stroke-opacity=\"1\" stroke-width=\"5.12\"/>\n",
       "<path clip-path=\"url(#clip270)\" d=\"M 0 0 M1077.31 141.496 Q1073.69 141.496 1071.87 145.061 Q1070.06 148.603 1070.06 155.732 Q1070.06 162.839 1071.87 166.404 Q1073.69 169.945 1077.31 169.945 Q1080.94 169.945 1082.75 166.404 Q1084.57 162.839 1084.57 155.732 Q1084.57 148.603 1082.75 145.061 Q1080.94 141.496 1077.31 141.496 M1077.31 137.793 Q1083.12 137.793 1086.17 142.399 Q1089.25 146.982 1089.25 155.732 Q1089.25 164.459 1086.17 169.066 Q1083.12 173.649 1077.31 173.649 Q1071.5 173.649 1068.42 169.066 Q1065.36 164.459 1065.36 155.732 Q1065.36 146.982 1068.42 142.399 Q1071.5 137.793 1077.31 137.793 Z\" fill=\"#000000\" fill-rule=\"evenodd\" fill-opacity=\"1\" /><circle clip-path=\"url(#clip270)\" cx=\"1020.72\" cy=\"216.178\" r=\"23\" fill=\"#008000\" fill-rule=\"evenodd\" fill-opacity=\"1\" stroke=\"#000000\" stroke-opacity=\"1\" stroke-width=\"5.12\"/>\n",
       "<path clip-path=\"url(#clip270)\" d=\"M 0 0 M1066.03 229.522 L1073.67 229.522 L1073.67 203.157 L1065.36 204.823 L1065.36 200.564 L1073.63 198.898 L1078.3 198.898 L1078.3 229.522 L1085.94 229.522 L1085.94 233.458 L1066.03 233.458 L1066.03 229.522 Z\" fill=\"#000000\" fill-rule=\"evenodd\" fill-opacity=\"1\" /><path clip-path=\"url(#clip270)\" d=\"\n",
       "M1348.4 1486.45 L2352.76 1486.45 L2352.76 47.2441 L1348.4 47.2441  Z\n",
       "  \" fill=\"#ffffff\" fill-rule=\"evenodd\" fill-opacity=\"1\"/>\n",
       "<defs>\n",
       "  <clipPath id=\"clip273\">\n",
       "    <rect x=\"1348\" y=\"47\" width=\"1005\" height=\"1440\"/>\n",
       "  </clipPath>\n",
       "</defs>\n",
       "<polyline clip-path=\"url(#clip273)\" style=\"stroke:#000000; stroke-width:2; stroke-opacity:0.1; fill:none\" points=\"\n",
       "  1482.11,1486.45 1482.11,47.2441 \n",
       "  \"/>\n",
       "<polyline clip-path=\"url(#clip273)\" style=\"stroke:#000000; stroke-width:2; stroke-opacity:0.1; fill:none\" points=\"\n",
       "  1692.66,1486.45 1692.66,47.2441 \n",
       "  \"/>\n",
       "<polyline clip-path=\"url(#clip273)\" style=\"stroke:#000000; stroke-width:2; stroke-opacity:0.1; fill:none\" points=\"\n",
       "  1903.22,1486.45 1903.22,47.2441 \n",
       "  \"/>\n",
       "<polyline clip-path=\"url(#clip273)\" style=\"stroke:#000000; stroke-width:2; stroke-opacity:0.1; fill:none\" points=\"\n",
       "  2113.77,1486.45 2113.77,47.2441 \n",
       "  \"/>\n",
       "<polyline clip-path=\"url(#clip273)\" style=\"stroke:#000000; stroke-width:2; stroke-opacity:0.1; fill:none\" points=\"\n",
       "  2324.33,1486.45 2324.33,47.2441 \n",
       "  \"/>\n",
       "<polyline clip-path=\"url(#clip270)\" style=\"stroke:#000000; stroke-width:4; stroke-opacity:1; fill:none\" points=\"\n",
       "  1348.4,1486.45 2352.76,1486.45 \n",
       "  \"/>\n",
       "<polyline clip-path=\"url(#clip270)\" style=\"stroke:#000000; stroke-width:4; stroke-opacity:1; fill:none\" points=\"\n",
       "  1482.11,1486.45 1482.11,1469.18 \n",
       "  \"/>\n",
       "<polyline clip-path=\"url(#clip270)\" style=\"stroke:#000000; stroke-width:4; stroke-opacity:1; fill:none\" points=\"\n",
       "  1692.66,1486.45 1692.66,1469.18 \n",
       "  \"/>\n",
       "<polyline clip-path=\"url(#clip270)\" style=\"stroke:#000000; stroke-width:4; stroke-opacity:1; fill:none\" points=\"\n",
       "  1903.22,1486.45 1903.22,1469.18 \n",
       "  \"/>\n",
       "<polyline clip-path=\"url(#clip270)\" style=\"stroke:#000000; stroke-width:4; stroke-opacity:1; fill:none\" points=\"\n",
       "  2113.77,1486.45 2113.77,1469.18 \n",
       "  \"/>\n",
       "<polyline clip-path=\"url(#clip270)\" style=\"stroke:#000000; stroke-width:4; stroke-opacity:1; fill:none\" points=\"\n",
       "  2324.33,1486.45 2324.33,1469.18 \n",
       "  \"/>\n",
       "<path clip-path=\"url(#clip270)\" d=\"M 0 0 M1476.76 1543.18 L1493.08 1543.18 L1493.08 1547.12 L1471.13 1547.12 L1471.13 1543.18 Q1473.8 1540.43 1478.38 1535.8 Q1482.99 1531.15 1484.17 1529.81 Q1486.41 1527.28 1487.29 1525.55 Q1488.19 1523.79 1488.19 1522.1 Q1488.19 1519.34 1486.25 1517.61 Q1484.33 1515.87 1481.23 1515.87 Q1479.03 1515.87 1476.57 1516.63 Q1474.14 1517.4 1471.37 1518.95 L1471.37 1514.23 Q1474.19 1513.09 1476.64 1512.51 Q1479.1 1511.93 1481.13 1511.93 Q1486.51 1511.93 1489.7 1514.62 Q1492.89 1517.31 1492.89 1521.8 Q1492.89 1523.93 1492.08 1525.85 Q1491.3 1527.74 1489.19 1530.34 Q1488.61 1531.01 1485.51 1534.23 Q1482.41 1537.42 1476.76 1543.18 Z\" fill=\"#000000\" fill-rule=\"evenodd\" fill-opacity=\"1\" /><path clip-path=\"url(#clip270)\" d=\"M 0 0 M1695.67 1516.63 L1683.87 1535.08 L1695.67 1535.08 L1695.67 1516.63 M1694.45 1512.56 L1700.32 1512.56 L1700.32 1535.08 L1705.26 1535.08 L1705.26 1538.97 L1700.32 1538.97 L1700.32 1547.12 L1695.67 1547.12 L1695.67 1538.97 L1680.07 1538.97 L1680.07 1534.46 L1694.45 1512.56 Z\" fill=\"#000000\" fill-rule=\"evenodd\" fill-opacity=\"1\" /><path clip-path=\"url(#clip270)\" d=\"M 0 0 M1903.62 1527.98 Q1900.48 1527.98 1898.62 1530.13 Q1896.8 1532.28 1896.8 1536.03 Q1896.8 1539.76 1898.62 1541.93 Q1900.48 1544.09 1903.62 1544.09 Q1906.77 1544.09 1908.6 1541.93 Q1910.45 1539.76 1910.45 1536.03 Q1910.45 1532.28 1908.6 1530.13 Q1906.77 1527.98 1903.62 1527.98 M1912.91 1513.32 L1912.91 1517.58 Q1911.15 1516.75 1909.34 1516.31 Q1907.56 1515.87 1905.8 1515.87 Q1901.17 1515.87 1898.72 1519 Q1896.29 1522.12 1895.94 1528.44 Q1897.3 1526.43 1899.36 1525.36 Q1901.42 1524.27 1903.9 1524.27 Q1909.11 1524.27 1912.12 1527.44 Q1915.15 1530.59 1915.15 1536.03 Q1915.15 1541.36 1912 1544.57 Q1908.86 1547.79 1903.62 1547.79 Q1897.63 1547.79 1894.46 1543.21 Q1891.29 1538.6 1891.29 1529.87 Q1891.29 1521.68 1895.17 1516.82 Q1899.06 1511.93 1905.61 1511.93 Q1907.37 1511.93 1909.16 1512.28 Q1910.96 1512.63 1912.91 1513.32 Z\" fill=\"#000000\" fill-rule=\"evenodd\" fill-opacity=\"1\" /><path clip-path=\"url(#clip270)\" d=\"M 0 0 M2113.77 1530.71 Q2110.44 1530.71 2108.52 1532.49 Q2106.62 1534.27 2106.62 1537.4 Q2106.62 1540.52 2108.52 1542.31 Q2110.44 1544.09 2113.77 1544.09 Q2117.11 1544.09 2119.03 1542.31 Q2120.95 1540.5 2120.95 1537.4 Q2120.95 1534.27 2119.03 1532.49 Q2117.13 1530.71 2113.77 1530.71 M2109.1 1528.72 Q2106.09 1527.98 2104.4 1525.92 Q2102.73 1523.86 2102.73 1520.89 Q2102.73 1516.75 2105.67 1514.34 Q2108.64 1511.93 2113.77 1511.93 Q2118.94 1511.93 2121.88 1514.34 Q2124.82 1516.75 2124.82 1520.89 Q2124.82 1523.86 2123.13 1525.92 Q2121.46 1527.98 2118.47 1528.72 Q2121.85 1529.5 2123.73 1531.8 Q2125.63 1534.09 2125.63 1537.4 Q2125.63 1542.42 2122.55 1545.11 Q2119.49 1547.79 2113.77 1547.79 Q2108.06 1547.79 2104.98 1545.11 Q2101.92 1542.42 2101.92 1537.4 Q2101.92 1534.09 2103.82 1531.8 Q2105.72 1529.5 2109.1 1528.72 M2107.39 1521.33 Q2107.39 1524.02 2109.05 1525.52 Q2110.74 1527.03 2113.77 1527.03 Q2116.78 1527.03 2118.47 1525.52 Q2120.19 1524.02 2120.19 1521.33 Q2120.19 1518.65 2118.47 1517.14 Q2116.78 1515.64 2113.77 1515.64 Q2110.74 1515.64 2109.05 1517.14 Q2107.39 1518.65 2107.39 1521.33 Z\" fill=\"#000000\" fill-rule=\"evenodd\" fill-opacity=\"1\" /><path clip-path=\"url(#clip270)\" d=\"M 0 0 M2299.02 1543.18 L2306.66 1543.18 L2306.66 1516.82 L2298.35 1518.49 L2298.35 1514.23 L2306.61 1512.56 L2311.29 1512.56 L2311.29 1543.18 L2318.93 1543.18 L2318.93 1547.12 L2299.02 1547.12 L2299.02 1543.18 Z\" fill=\"#000000\" fill-rule=\"evenodd\" fill-opacity=\"1\" /><path clip-path=\"url(#clip270)\" d=\"M 0 0 M2338.37 1515.64 Q2334.76 1515.64 2332.93 1519.2 Q2331.12 1522.75 2331.12 1529.87 Q2331.12 1536.98 2332.93 1540.55 Q2334.76 1544.09 2338.37 1544.09 Q2342 1544.09 2343.81 1540.55 Q2345.64 1536.98 2345.64 1529.87 Q2345.64 1522.75 2343.81 1519.2 Q2342 1515.64 2338.37 1515.64 M2338.37 1511.93 Q2344.18 1511.93 2347.24 1516.54 Q2350.31 1521.12 2350.31 1529.87 Q2350.31 1538.6 2347.24 1543.21 Q2344.18 1547.79 2338.37 1547.79 Q2332.56 1547.79 2329.48 1543.21 Q2326.43 1538.6 2326.43 1529.87 Q2326.43 1521.12 2329.48 1516.54 Q2332.56 1511.93 2338.37 1511.93 Z\" fill=\"#000000\" fill-rule=\"evenodd\" fill-opacity=\"1\" /><polyline clip-path=\"url(#clip273)\" style=\"stroke:#000000; stroke-width:2; stroke-opacity:0.1; fill:none\" points=\"\n",
       "  1348.4,1445.72 2352.76,1445.72 \n",
       "  \"/>\n",
       "<polyline clip-path=\"url(#clip273)\" style=\"stroke:#000000; stroke-width:2; stroke-opacity:0.1; fill:none\" points=\"\n",
       "  1348.4,1150.89 2352.76,1150.89 \n",
       "  \"/>\n",
       "<polyline clip-path=\"url(#clip273)\" style=\"stroke:#000000; stroke-width:2; stroke-opacity:0.1; fill:none\" points=\"\n",
       "  1348.4,856.057 2352.76,856.057 \n",
       "  \"/>\n",
       "<polyline clip-path=\"url(#clip273)\" style=\"stroke:#000000; stroke-width:2; stroke-opacity:0.1; fill:none\" points=\"\n",
       "  1348.4,561.228 2352.76,561.228 \n",
       "  \"/>\n",
       "<polyline clip-path=\"url(#clip273)\" style=\"stroke:#000000; stroke-width:2; stroke-opacity:0.1; fill:none\" points=\"\n",
       "  1348.4,266.398 2352.76,266.398 \n",
       "  \"/>\n",
       "<polyline clip-path=\"url(#clip270)\" style=\"stroke:#000000; stroke-width:4; stroke-opacity:1; fill:none\" points=\"\n",
       "  1348.4,1486.45 1348.4,47.2441 \n",
       "  \"/>\n",
       "<polyline clip-path=\"url(#clip270)\" style=\"stroke:#000000; stroke-width:4; stroke-opacity:1; fill:none\" points=\"\n",
       "  1348.4,1445.72 1360.46,1445.72 \n",
       "  \"/>\n",
       "<polyline clip-path=\"url(#clip270)\" style=\"stroke:#000000; stroke-width:4; stroke-opacity:1; fill:none\" points=\"\n",
       "  1348.4,1150.89 1360.46,1150.89 \n",
       "  \"/>\n",
       "<polyline clip-path=\"url(#clip270)\" style=\"stroke:#000000; stroke-width:4; stroke-opacity:1; fill:none\" points=\"\n",
       "  1348.4,856.057 1360.46,856.057 \n",
       "  \"/>\n",
       "<polyline clip-path=\"url(#clip270)\" style=\"stroke:#000000; stroke-width:4; stroke-opacity:1; fill:none\" points=\"\n",
       "  1348.4,561.228 1360.46,561.228 \n",
       "  \"/>\n",
       "<polyline clip-path=\"url(#clip270)\" style=\"stroke:#000000; stroke-width:4; stroke-opacity:1; fill:none\" points=\"\n",
       "  1348.4,266.398 1360.46,266.398 \n",
       "  \"/>\n",
       "<path clip-path=\"url(#clip270)\" d=\"M 0 0 M1255.23 1431.51 Q1251.62 1431.51 1249.79 1435.08 Q1247.98 1438.62 1247.98 1445.75 Q1247.98 1452.86 1249.79 1456.42 Q1251.62 1459.96 1255.23 1459.96 Q1258.86 1459.96 1260.67 1456.42 Q1262.5 1452.86 1262.5 1445.75 Q1262.5 1438.62 1260.67 1435.08 Q1258.86 1431.51 1255.23 1431.51 M1255.23 1427.81 Q1261.04 1427.81 1264.09 1432.42 Q1267.17 1437 1267.17 1445.75 Q1267.17 1454.48 1264.09 1459.08 Q1261.04 1463.67 1255.23 1463.67 Q1249.42 1463.67 1246.34 1459.08 Q1243.28 1454.48 1243.28 1445.75 Q1243.28 1437 1246.34 1432.42 Q1249.42 1427.81 1255.23 1427.81 Z\" fill=\"#000000\" fill-rule=\"evenodd\" fill-opacity=\"1\" /><path clip-path=\"url(#clip270)\" d=\"M 0 0 M1275.39 1457.12 L1280.27 1457.12 L1280.27 1463 L1275.39 1463 L1275.39 1457.12 Z\" fill=\"#000000\" fill-rule=\"evenodd\" fill-opacity=\"1\" /><path clip-path=\"url(#clip270)\" d=\"M 0 0 M1300.46 1431.51 Q1296.85 1431.51 1295.02 1435.08 Q1293.21 1438.62 1293.21 1445.75 Q1293.21 1452.86 1295.02 1456.42 Q1296.85 1459.96 1300.46 1459.96 Q1304.09 1459.96 1305.9 1456.42 Q1307.73 1452.86 1307.73 1445.75 Q1307.73 1438.62 1305.9 1435.08 Q1304.09 1431.51 1300.46 1431.51 M1300.46 1427.81 Q1306.27 1427.81 1309.33 1432.42 Q1312.4 1437 1312.4 1445.75 Q1312.4 1454.48 1309.33 1459.08 Q1306.27 1463.67 1300.46 1463.67 Q1294.65 1463.67 1291.57 1459.08 Q1288.52 1454.48 1288.52 1445.75 Q1288.52 1437 1291.57 1432.42 Q1294.65 1427.81 1300.46 1427.81 Z\" fill=\"#000000\" fill-rule=\"evenodd\" fill-opacity=\"1\" /><path clip-path=\"url(#clip270)\" d=\"M 0 0 M1256.22 1136.69 Q1252.61 1136.69 1250.78 1140.25 Q1248.98 1143.79 1248.98 1150.92 Q1248.98 1158.03 1250.78 1161.59 Q1252.61 1165.13 1256.22 1165.13 Q1259.86 1165.13 1261.66 1161.59 Q1263.49 1158.03 1263.49 1150.92 Q1263.49 1143.79 1261.66 1140.25 Q1259.86 1136.69 1256.22 1136.69 M1256.22 1132.98 Q1262.03 1132.98 1265.09 1137.59 Q1268.17 1142.17 1268.17 1150.92 Q1268.17 1159.65 1265.09 1164.25 Q1262.03 1168.84 1256.22 1168.84 Q1250.41 1168.84 1247.33 1164.25 Q1244.28 1159.65 1244.28 1150.92 Q1244.28 1142.17 1247.33 1137.59 Q1250.41 1132.98 1256.22 1132.98 Z\" fill=\"#000000\" fill-rule=\"evenodd\" fill-opacity=\"1\" /><path clip-path=\"url(#clip270)\" d=\"M 0 0 M1276.39 1162.29 L1281.27 1162.29 L1281.27 1168.17 L1276.39 1168.17 L1276.39 1162.29 Z\" fill=\"#000000\" fill-rule=\"evenodd\" fill-opacity=\"1\" /><path clip-path=\"url(#clip270)\" d=\"M 0 0 M1291.5 1133.61 L1309.86 1133.61 L1309.86 1137.54 L1295.78 1137.54 L1295.78 1146.01 Q1296.8 1145.67 1297.82 1145.5 Q1298.84 1145.32 1299.86 1145.32 Q1305.64 1145.32 1309.02 1148.49 Q1312.4 1151.66 1312.4 1157.08 Q1312.4 1162.66 1308.93 1165.76 Q1305.46 1168.84 1299.14 1168.84 Q1296.96 1168.84 1294.7 1168.47 Q1292.45 1168.1 1290.04 1167.36 L1290.04 1162.66 Q1292.13 1163.79 1294.35 1164.35 Q1296.57 1164.9 1299.05 1164.9 Q1303.05 1164.9 1305.39 1162.8 Q1307.73 1160.69 1307.73 1157.08 Q1307.73 1153.47 1305.39 1151.36 Q1303.05 1149.25 1299.05 1149.25 Q1297.17 1149.25 1295.3 1149.67 Q1293.45 1150.09 1291.5 1150.97 L1291.5 1133.61 Z\" fill=\"#000000\" fill-rule=\"evenodd\" fill-opacity=\"1\" /><path clip-path=\"url(#clip270)\" d=\"M 0 0 M1246.04 869.402 L1253.68 869.402 L1253.68 843.036 L1245.37 844.703 L1245.37 840.444 L1253.63 838.777 L1258.31 838.777 L1258.31 869.402 L1265.95 869.402 L1265.95 873.337 L1246.04 873.337 L1246.04 869.402 Z\" fill=\"#000000\" fill-rule=\"evenodd\" fill-opacity=\"1\" /><path clip-path=\"url(#clip270)\" d=\"M 0 0 M1275.39 867.457 L1280.27 867.457 L1280.27 873.337 L1275.39 873.337 L1275.39 867.457 Z\" fill=\"#000000\" fill-rule=\"evenodd\" fill-opacity=\"1\" /><path clip-path=\"url(#clip270)\" d=\"M 0 0 M1300.46 841.856 Q1296.85 841.856 1295.02 845.42 Q1293.21 848.962 1293.21 856.092 Q1293.21 863.198 1295.02 866.763 Q1296.85 870.305 1300.46 870.305 Q1304.09 870.305 1305.9 866.763 Q1307.73 863.198 1307.73 856.092 Q1307.73 848.962 1305.9 845.42 Q1304.09 841.856 1300.46 841.856 M1300.46 838.152 Q1306.27 838.152 1309.33 842.758 Q1312.4 847.342 1312.4 856.092 Q1312.4 864.818 1309.33 869.425 Q1306.27 874.008 1300.46 874.008 Q1294.65 874.008 1291.57 869.425 Q1288.52 864.818 1288.52 856.092 Q1288.52 847.342 1291.57 842.758 Q1294.65 838.152 1300.46 838.152 Z\" fill=\"#000000\" fill-rule=\"evenodd\" fill-opacity=\"1\" /><path clip-path=\"url(#clip270)\" d=\"M 0 0 M1247.03 574.572 L1254.67 574.572 L1254.67 548.207 L1246.36 549.873 L1246.36 545.614 L1254.63 543.948 L1259.3 543.948 L1259.3 574.572 L1266.94 574.572 L1266.94 578.508 L1247.03 578.508 L1247.03 574.572 Z\" fill=\"#000000\" fill-rule=\"evenodd\" fill-opacity=\"1\" /><path clip-path=\"url(#clip270)\" d=\"M 0 0 M1276.39 572.628 L1281.27 572.628 L1281.27 578.508 L1276.39 578.508 L1276.39 572.628 Z\" fill=\"#000000\" fill-rule=\"evenodd\" fill-opacity=\"1\" /><path clip-path=\"url(#clip270)\" d=\"M 0 0 M1291.5 543.948 L1309.86 543.948 L1309.86 547.883 L1295.78 547.883 L1295.78 556.355 Q1296.8 556.008 1297.82 555.846 Q1298.84 555.66 1299.86 555.66 Q1305.64 555.66 1309.02 558.832 Q1312.4 562.003 1312.4 567.42 Q1312.4 572.998 1308.93 576.1 Q1305.46 579.179 1299.14 579.179 Q1296.96 579.179 1294.7 578.809 Q1292.45 578.438 1290.04 577.697 L1290.04 572.998 Q1292.13 574.133 1294.35 574.688 Q1296.57 575.244 1299.05 575.244 Q1303.05 575.244 1305.39 573.137 Q1307.73 571.031 1307.73 567.42 Q1307.73 563.809 1305.39 561.702 Q1303.05 559.596 1299.05 559.596 Q1297.17 559.596 1295.3 560.012 Q1293.45 560.429 1291.5 561.309 L1291.5 543.948 Z\" fill=\"#000000\" fill-rule=\"evenodd\" fill-opacity=\"1\" /><path clip-path=\"url(#clip270)\" d=\"M 0 0 M1249.26 279.743 L1265.58 279.743 L1265.58 283.678 L1243.63 283.678 L1243.63 279.743 Q1246.29 276.988 1250.88 272.359 Q1255.48 267.706 1256.66 266.363 Q1258.91 263.84 1259.79 262.104 Q1260.69 260.345 1260.69 258.655 Q1260.69 255.901 1258.75 254.164 Q1256.83 252.428 1253.72 252.428 Q1251.52 252.428 1249.07 253.192 Q1246.64 253.956 1243.86 255.507 L1243.86 250.785 Q1246.69 249.651 1249.14 249.072 Q1251.59 248.493 1253.63 248.493 Q1259 248.493 1262.2 251.178 Q1265.39 253.864 1265.39 258.354 Q1265.39 260.484 1264.58 262.405 Q1263.79 264.303 1261.69 266.896 Q1261.11 267.567 1258.01 270.785 Q1254.9 273.979 1249.26 279.743 Z\" fill=\"#000000\" fill-rule=\"evenodd\" fill-opacity=\"1\" /><path clip-path=\"url(#clip270)\" d=\"M 0 0 M1275.39 277.799 L1280.27 277.799 L1280.27 283.678 L1275.39 283.678 L1275.39 277.799 Z\" fill=\"#000000\" fill-rule=\"evenodd\" fill-opacity=\"1\" /><path clip-path=\"url(#clip270)\" d=\"M 0 0 M1300.46 252.197 Q1296.85 252.197 1295.02 255.762 Q1293.21 259.303 1293.21 266.433 Q1293.21 273.539 1295.02 277.104 Q1296.85 280.646 1300.46 280.646 Q1304.09 280.646 1305.9 277.104 Q1307.73 273.539 1307.73 266.433 Q1307.73 259.303 1305.9 255.762 Q1304.09 252.197 1300.46 252.197 M1300.46 248.493 Q1306.27 248.493 1309.33 253.1 Q1312.4 257.683 1312.4 266.433 Q1312.4 275.16 1309.33 279.766 Q1306.27 284.35 1300.46 284.35 Q1294.65 284.35 1291.57 279.766 Q1288.52 275.16 1288.52 266.433 Q1288.52 257.683 1291.57 253.1 Q1294.65 248.493 1300.46 248.493 Z\" fill=\"#000000\" fill-rule=\"evenodd\" fill-opacity=\"1\" /><circle clip-path=\"url(#clip273)\" cx=\"1482.11\" cy=\"1037\" r=\"14\" fill=\"#0000ff\" fill-rule=\"evenodd\" fill-opacity=\"1\" stroke=\"#000000\" stroke-opacity=\"1\" stroke-width=\"3.2\"/>\n",
       "<circle clip-path=\"url(#clip273)\" cx=\"1692.66\" cy=\"628.275\" r=\"14\" fill=\"#0000ff\" fill-rule=\"evenodd\" fill-opacity=\"1\" stroke=\"#000000\" stroke-opacity=\"1\" stroke-width=\"3.2\"/>\n",
       "<circle clip-path=\"url(#clip273)\" cx=\"1903.22\" cy=\"389.189\" r=\"14\" fill=\"#0000ff\" fill-rule=\"evenodd\" fill-opacity=\"1\" stroke=\"#000000\" stroke-opacity=\"1\" stroke-width=\"3.2\"/>\n",
       "<circle clip-path=\"url(#clip273)\" cx=\"2113.77\" cy=\"219.555\" r=\"14\" fill=\"#0000ff\" fill-rule=\"evenodd\" fill-opacity=\"1\" stroke=\"#000000\" stroke-opacity=\"1\" stroke-width=\"3.2\"/>\n",
       "<circle clip-path=\"url(#clip273)\" cx=\"2324.33\" cy=\"87.9763\" r=\"14\" fill=\"#0000ff\" fill-rule=\"evenodd\" fill-opacity=\"1\" stroke=\"#000000\" stroke-opacity=\"1\" stroke-width=\"3.2\"/>\n",
       "<circle clip-path=\"url(#clip273)\" cx=\"1376.83\" cy=\"1445.72\" r=\"14\" fill=\"#000000\" fill-rule=\"evenodd\" fill-opacity=\"1\" stroke=\"none\"/>\n",
       "<circle clip-path=\"url(#clip273)\" cx=\"1587.38\" cy=\"797.909\" r=\"14\" fill=\"#000000\" fill-rule=\"evenodd\" fill-opacity=\"1\" stroke=\"none\"/>\n",
       "<circle clip-path=\"url(#clip273)\" cx=\"1797.94\" cy=\"496.697\" r=\"14\" fill=\"#000000\" fill-rule=\"evenodd\" fill-opacity=\"1\" stroke=\"none\"/>\n",
       "<circle clip-path=\"url(#clip273)\" cx=\"2008.5\" cy=\"298.293\" r=\"14\" fill=\"#000000\" fill-rule=\"evenodd\" fill-opacity=\"1\" stroke=\"none\"/>\n",
       "<circle clip-path=\"url(#clip273)\" cx=\"2219.05\" cy=\"150.103\" r=\"14\" fill=\"#000000\" fill-rule=\"evenodd\" fill-opacity=\"1\" stroke=\"none\"/>\n",
       "<path clip-path=\"url(#clip270)\" d=\"\n",
       "M2183.79 276.658 L2319.28 276.658 L2319.28 95.2176 L2183.79 95.2176  Z\n",
       "  \" fill=\"#ffffff\" fill-rule=\"evenodd\" fill-opacity=\"1\"/>\n",
       "<polyline clip-path=\"url(#clip270)\" style=\"stroke:#000000; stroke-width:4; stroke-opacity:1; fill:none\" points=\"\n",
       "  2183.79,276.658 2319.28,276.658 2319.28,95.2176 2183.79,95.2176 2183.79,276.658 \n",
       "  \"/>\n",
       "<circle clip-path=\"url(#clip270)\" cx=\"2228.43\" cy=\"155.698\" r=\"23\" fill=\"#0000ff\" fill-rule=\"evenodd\" fill-opacity=\"1\" stroke=\"#000000\" stroke-opacity=\"1\" stroke-width=\"5.12\"/>\n",
       "<path clip-path=\"url(#clip270)\" d=\"M 0 0 M2285.01 141.496 Q2281.4 141.496 2279.57 145.061 Q2277.77 148.603 2277.77 155.732 Q2277.77 162.839 2279.57 166.404 Q2281.4 169.945 2285.01 169.945 Q2288.65 169.945 2290.45 166.404 Q2292.28 162.839 2292.28 155.732 Q2292.28 148.603 2290.45 145.061 Q2288.65 141.496 2285.01 141.496 M2285.01 137.793 Q2290.82 137.793 2293.88 142.399 Q2296.96 146.982 2296.96 155.732 Q2296.96 164.459 2293.88 169.066 Q2290.82 173.649 2285.01 173.649 Q2279.2 173.649 2276.13 169.066 Q2273.07 164.459 2273.07 155.732 Q2273.07 146.982 2276.13 142.399 Q2279.2 137.793 2285.01 137.793 Z\" fill=\"#000000\" fill-rule=\"evenodd\" fill-opacity=\"1\" /><circle clip-path=\"url(#clip270)\" cx=\"2228.43\" cy=\"216.178\" r=\"23\" fill=\"#000000\" fill-rule=\"evenodd\" fill-opacity=\"1\" stroke=\"none\"/>\n",
       "<path clip-path=\"url(#clip270)\" d=\"M 0 0 M2273.74 229.522 L2281.38 229.522 L2281.38 203.157 L2273.07 204.823 L2273.07 200.564 L2281.33 198.898 L2286.01 198.898 L2286.01 229.522 L2293.65 229.522 L2293.65 233.458 L2273.74 233.458 L2273.74 229.522 Z\" fill=\"#000000\" fill-rule=\"evenodd\" fill-opacity=\"1\" /></svg>\n"
      ]
     },
     "execution_count": 36,
     "metadata": {},
     "output_type": "execute_result"
    }
   ],
   "source": [
    "# użycie opcji layout i grup\n",
    "scatter(df.a, [df.b, df.c], group=df.e,  colour = [:red :blue :green :black], layout=2)"
   ]
  },
  {
   "cell_type": "markdown",
   "metadata": {},
   "source": [
    "### Zadanie \n",
    "- Napisać program w języku Julia do obliczania iloczynu skalarnego wektorów (<a href=\"https://docs.julialang.org/en/v1/stdlib/LinearAlgebra/#LinearAlgebra.dot\">LinearAlgebra.dot</a>) i mnożenia macierzy kwadratowej przez wektor z użyciem \n",
    "<a href=\"https://docs.julialang.org/en/v1/stdlib/LinearAlgebra/#Elementary-operations-1\">operatora *</a>.\n",
    "- Uruchomić i zmierzyć czasy działania obydwu funkcji - każdej dla różnych rozmiarów wektorów.  Dokonać 10 pomiarów dla każdego rozmiaru wektora.\n",
    "- Czasy działania powinny  być zapisywane do <b>jednego</b> pliku CSV. Należy zaplanować odpowiednią strukturę kolumn takiego pliku.\n",
    "- Wczytać dane z w/w pliku do <b>jednego</b> DataFrame w języku Julia. \n",
    "- Korzystająć z mechanizmów DataFrame w języku Julia obliczyć średnią i odchylenie standardowe, w taki sposób, aby narysować wykresy średnich czasów obliczenia operacji w zależności od rozmiaru wektora. Dodać słupki błędów do obydwu wykresów uzyskanych z obliczenia odchylenia standardowego. \n",
    "- Proszę poukładac wykresy  w tabelkę za pomocą  opcji layouts: https://docs.juliaplots.org/latest/layouts/#Simple-Layouts-1.\n",
    "- Należy zadbać o staranne podpisanie osi i wykresów."
   ]
  },
  {
   "cell_type": "markdown",
   "metadata": {},
   "source": [
    "### Rozwiązanie"
   ]
  },
  {
   "cell_type": "markdown",
   "metadata": {},
   "source": [
    "#### Funkcje:"
   ]
  },
  {
   "cell_type": "code",
   "execution_count": 37,
   "metadata": {},
   "outputs": [],
   "source": [
    "using LinearAlgebra"
   ]
  },
  {
   "cell_type": "code",
   "execution_count": 38,
   "metadata": {},
   "outputs": [
    {
     "data": {
      "text/plain": [
       "dot_product (generic function with 1 method)"
      ]
     },
     "execution_count": 38,
     "metadata": {},
     "output_type": "execute_result"
    }
   ],
   "source": [
    "function dot_product(x,y)\n",
    "    return dot(x,y)\n",
    "end"
   ]
  },
  {
   "cell_type": "code",
   "execution_count": 39,
   "metadata": {},
   "outputs": [
    {
     "data": {
      "text/plain": [
       "26"
      ]
     },
     "execution_count": 39,
     "metadata": {},
     "output_type": "execute_result"
    }
   ],
   "source": [
    "x = [1,2,3]\n",
    "y = [3,4,5]\n",
    "dot_product(x,y)"
   ]
  },
  {
   "cell_type": "code",
   "execution_count": 40,
   "metadata": {},
   "outputs": [
    {
     "data": {
      "text/plain": [
       "scalar_times_matrix (generic function with 1 method)"
      ]
     },
     "execution_count": 40,
     "metadata": {},
     "output_type": "execute_result"
    }
   ],
   "source": [
    "function scalar_times_matrix(scalar, m)\n",
    "    return scalar * m\n",
    "end"
   ]
  },
  {
   "cell_type": "code",
   "execution_count": 41,
   "metadata": {},
   "outputs": [
    {
     "data": {
      "text/plain": [
       "2×2 Matrix{Int64}:\n",
       "  6  30\n",
       " 18  12"
      ]
     },
     "execution_count": 41,
     "metadata": {},
     "output_type": "execute_result"
    }
   ],
   "source": [
    "m1 = [1 5 ; 3 2]\n",
    "scalar1 = 6\n",
    "scalar_times_matrix(scalar1, m1)"
   ]
  },
  {
   "cell_type": "markdown",
   "metadata": {},
   "source": [
    "#### time tests:"
   ]
  },
  {
   "cell_type": "code",
   "execution_count": 42,
   "metadata": {},
   "outputs": [
    {
     "name": "stdout",
     "output_type": "stream",
     "text": [
      "  0.000007 seconds\n",
      "  0.000006 seconds (1 allocation: 112 bytes)\n"
     ]
    },
    {
     "data": {
      "text/plain": [
       "2×2 Matrix{Int64}:\n",
       "  6  30\n",
       " 18  12"
      ]
     },
     "execution_count": 42,
     "metadata": {},
     "output_type": "execute_result"
    }
   ],
   "source": [
    "@time dot_product(x,y)\n",
    "@time scalar_times_matrix(scalar1, m1)"
   ]
  },
  {
   "cell_type": "code",
   "execution_count": 43,
   "metadata": {},
   "outputs": [
    {
     "data": {
      "text/plain": [
       "10-element Vector{Float64}:\n",
       " 0.7774776205098035\n",
       " 0.20784164944926875\n",
       " 0.059802877415563005\n",
       " 0.8301378268588422\n",
       " 0.5216493040656531\n",
       " 0.3819159597971895\n",
       " 0.6921455222680328\n",
       " 0.5263696259177186\n",
       " 0.6069766390646563\n",
       " 0.8127336627815571"
      ]
     },
     "execution_count": 43,
     "metadata": {},
     "output_type": "execute_result"
    }
   ],
   "source": [
    "rand(10)"
   ]
  },
  {
   "cell_type": "code",
   "execution_count": 44,
   "metadata": {},
   "outputs": [
    {
     "data": {
      "text/plain": [
       "count_dot_product_timetest (generic function with 1 method)"
      ]
     },
     "execution_count": 44,
     "metadata": {},
     "output_type": "execute_result"
    }
   ],
   "source": [
    "function count_dot_product_timetest(range)\n",
    "    dot_p_time = []\n",
    "    for i=range\n",
    "    #     println(i)\n",
    "        x1 = rand(i)\n",
    "        y1 = rand(i)\n",
    "        push!(dot_p_time, @elapsed dot_product(x1,y1))\n",
    "    end\n",
    "    return dot_p_time\n",
    "end"
   ]
  },
  {
   "cell_type": "code",
   "execution_count": 45,
   "metadata": {},
   "outputs": [
    {
     "data": {
      "text/plain": [
       "10-element Vector{Any}:\n",
       " 8.562e-6\n",
       " 3.9e-7\n",
       " 5.8e-7\n",
       " 7.6e-7\n",
       " 7.51e-7\n",
       " 1.03e-6\n",
       " 1.18e-6\n",
       " 1.341e-6\n",
       " 1.48e-6\n",
       " 1.651e-6"
      ]
     },
     "execution_count": 45,
     "metadata": {},
     "output_type": "execute_result"
    }
   ],
   "source": [
    "count_dot_product_timetest(1000:1000:10000)"
   ]
  },
  {
   "cell_type": "code",
   "execution_count": 46,
   "metadata": {},
   "outputs": [
    {
     "data": {
      "text/plain": [
       "count_scalar_times_matrix_timetest (generic function with 1 method)"
      ]
     },
     "execution_count": 46,
     "metadata": {},
     "output_type": "execute_result"
    }
   ],
   "source": [
    "function count_scalar_times_matrix_timetest(range)\n",
    "    times = []\n",
    "    for i=range\n",
    "        m = [ rand(i) for j=1:i ]\n",
    "#         println(m)\n",
    "        push!( times, @elapsed scalar_times_matrix(rand(), m))\n",
    "    end\n",
    "    return times\n",
    "end"
   ]
  },
  {
   "cell_type": "code",
   "execution_count": 47,
   "metadata": {},
   "outputs": [
    {
     "data": {
      "text/plain": [
       "1-element Vector{Any}:\n",
       " 0.134573597"
      ]
     },
     "execution_count": 47,
     "metadata": {},
     "output_type": "execute_result"
    }
   ],
   "source": [
    "count_scalar_times_matrix_timetest(5:5:5)"
   ]
  },
  {
   "cell_type": "code",
   "execution_count": 48,
   "metadata": {},
   "outputs": [
    {
     "data": {
      "text/plain": [
       "10-element Vector{Any}:\n",
       " 0.003157389\n",
       " 0.008231497\n",
       " 0.020580391\n",
       " 0.070010096\n",
       " 0.053919771\n",
       " 0.074490543\n",
       " 0.175796645\n",
       " 0.133109901\n",
       " 0.167413201\n",
       " 0.21985914"
      ]
     },
     "execution_count": 48,
     "metadata": {},
     "output_type": "execute_result"
    }
   ],
   "source": [
    "count_scalar_times_matrix_timetest(1000:1000:10000)"
   ]
  },
  {
   "cell_type": "markdown",
   "metadata": {},
   "source": [
    "#### Building a data frame"
   ]
  },
  {
   "cell_type": "code",
   "execution_count": 49,
   "metadata": {},
   "outputs": [
    {
     "data": {
      "text/html": [
       "<table class=\"data-frame\"><thead><tr><th></th><th>length</th><th>dot</th><th>scalar</th></tr><tr><th></th><th>Int64</th><th>Any</th><th>Any</th></tr></thead><tbody><p>10 rows × 3 columns</p><tr><th>1</th><td>1000</td><td>1.981e-6</td><td>0.0024875</td></tr><tr><th>2</th><td>2000</td><td>6.1e-7</td><td>0.00994141</td></tr><tr><th>3</th><td>3000</td><td>8.5e-7</td><td>0.0105426</td></tr><tr><th>4</th><td>4000</td><td>1.04e-6</td><td>0.0180024</td></tr><tr><th>5</th><td>5000</td><td>1.39e-6</td><td>0.0277491</td></tr><tr><th>6</th><td>6000</td><td>1.32e-6</td><td>0.0727986</td></tr><tr><th>7</th><td>7000</td><td>1.67e-6</td><td>0.0725862</td></tr><tr><th>8</th><td>8000</td><td>1.92e-6</td><td>0.127017</td></tr><tr><th>9</th><td>9000</td><td>2.22e-6</td><td>0.123524</td></tr><tr><th>10</th><td>10000</td><td>2.321e-6</td><td>0.160555</td></tr></tbody></table>"
      ],
      "text/latex": [
       "\\begin{tabular}{r|ccc}\n",
       "\t& length & dot & scalar\\\\\n",
       "\t\\hline\n",
       "\t& Int64 & Any & Any\\\\\n",
       "\t\\hline\n",
       "\t1 & 1000 & 1.981e-6 & 0.0024875 \\\\\n",
       "\t2 & 2000 & 6.1e-7 & 0.00994141 \\\\\n",
       "\t3 & 3000 & 8.5e-7 & 0.0105426 \\\\\n",
       "\t4 & 4000 & 1.04e-6 & 0.0180024 \\\\\n",
       "\t5 & 5000 & 1.39e-6 & 0.0277491 \\\\\n",
       "\t6 & 6000 & 1.32e-6 & 0.0727986 \\\\\n",
       "\t7 & 7000 & 1.67e-6 & 0.0725862 \\\\\n",
       "\t8 & 8000 & 1.92e-6 & 0.127017 \\\\\n",
       "\t9 & 9000 & 2.22e-6 & 0.123524 \\\\\n",
       "\t10 & 10000 & 2.321e-6 & 0.160555 \\\\\n",
       "\\end{tabular}\n"
      ],
      "text/plain": [
       "\u001b[1m10×3 DataFrame\u001b[0m\n",
       "\u001b[1m Row \u001b[0m│\u001b[1m length \u001b[0m\u001b[1m dot      \u001b[0m\u001b[1m scalar     \u001b[0m\n",
       "\u001b[1m     \u001b[0m│\u001b[90m Int64  \u001b[0m\u001b[90m Any      \u001b[0m\u001b[90m Any        \u001b[0m\n",
       "─────┼──────────────────────────────\n",
       "   1 │   1000  1.981e-6  0.0024875\n",
       "   2 │   2000  6.1e-7    0.00994141\n",
       "   3 │   3000  8.5e-7    0.0105426\n",
       "   4 │   4000  1.04e-6   0.0180024\n",
       "   5 │   5000  1.39e-6   0.0277491\n",
       "   6 │   6000  1.32e-6   0.0727986\n",
       "   7 │   7000  1.67e-6   0.0725862\n",
       "   8 │   8000  1.92e-6   0.127017\n",
       "   9 │   9000  2.22e-6   0.123524\n",
       "  10 │  10000  2.321e-6  0.160555"
      ]
     },
     "execution_count": 49,
     "metadata": {},
     "output_type": "execute_result"
    }
   ],
   "source": [
    "interval  = 1000 #start and interval\n",
    "range = interval:interval:10*interval\n",
    "timetest_data = DataFrame(length = range,\n",
    "    dot = count_dot_product_timetest(range),\n",
    "    scalar = count_scalar_times_matrix_timetest(range))"
   ]
  },
  {
   "cell_type": "code",
   "execution_count": 50,
   "metadata": {},
   "outputs": [],
   "source": [
    "for i=1:9\n",
    "    tmp = DataFrame(length = range,\n",
    "    dot = count_dot_product_timetest(range),\n",
    "    scalar = count_scalar_times_matrix_timetest(range))\n",
    "    append!(timetest_data,tmp)\n",
    "end"
   ]
  },
  {
   "cell_type": "code",
   "execution_count": 51,
   "metadata": {},
   "outputs": [
    {
     "data": {
      "text/html": [
       "<table class=\"data-frame\"><thead><tr><th></th><th>length</th><th>dot</th><th>scalar</th></tr><tr><th></th><th>Int64</th><th>Any</th><th>Any</th></tr></thead><tbody><p>100 rows × 3 columns</p><tr><th>1</th><td>1000</td><td>1.981e-6</td><td>0.0024875</td></tr><tr><th>2</th><td>2000</td><td>6.1e-7</td><td>0.00994141</td></tr><tr><th>3</th><td>3000</td><td>8.5e-7</td><td>0.0105426</td></tr><tr><th>4</th><td>4000</td><td>1.04e-6</td><td>0.0180024</td></tr><tr><th>5</th><td>5000</td><td>1.39e-6</td><td>0.0277491</td></tr><tr><th>6</th><td>6000</td><td>1.32e-6</td><td>0.0727986</td></tr><tr><th>7</th><td>7000</td><td>1.67e-6</td><td>0.0725862</td></tr><tr><th>8</th><td>8000</td><td>1.92e-6</td><td>0.127017</td></tr><tr><th>9</th><td>9000</td><td>2.22e-6</td><td>0.123524</td></tr><tr><th>10</th><td>10000</td><td>2.321e-6</td><td>0.160555</td></tr><tr><th>11</th><td>1000</td><td>1.67e-6</td><td>0.00247955</td></tr><tr><th>12</th><td>2000</td><td>3.9e-7</td><td>0.00992667</td></tr><tr><th>13</th><td>3000</td><td>5.6e-7</td><td>0.148354</td></tr><tr><th>14</th><td>4000</td><td>7.5e-7</td><td>0.0187618</td></tr><tr><th>15</th><td>5000</td><td>9.21e-7</td><td>0.028423</td></tr><tr><th>16</th><td>6000</td><td>9.2e-7</td><td>0.0801162</td></tr><tr><th>17</th><td>7000</td><td>1.14e-6</td><td>0.204064</td></tr><tr><th>18</th><td>8000</td><td>1.3e-6</td><td>0.0697689</td></tr><tr><th>19</th><td>9000</td><td>1.45e-6</td><td>0.0870221</td></tr><tr><th>20</th><td>10000</td><td>1.591e-6</td><td>0.167343</td></tr><tr><th>21</th><td>1000</td><td>1.92e-6</td><td>0.00159776</td></tr><tr><th>22</th><td>2000</td><td>3.8e-7</td><td>0.144295</td></tr><tr><th>23</th><td>3000</td><td>6.2e-7</td><td>0.0109288</td></tr><tr><th>24</th><td>4000</td><td>7.5e-7</td><td>0.0189986</td></tr><tr><th>25</th><td>5000</td><td>9.4e-7</td><td>0.0284927</td></tr><tr><th>26</th><td>6000</td><td>1.04e-6</td><td>0.0737824</td></tr><tr><th>27</th><td>7000</td><td>1.2e-6</td><td>0.0545957</td></tr><tr><th>28</th><td>8000</td><td>1.33e-6</td><td>0.070166</td></tr><tr><th>29</th><td>9000</td><td>1.44e-6</td><td>0.121617</td></tr><tr><th>30</th><td>10000</td><td>1.641e-6</td><td>0.143977</td></tr><tr><th>&vellip;</th><td>&vellip;</td><td>&vellip;</td><td>&vellip;</td></tr></tbody></table>"
      ],
      "text/latex": [
       "\\begin{tabular}{r|ccc}\n",
       "\t& length & dot & scalar\\\\\n",
       "\t\\hline\n",
       "\t& Int64 & Any & Any\\\\\n",
       "\t\\hline\n",
       "\t1 & 1000 & 1.981e-6 & 0.0024875 \\\\\n",
       "\t2 & 2000 & 6.1e-7 & 0.00994141 \\\\\n",
       "\t3 & 3000 & 8.5e-7 & 0.0105426 \\\\\n",
       "\t4 & 4000 & 1.04e-6 & 0.0180024 \\\\\n",
       "\t5 & 5000 & 1.39e-6 & 0.0277491 \\\\\n",
       "\t6 & 6000 & 1.32e-6 & 0.0727986 \\\\\n",
       "\t7 & 7000 & 1.67e-6 & 0.0725862 \\\\\n",
       "\t8 & 8000 & 1.92e-6 & 0.127017 \\\\\n",
       "\t9 & 9000 & 2.22e-6 & 0.123524 \\\\\n",
       "\t10 & 10000 & 2.321e-6 & 0.160555 \\\\\n",
       "\t11 & 1000 & 1.67e-6 & 0.00247955 \\\\\n",
       "\t12 & 2000 & 3.9e-7 & 0.00992667 \\\\\n",
       "\t13 & 3000 & 5.6e-7 & 0.148354 \\\\\n",
       "\t14 & 4000 & 7.5e-7 & 0.0187618 \\\\\n",
       "\t15 & 5000 & 9.21e-7 & 0.028423 \\\\\n",
       "\t16 & 6000 & 9.2e-7 & 0.0801162 \\\\\n",
       "\t17 & 7000 & 1.14e-6 & 0.204064 \\\\\n",
       "\t18 & 8000 & 1.3e-6 & 0.0697689 \\\\\n",
       "\t19 & 9000 & 1.45e-6 & 0.0870221 \\\\\n",
       "\t20 & 10000 & 1.591e-6 & 0.167343 \\\\\n",
       "\t21 & 1000 & 1.92e-6 & 0.00159776 \\\\\n",
       "\t22 & 2000 & 3.8e-7 & 0.144295 \\\\\n",
       "\t23 & 3000 & 6.2e-7 & 0.0109288 \\\\\n",
       "\t24 & 4000 & 7.5e-7 & 0.0189986 \\\\\n",
       "\t25 & 5000 & 9.4e-7 & 0.0284927 \\\\\n",
       "\t26 & 6000 & 1.04e-6 & 0.0737824 \\\\\n",
       "\t27 & 7000 & 1.2e-6 & 0.0545957 \\\\\n",
       "\t28 & 8000 & 1.33e-6 & 0.070166 \\\\\n",
       "\t29 & 9000 & 1.44e-6 & 0.121617 \\\\\n",
       "\t30 & 10000 & 1.641e-6 & 0.143977 \\\\\n",
       "\t$\\dots$ & $\\dots$ & $\\dots$ & $\\dots$ \\\\\n",
       "\\end{tabular}\n"
      ],
      "text/plain": [
       "\u001b[1m100×3 DataFrame\u001b[0m\n",
       "\u001b[1m Row \u001b[0m│\u001b[1m length \u001b[0m\u001b[1m dot      \u001b[0m\u001b[1m scalar     \u001b[0m\n",
       "\u001b[1m     \u001b[0m│\u001b[90m Int64  \u001b[0m\u001b[90m Any      \u001b[0m\u001b[90m Any        \u001b[0m\n",
       "─────┼──────────────────────────────\n",
       "   1 │   1000  1.981e-6  0.0024875\n",
       "   2 │   2000  6.1e-7    0.00994141\n",
       "   3 │   3000  8.5e-7    0.0105426\n",
       "   4 │   4000  1.04e-6   0.0180024\n",
       "   5 │   5000  1.39e-6   0.0277491\n",
       "   6 │   6000  1.32e-6   0.0727986\n",
       "   7 │   7000  1.67e-6   0.0725862\n",
       "   8 │   8000  1.92e-6   0.127017\n",
       "   9 │   9000  2.22e-6   0.123524\n",
       "  10 │  10000  2.321e-6  0.160555\n",
       "  11 │   1000  1.67e-6   0.00247955\n",
       "  ⋮  │   ⋮        ⋮          ⋮\n",
       "  91 │   1000  2.24e-6   0.00166008\n",
       "  92 │   2000  3.8e-7    0.00487922\n",
       "  93 │   3000  5.9e-7    0.0111432\n",
       "  94 │   4000  7.5e-7    0.0188559\n",
       "  95 │   5000  9.5e-7    0.0289657\n",
       "  96 │   6000  1.04e-6   0.0544453\n",
       "  97 │   7000  1.21e-6   0.345084\n",
       "  98 │   8000  1.31e-6   0.18833\n",
       "  99 │   9000  1.46e-6   0.130436\n",
       " 100 │  10000  1.57e-6   0.272121\n",
       "\u001b[36m                     79 rows omitted\u001b[0m"
      ]
     },
     "execution_count": 51,
     "metadata": {},
     "output_type": "execute_result"
    }
   ],
   "source": [
    "timetest_data"
   ]
  },
  {
   "cell_type": "markdown",
   "metadata": {},
   "source": [
    "#### Save to file"
   ]
  },
  {
   "cell_type": "code",
   "execution_count": 52,
   "metadata": {},
   "outputs": [
    {
     "data": {
      "text/plain": [
       "\"timetests.csv\""
      ]
     },
     "execution_count": 52,
     "metadata": {},
     "output_type": "execute_result"
    }
   ],
   "source": [
    "CSV.write(\"timetests.csv\", timetest_data)"
   ]
  },
  {
   "cell_type": "markdown",
   "metadata": {},
   "source": [
    "#### Read from file"
   ]
  },
  {
   "cell_type": "code",
   "execution_count": 53,
   "metadata": {},
   "outputs": [
    {
     "data": {
      "text/html": [
       "<table class=\"data-frame\"><thead><tr><th></th><th>length</th><th>dot</th><th>scalar</th></tr><tr><th></th><th>Int64</th><th>Float64</th><th>Float64</th></tr></thead><tbody><p>100 rows × 3 columns</p><tr><th>1</th><td>1000</td><td>1.981e-6</td><td>0.0024875</td></tr><tr><th>2</th><td>2000</td><td>6.1e-7</td><td>0.00994141</td></tr><tr><th>3</th><td>3000</td><td>8.5e-7</td><td>0.0105426</td></tr><tr><th>4</th><td>4000</td><td>1.04e-6</td><td>0.0180024</td></tr><tr><th>5</th><td>5000</td><td>1.39e-6</td><td>0.0277491</td></tr><tr><th>6</th><td>6000</td><td>1.32e-6</td><td>0.0727986</td></tr><tr><th>7</th><td>7000</td><td>1.67e-6</td><td>0.0725862</td></tr><tr><th>8</th><td>8000</td><td>1.92e-6</td><td>0.127017</td></tr><tr><th>9</th><td>9000</td><td>2.22e-6</td><td>0.123524</td></tr><tr><th>10</th><td>10000</td><td>2.321e-6</td><td>0.160555</td></tr><tr><th>11</th><td>1000</td><td>1.67e-6</td><td>0.00247955</td></tr><tr><th>12</th><td>2000</td><td>3.9e-7</td><td>0.00992667</td></tr><tr><th>13</th><td>3000</td><td>5.6e-7</td><td>0.148354</td></tr><tr><th>14</th><td>4000</td><td>7.5e-7</td><td>0.0187618</td></tr><tr><th>15</th><td>5000</td><td>9.21e-7</td><td>0.028423</td></tr><tr><th>16</th><td>6000</td><td>9.2e-7</td><td>0.0801162</td></tr><tr><th>17</th><td>7000</td><td>1.14e-6</td><td>0.204064</td></tr><tr><th>18</th><td>8000</td><td>1.3e-6</td><td>0.0697689</td></tr><tr><th>19</th><td>9000</td><td>1.45e-6</td><td>0.0870221</td></tr><tr><th>20</th><td>10000</td><td>1.591e-6</td><td>0.167343</td></tr><tr><th>21</th><td>1000</td><td>1.92e-6</td><td>0.00159776</td></tr><tr><th>22</th><td>2000</td><td>3.8e-7</td><td>0.144295</td></tr><tr><th>23</th><td>3000</td><td>6.2e-7</td><td>0.0109288</td></tr><tr><th>24</th><td>4000</td><td>7.5e-7</td><td>0.0189986</td></tr><tr><th>25</th><td>5000</td><td>9.4e-7</td><td>0.0284927</td></tr><tr><th>26</th><td>6000</td><td>1.04e-6</td><td>0.0737824</td></tr><tr><th>27</th><td>7000</td><td>1.2e-6</td><td>0.0545957</td></tr><tr><th>28</th><td>8000</td><td>1.33e-6</td><td>0.070166</td></tr><tr><th>29</th><td>9000</td><td>1.44e-6</td><td>0.121617</td></tr><tr><th>30</th><td>10000</td><td>1.641e-6</td><td>0.143977</td></tr><tr><th>&vellip;</th><td>&vellip;</td><td>&vellip;</td><td>&vellip;</td></tr></tbody></table>"
      ],
      "text/latex": [
       "\\begin{tabular}{r|ccc}\n",
       "\t& length & dot & scalar\\\\\n",
       "\t\\hline\n",
       "\t& Int64 & Float64 & Float64\\\\\n",
       "\t\\hline\n",
       "\t1 & 1000 & 1.981e-6 & 0.0024875 \\\\\n",
       "\t2 & 2000 & 6.1e-7 & 0.00994141 \\\\\n",
       "\t3 & 3000 & 8.5e-7 & 0.0105426 \\\\\n",
       "\t4 & 4000 & 1.04e-6 & 0.0180024 \\\\\n",
       "\t5 & 5000 & 1.39e-6 & 0.0277491 \\\\\n",
       "\t6 & 6000 & 1.32e-6 & 0.0727986 \\\\\n",
       "\t7 & 7000 & 1.67e-6 & 0.0725862 \\\\\n",
       "\t8 & 8000 & 1.92e-6 & 0.127017 \\\\\n",
       "\t9 & 9000 & 2.22e-6 & 0.123524 \\\\\n",
       "\t10 & 10000 & 2.321e-6 & 0.160555 \\\\\n",
       "\t11 & 1000 & 1.67e-6 & 0.00247955 \\\\\n",
       "\t12 & 2000 & 3.9e-7 & 0.00992667 \\\\\n",
       "\t13 & 3000 & 5.6e-7 & 0.148354 \\\\\n",
       "\t14 & 4000 & 7.5e-7 & 0.0187618 \\\\\n",
       "\t15 & 5000 & 9.21e-7 & 0.028423 \\\\\n",
       "\t16 & 6000 & 9.2e-7 & 0.0801162 \\\\\n",
       "\t17 & 7000 & 1.14e-6 & 0.204064 \\\\\n",
       "\t18 & 8000 & 1.3e-6 & 0.0697689 \\\\\n",
       "\t19 & 9000 & 1.45e-6 & 0.0870221 \\\\\n",
       "\t20 & 10000 & 1.591e-6 & 0.167343 \\\\\n",
       "\t21 & 1000 & 1.92e-6 & 0.00159776 \\\\\n",
       "\t22 & 2000 & 3.8e-7 & 0.144295 \\\\\n",
       "\t23 & 3000 & 6.2e-7 & 0.0109288 \\\\\n",
       "\t24 & 4000 & 7.5e-7 & 0.0189986 \\\\\n",
       "\t25 & 5000 & 9.4e-7 & 0.0284927 \\\\\n",
       "\t26 & 6000 & 1.04e-6 & 0.0737824 \\\\\n",
       "\t27 & 7000 & 1.2e-6 & 0.0545957 \\\\\n",
       "\t28 & 8000 & 1.33e-6 & 0.070166 \\\\\n",
       "\t29 & 9000 & 1.44e-6 & 0.121617 \\\\\n",
       "\t30 & 10000 & 1.641e-6 & 0.143977 \\\\\n",
       "\t$\\dots$ & $\\dots$ & $\\dots$ & $\\dots$ \\\\\n",
       "\\end{tabular}\n"
      ],
      "text/plain": [
       "\u001b[1m100×3 DataFrame\u001b[0m\n",
       "\u001b[1m Row \u001b[0m│\u001b[1m length \u001b[0m\u001b[1m dot      \u001b[0m\u001b[1m scalar     \u001b[0m\n",
       "\u001b[1m     \u001b[0m│\u001b[90m Int64  \u001b[0m\u001b[90m Float64  \u001b[0m\u001b[90m Float64    \u001b[0m\n",
       "─────┼──────────────────────────────\n",
       "   1 │   1000  1.981e-6  0.0024875\n",
       "   2 │   2000  6.1e-7    0.00994141\n",
       "   3 │   3000  8.5e-7    0.0105426\n",
       "   4 │   4000  1.04e-6   0.0180024\n",
       "   5 │   5000  1.39e-6   0.0277491\n",
       "   6 │   6000  1.32e-6   0.0727986\n",
       "   7 │   7000  1.67e-6   0.0725862\n",
       "   8 │   8000  1.92e-6   0.127017\n",
       "   9 │   9000  2.22e-6   0.123524\n",
       "  10 │  10000  2.321e-6  0.160555\n",
       "  11 │   1000  1.67e-6   0.00247955\n",
       "  ⋮  │   ⋮        ⋮          ⋮\n",
       "  91 │   1000  2.24e-6   0.00166008\n",
       "  92 │   2000  3.8e-7    0.00487922\n",
       "  93 │   3000  5.9e-7    0.0111432\n",
       "  94 │   4000  7.5e-7    0.0188559\n",
       "  95 │   5000  9.5e-7    0.0289657\n",
       "  96 │   6000  1.04e-6   0.0544453\n",
       "  97 │   7000  1.21e-6   0.345084\n",
       "  98 │   8000  1.31e-6   0.18833\n",
       "  99 │   9000  1.46e-6   0.130436\n",
       " 100 │  10000  1.57e-6   0.272121\n",
       "\u001b[36m                     79 rows omitted\u001b[0m"
      ]
     },
     "execution_count": 53,
     "metadata": {},
     "output_type": "execute_result"
    }
   ],
   "source": [
    "my_timetest_data = CSV.read(\"timetests.csv\", delim=\",\",DataFrame)"
   ]
  },
  {
   "cell_type": "code",
   "execution_count": 54,
   "metadata": {},
   "outputs": [
    {
     "data": {
      "text/plain": [
       "3-element Vector{String}:\n",
       " \"length\"\n",
       " \"dot\"\n",
       " \"scalar\""
      ]
     },
     "execution_count": 54,
     "metadata": {},
     "output_type": "execute_result"
    }
   ],
   "source": [
    "names(my_timetest_data)"
   ]
  },
  {
   "cell_type": "code",
   "execution_count": 55,
   "metadata": {},
   "outputs": [
    {
     "data": {
      "text/html": [
       "<table class=\"data-frame\"><thead><tr><th></th><th>variable</th><th>mean</th><th>min</th><th>median</th><th>max</th><th>nmissing</th><th>eltype</th></tr><tr><th></th><th>Symbol</th><th>Float64</th><th>Real</th><th>Float64</th><th>Real</th><th>Int64</th><th>DataType</th></tr></thead><tbody><p>3 rows × 7 columns</p><tr><th>1</th><td>length</td><td>5500.0</td><td>1000</td><td>5500.0</td><td>10000</td><td>0</td><td>Int64</td></tr><tr><th>2</th><td>dot</td><td>1.15669e-6</td><td>3.5e-7</td><td>1.15e-6</td><td>2.321e-6</td><td>0</td><td>Float64</td></tr><tr><th>3</th><td>scalar</td><td>0.0778599</td><td>0.0015202</td><td>0.0537638</td><td>0.345084</td><td>0</td><td>Float64</td></tr></tbody></table>"
      ],
      "text/latex": [
       "\\begin{tabular}{r|ccccccc}\n",
       "\t& variable & mean & min & median & max & nmissing & eltype\\\\\n",
       "\t\\hline\n",
       "\t& Symbol & Float64 & Real & Float64 & Real & Int64 & DataType\\\\\n",
       "\t\\hline\n",
       "\t1 & length & 5500.0 & 1000 & 5500.0 & 10000 & 0 & Int64 \\\\\n",
       "\t2 & dot & 1.15669e-6 & 3.5e-7 & 1.15e-6 & 2.321e-6 & 0 & Float64 \\\\\n",
       "\t3 & scalar & 0.0778599 & 0.0015202 & 0.0537638 & 0.345084 & 0 & Float64 \\\\\n",
       "\\end{tabular}\n"
      ],
      "text/plain": [
       "\u001b[1m3×7 DataFrame\u001b[0m\n",
       "\u001b[1m Row \u001b[0m│\u001b[1m variable \u001b[0m\u001b[1m mean          \u001b[0m\u001b[1m min       \u001b[0m\u001b[1m median       \u001b[0m\u001b[1m max      \u001b[0m\u001b[1m nmissing \u001b[0m\u001b[1m e\u001b[0m ⋯\n",
       "\u001b[1m     \u001b[0m│\u001b[90m Symbol   \u001b[0m\u001b[90m Float64       \u001b[0m\u001b[90m Real      \u001b[0m\u001b[90m Float64      \u001b[0m\u001b[90m Real     \u001b[0m\u001b[90m Int64    \u001b[0m\u001b[90m D\u001b[0m ⋯\n",
       "─────┼──────────────────────────────────────────────────────────────────────────\n",
       "   1 │ length    5500.0              1000  5500.0           10000         0  I ⋯\n",
       "   2 │ dot          1.15669e-6     3.5e-7     1.15e-6    2.321e-6         0  F\n",
       "   3 │ scalar       0.0778599   0.0015202     0.0537638  0.345084         0  F\n",
       "\u001b[36m                                                                1 column omitted\u001b[0m"
      ]
     },
     "execution_count": 55,
     "metadata": {},
     "output_type": "execute_result"
    }
   ],
   "source": [
    "describe(my_timetest_data)"
   ]
  },
  {
   "cell_type": "code",
   "execution_count": 56,
   "metadata": {},
   "outputs": [
    {
     "data": {
      "text/html": [
       "<table class=\"data-frame\"><thead><tr><th></th><th>length</th><th>dot</th><th>scalar</th></tr><tr><th></th><th>Int64</th><th>Float64</th><th>Float64</th></tr></thead><tbody><p>100 rows × 3 columns</p><tr><th>1</th><td>1000</td><td>1.67e-6</td><td>0.00247955</td></tr><tr><th>2</th><td>1000</td><td>1.711e-6</td><td>0.0015202</td></tr><tr><th>3</th><td>1000</td><td>1.92e-6</td><td>0.00159776</td></tr><tr><th>4</th><td>1000</td><td>1.981e-6</td><td>0.0024875</td></tr><tr><th>5</th><td>1000</td><td>1.99e-6</td><td>0.00179425</td></tr><tr><th>6</th><td>1000</td><td>2.02e-6</td><td>0.00163667</td></tr><tr><th>7</th><td>1000</td><td>2.07e-6</td><td>0.00212696</td></tr><tr><th>8</th><td>1000</td><td>2.171e-6</td><td>0.00158258</td></tr><tr><th>9</th><td>1000</td><td>2.23e-6</td><td>0.00154061</td></tr><tr><th>10</th><td>1000</td><td>2.24e-6</td><td>0.00166008</td></tr><tr><th>11</th><td>2000</td><td>3.5e-7</td><td>0.0048994</td></tr><tr><th>12</th><td>2000</td><td>3.6e-7</td><td>0.00513873</td></tr><tr><th>13</th><td>2000</td><td>3.6e-7</td><td>0.00515364</td></tr><tr><th>14</th><td>2000</td><td>3.7e-7</td><td>0.0320083</td></tr><tr><th>15</th><td>2000</td><td>3.8e-7</td><td>0.00487922</td></tr><tr><th>16</th><td>2000</td><td>3.8e-7</td><td>0.00507596</td></tr><tr><th>17</th><td>2000</td><td>3.8e-7</td><td>0.144295</td></tr><tr><th>18</th><td>2000</td><td>3.9e-7</td><td>0.00992667</td></tr><tr><th>19</th><td>2000</td><td>3.91e-7</td><td>0.00523734</td></tr><tr><th>20</th><td>2000</td><td>6.1e-7</td><td>0.00994141</td></tr><tr><th>21</th><td>3000</td><td>5.6e-7</td><td>0.148354</td></tr><tr><th>22</th><td>3000</td><td>5.8e-7</td><td>0.0110419</td></tr><tr><th>23</th><td>3000</td><td>5.9e-7</td><td>0.0111432</td></tr><tr><th>24</th><td>3000</td><td>5.9e-7</td><td>0.0112032</td></tr><tr><th>25</th><td>3000</td><td>6.0e-7</td><td>0.0110088</td></tr><tr><th>26</th><td>3000</td><td>6.0e-7</td><td>0.0110599</td></tr><tr><th>27</th><td>3000</td><td>6.1e-7</td><td>0.0110849</td></tr><tr><th>28</th><td>3000</td><td>6.2e-7</td><td>0.0109288</td></tr><tr><th>29</th><td>3000</td><td>6.21e-7</td><td>0.0110683</td></tr><tr><th>30</th><td>3000</td><td>8.5e-7</td><td>0.0105426</td></tr><tr><th>&vellip;</th><td>&vellip;</td><td>&vellip;</td><td>&vellip;</td></tr></tbody></table>"
      ],
      "text/latex": [
       "\\begin{tabular}{r|ccc}\n",
       "\t& length & dot & scalar\\\\\n",
       "\t\\hline\n",
       "\t& Int64 & Float64 & Float64\\\\\n",
       "\t\\hline\n",
       "\t1 & 1000 & 1.67e-6 & 0.00247955 \\\\\n",
       "\t2 & 1000 & 1.711e-6 & 0.0015202 \\\\\n",
       "\t3 & 1000 & 1.92e-6 & 0.00159776 \\\\\n",
       "\t4 & 1000 & 1.981e-6 & 0.0024875 \\\\\n",
       "\t5 & 1000 & 1.99e-6 & 0.00179425 \\\\\n",
       "\t6 & 1000 & 2.02e-6 & 0.00163667 \\\\\n",
       "\t7 & 1000 & 2.07e-6 & 0.00212696 \\\\\n",
       "\t8 & 1000 & 2.171e-6 & 0.00158258 \\\\\n",
       "\t9 & 1000 & 2.23e-6 & 0.00154061 \\\\\n",
       "\t10 & 1000 & 2.24e-6 & 0.00166008 \\\\\n",
       "\t11 & 2000 & 3.5e-7 & 0.0048994 \\\\\n",
       "\t12 & 2000 & 3.6e-7 & 0.00513873 \\\\\n",
       "\t13 & 2000 & 3.6e-7 & 0.00515364 \\\\\n",
       "\t14 & 2000 & 3.7e-7 & 0.0320083 \\\\\n",
       "\t15 & 2000 & 3.8e-7 & 0.00487922 \\\\\n",
       "\t16 & 2000 & 3.8e-7 & 0.00507596 \\\\\n",
       "\t17 & 2000 & 3.8e-7 & 0.144295 \\\\\n",
       "\t18 & 2000 & 3.9e-7 & 0.00992667 \\\\\n",
       "\t19 & 2000 & 3.91e-7 & 0.00523734 \\\\\n",
       "\t20 & 2000 & 6.1e-7 & 0.00994141 \\\\\n",
       "\t21 & 3000 & 5.6e-7 & 0.148354 \\\\\n",
       "\t22 & 3000 & 5.8e-7 & 0.0110419 \\\\\n",
       "\t23 & 3000 & 5.9e-7 & 0.0111432 \\\\\n",
       "\t24 & 3000 & 5.9e-7 & 0.0112032 \\\\\n",
       "\t25 & 3000 & 6.0e-7 & 0.0110088 \\\\\n",
       "\t26 & 3000 & 6.0e-7 & 0.0110599 \\\\\n",
       "\t27 & 3000 & 6.1e-7 & 0.0110849 \\\\\n",
       "\t28 & 3000 & 6.2e-7 & 0.0109288 \\\\\n",
       "\t29 & 3000 & 6.21e-7 & 0.0110683 \\\\\n",
       "\t30 & 3000 & 8.5e-7 & 0.0105426 \\\\\n",
       "\t$\\dots$ & $\\dots$ & $\\dots$ & $\\dots$ \\\\\n",
       "\\end{tabular}\n"
      ],
      "text/plain": [
       "\u001b[1m100×3 DataFrame\u001b[0m\n",
       "\u001b[1m Row \u001b[0m│\u001b[1m length \u001b[0m\u001b[1m dot      \u001b[0m\u001b[1m scalar     \u001b[0m\n",
       "\u001b[1m     \u001b[0m│\u001b[90m Int64  \u001b[0m\u001b[90m Float64  \u001b[0m\u001b[90m Float64    \u001b[0m\n",
       "─────┼──────────────────────────────\n",
       "   1 │   1000  1.67e-6   0.00247955\n",
       "   2 │   1000  1.711e-6  0.0015202\n",
       "   3 │   1000  1.92e-6   0.00159776\n",
       "   4 │   1000  1.981e-6  0.0024875\n",
       "   5 │   1000  1.99e-6   0.00179425\n",
       "   6 │   1000  2.02e-6   0.00163667\n",
       "   7 │   1000  2.07e-6   0.00212696\n",
       "   8 │   1000  2.171e-6  0.00158258\n",
       "   9 │   1000  2.23e-6   0.00154061\n",
       "  10 │   1000  2.24e-6   0.00166008\n",
       "  11 │   2000  3.5e-7    0.0048994\n",
       "  ⋮  │   ⋮        ⋮          ⋮\n",
       "  91 │  10000  1.561e-6  0.174627\n",
       "  92 │  10000  1.561e-6  0.277357\n",
       "  93 │  10000  1.57e-6   0.148268\n",
       "  94 │  10000  1.57e-6   0.272121\n",
       "  95 │  10000  1.58e-6   0.259304\n",
       "  96 │  10000  1.581e-6  0.156999\n",
       "  97 │  10000  1.591e-6  0.167343\n",
       "  98 │  10000  1.611e-6  0.174965\n",
       "  99 │  10000  1.641e-6  0.143977\n",
       " 100 │  10000  2.321e-6  0.160555\n",
       "\u001b[36m                     79 rows omitted\u001b[0m"
      ]
     },
     "execution_count": 56,
     "metadata": {},
     "output_type": "execute_result"
    }
   ],
   "source": [
    "sort(my_timetest_data)"
   ]
  },
  {
   "cell_type": "markdown",
   "metadata": {},
   "source": [
    "#### Group by length"
   ]
  },
  {
   "cell_type": "code",
   "execution_count": 57,
   "metadata": {},
   "outputs": [
    {
     "data": {
      "text/html": [
       "<p><b>GroupedDataFrame with 10 groups based on key: length</b></p><p><i>First Group (10 rows): length = 1000</i></p><table class=\"data-frame\"><thead><tr><th></th><th>length</th><th>dot</th><th>scalar</th></tr><tr><th></th><th>Int64</th><th>Float64</th><th>Float64</th></tr></thead><tbody><tr><th>1</th><td>1000</td><td>1.981e-6</td><td>0.0024875</td></tr><tr><th>2</th><td>1000</td><td>1.67e-6</td><td>0.00247955</td></tr><tr><th>3</th><td>1000</td><td>1.92e-6</td><td>0.00159776</td></tr><tr><th>4</th><td>1000</td><td>1.711e-6</td><td>0.0015202</td></tr><tr><th>5</th><td>1000</td><td>2.23e-6</td><td>0.00154061</td></tr><tr><th>6</th><td>1000</td><td>2.07e-6</td><td>0.00212696</td></tr><tr><th>7</th><td>1000</td><td>2.171e-6</td><td>0.00158258</td></tr><tr><th>8</th><td>1000</td><td>1.99e-6</td><td>0.00179425</td></tr><tr><th>9</th><td>1000</td><td>2.02e-6</td><td>0.00163667</td></tr><tr><th>10</th><td>1000</td><td>2.24e-6</td><td>0.00166008</td></tr></tbody></table><p>&vellip;</p><p><i>Last Group (10 rows): length = 10000</i></p><table class=\"data-frame\"><thead><tr><th></th><th>length</th><th>dot</th><th>scalar</th></tr><tr><th></th><th>Int64</th><th>Float64</th><th>Float64</th></tr></thead><tbody><tr><th>1</th><td>10000</td><td>2.321e-6</td><td>0.160555</td></tr><tr><th>2</th><td>10000</td><td>1.591e-6</td><td>0.167343</td></tr><tr><th>3</th><td>10000</td><td>1.641e-6</td><td>0.143977</td></tr><tr><th>4</th><td>10000</td><td>1.58e-6</td><td>0.259304</td></tr><tr><th>5</th><td>10000</td><td>1.581e-6</td><td>0.156999</td></tr><tr><th>6</th><td>10000</td><td>1.561e-6</td><td>0.277357</td></tr><tr><th>7</th><td>10000</td><td>1.611e-6</td><td>0.174965</td></tr><tr><th>8</th><td>10000</td><td>1.57e-6</td><td>0.148268</td></tr><tr><th>9</th><td>10000</td><td>1.561e-6</td><td>0.174627</td></tr><tr><th>10</th><td>10000</td><td>1.57e-6</td><td>0.272121</td></tr></tbody></table>"
      ],
      "text/latex": [
       "GroupedDataFrame with 10 groups based on key: length\n",
       "\n",
       "First Group (10 rows): length = 1000\n",
       "\n",
       "\\begin{tabular}{r|ccc}\n",
       "\t& length & dot & scalar\\\\\n",
       "\t\\hline\n",
       "\t& Int64 & Float64 & Float64\\\\\n",
       "\t\\hline\n",
       "\t1 & 1000 & 1.981e-6 & 0.0024875 \\\\\n",
       "\t2 & 1000 & 1.67e-6 & 0.00247955 \\\\\n",
       "\t3 & 1000 & 1.92e-6 & 0.00159776 \\\\\n",
       "\t4 & 1000 & 1.711e-6 & 0.0015202 \\\\\n",
       "\t5 & 1000 & 2.23e-6 & 0.00154061 \\\\\n",
       "\t6 & 1000 & 2.07e-6 & 0.00212696 \\\\\n",
       "\t7 & 1000 & 2.171e-6 & 0.00158258 \\\\\n",
       "\t8 & 1000 & 1.99e-6 & 0.00179425 \\\\\n",
       "\t9 & 1000 & 2.02e-6 & 0.00163667 \\\\\n",
       "\t10 & 1000 & 2.24e-6 & 0.00166008 \\\\\n",
       "\\end{tabular}\n",
       "\n",
       "$\\dots$\n",
       "\n",
       "Last Group (10 rows): length = 10000\n",
       "\n",
       "\\begin{tabular}{r|ccc}\n",
       "\t& length & dot & scalar\\\\\n",
       "\t\\hline\n",
       "\t& Int64 & Float64 & Float64\\\\\n",
       "\t\\hline\n",
       "\t1 & 10000 & 2.321e-6 & 0.160555 \\\\\n",
       "\t2 & 10000 & 1.591e-6 & 0.167343 \\\\\n",
       "\t3 & 10000 & 1.641e-6 & 0.143977 \\\\\n",
       "\t4 & 10000 & 1.58e-6 & 0.259304 \\\\\n",
       "\t5 & 10000 & 1.581e-6 & 0.156999 \\\\\n",
       "\t6 & 10000 & 1.561e-6 & 0.277357 \\\\\n",
       "\t7 & 10000 & 1.611e-6 & 0.174965 \\\\\n",
       "\t8 & 10000 & 1.57e-6 & 0.148268 \\\\\n",
       "\t9 & 10000 & 1.561e-6 & 0.174627 \\\\\n",
       "\t10 & 10000 & 1.57e-6 & 0.272121 \\\\\n",
       "\\end{tabular}\n"
      ],
      "text/plain": [
       "GroupedDataFrame with 10 groups based on key: length\n",
       "First Group (10 rows): length = 1000\n",
       "\u001b[1m Row \u001b[0m│\u001b[1m length \u001b[0m\u001b[1m dot      \u001b[0m\u001b[1m scalar     \u001b[0m\n",
       "\u001b[1m     \u001b[0m│\u001b[90m Int64  \u001b[0m\u001b[90m Float64  \u001b[0m\u001b[90m Float64    \u001b[0m\n",
       "─────┼──────────────────────────────\n",
       "   1 │   1000  1.981e-6  0.0024875\n",
       "   2 │   1000  1.67e-6   0.00247955\n",
       "   3 │   1000  1.92e-6   0.00159776\n",
       "   4 │   1000  1.711e-6  0.0015202\n",
       "   5 │   1000  2.23e-6   0.00154061\n",
       "   6 │   1000  2.07e-6   0.00212696\n",
       "   7 │   1000  2.171e-6  0.00158258\n",
       "   8 │   1000  1.99e-6   0.00179425\n",
       "   9 │   1000  2.02e-6   0.00163667\n",
       "  10 │   1000  2.24e-6   0.00166008\n",
       "⋮\n",
       "Last Group (10 rows): length = 10000\n",
       "\u001b[1m Row \u001b[0m│\u001b[1m length \u001b[0m\u001b[1m dot      \u001b[0m\u001b[1m scalar   \u001b[0m\n",
       "\u001b[1m     \u001b[0m│\u001b[90m Int64  \u001b[0m\u001b[90m Float64  \u001b[0m\u001b[90m Float64  \u001b[0m\n",
       "─────┼────────────────────────────\n",
       "   1 │  10000  2.321e-6  0.160555\n",
       "   2 │  10000  1.591e-6  0.167343\n",
       "   3 │  10000  1.641e-6  0.143977\n",
       "   4 │  10000  1.58e-6   0.259304\n",
       "   5 │  10000  1.581e-6  0.156999\n",
       "   6 │  10000  1.561e-6  0.277357\n",
       "   7 │  10000  1.611e-6  0.174965\n",
       "   8 │  10000  1.57e-6   0.148268\n",
       "   9 │  10000  1.561e-6  0.174627\n",
       "  10 │  10000  1.57e-6   0.272121"
      ]
     },
     "execution_count": 57,
     "metadata": {},
     "output_type": "execute_result"
    }
   ],
   "source": [
    "my_data_grouped = groupby(my_timetest_data, :length)"
   ]
  },
  {
   "cell_type": "markdown",
   "metadata": {},
   "source": [
    "#### Add means and standard deviation columns"
   ]
  },
  {
   "cell_type": "code",
   "execution_count": 58,
   "metadata": {},
   "outputs": [
    {
     "data": {
      "text/html": [
       "<table class=\"data-frame\"><thead><tr><th></th><th>length</th><th>dot_mean</th><th>dot_std</th><th>scalar_mean</th><th>scalar_std</th></tr><tr><th></th><th>Int64</th><th>Float64</th><th>Float64</th><th>Float64</th><th>Float64</th></tr></thead><tbody><p>10 rows × 5 columns</p><tr><th>1</th><td>1000</td><td>2.0003e-6</td><td>1.95597e-7</td><td>0.00184262</td><td>0.000380529</td></tr><tr><th>2</th><td>2000</td><td>3.971e-7</td><td>7.60094e-8</td><td>0.0226556</td><td>0.0435434</td></tr><tr><th>3</th><td>3000</td><td>6.221e-7</td><td>8.2163e-8</td><td>0.0247436</td><td>0.0434326</td></tr><tr><th>4</th><td>4000</td><td>7.64e-7</td><td>1.10071e-7</td><td>0.038903</td><td>0.0453456</td></tr><tr><th>5</th><td>5000</td><td>9.522e-7</td><td>1.5847e-7</td><td>0.0440347</td><td>0.0466473</td></tr><tr><th>6</th><td>6000</td><td>1.049e-6</td><td>1.03005e-7</td><td>0.0598867</td><td>0.0175994</td></tr><tr><th>7</th><td>7000</td><td>1.2182e-6</td><td>1.60848e-7</td><td>0.134379</td><td>0.100873</td></tr><tr><th>8</th><td>8000</td><td>1.3782e-6</td><td>1.91058e-7</td><td>0.109903</td><td>0.0499239</td></tr><tr><th>9</th><td>9000</td><td>1.5271e-6</td><td>2.43743e-7</td><td>0.1487</td><td>0.0627825</td></tr><tr><th>10</th><td>10000</td><td>1.6587e-6</td><td>2.34016e-7</td><td>0.193552</td><td>0.0535863</td></tr></tbody></table>"
      ],
      "text/latex": [
       "\\begin{tabular}{r|ccccc}\n",
       "\t& length & dot\\_mean & dot\\_std & scalar\\_mean & scalar\\_std\\\\\n",
       "\t\\hline\n",
       "\t& Int64 & Float64 & Float64 & Float64 & Float64\\\\\n",
       "\t\\hline\n",
       "\t1 & 1000 & 2.0003e-6 & 1.95597e-7 & 0.00184262 & 0.000380529 \\\\\n",
       "\t2 & 2000 & 3.971e-7 & 7.60094e-8 & 0.0226556 & 0.0435434 \\\\\n",
       "\t3 & 3000 & 6.221e-7 & 8.2163e-8 & 0.0247436 & 0.0434326 \\\\\n",
       "\t4 & 4000 & 7.64e-7 & 1.10071e-7 & 0.038903 & 0.0453456 \\\\\n",
       "\t5 & 5000 & 9.522e-7 & 1.5847e-7 & 0.0440347 & 0.0466473 \\\\\n",
       "\t6 & 6000 & 1.049e-6 & 1.03005e-7 & 0.0598867 & 0.0175994 \\\\\n",
       "\t7 & 7000 & 1.2182e-6 & 1.60848e-7 & 0.134379 & 0.100873 \\\\\n",
       "\t8 & 8000 & 1.3782e-6 & 1.91058e-7 & 0.109903 & 0.0499239 \\\\\n",
       "\t9 & 9000 & 1.5271e-6 & 2.43743e-7 & 0.1487 & 0.0627825 \\\\\n",
       "\t10 & 10000 & 1.6587e-6 & 2.34016e-7 & 0.193552 & 0.0535863 \\\\\n",
       "\\end{tabular}\n"
      ],
      "text/plain": [
       "\u001b[1m10×5 DataFrame\u001b[0m\n",
       "\u001b[1m Row \u001b[0m│\u001b[1m length \u001b[0m\u001b[1m dot_mean  \u001b[0m\u001b[1m dot_std    \u001b[0m\u001b[1m scalar_mean \u001b[0m\u001b[1m scalar_std  \u001b[0m\n",
       "\u001b[1m     \u001b[0m│\u001b[90m Int64  \u001b[0m\u001b[90m Float64   \u001b[0m\u001b[90m Float64    \u001b[0m\u001b[90m Float64     \u001b[0m\u001b[90m Float64     \u001b[0m\n",
       "─────┼─────────────────────────────────────────────────────────\n",
       "   1 │   1000  2.0003e-6  1.95597e-7   0.00184262  0.000380529\n",
       "   2 │   2000  3.971e-7   7.60094e-8   0.0226556   0.0435434\n",
       "   3 │   3000  6.221e-7   8.2163e-8    0.0247436   0.0434326\n",
       "   4 │   4000  7.64e-7    1.10071e-7   0.038903    0.0453456\n",
       "   5 │   5000  9.522e-7   1.5847e-7    0.0440347   0.0466473\n",
       "   6 │   6000  1.049e-6   1.03005e-7   0.0598867   0.0175994\n",
       "   7 │   7000  1.2182e-6  1.60848e-7   0.134379    0.100873\n",
       "   8 │   8000  1.3782e-6  1.91058e-7   0.109903    0.0499239\n",
       "   9 │   9000  1.5271e-6  2.43743e-7   0.1487      0.0627825\n",
       "  10 │  10000  1.6587e-6  2.34016e-7   0.193552    0.0535863"
      ]
     },
     "execution_count": 58,
     "metadata": {},
     "output_type": "execute_result"
    }
   ],
   "source": [
    "data_to_plot = combine(my_data_grouped, \"dot\" => mean, \"dot\" => std, \n",
    "    \"scalar\" => mean, \"scalar\" => std)"
   ]
  },
  {
   "cell_type": "code",
   "execution_count": 59,
   "metadata": {},
   "outputs": [
    {
     "data": {
      "text/html": [
       "<table class=\"data-frame\"><thead><tr><th></th><th>length</th><th>dot_mean</th><th>dot_std</th><th>scalar_mean</th><th>scalar_std</th></tr><tr><th></th><th>Int64</th><th>Float64</th><th>Float64</th><th>Float64</th><th>Float64</th></tr></thead><tbody><p>10 rows × 5 columns</p><tr><th>1</th><td>1000</td><td>2.0003e-6</td><td>1.95597e-7</td><td>0.00184262</td><td>0.000380529</td></tr><tr><th>2</th><td>2000</td><td>3.971e-7</td><td>7.60094e-8</td><td>0.0226556</td><td>0.0435434</td></tr><tr><th>3</th><td>3000</td><td>6.221e-7</td><td>8.2163e-8</td><td>0.0247436</td><td>0.0434326</td></tr><tr><th>4</th><td>4000</td><td>7.64e-7</td><td>1.10071e-7</td><td>0.038903</td><td>0.0453456</td></tr><tr><th>5</th><td>5000</td><td>9.522e-7</td><td>1.5847e-7</td><td>0.0440347</td><td>0.0466473</td></tr><tr><th>6</th><td>6000</td><td>1.049e-6</td><td>1.03005e-7</td><td>0.0598867</td><td>0.0175994</td></tr><tr><th>7</th><td>7000</td><td>1.2182e-6</td><td>1.60848e-7</td><td>0.134379</td><td>0.100873</td></tr><tr><th>8</th><td>8000</td><td>1.3782e-6</td><td>1.91058e-7</td><td>0.109903</td><td>0.0499239</td></tr><tr><th>9</th><td>9000</td><td>1.5271e-6</td><td>2.43743e-7</td><td>0.1487</td><td>0.0627825</td></tr><tr><th>10</th><td>10000</td><td>1.6587e-6</td><td>2.34016e-7</td><td>0.193552</td><td>0.0535863</td></tr></tbody></table>"
      ],
      "text/latex": [
       "\\begin{tabular}{r|ccccc}\n",
       "\t& length & dot\\_mean & dot\\_std & scalar\\_mean & scalar\\_std\\\\\n",
       "\t\\hline\n",
       "\t& Int64 & Float64 & Float64 & Float64 & Float64\\\\\n",
       "\t\\hline\n",
       "\t1 & 1000 & 2.0003e-6 & 1.95597e-7 & 0.00184262 & 0.000380529 \\\\\n",
       "\t2 & 2000 & 3.971e-7 & 7.60094e-8 & 0.0226556 & 0.0435434 \\\\\n",
       "\t3 & 3000 & 6.221e-7 & 8.2163e-8 & 0.0247436 & 0.0434326 \\\\\n",
       "\t4 & 4000 & 7.64e-7 & 1.10071e-7 & 0.038903 & 0.0453456 \\\\\n",
       "\t5 & 5000 & 9.522e-7 & 1.5847e-7 & 0.0440347 & 0.0466473 \\\\\n",
       "\t6 & 6000 & 1.049e-6 & 1.03005e-7 & 0.0598867 & 0.0175994 \\\\\n",
       "\t7 & 7000 & 1.2182e-6 & 1.60848e-7 & 0.134379 & 0.100873 \\\\\n",
       "\t8 & 8000 & 1.3782e-6 & 1.91058e-7 & 0.109903 & 0.0499239 \\\\\n",
       "\t9 & 9000 & 1.5271e-6 & 2.43743e-7 & 0.1487 & 0.0627825 \\\\\n",
       "\t10 & 10000 & 1.6587e-6 & 2.34016e-7 & 0.193552 & 0.0535863 \\\\\n",
       "\\end{tabular}\n"
      ],
      "text/plain": [
       "\u001b[1m10×5 DataFrame\u001b[0m\n",
       "\u001b[1m Row \u001b[0m│\u001b[1m length \u001b[0m\u001b[1m dot_mean  \u001b[0m\u001b[1m dot_std    \u001b[0m\u001b[1m scalar_mean \u001b[0m\u001b[1m scalar_std  \u001b[0m\n",
       "\u001b[1m     \u001b[0m│\u001b[90m Int64  \u001b[0m\u001b[90m Float64   \u001b[0m\u001b[90m Float64    \u001b[0m\u001b[90m Float64     \u001b[0m\u001b[90m Float64     \u001b[0m\n",
       "─────┼─────────────────────────────────────────────────────────\n",
       "   1 │   1000  2.0003e-6  1.95597e-7   0.00184262  0.000380529\n",
       "   2 │   2000  3.971e-7   7.60094e-8   0.0226556   0.0435434\n",
       "   3 │   3000  6.221e-7   8.2163e-8    0.0247436   0.0434326\n",
       "   4 │   4000  7.64e-7    1.10071e-7   0.038903    0.0453456\n",
       "   5 │   5000  9.522e-7   1.5847e-7    0.0440347   0.0466473\n",
       "   6 │   6000  1.049e-6   1.03005e-7   0.0598867   0.0175994\n",
       "   7 │   7000  1.2182e-6  1.60848e-7   0.134379    0.100873\n",
       "   8 │   8000  1.3782e-6  1.91058e-7   0.109903    0.0499239\n",
       "   9 │   9000  1.5271e-6  2.43743e-7   0.1487      0.0627825\n",
       "  10 │  10000  1.6587e-6  2.34016e-7   0.193552    0.0535863"
      ]
     },
     "execution_count": 59,
     "metadata": {},
     "output_type": "execute_result"
    }
   ],
   "source": [
    "data_to_plot"
   ]
  },
  {
   "cell_type": "code",
   "execution_count": 60,
   "metadata": {},
   "outputs": [
    {
     "data": {
      "image/svg+xml": [
       "<?xml version=\"1.0\" encoding=\"utf-8\"?>\n",
       "<svg xmlns=\"http://www.w3.org/2000/svg\" xmlns:xlink=\"http://www.w3.org/1999/xlink\" width=\"600\" height=\"400\" viewBox=\"0 0 2400 1600\">\n",
       "<defs>\n",
       "  <clipPath id=\"clip310\">\n",
       "    <rect x=\"0\" y=\"0\" width=\"2400\" height=\"1600\"/>\n",
       "  </clipPath>\n",
       "</defs>\n",
       "<path clip-path=\"url(#clip310)\" d=\"\n",
       "M0 1600 L2400 1600 L2400 0 L0 0  Z\n",
       "  \" fill=\"#ffffff\" fill-rule=\"evenodd\" fill-opacity=\"1\"/>\n",
       "<defs>\n",
       "  <clipPath id=\"clip311\">\n",
       "    <rect x=\"480\" y=\"0\" width=\"1681\" height=\"1600\"/>\n",
       "  </clipPath>\n",
       "</defs>\n",
       "<path clip-path=\"url(#clip310)\" d=\"\n",
       "M249.542 1423.18 L2352.76 1423.18 L2352.76 183.952 L249.542 183.952  Z\n",
       "  \" fill=\"#ffffff\" fill-rule=\"evenodd\" fill-opacity=\"1\"/>\n",
       "<defs>\n",
       "  <clipPath id=\"clip312\">\n",
       "    <rect x=\"249\" y=\"183\" width=\"2104\" height=\"1240\"/>\n",
       "  </clipPath>\n",
       "</defs>\n",
       "<polyline clip-path=\"url(#clip312)\" style=\"stroke:#000000; stroke-width:2; stroke-opacity:0.1; fill:none\" points=\"\n",
       "  529.53,1423.18 529.53,183.952 \n",
       "  \"/>\n",
       "<polyline clip-path=\"url(#clip312)\" style=\"stroke:#000000; stroke-width:2; stroke-opacity:0.1; fill:none\" points=\"\n",
       "  970.455,1423.18 970.455,183.952 \n",
       "  \"/>\n",
       "<polyline clip-path=\"url(#clip312)\" style=\"stroke:#000000; stroke-width:2; stroke-opacity:0.1; fill:none\" points=\"\n",
       "  1411.38,1423.18 1411.38,183.952 \n",
       "  \"/>\n",
       "<polyline clip-path=\"url(#clip312)\" style=\"stroke:#000000; stroke-width:2; stroke-opacity:0.1; fill:none\" points=\"\n",
       "  1852.31,1423.18 1852.31,183.952 \n",
       "  \"/>\n",
       "<polyline clip-path=\"url(#clip312)\" style=\"stroke:#000000; stroke-width:2; stroke-opacity:0.1; fill:none\" points=\"\n",
       "  2293.23,1423.18 2293.23,183.952 \n",
       "  \"/>\n",
       "<polyline clip-path=\"url(#clip310)\" style=\"stroke:#000000; stroke-width:4; stroke-opacity:1; fill:none\" points=\"\n",
       "  249.542,1423.18 2352.76,1423.18 \n",
       "  \"/>\n",
       "<polyline clip-path=\"url(#clip310)\" style=\"stroke:#000000; stroke-width:4; stroke-opacity:1; fill:none\" points=\"\n",
       "  529.53,1423.18 529.53,1408.31 \n",
       "  \"/>\n",
       "<polyline clip-path=\"url(#clip310)\" style=\"stroke:#000000; stroke-width:4; stroke-opacity:1; fill:none\" points=\"\n",
       "  970.455,1423.18 970.455,1408.31 \n",
       "  \"/>\n",
       "<polyline clip-path=\"url(#clip310)\" style=\"stroke:#000000; stroke-width:4; stroke-opacity:1; fill:none\" points=\"\n",
       "  1411.38,1423.18 1411.38,1408.31 \n",
       "  \"/>\n",
       "<polyline clip-path=\"url(#clip310)\" style=\"stroke:#000000; stroke-width:4; stroke-opacity:1; fill:none\" points=\"\n",
       "  1852.31,1423.18 1852.31,1408.31 \n",
       "  \"/>\n",
       "<polyline clip-path=\"url(#clip310)\" style=\"stroke:#000000; stroke-width:4; stroke-opacity:1; fill:none\" points=\"\n",
       "  2293.23,1423.18 2293.23,1408.31 \n",
       "  \"/>\n",
       "<path clip-path=\"url(#clip310)\" d=\"M 0 0 M478.141 1479.92 L494.46 1479.92 L494.46 1483.85 L472.516 1483.85 L472.516 1479.92 Q475.178 1477.16 479.761 1472.53 Q484.368 1467.88 485.548 1466.54 Q487.794 1464.01 488.673 1462.28 Q489.576 1460.52 489.576 1458.83 Q489.576 1456.07 487.632 1454.34 Q485.71 1452.6 482.609 1452.6 Q480.41 1452.6 477.956 1453.37 Q475.525 1454.13 472.748 1455.68 L472.748 1450.96 Q475.572 1449.82 478.025 1449.25 Q480.479 1448.67 482.516 1448.67 Q487.886 1448.67 491.081 1451.35 Q494.275 1454.04 494.275 1458.53 Q494.275 1460.66 493.465 1462.58 Q492.678 1464.48 490.571 1467.07 Q489.993 1467.74 486.891 1470.96 Q483.789 1474.15 478.141 1479.92 Z\" fill=\"#000000\" fill-rule=\"evenodd\" fill-opacity=\"1\" /><path clip-path=\"url(#clip310)\" d=\"M 0 0 M514.275 1452.37 Q510.664 1452.37 508.835 1455.94 Q507.03 1459.48 507.03 1466.61 Q507.03 1473.71 508.835 1477.28 Q510.664 1480.82 514.275 1480.82 Q517.909 1480.82 519.715 1477.28 Q521.544 1473.71 521.544 1466.61 Q521.544 1459.48 519.715 1455.94 Q517.909 1452.37 514.275 1452.37 M514.275 1448.67 Q520.085 1448.67 523.141 1453.27 Q526.219 1457.86 526.219 1466.61 Q526.219 1475.33 523.141 1479.94 Q520.085 1484.52 514.275 1484.52 Q508.465 1484.52 505.386 1479.94 Q502.331 1475.33 502.331 1466.61 Q502.331 1457.86 505.386 1453.27 Q508.465 1448.67 514.275 1448.67 Z\" fill=\"#000000\" fill-rule=\"evenodd\" fill-opacity=\"1\" /><path clip-path=\"url(#clip310)\" d=\"M 0 0 M544.437 1452.37 Q540.826 1452.37 538.997 1455.94 Q537.192 1459.48 537.192 1466.61 Q537.192 1473.71 538.997 1477.28 Q540.826 1480.82 544.437 1480.82 Q548.071 1480.82 549.877 1477.28 Q551.705 1473.71 551.705 1466.61 Q551.705 1459.48 549.877 1455.94 Q548.071 1452.37 544.437 1452.37 M544.437 1448.67 Q550.247 1448.67 553.303 1453.27 Q556.381 1457.86 556.381 1466.61 Q556.381 1475.33 553.303 1479.94 Q550.247 1484.52 544.437 1484.52 Q538.627 1484.52 535.548 1479.94 Q532.493 1475.33 532.493 1466.61 Q532.493 1457.86 535.548 1453.27 Q538.627 1448.67 544.437 1448.67 Z\" fill=\"#000000\" fill-rule=\"evenodd\" fill-opacity=\"1\" /><path clip-path=\"url(#clip310)\" d=\"M 0 0 M574.599 1452.37 Q570.988 1452.37 569.159 1455.94 Q567.353 1459.48 567.353 1466.61 Q567.353 1473.71 569.159 1477.28 Q570.988 1480.82 574.599 1480.82 Q578.233 1480.82 580.039 1477.28 Q581.867 1473.71 581.867 1466.61 Q581.867 1459.48 580.039 1455.94 Q578.233 1452.37 574.599 1452.37 M574.599 1448.67 Q580.409 1448.67 583.465 1453.27 Q586.543 1457.86 586.543 1466.61 Q586.543 1475.33 583.465 1479.94 Q580.409 1484.52 574.599 1484.52 Q568.789 1484.52 565.71 1479.94 Q562.654 1475.33 562.654 1466.61 Q562.654 1457.86 565.71 1453.27 Q568.789 1448.67 574.599 1448.67 Z\" fill=\"#000000\" fill-rule=\"evenodd\" fill-opacity=\"1\" /><path clip-path=\"url(#clip310)\" d=\"M 0 0 M928.464 1453.37 L916.659 1471.81 L928.464 1471.81 L928.464 1453.37 M927.238 1449.29 L933.117 1449.29 L933.117 1471.81 L938.048 1471.81 L938.048 1475.7 L933.117 1475.7 L933.117 1483.85 L928.464 1483.85 L928.464 1475.7 L912.863 1475.7 L912.863 1471.19 L927.238 1449.29 Z\" fill=\"#000000\" fill-rule=\"evenodd\" fill-opacity=\"1\" /><path clip-path=\"url(#clip310)\" d=\"M 0 0 M955.779 1452.37 Q952.168 1452.37 950.339 1455.94 Q948.534 1459.48 948.534 1466.61 Q948.534 1473.71 950.339 1477.28 Q952.168 1480.82 955.779 1480.82 Q959.413 1480.82 961.219 1477.28 Q963.048 1473.71 963.048 1466.61 Q963.048 1459.48 961.219 1455.94 Q959.413 1452.37 955.779 1452.37 M955.779 1448.67 Q961.589 1448.67 964.645 1453.27 Q967.723 1457.86 967.723 1466.61 Q967.723 1475.33 964.645 1479.94 Q961.589 1484.52 955.779 1484.52 Q949.969 1484.52 946.89 1479.94 Q943.835 1475.33 943.835 1466.61 Q943.835 1457.86 946.89 1453.27 Q949.969 1448.67 955.779 1448.67 Z\" fill=\"#000000\" fill-rule=\"evenodd\" fill-opacity=\"1\" /><path clip-path=\"url(#clip310)\" d=\"M 0 0 M985.941 1452.37 Q982.33 1452.37 980.501 1455.94 Q978.696 1459.48 978.696 1466.61 Q978.696 1473.71 980.501 1477.28 Q982.33 1480.82 985.941 1480.82 Q989.575 1480.82 991.381 1477.28 Q993.209 1473.71 993.209 1466.61 Q993.209 1459.48 991.381 1455.94 Q989.575 1452.37 985.941 1452.37 M985.941 1448.67 Q991.751 1448.67 994.807 1453.27 Q997.885 1457.86 997.885 1466.61 Q997.885 1475.33 994.807 1479.94 Q991.751 1484.52 985.941 1484.52 Q980.131 1484.52 977.052 1479.94 Q973.997 1475.33 973.997 1466.61 Q973.997 1457.86 977.052 1453.27 Q980.131 1448.67 985.941 1448.67 Z\" fill=\"#000000\" fill-rule=\"evenodd\" fill-opacity=\"1\" /><path clip-path=\"url(#clip310)\" d=\"M 0 0 M1016.1 1452.37 Q1012.49 1452.37 1010.66 1455.94 Q1008.86 1459.48 1008.86 1466.61 Q1008.86 1473.71 1010.66 1477.28 Q1012.49 1480.82 1016.1 1480.82 Q1019.74 1480.82 1021.54 1477.28 Q1023.37 1473.71 1023.37 1466.61 Q1023.37 1459.48 1021.54 1455.94 Q1019.74 1452.37 1016.1 1452.37 M1016.1 1448.67 Q1021.91 1448.67 1024.97 1453.27 Q1028.05 1457.86 1028.05 1466.61 Q1028.05 1475.33 1024.97 1479.94 Q1021.91 1484.52 1016.1 1484.52 Q1010.29 1484.52 1007.21 1479.94 Q1004.16 1475.33 1004.16 1466.61 Q1004.16 1457.86 1007.21 1453.27 Q1010.29 1448.67 1016.1 1448.67 Z\" fill=\"#000000\" fill-rule=\"evenodd\" fill-opacity=\"1\" /><path clip-path=\"url(#clip310)\" d=\"M 0 0 M1366.62 1464.71 Q1363.48 1464.71 1361.62 1466.86 Q1359.79 1469.01 1359.79 1472.76 Q1359.79 1476.49 1361.62 1478.67 Q1363.48 1480.82 1366.62 1480.82 Q1369.77 1480.82 1371.6 1478.67 Q1373.45 1476.49 1373.45 1472.76 Q1373.45 1469.01 1371.6 1466.86 Q1369.77 1464.71 1366.62 1464.71 M1375.91 1450.06 L1375.91 1454.31 Q1374.15 1453.48 1372.34 1453.04 Q1370.56 1452.6 1368.8 1452.6 Q1364.17 1452.6 1361.72 1455.73 Q1359.29 1458.85 1358.94 1465.17 Q1360.3 1463.16 1362.36 1462.09 Q1364.42 1461 1366.9 1461 Q1372.11 1461 1375.12 1464.18 Q1378.15 1467.32 1378.15 1472.76 Q1378.15 1478.09 1375 1481.31 Q1371.86 1484.52 1366.62 1484.52 Q1360.63 1484.52 1357.46 1479.94 Q1354.29 1475.33 1354.29 1466.61 Q1354.29 1458.41 1358.17 1453.55 Q1362.06 1448.67 1368.61 1448.67 Q1370.37 1448.67 1372.16 1449.01 Q1373.96 1449.36 1375.91 1450.06 Z\" fill=\"#000000\" fill-rule=\"evenodd\" fill-opacity=\"1\" /><path clip-path=\"url(#clip310)\" d=\"M 0 0 M1396.21 1452.37 Q1392.6 1452.37 1390.77 1455.94 Q1388.96 1459.48 1388.96 1466.61 Q1388.96 1473.71 1390.77 1477.28 Q1392.6 1480.82 1396.21 1480.82 Q1399.84 1480.82 1401.65 1477.28 Q1403.48 1473.71 1403.48 1466.61 Q1403.48 1459.48 1401.65 1455.94 Q1399.84 1452.37 1396.21 1452.37 M1396.21 1448.67 Q1402.02 1448.67 1405.07 1453.27 Q1408.15 1457.86 1408.15 1466.61 Q1408.15 1475.33 1405.07 1479.94 Q1402.02 1484.52 1396.21 1484.52 Q1390.4 1484.52 1387.32 1479.94 Q1384.26 1475.33 1384.26 1466.61 Q1384.26 1457.86 1387.32 1453.27 Q1390.4 1448.67 1396.21 1448.67 Z\" fill=\"#000000\" fill-rule=\"evenodd\" fill-opacity=\"1\" /><path clip-path=\"url(#clip310)\" d=\"M 0 0 M1426.37 1452.37 Q1422.76 1452.37 1420.93 1455.94 Q1419.12 1459.48 1419.12 1466.61 Q1419.12 1473.71 1420.93 1477.28 Q1422.76 1480.82 1426.37 1480.82 Q1430 1480.82 1431.81 1477.28 Q1433.64 1473.71 1433.64 1466.61 Q1433.64 1459.48 1431.81 1455.94 Q1430 1452.37 1426.37 1452.37 M1426.37 1448.67 Q1432.18 1448.67 1435.23 1453.27 Q1438.31 1457.86 1438.31 1466.61 Q1438.31 1475.33 1435.23 1479.94 Q1432.18 1484.52 1426.37 1484.52 Q1420.56 1484.52 1417.48 1479.94 Q1414.42 1475.33 1414.42 1466.61 Q1414.42 1457.86 1417.48 1453.27 Q1420.56 1448.67 1426.37 1448.67 Z\" fill=\"#000000\" fill-rule=\"evenodd\" fill-opacity=\"1\" /><path clip-path=\"url(#clip310)\" d=\"M 0 0 M1456.53 1452.37 Q1452.92 1452.37 1451.09 1455.94 Q1449.29 1459.48 1449.29 1466.61 Q1449.29 1473.71 1451.09 1477.28 Q1452.92 1480.82 1456.53 1480.82 Q1460.16 1480.82 1461.97 1477.28 Q1463.8 1473.71 1463.8 1466.61 Q1463.8 1459.48 1461.97 1455.94 Q1460.16 1452.37 1456.53 1452.37 M1456.53 1448.67 Q1462.34 1448.67 1465.4 1453.27 Q1468.47 1457.86 1468.47 1466.61 Q1468.47 1475.33 1465.4 1479.94 Q1462.34 1484.52 1456.53 1484.52 Q1450.72 1484.52 1447.64 1479.94 Q1444.59 1475.33 1444.59 1466.61 Q1444.59 1457.86 1447.64 1453.27 Q1450.72 1448.67 1456.53 1448.67 Z\" fill=\"#000000\" fill-rule=\"evenodd\" fill-opacity=\"1\" /><path clip-path=\"url(#clip310)\" d=\"M 0 0 M1807.02 1467.44 Q1803.68 1467.44 1801.76 1469.22 Q1799.86 1471 1799.86 1474.13 Q1799.86 1477.25 1801.76 1479.04 Q1803.68 1480.82 1807.02 1480.82 Q1810.35 1480.82 1812.27 1479.04 Q1814.19 1477.23 1814.19 1474.13 Q1814.19 1471 1812.27 1469.22 Q1810.37 1467.44 1807.02 1467.44 M1802.34 1465.45 Q1799.33 1464.71 1797.64 1462.65 Q1795.97 1460.59 1795.97 1457.63 Q1795.97 1453.48 1798.91 1451.07 Q1801.88 1448.67 1807.02 1448.67 Q1812.18 1448.67 1815.12 1451.07 Q1818.06 1453.48 1818.06 1457.63 Q1818.06 1460.59 1816.37 1462.65 Q1814.7 1464.71 1811.72 1465.45 Q1815.1 1466.24 1816.97 1468.53 Q1818.87 1470.82 1818.87 1474.13 Q1818.87 1479.15 1815.79 1481.84 Q1812.73 1484.52 1807.02 1484.52 Q1801.3 1484.52 1798.22 1481.84 Q1795.16 1479.15 1795.16 1474.13 Q1795.16 1470.82 1797.06 1468.53 Q1798.96 1466.24 1802.34 1465.45 M1800.63 1458.06 Q1800.63 1460.75 1802.29 1462.25 Q1803.98 1463.76 1807.02 1463.76 Q1810.03 1463.76 1811.72 1462.25 Q1813.43 1460.75 1813.43 1458.06 Q1813.43 1455.38 1811.72 1453.88 Q1810.03 1452.37 1807.02 1452.37 Q1803.98 1452.37 1802.29 1453.88 Q1800.63 1455.38 1800.63 1458.06 Z\" fill=\"#000000\" fill-rule=\"evenodd\" fill-opacity=\"1\" /><path clip-path=\"url(#clip310)\" d=\"M 0 0 M1837.18 1452.37 Q1833.57 1452.37 1831.74 1455.94 Q1829.93 1459.48 1829.93 1466.61 Q1829.93 1473.71 1831.74 1477.28 Q1833.57 1480.82 1837.18 1480.82 Q1840.81 1480.82 1842.62 1477.28 Q1844.45 1473.71 1844.45 1466.61 Q1844.45 1459.48 1842.62 1455.94 Q1840.81 1452.37 1837.18 1452.37 M1837.18 1448.67 Q1842.99 1448.67 1846.04 1453.27 Q1849.12 1457.86 1849.12 1466.61 Q1849.12 1475.33 1846.04 1479.94 Q1842.99 1484.52 1837.18 1484.52 Q1831.37 1484.52 1828.29 1479.94 Q1825.23 1475.33 1825.23 1466.61 Q1825.23 1457.86 1828.29 1453.27 Q1831.37 1448.67 1837.18 1448.67 Z\" fill=\"#000000\" fill-rule=\"evenodd\" fill-opacity=\"1\" /><path clip-path=\"url(#clip310)\" d=\"M 0 0 M1867.34 1452.37 Q1863.73 1452.37 1861.9 1455.94 Q1860.09 1459.48 1860.09 1466.61 Q1860.09 1473.71 1861.9 1477.28 Q1863.73 1480.82 1867.34 1480.82 Q1870.97 1480.82 1872.78 1477.28 Q1874.61 1473.71 1874.61 1466.61 Q1874.61 1459.48 1872.78 1455.94 Q1870.97 1452.37 1867.34 1452.37 M1867.34 1448.67 Q1873.15 1448.67 1876.21 1453.27 Q1879.28 1457.86 1879.28 1466.61 Q1879.28 1475.33 1876.21 1479.94 Q1873.15 1484.52 1867.34 1484.52 Q1861.53 1484.52 1858.45 1479.94 Q1855.4 1475.33 1855.4 1466.61 Q1855.4 1457.86 1858.45 1453.27 Q1861.53 1448.67 1867.34 1448.67 Z\" fill=\"#000000\" fill-rule=\"evenodd\" fill-opacity=\"1\" /><path clip-path=\"url(#clip310)\" d=\"M 0 0 M1897.5 1452.37 Q1893.89 1452.37 1892.06 1455.94 Q1890.26 1459.48 1890.26 1466.61 Q1890.26 1473.71 1892.06 1477.28 Q1893.89 1480.82 1897.5 1480.82 Q1901.14 1480.82 1902.94 1477.28 Q1904.77 1473.71 1904.77 1466.61 Q1904.77 1459.48 1902.94 1455.94 Q1901.14 1452.37 1897.5 1452.37 M1897.5 1448.67 Q1903.31 1448.67 1906.37 1453.27 Q1909.45 1457.86 1909.45 1466.61 Q1909.45 1475.33 1906.37 1479.94 Q1903.31 1484.52 1897.5 1484.52 Q1891.69 1484.52 1888.61 1479.94 Q1885.56 1475.33 1885.56 1466.61 Q1885.56 1457.86 1888.61 1453.27 Q1891.69 1448.67 1897.5 1448.67 Z\" fill=\"#000000\" fill-rule=\"evenodd\" fill-opacity=\"1\" /><path clip-path=\"url(#clip310)\" d=\"M 0 0 M2222.68 1479.92 L2230.31 1479.92 L2230.31 1453.55 L2222 1455.22 L2222 1450.96 L2230.27 1449.29 L2234.94 1449.29 L2234.94 1479.92 L2242.58 1479.92 L2242.58 1483.85 L2222.68 1483.85 L2222.68 1479.92 Z\" fill=\"#000000\" fill-rule=\"evenodd\" fill-opacity=\"1\" /><path clip-path=\"url(#clip310)\" d=\"M 0 0 M2262.03 1452.37 Q2258.42 1452.37 2256.59 1455.94 Q2254.78 1459.48 2254.78 1466.61 Q2254.78 1473.71 2256.59 1477.28 Q2258.42 1480.82 2262.03 1480.82 Q2265.66 1480.82 2267.47 1477.28 Q2269.3 1473.71 2269.3 1466.61 Q2269.3 1459.48 2267.47 1455.94 Q2265.66 1452.37 2262.03 1452.37 M2262.03 1448.67 Q2267.84 1448.67 2270.89 1453.27 Q2273.97 1457.86 2273.97 1466.61 Q2273.97 1475.33 2270.89 1479.94 Q2267.84 1484.52 2262.03 1484.52 Q2256.22 1484.52 2253.14 1479.94 Q2250.08 1475.33 2250.08 1466.61 Q2250.08 1457.86 2253.14 1453.27 Q2256.22 1448.67 2262.03 1448.67 Z\" fill=\"#000000\" fill-rule=\"evenodd\" fill-opacity=\"1\" /><path clip-path=\"url(#clip310)\" d=\"M 0 0 M2292.19 1452.37 Q2288.58 1452.37 2286.75 1455.94 Q2284.94 1459.48 2284.94 1466.61 Q2284.94 1473.71 2286.75 1477.28 Q2288.58 1480.82 2292.19 1480.82 Q2295.82 1480.82 2297.63 1477.28 Q2299.46 1473.71 2299.46 1466.61 Q2299.46 1459.48 2297.63 1455.94 Q2295.82 1452.37 2292.19 1452.37 M2292.19 1448.67 Q2298 1448.67 2301.06 1453.27 Q2304.13 1457.86 2304.13 1466.61 Q2304.13 1475.33 2301.06 1479.94 Q2298 1484.52 2292.19 1484.52 Q2286.38 1484.52 2283.3 1479.94 Q2280.24 1475.33 2280.24 1466.61 Q2280.24 1457.86 2283.3 1453.27 Q2286.38 1448.67 2292.19 1448.67 Z\" fill=\"#000000\" fill-rule=\"evenodd\" fill-opacity=\"1\" /><path clip-path=\"url(#clip310)\" d=\"M 0 0 M2322.35 1452.37 Q2318.74 1452.37 2316.91 1455.94 Q2315.11 1459.48 2315.11 1466.61 Q2315.11 1473.71 2316.91 1477.28 Q2318.74 1480.82 2322.35 1480.82 Q2325.99 1480.82 2327.79 1477.28 Q2329.62 1473.71 2329.62 1466.61 Q2329.62 1459.48 2327.79 1455.94 Q2325.99 1452.37 2322.35 1452.37 M2322.35 1448.67 Q2328.16 1448.67 2331.22 1453.27 Q2334.3 1457.86 2334.3 1466.61 Q2334.3 1475.33 2331.22 1479.94 Q2328.16 1484.52 2322.35 1484.52 Q2316.54 1484.52 2313.46 1479.94 Q2310.41 1475.33 2310.41 1466.61 Q2310.41 1457.86 2313.46 1453.27 Q2316.54 1448.67 2322.35 1448.67 Z\" fill=\"#000000\" fill-rule=\"evenodd\" fill-opacity=\"1\" /><path clip-path=\"url(#clip310)\" d=\"M 0 0 M2352.51 1452.37 Q2348.9 1452.37 2347.07 1455.94 Q2345.27 1459.48 2345.27 1466.61 Q2345.27 1473.71 2347.07 1477.28 Q2348.9 1480.82 2352.51 1480.82 Q2356.15 1480.82 2357.95 1477.28 Q2359.78 1473.71 2359.78 1466.61 Q2359.78 1459.48 2357.95 1455.94 Q2356.15 1452.37 2352.51 1452.37 M2352.51 1448.67 Q2358.32 1448.67 2361.38 1453.27 Q2364.46 1457.86 2364.46 1466.61 Q2364.46 1475.33 2361.38 1479.94 Q2358.32 1484.52 2352.51 1484.52 Q2346.7 1484.52 2343.62 1479.94 Q2340.57 1475.33 2340.57 1466.61 Q2340.57 1457.86 2343.62 1453.27 Q2346.7 1448.67 2352.51 1448.67 Z\" fill=\"#000000\" fill-rule=\"evenodd\" fill-opacity=\"1\" /><path clip-path=\"url(#clip310)\" d=\"M 0 0 M1124.6 1550.12 Q1117.5 1550.12 1114.76 1551.75 Q1112.02 1553.37 1112.02 1557.29 Q1112.02 1560.4 1114.06 1562.25 Q1116.13 1564.07 1119.66 1564.07 Q1124.53 1564.07 1127.46 1560.63 Q1130.42 1557.16 1130.42 1551.43 L1130.42 1550.12 L1124.6 1550.12 M1136.28 1547.71 L1136.28 1568.04 L1130.42 1568.04 L1130.42 1562.63 Q1128.42 1565.88 1125.42 1567.44 Q1122.43 1568.97 1118.1 1568.97 Q1112.63 1568.97 1109.38 1565.91 Q1106.17 1562.82 1106.17 1557.67 Q1106.17 1551.65 1110.18 1548.6 Q1114.22 1545.54 1122.21 1545.54 L1130.42 1545.54 L1130.42 1544.97 Q1130.42 1540.93 1127.75 1538.73 Q1125.11 1536.5 1120.3 1536.5 Q1117.24 1536.5 1114.35 1537.23 Q1111.45 1537.97 1108.78 1539.43 L1108.78 1534.02 Q1111.99 1532.78 1115.02 1532.17 Q1118.04 1531.54 1120.9 1531.54 Q1128.64 1531.54 1132.46 1535.55 Q1136.28 1539.56 1136.28 1547.71 Z\" fill=\"#000000\" fill-rule=\"evenodd\" fill-opacity=\"1\" /><path clip-path=\"url(#clip310)\" d=\"M 0 0 M1169 1537.87 Q1168.01 1537.3 1166.83 1537.04 Q1165.69 1536.76 1164.29 1536.76 Q1159.32 1536.76 1156.65 1540 Q1154.01 1543.22 1154.01 1549.27 L1154.01 1568.04 L1148.12 1568.04 L1148.12 1532.4 L1154.01 1532.4 L1154.01 1537.93 Q1155.85 1534.69 1158.81 1533.13 Q1161.77 1531.54 1166.01 1531.54 Q1166.61 1531.54 1167.34 1531.63 Q1168.07 1531.7 1168.97 1531.85 L1169 1537.87 Z\" fill=\"#000000\" fill-rule=\"evenodd\" fill-opacity=\"1\" /><path clip-path=\"url(#clip310)\" d=\"M 0 0 M1194.65 1537.87 Q1193.66 1537.3 1192.49 1537.04 Q1191.34 1536.76 1189.94 1536.76 Q1184.97 1536.76 1182.3 1540 Q1179.66 1543.22 1179.66 1549.27 L1179.66 1568.04 L1173.77 1568.04 L1173.77 1532.4 L1179.66 1532.4 L1179.66 1537.93 Q1181.51 1534.69 1184.47 1533.13 Q1187.43 1531.54 1191.66 1531.54 Q1192.26 1531.54 1193 1531.63 Q1193.73 1531.7 1194.62 1531.85 L1194.65 1537.87 Z\" fill=\"#000000\" fill-rule=\"evenodd\" fill-opacity=\"1\" /><path clip-path=\"url(#clip310)\" d=\"M 0 0 M1216.99 1550.12 Q1209.9 1550.12 1207.16 1551.75 Q1204.42 1553.37 1204.42 1557.29 Q1204.42 1560.4 1206.46 1562.25 Q1208.53 1564.07 1212.06 1564.07 Q1216.93 1564.07 1219.86 1560.63 Q1222.82 1557.16 1222.82 1551.43 L1222.82 1550.12 L1216.99 1550.12 M1228.68 1547.71 L1228.68 1568.04 L1222.82 1568.04 L1222.82 1562.63 Q1220.81 1565.88 1217.82 1567.44 Q1214.83 1568.97 1210.5 1568.97 Q1205.03 1568.97 1201.78 1565.91 Q1198.57 1562.82 1198.57 1557.67 Q1198.57 1551.65 1202.58 1548.6 Q1206.62 1545.54 1214.61 1545.54 L1222.82 1545.54 L1222.82 1544.97 Q1222.82 1540.93 1220.15 1538.73 Q1217.5 1536.5 1212.7 1536.5 Q1209.64 1536.5 1206.75 1537.23 Q1203.85 1537.97 1201.18 1539.43 L1201.18 1534.02 Q1204.39 1532.78 1207.41 1532.17 Q1210.44 1531.54 1213.3 1531.54 Q1221.04 1531.54 1224.86 1535.55 Q1228.68 1539.56 1228.68 1547.71 Z\" fill=\"#000000\" fill-rule=\"evenodd\" fill-opacity=\"1\" /><path clip-path=\"url(#clip310)\" d=\"M 0 0 M1255.57 1571.35 Q1253.09 1577.72 1250.73 1579.66 Q1248.38 1581.6 1244.43 1581.6 L1239.75 1581.6 L1239.75 1576.7 L1243.19 1576.7 Q1245.61 1576.7 1246.94 1575.56 Q1248.28 1574.41 1249.91 1570.14 L1250.96 1567.47 L1236.54 1532.4 L1242.74 1532.4 L1253.88 1560.28 L1265.02 1532.4 L1271.23 1532.4 L1255.57 1571.35 Z\" fill=\"#000000\" fill-rule=\"evenodd\" fill-opacity=\"1\" /><path clip-path=\"url(#clip310)\" d=\"M 0 0 M1300.03 1518.52 L1305.89 1518.52 L1305.89 1568.04 L1300.03 1568.04 L1300.03 1518.52 Z\" fill=\"#000000\" fill-rule=\"evenodd\" fill-opacity=\"1\" /><path clip-path=\"url(#clip310)\" d=\"M 0 0 M1348.64 1548.76 L1348.64 1551.62 L1321.71 1551.62 Q1322.09 1557.67 1325.34 1560.85 Q1328.62 1564 1334.44 1564 Q1337.82 1564 1340.97 1563.17 Q1344.15 1562.35 1347.27 1560.69 L1347.27 1566.23 Q1344.12 1567.57 1340.81 1568.27 Q1337.5 1568.97 1334.09 1568.97 Q1325.56 1568.97 1320.56 1564 Q1315.6 1559.04 1315.6 1550.57 Q1315.6 1541.82 1320.31 1536.69 Q1325.05 1531.54 1333.07 1531.54 Q1340.27 1531.54 1344.44 1536.18 Q1348.64 1540.8 1348.64 1548.76 M1342.78 1547.04 Q1342.72 1542.23 1340.08 1539.37 Q1337.47 1536.5 1333.14 1536.5 Q1328.24 1536.5 1325.27 1539.27 Q1322.35 1542.04 1321.9 1547.07 L1342.78 1547.04 Z\" fill=\"#000000\" fill-rule=\"evenodd\" fill-opacity=\"1\" /><path clip-path=\"url(#clip310)\" d=\"M 0 0 M1387.88 1546.53 L1387.88 1568.04 L1382.03 1568.04 L1382.03 1546.72 Q1382.03 1541.66 1380.05 1539.14 Q1378.08 1536.63 1374.13 1536.63 Q1369.39 1536.63 1366.65 1539.65 Q1363.91 1542.68 1363.91 1547.9 L1363.91 1568.04 L1358.03 1568.04 L1358.03 1532.4 L1363.91 1532.4 L1363.91 1537.93 Q1366.02 1534.72 1368.85 1533.13 Q1371.71 1531.54 1375.44 1531.54 Q1381.58 1531.54 1384.73 1535.36 Q1387.88 1539.14 1387.88 1546.53 Z\" fill=\"#000000\" fill-rule=\"evenodd\" fill-opacity=\"1\" /><path clip-path=\"url(#clip310)\" d=\"M 0 0 M1423.02 1549.81 Q1423.02 1543.44 1420.38 1539.94 Q1417.77 1536.44 1413.03 1536.44 Q1408.32 1536.44 1405.67 1539.94 Q1403.06 1543.44 1403.06 1549.81 Q1403.06 1556.14 1405.67 1559.64 Q1408.32 1563.14 1413.03 1563.14 Q1417.77 1563.14 1420.38 1559.64 Q1423.02 1556.14 1423.02 1549.81 M1428.88 1563.62 Q1428.88 1572.72 1424.83 1577.15 Q1420.79 1581.6 1412.45 1581.6 Q1409.37 1581.6 1406.63 1581.13 Q1403.89 1580.68 1401.31 1579.72 L1401.31 1574.03 Q1403.89 1575.43 1406.41 1576.1 Q1408.92 1576.76 1411.53 1576.76 Q1417.29 1576.76 1420.16 1573.74 Q1423.02 1570.75 1423.02 1564.67 L1423.02 1561.77 Q1421.21 1564.92 1418.37 1566.48 Q1415.54 1568.04 1411.59 1568.04 Q1405.04 1568.04 1401.03 1563.05 Q1397.02 1558.05 1397.02 1549.81 Q1397.02 1541.53 1401.03 1536.53 Q1405.04 1531.54 1411.59 1531.54 Q1415.54 1531.54 1418.37 1533.1 Q1421.21 1534.66 1423.02 1537.81 L1423.02 1532.4 L1428.88 1532.4 L1428.88 1563.62 Z\" fill=\"#000000\" fill-rule=\"evenodd\" fill-opacity=\"1\" /><path clip-path=\"url(#clip310)\" d=\"M 0 0 M1446.73 1522.27 L1446.73 1532.4 L1458.8 1532.4 L1458.8 1536.95 L1446.73 1536.95 L1446.73 1556.3 Q1446.73 1560.66 1447.91 1561.9 Q1449.12 1563.14 1452.78 1563.14 L1458.8 1563.14 L1458.8 1568.04 L1452.78 1568.04 Q1446 1568.04 1443.42 1565.53 Q1440.84 1562.98 1440.84 1556.3 L1440.84 1536.95 L1436.55 1536.95 L1436.55 1532.4 L1440.84 1532.4 L1440.84 1522.27 L1446.73 1522.27 Z\" fill=\"#000000\" fill-rule=\"evenodd\" fill-opacity=\"1\" /><path clip-path=\"url(#clip310)\" d=\"M 0 0 M1496.13 1546.53 L1496.13 1568.04 L1490.27 1568.04 L1490.27 1546.72 Q1490.27 1541.66 1488.3 1539.14 Q1486.33 1536.63 1482.38 1536.63 Q1477.64 1536.63 1474.9 1539.65 Q1472.16 1542.68 1472.16 1547.9 L1472.16 1568.04 L1466.28 1568.04 L1466.28 1518.52 L1472.16 1518.52 L1472.16 1537.93 Q1474.26 1534.72 1477.1 1533.13 Q1479.96 1531.54 1483.69 1531.54 Q1489.83 1531.54 1492.98 1535.36 Q1496.13 1539.14 1496.13 1546.53 Z\" fill=\"#000000\" fill-rule=\"evenodd\" fill-opacity=\"1\" /><polyline clip-path=\"url(#clip312)\" style=\"stroke:#000000; stroke-width:2; stroke-opacity:0.1; fill:none\" points=\"\n",
       "  249.542,1297 2352.76,1297 \n",
       "  \"/>\n",
       "<polyline clip-path=\"url(#clip312)\" style=\"stroke:#000000; stroke-width:2; stroke-opacity:0.1; fill:none\" points=\"\n",
       "  249.542,1078.91 2352.76,1078.91 \n",
       "  \"/>\n",
       "<polyline clip-path=\"url(#clip312)\" style=\"stroke:#000000; stroke-width:2; stroke-opacity:0.1; fill:none\" points=\"\n",
       "  249.542,860.815 2352.76,860.815 \n",
       "  \"/>\n",
       "<polyline clip-path=\"url(#clip312)\" style=\"stroke:#000000; stroke-width:2; stroke-opacity:0.1; fill:none\" points=\"\n",
       "  249.542,642.724 2352.76,642.724 \n",
       "  \"/>\n",
       "<polyline clip-path=\"url(#clip312)\" style=\"stroke:#000000; stroke-width:2; stroke-opacity:0.1; fill:none\" points=\"\n",
       "  249.542,424.633 2352.76,424.633 \n",
       "  \"/>\n",
       "<polyline clip-path=\"url(#clip312)\" style=\"stroke:#000000; stroke-width:2; stroke-opacity:0.1; fill:none\" points=\"\n",
       "  249.542,206.541 2352.76,206.541 \n",
       "  \"/>\n",
       "<polyline clip-path=\"url(#clip310)\" style=\"stroke:#000000; stroke-width:4; stroke-opacity:1; fill:none\" points=\"\n",
       "  249.542,1423.18 249.542,183.952 \n",
       "  \"/>\n",
       "<polyline clip-path=\"url(#clip310)\" style=\"stroke:#000000; stroke-width:4; stroke-opacity:1; fill:none\" points=\"\n",
       "  249.542,1297 274.781,1297 \n",
       "  \"/>\n",
       "<polyline clip-path=\"url(#clip310)\" style=\"stroke:#000000; stroke-width:4; stroke-opacity:1; fill:none\" points=\"\n",
       "  249.542,1078.91 274.781,1078.91 \n",
       "  \"/>\n",
       "<polyline clip-path=\"url(#clip310)\" style=\"stroke:#000000; stroke-width:4; stroke-opacity:1; fill:none\" points=\"\n",
       "  249.542,860.815 274.781,860.815 \n",
       "  \"/>\n",
       "<polyline clip-path=\"url(#clip310)\" style=\"stroke:#000000; stroke-width:4; stroke-opacity:1; fill:none\" points=\"\n",
       "  249.542,642.724 274.781,642.724 \n",
       "  \"/>\n",
       "<polyline clip-path=\"url(#clip310)\" style=\"stroke:#000000; stroke-width:4; stroke-opacity:1; fill:none\" points=\"\n",
       "  249.542,424.633 274.781,424.633 \n",
       "  \"/>\n",
       "<polyline clip-path=\"url(#clip310)\" style=\"stroke:#000000; stroke-width:4; stroke-opacity:1; fill:none\" points=\"\n",
       "  249.542,206.541 274.781,206.541 \n",
       "  \"/>\n",
       "<path clip-path=\"url(#clip310)\" d=\"M 0 0 M126.205 1282.8 Q122.593 1282.8 120.765 1286.36 Q118.959 1289.9 118.959 1297.03 Q118.959 1304.14 120.765 1307.7 Q122.593 1311.25 126.205 1311.25 Q129.839 1311.25 131.644 1307.7 Q133.473 1304.14 133.473 1297.03 Q133.473 1289.9 131.644 1286.36 Q129.839 1282.8 126.205 1282.8 M126.205 1279.09 Q132.015 1279.09 135.07 1283.7 Q138.149 1288.28 138.149 1297.03 Q138.149 1305.76 135.07 1310.37 Q132.015 1314.95 126.205 1314.95 Q120.394 1314.95 117.316 1310.37 Q114.26 1305.76 114.26 1297.03 Q114.26 1288.28 117.316 1283.7 Q120.394 1279.09 126.205 1279.09 Z\" fill=\"#000000\" fill-rule=\"evenodd\" fill-opacity=\"1\" /><path clip-path=\"url(#clip310)\" d=\"M 0 0 M146.366 1308.4 L151.251 1308.4 L151.251 1314.28 L146.366 1314.28 L146.366 1308.4 Z\" fill=\"#000000\" fill-rule=\"evenodd\" fill-opacity=\"1\" /><path clip-path=\"url(#clip310)\" d=\"M 0 0 M171.436 1282.8 Q167.825 1282.8 165.996 1286.36 Q164.19 1289.9 164.19 1297.03 Q164.19 1304.14 165.996 1307.7 Q167.825 1311.25 171.436 1311.25 Q175.07 1311.25 176.876 1307.7 Q178.704 1304.14 178.704 1297.03 Q178.704 1289.9 176.876 1286.36 Q175.07 1282.8 171.436 1282.8 M171.436 1279.09 Q177.246 1279.09 180.301 1283.7 Q183.38 1288.28 183.38 1297.03 Q183.38 1305.76 180.301 1310.37 Q177.246 1314.95 171.436 1314.95 Q165.626 1314.95 162.547 1310.37 Q159.491 1305.76 159.491 1297.03 Q159.491 1288.28 162.547 1283.7 Q165.626 1279.09 171.436 1279.09 Z\" fill=\"#000000\" fill-rule=\"evenodd\" fill-opacity=\"1\" /><path clip-path=\"url(#clip310)\" d=\"M 0 0 M201.598 1282.8 Q197.987 1282.8 196.158 1286.36 Q194.352 1289.9 194.352 1297.03 Q194.352 1304.14 196.158 1307.7 Q197.987 1311.25 201.598 1311.25 Q205.232 1311.25 207.037 1307.7 Q208.866 1304.14 208.866 1297.03 Q208.866 1289.9 207.037 1286.36 Q205.232 1282.8 201.598 1282.8 M201.598 1279.09 Q207.408 1279.09 210.463 1283.7 Q213.542 1288.28 213.542 1297.03 Q213.542 1305.76 210.463 1310.37 Q207.408 1314.95 201.598 1314.95 Q195.787 1314.95 192.709 1310.37 Q189.653 1305.76 189.653 1297.03 Q189.653 1288.28 192.709 1283.7 Q195.787 1279.09 201.598 1279.09 Z\" fill=\"#000000\" fill-rule=\"evenodd\" fill-opacity=\"1\" /><path clip-path=\"url(#clip310)\" d=\"M 0 0 M127.2 1064.71 Q123.589 1064.71 121.76 1068.27 Q119.955 1071.81 119.955 1078.94 Q119.955 1086.05 121.76 1089.61 Q123.589 1093.15 127.2 1093.15 Q130.834 1093.15 132.64 1089.61 Q134.468 1086.05 134.468 1078.94 Q134.468 1071.81 132.64 1068.27 Q130.834 1064.71 127.2 1064.71 M127.2 1061 Q133.01 1061 136.066 1065.61 Q139.144 1070.19 139.144 1078.94 Q139.144 1087.67 136.066 1092.27 Q133.01 1096.86 127.2 1096.86 Q121.39 1096.86 118.311 1092.27 Q115.256 1087.67 115.256 1078.94 Q115.256 1070.19 118.311 1065.61 Q121.39 1061 127.2 1061 Z\" fill=\"#000000\" fill-rule=\"evenodd\" fill-opacity=\"1\" /><path clip-path=\"url(#clip310)\" d=\"M 0 0 M147.362 1090.31 L152.246 1090.31 L152.246 1096.19 L147.362 1096.19 L147.362 1090.31 Z\" fill=\"#000000\" fill-rule=\"evenodd\" fill-opacity=\"1\" /><path clip-path=\"url(#clip310)\" d=\"M 0 0 M172.431 1064.71 Q168.82 1064.71 166.991 1068.27 Q165.186 1071.81 165.186 1078.94 Q165.186 1086.05 166.991 1089.61 Q168.82 1093.15 172.431 1093.15 Q176.065 1093.15 177.871 1089.61 Q179.7 1086.05 179.7 1078.94 Q179.7 1071.81 177.871 1068.27 Q176.065 1064.71 172.431 1064.71 M172.431 1061 Q178.241 1061 181.297 1065.61 Q184.376 1070.19 184.376 1078.94 Q184.376 1087.67 181.297 1092.27 Q178.241 1096.86 172.431 1096.86 Q166.621 1096.86 163.542 1092.27 Q160.487 1087.67 160.487 1078.94 Q160.487 1070.19 163.542 1065.61 Q166.621 1061 172.431 1061 Z\" fill=\"#000000\" fill-rule=\"evenodd\" fill-opacity=\"1\" /><path clip-path=\"url(#clip310)\" d=\"M 0 0 M192.639 1061.63 L210.996 1061.63 L210.996 1065.56 L196.922 1065.56 L196.922 1074.03 Q197.94 1073.69 198.959 1073.53 Q199.977 1073.34 200.996 1073.34 Q206.783 1073.34 210.162 1076.51 Q213.542 1079.68 213.542 1085.1 Q213.542 1090.68 210.07 1093.78 Q206.598 1096.86 200.278 1096.86 Q198.102 1096.86 195.834 1096.49 Q193.588 1096.12 191.181 1095.38 L191.181 1090.68 Q193.264 1091.81 195.487 1092.37 Q197.709 1092.92 200.186 1092.92 Q204.19 1092.92 206.528 1090.82 Q208.866 1088.71 208.866 1085.1 Q208.866 1081.49 206.528 1079.38 Q204.19 1077.28 200.186 1077.28 Q198.311 1077.28 196.436 1077.69 Q194.584 1078.11 192.639 1078.99 L192.639 1061.63 Z\" fill=\"#000000\" fill-rule=\"evenodd\" fill-opacity=\"1\" /><path clip-path=\"url(#clip310)\" d=\"M 0 0 M126.205 846.614 Q122.593 846.614 120.765 850.179 Q118.959 853.721 118.959 860.85 Q118.959 867.957 120.765 871.521 Q122.593 875.063 126.205 875.063 Q129.839 875.063 131.644 871.521 Q133.473 867.957 133.473 860.85 Q133.473 853.721 131.644 850.179 Q129.839 846.614 126.205 846.614 M126.205 842.91 Q132.015 842.91 135.07 847.517 Q138.149 852.1 138.149 860.85 Q138.149 869.577 135.07 874.183 Q132.015 878.767 126.205 878.767 Q120.394 878.767 117.316 874.183 Q114.26 869.577 114.26 860.85 Q114.26 852.1 117.316 847.517 Q120.394 842.91 126.205 842.91 Z\" fill=\"#000000\" fill-rule=\"evenodd\" fill-opacity=\"1\" /><path clip-path=\"url(#clip310)\" d=\"M 0 0 M146.366 872.216 L151.251 872.216 L151.251 878.095 L146.366 878.095 L146.366 872.216 Z\" fill=\"#000000\" fill-rule=\"evenodd\" fill-opacity=\"1\" /><path clip-path=\"url(#clip310)\" d=\"M 0 0 M162.246 874.16 L169.885 874.16 L169.885 847.795 L161.575 849.461 L161.575 845.202 L169.839 843.535 L174.514 843.535 L174.514 874.16 L182.153 874.16 L182.153 878.095 L162.246 878.095 L162.246 874.16 Z\" fill=\"#000000\" fill-rule=\"evenodd\" fill-opacity=\"1\" /><path clip-path=\"url(#clip310)\" d=\"M 0 0 M201.598 846.614 Q197.987 846.614 196.158 850.179 Q194.352 853.721 194.352 860.85 Q194.352 867.957 196.158 871.521 Q197.987 875.063 201.598 875.063 Q205.232 875.063 207.037 871.521 Q208.866 867.957 208.866 860.85 Q208.866 853.721 207.037 850.179 Q205.232 846.614 201.598 846.614 M201.598 842.91 Q207.408 842.91 210.463 847.517 Q213.542 852.1 213.542 860.85 Q213.542 869.577 210.463 874.183 Q207.408 878.767 201.598 878.767 Q195.787 878.767 192.709 874.183 Q189.653 869.577 189.653 860.85 Q189.653 852.1 192.709 847.517 Q195.787 842.91 201.598 842.91 Z\" fill=\"#000000\" fill-rule=\"evenodd\" fill-opacity=\"1\" /><path clip-path=\"url(#clip310)\" d=\"M 0 0 M127.2 628.523 Q123.589 628.523 121.76 632.087 Q119.955 635.629 119.955 642.759 Q119.955 649.865 121.76 653.43 Q123.589 656.972 127.2 656.972 Q130.834 656.972 132.64 653.43 Q134.468 649.865 134.468 642.759 Q134.468 635.629 132.64 632.087 Q130.834 628.523 127.2 628.523 M127.2 624.819 Q133.01 624.819 136.066 629.425 Q139.144 634.009 139.144 642.759 Q139.144 651.486 136.066 656.092 Q133.01 660.675 127.2 660.675 Q121.39 660.675 118.311 656.092 Q115.256 651.486 115.256 642.759 Q115.256 634.009 118.311 629.425 Q121.39 624.819 127.2 624.819 Z\" fill=\"#000000\" fill-rule=\"evenodd\" fill-opacity=\"1\" /><path clip-path=\"url(#clip310)\" d=\"M 0 0 M147.362 654.124 L152.246 654.124 L152.246 660.004 L147.362 660.004 L147.362 654.124 Z\" fill=\"#000000\" fill-rule=\"evenodd\" fill-opacity=\"1\" /><path clip-path=\"url(#clip310)\" d=\"M 0 0 M163.241 656.069 L170.88 656.069 L170.88 629.703 L162.57 631.37 L162.57 627.111 L170.834 625.444 L175.51 625.444 L175.51 656.069 L183.149 656.069 L183.149 660.004 L163.241 660.004 L163.241 656.069 Z\" fill=\"#000000\" fill-rule=\"evenodd\" fill-opacity=\"1\" /><path clip-path=\"url(#clip310)\" d=\"M 0 0 M192.639 625.444 L210.996 625.444 L210.996 629.379 L196.922 629.379 L196.922 637.851 Q197.94 637.504 198.959 637.342 Q199.977 637.157 200.996 637.157 Q206.783 637.157 210.162 640.328 Q213.542 643.499 213.542 648.916 Q213.542 654.495 210.07 657.597 Q206.598 660.675 200.278 660.675 Q198.102 660.675 195.834 660.305 Q193.588 659.935 191.181 659.194 L191.181 654.495 Q193.264 655.629 195.487 656.185 Q197.709 656.74 200.186 656.74 Q204.19 656.74 206.528 654.634 Q208.866 652.527 208.866 648.916 Q208.866 645.305 206.528 643.199 Q204.19 641.092 200.186 641.092 Q198.311 641.092 196.436 641.509 Q194.584 641.925 192.639 642.805 L192.639 625.444 Z\" fill=\"#000000\" fill-rule=\"evenodd\" fill-opacity=\"1\" /><path clip-path=\"url(#clip310)\" d=\"M 0 0 M126.205 410.431 Q122.593 410.431 120.765 413.996 Q118.959 417.538 118.959 424.667 Q118.959 431.774 120.765 435.338 Q122.593 438.88 126.205 438.88 Q129.839 438.88 131.644 435.338 Q133.473 431.774 133.473 424.667 Q133.473 417.538 131.644 413.996 Q129.839 410.431 126.205 410.431 M126.205 406.728 Q132.015 406.728 135.07 411.334 Q138.149 415.917 138.149 424.667 Q138.149 433.394 135.07 438.001 Q132.015 442.584 126.205 442.584 Q120.394 442.584 117.316 438.001 Q114.26 433.394 114.26 424.667 Q114.26 415.917 117.316 411.334 Q120.394 406.728 126.205 406.728 Z\" fill=\"#000000\" fill-rule=\"evenodd\" fill-opacity=\"1\" /><path clip-path=\"url(#clip310)\" d=\"M 0 0 M146.366 436.033 L151.251 436.033 L151.251 441.913 L146.366 441.913 L146.366 436.033 Z\" fill=\"#000000\" fill-rule=\"evenodd\" fill-opacity=\"1\" /><path clip-path=\"url(#clip310)\" d=\"M 0 0 M165.464 437.977 L181.783 437.977 L181.783 441.913 L159.839 441.913 L159.839 437.977 Q162.501 435.223 167.084 430.593 Q171.69 425.94 172.871 424.598 Q175.116 422.075 175.996 420.339 Q176.899 418.579 176.899 416.89 Q176.899 414.135 174.954 412.399 Q173.033 410.663 169.931 410.663 Q167.732 410.663 165.278 411.427 Q162.848 412.19 160.07 413.741 L160.07 409.019 Q162.894 407.885 165.348 407.306 Q167.802 406.728 169.839 406.728 Q175.209 406.728 178.403 409.413 Q181.598 412.098 181.598 416.589 Q181.598 418.718 180.788 420.64 Q180.001 422.538 177.894 425.13 Q177.315 425.802 174.214 429.019 Q171.112 432.214 165.464 437.977 Z\" fill=\"#000000\" fill-rule=\"evenodd\" fill-opacity=\"1\" /><path clip-path=\"url(#clip310)\" d=\"M 0 0 M201.598 410.431 Q197.987 410.431 196.158 413.996 Q194.352 417.538 194.352 424.667 Q194.352 431.774 196.158 435.338 Q197.987 438.88 201.598 438.88 Q205.232 438.88 207.037 435.338 Q208.866 431.774 208.866 424.667 Q208.866 417.538 207.037 413.996 Q205.232 410.431 201.598 410.431 M201.598 406.728 Q207.408 406.728 210.463 411.334 Q213.542 415.917 213.542 424.667 Q213.542 433.394 210.463 438.001 Q207.408 442.584 201.598 442.584 Q195.787 442.584 192.709 438.001 Q189.653 433.394 189.653 424.667 Q189.653 415.917 192.709 411.334 Q195.787 406.728 201.598 406.728 Z\" fill=\"#000000\" fill-rule=\"evenodd\" fill-opacity=\"1\" /><path clip-path=\"url(#clip310)\" d=\"M 0 0 M127.2 192.34 Q123.589 192.34 121.76 195.905 Q119.955 199.446 119.955 206.576 Q119.955 213.682 121.76 217.247 Q123.589 220.789 127.2 220.789 Q130.834 220.789 132.64 217.247 Q134.468 213.682 134.468 206.576 Q134.468 199.446 132.64 195.905 Q130.834 192.34 127.2 192.34 M127.2 188.636 Q133.01 188.636 136.066 193.243 Q139.144 197.826 139.144 206.576 Q139.144 215.303 136.066 219.909 Q133.01 224.492 127.2 224.492 Q121.39 224.492 118.311 219.909 Q115.256 215.303 115.256 206.576 Q115.256 197.826 118.311 193.243 Q121.39 188.636 127.2 188.636 Z\" fill=\"#000000\" fill-rule=\"evenodd\" fill-opacity=\"1\" /><path clip-path=\"url(#clip310)\" d=\"M 0 0 M147.362 217.941 L152.246 217.941 L152.246 223.821 L147.362 223.821 L147.362 217.941 Z\" fill=\"#000000\" fill-rule=\"evenodd\" fill-opacity=\"1\" /><path clip-path=\"url(#clip310)\" d=\"M 0 0 M166.459 219.886 L182.778 219.886 L182.778 223.821 L160.834 223.821 L160.834 219.886 Q163.496 217.131 168.079 212.502 Q172.686 207.849 173.866 206.506 Q176.112 203.983 176.991 202.247 Q177.894 200.488 177.894 198.798 Q177.894 196.043 175.95 194.307 Q174.028 192.571 170.927 192.571 Q168.727 192.571 166.274 193.335 Q163.843 194.099 161.065 195.65 L161.065 190.928 Q163.89 189.793 166.343 189.215 Q168.797 188.636 170.834 188.636 Q176.204 188.636 179.399 191.321 Q182.593 194.006 182.593 198.497 Q182.593 200.627 181.783 202.548 Q180.996 204.446 178.889 207.039 Q178.311 207.71 175.209 210.928 Q172.107 214.122 166.459 219.886 Z\" fill=\"#000000\" fill-rule=\"evenodd\" fill-opacity=\"1\" /><path clip-path=\"url(#clip310)\" d=\"M 0 0 M192.639 189.261 L210.996 189.261 L210.996 193.196 L196.922 193.196 L196.922 201.668 Q197.94 201.321 198.959 201.159 Q199.977 200.974 200.996 200.974 Q206.783 200.974 210.162 204.145 Q213.542 207.317 213.542 212.733 Q213.542 218.312 210.07 221.414 Q206.598 224.492 200.278 224.492 Q198.102 224.492 195.834 224.122 Q193.588 223.752 191.181 223.011 L191.181 218.312 Q193.264 219.446 195.487 220.002 Q197.709 220.557 200.186 220.557 Q204.19 220.557 206.528 218.451 Q208.866 216.344 208.866 212.733 Q208.866 209.122 206.528 207.016 Q204.19 204.909 200.186 204.909 Q198.311 204.909 196.436 205.326 Q194.584 205.742 192.639 206.622 L192.639 189.261 Z\" fill=\"#000000\" fill-rule=\"evenodd\" fill-opacity=\"1\" /><path clip-path=\"url(#clip310)\" d=\"M 0 0 M18.2347 864.406 L28.3562 864.406 L28.3562 852.343 L32.9077 852.343 L32.9077 864.406 L52.2594 864.406 Q56.6199 864.406 57.8613 863.229 Q59.1026 862.019 59.1026 858.359 L59.1026 852.343 L64.0042 852.343 L64.0042 858.359 Q64.0042 865.138 61.4897 867.716 Q58.9434 870.295 52.2594 870.295 L32.9077 870.295 L32.9077 874.591 L28.3562 874.591 L28.3562 870.295 L18.2347 870.295 L18.2347 864.406 Z\" fill=\"#000000\" fill-rule=\"evenodd\" fill-opacity=\"1\" /><path clip-path=\"url(#clip310)\" d=\"M 0 0 M28.3562 844.641 L28.3562 838.784 L64.0042 838.784 L64.0042 844.641 L28.3562 844.641 M14.479 844.641 L14.479 838.784 L21.895 838.784 L21.895 844.641 L14.479 844.641 Z\" fill=\"#000000\" fill-rule=\"evenodd\" fill-opacity=\"1\" /><path clip-path=\"url(#clip310)\" d=\"M 0 0 M35.1993 798.776 Q31.2526 796.58 29.3747 793.524 Q27.4968 790.469 27.4968 786.331 Q27.4968 780.761 31.4117 777.737 Q35.2948 774.713 42.4881 774.713 L64.0042 774.713 L64.0042 780.602 L42.679 780.602 Q37.5546 780.602 35.072 782.416 Q32.5894 784.23 32.5894 787.954 Q32.5894 792.506 35.6131 795.147 Q38.6368 797.789 43.8567 797.789 L64.0042 797.789 L64.0042 803.677 L42.679 803.677 Q37.5228 803.677 35.072 805.492 Q32.5894 807.306 32.5894 811.093 Q32.5894 815.581 35.6449 818.223 Q38.6686 820.865 43.8567 820.865 L64.0042 820.865 L64.0042 826.753 L28.3562 826.753 L28.3562 820.865 L33.8944 820.865 Q30.616 818.86 29.0564 816.059 Q27.4968 813.258 27.4968 809.407 Q27.4968 805.523 29.4702 802.818 Q31.4436 800.081 35.1993 798.776 Z\" fill=\"#000000\" fill-rule=\"evenodd\" fill-opacity=\"1\" /><path clip-path=\"url(#clip310)\" d=\"M 0 0 M44.7161 732.541 L47.5806 732.541 L47.5806 759.468 Q53.6281 759.086 56.8109 755.839 Q59.9619 752.561 59.9619 746.736 Q59.9619 743.362 59.1344 740.211 Q58.3069 737.028 56.6518 733.909 L62.1899 733.909 Q63.5267 737.06 64.227 740.37 Q64.9272 743.681 64.9272 747.086 Q64.9272 755.616 59.9619 760.613 Q54.9967 765.579 46.5303 765.579 Q37.7774 765.579 32.6531 760.868 Q27.4968 756.126 27.4968 748.105 Q27.4968 740.912 32.1438 736.742 Q36.7589 732.541 44.7161 732.541 M42.9973 738.397 Q38.1912 738.461 35.3266 741.102 Q32.4621 743.712 32.4621 748.041 Q32.4621 752.943 35.2312 755.903 Q38.0002 758.831 43.0292 759.277 L42.9973 738.397 Z\" fill=\"#000000\" fill-rule=\"evenodd\" fill-opacity=\"1\" /><path clip-path=\"url(#clip310)\" d=\"M 0 0 M533.543 12.096 L545.736 12.096 L561.17 53.2532 L576.685 12.096 L588.878 12.096 L588.878 72.576 L580.898 72.576 L580.898 19.4686 L565.302 60.9499 L557.079 60.9499 L541.483 19.4686 L541.483 72.576 L533.543 72.576 L533.543 12.096 Z\" fill=\"#000000\" fill-rule=\"evenodd\" fill-opacity=\"1\" /><path clip-path=\"url(#clip310)\" d=\"M 0 0 M643.606 48.0275 L643.606 51.6733 L609.336 51.6733 Q609.822 59.3701 613.954 63.421 Q618.126 67.4314 625.539 67.4314 Q629.833 67.4314 633.844 66.3781 Q637.894 65.3249 641.864 63.2184 L641.864 70.267 Q637.854 71.9684 633.641 72.8596 Q629.428 73.7508 625.094 73.7508 Q614.237 73.7508 607.877 67.4314 Q601.558 61.1119 601.558 50.3365 Q601.558 39.1965 607.553 32.6746 Q613.589 26.1121 623.797 26.1121 Q632.952 26.1121 638.259 32.0264 Q643.606 37.9003 643.606 48.0275 M636.153 45.84 Q636.072 39.7232 632.709 36.0774 Q629.388 32.4315 623.878 32.4315 Q617.64 32.4315 613.873 35.9558 Q610.146 39.4801 609.579 45.8805 L636.153 45.84 Z\" fill=\"#000000\" fill-rule=\"evenodd\" fill-opacity=\"1\" /><path clip-path=\"url(#clip310)\" d=\"M 0 0 M676.459 49.7694 Q667.426 49.7694 663.942 51.8354 Q660.458 53.9013 660.458 58.8839 Q660.458 62.8538 663.051 65.2034 Q665.684 67.5124 670.18 67.5124 Q676.378 67.5124 680.105 63.1374 Q683.872 58.7219 683.872 51.4303 L683.872 49.7694 L676.459 49.7694 M691.326 46.6907 L691.326 72.576 L683.872 72.576 L683.872 65.6895 Q681.32 69.8214 677.512 71.8063 Q673.704 73.7508 668.195 73.7508 Q661.228 73.7508 657.096 69.8619 Q653.004 65.9325 653.004 59.3701 Q653.004 51.7138 658.108 47.825 Q663.253 43.9361 673.421 43.9361 L683.872 43.9361 L683.872 43.2069 Q683.872 38.0623 680.469 35.2672 Q677.107 32.4315 670.99 32.4315 Q667.101 32.4315 663.415 33.3632 Q659.729 34.295 656.326 36.1584 L656.326 29.2718 Q660.417 27.692 664.266 26.9223 Q668.114 26.1121 671.76 26.1121 Q681.604 26.1121 686.465 31.2163 Q691.326 36.3204 691.326 46.6907 Z\" fill=\"#000000\" fill-rule=\"evenodd\" fill-opacity=\"1\" /><path clip-path=\"url(#clip310)\" d=\"M 0 0 M744.393 45.1919 L744.393 72.576 L736.939 72.576 L736.939 45.4349 Q736.939 38.994 734.427 35.7938 Q731.916 32.5936 726.893 32.5936 Q720.857 32.5936 717.373 36.4419 Q713.889 40.2903 713.889 46.9338 L713.889 72.576 L706.395 72.576 L706.395 27.2059 L713.889 27.2059 L713.889 34.2544 Q716.563 30.163 720.168 28.1376 Q723.814 26.1121 728.554 26.1121 Q736.372 26.1121 740.382 30.9732 Q744.393 35.7938 744.393 45.1919 Z\" fill=\"#000000\" fill-rule=\"evenodd\" fill-opacity=\"1\" /><path clip-path=\"url(#clip310)\" d=\"M 0 0 M788.183 28.5427 L788.183 35.5912 Q785.023 33.9709 781.621 33.1607 Q778.218 32.3505 774.572 32.3505 Q769.022 32.3505 766.227 34.0519 Q763.472 35.7533 763.472 39.156 Q763.472 41.7486 765.457 43.2475 Q767.442 44.7058 773.438 46.0426 L775.99 46.6097 Q783.93 48.3111 787.251 51.4303 Q790.614 54.509 790.614 60.0587 Q790.614 66.3781 785.59 70.0644 Q780.608 73.7508 771.858 73.7508 Q768.212 73.7508 764.242 73.0216 Q760.313 72.3329 755.938 70.9151 L755.938 63.2184 Q760.07 65.3654 764.08 66.4591 Q768.09 67.5124 772.02 67.5124 Q777.286 67.5124 780.122 65.73 Q782.957 63.9071 782.957 60.6258 Q782.957 57.5877 780.891 55.9673 Q778.866 54.3469 771.939 52.8481 L769.346 52.2405 Q762.419 50.7821 759.341 47.7845 Q756.262 44.7463 756.262 39.4801 Q756.262 33.0797 760.799 29.5959 Q765.336 26.1121 773.681 26.1121 Q777.813 26.1121 781.458 26.7198 Q785.104 27.3274 788.183 28.5427 Z\" fill=\"#000000\" fill-rule=\"evenodd\" fill-opacity=\"1\" /><path clip-path=\"url(#clip310)\" d=\"M 0 0 M846.435 32.4315 Q840.44 32.4315 836.956 37.1306 Q833.472 41.7891 833.472 49.9314 Q833.472 58.0738 836.915 62.7728 Q840.399 67.4314 846.435 67.4314 Q852.39 67.4314 855.874 62.7323 Q859.357 58.0333 859.357 49.9314 Q859.357 41.8701 855.874 37.1711 Q852.39 32.4315 846.435 32.4315 M846.435 26.1121 Q856.157 26.1121 861.707 32.4315 Q867.257 38.7509 867.257 49.9314 Q867.257 61.0714 861.707 67.4314 Q856.157 73.7508 846.435 73.7508 Q836.672 73.7508 831.123 67.4314 Q825.613 61.0714 825.613 49.9314 Q825.613 38.7509 831.123 32.4315 Q836.672 26.1121 846.435 26.1121 Z\" fill=\"#000000\" fill-rule=\"evenodd\" fill-opacity=\"1\" /><path clip-path=\"url(#clip310)\" d=\"M 0 0 M902.581 9.54393 L902.581 15.7418 L895.451 15.7418 Q891.441 15.7418 889.861 17.3622 Q888.321 18.9825 888.321 23.1955 L888.321 27.2059 L900.596 27.2059 L900.596 32.9987 L888.321 32.9987 L888.321 72.576 L880.827 72.576 L880.827 32.9987 L873.698 32.9987 L873.698 27.2059 L880.827 27.2059 L880.827 24.0462 Q880.827 16.471 884.351 13.0277 Q887.876 9.54393 895.532 9.54393 L902.581 9.54393 Z\" fill=\"#000000\" fill-rule=\"evenodd\" fill-opacity=\"1\" /><path clip-path=\"url(#clip310)\" d=\"M 0 0 M942.563 14.324 L942.563 27.2059 L957.916 27.2059 L957.916 32.9987 L942.563 32.9987 L942.563 57.6282 Q942.563 63.1779 944.062 64.7578 Q945.601 66.3376 950.26 66.3376 L957.916 66.3376 L957.916 72.576 L950.26 72.576 Q941.631 72.576 938.35 69.3758 Q935.069 66.1351 935.069 57.6282 L935.069 32.9987 L929.6 32.9987 L929.6 27.2059 L935.069 27.2059 L935.069 14.324 L942.563 14.324 Z\" fill=\"#000000\" fill-rule=\"evenodd\" fill-opacity=\"1\" /><path clip-path=\"url(#clip310)\" d=\"M 0 0 M967.719 27.2059 L975.173 27.2059 L975.173 72.576 L967.719 72.576 L967.719 27.2059 M967.719 9.54393 L975.173 9.54393 L975.173 18.9825 L967.719 18.9825 L967.719 9.54393 Z\" fill=\"#000000\" fill-rule=\"evenodd\" fill-opacity=\"1\" /><path clip-path=\"url(#clip310)\" d=\"M 0 0 M1026.09 35.9153 Q1028.89 30.8922 1032.78 28.5022 Q1036.67 26.1121 1041.93 26.1121 Q1049.02 26.1121 1052.87 31.0947 Q1056.72 36.0368 1056.72 45.1919 L1056.72 72.576 L1049.22 72.576 L1049.22 45.4349 Q1049.22 38.913 1046.91 35.7533 Q1044.61 32.5936 1039.87 32.5936 Q1034.07 32.5936 1030.71 36.4419 Q1027.35 40.2903 1027.35 46.9338 L1027.35 72.576 L1019.85 72.576 L1019.85 45.4349 Q1019.85 38.8725 1017.55 35.7533 Q1015.24 32.5936 1010.42 32.5936 Q1004.7 32.5936 1001.34 36.4824 Q997.979 40.3308 997.979 46.9338 L997.979 72.576 L990.485 72.576 L990.485 27.2059 L997.979 27.2059 L997.979 34.2544 Q1000.53 30.082 1004.1 28.0971 Q1007.66 26.1121 1012.56 26.1121 Q1017.5 26.1121 1020.95 28.6237 Q1024.43 31.1352 1026.09 35.9153 Z\" fill=\"#000000\" fill-rule=\"evenodd\" fill-opacity=\"1\" /><path clip-path=\"url(#clip310)\" d=\"M 0 0 M1110.39 48.0275 L1110.39 51.6733 L1076.12 51.6733 Q1076.61 59.3701 1080.74 63.421 Q1084.91 67.4314 1092.32 67.4314 Q1096.62 67.4314 1100.63 66.3781 Q1104.68 65.3249 1108.65 63.2184 L1108.65 70.267 Q1104.64 71.9684 1100.43 72.8596 Q1096.21 73.7508 1091.88 73.7508 Q1081.02 73.7508 1074.66 67.4314 Q1068.34 61.1119 1068.34 50.3365 Q1068.34 39.1965 1074.34 32.6746 Q1080.37 26.1121 1090.58 26.1121 Q1099.74 26.1121 1105.04 32.0264 Q1110.39 37.9003 1110.39 48.0275 M1102.94 45.84 Q1102.86 39.7232 1099.49 36.0774 Q1096.17 32.4315 1090.66 32.4315 Q1084.43 32.4315 1080.66 35.9558 Q1076.93 39.4801 1076.36 45.8805 L1102.94 45.84 Z\" fill=\"#000000\" fill-rule=\"evenodd\" fill-opacity=\"1\" /><path clip-path=\"url(#clip310)\" d=\"M 0 0 M1166.58 32.4315 Q1160.58 32.4315 1157.1 37.1306 Q1153.62 41.7891 1153.62 49.9314 Q1153.62 58.0738 1157.06 62.7728 Q1160.54 67.4314 1166.58 67.4314 Q1172.53 67.4314 1176.02 62.7323 Q1179.5 58.0333 1179.5 49.9314 Q1179.5 41.8701 1176.02 37.1711 Q1172.53 32.4315 1166.58 32.4315 M1166.58 26.1121 Q1176.3 26.1121 1181.85 32.4315 Q1187.4 38.7509 1187.4 49.9314 Q1187.4 61.0714 1181.85 67.4314 Q1176.3 73.7508 1166.58 73.7508 Q1156.82 73.7508 1151.27 67.4314 Q1145.76 61.0714 1145.76 49.9314 Q1145.76 38.7509 1151.27 32.4315 Q1156.82 26.1121 1166.58 26.1121 Z\" fill=\"#000000\" fill-rule=\"evenodd\" fill-opacity=\"1\" /><path clip-path=\"url(#clip310)\" d=\"M 0 0 M1222.72 9.54393 L1222.72 15.7418 L1215.59 15.7418 Q1211.58 15.7418 1210 17.3622 Q1208.46 18.9825 1208.46 23.1955 L1208.46 27.2059 L1220.74 27.2059 L1220.74 32.9987 L1208.46 32.9987 L1208.46 72.576 L1200.97 72.576 L1200.97 32.9987 L1193.84 32.9987 L1193.84 27.2059 L1200.97 27.2059 L1200.97 24.0462 Q1200.97 16.471 1204.49 13.0277 Q1208.02 9.54393 1215.67 9.54393 L1222.72 9.54393 Z\" fill=\"#000000\" fill-rule=\"evenodd\" fill-opacity=\"1\" /><path clip-path=\"url(#clip310)\" d=\"M 0 0 M1287.98 28.9478 L1287.98 35.9153 Q1284.82 34.1734 1281.62 33.3227 Q1278.46 32.4315 1275.22 32.4315 Q1267.97 32.4315 1263.96 37.0496 Q1259.95 41.6271 1259.95 49.9314 Q1259.95 58.2358 1263.96 62.8538 Q1267.97 67.4314 1275.22 67.4314 Q1278.46 67.4314 1281.62 66.5807 Q1284.82 65.6895 1287.98 63.9476 L1287.98 70.8341 Q1284.86 72.2924 1281.5 73.0216 Q1278.18 73.7508 1274.41 73.7508 Q1264.16 73.7508 1258.13 67.3098 Q1252.09 60.8689 1252.09 49.9314 Q1252.09 38.832 1258.17 32.472 Q1264.29 26.1121 1274.9 26.1121 Q1278.34 26.1121 1281.62 26.8413 Q1284.9 27.5299 1287.98 28.9478 Z\" fill=\"#000000\" fill-rule=\"evenodd\" fill-opacity=\"1\" /><path clip-path=\"url(#clip310)\" d=\"M 0 0 M1318.53 32.4315 Q1312.53 32.4315 1309.05 37.1306 Q1305.56 41.7891 1305.56 49.9314 Q1305.56 58.0738 1309.01 62.7728 Q1312.49 67.4314 1318.53 67.4314 Q1324.48 67.4314 1327.97 62.7323 Q1331.45 58.0333 1331.45 49.9314 Q1331.45 41.8701 1327.97 37.1711 Q1324.48 32.4315 1318.53 32.4315 M1318.53 26.1121 Q1328.25 26.1121 1333.8 32.4315 Q1339.35 38.7509 1339.35 49.9314 Q1339.35 61.0714 1333.8 67.4314 Q1328.25 73.7508 1318.53 73.7508 Q1308.76 73.7508 1303.21 67.4314 Q1297.71 61.0714 1297.71 49.9314 Q1297.71 38.7509 1303.21 32.4315 Q1308.76 26.1121 1318.53 26.1121 Z\" fill=\"#000000\" fill-rule=\"evenodd\" fill-opacity=\"1\" /><path clip-path=\"url(#clip310)\" d=\"M 0 0 M1387.03 35.9153 Q1389.82 30.8922 1393.71 28.5022 Q1397.6 26.1121 1402.87 26.1121 Q1409.96 26.1121 1413.8 31.0947 Q1417.65 36.0368 1417.65 45.1919 L1417.65 72.576 L1410.16 72.576 L1410.16 45.4349 Q1410.16 38.913 1407.85 35.7533 Q1405.54 32.5936 1400.8 32.5936 Q1395.01 32.5936 1391.65 36.4419 Q1388.28 40.2903 1388.28 46.9338 L1388.28 72.576 L1380.79 72.576 L1380.79 45.4349 Q1380.79 38.8725 1378.48 35.7533 Q1376.17 32.5936 1371.35 32.5936 Q1365.64 32.5936 1362.28 36.4824 Q1358.91 40.3308 1358.91 46.9338 L1358.91 72.576 L1351.42 72.576 L1351.42 27.2059 L1358.91 27.2059 L1358.91 34.2544 Q1361.47 30.082 1365.03 28.0971 Q1368.6 26.1121 1373.5 26.1121 Q1378.44 26.1121 1381.88 28.6237 Q1385.37 31.1352 1387.03 35.9153 Z\" fill=\"#000000\" fill-rule=\"evenodd\" fill-opacity=\"1\" /><path clip-path=\"url(#clip310)\" d=\"M 0 0 M1439.73 65.7705 L1439.73 89.8329 L1432.24 89.8329 L1432.24 27.2059 L1439.73 27.2059 L1439.73 34.0924 Q1442.08 30.0415 1445.64 28.0971 Q1449.25 26.1121 1454.23 26.1121 Q1462.5 26.1121 1467.64 32.6746 Q1472.83 39.2371 1472.83 49.9314 Q1472.83 60.6258 1467.64 67.1883 Q1462.5 73.7508 1454.23 73.7508 Q1449.25 73.7508 1445.64 71.8063 Q1442.08 69.8214 1439.73 65.7705 M1465.09 49.9314 Q1465.09 41.7081 1461.69 37.0496 Q1458.32 32.3505 1452.41 32.3505 Q1446.5 32.3505 1443.09 37.0496 Q1439.73 41.7081 1439.73 49.9314 Q1439.73 58.1548 1443.09 62.8538 Q1446.5 67.5124 1452.41 67.5124 Q1458.32 67.5124 1461.69 62.8538 Q1465.09 58.1548 1465.09 49.9314 Z\" fill=\"#000000\" fill-rule=\"evenodd\" fill-opacity=\"1\" /><path clip-path=\"url(#clip310)\" d=\"M 0 0 M1484.41 54.671 L1484.41 27.2059 L1491.87 27.2059 L1491.87 54.3874 Q1491.87 60.8284 1494.38 64.0691 Q1496.89 67.2693 1501.91 67.2693 Q1507.95 67.2693 1511.43 63.421 Q1514.96 59.5726 1514.96 52.9291 L1514.96 27.2059 L1522.41 27.2059 L1522.41 72.576 L1514.96 72.576 L1514.96 65.6084 Q1512.24 69.7404 1508.64 71.7658 Q1505.07 73.7508 1500.33 73.7508 Q1492.51 73.7508 1488.46 68.8897 Q1484.41 64.0286 1484.41 54.671 M1503.17 26.1121 L1503.17 26.1121 Z\" fill=\"#000000\" fill-rule=\"evenodd\" fill-opacity=\"1\" /><path clip-path=\"url(#clip310)\" d=\"M 0 0 M1545.13 14.324 L1545.13 27.2059 L1560.49 27.2059 L1560.49 32.9987 L1545.13 32.9987 L1545.13 57.6282 Q1545.13 63.1779 1546.63 64.7578 Q1548.17 66.3376 1552.83 66.3376 L1560.49 66.3376 L1560.49 72.576 L1552.83 72.576 Q1544.2 72.576 1540.92 69.3758 Q1537.64 66.1351 1537.64 57.6282 L1537.64 32.9987 L1532.17 32.9987 L1532.17 27.2059 L1537.64 27.2059 L1537.64 14.324 L1545.13 14.324 Z\" fill=\"#000000\" fill-rule=\"evenodd\" fill-opacity=\"1\" /><path clip-path=\"url(#clip310)\" d=\"M 0 0 M1570.29 27.2059 L1577.74 27.2059 L1577.74 72.576 L1570.29 72.576 L1570.29 27.2059 M1570.29 9.54393 L1577.74 9.54393 L1577.74 18.9825 L1570.29 18.9825 L1570.29 9.54393 Z\" fill=\"#000000\" fill-rule=\"evenodd\" fill-opacity=\"1\" /><path clip-path=\"url(#clip310)\" d=\"M 0 0 M1631.05 45.1919 L1631.05 72.576 L1623.6 72.576 L1623.6 45.4349 Q1623.6 38.994 1621.09 35.7938 Q1618.58 32.5936 1613.55 32.5936 Q1607.52 32.5936 1604.04 36.4419 Q1600.55 40.2903 1600.55 46.9338 L1600.55 72.576 L1593.06 72.576 L1593.06 27.2059 L1600.55 27.2059 L1600.55 34.2544 Q1603.22 30.163 1606.83 28.1376 Q1610.48 26.1121 1615.22 26.1121 Q1623.03 26.1121 1627.04 30.9732 Q1631.05 35.7938 1631.05 45.1919 Z\" fill=\"#000000\" fill-rule=\"evenodd\" fill-opacity=\"1\" /><path clip-path=\"url(#clip310)\" d=\"M 0 0 M1675.78 49.3643 Q1675.78 41.2625 1672.41 36.8065 Q1669.09 32.3505 1663.06 32.3505 Q1657.06 32.3505 1653.7 36.8065 Q1650.38 41.2625 1650.38 49.3643 Q1650.38 57.4256 1653.7 61.8816 Q1657.06 66.3376 1663.06 66.3376 Q1669.09 66.3376 1672.41 61.8816 Q1675.78 57.4256 1675.78 49.3643 M1683.23 66.9452 Q1683.23 78.5308 1678.09 84.1616 Q1672.94 89.8329 1662.33 89.8329 Q1658.4 89.8329 1654.91 89.2252 Q1651.43 88.6581 1648.15 87.4428 L1648.15 80.1917 Q1651.43 81.9741 1654.63 82.8248 Q1657.83 83.6755 1661.15 83.6755 Q1668.48 83.6755 1672.13 79.8271 Q1675.78 76.0193 1675.78 68.282 L1675.78 64.5957 Q1673.47 68.6061 1669.86 70.5911 Q1666.26 72.576 1661.23 72.576 Q1652.89 72.576 1647.78 66.2161 Q1642.68 59.8562 1642.68 49.3643 Q1642.68 38.832 1647.78 32.472 Q1652.89 26.1121 1661.23 26.1121 Q1666.26 26.1121 1669.86 28.0971 Q1673.47 30.082 1675.78 34.0924 L1675.78 27.2059 L1683.23 27.2059 L1683.23 66.9452 Z\" fill=\"#000000\" fill-rule=\"evenodd\" fill-opacity=\"1\" /><path clip-path=\"url(#clip310)\" d=\"M 0 0 M1754.81 34.0924 L1754.81 9.54393 L1762.26 9.54393 L1762.26 72.576 L1754.81 72.576 L1754.81 65.7705 Q1752.46 69.8214 1748.85 71.8063 Q1745.29 73.7508 1740.27 73.7508 Q1732.04 73.7508 1726.86 67.1883 Q1721.71 60.6258 1721.71 49.9314 Q1721.71 39.2371 1726.86 32.6746 Q1732.04 26.1121 1740.27 26.1121 Q1745.29 26.1121 1748.85 28.0971 Q1752.46 30.0415 1754.81 34.0924 M1729.41 49.9314 Q1729.41 58.1548 1732.77 62.8538 Q1736.18 67.5124 1742.09 67.5124 Q1748 67.5124 1751.41 62.8538 Q1754.81 58.1548 1754.81 49.9314 Q1754.81 41.7081 1751.41 37.0496 Q1748 32.3505 1742.09 32.3505 Q1736.18 32.3505 1732.77 37.0496 Q1729.41 41.7081 1729.41 49.9314 Z\" fill=\"#000000\" fill-rule=\"evenodd\" fill-opacity=\"1\" /><path clip-path=\"url(#clip310)\" d=\"M 0 0 M1777.62 27.2059 L1785.07 27.2059 L1785.07 72.576 L1777.62 72.576 L1777.62 27.2059 M1777.62 9.54393 L1785.07 9.54393 L1785.07 18.9825 L1777.62 18.9825 L1777.62 9.54393 Z\" fill=\"#000000\" fill-rule=\"evenodd\" fill-opacity=\"1\" /><path clip-path=\"url(#clip310)\" d=\"M 0 0 M1823.63 9.54393 L1823.63 15.7418 L1816.51 15.7418 Q1812.49 15.7418 1810.91 17.3622 Q1809.38 18.9825 1809.38 23.1955 L1809.38 27.2059 L1821.65 27.2059 L1821.65 32.9987 L1809.38 32.9987 L1809.38 72.576 L1801.88 72.576 L1801.88 32.9987 L1794.75 32.9987 L1794.75 27.2059 L1801.88 27.2059 L1801.88 24.0462 Q1801.88 16.471 1805.41 13.0277 Q1808.93 9.54393 1816.59 9.54393 L1823.63 9.54393 Z\" fill=\"#000000\" fill-rule=\"evenodd\" fill-opacity=\"1\" /><path clip-path=\"url(#clip310)\" d=\"M 0 0 M1852.84 9.54393 L1852.84 15.7418 L1845.71 15.7418 Q1841.7 15.7418 1840.12 17.3622 Q1838.58 18.9825 1838.58 23.1955 L1838.58 27.2059 L1850.86 27.2059 L1850.86 32.9987 L1838.58 32.9987 L1838.58 72.576 L1831.09 72.576 L1831.09 32.9987 L1823.96 32.9987 L1823.96 27.2059 L1831.09 27.2059 L1831.09 24.0462 Q1831.09 16.471 1834.61 13.0277 Q1838.14 9.54393 1845.79 9.54393 L1852.84 9.54393 Z\" fill=\"#000000\" fill-rule=\"evenodd\" fill-opacity=\"1\" /><path clip-path=\"url(#clip310)\" d=\"M 0 0 M1897.89 48.0275 L1897.89 51.6733 L1863.62 51.6733 Q1864.1 59.3701 1868.24 63.421 Q1872.41 67.4314 1879.82 67.4314 Q1884.11 67.4314 1888.12 66.3781 Q1892.18 65.3249 1896.15 63.2184 L1896.15 70.267 Q1892.14 71.9684 1887.92 72.8596 Q1883.71 73.7508 1879.38 73.7508 Q1868.52 73.7508 1862.16 67.4314 Q1855.84 61.1119 1855.84 50.3365 Q1855.84 39.1965 1861.83 32.6746 Q1867.87 26.1121 1878.08 26.1121 Q1887.23 26.1121 1892.54 32.0264 Q1897.89 37.9003 1897.89 48.0275 M1890.43 45.84 Q1890.35 39.7232 1886.99 36.0774 Q1883.67 32.4315 1878.16 32.4315 Q1871.92 32.4315 1868.15 35.9558 Q1864.43 39.4801 1863.86 45.8805 L1890.43 45.84 Z\" fill=\"#000000\" fill-rule=\"evenodd\" fill-opacity=\"1\" /><path clip-path=\"url(#clip310)\" d=\"M 0 0 M1936.41 34.1734 Q1935.16 33.4443 1933.66 33.1202 Q1932.2 32.7556 1930.42 32.7556 Q1924.1 32.7556 1920.69 36.8875 Q1917.33 40.9789 1917.33 48.6757 L1917.33 72.576 L1909.84 72.576 L1909.84 27.2059 L1917.33 27.2059 L1917.33 34.2544 Q1919.68 30.1225 1923.45 28.1376 Q1927.22 26.1121 1932.6 26.1121 Q1933.37 26.1121 1934.31 26.2337 Q1935.24 26.3147 1936.37 26.5172 L1936.41 34.1734 Z\" fill=\"#000000\" fill-rule=\"evenodd\" fill-opacity=\"1\" /><path clip-path=\"url(#clip310)\" d=\"M 0 0 M1981.21 48.0275 L1981.21 51.6733 L1946.94 51.6733 Q1947.43 59.3701 1951.56 63.421 Q1955.73 67.4314 1963.15 67.4314 Q1967.44 67.4314 1971.45 66.3781 Q1975.5 65.3249 1979.47 63.2184 L1979.47 70.267 Q1975.46 71.9684 1971.25 72.8596 Q1967.04 73.7508 1962.7 73.7508 Q1951.85 73.7508 1945.49 67.4314 Q1939.17 61.1119 1939.17 50.3365 Q1939.17 39.1965 1945.16 32.6746 Q1951.2 26.1121 1961.41 26.1121 Q1970.56 26.1121 1975.87 32.0264 Q1981.21 37.9003 1981.21 48.0275 M1973.76 45.84 Q1973.68 39.7232 1970.32 36.0774 Q1967 32.4315 1961.49 32.4315 Q1955.25 32.4315 1951.48 35.9558 Q1947.75 39.4801 1947.19 45.8805 L1973.76 45.84 Z\" fill=\"#000000\" fill-rule=\"evenodd\" fill-opacity=\"1\" /><path clip-path=\"url(#clip310)\" d=\"M 0 0 M2031.16 45.1919 L2031.16 72.576 L2023.71 72.576 L2023.71 45.4349 Q2023.71 38.994 2021.2 35.7938 Q2018.69 32.5936 2013.66 32.5936 Q2007.63 32.5936 2004.14 36.4419 Q2000.66 40.2903 2000.66 46.9338 L2000.66 72.576 L1993.16 72.576 L1993.16 27.2059 L2000.66 27.2059 L2000.66 34.2544 Q2003.33 30.163 2006.94 28.1376 Q2010.58 26.1121 2015.32 26.1121 Q2023.14 26.1121 2027.15 30.9732 Q2031.16 35.7938 2031.16 45.1919 Z\" fill=\"#000000\" fill-rule=\"evenodd\" fill-opacity=\"1\" /><path clip-path=\"url(#clip310)\" d=\"M 0 0 M2053.4 14.324 L2053.4 27.2059 L2068.75 27.2059 L2068.75 32.9987 L2053.4 32.9987 L2053.4 57.6282 Q2053.4 63.1779 2054.9 64.7578 Q2056.44 66.3376 2061.1 66.3376 L2068.75 66.3376 L2068.75 72.576 L2061.1 72.576 Q2052.47 72.576 2049.19 69.3758 Q2045.91 66.1351 2045.91 57.6282 L2045.91 32.9987 L2040.44 32.9987 L2040.44 27.2059 L2045.91 27.2059 L2045.91 14.324 L2053.4 14.324 Z\" fill=\"#000000\" fill-rule=\"evenodd\" fill-opacity=\"1\" /><path clip-path=\"url(#clip310)\" d=\"M 0 0 M608.12 123.152 Q602.125 123.152 598.641 127.851 Q595.157 132.509 595.157 140.651 Q595.157 148.794 598.601 153.493 Q602.084 158.151 608.12 158.151 Q614.075 158.151 617.559 153.452 Q621.043 148.753 621.043 140.651 Q621.043 132.59 617.559 127.891 Q614.075 123.152 608.12 123.152 M608.12 116.832 Q617.842 116.832 623.392 123.152 Q628.942 129.471 628.942 140.651 Q628.942 151.791 623.392 158.151 Q617.842 164.471 608.12 164.471 Q598.358 164.471 592.808 158.151 Q587.299 151.791 587.299 140.651 Q587.299 129.471 592.808 123.152 Q598.358 116.832 608.12 116.832 Z\" fill=\"#000000\" fill-rule=\"evenodd\" fill-opacity=\"1\" /><path clip-path=\"url(#clip310)\" d=\"M 0 0 M648.508 156.49 L648.508 180.553 L641.014 180.553 L641.014 117.926 L648.508 117.926 L648.508 124.812 Q650.857 120.762 654.422 118.817 Q658.027 116.832 663.01 116.832 Q671.274 116.832 676.419 123.395 Q681.604 129.957 681.604 140.651 Q681.604 151.346 676.419 157.908 Q671.274 164.471 663.01 164.471 Q658.027 164.471 654.422 162.526 Q650.857 160.541 648.508 156.49 M673.866 140.651 Q673.866 132.428 670.464 127.77 Q667.101 123.071 661.187 123.071 Q655.273 123.071 651.87 127.77 Q648.508 132.428 648.508 140.651 Q648.508 148.875 651.87 153.574 Q655.273 158.232 661.187 158.232 Q667.101 158.232 670.464 153.574 Q673.866 148.875 673.866 140.651 Z\" fill=\"#000000\" fill-rule=\"evenodd\" fill-opacity=\"1\" /><path clip-path=\"url(#clip310)\" d=\"M 0 0 M732.767 138.748 L732.767 142.393 L698.496 142.393 Q698.982 150.09 703.114 154.141 Q707.286 158.151 714.7 158.151 Q718.994 158.151 723.004 157.098 Q727.055 156.045 731.025 153.938 L731.025 160.987 Q727.014 162.688 722.801 163.58 Q718.588 164.471 714.254 164.471 Q703.398 164.471 697.038 158.151 Q690.718 151.832 690.718 141.057 Q690.718 129.917 696.714 123.395 Q702.749 116.832 712.958 116.832 Q722.113 116.832 727.419 122.746 Q732.767 128.62 732.767 138.748 M725.313 136.56 Q725.232 130.443 721.87 126.797 Q718.548 123.152 713.039 123.152 Q706.8 123.152 703.033 126.676 Q699.306 130.2 698.739 136.601 L725.313 136.56 Z\" fill=\"#000000\" fill-rule=\"evenodd\" fill-opacity=\"1\" /><path clip-path=\"url(#clip310)\" d=\"M 0 0 M771.291 124.893 Q770.035 124.164 768.536 123.84 Q767.078 123.476 765.295 123.476 Q758.976 123.476 755.573 127.608 Q752.211 131.699 752.211 139.396 L752.211 163.296 L744.717 163.296 L744.717 117.926 L752.211 117.926 L752.211 124.974 Q754.56 120.843 758.328 118.858 Q762.095 116.832 767.483 116.832 Q768.253 116.832 769.184 116.954 Q770.116 117.035 771.25 117.237 L771.291 124.893 Z\" fill=\"#000000\" fill-rule=\"evenodd\" fill-opacity=\"1\" /><path clip-path=\"url(#clip310)\" d=\"M 0 0 M799.728 140.489 Q790.695 140.489 787.211 142.555 Q783.727 144.621 783.727 149.604 Q783.727 153.574 786.32 155.923 Q788.953 158.232 793.449 158.232 Q799.647 158.232 803.374 153.857 Q807.141 149.442 807.141 142.15 L807.141 140.489 L799.728 140.489 M814.595 137.411 L814.595 163.296 L807.141 163.296 L807.141 156.409 Q804.589 160.541 800.781 162.526 Q796.973 164.471 791.464 164.471 Q784.497 164.471 780.365 160.582 Q776.273 156.653 776.273 150.09 Q776.273 142.434 781.377 138.545 Q786.522 134.656 796.69 134.656 L807.141 134.656 L807.141 133.927 Q807.141 128.782 803.738 125.987 Q800.376 123.152 794.259 123.152 Q790.37 123.152 786.684 124.083 Q782.998 125.015 779.595 126.878 L779.595 119.992 Q783.686 118.412 787.535 117.642 Q791.383 116.832 795.029 116.832 Q804.873 116.832 809.734 121.936 Q814.595 127.04 814.595 137.411 Z\" fill=\"#000000\" fill-rule=\"evenodd\" fill-opacity=\"1\" /><path clip-path=\"url(#clip310)\" d=\"M 0 0 M837.32 105.044 L837.32 117.926 L852.673 117.926 L852.673 123.719 L837.32 123.719 L837.32 148.348 Q837.32 153.898 838.819 155.478 Q840.359 157.058 845.017 157.058 L852.673 157.058 L852.673 163.296 L845.017 163.296 Q836.389 163.296 833.107 160.096 Q829.826 156.855 829.826 148.348 L829.826 123.719 L824.358 123.719 L824.358 117.926 L829.826 117.926 L829.826 105.044 L837.32 105.044 Z\" fill=\"#000000\" fill-rule=\"evenodd\" fill-opacity=\"1\" /><path clip-path=\"url(#clip310)\" d=\"M 0 0 M862.477 117.926 L869.93 117.926 L869.93 163.296 L862.477 163.296 L862.477 117.926 M862.477 100.264 L869.93 100.264 L869.93 109.703 L862.477 109.703 L862.477 100.264 Z\" fill=\"#000000\" fill-rule=\"evenodd\" fill-opacity=\"1\" /><path clip-path=\"url(#clip310)\" d=\"M 0 0 M903.107 123.152 Q897.112 123.152 893.628 127.851 Q890.144 132.509 890.144 140.651 Q890.144 148.794 893.587 153.493 Q897.071 158.151 903.107 158.151 Q909.062 158.151 912.546 153.452 Q916.03 148.753 916.03 140.651 Q916.03 132.59 912.546 127.891 Q909.062 123.152 903.107 123.152 M903.107 116.832 Q912.829 116.832 918.379 123.152 Q923.929 129.471 923.929 140.651 Q923.929 151.791 918.379 158.151 Q912.829 164.471 903.107 164.471 Q893.344 164.471 887.795 158.151 Q882.285 151.791 882.285 140.651 Q882.285 129.471 887.795 123.152 Q893.344 116.832 903.107 116.832 Z\" fill=\"#000000\" fill-rule=\"evenodd\" fill-opacity=\"1\" /><path clip-path=\"url(#clip310)\" d=\"M 0 0 M973.998 135.912 L973.998 163.296 L966.544 163.296 L966.544 136.155 Q966.544 129.714 964.033 126.514 Q961.521 123.314 956.498 123.314 Q950.462 123.314 946.978 127.162 Q943.495 131.01 943.495 137.654 L943.495 163.296 L936 163.296 L936 117.926 L943.495 117.926 L943.495 124.974 Q946.168 120.883 949.774 118.858 Q953.419 116.832 958.159 116.832 Q965.977 116.832 969.988 121.693 Q973.998 126.514 973.998 135.912 Z\" fill=\"#000000\" fill-rule=\"evenodd\" fill-opacity=\"1\" /><path clip-path=\"url(#clip310)\" d=\"M 0 0 M1017.79 119.263 L1017.79 126.311 Q1014.63 124.691 1011.23 123.881 Q1007.82 123.071 1004.18 123.071 Q998.627 123.071 995.832 124.772 Q993.078 126.473 993.078 129.876 Q993.078 132.469 995.063 133.967 Q997.048 135.426 1003.04 136.763 L1005.59 137.33 Q1013.53 139.031 1016.86 142.15 Q1020.22 145.229 1020.22 150.779 Q1020.22 157.098 1015.2 160.784 Q1010.21 164.471 1001.46 164.471 Q997.817 164.471 993.847 163.742 Q989.918 163.053 985.543 161.635 L985.543 153.938 Q989.675 156.085 993.685 157.179 Q997.696 158.232 1001.63 158.232 Q1006.89 158.232 1009.73 156.45 Q1012.56 154.627 1012.56 151.346 Q1012.56 148.308 1010.5 146.687 Q1008.47 145.067 1001.54 143.568 L998.952 142.96 Q992.024 141.502 988.946 138.504 Q985.867 135.466 985.867 130.2 Q985.867 123.8 990.404 120.316 Q994.941 116.832 1003.29 116.832 Q1007.42 116.832 1011.06 117.44 Q1014.71 118.047 1017.79 119.263 Z\" fill=\"#000000\" fill-rule=\"evenodd\" fill-opacity=\"1\" /><path clip-path=\"url(#clip310)\" d=\"M 0 0 M1081.43 100.264 L1081.43 106.462 L1074.3 106.462 Q1070.29 106.462 1068.71 108.082 Q1067.17 109.703 1067.17 113.915 L1067.17 117.926 L1079.44 117.926 L1079.44 123.719 L1067.17 123.719 L1067.17 163.296 L1059.67 163.296 L1059.67 123.719 L1052.54 123.719 L1052.54 117.926 L1059.67 117.926 L1059.67 114.766 Q1059.67 107.191 1063.2 103.748 Q1066.72 100.264 1074.38 100.264 L1081.43 100.264 Z\" fill=\"#000000\" fill-rule=\"evenodd\" fill-opacity=\"1\" /><path clip-path=\"url(#clip310)\" d=\"M 0 0 M1105.25 123.152 Q1099.25 123.152 1095.77 127.851 Q1092.28 132.509 1092.28 140.651 Q1092.28 148.794 1095.73 153.493 Q1099.21 158.151 1105.25 158.151 Q1111.2 158.151 1114.69 153.452 Q1118.17 148.753 1118.17 140.651 Q1118.17 132.59 1114.69 127.891 Q1111.2 123.152 1105.25 123.152 M1105.25 116.832 Q1114.97 116.832 1120.52 123.152 Q1126.07 129.471 1126.07 140.651 Q1126.07 151.791 1120.52 158.151 Q1114.97 164.471 1105.25 164.471 Q1095.48 164.471 1089.93 158.151 Q1084.43 151.791 1084.43 140.651 Q1084.43 129.471 1089.93 123.152 Q1095.48 116.832 1105.25 116.832 Z\" fill=\"#000000\" fill-rule=\"evenodd\" fill-opacity=\"1\" /><path clip-path=\"url(#clip310)\" d=\"M 0 0 M1164.71 124.893 Q1163.46 124.164 1161.96 123.84 Q1160.5 123.476 1158.72 123.476 Q1152.4 123.476 1149 127.608 Q1145.63 131.699 1145.63 139.396 L1145.63 163.296 L1138.14 163.296 L1138.14 117.926 L1145.63 117.926 L1145.63 124.974 Q1147.98 120.843 1151.75 118.858 Q1155.52 116.832 1160.91 116.832 Q1161.68 116.832 1162.61 116.954 Q1163.54 117.035 1164.67 117.237 L1164.71 124.893 Z\" fill=\"#000000\" fill-rule=\"evenodd\" fill-opacity=\"1\" /><path clip-path=\"url(#clip310)\" d=\"M 0 0 M1228.76 124.812 L1228.76 100.264 L1236.21 100.264 L1236.21 163.296 L1228.76 163.296 L1228.76 156.49 Q1226.41 160.541 1222.8 162.526 Q1219.24 164.471 1214.22 164.471 Q1205.99 164.471 1200.81 157.908 Q1195.66 151.346 1195.66 140.651 Q1195.66 129.957 1200.81 123.395 Q1205.99 116.832 1214.22 116.832 Q1219.24 116.832 1222.8 118.817 Q1226.41 120.762 1228.76 124.812 M1203.36 140.651 Q1203.36 148.875 1206.72 153.574 Q1210.13 158.232 1216.04 158.232 Q1221.95 158.232 1225.36 153.574 Q1228.76 148.875 1228.76 140.651 Q1228.76 132.428 1225.36 127.77 Q1221.95 123.071 1216.04 123.071 Q1210.13 123.071 1206.72 127.77 Q1203.36 132.428 1203.36 140.651 Z\" fill=\"#000000\" fill-rule=\"evenodd\" fill-opacity=\"1\" /><path clip-path=\"url(#clip310)\" d=\"M 0 0 M1251.57 117.926 L1259.02 117.926 L1259.02 163.296 L1251.57 163.296 L1251.57 117.926 M1251.57 100.264 L1259.02 100.264 L1259.02 109.703 L1251.57 109.703 L1251.57 100.264 Z\" fill=\"#000000\" fill-rule=\"evenodd\" fill-opacity=\"1\" /><path clip-path=\"url(#clip310)\" d=\"M 0 0 M1297.58 100.264 L1297.58 106.462 L1290.45 106.462 Q1286.44 106.462 1284.86 108.082 Q1283.32 109.703 1283.32 113.915 L1283.32 117.926 L1295.6 117.926 L1295.6 123.719 L1283.32 123.719 L1283.32 163.296 L1275.83 163.296 L1275.83 123.719 L1268.7 123.719 L1268.7 117.926 L1275.83 117.926 L1275.83 114.766 Q1275.83 107.191 1279.36 103.748 Q1282.88 100.264 1290.54 100.264 L1297.58 100.264 Z\" fill=\"#000000\" fill-rule=\"evenodd\" fill-opacity=\"1\" /><path clip-path=\"url(#clip310)\" d=\"M 0 0 M1326.79 100.264 L1326.79 106.462 L1319.66 106.462 Q1315.65 106.462 1314.07 108.082 Q1312.53 109.703 1312.53 113.915 L1312.53 117.926 L1324.81 117.926 L1324.81 123.719 L1312.53 123.719 L1312.53 163.296 L1305.04 163.296 L1305.04 123.719 L1297.91 123.719 L1297.91 117.926 L1305.04 117.926 L1305.04 114.766 Q1305.04 107.191 1308.56 103.748 Q1312.09 100.264 1319.74 100.264 L1326.79 100.264 Z\" fill=\"#000000\" fill-rule=\"evenodd\" fill-opacity=\"1\" /><path clip-path=\"url(#clip310)\" d=\"M 0 0 M1371.84 138.748 L1371.84 142.393 L1337.57 142.393 Q1338.05 150.09 1342.18 154.141 Q1346.36 158.151 1353.77 158.151 Q1358.06 158.151 1362.07 157.098 Q1366.13 156.045 1370.1 153.938 L1370.1 160.987 Q1366.08 162.688 1361.87 163.58 Q1357.66 164.471 1353.32 164.471 Q1342.47 164.471 1336.11 158.151 Q1329.79 151.832 1329.79 141.057 Q1329.79 129.917 1335.78 123.395 Q1341.82 116.832 1352.03 116.832 Q1361.18 116.832 1366.49 122.746 Q1371.84 128.62 1371.84 138.748 M1364.38 136.56 Q1364.3 130.443 1360.94 126.797 Q1357.62 123.152 1352.11 123.152 Q1345.87 123.152 1342.1 126.676 Q1338.38 130.2 1337.81 136.601 L1364.38 136.56 Z\" fill=\"#000000\" fill-rule=\"evenodd\" fill-opacity=\"1\" /><path clip-path=\"url(#clip310)\" d=\"M 0 0 M1410.36 124.893 Q1409.11 124.164 1407.61 123.84 Q1406.15 123.476 1404.37 123.476 Q1398.05 123.476 1394.64 127.608 Q1391.28 131.699 1391.28 139.396 L1391.28 163.296 L1383.79 163.296 L1383.79 117.926 L1391.28 117.926 L1391.28 124.974 Q1393.63 120.843 1397.4 118.858 Q1401.17 116.832 1406.55 116.832 Q1407.32 116.832 1408.25 116.954 Q1409.19 117.035 1410.32 117.237 L1410.36 124.893 Z\" fill=\"#000000\" fill-rule=\"evenodd\" fill-opacity=\"1\" /><path clip-path=\"url(#clip310)\" d=\"M 0 0 M1455.16 138.748 L1455.16 142.393 L1420.89 142.393 Q1421.38 150.09 1425.51 154.141 Q1429.68 158.151 1437.1 158.151 Q1441.39 158.151 1445.4 157.098 Q1449.45 156.045 1453.42 153.938 L1453.42 160.987 Q1449.41 162.688 1445.2 163.58 Q1440.99 164.471 1436.65 164.471 Q1425.8 164.471 1419.44 158.151 Q1413.12 151.832 1413.12 141.057 Q1413.12 129.917 1419.11 123.395 Q1425.15 116.832 1435.36 116.832 Q1444.51 116.832 1449.82 122.746 Q1455.16 128.62 1455.16 138.748 M1447.71 136.56 Q1447.63 130.443 1444.27 126.797 Q1440.95 123.152 1435.44 123.152 Q1429.2 123.152 1425.43 126.676 Q1421.7 130.2 1421.14 136.601 L1447.71 136.56 Z\" fill=\"#000000\" fill-rule=\"evenodd\" fill-opacity=\"1\" /><path clip-path=\"url(#clip310)\" d=\"M 0 0 M1505.11 135.912 L1505.11 163.296 L1497.66 163.296 L1497.66 136.155 Q1497.66 129.714 1495.15 126.514 Q1492.64 123.314 1487.61 123.314 Q1481.58 123.314 1478.09 127.162 Q1474.61 131.01 1474.61 137.654 L1474.61 163.296 L1467.11 163.296 L1467.11 117.926 L1474.61 117.926 L1474.61 124.974 Q1477.28 120.883 1480.89 118.858 Q1484.53 116.832 1489.27 116.832 Q1497.09 116.832 1501.1 121.693 Q1505.11 126.514 1505.11 135.912 Z\" fill=\"#000000\" fill-rule=\"evenodd\" fill-opacity=\"1\" /><path clip-path=\"url(#clip310)\" d=\"M 0 0 M1527.35 105.044 L1527.35 117.926 L1542.7 117.926 L1542.7 123.719 L1527.35 123.719 L1527.35 148.348 Q1527.35 153.898 1528.85 155.478 Q1530.39 157.058 1535.05 157.058 L1542.7 157.058 L1542.7 163.296 L1535.05 163.296 Q1526.42 163.296 1523.14 160.096 Q1519.86 156.855 1519.86 148.348 L1519.86 123.719 L1514.39 123.719 L1514.39 117.926 L1519.86 117.926 L1519.86 105.044 L1527.35 105.044 Z\" fill=\"#000000\" fill-rule=\"evenodd\" fill-opacity=\"1\" /><path clip-path=\"url(#clip310)\" d=\"M 0 0 M1599.5 140.489 Q1590.46 140.489 1586.98 142.555 Q1583.5 144.621 1583.5 149.604 Q1583.5 153.574 1586.09 155.923 Q1588.72 158.232 1593.22 158.232 Q1599.42 158.232 1603.14 153.857 Q1606.91 149.442 1606.91 142.15 L1606.91 140.489 L1599.5 140.489 M1614.36 137.411 L1614.36 163.296 L1606.91 163.296 L1606.91 156.409 Q1604.36 160.541 1600.55 162.526 Q1596.74 164.471 1591.23 164.471 Q1584.27 164.471 1580.13 160.582 Q1576.04 156.653 1576.04 150.09 Q1576.04 142.434 1581.15 138.545 Q1586.29 134.656 1596.46 134.656 L1606.91 134.656 L1606.91 133.927 Q1606.91 128.782 1603.51 125.987 Q1600.15 123.152 1594.03 123.152 Q1590.14 123.152 1586.45 124.083 Q1582.77 125.015 1579.37 126.878 L1579.37 119.992 Q1583.46 118.412 1587.3 117.642 Q1591.15 116.832 1594.8 116.832 Q1604.64 116.832 1609.5 121.936 Q1614.36 127.04 1614.36 137.411 Z\" fill=\"#000000\" fill-rule=\"evenodd\" fill-opacity=\"1\" /><path clip-path=\"url(#clip310)\" d=\"M 0 0 M1656.01 124.893 Q1654.75 124.164 1653.25 123.84 Q1651.8 123.476 1650.01 123.476 Q1643.69 123.476 1640.29 127.608 Q1636.93 131.699 1636.93 139.396 L1636.93 163.296 L1629.43 163.296 L1629.43 117.926 L1636.93 117.926 L1636.93 124.974 Q1639.28 120.843 1643.05 118.858 Q1646.81 116.832 1652.2 116.832 Q1652.97 116.832 1653.9 116.954 Q1654.83 117.035 1655.97 117.237 L1656.01 124.893 Z\" fill=\"#000000\" fill-rule=\"evenodd\" fill-opacity=\"1\" /><path clip-path=\"url(#clip310)\" d=\"M 0 0 M1688.66 124.893 Q1687.4 124.164 1685.9 123.84 Q1684.45 123.476 1682.66 123.476 Q1676.34 123.476 1672.94 127.608 Q1669.58 131.699 1669.58 139.396 L1669.58 163.296 L1662.08 163.296 L1662.08 117.926 L1669.58 117.926 L1669.58 124.974 Q1671.93 120.843 1675.7 118.858 Q1679.46 116.832 1684.85 116.832 Q1685.62 116.832 1686.55 116.954 Q1687.48 117.035 1688.62 117.237 L1688.66 124.893 Z\" fill=\"#000000\" fill-rule=\"evenodd\" fill-opacity=\"1\" /><path clip-path=\"url(#clip310)\" d=\"M 0 0 M1717.1 140.489 Q1708.06 140.489 1704.58 142.555 Q1701.09 144.621 1701.09 149.604 Q1701.09 153.574 1703.69 155.923 Q1706.32 158.232 1710.82 158.232 Q1717.01 158.232 1720.74 153.857 Q1724.51 149.442 1724.51 142.15 L1724.51 140.489 L1717.1 140.489 M1731.96 137.411 L1731.96 163.296 L1724.51 163.296 L1724.51 156.409 Q1721.96 160.541 1718.15 162.526 Q1714.34 164.471 1708.83 164.471 Q1701.86 164.471 1697.73 160.582 Q1693.64 156.653 1693.64 150.09 Q1693.64 142.434 1698.75 138.545 Q1703.89 134.656 1714.06 134.656 L1724.51 134.656 L1724.51 133.927 Q1724.51 128.782 1721.11 125.987 Q1717.74 123.152 1711.63 123.152 Q1707.74 123.152 1704.05 124.083 Q1700.37 125.015 1696.96 126.878 L1696.96 119.992 Q1701.05 118.412 1704.9 117.642 Q1708.75 116.832 1712.4 116.832 Q1722.24 116.832 1727.1 121.936 Q1731.96 127.04 1731.96 137.411 Z\" fill=\"#000000\" fill-rule=\"evenodd\" fill-opacity=\"1\" /><path clip-path=\"url(#clip310)\" d=\"M 0 0 M1766.19 167.509 Q1763.03 175.611 1760.04 178.082 Q1757.04 180.553 1752.01 180.553 L1746.06 180.553 L1746.06 174.314 L1750.43 174.314 Q1753.51 174.314 1755.21 172.856 Q1756.92 171.398 1758.98 165.97 L1760.32 162.567 L1741.97 117.926 L1749.87 117.926 L1764.05 153.412 L1778.22 117.926 L1786.12 117.926 L1766.19 167.509 Z\" fill=\"#000000\" fill-rule=\"evenodd\" fill-opacity=\"1\" /><path clip-path=\"url(#clip310)\" d=\"M 0 0 M1851.71 119.263 L1851.71 126.311 Q1848.55 124.691 1845.14 123.881 Q1841.74 123.071 1838.1 123.071 Q1832.55 123.071 1829.75 124.772 Q1827 126.473 1827 129.876 Q1827 132.469 1828.98 133.967 Q1830.97 135.426 1836.96 136.763 L1839.51 137.33 Q1847.45 139.031 1850.78 142.15 Q1854.14 145.229 1854.14 150.779 Q1854.14 157.098 1849.11 160.784 Q1844.13 164.471 1835.38 164.471 Q1831.74 164.471 1827.77 163.742 Q1823.84 163.053 1819.46 161.635 L1819.46 153.938 Q1823.59 156.085 1827.6 157.179 Q1831.61 158.232 1835.54 158.232 Q1840.81 158.232 1843.65 156.45 Q1846.48 154.627 1846.48 151.346 Q1846.48 148.308 1844.42 146.687 Q1842.39 145.067 1835.46 143.568 L1832.87 142.96 Q1825.94 141.502 1822.86 138.504 Q1819.79 135.466 1819.79 130.2 Q1819.79 123.8 1824.32 120.316 Q1828.86 116.832 1837.21 116.832 Q1841.34 116.832 1844.98 117.44 Q1848.63 118.047 1851.71 119.263 Z\" fill=\"#000000\" fill-rule=\"evenodd\" fill-opacity=\"1\" /><path clip-path=\"url(#clip310)\" d=\"M 0 0 M1866.01 117.926 L1873.46 117.926 L1873.46 163.296 L1866.01 163.296 L1866.01 117.926 M1866.01 100.264 L1873.46 100.264 L1873.46 109.703 L1866.01 109.703 L1866.01 100.264 Z\" fill=\"#000000\" fill-rule=\"evenodd\" fill-opacity=\"1\" /><path clip-path=\"url(#clip310)\" d=\"M 0 0 M1885.82 117.926 L1921.22 117.926 L1921.22 124.731 L1893.19 157.341 L1921.22 157.341 L1921.22 163.296 L1884.8 163.296 L1884.8 156.49 L1912.84 123.881 L1885.82 123.881 L1885.82 117.926 Z\" fill=\"#000000\" fill-rule=\"evenodd\" fill-opacity=\"1\" /><path clip-path=\"url(#clip310)\" d=\"M 0 0 M1971.41 138.748 L1971.41 142.393 L1937.14 142.393 Q1937.63 150.09 1941.76 154.141 Q1945.93 158.151 1953.34 158.151 Q1957.64 158.151 1961.65 157.098 Q1965.7 156.045 1969.67 153.938 L1969.67 160.987 Q1965.66 162.688 1961.45 163.58 Q1957.23 164.471 1952.9 164.471 Q1942.04 164.471 1935.68 158.151 Q1929.36 151.832 1929.36 141.057 Q1929.36 129.917 1935.36 123.395 Q1941.39 116.832 1951.6 116.832 Q1960.76 116.832 1966.06 122.746 Q1971.41 128.62 1971.41 138.748 M1963.96 136.56 Q1963.88 130.443 1960.51 126.797 Q1957.19 123.152 1951.68 123.152 Q1945.45 123.152 1941.68 126.676 Q1937.95 130.2 1937.38 136.601 L1963.96 136.56 Z\" fill=\"#000000\" fill-rule=\"evenodd\" fill-opacity=\"1\" /><path clip-path=\"url(#clip310)\" d=\"M 0 0 M2012.57 119.263 L2012.57 126.311 Q2009.41 124.691 2006.01 123.881 Q2002.6 123.071 1998.96 123.071 Q1993.41 123.071 1990.61 124.772 Q1987.86 126.473 1987.86 129.876 Q1987.86 132.469 1989.84 133.967 Q1991.83 135.426 1997.82 136.763 L2000.38 137.33 Q2008.32 139.031 2011.64 142.15 Q2015 145.229 2015 150.779 Q2015 157.098 2009.98 160.784 Q2004.99 164.471 1996.24 164.471 Q1992.6 164.471 1988.63 163.742 Q1984.7 163.053 1980.32 161.635 L1980.32 153.938 Q1984.46 156.085 1988.47 157.179 Q1992.48 158.232 1996.41 158.232 Q2001.67 158.232 2004.51 156.45 Q2007.34 154.627 2007.34 151.346 Q2007.34 148.308 2005.28 146.687 Q2003.25 145.067 1996.32 143.568 L1993.73 142.96 Q1986.81 141.502 1983.73 138.504 Q1980.65 135.466 1980.65 130.2 Q1980.65 123.8 1985.18 120.316 Q1989.72 116.832 1998.07 116.832 Q2002.2 116.832 2005.84 117.44 Q2009.49 118.047 2012.57 119.263 Z\" fill=\"#000000\" fill-rule=\"evenodd\" fill-opacity=\"1\" /><polyline clip-path=\"url(#clip312)\" style=\"stroke:#000000; stroke-width:4; stroke-opacity:1; fill:none\" points=\"\n",
       "  309.067,1296.99 309.067,1296.99 \n",
       "  \"/>\n",
       "<polyline clip-path=\"url(#clip312)\" style=\"stroke:#000000; stroke-width:4; stroke-opacity:1; fill:none\" points=\"\n",
       "  529.53,1297 529.53,1297 \n",
       "  \"/>\n",
       "<polyline clip-path=\"url(#clip312)\" style=\"stroke:#000000; stroke-width:4; stroke-opacity:1; fill:none\" points=\"\n",
       "  749.992,1297 749.992,1297 \n",
       "  \"/>\n",
       "<polyline clip-path=\"url(#clip312)\" style=\"stroke:#000000; stroke-width:4; stroke-opacity:1; fill:none\" points=\"\n",
       "  970.455,1297 970.455,1296.99 \n",
       "  \"/>\n",
       "<polyline clip-path=\"url(#clip312)\" style=\"stroke:#000000; stroke-width:4; stroke-opacity:1; fill:none\" points=\"\n",
       "  1190.92,1296.99 1190.92,1296.99 \n",
       "  \"/>\n",
       "<polyline clip-path=\"url(#clip312)\" style=\"stroke:#000000; stroke-width:4; stroke-opacity:1; fill:none\" points=\"\n",
       "  1411.38,1296.99 1411.38,1296.99 \n",
       "  \"/>\n",
       "<polyline clip-path=\"url(#clip312)\" style=\"stroke:#000000; stroke-width:4; stroke-opacity:1; fill:none\" points=\"\n",
       "  1631.84,1296.99 1631.84,1296.99 \n",
       "  \"/>\n",
       "<polyline clip-path=\"url(#clip312)\" style=\"stroke:#000000; stroke-width:4; stroke-opacity:1; fill:none\" points=\"\n",
       "  1852.31,1296.99 1852.31,1296.99 \n",
       "  \"/>\n",
       "<polyline clip-path=\"url(#clip312)\" style=\"stroke:#000000; stroke-width:4; stroke-opacity:1; fill:none\" points=\"\n",
       "  2072.77,1296.99 2072.77,1296.99 \n",
       "  \"/>\n",
       "<polyline clip-path=\"url(#clip312)\" style=\"stroke:#000000; stroke-width:4; stroke-opacity:1; fill:none\" points=\"\n",
       "  2293.23,1296.99 2293.23,1296.99 \n",
       "  \"/>\n",
       "<line clip-path=\"url(#clip312)\" x1=\"325.067\" y1=\"1296.99\" x2=\"293.067\" y2=\"1296.99\" style=\"stroke:#000000; stroke-width:3.2; stroke-opacity:1\"/>\n",
       "<line clip-path=\"url(#clip312)\" x1=\"325.067\" y1=\"1296.99\" x2=\"293.067\" y2=\"1296.99\" style=\"stroke:#000000; stroke-width:3.2; stroke-opacity:1\"/>\n",
       "<line clip-path=\"url(#clip312)\" x1=\"545.53\" y1=\"1297\" x2=\"513.53\" y2=\"1297\" style=\"stroke:#000000; stroke-width:3.2; stroke-opacity:1\"/>\n",
       "<line clip-path=\"url(#clip312)\" x1=\"545.53\" y1=\"1297\" x2=\"513.53\" y2=\"1297\" style=\"stroke:#000000; stroke-width:3.2; stroke-opacity:1\"/>\n",
       "<line clip-path=\"url(#clip312)\" x1=\"765.992\" y1=\"1297\" x2=\"733.992\" y2=\"1297\" style=\"stroke:#000000; stroke-width:3.2; stroke-opacity:1\"/>\n",
       "<line clip-path=\"url(#clip312)\" x1=\"765.992\" y1=\"1297\" x2=\"733.992\" y2=\"1297\" style=\"stroke:#000000; stroke-width:3.2; stroke-opacity:1\"/>\n",
       "<line clip-path=\"url(#clip312)\" x1=\"986.455\" y1=\"1297\" x2=\"954.455\" y2=\"1297\" style=\"stroke:#000000; stroke-width:3.2; stroke-opacity:1\"/>\n",
       "<line clip-path=\"url(#clip312)\" x1=\"986.455\" y1=\"1296.99\" x2=\"954.455\" y2=\"1296.99\" style=\"stroke:#000000; stroke-width:3.2; stroke-opacity:1\"/>\n",
       "<line clip-path=\"url(#clip312)\" x1=\"1206.92\" y1=\"1296.99\" x2=\"1174.92\" y2=\"1296.99\" style=\"stroke:#000000; stroke-width:3.2; stroke-opacity:1\"/>\n",
       "<line clip-path=\"url(#clip312)\" x1=\"1206.92\" y1=\"1296.99\" x2=\"1174.92\" y2=\"1296.99\" style=\"stroke:#000000; stroke-width:3.2; stroke-opacity:1\"/>\n",
       "<line clip-path=\"url(#clip312)\" x1=\"1427.38\" y1=\"1296.99\" x2=\"1395.38\" y2=\"1296.99\" style=\"stroke:#000000; stroke-width:3.2; stroke-opacity:1\"/>\n",
       "<line clip-path=\"url(#clip312)\" x1=\"1427.38\" y1=\"1296.99\" x2=\"1395.38\" y2=\"1296.99\" style=\"stroke:#000000; stroke-width:3.2; stroke-opacity:1\"/>\n",
       "<line clip-path=\"url(#clip312)\" x1=\"1647.84\" y1=\"1296.99\" x2=\"1615.84\" y2=\"1296.99\" style=\"stroke:#000000; stroke-width:3.2; stroke-opacity:1\"/>\n",
       "<line clip-path=\"url(#clip312)\" x1=\"1647.84\" y1=\"1296.99\" x2=\"1615.84\" y2=\"1296.99\" style=\"stroke:#000000; stroke-width:3.2; stroke-opacity:1\"/>\n",
       "<line clip-path=\"url(#clip312)\" x1=\"1868.31\" y1=\"1296.99\" x2=\"1836.31\" y2=\"1296.99\" style=\"stroke:#000000; stroke-width:3.2; stroke-opacity:1\"/>\n",
       "<line clip-path=\"url(#clip312)\" x1=\"1868.31\" y1=\"1296.99\" x2=\"1836.31\" y2=\"1296.99\" style=\"stroke:#000000; stroke-width:3.2; stroke-opacity:1\"/>\n",
       "<line clip-path=\"url(#clip312)\" x1=\"2088.77\" y1=\"1296.99\" x2=\"2056.77\" y2=\"1296.99\" style=\"stroke:#000000; stroke-width:3.2; stroke-opacity:1\"/>\n",
       "<line clip-path=\"url(#clip312)\" x1=\"2088.77\" y1=\"1296.99\" x2=\"2056.77\" y2=\"1296.99\" style=\"stroke:#000000; stroke-width:3.2; stroke-opacity:1\"/>\n",
       "<line clip-path=\"url(#clip312)\" x1=\"2309.23\" y1=\"1296.99\" x2=\"2277.23\" y2=\"1296.99\" style=\"stroke:#000000; stroke-width:3.2; stroke-opacity:1\"/>\n",
       "<line clip-path=\"url(#clip312)\" x1=\"2309.23\" y1=\"1296.99\" x2=\"2277.23\" y2=\"1296.99\" style=\"stroke:#000000; stroke-width:3.2; stroke-opacity:1\"/>\n",
       "<circle clip-path=\"url(#clip312)\" cx=\"309.067\" cy=\"1296.99\" r=\"14\" fill=\"#ee82ee\" fill-rule=\"evenodd\" fill-opacity=\"1\" stroke=\"#000000\" stroke-opacity=\"1\" stroke-width=\"3.2\"/>\n",
       "<circle clip-path=\"url(#clip312)\" cx=\"529.53\" cy=\"1297\" r=\"14\" fill=\"#ee82ee\" fill-rule=\"evenodd\" fill-opacity=\"1\" stroke=\"#000000\" stroke-opacity=\"1\" stroke-width=\"3.2\"/>\n",
       "<circle clip-path=\"url(#clip312)\" cx=\"749.992\" cy=\"1297\" r=\"14\" fill=\"#ee82ee\" fill-rule=\"evenodd\" fill-opacity=\"1\" stroke=\"#000000\" stroke-opacity=\"1\" stroke-width=\"3.2\"/>\n",
       "<circle clip-path=\"url(#clip312)\" cx=\"970.455\" cy=\"1297\" r=\"14\" fill=\"#ee82ee\" fill-rule=\"evenodd\" fill-opacity=\"1\" stroke=\"#000000\" stroke-opacity=\"1\" stroke-width=\"3.2\"/>\n",
       "<circle clip-path=\"url(#clip312)\" cx=\"1190.92\" cy=\"1296.99\" r=\"14\" fill=\"#ee82ee\" fill-rule=\"evenodd\" fill-opacity=\"1\" stroke=\"#000000\" stroke-opacity=\"1\" stroke-width=\"3.2\"/>\n",
       "<circle clip-path=\"url(#clip312)\" cx=\"1411.38\" cy=\"1296.99\" r=\"14\" fill=\"#ee82ee\" fill-rule=\"evenodd\" fill-opacity=\"1\" stroke=\"#000000\" stroke-opacity=\"1\" stroke-width=\"3.2\"/>\n",
       "<circle clip-path=\"url(#clip312)\" cx=\"1631.84\" cy=\"1296.99\" r=\"14\" fill=\"#ee82ee\" fill-rule=\"evenodd\" fill-opacity=\"1\" stroke=\"#000000\" stroke-opacity=\"1\" stroke-width=\"3.2\"/>\n",
       "<circle clip-path=\"url(#clip312)\" cx=\"1852.31\" cy=\"1296.99\" r=\"14\" fill=\"#ee82ee\" fill-rule=\"evenodd\" fill-opacity=\"1\" stroke=\"#000000\" stroke-opacity=\"1\" stroke-width=\"3.2\"/>\n",
       "<circle clip-path=\"url(#clip312)\" cx=\"2072.77\" cy=\"1296.99\" r=\"14\" fill=\"#ee82ee\" fill-rule=\"evenodd\" fill-opacity=\"1\" stroke=\"#000000\" stroke-opacity=\"1\" stroke-width=\"3.2\"/>\n",
       "<circle clip-path=\"url(#clip312)\" cx=\"2293.23\" cy=\"1296.99\" r=\"14\" fill=\"#ee82ee\" fill-rule=\"evenodd\" fill-opacity=\"1\" stroke=\"#000000\" stroke-opacity=\"1\" stroke-width=\"3.2\"/>\n",
       "<polyline clip-path=\"url(#clip312)\" style=\"stroke:#000000; stroke-width:4; stroke-opacity:1; fill:none\" points=\"\n",
       "  309.067,1290.62 309.067,1287.3 \n",
       "  \"/>\n",
       "<polyline clip-path=\"url(#clip312)\" style=\"stroke:#000000; stroke-width:4; stroke-opacity:1; fill:none\" points=\"\n",
       "  529.53,1388.11 529.53,1008.25 \n",
       "  \"/>\n",
       "<polyline clip-path=\"url(#clip312)\" style=\"stroke:#000000; stroke-width:4; stroke-opacity:1; fill:none\" points=\"\n",
       "  749.992,1378.52 749.992,999.626 \n",
       "  \"/>\n",
       "<polyline clip-path=\"url(#clip312)\" style=\"stroke:#000000; stroke-width:4; stroke-opacity:1; fill:none\" points=\"\n",
       "  970.455,1325.1 970.455,929.52 \n",
       "  \"/>\n",
       "<polyline clip-path=\"url(#clip312)\" style=\"stroke:#000000; stroke-width:4; stroke-opacity:1; fill:none\" points=\"\n",
       "  1190.92,1308.39 1190.92,901.459 \n",
       "  \"/>\n",
       "<polyline clip-path=\"url(#clip312)\" style=\"stroke:#000000; stroke-width:4; stroke-opacity:1; fill:none\" points=\"\n",
       "  1411.38,1112.55 1411.38,959.017 \n",
       "  \"/>\n",
       "<polyline clip-path=\"url(#clip312)\" style=\"stroke:#000000; stroke-width:4; stroke-opacity:1; fill:none\" points=\"\n",
       "  1631.84,1150.85 1631.84,270.867 \n",
       "  \"/>\n",
       "<polyline clip-path=\"url(#clip312)\" style=\"stroke:#000000; stroke-width:4; stroke-opacity:1; fill:none\" points=\"\n",
       "  1852.31,1035.38 1852.31,599.861 \n",
       "  \"/>\n",
       "<polyline clip-path=\"url(#clip312)\" style=\"stroke:#000000; stroke-width:4; stroke-opacity:1; fill:none\" points=\"\n",
       "  2072.77,922.242 2072.77,374.549 \n",
       "  \"/>\n",
       "<polyline clip-path=\"url(#clip312)\" style=\"stroke:#000000; stroke-width:4; stroke-opacity:1; fill:none\" points=\"\n",
       "  2293.23,686.494 2293.23,219.025 \n",
       "  \"/>\n",
       "<line clip-path=\"url(#clip312)\" x1=\"325.067\" y1=\"1290.62\" x2=\"293.067\" y2=\"1290.62\" style=\"stroke:#000000; stroke-width:3.2; stroke-opacity:1\"/>\n",
       "<line clip-path=\"url(#clip312)\" x1=\"325.067\" y1=\"1287.3\" x2=\"293.067\" y2=\"1287.3\" style=\"stroke:#000000; stroke-width:3.2; stroke-opacity:1\"/>\n",
       "<line clip-path=\"url(#clip312)\" x1=\"545.53\" y1=\"1388.11\" x2=\"513.53\" y2=\"1388.11\" style=\"stroke:#000000; stroke-width:3.2; stroke-opacity:1\"/>\n",
       "<line clip-path=\"url(#clip312)\" x1=\"545.53\" y1=\"1008.25\" x2=\"513.53\" y2=\"1008.25\" style=\"stroke:#000000; stroke-width:3.2; stroke-opacity:1\"/>\n",
       "<line clip-path=\"url(#clip312)\" x1=\"765.992\" y1=\"1378.52\" x2=\"733.992\" y2=\"1378.52\" style=\"stroke:#000000; stroke-width:3.2; stroke-opacity:1\"/>\n",
       "<line clip-path=\"url(#clip312)\" x1=\"765.992\" y1=\"999.626\" x2=\"733.992\" y2=\"999.626\" style=\"stroke:#000000; stroke-width:3.2; stroke-opacity:1\"/>\n",
       "<line clip-path=\"url(#clip312)\" x1=\"986.455\" y1=\"1325.1\" x2=\"954.455\" y2=\"1325.1\" style=\"stroke:#000000; stroke-width:3.2; stroke-opacity:1\"/>\n",
       "<line clip-path=\"url(#clip312)\" x1=\"986.455\" y1=\"929.52\" x2=\"954.455\" y2=\"929.52\" style=\"stroke:#000000; stroke-width:3.2; stroke-opacity:1\"/>\n",
       "<line clip-path=\"url(#clip312)\" x1=\"1206.92\" y1=\"1308.39\" x2=\"1174.92\" y2=\"1308.39\" style=\"stroke:#000000; stroke-width:3.2; stroke-opacity:1\"/>\n",
       "<line clip-path=\"url(#clip312)\" x1=\"1206.92\" y1=\"901.459\" x2=\"1174.92\" y2=\"901.459\" style=\"stroke:#000000; stroke-width:3.2; stroke-opacity:1\"/>\n",
       "<line clip-path=\"url(#clip312)\" x1=\"1427.38\" y1=\"1112.55\" x2=\"1395.38\" y2=\"1112.55\" style=\"stroke:#000000; stroke-width:3.2; stroke-opacity:1\"/>\n",
       "<line clip-path=\"url(#clip312)\" x1=\"1427.38\" y1=\"959.017\" x2=\"1395.38\" y2=\"959.017\" style=\"stroke:#000000; stroke-width:3.2; stroke-opacity:1\"/>\n",
       "<line clip-path=\"url(#clip312)\" x1=\"1647.84\" y1=\"1150.85\" x2=\"1615.84\" y2=\"1150.85\" style=\"stroke:#000000; stroke-width:3.2; stroke-opacity:1\"/>\n",
       "<line clip-path=\"url(#clip312)\" x1=\"1647.84\" y1=\"270.867\" x2=\"1615.84\" y2=\"270.867\" style=\"stroke:#000000; stroke-width:3.2; stroke-opacity:1\"/>\n",
       "<line clip-path=\"url(#clip312)\" x1=\"1868.31\" y1=\"1035.38\" x2=\"1836.31\" y2=\"1035.38\" style=\"stroke:#000000; stroke-width:3.2; stroke-opacity:1\"/>\n",
       "<line clip-path=\"url(#clip312)\" x1=\"1868.31\" y1=\"599.861\" x2=\"1836.31\" y2=\"599.861\" style=\"stroke:#000000; stroke-width:3.2; stroke-opacity:1\"/>\n",
       "<line clip-path=\"url(#clip312)\" x1=\"2088.77\" y1=\"922.242\" x2=\"2056.77\" y2=\"922.242\" style=\"stroke:#000000; stroke-width:3.2; stroke-opacity:1\"/>\n",
       "<line clip-path=\"url(#clip312)\" x1=\"2088.77\" y1=\"374.549\" x2=\"2056.77\" y2=\"374.549\" style=\"stroke:#000000; stroke-width:3.2; stroke-opacity:1\"/>\n",
       "<line clip-path=\"url(#clip312)\" x1=\"2309.23\" y1=\"686.494\" x2=\"2277.23\" y2=\"686.494\" style=\"stroke:#000000; stroke-width:3.2; stroke-opacity:1\"/>\n",
       "<line clip-path=\"url(#clip312)\" x1=\"2309.23\" y1=\"219.025\" x2=\"2277.23\" y2=\"219.025\" style=\"stroke:#000000; stroke-width:3.2; stroke-opacity:1\"/>\n",
       "<circle clip-path=\"url(#clip312)\" cx=\"309.067\" cy=\"1288.96\" r=\"14\" fill=\"#800080\" fill-rule=\"evenodd\" fill-opacity=\"1\" stroke=\"#000000\" stroke-opacity=\"1\" stroke-width=\"3.2\"/>\n",
       "<circle clip-path=\"url(#clip312)\" cx=\"529.53\" cy=\"1198.18\" r=\"14\" fill=\"#800080\" fill-rule=\"evenodd\" fill-opacity=\"1\" stroke=\"#000000\" stroke-opacity=\"1\" stroke-width=\"3.2\"/>\n",
       "<circle clip-path=\"url(#clip312)\" cx=\"749.992\" cy=\"1189.07\" r=\"14\" fill=\"#800080\" fill-rule=\"evenodd\" fill-opacity=\"1\" stroke=\"#000000\" stroke-opacity=\"1\" stroke-width=\"3.2\"/>\n",
       "<circle clip-path=\"url(#clip312)\" cx=\"970.455\" cy=\"1127.31\" r=\"14\" fill=\"#800080\" fill-rule=\"evenodd\" fill-opacity=\"1\" stroke=\"#000000\" stroke-opacity=\"1\" stroke-width=\"3.2\"/>\n",
       "<circle clip-path=\"url(#clip312)\" cx=\"1190.92\" cy=\"1104.93\" r=\"14\" fill=\"#800080\" fill-rule=\"evenodd\" fill-opacity=\"1\" stroke=\"#000000\" stroke-opacity=\"1\" stroke-width=\"3.2\"/>\n",
       "<circle clip-path=\"url(#clip312)\" cx=\"1411.38\" cy=\"1035.78\" r=\"14\" fill=\"#800080\" fill-rule=\"evenodd\" fill-opacity=\"1\" stroke=\"#000000\" stroke-opacity=\"1\" stroke-width=\"3.2\"/>\n",
       "<circle clip-path=\"url(#clip312)\" cx=\"1631.84\" cy=\"710.86\" r=\"14\" fill=\"#800080\" fill-rule=\"evenodd\" fill-opacity=\"1\" stroke=\"#000000\" stroke-opacity=\"1\" stroke-width=\"3.2\"/>\n",
       "<circle clip-path=\"url(#clip312)\" cx=\"1852.31\" cy=\"817.621\" r=\"14\" fill=\"#800080\" fill-rule=\"evenodd\" fill-opacity=\"1\" stroke=\"#000000\" stroke-opacity=\"1\" stroke-width=\"3.2\"/>\n",
       "<circle clip-path=\"url(#clip312)\" cx=\"2072.77\" cy=\"648.396\" r=\"14\" fill=\"#800080\" fill-rule=\"evenodd\" fill-opacity=\"1\" stroke=\"#000000\" stroke-opacity=\"1\" stroke-width=\"3.2\"/>\n",
       "<circle clip-path=\"url(#clip312)\" cx=\"2293.23\" cy=\"452.759\" r=\"14\" fill=\"#800080\" fill-rule=\"evenodd\" fill-opacity=\"1\" stroke=\"#000000\" stroke-opacity=\"1\" stroke-width=\"3.2\"/>\n",
       "<path clip-path=\"url(#clip310)\" d=\"\n",
       "M1362.6 406.7 L2282.65 406.7 L2282.65 225.26 L1362.6 225.26  Z\n",
       "  \" fill=\"#ffffff\" fill-rule=\"evenodd\" fill-opacity=\"1\"/>\n",
       "<polyline clip-path=\"url(#clip310)\" style=\"stroke:#000000; stroke-width:4; stroke-opacity:1; fill:none\" points=\"\n",
       "  1362.6,406.7 2282.65,406.7 2282.65,225.26 1362.6,225.26 1362.6,406.7 \n",
       "  \"/>\n",
       "<circle clip-path=\"url(#clip310)\" cx=\"1456.07\" cy=\"285.74\" r=\"23\" fill=\"#ee82ee\" fill-rule=\"evenodd\" fill-opacity=\"1\" stroke=\"#000000\" stroke-opacity=\"1\" stroke-width=\"5.12\"/>\n",
       "<path clip-path=\"url(#clip310)\" d=\"M 0 0 M1555.17 299.085 L1571.49 299.085 L1571.49 303.02 L1549.55 303.02 L1549.55 299.085 Q1552.21 296.33 1556.79 291.7 Q1561.4 287.048 1562.58 285.705 Q1564.83 283.182 1565.71 281.446 Q1566.61 279.687 1566.61 277.997 Q1566.61 275.242 1564.66 273.506 Q1562.74 271.77 1559.64 271.77 Q1557.44 271.77 1554.99 272.534 Q1552.56 273.298 1549.78 274.849 L1549.78 270.126 Q1552.6 268.992 1555.06 268.413 Q1557.51 267.835 1559.55 267.835 Q1564.92 267.835 1568.11 270.52 Q1571.31 273.205 1571.31 277.696 Q1571.31 279.825 1570.5 281.747 Q1569.71 283.645 1567.6 286.237 Q1567.03 286.909 1563.92 290.126 Q1560.82 293.321 1555.17 299.085 Z\" fill=\"#000000\" fill-rule=\"evenodd\" fill-opacity=\"1\" /><path clip-path=\"url(#clip310)\" d=\"M 0 0 M1595.78 267.001 L1600.03 267.001 L1600.03 303.02 L1595.78 303.02 L1595.78 267.001 Z\" fill=\"#000000\" fill-rule=\"evenodd\" fill-opacity=\"1\" /><path clip-path=\"url(#clip310)\" d=\"M 0 0 M1608.95 277.094 L1613.21 277.094 L1613.21 303.02 L1608.95 303.02 L1608.95 277.094 M1608.95 267.001 L1613.21 267.001 L1613.21 272.395 L1608.95 272.395 L1608.95 267.001 Z\" fill=\"#000000\" fill-rule=\"evenodd\" fill-opacity=\"1\" /><path clip-path=\"url(#clip310)\" d=\"M 0 0 M1643.67 287.372 L1643.67 303.02 L1639.41 303.02 L1639.41 287.511 Q1639.41 283.83 1637.97 282.001 Q1636.54 280.173 1633.67 280.173 Q1630.22 280.173 1628.23 282.372 Q1626.24 284.571 1626.24 288.367 L1626.24 303.02 L1621.96 303.02 L1621.96 277.094 L1626.24 277.094 L1626.24 281.122 Q1627.77 278.784 1629.83 277.626 Q1631.91 276.469 1634.62 276.469 Q1639.09 276.469 1641.38 279.247 Q1643.67 282.001 1643.67 287.372 Z\" fill=\"#000000\" fill-rule=\"evenodd\" fill-opacity=\"1\" /><path clip-path=\"url(#clip310)\" d=\"M 0 0 M1674.34 288.992 L1674.34 291.075 L1654.76 291.075 Q1655.03 295.473 1657.4 297.788 Q1659.78 300.08 1664.02 300.08 Q1666.47 300.08 1668.76 299.478 Q1671.08 298.876 1673.34 297.673 L1673.34 301.7 Q1671.05 302.672 1668.65 303.182 Q1666.24 303.691 1663.76 303.691 Q1657.56 303.691 1653.92 300.08 Q1650.31 296.469 1650.31 290.311 Q1650.31 283.946 1653.74 280.219 Q1657.19 276.469 1663.02 276.469 Q1668.25 276.469 1671.28 279.849 Q1674.34 283.205 1674.34 288.992 M1670.08 287.742 Q1670.03 284.247 1668.11 282.163 Q1666.21 280.08 1663.07 280.08 Q1659.5 280.08 1657.35 282.094 Q1655.22 284.108 1654.9 287.765 L1670.08 287.742 Z\" fill=\"#000000\" fill-rule=\"evenodd\" fill-opacity=\"1\" /><path clip-path=\"url(#clip310)\" d=\"M 0 0 M1693.11 289.987 Q1687.95 289.987 1685.96 291.168 Q1683.97 292.348 1683.97 295.196 Q1683.97 297.464 1685.45 298.807 Q1686.96 300.126 1689.52 300.126 Q1693.07 300.126 1695.2 297.626 Q1697.35 295.103 1697.35 290.936 L1697.35 289.987 L1693.11 289.987 M1701.61 288.228 L1701.61 303.02 L1697.35 303.02 L1697.35 299.085 Q1695.89 301.446 1693.71 302.58 Q1691.54 303.691 1688.39 303.691 Q1684.41 303.691 1682.05 301.469 Q1679.71 299.223 1679.71 295.473 Q1679.71 291.098 1682.63 288.876 Q1685.57 286.654 1691.38 286.654 L1697.35 286.654 L1697.35 286.237 Q1697.35 283.298 1695.4 281.7 Q1693.48 280.08 1689.99 280.08 Q1687.77 280.08 1685.66 280.612 Q1683.55 281.145 1681.61 282.21 L1681.61 278.274 Q1683.95 277.372 1686.15 276.932 Q1688.34 276.469 1690.43 276.469 Q1696.05 276.469 1698.83 279.386 Q1701.61 282.302 1701.61 288.228 Z\" fill=\"#000000\" fill-rule=\"evenodd\" fill-opacity=\"1\" /><path clip-path=\"url(#clip310)\" d=\"M 0 0 M1725.4 281.075 Q1724.69 280.659 1723.83 280.474 Q1723 280.265 1721.98 280.265 Q1718.37 280.265 1716.42 282.626 Q1714.5 284.964 1714.5 289.362 L1714.5 303.02 L1710.22 303.02 L1710.22 277.094 L1714.5 277.094 L1714.5 281.122 Q1715.84 278.761 1718 277.626 Q1720.15 276.469 1723.23 276.469 Q1723.67 276.469 1724.2 276.538 Q1724.73 276.585 1725.38 276.7 L1725.4 281.075 Z\" fill=\"#000000\" fill-rule=\"evenodd\" fill-opacity=\"1\" /><path clip-path=\"url(#clip310)\" d=\"M 0 0 M1765.13 282.071 Q1766.72 279.2 1768.95 277.835 Q1771.17 276.469 1774.18 276.469 Q1778.23 276.469 1780.43 279.316 Q1782.63 282.14 1782.63 287.372 L1782.63 303.02 L1778.34 303.02 L1778.34 287.511 Q1778.34 283.784 1777.02 281.978 Q1775.7 280.173 1773 280.173 Q1769.69 280.173 1767.77 282.372 Q1765.84 284.571 1765.84 288.367 L1765.84 303.02 L1761.56 303.02 L1761.56 287.511 Q1761.56 283.761 1760.24 281.978 Q1758.92 280.173 1756.17 280.173 Q1752.9 280.173 1750.98 282.395 Q1749.06 284.594 1749.06 288.367 L1749.06 303.02 L1744.78 303.02 L1744.78 277.094 L1749.06 277.094 L1749.06 281.122 Q1750.52 278.737 1752.56 277.603 Q1754.59 276.469 1757.39 276.469 Q1760.22 276.469 1762.19 277.904 Q1764.18 279.339 1765.13 282.071 Z\" fill=\"#000000\" fill-rule=\"evenodd\" fill-opacity=\"1\" /><path clip-path=\"url(#clip310)\" d=\"M 0 0 M1802.9 289.987 Q1797.74 289.987 1795.75 291.168 Q1793.76 292.348 1793.76 295.196 Q1793.76 297.464 1795.24 298.807 Q1796.75 300.126 1799.32 300.126 Q1802.86 300.126 1804.99 297.626 Q1807.14 295.103 1807.14 290.936 L1807.14 289.987 L1802.9 289.987 M1811.4 288.228 L1811.4 303.02 L1807.14 303.02 L1807.14 299.085 Q1805.68 301.446 1803.51 302.58 Q1801.33 303.691 1798.18 303.691 Q1794.2 303.691 1791.84 301.469 Q1789.5 299.223 1789.5 295.473 Q1789.5 291.098 1792.42 288.876 Q1795.36 286.654 1801.17 286.654 L1807.14 286.654 L1807.14 286.237 Q1807.14 283.298 1805.2 281.7 Q1803.27 280.08 1799.78 280.08 Q1797.56 280.08 1795.45 280.612 Q1793.34 281.145 1791.4 282.21 L1791.4 278.274 Q1793.74 277.372 1795.94 276.932 Q1798.14 276.469 1800.22 276.469 Q1805.84 276.469 1808.62 279.386 Q1811.4 282.302 1811.4 288.228 Z\" fill=\"#000000\" fill-rule=\"evenodd\" fill-opacity=\"1\" /><path clip-path=\"url(#clip310)\" d=\"M 0 0 M1824.39 269.733 L1824.39 277.094 L1833.16 277.094 L1833.16 280.404 L1824.39 280.404 L1824.39 294.478 Q1824.39 297.649 1825.24 298.552 Q1826.12 299.455 1828.78 299.455 L1833.16 299.455 L1833.16 303.02 L1828.78 303.02 Q1823.85 303.02 1821.98 301.191 Q1820.1 299.339 1820.1 294.478 L1820.1 280.404 L1816.98 280.404 L1816.98 277.094 L1820.1 277.094 L1820.1 269.733 L1824.39 269.733 Z\" fill=\"#000000\" fill-rule=\"evenodd\" fill-opacity=\"1\" /><path clip-path=\"url(#clip310)\" d=\"M 0 0 M1853.78 281.075 Q1853.07 280.659 1852.21 280.474 Q1851.38 280.265 1850.36 280.265 Q1846.75 280.265 1844.8 282.626 Q1842.88 284.964 1842.88 289.362 L1842.88 303.02 L1838.6 303.02 L1838.6 277.094 L1842.88 277.094 L1842.88 281.122 Q1844.22 278.761 1846.38 277.626 Q1848.53 276.469 1851.61 276.469 Q1852.05 276.469 1852.58 276.538 Q1853.11 276.585 1853.76 276.7 L1853.78 281.075 Z\" fill=\"#000000\" fill-rule=\"evenodd\" fill-opacity=\"1\" /><path clip-path=\"url(#clip310)\" d=\"M 0 0 M1858.25 277.094 L1862.51 277.094 L1862.51 303.02 L1858.25 303.02 L1858.25 277.094 M1858.25 267.001 L1862.51 267.001 L1862.51 272.395 L1858.25 272.395 L1858.25 267.001 Z\" fill=\"#000000\" fill-rule=\"evenodd\" fill-opacity=\"1\" /><path clip-path=\"url(#clip310)\" d=\"M 0 0 M1890.08 278.089 L1890.08 282.071 Q1888.27 281.075 1886.44 280.589 Q1884.64 280.08 1882.79 280.08 Q1878.64 280.08 1876.35 282.719 Q1874.06 285.335 1874.06 290.08 Q1874.06 294.825 1876.35 297.464 Q1878.64 300.08 1882.79 300.08 Q1884.64 300.08 1886.44 299.594 Q1888.27 299.085 1890.08 298.089 L1890.08 302.024 Q1888.3 302.858 1886.38 303.274 Q1884.48 303.691 1882.32 303.691 Q1876.47 303.691 1873.02 300.01 Q1869.57 296.33 1869.57 290.08 Q1869.57 283.737 1873.04 280.103 Q1876.54 276.469 1882.6 276.469 Q1884.57 276.469 1886.44 276.886 Q1888.32 277.279 1890.08 278.089 Z\" fill=\"#000000\" fill-rule=\"evenodd\" fill-opacity=\"1\" /><path clip-path=\"url(#clip310)\" d=\"M 0 0 M1919.66 288.992 L1919.66 291.075 L1900.08 291.075 Q1900.36 295.473 1902.72 297.788 Q1905.1 300.08 1909.34 300.08 Q1911.79 300.08 1914.08 299.478 Q1916.4 298.876 1918.67 297.673 L1918.67 301.7 Q1916.38 302.672 1913.97 303.182 Q1911.56 303.691 1909.08 303.691 Q1902.88 303.691 1899.25 300.08 Q1895.63 296.469 1895.63 290.311 Q1895.63 283.946 1899.06 280.219 Q1902.51 276.469 1908.34 276.469 Q1913.57 276.469 1916.61 279.849 Q1919.66 283.205 1919.66 288.992 M1915.4 287.742 Q1915.36 284.247 1913.44 282.163 Q1911.54 280.08 1908.39 280.08 Q1904.82 280.08 1902.67 282.094 Q1900.54 284.108 1900.22 287.765 L1915.4 287.742 Z\" fill=\"#000000\" fill-rule=\"evenodd\" fill-opacity=\"1\" /><path clip-path=\"url(#clip310)\" d=\"M 0 0 M1943.18 277.858 L1943.18 281.886 Q1941.38 280.96 1939.43 280.497 Q1937.49 280.034 1935.4 280.034 Q1932.23 280.034 1930.63 281.006 Q1929.06 281.978 1929.06 283.923 Q1929.06 285.404 1930.19 286.261 Q1931.33 287.094 1934.75 287.858 L1936.21 288.182 Q1940.75 289.154 1942.65 290.936 Q1944.57 292.696 1944.57 295.867 Q1944.57 299.478 1941.7 301.585 Q1938.85 303.691 1933.85 303.691 Q1931.77 303.691 1929.5 303.274 Q1927.25 302.881 1924.75 302.071 L1924.75 297.673 Q1927.12 298.899 1929.41 299.524 Q1931.7 300.126 1933.94 300.126 Q1936.95 300.126 1938.57 299.108 Q1940.19 298.066 1940.19 296.191 Q1940.19 294.455 1939.01 293.529 Q1937.86 292.603 1933.9 291.747 L1932.42 291.399 Q1928.46 290.566 1926.7 288.853 Q1924.94 287.117 1924.94 284.108 Q1924.94 280.45 1927.53 278.46 Q1930.13 276.469 1934.89 276.469 Q1937.25 276.469 1939.34 276.816 Q1941.42 277.163 1943.18 277.858 Z\" fill=\"#000000\" fill-rule=\"evenodd\" fill-opacity=\"1\" /><path clip-path=\"url(#clip310)\" d=\"M 0 0 M1983.48 281.029 L1983.48 267.001 L1987.74 267.001 L1987.74 303.02 L1983.48 303.02 L1983.48 299.131 Q1982.14 301.446 1980.08 302.58 Q1978.04 303.691 1975.17 303.691 Q1970.47 303.691 1967.51 299.941 Q1964.57 296.191 1964.57 290.08 Q1964.57 283.969 1967.51 280.219 Q1970.47 276.469 1975.17 276.469 Q1978.04 276.469 1980.08 277.603 Q1982.14 278.714 1983.48 281.029 M1968.97 290.08 Q1968.97 294.779 1970.89 297.464 Q1972.83 300.126 1976.21 300.126 Q1979.59 300.126 1981.54 297.464 Q1983.48 294.779 1983.48 290.08 Q1983.48 285.381 1981.54 282.719 Q1979.59 280.034 1976.21 280.034 Q1972.83 280.034 1970.89 282.719 Q1968.97 285.381 1968.97 290.08 Z\" fill=\"#000000\" fill-rule=\"evenodd\" fill-opacity=\"1\" /><path clip-path=\"url(#clip310)\" d=\"M 0 0 M2006.56 280.08 Q2003.13 280.08 2001.14 282.765 Q1999.15 285.427 1999.15 290.08 Q1999.15 294.733 2001.12 297.418 Q2003.11 300.08 2006.56 300.08 Q2009.96 300.08 2011.95 297.395 Q2013.94 294.71 2013.94 290.08 Q2013.94 285.474 2011.95 282.788 Q2009.96 280.08 2006.56 280.08 M2006.56 276.469 Q2012.12 276.469 2015.29 280.08 Q2018.46 283.691 2018.46 290.08 Q2018.46 296.446 2015.29 300.08 Q2012.12 303.691 2006.56 303.691 Q2000.98 303.691 1997.81 300.08 Q1994.66 296.446 1994.66 290.08 Q1994.66 283.691 1997.81 280.08 Q2000.98 276.469 2006.56 276.469 Z\" fill=\"#000000\" fill-rule=\"evenodd\" fill-opacity=\"1\" /><path clip-path=\"url(#clip310)\" d=\"M 0 0 M2029.73 269.733 L2029.73 277.094 L2038.5 277.094 L2038.5 280.404 L2029.73 280.404 L2029.73 294.478 Q2029.73 297.649 2030.59 298.552 Q2031.47 299.455 2034.13 299.455 L2038.5 299.455 L2038.5 303.02 L2034.13 303.02 Q2029.2 303.02 2027.32 301.191 Q2025.45 299.339 2025.45 294.478 L2025.45 280.404 L2022.32 280.404 L2022.32 277.094 L2025.45 277.094 L2025.45 269.733 L2029.73 269.733 Z\" fill=\"#000000\" fill-rule=\"evenodd\" fill-opacity=\"1\" /><path clip-path=\"url(#clip310)\" d=\"M 0 0 M2063.3 299.131 L2063.3 312.881 L2059.01 312.881 L2059.01 277.094 L2063.3 277.094 L2063.3 281.029 Q2064.64 278.714 2066.68 277.603 Q2068.74 276.469 2071.58 276.469 Q2076.31 276.469 2079.24 280.219 Q2082.21 283.969 2082.21 290.08 Q2082.21 296.191 2079.24 299.941 Q2076.31 303.691 2071.58 303.691 Q2068.74 303.691 2066.68 302.58 Q2064.64 301.446 2063.3 299.131 M2077.79 290.08 Q2077.79 285.381 2075.84 282.719 Q2073.92 280.034 2070.54 280.034 Q2067.16 280.034 2065.22 282.719 Q2063.3 285.381 2063.3 290.08 Q2063.3 294.779 2065.22 297.464 Q2067.16 300.126 2070.54 300.126 Q2073.92 300.126 2075.84 297.464 Q2077.79 294.779 2077.79 290.08 Z\" fill=\"#000000\" fill-rule=\"evenodd\" fill-opacity=\"1\" /><path clip-path=\"url(#clip310)\" d=\"M 0 0 M2104.29 281.075 Q2103.57 280.659 2102.72 280.474 Q2101.88 280.265 2100.87 280.265 Q2097.25 280.265 2095.31 282.626 Q2093.39 284.964 2093.39 289.362 L2093.39 303.02 L2089.11 303.02 L2089.11 277.094 L2093.39 277.094 L2093.39 281.122 Q2094.73 278.761 2096.88 277.626 Q2099.04 276.469 2102.12 276.469 Q2102.55 276.469 2103.09 276.538 Q2103.62 276.585 2104.27 276.7 L2104.29 281.075 Z\" fill=\"#000000\" fill-rule=\"evenodd\" fill-opacity=\"1\" /><path clip-path=\"url(#clip310)\" d=\"M 0 0 M2117.76 280.08 Q2114.34 280.08 2112.35 282.765 Q2110.36 285.427 2110.36 290.08 Q2110.36 294.733 2112.32 297.418 Q2114.31 300.08 2117.76 300.08 Q2121.17 300.08 2123.16 297.395 Q2125.15 294.71 2125.15 290.08 Q2125.15 285.474 2123.16 282.788 Q2121.17 280.08 2117.76 280.08 M2117.76 276.469 Q2123.32 276.469 2126.49 280.08 Q2129.66 283.691 2129.66 290.08 Q2129.66 296.446 2126.49 300.08 Q2123.32 303.691 2117.76 303.691 Q2112.18 303.691 2109.01 300.08 Q2105.87 296.446 2105.87 290.08 Q2105.87 283.691 2109.01 280.08 Q2112.18 276.469 2117.76 276.469 Z\" fill=\"#000000\" fill-rule=\"evenodd\" fill-opacity=\"1\" /><path clip-path=\"url(#clip310)\" d=\"M 0 0 M2153.78 281.029 L2153.78 267.001 L2158.04 267.001 L2158.04 303.02 L2153.78 303.02 L2153.78 299.131 Q2152.44 301.446 2150.38 302.58 Q2148.34 303.691 2145.47 303.691 Q2140.77 303.691 2137.81 299.941 Q2134.87 296.191 2134.87 290.08 Q2134.87 283.969 2137.81 280.219 Q2140.77 276.469 2145.47 276.469 Q2148.34 276.469 2150.38 277.603 Q2152.44 278.714 2153.78 281.029 M2139.27 290.08 Q2139.27 294.779 2141.19 297.464 Q2143.13 300.126 2146.51 300.126 Q2149.89 300.126 2151.84 297.464 Q2153.78 294.779 2153.78 290.08 Q2153.78 285.381 2151.84 282.719 Q2149.89 280.034 2146.51 280.034 Q2143.13 280.034 2141.19 282.719 Q2139.27 285.381 2139.27 290.08 Z\" fill=\"#000000\" fill-rule=\"evenodd\" fill-opacity=\"1\" /><path clip-path=\"url(#clip310)\" d=\"M 0 0 M2166.37 292.788 L2166.37 277.094 L2170.63 277.094 L2170.63 292.626 Q2170.63 296.307 2172.07 298.159 Q2173.5 299.987 2176.37 299.987 Q2179.82 299.987 2181.81 297.788 Q2183.83 295.589 2183.83 291.793 L2183.83 277.094 L2188.09 277.094 L2188.09 303.02 L2183.83 303.02 L2183.83 299.038 Q2182.28 301.399 2180.22 302.557 Q2178.18 303.691 2175.47 303.691 Q2171 303.691 2168.69 300.913 Q2166.37 298.135 2166.37 292.788 M2177.09 276.469 L2177.09 276.469 Z\" fill=\"#000000\" fill-rule=\"evenodd\" fill-opacity=\"1\" /><path clip-path=\"url(#clip310)\" d=\"M 0 0 M2215.52 278.089 L2215.52 282.071 Q2213.71 281.075 2211.88 280.589 Q2210.08 280.08 2208.23 280.08 Q2204.08 280.08 2201.79 282.719 Q2199.5 285.335 2199.5 290.08 Q2199.5 294.825 2201.79 297.464 Q2204.08 300.08 2208.23 300.08 Q2210.08 300.08 2211.88 299.594 Q2213.71 299.085 2215.52 298.089 L2215.52 302.024 Q2213.73 302.858 2211.81 303.274 Q2209.92 303.691 2207.76 303.691 Q2201.91 303.691 2198.46 300.01 Q2195.01 296.33 2195.01 290.08 Q2195.01 283.737 2198.48 280.103 Q2201.98 276.469 2208.04 276.469 Q2210.01 276.469 2211.88 276.886 Q2213.76 277.279 2215.52 278.089 Z\" fill=\"#000000\" fill-rule=\"evenodd\" fill-opacity=\"1\" /><path clip-path=\"url(#clip310)\" d=\"M 0 0 M2227.14 269.733 L2227.14 277.094 L2235.91 277.094 L2235.91 280.404 L2227.14 280.404 L2227.14 294.478 Q2227.14 297.649 2227.99 298.552 Q2228.87 299.455 2231.54 299.455 L2235.91 299.455 L2235.91 303.02 L2231.54 303.02 Q2226.61 303.02 2224.73 301.191 Q2222.86 299.339 2222.86 294.478 L2222.86 280.404 L2219.73 280.404 L2219.73 277.094 L2222.86 277.094 L2222.86 269.733 L2227.14 269.733 Z\" fill=\"#000000\" fill-rule=\"evenodd\" fill-opacity=\"1\" /><circle clip-path=\"url(#clip310)\" cx=\"1456.07\" cy=\"346.22\" r=\"23\" fill=\"#800080\" fill-rule=\"evenodd\" fill-opacity=\"1\" stroke=\"#000000\" stroke-opacity=\"1\" stroke-width=\"5.12\"/>\n",
       "<path clip-path=\"url(#clip310)\" d=\"M 0 0 M1567.97 338.338 L1567.97 342.366 Q1566.17 341.44 1564.22 340.977 Q1562.28 340.514 1560.2 340.514 Q1557.03 340.514 1555.43 341.486 Q1553.85 342.458 1553.85 344.403 Q1553.85 345.884 1554.99 346.741 Q1556.12 347.574 1559.55 348.338 L1561.01 348.662 Q1565.54 349.634 1567.44 351.416 Q1569.36 353.176 1569.36 356.347 Q1569.36 359.958 1566.49 362.065 Q1563.65 364.171 1558.65 364.171 Q1556.56 364.171 1554.29 363.754 Q1552.05 363.361 1549.55 362.551 L1549.55 358.153 Q1551.91 359.379 1554.2 360.004 Q1556.49 360.606 1558.74 360.606 Q1561.75 360.606 1563.37 359.588 Q1564.99 358.546 1564.99 356.671 Q1564.99 354.935 1563.81 354.009 Q1562.65 353.083 1558.69 352.227 L1557.21 351.879 Q1553.25 351.046 1551.49 349.333 Q1549.73 347.597 1549.73 344.588 Q1549.73 340.93 1552.33 338.94 Q1554.92 336.949 1559.69 336.949 Q1562.05 336.949 1564.13 337.296 Q1566.22 337.643 1567.97 338.338 Z\" fill=\"#000000\" fill-rule=\"evenodd\" fill-opacity=\"1\" /><path clip-path=\"url(#clip310)\" d=\"M 0 0 M1578.69 350.56 Q1578.69 355.259 1580.61 357.944 Q1582.56 360.606 1585.94 360.606 Q1589.32 360.606 1591.26 357.944 Q1593.21 355.259 1593.21 350.56 Q1593.21 345.861 1591.26 343.199 Q1589.32 340.514 1585.94 340.514 Q1582.56 340.514 1580.61 343.199 Q1578.69 345.861 1578.69 350.56 M1593.21 359.611 Q1591.86 361.926 1589.8 363.06 Q1587.77 364.171 1584.9 364.171 Q1580.2 364.171 1577.23 360.421 Q1574.29 356.671 1574.29 350.56 Q1574.29 344.449 1577.23 340.699 Q1580.2 336.949 1584.9 336.949 Q1587.77 336.949 1589.8 338.083 Q1591.86 339.194 1593.21 341.509 L1593.21 337.574 L1597.47 337.574 L1597.47 373.361 L1593.21 373.361 L1593.21 359.611 Z\" fill=\"#000000\" fill-rule=\"evenodd\" fill-opacity=\"1\" /><path clip-path=\"url(#clip310)\" d=\"M 0 0 M1605.8 353.268 L1605.8 337.574 L1610.06 337.574 L1610.06 353.106 Q1610.06 356.787 1611.49 358.639 Q1612.93 360.467 1615.8 360.467 Q1619.25 360.467 1621.24 358.268 Q1623.25 356.069 1623.25 352.273 L1623.25 337.574 L1627.51 337.574 L1627.51 363.5 L1623.25 363.5 L1623.25 359.518 Q1621.7 361.879 1619.64 363.037 Q1617.6 364.171 1614.9 364.171 Q1610.43 364.171 1608.11 361.393 Q1605.8 358.615 1605.8 353.268 M1616.52 336.949 L1616.52 336.949 Z\" fill=\"#000000\" fill-rule=\"evenodd\" fill-opacity=\"1\" /><path clip-path=\"url(#clip310)\" d=\"M 0 0 M1648.07 350.467 Q1642.9 350.467 1640.91 351.648 Q1638.92 352.828 1638.92 355.676 Q1638.92 357.944 1640.4 359.287 Q1641.91 360.606 1644.48 360.606 Q1648.02 360.606 1650.15 358.106 Q1652.3 355.583 1652.3 351.416 L1652.3 350.467 L1648.07 350.467 M1656.56 348.708 L1656.56 363.5 L1652.3 363.5 L1652.3 359.565 Q1650.84 361.926 1648.67 363.06 Q1646.49 364.171 1643.34 364.171 Q1639.36 364.171 1637 361.949 Q1634.66 359.703 1634.66 355.953 Q1634.66 351.578 1637.58 349.356 Q1640.52 347.134 1646.33 347.134 L1652.3 347.134 L1652.3 346.717 Q1652.3 343.778 1650.36 342.18 Q1648.44 340.56 1644.94 340.56 Q1642.72 340.56 1640.61 341.092 Q1638.51 341.625 1636.56 342.69 L1636.56 338.754 Q1638.9 337.852 1641.1 337.412 Q1643.3 336.949 1645.38 336.949 Q1651.01 336.949 1653.78 339.866 Q1656.56 342.782 1656.56 348.708 Z\" fill=\"#000000\" fill-rule=\"evenodd\" fill-opacity=\"1\" /><path clip-path=\"url(#clip310)\" d=\"M 0 0 M1680.36 341.555 Q1679.64 341.139 1678.78 340.954 Q1677.95 340.745 1676.93 340.745 Q1673.32 340.745 1671.38 343.106 Q1669.46 345.444 1669.46 349.842 L1669.46 363.5 L1665.17 363.5 L1665.17 337.574 L1669.46 337.574 L1669.46 341.602 Q1670.8 339.241 1672.95 338.106 Q1675.1 336.949 1678.18 336.949 Q1678.62 336.949 1679.15 337.018 Q1679.69 337.065 1680.33 337.18 L1680.36 341.555 Z\" fill=\"#000000\" fill-rule=\"evenodd\" fill-opacity=\"1\" /><path clip-path=\"url(#clip310)\" d=\"M 0 0 M1705.96 349.472 L1705.96 351.555 L1686.38 351.555 Q1686.65 355.953 1689.02 358.268 Q1691.4 360.56 1695.64 360.56 Q1698.09 360.56 1700.38 359.958 Q1702.7 359.356 1704.96 358.153 L1704.96 362.18 Q1702.67 363.152 1700.27 363.662 Q1697.86 364.171 1695.38 364.171 Q1689.18 364.171 1685.54 360.56 Q1681.93 356.949 1681.93 350.791 Q1681.93 344.426 1685.36 340.699 Q1688.81 336.949 1694.64 336.949 Q1699.87 336.949 1702.9 340.329 Q1705.96 343.685 1705.96 349.472 M1701.7 348.222 Q1701.65 344.727 1699.73 342.643 Q1697.83 340.56 1694.69 340.56 Q1691.12 340.56 1688.97 342.574 Q1686.84 344.588 1686.52 348.245 L1701.7 348.222 Z\" fill=\"#000000\" fill-rule=\"evenodd\" fill-opacity=\"1\" /><path clip-path=\"url(#clip310)\" d=\"M 0 0 M1748.2 342.551 Q1749.8 339.68 1752.02 338.315 Q1754.25 336.949 1757.26 336.949 Q1761.31 336.949 1763.51 339.796 Q1765.7 342.62 1765.7 347.852 L1765.7 363.5 L1761.42 363.5 L1761.42 347.991 Q1761.42 344.264 1760.1 342.458 Q1758.78 340.653 1756.08 340.653 Q1752.77 340.653 1750.84 342.852 Q1748.92 345.051 1748.92 348.847 L1748.92 363.5 L1744.64 363.5 L1744.64 347.991 Q1744.64 344.241 1743.32 342.458 Q1742 340.653 1739.25 340.653 Q1735.98 340.653 1734.06 342.875 Q1732.14 345.074 1732.14 348.847 L1732.14 363.5 L1727.86 363.5 L1727.86 337.574 L1732.14 337.574 L1732.14 341.602 Q1733.6 339.217 1735.64 338.083 Q1737.67 336.949 1740.47 336.949 Q1743.3 336.949 1745.27 338.384 Q1747.26 339.819 1748.2 342.551 Z\" fill=\"#000000\" fill-rule=\"evenodd\" fill-opacity=\"1\" /><path clip-path=\"url(#clip310)\" d=\"M 0 0 M1785.98 350.467 Q1780.82 350.467 1778.83 351.648 Q1776.84 352.828 1776.84 355.676 Q1776.84 357.944 1778.32 359.287 Q1779.83 360.606 1782.39 360.606 Q1785.94 360.606 1788.07 358.106 Q1790.22 355.583 1790.22 351.416 L1790.22 350.467 L1785.98 350.467 M1794.48 348.708 L1794.48 363.5 L1790.22 363.5 L1790.22 359.565 Q1788.76 361.926 1786.58 363.06 Q1784.41 364.171 1781.26 364.171 Q1777.28 364.171 1774.92 361.949 Q1772.58 359.703 1772.58 355.953 Q1772.58 351.578 1775.5 349.356 Q1778.44 347.134 1784.25 347.134 L1790.22 347.134 L1790.22 346.717 Q1790.22 343.778 1788.27 342.18 Q1786.35 340.56 1782.86 340.56 Q1780.64 340.56 1778.53 341.092 Q1776.42 341.625 1774.48 342.69 L1774.48 338.754 Q1776.82 337.852 1779.01 337.412 Q1781.21 336.949 1783.3 336.949 Q1788.92 336.949 1791.7 339.866 Q1794.48 342.782 1794.48 348.708 Z\" fill=\"#000000\" fill-rule=\"evenodd\" fill-opacity=\"1\" /><path clip-path=\"url(#clip310)\" d=\"M 0 0 M1807.46 330.213 L1807.46 337.574 L1816.24 337.574 L1816.24 340.884 L1807.46 340.884 L1807.46 354.958 Q1807.46 358.129 1808.32 359.032 Q1809.2 359.935 1811.86 359.935 L1816.24 359.935 L1816.24 363.5 L1811.86 363.5 Q1806.93 363.5 1805.06 361.671 Q1803.18 359.819 1803.18 354.958 L1803.18 340.884 L1800.06 340.884 L1800.06 337.574 L1803.18 337.574 L1803.18 330.213 L1807.46 330.213 Z\" fill=\"#000000\" fill-rule=\"evenodd\" fill-opacity=\"1\" /><path clip-path=\"url(#clip310)\" d=\"M 0 0 M1836.86 341.555 Q1836.14 341.139 1835.29 340.954 Q1834.45 340.745 1833.44 340.745 Q1829.82 340.745 1827.88 343.106 Q1825.96 345.444 1825.96 349.842 L1825.96 363.5 L1821.68 363.5 L1821.68 337.574 L1825.96 337.574 L1825.96 341.602 Q1827.3 339.241 1829.45 338.106 Q1831.61 336.949 1834.69 336.949 Q1835.13 336.949 1835.66 337.018 Q1836.19 337.065 1836.84 337.18 L1836.86 341.555 Z\" fill=\"#000000\" fill-rule=\"evenodd\" fill-opacity=\"1\" /><path clip-path=\"url(#clip310)\" d=\"M 0 0 M1841.33 337.574 L1845.59 337.574 L1845.59 363.5 L1841.33 363.5 L1841.33 337.574 M1841.33 327.481 L1845.59 327.481 L1845.59 332.875 L1841.33 332.875 L1841.33 327.481 Z\" fill=\"#000000\" fill-rule=\"evenodd\" fill-opacity=\"1\" /><path clip-path=\"url(#clip310)\" d=\"M 0 0 M1876.05 337.574 L1866.68 350.19 L1876.54 363.5 L1871.51 363.5 L1863.97 353.315 L1856.42 363.5 L1851.4 363.5 L1861.47 349.935 L1852.26 337.574 L1857.28 337.574 L1864.15 346.81 L1871.03 337.574 L1876.05 337.574 Z\" fill=\"#000000\" fill-rule=\"evenodd\" fill-opacity=\"1\" /><path clip-path=\"url(#clip310)\" d=\"M 0 0 M1901.84 330.213 L1901.84 337.574 L1910.61 337.574 L1910.61 340.884 L1901.84 340.884 L1901.84 354.958 Q1901.84 358.129 1902.69 359.032 Q1903.57 359.935 1906.24 359.935 L1910.61 359.935 L1910.61 363.5 L1906.24 363.5 Q1901.31 363.5 1899.43 361.671 Q1897.56 359.819 1897.56 354.958 L1897.56 340.884 L1894.43 340.884 L1894.43 337.574 L1897.56 337.574 L1897.56 330.213 L1901.84 330.213 Z\" fill=\"#000000\" fill-rule=\"evenodd\" fill-opacity=\"1\" /><path clip-path=\"url(#clip310)\" d=\"M 0 0 M1916.21 337.574 L1920.47 337.574 L1920.47 363.5 L1916.21 363.5 L1916.21 337.574 M1916.21 327.481 L1920.47 327.481 L1920.47 332.875 L1916.21 332.875 L1916.21 327.481 Z\" fill=\"#000000\" fill-rule=\"evenodd\" fill-opacity=\"1\" /><path clip-path=\"url(#clip310)\" d=\"M 0 0 M1949.57 342.551 Q1951.17 339.68 1953.39 338.315 Q1955.61 336.949 1958.62 336.949 Q1962.67 336.949 1964.87 339.796 Q1967.07 342.62 1967.07 347.852 L1967.07 363.5 L1962.79 363.5 L1962.79 347.991 Q1962.79 344.264 1961.47 342.458 Q1960.15 340.653 1957.44 340.653 Q1954.13 340.653 1952.21 342.852 Q1950.29 345.051 1950.29 348.847 L1950.29 363.5 L1946 363.5 L1946 347.991 Q1946 344.241 1944.69 342.458 Q1943.37 340.653 1940.61 340.653 Q1937.35 340.653 1935.43 342.875 Q1933.5 345.074 1933.5 348.847 L1933.5 363.5 L1929.22 363.5 L1929.22 337.574 L1933.5 337.574 L1933.5 341.602 Q1934.96 339.217 1937 338.083 Q1939.04 336.949 1941.84 336.949 Q1944.66 336.949 1946.63 338.384 Q1948.62 339.819 1949.57 342.551 Z\" fill=\"#000000\" fill-rule=\"evenodd\" fill-opacity=\"1\" /><path clip-path=\"url(#clip310)\" d=\"M 0 0 M1997.74 349.472 L1997.74 351.555 L1978.16 351.555 Q1978.44 355.953 1980.8 358.268 Q1983.18 360.56 1987.42 360.56 Q1989.87 360.56 1992.16 359.958 Q1994.48 359.356 1996.75 358.153 L1996.75 362.18 Q1994.45 363.152 1992.05 363.662 Q1989.64 364.171 1987.16 364.171 Q1980.96 364.171 1977.32 360.56 Q1973.71 356.949 1973.71 350.791 Q1973.71 344.426 1977.14 340.699 Q1980.59 336.949 1986.42 336.949 Q1991.65 336.949 1994.69 340.329 Q1997.74 343.685 1997.74 349.472 M1993.48 348.222 Q1993.44 344.727 1991.51 342.643 Q1989.62 340.56 1986.47 340.56 Q1982.9 340.56 1980.75 342.574 Q1978.62 344.588 1978.3 348.245 L1993.48 348.222 Z\" fill=\"#000000\" fill-rule=\"evenodd\" fill-opacity=\"1\" /><path clip-path=\"url(#clip310)\" d=\"M 0 0 M2021.26 338.338 L2021.26 342.366 Q2019.45 341.44 2017.51 340.977 Q2015.56 340.514 2013.48 340.514 Q2010.31 340.514 2008.71 341.486 Q2007.14 342.458 2007.14 344.403 Q2007.14 345.884 2008.27 346.741 Q2009.41 347.574 2012.83 348.338 L2014.29 348.662 Q2018.83 349.634 2020.73 351.416 Q2022.65 353.176 2022.65 356.347 Q2022.65 359.958 2019.78 362.065 Q2016.93 364.171 2011.93 364.171 Q2009.85 364.171 2007.58 363.754 Q2005.33 363.361 2002.83 362.551 L2002.83 358.153 Q2005.19 359.379 2007.49 360.004 Q2009.78 360.606 2012.02 360.606 Q2015.03 360.606 2016.65 359.588 Q2018.27 358.546 2018.27 356.671 Q2018.27 354.935 2017.09 354.009 Q2015.94 353.083 2011.98 352.227 L2010.5 351.879 Q2006.54 351.046 2004.78 349.333 Q2003.02 347.597 2003.02 344.588 Q2003.02 340.93 2005.61 338.94 Q2008.2 336.949 2012.97 336.949 Q2015.33 336.949 2017.42 337.296 Q2019.5 337.643 2021.26 338.338 Z\" fill=\"#000000\" fill-rule=\"evenodd\" fill-opacity=\"1\" /><path clip-path=\"url(#clip310)\" d=\"M 0 0 M2061.03 338.338 L2061.03 342.366 Q2059.22 341.44 2057.28 340.977 Q2055.33 340.514 2053.25 340.514 Q2050.08 340.514 2048.48 341.486 Q2046.91 342.458 2046.91 344.403 Q2046.91 345.884 2048.04 346.741 Q2049.18 347.574 2052.6 348.338 L2054.06 348.662 Q2058.6 349.634 2060.49 351.416 Q2062.42 353.176 2062.42 356.347 Q2062.42 359.958 2059.55 362.065 Q2056.7 364.171 2051.7 364.171 Q2049.62 364.171 2047.35 363.754 Q2045.1 363.361 2042.6 362.551 L2042.6 358.153 Q2044.96 359.379 2047.25 360.004 Q2049.55 360.606 2051.79 360.606 Q2054.8 360.606 2056.42 359.588 Q2058.04 358.546 2058.04 356.671 Q2058.04 354.935 2056.86 354.009 Q2055.7 353.083 2051.75 352.227 L2050.26 351.879 Q2046.31 351.046 2044.55 349.333 Q2042.79 347.597 2042.79 344.588 Q2042.79 340.93 2045.38 338.94 Q2047.97 336.949 2052.74 336.949 Q2055.1 336.949 2057.18 337.296 Q2059.27 337.643 2061.03 338.338 Z\" fill=\"#000000\" fill-rule=\"evenodd\" fill-opacity=\"1\" /><path clip-path=\"url(#clip310)\" d=\"M 0 0 M2087.86 338.569 L2087.86 342.551 Q2086.05 341.555 2084.22 341.069 Q2082.42 340.56 2080.56 340.56 Q2076.42 340.56 2074.13 343.199 Q2071.84 345.815 2071.84 350.56 Q2071.84 355.305 2074.13 357.944 Q2076.42 360.56 2080.56 360.56 Q2082.42 360.56 2084.22 360.074 Q2086.05 359.565 2087.86 358.569 L2087.86 362.504 Q2086.07 363.338 2084.15 363.754 Q2082.25 364.171 2080.1 364.171 Q2074.24 364.171 2070.8 360.49 Q2067.35 356.81 2067.35 350.56 Q2067.35 344.217 2070.82 340.583 Q2074.31 336.949 2080.38 336.949 Q2082.35 336.949 2084.22 337.366 Q2086.1 337.759 2087.86 338.569 Z\" fill=\"#000000\" fill-rule=\"evenodd\" fill-opacity=\"1\" /><path clip-path=\"url(#clip310)\" d=\"M 0 0 M2107.05 350.467 Q2101.88 350.467 2099.89 351.648 Q2097.9 352.828 2097.9 355.676 Q2097.9 357.944 2099.38 359.287 Q2100.89 360.606 2103.46 360.606 Q2107 360.606 2109.13 358.106 Q2111.28 355.583 2111.28 351.416 L2111.28 350.467 L2107.05 350.467 M2115.54 348.708 L2115.54 363.5 L2111.28 363.5 L2111.28 359.565 Q2109.82 361.926 2107.65 363.06 Q2105.47 364.171 2102.32 364.171 Q2098.34 364.171 2095.98 361.949 Q2093.64 359.703 2093.64 355.953 Q2093.64 351.578 2096.56 349.356 Q2099.5 347.134 2105.31 347.134 L2111.28 347.134 L2111.28 346.717 Q2111.28 343.778 2109.34 342.18 Q2107.42 340.56 2103.92 340.56 Q2101.7 340.56 2099.59 341.092 Q2097.49 341.625 2095.54 342.69 L2095.54 338.754 Q2097.88 337.852 2100.08 337.412 Q2102.28 336.949 2104.36 336.949 Q2109.99 336.949 2112.76 339.866 Q2115.54 342.782 2115.54 348.708 Z\" fill=\"#000000\" fill-rule=\"evenodd\" fill-opacity=\"1\" /><path clip-path=\"url(#clip310)\" d=\"M 0 0 M2124.31 327.481 L2128.57 327.481 L2128.57 363.5 L2124.31 363.5 L2124.31 327.481 Z\" fill=\"#000000\" fill-rule=\"evenodd\" fill-opacity=\"1\" /><path clip-path=\"url(#clip310)\" d=\"M 0 0 M2149.27 350.467 Q2144.11 350.467 2142.11 351.648 Q2140.12 352.828 2140.12 355.676 Q2140.12 357.944 2141.61 359.287 Q2143.11 360.606 2145.68 360.606 Q2149.22 360.606 2151.35 358.106 Q2153.5 355.583 2153.5 351.416 L2153.5 350.467 L2149.27 350.467 M2157.76 348.708 L2157.76 363.5 L2153.5 363.5 L2153.5 359.565 Q2152.05 361.926 2149.87 363.06 Q2147.69 364.171 2144.55 364.171 Q2140.56 364.171 2138.2 361.949 Q2135.86 359.703 2135.86 355.953 Q2135.86 351.578 2138.78 349.356 Q2141.72 347.134 2147.53 347.134 L2153.5 347.134 L2153.5 346.717 Q2153.5 343.778 2151.56 342.18 Q2149.64 340.56 2146.14 340.56 Q2143.92 340.56 2141.81 341.092 Q2139.71 341.625 2137.76 342.69 L2137.76 338.754 Q2140.1 337.852 2142.3 337.412 Q2144.5 336.949 2146.58 336.949 Q2152.21 336.949 2154.99 339.866 Q2157.76 342.782 2157.76 348.708 Z\" fill=\"#000000\" fill-rule=\"evenodd\" fill-opacity=\"1\" /><path clip-path=\"url(#clip310)\" d=\"M 0 0 M2181.56 341.555 Q2180.84 341.139 2179.99 340.954 Q2179.15 340.745 2178.13 340.745 Q2174.52 340.745 2172.58 343.106 Q2170.66 345.444 2170.66 349.842 L2170.66 363.5 L2166.37 363.5 L2166.37 337.574 L2170.66 337.574 L2170.66 341.602 Q2172 339.241 2174.15 338.106 Q2176.3 336.949 2179.38 336.949 Q2179.82 336.949 2180.36 337.018 Q2180.89 337.065 2181.54 337.18 L2181.56 341.555 Z\" fill=\"#000000\" fill-rule=\"evenodd\" fill-opacity=\"1\" /></svg>\n"
      ]
     },
     "execution_count": 60,
     "metadata": {},
     "output_type": "execute_result"
    }
   ],
   "source": [
    "using Plots\n",
    "scatter(data_to_plot.length,\n",
    "    [data_to_plot.dot_mean data_to_plot.scalar_mean],\n",
    "    colour = [:violet :purple ],\n",
    "    yerr= [data_to_plot.dot_std data_to_plot.scalar_std],\n",
    "    label = [\"2 linear matrices dot product\" \"square matrix times scalar\"],\n",
    "    title = \"Means of time of computing different\n",
    "operations for different array sizes\",\n",
    "    xlab = \"array length\",\n",
    "    ylab = \"time\"\n",
    ")"
   ]
  },
  {
   "cell_type": "code",
   "execution_count": 61,
   "metadata": {},
   "outputs": [
    {
     "data": {
      "image/svg+xml": [
       "<?xml version=\"1.0\" encoding=\"utf-8\"?>\n",
       "<svg xmlns=\"http://www.w3.org/2000/svg\" xmlns:xlink=\"http://www.w3.org/1999/xlink\" width=\"600\" height=\"400\" viewBox=\"0 0 2400 1600\">\n",
       "<defs>\n",
       "  <clipPath id=\"clip350\">\n",
       "    <rect x=\"0\" y=\"0\" width=\"2400\" height=\"1600\"/>\n",
       "  </clipPath>\n",
       "</defs>\n",
       "<path clip-path=\"url(#clip350)\" d=\"\n",
       "M0 1600 L2400 1600 L2400 0 L0 0  Z\n",
       "  \" fill=\"#ffffff\" fill-rule=\"evenodd\" fill-opacity=\"1\"/>\n",
       "<defs>\n",
       "  <clipPath id=\"clip351\">\n",
       "    <rect x=\"480\" y=\"0\" width=\"1681\" height=\"1600\"/>\n",
       "  </clipPath>\n",
       "</defs>\n",
       "<path clip-path=\"url(#clip350)\" d=\"\n",
       "M399.514 623.18 L2352.76 623.18 L2352.76 183.952 L399.514 183.952  Z\n",
       "  \" fill=\"#ffffff\" fill-rule=\"evenodd\" fill-opacity=\"1\"/>\n",
       "<defs>\n",
       "  <clipPath id=\"clip352\">\n",
       "    <rect x=\"399\" y=\"183\" width=\"1954\" height=\"440\"/>\n",
       "  </clipPath>\n",
       "</defs>\n",
       "<polyline clip-path=\"url(#clip352)\" style=\"stroke:#000000; stroke-width:2; stroke-opacity:0.1; fill:none\" points=\"\n",
       "  659.537,623.18 659.537,183.952 \n",
       "  \"/>\n",
       "<polyline clip-path=\"url(#clip352)\" style=\"stroke:#000000; stroke-width:2; stroke-opacity:0.1; fill:none\" points=\"\n",
       "  1069.02,623.18 1069.02,183.952 \n",
       "  \"/>\n",
       "<polyline clip-path=\"url(#clip352)\" style=\"stroke:#000000; stroke-width:2; stroke-opacity:0.1; fill:none\" points=\"\n",
       "  1478.51,623.18 1478.51,183.952 \n",
       "  \"/>\n",
       "<polyline clip-path=\"url(#clip352)\" style=\"stroke:#000000; stroke-width:2; stroke-opacity:0.1; fill:none\" points=\"\n",
       "  1887.99,623.18 1887.99,183.952 \n",
       "  \"/>\n",
       "<polyline clip-path=\"url(#clip352)\" style=\"stroke:#000000; stroke-width:2; stroke-opacity:0.1; fill:none\" points=\"\n",
       "  2297.48,623.18 2297.48,183.952 \n",
       "  \"/>\n",
       "<polyline clip-path=\"url(#clip350)\" style=\"stroke:#000000; stroke-width:4; stroke-opacity:1; fill:none\" points=\"\n",
       "  399.514,623.18 2352.76,623.18 \n",
       "  \"/>\n",
       "<polyline clip-path=\"url(#clip350)\" style=\"stroke:#000000; stroke-width:4; stroke-opacity:1; fill:none\" points=\"\n",
       "  659.537,623.18 659.537,617.909 \n",
       "  \"/>\n",
       "<polyline clip-path=\"url(#clip350)\" style=\"stroke:#000000; stroke-width:4; stroke-opacity:1; fill:none\" points=\"\n",
       "  1069.02,623.18 1069.02,617.909 \n",
       "  \"/>\n",
       "<polyline clip-path=\"url(#clip350)\" style=\"stroke:#000000; stroke-width:4; stroke-opacity:1; fill:none\" points=\"\n",
       "  1478.51,623.18 1478.51,617.909 \n",
       "  \"/>\n",
       "<polyline clip-path=\"url(#clip350)\" style=\"stroke:#000000; stroke-width:4; stroke-opacity:1; fill:none\" points=\"\n",
       "  1887.99,623.18 1887.99,617.909 \n",
       "  \"/>\n",
       "<polyline clip-path=\"url(#clip350)\" style=\"stroke:#000000; stroke-width:4; stroke-opacity:1; fill:none\" points=\"\n",
       "  2297.48,623.18 2297.48,617.909 \n",
       "  \"/>\n",
       "<path clip-path=\"url(#clip350)\" d=\"M 0 0 M608.148 679.917 L624.467 679.917 L624.467 683.852 L602.523 683.852 L602.523 679.917 Q605.185 677.162 609.768 672.532 Q614.375 667.88 615.555 666.537 Q617.801 664.014 618.68 662.278 Q619.583 660.519 619.583 658.829 Q619.583 656.074 617.639 654.338 Q615.717 652.602 612.615 652.602 Q610.416 652.602 607.963 653.366 Q605.532 654.13 602.754 655.681 L602.754 650.959 Q605.579 649.824 608.032 649.246 Q610.486 648.667 612.523 648.667 Q617.893 648.667 621.088 651.352 Q624.282 654.037 624.282 658.528 Q624.282 660.658 623.472 662.579 Q622.685 664.477 620.578 667.07 Q620 667.741 616.898 670.958 Q613.796 674.153 608.148 679.917 Z\" fill=\"#000000\" fill-rule=\"evenodd\" fill-opacity=\"1\" /><path clip-path=\"url(#clip350)\" d=\"M 0 0 M644.282 652.371 Q640.671 652.371 638.842 655.935 Q637.037 659.477 637.037 666.607 Q637.037 673.713 638.842 677.278 Q640.671 680.819 644.282 680.819 Q647.916 680.819 649.722 677.278 Q651.55 673.713 651.55 666.607 Q651.55 659.477 649.722 655.935 Q647.916 652.371 644.282 652.371 M644.282 648.667 Q650.092 648.667 653.148 653.273 Q656.226 657.857 656.226 666.607 Q656.226 675.333 653.148 679.94 Q650.092 684.523 644.282 684.523 Q638.472 684.523 635.393 679.94 Q632.338 675.333 632.338 666.607 Q632.338 657.857 635.393 653.273 Q638.472 648.667 644.282 648.667 Z\" fill=\"#000000\" fill-rule=\"evenodd\" fill-opacity=\"1\" /><path clip-path=\"url(#clip350)\" d=\"M 0 0 M674.444 652.371 Q670.833 652.371 669.004 655.935 Q667.199 659.477 667.199 666.607 Q667.199 673.713 669.004 677.278 Q670.833 680.819 674.444 680.819 Q678.078 680.819 679.884 677.278 Q681.712 673.713 681.712 666.607 Q681.712 659.477 679.884 655.935 Q678.078 652.371 674.444 652.371 M674.444 648.667 Q680.254 648.667 683.31 653.273 Q686.388 657.857 686.388 666.607 Q686.388 675.333 683.31 679.94 Q680.254 684.523 674.444 684.523 Q668.634 684.523 665.555 679.94 Q662.499 675.333 662.499 666.607 Q662.499 657.857 665.555 653.273 Q668.634 648.667 674.444 648.667 Z\" fill=\"#000000\" fill-rule=\"evenodd\" fill-opacity=\"1\" /><path clip-path=\"url(#clip350)\" d=\"M 0 0 M704.606 652.371 Q700.995 652.371 699.166 655.935 Q697.36 659.477 697.36 666.607 Q697.36 673.713 699.166 677.278 Q700.995 680.819 704.606 680.819 Q708.24 680.819 710.046 677.278 Q711.874 673.713 711.874 666.607 Q711.874 659.477 710.046 655.935 Q708.24 652.371 704.606 652.371 M704.606 648.667 Q710.416 648.667 713.471 653.273 Q716.55 657.857 716.55 666.607 Q716.55 675.333 713.471 679.94 Q710.416 684.523 704.606 684.523 Q698.796 684.523 695.717 679.94 Q692.661 675.333 692.661 666.607 Q692.661 657.857 695.717 653.273 Q698.796 648.667 704.606 648.667 Z\" fill=\"#000000\" fill-rule=\"evenodd\" fill-opacity=\"1\" /><path clip-path=\"url(#clip350)\" d=\"M 0 0 M1027.03 653.366 L1015.23 671.815 L1027.03 671.815 L1027.03 653.366 M1025.8 649.292 L1031.68 649.292 L1031.68 671.815 L1036.61 671.815 L1036.61 675.704 L1031.68 675.704 L1031.68 683.852 L1027.03 683.852 L1027.03 675.704 L1011.43 675.704 L1011.43 671.19 L1025.8 649.292 Z\" fill=\"#000000\" fill-rule=\"evenodd\" fill-opacity=\"1\" /><path clip-path=\"url(#clip350)\" d=\"M 0 0 M1054.35 652.371 Q1050.73 652.371 1048.91 655.935 Q1047.1 659.477 1047.1 666.607 Q1047.1 673.713 1048.91 677.278 Q1050.73 680.819 1054.35 680.819 Q1057.98 680.819 1059.79 677.278 Q1061.61 673.713 1061.61 666.607 Q1061.61 659.477 1059.79 655.935 Q1057.98 652.371 1054.35 652.371 M1054.35 648.667 Q1060.16 648.667 1063.21 653.273 Q1066.29 657.857 1066.29 666.607 Q1066.29 675.333 1063.21 679.94 Q1060.16 684.523 1054.35 684.523 Q1048.54 684.523 1045.46 679.94 Q1042.4 675.333 1042.4 666.607 Q1042.4 657.857 1045.46 653.273 Q1048.54 648.667 1054.35 648.667 Z\" fill=\"#000000\" fill-rule=\"evenodd\" fill-opacity=\"1\" /><path clip-path=\"url(#clip350)\" d=\"M 0 0 M1084.51 652.371 Q1080.9 652.371 1079.07 655.935 Q1077.26 659.477 1077.26 666.607 Q1077.26 673.713 1079.07 677.278 Q1080.9 680.819 1084.51 680.819 Q1088.14 680.819 1089.95 677.278 Q1091.78 673.713 1091.78 666.607 Q1091.78 659.477 1089.95 655.935 Q1088.14 652.371 1084.51 652.371 M1084.51 648.667 Q1090.32 648.667 1093.37 653.273 Q1096.45 657.857 1096.45 666.607 Q1096.45 675.333 1093.37 679.94 Q1090.32 684.523 1084.51 684.523 Q1078.7 684.523 1075.62 679.94 Q1072.56 675.333 1072.56 666.607 Q1072.56 657.857 1075.62 653.273 Q1078.7 648.667 1084.51 648.667 Z\" fill=\"#000000\" fill-rule=\"evenodd\" fill-opacity=\"1\" /><path clip-path=\"url(#clip350)\" d=\"M 0 0 M1114.67 652.371 Q1111.06 652.371 1109.23 655.935 Q1107.42 659.477 1107.42 666.607 Q1107.42 673.713 1109.23 677.278 Q1111.06 680.819 1114.67 680.819 Q1118.3 680.819 1120.11 677.278 Q1121.94 673.713 1121.94 666.607 Q1121.94 659.477 1120.11 655.935 Q1118.3 652.371 1114.67 652.371 M1114.67 648.667 Q1120.48 648.667 1123.53 653.273 Q1126.61 657.857 1126.61 666.607 Q1126.61 675.333 1123.53 679.94 Q1120.48 684.523 1114.67 684.523 Q1108.86 684.523 1105.78 679.94 Q1102.72 675.333 1102.72 666.607 Q1102.72 657.857 1105.78 653.273 Q1108.86 648.667 1114.67 648.667 Z\" fill=\"#000000\" fill-rule=\"evenodd\" fill-opacity=\"1\" /><path clip-path=\"url(#clip350)\" d=\"M 0 0 M1433.75 664.708 Q1430.6 664.708 1428.75 666.861 Q1426.92 669.014 1426.92 672.764 Q1426.92 676.491 1428.75 678.667 Q1430.6 680.819 1433.75 680.819 Q1436.9 680.819 1438.73 678.667 Q1440.58 676.491 1440.58 672.764 Q1440.58 669.014 1438.73 666.861 Q1436.9 664.708 1433.75 664.708 M1443.03 650.056 L1443.03 654.315 Q1441.27 653.482 1439.47 653.042 Q1437.68 652.602 1435.93 652.602 Q1431.3 652.602 1428.84 655.727 Q1426.41 658.852 1426.06 665.171 Q1427.43 663.158 1429.49 662.093 Q1431.55 661.005 1434.03 661.005 Q1439.24 661.005 1442.24 664.176 Q1445.28 667.324 1445.28 672.764 Q1445.28 678.088 1442.13 681.306 Q1438.98 684.523 1433.75 684.523 Q1427.75 684.523 1424.58 679.94 Q1421.41 675.333 1421.41 666.607 Q1421.41 658.412 1425.3 653.551 Q1429.19 648.667 1435.74 648.667 Q1437.5 648.667 1439.28 649.014 Q1441.09 649.361 1443.03 650.056 Z\" fill=\"#000000\" fill-rule=\"evenodd\" fill-opacity=\"1\" /><path clip-path=\"url(#clip350)\" d=\"M 0 0 M1463.33 652.371 Q1459.72 652.371 1457.89 655.935 Q1456.09 659.477 1456.09 666.607 Q1456.09 673.713 1457.89 677.278 Q1459.72 680.819 1463.33 680.819 Q1466.97 680.819 1468.77 677.278 Q1470.6 673.713 1470.6 666.607 Q1470.6 659.477 1468.77 655.935 Q1466.97 652.371 1463.33 652.371 M1463.33 648.667 Q1469.14 648.667 1472.2 653.273 Q1475.28 657.857 1475.28 666.607 Q1475.28 675.333 1472.2 679.94 Q1469.14 684.523 1463.33 684.523 Q1457.52 684.523 1454.44 679.94 Q1451.39 675.333 1451.39 666.607 Q1451.39 657.857 1454.44 653.273 Q1457.52 648.667 1463.33 648.667 Z\" fill=\"#000000\" fill-rule=\"evenodd\" fill-opacity=\"1\" /><path clip-path=\"url(#clip350)\" d=\"M 0 0 M1493.49 652.371 Q1489.88 652.371 1488.05 655.935 Q1486.25 659.477 1486.25 666.607 Q1486.25 673.713 1488.05 677.278 Q1489.88 680.819 1493.49 680.819 Q1497.13 680.819 1498.93 677.278 Q1500.76 673.713 1500.76 666.607 Q1500.76 659.477 1498.93 655.935 Q1497.13 652.371 1493.49 652.371 M1493.49 648.667 Q1499.3 648.667 1502.36 653.273 Q1505.44 657.857 1505.44 666.607 Q1505.44 675.333 1502.36 679.94 Q1499.3 684.523 1493.49 684.523 Q1487.68 684.523 1484.61 679.94 Q1481.55 675.333 1481.55 666.607 Q1481.55 657.857 1484.61 653.273 Q1487.68 648.667 1493.49 648.667 Z\" fill=\"#000000\" fill-rule=\"evenodd\" fill-opacity=\"1\" /><path clip-path=\"url(#clip350)\" d=\"M 0 0 M1523.66 652.371 Q1520.05 652.371 1518.22 655.935 Q1516.41 659.477 1516.41 666.607 Q1516.41 673.713 1518.22 677.278 Q1520.05 680.819 1523.66 680.819 Q1527.29 680.819 1529.1 677.278 Q1530.92 673.713 1530.92 666.607 Q1530.92 659.477 1529.1 655.935 Q1527.29 652.371 1523.66 652.371 M1523.66 648.667 Q1529.47 648.667 1532.52 653.273 Q1535.6 657.857 1535.6 666.607 Q1535.6 675.333 1532.52 679.94 Q1529.47 684.523 1523.66 684.523 Q1517.85 684.523 1514.77 679.94 Q1511.71 675.333 1511.71 666.607 Q1511.71 657.857 1514.77 653.273 Q1517.85 648.667 1523.66 648.667 Z\" fill=\"#000000\" fill-rule=\"evenodd\" fill-opacity=\"1\" /><path clip-path=\"url(#clip350)\" d=\"M 0 0 M1842.7 667.44 Q1839.37 667.44 1837.45 669.222 Q1835.55 671.005 1835.55 674.13 Q1835.55 677.255 1837.45 679.037 Q1839.37 680.819 1842.7 680.819 Q1846.03 680.819 1847.96 679.037 Q1849.88 677.232 1849.88 674.13 Q1849.88 671.005 1847.96 669.222 Q1846.06 667.44 1842.7 667.44 M1838.03 665.449 Q1835.02 664.708 1833.33 662.648 Q1831.66 660.588 1831.66 657.625 Q1831.66 653.482 1834.6 651.074 Q1837.56 648.667 1842.7 648.667 Q1847.86 648.667 1850.8 651.074 Q1853.74 653.482 1853.74 657.625 Q1853.74 660.588 1852.05 662.648 Q1850.39 664.708 1847.4 665.449 Q1850.78 666.236 1852.66 668.528 Q1854.55 670.82 1854.55 674.13 Q1854.55 679.153 1851.47 681.838 Q1848.42 684.523 1842.7 684.523 Q1836.98 684.523 1833.91 681.838 Q1830.85 679.153 1830.85 674.13 Q1830.85 670.82 1832.75 668.528 Q1834.65 666.236 1838.03 665.449 M1836.31 658.065 Q1836.31 660.75 1837.98 662.255 Q1839.67 663.759 1842.7 663.759 Q1845.71 663.759 1847.4 662.255 Q1849.11 660.75 1849.11 658.065 Q1849.11 655.38 1847.4 653.875 Q1845.71 652.371 1842.7 652.371 Q1839.67 652.371 1837.98 653.875 Q1836.31 655.38 1836.31 658.065 Z\" fill=\"#000000\" fill-rule=\"evenodd\" fill-opacity=\"1\" /><path clip-path=\"url(#clip350)\" d=\"M 0 0 M1872.86 652.371 Q1869.25 652.371 1867.42 655.935 Q1865.62 659.477 1865.62 666.607 Q1865.62 673.713 1867.42 677.278 Q1869.25 680.819 1872.86 680.819 Q1876.5 680.819 1878.3 677.278 Q1880.13 673.713 1880.13 666.607 Q1880.13 659.477 1878.3 655.935 Q1876.5 652.371 1872.86 652.371 M1872.86 648.667 Q1878.67 648.667 1881.73 653.273 Q1884.81 657.857 1884.81 666.607 Q1884.81 675.333 1881.73 679.94 Q1878.67 684.523 1872.86 684.523 Q1867.05 684.523 1863.97 679.94 Q1860.92 675.333 1860.92 666.607 Q1860.92 657.857 1863.97 653.273 Q1867.05 648.667 1872.86 648.667 Z\" fill=\"#000000\" fill-rule=\"evenodd\" fill-opacity=\"1\" /><path clip-path=\"url(#clip350)\" d=\"M 0 0 M1903.03 652.371 Q1899.41 652.371 1897.59 655.935 Q1895.78 659.477 1895.78 666.607 Q1895.78 673.713 1897.59 677.278 Q1899.41 680.819 1903.03 680.819 Q1906.66 680.819 1908.47 677.278 Q1910.29 673.713 1910.29 666.607 Q1910.29 659.477 1908.47 655.935 Q1906.66 652.371 1903.03 652.371 M1903.03 648.667 Q1908.84 648.667 1911.89 653.273 Q1914.97 657.857 1914.97 666.607 Q1914.97 675.333 1911.89 679.94 Q1908.84 684.523 1903.03 684.523 Q1897.22 684.523 1894.14 679.94 Q1891.08 675.333 1891.08 666.607 Q1891.08 657.857 1894.14 653.273 Q1897.22 648.667 1903.03 648.667 Z\" fill=\"#000000\" fill-rule=\"evenodd\" fill-opacity=\"1\" /><path clip-path=\"url(#clip350)\" d=\"M 0 0 M1933.19 652.371 Q1929.58 652.371 1927.75 655.935 Q1925.94 659.477 1925.94 666.607 Q1925.94 673.713 1927.75 677.278 Q1929.58 680.819 1933.19 680.819 Q1936.82 680.819 1938.63 677.278 Q1940.46 673.713 1940.46 666.607 Q1940.46 659.477 1938.63 655.935 Q1936.82 652.371 1933.19 652.371 M1933.19 648.667 Q1939 648.667 1942.05 653.273 Q1945.13 657.857 1945.13 666.607 Q1945.13 675.333 1942.05 679.94 Q1939 684.523 1933.19 684.523 Q1927.38 684.523 1924.3 679.94 Q1921.24 675.333 1921.24 666.607 Q1921.24 657.857 1924.3 653.273 Q1927.38 648.667 1933.19 648.667 Z\" fill=\"#000000\" fill-rule=\"evenodd\" fill-opacity=\"1\" /><path clip-path=\"url(#clip350)\" d=\"M 0 0 M2226.92 679.917 L2234.56 679.917 L2234.56 653.551 L2226.25 655.218 L2226.25 650.959 L2234.51 649.292 L2239.19 649.292 L2239.19 679.917 L2246.83 679.917 L2246.83 683.852 L2226.92 683.852 L2226.92 679.917 Z\" fill=\"#000000\" fill-rule=\"evenodd\" fill-opacity=\"1\" /><path clip-path=\"url(#clip350)\" d=\"M 0 0 M2266.27 652.371 Q2262.66 652.371 2260.83 655.935 Q2259.03 659.477 2259.03 666.607 Q2259.03 673.713 2260.83 677.278 Q2262.66 680.819 2266.27 680.819 Q2269.91 680.819 2271.71 677.278 Q2273.54 673.713 2273.54 666.607 Q2273.54 659.477 2271.71 655.935 Q2269.91 652.371 2266.27 652.371 M2266.27 648.667 Q2272.08 648.667 2275.14 653.273 Q2278.22 657.857 2278.22 666.607 Q2278.22 675.333 2275.14 679.94 Q2272.08 684.523 2266.27 684.523 Q2260.46 684.523 2257.38 679.94 Q2254.33 675.333 2254.33 666.607 Q2254.33 657.857 2257.38 653.273 Q2260.46 648.667 2266.27 648.667 Z\" fill=\"#000000\" fill-rule=\"evenodd\" fill-opacity=\"1\" /><path clip-path=\"url(#clip350)\" d=\"M 0 0 M2296.43 652.371 Q2292.82 652.371 2290.99 655.935 Q2289.19 659.477 2289.19 666.607 Q2289.19 673.713 2290.99 677.278 Q2292.82 680.819 2296.43 680.819 Q2300.07 680.819 2301.87 677.278 Q2303.7 673.713 2303.7 666.607 Q2303.7 659.477 2301.87 655.935 Q2300.07 652.371 2296.43 652.371 M2296.43 648.667 Q2302.24 648.667 2305.3 653.273 Q2308.38 657.857 2308.38 666.607 Q2308.38 675.333 2305.3 679.94 Q2302.24 684.523 2296.43 684.523 Q2290.62 684.523 2287.54 679.94 Q2284.49 675.333 2284.49 666.607 Q2284.49 657.857 2287.54 653.273 Q2290.62 648.667 2296.43 648.667 Z\" fill=\"#000000\" fill-rule=\"evenodd\" fill-opacity=\"1\" /><path clip-path=\"url(#clip350)\" d=\"M 0 0 M2326.6 652.371 Q2322.98 652.371 2321.16 655.935 Q2319.35 659.477 2319.35 666.607 Q2319.35 673.713 2321.16 677.278 Q2322.98 680.819 2326.6 680.819 Q2330.23 680.819 2332.04 677.278 Q2333.86 673.713 2333.86 666.607 Q2333.86 659.477 2332.04 655.935 Q2330.23 652.371 2326.6 652.371 M2326.6 648.667 Q2332.41 648.667 2335.46 653.273 Q2338.54 657.857 2338.54 666.607 Q2338.54 675.333 2335.46 679.94 Q2332.41 684.523 2326.6 684.523 Q2320.79 684.523 2317.71 679.94 Q2314.65 675.333 2314.65 666.607 Q2314.65 657.857 2317.71 653.273 Q2320.79 648.667 2326.6 648.667 Z\" fill=\"#000000\" fill-rule=\"evenodd\" fill-opacity=\"1\" /><path clip-path=\"url(#clip350)\" d=\"M 0 0 M2356.76 652.371 Q2353.15 652.371 2351.32 655.935 Q2349.51 659.477 2349.51 666.607 Q2349.51 673.713 2351.32 677.278 Q2353.15 680.819 2356.76 680.819 Q2360.39 680.819 2362.2 677.278 Q2364.03 673.713 2364.03 666.607 Q2364.03 659.477 2362.2 655.935 Q2360.39 652.371 2356.76 652.371 M2356.76 648.667 Q2362.57 648.667 2365.62 653.273 Q2368.7 657.857 2368.7 666.607 Q2368.7 675.333 2365.62 679.94 Q2362.57 684.523 2356.76 684.523 Q2350.95 684.523 2347.87 679.94 Q2344.81 675.333 2344.81 666.607 Q2344.81 657.857 2347.87 653.273 Q2350.95 648.667 2356.76 648.667 Z\" fill=\"#000000\" fill-rule=\"evenodd\" fill-opacity=\"1\" /><path clip-path=\"url(#clip350)\" d=\"M 0 0 M1199.58 750.124 Q1192.48 750.124 1189.75 751.748 Q1187.01 753.371 1187.01 757.286 Q1187.01 760.405 1189.05 762.251 Q1191.12 764.065 1194.65 764.065 Q1199.52 764.065 1202.45 760.628 Q1205.41 757.158 1205.41 751.429 L1205.41 750.124 L1199.58 750.124 M1211.26 747.705 L1211.26 768.044 L1205.41 768.044 L1205.41 762.633 Q1203.4 765.88 1200.41 767.439 Q1197.42 768.967 1193.09 768.967 Q1187.61 768.967 1184.37 765.911 Q1181.15 762.824 1181.15 757.668 Q1181.15 751.652 1185.16 748.597 Q1189.21 745.541 1197.19 745.541 L1205.41 745.541 L1205.41 744.968 Q1205.41 740.926 1202.73 738.73 Q1200.09 736.502 1195.29 736.502 Q1192.23 736.502 1189.33 737.234 Q1186.44 737.966 1183.76 739.43 L1183.76 734.019 Q1186.98 732.778 1190 732.173 Q1193.03 731.537 1195.89 731.537 Q1203.62 731.537 1207.44 735.547 Q1211.26 739.557 1211.26 747.705 Z\" fill=\"#000000\" fill-rule=\"evenodd\" fill-opacity=\"1\" /><path clip-path=\"url(#clip350)\" d=\"M 0 0 M1243.98 737.87 Q1243 737.297 1241.82 737.043 Q1240.67 736.756 1239.27 736.756 Q1234.31 736.756 1231.63 740.003 Q1228.99 743.218 1228.99 749.265 L1228.99 768.044 L1223.1 768.044 L1223.1 732.396 L1228.99 732.396 L1228.99 737.934 Q1230.84 734.688 1233.8 733.128 Q1236.76 731.537 1240.99 731.537 Q1241.6 731.537 1242.33 731.632 Q1243.06 731.696 1243.95 731.855 L1243.98 737.87 Z\" fill=\"#000000\" fill-rule=\"evenodd\" fill-opacity=\"1\" /><path clip-path=\"url(#clip350)\" d=\"M 0 0 M1269.64 737.87 Q1268.65 737.297 1267.47 737.043 Q1266.33 736.756 1264.93 736.756 Q1259.96 736.756 1257.29 740.003 Q1254.65 743.218 1254.65 749.265 L1254.65 768.044 L1248.76 768.044 L1248.76 732.396 L1254.65 732.396 L1254.65 737.934 Q1256.49 734.688 1259.45 733.128 Q1262.41 731.537 1266.64 731.537 Q1267.25 731.537 1267.98 731.632 Q1268.71 731.696 1269.6 731.855 L1269.64 737.87 Z\" fill=\"#000000\" fill-rule=\"evenodd\" fill-opacity=\"1\" /><path clip-path=\"url(#clip350)\" d=\"M 0 0 M1291.98 750.124 Q1284.88 750.124 1282.15 751.748 Q1279.41 753.371 1279.41 757.286 Q1279.41 760.405 1281.44 762.251 Q1283.51 764.065 1287.05 764.065 Q1291.92 764.065 1294.84 760.628 Q1297.8 757.158 1297.8 751.429 L1297.8 750.124 L1291.98 750.124 M1303.66 747.705 L1303.66 768.044 L1297.8 768.044 L1297.8 762.633 Q1295.8 765.88 1292.81 767.439 Q1289.82 768.967 1285.49 768.967 Q1280.01 768.967 1276.77 765.911 Q1273.55 762.824 1273.55 757.668 Q1273.55 751.652 1277.56 748.597 Q1281.6 745.541 1289.59 745.541 L1297.8 745.541 L1297.8 744.968 Q1297.8 740.926 1295.13 738.73 Q1292.49 736.502 1287.68 736.502 Q1284.63 736.502 1281.73 737.234 Q1278.83 737.966 1276.16 739.43 L1276.16 734.019 Q1279.38 732.778 1282.4 732.173 Q1285.42 731.537 1288.29 731.537 Q1296.02 731.537 1299.84 735.547 Q1303.66 739.557 1303.66 747.705 Z\" fill=\"#000000\" fill-rule=\"evenodd\" fill-opacity=\"1\" /><path clip-path=\"url(#clip350)\" d=\"M 0 0 M1330.56 771.354 Q1328.07 777.72 1325.72 779.661 Q1323.36 781.603 1319.42 781.603 L1314.74 781.603 L1314.74 776.701 L1318.18 776.701 Q1320.59 776.701 1321.93 775.555 Q1323.27 774.41 1324.89 770.145 L1325.94 767.471 L1311.52 732.396 L1317.73 732.396 L1328.87 760.278 L1340.01 732.396 L1346.22 732.396 L1330.56 771.354 Z\" fill=\"#000000\" fill-rule=\"evenodd\" fill-opacity=\"1\" /><path clip-path=\"url(#clip350)\" d=\"M 0 0 M1375.02 718.519 L1380.88 718.519 L1380.88 768.044 L1375.02 768.044 L1375.02 718.519 Z\" fill=\"#000000\" fill-rule=\"evenodd\" fill-opacity=\"1\" /><path clip-path=\"url(#clip350)\" d=\"M 0 0 M1423.62 748.756 L1423.62 751.62 L1396.7 751.62 Q1397.08 757.668 1400.32 760.851 Q1403.6 764.002 1409.43 764.002 Q1412.8 764.002 1415.95 763.174 Q1419.14 762.347 1422.25 760.691 L1422.25 766.23 Q1419.1 767.566 1415.79 768.267 Q1412.48 768.967 1409.08 768.967 Q1400.55 768.967 1395.55 764.002 Q1390.58 759.036 1390.58 750.57 Q1390.58 741.817 1395.3 736.693 Q1400.04 731.537 1408.06 731.537 Q1415.25 731.537 1419.42 736.183 Q1423.62 740.799 1423.62 748.756 M1417.77 747.037 Q1417.7 742.231 1415.06 739.366 Q1412.45 736.502 1408.12 736.502 Q1403.22 736.502 1400.26 739.271 Q1397.33 742.04 1396.89 747.069 L1417.77 747.037 Z\" fill=\"#000000\" fill-rule=\"evenodd\" fill-opacity=\"1\" /><path clip-path=\"url(#clip350)\" d=\"M 0 0 M1462.87 746.528 L1462.87 768.044 L1457.01 768.044 L1457.01 746.719 Q1457.01 741.658 1455.04 739.144 Q1453.06 736.629 1449.12 736.629 Q1444.38 736.629 1441.64 739.653 Q1438.9 742.677 1438.9 747.896 L1438.9 768.044 L1433.01 768.044 L1433.01 732.396 L1438.9 732.396 L1438.9 737.934 Q1441 734.719 1443.83 733.128 Q1446.7 731.537 1450.42 731.537 Q1456.57 731.537 1459.72 735.356 Q1462.87 739.144 1462.87 746.528 Z\" fill=\"#000000\" fill-rule=\"evenodd\" fill-opacity=\"1\" /><path clip-path=\"url(#clip350)\" d=\"M 0 0 M1498.01 749.806 Q1498.01 743.44 1495.36 739.939 Q1492.75 736.438 1488.01 736.438 Q1483.3 736.438 1480.66 739.939 Q1478.05 743.44 1478.05 749.806 Q1478.05 756.14 1480.66 759.641 Q1483.3 763.142 1488.01 763.142 Q1492.75 763.142 1495.36 759.641 Q1498.01 756.14 1498.01 749.806 M1503.86 763.62 Q1503.86 772.723 1499.82 777.147 Q1495.78 781.603 1487.44 781.603 Q1484.35 781.603 1481.61 781.125 Q1478.88 780.68 1476.3 779.725 L1476.3 774.028 Q1478.88 775.428 1481.39 776.096 Q1483.91 776.765 1486.52 776.765 Q1492.28 776.765 1495.14 773.741 Q1498.01 770.749 1498.01 764.67 L1498.01 761.774 Q1496.19 764.925 1493.36 766.484 Q1490.53 768.044 1486.58 768.044 Q1480.02 768.044 1476.01 763.047 Q1472 758.05 1472 749.806 Q1472 741.531 1476.01 736.534 Q1480.02 731.537 1486.58 731.537 Q1490.53 731.537 1493.36 733.096 Q1496.19 734.656 1498.01 737.807 L1498.01 732.396 L1503.86 732.396 L1503.86 763.62 Z\" fill=\"#000000\" fill-rule=\"evenodd\" fill-opacity=\"1\" /><path clip-path=\"url(#clip350)\" d=\"M 0 0 M1521.72 722.274 L1521.72 732.396 L1533.78 732.396 L1533.78 736.947 L1521.72 736.947 L1521.72 756.299 Q1521.72 760.66 1522.9 761.901 Q1524.11 763.142 1527.77 763.142 L1533.78 763.142 L1533.78 768.044 L1527.77 768.044 Q1520.99 768.044 1518.41 765.529 Q1515.83 762.983 1515.83 756.299 L1515.83 736.947 L1511.53 736.947 L1511.53 732.396 L1515.83 732.396 L1515.83 722.274 L1521.72 722.274 Z\" fill=\"#000000\" fill-rule=\"evenodd\" fill-opacity=\"1\" /><path clip-path=\"url(#clip350)\" d=\"M 0 0 M1571.12 746.528 L1571.12 768.044 L1565.26 768.044 L1565.26 746.719 Q1565.26 741.658 1563.29 739.144 Q1561.31 736.629 1557.37 736.629 Q1552.62 736.629 1549.89 739.653 Q1547.15 742.677 1547.15 747.896 L1547.15 768.044 L1541.26 768.044 L1541.26 718.519 L1547.15 718.519 L1547.15 737.934 Q1549.25 734.719 1552.08 733.128 Q1554.95 731.537 1558.67 731.537 Q1564.81 731.537 1567.97 735.356 Q1571.12 739.144 1571.12 746.528 Z\" fill=\"#000000\" fill-rule=\"evenodd\" fill-opacity=\"1\" /><polyline clip-path=\"url(#clip352)\" style=\"stroke:#000000; stroke-width:2; stroke-opacity:0.1; fill:none\" points=\"\n",
       "  399.514,571.207 2352.76,571.207 \n",
       "  \"/>\n",
       "<polyline clip-path=\"url(#clip352)\" style=\"stroke:#000000; stroke-width:2; stroke-opacity:0.1; fill:none\" points=\"\n",
       "  399.514,460.698 2352.76,460.698 \n",
       "  \"/>\n",
       "<polyline clip-path=\"url(#clip352)\" style=\"stroke:#000000; stroke-width:2; stroke-opacity:0.1; fill:none\" points=\"\n",
       "  399.514,350.189 2352.76,350.189 \n",
       "  \"/>\n",
       "<polyline clip-path=\"url(#clip352)\" style=\"stroke:#000000; stroke-width:2; stroke-opacity:0.1; fill:none\" points=\"\n",
       "  399.514,239.68 2352.76,239.68 \n",
       "  \"/>\n",
       "<polyline clip-path=\"url(#clip350)\" style=\"stroke:#000000; stroke-width:4; stroke-opacity:1; fill:none\" points=\"\n",
       "  399.514,623.18 399.514,183.952 \n",
       "  \"/>\n",
       "<polyline clip-path=\"url(#clip350)\" style=\"stroke:#000000; stroke-width:4; stroke-opacity:1; fill:none\" points=\"\n",
       "  399.514,571.207 422.953,571.207 \n",
       "  \"/>\n",
       "<polyline clip-path=\"url(#clip350)\" style=\"stroke:#000000; stroke-width:4; stroke-opacity:1; fill:none\" points=\"\n",
       "  399.514,460.698 422.953,460.698 \n",
       "  \"/>\n",
       "<polyline clip-path=\"url(#clip350)\" style=\"stroke:#000000; stroke-width:4; stroke-opacity:1; fill:none\" points=\"\n",
       "  399.514,350.189 422.953,350.189 \n",
       "  \"/>\n",
       "<polyline clip-path=\"url(#clip350)\" style=\"stroke:#000000; stroke-width:4; stroke-opacity:1; fill:none\" points=\"\n",
       "  399.514,239.68 422.953,239.68 \n",
       "  \"/>\n",
       "<path clip-path=\"url(#clip350)\" d=\"M 0 0 M116.769 560.374 L135.125 560.374 L135.125 564.309 L121.051 564.309 L121.051 572.782 Q122.07 572.434 123.088 572.272 Q124.107 572.087 125.125 572.087 Q130.912 572.087 134.292 575.258 Q137.671 578.43 137.671 583.846 Q137.671 589.425 134.199 592.527 Q130.727 595.606 124.408 595.606 Q122.232 595.606 119.963 595.235 Q117.718 594.865 115.31 594.124 L115.31 589.425 Q117.394 590.559 119.616 591.115 Q121.838 591.67 124.315 591.67 Q128.32 591.67 130.658 589.564 Q132.996 587.457 132.996 583.846 Q132.996 580.235 130.658 578.129 Q128.32 576.022 124.315 576.022 Q122.44 576.022 120.565 576.439 Q118.713 576.856 116.769 577.735 L116.769 560.374 Z\" fill=\"#000000\" fill-rule=\"evenodd\" fill-opacity=\"1\" /><path clip-path=\"url(#clip350)\" d=\"M 0 0 M146.884 589.055 L151.769 589.055 L151.769 594.934 L146.884 594.934 L146.884 589.055 Z\" fill=\"#000000\" fill-rule=\"evenodd\" fill-opacity=\"1\" /><path clip-path=\"url(#clip350)\" d=\"M 0 0 M171.954 563.453 Q168.343 563.453 166.514 567.018 Q164.708 570.559 164.708 577.689 Q164.708 584.795 166.514 588.36 Q168.343 591.902 171.954 591.902 Q175.588 591.902 177.393 588.36 Q179.222 584.795 179.222 577.689 Q179.222 570.559 177.393 567.018 Q175.588 563.453 171.954 563.453 M171.954 559.749 Q177.764 559.749 180.819 564.356 Q183.898 568.939 183.898 577.689 Q183.898 586.416 180.819 591.022 Q177.764 595.606 171.954 595.606 Q166.144 595.606 163.065 591.022 Q160.009 586.416 160.009 577.689 Q160.009 568.939 163.065 564.356 Q166.144 559.749 171.954 559.749 Z\" fill=\"#000000\" fill-rule=\"evenodd\" fill-opacity=\"1\" /><path clip-path=\"url(#clip350)\" d=\"M 0 0 M202.116 563.453 Q198.504 563.453 196.676 567.018 Q194.87 570.559 194.87 577.689 Q194.87 584.795 196.676 588.36 Q198.504 591.902 202.116 591.902 Q205.75 591.902 207.555 588.36 Q209.384 584.795 209.384 577.689 Q209.384 570.559 207.555 567.018 Q205.75 563.453 202.116 563.453 M202.116 559.749 Q207.926 559.749 210.981 564.356 Q214.06 568.939 214.06 577.689 Q214.06 586.416 210.981 591.022 Q207.926 595.606 202.116 595.606 Q196.305 595.606 193.227 591.022 Q190.171 586.416 190.171 577.689 Q190.171 568.939 193.227 564.356 Q196.305 559.749 202.116 559.749 Z\" fill=\"#000000\" fill-rule=\"evenodd\" fill-opacity=\"1\" /><path clip-path=\"url(#clip350)\" d=\"M 0 0 M250.449 569.471 L239.87 580.096 L250.449 590.675 L247.694 593.476 L237.069 582.851 L226.444 593.476 L223.713 590.675 L234.268 580.096 L223.713 569.471 L226.444 566.671 L237.069 577.295 L247.694 566.671 L250.449 569.471 Z\" fill=\"#000000\" fill-rule=\"evenodd\" fill-opacity=\"1\" /><path clip-path=\"url(#clip350)\" d=\"M 0 0 M262.81 590.999 L270.449 590.999 L270.449 564.634 L262.138 566.3 L262.138 562.041 L270.402 560.374 L275.078 560.374 L275.078 590.999 L282.717 590.999 L282.717 594.934 L262.81 594.934 L262.81 590.999 Z\" fill=\"#000000\" fill-rule=\"evenodd\" fill-opacity=\"1\" /><path clip-path=\"url(#clip350)\" d=\"M 0 0 M302.161 563.453 Q298.55 563.453 296.722 567.018 Q294.916 570.559 294.916 577.689 Q294.916 584.795 296.722 588.36 Q298.55 591.902 302.161 591.902 Q305.796 591.902 307.601 588.36 Q309.43 584.795 309.43 577.689 Q309.43 570.559 307.601 567.018 Q305.796 563.453 302.161 563.453 M302.161 559.749 Q307.972 559.749 311.027 564.356 Q314.106 568.939 314.106 577.689 Q314.106 586.416 311.027 591.022 Q307.972 595.606 302.161 595.606 Q296.351 595.606 293.273 591.022 Q290.217 586.416 290.217 577.689 Q290.217 568.939 293.273 564.356 Q296.351 559.749 302.161 559.749 Z\" fill=\"#000000\" fill-rule=\"evenodd\" fill-opacity=\"1\" /><path clip-path=\"url(#clip350)\" d=\"M 0 0 M314.106 553.851 L338.217 553.851 L338.217 557.048 L314.106 557.048 L314.106 553.851 Z\" fill=\"#000000\" fill-rule=\"evenodd\" fill-opacity=\"1\" /><path clip-path=\"url(#clip350)\" d=\"M 0 0 M345.458 539.444 L363.514 539.444 L363.514 541.061 L353.32 567.524 L349.351 567.524 L358.943 542.641 L345.458 542.641 L345.458 539.444 Z\" fill=\"#000000\" fill-rule=\"evenodd\" fill-opacity=\"1\" /><path clip-path=\"url(#clip350)\" d=\"M 0 0 M116.668 480.49 L124.306 480.49 L124.306 454.125 L115.996 455.791 L115.996 451.532 L124.26 449.865 L128.936 449.865 L128.936 480.49 L136.575 480.49 L136.575 484.425 L116.668 484.425 L116.668 480.49 Z\" fill=\"#000000\" fill-rule=\"evenodd\" fill-opacity=\"1\" /><path clip-path=\"url(#clip350)\" d=\"M 0 0 M146.019 478.546 L150.903 478.546 L150.903 484.425 L146.019 484.425 L146.019 478.546 Z\" fill=\"#000000\" fill-rule=\"evenodd\" fill-opacity=\"1\" /><path clip-path=\"url(#clip350)\" d=\"M 0 0 M171.089 452.944 Q167.477 452.944 165.649 456.509 Q163.843 460.05 163.843 467.18 Q163.843 474.286 165.649 477.851 Q167.477 481.393 171.089 481.393 Q174.723 481.393 176.528 477.851 Q178.357 474.286 178.357 467.18 Q178.357 460.05 176.528 456.509 Q174.723 452.944 171.089 452.944 M171.089 449.24 Q176.899 449.24 179.954 453.847 Q183.033 458.43 183.033 467.18 Q183.033 475.907 179.954 480.513 Q176.899 485.097 171.089 485.097 Q165.278 485.097 162.2 480.513 Q159.144 475.907 159.144 467.18 Q159.144 458.43 162.2 453.847 Q165.278 449.24 171.089 449.24 Z\" fill=\"#000000\" fill-rule=\"evenodd\" fill-opacity=\"1\" /><path clip-path=\"url(#clip350)\" d=\"M 0 0 M201.25 452.944 Q197.639 452.944 195.811 456.509 Q194.005 460.05 194.005 467.18 Q194.005 474.286 195.811 477.851 Q197.639 481.393 201.25 481.393 Q204.885 481.393 206.69 477.851 Q208.519 474.286 208.519 467.18 Q208.519 460.05 206.69 456.509 Q204.885 452.944 201.25 452.944 M201.25 449.24 Q207.061 449.24 210.116 453.847 Q213.195 458.43 213.195 467.18 Q213.195 475.907 210.116 480.513 Q207.061 485.097 201.25 485.097 Q195.44 485.097 192.362 480.513 Q189.306 475.907 189.306 467.18 Q189.306 458.43 192.362 453.847 Q195.44 449.24 201.25 449.24 Z\" fill=\"#000000\" fill-rule=\"evenodd\" fill-opacity=\"1\" /><path clip-path=\"url(#clip350)\" d=\"M 0 0 M249.584 458.962 L239.005 469.587 L249.584 480.166 L246.829 482.967 L236.204 472.342 L225.579 482.967 L222.848 480.166 L233.403 469.587 L222.848 458.962 L225.579 456.162 L236.204 466.787 L246.829 456.162 L249.584 458.962 Z\" fill=\"#000000\" fill-rule=\"evenodd\" fill-opacity=\"1\" /><path clip-path=\"url(#clip350)\" d=\"M 0 0 M261.945 480.49 L269.583 480.49 L269.583 454.125 L261.273 455.791 L261.273 451.532 L269.537 449.865 L274.213 449.865 L274.213 480.49 L281.852 480.49 L281.852 484.425 L261.945 484.425 L261.945 480.49 Z\" fill=\"#000000\" fill-rule=\"evenodd\" fill-opacity=\"1\" /><path clip-path=\"url(#clip350)\" d=\"M 0 0 M301.296 452.944 Q297.685 452.944 295.856 456.509 Q294.051 460.05 294.051 467.18 Q294.051 474.286 295.856 477.851 Q297.685 481.393 301.296 481.393 Q304.93 481.393 306.736 477.851 Q308.565 474.286 308.565 467.18 Q308.565 460.05 306.736 456.509 Q304.93 452.944 301.296 452.944 M301.296 449.24 Q307.106 449.24 310.162 453.847 Q313.241 458.43 313.241 467.18 Q313.241 475.907 310.162 480.513 Q307.106 485.097 301.296 485.097 Q295.486 485.097 292.407 480.513 Q289.352 475.907 289.352 467.18 Q289.352 458.43 292.407 453.847 Q295.486 449.24 301.296 449.24 Z\" fill=\"#000000\" fill-rule=\"evenodd\" fill-opacity=\"1\" /><path clip-path=\"url(#clip350)\" d=\"M 0 0 M313.241 443.342 L337.352 443.342 L337.352 446.539 L313.241 446.539 L313.241 443.342 Z\" fill=\"#000000\" fill-rule=\"evenodd\" fill-opacity=\"1\" /><path clip-path=\"url(#clip350)\" d=\"M 0 0 M354.147 441.461 Q351.59 441.461 350.085 443.21 Q348.599 444.959 348.599 448.006 Q348.599 451.034 350.085 452.802 Q351.59 454.551 354.147 454.551 Q356.705 454.551 358.191 452.802 Q359.696 451.034 359.696 448.006 Q359.696 444.959 358.191 443.21 Q356.705 441.461 354.147 441.461 M361.689 429.556 L361.689 433.016 Q360.26 432.339 358.793 431.982 Q357.345 431.624 355.915 431.624 Q352.154 431.624 350.16 434.163 Q348.185 436.703 347.903 441.837 Q349.013 440.201 350.687 439.336 Q352.361 438.452 354.373 438.452 Q358.605 438.452 361.05 441.028 Q363.514 443.586 363.514 448.006 Q363.514 452.332 360.956 454.946 Q358.398 457.56 354.147 457.56 Q349.276 457.56 346.7 453.836 Q344.123 450.094 344.123 443.003 Q344.123 436.345 347.283 432.396 Q350.442 428.427 355.765 428.427 Q357.194 428.427 358.643 428.709 Q360.11 428.991 361.689 429.556 Z\" fill=\"#000000\" fill-rule=\"evenodd\" fill-opacity=\"1\" /><path clip-path=\"url(#clip350)\" d=\"M 0 0 M116.668 369.981 L124.306 369.981 L124.306 343.616 L115.996 345.282 L115.996 341.023 L124.26 339.356 L128.936 339.356 L128.936 369.981 L136.575 369.981 L136.575 373.916 L116.668 373.916 L116.668 369.981 Z\" fill=\"#000000\" fill-rule=\"evenodd\" fill-opacity=\"1\" /><path clip-path=\"url(#clip350)\" d=\"M 0 0 M146.019 368.037 L150.903 368.037 L150.903 373.916 L146.019 373.916 L146.019 368.037 Z\" fill=\"#000000\" fill-rule=\"evenodd\" fill-opacity=\"1\" /><path clip-path=\"url(#clip350)\" d=\"M 0 0 M161.135 339.356 L179.491 339.356 L179.491 343.291 L165.417 343.291 L165.417 351.764 Q166.436 351.416 167.454 351.254 Q168.473 351.069 169.491 351.069 Q175.278 351.069 178.658 354.241 Q182.038 357.412 182.038 362.828 Q182.038 368.407 178.565 371.509 Q175.093 374.588 168.774 374.588 Q166.598 374.588 164.329 374.217 Q162.084 373.847 159.677 373.106 L159.677 368.407 Q161.76 369.541 163.982 370.097 Q166.204 370.652 168.681 370.652 Q172.686 370.652 175.024 368.546 Q177.362 366.44 177.362 362.828 Q177.362 359.217 175.024 357.111 Q172.686 355.004 168.681 355.004 Q166.806 355.004 164.931 355.421 Q163.079 355.838 161.135 356.717 L161.135 339.356 Z\" fill=\"#000000\" fill-rule=\"evenodd\" fill-opacity=\"1\" /><path clip-path=\"url(#clip350)\" d=\"M 0 0 M201.25 342.435 Q197.639 342.435 195.811 346 Q194.005 349.541 194.005 356.671 Q194.005 363.777 195.811 367.342 Q197.639 370.884 201.25 370.884 Q204.885 370.884 206.69 367.342 Q208.519 363.777 208.519 356.671 Q208.519 349.541 206.69 346 Q204.885 342.435 201.25 342.435 M201.25 338.731 Q207.061 338.731 210.116 343.338 Q213.195 347.921 213.195 356.671 Q213.195 365.398 210.116 370.004 Q207.061 374.588 201.25 374.588 Q195.44 374.588 192.362 370.004 Q189.306 365.398 189.306 356.671 Q189.306 347.921 192.362 343.338 Q195.44 338.731 201.25 338.731 Z\" fill=\"#000000\" fill-rule=\"evenodd\" fill-opacity=\"1\" /><path clip-path=\"url(#clip350)\" d=\"M 0 0 M249.584 348.454 L239.005 359.078 L249.584 369.657 L246.829 372.458 L236.204 361.833 L225.579 372.458 L222.848 369.657 L233.403 359.078 L222.848 348.454 L225.579 345.653 L236.204 356.278 L246.829 345.653 L249.584 348.454 Z\" fill=\"#000000\" fill-rule=\"evenodd\" fill-opacity=\"1\" /><path clip-path=\"url(#clip350)\" d=\"M 0 0 M261.945 369.981 L269.583 369.981 L269.583 343.616 L261.273 345.282 L261.273 341.023 L269.537 339.356 L274.213 339.356 L274.213 369.981 L281.852 369.981 L281.852 373.916 L261.945 373.916 L261.945 369.981 Z\" fill=\"#000000\" fill-rule=\"evenodd\" fill-opacity=\"1\" /><path clip-path=\"url(#clip350)\" d=\"M 0 0 M301.296 342.435 Q297.685 342.435 295.856 346 Q294.051 349.541 294.051 356.671 Q294.051 363.777 295.856 367.342 Q297.685 370.884 301.296 370.884 Q304.93 370.884 306.736 367.342 Q308.565 363.777 308.565 356.671 Q308.565 349.541 306.736 346 Q304.93 342.435 301.296 342.435 M301.296 338.731 Q307.106 338.731 310.162 343.338 Q313.241 347.921 313.241 356.671 Q313.241 365.398 310.162 370.004 Q307.106 374.588 301.296 374.588 Q295.486 374.588 292.407 370.004 Q289.352 365.398 289.352 356.671 Q289.352 347.921 292.407 343.338 Q295.486 338.731 301.296 338.731 Z\" fill=\"#000000\" fill-rule=\"evenodd\" fill-opacity=\"1\" /><path clip-path=\"url(#clip350)\" d=\"M 0 0 M313.241 332.833 L337.352 332.833 L337.352 336.03 L313.241 336.03 L313.241 332.833 Z\" fill=\"#000000\" fill-rule=\"evenodd\" fill-opacity=\"1\" /><path clip-path=\"url(#clip350)\" d=\"M 0 0 M354.147 330.952 Q351.59 330.952 350.085 332.701 Q348.599 334.45 348.599 337.497 Q348.599 340.525 350.085 342.293 Q351.59 344.042 354.147 344.042 Q356.705 344.042 358.191 342.293 Q359.696 340.525 359.696 337.497 Q359.696 334.45 358.191 332.701 Q356.705 330.952 354.147 330.952 M361.689 319.047 L361.689 322.507 Q360.26 321.83 358.793 321.473 Q357.345 321.115 355.915 321.115 Q352.154 321.115 350.16 323.654 Q348.185 326.194 347.903 331.328 Q349.013 329.692 350.687 328.827 Q352.361 327.943 354.373 327.943 Q358.605 327.943 361.05 330.519 Q363.514 333.077 363.514 337.497 Q363.514 341.823 360.956 344.437 Q358.398 347.051 354.147 347.051 Q349.276 347.051 346.7 343.327 Q344.123 339.585 344.123 332.494 Q344.123 325.836 347.283 321.887 Q350.442 317.918 355.765 317.918 Q357.194 317.918 358.643 318.2 Q360.11 318.482 361.689 319.047 Z\" fill=\"#000000\" fill-rule=\"evenodd\" fill-opacity=\"1\" /><path clip-path=\"url(#clip350)\" d=\"M 0 0 M119.885 259.472 L136.204 259.472 L136.204 263.407 L114.26 263.407 L114.26 259.472 Q116.922 256.718 121.505 252.088 Q126.112 247.435 127.292 246.093 Q129.538 243.569 130.417 241.833 Q131.32 240.074 131.32 238.384 Q131.32 235.63 129.376 233.894 Q127.455 232.158 124.353 232.158 Q122.154 232.158 119.7 232.921 Q117.269 233.685 114.492 235.236 L114.492 230.514 Q117.316 229.38 119.769 228.801 Q122.223 228.222 124.26 228.222 Q129.63 228.222 132.825 230.908 Q136.019 233.593 136.019 238.083 Q136.019 240.213 135.209 242.134 Q134.422 244.032 132.316 246.625 Q131.737 247.296 128.635 250.514 Q125.533 253.708 119.885 259.472 Z\" fill=\"#000000\" fill-rule=\"evenodd\" fill-opacity=\"1\" /><path clip-path=\"url(#clip350)\" d=\"M 0 0 M146.019 257.528 L150.903 257.528 L150.903 263.407 L146.019 263.407 L146.019 257.528 Z\" fill=\"#000000\" fill-rule=\"evenodd\" fill-opacity=\"1\" /><path clip-path=\"url(#clip350)\" d=\"M 0 0 M171.089 231.926 Q167.477 231.926 165.649 235.491 Q163.843 239.032 163.843 246.162 Q163.843 253.269 165.649 256.833 Q167.477 260.375 171.089 260.375 Q174.723 260.375 176.528 256.833 Q178.357 253.269 178.357 246.162 Q178.357 239.032 176.528 235.491 Q174.723 231.926 171.089 231.926 M171.089 228.222 Q176.899 228.222 179.954 232.829 Q183.033 237.412 183.033 246.162 Q183.033 254.889 179.954 259.495 Q176.899 264.079 171.089 264.079 Q165.278 264.079 162.2 259.495 Q159.144 254.889 159.144 246.162 Q159.144 237.412 162.2 232.829 Q165.278 228.222 171.089 228.222 Z\" fill=\"#000000\" fill-rule=\"evenodd\" fill-opacity=\"1\" /><path clip-path=\"url(#clip350)\" d=\"M 0 0 M201.25 231.926 Q197.639 231.926 195.811 235.491 Q194.005 239.032 194.005 246.162 Q194.005 253.269 195.811 256.833 Q197.639 260.375 201.25 260.375 Q204.885 260.375 206.69 256.833 Q208.519 253.269 208.519 246.162 Q208.519 239.032 206.69 235.491 Q204.885 231.926 201.25 231.926 M201.25 228.222 Q207.061 228.222 210.116 232.829 Q213.195 237.412 213.195 246.162 Q213.195 254.889 210.116 259.495 Q207.061 264.079 201.25 264.079 Q195.44 264.079 192.362 259.495 Q189.306 254.889 189.306 246.162 Q189.306 237.412 192.362 232.829 Q195.44 228.222 201.25 228.222 Z\" fill=\"#000000\" fill-rule=\"evenodd\" fill-opacity=\"1\" /><path clip-path=\"url(#clip350)\" d=\"M 0 0 M249.584 237.945 L239.005 248.569 L249.584 259.148 L246.829 261.949 L236.204 251.324 L225.579 261.949 L222.848 259.148 L233.403 248.569 L222.848 237.945 L225.579 235.144 L236.204 245.769 L246.829 235.144 L249.584 237.945 Z\" fill=\"#000000\" fill-rule=\"evenodd\" fill-opacity=\"1\" /><path clip-path=\"url(#clip350)\" d=\"M 0 0 M261.945 259.472 L269.583 259.472 L269.583 233.107 L261.273 234.773 L261.273 230.514 L269.537 228.847 L274.213 228.847 L274.213 259.472 L281.852 259.472 L281.852 263.407 L261.945 263.407 L261.945 259.472 Z\" fill=\"#000000\" fill-rule=\"evenodd\" fill-opacity=\"1\" /><path clip-path=\"url(#clip350)\" d=\"M 0 0 M301.296 231.926 Q297.685 231.926 295.856 235.491 Q294.051 239.032 294.051 246.162 Q294.051 253.269 295.856 256.833 Q297.685 260.375 301.296 260.375 Q304.93 260.375 306.736 256.833 Q308.565 253.269 308.565 246.162 Q308.565 239.032 306.736 235.491 Q304.93 231.926 301.296 231.926 M301.296 228.222 Q307.106 228.222 310.162 232.829 Q313.241 237.412 313.241 246.162 Q313.241 254.889 310.162 259.495 Q307.106 264.079 301.296 264.079 Q295.486 264.079 292.407 259.495 Q289.352 254.889 289.352 246.162 Q289.352 237.412 292.407 232.829 Q295.486 228.222 301.296 228.222 Z\" fill=\"#000000\" fill-rule=\"evenodd\" fill-opacity=\"1\" /><path clip-path=\"url(#clip350)\" d=\"M 0 0 M313.241 222.324 L337.352 222.324 L337.352 225.521 L313.241 225.521 L313.241 222.324 Z\" fill=\"#000000\" fill-rule=\"evenodd\" fill-opacity=\"1\" /><path clip-path=\"url(#clip350)\" d=\"M 0 0 M354.147 220.443 Q351.59 220.443 350.085 222.192 Q348.599 223.941 348.599 226.988 Q348.599 230.016 350.085 231.784 Q351.59 233.533 354.147 233.533 Q356.705 233.533 358.191 231.784 Q359.696 230.016 359.696 226.988 Q359.696 223.941 358.191 222.192 Q356.705 220.443 354.147 220.443 M361.689 208.538 L361.689 211.998 Q360.26 211.321 358.793 210.964 Q357.345 210.606 355.915 210.606 Q352.154 210.606 350.16 213.146 Q348.185 215.685 347.903 220.819 Q349.013 219.183 350.687 218.318 Q352.361 217.434 354.373 217.434 Q358.605 217.434 361.05 220.01 Q363.514 222.568 363.514 226.988 Q363.514 231.314 360.956 233.928 Q358.398 236.542 354.147 236.542 Q349.276 236.542 346.7 232.818 Q344.123 229.076 344.123 221.985 Q344.123 215.327 347.283 211.378 Q350.442 207.409 355.765 207.409 Q357.194 207.409 358.643 207.691 Q360.11 207.973 361.689 208.538 Z\" fill=\"#000000\" fill-rule=\"evenodd\" fill-opacity=\"1\" /><path clip-path=\"url(#clip350)\" d=\"M 0 0 M18.2347 464.406 L28.3562 464.406 L28.3562 452.343 L32.9077 452.343 L32.9077 464.406 L52.2594 464.406 Q56.6199 464.406 57.8613 463.229 Q59.1026 462.019 59.1026 458.359 L59.1026 452.343 L64.0042 452.343 L64.0042 458.359 Q64.0042 465.138 61.4897 467.716 Q58.9434 470.295 52.2594 470.295 L32.9077 470.295 L32.9077 474.591 L28.3562 474.591 L28.3562 470.295 L18.2347 470.295 L18.2347 464.406 Z\" fill=\"#000000\" fill-rule=\"evenodd\" fill-opacity=\"1\" /><path clip-path=\"url(#clip350)\" d=\"M 0 0 M28.3562 444.641 L28.3562 438.784 L64.0042 438.784 L64.0042 444.641 L28.3562 444.641 M14.479 444.641 L14.479 438.784 L21.895 438.784 L21.895 444.641 L14.479 444.641 Z\" fill=\"#000000\" fill-rule=\"evenodd\" fill-opacity=\"1\" /><path clip-path=\"url(#clip350)\" d=\"M 0 0 M35.1993 398.776 Q31.2526 396.58 29.3747 393.524 Q27.4968 390.469 27.4968 386.331 Q27.4968 380.761 31.4117 377.737 Q35.2948 374.713 42.4881 374.713 L64.0042 374.713 L64.0042 380.602 L42.679 380.602 Q37.5546 380.602 35.072 382.416 Q32.5894 384.23 32.5894 387.954 Q32.5894 392.506 35.6131 395.147 Q38.6368 397.789 43.8567 397.789 L64.0042 397.789 L64.0042 403.677 L42.679 403.677 Q37.5228 403.677 35.072 405.492 Q32.5894 407.306 32.5894 411.093 Q32.5894 415.581 35.6449 418.223 Q38.6686 420.865 43.8567 420.865 L64.0042 420.865 L64.0042 426.753 L28.3562 426.753 L28.3562 420.865 L33.8944 420.865 Q30.616 418.86 29.0564 416.059 Q27.4968 413.258 27.4968 409.407 Q27.4968 405.523 29.4702 402.818 Q31.4436 400.081 35.1993 398.776 Z\" fill=\"#000000\" fill-rule=\"evenodd\" fill-opacity=\"1\" /><path clip-path=\"url(#clip350)\" d=\"M 0 0 M44.7161 332.541 L47.5806 332.541 L47.5806 359.468 Q53.6281 359.086 56.8109 355.839 Q59.9619 352.561 59.9619 346.736 Q59.9619 343.362 59.1344 340.211 Q58.3069 337.028 56.6518 333.909 L62.1899 333.909 Q63.5267 337.06 64.227 340.37 Q64.9272 343.681 64.9272 347.086 Q64.9272 355.616 59.9619 360.613 Q54.9967 365.579 46.5303 365.579 Q37.7774 365.579 32.6531 360.868 Q27.4968 356.126 27.4968 348.105 Q27.4968 340.912 32.1438 336.742 Q36.7589 332.541 44.7161 332.541 M42.9973 338.397 Q38.1912 338.461 35.3266 341.102 Q32.4621 343.712 32.4621 348.041 Q32.4621 352.943 35.2312 355.903 Q38.0002 358.831 43.0292 359.277 L42.9973 338.397 Z\" fill=\"#000000\" fill-rule=\"evenodd\" fill-opacity=\"1\" /><path clip-path=\"url(#clip350)\" d=\"M 0 0 M608.529 12.096 L620.722 12.096 L636.156 53.2532 L651.671 12.096 L663.864 12.096 L663.864 72.576 L655.884 72.576 L655.884 19.4686 L640.288 60.9499 L632.065 60.9499 L616.469 19.4686 L616.469 72.576 L608.529 72.576 L608.529 12.096 Z\" fill=\"#000000\" fill-rule=\"evenodd\" fill-opacity=\"1\" /><path clip-path=\"url(#clip350)\" d=\"M 0 0 M718.592 48.0275 L718.592 51.6733 L684.321 51.6733 Q684.808 59.3701 688.939 63.421 Q693.112 67.4314 700.525 67.4314 Q704.819 67.4314 708.829 66.3781 Q712.88 65.3249 716.85 63.2184 L716.85 70.267 Q712.84 71.9684 708.627 72.8596 Q704.414 73.7508 700.079 73.7508 Q689.223 73.7508 682.863 67.4314 Q676.544 61.1119 676.544 50.3365 Q676.544 39.1965 682.539 32.6746 Q688.575 26.1121 698.783 26.1121 Q707.938 26.1121 713.245 32.0264 Q718.592 37.9003 718.592 48.0275 M711.138 45.84 Q711.057 39.7232 707.695 36.0774 Q704.373 32.4315 698.864 32.4315 Q692.626 32.4315 688.858 35.9558 Q685.132 39.4801 684.564 45.8805 L711.138 45.84 Z\" fill=\"#000000\" fill-rule=\"evenodd\" fill-opacity=\"1\" /><path clip-path=\"url(#clip350)\" d=\"M 0 0 M751.445 49.7694 Q742.411 49.7694 738.928 51.8354 Q735.444 53.9013 735.444 58.8839 Q735.444 62.8538 738.036 65.2034 Q740.669 67.5124 745.166 67.5124 Q751.364 67.5124 755.091 63.1374 Q758.858 58.7219 758.858 51.4303 L758.858 49.7694 L751.445 49.7694 M766.312 46.6907 L766.312 72.576 L758.858 72.576 L758.858 65.6895 Q756.306 69.8214 752.498 71.8063 Q748.69 73.7508 743.181 73.7508 Q736.213 73.7508 732.082 69.8619 Q727.99 65.9325 727.99 59.3701 Q727.99 51.7138 733.094 47.825 Q738.239 43.9361 748.407 43.9361 L758.858 43.9361 L758.858 43.2069 Q758.858 38.0623 755.455 35.2672 Q752.093 32.4315 745.976 32.4315 Q742.087 32.4315 738.401 33.3632 Q734.715 34.295 731.312 36.1584 L731.312 29.2718 Q735.403 27.692 739.252 26.9223 Q743.1 26.1121 746.746 26.1121 Q756.59 26.1121 761.451 31.2163 Q766.312 36.3204 766.312 46.6907 Z\" fill=\"#000000\" fill-rule=\"evenodd\" fill-opacity=\"1\" /><path clip-path=\"url(#clip350)\" d=\"M 0 0 M819.379 45.1919 L819.379 72.576 L811.925 72.576 L811.925 45.4349 Q811.925 38.994 809.413 35.7938 Q806.902 32.5936 801.879 32.5936 Q795.843 32.5936 792.359 36.4419 Q788.875 40.2903 788.875 46.9338 L788.875 72.576 L781.381 72.576 L781.381 27.2059 L788.875 27.2059 L788.875 34.2544 Q791.549 30.163 795.154 28.1376 Q798.8 26.1121 803.54 26.1121 Q811.358 26.1121 815.368 30.9732 Q819.379 35.7938 819.379 45.1919 Z\" fill=\"#000000\" fill-rule=\"evenodd\" fill-opacity=\"1\" /><path clip-path=\"url(#clip350)\" d=\"M 0 0 M863.169 28.5427 L863.169 35.5912 Q860.009 33.9709 856.606 33.1607 Q853.204 32.3505 849.558 32.3505 Q844.008 32.3505 841.213 34.0519 Q838.458 35.7533 838.458 39.156 Q838.458 41.7486 840.443 43.2475 Q842.428 44.7058 848.424 46.0426 L850.976 46.6097 Q858.915 48.3111 862.237 51.4303 Q865.599 54.509 865.599 60.0587 Q865.599 66.3781 860.576 70.0644 Q855.594 73.7508 846.844 73.7508 Q843.198 73.7508 839.228 73.0216 Q835.299 72.3329 830.924 70.9151 L830.924 63.2184 Q835.056 65.3654 839.066 66.4591 Q843.076 67.5124 847.006 67.5124 Q852.272 67.5124 855.108 65.73 Q857.943 63.9071 857.943 60.6258 Q857.943 57.5877 855.877 55.9673 Q853.852 54.3469 846.925 52.8481 L844.332 52.2405 Q837.405 50.7821 834.326 47.7845 Q831.248 44.7463 831.248 39.4801 Q831.248 33.0797 835.785 29.5959 Q840.322 26.1121 848.667 26.1121 Q852.799 26.1121 856.444 26.7198 Q860.09 27.3274 863.169 28.5427 Z\" fill=\"#000000\" fill-rule=\"evenodd\" fill-opacity=\"1\" /><path clip-path=\"url(#clip350)\" d=\"M 0 0 M921.421 32.4315 Q915.425 32.4315 911.942 37.1306 Q908.458 41.7891 908.458 49.9314 Q908.458 58.0738 911.901 62.7728 Q915.385 67.4314 921.421 67.4314 Q927.376 67.4314 930.859 62.7323 Q934.343 58.0333 934.343 49.9314 Q934.343 41.8701 930.859 37.1711 Q927.376 32.4315 921.421 32.4315 M921.421 26.1121 Q931.143 26.1121 936.693 32.4315 Q942.242 38.7509 942.242 49.9314 Q942.242 61.0714 936.693 67.4314 Q931.143 73.7508 921.421 73.7508 Q911.658 73.7508 906.108 67.4314 Q900.599 61.0714 900.599 49.9314 Q900.599 38.7509 906.108 32.4315 Q911.658 26.1121 921.421 26.1121 Z\" fill=\"#000000\" fill-rule=\"evenodd\" fill-opacity=\"1\" /><path clip-path=\"url(#clip350)\" d=\"M 0 0 M977.566 9.54393 L977.566 15.7418 L970.437 15.7418 Q966.426 15.7418 964.847 17.3622 Q963.307 18.9825 963.307 23.1955 L963.307 27.2059 L975.581 27.2059 L975.581 32.9987 L963.307 32.9987 L963.307 72.576 L955.813 72.576 L955.813 32.9987 L948.683 32.9987 L948.683 27.2059 L955.813 27.2059 L955.813 24.0462 Q955.813 16.471 959.337 13.0277 Q962.862 9.54393 970.518 9.54393 L977.566 9.54393 Z\" fill=\"#000000\" fill-rule=\"evenodd\" fill-opacity=\"1\" /><path clip-path=\"url(#clip350)\" d=\"M 0 0 M1017.55 14.324 L1017.55 27.2059 L1032.9 27.2059 L1032.9 32.9987 L1017.55 32.9987 L1017.55 57.6282 Q1017.55 63.1779 1019.05 64.7578 Q1020.59 66.3376 1025.25 66.3376 L1032.9 66.3376 L1032.9 72.576 L1025.25 72.576 Q1016.62 72.576 1013.34 69.3758 Q1010.05 66.1351 1010.05 57.6282 L1010.05 32.9987 L1004.59 32.9987 L1004.59 27.2059 L1010.05 27.2059 L1010.05 14.324 L1017.55 14.324 Z\" fill=\"#000000\" fill-rule=\"evenodd\" fill-opacity=\"1\" /><path clip-path=\"url(#clip350)\" d=\"M 0 0 M1042.7 27.2059 L1050.16 27.2059 L1050.16 72.576 L1042.7 72.576 L1042.7 27.2059 M1042.7 9.54393 L1050.16 9.54393 L1050.16 18.9825 L1042.7 18.9825 L1042.7 9.54393 Z\" fill=\"#000000\" fill-rule=\"evenodd\" fill-opacity=\"1\" /><path clip-path=\"url(#clip350)\" d=\"M 0 0 M1101.08 35.9153 Q1103.87 30.8922 1107.76 28.5022 Q1111.65 26.1121 1116.92 26.1121 Q1124.01 26.1121 1127.85 31.0947 Q1131.7 36.0368 1131.7 45.1919 L1131.7 72.576 L1124.21 72.576 L1124.21 45.4349 Q1124.21 38.913 1121.9 35.7533 Q1119.59 32.5936 1114.85 32.5936 Q1109.06 32.5936 1105.7 36.4419 Q1102.33 40.2903 1102.33 46.9338 L1102.33 72.576 L1094.84 72.576 L1094.84 45.4349 Q1094.84 38.8725 1092.53 35.7533 Q1090.22 32.5936 1085.4 32.5936 Q1079.69 32.5936 1076.33 36.4824 Q1072.97 40.3308 1072.97 46.9338 L1072.97 72.576 L1065.47 72.576 L1065.47 27.2059 L1072.97 27.2059 L1072.97 34.2544 Q1075.52 30.082 1079.08 28.0971 Q1082.65 26.1121 1087.55 26.1121 Q1092.49 26.1121 1095.93 28.6237 Q1099.42 31.1352 1101.08 35.9153 Z\" fill=\"#000000\" fill-rule=\"evenodd\" fill-opacity=\"1\" /><path clip-path=\"url(#clip350)\" d=\"M 0 0 M1185.38 48.0275 L1185.38 51.6733 L1151.11 51.6733 Q1151.59 59.3701 1155.73 63.421 Q1159.9 67.4314 1167.31 67.4314 Q1171.6 67.4314 1175.62 66.3781 Q1179.67 65.3249 1183.64 63.2184 L1183.64 70.267 Q1179.63 71.9684 1175.41 72.8596 Q1171.2 73.7508 1166.87 73.7508 Q1156.01 73.7508 1149.65 67.4314 Q1143.33 61.1119 1143.33 50.3365 Q1143.33 39.1965 1149.32 32.6746 Q1155.36 26.1121 1165.57 26.1121 Q1174.72 26.1121 1180.03 32.0264 Q1185.38 37.9003 1185.38 48.0275 M1177.92 45.84 Q1177.84 39.7232 1174.48 36.0774 Q1171.16 32.4315 1165.65 32.4315 Q1159.41 32.4315 1155.64 35.9558 Q1151.92 39.4801 1151.35 45.8805 L1177.92 45.84 Z\" fill=\"#000000\" fill-rule=\"evenodd\" fill-opacity=\"1\" /><path clip-path=\"url(#clip350)\" d=\"M 0 0 M1241.56 32.4315 Q1235.57 32.4315 1232.08 37.1306 Q1228.6 41.7891 1228.6 49.9314 Q1228.6 58.0738 1232.04 62.7728 Q1235.53 67.4314 1241.56 67.4314 Q1247.52 67.4314 1251 62.7323 Q1254.49 58.0333 1254.49 49.9314 Q1254.49 41.8701 1251 37.1711 Q1247.52 32.4315 1241.56 32.4315 M1241.56 26.1121 Q1251.29 26.1121 1256.84 32.4315 Q1262.39 38.7509 1262.39 49.9314 Q1262.39 61.0714 1256.84 67.4314 Q1251.29 73.7508 1241.56 73.7508 Q1231.8 73.7508 1226.25 67.4314 Q1220.74 61.0714 1220.74 49.9314 Q1220.74 38.7509 1226.25 32.4315 Q1231.8 26.1121 1241.56 26.1121 Z\" fill=\"#000000\" fill-rule=\"evenodd\" fill-opacity=\"1\" /><path clip-path=\"url(#clip350)\" d=\"M 0 0 M1297.71 9.54393 L1297.71 15.7418 L1290.58 15.7418 Q1286.57 15.7418 1284.99 17.3622 Q1283.45 18.9825 1283.45 23.1955 L1283.45 27.2059 L1295.72 27.2059 L1295.72 32.9987 L1283.45 32.9987 L1283.45 72.576 L1275.96 72.576 L1275.96 32.9987 L1268.83 32.9987 L1268.83 27.2059 L1275.96 27.2059 L1275.96 24.0462 Q1275.96 16.471 1279.48 13.0277 Q1283 9.54393 1290.66 9.54393 L1297.71 9.54393 Z\" fill=\"#000000\" fill-rule=\"evenodd\" fill-opacity=\"1\" /><path clip-path=\"url(#clip350)\" d=\"M 0 0 M1362.97 28.9478 L1362.97 35.9153 Q1359.81 34.1734 1356.61 33.3227 Q1353.45 32.4315 1350.21 32.4315 Q1342.96 32.4315 1338.95 37.0496 Q1334.94 41.6271 1334.94 49.9314 Q1334.94 58.2358 1338.95 62.8538 Q1342.96 67.4314 1350.21 67.4314 Q1353.45 67.4314 1356.61 66.5807 Q1359.81 65.6895 1362.97 63.9476 L1362.97 70.8341 Q1359.85 72.2924 1356.49 73.0216 Q1353.17 73.7508 1349.4 73.7508 Q1339.15 73.7508 1333.11 67.3098 Q1327.08 60.8689 1327.08 49.9314 Q1327.08 38.832 1333.15 32.472 Q1339.27 26.1121 1349.88 26.1121 Q1353.33 26.1121 1356.61 26.8413 Q1359.89 27.5299 1362.97 28.9478 Z\" fill=\"#000000\" fill-rule=\"evenodd\" fill-opacity=\"1\" /><path clip-path=\"url(#clip350)\" d=\"M 0 0 M1393.51 32.4315 Q1387.52 32.4315 1384.03 37.1306 Q1380.55 41.7891 1380.55 49.9314 Q1380.55 58.0738 1383.99 62.7728 Q1387.48 67.4314 1393.51 67.4314 Q1399.47 67.4314 1402.95 62.7323 Q1406.44 58.0333 1406.44 49.9314 Q1406.44 41.8701 1402.95 37.1711 Q1399.47 32.4315 1393.51 32.4315 M1393.51 26.1121 Q1403.24 26.1121 1408.79 32.4315 Q1414.33 38.7509 1414.33 49.9314 Q1414.33 61.0714 1408.79 67.4314 Q1403.24 73.7508 1393.51 73.7508 Q1383.75 73.7508 1378.2 67.4314 Q1372.69 61.0714 1372.69 49.9314 Q1372.69 38.7509 1378.2 32.4315 Q1383.75 26.1121 1393.51 26.1121 Z\" fill=\"#000000\" fill-rule=\"evenodd\" fill-opacity=\"1\" /><path clip-path=\"url(#clip350)\" d=\"M 0 0 M1462.01 35.9153 Q1464.81 30.8922 1468.7 28.5022 Q1472.59 26.1121 1477.85 26.1121 Q1484.94 26.1121 1488.79 31.0947 Q1492.64 36.0368 1492.64 45.1919 L1492.64 72.576 L1485.14 72.576 L1485.14 45.4349 Q1485.14 38.913 1482.84 35.7533 Q1480.53 32.5936 1475.79 32.5936 Q1469.99 32.5936 1466.63 36.4419 Q1463.27 40.2903 1463.27 46.9338 L1463.27 72.576 L1455.78 72.576 L1455.78 45.4349 Q1455.78 38.8725 1453.47 35.7533 Q1451.16 32.5936 1446.34 32.5936 Q1440.63 32.5936 1437.26 36.4824 Q1433.9 40.3308 1433.9 46.9338 L1433.9 72.576 L1426.41 72.576 L1426.41 27.2059 L1433.9 27.2059 L1433.9 34.2544 Q1436.45 30.082 1440.02 28.0971 Q1443.58 26.1121 1448.48 26.1121 Q1453.43 26.1121 1456.87 28.6237 Q1460.35 31.1352 1462.01 35.9153 Z\" fill=\"#000000\" fill-rule=\"evenodd\" fill-opacity=\"1\" /><path clip-path=\"url(#clip350)\" d=\"M 0 0 M1514.72 65.7705 L1514.72 89.8329 L1507.22 89.8329 L1507.22 27.2059 L1514.72 27.2059 L1514.72 34.0924 Q1517.07 30.0415 1520.63 28.0971 Q1524.24 26.1121 1529.22 26.1121 Q1537.48 26.1121 1542.63 32.6746 Q1547.81 39.2371 1547.81 49.9314 Q1547.81 60.6258 1542.63 67.1883 Q1537.48 73.7508 1529.22 73.7508 Q1524.24 73.7508 1520.63 71.8063 Q1517.07 69.8214 1514.72 65.7705 M1540.07 49.9314 Q1540.07 41.7081 1536.67 37.0496 Q1533.31 32.3505 1527.4 32.3505 Q1521.48 32.3505 1518.08 37.0496 Q1514.72 41.7081 1514.72 49.9314 Q1514.72 58.1548 1518.08 62.8538 Q1521.48 67.5124 1527.4 67.5124 Q1533.31 67.5124 1536.67 62.8538 Q1540.07 58.1548 1540.07 49.9314 Z\" fill=\"#000000\" fill-rule=\"evenodd\" fill-opacity=\"1\" /><path clip-path=\"url(#clip350)\" d=\"M 0 0 M1559.4 54.671 L1559.4 27.2059 L1566.85 27.2059 L1566.85 54.3874 Q1566.85 60.8284 1569.36 64.0691 Q1571.87 67.2693 1576.9 67.2693 Q1582.93 67.2693 1586.42 63.421 Q1589.94 59.5726 1589.94 52.9291 L1589.94 27.2059 L1597.4 27.2059 L1597.4 72.576 L1589.94 72.576 L1589.94 65.6084 Q1587.23 69.7404 1583.62 71.7658 Q1580.06 73.7508 1575.32 73.7508 Q1567.5 73.7508 1563.45 68.8897 Q1559.4 64.0286 1559.4 54.671 M1578.15 26.1121 L1578.15 26.1121 Z\" fill=\"#000000\" fill-rule=\"evenodd\" fill-opacity=\"1\" /><path clip-path=\"url(#clip350)\" d=\"M 0 0 M1620.12 14.324 L1620.12 27.2059 L1635.47 27.2059 L1635.47 32.9987 L1620.12 32.9987 L1620.12 57.6282 Q1620.12 63.1779 1621.62 64.7578 Q1623.16 66.3376 1627.82 66.3376 L1635.47 66.3376 L1635.47 72.576 L1627.82 72.576 Q1619.19 72.576 1615.91 69.3758 Q1612.63 66.1351 1612.63 57.6282 L1612.63 32.9987 L1607.16 32.9987 L1607.16 27.2059 L1612.63 27.2059 L1612.63 14.324 L1620.12 14.324 Z\" fill=\"#000000\" fill-rule=\"evenodd\" fill-opacity=\"1\" /><path clip-path=\"url(#clip350)\" d=\"M 0 0 M1645.28 27.2059 L1652.73 27.2059 L1652.73 72.576 L1645.28 72.576 L1645.28 27.2059 M1645.28 9.54393 L1652.73 9.54393 L1652.73 18.9825 L1645.28 18.9825 L1645.28 9.54393 Z\" fill=\"#000000\" fill-rule=\"evenodd\" fill-opacity=\"1\" /><path clip-path=\"url(#clip350)\" d=\"M 0 0 M1706.04 45.1919 L1706.04 72.576 L1698.59 72.576 L1698.59 45.4349 Q1698.59 38.994 1696.08 35.7938 Q1693.56 32.5936 1688.54 32.5936 Q1682.5 32.5936 1679.02 36.4419 Q1675.54 40.2903 1675.54 46.9338 L1675.54 72.576 L1668.04 72.576 L1668.04 27.2059 L1675.54 27.2059 L1675.54 34.2544 Q1678.21 30.163 1681.82 28.1376 Q1685.46 26.1121 1690.2 26.1121 Q1698.02 26.1121 1702.03 30.9732 Q1706.04 35.7938 1706.04 45.1919 Z\" fill=\"#000000\" fill-rule=\"evenodd\" fill-opacity=\"1\" /><path clip-path=\"url(#clip350)\" d=\"M 0 0 M1750.76 49.3643 Q1750.76 41.2625 1747.4 36.8065 Q1744.08 32.3505 1738.04 32.3505 Q1732.05 32.3505 1728.69 36.8065 Q1725.36 41.2625 1725.36 49.3643 Q1725.36 57.4256 1728.69 61.8816 Q1732.05 66.3376 1738.04 66.3376 Q1744.08 66.3376 1747.4 61.8816 Q1750.76 57.4256 1750.76 49.3643 M1758.22 66.9452 Q1758.22 78.5308 1753.07 84.1616 Q1747.93 89.8329 1737.31 89.8329 Q1733.38 89.8329 1729.9 89.2252 Q1726.42 88.6581 1723.14 87.4428 L1723.14 80.1917 Q1726.42 81.9741 1729.62 82.8248 Q1732.82 83.6755 1736.14 83.6755 Q1743.47 83.6755 1747.12 79.8271 Q1750.76 76.0193 1750.76 68.282 L1750.76 64.5957 Q1748.45 68.6061 1744.85 70.5911 Q1741.24 72.576 1736.22 72.576 Q1727.87 72.576 1722.77 66.2161 Q1717.67 59.8562 1717.67 49.3643 Q1717.67 38.832 1722.77 32.472 Q1727.87 26.1121 1736.22 26.1121 Q1741.24 26.1121 1744.85 28.0971 Q1748.45 30.082 1750.76 34.0924 L1750.76 27.2059 L1758.22 27.2059 L1758.22 66.9452 Z\" fill=\"#000000\" fill-rule=\"evenodd\" fill-opacity=\"1\" /><path clip-path=\"url(#clip350)\" d=\"M 0 0 M1829.8 34.0924 L1829.8 9.54393 L1837.25 9.54393 L1837.25 72.576 L1829.8 72.576 L1829.8 65.7705 Q1827.45 69.8214 1823.84 71.8063 Q1820.28 73.7508 1815.25 73.7508 Q1807.03 73.7508 1801.84 67.1883 Q1796.7 60.6258 1796.7 49.9314 Q1796.7 39.2371 1801.84 32.6746 Q1807.03 26.1121 1815.25 26.1121 Q1820.28 26.1121 1823.84 28.0971 Q1827.45 30.0415 1829.8 34.0924 M1804.4 49.9314 Q1804.4 58.1548 1807.76 62.8538 Q1811.16 67.5124 1817.08 67.5124 Q1822.99 67.5124 1826.39 62.8538 Q1829.8 58.1548 1829.8 49.9314 Q1829.8 41.7081 1826.39 37.0496 Q1822.99 32.3505 1817.08 32.3505 Q1811.16 32.3505 1807.76 37.0496 Q1804.4 41.7081 1804.4 49.9314 Z\" fill=\"#000000\" fill-rule=\"evenodd\" fill-opacity=\"1\" /><path clip-path=\"url(#clip350)\" d=\"M 0 0 M1852.6 27.2059 L1860.06 27.2059 L1860.06 72.576 L1852.6 72.576 L1852.6 27.2059 M1852.6 9.54393 L1860.06 9.54393 L1860.06 18.9825 L1852.6 18.9825 L1852.6 9.54393 Z\" fill=\"#000000\" fill-rule=\"evenodd\" fill-opacity=\"1\" /><path clip-path=\"url(#clip350)\" d=\"M 0 0 M1898.62 9.54393 L1898.62 15.7418 L1891.49 15.7418 Q1887.48 15.7418 1885.9 17.3622 Q1884.36 18.9825 1884.36 23.1955 L1884.36 27.2059 L1896.64 27.2059 L1896.64 32.9987 L1884.36 32.9987 L1884.36 72.576 L1876.87 72.576 L1876.87 32.9987 L1869.74 32.9987 L1869.74 27.2059 L1876.87 27.2059 L1876.87 24.0462 Q1876.87 16.471 1880.39 13.0277 Q1883.92 9.54393 1891.57 9.54393 L1898.62 9.54393 Z\" fill=\"#000000\" fill-rule=\"evenodd\" fill-opacity=\"1\" /><path clip-path=\"url(#clip350)\" d=\"M 0 0 M1927.83 9.54393 L1927.83 15.7418 L1920.7 15.7418 Q1916.69 15.7418 1915.11 17.3622 Q1913.57 18.9825 1913.57 23.1955 L1913.57 27.2059 L1925.84 27.2059 L1925.84 32.9987 L1913.57 32.9987 L1913.57 72.576 L1906.07 72.576 L1906.07 32.9987 L1898.94 32.9987 L1898.94 27.2059 L1906.07 27.2059 L1906.07 24.0462 Q1906.07 16.471 1909.6 13.0277 Q1913.12 9.54393 1920.78 9.54393 L1927.83 9.54393 Z\" fill=\"#000000\" fill-rule=\"evenodd\" fill-opacity=\"1\" /><path clip-path=\"url(#clip350)\" d=\"M 0 0 M1972.87 48.0275 L1972.87 51.6733 L1938.6 51.6733 Q1939.09 59.3701 1943.22 63.421 Q1947.39 67.4314 1954.81 67.4314 Q1959.1 67.4314 1963.11 66.3781 Q1967.16 65.3249 1971.13 63.2184 L1971.13 70.267 Q1967.12 71.9684 1962.91 72.8596 Q1958.7 73.7508 1954.36 73.7508 Q1943.5 73.7508 1937.14 67.4314 Q1930.83 61.1119 1930.83 50.3365 Q1930.83 39.1965 1936.82 32.6746 Q1942.86 26.1121 1953.06 26.1121 Q1962.22 26.1121 1967.53 32.0264 Q1972.87 37.9003 1972.87 48.0275 M1965.42 45.84 Q1965.34 39.7232 1961.98 36.0774 Q1958.65 32.4315 1953.15 32.4315 Q1946.91 32.4315 1943.14 35.9558 Q1939.41 39.4801 1938.85 45.8805 L1965.42 45.84 Z\" fill=\"#000000\" fill-rule=\"evenodd\" fill-opacity=\"1\" /><path clip-path=\"url(#clip350)\" d=\"M 0 0 M2011.4 34.1734 Q2010.14 33.4443 2008.64 33.1202 Q2007.18 32.7556 2005.4 32.7556 Q1999.08 32.7556 1995.68 36.8875 Q1992.32 40.9789 1992.32 48.6757 L1992.32 72.576 L1984.82 72.576 L1984.82 27.2059 L1992.32 27.2059 L1992.32 34.2544 Q1994.67 30.1225 1998.43 28.1376 Q2002.2 26.1121 2007.59 26.1121 Q2008.36 26.1121 2009.29 26.2337 Q2010.22 26.3147 2011.36 26.5172 L2011.4 34.1734 Z\" fill=\"#000000\" fill-rule=\"evenodd\" fill-opacity=\"1\" /><path clip-path=\"url(#clip350)\" d=\"M 0 0 M2056.2 48.0275 L2056.2 51.6733 L2021.93 51.6733 Q2022.42 59.3701 2026.55 63.421 Q2030.72 67.4314 2038.13 67.4314 Q2042.43 67.4314 2046.44 66.3781 Q2050.49 65.3249 2054.46 63.2184 L2054.46 70.267 Q2050.45 71.9684 2046.24 72.8596 Q2042.02 73.7508 2037.69 73.7508 Q2026.83 73.7508 2020.47 67.4314 Q2014.15 61.1119 2014.15 50.3365 Q2014.15 39.1965 2020.15 32.6746 Q2026.18 26.1121 2036.39 26.1121 Q2045.55 26.1121 2050.85 32.0264 Q2056.2 37.9003 2056.2 48.0275 M2048.75 45.84 Q2048.67 39.7232 2045.3 36.0774 Q2041.98 32.4315 2036.47 32.4315 Q2030.23 32.4315 2026.47 35.9558 Q2022.74 39.4801 2022.17 45.8805 L2048.75 45.84 Z\" fill=\"#000000\" fill-rule=\"evenodd\" fill-opacity=\"1\" /><path clip-path=\"url(#clip350)\" d=\"M 0 0 M2106.15 45.1919 L2106.15 72.576 L2098.69 72.576 L2098.69 45.4349 Q2098.69 38.994 2096.18 35.7938 Q2093.67 32.5936 2088.65 32.5936 Q2082.61 32.5936 2079.13 36.4419 Q2075.64 40.2903 2075.64 46.9338 L2075.64 72.576 L2068.15 72.576 L2068.15 27.2059 L2075.64 27.2059 L2075.64 34.2544 Q2078.32 30.163 2081.92 28.1376 Q2085.57 26.1121 2090.31 26.1121 Q2098.13 26.1121 2102.14 30.9732 Q2106.15 35.7938 2106.15 45.1919 Z\" fill=\"#000000\" fill-rule=\"evenodd\" fill-opacity=\"1\" /><path clip-path=\"url(#clip350)\" d=\"M 0 0 M2128.39 14.324 L2128.39 27.2059 L2143.74 27.2059 L2143.74 32.9987 L2128.39 32.9987 L2128.39 57.6282 Q2128.39 63.1779 2129.89 64.7578 Q2131.43 66.3376 2136.08 66.3376 L2143.74 66.3376 L2143.74 72.576 L2136.08 72.576 Q2127.46 72.576 2124.17 69.3758 Q2120.89 66.1351 2120.89 57.6282 L2120.89 32.9987 L2115.42 32.9987 L2115.42 27.2059 L2120.89 27.2059 L2120.89 14.324 L2128.39 14.324 Z\" fill=\"#000000\" fill-rule=\"evenodd\" fill-opacity=\"1\" /><path clip-path=\"url(#clip350)\" d=\"M 0 0 M683.106 123.152 Q677.111 123.152 673.627 127.851 Q670.143 132.509 670.143 140.651 Q670.143 148.794 673.587 153.493 Q677.07 158.151 683.106 158.151 Q689.061 158.151 692.545 153.452 Q696.029 148.753 696.029 140.651 Q696.029 132.59 692.545 127.891 Q689.061 123.152 683.106 123.152 M683.106 116.832 Q692.828 116.832 698.378 123.152 Q703.928 129.471 703.928 140.651 Q703.928 151.791 698.378 158.151 Q692.828 164.471 683.106 164.471 Q673.343 164.471 667.794 158.151 Q662.284 151.791 662.284 140.651 Q662.284 129.471 667.794 123.152 Q673.343 116.832 683.106 116.832 Z\" fill=\"#000000\" fill-rule=\"evenodd\" fill-opacity=\"1\" /><path clip-path=\"url(#clip350)\" d=\"M 0 0 M723.494 156.49 L723.494 180.553 L715.999 180.553 L715.999 117.926 L723.494 117.926 L723.494 124.812 Q725.843 120.762 729.408 118.817 Q733.013 116.832 737.996 116.832 Q746.26 116.832 751.404 123.395 Q756.59 129.957 756.59 140.651 Q756.59 151.346 751.404 157.908 Q746.26 164.471 737.996 164.471 Q733.013 164.471 729.408 162.526 Q725.843 160.541 723.494 156.49 M748.852 140.651 Q748.852 132.428 745.45 127.77 Q742.087 123.071 736.173 123.071 Q730.259 123.071 726.856 127.77 Q723.494 132.428 723.494 140.651 Q723.494 148.875 726.856 153.574 Q730.259 158.232 736.173 158.232 Q742.087 158.232 745.45 153.574 Q748.852 148.875 748.852 140.651 Z\" fill=\"#000000\" fill-rule=\"evenodd\" fill-opacity=\"1\" /><path clip-path=\"url(#clip350)\" d=\"M 0 0 M807.752 138.748 L807.752 142.393 L773.482 142.393 Q773.968 150.09 778.1 154.141 Q782.272 158.151 789.685 158.151 Q793.979 158.151 797.99 157.098 Q802.041 156.045 806.011 153.938 L806.011 160.987 Q802 162.688 797.787 163.58 Q793.574 164.471 789.24 164.471 Q778.383 164.471 772.023 158.151 Q765.704 151.832 765.704 141.057 Q765.704 129.917 771.699 123.395 Q777.735 116.832 787.944 116.832 Q797.099 116.832 802.405 122.746 Q807.752 128.62 807.752 138.748 M800.299 136.56 Q800.218 130.443 796.856 126.797 Q793.534 123.152 788.025 123.152 Q781.786 123.152 778.019 126.676 Q774.292 130.2 773.725 136.601 L800.299 136.56 Z\" fill=\"#000000\" fill-rule=\"evenodd\" fill-opacity=\"1\" /><path clip-path=\"url(#clip350)\" d=\"M 0 0 M846.277 124.893 Q845.021 124.164 843.522 123.84 Q842.064 123.476 840.281 123.476 Q833.962 123.476 830.559 127.608 Q827.197 131.699 827.197 139.396 L827.197 163.296 L819.703 163.296 L819.703 117.926 L827.197 117.926 L827.197 124.974 Q829.546 120.843 833.314 118.858 Q837.081 116.832 842.469 116.832 Q843.238 116.832 844.17 116.954 Q845.102 117.035 846.236 117.237 L846.277 124.893 Z\" fill=\"#000000\" fill-rule=\"evenodd\" fill-opacity=\"1\" /><path clip-path=\"url(#clip350)\" d=\"M 0 0 M874.714 140.489 Q865.68 140.489 862.197 142.555 Q858.713 144.621 858.713 149.604 Q858.713 153.574 861.305 155.923 Q863.938 158.232 868.435 158.232 Q874.633 158.232 878.36 153.857 Q882.127 149.442 882.127 142.15 L882.127 140.489 L874.714 140.489 M889.581 137.411 L889.581 163.296 L882.127 163.296 L882.127 156.409 Q879.575 160.541 875.767 162.526 Q871.959 164.471 866.45 164.471 Q859.482 164.471 855.351 160.582 Q851.259 156.653 851.259 150.09 Q851.259 142.434 856.363 138.545 Q861.508 134.656 871.676 134.656 L882.127 134.656 L882.127 133.927 Q882.127 128.782 878.724 125.987 Q875.362 123.152 869.245 123.152 Q865.356 123.152 861.67 124.083 Q857.984 125.015 854.581 126.878 L854.581 119.992 Q858.672 118.412 862.521 117.642 Q866.369 116.832 870.015 116.832 Q879.859 116.832 884.72 121.936 Q889.581 127.04 889.581 137.411 Z\" fill=\"#000000\" fill-rule=\"evenodd\" fill-opacity=\"1\" /><path clip-path=\"url(#clip350)\" d=\"M 0 0 M912.306 105.044 L912.306 117.926 L927.659 117.926 L927.659 123.719 L912.306 123.719 L912.306 148.348 Q912.306 153.898 913.805 155.478 Q915.344 157.058 920.003 157.058 L927.659 157.058 L927.659 163.296 L920.003 163.296 Q911.375 163.296 908.093 160.096 Q904.812 156.855 904.812 148.348 L904.812 123.719 L899.343 123.719 L899.343 117.926 L904.812 117.926 L904.812 105.044 L912.306 105.044 Z\" fill=\"#000000\" fill-rule=\"evenodd\" fill-opacity=\"1\" /><path clip-path=\"url(#clip350)\" d=\"M 0 0 M937.462 117.926 L944.916 117.926 L944.916 163.296 L937.462 163.296 L937.462 117.926 M937.462 100.264 L944.916 100.264 L944.916 109.703 L937.462 109.703 L937.462 100.264 Z\" fill=\"#000000\" fill-rule=\"evenodd\" fill-opacity=\"1\" /><path clip-path=\"url(#clip350)\" d=\"M 0 0 M978.093 123.152 Q972.098 123.152 968.614 127.851 Q965.13 132.509 965.13 140.651 Q965.13 148.794 968.573 153.493 Q972.057 158.151 978.093 158.151 Q984.048 158.151 987.532 153.452 Q991.015 148.753 991.015 140.651 Q991.015 132.59 987.532 127.891 Q984.048 123.152 978.093 123.152 M978.093 116.832 Q987.815 116.832 993.365 123.152 Q998.915 129.471 998.915 140.651 Q998.915 151.791 993.365 158.151 Q987.815 164.471 978.093 164.471 Q968.33 164.471 962.781 158.151 Q957.271 151.791 957.271 140.651 Q957.271 129.471 962.781 123.152 Q968.33 116.832 978.093 116.832 Z\" fill=\"#000000\" fill-rule=\"evenodd\" fill-opacity=\"1\" /><path clip-path=\"url(#clip350)\" d=\"M 0 0 M1048.98 135.912 L1048.98 163.296 L1041.53 163.296 L1041.53 136.155 Q1041.53 129.714 1039.02 126.514 Q1036.51 123.314 1031.48 123.314 Q1025.45 123.314 1021.96 127.162 Q1018.48 131.01 1018.48 137.654 L1018.48 163.296 L1010.99 163.296 L1010.99 117.926 L1018.48 117.926 L1018.48 124.974 Q1021.15 120.883 1024.76 118.858 Q1028.41 116.832 1033.14 116.832 Q1040.96 116.832 1044.97 121.693 Q1048.98 126.514 1048.98 135.912 Z\" fill=\"#000000\" fill-rule=\"evenodd\" fill-opacity=\"1\" /><path clip-path=\"url(#clip350)\" d=\"M 0 0 M1092.77 119.263 L1092.77 126.311 Q1089.61 124.691 1086.21 123.881 Q1082.81 123.071 1079.16 123.071 Q1073.61 123.071 1070.82 124.772 Q1068.06 126.473 1068.06 129.876 Q1068.06 132.469 1070.05 133.967 Q1072.03 135.426 1078.03 136.763 L1080.58 137.33 Q1088.52 139.031 1091.84 142.15 Q1095.2 145.229 1095.2 150.779 Q1095.2 157.098 1090.18 160.784 Q1085.2 164.471 1076.45 164.471 Q1072.8 164.471 1068.83 163.742 Q1064.9 163.053 1060.53 161.635 L1060.53 153.938 Q1064.66 156.085 1068.67 157.179 Q1072.68 158.232 1076.61 158.232 Q1081.88 158.232 1084.71 156.45 Q1087.55 154.627 1087.55 151.346 Q1087.55 148.308 1085.48 146.687 Q1083.46 145.067 1076.53 143.568 L1073.94 142.96 Q1067.01 141.502 1063.93 138.504 Q1060.85 135.466 1060.85 130.2 Q1060.85 123.8 1065.39 120.316 Q1069.93 116.832 1078.27 116.832 Q1082.4 116.832 1086.05 117.44 Q1089.7 118.047 1092.77 119.263 Z\" fill=\"#000000\" fill-rule=\"evenodd\" fill-opacity=\"1\" /><path clip-path=\"url(#clip350)\" d=\"M 0 0 M1156.41 100.264 L1156.41 106.462 L1149.28 106.462 Q1145.27 106.462 1143.69 108.082 Q1142.15 109.703 1142.15 113.915 L1142.15 117.926 L1154.43 117.926 L1154.43 123.719 L1142.15 123.719 L1142.15 163.296 L1134.66 163.296 L1134.66 123.719 L1127.53 123.719 L1127.53 117.926 L1134.66 117.926 L1134.66 114.766 Q1134.66 107.191 1138.18 103.748 Q1141.71 100.264 1149.37 100.264 L1156.41 100.264 Z\" fill=\"#000000\" fill-rule=\"evenodd\" fill-opacity=\"1\" /><path clip-path=\"url(#clip350)\" d=\"M 0 0 M1180.23 123.152 Q1174.24 123.152 1170.75 127.851 Q1167.27 132.509 1167.27 140.651 Q1167.27 148.794 1170.71 153.493 Q1174.2 158.151 1180.23 158.151 Q1186.19 158.151 1189.67 153.452 Q1193.16 148.753 1193.16 140.651 Q1193.16 132.59 1189.67 127.891 Q1186.19 123.152 1180.23 123.152 M1180.23 116.832 Q1189.96 116.832 1195.51 123.152 Q1201.05 129.471 1201.05 140.651 Q1201.05 151.791 1195.51 158.151 Q1189.96 164.471 1180.23 164.471 Q1170.47 164.471 1164.92 158.151 Q1159.41 151.791 1159.41 140.651 Q1159.41 129.471 1164.92 123.152 Q1170.47 116.832 1180.23 116.832 Z\" fill=\"#000000\" fill-rule=\"evenodd\" fill-opacity=\"1\" /><path clip-path=\"url(#clip350)\" d=\"M 0 0 M1239.7 124.893 Q1238.44 124.164 1236.95 123.84 Q1235.49 123.476 1233.71 123.476 Q1227.39 123.476 1223.98 127.608 Q1220.62 131.699 1220.62 139.396 L1220.62 163.296 L1213.13 163.296 L1213.13 117.926 L1220.62 117.926 L1220.62 124.974 Q1222.97 120.843 1226.74 118.858 Q1230.5 116.832 1235.89 116.832 Q1236.66 116.832 1237.59 116.954 Q1238.53 117.035 1239.66 117.237 L1239.7 124.893 Z\" fill=\"#000000\" fill-rule=\"evenodd\" fill-opacity=\"1\" /><path clip-path=\"url(#clip350)\" d=\"M 0 0 M1303.75 124.812 L1303.75 100.264 L1311.2 100.264 L1311.2 163.296 L1303.75 163.296 L1303.75 156.49 Q1301.4 160.541 1297.79 162.526 Q1294.23 164.471 1289.2 164.471 Q1280.98 164.471 1275.79 157.908 Q1270.65 151.346 1270.65 140.651 Q1270.65 129.957 1275.79 123.395 Q1280.98 116.832 1289.2 116.832 Q1294.23 116.832 1297.79 118.817 Q1301.4 120.762 1303.75 124.812 M1278.35 140.651 Q1278.35 148.875 1281.71 153.574 Q1285.11 158.232 1291.03 158.232 Q1296.94 158.232 1300.34 153.574 Q1303.75 148.875 1303.75 140.651 Q1303.75 132.428 1300.34 127.77 Q1296.94 123.071 1291.03 123.071 Q1285.11 123.071 1281.71 127.77 Q1278.35 132.428 1278.35 140.651 Z\" fill=\"#000000\" fill-rule=\"evenodd\" fill-opacity=\"1\" /><path clip-path=\"url(#clip350)\" d=\"M 0 0 M1326.55 117.926 L1334.01 117.926 L1334.01 163.296 L1326.55 163.296 L1326.55 117.926 M1326.55 100.264 L1334.01 100.264 L1334.01 109.703 L1326.55 109.703 L1326.55 100.264 Z\" fill=\"#000000\" fill-rule=\"evenodd\" fill-opacity=\"1\" /><path clip-path=\"url(#clip350)\" d=\"M 0 0 M1372.57 100.264 L1372.57 106.462 L1365.44 106.462 Q1361.43 106.462 1359.85 108.082 Q1358.31 109.703 1358.31 113.915 L1358.31 117.926 L1370.59 117.926 L1370.59 123.719 L1358.31 123.719 L1358.31 163.296 L1350.82 163.296 L1350.82 123.719 L1343.69 123.719 L1343.69 117.926 L1350.82 117.926 L1350.82 114.766 Q1350.82 107.191 1354.34 103.748 Q1357.87 100.264 1365.52 100.264 L1372.57 100.264 Z\" fill=\"#000000\" fill-rule=\"evenodd\" fill-opacity=\"1\" /><path clip-path=\"url(#clip350)\" d=\"M 0 0 M1401.78 100.264 L1401.78 106.462 L1394.65 106.462 Q1390.64 106.462 1389.06 108.082 Q1387.52 109.703 1387.52 113.915 L1387.52 117.926 L1399.79 117.926 L1399.79 123.719 L1387.52 123.719 L1387.52 163.296 L1380.02 163.296 L1380.02 123.719 L1372.89 123.719 L1372.89 117.926 L1380.02 117.926 L1380.02 114.766 Q1380.02 107.191 1383.55 103.748 Q1387.07 100.264 1394.73 100.264 L1401.78 100.264 Z\" fill=\"#000000\" fill-rule=\"evenodd\" fill-opacity=\"1\" /><path clip-path=\"url(#clip350)\" d=\"M 0 0 M1446.82 138.748 L1446.82 142.393 L1412.55 142.393 Q1413.04 150.09 1417.17 154.141 Q1421.34 158.151 1428.76 158.151 Q1433.05 158.151 1437.06 157.098 Q1441.11 156.045 1445.08 153.938 L1445.08 160.987 Q1441.07 162.688 1436.86 163.58 Q1432.64 164.471 1428.31 164.471 Q1417.45 164.471 1411.09 158.151 Q1404.77 151.832 1404.77 141.057 Q1404.77 129.917 1410.77 123.395 Q1416.81 116.832 1427.01 116.832 Q1436.17 116.832 1441.48 122.746 Q1446.82 128.62 1446.82 138.748 M1439.37 136.56 Q1439.29 130.443 1435.93 126.797 Q1432.6 123.152 1427.1 123.152 Q1420.86 123.152 1417.09 126.676 Q1413.36 130.2 1412.8 136.601 L1439.37 136.56 Z\" fill=\"#000000\" fill-rule=\"evenodd\" fill-opacity=\"1\" /><path clip-path=\"url(#clip350)\" d=\"M 0 0 M1485.35 124.893 Q1484.09 124.164 1482.59 123.84 Q1481.13 123.476 1479.35 123.476 Q1473.03 123.476 1469.63 127.608 Q1466.27 131.699 1466.27 139.396 L1466.27 163.296 L1458.77 163.296 L1458.77 117.926 L1466.27 117.926 L1466.27 124.974 Q1468.62 120.843 1472.38 118.858 Q1476.15 116.832 1481.54 116.832 Q1482.31 116.832 1483.24 116.954 Q1484.17 117.035 1485.31 117.237 L1485.35 124.893 Z\" fill=\"#000000\" fill-rule=\"evenodd\" fill-opacity=\"1\" /><path clip-path=\"url(#clip350)\" d=\"M 0 0 M1530.15 138.748 L1530.15 142.393 L1495.88 142.393 Q1496.37 150.09 1500.5 154.141 Q1504.67 158.151 1512.08 158.151 Q1516.38 158.151 1520.39 157.098 Q1524.44 156.045 1528.41 153.938 L1528.41 160.987 Q1524.4 162.688 1520.18 163.58 Q1515.97 164.471 1511.64 164.471 Q1500.78 164.471 1494.42 158.151 Q1488.1 151.832 1488.1 141.057 Q1488.1 129.917 1494.1 123.395 Q1500.13 116.832 1510.34 116.832 Q1519.5 116.832 1524.8 122.746 Q1530.15 128.62 1530.15 138.748 M1522.7 136.56 Q1522.62 130.443 1519.25 126.797 Q1515.93 123.152 1510.42 123.152 Q1504.18 123.152 1500.42 126.676 Q1496.69 130.2 1496.12 136.601 L1522.7 136.56 Z\" fill=\"#000000\" fill-rule=\"evenodd\" fill-opacity=\"1\" /><path clip-path=\"url(#clip350)\" d=\"M 0 0 M1580.1 135.912 L1580.1 163.296 L1572.64 163.296 L1572.64 136.155 Q1572.64 129.714 1570.13 126.514 Q1567.62 123.314 1562.6 123.314 Q1556.56 123.314 1553.08 127.162 Q1549.59 131.01 1549.59 137.654 L1549.59 163.296 L1542.1 163.296 L1542.1 117.926 L1549.59 117.926 L1549.59 124.974 Q1552.27 120.883 1555.87 118.858 Q1559.52 116.832 1564.26 116.832 Q1572.08 116.832 1576.09 121.693 Q1580.1 126.514 1580.1 135.912 Z\" fill=\"#000000\" fill-rule=\"evenodd\" fill-opacity=\"1\" /><path clip-path=\"url(#clip350)\" d=\"M 0 0 M1602.34 105.044 L1602.34 117.926 L1617.69 117.926 L1617.69 123.719 L1602.34 123.719 L1602.34 148.348 Q1602.34 153.898 1603.84 155.478 Q1605.38 157.058 1610.03 157.058 L1617.69 157.058 L1617.69 163.296 L1610.03 163.296 Q1601.41 163.296 1598.12 160.096 Q1594.84 156.855 1594.84 148.348 L1594.84 123.719 L1589.37 123.719 L1589.37 117.926 L1594.84 117.926 L1594.84 105.044 L1602.34 105.044 Z\" fill=\"#000000\" fill-rule=\"evenodd\" fill-opacity=\"1\" /><path clip-path=\"url(#clip350)\" d=\"M 0 0 M1674.48 140.489 Q1665.45 140.489 1661.97 142.555 Q1658.48 144.621 1658.48 149.604 Q1658.48 153.574 1661.08 155.923 Q1663.71 158.232 1668.21 158.232 Q1674.4 158.232 1678.13 153.857 Q1681.9 149.442 1681.9 142.15 L1681.9 140.489 L1674.48 140.489 M1689.35 137.411 L1689.35 163.296 L1681.9 163.296 L1681.9 156.409 Q1679.35 160.541 1675.54 162.526 Q1671.73 164.471 1666.22 164.471 Q1659.25 164.471 1655.12 160.582 Q1651.03 156.653 1651.03 150.09 Q1651.03 142.434 1656.13 138.545 Q1661.28 134.656 1671.45 134.656 L1681.9 134.656 L1681.9 133.927 Q1681.9 128.782 1678.49 125.987 Q1675.13 123.152 1669.02 123.152 Q1665.13 123.152 1661.44 124.083 Q1657.75 125.015 1654.35 126.878 L1654.35 119.992 Q1658.44 118.412 1662.29 117.642 Q1666.14 116.832 1669.78 116.832 Q1679.63 116.832 1684.49 121.936 Q1689.35 127.04 1689.35 137.411 Z\" fill=\"#000000\" fill-rule=\"evenodd\" fill-opacity=\"1\" /><path clip-path=\"url(#clip350)\" d=\"M 0 0 M1730.99 124.893 Q1729.74 124.164 1728.24 123.84 Q1726.78 123.476 1725 123.476 Q1718.68 123.476 1715.28 127.608 Q1711.91 131.699 1711.91 139.396 L1711.91 163.296 L1704.42 163.296 L1704.42 117.926 L1711.91 117.926 L1711.91 124.974 Q1714.26 120.843 1718.03 118.858 Q1721.8 116.832 1727.19 116.832 Q1727.96 116.832 1728.89 116.954 Q1729.82 117.035 1730.95 117.237 L1730.99 124.893 Z\" fill=\"#000000\" fill-rule=\"evenodd\" fill-opacity=\"1\" /><path clip-path=\"url(#clip350)\" d=\"M 0 0 M1763.64 124.893 Q1762.39 124.164 1760.89 123.84 Q1759.43 123.476 1757.65 123.476 Q1751.33 123.476 1747.93 127.608 Q1744.56 131.699 1744.56 139.396 L1744.56 163.296 L1737.07 163.296 L1737.07 117.926 L1744.56 117.926 L1744.56 124.974 Q1746.91 120.843 1750.68 118.858 Q1754.45 116.832 1759.84 116.832 Q1760.61 116.832 1761.54 116.954 Q1762.47 117.035 1763.6 117.237 L1763.64 124.893 Z\" fill=\"#000000\" fill-rule=\"evenodd\" fill-opacity=\"1\" /><path clip-path=\"url(#clip350)\" d=\"M 0 0 M1792.08 140.489 Q1783.05 140.489 1779.56 142.555 Q1776.08 144.621 1776.08 149.604 Q1776.08 153.574 1778.67 155.923 Q1781.31 158.232 1785.8 158.232 Q1792 158.232 1795.73 153.857 Q1799.49 149.442 1799.49 142.15 L1799.49 140.489 L1792.08 140.489 M1806.95 137.411 L1806.95 163.296 L1799.49 163.296 L1799.49 156.409 Q1796.94 160.541 1793.13 162.526 Q1789.33 164.471 1783.82 164.471 Q1776.85 164.471 1772.72 160.582 Q1768.63 156.653 1768.63 150.09 Q1768.63 142.434 1773.73 138.545 Q1778.88 134.656 1789.04 134.656 L1799.49 134.656 L1799.49 133.927 Q1799.49 128.782 1796.09 125.987 Q1792.73 123.152 1786.61 123.152 Q1782.72 123.152 1779.04 124.083 Q1775.35 125.015 1771.95 126.878 L1771.95 119.992 Q1776.04 118.412 1779.89 117.642 Q1783.74 116.832 1787.38 116.832 Q1797.23 116.832 1802.09 121.936 Q1806.95 127.04 1806.95 137.411 Z\" fill=\"#000000\" fill-rule=\"evenodd\" fill-opacity=\"1\" /><path clip-path=\"url(#clip350)\" d=\"M 0 0 M1841.18 167.509 Q1838.02 175.611 1835.02 178.082 Q1832.02 180.553 1827 180.553 L1821.05 180.553 L1821.05 174.314 L1825.42 174.314 Q1828.5 174.314 1830.2 172.856 Q1831.9 171.398 1833.97 165.97 L1835.3 162.567 L1816.95 117.926 L1824.85 117.926 L1839.03 153.412 L1853.21 117.926 L1861.11 117.926 L1841.18 167.509 Z\" fill=\"#000000\" fill-rule=\"evenodd\" fill-opacity=\"1\" /><path clip-path=\"url(#clip350)\" d=\"M 0 0 M1926.69 119.263 L1926.69 126.311 Q1923.53 124.691 1920.13 123.881 Q1916.73 123.071 1913.08 123.071 Q1907.53 123.071 1904.74 124.772 Q1901.98 126.473 1901.98 129.876 Q1901.98 132.469 1903.97 133.967 Q1905.95 135.426 1911.95 136.763 L1914.5 137.33 Q1922.44 139.031 1925.76 142.15 Q1929.12 145.229 1929.12 150.779 Q1929.12 157.098 1924.1 160.784 Q1919.12 164.471 1910.37 164.471 Q1906.72 164.471 1902.75 163.742 Q1898.82 163.053 1894.45 161.635 L1894.45 153.938 Q1898.58 156.085 1902.59 157.179 Q1906.6 158.232 1910.53 158.232 Q1915.8 158.232 1918.63 156.45 Q1921.47 154.627 1921.47 151.346 Q1921.47 148.308 1919.4 146.687 Q1917.38 145.067 1910.45 143.568 L1907.86 142.96 Q1900.93 141.502 1897.85 138.504 Q1894.77 135.466 1894.77 130.2 Q1894.77 123.8 1899.31 120.316 Q1903.85 116.832 1912.19 116.832 Q1916.32 116.832 1919.97 117.44 Q1923.61 118.047 1926.69 119.263 Z\" fill=\"#000000\" fill-rule=\"evenodd\" fill-opacity=\"1\" /><path clip-path=\"url(#clip350)\" d=\"M 0 0 M1940.99 117.926 L1948.45 117.926 L1948.45 163.296 L1940.99 163.296 L1940.99 117.926 M1940.99 100.264 L1948.45 100.264 L1948.45 109.703 L1940.99 109.703 L1940.99 100.264 Z\" fill=\"#000000\" fill-rule=\"evenodd\" fill-opacity=\"1\" /><path clip-path=\"url(#clip350)\" d=\"M 0 0 M1960.8 117.926 L1996.21 117.926 L1996.21 124.731 L1968.17 157.341 L1996.21 157.341 L1996.21 163.296 L1959.79 163.296 L1959.79 156.49 L1987.82 123.881 L1960.8 123.881 L1960.8 117.926 Z\" fill=\"#000000\" fill-rule=\"evenodd\" fill-opacity=\"1\" /><path clip-path=\"url(#clip350)\" d=\"M 0 0 M2046.4 138.748 L2046.4 142.393 L2012.13 142.393 Q2012.61 150.09 2016.74 154.141 Q2020.92 158.151 2028.33 158.151 Q2032.62 158.151 2036.63 157.098 Q2040.69 156.045 2044.66 153.938 L2044.66 160.987 Q2040.65 162.688 2036.43 163.58 Q2032.22 164.471 2027.88 164.471 Q2017.03 164.471 2010.67 158.151 Q2004.35 151.832 2004.35 141.057 Q2004.35 129.917 2010.34 123.395 Q2016.38 116.832 2026.59 116.832 Q2035.74 116.832 2041.05 122.746 Q2046.4 128.62 2046.4 138.748 M2038.94 136.56 Q2038.86 130.443 2035.5 126.797 Q2032.18 123.152 2026.67 123.152 Q2020.43 123.152 2016.66 126.676 Q2012.94 130.2 2012.37 136.601 L2038.94 136.56 Z\" fill=\"#000000\" fill-rule=\"evenodd\" fill-opacity=\"1\" /><path clip-path=\"url(#clip350)\" d=\"M 0 0 M2087.55 119.263 L2087.55 126.311 Q2084.39 124.691 2080.99 123.881 Q2077.59 123.071 2073.94 123.071 Q2068.39 123.071 2065.6 124.772 Q2062.84 126.473 2062.84 129.876 Q2062.84 132.469 2064.83 133.967 Q2066.81 135.426 2072.81 136.763 L2075.36 137.33 Q2083.3 139.031 2086.62 142.15 Q2089.99 145.229 2089.99 150.779 Q2089.99 157.098 2084.96 160.784 Q2079.98 164.471 2071.23 164.471 Q2067.58 164.471 2063.61 163.742 Q2059.68 163.053 2055.31 161.635 L2055.31 153.938 Q2059.44 156.085 2063.45 157.179 Q2067.46 158.232 2071.39 158.232 Q2076.66 158.232 2079.49 156.45 Q2082.33 154.627 2082.33 151.346 Q2082.33 148.308 2080.26 146.687 Q2078.24 145.067 2071.31 143.568 L2068.72 142.96 Q2061.79 141.502 2058.71 138.504 Q2055.63 135.466 2055.63 130.2 Q2055.63 123.8 2060.17 120.316 Q2064.71 116.832 2073.05 116.832 Q2077.18 116.832 2080.83 117.44 Q2084.48 118.047 2087.55 119.263 Z\" fill=\"#000000\" fill-rule=\"evenodd\" fill-opacity=\"1\" /><polyline clip-path=\"url(#clip352)\" style=\"stroke:#000000; stroke-width:4; stroke-opacity:1; fill:none\" points=\"\n",
       "  454.794,282.844 454.794,196.383 \n",
       "  \"/>\n",
       "<polyline clip-path=\"url(#clip352)\" style=\"stroke:#000000; stroke-width:4; stroke-opacity:1; fill:none\" points=\"\n",
       "  659.537,610.749 659.537,577.15 \n",
       "  \"/>\n",
       "<polyline clip-path=\"url(#clip352)\" style=\"stroke:#000000; stroke-width:4; stroke-opacity:1; fill:none\" points=\"\n",
       "  864.279,562.38 864.279,526.061 \n",
       "  \"/>\n",
       "<polyline clip-path=\"url(#clip352)\" style=\"stroke:#000000; stroke-width:4; stroke-opacity:1; fill:none\" points=\"\n",
       "  1069.02,537.186 1069.02,488.53 \n",
       "  \"/>\n",
       "<polyline clip-path=\"url(#clip352)\" style=\"stroke:#000000; stroke-width:4; stroke-opacity:1; fill:none\" points=\"\n",
       "  1273.76,506.287 1273.76,436.238 \n",
       "  \"/>\n",
       "<polyline clip-path=\"url(#clip352)\" style=\"stroke:#000000; stroke-width:4; stroke-opacity:1; fill:none\" points=\"\n",
       "  1478.51,472.634 1478.51,427.102 \n",
       "  \"/>\n",
       "<polyline clip-path=\"url(#clip352)\" style=\"stroke:#000000; stroke-width:4; stroke-opacity:1; fill:none\" points=\"\n",
       "  1683.25,448.022 1683.25,376.921 \n",
       "  \"/>\n",
       "<polyline clip-path=\"url(#clip352)\" style=\"stroke:#000000; stroke-width:4; stroke-opacity:1; fill:none\" points=\"\n",
       "  1887.99,419.336 1887.99,334.881 \n",
       "  \"/>\n",
       "<polyline clip-path=\"url(#clip352)\" style=\"stroke:#000000; stroke-width:4; stroke-opacity:1; fill:none\" points=\"\n",
       "  2092.73,398.071 2092.73,290.328 \n",
       "  \"/>\n",
       "<polyline clip-path=\"url(#clip352)\" style=\"stroke:#000000; stroke-width:4; stroke-opacity:1; fill:none\" points=\"\n",
       "  2297.48,366.835 2297.48,263.392 \n",
       "  \"/>\n",
       "<line clip-path=\"url(#clip352)\" x1=\"470.794\" y1=\"282.844\" x2=\"438.794\" y2=\"282.844\" style=\"stroke:#000000; stroke-width:3.2; stroke-opacity:1\"/>\n",
       "<line clip-path=\"url(#clip352)\" x1=\"470.794\" y1=\"196.383\" x2=\"438.794\" y2=\"196.383\" style=\"stroke:#000000; stroke-width:3.2; stroke-opacity:1\"/>\n",
       "<line clip-path=\"url(#clip352)\" x1=\"675.537\" y1=\"610.749\" x2=\"643.537\" y2=\"610.749\" style=\"stroke:#000000; stroke-width:3.2; stroke-opacity:1\"/>\n",
       "<line clip-path=\"url(#clip352)\" x1=\"675.537\" y1=\"577.15\" x2=\"643.537\" y2=\"577.15\" style=\"stroke:#000000; stroke-width:3.2; stroke-opacity:1\"/>\n",
       "<line clip-path=\"url(#clip352)\" x1=\"880.279\" y1=\"562.38\" x2=\"848.279\" y2=\"562.38\" style=\"stroke:#000000; stroke-width:3.2; stroke-opacity:1\"/>\n",
       "<line clip-path=\"url(#clip352)\" x1=\"880.279\" y1=\"526.061\" x2=\"848.279\" y2=\"526.061\" style=\"stroke:#000000; stroke-width:3.2; stroke-opacity:1\"/>\n",
       "<line clip-path=\"url(#clip352)\" x1=\"1085.02\" y1=\"537.186\" x2=\"1053.02\" y2=\"537.186\" style=\"stroke:#000000; stroke-width:3.2; stroke-opacity:1\"/>\n",
       "<line clip-path=\"url(#clip352)\" x1=\"1085.02\" y1=\"488.53\" x2=\"1053.02\" y2=\"488.53\" style=\"stroke:#000000; stroke-width:3.2; stroke-opacity:1\"/>\n",
       "<line clip-path=\"url(#clip352)\" x1=\"1289.76\" y1=\"506.287\" x2=\"1257.76\" y2=\"506.287\" style=\"stroke:#000000; stroke-width:3.2; stroke-opacity:1\"/>\n",
       "<line clip-path=\"url(#clip352)\" x1=\"1289.76\" y1=\"436.238\" x2=\"1257.76\" y2=\"436.238\" style=\"stroke:#000000; stroke-width:3.2; stroke-opacity:1\"/>\n",
       "<line clip-path=\"url(#clip352)\" x1=\"1494.51\" y1=\"472.634\" x2=\"1462.51\" y2=\"472.634\" style=\"stroke:#000000; stroke-width:3.2; stroke-opacity:1\"/>\n",
       "<line clip-path=\"url(#clip352)\" x1=\"1494.51\" y1=\"427.102\" x2=\"1462.51\" y2=\"427.102\" style=\"stroke:#000000; stroke-width:3.2; stroke-opacity:1\"/>\n",
       "<line clip-path=\"url(#clip352)\" x1=\"1699.25\" y1=\"448.022\" x2=\"1667.25\" y2=\"448.022\" style=\"stroke:#000000; stroke-width:3.2; stroke-opacity:1\"/>\n",
       "<line clip-path=\"url(#clip352)\" x1=\"1699.25\" y1=\"376.921\" x2=\"1667.25\" y2=\"376.921\" style=\"stroke:#000000; stroke-width:3.2; stroke-opacity:1\"/>\n",
       "<line clip-path=\"url(#clip352)\" x1=\"1903.99\" y1=\"419.336\" x2=\"1871.99\" y2=\"419.336\" style=\"stroke:#000000; stroke-width:3.2; stroke-opacity:1\"/>\n",
       "<line clip-path=\"url(#clip352)\" x1=\"1903.99\" y1=\"334.881\" x2=\"1871.99\" y2=\"334.881\" style=\"stroke:#000000; stroke-width:3.2; stroke-opacity:1\"/>\n",
       "<line clip-path=\"url(#clip352)\" x1=\"2108.73\" y1=\"398.071\" x2=\"2076.73\" y2=\"398.071\" style=\"stroke:#000000; stroke-width:3.2; stroke-opacity:1\"/>\n",
       "<line clip-path=\"url(#clip352)\" x1=\"2108.73\" y1=\"290.328\" x2=\"2076.73\" y2=\"290.328\" style=\"stroke:#000000; stroke-width:3.2; stroke-opacity:1\"/>\n",
       "<line clip-path=\"url(#clip352)\" x1=\"2313.48\" y1=\"366.835\" x2=\"2281.48\" y2=\"366.835\" style=\"stroke:#000000; stroke-width:3.2; stroke-opacity:1\"/>\n",
       "<line clip-path=\"url(#clip352)\" x1=\"2313.48\" y1=\"263.392\" x2=\"2281.48\" y2=\"263.392\" style=\"stroke:#000000; stroke-width:3.2; stroke-opacity:1\"/>\n",
       "<circle clip-path=\"url(#clip352)\" cx=\"454.794\" cy=\"239.613\" r=\"14\" fill=\"#ee82ee\" fill-rule=\"evenodd\" fill-opacity=\"1\" stroke=\"#000000\" stroke-opacity=\"1\" stroke-width=\"3.2\"/>\n",
       "<circle clip-path=\"url(#clip352)\" cx=\"659.537\" cy=\"593.949\" r=\"14\" fill=\"#ee82ee\" fill-rule=\"evenodd\" fill-opacity=\"1\" stroke=\"#000000\" stroke-opacity=\"1\" stroke-width=\"3.2\"/>\n",
       "<circle clip-path=\"url(#clip352)\" cx=\"864.279\" cy=\"544.22\" r=\"14\" fill=\"#ee82ee\" fill-rule=\"evenodd\" fill-opacity=\"1\" stroke=\"#000000\" stroke-opacity=\"1\" stroke-width=\"3.2\"/>\n",
       "<circle clip-path=\"url(#clip352)\" cx=\"1069.02\" cy=\"512.858\" r=\"14\" fill=\"#ee82ee\" fill-rule=\"evenodd\" fill-opacity=\"1\" stroke=\"#000000\" stroke-opacity=\"1\" stroke-width=\"3.2\"/>\n",
       "<circle clip-path=\"url(#clip352)\" cx=\"1273.76\" cy=\"471.262\" r=\"14\" fill=\"#ee82ee\" fill-rule=\"evenodd\" fill-opacity=\"1\" stroke=\"#000000\" stroke-opacity=\"1\" stroke-width=\"3.2\"/>\n",
       "<circle clip-path=\"url(#clip352)\" cx=\"1478.51\" cy=\"449.868\" r=\"14\" fill=\"#ee82ee\" fill-rule=\"evenodd\" fill-opacity=\"1\" stroke=\"#000000\" stroke-opacity=\"1\" stroke-width=\"3.2\"/>\n",
       "<circle clip-path=\"url(#clip352)\" cx=\"1683.25\" cy=\"412.472\" r=\"14\" fill=\"#ee82ee\" fill-rule=\"evenodd\" fill-opacity=\"1\" stroke=\"#000000\" stroke-opacity=\"1\" stroke-width=\"3.2\"/>\n",
       "<circle clip-path=\"url(#clip352)\" cx=\"1887.99\" cy=\"377.109\" r=\"14\" fill=\"#ee82ee\" fill-rule=\"evenodd\" fill-opacity=\"1\" stroke=\"#000000\" stroke-opacity=\"1\" stroke-width=\"3.2\"/>\n",
       "<circle clip-path=\"url(#clip352)\" cx=\"2092.73\" cy=\"344.199\" r=\"14\" fill=\"#ee82ee\" fill-rule=\"evenodd\" fill-opacity=\"1\" stroke=\"#000000\" stroke-opacity=\"1\" stroke-width=\"3.2\"/>\n",
       "<circle clip-path=\"url(#clip352)\" cx=\"2297.48\" cy=\"315.113\" r=\"14\" fill=\"#ee82ee\" fill-rule=\"evenodd\" fill-opacity=\"1\" stroke=\"#000000\" stroke-opacity=\"1\" stroke-width=\"3.2\"/>\n",
       "<path clip-path=\"url(#clip350)\" d=\"\n",
       "M1384.26 319.553 L2287.65 319.553 L2287.65 198.593 L1384.26 198.593  Z\n",
       "  \" fill=\"#ffffff\" fill-rule=\"evenodd\" fill-opacity=\"1\"/>\n",
       "<polyline clip-path=\"url(#clip350)\" style=\"stroke:#000000; stroke-width:4; stroke-opacity:1; fill:none\" points=\"\n",
       "  1384.26,319.553 2287.65,319.553 2287.65,198.593 1384.26,198.593 1384.26,319.553 \n",
       "  \"/>\n",
       "<circle clip-path=\"url(#clip350)\" cx=\"1471.07\" cy=\"259.073\" r=\"23\" fill=\"#ee82ee\" fill-rule=\"evenodd\" fill-opacity=\"1\" stroke=\"#000000\" stroke-opacity=\"1\" stroke-width=\"5.12\"/>\n",
       "<path clip-path=\"url(#clip350)\" d=\"M 0 0 M1563.51 272.418 L1579.82 272.418 L1579.82 276.353 L1557.88 276.353 L1557.88 272.418 Q1560.54 269.663 1565.13 265.034 Q1569.73 260.381 1570.91 259.038 Q1573.16 256.515 1574.04 254.779 Q1574.94 253.02 1574.94 251.33 Q1574.94 248.575 1573 246.839 Q1571.07 245.103 1567.97 245.103 Q1565.77 245.103 1563.32 245.867 Q1560.89 246.631 1558.11 248.182 L1558.11 243.46 Q1560.94 242.325 1563.39 241.747 Q1565.84 241.168 1567.88 241.168 Q1573.25 241.168 1576.45 243.853 Q1579.64 246.538 1579.64 251.029 Q1579.64 253.159 1578.83 255.08 Q1578.04 256.978 1575.94 259.571 Q1575.36 260.242 1572.26 263.46 Q1569.15 266.654 1563.51 272.418 Z\" fill=\"#000000\" fill-rule=\"evenodd\" fill-opacity=\"1\" /><path clip-path=\"url(#clip350)\" d=\"M 0 0 M1604.11 240.335 L1608.37 240.335 L1608.37 276.353 L1604.11 276.353 L1604.11 240.335 Z\" fill=\"#000000\" fill-rule=\"evenodd\" fill-opacity=\"1\" /><path clip-path=\"url(#clip350)\" d=\"M 0 0 M1617.28 250.427 L1621.54 250.427 L1621.54 276.353 L1617.28 276.353 L1617.28 250.427 M1617.28 240.335 L1621.54 240.335 L1621.54 245.728 L1617.28 245.728 L1617.28 240.335 Z\" fill=\"#000000\" fill-rule=\"evenodd\" fill-opacity=\"1\" /><path clip-path=\"url(#clip350)\" d=\"M 0 0 M1652 260.705 L1652 276.353 L1647.74 276.353 L1647.74 260.844 Q1647.74 257.163 1646.31 255.335 Q1644.87 253.506 1642 253.506 Q1638.55 253.506 1636.56 255.705 Q1634.57 257.904 1634.57 261.7 L1634.57 276.353 L1630.29 276.353 L1630.29 250.427 L1634.57 250.427 L1634.57 254.455 Q1636.1 252.117 1638.16 250.96 Q1640.24 249.802 1642.95 249.802 Q1647.42 249.802 1649.71 252.58 Q1652 255.335 1652 260.705 Z\" fill=\"#000000\" fill-rule=\"evenodd\" fill-opacity=\"1\" /><path clip-path=\"url(#clip350)\" d=\"M 0 0 M1682.67 262.325 L1682.67 264.409 L1663.09 264.409 Q1663.37 268.807 1665.73 271.122 Q1668.11 273.413 1672.35 273.413 Q1674.8 273.413 1677.09 272.811 Q1679.41 272.21 1681.68 271.006 L1681.68 275.034 Q1679.38 276.006 1676.98 276.515 Q1674.57 277.024 1672.09 277.024 Q1665.89 277.024 1662.25 273.413 Q1658.64 269.802 1658.64 263.645 Q1658.64 257.279 1662.07 253.552 Q1665.52 249.802 1671.35 249.802 Q1676.58 249.802 1679.62 253.182 Q1682.67 256.538 1682.67 262.325 M1678.41 261.075 Q1678.37 257.58 1676.44 255.497 Q1674.55 253.413 1671.4 253.413 Q1667.83 253.413 1665.68 255.427 Q1663.55 257.441 1663.23 261.099 L1678.41 261.075 Z\" fill=\"#000000\" fill-rule=\"evenodd\" fill-opacity=\"1\" /><path clip-path=\"url(#clip350)\" d=\"M 0 0 M1701.44 263.321 Q1696.28 263.321 1694.29 264.501 Q1692.3 265.682 1692.3 268.529 Q1692.3 270.798 1693.78 272.14 Q1695.29 273.46 1697.86 273.46 Q1701.4 273.46 1703.53 270.96 Q1705.68 268.436 1705.68 264.27 L1705.68 263.321 L1701.44 263.321 M1709.94 261.561 L1709.94 276.353 L1705.68 276.353 L1705.68 272.418 Q1704.22 274.779 1702.05 275.913 Q1699.87 277.024 1696.72 277.024 Q1692.74 277.024 1690.38 274.802 Q1688.04 272.557 1688.04 268.807 Q1688.04 264.432 1690.96 262.21 Q1693.9 259.987 1699.71 259.987 L1705.68 259.987 L1705.68 259.571 Q1705.68 256.631 1703.74 255.034 Q1701.81 253.413 1698.32 253.413 Q1696.1 253.413 1693.99 253.946 Q1691.88 254.478 1689.94 255.543 L1689.94 251.608 Q1692.28 250.705 1694.48 250.265 Q1696.68 249.802 1698.76 249.802 Q1704.38 249.802 1707.16 252.719 Q1709.94 255.636 1709.94 261.561 Z\" fill=\"#000000\" fill-rule=\"evenodd\" fill-opacity=\"1\" /><path clip-path=\"url(#clip350)\" d=\"M 0 0 M1733.74 254.409 Q1733.02 253.992 1732.16 253.807 Q1731.33 253.599 1730.31 253.599 Q1726.7 253.599 1724.75 255.96 Q1722.83 258.298 1722.83 262.696 L1722.83 276.353 L1718.55 276.353 L1718.55 250.427 L1722.83 250.427 L1722.83 254.455 Q1724.18 252.094 1726.33 250.96 Q1728.48 249.802 1731.56 249.802 Q1732 249.802 1732.53 249.872 Q1733.06 249.918 1733.71 250.034 L1733.74 254.409 Z\" fill=\"#000000\" fill-rule=\"evenodd\" fill-opacity=\"1\" /><path clip-path=\"url(#clip350)\" d=\"M 0 0 M1773.46 255.404 Q1775.06 252.534 1777.28 251.168 Q1779.5 249.802 1782.51 249.802 Q1786.56 249.802 1788.76 252.649 Q1790.96 255.474 1790.96 260.705 L1790.96 276.353 L1786.68 276.353 L1786.68 260.844 Q1786.68 257.117 1785.36 255.311 Q1784.04 253.506 1781.33 253.506 Q1778.02 253.506 1776.1 255.705 Q1774.18 257.904 1774.18 261.7 L1774.18 276.353 L1769.89 276.353 L1769.89 260.844 Q1769.89 257.094 1768.57 255.311 Q1767.25 253.506 1764.5 253.506 Q1761.24 253.506 1759.31 255.728 Q1757.39 257.927 1757.39 261.7 L1757.39 276.353 L1753.11 276.353 L1753.11 250.427 L1757.39 250.427 L1757.39 254.455 Q1758.85 252.071 1760.89 250.937 Q1762.93 249.802 1765.73 249.802 Q1768.55 249.802 1770.52 251.237 Q1772.51 252.673 1773.46 255.404 Z\" fill=\"#000000\" fill-rule=\"evenodd\" fill-opacity=\"1\" /><path clip-path=\"url(#clip350)\" d=\"M 0 0 M1811.24 263.321 Q1806.07 263.321 1804.08 264.501 Q1802.09 265.682 1802.09 268.529 Q1802.09 270.798 1803.57 272.14 Q1805.08 273.46 1807.65 273.46 Q1811.19 273.46 1813.32 270.96 Q1815.47 268.436 1815.47 264.27 L1815.47 263.321 L1811.24 263.321 M1819.73 261.561 L1819.73 276.353 L1815.47 276.353 L1815.47 272.418 Q1814.01 274.779 1811.84 275.913 Q1809.66 277.024 1806.51 277.024 Q1802.53 277.024 1800.17 274.802 Q1797.83 272.557 1797.83 268.807 Q1797.83 264.432 1800.75 262.21 Q1803.69 259.987 1809.5 259.987 L1815.47 259.987 L1815.47 259.571 Q1815.47 256.631 1813.53 255.034 Q1811.61 253.413 1808.11 253.413 Q1805.89 253.413 1803.78 253.946 Q1801.68 254.478 1799.73 255.543 L1799.73 251.608 Q1802.07 250.705 1804.27 250.265 Q1806.47 249.802 1808.55 249.802 Q1814.18 249.802 1816.95 252.719 Q1819.73 255.636 1819.73 261.561 Z\" fill=\"#000000\" fill-rule=\"evenodd\" fill-opacity=\"1\" /><path clip-path=\"url(#clip350)\" d=\"M 0 0 M1832.72 243.066 L1832.72 250.427 L1841.49 250.427 L1841.49 253.737 L1832.72 253.737 L1832.72 267.811 Q1832.72 270.983 1833.57 271.885 Q1834.45 272.788 1837.12 272.788 L1841.49 272.788 L1841.49 276.353 L1837.12 276.353 Q1832.18 276.353 1830.31 274.524 Q1828.43 272.673 1828.43 267.811 L1828.43 253.737 L1825.31 253.737 L1825.31 250.427 L1828.43 250.427 L1828.43 243.066 L1832.72 243.066 Z\" fill=\"#000000\" fill-rule=\"evenodd\" fill-opacity=\"1\" /><path clip-path=\"url(#clip350)\" d=\"M 0 0 M1862.11 254.409 Q1861.4 253.992 1860.54 253.807 Q1859.71 253.599 1858.69 253.599 Q1855.08 253.599 1853.13 255.96 Q1851.21 258.298 1851.21 262.696 L1851.21 276.353 L1846.93 276.353 L1846.93 250.427 L1851.21 250.427 L1851.21 254.455 Q1852.55 252.094 1854.71 250.96 Q1856.86 249.802 1859.94 249.802 Q1860.38 249.802 1860.91 249.872 Q1861.44 249.918 1862.09 250.034 L1862.11 254.409 Z\" fill=\"#000000\" fill-rule=\"evenodd\" fill-opacity=\"1\" /><path clip-path=\"url(#clip350)\" d=\"M 0 0 M1866.58 250.427 L1870.84 250.427 L1870.84 276.353 L1866.58 276.353 L1866.58 250.427 M1866.58 240.335 L1870.84 240.335 L1870.84 245.728 L1866.58 245.728 L1866.58 240.335 Z\" fill=\"#000000\" fill-rule=\"evenodd\" fill-opacity=\"1\" /><path clip-path=\"url(#clip350)\" d=\"M 0 0 M1898.41 251.423 L1898.41 255.404 Q1896.61 254.409 1894.78 253.923 Q1892.97 253.413 1891.12 253.413 Q1886.98 253.413 1884.68 256.052 Q1882.39 258.668 1882.39 263.413 Q1882.39 268.159 1884.68 270.798 Q1886.98 273.413 1891.12 273.413 Q1892.97 273.413 1894.78 272.927 Q1896.61 272.418 1898.41 271.423 L1898.41 275.358 Q1896.63 276.191 1894.71 276.608 Q1892.81 277.024 1890.66 277.024 Q1884.8 277.024 1881.35 273.344 Q1877.9 269.663 1877.9 263.413 Q1877.9 257.071 1881.37 253.437 Q1884.87 249.802 1890.93 249.802 Q1892.9 249.802 1894.78 250.219 Q1896.65 250.612 1898.41 251.423 Z\" fill=\"#000000\" fill-rule=\"evenodd\" fill-opacity=\"1\" /><path clip-path=\"url(#clip350)\" d=\"M 0 0 M1927.99 262.325 L1927.99 264.409 L1908.41 264.409 Q1908.69 268.807 1911.05 271.122 Q1913.43 273.413 1917.67 273.413 Q1920.12 273.413 1922.42 272.811 Q1924.73 272.21 1927 271.006 L1927 275.034 Q1924.71 276.006 1922.3 276.515 Q1919.89 277.024 1917.42 277.024 Q1911.21 277.024 1907.58 273.413 Q1903.97 269.802 1903.97 263.645 Q1903.97 257.279 1907.39 253.552 Q1910.84 249.802 1916.67 249.802 Q1921.91 249.802 1924.94 253.182 Q1927.99 256.538 1927.99 262.325 M1923.73 261.075 Q1923.69 257.58 1921.77 255.497 Q1919.87 253.413 1916.72 253.413 Q1913.16 253.413 1911 255.427 Q1908.87 257.441 1908.55 261.099 L1923.73 261.075 Z\" fill=\"#000000\" fill-rule=\"evenodd\" fill-opacity=\"1\" /><path clip-path=\"url(#clip350)\" d=\"M 0 0 M1951.51 251.191 L1951.51 255.219 Q1949.71 254.293 1947.76 253.83 Q1945.82 253.367 1943.73 253.367 Q1940.56 253.367 1938.97 254.339 Q1937.39 255.311 1937.39 257.256 Q1937.39 258.737 1938.53 259.594 Q1939.66 260.427 1943.09 261.191 L1944.54 261.515 Q1949.08 262.487 1950.98 264.27 Q1952.9 266.029 1952.9 269.2 Q1952.9 272.811 1950.03 274.918 Q1947.18 277.024 1942.18 277.024 Q1940.1 277.024 1937.83 276.608 Q1935.59 276.214 1933.09 275.404 L1933.09 271.006 Q1935.45 272.233 1937.74 272.858 Q1940.03 273.46 1942.28 273.46 Q1945.29 273.46 1946.91 272.441 Q1948.53 271.399 1948.53 269.524 Q1948.53 267.788 1947.35 266.862 Q1946.19 265.936 1942.23 265.08 L1940.75 264.733 Q1936.79 263.899 1935.03 262.186 Q1933.27 260.45 1933.27 257.441 Q1933.27 253.784 1935.86 251.793 Q1938.46 249.802 1943.23 249.802 Q1945.59 249.802 1947.67 250.149 Q1949.75 250.497 1951.51 251.191 Z\" fill=\"#000000\" fill-rule=\"evenodd\" fill-opacity=\"1\" /><path clip-path=\"url(#clip350)\" d=\"M 0 0 M1991.81 254.362 L1991.81 240.335 L1996.07 240.335 L1996.07 276.353 L1991.81 276.353 L1991.81 272.464 Q1990.47 274.779 1988.41 275.913 Q1986.37 277.024 1983.5 277.024 Q1978.8 277.024 1975.84 273.274 Q1972.9 269.524 1972.9 263.413 Q1972.9 257.302 1975.84 253.552 Q1978.8 249.802 1983.5 249.802 Q1986.37 249.802 1988.41 250.937 Q1990.47 252.048 1991.81 254.362 M1977.3 263.413 Q1977.3 268.112 1979.22 270.798 Q1981.17 273.46 1984.54 273.46 Q1987.92 273.46 1989.87 270.798 Q1991.81 268.112 1991.81 263.413 Q1991.81 258.714 1989.87 256.052 Q1987.92 253.367 1984.54 253.367 Q1981.17 253.367 1979.22 256.052 Q1977.3 258.714 1977.3 263.413 Z\" fill=\"#000000\" fill-rule=\"evenodd\" fill-opacity=\"1\" /><path clip-path=\"url(#clip350)\" d=\"M 0 0 M2014.89 253.413 Q2011.47 253.413 2009.48 256.099 Q2007.48 258.761 2007.48 263.413 Q2007.48 268.066 2009.45 270.751 Q2011.44 273.413 2014.89 273.413 Q2018.29 273.413 2020.29 270.728 Q2022.28 268.043 2022.28 263.413 Q2022.28 258.807 2020.29 256.122 Q2018.29 253.413 2014.89 253.413 M2014.89 249.802 Q2020.45 249.802 2023.62 253.413 Q2026.79 257.024 2026.79 263.413 Q2026.79 269.779 2023.62 273.413 Q2020.45 277.024 2014.89 277.024 Q2009.31 277.024 2006.14 273.413 Q2002.99 269.779 2002.99 263.413 Q2002.99 257.024 2006.14 253.413 Q2009.31 249.802 2014.89 249.802 Z\" fill=\"#000000\" fill-rule=\"evenodd\" fill-opacity=\"1\" /><path clip-path=\"url(#clip350)\" d=\"M 0 0 M2038.06 243.066 L2038.06 250.427 L2046.84 250.427 L2046.84 253.737 L2038.06 253.737 L2038.06 267.811 Q2038.06 270.983 2038.92 271.885 Q2039.8 272.788 2042.46 272.788 L2046.84 272.788 L2046.84 276.353 L2042.46 276.353 Q2037.53 276.353 2035.66 274.524 Q2033.78 272.673 2033.78 267.811 L2033.78 253.737 L2030.66 253.737 L2030.66 250.427 L2033.78 250.427 L2033.78 243.066 L2038.06 243.066 Z\" fill=\"#000000\" fill-rule=\"evenodd\" fill-opacity=\"1\" /><path clip-path=\"url(#clip350)\" d=\"M 0 0 M2071.63 272.464 L2071.63 286.214 L2067.35 286.214 L2067.35 250.427 L2071.63 250.427 L2071.63 254.362 Q2072.97 252.048 2075.01 250.937 Q2077.07 249.802 2079.91 249.802 Q2084.64 249.802 2087.58 253.552 Q2090.54 257.302 2090.54 263.413 Q2090.54 269.524 2087.58 273.274 Q2084.64 277.024 2079.91 277.024 Q2077.07 277.024 2075.01 275.913 Q2072.97 274.779 2071.63 272.464 M2086.12 263.413 Q2086.12 258.714 2084.17 256.052 Q2082.25 253.367 2078.87 253.367 Q2075.49 253.367 2073.55 256.052 Q2071.63 258.714 2071.63 263.413 Q2071.63 268.112 2073.55 270.798 Q2075.49 273.46 2078.87 273.46 Q2082.25 273.46 2084.17 270.798 Q2086.12 268.112 2086.12 263.413 Z\" fill=\"#000000\" fill-rule=\"evenodd\" fill-opacity=\"1\" /><path clip-path=\"url(#clip350)\" d=\"M 0 0 M2112.62 254.409 Q2111.91 253.992 2111.05 253.807 Q2110.22 253.599 2109.2 253.599 Q2105.59 253.599 2103.64 255.96 Q2101.72 258.298 2101.72 262.696 L2101.72 276.353 L2097.44 276.353 L2097.44 250.427 L2101.72 250.427 L2101.72 254.455 Q2103.06 252.094 2105.22 250.96 Q2107.37 249.802 2110.45 249.802 Q2110.89 249.802 2111.42 249.872 Q2111.95 249.918 2112.6 250.034 L2112.62 254.409 Z\" fill=\"#000000\" fill-rule=\"evenodd\" fill-opacity=\"1\" /><path clip-path=\"url(#clip350)\" d=\"M 0 0 M2126.09 253.413 Q2122.67 253.413 2120.68 256.099 Q2118.69 258.761 2118.69 263.413 Q2118.69 268.066 2120.66 270.751 Q2122.65 273.413 2126.09 273.413 Q2129.5 273.413 2131.49 270.728 Q2133.48 268.043 2133.48 263.413 Q2133.48 258.807 2131.49 256.122 Q2129.5 253.413 2126.09 253.413 M2126.09 249.802 Q2131.65 249.802 2134.82 253.413 Q2137.99 257.024 2137.99 263.413 Q2137.99 269.779 2134.82 273.413 Q2131.65 277.024 2126.09 277.024 Q2120.52 277.024 2117.34 273.413 Q2114.2 269.779 2114.2 263.413 Q2114.2 257.024 2117.34 253.413 Q2120.52 249.802 2126.09 249.802 Z\" fill=\"#000000\" fill-rule=\"evenodd\" fill-opacity=\"1\" /><path clip-path=\"url(#clip350)\" d=\"M 0 0 M2162.11 254.362 L2162.11 240.335 L2166.37 240.335 L2166.37 276.353 L2162.11 276.353 L2162.11 272.464 Q2160.77 274.779 2158.71 275.913 Q2156.67 277.024 2153.8 277.024 Q2149.1 277.024 2146.14 273.274 Q2143.2 269.524 2143.2 263.413 Q2143.2 257.302 2146.14 253.552 Q2149.1 249.802 2153.8 249.802 Q2156.67 249.802 2158.71 250.937 Q2160.77 252.048 2162.11 254.362 M2147.6 263.413 Q2147.6 268.112 2149.52 270.798 Q2151.47 273.46 2154.84 273.46 Q2158.22 273.46 2160.17 270.798 Q2162.11 268.112 2162.11 263.413 Q2162.11 258.714 2160.17 256.052 Q2158.22 253.367 2154.84 253.367 Q2151.47 253.367 2149.52 256.052 Q2147.6 258.714 2147.6 263.413 Z\" fill=\"#000000\" fill-rule=\"evenodd\" fill-opacity=\"1\" /><path clip-path=\"url(#clip350)\" d=\"M 0 0 M2174.71 266.122 L2174.71 250.427 L2178.97 250.427 L2178.97 265.96 Q2178.97 269.64 2180.4 271.492 Q2181.84 273.321 2184.71 273.321 Q2188.15 273.321 2190.15 271.122 Q2192.16 268.923 2192.16 265.126 L2192.16 250.427 L2196.42 250.427 L2196.42 276.353 L2192.16 276.353 L2192.16 272.372 Q2190.61 274.733 2188.55 275.89 Q2186.51 277.024 2183.8 277.024 Q2179.34 277.024 2177.02 274.247 Q2174.71 271.469 2174.71 266.122 M2185.42 249.802 L2185.42 249.802 Z\" fill=\"#000000\" fill-rule=\"evenodd\" fill-opacity=\"1\" /><path clip-path=\"url(#clip350)\" d=\"M 0 0 M2223.85 251.423 L2223.85 255.404 Q2222.04 254.409 2220.21 253.923 Q2218.41 253.413 2216.56 253.413 Q2212.41 253.413 2210.12 256.052 Q2207.83 258.668 2207.83 263.413 Q2207.83 268.159 2210.12 270.798 Q2212.41 273.413 2216.56 273.413 Q2218.41 273.413 2220.21 272.927 Q2222.04 272.418 2223.85 271.423 L2223.85 275.358 Q2222.07 276.191 2220.15 276.608 Q2218.25 277.024 2216.09 277.024 Q2210.24 277.024 2206.79 273.344 Q2203.34 269.663 2203.34 263.413 Q2203.34 257.071 2206.81 253.437 Q2210.31 249.802 2216.37 249.802 Q2218.34 249.802 2220.21 250.219 Q2222.09 250.612 2223.85 251.423 Z\" fill=\"#000000\" fill-rule=\"evenodd\" fill-opacity=\"1\" /><path clip-path=\"url(#clip350)\" d=\"M 0 0 M2235.47 243.066 L2235.47 250.427 L2244.24 250.427 L2244.24 253.737 L2235.47 253.737 L2235.47 267.811 Q2235.47 270.983 2236.33 271.885 Q2237.21 272.788 2239.87 272.788 L2244.24 272.788 L2244.24 276.353 L2239.87 276.353 Q2234.94 276.353 2233.06 274.524 Q2231.19 272.673 2231.19 267.811 L2231.19 253.737 L2228.06 253.737 L2228.06 250.427 L2231.19 250.427 L2231.19 243.066 L2235.47 243.066 Z\" fill=\"#000000\" fill-rule=\"evenodd\" fill-opacity=\"1\" /><path clip-path=\"url(#clip350)\" d=\"\n",
       "M399.514 1423.18 L2352.76 1423.18 L2352.76 983.952 L399.514 983.952  Z\n",
       "  \" fill=\"#ffffff\" fill-rule=\"evenodd\" fill-opacity=\"1\"/>\n",
       "<defs>\n",
       "  <clipPath id=\"clip353\">\n",
       "    <rect x=\"399\" y=\"983\" width=\"1954\" height=\"440\"/>\n",
       "  </clipPath>\n",
       "</defs>\n",
       "<polyline clip-path=\"url(#clip353)\" style=\"stroke:#000000; stroke-width:2; stroke-opacity:0.1; fill:none\" points=\"\n",
       "  659.537,1423.18 659.537,983.952 \n",
       "  \"/>\n",
       "<polyline clip-path=\"url(#clip353)\" style=\"stroke:#000000; stroke-width:2; stroke-opacity:0.1; fill:none\" points=\"\n",
       "  1069.02,1423.18 1069.02,983.952 \n",
       "  \"/>\n",
       "<polyline clip-path=\"url(#clip353)\" style=\"stroke:#000000; stroke-width:2; stroke-opacity:0.1; fill:none\" points=\"\n",
       "  1478.51,1423.18 1478.51,983.952 \n",
       "  \"/>\n",
       "<polyline clip-path=\"url(#clip353)\" style=\"stroke:#000000; stroke-width:2; stroke-opacity:0.1; fill:none\" points=\"\n",
       "  1887.99,1423.18 1887.99,983.952 \n",
       "  \"/>\n",
       "<polyline clip-path=\"url(#clip353)\" style=\"stroke:#000000; stroke-width:2; stroke-opacity:0.1; fill:none\" points=\"\n",
       "  2297.48,1423.18 2297.48,983.952 \n",
       "  \"/>\n",
       "<polyline clip-path=\"url(#clip350)\" style=\"stroke:#000000; stroke-width:4; stroke-opacity:1; fill:none\" points=\"\n",
       "  399.514,1423.18 2352.76,1423.18 \n",
       "  \"/>\n",
       "<polyline clip-path=\"url(#clip350)\" style=\"stroke:#000000; stroke-width:4; stroke-opacity:1; fill:none\" points=\"\n",
       "  659.537,1423.18 659.537,1417.91 \n",
       "  \"/>\n",
       "<polyline clip-path=\"url(#clip350)\" style=\"stroke:#000000; stroke-width:4; stroke-opacity:1; fill:none\" points=\"\n",
       "  1069.02,1423.18 1069.02,1417.91 \n",
       "  \"/>\n",
       "<polyline clip-path=\"url(#clip350)\" style=\"stroke:#000000; stroke-width:4; stroke-opacity:1; fill:none\" points=\"\n",
       "  1478.51,1423.18 1478.51,1417.91 \n",
       "  \"/>\n",
       "<polyline clip-path=\"url(#clip350)\" style=\"stroke:#000000; stroke-width:4; stroke-opacity:1; fill:none\" points=\"\n",
       "  1887.99,1423.18 1887.99,1417.91 \n",
       "  \"/>\n",
       "<polyline clip-path=\"url(#clip350)\" style=\"stroke:#000000; stroke-width:4; stroke-opacity:1; fill:none\" points=\"\n",
       "  2297.48,1423.18 2297.48,1417.91 \n",
       "  \"/>\n",
       "<path clip-path=\"url(#clip350)\" d=\"M 0 0 M608.148 1479.92 L624.467 1479.92 L624.467 1483.85 L602.523 1483.85 L602.523 1479.92 Q605.185 1477.16 609.768 1472.53 Q614.375 1467.88 615.555 1466.54 Q617.801 1464.01 618.68 1462.28 Q619.583 1460.52 619.583 1458.83 Q619.583 1456.07 617.639 1454.34 Q615.717 1452.6 612.615 1452.6 Q610.416 1452.6 607.963 1453.37 Q605.532 1454.13 602.754 1455.68 L602.754 1450.96 Q605.579 1449.82 608.032 1449.25 Q610.486 1448.67 612.523 1448.67 Q617.893 1448.67 621.088 1451.35 Q624.282 1454.04 624.282 1458.53 Q624.282 1460.66 623.472 1462.58 Q622.685 1464.48 620.578 1467.07 Q620 1467.74 616.898 1470.96 Q613.796 1474.15 608.148 1479.92 Z\" fill=\"#000000\" fill-rule=\"evenodd\" fill-opacity=\"1\" /><path clip-path=\"url(#clip350)\" d=\"M 0 0 M644.282 1452.37 Q640.671 1452.37 638.842 1455.94 Q637.037 1459.48 637.037 1466.61 Q637.037 1473.71 638.842 1477.28 Q640.671 1480.82 644.282 1480.82 Q647.916 1480.82 649.722 1477.28 Q651.55 1473.71 651.55 1466.61 Q651.55 1459.48 649.722 1455.94 Q647.916 1452.37 644.282 1452.37 M644.282 1448.67 Q650.092 1448.67 653.148 1453.27 Q656.226 1457.86 656.226 1466.61 Q656.226 1475.33 653.148 1479.94 Q650.092 1484.52 644.282 1484.52 Q638.472 1484.52 635.393 1479.94 Q632.338 1475.33 632.338 1466.61 Q632.338 1457.86 635.393 1453.27 Q638.472 1448.67 644.282 1448.67 Z\" fill=\"#000000\" fill-rule=\"evenodd\" fill-opacity=\"1\" /><path clip-path=\"url(#clip350)\" d=\"M 0 0 M674.444 1452.37 Q670.833 1452.37 669.004 1455.94 Q667.199 1459.48 667.199 1466.61 Q667.199 1473.71 669.004 1477.28 Q670.833 1480.82 674.444 1480.82 Q678.078 1480.82 679.884 1477.28 Q681.712 1473.71 681.712 1466.61 Q681.712 1459.48 679.884 1455.94 Q678.078 1452.37 674.444 1452.37 M674.444 1448.67 Q680.254 1448.67 683.31 1453.27 Q686.388 1457.86 686.388 1466.61 Q686.388 1475.33 683.31 1479.94 Q680.254 1484.52 674.444 1484.52 Q668.634 1484.52 665.555 1479.94 Q662.499 1475.33 662.499 1466.61 Q662.499 1457.86 665.555 1453.27 Q668.634 1448.67 674.444 1448.67 Z\" fill=\"#000000\" fill-rule=\"evenodd\" fill-opacity=\"1\" /><path clip-path=\"url(#clip350)\" d=\"M 0 0 M704.606 1452.37 Q700.995 1452.37 699.166 1455.94 Q697.36 1459.48 697.36 1466.61 Q697.36 1473.71 699.166 1477.28 Q700.995 1480.82 704.606 1480.82 Q708.24 1480.82 710.046 1477.28 Q711.874 1473.71 711.874 1466.61 Q711.874 1459.48 710.046 1455.94 Q708.24 1452.37 704.606 1452.37 M704.606 1448.67 Q710.416 1448.67 713.471 1453.27 Q716.55 1457.86 716.55 1466.61 Q716.55 1475.33 713.471 1479.94 Q710.416 1484.52 704.606 1484.52 Q698.796 1484.52 695.717 1479.94 Q692.661 1475.33 692.661 1466.61 Q692.661 1457.86 695.717 1453.27 Q698.796 1448.67 704.606 1448.67 Z\" fill=\"#000000\" fill-rule=\"evenodd\" fill-opacity=\"1\" /><path clip-path=\"url(#clip350)\" d=\"M 0 0 M1027.03 1453.37 L1015.23 1471.81 L1027.03 1471.81 L1027.03 1453.37 M1025.8 1449.29 L1031.68 1449.29 L1031.68 1471.81 L1036.61 1471.81 L1036.61 1475.7 L1031.68 1475.7 L1031.68 1483.85 L1027.03 1483.85 L1027.03 1475.7 L1011.43 1475.7 L1011.43 1471.19 L1025.8 1449.29 Z\" fill=\"#000000\" fill-rule=\"evenodd\" fill-opacity=\"1\" /><path clip-path=\"url(#clip350)\" d=\"M 0 0 M1054.35 1452.37 Q1050.73 1452.37 1048.91 1455.94 Q1047.1 1459.48 1047.1 1466.61 Q1047.1 1473.71 1048.91 1477.28 Q1050.73 1480.82 1054.35 1480.82 Q1057.98 1480.82 1059.79 1477.28 Q1061.61 1473.71 1061.61 1466.61 Q1061.61 1459.48 1059.79 1455.94 Q1057.98 1452.37 1054.35 1452.37 M1054.35 1448.67 Q1060.16 1448.67 1063.21 1453.27 Q1066.29 1457.86 1066.29 1466.61 Q1066.29 1475.33 1063.21 1479.94 Q1060.16 1484.52 1054.35 1484.52 Q1048.54 1484.52 1045.46 1479.94 Q1042.4 1475.33 1042.4 1466.61 Q1042.4 1457.86 1045.46 1453.27 Q1048.54 1448.67 1054.35 1448.67 Z\" fill=\"#000000\" fill-rule=\"evenodd\" fill-opacity=\"1\" /><path clip-path=\"url(#clip350)\" d=\"M 0 0 M1084.51 1452.37 Q1080.9 1452.37 1079.07 1455.94 Q1077.26 1459.48 1077.26 1466.61 Q1077.26 1473.71 1079.07 1477.28 Q1080.9 1480.82 1084.51 1480.82 Q1088.14 1480.82 1089.95 1477.28 Q1091.78 1473.71 1091.78 1466.61 Q1091.78 1459.48 1089.95 1455.94 Q1088.14 1452.37 1084.51 1452.37 M1084.51 1448.67 Q1090.32 1448.67 1093.37 1453.27 Q1096.45 1457.86 1096.45 1466.61 Q1096.45 1475.33 1093.37 1479.94 Q1090.32 1484.52 1084.51 1484.52 Q1078.7 1484.52 1075.62 1479.94 Q1072.56 1475.33 1072.56 1466.61 Q1072.56 1457.86 1075.62 1453.27 Q1078.7 1448.67 1084.51 1448.67 Z\" fill=\"#000000\" fill-rule=\"evenodd\" fill-opacity=\"1\" /><path clip-path=\"url(#clip350)\" d=\"M 0 0 M1114.67 1452.37 Q1111.06 1452.37 1109.23 1455.94 Q1107.42 1459.48 1107.42 1466.61 Q1107.42 1473.71 1109.23 1477.28 Q1111.06 1480.82 1114.67 1480.82 Q1118.3 1480.82 1120.11 1477.28 Q1121.94 1473.71 1121.94 1466.61 Q1121.94 1459.48 1120.11 1455.94 Q1118.3 1452.37 1114.67 1452.37 M1114.67 1448.67 Q1120.48 1448.67 1123.53 1453.27 Q1126.61 1457.86 1126.61 1466.61 Q1126.61 1475.33 1123.53 1479.94 Q1120.48 1484.52 1114.67 1484.52 Q1108.86 1484.52 1105.78 1479.94 Q1102.72 1475.33 1102.72 1466.61 Q1102.72 1457.86 1105.78 1453.27 Q1108.86 1448.67 1114.67 1448.67 Z\" fill=\"#000000\" fill-rule=\"evenodd\" fill-opacity=\"1\" /><path clip-path=\"url(#clip350)\" d=\"M 0 0 M1433.75 1464.71 Q1430.6 1464.71 1428.75 1466.86 Q1426.92 1469.01 1426.92 1472.76 Q1426.92 1476.49 1428.75 1478.67 Q1430.6 1480.82 1433.75 1480.82 Q1436.9 1480.82 1438.73 1478.67 Q1440.58 1476.49 1440.58 1472.76 Q1440.58 1469.01 1438.73 1466.86 Q1436.9 1464.71 1433.75 1464.71 M1443.03 1450.06 L1443.03 1454.31 Q1441.27 1453.48 1439.47 1453.04 Q1437.68 1452.6 1435.93 1452.6 Q1431.3 1452.6 1428.84 1455.73 Q1426.41 1458.85 1426.06 1465.17 Q1427.43 1463.16 1429.49 1462.09 Q1431.55 1461 1434.03 1461 Q1439.24 1461 1442.24 1464.18 Q1445.28 1467.32 1445.28 1472.76 Q1445.28 1478.09 1442.13 1481.31 Q1438.98 1484.52 1433.75 1484.52 Q1427.75 1484.52 1424.58 1479.94 Q1421.41 1475.33 1421.41 1466.61 Q1421.41 1458.41 1425.3 1453.55 Q1429.19 1448.67 1435.74 1448.67 Q1437.5 1448.67 1439.28 1449.01 Q1441.09 1449.36 1443.03 1450.06 Z\" fill=\"#000000\" fill-rule=\"evenodd\" fill-opacity=\"1\" /><path clip-path=\"url(#clip350)\" d=\"M 0 0 M1463.33 1452.37 Q1459.72 1452.37 1457.89 1455.94 Q1456.09 1459.48 1456.09 1466.61 Q1456.09 1473.71 1457.89 1477.28 Q1459.72 1480.82 1463.33 1480.82 Q1466.97 1480.82 1468.77 1477.28 Q1470.6 1473.71 1470.6 1466.61 Q1470.6 1459.48 1468.77 1455.94 Q1466.97 1452.37 1463.33 1452.37 M1463.33 1448.67 Q1469.14 1448.67 1472.2 1453.27 Q1475.28 1457.86 1475.28 1466.61 Q1475.28 1475.33 1472.2 1479.94 Q1469.14 1484.52 1463.33 1484.52 Q1457.52 1484.52 1454.44 1479.94 Q1451.39 1475.33 1451.39 1466.61 Q1451.39 1457.86 1454.44 1453.27 Q1457.52 1448.67 1463.33 1448.67 Z\" fill=\"#000000\" fill-rule=\"evenodd\" fill-opacity=\"1\" /><path clip-path=\"url(#clip350)\" d=\"M 0 0 M1493.49 1452.37 Q1489.88 1452.37 1488.05 1455.94 Q1486.25 1459.48 1486.25 1466.61 Q1486.25 1473.71 1488.05 1477.28 Q1489.88 1480.82 1493.49 1480.82 Q1497.13 1480.82 1498.93 1477.28 Q1500.76 1473.71 1500.76 1466.61 Q1500.76 1459.48 1498.93 1455.94 Q1497.13 1452.37 1493.49 1452.37 M1493.49 1448.67 Q1499.3 1448.67 1502.36 1453.27 Q1505.44 1457.86 1505.44 1466.61 Q1505.44 1475.33 1502.36 1479.94 Q1499.3 1484.52 1493.49 1484.52 Q1487.68 1484.52 1484.61 1479.94 Q1481.55 1475.33 1481.55 1466.61 Q1481.55 1457.86 1484.61 1453.27 Q1487.68 1448.67 1493.49 1448.67 Z\" fill=\"#000000\" fill-rule=\"evenodd\" fill-opacity=\"1\" /><path clip-path=\"url(#clip350)\" d=\"M 0 0 M1523.66 1452.37 Q1520.05 1452.37 1518.22 1455.94 Q1516.41 1459.48 1516.41 1466.61 Q1516.41 1473.71 1518.22 1477.28 Q1520.05 1480.82 1523.66 1480.82 Q1527.29 1480.82 1529.1 1477.28 Q1530.92 1473.71 1530.92 1466.61 Q1530.92 1459.48 1529.1 1455.94 Q1527.29 1452.37 1523.66 1452.37 M1523.66 1448.67 Q1529.47 1448.67 1532.52 1453.27 Q1535.6 1457.86 1535.6 1466.61 Q1535.6 1475.33 1532.52 1479.94 Q1529.47 1484.52 1523.66 1484.52 Q1517.85 1484.52 1514.77 1479.94 Q1511.71 1475.33 1511.71 1466.61 Q1511.71 1457.86 1514.77 1453.27 Q1517.85 1448.67 1523.66 1448.67 Z\" fill=\"#000000\" fill-rule=\"evenodd\" fill-opacity=\"1\" /><path clip-path=\"url(#clip350)\" d=\"M 0 0 M1842.7 1467.44 Q1839.37 1467.44 1837.45 1469.22 Q1835.55 1471 1835.55 1474.13 Q1835.55 1477.25 1837.45 1479.04 Q1839.37 1480.82 1842.7 1480.82 Q1846.03 1480.82 1847.96 1479.04 Q1849.88 1477.23 1849.88 1474.13 Q1849.88 1471 1847.96 1469.22 Q1846.06 1467.44 1842.7 1467.44 M1838.03 1465.45 Q1835.02 1464.71 1833.33 1462.65 Q1831.66 1460.59 1831.66 1457.63 Q1831.66 1453.48 1834.6 1451.07 Q1837.56 1448.67 1842.7 1448.67 Q1847.86 1448.67 1850.8 1451.07 Q1853.74 1453.48 1853.74 1457.63 Q1853.74 1460.59 1852.05 1462.65 Q1850.39 1464.71 1847.4 1465.45 Q1850.78 1466.24 1852.66 1468.53 Q1854.55 1470.82 1854.55 1474.13 Q1854.55 1479.15 1851.47 1481.84 Q1848.42 1484.52 1842.7 1484.52 Q1836.98 1484.52 1833.91 1481.84 Q1830.85 1479.15 1830.85 1474.13 Q1830.85 1470.82 1832.75 1468.53 Q1834.65 1466.24 1838.03 1465.45 M1836.31 1458.06 Q1836.31 1460.75 1837.98 1462.25 Q1839.67 1463.76 1842.7 1463.76 Q1845.71 1463.76 1847.4 1462.25 Q1849.11 1460.75 1849.11 1458.06 Q1849.11 1455.38 1847.4 1453.88 Q1845.71 1452.37 1842.7 1452.37 Q1839.67 1452.37 1837.98 1453.88 Q1836.31 1455.38 1836.31 1458.06 Z\" fill=\"#000000\" fill-rule=\"evenodd\" fill-opacity=\"1\" /><path clip-path=\"url(#clip350)\" d=\"M 0 0 M1872.86 1452.37 Q1869.25 1452.37 1867.42 1455.94 Q1865.62 1459.48 1865.62 1466.61 Q1865.62 1473.71 1867.42 1477.28 Q1869.25 1480.82 1872.86 1480.82 Q1876.5 1480.82 1878.3 1477.28 Q1880.13 1473.71 1880.13 1466.61 Q1880.13 1459.48 1878.3 1455.94 Q1876.5 1452.37 1872.86 1452.37 M1872.86 1448.67 Q1878.67 1448.67 1881.73 1453.27 Q1884.81 1457.86 1884.81 1466.61 Q1884.81 1475.33 1881.73 1479.94 Q1878.67 1484.52 1872.86 1484.52 Q1867.05 1484.52 1863.97 1479.94 Q1860.92 1475.33 1860.92 1466.61 Q1860.92 1457.86 1863.97 1453.27 Q1867.05 1448.67 1872.86 1448.67 Z\" fill=\"#000000\" fill-rule=\"evenodd\" fill-opacity=\"1\" /><path clip-path=\"url(#clip350)\" d=\"M 0 0 M1903.03 1452.37 Q1899.41 1452.37 1897.59 1455.94 Q1895.78 1459.48 1895.78 1466.61 Q1895.78 1473.71 1897.59 1477.28 Q1899.41 1480.82 1903.03 1480.82 Q1906.66 1480.82 1908.47 1477.28 Q1910.29 1473.71 1910.29 1466.61 Q1910.29 1459.48 1908.47 1455.94 Q1906.66 1452.37 1903.03 1452.37 M1903.03 1448.67 Q1908.84 1448.67 1911.89 1453.27 Q1914.97 1457.86 1914.97 1466.61 Q1914.97 1475.33 1911.89 1479.94 Q1908.84 1484.52 1903.03 1484.52 Q1897.22 1484.52 1894.14 1479.94 Q1891.08 1475.33 1891.08 1466.61 Q1891.08 1457.86 1894.14 1453.27 Q1897.22 1448.67 1903.03 1448.67 Z\" fill=\"#000000\" fill-rule=\"evenodd\" fill-opacity=\"1\" /><path clip-path=\"url(#clip350)\" d=\"M 0 0 M1933.19 1452.37 Q1929.58 1452.37 1927.75 1455.94 Q1925.94 1459.48 1925.94 1466.61 Q1925.94 1473.71 1927.75 1477.28 Q1929.58 1480.82 1933.19 1480.82 Q1936.82 1480.82 1938.63 1477.28 Q1940.46 1473.71 1940.46 1466.61 Q1940.46 1459.48 1938.63 1455.94 Q1936.82 1452.37 1933.19 1452.37 M1933.19 1448.67 Q1939 1448.67 1942.05 1453.27 Q1945.13 1457.86 1945.13 1466.61 Q1945.13 1475.33 1942.05 1479.94 Q1939 1484.52 1933.19 1484.52 Q1927.38 1484.52 1924.3 1479.94 Q1921.24 1475.33 1921.24 1466.61 Q1921.24 1457.86 1924.3 1453.27 Q1927.38 1448.67 1933.19 1448.67 Z\" fill=\"#000000\" fill-rule=\"evenodd\" fill-opacity=\"1\" /><path clip-path=\"url(#clip350)\" d=\"M 0 0 M2226.92 1479.92 L2234.56 1479.92 L2234.56 1453.55 L2226.25 1455.22 L2226.25 1450.96 L2234.51 1449.29 L2239.19 1449.29 L2239.19 1479.92 L2246.83 1479.92 L2246.83 1483.85 L2226.92 1483.85 L2226.92 1479.92 Z\" fill=\"#000000\" fill-rule=\"evenodd\" fill-opacity=\"1\" /><path clip-path=\"url(#clip350)\" d=\"M 0 0 M2266.27 1452.37 Q2262.66 1452.37 2260.83 1455.94 Q2259.03 1459.48 2259.03 1466.61 Q2259.03 1473.71 2260.83 1477.28 Q2262.66 1480.82 2266.27 1480.82 Q2269.91 1480.82 2271.71 1477.28 Q2273.54 1473.71 2273.54 1466.61 Q2273.54 1459.48 2271.71 1455.94 Q2269.91 1452.37 2266.27 1452.37 M2266.27 1448.67 Q2272.08 1448.67 2275.14 1453.27 Q2278.22 1457.86 2278.22 1466.61 Q2278.22 1475.33 2275.14 1479.94 Q2272.08 1484.52 2266.27 1484.52 Q2260.46 1484.52 2257.38 1479.94 Q2254.33 1475.33 2254.33 1466.61 Q2254.33 1457.86 2257.38 1453.27 Q2260.46 1448.67 2266.27 1448.67 Z\" fill=\"#000000\" fill-rule=\"evenodd\" fill-opacity=\"1\" /><path clip-path=\"url(#clip350)\" d=\"M 0 0 M2296.43 1452.37 Q2292.82 1452.37 2290.99 1455.94 Q2289.19 1459.48 2289.19 1466.61 Q2289.19 1473.71 2290.99 1477.28 Q2292.82 1480.82 2296.43 1480.82 Q2300.07 1480.82 2301.87 1477.28 Q2303.7 1473.71 2303.7 1466.61 Q2303.7 1459.48 2301.87 1455.94 Q2300.07 1452.37 2296.43 1452.37 M2296.43 1448.67 Q2302.24 1448.67 2305.3 1453.27 Q2308.38 1457.86 2308.38 1466.61 Q2308.38 1475.33 2305.3 1479.94 Q2302.24 1484.52 2296.43 1484.52 Q2290.62 1484.52 2287.54 1479.94 Q2284.49 1475.33 2284.49 1466.61 Q2284.49 1457.86 2287.54 1453.27 Q2290.62 1448.67 2296.43 1448.67 Z\" fill=\"#000000\" fill-rule=\"evenodd\" fill-opacity=\"1\" /><path clip-path=\"url(#clip350)\" d=\"M 0 0 M2326.6 1452.37 Q2322.98 1452.37 2321.16 1455.94 Q2319.35 1459.48 2319.35 1466.61 Q2319.35 1473.71 2321.16 1477.28 Q2322.98 1480.82 2326.6 1480.82 Q2330.23 1480.82 2332.04 1477.28 Q2333.86 1473.71 2333.86 1466.61 Q2333.86 1459.48 2332.04 1455.94 Q2330.23 1452.37 2326.6 1452.37 M2326.6 1448.67 Q2332.41 1448.67 2335.46 1453.27 Q2338.54 1457.86 2338.54 1466.61 Q2338.54 1475.33 2335.46 1479.94 Q2332.41 1484.52 2326.6 1484.52 Q2320.79 1484.52 2317.71 1479.94 Q2314.65 1475.33 2314.65 1466.61 Q2314.65 1457.86 2317.71 1453.27 Q2320.79 1448.67 2326.6 1448.67 Z\" fill=\"#000000\" fill-rule=\"evenodd\" fill-opacity=\"1\" /><path clip-path=\"url(#clip350)\" d=\"M 0 0 M2356.76 1452.37 Q2353.15 1452.37 2351.32 1455.94 Q2349.51 1459.48 2349.51 1466.61 Q2349.51 1473.71 2351.32 1477.28 Q2353.15 1480.82 2356.76 1480.82 Q2360.39 1480.82 2362.2 1477.28 Q2364.03 1473.71 2364.03 1466.61 Q2364.03 1459.48 2362.2 1455.94 Q2360.39 1452.37 2356.76 1452.37 M2356.76 1448.67 Q2362.57 1448.67 2365.62 1453.27 Q2368.7 1457.86 2368.7 1466.61 Q2368.7 1475.33 2365.62 1479.94 Q2362.57 1484.52 2356.76 1484.52 Q2350.95 1484.52 2347.87 1479.94 Q2344.81 1475.33 2344.81 1466.61 Q2344.81 1457.86 2347.87 1453.27 Q2350.95 1448.67 2356.76 1448.67 Z\" fill=\"#000000\" fill-rule=\"evenodd\" fill-opacity=\"1\" /><path clip-path=\"url(#clip350)\" d=\"M 0 0 M1199.58 1550.12 Q1192.48 1550.12 1189.75 1551.75 Q1187.01 1553.37 1187.01 1557.29 Q1187.01 1560.4 1189.05 1562.25 Q1191.12 1564.07 1194.65 1564.07 Q1199.52 1564.07 1202.45 1560.63 Q1205.41 1557.16 1205.41 1551.43 L1205.41 1550.12 L1199.58 1550.12 M1211.26 1547.71 L1211.26 1568.04 L1205.41 1568.04 L1205.41 1562.63 Q1203.4 1565.88 1200.41 1567.44 Q1197.42 1568.97 1193.09 1568.97 Q1187.61 1568.97 1184.37 1565.91 Q1181.15 1562.82 1181.15 1557.67 Q1181.15 1551.65 1185.16 1548.6 Q1189.21 1545.54 1197.19 1545.54 L1205.41 1545.54 L1205.41 1544.97 Q1205.41 1540.93 1202.73 1538.73 Q1200.09 1536.5 1195.29 1536.5 Q1192.23 1536.5 1189.33 1537.23 Q1186.44 1537.97 1183.76 1539.43 L1183.76 1534.02 Q1186.98 1532.78 1190 1532.17 Q1193.03 1531.54 1195.89 1531.54 Q1203.62 1531.54 1207.44 1535.55 Q1211.26 1539.56 1211.26 1547.71 Z\" fill=\"#000000\" fill-rule=\"evenodd\" fill-opacity=\"1\" /><path clip-path=\"url(#clip350)\" d=\"M 0 0 M1243.98 1537.87 Q1243 1537.3 1241.82 1537.04 Q1240.67 1536.76 1239.27 1536.76 Q1234.31 1536.76 1231.63 1540 Q1228.99 1543.22 1228.99 1549.27 L1228.99 1568.04 L1223.1 1568.04 L1223.1 1532.4 L1228.99 1532.4 L1228.99 1537.93 Q1230.84 1534.69 1233.8 1533.13 Q1236.76 1531.54 1240.99 1531.54 Q1241.6 1531.54 1242.33 1531.63 Q1243.06 1531.7 1243.95 1531.85 L1243.98 1537.87 Z\" fill=\"#000000\" fill-rule=\"evenodd\" fill-opacity=\"1\" /><path clip-path=\"url(#clip350)\" d=\"M 0 0 M1269.64 1537.87 Q1268.65 1537.3 1267.47 1537.04 Q1266.33 1536.76 1264.93 1536.76 Q1259.96 1536.76 1257.29 1540 Q1254.65 1543.22 1254.65 1549.27 L1254.65 1568.04 L1248.76 1568.04 L1248.76 1532.4 L1254.65 1532.4 L1254.65 1537.93 Q1256.49 1534.69 1259.45 1533.13 Q1262.41 1531.54 1266.64 1531.54 Q1267.25 1531.54 1267.98 1531.63 Q1268.71 1531.7 1269.6 1531.85 L1269.64 1537.87 Z\" fill=\"#000000\" fill-rule=\"evenodd\" fill-opacity=\"1\" /><path clip-path=\"url(#clip350)\" d=\"M 0 0 M1291.98 1550.12 Q1284.88 1550.12 1282.15 1551.75 Q1279.41 1553.37 1279.41 1557.29 Q1279.41 1560.4 1281.44 1562.25 Q1283.51 1564.07 1287.05 1564.07 Q1291.92 1564.07 1294.84 1560.63 Q1297.8 1557.16 1297.8 1551.43 L1297.8 1550.12 L1291.98 1550.12 M1303.66 1547.71 L1303.66 1568.04 L1297.8 1568.04 L1297.8 1562.63 Q1295.8 1565.88 1292.81 1567.44 Q1289.82 1568.97 1285.49 1568.97 Q1280.01 1568.97 1276.77 1565.91 Q1273.55 1562.82 1273.55 1557.67 Q1273.55 1551.65 1277.56 1548.6 Q1281.6 1545.54 1289.59 1545.54 L1297.8 1545.54 L1297.8 1544.97 Q1297.8 1540.93 1295.13 1538.73 Q1292.49 1536.5 1287.68 1536.5 Q1284.63 1536.5 1281.73 1537.23 Q1278.83 1537.97 1276.16 1539.43 L1276.16 1534.02 Q1279.38 1532.78 1282.4 1532.17 Q1285.42 1531.54 1288.29 1531.54 Q1296.02 1531.54 1299.84 1535.55 Q1303.66 1539.56 1303.66 1547.71 Z\" fill=\"#000000\" fill-rule=\"evenodd\" fill-opacity=\"1\" /><path clip-path=\"url(#clip350)\" d=\"M 0 0 M1330.56 1571.35 Q1328.07 1577.72 1325.72 1579.66 Q1323.36 1581.6 1319.42 1581.6 L1314.74 1581.6 L1314.74 1576.7 L1318.18 1576.7 Q1320.59 1576.7 1321.93 1575.56 Q1323.27 1574.41 1324.89 1570.14 L1325.94 1567.47 L1311.52 1532.4 L1317.73 1532.4 L1328.87 1560.28 L1340.01 1532.4 L1346.22 1532.4 L1330.56 1571.35 Z\" fill=\"#000000\" fill-rule=\"evenodd\" fill-opacity=\"1\" /><path clip-path=\"url(#clip350)\" d=\"M 0 0 M1375.02 1518.52 L1380.88 1518.52 L1380.88 1568.04 L1375.02 1568.04 L1375.02 1518.52 Z\" fill=\"#000000\" fill-rule=\"evenodd\" fill-opacity=\"1\" /><path clip-path=\"url(#clip350)\" d=\"M 0 0 M1423.62 1548.76 L1423.62 1551.62 L1396.7 1551.62 Q1397.08 1557.67 1400.32 1560.85 Q1403.6 1564 1409.43 1564 Q1412.8 1564 1415.95 1563.17 Q1419.14 1562.35 1422.25 1560.69 L1422.25 1566.23 Q1419.1 1567.57 1415.79 1568.27 Q1412.48 1568.97 1409.08 1568.97 Q1400.55 1568.97 1395.55 1564 Q1390.58 1559.04 1390.58 1550.57 Q1390.58 1541.82 1395.3 1536.69 Q1400.04 1531.54 1408.06 1531.54 Q1415.25 1531.54 1419.42 1536.18 Q1423.62 1540.8 1423.62 1548.76 M1417.77 1547.04 Q1417.7 1542.23 1415.06 1539.37 Q1412.45 1536.5 1408.12 1536.5 Q1403.22 1536.5 1400.26 1539.27 Q1397.33 1542.04 1396.89 1547.07 L1417.77 1547.04 Z\" fill=\"#000000\" fill-rule=\"evenodd\" fill-opacity=\"1\" /><path clip-path=\"url(#clip350)\" d=\"M 0 0 M1462.87 1546.53 L1462.87 1568.04 L1457.01 1568.04 L1457.01 1546.72 Q1457.01 1541.66 1455.04 1539.14 Q1453.06 1536.63 1449.12 1536.63 Q1444.38 1536.63 1441.64 1539.65 Q1438.9 1542.68 1438.9 1547.9 L1438.9 1568.04 L1433.01 1568.04 L1433.01 1532.4 L1438.9 1532.4 L1438.9 1537.93 Q1441 1534.72 1443.83 1533.13 Q1446.7 1531.54 1450.42 1531.54 Q1456.57 1531.54 1459.72 1535.36 Q1462.87 1539.14 1462.87 1546.53 Z\" fill=\"#000000\" fill-rule=\"evenodd\" fill-opacity=\"1\" /><path clip-path=\"url(#clip350)\" d=\"M 0 0 M1498.01 1549.81 Q1498.01 1543.44 1495.36 1539.94 Q1492.75 1536.44 1488.01 1536.44 Q1483.3 1536.44 1480.66 1539.94 Q1478.05 1543.44 1478.05 1549.81 Q1478.05 1556.14 1480.66 1559.64 Q1483.3 1563.14 1488.01 1563.14 Q1492.75 1563.14 1495.36 1559.64 Q1498.01 1556.14 1498.01 1549.81 M1503.86 1563.62 Q1503.86 1572.72 1499.82 1577.15 Q1495.78 1581.6 1487.44 1581.6 Q1484.35 1581.6 1481.61 1581.13 Q1478.88 1580.68 1476.3 1579.72 L1476.3 1574.03 Q1478.88 1575.43 1481.39 1576.1 Q1483.91 1576.76 1486.52 1576.76 Q1492.28 1576.76 1495.14 1573.74 Q1498.01 1570.75 1498.01 1564.67 L1498.01 1561.77 Q1496.19 1564.92 1493.36 1566.48 Q1490.53 1568.04 1486.58 1568.04 Q1480.02 1568.04 1476.01 1563.05 Q1472 1558.05 1472 1549.81 Q1472 1541.53 1476.01 1536.53 Q1480.02 1531.54 1486.58 1531.54 Q1490.53 1531.54 1493.36 1533.1 Q1496.19 1534.66 1498.01 1537.81 L1498.01 1532.4 L1503.86 1532.4 L1503.86 1563.62 Z\" fill=\"#000000\" fill-rule=\"evenodd\" fill-opacity=\"1\" /><path clip-path=\"url(#clip350)\" d=\"M 0 0 M1521.72 1522.27 L1521.72 1532.4 L1533.78 1532.4 L1533.78 1536.95 L1521.72 1536.95 L1521.72 1556.3 Q1521.72 1560.66 1522.9 1561.9 Q1524.11 1563.14 1527.77 1563.14 L1533.78 1563.14 L1533.78 1568.04 L1527.77 1568.04 Q1520.99 1568.04 1518.41 1565.53 Q1515.83 1562.98 1515.83 1556.3 L1515.83 1536.95 L1511.53 1536.95 L1511.53 1532.4 L1515.83 1532.4 L1515.83 1522.27 L1521.72 1522.27 Z\" fill=\"#000000\" fill-rule=\"evenodd\" fill-opacity=\"1\" /><path clip-path=\"url(#clip350)\" d=\"M 0 0 M1571.12 1546.53 L1571.12 1568.04 L1565.26 1568.04 L1565.26 1546.72 Q1565.26 1541.66 1563.29 1539.14 Q1561.31 1536.63 1557.37 1536.63 Q1552.62 1536.63 1549.89 1539.65 Q1547.15 1542.68 1547.15 1547.9 L1547.15 1568.04 L1541.26 1568.04 L1541.26 1518.52 L1547.15 1518.52 L1547.15 1537.93 Q1549.25 1534.72 1552.08 1533.13 Q1554.95 1531.54 1558.67 1531.54 Q1564.81 1531.54 1567.97 1535.36 Q1571.12 1539.14 1571.12 1546.53 Z\" fill=\"#000000\" fill-rule=\"evenodd\" fill-opacity=\"1\" /><polyline clip-path=\"url(#clip353)\" style=\"stroke:#000000; stroke-width:2; stroke-opacity:0.1; fill:none\" points=\"\n",
       "  399.514,1378.46 2352.76,1378.46 \n",
       "  \"/>\n",
       "<polyline clip-path=\"url(#clip353)\" style=\"stroke:#000000; stroke-width:2; stroke-opacity:0.1; fill:none\" points=\"\n",
       "  399.514,1301.16 2352.76,1301.16 \n",
       "  \"/>\n",
       "<polyline clip-path=\"url(#clip353)\" style=\"stroke:#000000; stroke-width:2; stroke-opacity:0.1; fill:none\" points=\"\n",
       "  399.514,1223.86 2352.76,1223.86 \n",
       "  \"/>\n",
       "<polyline clip-path=\"url(#clip353)\" style=\"stroke:#000000; stroke-width:2; stroke-opacity:0.1; fill:none\" points=\"\n",
       "  399.514,1146.56 2352.76,1146.56 \n",
       "  \"/>\n",
       "<polyline clip-path=\"url(#clip353)\" style=\"stroke:#000000; stroke-width:2; stroke-opacity:0.1; fill:none\" points=\"\n",
       "  399.514,1069.26 2352.76,1069.26 \n",
       "  \"/>\n",
       "<polyline clip-path=\"url(#clip353)\" style=\"stroke:#000000; stroke-width:2; stroke-opacity:0.1; fill:none\" points=\"\n",
       "  399.514,991.958 2352.76,991.958 \n",
       "  \"/>\n",
       "<polyline clip-path=\"url(#clip350)\" style=\"stroke:#000000; stroke-width:4; stroke-opacity:1; fill:none\" points=\"\n",
       "  399.514,1423.18 399.514,983.952 \n",
       "  \"/>\n",
       "<polyline clip-path=\"url(#clip350)\" style=\"stroke:#000000; stroke-width:4; stroke-opacity:1; fill:none\" points=\"\n",
       "  399.514,1378.46 422.953,1378.46 \n",
       "  \"/>\n",
       "<polyline clip-path=\"url(#clip350)\" style=\"stroke:#000000; stroke-width:4; stroke-opacity:1; fill:none\" points=\"\n",
       "  399.514,1301.16 422.953,1301.16 \n",
       "  \"/>\n",
       "<polyline clip-path=\"url(#clip350)\" style=\"stroke:#000000; stroke-width:4; stroke-opacity:1; fill:none\" points=\"\n",
       "  399.514,1223.86 422.953,1223.86 \n",
       "  \"/>\n",
       "<polyline clip-path=\"url(#clip350)\" style=\"stroke:#000000; stroke-width:4; stroke-opacity:1; fill:none\" points=\"\n",
       "  399.514,1146.56 422.953,1146.56 \n",
       "  \"/>\n",
       "<polyline clip-path=\"url(#clip350)\" style=\"stroke:#000000; stroke-width:4; stroke-opacity:1; fill:none\" points=\"\n",
       "  399.514,1069.26 422.953,1069.26 \n",
       "  \"/>\n",
       "<polyline clip-path=\"url(#clip350)\" style=\"stroke:#000000; stroke-width:4; stroke-opacity:1; fill:none\" points=\"\n",
       "  399.514,991.958 422.953,991.958 \n",
       "  \"/>\n",
       "<path clip-path=\"url(#clip350)\" d=\"M 0 0 M276.176 1364.26 Q272.565 1364.26 270.736 1367.82 Q268.931 1371.36 268.931 1378.49 Q268.931 1385.6 270.736 1389.16 Q272.565 1392.7 276.176 1392.7 Q279.81 1392.7 281.616 1389.16 Q283.445 1385.6 283.445 1378.49 Q283.445 1371.36 281.616 1367.82 Q279.81 1364.26 276.176 1364.26 M276.176 1360.55 Q281.986 1360.55 285.042 1365.16 Q288.121 1369.74 288.121 1378.49 Q288.121 1387.22 285.042 1391.82 Q281.986 1396.41 276.176 1396.41 Q270.366 1396.41 267.287 1391.82 Q264.232 1387.22 264.232 1378.49 Q264.232 1369.74 267.287 1365.16 Q270.366 1360.55 276.176 1360.55 Z\" fill=\"#000000\" fill-rule=\"evenodd\" fill-opacity=\"1\" /><path clip-path=\"url(#clip350)\" d=\"M 0 0 M296.338 1389.86 L301.222 1389.86 L301.222 1395.74 L296.338 1395.74 L296.338 1389.86 Z\" fill=\"#000000\" fill-rule=\"evenodd\" fill-opacity=\"1\" /><path clip-path=\"url(#clip350)\" d=\"M 0 0 M321.407 1364.26 Q317.796 1364.26 315.968 1367.82 Q314.162 1371.36 314.162 1378.49 Q314.162 1385.6 315.968 1389.16 Q317.796 1392.7 321.407 1392.7 Q325.042 1392.7 326.847 1389.16 Q328.676 1385.6 328.676 1378.49 Q328.676 1371.36 326.847 1367.82 Q325.042 1364.26 321.407 1364.26 M321.407 1360.55 Q327.218 1360.55 330.273 1365.16 Q333.352 1369.74 333.352 1378.49 Q333.352 1387.22 330.273 1391.82 Q327.218 1396.41 321.407 1396.41 Q315.597 1396.41 312.519 1391.82 Q309.463 1387.22 309.463 1378.49 Q309.463 1369.74 312.519 1365.16 Q315.597 1360.55 321.407 1360.55 Z\" fill=\"#000000\" fill-rule=\"evenodd\" fill-opacity=\"1\" /><path clip-path=\"url(#clip350)\" d=\"M 0 0 M351.569 1364.26 Q347.958 1364.26 346.13 1367.82 Q344.324 1371.36 344.324 1378.49 Q344.324 1385.6 346.13 1389.16 Q347.958 1392.7 351.569 1392.7 Q355.204 1392.7 357.009 1389.16 Q358.838 1385.6 358.838 1378.49 Q358.838 1371.36 357.009 1367.82 Q355.204 1364.26 351.569 1364.26 M351.569 1360.55 Q357.38 1360.55 360.435 1365.16 Q363.514 1369.74 363.514 1378.49 Q363.514 1387.22 360.435 1391.82 Q357.38 1396.41 351.569 1396.41 Q345.759 1396.41 342.681 1391.82 Q339.625 1387.22 339.625 1378.49 Q339.625 1369.74 342.681 1365.16 Q345.759 1360.55 351.569 1360.55 Z\" fill=\"#000000\" fill-rule=\"evenodd\" fill-opacity=\"1\" /><path clip-path=\"url(#clip350)\" d=\"M 0 0 M277.172 1286.96 Q273.561 1286.96 271.732 1290.52 Q269.926 1294.06 269.926 1301.19 Q269.926 1308.3 271.732 1311.86 Q273.561 1315.4 277.172 1315.4 Q280.806 1315.4 282.611 1311.86 Q284.44 1308.3 284.44 1301.19 Q284.44 1294.06 282.611 1290.52 Q280.806 1286.96 277.172 1286.96 M277.172 1283.25 Q282.982 1283.25 286.037 1287.86 Q289.116 1292.44 289.116 1301.19 Q289.116 1309.92 286.037 1314.52 Q282.982 1319.11 277.172 1319.11 Q271.361 1319.11 268.283 1314.52 Q265.227 1309.92 265.227 1301.19 Q265.227 1292.44 268.283 1287.86 Q271.361 1283.25 277.172 1283.25 Z\" fill=\"#000000\" fill-rule=\"evenodd\" fill-opacity=\"1\" /><path clip-path=\"url(#clip350)\" d=\"M 0 0 M297.334 1312.56 L302.218 1312.56 L302.218 1318.44 L297.334 1318.44 L297.334 1312.56 Z\" fill=\"#000000\" fill-rule=\"evenodd\" fill-opacity=\"1\" /><path clip-path=\"url(#clip350)\" d=\"M 0 0 M322.403 1286.96 Q318.792 1286.96 316.963 1290.52 Q315.158 1294.06 315.158 1301.19 Q315.158 1308.3 316.963 1311.86 Q318.792 1315.4 322.403 1315.4 Q326.037 1315.4 327.843 1311.86 Q329.671 1308.3 329.671 1301.19 Q329.671 1294.06 327.843 1290.52 Q326.037 1286.96 322.403 1286.96 M322.403 1283.25 Q328.213 1283.25 331.269 1287.86 Q334.347 1292.44 334.347 1301.19 Q334.347 1309.92 331.269 1314.52 Q328.213 1319.11 322.403 1319.11 Q316.593 1319.11 313.514 1314.52 Q310.458 1309.92 310.458 1301.19 Q310.458 1292.44 313.514 1287.86 Q316.593 1283.25 322.403 1283.25 Z\" fill=\"#000000\" fill-rule=\"evenodd\" fill-opacity=\"1\" /><path clip-path=\"url(#clip350)\" d=\"M 0 0 M342.611 1283.88 L360.967 1283.88 L360.967 1287.81 L346.893 1287.81 L346.893 1296.28 Q347.912 1295.94 348.93 1295.78 Q349.949 1295.59 350.968 1295.59 Q356.755 1295.59 360.134 1298.76 Q363.514 1301.93 363.514 1307.35 Q363.514 1312.93 360.042 1316.03 Q356.569 1319.11 350.25 1319.11 Q348.074 1319.11 345.806 1318.74 Q343.56 1318.37 341.153 1317.63 L341.153 1312.93 Q343.236 1314.06 345.458 1314.62 Q347.68 1315.17 350.157 1315.17 Q354.162 1315.17 356.5 1313.07 Q358.838 1310.96 358.838 1307.35 Q358.838 1303.74 356.5 1301.63 Q354.162 1299.52 350.157 1299.52 Q348.282 1299.52 346.407 1299.94 Q344.556 1300.36 342.611 1301.24 L342.611 1283.88 Z\" fill=\"#000000\" fill-rule=\"evenodd\" fill-opacity=\"1\" /><path clip-path=\"url(#clip350)\" d=\"M 0 0 M276.176 1209.66 Q272.565 1209.66 270.736 1213.22 Q268.931 1216.76 268.931 1223.89 Q268.931 1231 270.736 1234.56 Q272.565 1238.1 276.176 1238.1 Q279.81 1238.1 281.616 1234.56 Q283.445 1231 283.445 1223.89 Q283.445 1216.76 281.616 1213.22 Q279.81 1209.66 276.176 1209.66 M276.176 1205.95 Q281.986 1205.95 285.042 1210.56 Q288.121 1215.14 288.121 1223.89 Q288.121 1232.62 285.042 1237.23 Q281.986 1241.81 276.176 1241.81 Q270.366 1241.81 267.287 1237.23 Q264.232 1232.62 264.232 1223.89 Q264.232 1215.14 267.287 1210.56 Q270.366 1205.95 276.176 1205.95 Z\" fill=\"#000000\" fill-rule=\"evenodd\" fill-opacity=\"1\" /><path clip-path=\"url(#clip350)\" d=\"M 0 0 M296.338 1235.26 L301.222 1235.26 L301.222 1241.14 L296.338 1241.14 L296.338 1235.26 Z\" fill=\"#000000\" fill-rule=\"evenodd\" fill-opacity=\"1\" /><path clip-path=\"url(#clip350)\" d=\"M 0 0 M312.218 1237.2 L319.857 1237.2 L319.857 1210.84 L311.546 1212.5 L311.546 1208.24 L319.81 1206.58 L324.486 1206.58 L324.486 1237.2 L332.125 1237.2 L332.125 1241.14 L312.218 1241.14 L312.218 1237.2 Z\" fill=\"#000000\" fill-rule=\"evenodd\" fill-opacity=\"1\" /><path clip-path=\"url(#clip350)\" d=\"M 0 0 M351.569 1209.66 Q347.958 1209.66 346.13 1213.22 Q344.324 1216.76 344.324 1223.89 Q344.324 1231 346.13 1234.56 Q347.958 1238.1 351.569 1238.1 Q355.204 1238.1 357.009 1234.56 Q358.838 1231 358.838 1223.89 Q358.838 1216.76 357.009 1213.22 Q355.204 1209.66 351.569 1209.66 M351.569 1205.95 Q357.38 1205.95 360.435 1210.56 Q363.514 1215.14 363.514 1223.89 Q363.514 1232.62 360.435 1237.23 Q357.38 1241.81 351.569 1241.81 Q345.759 1241.81 342.681 1237.23 Q339.625 1232.62 339.625 1223.89 Q339.625 1215.14 342.681 1210.56 Q345.759 1205.95 351.569 1205.95 Z\" fill=\"#000000\" fill-rule=\"evenodd\" fill-opacity=\"1\" /><path clip-path=\"url(#clip350)\" d=\"M 0 0 M277.172 1132.36 Q273.561 1132.36 271.732 1135.92 Q269.926 1139.46 269.926 1146.59 Q269.926 1153.7 271.732 1157.26 Q273.561 1160.81 277.172 1160.81 Q280.806 1160.81 282.611 1157.26 Q284.44 1153.7 284.44 1146.59 Q284.44 1139.46 282.611 1135.92 Q280.806 1132.36 277.172 1132.36 M277.172 1128.65 Q282.982 1128.65 286.037 1133.26 Q289.116 1137.84 289.116 1146.59 Q289.116 1155.32 286.037 1159.93 Q282.982 1164.51 277.172 1164.51 Q271.361 1164.51 268.283 1159.93 Q265.227 1155.32 265.227 1146.59 Q265.227 1137.84 268.283 1133.26 Q271.361 1128.65 277.172 1128.65 Z\" fill=\"#000000\" fill-rule=\"evenodd\" fill-opacity=\"1\" /><path clip-path=\"url(#clip350)\" d=\"M 0 0 M297.334 1157.96 L302.218 1157.96 L302.218 1163.84 L297.334 1163.84 L297.334 1157.96 Z\" fill=\"#000000\" fill-rule=\"evenodd\" fill-opacity=\"1\" /><path clip-path=\"url(#clip350)\" d=\"M 0 0 M313.213 1159.9 L320.852 1159.9 L320.852 1133.54 L312.542 1135.2 L312.542 1130.94 L320.806 1129.28 L325.482 1129.28 L325.482 1159.9 L333.12 1159.9 L333.12 1163.84 L313.213 1163.84 L313.213 1159.9 Z\" fill=\"#000000\" fill-rule=\"evenodd\" fill-opacity=\"1\" /><path clip-path=\"url(#clip350)\" d=\"M 0 0 M342.611 1129.28 L360.967 1129.28 L360.967 1133.21 L346.893 1133.21 L346.893 1141.69 Q347.912 1141.34 348.93 1141.18 Q349.949 1140.99 350.968 1140.99 Q356.755 1140.99 360.134 1144.16 Q363.514 1147.33 363.514 1152.75 Q363.514 1158.33 360.042 1161.43 Q356.569 1164.51 350.25 1164.51 Q348.074 1164.51 345.806 1164.14 Q343.56 1163.77 341.153 1163.03 L341.153 1158.33 Q343.236 1159.46 345.458 1160.02 Q347.68 1160.57 350.157 1160.57 Q354.162 1160.57 356.5 1158.47 Q358.838 1156.36 358.838 1152.75 Q358.838 1149.14 356.5 1147.03 Q354.162 1144.93 350.157 1144.93 Q348.282 1144.93 346.407 1145.34 Q344.556 1145.76 342.611 1146.64 L342.611 1129.28 Z\" fill=\"#000000\" fill-rule=\"evenodd\" fill-opacity=\"1\" /><path clip-path=\"url(#clip350)\" d=\"M 0 0 M276.176 1055.06 Q272.565 1055.06 270.736 1058.62 Q268.931 1062.16 268.931 1069.29 Q268.931 1076.4 270.736 1079.96 Q272.565 1083.51 276.176 1083.51 Q279.81 1083.51 281.616 1079.96 Q283.445 1076.4 283.445 1069.29 Q283.445 1062.16 281.616 1058.62 Q279.81 1055.06 276.176 1055.06 M276.176 1051.35 Q281.986 1051.35 285.042 1055.96 Q288.121 1060.54 288.121 1069.29 Q288.121 1078.02 285.042 1082.63 Q281.986 1087.21 276.176 1087.21 Q270.366 1087.21 267.287 1082.63 Q264.232 1078.02 264.232 1069.29 Q264.232 1060.54 267.287 1055.96 Q270.366 1051.35 276.176 1051.35 Z\" fill=\"#000000\" fill-rule=\"evenodd\" fill-opacity=\"1\" /><path clip-path=\"url(#clip350)\" d=\"M 0 0 M296.338 1080.66 L301.222 1080.66 L301.222 1086.54 L296.338 1086.54 L296.338 1080.66 Z\" fill=\"#000000\" fill-rule=\"evenodd\" fill-opacity=\"1\" /><path clip-path=\"url(#clip350)\" d=\"M 0 0 M315.435 1082.6 L331.755 1082.6 L331.755 1086.54 L309.81 1086.54 L309.81 1082.6 Q312.472 1079.85 317.056 1075.22 Q321.662 1070.57 322.843 1069.22 Q325.088 1066.7 325.968 1064.96 Q326.87 1063.2 326.87 1061.52 Q326.87 1058.76 324.926 1057.02 Q323.005 1055.29 319.903 1055.29 Q317.704 1055.29 315.25 1056.05 Q312.82 1056.82 310.042 1058.37 L310.042 1053.64 Q312.866 1052.51 315.32 1051.93 Q317.773 1051.35 319.81 1051.35 Q325.181 1051.35 328.375 1054.04 Q331.569 1056.72 331.569 1061.21 Q331.569 1063.34 330.759 1065.27 Q329.972 1067.16 327.866 1069.76 Q327.287 1070.43 324.185 1073.64 Q321.083 1076.84 315.435 1082.6 Z\" fill=\"#000000\" fill-rule=\"evenodd\" fill-opacity=\"1\" /><path clip-path=\"url(#clip350)\" d=\"M 0 0 M351.569 1055.06 Q347.958 1055.06 346.13 1058.62 Q344.324 1062.16 344.324 1069.29 Q344.324 1076.4 346.13 1079.96 Q347.958 1083.51 351.569 1083.51 Q355.204 1083.51 357.009 1079.96 Q358.838 1076.4 358.838 1069.29 Q358.838 1062.16 357.009 1058.62 Q355.204 1055.06 351.569 1055.06 M351.569 1051.35 Q357.38 1051.35 360.435 1055.96 Q363.514 1060.54 363.514 1069.29 Q363.514 1078.02 360.435 1082.63 Q357.38 1087.21 351.569 1087.21 Q345.759 1087.21 342.681 1082.63 Q339.625 1078.02 339.625 1069.29 Q339.625 1060.54 342.681 1055.96 Q345.759 1051.35 351.569 1051.35 Z\" fill=\"#000000\" fill-rule=\"evenodd\" fill-opacity=\"1\" /><path clip-path=\"url(#clip350)\" d=\"M 0 0 M277.172 977.757 Q273.561 977.757 271.732 981.322 Q269.926 984.864 269.926 991.993 Q269.926 999.1 271.732 1002.66 Q273.561 1006.21 277.172 1006.21 Q280.806 1006.21 282.611 1002.66 Q284.44 999.1 284.44 991.993 Q284.44 984.864 282.611 981.322 Q280.806 977.757 277.172 977.757 M277.172 974.053 Q282.982 974.053 286.037 978.66 Q289.116 983.243 289.116 991.993 Q289.116 1000.72 286.037 1005.33 Q282.982 1009.91 277.172 1009.91 Q271.361 1009.91 268.283 1005.33 Q265.227 1000.72 265.227 991.993 Q265.227 983.243 268.283 978.66 Q271.361 974.053 277.172 974.053 Z\" fill=\"#000000\" fill-rule=\"evenodd\" fill-opacity=\"1\" /><path clip-path=\"url(#clip350)\" d=\"M 0 0 M297.334 1003.36 L302.218 1003.36 L302.218 1009.24 L297.334 1009.24 L297.334 1003.36 Z\" fill=\"#000000\" fill-rule=\"evenodd\" fill-opacity=\"1\" /><path clip-path=\"url(#clip350)\" d=\"M 0 0 M316.431 1005.3 L332.75 1005.3 L332.75 1009.24 L310.806 1009.24 L310.806 1005.3 Q313.468 1002.55 318.051 997.919 Q322.657 993.266 323.838 991.924 Q326.083 989.401 326.963 987.665 Q327.866 985.905 327.866 984.215 Q327.866 981.461 325.921 979.725 Q324 977.989 320.898 977.989 Q318.699 977.989 316.245 978.753 Q313.815 979.516 311.037 981.067 L311.037 976.345 Q313.861 975.211 316.315 974.632 Q318.769 974.053 320.806 974.053 Q326.176 974.053 329.37 976.739 Q332.565 979.424 332.565 983.915 Q332.565 986.044 331.755 987.965 Q330.968 989.864 328.861 992.456 Q328.282 993.127 325.181 996.345 Q322.079 999.539 316.431 1005.3 Z\" fill=\"#000000\" fill-rule=\"evenodd\" fill-opacity=\"1\" /><path clip-path=\"url(#clip350)\" d=\"M 0 0 M342.611 974.678 L360.967 974.678 L360.967 978.614 L346.893 978.614 L346.893 987.086 Q347.912 986.739 348.93 986.577 Q349.949 986.391 350.968 986.391 Q356.755 986.391 360.134 989.563 Q363.514 992.734 363.514 998.151 Q363.514 1003.73 360.042 1006.83 Q356.569 1009.91 350.25 1009.91 Q348.074 1009.91 345.806 1009.54 Q343.56 1009.17 341.153 1008.43 L341.153 1003.73 Q343.236 1004.86 345.458 1005.42 Q347.68 1005.97 350.157 1005.97 Q354.162 1005.97 356.5 1003.87 Q358.838 1001.76 358.838 998.151 Q358.838 994.539 356.5 992.433 Q354.162 990.327 350.157 990.327 Q348.282 990.327 346.407 990.743 Q344.556 991.16 342.611 992.039 L342.611 974.678 Z\" fill=\"#000000\" fill-rule=\"evenodd\" fill-opacity=\"1\" /><path clip-path=\"url(#clip350)\" d=\"M 0 0 M168.206 1264.41 L178.328 1264.41 L178.328 1252.34 L182.879 1252.34 L182.879 1264.41 L202.231 1264.41 Q206.592 1264.41 207.833 1263.23 Q209.074 1262.02 209.074 1258.36 L209.074 1252.34 L213.976 1252.34 L213.976 1258.36 Q213.976 1265.14 211.461 1267.72 Q208.915 1270.29 202.231 1270.29 L182.879 1270.29 L182.879 1274.59 L178.328 1274.59 L178.328 1270.29 L168.206 1270.29 L168.206 1264.41 Z\" fill=\"#000000\" fill-rule=\"evenodd\" fill-opacity=\"1\" /><path clip-path=\"url(#clip350)\" d=\"M 0 0 M178.328 1244.64 L178.328 1238.78 L213.976 1238.78 L213.976 1244.64 L178.328 1244.64 M164.451 1244.64 L164.451 1238.78 L171.867 1238.78 L171.867 1244.64 L164.451 1244.64 Z\" fill=\"#000000\" fill-rule=\"evenodd\" fill-opacity=\"1\" /><path clip-path=\"url(#clip350)\" d=\"M 0 0 M185.171 1198.78 Q181.224 1196.58 179.346 1193.52 Q177.469 1190.47 177.469 1186.33 Q177.469 1180.76 181.383 1177.74 Q185.267 1174.71 192.46 1174.71 L213.976 1174.71 L213.976 1180.6 L192.651 1180.6 Q187.526 1180.6 185.044 1182.42 Q182.561 1184.23 182.561 1187.95 Q182.561 1192.51 185.585 1195.15 Q188.609 1197.79 193.828 1197.79 L213.976 1197.79 L213.976 1203.68 L192.651 1203.68 Q187.495 1203.68 185.044 1205.49 Q182.561 1207.31 182.561 1211.09 Q182.561 1215.58 185.617 1218.22 Q188.64 1220.86 193.828 1220.86 L213.976 1220.86 L213.976 1226.75 L178.328 1226.75 L178.328 1220.86 L183.866 1220.86 Q180.588 1218.86 179.028 1216.06 Q177.469 1213.26 177.469 1209.41 Q177.469 1205.52 179.442 1202.82 Q181.415 1200.08 185.171 1198.78 Z\" fill=\"#000000\" fill-rule=\"evenodd\" fill-opacity=\"1\" /><path clip-path=\"url(#clip350)\" d=\"M 0 0 M194.688 1132.54 L197.552 1132.54 L197.552 1159.47 Q203.6 1159.09 206.783 1155.84 Q209.934 1152.56 209.934 1146.74 Q209.934 1143.36 209.106 1140.21 Q208.279 1137.03 206.623 1133.91 L212.162 1133.91 Q213.498 1137.06 214.199 1140.37 Q214.899 1143.68 214.899 1147.09 Q214.899 1155.62 209.934 1160.61 Q204.968 1165.58 196.502 1165.58 Q187.749 1165.58 182.625 1160.87 Q177.469 1156.13 177.469 1148.1 Q177.469 1140.91 182.116 1136.74 Q186.731 1132.54 194.688 1132.54 M192.969 1138.4 Q188.163 1138.46 185.298 1141.1 Q182.434 1143.71 182.434 1148.04 Q182.434 1152.94 185.203 1155.9 Q187.972 1158.83 193.001 1159.28 L192.969 1138.4 Z\" fill=\"#000000\" fill-rule=\"evenodd\" fill-opacity=\"1\" /><path clip-path=\"url(#clip350)\" d=\"M 0 0 M608.529 812.096 L620.722 812.096 L636.156 853.253 L651.671 812.096 L663.864 812.096 L663.864 872.576 L655.884 872.576 L655.884 819.469 L640.288 860.95 L632.065 860.95 L616.469 819.469 L616.469 872.576 L608.529 872.576 L608.529 812.096 Z\" fill=\"#000000\" fill-rule=\"evenodd\" fill-opacity=\"1\" /><path clip-path=\"url(#clip350)\" d=\"M 0 0 M718.592 848.028 L718.592 851.673 L684.321 851.673 Q684.808 859.37 688.939 863.421 Q693.112 867.431 700.525 867.431 Q704.819 867.431 708.829 866.378 Q712.88 865.325 716.85 863.218 L716.85 870.267 Q712.84 871.968 708.627 872.86 Q704.414 873.751 700.079 873.751 Q689.223 873.751 682.863 867.431 Q676.544 861.112 676.544 850.337 Q676.544 839.197 682.539 832.675 Q688.575 826.112 698.783 826.112 Q707.938 826.112 713.245 832.026 Q718.592 837.9 718.592 848.028 M711.138 845.84 Q711.057 839.723 707.695 836.077 Q704.373 832.432 698.864 832.432 Q692.626 832.432 688.858 835.956 Q685.132 839.48 684.564 845.881 L711.138 845.84 Z\" fill=\"#000000\" fill-rule=\"evenodd\" fill-opacity=\"1\" /><path clip-path=\"url(#clip350)\" d=\"M 0 0 M751.445 849.769 Q742.411 849.769 738.928 851.835 Q735.444 853.901 735.444 858.884 Q735.444 862.854 738.036 865.203 Q740.669 867.512 745.166 867.512 Q751.364 867.512 755.091 863.137 Q758.858 858.722 758.858 851.43 L758.858 849.769 L751.445 849.769 M766.312 846.691 L766.312 872.576 L758.858 872.576 L758.858 865.689 Q756.306 869.821 752.498 871.806 Q748.69 873.751 743.181 873.751 Q736.213 873.751 732.082 869.862 Q727.99 865.933 727.99 859.37 Q727.99 851.714 733.094 847.825 Q738.239 843.936 748.407 843.936 L758.858 843.936 L758.858 843.207 Q758.858 838.062 755.455 835.267 Q752.093 832.432 745.976 832.432 Q742.087 832.432 738.401 833.363 Q734.715 834.295 731.312 836.158 L731.312 829.272 Q735.403 827.692 739.252 826.922 Q743.1 826.112 746.746 826.112 Q756.59 826.112 761.451 831.216 Q766.312 836.32 766.312 846.691 Z\" fill=\"#000000\" fill-rule=\"evenodd\" fill-opacity=\"1\" /><path clip-path=\"url(#clip350)\" d=\"M 0 0 M819.379 845.192 L819.379 872.576 L811.925 872.576 L811.925 845.435 Q811.925 838.994 809.413 835.794 Q806.902 832.594 801.879 832.594 Q795.843 832.594 792.359 836.442 Q788.875 840.29 788.875 846.934 L788.875 872.576 L781.381 872.576 L781.381 827.206 L788.875 827.206 L788.875 834.254 Q791.549 830.163 795.154 828.138 Q798.8 826.112 803.54 826.112 Q811.358 826.112 815.368 830.973 Q819.379 835.794 819.379 845.192 Z\" fill=\"#000000\" fill-rule=\"evenodd\" fill-opacity=\"1\" /><path clip-path=\"url(#clip350)\" d=\"M 0 0 M863.169 828.543 L863.169 835.591 Q860.009 833.971 856.606 833.161 Q853.204 832.351 849.558 832.351 Q844.008 832.351 841.213 834.052 Q838.458 835.753 838.458 839.156 Q838.458 841.749 840.443 843.247 Q842.428 844.706 848.424 846.043 L850.976 846.61 Q858.915 848.311 862.237 851.43 Q865.599 854.509 865.599 860.059 Q865.599 866.378 860.576 870.064 Q855.594 873.751 846.844 873.751 Q843.198 873.751 839.228 873.022 Q835.299 872.333 830.924 870.915 L830.924 863.218 Q835.056 865.365 839.066 866.459 Q843.076 867.512 847.006 867.512 Q852.272 867.512 855.108 865.73 Q857.943 863.907 857.943 860.626 Q857.943 857.588 855.877 855.967 Q853.852 854.347 846.925 852.848 L844.332 852.24 Q837.405 850.782 834.326 847.784 Q831.248 844.746 831.248 839.48 Q831.248 833.08 835.785 829.596 Q840.322 826.112 848.667 826.112 Q852.799 826.112 856.444 826.72 Q860.09 827.327 863.169 828.543 Z\" fill=\"#000000\" fill-rule=\"evenodd\" fill-opacity=\"1\" /><path clip-path=\"url(#clip350)\" d=\"M 0 0 M921.421 832.432 Q915.425 832.432 911.942 837.131 Q908.458 841.789 908.458 849.931 Q908.458 858.074 911.901 862.773 Q915.385 867.431 921.421 867.431 Q927.376 867.431 930.859 862.732 Q934.343 858.033 934.343 849.931 Q934.343 841.87 930.859 837.171 Q927.376 832.432 921.421 832.432 M921.421 826.112 Q931.143 826.112 936.693 832.432 Q942.242 838.751 942.242 849.931 Q942.242 861.071 936.693 867.431 Q931.143 873.751 921.421 873.751 Q911.658 873.751 906.108 867.431 Q900.599 861.071 900.599 849.931 Q900.599 838.751 906.108 832.432 Q911.658 826.112 921.421 826.112 Z\" fill=\"#000000\" fill-rule=\"evenodd\" fill-opacity=\"1\" /><path clip-path=\"url(#clip350)\" d=\"M 0 0 M977.566 809.544 L977.566 815.742 L970.437 815.742 Q966.426 815.742 964.847 817.362 Q963.307 818.983 963.307 823.195 L963.307 827.206 L975.581 827.206 L975.581 832.999 L963.307 832.999 L963.307 872.576 L955.813 872.576 L955.813 832.999 L948.683 832.999 L948.683 827.206 L955.813 827.206 L955.813 824.046 Q955.813 816.471 959.337 813.028 Q962.862 809.544 970.518 809.544 L977.566 809.544 Z\" fill=\"#000000\" fill-rule=\"evenodd\" fill-opacity=\"1\" /><path clip-path=\"url(#clip350)\" d=\"M 0 0 M1017.55 814.324 L1017.55 827.206 L1032.9 827.206 L1032.9 832.999 L1017.55 832.999 L1017.55 857.628 Q1017.55 863.178 1019.05 864.758 Q1020.59 866.338 1025.25 866.338 L1032.9 866.338 L1032.9 872.576 L1025.25 872.576 Q1016.62 872.576 1013.34 869.376 Q1010.05 866.135 1010.05 857.628 L1010.05 832.999 L1004.59 832.999 L1004.59 827.206 L1010.05 827.206 L1010.05 814.324 L1017.55 814.324 Z\" fill=\"#000000\" fill-rule=\"evenodd\" fill-opacity=\"1\" /><path clip-path=\"url(#clip350)\" d=\"M 0 0 M1042.7 827.206 L1050.16 827.206 L1050.16 872.576 L1042.7 872.576 L1042.7 827.206 M1042.7 809.544 L1050.16 809.544 L1050.16 818.983 L1042.7 818.983 L1042.7 809.544 Z\" fill=\"#000000\" fill-rule=\"evenodd\" fill-opacity=\"1\" /><path clip-path=\"url(#clip350)\" d=\"M 0 0 M1101.08 835.915 Q1103.87 830.892 1107.76 828.502 Q1111.65 826.112 1116.92 826.112 Q1124.01 826.112 1127.85 831.095 Q1131.7 836.037 1131.7 845.192 L1131.7 872.576 L1124.21 872.576 L1124.21 845.435 Q1124.21 838.913 1121.9 835.753 Q1119.59 832.594 1114.85 832.594 Q1109.06 832.594 1105.7 836.442 Q1102.33 840.29 1102.33 846.934 L1102.33 872.576 L1094.84 872.576 L1094.84 845.435 Q1094.84 838.872 1092.53 835.753 Q1090.22 832.594 1085.4 832.594 Q1079.69 832.594 1076.33 836.482 Q1072.97 840.331 1072.97 846.934 L1072.97 872.576 L1065.47 872.576 L1065.47 827.206 L1072.97 827.206 L1072.97 834.254 Q1075.52 830.082 1079.08 828.097 Q1082.65 826.112 1087.55 826.112 Q1092.49 826.112 1095.93 828.624 Q1099.42 831.135 1101.08 835.915 Z\" fill=\"#000000\" fill-rule=\"evenodd\" fill-opacity=\"1\" /><path clip-path=\"url(#clip350)\" d=\"M 0 0 M1185.38 848.028 L1185.38 851.673 L1151.11 851.673 Q1151.59 859.37 1155.73 863.421 Q1159.9 867.431 1167.31 867.431 Q1171.6 867.431 1175.62 866.378 Q1179.67 865.325 1183.64 863.218 L1183.64 870.267 Q1179.63 871.968 1175.41 872.86 Q1171.2 873.751 1166.87 873.751 Q1156.01 873.751 1149.65 867.431 Q1143.33 861.112 1143.33 850.337 Q1143.33 839.197 1149.32 832.675 Q1155.36 826.112 1165.57 826.112 Q1174.72 826.112 1180.03 832.026 Q1185.38 837.9 1185.38 848.028 M1177.92 845.84 Q1177.84 839.723 1174.48 836.077 Q1171.16 832.432 1165.65 832.432 Q1159.41 832.432 1155.64 835.956 Q1151.92 839.48 1151.35 845.881 L1177.92 845.84 Z\" fill=\"#000000\" fill-rule=\"evenodd\" fill-opacity=\"1\" /><path clip-path=\"url(#clip350)\" d=\"M 0 0 M1241.56 832.432 Q1235.57 832.432 1232.08 837.131 Q1228.6 841.789 1228.6 849.931 Q1228.6 858.074 1232.04 862.773 Q1235.53 867.431 1241.56 867.431 Q1247.52 867.431 1251 862.732 Q1254.49 858.033 1254.49 849.931 Q1254.49 841.87 1251 837.171 Q1247.52 832.432 1241.56 832.432 M1241.56 826.112 Q1251.29 826.112 1256.84 832.432 Q1262.39 838.751 1262.39 849.931 Q1262.39 861.071 1256.84 867.431 Q1251.29 873.751 1241.56 873.751 Q1231.8 873.751 1226.25 867.431 Q1220.74 861.071 1220.74 849.931 Q1220.74 838.751 1226.25 832.432 Q1231.8 826.112 1241.56 826.112 Z\" fill=\"#000000\" fill-rule=\"evenodd\" fill-opacity=\"1\" /><path clip-path=\"url(#clip350)\" d=\"M 0 0 M1297.71 809.544 L1297.71 815.742 L1290.58 815.742 Q1286.57 815.742 1284.99 817.362 Q1283.45 818.983 1283.45 823.195 L1283.45 827.206 L1295.72 827.206 L1295.72 832.999 L1283.45 832.999 L1283.45 872.576 L1275.96 872.576 L1275.96 832.999 L1268.83 832.999 L1268.83 827.206 L1275.96 827.206 L1275.96 824.046 Q1275.96 816.471 1279.48 813.028 Q1283 809.544 1290.66 809.544 L1297.71 809.544 Z\" fill=\"#000000\" fill-rule=\"evenodd\" fill-opacity=\"1\" /><path clip-path=\"url(#clip350)\" d=\"M 0 0 M1362.97 828.948 L1362.97 835.915 Q1359.81 834.173 1356.61 833.323 Q1353.45 832.432 1350.21 832.432 Q1342.96 832.432 1338.95 837.05 Q1334.94 841.627 1334.94 849.931 Q1334.94 858.236 1338.95 862.854 Q1342.96 867.431 1350.21 867.431 Q1353.45 867.431 1356.61 866.581 Q1359.81 865.689 1362.97 863.948 L1362.97 870.834 Q1359.85 872.292 1356.49 873.022 Q1353.17 873.751 1349.4 873.751 Q1339.15 873.751 1333.11 867.31 Q1327.08 860.869 1327.08 849.931 Q1327.08 838.832 1333.15 832.472 Q1339.27 826.112 1349.88 826.112 Q1353.33 826.112 1356.61 826.841 Q1359.89 827.53 1362.97 828.948 Z\" fill=\"#000000\" fill-rule=\"evenodd\" fill-opacity=\"1\" /><path clip-path=\"url(#clip350)\" d=\"M 0 0 M1393.51 832.432 Q1387.52 832.432 1384.03 837.131 Q1380.55 841.789 1380.55 849.931 Q1380.55 858.074 1383.99 862.773 Q1387.48 867.431 1393.51 867.431 Q1399.47 867.431 1402.95 862.732 Q1406.44 858.033 1406.44 849.931 Q1406.44 841.87 1402.95 837.171 Q1399.47 832.432 1393.51 832.432 M1393.51 826.112 Q1403.24 826.112 1408.79 832.432 Q1414.33 838.751 1414.33 849.931 Q1414.33 861.071 1408.79 867.431 Q1403.24 873.751 1393.51 873.751 Q1383.75 873.751 1378.2 867.431 Q1372.69 861.071 1372.69 849.931 Q1372.69 838.751 1378.2 832.432 Q1383.75 826.112 1393.51 826.112 Z\" fill=\"#000000\" fill-rule=\"evenodd\" fill-opacity=\"1\" /><path clip-path=\"url(#clip350)\" d=\"M 0 0 M1462.01 835.915 Q1464.81 830.892 1468.7 828.502 Q1472.59 826.112 1477.85 826.112 Q1484.94 826.112 1488.79 831.095 Q1492.64 836.037 1492.64 845.192 L1492.64 872.576 L1485.14 872.576 L1485.14 845.435 Q1485.14 838.913 1482.84 835.753 Q1480.53 832.594 1475.79 832.594 Q1469.99 832.594 1466.63 836.442 Q1463.27 840.29 1463.27 846.934 L1463.27 872.576 L1455.78 872.576 L1455.78 845.435 Q1455.78 838.872 1453.47 835.753 Q1451.16 832.594 1446.34 832.594 Q1440.63 832.594 1437.26 836.482 Q1433.9 840.331 1433.9 846.934 L1433.9 872.576 L1426.41 872.576 L1426.41 827.206 L1433.9 827.206 L1433.9 834.254 Q1436.45 830.082 1440.02 828.097 Q1443.58 826.112 1448.48 826.112 Q1453.43 826.112 1456.87 828.624 Q1460.35 831.135 1462.01 835.915 Z\" fill=\"#000000\" fill-rule=\"evenodd\" fill-opacity=\"1\" /><path clip-path=\"url(#clip350)\" d=\"M 0 0 M1514.72 865.77 L1514.72 889.833 L1507.22 889.833 L1507.22 827.206 L1514.72 827.206 L1514.72 834.092 Q1517.07 830.042 1520.63 828.097 Q1524.24 826.112 1529.22 826.112 Q1537.48 826.112 1542.63 832.675 Q1547.81 839.237 1547.81 849.931 Q1547.81 860.626 1542.63 867.188 Q1537.48 873.751 1529.22 873.751 Q1524.24 873.751 1520.63 871.806 Q1517.07 869.821 1514.72 865.77 M1540.07 849.931 Q1540.07 841.708 1536.67 837.05 Q1533.31 832.351 1527.4 832.351 Q1521.48 832.351 1518.08 837.05 Q1514.72 841.708 1514.72 849.931 Q1514.72 858.155 1518.08 862.854 Q1521.48 867.512 1527.4 867.512 Q1533.31 867.512 1536.67 862.854 Q1540.07 858.155 1540.07 849.931 Z\" fill=\"#000000\" fill-rule=\"evenodd\" fill-opacity=\"1\" /><path clip-path=\"url(#clip350)\" d=\"M 0 0 M1559.4 854.671 L1559.4 827.206 L1566.85 827.206 L1566.85 854.387 Q1566.85 860.828 1569.36 864.069 Q1571.87 867.269 1576.9 867.269 Q1582.93 867.269 1586.42 863.421 Q1589.94 859.573 1589.94 852.929 L1589.94 827.206 L1597.4 827.206 L1597.4 872.576 L1589.94 872.576 L1589.94 865.608 Q1587.23 869.74 1583.62 871.766 Q1580.06 873.751 1575.32 873.751 Q1567.5 873.751 1563.45 868.89 Q1559.4 864.029 1559.4 854.671 M1578.15 826.112 L1578.15 826.112 Z\" fill=\"#000000\" fill-rule=\"evenodd\" fill-opacity=\"1\" /><path clip-path=\"url(#clip350)\" d=\"M 0 0 M1620.12 814.324 L1620.12 827.206 L1635.47 827.206 L1635.47 832.999 L1620.12 832.999 L1620.12 857.628 Q1620.12 863.178 1621.62 864.758 Q1623.16 866.338 1627.82 866.338 L1635.47 866.338 L1635.47 872.576 L1627.82 872.576 Q1619.19 872.576 1615.91 869.376 Q1612.63 866.135 1612.63 857.628 L1612.63 832.999 L1607.16 832.999 L1607.16 827.206 L1612.63 827.206 L1612.63 814.324 L1620.12 814.324 Z\" fill=\"#000000\" fill-rule=\"evenodd\" fill-opacity=\"1\" /><path clip-path=\"url(#clip350)\" d=\"M 0 0 M1645.28 827.206 L1652.73 827.206 L1652.73 872.576 L1645.28 872.576 L1645.28 827.206 M1645.28 809.544 L1652.73 809.544 L1652.73 818.983 L1645.28 818.983 L1645.28 809.544 Z\" fill=\"#000000\" fill-rule=\"evenodd\" fill-opacity=\"1\" /><path clip-path=\"url(#clip350)\" d=\"M 0 0 M1706.04 845.192 L1706.04 872.576 L1698.59 872.576 L1698.59 845.435 Q1698.59 838.994 1696.08 835.794 Q1693.56 832.594 1688.54 832.594 Q1682.5 832.594 1679.02 836.442 Q1675.54 840.29 1675.54 846.934 L1675.54 872.576 L1668.04 872.576 L1668.04 827.206 L1675.54 827.206 L1675.54 834.254 Q1678.21 830.163 1681.82 828.138 Q1685.46 826.112 1690.2 826.112 Q1698.02 826.112 1702.03 830.973 Q1706.04 835.794 1706.04 845.192 Z\" fill=\"#000000\" fill-rule=\"evenodd\" fill-opacity=\"1\" /><path clip-path=\"url(#clip350)\" d=\"M 0 0 M1750.76 849.364 Q1750.76 841.263 1747.4 836.807 Q1744.08 832.351 1738.04 832.351 Q1732.05 832.351 1728.69 836.807 Q1725.36 841.263 1725.36 849.364 Q1725.36 857.426 1728.69 861.882 Q1732.05 866.338 1738.04 866.338 Q1744.08 866.338 1747.4 861.882 Q1750.76 857.426 1750.76 849.364 M1758.22 866.945 Q1758.22 878.531 1753.07 884.162 Q1747.93 889.833 1737.31 889.833 Q1733.38 889.833 1729.9 889.225 Q1726.42 888.658 1723.14 887.443 L1723.14 880.192 Q1726.42 881.974 1729.62 882.825 Q1732.82 883.675 1736.14 883.675 Q1743.47 883.675 1747.12 879.827 Q1750.76 876.019 1750.76 868.282 L1750.76 864.596 Q1748.45 868.606 1744.85 870.591 Q1741.24 872.576 1736.22 872.576 Q1727.87 872.576 1722.77 866.216 Q1717.67 859.856 1717.67 849.364 Q1717.67 838.832 1722.77 832.472 Q1727.87 826.112 1736.22 826.112 Q1741.24 826.112 1744.85 828.097 Q1748.45 830.082 1750.76 834.092 L1750.76 827.206 L1758.22 827.206 L1758.22 866.945 Z\" fill=\"#000000\" fill-rule=\"evenodd\" fill-opacity=\"1\" /><path clip-path=\"url(#clip350)\" d=\"M 0 0 M1829.8 834.092 L1829.8 809.544 L1837.25 809.544 L1837.25 872.576 L1829.8 872.576 L1829.8 865.77 Q1827.45 869.821 1823.84 871.806 Q1820.28 873.751 1815.25 873.751 Q1807.03 873.751 1801.84 867.188 Q1796.7 860.626 1796.7 849.931 Q1796.7 839.237 1801.84 832.675 Q1807.03 826.112 1815.25 826.112 Q1820.28 826.112 1823.84 828.097 Q1827.45 830.042 1829.8 834.092 M1804.4 849.931 Q1804.4 858.155 1807.76 862.854 Q1811.16 867.512 1817.08 867.512 Q1822.99 867.512 1826.39 862.854 Q1829.8 858.155 1829.8 849.931 Q1829.8 841.708 1826.39 837.05 Q1822.99 832.351 1817.08 832.351 Q1811.16 832.351 1807.76 837.05 Q1804.4 841.708 1804.4 849.931 Z\" fill=\"#000000\" fill-rule=\"evenodd\" fill-opacity=\"1\" /><path clip-path=\"url(#clip350)\" d=\"M 0 0 M1852.6 827.206 L1860.06 827.206 L1860.06 872.576 L1852.6 872.576 L1852.6 827.206 M1852.6 809.544 L1860.06 809.544 L1860.06 818.983 L1852.6 818.983 L1852.6 809.544 Z\" fill=\"#000000\" fill-rule=\"evenodd\" fill-opacity=\"1\" /><path clip-path=\"url(#clip350)\" d=\"M 0 0 M1898.62 809.544 L1898.62 815.742 L1891.49 815.742 Q1887.48 815.742 1885.9 817.362 Q1884.36 818.983 1884.36 823.195 L1884.36 827.206 L1896.64 827.206 L1896.64 832.999 L1884.36 832.999 L1884.36 872.576 L1876.87 872.576 L1876.87 832.999 L1869.74 832.999 L1869.74 827.206 L1876.87 827.206 L1876.87 824.046 Q1876.87 816.471 1880.39 813.028 Q1883.92 809.544 1891.57 809.544 L1898.62 809.544 Z\" fill=\"#000000\" fill-rule=\"evenodd\" fill-opacity=\"1\" /><path clip-path=\"url(#clip350)\" d=\"M 0 0 M1927.83 809.544 L1927.83 815.742 L1920.7 815.742 Q1916.69 815.742 1915.11 817.362 Q1913.57 818.983 1913.57 823.195 L1913.57 827.206 L1925.84 827.206 L1925.84 832.999 L1913.57 832.999 L1913.57 872.576 L1906.07 872.576 L1906.07 832.999 L1898.94 832.999 L1898.94 827.206 L1906.07 827.206 L1906.07 824.046 Q1906.07 816.471 1909.6 813.028 Q1913.12 809.544 1920.78 809.544 L1927.83 809.544 Z\" fill=\"#000000\" fill-rule=\"evenodd\" fill-opacity=\"1\" /><path clip-path=\"url(#clip350)\" d=\"M 0 0 M1972.87 848.028 L1972.87 851.673 L1938.6 851.673 Q1939.09 859.37 1943.22 863.421 Q1947.39 867.431 1954.81 867.431 Q1959.1 867.431 1963.11 866.378 Q1967.16 865.325 1971.13 863.218 L1971.13 870.267 Q1967.12 871.968 1962.91 872.86 Q1958.7 873.751 1954.36 873.751 Q1943.5 873.751 1937.14 867.431 Q1930.83 861.112 1930.83 850.337 Q1930.83 839.197 1936.82 832.675 Q1942.86 826.112 1953.06 826.112 Q1962.22 826.112 1967.53 832.026 Q1972.87 837.9 1972.87 848.028 M1965.42 845.84 Q1965.34 839.723 1961.98 836.077 Q1958.65 832.432 1953.15 832.432 Q1946.91 832.432 1943.14 835.956 Q1939.41 839.48 1938.85 845.881 L1965.42 845.84 Z\" fill=\"#000000\" fill-rule=\"evenodd\" fill-opacity=\"1\" /><path clip-path=\"url(#clip350)\" d=\"M 0 0 M2011.4 834.173 Q2010.14 833.444 2008.64 833.12 Q2007.18 832.756 2005.4 832.756 Q1999.08 832.756 1995.68 836.888 Q1992.32 840.979 1992.32 848.676 L1992.32 872.576 L1984.82 872.576 L1984.82 827.206 L1992.32 827.206 L1992.32 834.254 Q1994.67 830.123 1998.43 828.138 Q2002.2 826.112 2007.59 826.112 Q2008.36 826.112 2009.29 826.234 Q2010.22 826.315 2011.36 826.517 L2011.4 834.173 Z\" fill=\"#000000\" fill-rule=\"evenodd\" fill-opacity=\"1\" /><path clip-path=\"url(#clip350)\" d=\"M 0 0 M2056.2 848.028 L2056.2 851.673 L2021.93 851.673 Q2022.42 859.37 2026.55 863.421 Q2030.72 867.431 2038.13 867.431 Q2042.43 867.431 2046.44 866.378 Q2050.49 865.325 2054.46 863.218 L2054.46 870.267 Q2050.45 871.968 2046.24 872.86 Q2042.02 873.751 2037.69 873.751 Q2026.83 873.751 2020.47 867.431 Q2014.15 861.112 2014.15 850.337 Q2014.15 839.197 2020.15 832.675 Q2026.18 826.112 2036.39 826.112 Q2045.55 826.112 2050.85 832.026 Q2056.2 837.9 2056.2 848.028 M2048.75 845.84 Q2048.67 839.723 2045.3 836.077 Q2041.98 832.432 2036.47 832.432 Q2030.23 832.432 2026.47 835.956 Q2022.74 839.48 2022.17 845.881 L2048.75 845.84 Z\" fill=\"#000000\" fill-rule=\"evenodd\" fill-opacity=\"1\" /><path clip-path=\"url(#clip350)\" d=\"M 0 0 M2106.15 845.192 L2106.15 872.576 L2098.69 872.576 L2098.69 845.435 Q2098.69 838.994 2096.18 835.794 Q2093.67 832.594 2088.65 832.594 Q2082.61 832.594 2079.13 836.442 Q2075.64 840.29 2075.64 846.934 L2075.64 872.576 L2068.15 872.576 L2068.15 827.206 L2075.64 827.206 L2075.64 834.254 Q2078.32 830.163 2081.92 828.138 Q2085.57 826.112 2090.31 826.112 Q2098.13 826.112 2102.14 830.973 Q2106.15 835.794 2106.15 845.192 Z\" fill=\"#000000\" fill-rule=\"evenodd\" fill-opacity=\"1\" /><path clip-path=\"url(#clip350)\" d=\"M 0 0 M2128.39 814.324 L2128.39 827.206 L2143.74 827.206 L2143.74 832.999 L2128.39 832.999 L2128.39 857.628 Q2128.39 863.178 2129.89 864.758 Q2131.43 866.338 2136.08 866.338 L2143.74 866.338 L2143.74 872.576 L2136.08 872.576 Q2127.46 872.576 2124.17 869.376 Q2120.89 866.135 2120.89 857.628 L2120.89 832.999 L2115.42 832.999 L2115.42 827.206 L2120.89 827.206 L2120.89 814.324 L2128.39 814.324 Z\" fill=\"#000000\" fill-rule=\"evenodd\" fill-opacity=\"1\" /><path clip-path=\"url(#clip350)\" d=\"M 0 0 M683.106 923.152 Q677.111 923.152 673.627 927.851 Q670.143 932.509 670.143 940.651 Q670.143 948.794 673.587 953.493 Q677.07 958.151 683.106 958.151 Q689.061 958.151 692.545 953.452 Q696.029 948.753 696.029 940.651 Q696.029 932.59 692.545 927.891 Q689.061 923.152 683.106 923.152 M683.106 916.832 Q692.828 916.832 698.378 923.152 Q703.928 929.471 703.928 940.651 Q703.928 951.791 698.378 958.151 Q692.828 964.471 683.106 964.471 Q673.343 964.471 667.794 958.151 Q662.284 951.791 662.284 940.651 Q662.284 929.471 667.794 923.152 Q673.343 916.832 683.106 916.832 Z\" fill=\"#000000\" fill-rule=\"evenodd\" fill-opacity=\"1\" /><path clip-path=\"url(#clip350)\" d=\"M 0 0 M723.494 956.49 L723.494 980.553 L715.999 980.553 L715.999 917.926 L723.494 917.926 L723.494 924.812 Q725.843 920.762 729.408 918.817 Q733.013 916.832 737.996 916.832 Q746.26 916.832 751.404 923.395 Q756.59 929.957 756.59 940.651 Q756.59 951.346 751.404 957.908 Q746.26 964.471 737.996 964.471 Q733.013 964.471 729.408 962.526 Q725.843 960.541 723.494 956.49 M748.852 940.651 Q748.852 932.428 745.45 927.77 Q742.087 923.071 736.173 923.071 Q730.259 923.071 726.856 927.77 Q723.494 932.428 723.494 940.651 Q723.494 948.875 726.856 953.574 Q730.259 958.232 736.173 958.232 Q742.087 958.232 745.45 953.574 Q748.852 948.875 748.852 940.651 Z\" fill=\"#000000\" fill-rule=\"evenodd\" fill-opacity=\"1\" /><path clip-path=\"url(#clip350)\" d=\"M 0 0 M807.752 938.748 L807.752 942.393 L773.482 942.393 Q773.968 950.09 778.1 954.141 Q782.272 958.151 789.685 958.151 Q793.979 958.151 797.99 957.098 Q802.041 956.045 806.011 953.938 L806.011 960.987 Q802 962.688 797.787 963.58 Q793.574 964.471 789.24 964.471 Q778.383 964.471 772.023 958.151 Q765.704 951.832 765.704 941.057 Q765.704 929.917 771.699 923.395 Q777.735 916.832 787.944 916.832 Q797.099 916.832 802.405 922.746 Q807.752 928.62 807.752 938.748 M800.299 936.56 Q800.218 930.443 796.856 926.797 Q793.534 923.152 788.025 923.152 Q781.786 923.152 778.019 926.676 Q774.292 930.2 773.725 936.601 L800.299 936.56 Z\" fill=\"#000000\" fill-rule=\"evenodd\" fill-opacity=\"1\" /><path clip-path=\"url(#clip350)\" d=\"M 0 0 M846.277 924.893 Q845.021 924.164 843.522 923.84 Q842.064 923.476 840.281 923.476 Q833.962 923.476 830.559 927.608 Q827.197 931.699 827.197 939.396 L827.197 963.296 L819.703 963.296 L819.703 917.926 L827.197 917.926 L827.197 924.974 Q829.546 920.843 833.314 918.858 Q837.081 916.832 842.469 916.832 Q843.238 916.832 844.17 916.954 Q845.102 917.035 846.236 917.237 L846.277 924.893 Z\" fill=\"#000000\" fill-rule=\"evenodd\" fill-opacity=\"1\" /><path clip-path=\"url(#clip350)\" d=\"M 0 0 M874.714 940.489 Q865.68 940.489 862.197 942.555 Q858.713 944.621 858.713 949.604 Q858.713 953.574 861.305 955.923 Q863.938 958.232 868.435 958.232 Q874.633 958.232 878.36 953.857 Q882.127 949.442 882.127 942.15 L882.127 940.489 L874.714 940.489 M889.581 937.411 L889.581 963.296 L882.127 963.296 L882.127 956.409 Q879.575 960.541 875.767 962.526 Q871.959 964.471 866.45 964.471 Q859.482 964.471 855.351 960.582 Q851.259 956.653 851.259 950.09 Q851.259 942.434 856.363 938.545 Q861.508 934.656 871.676 934.656 L882.127 934.656 L882.127 933.927 Q882.127 928.782 878.724 925.987 Q875.362 923.152 869.245 923.152 Q865.356 923.152 861.67 924.083 Q857.984 925.015 854.581 926.878 L854.581 919.992 Q858.672 918.412 862.521 917.642 Q866.369 916.832 870.015 916.832 Q879.859 916.832 884.72 921.936 Q889.581 927.04 889.581 937.411 Z\" fill=\"#000000\" fill-rule=\"evenodd\" fill-opacity=\"1\" /><path clip-path=\"url(#clip350)\" d=\"M 0 0 M912.306 905.044 L912.306 917.926 L927.659 917.926 L927.659 923.719 L912.306 923.719 L912.306 948.348 Q912.306 953.898 913.805 955.478 Q915.344 957.058 920.003 957.058 L927.659 957.058 L927.659 963.296 L920.003 963.296 Q911.375 963.296 908.093 960.096 Q904.812 956.855 904.812 948.348 L904.812 923.719 L899.343 923.719 L899.343 917.926 L904.812 917.926 L904.812 905.044 L912.306 905.044 Z\" fill=\"#000000\" fill-rule=\"evenodd\" fill-opacity=\"1\" /><path clip-path=\"url(#clip350)\" d=\"M 0 0 M937.462 917.926 L944.916 917.926 L944.916 963.296 L937.462 963.296 L937.462 917.926 M937.462 900.264 L944.916 900.264 L944.916 909.703 L937.462 909.703 L937.462 900.264 Z\" fill=\"#000000\" fill-rule=\"evenodd\" fill-opacity=\"1\" /><path clip-path=\"url(#clip350)\" d=\"M 0 0 M978.093 923.152 Q972.098 923.152 968.614 927.851 Q965.13 932.509 965.13 940.651 Q965.13 948.794 968.573 953.493 Q972.057 958.151 978.093 958.151 Q984.048 958.151 987.532 953.452 Q991.015 948.753 991.015 940.651 Q991.015 932.59 987.532 927.891 Q984.048 923.152 978.093 923.152 M978.093 916.832 Q987.815 916.832 993.365 923.152 Q998.915 929.471 998.915 940.651 Q998.915 951.791 993.365 958.151 Q987.815 964.471 978.093 964.471 Q968.33 964.471 962.781 958.151 Q957.271 951.791 957.271 940.651 Q957.271 929.471 962.781 923.152 Q968.33 916.832 978.093 916.832 Z\" fill=\"#000000\" fill-rule=\"evenodd\" fill-opacity=\"1\" /><path clip-path=\"url(#clip350)\" d=\"M 0 0 M1048.98 935.912 L1048.98 963.296 L1041.53 963.296 L1041.53 936.155 Q1041.53 929.714 1039.02 926.514 Q1036.51 923.314 1031.48 923.314 Q1025.45 923.314 1021.96 927.162 Q1018.48 931.01 1018.48 937.654 L1018.48 963.296 L1010.99 963.296 L1010.99 917.926 L1018.48 917.926 L1018.48 924.974 Q1021.15 920.883 1024.76 918.858 Q1028.41 916.832 1033.14 916.832 Q1040.96 916.832 1044.97 921.693 Q1048.98 926.514 1048.98 935.912 Z\" fill=\"#000000\" fill-rule=\"evenodd\" fill-opacity=\"1\" /><path clip-path=\"url(#clip350)\" d=\"M 0 0 M1092.77 919.263 L1092.77 926.311 Q1089.61 924.691 1086.21 923.881 Q1082.81 923.071 1079.16 923.071 Q1073.61 923.071 1070.82 924.772 Q1068.06 926.473 1068.06 929.876 Q1068.06 932.469 1070.05 933.967 Q1072.03 935.426 1078.03 936.763 L1080.58 937.33 Q1088.52 939.031 1091.84 942.15 Q1095.2 945.229 1095.2 950.779 Q1095.2 957.098 1090.18 960.784 Q1085.2 964.471 1076.45 964.471 Q1072.8 964.471 1068.83 963.742 Q1064.9 963.053 1060.53 961.635 L1060.53 953.938 Q1064.66 956.085 1068.67 957.179 Q1072.68 958.232 1076.61 958.232 Q1081.88 958.232 1084.71 956.45 Q1087.55 954.627 1087.55 951.346 Q1087.55 948.308 1085.48 946.687 Q1083.46 945.067 1076.53 943.568 L1073.94 942.96 Q1067.01 941.502 1063.93 938.504 Q1060.85 935.466 1060.85 930.2 Q1060.85 923.8 1065.39 920.316 Q1069.93 916.832 1078.27 916.832 Q1082.4 916.832 1086.05 917.44 Q1089.7 918.047 1092.77 919.263 Z\" fill=\"#000000\" fill-rule=\"evenodd\" fill-opacity=\"1\" /><path clip-path=\"url(#clip350)\" d=\"M 0 0 M1156.41 900.264 L1156.41 906.462 L1149.28 906.462 Q1145.27 906.462 1143.69 908.082 Q1142.15 909.703 1142.15 913.915 L1142.15 917.926 L1154.43 917.926 L1154.43 923.719 L1142.15 923.719 L1142.15 963.296 L1134.66 963.296 L1134.66 923.719 L1127.53 923.719 L1127.53 917.926 L1134.66 917.926 L1134.66 914.766 Q1134.66 907.191 1138.18 903.748 Q1141.71 900.264 1149.37 900.264 L1156.41 900.264 Z\" fill=\"#000000\" fill-rule=\"evenodd\" fill-opacity=\"1\" /><path clip-path=\"url(#clip350)\" d=\"M 0 0 M1180.23 923.152 Q1174.24 923.152 1170.75 927.851 Q1167.27 932.509 1167.27 940.651 Q1167.27 948.794 1170.71 953.493 Q1174.2 958.151 1180.23 958.151 Q1186.19 958.151 1189.67 953.452 Q1193.16 948.753 1193.16 940.651 Q1193.16 932.59 1189.67 927.891 Q1186.19 923.152 1180.23 923.152 M1180.23 916.832 Q1189.96 916.832 1195.51 923.152 Q1201.05 929.471 1201.05 940.651 Q1201.05 951.791 1195.51 958.151 Q1189.96 964.471 1180.23 964.471 Q1170.47 964.471 1164.92 958.151 Q1159.41 951.791 1159.41 940.651 Q1159.41 929.471 1164.92 923.152 Q1170.47 916.832 1180.23 916.832 Z\" fill=\"#000000\" fill-rule=\"evenodd\" fill-opacity=\"1\" /><path clip-path=\"url(#clip350)\" d=\"M 0 0 M1239.7 924.893 Q1238.44 924.164 1236.95 923.84 Q1235.49 923.476 1233.71 923.476 Q1227.39 923.476 1223.98 927.608 Q1220.62 931.699 1220.62 939.396 L1220.62 963.296 L1213.13 963.296 L1213.13 917.926 L1220.62 917.926 L1220.62 924.974 Q1222.97 920.843 1226.74 918.858 Q1230.5 916.832 1235.89 916.832 Q1236.66 916.832 1237.59 916.954 Q1238.53 917.035 1239.66 917.237 L1239.7 924.893 Z\" fill=\"#000000\" fill-rule=\"evenodd\" fill-opacity=\"1\" /><path clip-path=\"url(#clip350)\" d=\"M 0 0 M1303.75 924.812 L1303.75 900.264 L1311.2 900.264 L1311.2 963.296 L1303.75 963.296 L1303.75 956.49 Q1301.4 960.541 1297.79 962.526 Q1294.23 964.471 1289.2 964.471 Q1280.98 964.471 1275.79 957.908 Q1270.65 951.346 1270.65 940.651 Q1270.65 929.957 1275.79 923.395 Q1280.98 916.832 1289.2 916.832 Q1294.23 916.832 1297.79 918.817 Q1301.4 920.762 1303.75 924.812 M1278.35 940.651 Q1278.35 948.875 1281.71 953.574 Q1285.11 958.232 1291.03 958.232 Q1296.94 958.232 1300.34 953.574 Q1303.75 948.875 1303.75 940.651 Q1303.75 932.428 1300.34 927.77 Q1296.94 923.071 1291.03 923.071 Q1285.11 923.071 1281.71 927.77 Q1278.35 932.428 1278.35 940.651 Z\" fill=\"#000000\" fill-rule=\"evenodd\" fill-opacity=\"1\" /><path clip-path=\"url(#clip350)\" d=\"M 0 0 M1326.55 917.926 L1334.01 917.926 L1334.01 963.296 L1326.55 963.296 L1326.55 917.926 M1326.55 900.264 L1334.01 900.264 L1334.01 909.703 L1326.55 909.703 L1326.55 900.264 Z\" fill=\"#000000\" fill-rule=\"evenodd\" fill-opacity=\"1\" /><path clip-path=\"url(#clip350)\" d=\"M 0 0 M1372.57 900.264 L1372.57 906.462 L1365.44 906.462 Q1361.43 906.462 1359.85 908.082 Q1358.31 909.703 1358.31 913.915 L1358.31 917.926 L1370.59 917.926 L1370.59 923.719 L1358.31 923.719 L1358.31 963.296 L1350.82 963.296 L1350.82 923.719 L1343.69 923.719 L1343.69 917.926 L1350.82 917.926 L1350.82 914.766 Q1350.82 907.191 1354.34 903.748 Q1357.87 900.264 1365.52 900.264 L1372.57 900.264 Z\" fill=\"#000000\" fill-rule=\"evenodd\" fill-opacity=\"1\" /><path clip-path=\"url(#clip350)\" d=\"M 0 0 M1401.78 900.264 L1401.78 906.462 L1394.65 906.462 Q1390.64 906.462 1389.06 908.082 Q1387.52 909.703 1387.52 913.915 L1387.52 917.926 L1399.79 917.926 L1399.79 923.719 L1387.52 923.719 L1387.52 963.296 L1380.02 963.296 L1380.02 923.719 L1372.89 923.719 L1372.89 917.926 L1380.02 917.926 L1380.02 914.766 Q1380.02 907.191 1383.55 903.748 Q1387.07 900.264 1394.73 900.264 L1401.78 900.264 Z\" fill=\"#000000\" fill-rule=\"evenodd\" fill-opacity=\"1\" /><path clip-path=\"url(#clip350)\" d=\"M 0 0 M1446.82 938.748 L1446.82 942.393 L1412.55 942.393 Q1413.04 950.09 1417.17 954.141 Q1421.34 958.151 1428.76 958.151 Q1433.05 958.151 1437.06 957.098 Q1441.11 956.045 1445.08 953.938 L1445.08 960.987 Q1441.07 962.688 1436.86 963.58 Q1432.64 964.471 1428.31 964.471 Q1417.45 964.471 1411.09 958.151 Q1404.77 951.832 1404.77 941.057 Q1404.77 929.917 1410.77 923.395 Q1416.81 916.832 1427.01 916.832 Q1436.17 916.832 1441.48 922.746 Q1446.82 928.62 1446.82 938.748 M1439.37 936.56 Q1439.29 930.443 1435.93 926.797 Q1432.6 923.152 1427.1 923.152 Q1420.86 923.152 1417.09 926.676 Q1413.36 930.2 1412.8 936.601 L1439.37 936.56 Z\" fill=\"#000000\" fill-rule=\"evenodd\" fill-opacity=\"1\" /><path clip-path=\"url(#clip350)\" d=\"M 0 0 M1485.35 924.893 Q1484.09 924.164 1482.59 923.84 Q1481.13 923.476 1479.35 923.476 Q1473.03 923.476 1469.63 927.608 Q1466.27 931.699 1466.27 939.396 L1466.27 963.296 L1458.77 963.296 L1458.77 917.926 L1466.27 917.926 L1466.27 924.974 Q1468.62 920.843 1472.38 918.858 Q1476.15 916.832 1481.54 916.832 Q1482.31 916.832 1483.24 916.954 Q1484.17 917.035 1485.31 917.237 L1485.35 924.893 Z\" fill=\"#000000\" fill-rule=\"evenodd\" fill-opacity=\"1\" /><path clip-path=\"url(#clip350)\" d=\"M 0 0 M1530.15 938.748 L1530.15 942.393 L1495.88 942.393 Q1496.37 950.09 1500.5 954.141 Q1504.67 958.151 1512.08 958.151 Q1516.38 958.151 1520.39 957.098 Q1524.44 956.045 1528.41 953.938 L1528.41 960.987 Q1524.4 962.688 1520.18 963.58 Q1515.97 964.471 1511.64 964.471 Q1500.78 964.471 1494.42 958.151 Q1488.1 951.832 1488.1 941.057 Q1488.1 929.917 1494.1 923.395 Q1500.13 916.832 1510.34 916.832 Q1519.5 916.832 1524.8 922.746 Q1530.15 928.62 1530.15 938.748 M1522.7 936.56 Q1522.62 930.443 1519.25 926.797 Q1515.93 923.152 1510.42 923.152 Q1504.18 923.152 1500.42 926.676 Q1496.69 930.2 1496.12 936.601 L1522.7 936.56 Z\" fill=\"#000000\" fill-rule=\"evenodd\" fill-opacity=\"1\" /><path clip-path=\"url(#clip350)\" d=\"M 0 0 M1580.1 935.912 L1580.1 963.296 L1572.64 963.296 L1572.64 936.155 Q1572.64 929.714 1570.13 926.514 Q1567.62 923.314 1562.6 923.314 Q1556.56 923.314 1553.08 927.162 Q1549.59 931.01 1549.59 937.654 L1549.59 963.296 L1542.1 963.296 L1542.1 917.926 L1549.59 917.926 L1549.59 924.974 Q1552.27 920.883 1555.87 918.858 Q1559.52 916.832 1564.26 916.832 Q1572.08 916.832 1576.09 921.693 Q1580.1 926.514 1580.1 935.912 Z\" fill=\"#000000\" fill-rule=\"evenodd\" fill-opacity=\"1\" /><path clip-path=\"url(#clip350)\" d=\"M 0 0 M1602.34 905.044 L1602.34 917.926 L1617.69 917.926 L1617.69 923.719 L1602.34 923.719 L1602.34 948.348 Q1602.34 953.898 1603.84 955.478 Q1605.38 957.058 1610.03 957.058 L1617.69 957.058 L1617.69 963.296 L1610.03 963.296 Q1601.41 963.296 1598.12 960.096 Q1594.84 956.855 1594.84 948.348 L1594.84 923.719 L1589.37 923.719 L1589.37 917.926 L1594.84 917.926 L1594.84 905.044 L1602.34 905.044 Z\" fill=\"#000000\" fill-rule=\"evenodd\" fill-opacity=\"1\" /><path clip-path=\"url(#clip350)\" d=\"M 0 0 M1674.48 940.489 Q1665.45 940.489 1661.97 942.555 Q1658.48 944.621 1658.48 949.604 Q1658.48 953.574 1661.08 955.923 Q1663.71 958.232 1668.21 958.232 Q1674.4 958.232 1678.13 953.857 Q1681.9 949.442 1681.9 942.15 L1681.9 940.489 L1674.48 940.489 M1689.35 937.411 L1689.35 963.296 L1681.9 963.296 L1681.9 956.409 Q1679.35 960.541 1675.54 962.526 Q1671.73 964.471 1666.22 964.471 Q1659.25 964.471 1655.12 960.582 Q1651.03 956.653 1651.03 950.09 Q1651.03 942.434 1656.13 938.545 Q1661.28 934.656 1671.45 934.656 L1681.9 934.656 L1681.9 933.927 Q1681.9 928.782 1678.49 925.987 Q1675.13 923.152 1669.02 923.152 Q1665.13 923.152 1661.44 924.083 Q1657.75 925.015 1654.35 926.878 L1654.35 919.992 Q1658.44 918.412 1662.29 917.642 Q1666.14 916.832 1669.78 916.832 Q1679.63 916.832 1684.49 921.936 Q1689.35 927.04 1689.35 937.411 Z\" fill=\"#000000\" fill-rule=\"evenodd\" fill-opacity=\"1\" /><path clip-path=\"url(#clip350)\" d=\"M 0 0 M1730.99 924.893 Q1729.74 924.164 1728.24 923.84 Q1726.78 923.476 1725 923.476 Q1718.68 923.476 1715.28 927.608 Q1711.91 931.699 1711.91 939.396 L1711.91 963.296 L1704.42 963.296 L1704.42 917.926 L1711.91 917.926 L1711.91 924.974 Q1714.26 920.843 1718.03 918.858 Q1721.8 916.832 1727.19 916.832 Q1727.96 916.832 1728.89 916.954 Q1729.82 917.035 1730.95 917.237 L1730.99 924.893 Z\" fill=\"#000000\" fill-rule=\"evenodd\" fill-opacity=\"1\" /><path clip-path=\"url(#clip350)\" d=\"M 0 0 M1763.64 924.893 Q1762.39 924.164 1760.89 923.84 Q1759.43 923.476 1757.65 923.476 Q1751.33 923.476 1747.93 927.608 Q1744.56 931.699 1744.56 939.396 L1744.56 963.296 L1737.07 963.296 L1737.07 917.926 L1744.56 917.926 L1744.56 924.974 Q1746.91 920.843 1750.68 918.858 Q1754.45 916.832 1759.84 916.832 Q1760.61 916.832 1761.54 916.954 Q1762.47 917.035 1763.6 917.237 L1763.64 924.893 Z\" fill=\"#000000\" fill-rule=\"evenodd\" fill-opacity=\"1\" /><path clip-path=\"url(#clip350)\" d=\"M 0 0 M1792.08 940.489 Q1783.05 940.489 1779.56 942.555 Q1776.08 944.621 1776.08 949.604 Q1776.08 953.574 1778.67 955.923 Q1781.31 958.232 1785.8 958.232 Q1792 958.232 1795.73 953.857 Q1799.49 949.442 1799.49 942.15 L1799.49 940.489 L1792.08 940.489 M1806.95 937.411 L1806.95 963.296 L1799.49 963.296 L1799.49 956.409 Q1796.94 960.541 1793.13 962.526 Q1789.33 964.471 1783.82 964.471 Q1776.85 964.471 1772.72 960.582 Q1768.63 956.653 1768.63 950.09 Q1768.63 942.434 1773.73 938.545 Q1778.88 934.656 1789.04 934.656 L1799.49 934.656 L1799.49 933.927 Q1799.49 928.782 1796.09 925.987 Q1792.73 923.152 1786.61 923.152 Q1782.72 923.152 1779.04 924.083 Q1775.35 925.015 1771.95 926.878 L1771.95 919.992 Q1776.04 918.412 1779.89 917.642 Q1783.74 916.832 1787.38 916.832 Q1797.23 916.832 1802.09 921.936 Q1806.95 927.04 1806.95 937.411 Z\" fill=\"#000000\" fill-rule=\"evenodd\" fill-opacity=\"1\" /><path clip-path=\"url(#clip350)\" d=\"M 0 0 M1841.18 967.509 Q1838.02 975.611 1835.02 978.082 Q1832.02 980.553 1827 980.553 L1821.05 980.553 L1821.05 974.314 L1825.42 974.314 Q1828.5 974.314 1830.2 972.856 Q1831.9 971.398 1833.97 965.97 L1835.3 962.567 L1816.95 917.926 L1824.85 917.926 L1839.03 953.412 L1853.21 917.926 L1861.11 917.926 L1841.18 967.509 Z\" fill=\"#000000\" fill-rule=\"evenodd\" fill-opacity=\"1\" /><path clip-path=\"url(#clip350)\" d=\"M 0 0 M1926.69 919.263 L1926.69 926.311 Q1923.53 924.691 1920.13 923.881 Q1916.73 923.071 1913.08 923.071 Q1907.53 923.071 1904.74 924.772 Q1901.98 926.473 1901.98 929.876 Q1901.98 932.469 1903.97 933.967 Q1905.95 935.426 1911.95 936.763 L1914.5 937.33 Q1922.44 939.031 1925.76 942.15 Q1929.12 945.229 1929.12 950.779 Q1929.12 957.098 1924.1 960.784 Q1919.12 964.471 1910.37 964.471 Q1906.72 964.471 1902.75 963.742 Q1898.82 963.053 1894.45 961.635 L1894.45 953.938 Q1898.58 956.085 1902.59 957.179 Q1906.6 958.232 1910.53 958.232 Q1915.8 958.232 1918.63 956.45 Q1921.47 954.627 1921.47 951.346 Q1921.47 948.308 1919.4 946.687 Q1917.38 945.067 1910.45 943.568 L1907.86 942.96 Q1900.93 941.502 1897.85 938.504 Q1894.77 935.466 1894.77 930.2 Q1894.77 923.8 1899.31 920.316 Q1903.85 916.832 1912.19 916.832 Q1916.32 916.832 1919.97 917.44 Q1923.61 918.047 1926.69 919.263 Z\" fill=\"#000000\" fill-rule=\"evenodd\" fill-opacity=\"1\" /><path clip-path=\"url(#clip350)\" d=\"M 0 0 M1940.99 917.926 L1948.45 917.926 L1948.45 963.296 L1940.99 963.296 L1940.99 917.926 M1940.99 900.264 L1948.45 900.264 L1948.45 909.703 L1940.99 909.703 L1940.99 900.264 Z\" fill=\"#000000\" fill-rule=\"evenodd\" fill-opacity=\"1\" /><path clip-path=\"url(#clip350)\" d=\"M 0 0 M1960.8 917.926 L1996.21 917.926 L1996.21 924.731 L1968.17 957.341 L1996.21 957.341 L1996.21 963.296 L1959.79 963.296 L1959.79 956.49 L1987.82 923.881 L1960.8 923.881 L1960.8 917.926 Z\" fill=\"#000000\" fill-rule=\"evenodd\" fill-opacity=\"1\" /><path clip-path=\"url(#clip350)\" d=\"M 0 0 M2046.4 938.748 L2046.4 942.393 L2012.13 942.393 Q2012.61 950.09 2016.74 954.141 Q2020.92 958.151 2028.33 958.151 Q2032.62 958.151 2036.63 957.098 Q2040.69 956.045 2044.66 953.938 L2044.66 960.987 Q2040.65 962.688 2036.43 963.58 Q2032.22 964.471 2027.88 964.471 Q2017.03 964.471 2010.67 958.151 Q2004.35 951.832 2004.35 941.057 Q2004.35 929.917 2010.34 923.395 Q2016.38 916.832 2026.59 916.832 Q2035.74 916.832 2041.05 922.746 Q2046.4 928.62 2046.4 938.748 M2038.94 936.56 Q2038.86 930.443 2035.5 926.797 Q2032.18 923.152 2026.67 923.152 Q2020.43 923.152 2016.66 926.676 Q2012.94 930.2 2012.37 936.601 L2038.94 936.56 Z\" fill=\"#000000\" fill-rule=\"evenodd\" fill-opacity=\"1\" /><path clip-path=\"url(#clip350)\" d=\"M 0 0 M2087.55 919.263 L2087.55 926.311 Q2084.39 924.691 2080.99 923.881 Q2077.59 923.071 2073.94 923.071 Q2068.39 923.071 2065.6 924.772 Q2062.84 926.473 2062.84 929.876 Q2062.84 932.469 2064.83 933.967 Q2066.81 935.426 2072.81 936.763 L2075.36 937.33 Q2083.3 939.031 2086.62 942.15 Q2089.99 945.229 2089.99 950.779 Q2089.99 957.098 2084.96 960.784 Q2079.98 964.471 2071.23 964.471 Q2067.58 964.471 2063.61 963.742 Q2059.68 963.053 2055.31 961.635 L2055.31 953.938 Q2059.44 956.085 2063.45 957.179 Q2067.46 958.232 2071.39 958.232 Q2076.66 958.232 2079.49 956.45 Q2082.33 954.627 2082.33 951.346 Q2082.33 948.308 2080.26 946.687 Q2078.24 945.067 2071.31 943.568 L2068.72 942.96 Q2061.79 941.502 2058.71 938.504 Q2055.63 935.466 2055.63 930.2 Q2055.63 923.8 2060.17 920.316 Q2064.71 916.832 2073.05 916.832 Q2077.18 916.832 2080.83 917.44 Q2084.48 918.047 2087.55 919.263 Z\" fill=\"#000000\" fill-rule=\"evenodd\" fill-opacity=\"1\" /><polyline clip-path=\"url(#clip353)\" style=\"stroke:#000000; stroke-width:4; stroke-opacity:1; fill:none\" points=\"\n",
       "  454.794,1376.2 454.794,1375.02 \n",
       "  \"/>\n",
       "<polyline clip-path=\"url(#clip353)\" style=\"stroke:#000000; stroke-width:4; stroke-opacity:1; fill:none\" points=\"\n",
       "  659.537,1410.75 659.537,1276.11 \n",
       "  \"/>\n",
       "<polyline clip-path=\"url(#clip353)\" style=\"stroke:#000000; stroke-width:4; stroke-opacity:1; fill:none\" points=\"\n",
       "  864.279,1407.35 864.279,1273.06 \n",
       "  \"/>\n",
       "<polyline clip-path=\"url(#clip353)\" style=\"stroke:#000000; stroke-width:4; stroke-opacity:1; fill:none\" points=\"\n",
       "  1069.02,1388.42 1069.02,1248.21 \n",
       "  \"/>\n",
       "<polyline clip-path=\"url(#clip353)\" style=\"stroke:#000000; stroke-width:4; stroke-opacity:1; fill:none\" points=\"\n",
       "  1273.76,1382.5 1273.76,1238.26 \n",
       "  \"/>\n",
       "<polyline clip-path=\"url(#clip353)\" style=\"stroke:#000000; stroke-width:4; stroke-opacity:1; fill:none\" points=\"\n",
       "  1478.51,1313.08 1478.51,1258.66 \n",
       "  \"/>\n",
       "<polyline clip-path=\"url(#clip353)\" style=\"stroke:#000000; stroke-width:4; stroke-opacity:1; fill:none\" points=\"\n",
       "  1683.25,1326.66 1683.25,1014.76 \n",
       "  \"/>\n",
       "<polyline clip-path=\"url(#clip353)\" style=\"stroke:#000000; stroke-width:4; stroke-opacity:1; fill:none\" points=\"\n",
       "  1887.99,1285.73 1887.99,1131.37 \n",
       "  \"/>\n",
       "<polyline clip-path=\"url(#clip353)\" style=\"stroke:#000000; stroke-width:4; stroke-opacity:1; fill:none\" points=\"\n",
       "  2092.73,1245.63 2092.73,1051.51 \n",
       "  \"/>\n",
       "<polyline clip-path=\"url(#clip353)\" style=\"stroke:#000000; stroke-width:4; stroke-opacity:1; fill:none\" points=\"\n",
       "  2297.48,1162.07 2297.48,996.383 \n",
       "  \"/>\n",
       "<line clip-path=\"url(#clip353)\" x1=\"470.794\" y1=\"1376.2\" x2=\"438.794\" y2=\"1376.2\" style=\"stroke:#000000; stroke-width:3.2; stroke-opacity:1\"/>\n",
       "<line clip-path=\"url(#clip353)\" x1=\"470.794\" y1=\"1375.02\" x2=\"438.794\" y2=\"1375.02\" style=\"stroke:#000000; stroke-width:3.2; stroke-opacity:1\"/>\n",
       "<line clip-path=\"url(#clip353)\" x1=\"675.537\" y1=\"1410.75\" x2=\"643.537\" y2=\"1410.75\" style=\"stroke:#000000; stroke-width:3.2; stroke-opacity:1\"/>\n",
       "<line clip-path=\"url(#clip353)\" x1=\"675.537\" y1=\"1276.11\" x2=\"643.537\" y2=\"1276.11\" style=\"stroke:#000000; stroke-width:3.2; stroke-opacity:1\"/>\n",
       "<line clip-path=\"url(#clip353)\" x1=\"880.279\" y1=\"1407.35\" x2=\"848.279\" y2=\"1407.35\" style=\"stroke:#000000; stroke-width:3.2; stroke-opacity:1\"/>\n",
       "<line clip-path=\"url(#clip353)\" x1=\"880.279\" y1=\"1273.06\" x2=\"848.279\" y2=\"1273.06\" style=\"stroke:#000000; stroke-width:3.2; stroke-opacity:1\"/>\n",
       "<line clip-path=\"url(#clip353)\" x1=\"1085.02\" y1=\"1388.42\" x2=\"1053.02\" y2=\"1388.42\" style=\"stroke:#000000; stroke-width:3.2; stroke-opacity:1\"/>\n",
       "<line clip-path=\"url(#clip353)\" x1=\"1085.02\" y1=\"1248.21\" x2=\"1053.02\" y2=\"1248.21\" style=\"stroke:#000000; stroke-width:3.2; stroke-opacity:1\"/>\n",
       "<line clip-path=\"url(#clip353)\" x1=\"1289.76\" y1=\"1382.5\" x2=\"1257.76\" y2=\"1382.5\" style=\"stroke:#000000; stroke-width:3.2; stroke-opacity:1\"/>\n",
       "<line clip-path=\"url(#clip353)\" x1=\"1289.76\" y1=\"1238.26\" x2=\"1257.76\" y2=\"1238.26\" style=\"stroke:#000000; stroke-width:3.2; stroke-opacity:1\"/>\n",
       "<line clip-path=\"url(#clip353)\" x1=\"1494.51\" y1=\"1313.08\" x2=\"1462.51\" y2=\"1313.08\" style=\"stroke:#000000; stroke-width:3.2; stroke-opacity:1\"/>\n",
       "<line clip-path=\"url(#clip353)\" x1=\"1494.51\" y1=\"1258.66\" x2=\"1462.51\" y2=\"1258.66\" style=\"stroke:#000000; stroke-width:3.2; stroke-opacity:1\"/>\n",
       "<line clip-path=\"url(#clip353)\" x1=\"1699.25\" y1=\"1326.66\" x2=\"1667.25\" y2=\"1326.66\" style=\"stroke:#000000; stroke-width:3.2; stroke-opacity:1\"/>\n",
       "<line clip-path=\"url(#clip353)\" x1=\"1699.25\" y1=\"1014.76\" x2=\"1667.25\" y2=\"1014.76\" style=\"stroke:#000000; stroke-width:3.2; stroke-opacity:1\"/>\n",
       "<line clip-path=\"url(#clip353)\" x1=\"1903.99\" y1=\"1285.73\" x2=\"1871.99\" y2=\"1285.73\" style=\"stroke:#000000; stroke-width:3.2; stroke-opacity:1\"/>\n",
       "<line clip-path=\"url(#clip353)\" x1=\"1903.99\" y1=\"1131.37\" x2=\"1871.99\" y2=\"1131.37\" style=\"stroke:#000000; stroke-width:3.2; stroke-opacity:1\"/>\n",
       "<line clip-path=\"url(#clip353)\" x1=\"2108.73\" y1=\"1245.63\" x2=\"2076.73\" y2=\"1245.63\" style=\"stroke:#000000; stroke-width:3.2; stroke-opacity:1\"/>\n",
       "<line clip-path=\"url(#clip353)\" x1=\"2108.73\" y1=\"1051.51\" x2=\"2076.73\" y2=\"1051.51\" style=\"stroke:#000000; stroke-width:3.2; stroke-opacity:1\"/>\n",
       "<line clip-path=\"url(#clip353)\" x1=\"2313.48\" y1=\"1162.07\" x2=\"2281.48\" y2=\"1162.07\" style=\"stroke:#000000; stroke-width:3.2; stroke-opacity:1\"/>\n",
       "<line clip-path=\"url(#clip353)\" x1=\"2313.48\" y1=\"996.383\" x2=\"2281.48\" y2=\"996.383\" style=\"stroke:#000000; stroke-width:3.2; stroke-opacity:1\"/>\n",
       "<circle clip-path=\"url(#clip353)\" cx=\"454.794\" cy=\"1375.61\" r=\"14\" fill=\"#800080\" fill-rule=\"evenodd\" fill-opacity=\"1\" stroke=\"#000000\" stroke-opacity=\"1\" stroke-width=\"3.2\"/>\n",
       "<circle clip-path=\"url(#clip353)\" cx=\"659.537\" cy=\"1343.43\" r=\"14\" fill=\"#800080\" fill-rule=\"evenodd\" fill-opacity=\"1\" stroke=\"#000000\" stroke-opacity=\"1\" stroke-width=\"3.2\"/>\n",
       "<circle clip-path=\"url(#clip353)\" cx=\"864.279\" cy=\"1340.2\" r=\"14\" fill=\"#800080\" fill-rule=\"evenodd\" fill-opacity=\"1\" stroke=\"#000000\" stroke-opacity=\"1\" stroke-width=\"3.2\"/>\n",
       "<circle clip-path=\"url(#clip353)\" cx=\"1069.02\" cy=\"1318.31\" r=\"14\" fill=\"#800080\" fill-rule=\"evenodd\" fill-opacity=\"1\" stroke=\"#000000\" stroke-opacity=\"1\" stroke-width=\"3.2\"/>\n",
       "<circle clip-path=\"url(#clip353)\" cx=\"1273.76\" cy=\"1310.38\" r=\"14\" fill=\"#800080\" fill-rule=\"evenodd\" fill-opacity=\"1\" stroke=\"#000000\" stroke-opacity=\"1\" stroke-width=\"3.2\"/>\n",
       "<circle clip-path=\"url(#clip353)\" cx=\"1478.51\" cy=\"1285.87\" r=\"14\" fill=\"#800080\" fill-rule=\"evenodd\" fill-opacity=\"1\" stroke=\"#000000\" stroke-opacity=\"1\" stroke-width=\"3.2\"/>\n",
       "<circle clip-path=\"url(#clip353)\" cx=\"1683.25\" cy=\"1170.71\" r=\"14\" fill=\"#800080\" fill-rule=\"evenodd\" fill-opacity=\"1\" stroke=\"#000000\" stroke-opacity=\"1\" stroke-width=\"3.2\"/>\n",
       "<circle clip-path=\"url(#clip353)\" cx=\"1887.99\" cy=\"1208.55\" r=\"14\" fill=\"#800080\" fill-rule=\"evenodd\" fill-opacity=\"1\" stroke=\"#000000\" stroke-opacity=\"1\" stroke-width=\"3.2\"/>\n",
       "<circle clip-path=\"url(#clip353)\" cx=\"2092.73\" cy=\"1148.57\" r=\"14\" fill=\"#800080\" fill-rule=\"evenodd\" fill-opacity=\"1\" stroke=\"#000000\" stroke-opacity=\"1\" stroke-width=\"3.2\"/>\n",
       "<circle clip-path=\"url(#clip353)\" cx=\"2297.48\" cy=\"1079.23\" r=\"14\" fill=\"#800080\" fill-rule=\"evenodd\" fill-opacity=\"1\" stroke=\"#000000\" stroke-opacity=\"1\" stroke-width=\"3.2\"/>\n",
       "<path clip-path=\"url(#clip350)\" d=\"\n",
       "M1438.61 1119.55 L2287.65 1119.55 L2287.65 998.593 L1438.61 998.593  Z\n",
       "  \" fill=\"#ffffff\" fill-rule=\"evenodd\" fill-opacity=\"1\"/>\n",
       "<polyline clip-path=\"url(#clip350)\" style=\"stroke:#000000; stroke-width:4; stroke-opacity:1; fill:none\" points=\"\n",
       "  1438.61,1119.55 2287.65,1119.55 2287.65,998.593 1438.61,998.593 1438.61,1119.55 \n",
       "  \"/>\n",
       "<circle clip-path=\"url(#clip350)\" cx=\"1525.42\" cy=\"1059.07\" r=\"23\" fill=\"#800080\" fill-rule=\"evenodd\" fill-opacity=\"1\" stroke=\"#000000\" stroke-opacity=\"1\" stroke-width=\"5.12\"/>\n",
       "<path clip-path=\"url(#clip350)\" d=\"M 0 0 M1630.66 1051.19 L1630.66 1055.22 Q1628.85 1054.29 1626.91 1053.83 Q1624.96 1053.37 1622.88 1053.37 Q1619.71 1053.37 1618.11 1054.34 Q1616.54 1055.31 1616.54 1057.26 Q1616.54 1058.74 1617.67 1059.59 Q1618.81 1060.43 1622.23 1061.19 L1623.69 1061.52 Q1628.23 1062.49 1630.13 1064.27 Q1632.05 1066.03 1632.05 1069.2 Q1632.05 1072.81 1629.18 1074.92 Q1626.33 1077.02 1621.33 1077.02 Q1619.25 1077.02 1616.98 1076.61 Q1614.73 1076.21 1612.23 1075.4 L1612.23 1071.01 Q1614.59 1072.23 1616.88 1072.86 Q1619.18 1073.46 1621.42 1073.46 Q1624.43 1073.46 1626.05 1072.44 Q1627.67 1071.4 1627.67 1069.52 Q1627.67 1067.79 1626.49 1066.86 Q1625.33 1065.94 1621.38 1065.08 L1619.89 1064.73 Q1615.94 1063.9 1614.18 1062.19 Q1612.42 1060.45 1612.42 1057.44 Q1612.42 1053.78 1615.01 1051.79 Q1617.6 1049.8 1622.37 1049.8 Q1624.73 1049.8 1626.82 1050.15 Q1628.9 1050.5 1630.66 1051.19 Z\" fill=\"#000000\" fill-rule=\"evenodd\" fill-opacity=\"1\" /><path clip-path=\"url(#clip350)\" d=\"M 0 0 M1641.38 1063.41 Q1641.38 1068.11 1643.3 1070.8 Q1645.24 1073.46 1648.62 1073.46 Q1652 1073.46 1653.94 1070.8 Q1655.89 1068.11 1655.89 1063.41 Q1655.89 1058.71 1653.94 1056.05 Q1652 1053.37 1648.62 1053.37 Q1645.24 1053.37 1643.3 1056.05 Q1641.38 1058.71 1641.38 1063.41 M1655.89 1072.46 Q1654.55 1074.78 1652.49 1075.91 Q1650.45 1077.02 1647.58 1077.02 Q1642.88 1077.02 1639.92 1073.27 Q1636.98 1069.52 1636.98 1063.41 Q1636.98 1057.3 1639.92 1053.55 Q1642.88 1049.8 1647.58 1049.8 Q1650.45 1049.8 1652.49 1050.94 Q1654.55 1052.05 1655.89 1054.36 L1655.89 1050.43 L1660.15 1050.43 L1660.15 1086.21 L1655.89 1086.21 L1655.89 1072.46 Z\" fill=\"#000000\" fill-rule=\"evenodd\" fill-opacity=\"1\" /><path clip-path=\"url(#clip350)\" d=\"M 0 0 M1668.48 1066.12 L1668.48 1050.43 L1672.74 1050.43 L1672.74 1065.96 Q1672.74 1069.64 1674.18 1071.49 Q1675.61 1073.32 1678.48 1073.32 Q1681.93 1073.32 1683.92 1071.12 Q1685.94 1068.92 1685.94 1065.13 L1685.94 1050.43 L1690.19 1050.43 L1690.19 1076.35 L1685.94 1076.35 L1685.94 1072.37 Q1684.38 1074.73 1682.32 1075.89 Q1680.29 1077.02 1677.58 1077.02 Q1673.11 1077.02 1670.8 1074.25 Q1668.48 1071.47 1668.48 1066.12 M1679.2 1049.8 L1679.2 1049.8 Z\" fill=\"#000000\" fill-rule=\"evenodd\" fill-opacity=\"1\" /><path clip-path=\"url(#clip350)\" d=\"M 0 0 M1710.75 1063.32 Q1705.59 1063.32 1703.6 1064.5 Q1701.61 1065.68 1701.61 1068.53 Q1701.61 1070.8 1703.09 1072.14 Q1704.59 1073.46 1707.16 1073.46 Q1710.7 1073.46 1712.83 1070.96 Q1714.99 1068.44 1714.99 1064.27 L1714.99 1063.32 L1710.75 1063.32 M1719.25 1061.56 L1719.25 1076.35 L1714.99 1076.35 L1714.99 1072.42 Q1713.53 1074.78 1711.35 1075.91 Q1709.18 1077.02 1706.03 1077.02 Q1702.05 1077.02 1699.69 1074.8 Q1697.35 1072.56 1697.35 1068.81 Q1697.35 1064.43 1700.26 1062.21 Q1703.2 1059.99 1709.01 1059.99 L1714.99 1059.99 L1714.99 1059.57 Q1714.99 1056.63 1713.04 1055.03 Q1711.12 1053.41 1707.62 1053.41 Q1705.4 1053.41 1703.3 1053.95 Q1701.19 1054.48 1699.25 1055.54 L1699.25 1051.61 Q1701.58 1050.71 1703.78 1050.27 Q1705.98 1049.8 1708.06 1049.8 Q1713.69 1049.8 1716.47 1052.72 Q1719.25 1055.64 1719.25 1061.56 Z\" fill=\"#000000\" fill-rule=\"evenodd\" fill-opacity=\"1\" /><path clip-path=\"url(#clip350)\" d=\"M 0 0 M1743.04 1054.41 Q1742.32 1053.99 1741.47 1053.81 Q1740.63 1053.6 1739.62 1053.6 Q1736 1053.6 1734.06 1055.96 Q1732.14 1058.3 1732.14 1062.7 L1732.14 1076.35 L1727.86 1076.35 L1727.86 1050.43 L1732.14 1050.43 L1732.14 1054.46 Q1733.48 1052.09 1735.63 1050.96 Q1737.79 1049.8 1740.87 1049.8 Q1741.31 1049.8 1741.84 1049.87 Q1742.37 1049.92 1743.02 1050.03 L1743.04 1054.41 Z\" fill=\"#000000\" fill-rule=\"evenodd\" fill-opacity=\"1\" /><path clip-path=\"url(#clip350)\" d=\"M 0 0 M1768.64 1062.33 L1768.64 1064.41 L1749.06 1064.41 Q1749.34 1068.81 1751.7 1071.12 Q1754.08 1073.41 1758.32 1073.41 Q1760.77 1073.41 1763.06 1072.81 Q1765.38 1072.21 1767.65 1071.01 L1767.65 1075.03 Q1765.36 1076.01 1762.95 1076.52 Q1760.54 1077.02 1758.06 1077.02 Q1751.86 1077.02 1748.23 1073.41 Q1744.62 1069.8 1744.62 1063.64 Q1744.62 1057.28 1748.04 1053.55 Q1751.49 1049.8 1757.32 1049.8 Q1762.56 1049.8 1765.59 1053.18 Q1768.64 1056.54 1768.64 1062.33 M1764.38 1061.08 Q1764.34 1057.58 1762.42 1055.5 Q1760.52 1053.41 1757.37 1053.41 Q1753.81 1053.41 1751.65 1055.43 Q1749.52 1057.44 1749.2 1061.1 L1764.38 1061.08 Z\" fill=\"#000000\" fill-rule=\"evenodd\" fill-opacity=\"1\" /><path clip-path=\"url(#clip350)\" d=\"M 0 0 M1810.89 1055.4 Q1812.49 1052.53 1814.71 1051.17 Q1816.93 1049.8 1819.94 1049.8 Q1823.99 1049.8 1826.19 1052.65 Q1828.39 1055.47 1828.39 1060.7 L1828.39 1076.35 L1824.11 1076.35 L1824.11 1060.84 Q1824.11 1057.12 1822.79 1055.31 Q1821.47 1053.51 1818.76 1053.51 Q1815.45 1053.51 1813.53 1055.71 Q1811.61 1057.9 1811.61 1061.7 L1811.61 1076.35 L1807.32 1076.35 L1807.32 1060.84 Q1807.32 1057.09 1806 1055.31 Q1804.68 1053.51 1801.93 1053.51 Q1798.67 1053.51 1796.74 1055.73 Q1794.82 1057.93 1794.82 1061.7 L1794.82 1076.35 L1790.54 1076.35 L1790.54 1050.43 L1794.82 1050.43 L1794.82 1054.46 Q1796.28 1052.07 1798.32 1050.94 Q1800.36 1049.8 1803.16 1049.8 Q1805.98 1049.8 1807.95 1051.24 Q1809.94 1052.67 1810.89 1055.4 Z\" fill=\"#000000\" fill-rule=\"evenodd\" fill-opacity=\"1\" /><path clip-path=\"url(#clip350)\" d=\"M 0 0 M1848.67 1063.32 Q1843.5 1063.32 1841.51 1064.5 Q1839.52 1065.68 1839.52 1068.53 Q1839.52 1070.8 1841 1072.14 Q1842.51 1073.46 1845.08 1073.46 Q1848.62 1073.46 1850.75 1070.96 Q1852.9 1068.44 1852.9 1064.27 L1852.9 1063.32 L1848.67 1063.32 M1857.16 1061.56 L1857.16 1076.35 L1852.9 1076.35 L1852.9 1072.42 Q1851.44 1074.78 1849.27 1075.91 Q1847.09 1077.02 1843.94 1077.02 Q1839.96 1077.02 1837.6 1074.8 Q1835.26 1072.56 1835.26 1068.81 Q1835.26 1064.43 1838.18 1062.21 Q1841.12 1059.99 1846.93 1059.99 L1852.9 1059.99 L1852.9 1059.57 Q1852.9 1056.63 1850.96 1055.03 Q1849.04 1053.41 1845.54 1053.41 Q1843.32 1053.41 1841.21 1053.95 Q1839.11 1054.48 1837.16 1055.54 L1837.16 1051.61 Q1839.5 1050.71 1841.7 1050.27 Q1843.9 1049.8 1845.98 1049.8 Q1851.61 1049.8 1854.38 1052.72 Q1857.16 1055.64 1857.16 1061.56 Z\" fill=\"#000000\" fill-rule=\"evenodd\" fill-opacity=\"1\" /><path clip-path=\"url(#clip350)\" d=\"M 0 0 M1870.15 1043.07 L1870.15 1050.43 L1878.92 1050.43 L1878.92 1053.74 L1870.15 1053.74 L1870.15 1067.81 Q1870.15 1070.98 1871 1071.89 Q1871.88 1072.79 1874.55 1072.79 L1878.92 1072.79 L1878.92 1076.35 L1874.55 1076.35 Q1869.61 1076.35 1867.74 1074.52 Q1865.86 1072.67 1865.86 1067.81 L1865.86 1053.74 L1862.74 1053.74 L1862.74 1050.43 L1865.86 1050.43 L1865.86 1043.07 L1870.15 1043.07 Z\" fill=\"#000000\" fill-rule=\"evenodd\" fill-opacity=\"1\" /><path clip-path=\"url(#clip350)\" d=\"M 0 0 M1899.55 1054.41 Q1898.83 1053.99 1897.97 1053.81 Q1897.14 1053.6 1896.12 1053.6 Q1892.51 1053.6 1890.56 1055.96 Q1888.64 1058.3 1888.64 1062.7 L1888.64 1076.35 L1884.36 1076.35 L1884.36 1050.43 L1888.64 1050.43 L1888.64 1054.46 Q1889.99 1052.09 1892.14 1050.96 Q1894.29 1049.8 1897.37 1049.8 Q1897.81 1049.8 1898.34 1049.87 Q1898.87 1049.92 1899.52 1050.03 L1899.55 1054.41 Z\" fill=\"#000000\" fill-rule=\"evenodd\" fill-opacity=\"1\" /><path clip-path=\"url(#clip350)\" d=\"M 0 0 M1904.01 1050.43 L1908.27 1050.43 L1908.27 1076.35 L1904.01 1076.35 L1904.01 1050.43 M1904.01 1040.33 L1908.27 1040.33 L1908.27 1045.73 L1904.01 1045.73 L1904.01 1040.33 Z\" fill=\"#000000\" fill-rule=\"evenodd\" fill-opacity=\"1\" /><path clip-path=\"url(#clip350)\" d=\"M 0 0 M1938.73 1050.43 L1929.36 1063.04 L1939.22 1076.35 L1934.2 1076.35 L1926.65 1066.17 L1919.11 1076.35 L1914.08 1076.35 L1924.15 1062.79 L1914.94 1050.43 L1919.96 1050.43 L1926.84 1059.66 L1933.71 1050.43 L1938.73 1050.43 Z\" fill=\"#000000\" fill-rule=\"evenodd\" fill-opacity=\"1\" /><path clip-path=\"url(#clip350)\" d=\"M 0 0 M1964.52 1043.07 L1964.52 1050.43 L1973.29 1050.43 L1973.29 1053.74 L1964.52 1053.74 L1964.52 1067.81 Q1964.52 1070.98 1965.38 1071.89 Q1966.26 1072.79 1968.92 1072.79 L1973.29 1072.79 L1973.29 1076.35 L1968.92 1076.35 Q1963.99 1076.35 1962.11 1074.52 Q1960.24 1072.67 1960.24 1067.81 L1960.24 1053.74 L1957.11 1053.74 L1957.11 1050.43 L1960.24 1050.43 L1960.24 1043.07 L1964.52 1043.07 Z\" fill=\"#000000\" fill-rule=\"evenodd\" fill-opacity=\"1\" /><path clip-path=\"url(#clip350)\" d=\"M 0 0 M1978.9 1050.43 L1983.16 1050.43 L1983.16 1076.35 L1978.9 1076.35 L1978.9 1050.43 M1978.9 1040.33 L1983.16 1040.33 L1983.16 1045.73 L1978.9 1045.73 L1978.9 1040.33 Z\" fill=\"#000000\" fill-rule=\"evenodd\" fill-opacity=\"1\" /><path clip-path=\"url(#clip350)\" d=\"M 0 0 M2012.25 1055.4 Q2013.85 1052.53 2016.07 1051.17 Q2018.29 1049.8 2021.3 1049.8 Q2025.35 1049.8 2027.55 1052.65 Q2029.75 1055.47 2029.75 1060.7 L2029.75 1076.35 L2025.47 1076.35 L2025.47 1060.84 Q2025.47 1057.12 2024.15 1055.31 Q2022.83 1053.51 2020.12 1053.51 Q2016.81 1053.51 2014.89 1055.71 Q2012.97 1057.9 2012.97 1061.7 L2012.97 1076.35 L2008.69 1076.35 L2008.69 1060.84 Q2008.69 1057.09 2007.37 1055.31 Q2006.05 1053.51 2003.29 1053.51 Q2000.03 1053.51 1998.11 1055.73 Q1996.19 1057.93 1996.19 1061.7 L1996.19 1076.35 L1991.91 1076.35 L1991.91 1050.43 L1996.19 1050.43 L1996.19 1054.46 Q1997.65 1052.07 1999.68 1050.94 Q2001.72 1049.8 2004.52 1049.8 Q2007.35 1049.8 2009.31 1051.24 Q2011.3 1052.67 2012.25 1055.4 Z\" fill=\"#000000\" fill-rule=\"evenodd\" fill-opacity=\"1\" /><path clip-path=\"url(#clip350)\" d=\"M 0 0 M2060.42 1062.33 L2060.42 1064.41 L2040.84 1064.41 Q2041.12 1068.81 2043.48 1071.12 Q2045.86 1073.41 2050.1 1073.41 Q2052.55 1073.41 2054.85 1072.81 Q2057.16 1072.21 2059.43 1071.01 L2059.43 1075.03 Q2057.14 1076.01 2054.73 1076.52 Q2052.32 1077.02 2049.85 1077.02 Q2043.64 1077.02 2040.01 1073.41 Q2036.4 1069.8 2036.4 1063.64 Q2036.4 1057.28 2039.82 1053.55 Q2043.27 1049.8 2049.1 1049.8 Q2054.34 1049.8 2057.37 1053.18 Q2060.42 1056.54 2060.42 1062.33 M2056.16 1061.08 Q2056.12 1057.58 2054.2 1055.5 Q2052.3 1053.41 2049.15 1053.41 Q2045.59 1053.41 2043.43 1055.43 Q2041.3 1057.44 2040.98 1061.1 L2056.16 1061.08 Z\" fill=\"#000000\" fill-rule=\"evenodd\" fill-opacity=\"1\" /><path clip-path=\"url(#clip350)\" d=\"M 0 0 M2083.94 1051.19 L2083.94 1055.22 Q2082.14 1054.29 2080.19 1053.83 Q2078.25 1053.37 2076.16 1053.37 Q2072.99 1053.37 2071.4 1054.34 Q2069.82 1055.31 2069.82 1057.26 Q2069.82 1058.74 2070.96 1059.59 Q2072.09 1060.43 2075.52 1061.19 L2076.97 1061.52 Q2081.51 1062.49 2083.41 1064.27 Q2085.33 1066.03 2085.33 1069.2 Q2085.33 1072.81 2082.46 1074.92 Q2079.61 1077.02 2074.61 1077.02 Q2072.53 1077.02 2070.26 1076.61 Q2068.02 1076.21 2065.52 1075.4 L2065.52 1071.01 Q2067.88 1072.23 2070.17 1072.86 Q2072.46 1073.46 2074.71 1073.46 Q2077.72 1073.46 2079.34 1072.44 Q2080.96 1071.4 2080.96 1069.52 Q2080.96 1067.79 2079.78 1066.86 Q2078.62 1065.94 2074.66 1065.08 L2073.18 1064.73 Q2069.22 1063.9 2067.46 1062.19 Q2065.7 1060.45 2065.7 1057.44 Q2065.7 1053.78 2068.29 1051.79 Q2070.89 1049.8 2075.66 1049.8 Q2078.02 1049.8 2080.1 1050.15 Q2082.18 1050.5 2083.94 1051.19 Z\" fill=\"#000000\" fill-rule=\"evenodd\" fill-opacity=\"1\" /><path clip-path=\"url(#clip350)\" d=\"M 0 0 M2123.71 1051.19 L2123.71 1055.22 Q2121.91 1054.29 2119.96 1053.83 Q2118.02 1053.37 2115.93 1053.37 Q2112.76 1053.37 2111.16 1054.34 Q2109.59 1055.31 2109.59 1057.26 Q2109.59 1058.74 2110.72 1059.59 Q2111.86 1060.43 2115.28 1061.19 L2116.74 1061.52 Q2121.28 1062.49 2123.18 1064.27 Q2125.1 1066.03 2125.1 1069.2 Q2125.1 1072.81 2122.23 1074.92 Q2119.38 1077.02 2114.38 1077.02 Q2112.3 1077.02 2110.03 1076.61 Q2107.78 1076.21 2105.28 1075.4 L2105.28 1071.01 Q2107.65 1072.23 2109.94 1072.86 Q2112.23 1073.46 2114.47 1073.46 Q2117.48 1073.46 2119.1 1072.44 Q2120.72 1071.4 2120.72 1069.52 Q2120.72 1067.79 2119.54 1066.86 Q2118.39 1065.94 2114.43 1065.08 L2112.95 1064.73 Q2108.99 1063.9 2107.23 1062.19 Q2105.47 1060.45 2105.47 1057.44 Q2105.47 1053.78 2108.06 1051.79 Q2110.66 1049.8 2115.42 1049.8 Q2117.78 1049.8 2119.87 1050.15 Q2121.95 1050.5 2123.71 1051.19 Z\" fill=\"#000000\" fill-rule=\"evenodd\" fill-opacity=\"1\" /><path clip-path=\"url(#clip350)\" d=\"M 0 0 M2150.54 1051.42 L2150.54 1055.4 Q2148.73 1054.41 2146.91 1053.92 Q2145.1 1053.41 2143.25 1053.41 Q2139.1 1053.41 2136.81 1056.05 Q2134.52 1058.67 2134.52 1063.41 Q2134.52 1068.16 2136.81 1070.8 Q2139.1 1073.41 2143.25 1073.41 Q2145.1 1073.41 2146.91 1072.93 Q2148.73 1072.42 2150.54 1071.42 L2150.54 1075.36 Q2148.76 1076.19 2146.84 1076.61 Q2144.94 1077.02 2142.78 1077.02 Q2136.93 1077.02 2133.48 1073.34 Q2130.03 1069.66 2130.03 1063.41 Q2130.03 1057.07 2133.5 1053.44 Q2137 1049.8 2143.06 1049.8 Q2145.03 1049.8 2146.91 1050.22 Q2148.78 1050.61 2150.54 1051.42 Z\" fill=\"#000000\" fill-rule=\"evenodd\" fill-opacity=\"1\" /><path clip-path=\"url(#clip350)\" d=\"M 0 0 M2169.73 1063.32 Q2164.57 1063.32 2162.58 1064.5 Q2160.59 1065.68 2160.59 1068.53 Q2160.59 1070.8 2162.07 1072.14 Q2163.57 1073.46 2166.14 1073.46 Q2169.68 1073.46 2171.81 1070.96 Q2173.97 1068.44 2173.97 1064.27 L2173.97 1063.32 L2169.73 1063.32 M2178.22 1061.56 L2178.22 1076.35 L2173.97 1076.35 L2173.97 1072.42 Q2172.51 1074.78 2170.33 1075.91 Q2168.15 1077.02 2165.01 1077.02 Q2161.03 1077.02 2158.66 1074.8 Q2156.33 1072.56 2156.33 1068.81 Q2156.33 1064.43 2159.24 1062.21 Q2162.18 1059.99 2167.99 1059.99 L2173.97 1059.99 L2173.97 1059.57 Q2173.97 1056.63 2172.02 1055.03 Q2170.1 1053.41 2166.6 1053.41 Q2164.38 1053.41 2162.28 1053.95 Q2160.17 1054.48 2158.22 1055.54 L2158.22 1051.61 Q2160.56 1050.71 2162.76 1050.27 Q2164.96 1049.8 2167.04 1049.8 Q2172.67 1049.8 2175.45 1052.72 Q2178.22 1055.64 2178.22 1061.56 Z\" fill=\"#000000\" fill-rule=\"evenodd\" fill-opacity=\"1\" /><path clip-path=\"url(#clip350)\" d=\"M 0 0 M2187 1040.33 L2191.26 1040.33 L2191.26 1076.35 L2187 1076.35 L2187 1040.33 Z\" fill=\"#000000\" fill-rule=\"evenodd\" fill-opacity=\"1\" /><path clip-path=\"url(#clip350)\" d=\"M 0 0 M2211.95 1063.32 Q2206.79 1063.32 2204.8 1064.5 Q2202.81 1065.68 2202.81 1068.53 Q2202.81 1070.8 2204.29 1072.14 Q2205.79 1073.46 2208.36 1073.46 Q2211.9 1073.46 2214.03 1070.96 Q2216.19 1068.44 2216.19 1064.27 L2216.19 1063.32 L2211.95 1063.32 M2220.45 1061.56 L2220.45 1076.35 L2216.19 1076.35 L2216.19 1072.42 Q2214.73 1074.78 2212.55 1075.91 Q2210.38 1077.02 2207.23 1077.02 Q2203.25 1077.02 2200.89 1074.8 Q2198.55 1072.56 2198.55 1068.81 Q2198.55 1064.43 2201.46 1062.21 Q2204.4 1059.99 2210.21 1059.99 L2216.19 1059.99 L2216.19 1059.57 Q2216.19 1056.63 2214.24 1055.03 Q2212.32 1053.41 2208.83 1053.41 Q2206.6 1053.41 2204.5 1053.95 Q2202.39 1054.48 2200.45 1055.54 L2200.45 1051.61 Q2202.78 1050.71 2204.98 1050.27 Q2207.18 1049.8 2209.27 1049.8 Q2214.89 1049.8 2217.67 1052.72 Q2220.45 1055.64 2220.45 1061.56 Z\" fill=\"#000000\" fill-rule=\"evenodd\" fill-opacity=\"1\" /><path clip-path=\"url(#clip350)\" d=\"M 0 0 M2244.24 1054.41 Q2243.52 1053.99 2242.67 1053.81 Q2241.84 1053.6 2240.82 1053.6 Q2237.21 1053.6 2235.26 1055.96 Q2233.34 1058.3 2233.34 1062.7 L2233.34 1076.35 L2229.06 1076.35 L2229.06 1050.43 L2233.34 1050.43 L2233.34 1054.46 Q2234.68 1052.09 2236.84 1050.96 Q2238.99 1049.8 2242.07 1049.8 Q2242.51 1049.8 2243.04 1049.87 Q2243.57 1049.92 2244.22 1050.03 L2244.24 1054.41 Z\" fill=\"#000000\" fill-rule=\"evenodd\" fill-opacity=\"1\" /></svg>\n"
      ]
     },
     "execution_count": 61,
     "metadata": {},
     "output_type": "execute_result"
    }
   ],
   "source": [
    "using Plots\n",
    "scatter(data_to_plot.length,\n",
    "    [data_to_plot.dot_mean data_to_plot.scalar_mean],\n",
    "    colour = [:violet :purple ],\n",
    "    yerr= [data_to_plot.dot_std data_to_plot.scalar_std],\n",
    "    label = [\"2 linear matrices dot product\" \"square matrix times scalar\"],\n",
    "    title = \"Means of time of computing different\n",
    "operations for different array sizes\",\n",
    "    xlab = \"array length\",\n",
    "    ylab = \"time\",\n",
    "    layout = (2,1)\n",
    ")"
   ]
  },
  {
   "cell_type": "markdown",
   "metadata": {},
   "source": [
    "Wykresy potwierdziły moje przypuszczenia.\n",
    "Jak widać na powyższych wykresach, czas obliczania iloczynu skalarnego 2-ch macierzy rośnie liniowo względem długości macierzy, natomiast obliczanie iloczynu macierzy kwadratowej przez skalar rośnie kwadratowo względem długości boku macierzy."
   ]
  },
  {
   "cell_type": "code",
   "execution_count": null,
   "metadata": {},
   "outputs": [],
   "source": []
  },
  {
   "cell_type": "code",
   "execution_count": null,
   "metadata": {},
   "outputs": [],
   "source": []
  },
  {
   "cell_type": "code",
   "execution_count": null,
   "metadata": {},
   "outputs": [],
   "source": []
  }
 ],
 "metadata": {
  "kernelspec": {
   "display_name": "Julia 1.6.0",
   "language": "julia",
   "name": "julia-1.6"
  },
  "language_info": {
   "file_extension": ".jl",
   "mimetype": "application/julia",
   "name": "julia",
   "version": "1.6.0"
  }
 },
 "nbformat": 4,
 "nbformat_minor": 2
}
