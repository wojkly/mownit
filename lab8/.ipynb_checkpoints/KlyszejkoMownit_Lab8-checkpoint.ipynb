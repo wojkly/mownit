{
 "cells": [
  {
   "cell_type": "markdown",
   "metadata": {},
   "source": [
    "# MOwNiT \n",
    "## Laboratorium\n",
    "## Wybrane zagadnienia algebry liniowej, faktoryzacja\n",
    "### Algebra liniowa w Julii\n",
    "https://docs.julialang.org/en/v1.2/stdlib/LinearAlgebra/index.html"
   ]
  },
  {
   "cell_type": "code",
   "execution_count": 1,
   "metadata": {},
   "outputs": [],
   "source": [
    "using(LinearAlgebra)"
   ]
  },
  {
   "cell_type": "code",
   "execution_count": 2,
   "metadata": {
    "scrolled": true
   },
   "outputs": [
    {
     "data": {
      "text/html": [
       "# 11 methods for generic function <b>factorize</b>:<ul><li> factorize(A::<b>StridedMatrix{T}</b>)<i> where T</i> in LinearAlgebra at <a href=\"file:///buildworker/worker/package_linux64/build/usr/share/julia/stdlib/v1.6/LinearAlgebra/src/dense.jl\" target=\"_blank\">/home/wojkly/julia-1.6.0/share/julia/stdlib/v1.6/LinearAlgebra/src/dense.jl:1241</a></li> <li> factorize(A::<b>Adjoint</b>) in LinearAlgebra at <a href=\"file:///buildworker/worker/package_linux64/build/usr/share/julia/stdlib/v1.6/LinearAlgebra/src/dense.jl\" target=\"_blank\">/home/wojkly/julia-1.6.0/share/julia/stdlib/v1.6/LinearAlgebra/src/dense.jl:1315</a></li> <li> factorize(A::<b>Transpose</b>) in LinearAlgebra at <a href=\"file:///buildworker/worker/package_linux64/build/usr/share/julia/stdlib/v1.6/LinearAlgebra/src/dense.jl\" target=\"_blank\">/home/wojkly/julia-1.6.0/share/julia/stdlib/v1.6/LinearAlgebra/src/dense.jl:1316</a></li> <li> factorize(A::<b>LinearAlgebra.AbstractTriangular</b>) in LinearAlgebra at <a href=\"file:///buildworker/worker/package_linux64/build/usr/share/julia/stdlib/v1.6/LinearAlgebra/src/triangular.jl\" target=\"_blank\">/home/wojkly/julia-1.6.0/share/julia/stdlib/v1.6/LinearAlgebra/src/triangular.jl:2216</a></li> <li> factorize(A::<b>Tridiagonal</b>) in LinearAlgebra at <a href=\"file:///buildworker/worker/package_linux64/build/usr/share/julia/stdlib/v1.6/LinearAlgebra/src/lu.jl\" target=\"_blank\">/home/wojkly/julia-1.6.0/share/julia/stdlib/v1.6/LinearAlgebra/src/lu.jl:555</a></li> <li> factorize(D::<b>Diagonal</b>) in LinearAlgebra at <a href=\"file:///buildworker/worker/package_linux64/build/usr/share/julia/stdlib/v1.6/LinearAlgebra/src/diagonal.jl\" target=\"_blank\">/home/wojkly/julia-1.6.0/share/julia/stdlib/v1.6/LinearAlgebra/src/diagonal.jl:121</a></li> <li> factorize(A::<b>Bidiagonal</b>) in LinearAlgebra at <a href=\"file:///buildworker/worker/package_linux64/build/usr/share/julia/stdlib/v1.6/LinearAlgebra/src/bidiag.jl\" target=\"_blank\">/home/wojkly/julia-1.6.0/share/julia/stdlib/v1.6/LinearAlgebra/src/bidiag.jl:882</a></li> <li> factorize(S::<b>SymTridiagonal</b>) in LinearAlgebra at <a href=\"file:///buildworker/worker/package_linux64/build/usr/share/julia/stdlib/v1.6/LinearAlgebra/src/ldlt.jl\" target=\"_blank\">/home/wojkly/julia-1.6.0/share/julia/stdlib/v1.6/LinearAlgebra/src/ldlt.jl:167</a></li> <li> factorize(A::<b>SparseArrays.AbstractSparseMatrixCSC</b>) in SparseArrays at <a href=\"file:///buildworker/worker/package_linux64/build/usr/share/julia/stdlib/v1.6/SparseArrays/src/linalg.jl\" target=\"_blank\">/home/wojkly/julia-1.6.0/share/julia/stdlib/v1.6/SparseArrays/src/linalg.jl:1599</a></li> <li> factorize(A::<b>Union{Hermitian{ComplexF64, var\"#s832\"}, Hermitian{Float64, var\"#s832\"}, Symmetric{Float64, var\"#s832\"}} where var\"#s832\"<:SparseArrays.AbstractSparseMatrixCSC</b>) in SparseArrays at <a href=\"file:///buildworker/worker/package_linux64/build/usr/share/julia/stdlib/v1.6/SparseArrays/src/linalg.jl\" target=\"_blank\">/home/wojkly/julia-1.6.0/share/julia/stdlib/v1.6/SparseArrays/src/linalg.jl:1629</a></li> <li> factorize(A::<b>Union{Hermitian{T, S}, Symmetric{T, S}} where {T, S}</b>) in LinearAlgebra at <a href=\"file:///buildworker/worker/package_linux64/build/usr/share/julia/stdlib/v1.6/LinearAlgebra/src/symmetric.jl\" target=\"_blank\">/home/wojkly/julia-1.6.0/share/julia/stdlib/v1.6/LinearAlgebra/src/symmetric.jl:637</a></li> </ul>"
      ],
      "text/plain": [
       "# 11 methods for generic function \"factorize\":\n",
       "[1] factorize(A::StridedMatrix{T}) where T in LinearAlgebra at /home/wojkly/julia-1.6.0/share/julia/stdlib/v1.6/LinearAlgebra/src/dense.jl:1241\n",
       "[2] factorize(A::Adjoint) in LinearAlgebra at /home/wojkly/julia-1.6.0/share/julia/stdlib/v1.6/LinearAlgebra/src/dense.jl:1315\n",
       "[3] factorize(A::Transpose) in LinearAlgebra at /home/wojkly/julia-1.6.0/share/julia/stdlib/v1.6/LinearAlgebra/src/dense.jl:1316\n",
       "[4] factorize(A::LinearAlgebra.AbstractTriangular) in LinearAlgebra at /home/wojkly/julia-1.6.0/share/julia/stdlib/v1.6/LinearAlgebra/src/triangular.jl:2216\n",
       "[5] factorize(A::Tridiagonal) in LinearAlgebra at /home/wojkly/julia-1.6.0/share/julia/stdlib/v1.6/LinearAlgebra/src/lu.jl:555\n",
       "[6] factorize(D::Diagonal) in LinearAlgebra at /home/wojkly/julia-1.6.0/share/julia/stdlib/v1.6/LinearAlgebra/src/diagonal.jl:121\n",
       "[7] factorize(A::Bidiagonal) in LinearAlgebra at /home/wojkly/julia-1.6.0/share/julia/stdlib/v1.6/LinearAlgebra/src/bidiag.jl:882\n",
       "[8] factorize(S::SymTridiagonal) in LinearAlgebra at /home/wojkly/julia-1.6.0/share/julia/stdlib/v1.6/LinearAlgebra/src/ldlt.jl:167\n",
       "[9] factorize(A::SparseArrays.AbstractSparseMatrixCSC) in SparseArrays at /home/wojkly/julia-1.6.0/share/julia/stdlib/v1.6/SparseArrays/src/linalg.jl:1599\n",
       "[10] factorize(A::Union{Hermitian{ComplexF64, var\"#s832\"}, Hermitian{Float64, var\"#s832\"}, Symmetric{Float64, var\"#s832\"}} where var\"#s832\"<:SparseArrays.AbstractSparseMatrixCSC) in SparseArrays at /home/wojkly/julia-1.6.0/share/julia/stdlib/v1.6/SparseArrays/src/linalg.jl:1629\n",
       "[11] factorize(A::Union{Hermitian{T, S}, Symmetric{T, S}} where {T, S}) in LinearAlgebra at /home/wojkly/julia-1.6.0/share/julia/stdlib/v1.6/LinearAlgebra/src/symmetric.jl:637"
      ]
     },
     "execution_count": 2,
     "metadata": {},
     "output_type": "execute_result"
    }
   ],
   "source": [
    "methods(factorize)"
   ]
  },
  {
   "cell_type": "code",
   "execution_count": 3,
   "metadata": {},
   "outputs": [
    {
     "data": {
      "text/plain": [
       "1×3 Matrix{Int64}:\n",
       " 1  2  2"
      ]
     },
     "execution_count": 3,
     "metadata": {},
     "output_type": "execute_result"
    }
   ],
   "source": [
    "#wiersze vs kolumny\n",
    "x1=[1 2 2]"
   ]
  },
  {
   "cell_type": "code",
   "execution_count": 4,
   "metadata": {},
   "outputs": [
    {
     "data": {
      "text/plain": [
       "3-element Vector{Int64}:\n",
       " 1\n",
       " 2\n",
       " 3"
      ]
     },
     "execution_count": 4,
     "metadata": {},
     "output_type": "execute_result"
    }
   ],
   "source": [
    "y1=[1 ;2 ;3]"
   ]
  },
  {
   "cell_type": "code",
   "execution_count": 5,
   "metadata": {},
   "outputs": [
    {
     "data": {
      "text/plain": [
       "3×1 transpose(::Matrix{Int64}) with eltype Int64:\n",
       " 1\n",
       " 2\n",
       " 2"
      ]
     },
     "execution_count": 5,
     "metadata": {},
     "output_type": "execute_result"
    }
   ],
   "source": [
    "transpose(x1)"
   ]
  },
  {
   "cell_type": "code",
   "execution_count": 6,
   "metadata": {},
   "outputs": [
    {
     "data": {
      "text/plain": [
       "11"
      ]
     },
     "execution_count": 6,
     "metadata": {},
     "output_type": "execute_result"
    }
   ],
   "source": [
    "#iloczyn skalarny\n",
    "dot(x1,y1)"
   ]
  },
  {
   "cell_type": "markdown",
   "metadata": {},
   "source": [
    " Długość wektora liczymy jako pierwiastek z jego iloczynu skalarnego \n",
    "$$ \\lVert\\mathbf{v}\\rVert = \\sqrt{\\mathbf{v}\\cdot \\mathbf{v}}=\\sqrt{\\sum_{i=1}^nv_i^2}$$\n",
    "\n"
   ]
  },
  {
   "cell_type": "markdown",
   "metadata": {},
   "source": [
    "#### Przykładowe dane"
   ]
  },
  {
   "cell_type": "code",
   "execution_count": 7,
   "metadata": {},
   "outputs": [
    {
     "data": {
      "text/plain": [
       "3×3 Matrix{Float64}:\n",
       " 0.0484469  0.865811  0.654352\n",
       " 0.569391   0.387503  0.518725\n",
       " 0.654349   0.928728  0.297184"
      ]
     },
     "execution_count": 7,
     "metadata": {},
     "output_type": "execute_result"
    }
   ],
   "source": [
    "#losujemy macierz 3x3\n",
    "A=rand(3,3)"
   ]
  },
  {
   "cell_type": "code",
   "execution_count": 8,
   "metadata": {},
   "outputs": [
    {
     "data": {
      "text/plain": [
       "3-element Vector{Float64}:\n",
       " 0.15299260432733353\n",
       " 0.16750650579839355\n",
       " 0.6331218874048994"
      ]
     },
     "execution_count": 8,
     "metadata": {},
     "output_type": "execute_result"
    }
   ],
   "source": [
    "#losujemy wektor x\n",
    "x=rand(3)"
   ]
  },
  {
   "cell_type": "code",
   "execution_count": 9,
   "metadata": {},
   "outputs": [
    {
     "data": {
      "text/plain": [
       "3-element Vector{Float64}:\n",
       " 0.5667255033073998\n",
       " 0.4804378356032655\n",
       " 0.44383228330794033"
      ]
     },
     "execution_count": 9,
     "metadata": {},
     "output_type": "execute_result"
    }
   ],
   "source": [
    "# wyliczamy b\n",
    "b=A*x"
   ]
  },
  {
   "cell_type": "markdown",
   "metadata": {},
   "source": [
    "### Sposoby rozwiązania Ax=b"
   ]
  },
  {
   "cell_type": "code",
   "execution_count": 10,
   "metadata": {},
   "outputs": [
    {
     "data": {
      "text/plain": [
       "3-element Vector{Float64}:\n",
       " 0.15299260432733353\n",
       " 0.16750650579839355\n",
       " 0.6331218874048994"
      ]
     },
     "execution_count": 10,
     "metadata": {},
     "output_type": "execute_result"
    }
   ],
   "source": [
    "#mozemy policzyc odwrotność macierzy i wymnożyć\n",
    "# uwaga: nieefektywne!\n",
    "inv(A) * b"
   ]
  },
  {
   "cell_type": "code",
   "execution_count": 11,
   "metadata": {},
   "outputs": [
    {
     "data": {
      "text/plain": [
       "3-element Vector{Float64}:\n",
       " 0.15299260432733341\n",
       " 0.16750650579839363\n",
       " 0.6331218874048994"
      ]
     },
     "execution_count": 11,
     "metadata": {},
     "output_type": "execute_result"
    }
   ],
   "source": [
    "#najlepiej używać zoptymalizowanego operatora \"\\\"\"\n",
    "x=A\\b"
   ]
  },
  {
   "cell_type": "markdown",
   "metadata": {},
   "source": [
    " operator \"\\\\\" wybiera odpowiednią faktoryzację:\n",
    "- https://docs.julialang.org/en/v1.2/stdlib/LinearAlgebra/#LinearAlgebra.factorize\n",
    "- https://docs.julialang.org/en/v1.2/stdlib/LinearAlgebra/#man-linalg-factorizations-1\n",
    " \n"
   ]
  },
  {
   "cell_type": "markdown",
   "metadata": {},
   "source": [
    "### Faktoryzacja LU"
   ]
  },
  {
   "cell_type": "code",
   "execution_count": 12,
   "metadata": {},
   "outputs": [
    {
     "data": {
      "text/plain": [
       "LU{Float64, Matrix{Float64}}\n",
       "L factor:\n",
       "3×3 Matrix{Float64}:\n",
       " 1.0         0.0       0.0\n",
       " 0.0740383   1.0       0.0\n",
       " 0.870164   -0.527749  1.0\n",
       "U factor:\n",
       "3×3 Matrix{Float64}:\n",
       " 0.654349  0.928728  0.297184\n",
       " 0.0       0.797049  0.632349\n",
       " 0.0       0.0       0.593848"
      ]
     },
     "execution_count": 12,
     "metadata": {},
     "output_type": "execute_result"
    }
   ],
   "source": [
    "# W przypadku ogólnej macierzy kwadratowej jest to faktoryzacja LU z pivotem\n",
    "Af=factorize(A)"
   ]
  },
  {
   "cell_type": "code",
   "execution_count": 13,
   "metadata": {},
   "outputs": [
    {
     "data": {
      "text/plain": [
       "3×3 Matrix{Float64}:\n",
       " 1.0         0.0       0.0\n",
       " 0.0740383   1.0       0.0\n",
       " 0.870164   -0.527749  1.0"
      ]
     },
     "execution_count": 13,
     "metadata": {},
     "output_type": "execute_result"
    }
   ],
   "source": [
    "# Macierz L\n",
    "Af.L"
   ]
  },
  {
   "cell_type": "code",
   "execution_count": 14,
   "metadata": {},
   "outputs": [
    {
     "data": {
      "text/plain": [
       "3×3 Matrix{Float64}:\n",
       " 0.654349  0.928728  0.297184\n",
       " 0.0       0.797049  0.632349\n",
       " 0.0       0.0       0.593848"
      ]
     },
     "execution_count": 14,
     "metadata": {},
     "output_type": "execute_result"
    }
   ],
   "source": [
    "#Macierz U\n",
    "Af.U"
   ]
  },
  {
   "cell_type": "code",
   "execution_count": 15,
   "metadata": {},
   "outputs": [
    {
     "data": {
      "text/plain": [
       "3-element Vector{Int64}:\n",
       " 3\n",
       " 1\n",
       " 2"
      ]
     },
     "execution_count": 15,
     "metadata": {},
     "output_type": "execute_result"
    }
   ],
   "source": [
    "# wektor permulatacji wierszy \n",
    "Af.p"
   ]
  },
  {
   "cell_type": "code",
   "execution_count": 16,
   "metadata": {},
   "outputs": [
    {
     "data": {
      "text/plain": [
       "LU{Float64, Matrix{Float64}}\n",
       "L factor:\n",
       "3×3 Matrix{Float64}:\n",
       " 1.0         0.0       0.0\n",
       " 0.0740383   1.0       0.0\n",
       " 0.870164   -0.527749  1.0\n",
       "U factor:\n",
       "3×3 Matrix{Float64}:\n",
       " 0.654349  0.928728  0.297184\n",
       " 0.0       0.797049  0.632349\n",
       " 0.0       0.0       0.593848"
      ]
     },
     "execution_count": 16,
     "metadata": {},
     "output_type": "execute_result"
    }
   ],
   "source": [
    "# mozemy zamienic macierz A na postać zfaktoryzowaną\n",
    "A=factorize(A)"
   ]
  },
  {
   "cell_type": "code",
   "execution_count": 17,
   "metadata": {},
   "outputs": [
    {
     "data": {
      "text/plain": [
       "3-element Vector{Float64}:\n",
       " 0.15299260432733341\n",
       " 0.16750650579839363\n",
       " 0.6331218874048994"
      ]
     },
     "execution_count": 17,
     "metadata": {},
     "output_type": "execute_result"
    }
   ],
   "source": [
    "# i działać na niej operatorem \\\n",
    "# operator ten będzie wykorzytywał raz utworzony wynik faktoryzacji\n",
    "A\\b"
   ]
  },
  {
   "cell_type": "code",
   "execution_count": 18,
   "metadata": {},
   "outputs": [
    {
     "data": {
      "text/plain": [
       "3-element Vector{Float64}:\n",
       "  0.5687192436213319\n",
       " -0.08802969796697194\n",
       "  1.0807235663713906"
      ]
     },
     "execution_count": 18,
     "metadata": {},
     "output_type": "execute_result"
    }
   ],
   "source": [
    "# dla różnych prawych stron równania z tą samą macierzą\n",
    "c=rand(3);\n",
    "A\\c"
   ]
  },
  {
   "cell_type": "markdown",
   "metadata": {},
   "source": [
    "### Faktoryzacja QR\n"
   ]
  },
  {
   "cell_type": "code",
   "execution_count": 19,
   "metadata": {},
   "outputs": [
    {
     "data": {
      "text/plain": [
       "10×5 Matrix{Float64}:\n",
       " 0.898563   0.198608  0.597128   0.675774   0.091966\n",
       " 0.558385   0.316971  0.702987   0.915263   0.399152\n",
       " 0.740525   0.314917  0.8412     0.835468   0.450581\n",
       " 0.696048   0.43901   0.0520306  0.305083   0.525617\n",
       " 0.866617   0.136409  0.156097   0.670878   0.363585\n",
       " 0.995339   0.919379  0.714471   0.0251826  0.557299\n",
       " 0.0607244  0.269944  0.231306   0.371636   0.305692\n",
       " 0.211187   0.67936   0.36039    0.837898   0.949745\n",
       " 0.0740177  0.550479  0.501669   0.494359   0.0186729\n",
       " 0.548053   0.947627  0.541591   0.343708   0.0729878"
      ]
     },
     "execution_count": 19,
     "metadata": {},
     "output_type": "execute_result"
    }
   ],
   "source": [
    "B=rand(10,5)"
   ]
  },
  {
   "cell_type": "code",
   "execution_count": 20,
   "metadata": {},
   "outputs": [
    {
     "data": {
      "text/plain": [
       "QRPivoted{Float64, Matrix{Float64}}\n",
       "Q factor:\n",
       "10×10 LinearAlgebra.QRPackedQ{Float64, Matrix{Float64}}:\n",
       " -0.435974   -0.0353321  -0.324285   …   0.266281   -0.161026    -0.418918\n",
       " -0.270923   -0.407802   -0.123221      -0.627412   -0.39815     -0.0800022\n",
       " -0.359295   -0.246101   -0.186158       0.195203    0.341902     0.611946\n",
       " -0.337716    0.14275     0.0381816     -0.483329    0.330075     0.173101\n",
       " -0.420474   -0.0489773  -0.364471       0.200466    0.0738232   -0.0589638\n",
       " -0.482928    0.524354    0.384975   …   0.0081494   0.00682896  -0.280604\n",
       " -0.0294629  -0.256309    0.142516      -0.220826   -0.0983006   -0.0712889\n",
       " -0.102466   -0.537287    0.352254       0.395977   -0.147648    -0.1278\n",
       " -0.0359126  -0.344643    0.359711      -0.0840597   0.650123    -0.354351\n",
       " -0.26591     0.0317797   0.537319       0.104192   -0.360668     0.429501\n",
       "R factor:\n",
       "5×5 Matrix{Float64}:\n",
       " -2.06105  -1.446    -1.28454   -1.03605   -1.38704\n",
       "  0.0      -1.28373  -0.269515  -0.520219  -0.548982\n",
       "  0.0       0.0       1.14387    0.363265   0.414666\n",
       "  0.0       0.0       0.0       -0.784222   0.273606\n",
       "  0.0       0.0       0.0        0.0        0.593471\n",
       "permutation:\n",
       "5-element Vector{Int64}:\n",
       " 1\n",
       " 4\n",
       " 2\n",
       " 5\n",
       " 3"
      ]
     },
     "execution_count": 20,
     "metadata": {},
     "output_type": "execute_result"
    }
   ],
   "source": [
    "# W przypadku ogólnej macierzy prostokątnej wybierana jest faktoryzacja QR z pivotem\n",
    "factorize(B)"
   ]
  },
  {
   "cell_type": "markdown",
   "metadata": {},
   "source": [
    "- $Q$ to macierz  ortogonalna mxm, co oznacza, że  $Q^T*Q=Q*Q^T=I$ czyli $Q^{-1}=Q^T$ (odwracanie takich macierzy jest szybkie i nie generuje dodatkowych błędów !)\n",
    "- $R$ to macierz postaci $\\begin{pmatrix} Rfactor \\\\ 0 \\end{pmatrix} $ , gdzie $Rfactor$ jest macierzą trójkątną górną, a 0 to macierz zer o wymierze nx(m-n)"
   ]
  },
  {
   "cell_type": "markdown",
   "metadata": {},
   "source": [
    "### Zastosowanie faktoryzacji do metody najmniejszych kwadratów\n",
    "\n",
    "Jednym z zastosowań faktoryzacji QR jest użycie jej do metody najmniejszych kwadratów.\n",
    "\n",
    "Przykład:\n",
    "\n",
    "Obliczmy dopasowanie wielomianu $$f(x)=wsp_2*x^2+wsp_1*x+wsp_0$$ do punktów (1,1) (2,2) (3,4) (4, 4) (5,3) (6,0)\n",
    "\n",
    "- Budujemy układ równań wg wzoru $$wsp_2x_i^2+wsp_1x_i+wsp_0=y_i$$:\n",
    "$$wsp_2*1^2+wsp_1*1+wsp_0=1$$\n",
    "$$wsp_2*2^2+wsp_1*2+wsp_0=2$$\n",
    "$$wsp_2*3^2+wsp_1*3+wsp_0=4$$\n",
    "$$wsp_2*4^2+wsp_1*4+wsp_0=4$$\n",
    "$$wsp_2*5^2+wsp_1*5+wsp_0=3$$\n",
    "$$wsp_2*6^2+wsp_1*6+wsp_0=0$$\n",
    "\n",
    "- Układ ten  nie ma dokładnego rozwiązania. Możemy jednak znaleźć najlepsze przybliżenie, czyli takie $wsp_i$, które minimalizują odległość:\n",
    "\n",
    "$$\\sqrt{\\sum_{i=1}^{6}{(y_i-f(x_i))^2}}=\\lVert y-A*wsp\\rVert$$\n",
    "\n",
    "\n",
    "\n"
   ]
  },
  {
   "cell_type": "markdown",
   "metadata": {},
   "source": [
    "Jak użyć do tej mimalizacji faktoryzacji QR:\n",
    "\n",
    "#### 1. Tworzymy macierz A na postawie $(x_i,y_i)$"
   ]
  },
  {
   "cell_type": "code",
   "execution_count": 21,
   "metadata": {},
   "outputs": [
    {
     "data": {
      "text/plain": [
       "6×3 Matrix{Float64}:\n",
       " 0.0  0.0  0.0\n",
       " 0.0  0.0  0.0\n",
       " 0.0  0.0  0.0\n",
       " 0.0  0.0  0.0\n",
       " 0.0  0.0  0.0\n",
       " 0.0  0.0  0.0"
      ]
     },
     "execution_count": 21,
     "metadata": {},
     "output_type": "execute_result"
    }
   ],
   "source": [
    "A=zeros(6,3) "
   ]
  },
  {
   "cell_type": "markdown",
   "metadata": {},
   "source": [
    " punkty $(x_i,y_i)$\n"
   ]
  },
  {
   "cell_type": "code",
   "execution_count": 22,
   "metadata": {},
   "outputs": [
    {
     "data": {
      "text/plain": [
       "6-element Vector{Int64}:\n",
       " 1\n",
       " 2\n",
       " 4\n",
       " 4\n",
       " 3\n",
       " 0"
      ]
     },
     "execution_count": 22,
     "metadata": {},
     "output_type": "execute_result"
    }
   ],
   "source": [
    "x=[1; 2 ;3 ;4 ;5 ;6]\n",
    "y=[1; 2; 4; 4; 3; 0]"
   ]
  },
  {
   "cell_type": "code",
   "execution_count": 23,
   "metadata": {},
   "outputs": [
    {
     "data": {
      "text/plain": [
       "6-element Vector{Int64}:\n",
       "  1\n",
       "  4\n",
       "  9\n",
       " 16\n",
       " 25\n",
       " 36"
      ]
     },
     "execution_count": 23,
     "metadata": {},
     "output_type": "execute_result"
    }
   ],
   "source": [
    "A[:,1]=x.^2"
   ]
  },
  {
   "cell_type": "code",
   "execution_count": 24,
   "metadata": {},
   "outputs": [
    {
     "data": {
      "text/plain": [
       "6-element Vector{Int64}:\n",
       " 1\n",
       " 2\n",
       " 3\n",
       " 4\n",
       " 5\n",
       " 6"
      ]
     },
     "execution_count": 24,
     "metadata": {},
     "output_type": "execute_result"
    }
   ],
   "source": [
    "A[:,2]=x"
   ]
  },
  {
   "cell_type": "code",
   "execution_count": 25,
   "metadata": {},
   "outputs": [
    {
     "data": {
      "text/plain": [
       "6-element Vector{Float64}:\n",
       " 1.0\n",
       " 1.0\n",
       " 1.0\n",
       " 1.0\n",
       " 1.0\n",
       " 1.0"
      ]
     },
     "execution_count": 25,
     "metadata": {},
     "output_type": "execute_result"
    }
   ],
   "source": [
    "A[:,3]=ones(6)"
   ]
  },
  {
   "cell_type": "code",
   "execution_count": 26,
   "metadata": {},
   "outputs": [
    {
     "data": {
      "text/plain": [
       "6×3 Matrix{Float64}:\n",
       "  1.0  1.0  1.0\n",
       "  4.0  2.0  1.0\n",
       "  9.0  3.0  1.0\n",
       " 16.0  4.0  1.0\n",
       " 25.0  5.0  1.0\n",
       " 36.0  6.0  1.0"
      ]
     },
     "execution_count": 26,
     "metadata": {},
     "output_type": "execute_result"
    }
   ],
   "source": [
    "A"
   ]
  },
  {
   "cell_type": "markdown",
   "metadata": {},
   "source": [
    "#### 2. Dokonujemy faktoryzacji QR macierzy A "
   ]
  },
  {
   "cell_type": "code",
   "execution_count": 27,
   "metadata": {},
   "outputs": [
    {
     "data": {
      "text/plain": [
       "QRPivoted{Float64, Matrix{Float64}}\n",
       "Q factor:\n",
       "6×6 LinearAlgebra.QRPackedQ{Float64, Matrix{Float64}}:\n",
       " -0.0209657  -0.343313    0.838525   0.112335    -0.0400677  -0.405397\n",
       " -0.0838628  -0.521522    0.167705  -0.00636667   0.34634     0.756879\n",
       " -0.188691   -0.534625   -0.223607  -0.612934    -0.487947   -0.121617\n",
       " -0.335451   -0.382624   -0.33541    0.753648    -0.213523   -0.122449\n",
       " -0.524142   -0.0655178  -0.167705  -0.204705     0.705864   -0.390779\n",
       " -0.754765    0.416693    0.279508  -0.0419783   -0.310667    0.283364\n",
       "R factor:\n",
       "3×3 Matrix{Float64}:\n",
       " -47.697  -9.24587  -1.90788\n",
       "   0.0    -2.34816  -1.43091\n",
       "   0.0     0.0       0.559017\n",
       "permutation:\n",
       "3-element Vector{Int64}:\n",
       " 1\n",
       " 2\n",
       " 3"
      ]
     },
     "execution_count": 27,
     "metadata": {},
     "output_type": "execute_result"
    }
   ],
   "source": [
    " AF=factorize(A)"
   ]
  },
  {
   "cell_type": "code",
   "execution_count": 28,
   "metadata": {},
   "outputs": [
    {
     "data": {
      "text/plain": [
       "6×6 Matrix{Float64}:\n",
       "  1.0           0.0           1.11022e-16  …   8.32667e-17   0.0\n",
       "  0.0           1.0           9.71445e-17     -5.55112e-17  -1.249e-16\n",
       "  1.11022e-16   9.71445e-17   1.0             -4.16334e-17   0.0\n",
       " -9.71445e-17   3.46945e-17   2.60209e-17     -9.88792e-17  -2.08167e-17\n",
       "  8.32667e-17  -5.55112e-17  -4.16334e-17      1.0           0.0\n",
       "  0.0          -1.249e-16     0.0          …   0.0           1.0"
      ]
     },
     "execution_count": 28,
     "metadata": {},
     "output_type": "execute_result"
    }
   ],
   "source": [
    "# można przetestować ortogonalność:\n",
    "Transpose(AF.Q)*AF.Q"
   ]
  },
  {
   "cell_type": "markdown",
   "metadata": {},
   "source": [
    "Mamy równanie:\n",
    "$$A*wsp=y$$\n",
    "Dla $A=QR$:\n",
    "$$QR*wsp =y$$\n",
    "Możemy obydwie strony wymnożyć z lewej przez $Q^T$:\n",
    "$$R*wsp =Q^T y$$\n",
    "$$\\begin{pmatrix} Rfactor \\\\ 0 \\end{pmatrix} wsp= Q^T y$$\n",
    "\n",
    "Poszukiwanym rozwiązaniem jest rozwiązanie równania będącego górną niezerową częścią:\n",
    "$$Rfactor * wsp= Q^T y[1:n]$$\n",
    "$$wsp=Rfactor \\setminus Q^T y[1:n]$$"
   ]
  },
  {
   "cell_type": "code",
   "execution_count": 29,
   "metadata": {},
   "outputs": [
    {
     "data": {
      "text/plain": [
       "3-element Vector{Float64}:\n",
       " -0.5714285714285725\n",
       "  3.9428571428571515\n",
       " -2.8000000000000163"
      ]
     },
     "execution_count": 29,
     "metadata": {},
     "output_type": "execute_result"
    }
   ],
   "source": [
    "# implementacja powyższego (uwaga: w tym przykladzie nie jest potrzebna permutacja,\n",
    "# bo wektor permutacji wynosi[1 2 3])\n",
    "AF.R\\((Transpose(AF.Q)*y)[1:3])"
   ]
  },
  {
   "cell_type": "markdown",
   "metadata": {},
   "source": [
    "Więcej informacji:\n",
    "- http://www.math.uconn.edu/~leykekhman/courses/MATH3795/Lectures/Lecture_8_Linear_least_squares_orthogonal_matrices.pdf\n",
    "- http://www.seas.ucla.edu/~vandenbe/133A/lectures/qr.pdf"
   ]
  },
  {
   "cell_type": "markdown",
   "metadata": {},
   "source": [
    "W praktyce używamy tego algorytmu poprzez operator \"\\\\\", za którym jest on \"schowany\"."
   ]
  },
  {
   "cell_type": "code",
   "execution_count": 30,
   "metadata": {},
   "outputs": [
    {
     "data": {
      "text/plain": [
       "3-element Vector{Float64}:\n",
       " -0.5714285714285726\n",
       "  3.942857142857151\n",
       " -2.8000000000000145"
      ]
     },
     "execution_count": 30,
     "metadata": {},
     "output_type": "execute_result"
    }
   ],
   "source": [
    "A \\ y"
   ]
  },
  {
   "cell_type": "code",
   "execution_count": 31,
   "metadata": {},
   "outputs": [
    {
     "data": {
      "text/html": [
       "&#45;2.8 &#43; 3.9428571428571417&#8729;x &#45; 0.5714285714285711&#8729;x<sup>2</sup>"
      ],
      "text/latex": [
       "$-2.8 + 3.9428571428571417\\cdot x - 0.5714285714285711\\cdot x^{2}$"
      ],
      "text/plain": [
       "Polynomial(-2.8 + 3.9428571428571417*x - 0.5714285714285711*x^2)"
      ]
     },
     "execution_count": 31,
     "metadata": {},
     "output_type": "execute_result"
    }
   ],
   "source": [
    "#sprawdzamy czy dostaliśmy dobre wspólczynniki\n",
    "using Polynomials\n",
    "fit(x,y, 2)"
   ]
  },
  {
   "cell_type": "code",
   "execution_count": 32,
   "metadata": {},
   "outputs": [
    {
     "data": {
      "text/plain": [
       "Polynomials"
      ]
     },
     "execution_count": 32,
     "metadata": {},
     "output_type": "execute_result"
    }
   ],
   "source": [
    "@which fit"
   ]
  },
  {
   "cell_type": "markdown",
   "metadata": {},
   "source": [
    "Funkcja <a href=\"https://github.com/JuliaMath/Polynomials.jl/blob/master/src/common.jl#L142\">\n",
    "fit</a>  z pakietu Polynomials używa własnie tej metody\n"
   ]
  },
  {
   "cell_type": "markdown",
   "metadata": {},
   "source": [
    "### Zadania"
   ]
  },
  {
   "cell_type": "markdown",
   "metadata": {},
   "source": [
    "#### Zadanie 1 (1pkt)\n",
    "Ustal losowe (referencyjne) x rozmiaru 1000 oraz losowe A rozmiaru 1000x1000, policz b=A*x.\n",
    "Nastepnie rozwiąż równanie Ax=b trzema metodami:\n",
    "- inv()\n",
    "- \\\n",
    "- factorize()\n",
    "\n",
    "Porównaj jakość wyniku (zmierzoną jako długość różnicy wektorów wyniku oraz referencyjnego x) oraz czas wykonania (@time). UWAGA: pierwsze wykonanie funkcji w Julii zawiera czas kompilacji tej funkcji, dlatego czas mierzymy  od drugiego wywołania !\n",
    "\n",
    "#### Zadanie 2 (1pkt)\n",
    "Policz współczynniki wielomianu aproksymującego dowolne dane z poprzednich laboratoriów tworząc wprost układ równań i rozwiązujac go (metoda z użyciem faktoryzacji QR zaprezentowana na tym laboratorium).\n",
    "Porównaj wyniki z tymi otrzymanymi poprzednio.\n",
    "\n",
    "#### Zadanie 3 (2 pkt)\n",
    "\n",
    "Znajdź i zaprezentuj działanie innego zastosowania wybranej faktoryzacji. Przykładowe (ale nie jedyne!) tematy:\n",
    "\n",
    "-    tworzenie pseudoinversji macierzy (http://buzzard.ups.edu/courses/2014spring/420projects/math420-UPS-spring-2014-macausland-pseudo-inverse-present.pdf).\n",
    "\n",
    "-   uzycie faktoryzacji QR do znajdowania wartości własnych (https://en.wikipedia.org/wiki/QR_algorithm)\n",
    "\n",
    "-  zastosowanie faktoryzacji SVD - przykład zastosowania w uczeniu maszynowym https://blog.statsbot.co/singular-value-decomposition-tutorial-52c695315254\n",
    "\n",
    "\n"
   ]
  },
  {
   "cell_type": "markdown",
   "metadata": {},
   "source": [
    "### Zad1 "
   ]
  },
  {
   "cell_type": "markdown",
   "metadata": {},
   "source": [
    "Generate data"
   ]
  },
  {
   "cell_type": "code",
   "execution_count": 33,
   "metadata": {},
   "outputs": [
    {
     "data": {
      "text/plain": [
       "1000"
      ]
     },
     "execution_count": 33,
     "metadata": {},
     "output_type": "execute_result"
    }
   ],
   "source": [
    "ref_size = 1000"
   ]
  },
  {
   "cell_type": "code",
   "execution_count": 34,
   "metadata": {},
   "outputs": [],
   "source": [
    "x_test = rand(1000);\n",
    "A_test = rand(1000,1000);\n",
    "b_test = A_test * x_test;"
   ]
  },
  {
   "cell_type": "code",
   "execution_count": 35,
   "metadata": {},
   "outputs": [],
   "source": [
    "A_test_f = factorize(A_test);"
   ]
  },
  {
   "cell_type": "markdown",
   "metadata": {},
   "source": [
    "Solve equations using 3 different methods and compare evaluation time "
   ]
  },
  {
   "cell_type": "code",
   "execution_count": 327,
   "metadata": {},
   "outputs": [],
   "source": [
    "inv(A_test) * b_test;\n",
    "A_test \\ b_test;\n",
    "factorize(A_test);"
   ]
  },
  {
   "cell_type": "code",
   "execution_count": 328,
   "metadata": {},
   "outputs": [
    {
     "name": "stdout",
     "output_type": "stream",
     "text": [
      "  0.043810 seconds (6 allocations: 8.133 MiB)\n"
     ]
    }
   ],
   "source": [
    "@time res_inv = inv(A_test) * b_test;"
   ]
  },
  {
   "cell_type": "code",
   "execution_count": 329,
   "metadata": {},
   "outputs": [
    {
     "name": "stdout",
     "output_type": "stream",
     "text": [
      "  0.019570 seconds (4 allocations: 7.645 MiB)\n"
     ]
    }
   ],
   "source": [
    "@time res_sym = A_test \\ b_test;"
   ]
  },
  {
   "cell_type": "code",
   "execution_count": 330,
   "metadata": {},
   "outputs": [
    {
     "name": "stdout",
     "output_type": "stream",
     "text": [
      "  0.017979 seconds (5 allocations: 7.645 MiB)\n"
     ]
    }
   ],
   "source": [
    "@time (A_test_f = factorize(A_test);\n",
    "    res_fac = A_test_f \\ b_test);"
   ]
  },
  {
   "cell_type": "code",
   "execution_count": 331,
   "metadata": {},
   "outputs": [
    {
     "name": "stdout",
     "output_type": "stream",
     "text": [
      "  0.000541 seconds (1 allocation: 7.938 KiB)\n"
     ]
    }
   ],
   "source": [
    "@time res_fac = A_test_f \\ b_test;"
   ]
  },
  {
   "cell_type": "markdown",
   "metadata": {},
   "source": [
    "Piewsza metoda jest zdecydowanie najwolniejsza, natomiast najszybsza metoda jest ostatnia z testowanych. Wynika to z faktu, ze macierz A zostala juz wczesniej zfaktoryzowana"
   ]
  },
  {
   "cell_type": "markdown",
   "metadata": {},
   "source": [
    "Compare results with real values"
   ]
  },
  {
   "cell_type": "code",
   "execution_count": 40,
   "metadata": {},
   "outputs": [
    {
     "data": {
      "text/plain": [
       "7.24055241003317e-21"
      ]
     },
     "execution_count": 40,
     "metadata": {},
     "output_type": "execute_result"
    }
   ],
   "source": [
    "dif_inv = x_test - res_inv\n",
    "dot(dif_inv, dif_inv)"
   ]
  },
  {
   "cell_type": "code",
   "execution_count": 41,
   "metadata": {},
   "outputs": [
    {
     "data": {
      "text/plain": [
       "2.276610794085137e-22"
      ]
     },
     "execution_count": 41,
     "metadata": {},
     "output_type": "execute_result"
    }
   ],
   "source": [
    "dif_sym = x_test - res_sym\n",
    "dot(dif_sym, dif_sym)"
   ]
  },
  {
   "cell_type": "code",
   "execution_count": 42,
   "metadata": {},
   "outputs": [
    {
     "data": {
      "text/plain": [
       "2.276610794085137e-22"
      ]
     },
     "execution_count": 42,
     "metadata": {},
     "output_type": "execute_result"
    }
   ],
   "source": [
    "dif_fac = x_test - res_fac\n",
    "dot(dif_fac, dif_fac)"
   ]
  },
  {
   "cell_type": "markdown",
   "metadata": {},
   "source": [
    "### Zad2"
   ]
  },
  {
   "cell_type": "markdown",
   "metadata": {},
   "source": [
    "import danych"
   ]
  },
  {
   "cell_type": "code",
   "execution_count": 43,
   "metadata": {},
   "outputs": [],
   "source": [
    "using CSV\n",
    "using DataFrames"
   ]
  },
  {
   "cell_type": "code",
   "execution_count": 44,
   "metadata": {},
   "outputs": [],
   "source": [
    "df = CSV.read(\"mm_data_julia.csv\", delim=\",\",DataFrame);"
   ]
  },
  {
   "cell_type": "code",
   "execution_count": 45,
   "metadata": {},
   "outputs": [],
   "source": [
    "x_julia = df[df[:,2] .== \"n\", 1]\n",
    "# y_julia_n = df[df[:,2] .== \"n\", 3]\n",
    "y_julia_i = df[df[:,2] .== \"i\", 3]\n",
    "# y_julia_b = df[df[:,2] .== \"b\", 3];"
   ]
  },
  {
   "cell_type": "code",
   "execution_count": 46,
   "metadata": {},
   "outputs": [],
   "source": [
    "using Plots"
   ]
  },
  {
   "cell_type": "code",
   "execution_count": 47,
   "metadata": {},
   "outputs": [
    {
     "data": {
      "image/svg+xml": [
       "<?xml version=\"1.0\" encoding=\"utf-8\"?>\n",
       "<svg xmlns=\"http://www.w3.org/2000/svg\" xmlns:xlink=\"http://www.w3.org/1999/xlink\" width=\"600\" height=\"400\" viewBox=\"0 0 2400 1600\">\n",
       "<defs>\n",
       "  <clipPath id=\"clip230\">\n",
       "    <rect x=\"0\" y=\"0\" width=\"2400\" height=\"1600\"/>\n",
       "  </clipPath>\n",
       "</defs>\n",
       "<path clip-path=\"url(#clip230)\" d=\"\n",
       "M0 1600 L2400 1600 L2400 0 L0 0  Z\n",
       "  \" fill=\"#ffffff\" fill-rule=\"evenodd\" fill-opacity=\"1\"/>\n",
       "<defs>\n",
       "  <clipPath id=\"clip231\">\n",
       "    <rect x=\"480\" y=\"0\" width=\"1681\" height=\"1600\"/>\n",
       "  </clipPath>\n",
       "</defs>\n",
       "<path clip-path=\"url(#clip230)\" d=\"\n",
       "M156.112 1486.45 L2352.76 1486.45 L2352.76 47.2441 L156.112 47.2441  Z\n",
       "  \" fill=\"#ffffff\" fill-rule=\"evenodd\" fill-opacity=\"1\"/>\n",
       "<defs>\n",
       "  <clipPath id=\"clip232\">\n",
       "    <rect x=\"156\" y=\"47\" width=\"2198\" height=\"1440\"/>\n",
       "  </clipPath>\n",
       "</defs>\n",
       "<polyline clip-path=\"url(#clip232)\" style=\"stroke:#000000; stroke-width:2; stroke-opacity:0.1; fill:none\" points=\"\n",
       "  448.537,1486.45 448.537,47.2441 \n",
       "  \"/>\n",
       "<polyline clip-path=\"url(#clip232)\" style=\"stroke:#000000; stroke-width:2; stroke-opacity:0.1; fill:none\" points=\"\n",
       "  909.05,1486.45 909.05,47.2441 \n",
       "  \"/>\n",
       "<polyline clip-path=\"url(#clip232)\" style=\"stroke:#000000; stroke-width:2; stroke-opacity:0.1; fill:none\" points=\"\n",
       "  1369.56,1486.45 1369.56,47.2441 \n",
       "  \"/>\n",
       "<polyline clip-path=\"url(#clip232)\" style=\"stroke:#000000; stroke-width:2; stroke-opacity:0.1; fill:none\" points=\"\n",
       "  1830.07,1486.45 1830.07,47.2441 \n",
       "  \"/>\n",
       "<polyline clip-path=\"url(#clip232)\" style=\"stroke:#000000; stroke-width:2; stroke-opacity:0.1; fill:none\" points=\"\n",
       "  2290.59,1486.45 2290.59,47.2441 \n",
       "  \"/>\n",
       "<polyline clip-path=\"url(#clip230)\" style=\"stroke:#000000; stroke-width:4; stroke-opacity:1; fill:none\" points=\"\n",
       "  156.112,1486.45 2352.76,1486.45 \n",
       "  \"/>\n",
       "<polyline clip-path=\"url(#clip230)\" style=\"stroke:#000000; stroke-width:4; stroke-opacity:1; fill:none\" points=\"\n",
       "  448.537,1486.45 448.537,1469.18 \n",
       "  \"/>\n",
       "<polyline clip-path=\"url(#clip230)\" style=\"stroke:#000000; stroke-width:4; stroke-opacity:1; fill:none\" points=\"\n",
       "  909.05,1486.45 909.05,1469.18 \n",
       "  \"/>\n",
       "<polyline clip-path=\"url(#clip230)\" style=\"stroke:#000000; stroke-width:4; stroke-opacity:1; fill:none\" points=\"\n",
       "  1369.56,1486.45 1369.56,1469.18 \n",
       "  \"/>\n",
       "<polyline clip-path=\"url(#clip230)\" style=\"stroke:#000000; stroke-width:4; stroke-opacity:1; fill:none\" points=\"\n",
       "  1830.07,1486.45 1830.07,1469.18 \n",
       "  \"/>\n",
       "<polyline clip-path=\"url(#clip230)\" style=\"stroke:#000000; stroke-width:4; stroke-opacity:1; fill:none\" points=\"\n",
       "  2290.59,1486.45 2290.59,1469.18 \n",
       "  \"/>\n",
       "<path clip-path=\"url(#clip230)\" d=\"M 0 0 M412.23 1543.18 L428.549 1543.18 L428.549 1547.12 L406.605 1547.12 L406.605 1543.18 Q409.267 1540.43 413.85 1535.8 Q418.457 1531.15 419.637 1529.81 Q421.883 1527.28 422.762 1525.55 Q423.665 1523.79 423.665 1522.1 Q423.665 1519.34 421.72 1517.61 Q419.799 1515.87 416.697 1515.87 Q414.498 1515.87 412.045 1516.63 Q409.614 1517.4 406.836 1518.95 L406.836 1514.23 Q409.66 1513.09 412.114 1512.51 Q414.568 1511.93 416.605 1511.93 Q421.975 1511.93 425.17 1514.62 Q428.364 1517.31 428.364 1521.8 Q428.364 1523.93 427.554 1525.85 Q426.767 1527.74 424.66 1530.34 Q424.082 1531.01 420.98 1534.23 Q417.878 1537.42 412.23 1543.18 Z\" fill=\"#000000\" fill-rule=\"evenodd\" fill-opacity=\"1\" /><path clip-path=\"url(#clip230)\" d=\"M 0 0 M448.364 1515.64 Q444.753 1515.64 442.924 1519.2 Q441.119 1522.75 441.119 1529.87 Q441.119 1536.98 442.924 1540.55 Q444.753 1544.09 448.364 1544.09 Q451.998 1544.09 453.804 1540.55 Q455.632 1536.98 455.632 1529.87 Q455.632 1522.75 453.804 1519.2 Q451.998 1515.64 448.364 1515.64 M448.364 1511.93 Q454.174 1511.93 457.23 1516.54 Q460.308 1521.12 460.308 1529.87 Q460.308 1538.6 457.23 1543.21 Q454.174 1547.79 448.364 1547.79 Q442.554 1547.79 439.475 1543.21 Q436.419 1538.6 436.419 1529.87 Q436.419 1521.12 439.475 1516.54 Q442.554 1511.93 448.364 1511.93 Z\" fill=\"#000000\" fill-rule=\"evenodd\" fill-opacity=\"1\" /><path clip-path=\"url(#clip230)\" d=\"M 0 0 M478.526 1515.64 Q474.915 1515.64 473.086 1519.2 Q471.28 1522.75 471.28 1529.87 Q471.28 1536.98 473.086 1540.55 Q474.915 1544.09 478.526 1544.09 Q482.16 1544.09 483.966 1540.55 Q485.794 1536.98 485.794 1529.87 Q485.794 1522.75 483.966 1519.2 Q482.16 1515.64 478.526 1515.64 M478.526 1511.93 Q484.336 1511.93 487.391 1516.54 Q490.47 1521.12 490.47 1529.87 Q490.47 1538.6 487.391 1543.21 Q484.336 1547.79 478.526 1547.79 Q472.716 1547.79 469.637 1543.21 Q466.581 1538.6 466.581 1529.87 Q466.581 1521.12 469.637 1516.54 Q472.716 1511.93 478.526 1511.93 Z\" fill=\"#000000\" fill-rule=\"evenodd\" fill-opacity=\"1\" /><path clip-path=\"url(#clip230)\" d=\"M 0 0 M882.14 1516.63 L870.335 1535.08 L882.14 1535.08 L882.14 1516.63 M880.913 1512.56 L886.793 1512.56 L886.793 1535.08 L891.723 1535.08 L891.723 1538.97 L886.793 1538.97 L886.793 1547.12 L882.14 1547.12 L882.14 1538.97 L866.538 1538.97 L866.538 1534.46 L880.913 1512.56 Z\" fill=\"#000000\" fill-rule=\"evenodd\" fill-opacity=\"1\" /><path clip-path=\"url(#clip230)\" d=\"M 0 0 M909.455 1515.64 Q905.844 1515.64 904.015 1519.2 Q902.21 1522.75 902.21 1529.87 Q902.21 1536.98 904.015 1540.55 Q905.844 1544.09 909.455 1544.09 Q913.089 1544.09 914.895 1540.55 Q916.723 1536.98 916.723 1529.87 Q916.723 1522.75 914.895 1519.2 Q913.089 1515.64 909.455 1515.64 M909.455 1511.93 Q915.265 1511.93 918.321 1516.54 Q921.399 1521.12 921.399 1529.87 Q921.399 1538.6 918.321 1543.21 Q915.265 1547.79 909.455 1547.79 Q903.645 1547.79 900.566 1543.21 Q897.51 1538.6 897.51 1529.87 Q897.51 1521.12 900.566 1516.54 Q903.645 1511.93 909.455 1511.93 Z\" fill=\"#000000\" fill-rule=\"evenodd\" fill-opacity=\"1\" /><path clip-path=\"url(#clip230)\" d=\"M 0 0 M939.617 1515.64 Q936.006 1515.64 934.177 1519.2 Q932.371 1522.75 932.371 1529.87 Q932.371 1536.98 934.177 1540.55 Q936.006 1544.09 939.617 1544.09 Q943.251 1544.09 945.057 1540.55 Q946.885 1536.98 946.885 1529.87 Q946.885 1522.75 945.057 1519.2 Q943.251 1515.64 939.617 1515.64 M939.617 1511.93 Q945.427 1511.93 948.482 1516.54 Q951.561 1521.12 951.561 1529.87 Q951.561 1538.6 948.482 1543.21 Q945.427 1547.79 939.617 1547.79 Q933.807 1547.79 930.728 1543.21 Q927.672 1538.6 927.672 1529.87 Q927.672 1521.12 930.728 1516.54 Q933.807 1511.93 939.617 1511.93 Z\" fill=\"#000000\" fill-rule=\"evenodd\" fill-opacity=\"1\" /><path clip-path=\"url(#clip230)\" d=\"M 0 0 M1339.89 1527.98 Q1336.74 1527.98 1334.89 1530.13 Q1333.06 1532.28 1333.06 1536.03 Q1333.06 1539.76 1334.89 1541.93 Q1336.74 1544.09 1339.89 1544.09 Q1343.03 1544.09 1344.86 1541.93 Q1346.71 1539.76 1346.71 1536.03 Q1346.71 1532.28 1344.86 1530.13 Q1343.03 1527.98 1339.89 1527.98 M1349.17 1513.32 L1349.17 1517.58 Q1347.41 1516.75 1345.6 1516.31 Q1343.82 1515.87 1342.06 1515.87 Q1337.43 1515.87 1334.98 1519 Q1332.55 1522.12 1332.2 1528.44 Q1333.57 1526.43 1335.63 1525.36 Q1337.69 1524.27 1340.16 1524.27 Q1345.37 1524.27 1348.38 1527.44 Q1351.41 1530.59 1351.41 1536.03 Q1351.41 1541.36 1348.27 1544.57 Q1345.12 1547.79 1339.89 1547.79 Q1333.89 1547.79 1330.72 1543.21 Q1327.55 1538.6 1327.55 1529.87 Q1327.55 1521.68 1331.44 1516.82 Q1335.33 1511.93 1341.88 1511.93 Q1343.64 1511.93 1345.42 1512.28 Q1347.22 1512.63 1349.17 1513.32 Z\" fill=\"#000000\" fill-rule=\"evenodd\" fill-opacity=\"1\" /><path clip-path=\"url(#clip230)\" d=\"M 0 0 M1369.47 1515.64 Q1365.86 1515.64 1364.03 1519.2 Q1362.22 1522.75 1362.22 1529.87 Q1362.22 1536.98 1364.03 1540.55 Q1365.86 1544.09 1369.47 1544.09 Q1373.1 1544.09 1374.91 1540.55 Q1376.74 1536.98 1376.74 1529.87 Q1376.74 1522.75 1374.91 1519.2 Q1373.1 1515.64 1369.47 1515.64 M1369.47 1511.93 Q1375.28 1511.93 1378.34 1516.54 Q1381.41 1521.12 1381.41 1529.87 Q1381.41 1538.6 1378.34 1543.21 Q1375.28 1547.79 1369.47 1547.79 Q1363.66 1547.79 1360.58 1543.21 Q1357.53 1538.6 1357.53 1529.87 Q1357.53 1521.12 1360.58 1516.54 Q1363.66 1511.93 1369.47 1511.93 Z\" fill=\"#000000\" fill-rule=\"evenodd\" fill-opacity=\"1\" /><path clip-path=\"url(#clip230)\" d=\"M 0 0 M1399.63 1515.64 Q1396.02 1515.64 1394.19 1519.2 Q1392.39 1522.75 1392.39 1529.87 Q1392.39 1536.98 1394.19 1540.55 Q1396.02 1544.09 1399.63 1544.09 Q1403.27 1544.09 1405.07 1540.55 Q1406.9 1536.98 1406.9 1529.87 Q1406.9 1522.75 1405.07 1519.2 Q1403.27 1515.64 1399.63 1515.64 M1399.63 1511.93 Q1405.44 1511.93 1408.5 1516.54 Q1411.58 1521.12 1411.58 1529.87 Q1411.58 1538.6 1408.5 1543.21 Q1405.44 1547.79 1399.63 1547.79 Q1393.82 1547.79 1390.74 1543.21 Q1387.69 1538.6 1387.69 1529.87 Q1387.69 1521.12 1390.74 1516.54 Q1393.82 1511.93 1399.63 1511.93 Z\" fill=\"#000000\" fill-rule=\"evenodd\" fill-opacity=\"1\" /><path clip-path=\"url(#clip230)\" d=\"M 0 0 M1799.87 1530.71 Q1796.53 1530.71 1794.61 1532.49 Q1792.71 1534.27 1792.71 1537.4 Q1792.71 1540.52 1794.61 1542.31 Q1796.53 1544.09 1799.87 1544.09 Q1803.2 1544.09 1805.12 1542.31 Q1807.04 1540.5 1807.04 1537.4 Q1807.04 1534.27 1805.12 1532.49 Q1803.22 1530.71 1799.87 1530.71 M1795.19 1528.72 Q1792.18 1527.98 1790.49 1525.92 Q1788.82 1523.86 1788.82 1520.89 Q1788.82 1516.75 1791.76 1514.34 Q1794.73 1511.93 1799.87 1511.93 Q1805.03 1511.93 1807.97 1514.34 Q1810.91 1516.75 1810.91 1520.89 Q1810.91 1523.86 1809.22 1525.92 Q1807.55 1527.98 1804.57 1528.72 Q1807.94 1529.5 1809.82 1531.8 Q1811.72 1534.09 1811.72 1537.4 Q1811.72 1542.42 1808.64 1545.11 Q1805.58 1547.79 1799.87 1547.79 Q1794.15 1547.79 1791.07 1545.11 Q1788.01 1542.42 1788.01 1537.4 Q1788.01 1534.09 1789.91 1531.8 Q1791.81 1529.5 1795.19 1528.72 M1793.48 1521.33 Q1793.48 1524.02 1795.14 1525.52 Q1796.83 1527.03 1799.87 1527.03 Q1802.88 1527.03 1804.57 1525.52 Q1806.28 1524.02 1806.28 1521.33 Q1806.28 1518.65 1804.57 1517.14 Q1802.88 1515.64 1799.87 1515.64 Q1796.83 1515.64 1795.14 1517.14 Q1793.48 1518.65 1793.48 1521.33 Z\" fill=\"#000000\" fill-rule=\"evenodd\" fill-opacity=\"1\" /><path clip-path=\"url(#clip230)\" d=\"M 0 0 M1830.03 1515.64 Q1826.42 1515.64 1824.59 1519.2 Q1822.78 1522.75 1822.78 1529.87 Q1822.78 1536.98 1824.59 1540.55 Q1826.42 1544.09 1830.03 1544.09 Q1833.66 1544.09 1835.47 1540.55 Q1837.3 1536.98 1837.3 1529.87 Q1837.3 1522.75 1835.47 1519.2 Q1833.66 1515.64 1830.03 1515.64 M1830.03 1511.93 Q1835.84 1511.93 1838.89 1516.54 Q1841.97 1521.12 1841.97 1529.87 Q1841.97 1538.6 1838.89 1543.21 Q1835.84 1547.79 1830.03 1547.79 Q1824.22 1547.79 1821.14 1543.21 Q1818.08 1538.6 1818.08 1529.87 Q1818.08 1521.12 1821.14 1516.54 Q1824.22 1511.93 1830.03 1511.93 Z\" fill=\"#000000\" fill-rule=\"evenodd\" fill-opacity=\"1\" /><path clip-path=\"url(#clip230)\" d=\"M 0 0 M1860.19 1515.64 Q1856.58 1515.64 1854.75 1519.2 Q1852.94 1522.75 1852.94 1529.87 Q1852.94 1536.98 1854.75 1540.55 Q1856.58 1544.09 1860.19 1544.09 Q1863.82 1544.09 1865.63 1540.55 Q1867.46 1536.98 1867.46 1529.87 Q1867.46 1522.75 1865.63 1519.2 Q1863.82 1515.64 1860.19 1515.64 M1860.19 1511.93 Q1866 1511.93 1869.06 1516.54 Q1872.13 1521.12 1872.13 1529.87 Q1872.13 1538.6 1869.06 1543.21 Q1866 1547.79 1860.19 1547.79 Q1854.38 1547.79 1851.3 1543.21 Q1848.25 1538.6 1848.25 1529.87 Q1848.25 1521.12 1851.3 1516.54 Q1854.38 1511.93 1860.19 1511.93 Z\" fill=\"#000000\" fill-rule=\"evenodd\" fill-opacity=\"1\" /><path clip-path=\"url(#clip230)\" d=\"M 0 0 M2235.11 1543.18 L2242.75 1543.18 L2242.75 1516.82 L2234.44 1518.49 L2234.44 1514.23 L2242.71 1512.56 L2247.38 1512.56 L2247.38 1543.18 L2255.02 1543.18 L2255.02 1547.12 L2235.11 1547.12 L2235.11 1543.18 Z\" fill=\"#000000\" fill-rule=\"evenodd\" fill-opacity=\"1\" /><path clip-path=\"url(#clip230)\" d=\"M 0 0 M2274.46 1515.64 Q2270.85 1515.64 2269.02 1519.2 Q2267.22 1522.75 2267.22 1529.87 Q2267.22 1536.98 2269.02 1540.55 Q2270.85 1544.09 2274.46 1544.09 Q2278.1 1544.09 2279.9 1540.55 Q2281.73 1536.98 2281.73 1529.87 Q2281.73 1522.75 2279.9 1519.2 Q2278.1 1515.64 2274.46 1515.64 M2274.46 1511.93 Q2280.27 1511.93 2283.33 1516.54 Q2286.41 1521.12 2286.41 1529.87 Q2286.41 1538.6 2283.33 1543.21 Q2280.27 1547.79 2274.46 1547.79 Q2268.65 1547.79 2265.58 1543.21 Q2262.52 1538.6 2262.52 1529.87 Q2262.52 1521.12 2265.58 1516.54 Q2268.65 1511.93 2274.46 1511.93 Z\" fill=\"#000000\" fill-rule=\"evenodd\" fill-opacity=\"1\" /><path clip-path=\"url(#clip230)\" d=\"M 0 0 M2304.63 1515.64 Q2301.01 1515.64 2299.19 1519.2 Q2297.38 1522.75 2297.38 1529.87 Q2297.38 1536.98 2299.19 1540.55 Q2301.01 1544.09 2304.63 1544.09 Q2308.26 1544.09 2310.07 1540.55 Q2311.89 1536.98 2311.89 1529.87 Q2311.89 1522.75 2310.07 1519.2 Q2308.26 1515.64 2304.63 1515.64 M2304.63 1511.93 Q2310.44 1511.93 2313.49 1516.54 Q2316.57 1521.12 2316.57 1529.87 Q2316.57 1538.6 2313.49 1543.21 Q2310.44 1547.79 2304.63 1547.79 Q2298.82 1547.79 2295.74 1543.21 Q2292.68 1538.6 2292.68 1529.87 Q2292.68 1521.12 2295.74 1516.54 Q2298.82 1511.93 2304.63 1511.93 Z\" fill=\"#000000\" fill-rule=\"evenodd\" fill-opacity=\"1\" /><path clip-path=\"url(#clip230)\" d=\"M 0 0 M2334.79 1515.64 Q2331.18 1515.64 2329.35 1519.2 Q2327.54 1522.75 2327.54 1529.87 Q2327.54 1536.98 2329.35 1540.55 Q2331.18 1544.09 2334.79 1544.09 Q2338.42 1544.09 2340.23 1540.55 Q2342.06 1536.98 2342.06 1529.87 Q2342.06 1522.75 2340.23 1519.2 Q2338.42 1515.64 2334.79 1515.64 M2334.79 1511.93 Q2340.6 1511.93 2343.65 1516.54 Q2346.73 1521.12 2346.73 1529.87 Q2346.73 1538.6 2343.65 1543.21 Q2340.6 1547.79 2334.79 1547.79 Q2328.98 1547.79 2325.9 1543.21 Q2322.84 1538.6 2322.84 1529.87 Q2322.84 1521.12 2325.9 1516.54 Q2328.98 1511.93 2334.79 1511.93 Z\" fill=\"#000000\" fill-rule=\"evenodd\" fill-opacity=\"1\" /><polyline clip-path=\"url(#clip232)\" style=\"stroke:#000000; stroke-width:2; stroke-opacity:0.1; fill:none\" points=\"\n",
       "  156.112,1446.84 2352.76,1446.84 \n",
       "  \"/>\n",
       "<polyline clip-path=\"url(#clip232)\" style=\"stroke:#000000; stroke-width:2; stroke-opacity:0.1; fill:none\" points=\"\n",
       "  156.112,996.455 2352.76,996.455 \n",
       "  \"/>\n",
       "<polyline clip-path=\"url(#clip232)\" style=\"stroke:#000000; stroke-width:2; stroke-opacity:0.1; fill:none\" points=\"\n",
       "  156.112,546.066 2352.76,546.066 \n",
       "  \"/>\n",
       "<polyline clip-path=\"url(#clip232)\" style=\"stroke:#000000; stroke-width:2; stroke-opacity:0.1; fill:none\" points=\"\n",
       "  156.112,95.6762 2352.76,95.6762 \n",
       "  \"/>\n",
       "<polyline clip-path=\"url(#clip230)\" style=\"stroke:#000000; stroke-width:4; stroke-opacity:1; fill:none\" points=\"\n",
       "  156.112,1486.45 156.112,47.2441 \n",
       "  \"/>\n",
       "<polyline clip-path=\"url(#clip230)\" style=\"stroke:#000000; stroke-width:4; stroke-opacity:1; fill:none\" points=\"\n",
       "  156.112,1446.84 182.472,1446.84 \n",
       "  \"/>\n",
       "<polyline clip-path=\"url(#clip230)\" style=\"stroke:#000000; stroke-width:4; stroke-opacity:1; fill:none\" points=\"\n",
       "  156.112,996.455 182.472,996.455 \n",
       "  \"/>\n",
       "<polyline clip-path=\"url(#clip230)\" style=\"stroke:#000000; stroke-width:4; stroke-opacity:1; fill:none\" points=\"\n",
       "  156.112,546.066 182.472,546.066 \n",
       "  \"/>\n",
       "<polyline clip-path=\"url(#clip230)\" style=\"stroke:#000000; stroke-width:4; stroke-opacity:1; fill:none\" points=\"\n",
       "  156.112,95.6762 182.472,95.6762 \n",
       "  \"/>\n",
       "<path clip-path=\"url(#clip230)\" d=\"M 0 0 M62.9365 1432.64 Q59.3254 1432.64 57.4967 1436.21 Q55.6912 1439.75 55.6912 1446.88 Q55.6912 1453.99 57.4967 1457.55 Q59.3254 1461.09 62.9365 1461.09 Q66.5707 1461.09 68.3763 1457.55 Q70.205 1453.99 70.205 1446.88 Q70.205 1439.75 68.3763 1436.21 Q66.5707 1432.64 62.9365 1432.64 M62.9365 1428.94 Q68.7467 1428.94 71.8022 1433.55 Q74.8809 1438.13 74.8809 1446.88 Q74.8809 1455.61 71.8022 1460.21 Q68.7467 1464.8 62.9365 1464.8 Q57.1264 1464.8 54.0477 1460.21 Q50.9921 1455.61 50.9921 1446.88 Q50.9921 1438.13 54.0477 1433.55 Q57.1264 1428.94 62.9365 1428.94 Z\" fill=\"#000000\" fill-rule=\"evenodd\" fill-opacity=\"1\" /><path clip-path=\"url(#clip230)\" d=\"M 0 0 M83.0984 1458.25 L87.9827 1458.25 L87.9827 1464.12 L83.0984 1464.12 L83.0984 1458.25 Z\" fill=\"#000000\" fill-rule=\"evenodd\" fill-opacity=\"1\" /><path clip-path=\"url(#clip230)\" d=\"M 0 0 M108.168 1432.64 Q104.557 1432.64 102.728 1436.21 Q100.922 1439.75 100.922 1446.88 Q100.922 1453.99 102.728 1457.55 Q104.557 1461.09 108.168 1461.09 Q111.802 1461.09 113.608 1457.55 Q115.436 1453.99 115.436 1446.88 Q115.436 1439.75 113.608 1436.21 Q111.802 1432.64 108.168 1432.64 M108.168 1428.94 Q113.978 1428.94 117.033 1433.55 Q120.112 1438.13 120.112 1446.88 Q120.112 1455.61 117.033 1460.21 Q113.978 1464.8 108.168 1464.8 Q102.358 1464.8 99.2789 1460.21 Q96.2234 1455.61 96.2234 1446.88 Q96.2234 1438.13 99.2789 1433.55 Q102.358 1428.94 108.168 1428.94 Z\" fill=\"#000000\" fill-rule=\"evenodd\" fill-opacity=\"1\" /><path clip-path=\"url(#clip230)\" d=\"M 0 0 M63.9319 982.254 Q60.3208 982.254 58.4921 985.819 Q56.6865 989.36 56.6865 996.49 Q56.6865 1003.6 58.4921 1007.16 Q60.3208 1010.7 63.9319 1010.7 Q67.5661 1010.7 69.3717 1007.16 Q71.2004 1003.6 71.2004 996.49 Q71.2004 989.36 69.3717 985.819 Q67.5661 982.254 63.9319 982.254 M63.9319 978.55 Q69.742 978.55 72.7976 983.157 Q75.8763 987.74 75.8763 996.49 Q75.8763 1005.22 72.7976 1009.82 Q69.742 1014.41 63.9319 1014.41 Q58.1217 1014.41 55.043 1009.82 Q51.9875 1005.22 51.9875 996.49 Q51.9875 987.74 55.043 983.157 Q58.1217 978.55 63.9319 978.55 Z\" fill=\"#000000\" fill-rule=\"evenodd\" fill-opacity=\"1\" /><path clip-path=\"url(#clip230)\" d=\"M 0 0 M84.0938 1007.86 L88.978 1007.86 L88.978 1013.74 L84.0938 1013.74 L84.0938 1007.86 Z\" fill=\"#000000\" fill-rule=\"evenodd\" fill-opacity=\"1\" /><path clip-path=\"url(#clip230)\" d=\"M 0 0 M99.2095 979.175 L117.566 979.175 L117.566 983.11 L103.492 983.11 L103.492 991.583 Q104.51 991.235 105.529 991.073 Q106.547 990.888 107.566 990.888 Q113.353 990.888 116.733 994.059 Q120.112 997.231 120.112 1002.65 Q120.112 1008.23 116.64 1011.33 Q113.168 1014.41 106.848 1014.41 Q104.672 1014.41 102.404 1014.04 Q100.159 1013.67 97.7511 1012.92 L97.7511 1008.23 Q99.8345 1009.36 102.057 1009.92 Q104.279 1010.47 106.756 1010.47 Q110.76 1010.47 113.098 1008.36 Q115.436 1006.26 115.436 1002.65 Q115.436 999.036 113.098 996.93 Q110.76 994.823 106.756 994.823 Q104.881 994.823 103.006 995.24 Q101.154 995.657 99.2095 996.536 L99.2095 979.175 Z\" fill=\"#000000\" fill-rule=\"evenodd\" fill-opacity=\"1\" /><path clip-path=\"url(#clip230)\" d=\"M 0 0 M53.7467 559.411 L61.3856 559.411 L61.3856 533.045 L53.0754 534.712 L53.0754 530.452 L61.3393 528.786 L66.0152 528.786 L66.0152 559.411 L73.654 559.411 L73.654 563.346 L53.7467 563.346 L53.7467 559.411 Z\" fill=\"#000000\" fill-rule=\"evenodd\" fill-opacity=\"1\" /><path clip-path=\"url(#clip230)\" d=\"M 0 0 M83.0984 557.466 L87.9827 557.466 L87.9827 563.346 L83.0984 563.346 L83.0984 557.466 Z\" fill=\"#000000\" fill-rule=\"evenodd\" fill-opacity=\"1\" /><path clip-path=\"url(#clip230)\" d=\"M 0 0 M108.168 531.864 Q104.557 531.864 102.728 535.429 Q100.922 538.971 100.922 546.1 Q100.922 553.207 102.728 556.772 Q104.557 560.313 108.168 560.313 Q111.802 560.313 113.608 556.772 Q115.436 553.207 115.436 546.1 Q115.436 538.971 113.608 535.429 Q111.802 531.864 108.168 531.864 M108.168 528.161 Q113.978 528.161 117.033 532.767 Q120.112 537.35 120.112 546.1 Q120.112 554.827 117.033 559.434 Q113.978 564.017 108.168 564.017 Q102.358 564.017 99.2789 559.434 Q96.2234 554.827 96.2234 546.1 Q96.2234 537.35 99.2789 532.767 Q102.358 528.161 108.168 528.161 Z\" fill=\"#000000\" fill-rule=\"evenodd\" fill-opacity=\"1\" /><path clip-path=\"url(#clip230)\" d=\"M 0 0 M54.7421 109.021 L62.381 109.021 L62.381 82.6554 L54.0708 84.3221 L54.0708 80.0628 L62.3347 78.3962 L67.0106 78.3962 L67.0106 109.021 L74.6494 109.021 L74.6494 112.956 L54.7421 112.956 L54.7421 109.021 Z\" fill=\"#000000\" fill-rule=\"evenodd\" fill-opacity=\"1\" /><path clip-path=\"url(#clip230)\" d=\"M 0 0 M84.0938 107.077 L88.978 107.077 L88.978 112.956 L84.0938 112.956 L84.0938 107.077 Z\" fill=\"#000000\" fill-rule=\"evenodd\" fill-opacity=\"1\" /><path clip-path=\"url(#clip230)\" d=\"M 0 0 M99.2095 78.3962 L117.566 78.3962 L117.566 82.3313 L103.492 82.3313 L103.492 90.8035 Q104.51 90.4563 105.529 90.2943 Q106.547 90.1091 107.566 90.1091 Q113.353 90.1091 116.733 93.2804 Q120.112 96.4516 120.112 101.868 Q120.112 107.447 116.64 110.549 Q113.168 113.627 106.848 113.627 Q104.672 113.627 102.404 113.257 Q100.159 112.887 97.7511 112.146 L97.7511 107.447 Q99.8345 108.581 102.057 109.137 Q104.279 109.692 106.756 109.692 Q110.76 109.692 113.098 107.586 Q115.436 105.479 115.436 101.868 Q115.436 98.2572 113.098 96.1507 Q110.76 94.0442 106.756 94.0442 Q104.881 94.0442 103.006 94.4609 Q101.154 94.8776 99.2095 95.7572 L99.2095 78.3962 Z\" fill=\"#000000\" fill-rule=\"evenodd\" fill-opacity=\"1\" /><circle clip-path=\"url(#clip232)\" cx=\"218.281\" cy=\"1445.72\" r=\"14\" fill=\"#009af9\" fill-rule=\"evenodd\" fill-opacity=\"1\" stroke=\"#000000\" stroke-opacity=\"1\" stroke-width=\"3.2\"/>\n",
       "<circle clip-path=\"url(#clip232)\" cx=\"448.537\" cy=\"1438.35\" r=\"14\" fill=\"#009af9\" fill-rule=\"evenodd\" fill-opacity=\"1\" stroke=\"#000000\" stroke-opacity=\"1\" stroke-width=\"3.2\"/>\n",
       "<circle clip-path=\"url(#clip232)\" cx=\"678.794\" cy=\"1414.24\" r=\"14\" fill=\"#009af9\" fill-rule=\"evenodd\" fill-opacity=\"1\" stroke=\"#000000\" stroke-opacity=\"1\" stroke-width=\"3.2\"/>\n",
       "<circle clip-path=\"url(#clip232)\" cx=\"909.05\" cy=\"1368.81\" r=\"14\" fill=\"#009af9\" fill-rule=\"evenodd\" fill-opacity=\"1\" stroke=\"#000000\" stroke-opacity=\"1\" stroke-width=\"3.2\"/>\n",
       "<circle clip-path=\"url(#clip232)\" cx=\"1139.31\" cy=\"1278.87\" r=\"14\" fill=\"#009af9\" fill-rule=\"evenodd\" fill-opacity=\"1\" stroke=\"#000000\" stroke-opacity=\"1\" stroke-width=\"3.2\"/>\n",
       "<circle clip-path=\"url(#clip232)\" cx=\"1369.56\" cy=\"1166.36\" r=\"14\" fill=\"#009af9\" fill-rule=\"evenodd\" fill-opacity=\"1\" stroke=\"#000000\" stroke-opacity=\"1\" stroke-width=\"3.2\"/>\n",
       "<circle clip-path=\"url(#clip232)\" cx=\"1599.82\" cy=\"1044.26\" r=\"14\" fill=\"#009af9\" fill-rule=\"evenodd\" fill-opacity=\"1\" stroke=\"#000000\" stroke-opacity=\"1\" stroke-width=\"3.2\"/>\n",
       "<circle clip-path=\"url(#clip232)\" cx=\"1830.07\" cy=\"752.232\" r=\"14\" fill=\"#009af9\" fill-rule=\"evenodd\" fill-opacity=\"1\" stroke=\"#000000\" stroke-opacity=\"1\" stroke-width=\"3.2\"/>\n",
       "<circle clip-path=\"url(#clip232)\" cx=\"2060.33\" cy=\"611.773\" r=\"14\" fill=\"#009af9\" fill-rule=\"evenodd\" fill-opacity=\"1\" stroke=\"#000000\" stroke-opacity=\"1\" stroke-width=\"3.2\"/>\n",
       "<circle clip-path=\"url(#clip232)\" cx=\"2290.59\" cy=\"87.9763\" r=\"14\" fill=\"#009af9\" fill-rule=\"evenodd\" fill-opacity=\"1\" stroke=\"#000000\" stroke-opacity=\"1\" stroke-width=\"3.2\"/>\n",
       "</svg>\n"
      ]
     },
     "execution_count": 47,
     "metadata": {},
     "output_type": "execute_result"
    }
   ],
   "source": [
    "fit_poly_julia_i = fit(x_julia, y_julia_i, 3)\n",
    "scatter(x_julia,y_julia_i, label =\"\")"
   ]
  },
  {
   "cell_type": "markdown",
   "metadata": {},
   "source": [
    "Bede aproksymowal wielomianem 3 stopnia, poniewaz aproksymuje metode ulepszona mnozenia macierzy"
   ]
  },
  {
   "cell_type": "code",
   "execution_count": 48,
   "metadata": {},
   "outputs": [
    {
     "data": {
      "text/plain": [
       "10-element Vector{Int64}:\n",
       "  100\n",
       "  200\n",
       "  300\n",
       "  400\n",
       "  500\n",
       "  600\n",
       "  700\n",
       "  800\n",
       "  900\n",
       " 1000"
      ]
     },
     "execution_count": 48,
     "metadata": {},
     "output_type": "execute_result"
    }
   ],
   "source": [
    "x_julia"
   ]
  },
  {
   "cell_type": "code",
   "execution_count": 49,
   "metadata": {},
   "outputs": [
    {
     "data": {
      "text/plain": [
       "10-element Vector{Float64}:\n",
       " 0.001253326\n",
       " 0.009430138000000001\n",
       " 0.0361929983\n",
       " 0.0866316416\n",
       " 0.18647921169999998\n",
       " 0.3113810516\n",
       " 0.44693047759999993\n",
       " 0.7711246080999999\n",
       " 0.9270547590000001\n",
       " 1.5085480419000001"
      ]
     },
     "execution_count": 49,
     "metadata": {},
     "output_type": "execute_result"
    }
   ],
   "source": [
    "y_julia_i"
   ]
  },
  {
   "cell_type": "code",
   "execution_count": 50,
   "metadata": {},
   "outputs": [
    {
     "data": {
      "text/plain": [
       "10×4 Matrix{Float64}:\n",
       " 0.0  0.0  0.0  0.0\n",
       " 0.0  0.0  0.0  0.0\n",
       " 0.0  0.0  0.0  0.0\n",
       " 0.0  0.0  0.0  0.0\n",
       " 0.0  0.0  0.0  0.0\n",
       " 0.0  0.0  0.0  0.0\n",
       " 0.0  0.0  0.0  0.0\n",
       " 0.0  0.0  0.0  0.0\n",
       " 0.0  0.0  0.0  0.0\n",
       " 0.0  0.0  0.0  0.0"
      ]
     },
     "execution_count": 50,
     "metadata": {},
     "output_type": "execute_result"
    }
   ],
   "source": [
    "A_aprox = zeros(10, 4)"
   ]
  },
  {
   "cell_type": "code",
   "execution_count": 51,
   "metadata": {},
   "outputs": [],
   "source": [
    "A_aprox[:,1]=x_julia.^3;\n",
    "A_aprox[:,2]=x_julia.^2;\n",
    "A_aprox[:,3]=x_julia.^1;\n",
    "A_aprox[:,4]=ones(10);"
   ]
  },
  {
   "cell_type": "code",
   "execution_count": 52,
   "metadata": {},
   "outputs": [
    {
     "data": {
      "text/plain": [
       "10×4 Matrix{Float64}:\n",
       " 1.0e6    10000.0     100.0  1.0\n",
       " 8.0e6    40000.0     200.0  1.0\n",
       " 2.7e7    90000.0     300.0  1.0\n",
       " 6.4e7   160000.0     400.0  1.0\n",
       " 1.25e8  250000.0     500.0  1.0\n",
       " 2.16e8  360000.0     600.0  1.0\n",
       " 3.43e8  490000.0     700.0  1.0\n",
       " 5.12e8  640000.0     800.0  1.0\n",
       " 7.29e8  810000.0     900.0  1.0\n",
       " 1.0e9        1.0e6  1000.0  1.0"
      ]
     },
     "execution_count": 52,
     "metadata": {},
     "output_type": "execute_result"
    }
   ],
   "source": [
    "A_aprox"
   ]
  },
  {
   "cell_type": "markdown",
   "metadata": {},
   "source": [
    "Faktoryzacja QR:"
   ]
  },
  {
   "cell_type": "code",
   "execution_count": 53,
   "metadata": {},
   "outputs": [],
   "source": [
    "A_aprox_F = factorize(A_aprox);"
   ]
  },
  {
   "cell_type": "code",
   "execution_count": 54,
   "metadata": {},
   "outputs": [
    {
     "data": {
      "text/plain": [
       "4-element Vector{Float64}:\n",
       "  2.3443941406371485e-9\n",
       " -1.393881777430085e-6\n",
       "  0.000569519815002145\n",
       " -0.05726801610333461"
      ]
     },
     "execution_count": 54,
     "metadata": {},
     "output_type": "execute_result"
    }
   ],
   "source": [
    "aprox_res_QR = A_aprox_F \\ y_julia_i"
   ]
  },
  {
   "cell_type": "code",
   "execution_count": 55,
   "metadata": {},
   "outputs": [
    {
     "data": {
      "text/html": [
       "&#45;0.05726801610333461 &#43; 0.000569519815002145&#8729;x &#45; 1.393881777430085e-6&#8729;x<sup>2</sup> &#43; 2.3443941406371485e-9&#8729;x<sup>3</sup>"
      ],
      "text/latex": [
       "$-0.05726801610333461 + 0.000569519815002145\\cdot x - 1.393881777430085e-6\\cdot x^{2} + 2.3443941406371485e-9\\cdot x^{3}$"
      ],
      "text/plain": [
       "Polynomial(-0.05726801610333461 + 0.000569519815002145*x - 1.393881777430085e-6*x^2 + 2.3443941406371485e-9*x^3)"
      ]
     },
     "execution_count": 55,
     "metadata": {},
     "output_type": "execute_result"
    }
   ],
   "source": [
    "poly_aprox = Polynomial( reverse(aprox_res_QR))"
   ]
  },
  {
   "cell_type": "code",
   "execution_count": 56,
   "metadata": {},
   "outputs": [
    {
     "data": {
      "text/html": [
       "&#45;0.05726801610333247 &#43; 0.0005695198150021317&#8729;x &#45; 1.3938817774300619e-6&#8729;x<sup>2</sup> &#43; 2.344394140637137e-9&#8729;x<sup>3</sup>"
      ],
      "text/latex": [
       "$-0.05726801610333247 + 0.0005695198150021317\\cdot x - 1.3938817774300619e-6\\cdot x^{2} + 2.344394140637137e-9\\cdot x^{3}$"
      ],
      "text/plain": [
       "Polynomial(-0.05726801610333247 + 0.0005695198150021317*x - 1.3938817774300619e-6*x^2 + 2.344394140637137e-9*x^3)"
      ]
     },
     "execution_count": 56,
     "metadata": {},
     "output_type": "execute_result"
    }
   ],
   "source": [
    "fit_aprox = fit(x_julia, y_julia_i, 3)"
   ]
  },
  {
   "cell_type": "code",
   "execution_count": 347,
   "metadata": {},
   "outputs": [
    {
     "data": {
      "image/svg+xml": [
       "<?xml version=\"1.0\" encoding=\"utf-8\"?>\n",
       "<svg xmlns=\"http://www.w3.org/2000/svg\" xmlns:xlink=\"http://www.w3.org/1999/xlink\" width=\"600\" height=\"400\" viewBox=\"0 0 2400 1600\">\n",
       "<defs>\n",
       "  <clipPath id=\"clip550\">\n",
       "    <rect x=\"0\" y=\"0\" width=\"2400\" height=\"1600\"/>\n",
       "  </clipPath>\n",
       "</defs>\n",
       "<path clip-path=\"url(#clip550)\" d=\"\n",
       "M0 1600 L2400 1600 L2400 0 L0 0  Z\n",
       "  \" fill=\"#ffffff\" fill-rule=\"evenodd\" fill-opacity=\"1\"/>\n",
       "<defs>\n",
       "  <clipPath id=\"clip551\">\n",
       "    <rect x=\"480\" y=\"0\" width=\"1681\" height=\"1600\"/>\n",
       "  </clipPath>\n",
       "</defs>\n",
       "<path clip-path=\"url(#clip550)\" d=\"\n",
       "M156.112 1486.45 L2352.76 1486.45 L2352.76 123.472 L156.112 123.472  Z\n",
       "  \" fill=\"#ffffff\" fill-rule=\"evenodd\" fill-opacity=\"1\"/>\n",
       "<defs>\n",
       "  <clipPath id=\"clip552\">\n",
       "    <rect x=\"156\" y=\"123\" width=\"2198\" height=\"1364\"/>\n",
       "  </clipPath>\n",
       "</defs>\n",
       "<polyline clip-path=\"url(#clip552)\" style=\"stroke:#000000; stroke-width:2; stroke-opacity:0.1; fill:none\" points=\"\n",
       "  448.537,1486.45 448.537,123.472 \n",
       "  \"/>\n",
       "<polyline clip-path=\"url(#clip552)\" style=\"stroke:#000000; stroke-width:2; stroke-opacity:0.1; fill:none\" points=\"\n",
       "  909.05,1486.45 909.05,123.472 \n",
       "  \"/>\n",
       "<polyline clip-path=\"url(#clip552)\" style=\"stroke:#000000; stroke-width:2; stroke-opacity:0.1; fill:none\" points=\"\n",
       "  1369.56,1486.45 1369.56,123.472 \n",
       "  \"/>\n",
       "<polyline clip-path=\"url(#clip552)\" style=\"stroke:#000000; stroke-width:2; stroke-opacity:0.1; fill:none\" points=\"\n",
       "  1830.07,1486.45 1830.07,123.472 \n",
       "  \"/>\n",
       "<polyline clip-path=\"url(#clip552)\" style=\"stroke:#000000; stroke-width:2; stroke-opacity:0.1; fill:none\" points=\"\n",
       "  2290.59,1486.45 2290.59,123.472 \n",
       "  \"/>\n",
       "<polyline clip-path=\"url(#clip550)\" style=\"stroke:#000000; stroke-width:4; stroke-opacity:1; fill:none\" points=\"\n",
       "  156.112,1486.45 2352.76,1486.45 \n",
       "  \"/>\n",
       "<polyline clip-path=\"url(#clip550)\" style=\"stroke:#000000; stroke-width:4; stroke-opacity:1; fill:none\" points=\"\n",
       "  448.537,1486.45 448.537,1470.09 \n",
       "  \"/>\n",
       "<polyline clip-path=\"url(#clip550)\" style=\"stroke:#000000; stroke-width:4; stroke-opacity:1; fill:none\" points=\"\n",
       "  909.05,1486.45 909.05,1470.09 \n",
       "  \"/>\n",
       "<polyline clip-path=\"url(#clip550)\" style=\"stroke:#000000; stroke-width:4; stroke-opacity:1; fill:none\" points=\"\n",
       "  1369.56,1486.45 1369.56,1470.09 \n",
       "  \"/>\n",
       "<polyline clip-path=\"url(#clip550)\" style=\"stroke:#000000; stroke-width:4; stroke-opacity:1; fill:none\" points=\"\n",
       "  1830.07,1486.45 1830.07,1470.09 \n",
       "  \"/>\n",
       "<polyline clip-path=\"url(#clip550)\" style=\"stroke:#000000; stroke-width:4; stroke-opacity:1; fill:none\" points=\"\n",
       "  2290.59,1486.45 2290.59,1470.09 \n",
       "  \"/>\n",
       "<path clip-path=\"url(#clip550)\" d=\"M 0 0 M412.23 1543.18 L428.549 1543.18 L428.549 1547.12 L406.605 1547.12 L406.605 1543.18 Q409.267 1540.43 413.85 1535.8 Q418.457 1531.15 419.637 1529.81 Q421.883 1527.28 422.762 1525.55 Q423.665 1523.79 423.665 1522.1 Q423.665 1519.34 421.72 1517.61 Q419.799 1515.87 416.697 1515.87 Q414.498 1515.87 412.045 1516.63 Q409.614 1517.4 406.836 1518.95 L406.836 1514.23 Q409.66 1513.09 412.114 1512.51 Q414.568 1511.93 416.605 1511.93 Q421.975 1511.93 425.17 1514.62 Q428.364 1517.31 428.364 1521.8 Q428.364 1523.93 427.554 1525.85 Q426.767 1527.74 424.66 1530.34 Q424.082 1531.01 420.98 1534.23 Q417.878 1537.42 412.23 1543.18 Z\" fill=\"#000000\" fill-rule=\"evenodd\" fill-opacity=\"1\" /><path clip-path=\"url(#clip550)\" d=\"M 0 0 M448.364 1515.64 Q444.753 1515.64 442.924 1519.2 Q441.119 1522.75 441.119 1529.87 Q441.119 1536.98 442.924 1540.55 Q444.753 1544.09 448.364 1544.09 Q451.998 1544.09 453.804 1540.55 Q455.632 1536.98 455.632 1529.87 Q455.632 1522.75 453.804 1519.2 Q451.998 1515.64 448.364 1515.64 M448.364 1511.93 Q454.174 1511.93 457.23 1516.54 Q460.308 1521.12 460.308 1529.87 Q460.308 1538.6 457.23 1543.21 Q454.174 1547.79 448.364 1547.79 Q442.554 1547.79 439.475 1543.21 Q436.419 1538.6 436.419 1529.87 Q436.419 1521.12 439.475 1516.54 Q442.554 1511.93 448.364 1511.93 Z\" fill=\"#000000\" fill-rule=\"evenodd\" fill-opacity=\"1\" /><path clip-path=\"url(#clip550)\" d=\"M 0 0 M478.526 1515.64 Q474.915 1515.64 473.086 1519.2 Q471.28 1522.75 471.28 1529.87 Q471.28 1536.98 473.086 1540.55 Q474.915 1544.09 478.526 1544.09 Q482.16 1544.09 483.966 1540.55 Q485.794 1536.98 485.794 1529.87 Q485.794 1522.75 483.966 1519.2 Q482.16 1515.64 478.526 1515.64 M478.526 1511.93 Q484.336 1511.93 487.391 1516.54 Q490.47 1521.12 490.47 1529.87 Q490.47 1538.6 487.391 1543.21 Q484.336 1547.79 478.526 1547.79 Q472.716 1547.79 469.637 1543.21 Q466.581 1538.6 466.581 1529.87 Q466.581 1521.12 469.637 1516.54 Q472.716 1511.93 478.526 1511.93 Z\" fill=\"#000000\" fill-rule=\"evenodd\" fill-opacity=\"1\" /><path clip-path=\"url(#clip550)\" d=\"M 0 0 M882.14 1516.63 L870.335 1535.08 L882.14 1535.08 L882.14 1516.63 M880.913 1512.56 L886.793 1512.56 L886.793 1535.08 L891.723 1535.08 L891.723 1538.97 L886.793 1538.97 L886.793 1547.12 L882.14 1547.12 L882.14 1538.97 L866.538 1538.97 L866.538 1534.46 L880.913 1512.56 Z\" fill=\"#000000\" fill-rule=\"evenodd\" fill-opacity=\"1\" /><path clip-path=\"url(#clip550)\" d=\"M 0 0 M909.455 1515.64 Q905.844 1515.64 904.015 1519.2 Q902.21 1522.75 902.21 1529.87 Q902.21 1536.98 904.015 1540.55 Q905.844 1544.09 909.455 1544.09 Q913.089 1544.09 914.895 1540.55 Q916.723 1536.98 916.723 1529.87 Q916.723 1522.75 914.895 1519.2 Q913.089 1515.64 909.455 1515.64 M909.455 1511.93 Q915.265 1511.93 918.321 1516.54 Q921.399 1521.12 921.399 1529.87 Q921.399 1538.6 918.321 1543.21 Q915.265 1547.79 909.455 1547.79 Q903.645 1547.79 900.566 1543.21 Q897.51 1538.6 897.51 1529.87 Q897.51 1521.12 900.566 1516.54 Q903.645 1511.93 909.455 1511.93 Z\" fill=\"#000000\" fill-rule=\"evenodd\" fill-opacity=\"1\" /><path clip-path=\"url(#clip550)\" d=\"M 0 0 M939.617 1515.64 Q936.006 1515.64 934.177 1519.2 Q932.371 1522.75 932.371 1529.87 Q932.371 1536.98 934.177 1540.55 Q936.006 1544.09 939.617 1544.09 Q943.251 1544.09 945.057 1540.55 Q946.885 1536.98 946.885 1529.87 Q946.885 1522.75 945.057 1519.2 Q943.251 1515.64 939.617 1515.64 M939.617 1511.93 Q945.427 1511.93 948.482 1516.54 Q951.561 1521.12 951.561 1529.87 Q951.561 1538.6 948.482 1543.21 Q945.427 1547.79 939.617 1547.79 Q933.807 1547.79 930.728 1543.21 Q927.672 1538.6 927.672 1529.87 Q927.672 1521.12 930.728 1516.54 Q933.807 1511.93 939.617 1511.93 Z\" fill=\"#000000\" fill-rule=\"evenodd\" fill-opacity=\"1\" /><path clip-path=\"url(#clip550)\" d=\"M 0 0 M1339.89 1527.98 Q1336.74 1527.98 1334.89 1530.13 Q1333.06 1532.28 1333.06 1536.03 Q1333.06 1539.76 1334.89 1541.93 Q1336.74 1544.09 1339.89 1544.09 Q1343.03 1544.09 1344.86 1541.93 Q1346.71 1539.76 1346.71 1536.03 Q1346.71 1532.28 1344.86 1530.13 Q1343.03 1527.98 1339.89 1527.98 M1349.17 1513.32 L1349.17 1517.58 Q1347.41 1516.75 1345.6 1516.31 Q1343.82 1515.87 1342.06 1515.87 Q1337.43 1515.87 1334.98 1519 Q1332.55 1522.12 1332.2 1528.44 Q1333.57 1526.43 1335.63 1525.36 Q1337.69 1524.27 1340.16 1524.27 Q1345.37 1524.27 1348.38 1527.44 Q1351.41 1530.59 1351.41 1536.03 Q1351.41 1541.36 1348.27 1544.57 Q1345.12 1547.79 1339.89 1547.79 Q1333.89 1547.79 1330.72 1543.21 Q1327.55 1538.6 1327.55 1529.87 Q1327.55 1521.68 1331.44 1516.82 Q1335.33 1511.93 1341.88 1511.93 Q1343.64 1511.93 1345.42 1512.28 Q1347.22 1512.63 1349.17 1513.32 Z\" fill=\"#000000\" fill-rule=\"evenodd\" fill-opacity=\"1\" /><path clip-path=\"url(#clip550)\" d=\"M 0 0 M1369.47 1515.64 Q1365.86 1515.64 1364.03 1519.2 Q1362.22 1522.75 1362.22 1529.87 Q1362.22 1536.98 1364.03 1540.55 Q1365.86 1544.09 1369.47 1544.09 Q1373.1 1544.09 1374.91 1540.55 Q1376.74 1536.98 1376.74 1529.87 Q1376.74 1522.75 1374.91 1519.2 Q1373.1 1515.64 1369.47 1515.64 M1369.47 1511.93 Q1375.28 1511.93 1378.34 1516.54 Q1381.41 1521.12 1381.41 1529.87 Q1381.41 1538.6 1378.34 1543.21 Q1375.28 1547.79 1369.47 1547.79 Q1363.66 1547.79 1360.58 1543.21 Q1357.53 1538.6 1357.53 1529.87 Q1357.53 1521.12 1360.58 1516.54 Q1363.66 1511.93 1369.47 1511.93 Z\" fill=\"#000000\" fill-rule=\"evenodd\" fill-opacity=\"1\" /><path clip-path=\"url(#clip550)\" d=\"M 0 0 M1399.63 1515.64 Q1396.02 1515.64 1394.19 1519.2 Q1392.39 1522.75 1392.39 1529.87 Q1392.39 1536.98 1394.19 1540.55 Q1396.02 1544.09 1399.63 1544.09 Q1403.27 1544.09 1405.07 1540.55 Q1406.9 1536.98 1406.9 1529.87 Q1406.9 1522.75 1405.07 1519.2 Q1403.27 1515.64 1399.63 1515.64 M1399.63 1511.93 Q1405.44 1511.93 1408.5 1516.54 Q1411.58 1521.12 1411.58 1529.87 Q1411.58 1538.6 1408.5 1543.21 Q1405.44 1547.79 1399.63 1547.79 Q1393.82 1547.79 1390.74 1543.21 Q1387.69 1538.6 1387.69 1529.87 Q1387.69 1521.12 1390.74 1516.54 Q1393.82 1511.93 1399.63 1511.93 Z\" fill=\"#000000\" fill-rule=\"evenodd\" fill-opacity=\"1\" /><path clip-path=\"url(#clip550)\" d=\"M 0 0 M1799.87 1530.71 Q1796.53 1530.71 1794.61 1532.49 Q1792.71 1534.27 1792.71 1537.4 Q1792.71 1540.52 1794.61 1542.31 Q1796.53 1544.09 1799.87 1544.09 Q1803.2 1544.09 1805.12 1542.31 Q1807.04 1540.5 1807.04 1537.4 Q1807.04 1534.27 1805.12 1532.49 Q1803.22 1530.71 1799.87 1530.71 M1795.19 1528.72 Q1792.18 1527.98 1790.49 1525.92 Q1788.82 1523.86 1788.82 1520.89 Q1788.82 1516.75 1791.76 1514.34 Q1794.73 1511.93 1799.87 1511.93 Q1805.03 1511.93 1807.97 1514.34 Q1810.91 1516.75 1810.91 1520.89 Q1810.91 1523.86 1809.22 1525.92 Q1807.55 1527.98 1804.57 1528.72 Q1807.94 1529.5 1809.82 1531.8 Q1811.72 1534.09 1811.72 1537.4 Q1811.72 1542.42 1808.64 1545.11 Q1805.58 1547.79 1799.87 1547.79 Q1794.15 1547.79 1791.07 1545.11 Q1788.01 1542.42 1788.01 1537.4 Q1788.01 1534.09 1789.91 1531.8 Q1791.81 1529.5 1795.19 1528.72 M1793.48 1521.33 Q1793.48 1524.02 1795.14 1525.52 Q1796.83 1527.03 1799.87 1527.03 Q1802.88 1527.03 1804.57 1525.52 Q1806.28 1524.02 1806.28 1521.33 Q1806.28 1518.65 1804.57 1517.14 Q1802.88 1515.64 1799.87 1515.64 Q1796.83 1515.64 1795.14 1517.14 Q1793.48 1518.65 1793.48 1521.33 Z\" fill=\"#000000\" fill-rule=\"evenodd\" fill-opacity=\"1\" /><path clip-path=\"url(#clip550)\" d=\"M 0 0 M1830.03 1515.64 Q1826.42 1515.64 1824.59 1519.2 Q1822.78 1522.75 1822.78 1529.87 Q1822.78 1536.98 1824.59 1540.55 Q1826.42 1544.09 1830.03 1544.09 Q1833.66 1544.09 1835.47 1540.55 Q1837.3 1536.98 1837.3 1529.87 Q1837.3 1522.75 1835.47 1519.2 Q1833.66 1515.64 1830.03 1515.64 M1830.03 1511.93 Q1835.84 1511.93 1838.89 1516.54 Q1841.97 1521.12 1841.97 1529.87 Q1841.97 1538.6 1838.89 1543.21 Q1835.84 1547.79 1830.03 1547.79 Q1824.22 1547.79 1821.14 1543.21 Q1818.08 1538.6 1818.08 1529.87 Q1818.08 1521.12 1821.14 1516.54 Q1824.22 1511.93 1830.03 1511.93 Z\" fill=\"#000000\" fill-rule=\"evenodd\" fill-opacity=\"1\" /><path clip-path=\"url(#clip550)\" d=\"M 0 0 M1860.19 1515.64 Q1856.58 1515.64 1854.75 1519.2 Q1852.94 1522.75 1852.94 1529.87 Q1852.94 1536.98 1854.75 1540.55 Q1856.58 1544.09 1860.19 1544.09 Q1863.82 1544.09 1865.63 1540.55 Q1867.46 1536.98 1867.46 1529.87 Q1867.46 1522.75 1865.63 1519.2 Q1863.82 1515.64 1860.19 1515.64 M1860.19 1511.93 Q1866 1511.93 1869.06 1516.54 Q1872.13 1521.12 1872.13 1529.87 Q1872.13 1538.6 1869.06 1543.21 Q1866 1547.79 1860.19 1547.79 Q1854.38 1547.79 1851.3 1543.21 Q1848.25 1538.6 1848.25 1529.87 Q1848.25 1521.12 1851.3 1516.54 Q1854.38 1511.93 1860.19 1511.93 Z\" fill=\"#000000\" fill-rule=\"evenodd\" fill-opacity=\"1\" /><path clip-path=\"url(#clip550)\" d=\"M 0 0 M2235.11 1543.18 L2242.75 1543.18 L2242.75 1516.82 L2234.44 1518.49 L2234.44 1514.23 L2242.71 1512.56 L2247.38 1512.56 L2247.38 1543.18 L2255.02 1543.18 L2255.02 1547.12 L2235.11 1547.12 L2235.11 1543.18 Z\" fill=\"#000000\" fill-rule=\"evenodd\" fill-opacity=\"1\" /><path clip-path=\"url(#clip550)\" d=\"M 0 0 M2274.46 1515.64 Q2270.85 1515.64 2269.02 1519.2 Q2267.22 1522.75 2267.22 1529.87 Q2267.22 1536.98 2269.02 1540.55 Q2270.85 1544.09 2274.46 1544.09 Q2278.1 1544.09 2279.9 1540.55 Q2281.73 1536.98 2281.73 1529.87 Q2281.73 1522.75 2279.9 1519.2 Q2278.1 1515.64 2274.46 1515.64 M2274.46 1511.93 Q2280.27 1511.93 2283.33 1516.54 Q2286.41 1521.12 2286.41 1529.87 Q2286.41 1538.6 2283.33 1543.21 Q2280.27 1547.79 2274.46 1547.79 Q2268.65 1547.79 2265.58 1543.21 Q2262.52 1538.6 2262.52 1529.87 Q2262.52 1521.12 2265.58 1516.54 Q2268.65 1511.93 2274.46 1511.93 Z\" fill=\"#000000\" fill-rule=\"evenodd\" fill-opacity=\"1\" /><path clip-path=\"url(#clip550)\" d=\"M 0 0 M2304.63 1515.64 Q2301.01 1515.64 2299.19 1519.2 Q2297.38 1522.75 2297.38 1529.87 Q2297.38 1536.98 2299.19 1540.55 Q2301.01 1544.09 2304.63 1544.09 Q2308.26 1544.09 2310.07 1540.55 Q2311.89 1536.98 2311.89 1529.87 Q2311.89 1522.75 2310.07 1519.2 Q2308.26 1515.64 2304.63 1515.64 M2304.63 1511.93 Q2310.44 1511.93 2313.49 1516.54 Q2316.57 1521.12 2316.57 1529.87 Q2316.57 1538.6 2313.49 1543.21 Q2310.44 1547.79 2304.63 1547.79 Q2298.82 1547.79 2295.74 1543.21 Q2292.68 1538.6 2292.68 1529.87 Q2292.68 1521.12 2295.74 1516.54 Q2298.82 1511.93 2304.63 1511.93 Z\" fill=\"#000000\" fill-rule=\"evenodd\" fill-opacity=\"1\" /><path clip-path=\"url(#clip550)\" d=\"M 0 0 M2334.79 1515.64 Q2331.18 1515.64 2329.35 1519.2 Q2327.54 1522.75 2327.54 1529.87 Q2327.54 1536.98 2329.35 1540.55 Q2331.18 1544.09 2334.79 1544.09 Q2338.42 1544.09 2340.23 1540.55 Q2342.06 1536.98 2342.06 1529.87 Q2342.06 1522.75 2340.23 1519.2 Q2338.42 1515.64 2334.79 1515.64 M2334.79 1511.93 Q2340.6 1511.93 2343.65 1516.54 Q2346.73 1521.12 2346.73 1529.87 Q2346.73 1538.6 2343.65 1543.21 Q2340.6 1547.79 2334.79 1547.79 Q2328.98 1547.79 2325.9 1543.21 Q2322.84 1538.6 2322.84 1529.87 Q2322.84 1521.12 2325.9 1516.54 Q2328.98 1511.93 2334.79 1511.93 Z\" fill=\"#000000\" fill-rule=\"evenodd\" fill-opacity=\"1\" /><polyline clip-path=\"url(#clip552)\" style=\"stroke:#000000; stroke-width:2; stroke-opacity:0.1; fill:none\" points=\"\n",
       "  156.112,1437.8 2352.76,1437.8 \n",
       "  \"/>\n",
       "<polyline clip-path=\"url(#clip552)\" style=\"stroke:#000000; stroke-width:2; stroke-opacity:0.1; fill:none\" points=\"\n",
       "  156.112,1014.96 2352.76,1014.96 \n",
       "  \"/>\n",
       "<polyline clip-path=\"url(#clip552)\" style=\"stroke:#000000; stroke-width:2; stroke-opacity:0.1; fill:none\" points=\"\n",
       "  156.112,592.117 2352.76,592.117 \n",
       "  \"/>\n",
       "<polyline clip-path=\"url(#clip552)\" style=\"stroke:#000000; stroke-width:2; stroke-opacity:0.1; fill:none\" points=\"\n",
       "  156.112,169.276 2352.76,169.276 \n",
       "  \"/>\n",
       "<polyline clip-path=\"url(#clip550)\" style=\"stroke:#000000; stroke-width:4; stroke-opacity:1; fill:none\" points=\"\n",
       "  156.112,1486.45 156.112,123.472 \n",
       "  \"/>\n",
       "<polyline clip-path=\"url(#clip550)\" style=\"stroke:#000000; stroke-width:4; stroke-opacity:1; fill:none\" points=\"\n",
       "  156.112,1437.8 182.472,1437.8 \n",
       "  \"/>\n",
       "<polyline clip-path=\"url(#clip550)\" style=\"stroke:#000000; stroke-width:4; stroke-opacity:1; fill:none\" points=\"\n",
       "  156.112,1014.96 182.472,1014.96 \n",
       "  \"/>\n",
       "<polyline clip-path=\"url(#clip550)\" style=\"stroke:#000000; stroke-width:4; stroke-opacity:1; fill:none\" points=\"\n",
       "  156.112,592.117 182.472,592.117 \n",
       "  \"/>\n",
       "<polyline clip-path=\"url(#clip550)\" style=\"stroke:#000000; stroke-width:4; stroke-opacity:1; fill:none\" points=\"\n",
       "  156.112,169.276 182.472,169.276 \n",
       "  \"/>\n",
       "<path clip-path=\"url(#clip550)\" d=\"M 0 0 M62.9365 1423.6 Q59.3254 1423.6 57.4967 1427.16 Q55.6912 1430.71 55.6912 1437.84 Q55.6912 1444.94 57.4967 1448.51 Q59.3254 1452.05 62.9365 1452.05 Q66.5707 1452.05 68.3763 1448.51 Q70.205 1444.94 70.205 1437.84 Q70.205 1430.71 68.3763 1427.16 Q66.5707 1423.6 62.9365 1423.6 M62.9365 1419.9 Q68.7467 1419.9 71.8022 1424.5 Q74.8809 1429.09 74.8809 1437.84 Q74.8809 1446.56 71.8022 1451.17 Q68.7467 1455.75 62.9365 1455.75 Q57.1264 1455.75 54.0477 1451.17 Q50.9921 1446.56 50.9921 1437.84 Q50.9921 1429.09 54.0477 1424.5 Q57.1264 1419.9 62.9365 1419.9 Z\" fill=\"#000000\" fill-rule=\"evenodd\" fill-opacity=\"1\" /><path clip-path=\"url(#clip550)\" d=\"M 0 0 M83.0984 1449.2 L87.9827 1449.2 L87.9827 1455.08 L83.0984 1455.08 L83.0984 1449.2 Z\" fill=\"#000000\" fill-rule=\"evenodd\" fill-opacity=\"1\" /><path clip-path=\"url(#clip550)\" d=\"M 0 0 M108.168 1423.6 Q104.557 1423.6 102.728 1427.16 Q100.922 1430.71 100.922 1437.84 Q100.922 1444.94 102.728 1448.51 Q104.557 1452.05 108.168 1452.05 Q111.802 1452.05 113.608 1448.51 Q115.436 1444.94 115.436 1437.84 Q115.436 1430.71 113.608 1427.16 Q111.802 1423.6 108.168 1423.6 M108.168 1419.9 Q113.978 1419.9 117.033 1424.5 Q120.112 1429.09 120.112 1437.84 Q120.112 1446.56 117.033 1451.17 Q113.978 1455.75 108.168 1455.75 Q102.358 1455.75 99.2789 1451.17 Q96.2234 1446.56 96.2234 1437.84 Q96.2234 1429.09 99.2789 1424.5 Q102.358 1419.9 108.168 1419.9 Z\" fill=\"#000000\" fill-rule=\"evenodd\" fill-opacity=\"1\" /><path clip-path=\"url(#clip550)\" d=\"M 0 0 M63.9319 1000.76 Q60.3208 1000.76 58.4921 1004.32 Q56.6865 1007.86 56.6865 1014.99 Q56.6865 1022.1 58.4921 1025.66 Q60.3208 1029.21 63.9319 1029.21 Q67.5661 1029.21 69.3717 1025.66 Q71.2004 1022.1 71.2004 1014.99 Q71.2004 1007.86 69.3717 1004.32 Q67.5661 1000.76 63.9319 1000.76 M63.9319 997.054 Q69.742 997.054 72.7976 1001.66 Q75.8763 1006.24 75.8763 1014.99 Q75.8763 1023.72 72.7976 1028.33 Q69.742 1032.91 63.9319 1032.91 Q58.1217 1032.91 55.043 1028.33 Q51.9875 1023.72 51.9875 1014.99 Q51.9875 1006.24 55.043 1001.66 Q58.1217 997.054 63.9319 997.054 Z\" fill=\"#000000\" fill-rule=\"evenodd\" fill-opacity=\"1\" /><path clip-path=\"url(#clip550)\" d=\"M 0 0 M84.0938 1026.36 L88.978 1026.36 L88.978 1032.24 L84.0938 1032.24 L84.0938 1026.36 Z\" fill=\"#000000\" fill-rule=\"evenodd\" fill-opacity=\"1\" /><path clip-path=\"url(#clip550)\" d=\"M 0 0 M99.2095 997.679 L117.566 997.679 L117.566 1001.61 L103.492 1001.61 L103.492 1010.09 Q104.51 1009.74 105.529 1009.58 Q106.547 1009.39 107.566 1009.39 Q113.353 1009.39 116.733 1012.56 Q120.112 1015.73 120.112 1021.15 Q120.112 1026.73 116.64 1029.83 Q113.168 1032.91 106.848 1032.91 Q104.672 1032.91 102.404 1032.54 Q100.159 1032.17 97.7511 1031.43 L97.7511 1026.73 Q99.8345 1027.86 102.057 1028.42 Q104.279 1028.98 106.756 1028.98 Q110.76 1028.98 113.098 1026.87 Q115.436 1024.76 115.436 1021.15 Q115.436 1017.54 113.098 1015.43 Q110.76 1013.33 106.756 1013.33 Q104.881 1013.33 103.006 1013.74 Q101.154 1014.16 99.2095 1015.04 L99.2095 997.679 Z\" fill=\"#000000\" fill-rule=\"evenodd\" fill-opacity=\"1\" /><path clip-path=\"url(#clip550)\" d=\"M 0 0 M53.7467 605.462 L61.3856 605.462 L61.3856 579.097 L53.0754 580.763 L53.0754 576.504 L61.3393 574.837 L66.0152 574.837 L66.0152 605.462 L73.654 605.462 L73.654 609.397 L53.7467 609.397 L53.7467 605.462 Z\" fill=\"#000000\" fill-rule=\"evenodd\" fill-opacity=\"1\" /><path clip-path=\"url(#clip550)\" d=\"M 0 0 M83.0984 603.518 L87.9827 603.518 L87.9827 609.397 L83.0984 609.397 L83.0984 603.518 Z\" fill=\"#000000\" fill-rule=\"evenodd\" fill-opacity=\"1\" /><path clip-path=\"url(#clip550)\" d=\"M 0 0 M108.168 577.916 Q104.557 577.916 102.728 581.481 Q100.922 585.023 100.922 592.152 Q100.922 599.259 102.728 602.823 Q104.557 606.365 108.168 606.365 Q111.802 606.365 113.608 602.823 Q115.436 599.259 115.436 592.152 Q115.436 585.023 113.608 581.481 Q111.802 577.916 108.168 577.916 M108.168 574.212 Q113.978 574.212 117.033 578.819 Q120.112 583.402 120.112 592.152 Q120.112 600.879 117.033 605.485 Q113.978 610.069 108.168 610.069 Q102.358 610.069 99.2789 605.485 Q96.2234 600.879 96.2234 592.152 Q96.2234 583.402 99.2789 578.819 Q102.358 574.212 108.168 574.212 Z\" fill=\"#000000\" fill-rule=\"evenodd\" fill-opacity=\"1\" /><path clip-path=\"url(#clip550)\" d=\"M 0 0 M54.7421 182.621 L62.381 182.621 L62.381 156.255 L54.0708 157.922 L54.0708 153.663 L62.3347 151.996 L67.0106 151.996 L67.0106 182.621 L74.6494 182.621 L74.6494 186.556 L54.7421 186.556 L54.7421 182.621 Z\" fill=\"#000000\" fill-rule=\"evenodd\" fill-opacity=\"1\" /><path clip-path=\"url(#clip550)\" d=\"M 0 0 M84.0938 180.676 L88.978 180.676 L88.978 186.556 L84.0938 186.556 L84.0938 180.676 Z\" fill=\"#000000\" fill-rule=\"evenodd\" fill-opacity=\"1\" /><path clip-path=\"url(#clip550)\" d=\"M 0 0 M99.2095 151.996 L117.566 151.996 L117.566 155.931 L103.492 155.931 L103.492 164.403 Q104.51 164.056 105.529 163.894 Q106.547 163.709 107.566 163.709 Q113.353 163.709 116.733 166.88 Q120.112 170.051 120.112 175.468 Q120.112 181.047 116.64 184.148 Q113.168 187.227 106.848 187.227 Q104.672 187.227 102.404 186.857 Q100.159 186.486 97.7511 185.746 L97.7511 181.047 Q99.8345 182.181 102.057 182.736 Q104.279 183.292 106.756 183.292 Q110.76 183.292 113.098 181.186 Q115.436 179.079 115.436 175.468 Q115.436 171.857 113.098 169.75 Q110.76 167.644 106.756 167.644 Q104.881 167.644 103.006 168.061 Q101.154 168.477 99.2095 169.357 L99.2095 151.996 Z\" fill=\"#000000\" fill-rule=\"evenodd\" fill-opacity=\"1\" /><path clip-path=\"url(#clip550)\" d=\"M 0 0 M851.065 12.096 L863.258 12.096 L878.692 53.2532 L894.207 12.096 L906.401 12.096 L906.401 72.576 L898.42 72.576 L898.42 19.4686 L882.824 60.9499 L874.601 60.9499 L859.005 19.4686 L859.005 72.576 L851.065 72.576 L851.065 12.096 Z\" fill=\"#000000\" fill-rule=\"evenodd\" fill-opacity=\"1\" /><path clip-path=\"url(#clip550)\" d=\"M 0 0 M961.128 48.0275 L961.128 51.6733 L926.858 51.6733 Q927.344 59.3701 931.476 63.421 Q935.648 67.4314 943.061 67.4314 Q947.355 67.4314 951.366 66.3781 Q955.417 65.3249 959.386 63.2184 L959.386 70.267 Q955.376 71.9684 951.163 72.8596 Q946.95 73.7508 942.616 73.7508 Q931.759 73.7508 925.399 67.4314 Q919.08 61.1119 919.08 50.3365 Q919.08 39.1965 925.075 32.6746 Q931.111 26.1121 941.319 26.1121 Q950.474 26.1121 955.781 32.0264 Q961.128 37.9003 961.128 48.0275 M953.675 45.84 Q953.594 39.7232 950.231 36.0774 Q946.91 32.4315 941.4 32.4315 Q935.162 32.4315 931.395 35.9558 Q927.668 39.4801 927.101 45.8805 L953.675 45.84 Z\" fill=\"#000000\" fill-rule=\"evenodd\" fill-opacity=\"1\" /><path clip-path=\"url(#clip550)\" d=\"M 0 0 M980.735 14.324 L980.735 27.2059 L996.088 27.2059 L996.088 32.9987 L980.735 32.9987 L980.735 57.6282 Q980.735 63.1779 982.234 64.7578 Q983.773 66.3376 988.431 66.3376 L996.088 66.3376 L996.088 72.576 L988.431 72.576 Q979.803 72.576 976.522 69.3758 Q973.24 66.1351 973.24 57.6282 L973.24 32.9987 L967.772 32.9987 L967.772 27.2059 L973.24 27.2059 L973.24 14.324 L980.735 14.324 Z\" fill=\"#000000\" fill-rule=\"evenodd\" fill-opacity=\"1\" /><path clip-path=\"url(#clip550)\" d=\"M 0 0 M1043.6 45.1919 L1043.6 72.576 L1036.15 72.576 L1036.15 45.4349 Q1036.15 38.994 1033.64 35.7938 Q1031.13 32.5936 1026.1 32.5936 Q1020.07 32.5936 1016.59 36.4419 Q1013.1 40.2903 1013.1 46.9338 L1013.1 72.576 L1005.61 72.576 L1005.61 9.54393 L1013.1 9.54393 L1013.1 34.2544 Q1015.77 30.163 1019.38 28.1376 Q1023.03 26.1121 1027.77 26.1121 Q1035.58 26.1121 1039.59 30.9732 Q1043.6 35.7938 1043.6 45.1919 Z\" fill=\"#000000\" fill-rule=\"evenodd\" fill-opacity=\"1\" /><path clip-path=\"url(#clip550)\" d=\"M 0 0 M1076.05 32.4315 Q1070.06 32.4315 1066.57 37.1306 Q1063.09 41.7891 1063.09 49.9314 Q1063.09 58.0738 1066.53 62.7728 Q1070.02 67.4314 1076.05 67.4314 Q1082.01 67.4314 1085.49 62.7323 Q1088.97 58.0333 1088.97 49.9314 Q1088.97 41.8701 1085.49 37.1711 Q1082.01 32.4315 1076.05 32.4315 M1076.05 26.1121 Q1085.77 26.1121 1091.32 32.4315 Q1096.87 38.7509 1096.87 49.9314 Q1096.87 61.0714 1091.32 67.4314 Q1085.77 73.7508 1076.05 73.7508 Q1066.29 73.7508 1060.74 67.4314 Q1055.23 61.0714 1055.23 49.9314 Q1055.23 38.7509 1060.74 32.4315 Q1066.29 26.1121 1076.05 26.1121 Z\" fill=\"#000000\" fill-rule=\"evenodd\" fill-opacity=\"1\" /><path clip-path=\"url(#clip550)\" d=\"M 0 0 M1139.08 34.0924 L1139.08 9.54393 L1146.54 9.54393 L1146.54 72.576 L1139.08 72.576 L1139.08 65.7705 Q1136.73 69.8214 1133.13 71.8063 Q1129.56 73.7508 1124.54 73.7508 Q1116.32 73.7508 1111.13 67.1883 Q1105.99 60.6258 1105.99 49.9314 Q1105.99 39.2371 1111.13 32.6746 Q1116.32 26.1121 1124.54 26.1121 Q1129.56 26.1121 1133.13 28.0971 Q1136.73 30.0415 1139.08 34.0924 M1113.69 49.9314 Q1113.69 58.1548 1117.05 62.8538 Q1120.45 67.5124 1126.36 67.5124 Q1132.28 67.5124 1135.68 62.8538 Q1139.08 58.1548 1139.08 49.9314 Q1139.08 41.7081 1135.68 37.0496 Q1132.28 32.3505 1126.36 32.3505 Q1120.45 32.3505 1117.05 37.0496 Q1113.69 41.7081 1113.69 49.9314 Z\" fill=\"#000000\" fill-rule=\"evenodd\" fill-opacity=\"1\" /><path clip-path=\"url(#clip550)\" d=\"M 0 0 M1220.91 28.9478 L1220.91 35.9153 Q1217.75 34.1734 1214.55 33.3227 Q1211.39 32.4315 1208.15 32.4315 Q1200.9 32.4315 1196.89 37.0496 Q1192.88 41.6271 1192.88 49.9314 Q1192.88 58.2358 1196.89 62.8538 Q1200.9 67.4314 1208.15 67.4314 Q1211.39 67.4314 1214.55 66.5807 Q1217.75 65.6895 1220.91 63.9476 L1220.91 70.8341 Q1217.79 72.2924 1214.43 73.0216 Q1211.11 73.7508 1207.34 73.7508 Q1197.09 73.7508 1191.06 67.3098 Q1185.02 60.8689 1185.02 49.9314 Q1185.02 38.832 1191.1 32.472 Q1197.21 26.1121 1207.83 26.1121 Q1211.27 26.1121 1214.55 26.8413 Q1217.83 27.5299 1220.91 28.9478 Z\" fill=\"#000000\" fill-rule=\"evenodd\" fill-opacity=\"1\" /><path clip-path=\"url(#clip550)\" d=\"M 0 0 M1251.46 32.4315 Q1245.46 32.4315 1241.98 37.1306 Q1238.49 41.7891 1238.49 49.9314 Q1238.49 58.0738 1241.94 62.7728 Q1245.42 67.4314 1251.46 67.4314 Q1257.41 67.4314 1260.9 62.7323 Q1264.38 58.0333 1264.38 49.9314 Q1264.38 41.8701 1260.9 37.1711 Q1257.41 32.4315 1251.46 32.4315 M1251.46 26.1121 Q1261.18 26.1121 1266.73 32.4315 Q1272.28 38.7509 1272.28 49.9314 Q1272.28 61.0714 1266.73 67.4314 Q1261.18 73.7508 1251.46 73.7508 Q1241.69 73.7508 1236.14 67.4314 Q1230.63 61.0714 1230.63 49.9314 Q1230.63 38.7509 1236.14 32.4315 Q1241.69 26.1121 1251.46 26.1121 Z\" fill=\"#000000\" fill-rule=\"evenodd\" fill-opacity=\"1\" /><path clip-path=\"url(#clip550)\" d=\"M 0 0 M1319.96 35.9153 Q1322.75 30.8922 1326.64 28.5022 Q1330.53 26.1121 1335.8 26.1121 Q1342.89 26.1121 1346.73 31.0947 Q1350.58 36.0368 1350.58 45.1919 L1350.58 72.576 L1343.09 72.576 L1343.09 45.4349 Q1343.09 38.913 1340.78 35.7533 Q1338.47 32.5936 1333.73 32.5936 Q1327.94 32.5936 1324.58 36.4419 Q1321.21 40.2903 1321.21 46.9338 L1321.21 72.576 L1313.72 72.576 L1313.72 45.4349 Q1313.72 38.8725 1311.41 35.7533 Q1309.1 32.5936 1304.28 32.5936 Q1298.57 32.5936 1295.21 36.4824 Q1291.84 40.3308 1291.84 46.9338 L1291.84 72.576 L1284.35 72.576 L1284.35 27.2059 L1291.84 27.2059 L1291.84 34.2544 Q1294.4 30.082 1297.96 28.0971 Q1301.53 26.1121 1306.43 26.1121 Q1311.37 26.1121 1314.81 28.6237 Q1318.3 31.1352 1319.96 35.9153 Z\" fill=\"#000000\" fill-rule=\"evenodd\" fill-opacity=\"1\" /><path clip-path=\"url(#clip550)\" d=\"M 0 0 M1372.66 65.7705 L1372.66 89.8329 L1365.17 89.8329 L1365.17 27.2059 L1372.66 27.2059 L1372.66 34.0924 Q1375.01 30.0415 1378.57 28.0971 Q1382.18 26.1121 1387.16 26.1121 Q1395.43 26.1121 1400.57 32.6746 Q1405.76 39.2371 1405.76 49.9314 Q1405.76 60.6258 1400.57 67.1883 Q1395.43 73.7508 1387.16 73.7508 Q1382.18 73.7508 1378.57 71.8063 Q1375.01 69.8214 1372.66 65.7705 M1398.02 49.9314 Q1398.02 41.7081 1394.62 37.0496 Q1391.25 32.3505 1385.34 32.3505 Q1379.42 32.3505 1376.02 37.0496 Q1372.66 41.7081 1372.66 49.9314 Q1372.66 58.1548 1376.02 62.8538 Q1379.42 67.5124 1385.34 67.5124 Q1391.25 67.5124 1394.62 62.8538 Q1398.02 58.1548 1398.02 49.9314 Z\" fill=\"#000000\" fill-rule=\"evenodd\" fill-opacity=\"1\" /><path clip-path=\"url(#clip550)\" d=\"M 0 0 M1438.73 49.7694 Q1429.7 49.7694 1426.21 51.8354 Q1422.73 53.9013 1422.73 58.8839 Q1422.73 62.8538 1425.32 65.2034 Q1427.95 67.5124 1432.45 67.5124 Q1438.65 67.5124 1442.38 63.1374 Q1446.14 58.7219 1446.14 51.4303 L1446.14 49.7694 L1438.73 49.7694 M1453.6 46.6907 L1453.6 72.576 L1446.14 72.576 L1446.14 65.6895 Q1443.59 69.8214 1439.78 71.8063 Q1435.98 73.7508 1430.47 73.7508 Q1423.5 73.7508 1419.37 69.8619 Q1415.28 65.9325 1415.28 59.3701 Q1415.28 51.7138 1420.38 47.825 Q1425.52 43.9361 1435.69 43.9361 L1446.14 43.9361 L1446.14 43.2069 Q1446.14 38.0623 1442.74 35.2672 Q1439.38 32.4315 1433.26 32.4315 Q1429.37 32.4315 1425.69 33.3632 Q1422 34.295 1418.6 36.1584 L1418.6 29.2718 Q1422.69 27.692 1426.54 26.9223 Q1430.39 26.1121 1434.03 26.1121 Q1443.87 26.1121 1448.74 31.2163 Q1453.6 36.3204 1453.6 46.6907 Z\" fill=\"#000000\" fill-rule=\"evenodd\" fill-opacity=\"1\" /><path clip-path=\"url(#clip550)\" d=\"M 0 0 M1495.24 34.1734 Q1493.98 33.4443 1492.49 33.1202 Q1491.03 32.7556 1489.24 32.7556 Q1482.93 32.7556 1479.52 36.8875 Q1476.16 40.9789 1476.16 48.6757 L1476.16 72.576 L1468.67 72.576 L1468.67 27.2059 L1476.16 27.2059 L1476.16 34.2544 Q1478.51 30.1225 1482.28 28.1376 Q1486.04 26.1121 1491.43 26.1121 Q1492.2 26.1121 1493.13 26.2337 Q1494.07 26.3147 1495.2 26.5172 L1495.24 34.1734 Z\" fill=\"#000000\" fill-rule=\"evenodd\" fill-opacity=\"1\" /><path clip-path=\"url(#clip550)\" d=\"M 0 0 M1503.06 27.2059 L1510.51 27.2059 L1510.51 72.576 L1503.06 72.576 L1503.06 27.2059 M1503.06 9.54393 L1510.51 9.54393 L1510.51 18.9825 L1503.06 18.9825 L1503.06 9.54393 Z\" fill=\"#000000\" fill-rule=\"evenodd\" fill-opacity=\"1\" /><path clip-path=\"url(#clip550)\" d=\"M 0 0 M1555.03 28.5427 L1555.03 35.5912 Q1551.87 33.9709 1548.47 33.1607 Q1545.07 32.3505 1541.42 32.3505 Q1535.87 32.3505 1533.08 34.0519 Q1530.32 35.7533 1530.32 39.156 Q1530.32 41.7486 1532.31 43.2475 Q1534.29 44.7058 1540.29 46.0426 L1542.84 46.6097 Q1550.78 48.3111 1554.1 51.4303 Q1557.46 54.509 1557.46 60.0587 Q1557.46 66.3781 1552.44 70.0644 Q1547.46 73.7508 1538.71 73.7508 Q1535.06 73.7508 1531.09 73.0216 Q1527.16 72.3329 1522.79 70.9151 L1522.79 63.2184 Q1526.92 65.3654 1530.93 66.4591 Q1534.94 67.5124 1538.87 67.5124 Q1544.13 67.5124 1546.97 65.73 Q1549.81 63.9071 1549.81 60.6258 Q1549.81 57.5877 1547.74 55.9673 Q1545.71 54.3469 1538.79 52.8481 L1536.19 52.2405 Q1529.27 50.7821 1526.19 47.7845 Q1523.11 44.7463 1523.11 39.4801 Q1523.11 33.0797 1527.65 29.5959 Q1532.18 26.1121 1540.53 26.1121 Q1544.66 26.1121 1548.31 26.7198 Q1551.95 27.3274 1555.03 28.5427 Z\" fill=\"#000000\" fill-rule=\"evenodd\" fill-opacity=\"1\" /><path clip-path=\"url(#clip550)\" d=\"M 0 0 M1586.91 32.4315 Q1580.92 32.4315 1577.43 37.1306 Q1573.95 41.7891 1573.95 49.9314 Q1573.95 58.0738 1577.39 62.7728 Q1580.88 67.4314 1586.91 67.4314 Q1592.87 67.4314 1596.35 62.7323 Q1599.83 58.0333 1599.83 49.9314 Q1599.83 41.8701 1596.35 37.1711 Q1592.87 32.4315 1586.91 32.4315 M1586.91 26.1121 Q1596.63 26.1121 1602.18 32.4315 Q1607.73 38.7509 1607.73 49.9314 Q1607.73 61.0714 1602.18 67.4314 Q1596.63 73.7508 1586.91 73.7508 Q1577.15 73.7508 1571.6 67.4314 Q1566.09 61.0714 1566.09 49.9314 Q1566.09 38.7509 1571.6 32.4315 Q1577.15 26.1121 1586.91 26.1121 Z\" fill=\"#000000\" fill-rule=\"evenodd\" fill-opacity=\"1\" /><path clip-path=\"url(#clip550)\" d=\"M 0 0 M1657.8 45.1919 L1657.8 72.576 L1650.35 72.576 L1650.35 45.4349 Q1650.35 38.994 1647.84 35.7938 Q1645.33 32.5936 1640.3 32.5936 Q1634.27 32.5936 1630.78 36.4419 Q1627.3 40.2903 1627.3 46.9338 L1627.3 72.576 L1619.81 72.576 L1619.81 27.2059 L1627.3 27.2059 L1627.3 34.2544 Q1629.97 30.163 1633.58 28.1376 Q1637.22 26.1121 1641.96 26.1121 Q1649.78 26.1121 1653.79 30.9732 Q1657.8 35.7938 1657.8 45.1919 Z\" fill=\"#000000\" fill-rule=\"evenodd\" fill-opacity=\"1\" /><circle clip-path=\"url(#clip552)\" cx=\"218.281\" cy=\"1436.74\" r=\"14\" fill=\"#009af9\" fill-rule=\"evenodd\" fill-opacity=\"1\" stroke=\"#000000\" stroke-opacity=\"1\" stroke-width=\"3.2\"/>\n",
       "<circle clip-path=\"url(#clip552)\" cx=\"448.537\" cy=\"1429.83\" r=\"14\" fill=\"#009af9\" fill-rule=\"evenodd\" fill-opacity=\"1\" stroke=\"#000000\" stroke-opacity=\"1\" stroke-width=\"3.2\"/>\n",
       "<circle clip-path=\"url(#clip552)\" cx=\"678.794\" cy=\"1407.19\" r=\"14\" fill=\"#009af9\" fill-rule=\"evenodd\" fill-opacity=\"1\" stroke=\"#000000\" stroke-opacity=\"1\" stroke-width=\"3.2\"/>\n",
       "<circle clip-path=\"url(#clip552)\" cx=\"909.05\" cy=\"1364.54\" r=\"14\" fill=\"#009af9\" fill-rule=\"evenodd\" fill-opacity=\"1\" stroke=\"#000000\" stroke-opacity=\"1\" stroke-width=\"3.2\"/>\n",
       "<circle clip-path=\"url(#clip552)\" cx=\"1139.31\" cy=\"1280.1\" r=\"14\" fill=\"#009af9\" fill-rule=\"evenodd\" fill-opacity=\"1\" stroke=\"#000000\" stroke-opacity=\"1\" stroke-width=\"3.2\"/>\n",
       "<circle clip-path=\"url(#clip552)\" cx=\"1369.56\" cy=\"1174.47\" r=\"14\" fill=\"#009af9\" fill-rule=\"evenodd\" fill-opacity=\"1\" stroke=\"#000000\" stroke-opacity=\"1\" stroke-width=\"3.2\"/>\n",
       "<circle clip-path=\"url(#clip552)\" cx=\"1599.82\" cy=\"1059.84\" r=\"14\" fill=\"#009af9\" fill-rule=\"evenodd\" fill-opacity=\"1\" stroke=\"#000000\" stroke-opacity=\"1\" stroke-width=\"3.2\"/>\n",
       "<circle clip-path=\"url(#clip552)\" cx=\"1830.07\" cy=\"785.674\" r=\"14\" fill=\"#009af9\" fill-rule=\"evenodd\" fill-opacity=\"1\" stroke=\"#000000\" stroke-opacity=\"1\" stroke-width=\"3.2\"/>\n",
       "<circle clip-path=\"url(#clip552)\" cx=\"2060.33\" cy=\"653.806\" r=\"14\" fill=\"#009af9\" fill-rule=\"evenodd\" fill-opacity=\"1\" stroke=\"#000000\" stroke-opacity=\"1\" stroke-width=\"3.2\"/>\n",
       "<circle clip-path=\"url(#clip552)\" cx=\"2290.59\" cy=\"162.047\" r=\"14\" fill=\"#009af9\" fill-rule=\"evenodd\" fill-opacity=\"1\" stroke=\"#000000\" stroke-opacity=\"1\" stroke-width=\"3.2\"/>\n",
       "<polyline clip-path=\"url(#clip552)\" style=\"stroke:#ff0000; stroke-width:20; stroke-opacity:0.2; fill:none\" points=\"\n",
       "  218.281,1447.87 239.004,1445.17 259.727,1442.55 280.45,1440.02 301.174,1437.54 321.897,1435.13 342.62,1432.77 363.343,1430.46 384.066,1428.17 404.789,1425.92 \n",
       "  425.512,1423.68 446.235,1421.44 466.958,1419.21 487.681,1416.97 508.404,1414.7 529.127,1412.42 549.85,1410.09 570.573,1407.72 591.296,1405.3 612.019,1402.82 \n",
       "  632.742,1400.27 653.465,1397.64 674.188,1394.92 694.912,1392.1 715.635,1389.18 736.358,1386.15 757.081,1382.99 777.804,1379.71 798.527,1376.28 819.25,1372.71 \n",
       "  839.973,1368.98 860.696,1365.08 881.419,1361.01 902.142,1356.76 922.865,1352.31 943.588,1347.67 964.311,1342.81 985.034,1337.74 1005.76,1332.44 1026.48,1326.91 \n",
       "  1047.2,1321.13 1067.93,1315.1 1088.65,1308.81 1109.37,1302.25 1130.1,1295.41 1150.82,1288.29 1171.54,1280.87 1192.26,1273.14 1212.99,1265.11 1233.71,1256.75 \n",
       "  1254.43,1248.06 1275.16,1239.03 1295.88,1229.65 1316.6,1219.92 1337.33,1209.82 1358.05,1199.35 1378.77,1188.5 1399.5,1177.25 1420.22,1165.61 1440.94,1153.55 \n",
       "  1461.66,1141.08 1482.39,1128.19 1503.11,1114.86 1523.83,1101.09 1544.56,1086.86 1565.28,1072.18 1586,1057.02 1606.73,1041.39 1627.45,1025.27 1648.17,1008.66 \n",
       "  1668.9,991.541 1689.62,973.912 1710.34,955.761 1731.06,937.08 1751.79,917.861 1772.51,898.095 1793.23,877.774 1813.96,856.887 1834.68,835.428 1855.4,813.387 \n",
       "  1876.13,790.755 1896.85,767.524 1917.57,743.685 1938.29,719.23 1959.02,694.15 1979.74,668.436 2000.46,642.079 2021.19,615.071 2041.91,587.403 2062.63,559.067 \n",
       "  2083.36,530.054 2104.08,500.354 2124.8,469.96 2145.53,438.863 2166.25,407.054 2186.97,374.525 2207.69,341.266 2228.42,307.27 2249.14,272.526 2269.86,237.028 \n",
       "  2290.59,200.766 \n",
       "  \"/>\n",
       "<polyline clip-path=\"url(#clip552)\" style=\"stroke:#0000ff; stroke-width:4; stroke-opacity:1; fill:none\" points=\"\n",
       "  218.281,1447.87 239.004,1445.17 259.727,1442.55 280.45,1440.02 301.174,1437.54 321.897,1435.13 342.62,1432.77 363.343,1430.46 384.066,1428.17 404.789,1425.92 \n",
       "  425.512,1423.68 446.235,1421.44 466.958,1419.21 487.681,1416.97 508.404,1414.7 529.127,1412.42 549.85,1410.09 570.573,1407.72 591.296,1405.3 612.019,1402.82 \n",
       "  632.742,1400.27 653.465,1397.64 674.188,1394.92 694.912,1392.1 715.635,1389.18 736.358,1386.15 757.081,1382.99 777.804,1379.71 798.527,1376.28 819.25,1372.71 \n",
       "  839.973,1368.98 860.696,1365.08 881.419,1361.01 902.142,1356.76 922.865,1352.31 943.588,1347.67 964.311,1342.81 985.034,1337.74 1005.76,1332.44 1026.48,1326.91 \n",
       "  1047.2,1321.13 1067.93,1315.1 1088.65,1308.81 1109.37,1302.25 1130.1,1295.41 1150.82,1288.29 1171.54,1280.87 1192.26,1273.14 1212.99,1265.11 1233.71,1256.75 \n",
       "  1254.43,1248.06 1275.16,1239.03 1295.88,1229.65 1316.6,1219.92 1337.33,1209.82 1358.05,1199.35 1378.77,1188.5 1399.5,1177.25 1420.22,1165.61 1440.94,1153.55 \n",
       "  1461.66,1141.08 1482.39,1128.19 1503.11,1114.86 1523.83,1101.09 1544.56,1086.86 1565.28,1072.18 1586,1057.02 1606.73,1041.39 1627.45,1025.27 1648.17,1008.66 \n",
       "  1668.9,991.541 1689.62,973.912 1710.34,955.761 1731.06,937.08 1751.79,917.861 1772.51,898.095 1793.23,877.774 1813.96,856.887 1834.68,835.428 1855.4,813.387 \n",
       "  1876.13,790.755 1896.85,767.524 1917.57,743.685 1938.29,719.23 1959.02,694.15 1979.74,668.436 2000.46,642.079 2021.19,615.071 2041.91,587.403 2062.63,559.067 \n",
       "  2083.36,530.054 2104.08,500.354 2124.8,469.96 2145.53,438.863 2166.25,407.054 2186.97,374.525 2207.69,341.266 2228.42,307.27 2249.14,272.526 2269.86,237.028 \n",
       "  2290.59,200.766 \n",
       "  \"/>\n",
       "<path clip-path=\"url(#clip550)\" d=\"\n",
       "M1704.35 350.345 L2279.53 350.345 L2279.53 168.905 L1704.35 168.905  Z\n",
       "  \" fill=\"#ffffff\" fill-rule=\"evenodd\" fill-opacity=\"1\"/>\n",
       "<polyline clip-path=\"url(#clip550)\" style=\"stroke:#000000; stroke-width:4; stroke-opacity:1; fill:none\" points=\"\n",
       "  1704.35,350.345 2279.53,350.345 2279.53,168.905 1704.35,168.905 1704.35,350.345 \n",
       "  \"/>\n",
       "<polyline clip-path=\"url(#clip550)\" style=\"stroke:#ff0000; stroke-width:4; stroke-opacity:0.2; fill:none\" points=\"\n",
       "  1728.76,229.385 1875.2,229.385 \n",
       "  \"/>\n",
       "<path clip-path=\"url(#clip550)\" d=\"M 0 0 M1923.64 232.637 L1923.64 234.72 L1904.06 234.72 Q1904.33 239.118 1906.69 241.433 Q1909.08 243.725 1913.31 243.725 Q1915.77 243.725 1918.06 243.123 Q1920.37 242.521 1922.64 241.317 L1922.64 245.345 Q1920.35 246.317 1917.94 246.827 Q1915.54 247.336 1913.06 247.336 Q1906.86 247.336 1903.22 243.725 Q1899.61 240.114 1899.61 233.956 Q1899.61 227.591 1903.04 223.864 Q1906.49 220.114 1912.32 220.114 Q1917.55 220.114 1920.58 223.493 Q1923.64 226.85 1923.64 232.637 M1919.38 231.387 Q1919.33 227.892 1917.41 225.808 Q1915.51 223.725 1912.37 223.725 Q1908.8 223.725 1906.65 225.739 Q1904.52 227.753 1904.19 231.41 L1919.38 231.387 Z\" fill=\"#000000\" fill-rule=\"evenodd\" fill-opacity=\"1\" /><path clip-path=\"url(#clip550)\" d=\"M 0 0 M1933.18 233.725 Q1933.18 238.424 1935.1 241.109 Q1937.04 243.771 1940.42 243.771 Q1943.8 243.771 1945.74 241.109 Q1947.69 238.424 1947.69 233.725 Q1947.69 229.026 1945.74 226.364 Q1943.8 223.679 1940.42 223.679 Q1937.04 223.679 1935.1 226.364 Q1933.18 229.026 1933.18 233.725 M1947.69 242.776 Q1946.35 245.091 1944.29 246.225 Q1942.25 247.336 1939.38 247.336 Q1934.68 247.336 1931.72 243.586 Q1928.78 239.836 1928.78 233.725 Q1928.78 227.614 1931.72 223.864 Q1934.68 220.114 1939.38 220.114 Q1942.25 220.114 1944.29 221.248 Q1946.35 222.359 1947.69 224.674 L1947.69 220.739 L1951.95 220.739 L1951.95 256.526 L1947.69 256.526 L1947.69 242.776 Z\" fill=\"#000000\" fill-rule=\"evenodd\" fill-opacity=\"1\" /><path clip-path=\"url(#clip550)\" d=\"M 0 0 M1990.81 224.72 Q1990.1 224.304 1989.24 224.118 Q1988.41 223.91 1987.39 223.91 Q1983.78 223.91 1981.83 226.271 Q1979.91 228.609 1979.91 233.007 L1979.91 246.665 L1975.63 246.665 L1975.63 220.739 L1979.91 220.739 L1979.91 224.767 Q1981.25 222.406 1983.41 221.271 Q1985.56 220.114 1988.64 220.114 Q1989.08 220.114 1989.61 220.183 Q1990.14 220.23 1990.79 220.345 L1990.81 224.72 Z\" fill=\"#000000\" fill-rule=\"evenodd\" fill-opacity=\"1\" /><path clip-path=\"url(#clip550)\" d=\"M 0 0 M2016.42 232.637 L2016.42 234.72 L1996.83 234.72 Q1997.11 239.118 1999.47 241.433 Q2001.86 243.725 2006.09 243.725 Q2008.55 243.725 2010.84 243.123 Q2013.15 242.521 2015.42 241.317 L2015.42 245.345 Q2013.13 246.317 2010.72 246.827 Q2008.31 247.336 2005.84 247.336 Q1999.63 247.336 1996 243.725 Q1992.39 240.114 1992.39 233.956 Q1992.39 227.591 1995.81 223.864 Q1999.26 220.114 2005.1 220.114 Q2010.33 220.114 2013.36 223.493 Q2016.42 226.85 2016.42 232.637 M2012.16 231.387 Q2012.11 227.892 2010.19 225.808 Q2008.29 223.725 2005.14 223.725 Q2001.58 223.725 1999.43 225.739 Q1997.3 227.753 1996.97 231.41 L2012.16 231.387 Z\" fill=\"#000000\" fill-rule=\"evenodd\" fill-opacity=\"1\" /><path clip-path=\"url(#clip550)\" d=\"M 0 0 M2039.93 221.503 L2039.93 225.531 Q2038.13 224.605 2036.18 224.142 Q2034.24 223.679 2032.16 223.679 Q2028.99 223.679 2027.39 224.651 Q2025.81 225.623 2025.81 227.568 Q2025.81 229.049 2026.95 229.905 Q2028.08 230.739 2031.51 231.503 L2032.97 231.827 Q2037.5 232.799 2039.4 234.581 Q2041.32 236.341 2041.32 239.512 Q2041.32 243.123 2038.45 245.229 Q2035.61 247.336 2030.61 247.336 Q2028.52 247.336 2026.25 246.919 Q2024.01 246.526 2021.51 245.716 L2021.51 241.317 Q2023.87 242.544 2026.16 243.169 Q2028.45 243.771 2030.7 243.771 Q2033.71 243.771 2035.33 242.753 Q2036.95 241.711 2036.95 239.836 Q2036.95 238.1 2035.77 237.174 Q2034.61 236.248 2030.65 235.392 L2029.17 235.044 Q2025.21 234.211 2023.45 232.498 Q2021.69 230.762 2021.69 227.753 Q2021.69 224.095 2024.29 222.105 Q2026.88 220.114 2031.65 220.114 Q2034.01 220.114 2036.09 220.461 Q2038.17 220.808 2039.93 221.503 Z\" fill=\"#000000\" fill-rule=\"evenodd\" fill-opacity=\"1\" /><path clip-path=\"url(#clip550)\" d=\"M 0 0 M2047.67 236.433 L2047.67 220.739 L2051.92 220.739 L2051.92 236.271 Q2051.92 239.952 2053.36 241.804 Q2054.8 243.632 2057.67 243.632 Q2061.11 243.632 2063.11 241.433 Q2065.12 239.234 2065.12 235.438 L2065.12 220.739 L2069.38 220.739 L2069.38 246.665 L2065.12 246.665 L2065.12 242.683 Q2063.57 245.044 2061.51 246.202 Q2059.47 247.336 2056.76 247.336 Q2052.3 247.336 2049.98 244.558 Q2047.67 241.78 2047.67 236.433 M2058.38 220.114 L2058.38 220.114 Z\" fill=\"#000000\" fill-rule=\"evenodd\" fill-opacity=\"1\" /><path clip-path=\"url(#clip550)\" d=\"M 0 0 M2078.15 210.646 L2082.41 210.646 L2082.41 246.665 L2078.15 246.665 L2078.15 210.646 Z\" fill=\"#000000\" fill-rule=\"evenodd\" fill-opacity=\"1\" /><path clip-path=\"url(#clip550)\" d=\"M 0 0 M2095.54 213.378 L2095.54 220.739 L2104.31 220.739 L2104.31 224.049 L2095.54 224.049 L2095.54 238.123 Q2095.54 241.294 2096.39 242.197 Q2097.27 243.1 2099.93 243.1 L2104.31 243.1 L2104.31 246.665 L2099.93 246.665 Q2095 246.665 2093.13 244.836 Q2091.25 242.984 2091.25 238.123 L2091.25 224.049 L2088.13 224.049 L2088.13 220.739 L2091.25 220.739 L2091.25 213.378 L2095.54 213.378 Z\" fill=\"#000000\" fill-rule=\"evenodd\" fill-opacity=\"1\" /><path clip-path=\"url(#clip550)\" d=\"M 0 0 M2126.44 221.503 L2126.44 225.531 Q2124.63 224.605 2122.69 224.142 Q2120.74 223.679 2118.66 223.679 Q2115.49 223.679 2113.89 224.651 Q2112.32 225.623 2112.32 227.568 Q2112.32 229.049 2113.45 229.905 Q2114.59 230.739 2118.01 231.503 L2119.47 231.827 Q2124.01 232.799 2125.91 234.581 Q2127.83 236.341 2127.83 239.512 Q2127.83 243.123 2124.96 245.229 Q2122.11 247.336 2117.11 247.336 Q2115.03 247.336 2112.76 246.919 Q2110.51 246.526 2108.01 245.716 L2108.01 241.317 Q2110.37 242.544 2112.67 243.169 Q2114.96 243.771 2117.2 243.771 Q2120.21 243.771 2121.83 242.753 Q2123.45 241.711 2123.45 239.836 Q2123.45 238.1 2122.27 237.174 Q2121.11 236.248 2117.16 235.392 L2115.67 235.044 Q2111.72 234.211 2109.96 232.498 Q2108.2 230.762 2108.2 227.753 Q2108.2 224.095 2110.79 222.105 Q2113.38 220.114 2118.15 220.114 Q2120.51 220.114 2122.6 220.461 Q2124.68 220.808 2126.44 221.503 Z\" fill=\"#000000\" fill-rule=\"evenodd\" fill-opacity=\"1\" /><polyline clip-path=\"url(#clip550)\" style=\"stroke:#0000ff; stroke-width:4; stroke-opacity:1; fill:none\" points=\"\n",
       "  1728.76,289.865 1875.2,289.865 \n",
       "  \"/>\n",
       "<path clip-path=\"url(#clip550)\" d=\"M 0 0 M1903.89 303.256 L1903.89 317.006 L1899.61 317.006 L1899.61 281.219 L1903.89 281.219 L1903.89 285.154 Q1905.24 282.839 1907.27 281.728 Q1909.33 280.594 1912.18 280.594 Q1916.9 280.594 1919.84 284.344 Q1922.81 288.094 1922.81 294.205 Q1922.81 300.316 1919.84 304.066 Q1916.9 307.816 1912.18 307.816 Q1909.33 307.816 1907.27 306.705 Q1905.24 305.571 1903.89 303.256 M1918.38 294.205 Q1918.38 289.506 1916.44 286.844 Q1914.52 284.159 1911.14 284.159 Q1907.76 284.159 1905.81 286.844 Q1903.89 289.506 1903.89 294.205 Q1903.89 298.904 1905.81 301.589 Q1907.76 304.251 1911.14 304.251 Q1914.52 304.251 1916.44 301.589 Q1918.38 298.904 1918.38 294.205 Z\" fill=\"#000000\" fill-rule=\"evenodd\" fill-opacity=\"1\" /><path clip-path=\"url(#clip550)\" d=\"M 0 0 M1939.91 284.205 Q1936.49 284.205 1934.49 286.89 Q1932.5 289.552 1932.5 294.205 Q1932.5 298.858 1934.47 301.543 Q1936.46 304.205 1939.91 304.205 Q1943.31 304.205 1945.31 301.52 Q1947.3 298.835 1947.3 294.205 Q1947.3 289.598 1945.31 286.913 Q1943.31 284.205 1939.91 284.205 M1939.91 280.594 Q1945.47 280.594 1948.64 284.205 Q1951.81 287.816 1951.81 294.205 Q1951.81 300.571 1948.64 304.205 Q1945.47 307.816 1939.91 307.816 Q1934.33 307.816 1931.16 304.205 Q1928.01 300.571 1928.01 294.205 Q1928.01 287.816 1931.16 284.205 Q1934.33 280.594 1939.91 280.594 Z\" fill=\"#000000\" fill-rule=\"evenodd\" fill-opacity=\"1\" /><path clip-path=\"url(#clip550)\" d=\"M 0 0 M1958.87 271.126 L1963.13 271.126 L1963.13 307.145 L1958.87 307.145 L1958.87 271.126 Z\" fill=\"#000000\" fill-rule=\"evenodd\" fill-opacity=\"1\" /><path clip-path=\"url(#clip550)\" d=\"M 0 0 M1982.83 309.552 Q1981.02 314.182 1979.31 315.594 Q1977.6 317.006 1974.73 317.006 L1971.32 317.006 L1971.32 313.441 L1973.82 313.441 Q1975.58 313.441 1976.55 312.608 Q1977.53 311.774 1978.71 308.672 L1979.47 306.728 L1968.99 281.219 L1973.5 281.219 L1981.6 301.497 L1989.7 281.219 L1994.22 281.219 L1982.83 309.552 Z\" fill=\"#000000\" fill-rule=\"evenodd\" fill-opacity=\"1\" /><path clip-path=\"url(#clip550)\" d=\"M 0 0 M2028.29 271.126 L2028.29 274.668 L2024.22 274.668 Q2021.92 274.668 2021.02 275.594 Q2020.14 276.52 2020.14 278.927 L2020.14 281.219 L2027.16 281.219 L2027.16 284.529 L2020.14 284.529 L2020.14 307.145 L2015.86 307.145 L2015.86 284.529 L2011.79 284.529 L2011.79 281.219 L2015.86 281.219 L2015.86 279.413 Q2015.86 275.085 2017.87 273.117 Q2019.89 271.126 2024.26 271.126 L2028.29 271.126 Z\" fill=\"#000000\" fill-rule=\"evenodd\" fill-opacity=\"1\" /><path clip-path=\"url(#clip550)\" d=\"M 0 0 M2031.86 281.219 L2036.11 281.219 L2036.11 307.145 L2031.86 307.145 L2031.86 281.219 M2031.86 271.126 L2036.11 271.126 L2036.11 276.52 L2031.86 276.52 L2031.86 271.126 Z\" fill=\"#000000\" fill-rule=\"evenodd\" fill-opacity=\"1\" /><path clip-path=\"url(#clip550)\" d=\"M 0 0 M2049.24 273.858 L2049.24 281.219 L2058.01 281.219 L2058.01 284.529 L2049.24 284.529 L2049.24 298.603 Q2049.24 301.774 2050.1 302.677 Q2050.98 303.58 2053.64 303.58 L2058.01 303.58 L2058.01 307.145 L2053.64 307.145 Q2048.71 307.145 2046.83 305.316 Q2044.96 303.464 2044.96 298.603 L2044.96 284.529 L2041.83 284.529 L2041.83 281.219 L2044.96 281.219 L2044.96 273.858 L2049.24 273.858 Z\" fill=\"#000000\" fill-rule=\"evenodd\" fill-opacity=\"1\" /><path clip-path=\"url(#clip550)\" d=\"M 0 0 M2093.71 285.2 Q2092.99 284.784 2092.13 284.598 Q2091.3 284.39 2090.28 284.39 Q2086.67 284.39 2084.73 286.751 Q2082.8 289.089 2082.8 293.487 L2082.8 307.145 L2078.52 307.145 L2078.52 281.219 L2082.8 281.219 L2082.8 285.247 Q2084.15 282.886 2086.3 281.751 Q2088.45 280.594 2091.53 280.594 Q2091.97 280.594 2092.5 280.663 Q2093.04 280.71 2093.68 280.825 L2093.71 285.2 Z\" fill=\"#000000\" fill-rule=\"evenodd\" fill-opacity=\"1\" /><path clip-path=\"url(#clip550)\" d=\"M 0 0 M2119.31 293.117 L2119.31 295.2 L2099.73 295.2 Q2100 299.598 2102.36 301.913 Q2104.75 304.205 2108.98 304.205 Q2111.44 304.205 2113.73 303.603 Q2116.04 303.001 2118.31 301.797 L2118.31 305.825 Q2116.02 306.797 2113.61 307.307 Q2111.21 307.816 2108.73 307.816 Q2102.53 307.816 2098.89 304.205 Q2095.28 300.594 2095.28 294.436 Q2095.28 288.071 2098.71 284.344 Q2102.16 280.594 2107.99 280.594 Q2113.22 280.594 2116.25 283.973 Q2119.31 287.33 2119.31 293.117 M2115.05 291.867 Q2115 288.372 2113.08 286.288 Q2111.18 284.205 2108.04 284.205 Q2104.47 284.205 2102.32 286.219 Q2100.19 288.233 2099.86 291.89 L2115.05 291.867 Z\" fill=\"#000000\" fill-rule=\"evenodd\" fill-opacity=\"1\" /><path clip-path=\"url(#clip550)\" d=\"M 0 0 M2142.83 281.983 L2142.83 286.011 Q2141.02 285.085 2139.08 284.622 Q2137.13 284.159 2135.05 284.159 Q2131.88 284.159 2130.28 285.131 Q2128.71 286.103 2128.71 288.048 Q2128.71 289.529 2129.84 290.385 Q2130.98 291.219 2134.4 291.983 L2135.86 292.307 Q2140.4 293.279 2142.29 295.061 Q2144.22 296.821 2144.22 299.992 Q2144.22 303.603 2141.35 305.709 Q2138.5 307.816 2133.5 307.816 Q2131.42 307.816 2129.15 307.399 Q2126.9 307.006 2124.4 306.196 L2124.4 301.797 Q2126.76 303.024 2129.05 303.649 Q2131.35 304.251 2133.59 304.251 Q2136.6 304.251 2138.22 303.233 Q2139.84 302.191 2139.84 300.316 Q2139.84 298.58 2138.66 297.654 Q2137.5 296.728 2133.54 295.872 L2132.06 295.524 Q2128.1 294.691 2126.35 292.978 Q2124.59 291.242 2124.59 288.233 Q2124.59 284.575 2127.18 282.585 Q2129.77 280.594 2134.54 280.594 Q2136.9 280.594 2138.98 280.941 Q2141.07 281.288 2142.83 281.983 Z\" fill=\"#000000\" fill-rule=\"evenodd\" fill-opacity=\"1\" /><path clip-path=\"url(#clip550)\" d=\"M 0 0 M2150.56 296.913 L2150.56 281.219 L2154.82 281.219 L2154.82 296.751 Q2154.82 300.432 2156.25 302.284 Q2157.69 304.112 2160.56 304.112 Q2164.01 304.112 2166 301.913 Q2168.01 299.714 2168.01 295.918 L2168.01 281.219 L2172.27 281.219 L2172.27 307.145 L2168.01 307.145 L2168.01 303.163 Q2166.46 305.524 2164.4 306.682 Q2162.36 307.816 2159.66 307.816 Q2155.19 307.816 2152.87 305.038 Q2150.56 302.26 2150.56 296.913 M2161.28 280.594 L2161.28 280.594 Z\" fill=\"#000000\" fill-rule=\"evenodd\" fill-opacity=\"1\" /><path clip-path=\"url(#clip550)\" d=\"M 0 0 M2181.04 271.126 L2185.3 271.126 L2185.3 307.145 L2181.04 307.145 L2181.04 271.126 Z\" fill=\"#000000\" fill-rule=\"evenodd\" fill-opacity=\"1\" /><path clip-path=\"url(#clip550)\" d=\"M 0 0 M2198.43 273.858 L2198.43 281.219 L2207.2 281.219 L2207.2 284.529 L2198.43 284.529 L2198.43 298.603 Q2198.43 301.774 2199.29 302.677 Q2200.16 303.58 2202.83 303.58 L2207.2 303.58 L2207.2 307.145 L2202.83 307.145 Q2197.9 307.145 2196.02 305.316 Q2194.15 303.464 2194.15 298.603 L2194.15 284.529 L2191.02 284.529 L2191.02 281.219 L2194.15 281.219 L2194.15 273.858 L2198.43 273.858 Z\" fill=\"#000000\" fill-rule=\"evenodd\" fill-opacity=\"1\" /><path clip-path=\"url(#clip550)\" d=\"M 0 0 M2229.33 281.983 L2229.33 286.011 Q2227.53 285.085 2225.58 284.622 Q2223.64 284.159 2221.55 284.159 Q2218.38 284.159 2216.79 285.131 Q2215.21 286.103 2215.21 288.048 Q2215.21 289.529 2216.35 290.385 Q2217.48 291.219 2220.91 291.983 L2222.36 292.307 Q2226.9 293.279 2228.8 295.061 Q2230.72 296.821 2230.72 299.992 Q2230.72 303.603 2227.85 305.709 Q2225 307.816 2220 307.816 Q2217.92 307.816 2215.65 307.399 Q2213.41 307.006 2210.91 306.196 L2210.91 301.797 Q2213.27 303.024 2215.56 303.649 Q2217.85 304.251 2220.1 304.251 Q2223.1 304.251 2224.72 303.233 Q2226.35 302.191 2226.35 300.316 Q2226.35 298.58 2225.16 297.654 Q2224.01 296.728 2220.05 295.872 L2218.57 295.524 Q2214.61 294.691 2212.85 292.978 Q2211.09 291.242 2211.09 288.233 Q2211.09 284.575 2213.68 282.585 Q2216.28 280.594 2221.04 280.594 Q2223.41 280.594 2225.49 280.941 Q2227.57 281.288 2229.33 281.983 Z\" fill=\"#000000\" fill-rule=\"evenodd\" fill-opacity=\"1\" /></svg>\n"
      ]
     },
     "execution_count": 347,
     "metadata": {},
     "output_type": "execute_result"
    }
   ],
   "source": [
    "scatter(x_julia, y_julia_i, label =\"\")\n",
    "plot!(poly_aprox,  \n",
    "    extrema(x_julia)..., \n",
    "    label = \"eq results\",\n",
    "    color = :red,\n",
    "    linealpha = 0.2,\n",
    "    linewidth = 5,\n",
    "    title = \"Method comparison\"\n",
    ")\n",
    "plot!(fit_aprox,  \n",
    "    extrema(x_julia)..., \n",
    "    label = \"poly fit results\",\n",
    "    color = :blue\n",
    ")"
   ]
  },
  {
   "cell_type": "markdown",
   "metadata": {},
   "source": [
    "Wniosek - nie ma zauwazalnej roznicy pomiedzy funkcjami."
   ]
  },
  {
   "cell_type": "markdown",
   "metadata": {},
   "source": [
    "## zad 3"
   ]
  },
  {
   "cell_type": "markdown",
   "metadata": {},
   "source": [
    "### Zastosowanie faktoryzacji QR w znajdowaniu wartości własnych macierzy"
   ]
  },
  {
   "cell_type": "markdown",
   "metadata": {},
   "source": [
    "Algorytm postepowania:\n",
    "\n",
    "Niech A bedzie macierza, ktorej wartosci wlasne chcemy obliczyc.\n",
    "\n",
    "Na samym poczatku $ A_0 = A $\n",
    "\n",
    "Dla k-tego kroku mamy:\n",
    "\n",
    "- obliczamy faktoryzacje  QR macierzy $ A_k = Q_k R_k $, $ Q_k $jest macierza ortogonalna, a $ R_k $ jest macierza trojkatna gorna\n",
    "\n",
    "- nastepnie korzystajac z wlasnosci mnozenia macierzy i ortogonalnosci Q_k, wyprowadzamy wzor na $A_{k+1}$: $ A_{k+1} = R_k Q_k = Q_k^{-1} Q_k R_k Q_k = Q_k^{-1} A_k Q_k = Q_k^{T} A_k Q_k $\n",
    "\n",
    "Macierze $A_k$ sa podobne, z czego wynika, ze maja takie same wartosci wlasne. Macierze $A_k$ zbiegaja do pewnej trojkatnej macierzy, ktorej wartosci wlasne znajduja sie na diagonali - rozwiazanie naszego problemu"
   ]
  },
  {
   "cell_type": "markdown",
   "metadata": {},
   "source": [
    "#### Algorytm:"
   ]
  },
  {
   "cell_type": "code",
   "execution_count": 208,
   "metadata": {},
   "outputs": [
    {
     "data": {
      "text/plain": [
       "find_eigenvalues (generic function with 2 methods)"
      ]
     },
     "execution_count": 208,
     "metadata": {},
     "output_type": "execute_result"
    }
   ],
   "source": [
    "function find_eigenvalues(A, it, debug = true)\n",
    "    # A0 = A\n",
    "\n",
    "    for k in 1:it\n",
    "        Af = qr(A)\n",
    "        A = Transpose(Af.Q)*A*(Af.Q)\n",
    "        if debug && k % 25 == 0\n",
    "            display(A)\n",
    "        end\n",
    "    end\n",
    "    ev = [A[i,i] for i in 1:size(A,1)]\n",
    "end"
   ]
  },
  {
   "cell_type": "code",
   "execution_count": 209,
   "metadata": {},
   "outputs": [
    {
     "data": {
      "text/plain": [
       "2×2 Matrix{Float64}:\n",
       " 6.0  -1.0\n",
       " 2.0   3.0"
      ]
     },
     "execution_count": 209,
     "metadata": {},
     "output_type": "execute_result"
    }
   ],
   "source": [
    "A = [6.0 -1.0; 2.0 3.0]"
   ]
  },
  {
   "cell_type": "code",
   "execution_count": 210,
   "metadata": {},
   "outputs": [
    {
     "data": {
      "text/plain": [
       "2-element Vector{Float64}:\n",
       " 5.000000000152788\n",
       " 3.999999999847228"
      ]
     },
     "execution_count": 210,
     "metadata": {},
     "output_type": "execute_result"
    }
   ],
   "source": [
    "ev = find_eigenvalues(A,100, false)"
   ]
  },
  {
   "cell_type": "code",
   "execution_count": 211,
   "metadata": {},
   "outputs": [
    {
     "data": {
      "text/plain": [
       "4×4 Matrix{Float64}:\n",
       " 10.0  -1.0   0.0    1.0\n",
       "  0.2   8.0   0.2    0.2\n",
       "  1.0   1.0   2.0    1.0\n",
       " -1.0  -1.0  -1.0  -11.0"
      ]
     },
     "execution_count": 211,
     "metadata": {},
     "output_type": "execute_result"
    }
   ],
   "source": [
    "A = [10 -1 0 1; 0.2 8 0.2 0.2; 1 1 2 1; -1 -1 -1 -11]"
   ]
  },
  {
   "cell_type": "code",
   "execution_count": 214,
   "metadata": {},
   "outputs": [
    {
     "data": {
      "text/plain": [
       "4-element Vector{Float64}:\n",
       " -10.871473057329489\n",
       "   9.82415984476609\n",
       "   8.147824452243777\n",
       "   1.8994887603196604"
      ]
     },
     "execution_count": 214,
     "metadata": {},
     "output_type": "execute_result"
    }
   ],
   "source": [
    "ev = find_eigenvalues(A,100, false)"
   ]
  },
  {
   "cell_type": "markdown",
   "metadata": {},
   "source": [
    "Mozemy zastosowac twierdzenie Gershgorina, ktore estymuje wartosci wlasne macierzy z liczbami zespolonymi, poprzez wyznaczanie dyskow, w ktorych beda znajdowac sie wartosci wlasne: "
   ]
  },
  {
   "cell_type": "code",
   "execution_count": 236,
   "metadata": {},
   "outputs": [
    {
     "data": {
      "text/plain": [
       "abs_sum (generic function with 1 method)"
      ]
     },
     "execution_count": 236,
     "metadata": {},
     "output_type": "execute_result"
    }
   ],
   "source": [
    "function abs_sum(A, i)\n",
    "    res = 0\n",
    "    for j in 1:size(A,2)\n",
    "#         println(j)\n",
    "        if j != i\n",
    "           res += abs(A[i,j]) \n",
    "        end\n",
    "#         println(A[i,j])\n",
    "    end\n",
    "    res\n",
    "    \n",
    "end"
   ]
  },
  {
   "cell_type": "code",
   "execution_count": 243,
   "metadata": {},
   "outputs": [
    {
     "data": {
      "text/plain": [
       "get_disks (generic function with 1 method)"
      ]
     },
     "execution_count": 243,
     "metadata": {},
     "output_type": "execute_result"
    }
   ],
   "source": [
    "function get_disks(A)\n",
    "    disks = []\n",
    "    for i in 1:size(A,1)\n",
    "#         println(i)\n",
    "       push!(disks, (A[i,i],abs_sum(A, i))) \n",
    "    end\n",
    "    disks\n",
    "end"
   ]
  },
  {
   "cell_type": "code",
   "execution_count": 244,
   "metadata": {},
   "outputs": [
    {
     "data": {
      "text/plain": [
       "0.6000000000000001"
      ]
     },
     "execution_count": 244,
     "metadata": {},
     "output_type": "execute_result"
    }
   ],
   "source": [
    "abs_sum(A,2)"
   ]
  },
  {
   "cell_type": "code",
   "execution_count": 245,
   "metadata": {},
   "outputs": [],
   "source": [
    "A = [10 -1 0 1; 0.2 8 0.2 0.2; 1 1 2 1; -1 -1 -1 -11];"
   ]
  },
  {
   "cell_type": "code",
   "execution_count": 246,
   "metadata": {},
   "outputs": [
    {
     "data": {
      "text/plain": [
       "4-element Vector{Any}:\n",
       " (10.0, 2.0)\n",
       " (8.0, 0.6000000000000001)\n",
       " (2.0, 3.0)\n",
       " (-11.0, 3.0)"
      ]
     },
     "execution_count": 246,
     "metadata": {},
     "output_type": "execute_result"
    }
   ],
   "source": [
    "disks = get_disks(A)"
   ]
  },
  {
   "cell_type": "markdown",
   "metadata": {},
   "source": [
    "## Porownanie metod na wykresach"
   ]
  },
  {
   "cell_type": "code",
   "execution_count": 247,
   "metadata": {},
   "outputs": [
    {
     "data": {
      "text/plain": [
       "Plots.GRBackend()"
      ]
     },
     "execution_count": 247,
     "metadata": {},
     "output_type": "execute_result"
    }
   ],
   "source": [
    "using Plots; gr()"
   ]
  },
  {
   "cell_type": "code",
   "execution_count": 163,
   "metadata": {},
   "outputs": [
    {
     "data": {
      "text/plain": [
       "draw_circle (generic function with 1 method)"
      ]
     },
     "execution_count": 163,
     "metadata": {},
     "output_type": "execute_result"
    }
   ],
   "source": [
    "function draw_circle(h,k,r)\n",
    "    theta = 0:0.01:2*pi\n",
    "    h .+ r*sin.(theta), k.+ r*cos.(theta)\n",
    "end"
   ]
  },
  {
   "cell_type": "code",
   "execution_count": 248,
   "metadata": {},
   "outputs": [
    {
     "data": {
      "text/plain": [
       "get_ev_coords (generic function with 1 method)"
      ]
     },
     "execution_count": 248,
     "metadata": {},
     "output_type": "execute_result"
    }
   ],
   "source": [
    "function get_ev_coords(ev)\n",
    "    ev_plot = [(e,0) for e in ev]\n",
    "end"
   ]
  },
  {
   "cell_type": "markdown",
   "metadata": {},
   "source": [
    "### Test 1"
   ]
  },
  {
   "cell_type": "code",
   "execution_count": 288,
   "metadata": {},
   "outputs": [
    {
     "data": {
      "text/plain": [
       "2×2 Matrix{Float64}:\n",
       " 6.0  -1.0\n",
       " 2.0   3.0"
      ]
     },
     "execution_count": 288,
     "metadata": {},
     "output_type": "execute_result"
    }
   ],
   "source": [
    "A = [6.0 -1.0; 2.0 3.0]"
   ]
  },
  {
   "cell_type": "code",
   "execution_count": 289,
   "metadata": {},
   "outputs": [
    {
     "data": {
      "text/plain": [
       "2-element Vector{Float64}:\n",
       " 5.000000000152788\n",
       " 3.999999999847228"
      ]
     },
     "execution_count": 289,
     "metadata": {},
     "output_type": "execute_result"
    }
   ],
   "source": [
    "ev = find_eigenvalues(A,100, false)"
   ]
  },
  {
   "cell_type": "code",
   "execution_count": 291,
   "metadata": {},
   "outputs": [],
   "source": [
    "ev_plot = get_ev_coords(ev);\n",
    "disks = get_disks(A);"
   ]
  },
  {
   "cell_type": "code",
   "execution_count": 294,
   "metadata": {},
   "outputs": [
    {
     "data": {
      "image/svg+xml": [
       "<?xml version=\"1.0\" encoding=\"utf-8\"?>\n",
       "<svg xmlns=\"http://www.w3.org/2000/svg\" xmlns:xlink=\"http://www.w3.org/1999/xlink\" width=\"600\" height=\"400\" viewBox=\"0 0 2400 1600\">\n",
       "<defs>\n",
       "  <clipPath id=\"clip670\">\n",
       "    <rect x=\"0\" y=\"0\" width=\"2400\" height=\"1600\"/>\n",
       "  </clipPath>\n",
       "</defs>\n",
       "<path clip-path=\"url(#clip670)\" d=\"\n",
       "M0 1600 L2400 1600 L2400 0 L0 0  Z\n",
       "  \" fill=\"#ffffff\" fill-rule=\"evenodd\" fill-opacity=\"1\"/>\n",
       "<defs>\n",
       "  <clipPath id=\"clip671\">\n",
       "    <rect x=\"480\" y=\"0\" width=\"1681\" height=\"1600\"/>\n",
       "  </clipPath>\n",
       "</defs>\n",
       "<path clip-path=\"url(#clip670)\" d=\"\n",
       "M210.746 1423.18 L2352.76 1423.18 L2352.76 47.2441 L210.746 47.2441  Z\n",
       "  \" fill=\"#ffffff\" fill-rule=\"evenodd\" fill-opacity=\"1\"/>\n",
       "<defs>\n",
       "  <clipPath id=\"clip672\">\n",
       "    <rect x=\"210\" y=\"47\" width=\"2143\" height=\"1377\"/>\n",
       "  </clipPath>\n",
       "</defs>\n",
       "<polyline clip-path=\"url(#clip672)\" style=\"stroke:#000000; stroke-width:2; stroke-opacity:0.1; fill:none\" points=\"\n",
       "  308.21,1423.18 308.21,47.2441 \n",
       "  \"/>\n",
       "<polyline clip-path=\"url(#clip672)\" style=\"stroke:#000000; stroke-width:2; stroke-opacity:0.1; fill:none\" points=\"\n",
       "  632.723,1423.18 632.723,47.2441 \n",
       "  \"/>\n",
       "<polyline clip-path=\"url(#clip672)\" style=\"stroke:#000000; stroke-width:2; stroke-opacity:0.1; fill:none\" points=\"\n",
       "  957.237,1423.18 957.237,47.2441 \n",
       "  \"/>\n",
       "<polyline clip-path=\"url(#clip672)\" style=\"stroke:#000000; stroke-width:2; stroke-opacity:0.1; fill:none\" points=\"\n",
       "  1281.75,1423.18 1281.75,47.2441 \n",
       "  \"/>\n",
       "<polyline clip-path=\"url(#clip672)\" style=\"stroke:#000000; stroke-width:2; stroke-opacity:0.1; fill:none\" points=\"\n",
       "  1606.26,1423.18 1606.26,47.2441 \n",
       "  \"/>\n",
       "<polyline clip-path=\"url(#clip672)\" style=\"stroke:#000000; stroke-width:2; stroke-opacity:0.1; fill:none\" points=\"\n",
       "  1930.78,1423.18 1930.78,47.2441 \n",
       "  \"/>\n",
       "<polyline clip-path=\"url(#clip672)\" style=\"stroke:#000000; stroke-width:2; stroke-opacity:0.1; fill:none\" points=\"\n",
       "  2255.29,1423.18 2255.29,47.2441 \n",
       "  \"/>\n",
       "<polyline clip-path=\"url(#clip670)\" style=\"stroke:#000000; stroke-width:4; stroke-opacity:1; fill:none\" points=\"\n",
       "  210.746,1423.18 2352.76,1423.18 \n",
       "  \"/>\n",
       "<polyline clip-path=\"url(#clip670)\" style=\"stroke:#000000; stroke-width:4; stroke-opacity:1; fill:none\" points=\"\n",
       "  308.21,1423.18 308.21,1406.67 \n",
       "  \"/>\n",
       "<polyline clip-path=\"url(#clip670)\" style=\"stroke:#000000; stroke-width:4; stroke-opacity:1; fill:none\" points=\"\n",
       "  632.723,1423.18 632.723,1406.67 \n",
       "  \"/>\n",
       "<polyline clip-path=\"url(#clip670)\" style=\"stroke:#000000; stroke-width:4; stroke-opacity:1; fill:none\" points=\"\n",
       "  957.237,1423.18 957.237,1406.67 \n",
       "  \"/>\n",
       "<polyline clip-path=\"url(#clip670)\" style=\"stroke:#000000; stroke-width:4; stroke-opacity:1; fill:none\" points=\"\n",
       "  1281.75,1423.18 1281.75,1406.67 \n",
       "  \"/>\n",
       "<polyline clip-path=\"url(#clip670)\" style=\"stroke:#000000; stroke-width:4; stroke-opacity:1; fill:none\" points=\"\n",
       "  1606.26,1423.18 1606.26,1406.67 \n",
       "  \"/>\n",
       "<polyline clip-path=\"url(#clip670)\" style=\"stroke:#000000; stroke-width:4; stroke-opacity:1; fill:none\" points=\"\n",
       "  1930.78,1423.18 1930.78,1406.67 \n",
       "  \"/>\n",
       "<polyline clip-path=\"url(#clip670)\" style=\"stroke:#000000; stroke-width:4; stroke-opacity:1; fill:none\" points=\"\n",
       "  2255.29,1423.18 2255.29,1406.67 \n",
       "  \"/>\n",
       "<path clip-path=\"url(#clip670)\" d=\"M 0 0 M298.592 1479.92 L306.231 1479.92 L306.231 1453.55 L297.921 1455.22 L297.921 1450.96 L306.185 1449.29 L310.86 1449.29 L310.86 1479.92 L318.499 1479.92 L318.499 1483.85 L298.592 1483.85 L298.592 1479.92 Z\" fill=\"#000000\" fill-rule=\"evenodd\" fill-opacity=\"1\" /><path clip-path=\"url(#clip670)\" d=\"M 0 0 M627.376 1479.92 L643.696 1479.92 L643.696 1483.85 L621.751 1483.85 L621.751 1479.92 Q624.413 1477.16 628.997 1472.53 Q633.603 1467.88 634.784 1466.54 Q637.029 1464.01 637.908 1462.28 Q638.811 1460.52 638.811 1458.83 Q638.811 1456.07 636.867 1454.34 Q634.946 1452.6 631.844 1452.6 Q629.645 1452.6 627.191 1453.37 Q624.76 1454.13 621.983 1455.68 L621.983 1450.96 Q624.807 1449.82 627.26 1449.25 Q629.714 1448.67 631.751 1448.67 Q637.121 1448.67 640.316 1451.35 Q643.51 1454.04 643.51 1458.53 Q643.51 1460.66 642.7 1462.58 Q641.913 1464.48 639.807 1467.07 Q639.228 1467.74 636.126 1470.96 Q633.024 1474.15 627.376 1479.92 Z\" fill=\"#000000\" fill-rule=\"evenodd\" fill-opacity=\"1\" /><path clip-path=\"url(#clip670)\" d=\"M 0 0 M961.484 1465.22 Q964.841 1465.94 966.716 1468.2 Q968.614 1470.47 968.614 1473.81 Q968.614 1478.92 965.095 1481.72 Q961.577 1484.52 955.096 1484.52 Q952.92 1484.52 950.605 1484.08 Q948.313 1483.67 945.859 1482.81 L945.859 1478.3 Q947.804 1479.43 950.119 1480.01 Q952.433 1480.59 954.957 1480.59 Q959.355 1480.59 961.646 1478.85 Q963.961 1477.12 963.961 1473.81 Q963.961 1470.75 961.808 1469.04 Q959.679 1467.3 955.859 1467.3 L951.832 1467.3 L951.832 1463.46 L956.045 1463.46 Q959.494 1463.46 961.322 1462.09 Q963.151 1460.7 963.151 1458.11 Q963.151 1455.45 961.253 1454.04 Q959.378 1452.6 955.859 1452.6 Q953.938 1452.6 951.739 1453.02 Q949.54 1453.44 946.901 1454.31 L946.901 1450.15 Q949.563 1449.41 951.878 1449.04 Q954.216 1448.67 956.276 1448.67 Q961.6 1448.67 964.702 1451.1 Q967.804 1453.5 967.804 1457.63 Q967.804 1460.5 966.16 1462.49 Q964.517 1464.45 961.484 1465.22 Z\" fill=\"#000000\" fill-rule=\"evenodd\" fill-opacity=\"1\" /><path clip-path=\"url(#clip670)\" d=\"M 0 0 M1284.76 1453.37 L1272.95 1471.81 L1284.76 1471.81 L1284.76 1453.37 M1283.53 1449.29 L1289.41 1449.29 L1289.41 1471.81 L1294.34 1471.81 L1294.34 1475.7 L1289.41 1475.7 L1289.41 1483.85 L1284.76 1483.85 L1284.76 1475.7 L1269.16 1475.7 L1269.16 1471.19 L1283.53 1449.29 Z\" fill=\"#000000\" fill-rule=\"evenodd\" fill-opacity=\"1\" /><path clip-path=\"url(#clip670)\" d=\"M 0 0 M1596.54 1449.29 L1614.9 1449.29 L1614.9 1453.23 L1600.82 1453.23 L1600.82 1461.7 Q1601.84 1461.35 1602.86 1461.19 Q1603.88 1461 1604.9 1461 Q1610.68 1461 1614.06 1464.18 Q1617.44 1467.35 1617.44 1472.76 Q1617.44 1478.34 1613.97 1481.44 Q1610.5 1484.52 1604.18 1484.52 Q1602 1484.52 1599.74 1484.15 Q1597.49 1483.78 1595.08 1483.04 L1595.08 1478.34 Q1597.17 1479.48 1599.39 1480.03 Q1601.61 1480.59 1604.09 1480.59 Q1608.09 1480.59 1610.43 1478.48 Q1612.77 1476.38 1612.77 1472.76 Q1612.77 1469.15 1610.43 1467.05 Q1608.09 1464.94 1604.09 1464.94 Q1602.21 1464.94 1600.34 1465.36 Q1598.49 1465.77 1596.54 1466.65 L1596.54 1449.29 Z\" fill=\"#000000\" fill-rule=\"evenodd\" fill-opacity=\"1\" /><path clip-path=\"url(#clip670)\" d=\"M 0 0 M1931.18 1464.71 Q1928.03 1464.71 1926.18 1466.86 Q1924.35 1469.01 1924.35 1472.76 Q1924.35 1476.49 1926.18 1478.67 Q1928.03 1480.82 1931.18 1480.82 Q1934.33 1480.82 1936.16 1478.67 Q1938.01 1476.49 1938.01 1472.76 Q1938.01 1469.01 1936.16 1466.86 Q1934.33 1464.71 1931.18 1464.71 M1940.46 1450.06 L1940.46 1454.31 Q1938.7 1453.48 1936.9 1453.04 Q1935.12 1452.6 1933.36 1452.6 Q1928.73 1452.6 1926.27 1455.73 Q1923.84 1458.85 1923.5 1465.17 Q1924.86 1463.16 1926.92 1462.09 Q1928.98 1461 1931.46 1461 Q1936.67 1461 1939.68 1464.18 Q1942.71 1467.32 1942.71 1472.76 Q1942.71 1478.09 1939.56 1481.31 Q1936.41 1484.52 1931.18 1484.52 Q1925.19 1484.52 1922.02 1479.94 Q1918.84 1475.33 1918.84 1466.61 Q1918.84 1458.41 1922.73 1453.55 Q1926.62 1448.67 1933.17 1448.67 Q1934.93 1448.67 1936.71 1449.01 Q1938.52 1449.36 1940.46 1450.06 Z\" fill=\"#000000\" fill-rule=\"evenodd\" fill-opacity=\"1\" /><path clip-path=\"url(#clip670)\" d=\"M 0 0 M2244.18 1449.29 L2266.4 1449.29 L2266.4 1451.28 L2253.85 1483.85 L2248.97 1483.85 L2260.78 1453.23 L2244.18 1453.23 L2244.18 1449.29 Z\" fill=\"#000000\" fill-rule=\"evenodd\" fill-opacity=\"1\" /><path clip-path=\"url(#clip670)\" d=\"M 0 0 M1163.16 1545.76 Q1165.23 1546.46 1167.17 1548.76 Q1169.14 1551.05 1171.11 1555.06 L1177.64 1568.04 L1170.73 1568.04 L1164.65 1555.85 Q1162.3 1551.08 1160.07 1549.52 Q1157.87 1547.96 1154.05 1547.96 L1147.05 1547.96 L1147.05 1568.04 L1140.62 1568.04 L1140.62 1520.52 L1155.14 1520.52 Q1163.29 1520.52 1167.3 1523.93 Q1171.31 1527.34 1171.31 1534.21 Q1171.31 1538.7 1169.21 1541.66 Q1167.14 1544.62 1163.16 1545.76 M1147.05 1525.81 L1147.05 1542.68 L1155.14 1542.68 Q1159.78 1542.68 1162.14 1540.54 Q1164.53 1538.38 1164.53 1534.21 Q1164.53 1530.04 1162.14 1527.94 Q1159.78 1525.81 1155.14 1525.81 L1147.05 1525.81 Z\" fill=\"#000000\" fill-rule=\"evenodd\" fill-opacity=\"1\" /><path clip-path=\"url(#clip670)\" d=\"M 0 0 M1213.22 1548.76 L1213.22 1551.62 L1186.3 1551.62 Q1186.68 1557.67 1189.93 1560.85 Q1193.2 1564 1199.03 1564 Q1202.4 1564 1205.55 1563.17 Q1208.74 1562.35 1211.86 1560.69 L1211.86 1566.23 Q1208.7 1567.57 1205.39 1568.27 Q1202.08 1568.97 1198.68 1568.97 Q1190.15 1568.97 1185.15 1564 Q1180.19 1559.04 1180.19 1550.57 Q1180.19 1541.82 1184.9 1536.69 Q1189.64 1531.54 1197.66 1531.54 Q1204.85 1531.54 1209.02 1536.18 Q1213.22 1540.8 1213.22 1548.76 M1207.37 1547.04 Q1207.3 1542.23 1204.66 1539.37 Q1202.05 1536.5 1197.72 1536.5 Q1192.82 1536.5 1189.86 1539.27 Q1186.93 1542.04 1186.49 1547.07 L1207.37 1547.04 Z\" fill=\"#000000\" fill-rule=\"evenodd\" fill-opacity=\"1\" /><path clip-path=\"url(#clip670)\" d=\"M 0 0 M1239.04 1550.12 Q1231.94 1550.12 1229.2 1551.75 Q1226.46 1553.37 1226.46 1557.29 Q1226.46 1560.4 1228.5 1562.25 Q1230.57 1564.07 1234.1 1564.07 Q1238.97 1564.07 1241.9 1560.63 Q1244.86 1557.16 1244.86 1551.43 L1244.86 1550.12 L1239.04 1550.12 M1250.72 1547.71 L1250.72 1568.04 L1244.86 1568.04 L1244.86 1562.63 Q1242.86 1565.88 1239.86 1567.44 Q1236.87 1568.97 1232.54 1568.97 Q1227.07 1568.97 1223.82 1565.91 Q1220.61 1562.82 1220.61 1557.67 Q1220.61 1551.65 1224.62 1548.6 Q1228.66 1545.54 1236.65 1545.54 L1244.86 1545.54 L1244.86 1544.97 Q1244.86 1540.93 1242.19 1538.73 Q1239.55 1536.5 1234.74 1536.5 Q1231.68 1536.5 1228.79 1537.23 Q1225.89 1537.97 1223.22 1539.43 L1223.22 1534.02 Q1226.43 1532.78 1229.46 1532.17 Q1232.48 1531.54 1235.34 1531.54 Q1243.08 1531.54 1246.9 1535.55 Q1250.72 1539.56 1250.72 1547.71 Z\" fill=\"#000000\" fill-rule=\"evenodd\" fill-opacity=\"1\" /><path clip-path=\"url(#clip670)\" d=\"M 0 0 M1262.78 1518.52 L1268.64 1518.52 L1268.64 1568.04 L1262.78 1568.04 L1262.78 1518.52 Z\" fill=\"#000000\" fill-rule=\"evenodd\" fill-opacity=\"1\" /><path clip-path=\"url(#clip670)\" d=\"M 0 0 M1317.81 1550.12 Q1310.71 1550.12 1307.98 1551.75 Q1305.24 1553.37 1305.24 1557.29 Q1305.24 1560.4 1307.28 1562.25 Q1309.35 1564.07 1312.88 1564.07 Q1317.75 1564.07 1320.68 1560.63 Q1323.64 1557.16 1323.64 1551.43 L1323.64 1550.12 L1317.81 1550.12 M1329.49 1547.71 L1329.49 1568.04 L1323.64 1568.04 L1323.64 1562.63 Q1321.63 1565.88 1318.64 1567.44 Q1315.65 1568.97 1311.32 1568.97 Q1305.85 1568.97 1302.6 1565.91 Q1299.38 1562.82 1299.38 1557.67 Q1299.38 1551.65 1303.39 1548.6 Q1307.44 1545.54 1315.43 1545.54 L1323.64 1545.54 L1323.64 1544.97 Q1323.64 1540.93 1320.96 1538.73 Q1318.32 1536.5 1313.52 1536.5 Q1310.46 1536.5 1307.56 1537.23 Q1304.67 1537.97 1301.99 1539.43 L1301.99 1534.02 Q1305.21 1532.78 1308.23 1532.17 Q1311.26 1531.54 1314.12 1531.54 Q1321.85 1531.54 1325.67 1535.55 Q1329.49 1539.56 1329.49 1547.71 Z\" fill=\"#000000\" fill-rule=\"evenodd\" fill-opacity=\"1\" /><path clip-path=\"url(#clip670)\" d=\"M 0 0 M1371.19 1532.4 L1358.3 1549.74 L1371.86 1568.04 L1364.95 1568.04 L1354.57 1554.04 L1344.2 1568.04 L1337.29 1568.04 L1351.14 1549.39 L1338.47 1532.4 L1345.38 1532.4 L1354.83 1545.1 L1364.28 1532.4 L1371.19 1532.4 Z\" fill=\"#000000\" fill-rule=\"evenodd\" fill-opacity=\"1\" /><path clip-path=\"url(#clip670)\" d=\"M 0 0 M1380.13 1532.4 L1385.99 1532.4 L1385.99 1568.04 L1380.13 1568.04 L1380.13 1532.4 M1380.13 1518.52 L1385.99 1518.52 L1385.99 1525.93 L1380.13 1525.93 L1380.13 1518.52 Z\" fill=\"#000000\" fill-rule=\"evenodd\" fill-opacity=\"1\" /><path clip-path=\"url(#clip670)\" d=\"M 0 0 M1420.97 1533.45 L1420.97 1538.98 Q1418.49 1537.71 1415.81 1537.07 Q1413.14 1536.44 1410.27 1536.44 Q1405.91 1536.44 1403.72 1537.77 Q1401.55 1539.11 1401.55 1541.79 Q1401.55 1543.82 1403.11 1545 Q1404.67 1546.15 1409.38 1547.2 L1411.39 1547.64 Q1417.63 1548.98 1420.24 1551.43 Q1422.88 1553.85 1422.88 1558.21 Q1422.88 1563.17 1418.93 1566.07 Q1415.02 1568.97 1408.14 1568.97 Q1405.28 1568.97 1402.16 1568.39 Q1399.07 1567.85 1395.63 1566.74 L1395.63 1560.69 Q1398.88 1562.38 1402.03 1563.24 Q1405.18 1564.07 1408.27 1564.07 Q1412.41 1564.07 1414.64 1562.66 Q1416.86 1561.23 1416.86 1558.65 Q1416.86 1556.27 1415.24 1554.99 Q1413.65 1553.72 1408.21 1552.54 L1406.17 1552.07 Q1400.73 1550.92 1398.31 1548.56 Q1395.89 1546.18 1395.89 1542.04 Q1395.89 1537.01 1399.45 1534.27 Q1403.02 1531.54 1409.57 1531.54 Q1412.82 1531.54 1415.69 1532.01 Q1418.55 1532.49 1420.97 1533.45 Z\" fill=\"#000000\" fill-rule=\"evenodd\" fill-opacity=\"1\" /><polyline clip-path=\"url(#clip672)\" style=\"stroke:#000000; stroke-width:2; stroke-opacity:0.1; fill:none\" points=\"\n",
       "  210.746,1384.24 2352.76,1384.24 \n",
       "  \"/>\n",
       "<polyline clip-path=\"url(#clip672)\" style=\"stroke:#000000; stroke-width:2; stroke-opacity:0.1; fill:none\" points=\"\n",
       "  210.746,1059.73 2352.76,1059.73 \n",
       "  \"/>\n",
       "<polyline clip-path=\"url(#clip672)\" style=\"stroke:#000000; stroke-width:2; stroke-opacity:0.1; fill:none\" points=\"\n",
       "  210.746,735.212 2352.76,735.212 \n",
       "  \"/>\n",
       "<polyline clip-path=\"url(#clip672)\" style=\"stroke:#000000; stroke-width:2; stroke-opacity:0.1; fill:none\" points=\"\n",
       "  210.746,410.699 2352.76,410.699 \n",
       "  \"/>\n",
       "<polyline clip-path=\"url(#clip672)\" style=\"stroke:#000000; stroke-width:2; stroke-opacity:0.1; fill:none\" points=\"\n",
       "  210.746,86.1857 2352.76,86.1857 \n",
       "  \"/>\n",
       "<polyline clip-path=\"url(#clip670)\" style=\"stroke:#000000; stroke-width:4; stroke-opacity:1; fill:none\" points=\"\n",
       "  210.746,1423.18 210.746,47.2441 \n",
       "  \"/>\n",
       "<polyline clip-path=\"url(#clip670)\" style=\"stroke:#000000; stroke-width:4; stroke-opacity:1; fill:none\" points=\"\n",
       "  210.746,1384.24 236.45,1384.24 \n",
       "  \"/>\n",
       "<polyline clip-path=\"url(#clip670)\" style=\"stroke:#000000; stroke-width:4; stroke-opacity:1; fill:none\" points=\"\n",
       "  210.746,1059.73 236.45,1059.73 \n",
       "  \"/>\n",
       "<polyline clip-path=\"url(#clip670)\" style=\"stroke:#000000; stroke-width:4; stroke-opacity:1; fill:none\" points=\"\n",
       "  210.746,735.212 236.45,735.212 \n",
       "  \"/>\n",
       "<polyline clip-path=\"url(#clip670)\" style=\"stroke:#000000; stroke-width:4; stroke-opacity:1; fill:none\" points=\"\n",
       "  210.746,410.699 236.45,410.699 \n",
       "  \"/>\n",
       "<polyline clip-path=\"url(#clip670)\" style=\"stroke:#000000; stroke-width:4; stroke-opacity:1; fill:none\" points=\"\n",
       "  210.746,86.1857 236.45,86.1857 \n",
       "  \"/>\n",
       "<path clip-path=\"url(#clip670)\" d=\"M 0 0 M114.631 1384.69 L144.306 1384.69 L144.306 1388.63 L114.631 1388.63 L114.631 1384.69 Z\" fill=\"#000000\" fill-rule=\"evenodd\" fill-opacity=\"1\" /><path clip-path=\"url(#clip670)\" d=\"M 0 0 M158.427 1397.58 L174.746 1397.58 L174.746 1401.52 L152.802 1401.52 L152.802 1397.58 Q155.464 1394.83 160.047 1390.2 Q164.653 1385.55 165.834 1384.2 Q168.079 1381.68 168.959 1379.95 Q169.862 1378.19 169.862 1376.5 Q169.862 1373.74 167.917 1372.01 Q165.996 1370.27 162.894 1370.27 Q160.695 1370.27 158.241 1371.03 Q155.811 1371.8 153.033 1373.35 L153.033 1368.63 Q155.857 1367.49 158.311 1366.91 Q160.765 1366.33 162.802 1366.33 Q168.172 1366.33 171.366 1369.02 Q174.561 1371.7 174.561 1376.2 Q174.561 1378.32 173.751 1380.25 Q172.964 1382.14 170.857 1384.74 Q170.278 1385.41 167.177 1388.63 Q164.075 1391.82 158.427 1397.58 Z\" fill=\"#000000\" fill-rule=\"evenodd\" fill-opacity=\"1\" /><path clip-path=\"url(#clip670)\" d=\"M 0 0 M114.26 1060.18 L143.936 1060.18 L143.936 1064.11 L114.26 1064.11 L114.26 1060.18 Z\" fill=\"#000000\" fill-rule=\"evenodd\" fill-opacity=\"1\" /><path clip-path=\"url(#clip670)\" d=\"M 0 0 M154.839 1073.07 L162.477 1073.07 L162.477 1046.7 L154.167 1048.37 L154.167 1044.11 L162.431 1042.45 L167.107 1042.45 L167.107 1073.07 L174.746 1073.07 L174.746 1077.01 L154.839 1077.01 L154.839 1073.07 Z\" fill=\"#000000\" fill-rule=\"evenodd\" fill-opacity=\"1\" /><path clip-path=\"url(#clip670)\" d=\"M 0 0 M162.802 721.011 Q159.19 721.011 157.362 724.576 Q155.556 728.118 155.556 735.247 Q155.556 742.354 157.362 745.918 Q159.19 749.46 162.802 749.46 Q166.436 749.46 168.241 745.918 Q170.07 742.354 170.07 735.247 Q170.07 728.118 168.241 724.576 Q166.436 721.011 162.802 721.011 M162.802 717.307 Q168.612 717.307 171.667 721.914 Q174.746 726.497 174.746 735.247 Q174.746 743.974 171.667 748.58 Q168.612 753.164 162.802 753.164 Q156.991 753.164 153.913 748.58 Q150.857 743.974 150.857 735.247 Q150.857 726.497 153.913 721.914 Q156.991 717.307 162.802 717.307 Z\" fill=\"#000000\" fill-rule=\"evenodd\" fill-opacity=\"1\" /><path clip-path=\"url(#clip670)\" d=\"M 0 0 M154.839 424.044 L162.477 424.044 L162.477 397.678 L154.167 399.345 L154.167 395.086 L162.431 393.419 L167.107 393.419 L167.107 424.044 L174.746 424.044 L174.746 427.979 L154.839 427.979 L154.839 424.044 Z\" fill=\"#000000\" fill-rule=\"evenodd\" fill-opacity=\"1\" /><path clip-path=\"url(#clip670)\" d=\"M 0 0 M158.427 99.5305 L174.746 99.5305 L174.746 103.466 L152.802 103.466 L152.802 99.5305 Q155.464 96.7759 160.047 92.1463 Q164.653 87.4935 165.834 86.151 Q168.079 83.6278 168.959 81.8917 Q169.862 80.1325 169.862 78.4427 Q169.862 75.688 167.917 73.9519 Q165.996 72.2158 162.894 72.2158 Q160.695 72.2158 158.241 72.9797 Q155.811 73.7436 153.033 75.2945 L153.033 70.5723 Q155.857 69.4381 158.311 68.8594 Q160.765 68.2807 162.802 68.2807 Q168.172 68.2807 171.366 70.9658 Q174.561 73.651 174.561 78.1417 Q174.561 80.2714 173.751 82.1926 Q172.964 84.0908 170.857 86.6834 Q170.278 87.3546 167.177 90.5722 Q164.075 93.7667 158.427 99.5305 Z\" fill=\"#000000\" fill-rule=\"evenodd\" fill-opacity=\"1\" /><path clip-path=\"url(#clip670)\" d=\"M 0 0 M16.4842 970.473 L16.4842 964.043 L64.0042 964.043 L64.0042 970.473 L16.4842 970.473 Z\" fill=\"#000000\" fill-rule=\"evenodd\" fill-opacity=\"1\" /><path clip-path=\"url(#clip670)\" d=\"M 0 0 M35.1993 923.748 Q31.2526 921.552 29.3747 918.497 Q27.4968 915.441 27.4968 911.303 Q27.4968 905.733 31.4117 902.71 Q35.2948 899.686 42.4881 899.686 L64.0042 899.686 L64.0042 905.574 L42.679 905.574 Q37.5546 905.574 35.072 907.388 Q32.5894 909.203 32.5894 912.927 Q32.5894 917.478 35.6131 920.12 Q38.6368 922.762 43.8567 922.762 L64.0042 922.762 L64.0042 928.65 L42.679 928.65 Q37.5228 928.65 35.072 930.464 Q32.5894 932.278 32.5894 936.066 Q32.5894 940.554 35.6449 943.196 Q38.6686 945.837 43.8567 945.837 L64.0042 945.837 L64.0042 951.726 L28.3562 951.726 L28.3562 945.837 L33.8944 945.837 Q30.616 943.832 29.0564 941.031 Q27.4968 938.23 27.4968 934.379 Q27.4968 930.496 29.4702 927.791 Q31.4436 925.053 35.1993 923.748 Z\" fill=\"#000000\" fill-rule=\"evenodd\" fill-opacity=\"1\" /><path clip-path=\"url(#clip670)\" d=\"M 0 0 M46.0847 871.804 Q46.0847 878.902 47.7079 881.639 Q49.3312 884.376 53.2461 884.376 Q56.3653 884.376 58.2114 882.339 Q60.0256 880.271 60.0256 876.738 Q60.0256 871.868 56.5881 868.94 Q53.1188 865.979 47.3897 865.979 L46.0847 865.979 L46.0847 871.804 M43.6657 860.123 L64.0042 860.123 L64.0042 865.979 L58.5933 865.979 Q61.8398 867.985 63.3994 870.977 Q64.9272 873.968 64.9272 878.297 Q64.9272 883.772 61.8716 887.018 Q58.7843 890.233 53.6281 890.233 Q47.6125 890.233 44.5569 886.222 Q41.5014 882.18 41.5014 874.191 L41.5014 865.979 L40.9285 865.979 Q36.8862 865.979 34.6901 868.653 Q32.4621 871.295 32.4621 876.101 Q32.4621 879.157 33.1941 882.053 Q33.9262 884.949 35.3903 887.623 L29.9795 887.623 Q28.7381 884.408 28.1334 881.385 Q27.4968 878.361 27.4968 875.496 Q27.4968 867.762 31.5072 863.942 Q35.5176 860.123 43.6657 860.123 Z\" fill=\"#000000\" fill-rule=\"evenodd\" fill-opacity=\"1\" /><path clip-path=\"url(#clip670)\" d=\"M 0 0 M45.7664 824.602 Q39.4007 824.602 35.8996 827.244 Q32.3984 829.854 32.3984 834.597 Q32.3984 839.307 35.8996 841.949 Q39.4007 844.559 45.7664 844.559 Q52.1003 844.559 55.6014 841.949 Q59.1026 839.307 59.1026 834.597 Q59.1026 829.854 55.6014 827.244 Q52.1003 824.602 45.7664 824.602 M59.58 818.746 Q68.683 818.746 73.1071 822.788 Q77.5631 826.83 77.5631 835.169 Q77.5631 838.257 77.0857 840.994 Q76.6401 843.731 75.6852 846.309 L69.9879 846.309 Q71.3884 843.731 72.0568 841.217 Q72.7252 838.702 72.7252 836.093 Q72.7252 830.332 69.7015 827.467 Q66.7096 824.602 60.6303 824.602 L57.7339 824.602 Q60.885 826.417 62.4446 829.249 Q64.0042 832.082 64.0042 836.029 Q64.0042 842.586 59.0071 846.596 Q54.01 850.606 45.7664 850.606 Q37.491 850.606 32.4939 846.596 Q27.4968 842.586 27.4968 836.029 Q27.4968 832.082 29.0564 829.249 Q30.616 826.417 33.7671 824.602 L28.3562 824.602 L28.3562 818.746 L59.58 818.746 Z\" fill=\"#000000\" fill-rule=\"evenodd\" fill-opacity=\"1\" /><path clip-path=\"url(#clip670)\" d=\"M 0 0 M28.3562 806.683 L28.3562 800.826 L64.0042 800.826 L64.0042 806.683 L28.3562 806.683 M14.479 806.683 L14.479 800.826 L21.895 800.826 L21.895 806.683 L14.479 806.683 Z\" fill=\"#000000\" fill-rule=\"evenodd\" fill-opacity=\"1\" /><path clip-path=\"url(#clip670)\" d=\"M 0 0 M42.4881 758.94 L64.0042 758.94 L64.0042 764.797 L42.679 764.797 Q37.6183 764.797 35.1038 766.77 Q32.5894 768.743 32.5894 772.69 Q32.5894 777.433 35.6131 780.17 Q38.6368 782.907 43.8567 782.907 L64.0042 782.907 L64.0042 788.795 L28.3562 788.795 L28.3562 782.907 L33.8944 782.907 Q30.6797 780.806 29.0883 777.974 Q27.4968 775.109 27.4968 771.385 Q27.4968 765.242 31.3163 762.091 Q35.1038 758.94 42.4881 758.94 Z\" fill=\"#000000\" fill-rule=\"evenodd\" fill-opacity=\"1\" /><path clip-path=\"url(#clip670)\" d=\"M 0 0 M46.0847 731.058 Q46.0847 738.156 47.7079 740.893 Q49.3312 743.631 53.2461 743.631 Q56.3653 743.631 58.2114 741.594 Q60.0256 739.525 60.0256 735.992 Q60.0256 731.122 56.5881 728.194 Q53.1188 725.234 47.3897 725.234 L46.0847 725.234 L46.0847 731.058 M43.6657 719.377 L64.0042 719.377 L64.0042 725.234 L58.5933 725.234 Q61.8398 727.239 63.3994 730.231 Q64.9272 733.223 64.9272 737.551 Q64.9272 743.026 61.8716 746.272 Q58.7843 749.487 53.6281 749.487 Q47.6125 749.487 44.5569 745.477 Q41.5014 741.434 41.5014 733.445 L41.5014 725.234 L40.9285 725.234 Q36.8862 725.234 34.6901 727.907 Q32.4621 730.549 32.4621 735.355 Q32.4621 738.411 33.1941 741.307 Q33.9262 744.204 35.3903 746.877 L29.9795 746.877 Q28.7381 743.662 28.1334 740.639 Q27.4968 737.615 27.4968 734.75 Q27.4968 727.016 31.5072 723.197 Q35.5176 719.377 43.6657 719.377 Z\" fill=\"#000000\" fill-rule=\"evenodd\" fill-opacity=\"1\" /><path clip-path=\"url(#clip670)\" d=\"M 0 0 M33.8307 686.658 Q33.2578 687.644 33.0032 688.822 Q32.7167 689.968 32.7167 691.368 Q32.7167 696.333 35.9632 699.007 Q39.1779 701.649 45.2253 701.649 L64.0042 701.649 L64.0042 707.537 L28.3562 707.537 L28.3562 701.649 L33.8944 701.649 Q30.6479 699.803 29.0883 696.843 Q27.4968 693.883 27.4968 689.649 Q27.4968 689.045 27.5923 688.313 Q27.656 687.581 27.8151 686.689 L33.8307 686.658 Z\" fill=\"#000000\" fill-rule=\"evenodd\" fill-opacity=\"1\" /><path clip-path=\"url(#clip670)\" d=\"M 0 0 M67.3143 665.683 Q73.68 668.165 75.6216 670.52 Q77.5631 672.876 77.5631 676.823 L77.5631 681.501 L72.6615 681.501 L72.6615 678.064 Q72.6615 675.645 71.5157 674.308 Q70.3699 672.971 66.1048 671.348 L63.4312 670.298 L28.3562 684.716 L28.3562 678.509 L56.238 667.369 L28.3562 656.229 L28.3562 650.023 L67.3143 665.683 Z\" fill=\"#000000\" fill-rule=\"evenodd\" fill-opacity=\"1\" /><path clip-path=\"url(#clip670)\" d=\"M 0 0 M46.0847 605.017 Q46.0847 612.115 47.7079 614.852 Q49.3312 617.59 53.2461 617.59 Q56.3653 617.59 58.2114 615.553 Q60.0256 613.484 60.0256 609.951 Q60.0256 605.081 56.5881 602.153 Q53.1188 599.193 47.3897 599.193 L46.0847 599.193 L46.0847 605.017 M43.6657 593.336 L64.0042 593.336 L64.0042 599.193 L58.5933 599.193 Q61.8398 601.198 63.3994 604.19 Q64.9272 607.182 64.9272 611.51 Q64.9272 616.985 61.8716 620.231 Q58.7843 623.446 53.6281 623.446 Q47.6125 623.446 44.5569 619.436 Q41.5014 615.393 41.5014 607.404 L41.5014 599.193 L40.9285 599.193 Q36.8862 599.193 34.6901 601.866 Q32.4621 604.508 32.4621 609.314 Q32.4621 612.37 33.1941 615.266 Q33.9262 618.163 35.3903 620.836 L29.9795 620.836 Q28.7381 617.621 28.1334 614.598 Q27.4968 611.574 27.4968 608.709 Q27.4968 600.975 31.5072 597.156 Q35.5176 593.336 43.6657 593.336 Z\" fill=\"#000000\" fill-rule=\"evenodd\" fill-opacity=\"1\" /><path clip-path=\"url(#clip670)\" d=\"M 0 0 M28.3562 551.641 L45.7028 564.531 L64.0042 550.973 L64.0042 557.879 L49.9996 568.255 L64.0042 578.631 L64.0042 585.538 L45.3526 571.693 L28.3562 584.361 L28.3562 577.454 L41.0558 568.001 L28.3562 558.548 L28.3562 551.641 Z\" fill=\"#000000\" fill-rule=\"evenodd\" fill-opacity=\"1\" /><path clip-path=\"url(#clip670)\" d=\"M 0 0 M28.3562 542.697 L28.3562 536.841 L64.0042 536.841 L64.0042 542.697 L28.3562 542.697 M14.479 542.697 L14.479 536.841 L21.895 536.841 L21.895 542.697 L14.479 542.697 Z\" fill=\"#000000\" fill-rule=\"evenodd\" fill-opacity=\"1\" /><path clip-path=\"url(#clip670)\" d=\"M 0 0 M29.4065 501.861 L34.9447 501.861 Q33.6716 504.344 33.035 507.017 Q32.3984 509.691 32.3984 512.555 Q32.3984 516.916 33.7352 519.112 Q35.072 521.276 37.7456 521.276 Q39.7826 521.276 40.9603 519.717 Q42.1061 518.157 43.1565 513.447 L43.6021 511.441 Q44.9389 505.203 47.3897 502.593 Q49.8086 499.951 54.1691 499.951 Q59.1344 499.951 62.0308 503.898 Q64.9272 507.813 64.9272 514.688 Q64.9272 517.553 64.3543 520.672 Q63.8132 523.759 62.6992 527.197 L56.6518 527.197 Q58.3387 523.95 59.198 520.799 Q60.0256 517.648 60.0256 514.561 Q60.0256 510.423 58.6251 508.195 Q57.1929 505.967 54.6147 505.967 Q52.2276 505.967 50.9545 507.59 Q49.6813 509.182 48.5037 514.624 L48.0262 516.661 Q46.8804 522.104 44.5251 524.523 Q42.138 526.942 38.0002 526.942 Q32.9713 526.942 30.2341 523.377 Q27.4968 519.812 27.4968 513.256 Q27.4968 510.009 27.9743 507.145 Q28.4517 504.28 29.4065 501.861 Z\" fill=\"#000000\" fill-rule=\"evenodd\" fill-opacity=\"1\" /><path clip-path=\"url(#clip672)\" d=\"\n",
       "M957.237 86.1857 L963.727 86.2181 L970.216 86.3155 L976.705 86.4777 L983.191 86.7048 L989.675 86.9968 L996.155 87.3536 L1002.63 87.7751 L1009.1 88.2615 L1015.57 88.8125 \n",
       "  L1022.03 89.4281 L1028.49 90.1083 L1034.93 90.8531 L1041.37 91.6622 L1047.8 92.5358 L1054.23 93.4735 L1060.64 94.4755 L1067.04 95.5415 L1073.43 96.6715 L1079.81 97.8654 \n",
       "  L1086.18 99.123 L1092.53 100.444 L1098.87 101.829 L1105.2 103.277 L1111.51 104.788 L1117.81 106.362 L1124.09 107.999 L1130.35 109.699 L1136.6 111.462 L1142.83 113.287 \n",
       "  L1149.04 115.173 L1155.23 117.122 L1161.4 119.133 L1167.55 121.206 L1173.68 123.339 L1179.79 125.534 L1185.87 127.79 L1191.93 130.107 L1197.97 132.484 L1203.99 134.922 \n",
       "  L1209.98 137.419 L1215.94 139.976 L1221.88 142.593 L1227.8 145.269 L1233.68 148.004 L1239.54 150.798 L1245.37 153.65 L1251.17 156.561 L1256.94 159.529 L1262.69 162.555 \n",
       "  L1268.4 165.638 L1274.08 168.778 L1279.73 171.975 L1285.34 175.228 L1290.92 178.537 L1296.47 181.901 L1301.99 185.321 L1307.47 188.796 L1312.92 192.326 L1318.33 195.91 \n",
       "  L1323.7 199.548 L1329.04 203.239 L1334.34 206.984 L1339.61 210.781 L1344.83 214.631 L1350.02 218.533 L1355.17 222.486 L1360.27 226.491 L1365.34 230.547 L1370.37 234.653 \n",
       "  L1375.35 238.809 L1380.29 243.015 L1385.19 247.27 L1390.05 251.574 L1394.87 255.927 L1399.64 260.327 L1404.37 264.774 L1409.05 269.269 L1413.68 273.811 L1418.27 278.398 \n",
       "  L1422.82 283.031 L1427.32 287.709 L1431.77 292.433 L1436.17 297.2 L1440.53 302.011 L1444.84 306.866 L1449.1 311.763 L1453.31 316.703 L1457.47 321.684 L1461.58 326.707 \n",
       "  L1465.64 331.771 L1469.65 336.875 L1473.6 342.019 L1477.51 347.202 L1481.36 352.424 L1485.17 357.685 L1488.91 362.983 L1492.61 368.318 L1496.25 373.69 L1499.84 379.098 \n",
       "  L1503.37 384.542 L1506.85 390.021 L1510.28 395.534 L1513.65 401.081 L1516.96 406.662 L1520.22 412.275 L1523.42 417.921 L1526.56 423.599 L1529.65 429.308 L1532.68 435.047 \n",
       "  L1535.65 440.816 L1538.57 446.615 L1541.43 452.443 L1544.22 458.299 L1546.96 464.182 L1549.64 470.093 L1552.27 476.03 L1554.83 481.994 L1557.33 487.982 L1559.77 493.995 \n",
       "  L1562.15 500.033 L1564.48 506.093 L1566.74 512.177 L1568.94 518.283 L1571.08 524.411 L1573.15 530.56 L1575.17 536.729 L1577.12 542.918 L1579.01 549.127 L1580.84 555.354 \n",
       "  L1582.61 561.598 L1584.32 567.861 L1585.96 574.14 L1587.54 580.435 L1589.05 586.746 L1590.51 593.071 L1591.9 599.411 L1593.22 605.764 L1594.49 612.13 L1595.68 618.509 \n",
       "  L1596.82 624.899 L1597.89 631.3 L1598.9 637.712 L1599.84 644.133 L1600.72 650.564 L1601.53 657.003 L1602.28 663.45 L1602.97 669.904 L1603.59 676.364 L1604.15 682.83 \n",
       "  L1604.64 689.302 L1605.06 695.778 L1605.43 702.258 L1605.72 708.742 L1605.96 715.228 L1606.12 721.716 L1606.23 728.205 L1606.26 734.696 L1606.24 741.186 L1606.14 747.675 \n",
       "  L1605.99 754.164 L1605.76 760.65 L1605.48 767.134 L1605.13 773.615 L1604.71 780.092 L1604.23 786.564 L1603.68 793.031 L1603.07 799.493 L1602.4 805.948 L1601.66 812.396 \n",
       "  L1600.85 818.836 L1599.99 825.268 L1599.05 831.691 L1598.06 838.104 L1596.99 844.507 L1595.87 850.899 L1594.68 857.279 L1593.43 863.648 L1592.11 870.003 L1590.73 876.345 \n",
       "  L1589.29 882.673 L1587.78 888.986 L1586.21 895.283 L1584.58 901.565 L1582.89 907.83 L1581.13 914.078 L1579.31 920.308 L1577.43 926.519 L1575.48 932.711 L1573.48 938.884 \n",
       "  L1571.41 945.036 L1569.28 951.167 L1567.09 957.277 L1564.84 963.364 L1562.53 969.429 L1560.16 975.47 L1557.72 981.487 L1555.23 987.479 L1552.68 993.446 L1550.07 999.388 \n",
       "  L1547.4 1005.3 L1544.66 1011.19 L1541.88 1017.05 L1539.03 1022.88 L1536.12 1028.69 L1533.16 1034.46 L1530.14 1040.21 L1527.06 1045.92 L1523.92 1051.6 L1520.73 1057.25 \n",
       "  L1517.48 1062.87 L1514.18 1068.46 L1510.82 1074.01 L1507.4 1079.53 L1503.93 1085.01 L1500.41 1090.46 L1496.83 1095.88 L1493.19 1101.25 L1489.51 1106.59 L1485.77 1111.9 \n",
       "  L1481.97 1117.17 L1478.13 1122.39 L1474.23 1127.58 L1470.28 1132.73 L1466.28 1137.84 L1462.23 1142.91 L1458.12 1147.94 L1453.97 1152.93 L1449.77 1157.88 L1445.52 1162.78 \n",
       "  L1441.22 1167.64 L1436.87 1172.46 L1432.47 1177.24 L1428.03 1181.97 L1423.54 1186.65 L1419 1191.29 L1414.42 1195.89 L1409.79 1200.44 L1405.11 1204.94 L1400.39 1209.39 \n",
       "  L1395.63 1213.8 L1390.82 1218.16 L1385.97 1222.47 L1381.08 1226.74 L1376.14 1230.95 L1371.16 1235.11 L1366.14 1239.23 L1361.08 1243.29 L1355.98 1247.3 L1350.84 1251.27 \n",
       "  L1345.66 1255.18 L1340.44 1259.03 L1335.18 1262.84 L1329.89 1266.59 L1324.56 1270.29 L1319.19 1273.94 L1313.78 1277.53 L1308.34 1281.07 L1302.87 1284.55 L1297.36 1287.98 \n",
       "  L1291.81 1291.36 L1286.23 1294.67 L1280.62 1297.94 L1274.98 1301.14 L1269.3 1304.29 L1263.6 1307.38 L1257.86 1310.42 L1252.09 1313.4 L1246.3 1316.31 L1240.47 1319.18 \n",
       "  L1234.62 1321.98 L1228.74 1324.72 L1222.83 1327.41 L1216.89 1330.04 L1210.93 1332.6 L1204.94 1335.11 L1198.93 1337.56 L1192.9 1339.94 L1186.84 1342.27 L1180.76 1344.54 \n",
       "  L1174.65 1346.74 L1168.53 1348.88 L1162.38 1350.97 L1156.21 1352.99 L1150.02 1354.95 L1143.82 1356.84 L1137.59 1358.68 L1131.35 1360.45 L1125.09 1362.16 L1118.81 1363.81 \n",
       "  L1112.52 1365.39 L1106.21 1366.91 L1099.88 1368.37 L1093.54 1369.76 L1087.19 1371.1 L1080.83 1372.36 L1074.45 1373.57 L1068.06 1374.71 L1061.66 1375.78 L1055.25 1376.8 \n",
       "  L1048.83 1377.74 L1042.4 1378.63 L1035.96 1379.45 L1029.51 1380.2 L1023.06 1380.89 L1016.6 1381.52 L1010.13 1382.08 L1003.66 1382.58 L997.187 1383.01 L990.707 1383.38 \n",
       "  L984.224 1383.68 L977.738 1383.92 L971.25 1384.09 L964.76 1384.2 L958.27 1384.24 L951.78 1384.22 L945.291 1384.13 L938.802 1383.98 L932.315 1383.76 L925.831 1383.48 \n",
       "  L919.35 1383.13 L912.873 1382.72 L906.4 1382.25 L899.933 1381.7 L893.471 1381.1 L887.015 1380.43 L880.567 1379.69 L874.126 1378.9 L867.693 1378.03 L861.27 1377.1 \n",
       "  L854.856 1376.11 L848.452 1375.06 L842.059 1373.94 L835.677 1372.75 L829.308 1371.51 L822.952 1370.2 L816.609 1368.82 L810.28 1367.38 L803.966 1365.88 L797.667 1364.32 \n",
       "  L791.384 1362.69 L785.117 1361 L778.868 1359.25 L772.637 1357.43 L766.424 1355.56 L760.23 1353.62 L754.056 1351.62 L747.902 1349.55 L741.769 1347.43 L735.658 1345.24 \n",
       "  L729.569 1343 L723.503 1340.69 L717.46 1338.32 L711.441 1335.9 L705.446 1333.41 L699.477 1330.86 L693.533 1328.25 L687.616 1325.59 L681.726 1322.86 L675.864 1320.08 \n",
       "  L670.029 1317.23 L664.223 1314.33 L658.447 1311.37 L652.7 1308.36 L646.984 1305.28 L641.299 1302.15 L635.646 1298.96 L630.024 1295.72 L624.436 1292.42 L618.88 1289.06 \n",
       "  L613.359 1285.65 L607.872 1282.19 L602.42 1278.66 L597.003 1275.09 L591.622 1271.46 L586.278 1267.78 L580.971 1264.04 L575.702 1260.25 L570.471 1256.41 L565.278 1252.52 \n",
       "  L560.125 1248.57 L555.011 1244.57 L549.938 1240.53 L544.905 1236.43 L539.913 1232.28 L534.964 1228.08 L530.056 1223.84 L525.191 1219.54 L520.37 1215.19 L515.592 1210.8 \n",
       "  L510.858 1206.36 L506.169 1201.87 L501.525 1197.34 L496.927 1192.76 L492.374 1188.13 L487.868 1183.46 L483.409 1178.75 L478.998 1173.99 L474.634 1169.18 L470.318 1164.34 \n",
       "  L466.052 1159.44 L461.834 1154.51 L457.666 1149.54 L453.548 1144.52 L449.48 1139.46 L445.463 1134.37 L441.497 1129.23 L437.583 1124.05 L433.72 1118.83 L429.91 1113.58 \n",
       "  L426.153 1108.29 L422.449 1102.96 L418.798 1097.59 L415.201 1092.19 L411.659 1086.75 L408.171 1081.28 L404.738 1075.77 L401.36 1070.23 L398.037 1064.65 L394.771 1059.05 \n",
       "  L391.561 1053.4 L388.407 1047.73 L385.31 1042.03 L382.271 1036.29 L379.289 1030.53 L376.365 1024.74 L373.499 1018.91 L370.691 1013.06 L367.942 1007.18 L365.252 1001.27 \n",
       "  L362.621 995.342 L360.049 989.383 L357.537 983.398 L355.085 977.389 L352.694 971.355 L350.363 965.298 L348.092 959.218 L345.883 953.116 L343.734 946.991 L341.647 940.846 \n",
       "  L339.622 934.68 L337.658 928.494 L335.756 922.288 L333.916 916.064 L332.139 909.822 L330.424 903.562 L328.772 897.286 L327.183 890.993 L325.656 884.685 L324.193 878.362 \n",
       "  L322.794 872.024 L321.457 865.673 L320.184 859.309 L318.975 852.932 L317.83 846.544 L316.749 840.145 L315.731 833.735 L314.778 827.315 L313.889 820.886 L313.065 814.448 \n",
       "  L312.305 808.002 L311.609 801.55 L310.978 795.09 L310.412 788.625 L309.91 782.154 L309.473 775.678 L309.1 769.199 L308.793 762.716 L308.55 756.23 L308.373 749.742 \n",
       "  L308.26 743.253 L308.212 736.763 L308.229 730.273 L308.311 723.783 L308.457 717.294 L308.669 710.808 L308.945 704.323 L309.287 697.842 L309.693 691.364 L310.164 684.891 \n",
       "  L310.699 678.423 L311.299 671.961 L311.964 665.505 L312.694 659.056 L313.487 652.614 L314.346 646.181 L315.268 639.756 L316.255 633.342 L317.305 626.937 L318.42 620.543 \n",
       "  L319.599 614.161 L320.841 607.791 L322.147 601.433 L323.517 595.089 L324.95 588.759 L326.446 582.444 L328.005 576.143 L329.627 569.859 L331.312 563.591 L333.059 557.341 \n",
       "  L334.869 551.108 L336.741 544.894 L338.676 538.698 L340.672 532.523 L342.729 526.367 L344.848 520.233 L347.029 514.12 L349.27 508.029 L351.572 501.961 L353.935 495.916 \n",
       "  L356.358 489.895 L358.841 483.898 L361.384 477.927 L363.987 471.981 L366.649 466.062 L369.37 460.17 L372.15 454.305 L374.988 448.468 L377.885 442.66 L380.839 436.882 \n",
       "  L383.851 431.133 L386.92 425.414 L390.047 419.726 L393.23 414.07 L396.47 408.446 L399.765 402.855 L403.117 397.297 L406.523 391.773 L409.985 386.283 L413.502 380.828 \n",
       "  L417.073 375.409 L420.698 370.025 L424.377 364.678 L428.108 359.368 L431.893 354.096 L435.731 348.861 L439.62 343.666 L443.561 338.509 L447.554 333.392 L451.598 328.316 \n",
       "  L455.692 323.28 L459.836 318.285 L464.03 313.332 L468.274 308.421 L472.566 303.553 L476.907 298.728 L481.296 293.946 L485.732 289.209 L490.215 284.516 L494.746 279.869 \n",
       "  L499.322 275.267 L503.944 270.711 L508.612 266.201 L513.325 261.738 L518.081 257.323 L522.882 252.955 L527.726 248.636 L532.614 244.365 L537.543 240.144 L542.515 235.972 \n",
       "  L547.528 231.849 L552.582 227.778 L557.676 223.756 L562.811 219.786 L567.985 215.868 L573.197 212.002 L578.449 208.187 L583.738 204.426 L589.064 200.718 L594.428 197.063 \n",
       "  L599.827 193.461 L605.262 189.915 L610.733 186.422 L616.238 182.985 L621.777 179.602 L627.35 176.276 L632.956 173.005 L638.594 169.79 L644.264 166.632 L649.965 163.531 \n",
       "  L655.697 160.487 L661.46 157.5 L667.252 154.571 L673.072 151.7 L678.922 148.888 L684.799 146.134 L690.703 143.439 L696.634 140.804 L702.591 138.227 L708.573 135.711 \n",
       "  L714.581 133.254 L720.612 130.858 L726.668 128.522 L732.746 126.246 L738.847 124.032 L744.969 121.879 L751.113 119.787 L757.278 117.756 L763.462 115.788 L769.666 113.881 \n",
       "  L775.889 112.036 L782.129 110.254 L788.388 108.534 L794.663 106.877 L800.954 105.283 L807.261 103.751 L813.583 102.283 L819.919 100.878 L826.27 99.5369 L832.633 98.2591 \n",
       "  L839.008 97.0449 L845.396 95.8945 L851.795 94.8081 L858.204 93.7857 L864.623 92.8275 L871.051 91.9335 L877.488 91.1038 L883.933 90.3385 L890.385 89.6378 L896.844 89.0015 \n",
       "  L903.309 88.4299 L909.78 87.923 L916.255 87.4808 L922.734 87.1034 L929.217 86.7908 L935.702 86.543 L942.19 86.3601 L948.679 86.2421 L955.169 86.189 L957.237 86.1857 \n",
       "   Z\n",
       "  \" fill=\"#ff0000\" fill-rule=\"evenodd\" fill-opacity=\"0.5\"/>\n",
       "<polyline clip-path=\"url(#clip672)\" style=\"stroke:#000000; stroke-width:4; stroke-opacity:1; fill:none\" points=\"\n",
       "  957.237,86.1857 963.727,86.2181 970.216,86.3155 976.705,86.4777 983.191,86.7048 989.675,86.9968 996.155,87.3536 1002.63,87.7751 1009.1,88.2615 1015.57,88.8125 \n",
       "  1022.03,89.4281 1028.49,90.1083 1034.93,90.8531 1041.37,91.6622 1047.8,92.5358 1054.23,93.4735 1060.64,94.4755 1067.04,95.5415 1073.43,96.6715 1079.81,97.8654 \n",
       "  1086.18,99.123 1092.53,100.444 1098.87,101.829 1105.2,103.277 1111.51,104.788 1117.81,106.362 1124.09,107.999 1130.35,109.699 1136.6,111.462 1142.83,113.287 \n",
       "  1149.04,115.173 1155.23,117.122 1161.4,119.133 1167.55,121.206 1173.68,123.339 1179.79,125.534 1185.87,127.79 1191.93,130.107 1197.97,132.484 1203.99,134.922 \n",
       "  1209.98,137.419 1215.94,139.976 1221.88,142.593 1227.8,145.269 1233.68,148.004 1239.54,150.798 1245.37,153.65 1251.17,156.561 1256.94,159.529 1262.69,162.555 \n",
       "  1268.4,165.638 1274.08,168.778 1279.73,171.975 1285.34,175.228 1290.92,178.537 1296.47,181.901 1301.99,185.321 1307.47,188.796 1312.92,192.326 1318.33,195.91 \n",
       "  1323.7,199.548 1329.04,203.239 1334.34,206.984 1339.61,210.781 1344.83,214.631 1350.02,218.533 1355.17,222.486 1360.27,226.491 1365.34,230.547 1370.37,234.653 \n",
       "  1375.35,238.809 1380.29,243.015 1385.19,247.27 1390.05,251.574 1394.87,255.927 1399.64,260.327 1404.37,264.774 1409.05,269.269 1413.68,273.811 1418.27,278.398 \n",
       "  1422.82,283.031 1427.32,287.709 1431.77,292.433 1436.17,297.2 1440.53,302.011 1444.84,306.866 1449.1,311.763 1453.31,316.703 1457.47,321.684 1461.58,326.707 \n",
       "  1465.64,331.771 1469.65,336.875 1473.6,342.019 1477.51,347.202 1481.36,352.424 1485.17,357.685 1488.91,362.983 1492.61,368.318 1496.25,373.69 1499.84,379.098 \n",
       "  1503.37,384.542 1506.85,390.021 1510.28,395.534 1513.65,401.081 1516.96,406.662 1520.22,412.275 1523.42,417.921 1526.56,423.599 1529.65,429.308 1532.68,435.047 \n",
       "  1535.65,440.816 1538.57,446.615 1541.43,452.443 1544.22,458.299 1546.96,464.182 1549.64,470.093 1552.27,476.03 1554.83,481.994 1557.33,487.982 1559.77,493.995 \n",
       "  1562.15,500.033 1564.48,506.093 1566.74,512.177 1568.94,518.283 1571.08,524.411 1573.15,530.56 1575.17,536.729 1577.12,542.918 1579.01,549.127 1580.84,555.354 \n",
       "  1582.61,561.598 1584.32,567.861 1585.96,574.14 1587.54,580.435 1589.05,586.746 1590.51,593.071 1591.9,599.411 1593.22,605.764 1594.49,612.13 1595.68,618.509 \n",
       "  1596.82,624.899 1597.89,631.3 1598.9,637.712 1599.84,644.133 1600.72,650.564 1601.53,657.003 1602.28,663.45 1602.97,669.904 1603.59,676.364 1604.15,682.83 \n",
       "  1604.64,689.302 1605.06,695.778 1605.43,702.258 1605.72,708.742 1605.96,715.228 1606.12,721.716 1606.23,728.205 1606.26,734.696 1606.24,741.186 1606.14,747.675 \n",
       "  1605.99,754.164 1605.76,760.65 1605.48,767.134 1605.13,773.615 1604.71,780.092 1604.23,786.564 1603.68,793.031 1603.07,799.493 1602.4,805.948 1601.66,812.396 \n",
       "  1600.85,818.836 1599.99,825.268 1599.05,831.691 1598.06,838.104 1596.99,844.507 1595.87,850.899 1594.68,857.279 1593.43,863.648 1592.11,870.003 1590.73,876.345 \n",
       "  1589.29,882.673 1587.78,888.986 1586.21,895.283 1584.58,901.565 1582.89,907.83 1581.13,914.078 1579.31,920.308 1577.43,926.519 1575.48,932.711 1573.48,938.884 \n",
       "  1571.41,945.036 1569.28,951.167 1567.09,957.277 1564.84,963.364 1562.53,969.429 1560.16,975.47 1557.72,981.487 1555.23,987.479 1552.68,993.446 1550.07,999.388 \n",
       "  1547.4,1005.3 1544.66,1011.19 1541.88,1017.05 1539.03,1022.88 1536.12,1028.69 1533.16,1034.46 1530.14,1040.21 1527.06,1045.92 1523.92,1051.6 1520.73,1057.25 \n",
       "  1517.48,1062.87 1514.18,1068.46 1510.82,1074.01 1507.4,1079.53 1503.93,1085.01 1500.41,1090.46 1496.83,1095.88 1493.19,1101.25 1489.51,1106.59 1485.77,1111.9 \n",
       "  1481.97,1117.17 1478.13,1122.39 1474.23,1127.58 1470.28,1132.73 1466.28,1137.84 1462.23,1142.91 1458.12,1147.94 1453.97,1152.93 1449.77,1157.88 1445.52,1162.78 \n",
       "  1441.22,1167.64 1436.87,1172.46 1432.47,1177.24 1428.03,1181.97 1423.54,1186.65 1419,1191.29 1414.42,1195.89 1409.79,1200.44 1405.11,1204.94 1400.39,1209.39 \n",
       "  1395.63,1213.8 1390.82,1218.16 1385.97,1222.47 1381.08,1226.74 1376.14,1230.95 1371.16,1235.11 1366.14,1239.23 1361.08,1243.29 1355.98,1247.3 1350.84,1251.27 \n",
       "  1345.66,1255.18 1340.44,1259.03 1335.18,1262.84 1329.89,1266.59 1324.56,1270.29 1319.19,1273.94 1313.78,1277.53 1308.34,1281.07 1302.87,1284.55 1297.36,1287.98 \n",
       "  1291.81,1291.36 1286.23,1294.67 1280.62,1297.94 1274.98,1301.14 1269.3,1304.29 1263.6,1307.38 1257.86,1310.42 1252.09,1313.4 1246.3,1316.31 1240.47,1319.18 \n",
       "  1234.62,1321.98 1228.74,1324.72 1222.83,1327.41 1216.89,1330.04 1210.93,1332.6 1204.94,1335.11 1198.93,1337.56 1192.9,1339.94 1186.84,1342.27 1180.76,1344.54 \n",
       "  1174.65,1346.74 1168.53,1348.88 1162.38,1350.97 1156.21,1352.99 1150.02,1354.95 1143.82,1356.84 1137.59,1358.68 1131.35,1360.45 1125.09,1362.16 1118.81,1363.81 \n",
       "  1112.52,1365.39 1106.21,1366.91 1099.88,1368.37 1093.54,1369.76 1087.19,1371.1 1080.83,1372.36 1074.45,1373.57 1068.06,1374.71 1061.66,1375.78 1055.25,1376.8 \n",
       "  1048.83,1377.74 1042.4,1378.63 1035.96,1379.45 1029.51,1380.2 1023.06,1380.89 1016.6,1381.52 1010.13,1382.08 1003.66,1382.58 997.187,1383.01 990.707,1383.38 \n",
       "  984.224,1383.68 977.738,1383.92 971.25,1384.09 964.76,1384.2 958.27,1384.24 951.78,1384.22 945.291,1384.13 938.802,1383.98 932.315,1383.76 925.831,1383.48 \n",
       "  919.35,1383.13 912.873,1382.72 906.4,1382.25 899.933,1381.7 893.471,1381.1 887.015,1380.43 880.567,1379.69 874.126,1378.9 867.693,1378.03 861.27,1377.1 \n",
       "  854.856,1376.11 848.452,1375.06 842.059,1373.94 835.677,1372.75 829.308,1371.51 822.952,1370.2 816.609,1368.82 810.28,1367.38 803.966,1365.88 797.667,1364.32 \n",
       "  791.384,1362.69 785.117,1361 778.868,1359.25 772.637,1357.43 766.424,1355.56 760.23,1353.62 754.056,1351.62 747.902,1349.55 741.769,1347.43 735.658,1345.24 \n",
       "  729.569,1343 723.503,1340.69 717.46,1338.32 711.441,1335.9 705.446,1333.41 699.477,1330.86 693.533,1328.25 687.616,1325.59 681.726,1322.86 675.864,1320.08 \n",
       "  670.029,1317.23 664.223,1314.33 658.447,1311.37 652.7,1308.36 646.984,1305.28 641.299,1302.15 635.646,1298.96 630.024,1295.72 624.436,1292.42 618.88,1289.06 \n",
       "  613.359,1285.65 607.872,1282.19 602.42,1278.66 597.003,1275.09 591.622,1271.46 586.278,1267.78 580.971,1264.04 575.702,1260.25 570.471,1256.41 565.278,1252.52 \n",
       "  560.125,1248.57 555.011,1244.57 549.938,1240.53 544.905,1236.43 539.913,1232.28 534.964,1228.08 530.056,1223.84 525.191,1219.54 520.37,1215.19 515.592,1210.8 \n",
       "  510.858,1206.36 506.169,1201.87 501.525,1197.34 496.927,1192.76 492.374,1188.13 487.868,1183.46 483.409,1178.75 478.998,1173.99 474.634,1169.18 470.318,1164.34 \n",
       "  466.052,1159.44 461.834,1154.51 457.666,1149.54 453.548,1144.52 449.48,1139.46 445.463,1134.37 441.497,1129.23 437.583,1124.05 433.72,1118.83 429.91,1113.58 \n",
       "  426.153,1108.29 422.449,1102.96 418.798,1097.59 415.201,1092.19 411.659,1086.75 408.171,1081.28 404.738,1075.77 401.36,1070.23 398.037,1064.65 394.771,1059.05 \n",
       "  391.561,1053.4 388.407,1047.73 385.31,1042.03 382.271,1036.29 379.289,1030.53 376.365,1024.74 373.499,1018.91 370.691,1013.06 367.942,1007.18 365.252,1001.27 \n",
       "  362.621,995.342 360.049,989.383 357.537,983.398 355.085,977.389 352.694,971.355 350.363,965.298 348.092,959.218 345.883,953.116 343.734,946.991 341.647,940.846 \n",
       "  339.622,934.68 337.658,928.494 335.756,922.288 333.916,916.064 332.139,909.822 330.424,903.562 328.772,897.286 327.183,890.993 325.656,884.685 324.193,878.362 \n",
       "  322.794,872.024 321.457,865.673 320.184,859.309 318.975,852.932 317.83,846.544 316.749,840.145 315.731,833.735 314.778,827.315 313.889,820.886 313.065,814.448 \n",
       "  312.305,808.002 311.609,801.55 310.978,795.09 310.412,788.625 309.91,782.154 309.473,775.678 309.1,769.199 308.793,762.716 308.55,756.23 308.373,749.742 \n",
       "  308.26,743.253 308.212,736.763 308.229,730.273 308.311,723.783 308.457,717.294 308.669,710.808 308.945,704.323 309.287,697.842 309.693,691.364 310.164,684.891 \n",
       "  310.699,678.423 311.299,671.961 311.964,665.505 312.694,659.056 313.487,652.614 314.346,646.181 315.268,639.756 316.255,633.342 317.305,626.937 318.42,620.543 \n",
       "  319.599,614.161 320.841,607.791 322.147,601.433 323.517,595.089 324.95,588.759 326.446,582.444 328.005,576.143 329.627,569.859 331.312,563.591 333.059,557.341 \n",
       "  334.869,551.108 336.741,544.894 338.676,538.698 340.672,532.523 342.729,526.367 344.848,520.233 347.029,514.12 349.27,508.029 351.572,501.961 353.935,495.916 \n",
       "  356.358,489.895 358.841,483.898 361.384,477.927 363.987,471.981 366.649,466.062 369.37,460.17 372.15,454.305 374.988,448.468 377.885,442.66 380.839,436.882 \n",
       "  383.851,431.133 386.92,425.414 390.047,419.726 393.23,414.07 396.47,408.446 399.765,402.855 403.117,397.297 406.523,391.773 409.985,386.283 413.502,380.828 \n",
       "  417.073,375.409 420.698,370.025 424.377,364.678 428.108,359.368 431.893,354.096 435.731,348.861 439.62,343.666 443.561,338.509 447.554,333.392 451.598,328.316 \n",
       "  455.692,323.28 459.836,318.285 464.03,313.332 468.274,308.421 472.566,303.553 476.907,298.728 481.296,293.946 485.732,289.209 490.215,284.516 494.746,279.869 \n",
       "  499.322,275.267 503.944,270.711 508.612,266.201 513.325,261.738 518.081,257.323 522.882,252.955 527.726,248.636 532.614,244.365 537.543,240.144 542.515,235.972 \n",
       "  547.528,231.849 552.582,227.778 557.676,223.756 562.811,219.786 567.985,215.868 573.197,212.002 578.449,208.187 583.738,204.426 589.064,200.718 594.428,197.063 \n",
       "  599.827,193.461 605.262,189.915 610.733,186.422 616.238,182.985 621.777,179.602 627.35,176.276 632.956,173.005 638.594,169.79 644.264,166.632 649.965,163.531 \n",
       "  655.697,160.487 661.46,157.5 667.252,154.571 673.072,151.7 678.922,148.888 684.799,146.134 690.703,143.439 696.634,140.804 702.591,138.227 708.573,135.711 \n",
       "  714.581,133.254 720.612,130.858 726.668,128.522 732.746,126.246 738.847,124.032 744.969,121.879 751.113,119.787 757.278,117.756 763.462,115.788 769.666,113.881 \n",
       "  775.889,112.036 782.129,110.254 788.388,108.534 794.663,106.877 800.954,105.283 807.261,103.751 813.583,102.283 819.919,100.878 826.27,99.5369 832.633,98.2591 \n",
       "  839.008,97.0449 845.396,95.8945 851.795,94.8081 858.204,93.7857 864.623,92.8275 871.051,91.9335 877.488,91.1038 883.933,90.3385 890.385,89.6378 896.844,89.0015 \n",
       "  903.309,88.4299 909.78,87.923 916.255,87.4808 922.734,87.1034 929.217,86.7908 935.702,86.543 942.19,86.3601 948.679,86.2421 955.169,86.189 957.237,86.1857 \n",
       "  \n",
       "  \"/>\n",
       "<path clip-path=\"url(#clip672)\" d=\"\n",
       "M1930.78 410.699 L1934.02 410.715 L1937.27 410.764 L1940.51 410.845 L1943.75 410.959 L1947 411.105 L1950.24 411.283 L1953.47 411.494 L1956.71 411.737 L1959.94 412.012 \n",
       "  L1963.17 412.32 L1966.4 412.66 L1969.62 413.033 L1972.84 413.437 L1976.06 413.874 L1979.27 414.343 L1982.48 414.844 L1985.68 415.377 L1988.87 415.942 L1992.06 416.539 \n",
       "  L1995.25 417.168 L1998.42 417.828 L2001.6 418.521 L2004.76 419.245 L2007.91 420 L2011.06 420.787 L2014.2 421.606 L2017.33 422.456 L2020.46 423.337 L2023.57 424.249 \n",
       "  L2026.68 425.193 L2029.77 426.167 L2032.86 427.173 L2035.93 428.209 L2039 429.276 L2042.05 430.373 L2045.09 431.501 L2048.13 432.66 L2051.15 433.848 L2054.15 435.067 \n",
       "  L2057.15 436.316 L2060.13 437.594 L2063.1 438.903 L2066.06 440.241 L2069 441.608 L2071.93 443.005 L2074.84 444.431 L2077.74 445.887 L2080.63 447.371 L2083.5 448.884 \n",
       "  L2086.36 450.425 L2089.2 451.995 L2092.02 453.593 L2094.83 455.22 L2097.62 456.874 L2100.4 458.557 L2103.15 460.267 L2105.89 462.004 L2108.62 463.769 L2111.32 465.561 \n",
       "  L2114.01 467.38 L2116.68 469.226 L2119.33 471.098 L2121.96 472.997 L2124.57 474.922 L2127.17 476.873 L2129.74 478.849 L2132.3 480.852 L2134.83 482.88 L2137.34 484.933 \n",
       "  L2139.83 487.011 L2142.31 489.114 L2144.76 491.241 L2147.18 493.393 L2149.59 495.569 L2151.98 497.77 L2154.34 499.993 L2156.68 502.241 L2159 504.511 L2161.3 506.805 \n",
       "  L2163.57 509.122 L2165.82 511.461 L2168.04 513.822 L2170.25 516.206 L2172.42 518.612 L2174.58 521.039 L2176.71 523.488 L2178.81 525.958 L2180.89 528.448 L2182.95 530.96 \n",
       "  L2184.98 533.492 L2186.98 536.044 L2188.96 538.616 L2190.91 541.207 L2192.84 543.818 L2194.74 546.448 L2196.62 549.097 L2198.46 551.765 L2200.28 554.451 L2202.08 557.155 \n",
       "  L2203.85 559.877 L2205.59 562.616 L2207.3 565.373 L2208.98 568.147 L2210.64 570.937 L2212.27 573.744 L2213.87 576.567 L2215.44 579.406 L2216.98 582.26 L2218.5 585.13 \n",
       "  L2219.99 588.014 L2221.44 590.914 L2222.87 593.828 L2224.27 596.756 L2225.64 599.697 L2226.98 602.653 L2228.29 605.621 L2229.57 608.603 L2230.82 611.597 L2232.04 614.604 \n",
       "  L2233.24 617.622 L2234.4 620.653 L2235.53 623.695 L2236.63 626.748 L2237.7 629.812 L2238.73 632.886 L2239.74 635.971 L2240.72 639.065 L2241.67 642.169 L2242.58 645.283 \n",
       "  L2243.46 648.405 L2244.32 651.537 L2245.14 654.676 L2245.93 657.824 L2246.69 660.979 L2247.41 664.142 L2248.11 667.312 L2248.77 670.488 L2249.4 673.671 L2250 676.861 \n",
       "  L2250.57 680.056 L2251.1 683.256 L2251.61 686.462 L2252.08 689.673 L2252.52 692.888 L2252.93 696.108 L2253.3 699.331 L2253.64 702.558 L2253.95 705.788 L2254.23 709.021 \n",
       "  L2254.48 712.257 L2254.69 715.495 L2254.87 718.735 L2255.02 721.977 L2255.14 725.22 L2255.22 728.464 L2255.27 731.709 L2255.29 734.954 L2255.28 738.199 L2255.23 741.444 \n",
       "  L2255.15 744.688 L2255.04 747.931 L2254.9 751.173 L2254.72 754.414 L2254.51 757.652 L2254.27 760.888 L2254 764.122 L2253.69 767.353 L2253.36 770.58 L2252.99 773.804 \n",
       "  L2252.59 777.024 L2252.15 780.24 L2251.68 783.452 L2251.19 786.658 L2250.66 789.86 L2250.09 793.056 L2249.5 796.246 L2248.87 799.43 L2248.21 802.608 L2247.52 805.779 \n",
       "  L2246.8 808.942 L2246.05 812.099 L2245.27 815.248 L2244.45 818.389 L2243.6 821.521 L2242.72 824.645 L2241.81 827.76 L2240.87 830.866 L2239.9 833.962 L2238.9 837.048 \n",
       "  L2237.86 840.124 L2236.8 843.19 L2235.7 846.245 L2234.58 849.288 L2233.42 852.32 L2232.24 855.341 L2231.02 858.35 L2229.77 861.346 L2228.5 864.329 L2227.19 867.3 \n",
       "  L2225.86 870.258 L2224.49 873.202 L2223.1 876.132 L2221.67 879.048 L2220.22 881.95 L2218.74 884.837 L2217.23 887.709 L2215.69 890.566 L2214.12 893.407 L2212.52 896.232 \n",
       "  L2210.9 899.042 L2209.25 901.835 L2207.57 904.611 L2205.86 907.37 L2204.12 910.113 L2202.36 912.837 L2200.57 915.544 L2198.76 918.233 L2196.91 920.904 L2195.04 923.556 \n",
       "  L2193.14 926.189 L2191.22 928.803 L2189.27 931.398 L2187.3 933.973 L2185.3 936.528 L2183.27 939.063 L2181.22 941.578 L2179.14 944.072 L2177.04 946.545 L2174.92 948.997 \n",
       "  L2172.77 951.428 L2170.59 953.837 L2168.4 956.224 L2166.17 958.589 L2163.93 960.932 L2161.66 963.252 L2159.37 965.55 L2157.05 967.824 L2154.72 970.075 L2152.36 972.303 \n",
       "  L2149.97 974.506 L2147.57 976.686 L2145.14 978.842 L2142.7 980.974 L2140.23 983.081 L2137.74 985.163 L2135.23 987.22 L2132.7 989.252 L2130.15 991.258 L2127.58 993.239 \n",
       "  L2124.99 995.194 L2122.38 997.123 L2119.75 999.026 L2117.1 1000.9 L2114.44 1002.75 L2111.75 1004.58 L2109.05 1006.37 L2106.33 1008.14 L2103.59 1009.88 L2100.84 1011.6 \n",
       "  L2098.06 1013.28 L2095.27 1014.94 L2092.47 1016.57 L2089.65 1018.18 L2086.81 1019.75 L2083.96 1021.3 L2081.09 1022.82 L2078.21 1024.3 L2075.31 1025.76 L2072.39 1027.19 \n",
       "  L2069.47 1028.6 L2066.53 1029.97 L2063.57 1031.31 L2060.6 1032.62 L2057.62 1033.91 L2054.63 1035.16 L2051.63 1036.38 L2048.61 1037.58 L2045.58 1038.74 L2042.54 1039.87 \n",
       "  L2039.48 1040.98 L2036.42 1042.05 L2033.35 1043.09 L2030.26 1044.1 L2027.17 1045.08 L2024.07 1046.03 L2020.95 1046.94 L2017.83 1047.83 L2014.7 1048.69 L2011.56 1049.51 \n",
       "  L2008.42 1050.3 L2005.26 1051.06 L2002.1 1051.79 L1998.93 1052.49 L1995.75 1053.15 L1992.57 1053.79 L1989.38 1054.39 L1986.19 1054.96 L1982.99 1055.5 L1979.78 1056 \n",
       "  L1976.57 1056.48 L1973.36 1056.92 L1970.14 1057.33 L1966.91 1057.71 L1963.69 1058.05 L1960.46 1058.37 L1957.23 1058.65 L1953.99 1058.89 L1950.75 1059.11 L1947.51 1059.29 \n",
       "  L1944.27 1059.45 L1941.03 1059.56 L1937.78 1059.65 L1934.54 1059.7 L1931.29 1059.73 L1928.05 1059.71 L1924.8 1059.67 L1921.56 1059.59 L1918.32 1059.49 L1915.07 1059.35 \n",
       "  L1911.83 1059.17 L1908.59 1058.97 L1905.36 1058.73 L1902.12 1058.46 L1898.89 1058.16 L1895.67 1057.82 L1892.44 1057.45 L1889.22 1057.05 L1886 1056.62 L1882.79 1056.16 \n",
       "  L1879.59 1055.66 L1876.38 1055.13 L1873.19 1054.57 L1870 1053.98 L1866.81 1053.36 L1863.63 1052.7 L1860.46 1052.02 L1857.3 1051.3 L1854.14 1050.55 L1850.99 1049.76 \n",
       "  L1847.85 1048.95 L1844.72 1048.11 L1841.59 1047.23 L1838.48 1046.32 L1835.37 1045.38 L1832.27 1044.41 L1829.19 1043.41 L1826.11 1042.38 L1823.04 1041.32 L1819.99 1040.23 \n",
       "  L1816.94 1039.11 L1813.91 1037.95 L1810.89 1036.77 L1807.88 1035.55 L1804.88 1034.31 L1801.9 1033.04 L1798.93 1031.73 L1795.97 1030.4 L1793.02 1029.04 L1790.09 1027.64 \n",
       "  L1787.17 1026.22 L1784.27 1024.77 L1781.38 1023.29 L1778.51 1021.78 L1775.65 1020.25 L1772.81 1018.68 L1769.98 1017.09 L1767.17 1015.47 L1764.38 1013.82 L1761.6 1012.14 \n",
       "  L1758.84 1010.43 L1756.09 1008.7 L1753.37 1006.94 L1750.66 1005.15 L1747.97 1003.34 L1745.3 1001.49 L1742.64 999.627 L1740.01 997.732 L1737.39 995.811 L1734.8 993.865 \n",
       "  L1732.22 991.892 L1729.66 989.894 L1727.13 987.87 L1724.61 985.821 L1722.12 983.747 L1719.64 981.648 L1717.19 979.524 L1714.75 977.376 L1712.34 975.203 L1709.95 973.007 \n",
       "  L1707.59 970.787 L1705.24 968.543 L1702.92 966.277 L1700.62 963.986 L1698.35 961.673 L1696.09 959.338 L1693.86 956.98 L1691.66 954.6 L1689.48 952.198 L1687.32 949.774 \n",
       "  L1685.18 947.328 L1683.08 944.862 L1680.99 942.375 L1678.93 939.866 L1676.9 937.338 L1674.89 934.789 L1672.91 932.22 L1670.95 929.632 L1669.02 927.024 L1667.11 924.396 \n",
       "  L1665.23 921.75 L1663.38 919.086 L1661.56 916.403 L1659.76 913.701 L1657.99 910.982 L1656.24 908.246 L1654.53 905.492 L1652.84 902.721 L1651.18 899.933 L1649.54 897.129 \n",
       "  L1647.94 894.309 L1646.36 891.472 L1644.81 888.62 L1643.29 885.753 L1641.8 882.871 L1640.34 879.974 L1638.91 877.062 L1637.5 874.136 L1636.13 871.197 L1634.78 868.244 \n",
       "  L1633.47 865.277 L1632.18 862.298 L1630.93 859.305 L1629.7 856.301 L1628.51 853.284 L1627.34 850.255 L1626.2 847.215 L1625.1 844.164 L1624.03 841.102 L1622.98 838.029 \n",
       "  L1621.97 834.946 L1620.99 831.853 L1620.04 828.75 L1619.12 825.638 L1618.23 822.517 L1617.37 819.387 L1616.54 816.249 L1615.75 813.103 L1614.99 809.949 L1614.26 806.787 \n",
       "  L1613.56 803.618 L1612.89 800.443 L1612.25 797.261 L1611.65 794.072 L1611.07 790.878 L1610.53 787.678 L1610.02 784.473 L1609.55 781.264 L1609.1 778.049 L1608.69 774.83 \n",
       "  L1608.31 771.607 L1607.96 768.381 L1607.65 765.151 L1607.36 761.918 L1607.11 758.683 L1606.89 755.445 L1606.71 752.206 L1606.55 748.964 L1606.43 745.721 L1606.34 742.477 \n",
       "  L1606.29 739.233 L1606.26 735.988 L1606.27 732.743 L1606.31 729.498 L1606.39 726.253 L1606.49 723.01 L1606.63 719.768 L1606.8 716.527 L1607 713.288 L1607.24 710.052 \n",
       "  L1607.51 706.818 L1607.81 703.587 L1608.14 700.359 L1608.51 697.134 L1608.9 693.913 L1609.33 690.697 L1609.79 687.484 L1610.29 684.277 L1610.81 681.075 L1611.37 677.878 \n",
       "  L1611.96 674.687 L1612.58 671.502 L1613.23 668.323 L1613.92 665.151 L1614.63 661.986 L1615.38 658.828 L1616.16 655.678 L1616.97 652.536 L1617.81 649.402 L1618.69 646.277 \n",
       "  L1619.59 643.16 L1620.53 640.053 L1621.5 636.955 L1622.49 633.868 L1623.52 630.79 L1624.58 627.723 L1625.67 624.666 L1626.79 621.621 L1627.94 618.586 L1629.13 615.564 \n",
       "  L1630.34 612.554 L1631.58 609.555 L1632.85 606.57 L1634.15 603.597 L1635.48 600.637 L1636.84 597.691 L1638.23 594.759 L1639.65 591.84 L1641.1 588.936 L1642.58 586.047 \n",
       "  L1644.08 583.172 L1645.62 580.313 L1647.18 577.469 L1648.77 574.641 L1650.39 571.829 L1652.04 569.034 L1653.72 566.255 L1655.42 563.493 L1657.15 560.748 L1658.91 558.02 \n",
       "  L1660.69 555.311 L1662.51 552.619 L1664.35 549.945 L1666.21 547.29 L1668.11 544.654 L1670.02 542.037 L1671.97 539.439 L1673.94 536.861 L1675.94 534.302 L1677.96 531.764 \n",
       "  L1680 529.246 L1682.08 526.749 L1684.17 524.272 L1686.3 521.817 L1688.44 519.383 L1690.61 516.97 L1692.81 514.579 L1695.02 512.211 L1697.27 509.864 L1699.53 507.541 \n",
       "  L1701.82 505.24 L1704.13 502.962 L1706.46 500.707 L1708.82 498.475 L1711.2 496.268 L1713.6 494.084 L1716.02 491.924 L1718.47 489.789 L1720.93 487.678 L1723.42 485.592 \n",
       "  L1725.92 483.531 L1728.45 481.495 L1731 479.484 L1733.56 477.499 L1736.15 475.54 L1738.76 473.607 L1741.38 471.7 L1744.03 469.819 L1746.69 467.965 L1749.37 466.137 \n",
       "  L1752.07 464.337 L1754.79 462.563 L1757.52 460.817 L1760.28 459.098 L1763.05 457.407 L1765.83 455.744 L1768.64 454.109 L1771.46 452.501 L1774.29 450.922 L1777.14 449.372 \n",
       "  L1780.01 447.849 L1782.89 446.356 L1785.78 444.892 L1788.69 443.456 L1791.62 442.05 L1794.56 440.673 L1797.51 439.326 L1800.48 438.008 L1803.45 436.72 L1806.45 435.462 \n",
       "  L1809.45 434.233 L1812.46 433.035 L1815.49 431.867 L1818.53 430.729 L1821.58 429.622 L1824.64 428.546 L1827.72 427.5 L1830.8 426.484 L1833.89 425.5 L1836.99 424.547 \n",
       "  L1840.1 423.624 L1843.22 422.733 L1846.35 421.873 L1849.49 421.045 L1852.64 420.248 L1855.79 419.482 L1858.95 418.748 L1862.12 418.045 L1865.29 417.375 L1868.47 416.736 \n",
       "  L1871.66 416.129 L1874.86 415.553 L1878.06 415.01 L1881.26 414.499 L1884.47 414.02 L1887.68 413.573 L1890.9 413.158 L1894.12 412.775 L1897.35 412.425 L1900.58 412.107 \n",
       "  L1903.81 411.821 L1907.05 411.568 L1910.29 411.347 L1913.53 411.158 L1916.77 411.002 L1920.01 410.878 L1923.25 410.786 L1926.5 410.727 L1929.74 410.701 L1930.78 410.699 \n",
       "   Z\n",
       "  \" fill=\"#ff0000\" fill-rule=\"evenodd\" fill-opacity=\"0.5\"/>\n",
       "<polyline clip-path=\"url(#clip672)\" style=\"stroke:#000000; stroke-width:4; stroke-opacity:1; fill:none\" points=\"\n",
       "  1930.78,410.699 1934.02,410.715 1937.27,410.764 1940.51,410.845 1943.75,410.959 1947,411.105 1950.24,411.283 1953.47,411.494 1956.71,411.737 1959.94,412.012 \n",
       "  1963.17,412.32 1966.4,412.66 1969.62,413.033 1972.84,413.437 1976.06,413.874 1979.27,414.343 1982.48,414.844 1985.68,415.377 1988.87,415.942 1992.06,416.539 \n",
       "  1995.25,417.168 1998.42,417.828 2001.6,418.521 2004.76,419.245 2007.91,420 2011.06,420.787 2014.2,421.606 2017.33,422.456 2020.46,423.337 2023.57,424.249 \n",
       "  2026.68,425.193 2029.77,426.167 2032.86,427.173 2035.93,428.209 2039,429.276 2042.05,430.373 2045.09,431.501 2048.13,432.66 2051.15,433.848 2054.15,435.067 \n",
       "  2057.15,436.316 2060.13,437.594 2063.1,438.903 2066.06,440.241 2069,441.608 2071.93,443.005 2074.84,444.431 2077.74,445.887 2080.63,447.371 2083.5,448.884 \n",
       "  2086.36,450.425 2089.2,451.995 2092.02,453.593 2094.83,455.22 2097.62,456.874 2100.4,458.557 2103.15,460.267 2105.89,462.004 2108.62,463.769 2111.32,465.561 \n",
       "  2114.01,467.38 2116.68,469.226 2119.33,471.098 2121.96,472.997 2124.57,474.922 2127.17,476.873 2129.74,478.849 2132.3,480.852 2134.83,482.88 2137.34,484.933 \n",
       "  2139.83,487.011 2142.31,489.114 2144.76,491.241 2147.18,493.393 2149.59,495.569 2151.98,497.77 2154.34,499.993 2156.68,502.241 2159,504.511 2161.3,506.805 \n",
       "  2163.57,509.122 2165.82,511.461 2168.04,513.822 2170.25,516.206 2172.42,518.612 2174.58,521.039 2176.71,523.488 2178.81,525.958 2180.89,528.448 2182.95,530.96 \n",
       "  2184.98,533.492 2186.98,536.044 2188.96,538.616 2190.91,541.207 2192.84,543.818 2194.74,546.448 2196.62,549.097 2198.46,551.765 2200.28,554.451 2202.08,557.155 \n",
       "  2203.85,559.877 2205.59,562.616 2207.3,565.373 2208.98,568.147 2210.64,570.937 2212.27,573.744 2213.87,576.567 2215.44,579.406 2216.98,582.26 2218.5,585.13 \n",
       "  2219.99,588.014 2221.44,590.914 2222.87,593.828 2224.27,596.756 2225.64,599.697 2226.98,602.653 2228.29,605.621 2229.57,608.603 2230.82,611.597 2232.04,614.604 \n",
       "  2233.24,617.622 2234.4,620.653 2235.53,623.695 2236.63,626.748 2237.7,629.812 2238.73,632.886 2239.74,635.971 2240.72,639.065 2241.67,642.169 2242.58,645.283 \n",
       "  2243.46,648.405 2244.32,651.537 2245.14,654.676 2245.93,657.824 2246.69,660.979 2247.41,664.142 2248.11,667.312 2248.77,670.488 2249.4,673.671 2250,676.861 \n",
       "  2250.57,680.056 2251.1,683.256 2251.61,686.462 2252.08,689.673 2252.52,692.888 2252.93,696.108 2253.3,699.331 2253.64,702.558 2253.95,705.788 2254.23,709.021 \n",
       "  2254.48,712.257 2254.69,715.495 2254.87,718.735 2255.02,721.977 2255.14,725.22 2255.22,728.464 2255.27,731.709 2255.29,734.954 2255.28,738.199 2255.23,741.444 \n",
       "  2255.15,744.688 2255.04,747.931 2254.9,751.173 2254.72,754.414 2254.51,757.652 2254.27,760.888 2254,764.122 2253.69,767.353 2253.36,770.58 2252.99,773.804 \n",
       "  2252.59,777.024 2252.15,780.24 2251.68,783.452 2251.19,786.658 2250.66,789.86 2250.09,793.056 2249.5,796.246 2248.87,799.43 2248.21,802.608 2247.52,805.779 \n",
       "  2246.8,808.942 2246.05,812.099 2245.27,815.248 2244.45,818.389 2243.6,821.521 2242.72,824.645 2241.81,827.76 2240.87,830.866 2239.9,833.962 2238.9,837.048 \n",
       "  2237.86,840.124 2236.8,843.19 2235.7,846.245 2234.58,849.288 2233.42,852.32 2232.24,855.341 2231.02,858.35 2229.77,861.346 2228.5,864.329 2227.19,867.3 \n",
       "  2225.86,870.258 2224.49,873.202 2223.1,876.132 2221.67,879.048 2220.22,881.95 2218.74,884.837 2217.23,887.709 2215.69,890.566 2214.12,893.407 2212.52,896.232 \n",
       "  2210.9,899.042 2209.25,901.835 2207.57,904.611 2205.86,907.37 2204.12,910.113 2202.36,912.837 2200.57,915.544 2198.76,918.233 2196.91,920.904 2195.04,923.556 \n",
       "  2193.14,926.189 2191.22,928.803 2189.27,931.398 2187.3,933.973 2185.3,936.528 2183.27,939.063 2181.22,941.578 2179.14,944.072 2177.04,946.545 2174.92,948.997 \n",
       "  2172.77,951.428 2170.59,953.837 2168.4,956.224 2166.17,958.589 2163.93,960.932 2161.66,963.252 2159.37,965.55 2157.05,967.824 2154.72,970.075 2152.36,972.303 \n",
       "  2149.97,974.506 2147.57,976.686 2145.14,978.842 2142.7,980.974 2140.23,983.081 2137.74,985.163 2135.23,987.22 2132.7,989.252 2130.15,991.258 2127.58,993.239 \n",
       "  2124.99,995.194 2122.38,997.123 2119.75,999.026 2117.1,1000.9 2114.44,1002.75 2111.75,1004.58 2109.05,1006.37 2106.33,1008.14 2103.59,1009.88 2100.84,1011.6 \n",
       "  2098.06,1013.28 2095.27,1014.94 2092.47,1016.57 2089.65,1018.18 2086.81,1019.75 2083.96,1021.3 2081.09,1022.82 2078.21,1024.3 2075.31,1025.76 2072.39,1027.19 \n",
       "  2069.47,1028.6 2066.53,1029.97 2063.57,1031.31 2060.6,1032.62 2057.62,1033.91 2054.63,1035.16 2051.63,1036.38 2048.61,1037.58 2045.58,1038.74 2042.54,1039.87 \n",
       "  2039.48,1040.98 2036.42,1042.05 2033.35,1043.09 2030.26,1044.1 2027.17,1045.08 2024.07,1046.03 2020.95,1046.94 2017.83,1047.83 2014.7,1048.69 2011.56,1049.51 \n",
       "  2008.42,1050.3 2005.26,1051.06 2002.1,1051.79 1998.93,1052.49 1995.75,1053.15 1992.57,1053.79 1989.38,1054.39 1986.19,1054.96 1982.99,1055.5 1979.78,1056 \n",
       "  1976.57,1056.48 1973.36,1056.92 1970.14,1057.33 1966.91,1057.71 1963.69,1058.05 1960.46,1058.37 1957.23,1058.65 1953.99,1058.89 1950.75,1059.11 1947.51,1059.29 \n",
       "  1944.27,1059.45 1941.03,1059.56 1937.78,1059.65 1934.54,1059.7 1931.29,1059.73 1928.05,1059.71 1924.8,1059.67 1921.56,1059.59 1918.32,1059.49 1915.07,1059.35 \n",
       "  1911.83,1059.17 1908.59,1058.97 1905.36,1058.73 1902.12,1058.46 1898.89,1058.16 1895.67,1057.82 1892.44,1057.45 1889.22,1057.05 1886,1056.62 1882.79,1056.16 \n",
       "  1879.59,1055.66 1876.38,1055.13 1873.19,1054.57 1870,1053.98 1866.81,1053.36 1863.63,1052.7 1860.46,1052.02 1857.3,1051.3 1854.14,1050.55 1850.99,1049.76 \n",
       "  1847.85,1048.95 1844.72,1048.11 1841.59,1047.23 1838.48,1046.32 1835.37,1045.38 1832.27,1044.41 1829.19,1043.41 1826.11,1042.38 1823.04,1041.32 1819.99,1040.23 \n",
       "  1816.94,1039.11 1813.91,1037.95 1810.89,1036.77 1807.88,1035.55 1804.88,1034.31 1801.9,1033.04 1798.93,1031.73 1795.97,1030.4 1793.02,1029.04 1790.09,1027.64 \n",
       "  1787.17,1026.22 1784.27,1024.77 1781.38,1023.29 1778.51,1021.78 1775.65,1020.25 1772.81,1018.68 1769.98,1017.09 1767.17,1015.47 1764.38,1013.82 1761.6,1012.14 \n",
       "  1758.84,1010.43 1756.09,1008.7 1753.37,1006.94 1750.66,1005.15 1747.97,1003.34 1745.3,1001.49 1742.64,999.627 1740.01,997.732 1737.39,995.811 1734.8,993.865 \n",
       "  1732.22,991.892 1729.66,989.894 1727.13,987.87 1724.61,985.821 1722.12,983.747 1719.64,981.648 1717.19,979.524 1714.75,977.376 1712.34,975.203 1709.95,973.007 \n",
       "  1707.59,970.787 1705.24,968.543 1702.92,966.277 1700.62,963.986 1698.35,961.673 1696.09,959.338 1693.86,956.98 1691.66,954.6 1689.48,952.198 1687.32,949.774 \n",
       "  1685.18,947.328 1683.08,944.862 1680.99,942.375 1678.93,939.866 1676.9,937.338 1674.89,934.789 1672.91,932.22 1670.95,929.632 1669.02,927.024 1667.11,924.396 \n",
       "  1665.23,921.75 1663.38,919.086 1661.56,916.403 1659.76,913.701 1657.99,910.982 1656.24,908.246 1654.53,905.492 1652.84,902.721 1651.18,899.933 1649.54,897.129 \n",
       "  1647.94,894.309 1646.36,891.472 1644.81,888.62 1643.29,885.753 1641.8,882.871 1640.34,879.974 1638.91,877.062 1637.5,874.136 1636.13,871.197 1634.78,868.244 \n",
       "  1633.47,865.277 1632.18,862.298 1630.93,859.305 1629.7,856.301 1628.51,853.284 1627.34,850.255 1626.2,847.215 1625.1,844.164 1624.03,841.102 1622.98,838.029 \n",
       "  1621.97,834.946 1620.99,831.853 1620.04,828.75 1619.12,825.638 1618.23,822.517 1617.37,819.387 1616.54,816.249 1615.75,813.103 1614.99,809.949 1614.26,806.787 \n",
       "  1613.56,803.618 1612.89,800.443 1612.25,797.261 1611.65,794.072 1611.07,790.878 1610.53,787.678 1610.02,784.473 1609.55,781.264 1609.1,778.049 1608.69,774.83 \n",
       "  1608.31,771.607 1607.96,768.381 1607.65,765.151 1607.36,761.918 1607.11,758.683 1606.89,755.445 1606.71,752.206 1606.55,748.964 1606.43,745.721 1606.34,742.477 \n",
       "  1606.29,739.233 1606.26,735.988 1606.27,732.743 1606.31,729.498 1606.39,726.253 1606.49,723.01 1606.63,719.768 1606.8,716.527 1607,713.288 1607.24,710.052 \n",
       "  1607.51,706.818 1607.81,703.587 1608.14,700.359 1608.51,697.134 1608.9,693.913 1609.33,690.697 1609.79,687.484 1610.29,684.277 1610.81,681.075 1611.37,677.878 \n",
       "  1611.96,674.687 1612.58,671.502 1613.23,668.323 1613.92,665.151 1614.63,661.986 1615.38,658.828 1616.16,655.678 1616.97,652.536 1617.81,649.402 1618.69,646.277 \n",
       "  1619.59,643.16 1620.53,640.053 1621.5,636.955 1622.49,633.868 1623.52,630.79 1624.58,627.723 1625.67,624.666 1626.79,621.621 1627.94,618.586 1629.13,615.564 \n",
       "  1630.34,612.554 1631.58,609.555 1632.85,606.57 1634.15,603.597 1635.48,600.637 1636.84,597.691 1638.23,594.759 1639.65,591.84 1641.1,588.936 1642.58,586.047 \n",
       "  1644.08,583.172 1645.62,580.313 1647.18,577.469 1648.77,574.641 1650.39,571.829 1652.04,569.034 1653.72,566.255 1655.42,563.493 1657.15,560.748 1658.91,558.02 \n",
       "  1660.69,555.311 1662.51,552.619 1664.35,549.945 1666.21,547.29 1668.11,544.654 1670.02,542.037 1671.97,539.439 1673.94,536.861 1675.94,534.302 1677.96,531.764 \n",
       "  1680,529.246 1682.08,526.749 1684.17,524.272 1686.3,521.817 1688.44,519.383 1690.61,516.97 1692.81,514.579 1695.02,512.211 1697.27,509.864 1699.53,507.541 \n",
       "  1701.82,505.24 1704.13,502.962 1706.46,500.707 1708.82,498.475 1711.2,496.268 1713.6,494.084 1716.02,491.924 1718.47,489.789 1720.93,487.678 1723.42,485.592 \n",
       "  1725.92,483.531 1728.45,481.495 1731,479.484 1733.56,477.499 1736.15,475.54 1738.76,473.607 1741.38,471.7 1744.03,469.819 1746.69,467.965 1749.37,466.137 \n",
       "  1752.07,464.337 1754.79,462.563 1757.52,460.817 1760.28,459.098 1763.05,457.407 1765.83,455.744 1768.64,454.109 1771.46,452.501 1774.29,450.922 1777.14,449.372 \n",
       "  1780.01,447.849 1782.89,446.356 1785.78,444.892 1788.69,443.456 1791.62,442.05 1794.56,440.673 1797.51,439.326 1800.48,438.008 1803.45,436.72 1806.45,435.462 \n",
       "  1809.45,434.233 1812.46,433.035 1815.49,431.867 1818.53,430.729 1821.58,429.622 1824.64,428.546 1827.72,427.5 1830.8,426.484 1833.89,425.5 1836.99,424.547 \n",
       "  1840.1,423.624 1843.22,422.733 1846.35,421.873 1849.49,421.045 1852.64,420.248 1855.79,419.482 1858.95,418.748 1862.12,418.045 1865.29,417.375 1868.47,416.736 \n",
       "  1871.66,416.129 1874.86,415.553 1878.06,415.01 1881.26,414.499 1884.47,414.02 1887.68,413.573 1890.9,413.158 1894.12,412.775 1897.35,412.425 1900.58,412.107 \n",
       "  1903.81,411.821 1907.05,411.568 1910.29,411.347 1913.53,411.158 1916.77,411.002 1920.01,410.878 1923.25,410.786 1926.5,410.727 1929.74,410.701 1930.78,410.699 \n",
       "  \n",
       "  \"/>\n",
       "<circle clip-path=\"url(#clip672)\" cx=\"1606.26\" cy=\"735.212\" r=\"14\" fill=\"#0000ff\" fill-rule=\"evenodd\" fill-opacity=\"1\" stroke=\"#000000\" stroke-opacity=\"1\" stroke-width=\"3.2\"/>\n",
       "<circle clip-path=\"url(#clip672)\" cx=\"1281.75\" cy=\"735.212\" r=\"14\" fill=\"#0000ff\" fill-rule=\"evenodd\" fill-opacity=\"1\" stroke=\"#000000\" stroke-opacity=\"1\" stroke-width=\"3.2\"/>\n",
       "<path clip-path=\"url(#clip670)\" d=\"\n",
       "M1508.15 274.549 L2281.36 274.549 L2281.36 93.1086 L1508.15 93.1086  Z\n",
       "  \" fill=\"#ffffff\" fill-rule=\"evenodd\" fill-opacity=\"1\"/>\n",
       "<polyline clip-path=\"url(#clip670)\" style=\"stroke:#000000; stroke-width:4; stroke-opacity:1; fill:none\" points=\"\n",
       "  1508.15,274.549 2281.36,274.549 2281.36,93.1086 1508.15,93.1086 1508.15,274.549 \n",
       "  \"/>\n",
       "<path clip-path=\"url(#clip670)\" d=\"\n",
       "M1531.95 177.781 L1674.75 177.781 L1674.75 129.397 L1531.95 129.397 L1531.95 177.781  Z\n",
       "  \" fill=\"#ff0000\" fill-rule=\"evenodd\" fill-opacity=\"0.5\"/>\n",
       "<polyline clip-path=\"url(#clip670)\" style=\"stroke:#000000; stroke-width:4; stroke-opacity:1; fill:none\" points=\"\n",
       "  1531.95,177.781 1674.75,177.781 1674.75,129.397 1531.95,129.397 1531.95,177.781 \n",
       "  \"/>\n",
       "<path clip-path=\"url(#clip670)\" d=\"M 0 0 M1724.11 165.938 L1724.11 156.656 L1716.47 156.656 L1716.47 152.813 L1728.73 152.813 L1728.73 167.651 Q1726.03 169.572 1722.76 170.568 Q1719.5 171.54 1715.8 171.54 Q1707.69 171.54 1703.11 166.818 Q1698.55 162.072 1698.55 153.623 Q1698.55 145.151 1703.11 140.429 Q1707.69 135.684 1715.8 135.684 Q1719.17 135.684 1722.21 136.517 Q1725.26 137.35 1727.83 138.971 L1727.83 143.947 Q1725.24 141.748 1722.32 140.637 Q1719.41 139.526 1716.19 139.526 Q1709.85 139.526 1706.65 143.068 Q1703.48 146.609 1703.48 153.623 Q1703.48 160.614 1706.65 164.156 Q1709.85 167.697 1716.19 167.697 Q1718.67 167.697 1720.61 167.281 Q1722.55 166.841 1724.11 165.938 Z\" fill=\"#000000\" fill-rule=\"evenodd\" fill-opacity=\"1\" /><path clip-path=\"url(#clip670)\" d=\"M 0 0 M1759.27 156.841 L1759.27 158.924 L1739.68 158.924 Q1739.96 163.322 1742.32 165.637 Q1744.71 167.929 1748.94 167.929 Q1751.4 167.929 1753.69 167.327 Q1756 166.725 1758.27 165.521 L1758.27 169.549 Q1755.98 170.521 1753.57 171.031 Q1751.17 171.54 1748.69 171.54 Q1742.48 171.54 1738.85 167.929 Q1735.24 164.318 1735.24 158.16 Q1735.24 151.795 1738.67 148.068 Q1742.11 144.318 1747.95 144.318 Q1753.18 144.318 1756.21 147.697 Q1759.27 151.054 1759.27 156.841 M1755.01 155.591 Q1754.96 152.096 1753.04 150.012 Q1751.14 147.929 1747.99 147.929 Q1744.43 147.929 1742.28 149.943 Q1740.15 151.957 1739.82 155.614 L1755.01 155.591 Z\" fill=\"#000000\" fill-rule=\"evenodd\" fill-opacity=\"1\" /><path clip-path=\"url(#clip670)\" d=\"M 0 0 M1781.28 148.924 Q1780.56 148.508 1779.71 148.322 Q1778.87 148.114 1777.86 148.114 Q1774.24 148.114 1772.3 150.475 Q1770.38 152.813 1770.38 157.211 L1770.38 170.869 L1766.1 170.869 L1766.1 144.943 L1770.38 144.943 L1770.38 148.971 Q1771.72 146.609 1773.87 145.475 Q1776.03 144.318 1779.11 144.318 Q1779.54 144.318 1780.08 144.387 Q1780.61 144.434 1781.26 144.549 L1781.28 148.924 Z\" fill=\"#000000\" fill-rule=\"evenodd\" fill-opacity=\"1\" /><path clip-path=\"url(#clip670)\" d=\"M 0 0 M1802.28 145.707 L1802.28 149.734 Q1800.47 148.809 1798.53 148.346 Q1796.58 147.883 1794.5 147.883 Q1791.33 147.883 1789.73 148.855 Q1788.16 149.827 1788.16 151.771 Q1788.16 153.253 1789.29 154.109 Q1790.42 154.943 1793.85 155.707 L1795.31 156.031 Q1799.85 157.003 1801.74 158.785 Q1803.67 160.545 1803.67 163.716 Q1803.67 167.327 1800.79 169.433 Q1797.95 171.54 1792.95 171.54 Q1790.86 171.54 1788.6 171.123 Q1786.35 170.73 1783.85 169.92 L1783.85 165.521 Q1786.21 166.748 1788.5 167.373 Q1790.79 167.975 1793.04 167.975 Q1796.05 167.975 1797.67 166.957 Q1799.29 165.915 1799.29 164.04 Q1799.29 162.304 1798.11 161.378 Q1796.95 160.452 1792.99 159.596 L1791.51 159.248 Q1787.55 158.415 1785.79 156.702 Q1784.04 154.966 1784.04 151.957 Q1784.04 148.299 1786.63 146.309 Q1789.22 144.318 1793.99 144.318 Q1796.35 144.318 1798.43 144.665 Q1800.52 145.012 1802.28 145.707 Z\" fill=\"#000000\" fill-rule=\"evenodd\" fill-opacity=\"1\" /><path clip-path=\"url(#clip670)\" d=\"M 0 0 M1832 155.221 L1832 170.869 L1827.74 170.869 L1827.74 155.359 Q1827.74 151.679 1826.3 149.85 Q1824.87 148.022 1822 148.022 Q1818.55 148.022 1816.56 150.221 Q1814.57 152.42 1814.57 156.216 L1814.57 170.869 L1810.29 170.869 L1810.29 134.85 L1814.57 134.85 L1814.57 148.971 Q1816.1 146.633 1818.16 145.475 Q1820.24 144.318 1822.95 144.318 Q1827.41 144.318 1829.71 147.096 Q1832 149.85 1832 155.221 Z\" fill=\"#000000\" fill-rule=\"evenodd\" fill-opacity=\"1\" /><path clip-path=\"url(#clip670)\" d=\"M 0 0 M1857.55 157.605 Q1857.55 152.975 1855.63 150.429 Q1853.73 147.883 1850.29 147.883 Q1846.86 147.883 1844.94 150.429 Q1843.04 152.975 1843.04 157.605 Q1843.04 162.211 1844.94 164.758 Q1846.86 167.304 1850.29 167.304 Q1853.73 167.304 1855.63 164.758 Q1857.55 162.211 1857.55 157.605 M1861.81 167.651 Q1861.81 174.271 1858.87 177.489 Q1855.93 180.73 1849.87 180.73 Q1847.62 180.73 1845.63 180.382 Q1843.64 180.058 1841.77 179.364 L1841.77 175.22 Q1843.64 176.239 1845.47 176.725 Q1847.3 177.211 1849.2 177.211 Q1853.39 177.211 1855.47 175.012 Q1857.55 172.836 1857.55 168.415 L1857.55 166.308 Q1856.23 168.6 1854.17 169.734 Q1852.11 170.869 1849.24 170.869 Q1844.48 170.869 1841.56 167.234 Q1838.64 163.6 1838.64 157.605 Q1838.64 151.586 1841.56 147.952 Q1844.48 144.318 1849.24 144.318 Q1852.11 144.318 1854.17 145.452 Q1856.23 146.586 1857.55 148.878 L1857.55 144.943 L1861.81 144.943 L1861.81 167.651 Z\" fill=\"#000000\" fill-rule=\"evenodd\" fill-opacity=\"1\" /><path clip-path=\"url(#clip670)\" d=\"M 0 0 M1880.63 147.929 Q1877.21 147.929 1875.22 150.614 Q1873.22 153.276 1873.22 157.929 Q1873.22 162.582 1875.19 165.267 Q1877.18 167.929 1880.63 167.929 Q1884.04 167.929 1886.03 165.244 Q1888.02 162.558 1888.02 157.929 Q1888.02 153.322 1886.03 150.637 Q1884.04 147.929 1880.63 147.929 M1880.63 144.318 Q1886.19 144.318 1889.36 147.929 Q1892.53 151.54 1892.53 157.929 Q1892.53 164.295 1889.36 167.929 Q1886.19 171.54 1880.63 171.54 Q1875.05 171.54 1871.88 167.929 Q1868.73 164.295 1868.73 157.929 Q1868.73 151.54 1871.88 147.929 Q1875.05 144.318 1880.63 144.318 Z\" fill=\"#000000\" fill-rule=\"evenodd\" fill-opacity=\"1\" /><path clip-path=\"url(#clip670)\" d=\"M 0 0 M1914.61 148.924 Q1913.9 148.508 1913.04 148.322 Q1912.21 148.114 1911.19 148.114 Q1907.58 148.114 1905.63 150.475 Q1903.71 152.813 1903.71 157.211 L1903.71 170.869 L1899.43 170.869 L1899.43 144.943 L1903.71 144.943 L1903.71 148.971 Q1905.05 146.609 1907.21 145.475 Q1909.36 144.318 1912.44 144.318 Q1912.88 144.318 1913.41 144.387 Q1913.94 144.434 1914.59 144.549 L1914.61 148.924 Z\" fill=\"#000000\" fill-rule=\"evenodd\" fill-opacity=\"1\" /><path clip-path=\"url(#clip670)\" d=\"M 0 0 M1919.08 144.943 L1923.34 144.943 L1923.34 170.869 L1919.08 170.869 L1919.08 144.943 M1919.08 134.85 L1923.34 134.85 L1923.34 140.244 L1919.08 140.244 L1919.08 134.85 Z\" fill=\"#000000\" fill-rule=\"evenodd\" fill-opacity=\"1\" /><path clip-path=\"url(#clip670)\" d=\"M 0 0 M1953.8 155.221 L1953.8 170.869 L1949.54 170.869 L1949.54 155.359 Q1949.54 151.679 1948.11 149.85 Q1946.67 148.022 1943.8 148.022 Q1940.35 148.022 1938.36 150.221 Q1936.37 152.42 1936.37 156.216 L1936.37 170.869 L1932.09 170.869 L1932.09 144.943 L1936.37 144.943 L1936.37 148.971 Q1937.9 146.633 1939.96 145.475 Q1942.04 144.318 1944.75 144.318 Q1949.22 144.318 1951.51 147.096 Q1953.8 149.85 1953.8 155.221 Z\" fill=\"#000000\" fill-rule=\"evenodd\" fill-opacity=\"1\" /><path clip-path=\"url(#clip670)\" d=\"M 0 0 M1995.98 157.929 Q1995.98 153.23 1994.03 150.568 Q1992.11 147.883 1988.73 147.883 Q1985.35 147.883 1983.41 150.568 Q1981.49 153.23 1981.49 157.929 Q1981.49 162.628 1983.41 165.313 Q1985.35 167.975 1988.73 167.975 Q1992.11 167.975 1994.03 165.313 Q1995.98 162.628 1995.98 157.929 M1981.49 148.878 Q1982.83 146.563 1984.87 145.452 Q1986.93 144.318 1989.78 144.318 Q1994.5 144.318 1997.44 148.068 Q2000.4 151.818 2000.4 157.929 Q2000.4 164.04 1997.44 167.79 Q1994.5 171.54 1989.78 171.54 Q1986.93 171.54 1984.87 170.429 Q1982.83 169.295 1981.49 166.98 L1981.49 170.869 L1977.21 170.869 L1977.21 134.85 L1981.49 134.85 L1981.49 148.878 Z\" fill=\"#000000\" fill-rule=\"evenodd\" fill-opacity=\"1\" /><path clip-path=\"url(#clip670)\" d=\"M 0 0 M2017.51 147.929 Q2014.08 147.929 2012.09 150.614 Q2010.1 153.276 2010.1 157.929 Q2010.1 162.582 2012.07 165.267 Q2014.06 167.929 2017.51 167.929 Q2020.91 167.929 2022.9 165.244 Q2024.89 162.558 2024.89 157.929 Q2024.89 153.322 2022.9 150.637 Q2020.91 147.929 2017.51 147.929 M2017.51 144.318 Q2023.06 144.318 2026.23 147.929 Q2029.4 151.54 2029.4 157.929 Q2029.4 164.295 2026.23 167.929 Q2023.06 171.54 2017.51 171.54 Q2011.93 171.54 2008.76 167.929 Q2005.61 164.295 2005.61 157.929 Q2005.61 151.54 2008.76 147.929 Q2011.93 144.318 2017.51 144.318 Z\" fill=\"#000000\" fill-rule=\"evenodd\" fill-opacity=\"1\" /><path clip-path=\"url(#clip670)\" d=\"M 0 0 M2036.02 160.637 L2036.02 144.943 L2040.28 144.943 L2040.28 160.475 Q2040.28 164.156 2041.72 166.008 Q2043.15 167.836 2046.02 167.836 Q2049.47 167.836 2051.46 165.637 Q2053.48 163.438 2053.48 159.642 L2053.48 144.943 L2057.74 144.943 L2057.74 170.869 L2053.48 170.869 L2053.48 166.887 Q2051.93 169.248 2049.87 170.406 Q2047.83 171.54 2045.12 171.54 Q2040.65 171.54 2038.34 168.762 Q2036.02 165.984 2036.02 160.637 M2046.74 144.318 L2046.74 144.318 Z\" fill=\"#000000\" fill-rule=\"evenodd\" fill-opacity=\"1\" /><path clip-path=\"url(#clip670)\" d=\"M 0 0 M2088.06 155.221 L2088.06 170.869 L2083.8 170.869 L2083.8 155.359 Q2083.8 151.679 2082.37 149.85 Q2080.93 148.022 2078.06 148.022 Q2074.61 148.022 2072.62 150.221 Q2070.63 152.42 2070.63 156.216 L2070.63 170.869 L2066.35 170.869 L2066.35 144.943 L2070.63 144.943 L2070.63 148.971 Q2072.16 146.633 2074.22 145.475 Q2076.3 144.318 2079.01 144.318 Q2083.48 144.318 2085.77 147.096 Q2088.06 149.85 2088.06 155.221 Z\" fill=\"#000000\" fill-rule=\"evenodd\" fill-opacity=\"1\" /><path clip-path=\"url(#clip670)\" d=\"M 0 0 M2113.62 148.878 L2113.62 134.85 L2117.88 134.85 L2117.88 170.869 L2113.62 170.869 L2113.62 166.98 Q2112.27 169.295 2110.21 170.429 Q2108.18 171.54 2105.31 171.54 Q2100.61 171.54 2097.64 167.79 Q2094.71 164.04 2094.71 157.929 Q2094.71 151.818 2097.64 148.068 Q2100.61 144.318 2105.31 144.318 Q2108.18 144.318 2110.21 145.452 Q2112.27 146.563 2113.62 148.878 M2099.1 157.929 Q2099.1 162.628 2101.02 165.313 Q2102.97 167.975 2106.35 167.975 Q2109.73 167.975 2111.67 165.313 Q2113.62 162.628 2113.62 157.929 Q2113.62 153.23 2111.67 150.568 Q2109.73 147.883 2106.35 147.883 Q2102.97 147.883 2101.02 150.568 Q2099.1 153.23 2099.1 157.929 Z\" fill=\"#000000\" fill-rule=\"evenodd\" fill-opacity=\"1\" /><path clip-path=\"url(#clip670)\" d=\"M 0 0 M2143.18 145.707 L2143.18 149.734 Q2141.37 148.809 2139.43 148.346 Q2137.48 147.883 2135.4 147.883 Q2132.23 147.883 2130.63 148.855 Q2129.06 149.827 2129.06 151.771 Q2129.06 153.253 2130.19 154.109 Q2131.33 154.943 2134.75 155.707 L2136.21 156.031 Q2140.75 157.003 2142.64 158.785 Q2144.57 160.545 2144.57 163.716 Q2144.57 167.327 2141.7 169.433 Q2138.85 171.54 2133.85 171.54 Q2131.77 171.54 2129.5 171.123 Q2127.25 170.73 2124.75 169.92 L2124.75 165.521 Q2127.11 166.748 2129.4 167.373 Q2131.7 167.975 2133.94 167.975 Q2136.95 167.975 2138.57 166.957 Q2140.19 165.915 2140.19 164.04 Q2140.19 162.304 2139.01 161.378 Q2137.85 160.452 2133.89 159.596 L2132.41 159.248 Q2128.45 158.415 2126.7 156.702 Q2124.94 154.966 2124.94 151.957 Q2124.94 148.299 2127.53 146.309 Q2130.12 144.318 2134.89 144.318 Q2137.25 144.318 2139.33 144.665 Q2141.42 145.012 2143.18 145.707 Z\" fill=\"#000000\" fill-rule=\"evenodd\" fill-opacity=\"1\" /><circle clip-path=\"url(#clip670)\" cx=\"1603.35\" cy=\"214.069\" r=\"23\" fill=\"#0000ff\" fill-rule=\"evenodd\" fill-opacity=\"1\" stroke=\"#000000\" stroke-opacity=\"1\" stroke-width=\"5.12\"/>\n",
       "<path clip-path=\"url(#clip670)\" d=\"M 0 0 M1719.06 206.418 L1719.06 210.4 Q1717.25 209.404 1715.42 208.918 Q1713.62 208.409 1711.77 208.409 Q1707.62 208.409 1705.33 211.048 Q1703.04 213.664 1703.04 218.409 Q1703.04 223.154 1705.33 225.793 Q1707.62 228.409 1711.77 228.409 Q1713.62 228.409 1715.42 227.923 Q1717.25 227.413 1719.06 226.418 L1719.06 230.353 Q1717.28 231.187 1715.36 231.603 Q1713.46 232.02 1711.3 232.02 Q1705.45 232.02 1702 228.339 Q1698.55 224.659 1698.55 218.409 Q1698.55 212.066 1702.02 208.432 Q1705.52 204.798 1711.58 204.798 Q1713.55 204.798 1715.42 205.215 Q1717.3 205.608 1719.06 206.418 Z\" fill=\"#000000\" fill-rule=\"evenodd\" fill-opacity=\"1\" /><path clip-path=\"url(#clip670)\" d=\"M 0 0 M1736.51 208.409 Q1733.09 208.409 1731.1 211.094 Q1729.11 213.756 1729.11 218.409 Q1729.11 223.062 1731.07 225.747 Q1733.06 228.409 1736.51 228.409 Q1739.92 228.409 1741.91 225.724 Q1743.9 223.038 1743.9 218.409 Q1743.9 213.802 1741.91 211.117 Q1739.92 208.409 1736.51 208.409 M1736.51 204.798 Q1742.07 204.798 1745.24 208.409 Q1748.41 212.02 1748.41 218.409 Q1748.41 224.775 1745.24 228.409 Q1742.07 232.02 1736.51 232.02 Q1730.93 232.02 1727.76 228.409 Q1724.61 224.775 1724.61 218.409 Q1724.61 212.02 1727.76 208.409 Q1730.93 204.798 1736.51 204.798 Z\" fill=\"#000000\" fill-rule=\"evenodd\" fill-opacity=\"1\" /><path clip-path=\"url(#clip670)\" d=\"M 0 0 M1775.66 210.4 Q1777.25 207.529 1779.48 206.164 Q1781.7 204.798 1784.71 204.798 Q1788.76 204.798 1790.96 207.645 Q1793.16 210.469 1793.16 215.701 L1793.16 231.349 L1788.87 231.349 L1788.87 215.839 Q1788.87 212.113 1787.55 210.307 Q1786.23 208.502 1783.53 208.502 Q1780.22 208.502 1778.29 210.701 Q1776.37 212.9 1776.37 216.696 L1776.37 231.349 L1772.09 231.349 L1772.09 215.839 Q1772.09 212.089 1770.77 210.307 Q1769.45 208.502 1766.7 208.502 Q1763.43 208.502 1761.51 210.724 Q1759.59 212.923 1759.59 216.696 L1759.59 231.349 L1755.31 231.349 L1755.31 205.423 L1759.59 205.423 L1759.59 209.451 Q1761.05 207.066 1763.09 205.932 Q1765.12 204.798 1767.92 204.798 Q1770.75 204.798 1772.72 206.233 Q1774.71 207.668 1775.66 210.4 Z\" fill=\"#000000\" fill-rule=\"evenodd\" fill-opacity=\"1\" /><path clip-path=\"url(#clip670)\" d=\"M 0 0 M1805.77 227.46 L1805.77 241.21 L1801.49 241.21 L1801.49 205.423 L1805.77 205.423 L1805.77 209.358 Q1807.11 207.043 1809.15 205.932 Q1811.21 204.798 1814.06 204.798 Q1818.78 204.798 1821.72 208.548 Q1824.68 212.298 1824.68 218.409 Q1824.68 224.52 1821.72 228.27 Q1818.78 232.02 1814.06 232.02 Q1811.21 232.02 1809.15 230.909 Q1807.11 229.775 1805.77 227.46 M1820.26 218.409 Q1820.26 213.71 1818.32 211.048 Q1816.4 208.363 1813.02 208.363 Q1809.64 208.363 1807.69 211.048 Q1805.77 213.71 1805.77 218.409 Q1805.77 223.108 1807.69 225.793 Q1809.64 228.455 1813.02 228.455 Q1816.4 228.455 1818.32 225.793 Q1820.26 223.108 1820.26 218.409 Z\" fill=\"#000000\" fill-rule=\"evenodd\" fill-opacity=\"1\" /><path clip-path=\"url(#clip670)\" d=\"M 0 0 M1831.3 221.117 L1831.3 205.423 L1835.56 205.423 L1835.56 220.955 Q1835.56 224.636 1837 226.488 Q1838.43 228.316 1841.3 228.316 Q1844.75 228.316 1846.74 226.117 Q1848.76 223.918 1848.76 220.122 L1848.76 205.423 L1853.02 205.423 L1853.02 231.349 L1848.76 231.349 L1848.76 227.367 Q1847.21 229.728 1845.15 230.886 Q1843.11 232.02 1840.4 232.02 Q1835.93 232.02 1833.62 229.242 Q1831.3 226.464 1831.3 221.117 M1842.02 204.798 L1842.02 204.798 Z\" fill=\"#000000\" fill-rule=\"evenodd\" fill-opacity=\"1\" /><path clip-path=\"url(#clip670)\" d=\"M 0 0 M1866 198.062 L1866 205.423 L1874.78 205.423 L1874.78 208.733 L1866 208.733 L1866 222.807 Q1866 225.978 1866.86 226.881 Q1867.74 227.784 1870.4 227.784 L1874.78 227.784 L1874.78 231.349 L1870.4 231.349 Q1865.47 231.349 1863.6 229.52 Q1861.72 227.668 1861.72 222.807 L1861.72 208.733 L1858.6 208.733 L1858.6 205.423 L1861.72 205.423 L1861.72 198.062 L1866 198.062 Z\" fill=\"#000000\" fill-rule=\"evenodd\" fill-opacity=\"1\" /><path clip-path=\"url(#clip670)\" d=\"M 0 0 M1902.55 217.321 L1902.55 219.404 L1882.97 219.404 Q1883.25 223.802 1885.61 226.117 Q1887.99 228.409 1892.23 228.409 Q1894.68 228.409 1896.97 227.807 Q1899.29 227.205 1901.56 226.001 L1901.56 230.029 Q1899.27 231.001 1896.86 231.511 Q1894.45 232.02 1891.97 232.02 Q1885.77 232.02 1882.14 228.409 Q1878.53 224.798 1878.53 218.64 Q1878.53 212.275 1881.95 208.548 Q1885.4 204.798 1891.23 204.798 Q1896.47 204.798 1899.5 208.177 Q1902.55 211.534 1902.55 217.321 M1898.29 216.071 Q1898.25 212.576 1896.33 210.492 Q1894.43 208.409 1891.28 208.409 Q1887.72 208.409 1885.56 210.423 Q1883.43 212.437 1883.11 216.094 L1898.29 216.071 Z\" fill=\"#000000\" fill-rule=\"evenodd\" fill-opacity=\"1\" /><path clip-path=\"url(#clip670)\" d=\"M 0 0 M1926.6 209.358 L1926.6 195.33 L1930.86 195.33 L1930.86 231.349 L1926.6 231.349 L1926.6 227.46 Q1925.26 229.775 1923.2 230.909 Q1921.16 232.02 1918.29 232.02 Q1913.6 232.02 1910.63 228.27 Q1907.69 224.52 1907.69 218.409 Q1907.69 212.298 1910.63 208.548 Q1913.6 204.798 1918.29 204.798 Q1921.16 204.798 1923.2 205.932 Q1925.26 207.043 1926.6 209.358 M1912.09 218.409 Q1912.09 223.108 1914.01 225.793 Q1915.96 228.455 1919.34 228.455 Q1922.72 228.455 1924.66 225.793 Q1926.6 223.108 1926.6 218.409 Q1926.6 213.71 1924.66 211.048 Q1922.72 208.363 1919.34 208.363 Q1915.96 208.363 1914.01 211.048 Q1912.09 213.71 1912.09 218.409 Z\" fill=\"#000000\" fill-rule=\"evenodd\" fill-opacity=\"1\" /><path clip-path=\"url(#clip670)\" d=\"M 0 0 M1976.88 217.321 L1976.88 219.404 L1957.3 219.404 Q1957.58 223.802 1959.94 226.117 Q1962.32 228.409 1966.56 228.409 Q1969.01 228.409 1971.3 227.807 Q1973.62 227.205 1975.89 226.001 L1975.89 230.029 Q1973.59 231.001 1971.19 231.511 Q1968.78 232.02 1966.3 232.02 Q1960.1 232.02 1956.47 228.409 Q1952.85 224.798 1952.85 218.64 Q1952.85 212.275 1956.28 208.548 Q1959.73 204.798 1965.56 204.798 Q1970.79 204.798 1973.83 208.177 Q1976.88 211.534 1976.88 217.321 M1972.62 216.071 Q1972.58 212.576 1970.65 210.492 Q1968.76 208.409 1965.61 208.409 Q1962.04 208.409 1959.89 210.423 Q1957.76 212.437 1957.44 216.094 L1972.62 216.071 Z\" fill=\"#000000\" fill-rule=\"evenodd\" fill-opacity=\"1\" /><path clip-path=\"url(#clip670)\" d=\"M 0 0 M1983.87 205.423 L1988.13 205.423 L1988.13 231.349 L1983.87 231.349 L1983.87 205.423 M1983.87 195.33 L1988.13 195.33 L1988.13 200.724 L1983.87 200.724 L1983.87 195.33 Z\" fill=\"#000000\" fill-rule=\"evenodd\" fill-opacity=\"1\" /><path clip-path=\"url(#clip670)\" d=\"M 0 0 M2014.1 218.085 Q2014.1 213.455 2012.18 210.909 Q2010.28 208.363 2006.84 208.363 Q2003.41 208.363 2001.49 210.909 Q1999.59 213.455 1999.59 218.085 Q1999.59 222.691 2001.49 225.238 Q2003.41 227.784 2006.84 227.784 Q2010.28 227.784 2012.18 225.238 Q2014.1 222.691 2014.1 218.085 M2018.36 228.131 Q2018.36 234.751 2015.42 237.969 Q2012.48 241.21 2006.42 241.21 Q2004.17 241.21 2002.18 240.862 Q2000.19 240.538 1998.32 239.844 L1998.32 235.7 Q2000.19 236.719 2002.02 237.205 Q2003.85 237.691 2005.75 237.691 Q2009.94 237.691 2012.02 235.492 Q2014.1 233.316 2014.1 228.895 L2014.1 226.788 Q2012.78 229.08 2010.72 230.214 Q2008.66 231.349 2005.79 231.349 Q2001.03 231.349 1998.11 227.714 Q1995.19 224.08 1995.19 218.085 Q1995.19 212.066 1998.11 208.432 Q2001.03 204.798 2005.79 204.798 Q2008.66 204.798 2010.72 205.932 Q2012.78 207.066 2014.1 209.358 L2014.1 205.423 L2018.36 205.423 L2018.36 228.131 Z\" fill=\"#000000\" fill-rule=\"evenodd\" fill-opacity=\"1\" /><path clip-path=\"url(#clip670)\" d=\"M 0 0 M2049.31 217.321 L2049.31 219.404 L2029.73 219.404 Q2030.01 223.802 2032.37 226.117 Q2034.75 228.409 2038.99 228.409 Q2041.44 228.409 2043.73 227.807 Q2046.05 227.205 2048.32 226.001 L2048.32 230.029 Q2046.02 231.001 2043.62 231.511 Q2041.21 232.02 2038.73 232.02 Q2032.53 232.02 2028.9 228.409 Q2025.28 224.798 2025.28 218.64 Q2025.28 212.275 2028.71 208.548 Q2032.16 204.798 2037.99 204.798 Q2043.22 204.798 2046.26 208.177 Q2049.31 211.534 2049.31 217.321 M2045.05 216.071 Q2045.01 212.576 2043.09 210.492 Q2041.19 208.409 2038.04 208.409 Q2034.47 208.409 2032.32 210.423 Q2030.19 212.437 2029.87 216.094 L2045.05 216.071 Z\" fill=\"#000000\" fill-rule=\"evenodd\" fill-opacity=\"1\" /><path clip-path=\"url(#clip670)\" d=\"M 0 0 M2077.85 215.701 L2077.85 231.349 L2073.59 231.349 L2073.59 215.839 Q2073.59 212.159 2072.16 210.33 Q2070.72 208.502 2067.85 208.502 Q2064.4 208.502 2062.41 210.701 Q2060.42 212.9 2060.42 216.696 L2060.42 231.349 L2056.14 231.349 L2056.14 205.423 L2060.42 205.423 L2060.42 209.451 Q2061.95 207.113 2064.01 205.955 Q2066.09 204.798 2068.8 204.798 Q2073.27 204.798 2075.56 207.576 Q2077.85 210.33 2077.85 215.701 Z\" fill=\"#000000\" fill-rule=\"evenodd\" fill-opacity=\"1\" /><path clip-path=\"url(#clip670)\" d=\"M 0 0 M2083.29 205.423 L2087.81 205.423 L2095.91 227.182 L2104.01 205.423 L2108.52 205.423 L2098.8 231.349 L2093.02 231.349 L2083.29 205.423 Z\" fill=\"#000000\" fill-rule=\"evenodd\" fill-opacity=\"1\" /><path clip-path=\"url(#clip670)\" d=\"M 0 0 M2126.19 218.316 Q2121.02 218.316 2119.03 219.497 Q2117.04 220.677 2117.04 223.525 Q2117.04 225.793 2118.52 227.136 Q2120.03 228.455 2122.6 228.455 Q2126.14 228.455 2128.27 225.955 Q2130.42 223.432 2130.42 219.265 L2130.42 218.316 L2126.19 218.316 M2134.68 216.557 L2134.68 231.349 L2130.42 231.349 L2130.42 227.413 Q2128.96 229.775 2126.79 230.909 Q2124.61 232.02 2121.46 232.02 Q2117.48 232.02 2115.12 229.798 Q2112.78 227.552 2112.78 223.802 Q2112.78 219.427 2115.7 217.205 Q2118.64 214.983 2124.45 214.983 L2130.42 214.983 L2130.42 214.566 Q2130.42 211.627 2128.48 210.029 Q2126.56 208.409 2123.06 208.409 Q2120.84 208.409 2118.73 208.941 Q2116.63 209.474 2114.68 210.539 L2114.68 206.603 Q2117.02 205.701 2119.22 205.261 Q2121.42 204.798 2123.5 204.798 Q2129.13 204.798 2131.9 207.714 Q2134.68 210.631 2134.68 216.557 Z\" fill=\"#000000\" fill-rule=\"evenodd\" fill-opacity=\"1\" /><path clip-path=\"url(#clip670)\" d=\"M 0 0 M2143.45 195.33 L2147.71 195.33 L2147.71 231.349 L2143.45 231.349 L2143.45 195.33 Z\" fill=\"#000000\" fill-rule=\"evenodd\" fill-opacity=\"1\" /><path clip-path=\"url(#clip670)\" d=\"M 0 0 M2156.19 221.117 L2156.19 205.423 L2160.45 205.423 L2160.45 220.955 Q2160.45 224.636 2161.88 226.488 Q2163.32 228.316 2166.19 228.316 Q2169.64 228.316 2171.63 226.117 Q2173.64 223.918 2173.64 220.122 L2173.64 205.423 L2177.9 205.423 L2177.9 231.349 L2173.64 231.349 L2173.64 227.367 Q2172.09 229.728 2170.03 230.886 Q2167.99 232.02 2165.28 232.02 Q2160.82 232.02 2158.5 229.242 Q2156.19 226.464 2156.19 221.117 M2166.9 204.798 L2166.9 204.798 Z\" fill=\"#000000\" fill-rule=\"evenodd\" fill-opacity=\"1\" /><path clip-path=\"url(#clip670)\" d=\"M 0 0 M2208.85 217.321 L2208.85 219.404 L2189.26 219.404 Q2189.54 223.802 2191.9 226.117 Q2194.29 228.409 2198.52 228.409 Q2200.98 228.409 2203.27 227.807 Q2205.58 227.205 2207.85 226.001 L2207.85 230.029 Q2205.56 231.001 2203.15 231.511 Q2200.75 232.02 2198.27 232.02 Q2192.07 232.02 2188.43 228.409 Q2184.82 224.798 2184.82 218.64 Q2184.82 212.275 2188.25 208.548 Q2191.7 204.798 2197.53 204.798 Q2202.76 204.798 2205.79 208.177 Q2208.85 211.534 2208.85 217.321 M2204.59 216.071 Q2204.54 212.576 2202.62 210.492 Q2200.72 208.409 2197.57 208.409 Q2194.01 208.409 2191.86 210.423 Q2189.73 212.437 2189.4 216.094 L2204.59 216.071 Z\" fill=\"#000000\" fill-rule=\"evenodd\" fill-opacity=\"1\" /><path clip-path=\"url(#clip670)\" d=\"M 0 0 M2232.37 206.187 L2232.37 210.214 Q2230.56 209.289 2228.62 208.826 Q2226.67 208.363 2224.59 208.363 Q2221.42 208.363 2219.82 209.335 Q2218.25 210.307 2218.25 212.251 Q2218.25 213.733 2219.38 214.589 Q2220.51 215.423 2223.94 216.187 L2225.4 216.511 Q2229.94 217.483 2231.83 219.265 Q2233.76 221.025 2233.76 224.196 Q2233.76 227.807 2230.88 229.913 Q2228.04 232.02 2223.04 232.02 Q2220.95 232.02 2218.69 231.603 Q2216.44 231.21 2213.94 230.4 L2213.94 226.001 Q2216.3 227.228 2218.59 227.853 Q2220.89 228.455 2223.13 228.455 Q2226.14 228.455 2227.76 227.437 Q2229.38 226.395 2229.38 224.52 Q2229.38 222.784 2228.2 221.858 Q2227.04 220.932 2223.08 220.076 L2221.6 219.728 Q2217.64 218.895 2215.89 217.182 Q2214.13 215.446 2214.13 212.437 Q2214.13 208.779 2216.72 206.789 Q2219.31 204.798 2224.08 204.798 Q2226.44 204.798 2228.52 205.145 Q2230.61 205.492 2232.37 206.187 Z\" fill=\"#000000\" fill-rule=\"evenodd\" fill-opacity=\"1\" /></svg>\n"
      ]
     },
     "execution_count": 294,
     "metadata": {},
     "output_type": "execute_result"
    }
   ],
   "source": [
    "d = disks[size(disks,1)]\n",
    "plot(draw_circle(d[1],0,d[2]), \n",
    "    seriestype = [:shape,], \n",
    "    color = :red, \n",
    "    fillalpha = 0.5,\n",
    "    label = \"Gershgorin bounds\"\n",
    ")\n",
    "for i in 1:size(disks,1)-1\n",
    "    d = disks[i]\n",
    "    plot!(draw_circle(d[1],0,d[2]), \n",
    "        seriestype = [:shape,], \n",
    "        color = :red, \n",
    "        fillalpha = 0.5 , \n",
    "        label = \"\",\n",
    "        aspect_ratio = 1\n",
    "    )\n",
    "end\n",
    "\n",
    "scatter!(ev_plot,\n",
    "    xlabel = \"Real axis\", \n",
    "    ylabel = \"Imaginary axis\",\n",
    "    label = \"computed eigenvalues\",\n",
    "    color = :blue\n",
    "    )"
   ]
  },
  {
   "cell_type": "markdown",
   "metadata": {},
   "source": [
    "### Test 2"
   ]
  },
  {
   "cell_type": "code",
   "execution_count": 295,
   "metadata": {},
   "outputs": [
    {
     "data": {
      "text/plain": [
       "3×3 Matrix{Int64}:\n",
       "  1   2   1\n",
       "  6  -1   0\n",
       " -1  -2  -1"
      ]
     },
     "execution_count": 295,
     "metadata": {},
     "output_type": "execute_result"
    }
   ],
   "source": [
    "A = [1 2 1; 6 -1 0; -1 -2 -1]"
   ]
  },
  {
   "cell_type": "code",
   "execution_count": 296,
   "metadata": {},
   "outputs": [
    {
     "data": {
      "text/plain": [
       "3-element Vector{Float64}:\n",
       " -4.000000000000896\n",
       "  3.0000000000008904\n",
       " -7.850462293418902e-17"
      ]
     },
     "execution_count": 296,
     "metadata": {},
     "output_type": "execute_result"
    }
   ],
   "source": [
    "ev = find_eigenvalues(A,100, false)"
   ]
  },
  {
   "cell_type": "code",
   "execution_count": 297,
   "metadata": {},
   "outputs": [],
   "source": [
    "ev_plot = get_ev_coords(ev);\n",
    "disks = get_disks(A);"
   ]
  },
  {
   "cell_type": "code",
   "execution_count": 298,
   "metadata": {},
   "outputs": [
    {
     "data": {
      "image/svg+xml": [
       "<?xml version=\"1.0\" encoding=\"utf-8\"?>\n",
       "<svg xmlns=\"http://www.w3.org/2000/svg\" xmlns:xlink=\"http://www.w3.org/1999/xlink\" width=\"600\" height=\"400\" viewBox=\"0 0 2400 1600\">\n",
       "<defs>\n",
       "  <clipPath id=\"clip710\">\n",
       "    <rect x=\"0\" y=\"0\" width=\"2400\" height=\"1600\"/>\n",
       "  </clipPath>\n",
       "</defs>\n",
       "<path clip-path=\"url(#clip710)\" d=\"\n",
       "M0 1600 L2400 1600 L2400 0 L0 0  Z\n",
       "  \" fill=\"#ffffff\" fill-rule=\"evenodd\" fill-opacity=\"1\"/>\n",
       "<defs>\n",
       "  <clipPath id=\"clip711\">\n",
       "    <rect x=\"480\" y=\"0\" width=\"1681\" height=\"1600\"/>\n",
       "  </clipPath>\n",
       "</defs>\n",
       "<path clip-path=\"url(#clip710)\" d=\"\n",
       "M257.204 1423.18 L2352.76 1423.18 L2352.76 47.2441 L257.204 47.2441  Z\n",
       "  \" fill=\"#ffffff\" fill-rule=\"evenodd\" fill-opacity=\"1\"/>\n",
       "<defs>\n",
       "  <clipPath id=\"clip712\">\n",
       "    <rect x=\"257\" y=\"47\" width=\"2097\" height=\"1377\"/>\n",
       "  </clipPath>\n",
       "</defs>\n",
       "<polyline clip-path=\"url(#clip712)\" style=\"stroke:#000000; stroke-width:2; stroke-opacity:0.1; fill:none\" points=\"\n",
       "  331.439,1423.18 331.439,47.2441 \n",
       "  \"/>\n",
       "<polyline clip-path=\"url(#clip712)\" style=\"stroke:#000000; stroke-width:2; stroke-opacity:0.1; fill:none\" points=\"\n",
       "  872.295,1423.18 872.295,47.2441 \n",
       "  \"/>\n",
       "<polyline clip-path=\"url(#clip712)\" style=\"stroke:#000000; stroke-width:2; stroke-opacity:0.1; fill:none\" points=\"\n",
       "  1413.15,1423.18 1413.15,47.2441 \n",
       "  \"/>\n",
       "<polyline clip-path=\"url(#clip712)\" style=\"stroke:#000000; stroke-width:2; stroke-opacity:0.1; fill:none\" points=\"\n",
       "  1954.01,1423.18 1954.01,47.2441 \n",
       "  \"/>\n",
       "<polyline clip-path=\"url(#clip710)\" style=\"stroke:#000000; stroke-width:4; stroke-opacity:1; fill:none\" points=\"\n",
       "  257.204,1423.18 2352.76,1423.18 \n",
       "  \"/>\n",
       "<polyline clip-path=\"url(#clip710)\" style=\"stroke:#000000; stroke-width:4; stroke-opacity:1; fill:none\" points=\"\n",
       "  331.439,1423.18 331.439,1406.67 \n",
       "  \"/>\n",
       "<polyline clip-path=\"url(#clip710)\" style=\"stroke:#000000; stroke-width:4; stroke-opacity:1; fill:none\" points=\"\n",
       "  872.295,1423.18 872.295,1406.67 \n",
       "  \"/>\n",
       "<polyline clip-path=\"url(#clip710)\" style=\"stroke:#000000; stroke-width:4; stroke-opacity:1; fill:none\" points=\"\n",
       "  1413.15,1423.18 1413.15,1406.67 \n",
       "  \"/>\n",
       "<polyline clip-path=\"url(#clip710)\" style=\"stroke:#000000; stroke-width:4; stroke-opacity:1; fill:none\" points=\"\n",
       "  1954.01,1423.18 1954.01,1406.67 \n",
       "  \"/>\n",
       "<path clip-path=\"url(#clip710)\" d=\"M 0 0 M285.502 1467.02 L315.178 1467.02 L315.178 1470.96 L285.502 1470.96 L285.502 1467.02 Z\" fill=\"#000000\" fill-rule=\"evenodd\" fill-opacity=\"1\" /><path clip-path=\"url(#clip710)\" d=\"M 0 0 M326.08 1479.92 L333.719 1479.92 L333.719 1453.55 L325.409 1455.22 L325.409 1450.96 L333.673 1449.29 L338.349 1449.29 L338.349 1479.92 L345.988 1479.92 L345.988 1483.85 L326.08 1483.85 L326.08 1479.92 Z\" fill=\"#000000\" fill-rule=\"evenodd\" fill-opacity=\"1\" /><path clip-path=\"url(#clip710)\" d=\"M 0 0 M365.432 1452.37 Q361.821 1452.37 359.992 1455.94 Q358.187 1459.48 358.187 1466.61 Q358.187 1473.71 359.992 1477.28 Q361.821 1480.82 365.432 1480.82 Q369.066 1480.82 370.872 1477.28 Q372.7 1473.71 372.7 1466.61 Q372.7 1459.48 370.872 1455.94 Q369.066 1452.37 365.432 1452.37 M365.432 1448.67 Q371.242 1448.67 374.298 1453.27 Q377.376 1457.86 377.376 1466.61 Q377.376 1475.33 374.298 1479.94 Q371.242 1484.52 365.432 1484.52 Q359.622 1484.52 356.543 1479.94 Q353.488 1475.33 353.488 1466.61 Q353.488 1457.86 356.543 1453.27 Q359.622 1448.67 365.432 1448.67 Z\" fill=\"#000000\" fill-rule=\"evenodd\" fill-opacity=\"1\" /><path clip-path=\"url(#clip710)\" d=\"M 0 0 M841.936 1467.02 L871.612 1467.02 L871.612 1470.96 L841.936 1470.96 L841.936 1467.02 Z\" fill=\"#000000\" fill-rule=\"evenodd\" fill-opacity=\"1\" /><path clip-path=\"url(#clip710)\" d=\"M 0 0 M881.751 1449.29 L900.107 1449.29 L900.107 1453.23 L886.033 1453.23 L886.033 1461.7 Q887.052 1461.35 888.07 1461.19 Q889.089 1461 890.107 1461 Q895.894 1461 899.274 1464.18 Q902.653 1467.35 902.653 1472.76 Q902.653 1478.34 899.181 1481.44 Q895.709 1484.52 889.389 1484.52 Q887.214 1484.52 884.945 1484.15 Q882.7 1483.78 880.292 1483.04 L880.292 1478.34 Q882.376 1479.48 884.598 1480.03 Q886.82 1480.59 889.297 1480.59 Q893.302 1480.59 895.639 1478.48 Q897.977 1476.38 897.977 1472.76 Q897.977 1469.15 895.639 1467.05 Q893.302 1464.94 889.297 1464.94 Q887.422 1464.94 885.547 1465.36 Q883.695 1465.77 881.751 1466.65 L881.751 1449.29 Z\" fill=\"#000000\" fill-rule=\"evenodd\" fill-opacity=\"1\" /><path clip-path=\"url(#clip710)\" d=\"M 0 0 M1413.15 1452.37 Q1409.54 1452.37 1407.71 1455.94 Q1405.9 1459.48 1405.9 1466.61 Q1405.9 1473.71 1407.71 1477.28 Q1409.54 1480.82 1413.15 1480.82 Q1416.78 1480.82 1418.59 1477.28 Q1420.42 1473.71 1420.42 1466.61 Q1420.42 1459.48 1418.59 1455.94 Q1416.78 1452.37 1413.15 1452.37 M1413.15 1448.67 Q1418.96 1448.67 1422.02 1453.27 Q1425.09 1457.86 1425.09 1466.61 Q1425.09 1475.33 1422.02 1479.94 Q1418.96 1484.52 1413.15 1484.52 Q1407.34 1484.52 1404.26 1479.94 Q1401.21 1475.33 1401.21 1466.61 Q1401.21 1457.86 1404.26 1453.27 Q1407.34 1448.67 1413.15 1448.67 Z\" fill=\"#000000\" fill-rule=\"evenodd\" fill-opacity=\"1\" /><path clip-path=\"url(#clip710)\" d=\"M 0 0 M1944.28 1449.29 L1962.64 1449.29 L1962.64 1453.23 L1948.57 1453.23 L1948.57 1461.7 Q1949.58 1461.35 1950.6 1461.19 Q1951.62 1461 1952.64 1461 Q1958.43 1461 1961.81 1464.18 Q1965.19 1467.35 1965.19 1472.76 Q1965.19 1478.34 1961.71 1481.44 Q1958.24 1484.52 1951.92 1484.52 Q1949.75 1484.52 1947.48 1484.15 Q1945.23 1483.78 1942.83 1483.04 L1942.83 1478.34 Q1944.91 1479.48 1947.13 1480.03 Q1949.35 1480.59 1951.83 1480.59 Q1955.83 1480.59 1958.17 1478.48 Q1960.51 1476.38 1960.51 1472.76 Q1960.51 1469.15 1958.17 1467.05 Q1955.83 1464.94 1951.83 1464.94 Q1949.95 1464.94 1948.08 1465.36 Q1946.23 1465.77 1944.28 1466.65 L1944.28 1449.29 Z\" fill=\"#000000\" fill-rule=\"evenodd\" fill-opacity=\"1\" /><path clip-path=\"url(#clip710)\" d=\"M 0 0 M1186.39 1545.76 Q1188.46 1546.46 1190.4 1548.76 Q1192.37 1551.05 1194.34 1555.06 L1200.87 1568.04 L1193.96 1568.04 L1187.88 1555.85 Q1185.53 1551.08 1183.3 1549.52 Q1181.1 1547.96 1177.28 1547.96 L1170.28 1547.96 L1170.28 1568.04 L1163.85 1568.04 L1163.85 1520.52 L1178.37 1520.52 Q1186.51 1520.52 1190.52 1523.93 Q1194.53 1527.34 1194.53 1534.21 Q1194.53 1538.7 1192.43 1541.66 Q1190.37 1544.62 1186.39 1545.76 M1170.28 1525.81 L1170.28 1542.68 L1178.37 1542.68 Q1183.01 1542.68 1185.37 1540.54 Q1187.76 1538.38 1187.76 1534.21 Q1187.76 1530.04 1185.37 1527.94 Q1183.01 1525.81 1178.37 1525.81 L1170.28 1525.81 Z\" fill=\"#000000\" fill-rule=\"evenodd\" fill-opacity=\"1\" /><path clip-path=\"url(#clip710)\" d=\"M 0 0 M1236.45 1548.76 L1236.45 1551.62 L1209.53 1551.62 Q1209.91 1557.67 1213.15 1560.85 Q1216.43 1564 1222.26 1564 Q1225.63 1564 1228.78 1563.17 Q1231.97 1562.35 1235.08 1560.69 L1235.08 1566.23 Q1231.93 1567.57 1228.62 1568.27 Q1225.31 1568.97 1221.91 1568.97 Q1213.38 1568.97 1208.38 1564 Q1203.42 1559.04 1203.42 1550.57 Q1203.42 1541.82 1208.13 1536.69 Q1212.87 1531.54 1220.89 1531.54 Q1228.08 1531.54 1232.25 1536.18 Q1236.45 1540.8 1236.45 1548.76 M1230.6 1547.04 Q1230.53 1542.23 1227.89 1539.37 Q1225.28 1536.5 1220.95 1536.5 Q1216.05 1536.5 1213.09 1539.27 Q1210.16 1542.04 1209.72 1547.07 L1230.6 1547.04 Z\" fill=\"#000000\" fill-rule=\"evenodd\" fill-opacity=\"1\" /><path clip-path=\"url(#clip710)\" d=\"M 0 0 M1262.27 1550.12 Q1255.17 1550.12 1252.43 1551.75 Q1249.69 1553.37 1249.69 1557.29 Q1249.69 1560.4 1251.73 1562.25 Q1253.8 1564.07 1257.33 1564.07 Q1262.2 1564.07 1265.13 1560.63 Q1268.09 1557.16 1268.09 1551.43 L1268.09 1550.12 L1262.27 1550.12 M1273.95 1547.71 L1273.95 1568.04 L1268.09 1568.04 L1268.09 1562.63 Q1266.09 1565.88 1263.09 1567.44 Q1260.1 1568.97 1255.77 1568.97 Q1250.3 1568.97 1247.05 1565.91 Q1243.84 1562.82 1243.84 1557.67 Q1243.84 1551.65 1247.85 1548.6 Q1251.89 1545.54 1259.88 1545.54 L1268.09 1545.54 L1268.09 1544.97 Q1268.09 1540.93 1265.42 1538.73 Q1262.78 1536.5 1257.97 1536.5 Q1254.91 1536.5 1252.02 1537.23 Q1249.12 1537.97 1246.45 1539.43 L1246.45 1534.02 Q1249.66 1532.78 1252.69 1532.17 Q1255.71 1531.54 1258.57 1531.54 Q1266.31 1531.54 1270.13 1535.55 Q1273.95 1539.56 1273.95 1547.71 Z\" fill=\"#000000\" fill-rule=\"evenodd\" fill-opacity=\"1\" /><path clip-path=\"url(#clip710)\" d=\"M 0 0 M1286.01 1518.52 L1291.87 1518.52 L1291.87 1568.04 L1286.01 1568.04 L1286.01 1518.52 Z\" fill=\"#000000\" fill-rule=\"evenodd\" fill-opacity=\"1\" /><path clip-path=\"url(#clip710)\" d=\"M 0 0 M1341.04 1550.12 Q1333.94 1550.12 1331.21 1551.75 Q1328.47 1553.37 1328.47 1557.29 Q1328.47 1560.4 1330.51 1562.25 Q1332.58 1564.07 1336.11 1564.07 Q1340.98 1564.07 1343.91 1560.63 Q1346.87 1557.16 1346.87 1551.43 L1346.87 1550.12 L1341.04 1550.12 M1352.72 1547.71 L1352.72 1568.04 L1346.87 1568.04 L1346.87 1562.63 Q1344.86 1565.88 1341.87 1567.44 Q1338.88 1568.97 1334.55 1568.97 Q1329.07 1568.97 1325.83 1565.91 Q1322.61 1562.82 1322.61 1557.67 Q1322.61 1551.65 1326.62 1548.6 Q1330.67 1545.54 1338.65 1545.54 L1346.87 1545.54 L1346.87 1544.97 Q1346.87 1540.93 1344.19 1538.73 Q1341.55 1536.5 1336.74 1536.5 Q1333.69 1536.5 1330.79 1537.23 Q1327.9 1537.97 1325.22 1539.43 L1325.22 1534.02 Q1328.44 1532.78 1331.46 1532.17 Q1334.49 1531.54 1337.35 1531.54 Q1345.08 1531.54 1348.9 1535.55 Q1352.72 1539.56 1352.72 1547.71 Z\" fill=\"#000000\" fill-rule=\"evenodd\" fill-opacity=\"1\" /><path clip-path=\"url(#clip710)\" d=\"M 0 0 M1394.42 1532.4 L1381.53 1549.74 L1395.09 1568.04 L1388.18 1568.04 L1377.8 1554.04 L1367.43 1568.04 L1360.52 1568.04 L1374.37 1549.39 L1361.7 1532.4 L1368.61 1532.4 L1378.06 1545.1 L1387.51 1532.4 L1394.42 1532.4 Z\" fill=\"#000000\" fill-rule=\"evenodd\" fill-opacity=\"1\" /><path clip-path=\"url(#clip710)\" d=\"M 0 0 M1403.36 1532.4 L1409.22 1532.4 L1409.22 1568.04 L1403.36 1568.04 L1403.36 1532.4 M1403.36 1518.52 L1409.22 1518.52 L1409.22 1525.93 L1403.36 1525.93 L1403.36 1518.52 Z\" fill=\"#000000\" fill-rule=\"evenodd\" fill-opacity=\"1\" /><path clip-path=\"url(#clip710)\" d=\"M 0 0 M1444.2 1533.45 L1444.2 1538.98 Q1441.72 1537.71 1439.04 1537.07 Q1436.37 1536.44 1433.5 1536.44 Q1429.14 1536.44 1426.95 1537.77 Q1424.78 1539.11 1424.78 1541.79 Q1424.78 1543.82 1426.34 1545 Q1427.9 1546.15 1432.61 1547.2 L1434.62 1547.64 Q1440.86 1548.98 1443.47 1551.43 Q1446.11 1553.85 1446.11 1558.21 Q1446.11 1563.17 1442.16 1566.07 Q1438.25 1568.97 1431.37 1568.97 Q1428.51 1568.97 1425.39 1568.39 Q1422.3 1567.85 1418.86 1566.74 L1418.86 1560.69 Q1422.11 1562.38 1425.26 1563.24 Q1428.41 1564.07 1431.5 1564.07 Q1435.64 1564.07 1437.86 1562.66 Q1440.09 1561.23 1440.09 1558.65 Q1440.09 1556.27 1438.47 1554.99 Q1436.88 1553.72 1431.43 1552.54 L1429.4 1552.07 Q1423.96 1550.92 1421.54 1548.56 Q1419.12 1546.18 1419.12 1542.04 Q1419.12 1537.01 1422.68 1534.27 Q1426.25 1531.54 1432.8 1531.54 Q1436.05 1531.54 1438.91 1532.01 Q1441.78 1532.49 1444.2 1533.45 Z\" fill=\"#000000\" fill-rule=\"evenodd\" fill-opacity=\"1\" /><polyline clip-path=\"url(#clip712)\" style=\"stroke:#000000; stroke-width:2; stroke-opacity:0.1; fill:none\" points=\"\n",
       "  257.204,1276.07 2352.76,1276.07 \n",
       "  \"/>\n",
       "<polyline clip-path=\"url(#clip712)\" style=\"stroke:#000000; stroke-width:2; stroke-opacity:0.1; fill:none\" points=\"\n",
       "  257.204,1005.64 2352.76,1005.64 \n",
       "  \"/>\n",
       "<polyline clip-path=\"url(#clip712)\" style=\"stroke:#000000; stroke-width:2; stroke-opacity:0.1; fill:none\" points=\"\n",
       "  257.204,735.212 2352.76,735.212 \n",
       "  \"/>\n",
       "<polyline clip-path=\"url(#clip712)\" style=\"stroke:#000000; stroke-width:2; stroke-opacity:0.1; fill:none\" points=\"\n",
       "  257.204,464.785 2352.76,464.785 \n",
       "  \"/>\n",
       "<polyline clip-path=\"url(#clip712)\" style=\"stroke:#000000; stroke-width:2; stroke-opacity:0.1; fill:none\" points=\"\n",
       "  257.204,194.357 2352.76,194.357 \n",
       "  \"/>\n",
       "<polyline clip-path=\"url(#clip710)\" style=\"stroke:#000000; stroke-width:4; stroke-opacity:1; fill:none\" points=\"\n",
       "  257.204,1423.18 257.204,47.2441 \n",
       "  \"/>\n",
       "<polyline clip-path=\"url(#clip710)\" style=\"stroke:#000000; stroke-width:4; stroke-opacity:1; fill:none\" points=\"\n",
       "  257.204,1276.07 282.351,1276.07 \n",
       "  \"/>\n",
       "<polyline clip-path=\"url(#clip710)\" style=\"stroke:#000000; stroke-width:4; stroke-opacity:1; fill:none\" points=\"\n",
       "  257.204,1005.64 282.351,1005.64 \n",
       "  \"/>\n",
       "<polyline clip-path=\"url(#clip710)\" style=\"stroke:#000000; stroke-width:4; stroke-opacity:1; fill:none\" points=\"\n",
       "  257.204,735.212 282.351,735.212 \n",
       "  \"/>\n",
       "<polyline clip-path=\"url(#clip710)\" style=\"stroke:#000000; stroke-width:4; stroke-opacity:1; fill:none\" points=\"\n",
       "  257.204,464.785 282.351,464.785 \n",
       "  \"/>\n",
       "<polyline clip-path=\"url(#clip710)\" style=\"stroke:#000000; stroke-width:4; stroke-opacity:1; fill:none\" points=\"\n",
       "  257.204,194.357 282.351,194.357 \n",
       "  \"/>\n",
       "<path clip-path=\"url(#clip710)\" d=\"M 0 0 M114.26 1276.52 L143.936 1276.52 L143.936 1280.45 L114.26 1280.45 L114.26 1276.52 Z\" fill=\"#000000\" fill-rule=\"evenodd\" fill-opacity=\"1\" /><path clip-path=\"url(#clip710)\" d=\"M 0 0 M154.075 1258.79 L172.431 1258.79 L172.431 1262.72 L158.357 1262.72 L158.357 1271.2 Q159.376 1270.85 160.394 1270.69 Q161.413 1270.5 162.431 1270.5 Q168.218 1270.5 171.598 1273.67 Q174.977 1276.84 174.977 1282.26 Q174.977 1287.84 171.505 1290.94 Q168.033 1294.02 161.714 1294.02 Q159.538 1294.02 157.269 1293.65 Q155.024 1293.28 152.616 1292.54 L152.616 1287.84 Q154.7 1288.97 156.922 1289.53 Q159.144 1290.08 161.621 1290.08 Q165.626 1290.08 167.964 1287.98 Q170.302 1285.87 170.302 1282.26 Q170.302 1278.65 167.964 1276.54 Q165.626 1274.44 161.621 1274.44 Q159.746 1274.44 157.871 1274.85 Q156.019 1275.27 154.075 1276.15 L154.075 1258.79 Z\" fill=\"#000000\" fill-rule=\"evenodd\" fill-opacity=\"1\" /><path clip-path=\"url(#clip710)\" d=\"M 0 0 M184.19 1287.47 L189.075 1287.47 L189.075 1293.35 L184.19 1293.35 L184.19 1287.47 Z\" fill=\"#000000\" fill-rule=\"evenodd\" fill-opacity=\"1\" /><path clip-path=\"url(#clip710)\" d=\"M 0 0 M209.26 1261.87 Q205.649 1261.87 203.82 1265.43 Q202.014 1268.97 202.014 1276.1 Q202.014 1283.21 203.82 1286.77 Q205.649 1290.32 209.26 1290.32 Q212.894 1290.32 214.699 1286.77 Q216.528 1283.21 216.528 1276.1 Q216.528 1268.97 214.699 1265.43 Q212.894 1261.87 209.26 1261.87 M209.26 1258.16 Q215.07 1258.16 218.125 1262.77 Q221.204 1267.35 221.204 1276.1 Q221.204 1284.83 218.125 1289.44 Q215.07 1294.02 209.26 1294.02 Q203.449 1294.02 200.371 1289.44 Q197.315 1284.83 197.315 1276.1 Q197.315 1267.35 200.371 1262.77 Q203.449 1258.16 209.26 1258.16 Z\" fill=\"#000000\" fill-rule=\"evenodd\" fill-opacity=\"1\" /><path clip-path=\"url(#clip710)\" d=\"M 0 0 M115.256 1006.09 L144.931 1006.09 L144.931 1010.03 L115.256 1010.03 L115.256 1006.09 Z\" fill=\"#000000\" fill-rule=\"evenodd\" fill-opacity=\"1\" /><path clip-path=\"url(#clip710)\" d=\"M 0 0 M159.052 1018.99 L175.371 1018.99 L175.371 1022.92 L153.427 1022.92 L153.427 1018.99 Q156.089 1016.23 160.672 1011.6 Q165.278 1006.95 166.459 1005.61 Q168.704 1003.08 169.584 1001.35 Q170.487 999.587 170.487 997.897 Q170.487 995.143 168.542 993.406 Q166.621 991.67 163.519 991.67 Q161.32 991.67 158.866 992.434 Q156.436 993.198 153.658 994.749 L153.658 990.027 Q156.482 988.893 158.936 988.314 Q161.39 987.735 163.427 987.735 Q168.797 987.735 171.991 990.42 Q175.186 993.106 175.186 997.596 Q175.186 999.726 174.376 1001.65 Q173.589 1003.55 171.482 1006.14 Q170.903 1006.81 167.802 1010.03 Q164.7 1013.22 159.052 1018.99 Z\" fill=\"#000000\" fill-rule=\"evenodd\" fill-opacity=\"1\" /><path clip-path=\"url(#clip710)\" d=\"M 0 0 M185.186 1017.04 L190.07 1017.04 L190.07 1022.92 L185.186 1022.92 L185.186 1017.04 Z\" fill=\"#000000\" fill-rule=\"evenodd\" fill-opacity=\"1\" /><path clip-path=\"url(#clip710)\" d=\"M 0 0 M200.301 988.36 L218.658 988.36 L218.658 992.295 L204.584 992.295 L204.584 1000.77 Q205.602 1000.42 206.621 1000.26 Q207.639 1000.07 208.658 1000.07 Q214.445 1000.07 217.824 1003.24 Q221.204 1006.42 221.204 1011.83 Q221.204 1017.41 217.732 1020.51 Q214.26 1023.59 207.94 1023.59 Q205.764 1023.59 203.496 1023.22 Q201.25 1022.85 198.843 1022.11 L198.843 1017.41 Q200.926 1018.55 203.149 1019.1 Q205.371 1019.66 207.848 1019.66 Q211.852 1019.66 214.19 1017.55 Q216.528 1015.44 216.528 1011.83 Q216.528 1008.22 214.19 1006.11 Q211.852 1004.01 207.848 1004.01 Q205.973 1004.01 204.098 1004.42 Q202.246 1004.84 200.301 1005.72 L200.301 988.36 Z\" fill=\"#000000\" fill-rule=\"evenodd\" fill-opacity=\"1\" /><path clip-path=\"url(#clip710)\" d=\"M 0 0 M164.028 721.011 Q160.417 721.011 158.589 724.576 Q156.783 728.118 156.783 735.247 Q156.783 742.354 158.589 745.918 Q160.417 749.46 164.028 749.46 Q167.663 749.46 169.468 745.918 Q171.297 742.354 171.297 735.247 Q171.297 728.118 169.468 724.576 Q167.663 721.011 164.028 721.011 M164.028 717.307 Q169.839 717.307 172.894 721.914 Q175.973 726.497 175.973 735.247 Q175.973 743.974 172.894 748.58 Q169.839 753.164 164.028 753.164 Q158.218 753.164 155.14 748.58 Q152.084 743.974 152.084 735.247 Q152.084 726.497 155.14 721.914 Q158.218 717.307 164.028 717.307 Z\" fill=\"#000000\" fill-rule=\"evenodd\" fill-opacity=\"1\" /><path clip-path=\"url(#clip710)\" d=\"M 0 0 M184.19 746.613 L189.075 746.613 L189.075 752.492 L184.19 752.492 L184.19 746.613 Z\" fill=\"#000000\" fill-rule=\"evenodd\" fill-opacity=\"1\" /><path clip-path=\"url(#clip710)\" d=\"M 0 0 M209.26 721.011 Q205.649 721.011 203.82 724.576 Q202.014 728.118 202.014 735.247 Q202.014 742.354 203.82 745.918 Q205.649 749.46 209.26 749.46 Q212.894 749.46 214.699 745.918 Q216.528 742.354 216.528 735.247 Q216.528 728.118 214.699 724.576 Q212.894 721.011 209.26 721.011 M209.26 717.307 Q215.07 717.307 218.125 721.914 Q221.204 726.497 221.204 735.247 Q221.204 743.974 218.125 748.58 Q215.07 753.164 209.26 753.164 Q203.449 753.164 200.371 748.58 Q197.315 743.974 197.315 735.247 Q197.315 726.497 200.371 721.914 Q203.449 717.307 209.26 717.307 Z\" fill=\"#000000\" fill-rule=\"evenodd\" fill-opacity=\"1\" /><path clip-path=\"url(#clip710)\" d=\"M 0 0 M159.052 478.129 L175.371 478.129 L175.371 482.065 L153.427 482.065 L153.427 478.129 Q156.089 475.375 160.672 470.745 Q165.278 466.092 166.459 464.75 Q168.704 462.227 169.584 460.491 Q170.487 458.731 170.487 457.042 Q170.487 454.287 168.542 452.551 Q166.621 450.815 163.519 450.815 Q161.32 450.815 158.866 451.579 Q156.436 452.343 153.658 453.893 L153.658 449.171 Q156.482 448.037 158.936 447.458 Q161.39 446.88 163.427 446.88 Q168.797 446.88 171.991 449.565 Q175.186 452.25 175.186 456.741 Q175.186 458.87 174.376 460.792 Q173.589 462.69 171.482 465.282 Q170.903 465.954 167.802 469.171 Q164.7 472.366 159.052 478.129 Z\" fill=\"#000000\" fill-rule=\"evenodd\" fill-opacity=\"1\" /><path clip-path=\"url(#clip710)\" d=\"M 0 0 M185.186 476.185 L190.07 476.185 L190.07 482.065 L185.186 482.065 L185.186 476.185 Z\" fill=\"#000000\" fill-rule=\"evenodd\" fill-opacity=\"1\" /><path clip-path=\"url(#clip710)\" d=\"M 0 0 M200.301 447.505 L218.658 447.505 L218.658 451.44 L204.584 451.44 L204.584 459.912 Q205.602 459.565 206.621 459.403 Q207.639 459.217 208.658 459.217 Q214.445 459.217 217.824 462.389 Q221.204 465.56 221.204 470.977 Q221.204 476.555 217.732 479.657 Q214.26 482.736 207.94 482.736 Q205.764 482.736 203.496 482.366 Q201.25 481.995 198.843 481.254 L198.843 476.555 Q200.926 477.69 203.149 478.245 Q205.371 478.801 207.848 478.801 Q211.852 478.801 214.19 476.694 Q216.528 474.588 216.528 470.977 Q216.528 467.366 214.19 465.259 Q211.852 463.153 207.848 463.153 Q205.973 463.153 204.098 463.569 Q202.246 463.986 200.301 464.866 L200.301 447.505 Z\" fill=\"#000000\" fill-rule=\"evenodd\" fill-opacity=\"1\" /><path clip-path=\"url(#clip710)\" d=\"M 0 0 M154.075 177.077 L172.431 177.077 L172.431 181.012 L158.357 181.012 L158.357 189.484 Q159.376 189.137 160.394 188.975 Q161.413 188.79 162.431 188.79 Q168.218 188.79 171.598 191.961 Q174.977 195.132 174.977 200.549 Q174.977 206.128 171.505 209.229 Q168.033 212.308 161.714 212.308 Q159.538 212.308 157.269 211.938 Q155.024 211.567 152.616 210.827 L152.616 206.128 Q154.7 207.262 156.922 207.817 Q159.144 208.373 161.621 208.373 Q165.626 208.373 167.964 206.266 Q170.302 204.16 170.302 200.549 Q170.302 196.938 167.964 194.831 Q165.626 192.725 161.621 192.725 Q159.746 192.725 157.871 193.142 Q156.019 193.558 154.075 194.438 L154.075 177.077 Z\" fill=\"#000000\" fill-rule=\"evenodd\" fill-opacity=\"1\" /><path clip-path=\"url(#clip710)\" d=\"M 0 0 M184.19 205.757 L189.075 205.757 L189.075 211.637 L184.19 211.637 L184.19 205.757 Z\" fill=\"#000000\" fill-rule=\"evenodd\" fill-opacity=\"1\" /><path clip-path=\"url(#clip710)\" d=\"M 0 0 M209.26 180.155 Q205.649 180.155 203.82 183.72 Q202.014 187.262 202.014 194.392 Q202.014 201.498 203.82 205.063 Q205.649 208.604 209.26 208.604 Q212.894 208.604 214.699 205.063 Q216.528 201.498 216.528 194.392 Q216.528 187.262 214.699 183.72 Q212.894 180.155 209.26 180.155 M209.26 176.452 Q215.07 176.452 218.125 181.058 Q221.204 185.642 221.204 194.392 Q221.204 203.118 218.125 207.725 Q215.07 212.308 209.26 212.308 Q203.449 212.308 200.371 207.725 Q197.315 203.118 197.315 194.392 Q197.315 185.642 200.371 181.058 Q203.449 176.452 209.26 176.452 Z\" fill=\"#000000\" fill-rule=\"evenodd\" fill-opacity=\"1\" /><path clip-path=\"url(#clip710)\" d=\"M 0 0 M16.4842 970.473 L16.4842 964.043 L64.0042 964.043 L64.0042 970.473 L16.4842 970.473 Z\" fill=\"#000000\" fill-rule=\"evenodd\" fill-opacity=\"1\" /><path clip-path=\"url(#clip710)\" d=\"M 0 0 M35.1993 923.748 Q31.2526 921.552 29.3747 918.497 Q27.4968 915.441 27.4968 911.303 Q27.4968 905.733 31.4117 902.71 Q35.2948 899.686 42.4881 899.686 L64.0042 899.686 L64.0042 905.574 L42.679 905.574 Q37.5546 905.574 35.072 907.388 Q32.5894 909.203 32.5894 912.927 Q32.5894 917.478 35.6131 920.12 Q38.6368 922.762 43.8567 922.762 L64.0042 922.762 L64.0042 928.65 L42.679 928.65 Q37.5228 928.65 35.072 930.464 Q32.5894 932.278 32.5894 936.066 Q32.5894 940.554 35.6449 943.196 Q38.6686 945.837 43.8567 945.837 L64.0042 945.837 L64.0042 951.726 L28.3562 951.726 L28.3562 945.837 L33.8944 945.837 Q30.616 943.832 29.0564 941.031 Q27.4968 938.23 27.4968 934.379 Q27.4968 930.496 29.4702 927.791 Q31.4436 925.053 35.1993 923.748 Z\" fill=\"#000000\" fill-rule=\"evenodd\" fill-opacity=\"1\" /><path clip-path=\"url(#clip710)\" d=\"M 0 0 M46.0847 871.804 Q46.0847 878.902 47.7079 881.639 Q49.3312 884.376 53.2461 884.376 Q56.3653 884.376 58.2114 882.339 Q60.0256 880.271 60.0256 876.738 Q60.0256 871.868 56.5881 868.94 Q53.1188 865.979 47.3897 865.979 L46.0847 865.979 L46.0847 871.804 M43.6657 860.123 L64.0042 860.123 L64.0042 865.979 L58.5933 865.979 Q61.8398 867.985 63.3994 870.977 Q64.9272 873.968 64.9272 878.297 Q64.9272 883.772 61.8716 887.018 Q58.7843 890.233 53.6281 890.233 Q47.6125 890.233 44.5569 886.222 Q41.5014 882.18 41.5014 874.191 L41.5014 865.979 L40.9285 865.979 Q36.8862 865.979 34.6901 868.653 Q32.4621 871.295 32.4621 876.101 Q32.4621 879.157 33.1941 882.053 Q33.9262 884.949 35.3903 887.623 L29.9795 887.623 Q28.7381 884.408 28.1334 881.385 Q27.4968 878.361 27.4968 875.496 Q27.4968 867.762 31.5072 863.942 Q35.5176 860.123 43.6657 860.123 Z\" fill=\"#000000\" fill-rule=\"evenodd\" fill-opacity=\"1\" /><path clip-path=\"url(#clip710)\" d=\"M 0 0 M45.7664 824.602 Q39.4007 824.602 35.8996 827.244 Q32.3984 829.854 32.3984 834.597 Q32.3984 839.307 35.8996 841.949 Q39.4007 844.559 45.7664 844.559 Q52.1003 844.559 55.6014 841.949 Q59.1026 839.307 59.1026 834.597 Q59.1026 829.854 55.6014 827.244 Q52.1003 824.602 45.7664 824.602 M59.58 818.746 Q68.683 818.746 73.1071 822.788 Q77.5631 826.83 77.5631 835.169 Q77.5631 838.257 77.0857 840.994 Q76.6401 843.731 75.6852 846.309 L69.9879 846.309 Q71.3884 843.731 72.0568 841.217 Q72.7252 838.702 72.7252 836.093 Q72.7252 830.332 69.7015 827.467 Q66.7096 824.602 60.6303 824.602 L57.7339 824.602 Q60.885 826.417 62.4446 829.249 Q64.0042 832.082 64.0042 836.029 Q64.0042 842.586 59.0071 846.596 Q54.01 850.606 45.7664 850.606 Q37.491 850.606 32.4939 846.596 Q27.4968 842.586 27.4968 836.029 Q27.4968 832.082 29.0564 829.249 Q30.616 826.417 33.7671 824.602 L28.3562 824.602 L28.3562 818.746 L59.58 818.746 Z\" fill=\"#000000\" fill-rule=\"evenodd\" fill-opacity=\"1\" /><path clip-path=\"url(#clip710)\" d=\"M 0 0 M28.3562 806.683 L28.3562 800.826 L64.0042 800.826 L64.0042 806.683 L28.3562 806.683 M14.479 806.683 L14.479 800.826 L21.895 800.826 L21.895 806.683 L14.479 806.683 Z\" fill=\"#000000\" fill-rule=\"evenodd\" fill-opacity=\"1\" /><path clip-path=\"url(#clip710)\" d=\"M 0 0 M42.4881 758.94 L64.0042 758.94 L64.0042 764.797 L42.679 764.797 Q37.6183 764.797 35.1038 766.77 Q32.5894 768.743 32.5894 772.69 Q32.5894 777.433 35.6131 780.17 Q38.6368 782.907 43.8567 782.907 L64.0042 782.907 L64.0042 788.795 L28.3562 788.795 L28.3562 782.907 L33.8944 782.907 Q30.6797 780.806 29.0883 777.974 Q27.4968 775.109 27.4968 771.385 Q27.4968 765.242 31.3163 762.091 Q35.1038 758.94 42.4881 758.94 Z\" fill=\"#000000\" fill-rule=\"evenodd\" fill-opacity=\"1\" /><path clip-path=\"url(#clip710)\" d=\"M 0 0 M46.0847 731.058 Q46.0847 738.156 47.7079 740.893 Q49.3312 743.631 53.2461 743.631 Q56.3653 743.631 58.2114 741.594 Q60.0256 739.525 60.0256 735.992 Q60.0256 731.122 56.5881 728.194 Q53.1188 725.234 47.3897 725.234 L46.0847 725.234 L46.0847 731.058 M43.6657 719.377 L64.0042 719.377 L64.0042 725.234 L58.5933 725.234 Q61.8398 727.239 63.3994 730.231 Q64.9272 733.223 64.9272 737.551 Q64.9272 743.026 61.8716 746.272 Q58.7843 749.487 53.6281 749.487 Q47.6125 749.487 44.5569 745.477 Q41.5014 741.434 41.5014 733.445 L41.5014 725.234 L40.9285 725.234 Q36.8862 725.234 34.6901 727.907 Q32.4621 730.549 32.4621 735.355 Q32.4621 738.411 33.1941 741.307 Q33.9262 744.204 35.3903 746.877 L29.9795 746.877 Q28.7381 743.662 28.1334 740.639 Q27.4968 737.615 27.4968 734.75 Q27.4968 727.016 31.5072 723.197 Q35.5176 719.377 43.6657 719.377 Z\" fill=\"#000000\" fill-rule=\"evenodd\" fill-opacity=\"1\" /><path clip-path=\"url(#clip710)\" d=\"M 0 0 M33.8307 686.658 Q33.2578 687.644 33.0032 688.822 Q32.7167 689.968 32.7167 691.368 Q32.7167 696.333 35.9632 699.007 Q39.1779 701.649 45.2253 701.649 L64.0042 701.649 L64.0042 707.537 L28.3562 707.537 L28.3562 701.649 L33.8944 701.649 Q30.6479 699.803 29.0883 696.843 Q27.4968 693.883 27.4968 689.649 Q27.4968 689.045 27.5923 688.313 Q27.656 687.581 27.8151 686.689 L33.8307 686.658 Z\" fill=\"#000000\" fill-rule=\"evenodd\" fill-opacity=\"1\" /><path clip-path=\"url(#clip710)\" d=\"M 0 0 M67.3143 665.683 Q73.68 668.165 75.6216 670.52 Q77.5631 672.876 77.5631 676.823 L77.5631 681.501 L72.6615 681.501 L72.6615 678.064 Q72.6615 675.645 71.5157 674.308 Q70.3699 672.971 66.1048 671.348 L63.4312 670.298 L28.3562 684.716 L28.3562 678.509 L56.238 667.369 L28.3562 656.229 L28.3562 650.023 L67.3143 665.683 Z\" fill=\"#000000\" fill-rule=\"evenodd\" fill-opacity=\"1\" /><path clip-path=\"url(#clip710)\" d=\"M 0 0 M46.0847 605.017 Q46.0847 612.115 47.7079 614.852 Q49.3312 617.59 53.2461 617.59 Q56.3653 617.59 58.2114 615.553 Q60.0256 613.484 60.0256 609.951 Q60.0256 605.081 56.5881 602.153 Q53.1188 599.193 47.3897 599.193 L46.0847 599.193 L46.0847 605.017 M43.6657 593.336 L64.0042 593.336 L64.0042 599.193 L58.5933 599.193 Q61.8398 601.198 63.3994 604.19 Q64.9272 607.182 64.9272 611.51 Q64.9272 616.985 61.8716 620.231 Q58.7843 623.446 53.6281 623.446 Q47.6125 623.446 44.5569 619.436 Q41.5014 615.393 41.5014 607.404 L41.5014 599.193 L40.9285 599.193 Q36.8862 599.193 34.6901 601.866 Q32.4621 604.508 32.4621 609.314 Q32.4621 612.37 33.1941 615.266 Q33.9262 618.163 35.3903 620.836 L29.9795 620.836 Q28.7381 617.621 28.1334 614.598 Q27.4968 611.574 27.4968 608.709 Q27.4968 600.975 31.5072 597.156 Q35.5176 593.336 43.6657 593.336 Z\" fill=\"#000000\" fill-rule=\"evenodd\" fill-opacity=\"1\" /><path clip-path=\"url(#clip710)\" d=\"M 0 0 M28.3562 551.641 L45.7028 564.531 L64.0042 550.973 L64.0042 557.879 L49.9996 568.255 L64.0042 578.631 L64.0042 585.538 L45.3526 571.693 L28.3562 584.361 L28.3562 577.454 L41.0558 568.001 L28.3562 558.548 L28.3562 551.641 Z\" fill=\"#000000\" fill-rule=\"evenodd\" fill-opacity=\"1\" /><path clip-path=\"url(#clip710)\" d=\"M 0 0 M28.3562 542.697 L28.3562 536.841 L64.0042 536.841 L64.0042 542.697 L28.3562 542.697 M14.479 542.697 L14.479 536.841 L21.895 536.841 L21.895 542.697 L14.479 542.697 Z\" fill=\"#000000\" fill-rule=\"evenodd\" fill-opacity=\"1\" /><path clip-path=\"url(#clip710)\" d=\"M 0 0 M29.4065 501.861 L34.9447 501.861 Q33.6716 504.344 33.035 507.017 Q32.3984 509.691 32.3984 512.555 Q32.3984 516.916 33.7352 519.112 Q35.072 521.276 37.7456 521.276 Q39.7826 521.276 40.9603 519.717 Q42.1061 518.157 43.1565 513.447 L43.6021 511.441 Q44.9389 505.203 47.3897 502.593 Q49.8086 499.951 54.1691 499.951 Q59.1344 499.951 62.0308 503.898 Q64.9272 507.813 64.9272 514.688 Q64.9272 517.553 64.3543 520.672 Q63.8132 523.759 62.6992 527.197 L56.6518 527.197 Q58.3387 523.95 59.198 520.799 Q60.0256 517.648 60.0256 514.561 Q60.0256 510.423 58.6251 508.195 Q57.1929 505.967 54.6147 505.967 Q52.2276 505.967 50.9545 507.59 Q49.6813 509.182 48.5037 514.624 L48.0262 516.661 Q46.8804 522.104 44.5251 524.523 Q42.138 526.942 38.0002 526.942 Q32.9713 526.942 30.2341 523.377 Q27.4968 519.812 27.4968 513.256 Q27.4968 510.009 27.9743 507.145 Q28.4517 504.28 29.4065 501.861 Z\" fill=\"#000000\" fill-rule=\"evenodd\" fill-opacity=\"1\" /><path clip-path=\"url(#clip712)\" d=\"\n",
       "M1304.98 410.699 L1308.22 410.715 L1311.47 410.764 L1314.71 410.845 L1317.96 410.959 L1321.2 411.105 L1324.44 411.283 L1327.68 411.494 L1330.91 411.737 L1334.15 412.012 \n",
       "  L1337.38 412.32 L1340.6 412.66 L1343.83 413.033 L1347.05 413.437 L1350.26 413.874 L1353.47 414.343 L1356.68 414.844 L1359.88 415.377 L1363.08 415.942 L1366.27 416.539 \n",
       "  L1369.45 417.168 L1372.63 417.828 L1375.8 418.521 L1378.96 419.245 L1382.12 420 L1385.27 420.787 L1388.41 421.606 L1391.54 422.456 L1394.66 423.337 L1397.77 424.249 \n",
       "  L1400.88 425.193 L1403.97 426.167 L1407.06 427.173 L1410.14 428.209 L1413.2 429.276 L1416.25 430.373 L1419.3 431.501 L1422.33 432.66 L1425.35 433.848 L1428.36 435.067 \n",
       "  L1431.35 436.316 L1434.33 437.594 L1437.3 438.903 L1440.26 440.241 L1443.2 441.608 L1446.13 443.005 L1449.05 444.431 L1451.95 445.887 L1454.83 447.371 L1457.7 448.884 \n",
       "  L1460.56 450.425 L1463.4 451.995 L1466.22 453.593 L1469.03 455.22 L1471.82 456.874 L1474.6 458.557 L1477.36 460.267 L1480.1 462.004 L1482.82 463.769 L1485.53 465.561 \n",
       "  L1488.21 467.38 L1490.88 469.226 L1493.53 471.098 L1496.16 472.997 L1498.78 474.922 L1501.37 476.873 L1503.94 478.849 L1506.5 480.852 L1509.03 482.88 L1511.54 484.933 \n",
       "  L1514.04 487.011 L1516.51 489.114 L1518.96 491.241 L1521.39 493.393 L1523.79 495.569 L1526.18 497.77 L1528.54 499.993 L1530.88 502.241 L1533.2 504.511 L1535.5 506.805 \n",
       "  L1537.77 509.122 L1540.02 511.461 L1542.25 513.822 L1544.45 516.206 L1546.63 518.612 L1548.78 521.039 L1550.91 523.488 L1553.01 525.958 L1555.09 528.448 L1557.15 530.96 \n",
       "  L1559.18 533.492 L1561.18 536.044 L1563.16 538.616 L1565.12 541.207 L1567.04 543.818 L1568.94 546.448 L1570.82 549.097 L1572.67 551.765 L1574.49 554.451 L1576.28 557.155 \n",
       "  L1578.05 559.877 L1579.79 562.616 L1581.5 565.373 L1583.18 568.147 L1584.84 570.937 L1586.47 573.744 L1588.07 576.567 L1589.64 579.406 L1591.19 582.26 L1592.7 585.13 \n",
       "  L1594.19 588.014 L1595.65 590.914 L1597.07 593.828 L1598.47 596.756 L1599.84 599.697 L1601.18 602.653 L1602.49 605.621 L1603.78 608.603 L1605.03 611.597 L1606.25 614.604 \n",
       "  L1607.44 617.622 L1608.6 620.653 L1609.73 623.695 L1610.83 626.748 L1611.9 629.812 L1612.94 632.886 L1613.95 635.971 L1614.92 639.065 L1615.87 642.169 L1616.78 645.283 \n",
       "  L1617.67 648.405 L1618.52 651.537 L1619.34 654.676 L1620.13 657.824 L1620.89 660.979 L1621.61 664.142 L1622.31 667.312 L1622.97 670.488 L1623.6 673.671 L1624.2 676.861 \n",
       "  L1624.77 680.056 L1625.31 683.256 L1625.81 686.462 L1626.28 689.673 L1626.72 692.888 L1627.13 696.108 L1627.5 699.331 L1627.85 702.558 L1628.16 705.788 L1628.43 709.021 \n",
       "  L1628.68 712.257 L1628.89 715.495 L1629.07 718.735 L1629.22 721.977 L1629.34 725.22 L1629.42 728.464 L1629.47 731.709 L1629.49 734.954 L1629.48 738.199 L1629.43 741.444 \n",
       "  L1629.35 744.688 L1629.24 747.931 L1629.1 751.173 L1628.92 754.414 L1628.72 757.652 L1628.48 760.888 L1628.2 764.122 L1627.9 767.353 L1627.56 770.58 L1627.19 773.804 \n",
       "  L1626.79 777.024 L1626.35 780.24 L1625.89 783.452 L1625.39 786.658 L1624.86 789.86 L1624.3 793.056 L1623.7 796.246 L1623.08 799.43 L1622.42 802.608 L1621.73 805.779 \n",
       "  L1621.01 808.942 L1620.25 812.099 L1619.47 815.248 L1618.65 818.389 L1617.8 821.521 L1616.93 824.645 L1616.02 827.76 L1615.07 830.866 L1614.1 833.962 L1613.1 837.048 \n",
       "  L1612.07 840.124 L1611 843.19 L1609.91 846.245 L1608.78 849.288 L1607.63 852.32 L1606.44 855.341 L1605.22 858.35 L1603.98 861.346 L1602.7 864.329 L1601.39 867.3 \n",
       "  L1600.06 870.258 L1598.69 873.202 L1597.3 876.132 L1595.87 879.048 L1594.42 881.95 L1592.94 884.837 L1591.43 887.709 L1589.89 890.566 L1588.32 893.407 L1586.73 896.232 \n",
       "  L1585.1 899.042 L1583.45 901.835 L1581.77 904.611 L1580.06 907.37 L1578.33 910.113 L1576.56 912.837 L1574.77 915.544 L1572.96 918.233 L1571.11 920.904 L1569.24 923.556 \n",
       "  L1567.35 926.189 L1565.42 928.803 L1563.48 931.398 L1561.5 933.973 L1559.5 936.528 L1557.47 939.063 L1555.42 941.578 L1553.35 944.072 L1551.25 946.545 L1549.12 948.997 \n",
       "  L1546.97 951.428 L1544.8 953.837 L1542.6 956.224 L1540.38 958.589 L1538.13 960.932 L1535.86 963.252 L1533.57 965.55 L1531.26 967.824 L1528.92 970.075 L1526.56 972.303 \n",
       "  L1524.18 974.506 L1521.77 976.686 L1519.35 978.842 L1516.9 980.974 L1514.43 983.081 L1511.94 985.163 L1509.43 987.22 L1506.9 989.252 L1504.35 991.258 L1501.78 993.239 \n",
       "  L1499.19 995.194 L1496.58 997.123 L1493.95 999.026 L1491.31 1000.9 L1488.64 1002.75 L1485.95 1004.58 L1483.25 1006.37 L1480.53 1008.14 L1477.79 1009.88 L1475.04 1011.6 \n",
       "  L1472.27 1013.28 L1469.48 1014.94 L1466.67 1016.57 L1463.85 1018.18 L1461.01 1019.75 L1458.16 1021.3 L1455.29 1022.82 L1452.41 1024.3 L1449.51 1025.76 L1446.6 1027.19 \n",
       "  L1443.67 1028.6 L1440.73 1029.97 L1437.77 1031.31 L1434.81 1032.62 L1431.83 1033.91 L1428.83 1035.16 L1425.83 1036.38 L1422.81 1037.58 L1419.78 1038.74 L1416.74 1039.87 \n",
       "  L1413.69 1040.98 L1410.62 1042.05 L1407.55 1043.09 L1404.47 1044.1 L1401.37 1045.08 L1398.27 1046.03 L1395.16 1046.94 L1392.04 1047.83 L1388.9 1048.69 L1385.77 1049.51 \n",
       "  L1382.62 1050.3 L1379.46 1051.06 L1376.3 1051.79 L1373.13 1052.49 L1369.96 1053.15 L1366.77 1053.79 L1363.59 1054.39 L1360.39 1054.96 L1357.19 1055.5 L1353.98 1056 \n",
       "  L1350.77 1056.48 L1347.56 1056.92 L1344.34 1057.33 L1341.12 1057.71 L1337.89 1058.05 L1334.66 1058.37 L1331.43 1058.65 L1328.19 1058.89 L1324.95 1059.11 L1321.71 1059.29 \n",
       "  L1318.47 1059.45 L1315.23 1059.56 L1311.99 1059.65 L1308.74 1059.7 L1305.5 1059.73 L1302.25 1059.71 L1299.01 1059.67 L1295.76 1059.59 L1292.52 1059.49 L1289.28 1059.35 \n",
       "  L1286.04 1059.17 L1282.8 1058.97 L1279.56 1058.73 L1276.33 1058.46 L1273.1 1058.16 L1269.87 1057.82 L1266.64 1057.45 L1263.42 1057.05 L1260.21 1056.62 L1257 1056.16 \n",
       "  L1253.79 1055.66 L1250.59 1055.13 L1247.39 1054.57 L1244.2 1053.98 L1241.01 1053.36 L1237.84 1052.7 L1234.67 1052.02 L1231.5 1051.3 L1228.34 1050.55 L1225.19 1049.76 \n",
       "  L1222.05 1048.95 L1218.92 1048.11 L1215.79 1047.23 L1212.68 1046.32 L1209.57 1045.38 L1206.48 1044.41 L1203.39 1043.41 L1200.31 1042.38 L1197.25 1041.32 L1194.19 1040.23 \n",
       "  L1191.15 1039.11 L1188.11 1037.95 L1185.09 1036.77 L1182.08 1035.55 L1179.08 1034.31 L1176.1 1033.04 L1173.13 1031.73 L1170.17 1030.4 L1167.22 1029.04 L1164.29 1027.64 \n",
       "  L1161.38 1026.22 L1158.47 1024.77 L1155.58 1023.29 L1152.71 1021.78 L1149.85 1020.25 L1147.01 1018.68 L1144.18 1017.09 L1141.37 1015.47 L1138.58 1013.82 L1135.8 1012.14 \n",
       "  L1133.04 1010.43 L1130.3 1008.7 L1127.57 1006.94 L1124.86 1005.15 L1122.17 1003.34 L1119.5 1001.49 L1116.85 999.627 L1114.21 997.732 L1111.6 995.811 L1109 993.865 \n",
       "  L1106.42 991.892 L1103.87 989.894 L1101.33 987.87 L1098.81 985.821 L1096.32 983.747 L1093.84 981.648 L1091.39 979.524 L1088.96 977.376 L1086.55 975.203 L1084.16 973.007 \n",
       "  L1081.79 970.787 L1079.45 968.543 L1077.12 966.277 L1074.82 963.986 L1072.55 961.673 L1070.29 959.338 L1068.07 956.98 L1065.86 954.6 L1063.68 952.198 L1061.52 949.774 \n",
       "  L1059.39 947.328 L1057.28 944.862 L1055.19 942.375 L1053.13 939.866 L1051.1 937.338 L1049.09 934.789 L1047.11 932.22 L1045.15 929.632 L1043.22 927.024 L1041.32 924.396 \n",
       "  L1039.44 921.75 L1037.59 919.086 L1035.76 916.403 L1033.96 913.701 L1032.19 910.982 L1030.45 908.246 L1028.73 905.492 L1027.04 902.721 L1025.38 899.933 L1023.75 897.129 \n",
       "  L1022.14 894.309 L1020.56 891.472 L1019.02 888.62 L1017.5 885.753 L1016.01 882.871 L1014.54 879.974 L1013.11 877.062 L1011.71 874.136 L1010.33 871.197 L1008.99 868.244 \n",
       "  L1007.67 865.277 L1006.39 862.298 L1005.13 859.305 L1003.9 856.301 L1002.71 853.284 L1001.54 850.255 L1000.41 847.215 L999.302 844.164 L998.228 841.102 L997.184 838.029 \n",
       "  L996.172 834.946 L995.19 831.853 L994.239 828.75 L993.319 825.638 L992.43 822.517 L991.573 819.387 L990.747 816.249 L989.952 813.103 L989.189 809.949 L988.457 806.787 \n",
       "  L987.758 803.618 L987.089 800.443 L986.453 797.261 L985.848 794.072 L985.276 790.878 L984.735 787.678 L984.226 784.473 L983.75 781.264 L983.305 778.049 L982.893 774.83 \n",
       "  L982.513 771.607 L982.165 768.381 L981.85 765.151 L981.567 761.918 L981.316 758.683 L981.097 755.445 L980.911 752.206 L980.757 748.964 L980.636 745.721 L980.547 742.477 \n",
       "  L980.491 739.233 L980.467 735.988 L980.475 732.743 L980.516 729.498 L980.589 726.253 L980.695 723.01 L980.834 719.768 L981.004 716.527 L981.207 713.288 L981.443 710.052 \n",
       "  L981.71 706.818 L982.011 703.587 L982.343 700.359 L982.708 697.134 L983.104 693.913 L983.534 690.697 L983.995 687.484 L984.488 684.277 L985.013 681.075 L985.571 677.878 \n",
       "  L986.16 674.687 L986.781 671.502 L987.434 668.323 L988.119 665.151 L988.836 661.986 L989.584 658.828 L990.363 655.678 L991.174 652.536 L992.017 649.402 L992.89 646.277 \n",
       "  L993.795 643.16 L994.731 640.053 L995.699 636.955 L996.697 633.868 L997.725 630.79 L998.785 627.723 L999.875 624.666 L1001 621.621 L1002.15 618.586 L1003.33 615.564 \n",
       "  L1004.54 612.554 L1005.78 609.555 L1007.05 606.57 L1008.35 603.597 L1009.69 600.637 L1011.05 597.691 L1012.44 594.759 L1013.85 591.84 L1015.3 588.936 L1016.78 586.047 \n",
       "  L1018.29 583.172 L1019.82 580.313 L1021.38 577.469 L1022.98 574.641 L1024.6 571.829 L1026.24 569.034 L1027.92 566.255 L1029.62 563.493 L1031.35 560.748 L1033.11 558.02 \n",
       "  L1034.9 555.311 L1036.71 552.619 L1038.55 549.945 L1040.42 547.29 L1042.31 544.654 L1044.23 542.037 L1046.17 539.439 L1048.14 536.861 L1050.14 534.302 L1052.16 531.764 \n",
       "  L1054.21 529.246 L1056.28 526.749 L1058.38 524.272 L1060.5 521.817 L1062.64 519.383 L1064.81 516.97 L1067.01 514.579 L1069.23 512.211 L1071.47 509.864 L1073.73 507.541 \n",
       "  L1076.02 505.24 L1078.33 502.962 L1080.67 500.707 L1083.02 498.475 L1085.4 496.268 L1087.8 494.084 L1090.22 491.924 L1092.67 489.789 L1095.13 487.678 L1097.62 485.592 \n",
       "  L1100.12 483.531 L1102.65 481.495 L1105.2 479.484 L1107.77 477.499 L1110.35 475.54 L1112.96 473.607 L1115.59 471.7 L1118.23 469.819 L1120.89 467.965 L1123.57 466.137 \n",
       "  L1126.27 464.337 L1128.99 462.563 L1131.73 460.817 L1134.48 459.098 L1137.25 457.407 L1140.04 455.744 L1142.84 454.109 L1145.66 452.501 L1148.49 450.922 L1151.34 449.372 \n",
       "  L1154.21 447.849 L1157.09 446.356 L1159.99 444.892 L1162.9 443.456 L1165.82 442.05 L1168.76 440.673 L1171.71 439.326 L1174.68 438.008 L1177.66 436.72 L1180.65 435.462 \n",
       "  L1183.65 434.233 L1186.67 433.035 L1189.69 431.867 L1192.73 430.729 L1195.78 429.622 L1198.85 428.546 L1201.92 427.5 L1205 426.484 L1208.09 425.5 L1211.19 424.547 \n",
       "  L1214.31 423.624 L1217.43 422.733 L1220.55 421.873 L1223.69 421.045 L1226.84 420.248 L1229.99 419.482 L1233.15 418.748 L1236.32 418.045 L1239.5 417.375 L1242.68 416.736 \n",
       "  L1245.86 416.129 L1249.06 415.553 L1252.26 415.01 L1255.46 414.499 L1258.67 414.02 L1261.89 413.573 L1265.1 413.158 L1268.33 412.775 L1271.55 412.425 L1274.78 412.107 \n",
       "  L1278.02 411.821 L1281.25 411.568 L1284.49 411.347 L1287.73 411.158 L1290.97 411.002 L1294.21 410.878 L1297.46 410.786 L1300.7 410.727 L1303.95 410.701 L1304.98 410.699 \n",
       "   Z\n",
       "  \" fill=\"#ff0000\" fill-rule=\"evenodd\" fill-opacity=\"0.5\"/>\n",
       "<polyline clip-path=\"url(#clip712)\" style=\"stroke:#000000; stroke-width:4; stroke-opacity:1; fill:none\" points=\"\n",
       "  1304.98,410.699 1308.22,410.715 1311.47,410.764 1314.71,410.845 1317.96,410.959 1321.2,411.105 1324.44,411.283 1327.68,411.494 1330.91,411.737 1334.15,412.012 \n",
       "  1337.38,412.32 1340.6,412.66 1343.83,413.033 1347.05,413.437 1350.26,413.874 1353.47,414.343 1356.68,414.844 1359.88,415.377 1363.08,415.942 1366.27,416.539 \n",
       "  1369.45,417.168 1372.63,417.828 1375.8,418.521 1378.96,419.245 1382.12,420 1385.27,420.787 1388.41,421.606 1391.54,422.456 1394.66,423.337 1397.77,424.249 \n",
       "  1400.88,425.193 1403.97,426.167 1407.06,427.173 1410.14,428.209 1413.2,429.276 1416.25,430.373 1419.3,431.501 1422.33,432.66 1425.35,433.848 1428.36,435.067 \n",
       "  1431.35,436.316 1434.33,437.594 1437.3,438.903 1440.26,440.241 1443.2,441.608 1446.13,443.005 1449.05,444.431 1451.95,445.887 1454.83,447.371 1457.7,448.884 \n",
       "  1460.56,450.425 1463.4,451.995 1466.22,453.593 1469.03,455.22 1471.82,456.874 1474.6,458.557 1477.36,460.267 1480.1,462.004 1482.82,463.769 1485.53,465.561 \n",
       "  1488.21,467.38 1490.88,469.226 1493.53,471.098 1496.16,472.997 1498.78,474.922 1501.37,476.873 1503.94,478.849 1506.5,480.852 1509.03,482.88 1511.54,484.933 \n",
       "  1514.04,487.011 1516.51,489.114 1518.96,491.241 1521.39,493.393 1523.79,495.569 1526.18,497.77 1528.54,499.993 1530.88,502.241 1533.2,504.511 1535.5,506.805 \n",
       "  1537.77,509.122 1540.02,511.461 1542.25,513.822 1544.45,516.206 1546.63,518.612 1548.78,521.039 1550.91,523.488 1553.01,525.958 1555.09,528.448 1557.15,530.96 \n",
       "  1559.18,533.492 1561.18,536.044 1563.16,538.616 1565.12,541.207 1567.04,543.818 1568.94,546.448 1570.82,549.097 1572.67,551.765 1574.49,554.451 1576.28,557.155 \n",
       "  1578.05,559.877 1579.79,562.616 1581.5,565.373 1583.18,568.147 1584.84,570.937 1586.47,573.744 1588.07,576.567 1589.64,579.406 1591.19,582.26 1592.7,585.13 \n",
       "  1594.19,588.014 1595.65,590.914 1597.07,593.828 1598.47,596.756 1599.84,599.697 1601.18,602.653 1602.49,605.621 1603.78,608.603 1605.03,611.597 1606.25,614.604 \n",
       "  1607.44,617.622 1608.6,620.653 1609.73,623.695 1610.83,626.748 1611.9,629.812 1612.94,632.886 1613.95,635.971 1614.92,639.065 1615.87,642.169 1616.78,645.283 \n",
       "  1617.67,648.405 1618.52,651.537 1619.34,654.676 1620.13,657.824 1620.89,660.979 1621.61,664.142 1622.31,667.312 1622.97,670.488 1623.6,673.671 1624.2,676.861 \n",
       "  1624.77,680.056 1625.31,683.256 1625.81,686.462 1626.28,689.673 1626.72,692.888 1627.13,696.108 1627.5,699.331 1627.85,702.558 1628.16,705.788 1628.43,709.021 \n",
       "  1628.68,712.257 1628.89,715.495 1629.07,718.735 1629.22,721.977 1629.34,725.22 1629.42,728.464 1629.47,731.709 1629.49,734.954 1629.48,738.199 1629.43,741.444 \n",
       "  1629.35,744.688 1629.24,747.931 1629.1,751.173 1628.92,754.414 1628.72,757.652 1628.48,760.888 1628.2,764.122 1627.9,767.353 1627.56,770.58 1627.19,773.804 \n",
       "  1626.79,777.024 1626.35,780.24 1625.89,783.452 1625.39,786.658 1624.86,789.86 1624.3,793.056 1623.7,796.246 1623.08,799.43 1622.42,802.608 1621.73,805.779 \n",
       "  1621.01,808.942 1620.25,812.099 1619.47,815.248 1618.65,818.389 1617.8,821.521 1616.93,824.645 1616.02,827.76 1615.07,830.866 1614.1,833.962 1613.1,837.048 \n",
       "  1612.07,840.124 1611,843.19 1609.91,846.245 1608.78,849.288 1607.63,852.32 1606.44,855.341 1605.22,858.35 1603.98,861.346 1602.7,864.329 1601.39,867.3 \n",
       "  1600.06,870.258 1598.69,873.202 1597.3,876.132 1595.87,879.048 1594.42,881.95 1592.94,884.837 1591.43,887.709 1589.89,890.566 1588.32,893.407 1586.73,896.232 \n",
       "  1585.1,899.042 1583.45,901.835 1581.77,904.611 1580.06,907.37 1578.33,910.113 1576.56,912.837 1574.77,915.544 1572.96,918.233 1571.11,920.904 1569.24,923.556 \n",
       "  1567.35,926.189 1565.42,928.803 1563.48,931.398 1561.5,933.973 1559.5,936.528 1557.47,939.063 1555.42,941.578 1553.35,944.072 1551.25,946.545 1549.12,948.997 \n",
       "  1546.97,951.428 1544.8,953.837 1542.6,956.224 1540.38,958.589 1538.13,960.932 1535.86,963.252 1533.57,965.55 1531.26,967.824 1528.92,970.075 1526.56,972.303 \n",
       "  1524.18,974.506 1521.77,976.686 1519.35,978.842 1516.9,980.974 1514.43,983.081 1511.94,985.163 1509.43,987.22 1506.9,989.252 1504.35,991.258 1501.78,993.239 \n",
       "  1499.19,995.194 1496.58,997.123 1493.95,999.026 1491.31,1000.9 1488.64,1002.75 1485.95,1004.58 1483.25,1006.37 1480.53,1008.14 1477.79,1009.88 1475.04,1011.6 \n",
       "  1472.27,1013.28 1469.48,1014.94 1466.67,1016.57 1463.85,1018.18 1461.01,1019.75 1458.16,1021.3 1455.29,1022.82 1452.41,1024.3 1449.51,1025.76 1446.6,1027.19 \n",
       "  1443.67,1028.6 1440.73,1029.97 1437.77,1031.31 1434.81,1032.62 1431.83,1033.91 1428.83,1035.16 1425.83,1036.38 1422.81,1037.58 1419.78,1038.74 1416.74,1039.87 \n",
       "  1413.69,1040.98 1410.62,1042.05 1407.55,1043.09 1404.47,1044.1 1401.37,1045.08 1398.27,1046.03 1395.16,1046.94 1392.04,1047.83 1388.9,1048.69 1385.77,1049.51 \n",
       "  1382.62,1050.3 1379.46,1051.06 1376.3,1051.79 1373.13,1052.49 1369.96,1053.15 1366.77,1053.79 1363.59,1054.39 1360.39,1054.96 1357.19,1055.5 1353.98,1056 \n",
       "  1350.77,1056.48 1347.56,1056.92 1344.34,1057.33 1341.12,1057.71 1337.89,1058.05 1334.66,1058.37 1331.43,1058.65 1328.19,1058.89 1324.95,1059.11 1321.71,1059.29 \n",
       "  1318.47,1059.45 1315.23,1059.56 1311.99,1059.65 1308.74,1059.7 1305.5,1059.73 1302.25,1059.71 1299.01,1059.67 1295.76,1059.59 1292.52,1059.49 1289.28,1059.35 \n",
       "  1286.04,1059.17 1282.8,1058.97 1279.56,1058.73 1276.33,1058.46 1273.1,1058.16 1269.87,1057.82 1266.64,1057.45 1263.42,1057.05 1260.21,1056.62 1257,1056.16 \n",
       "  1253.79,1055.66 1250.59,1055.13 1247.39,1054.57 1244.2,1053.98 1241.01,1053.36 1237.84,1052.7 1234.67,1052.02 1231.5,1051.3 1228.34,1050.55 1225.19,1049.76 \n",
       "  1222.05,1048.95 1218.92,1048.11 1215.79,1047.23 1212.68,1046.32 1209.57,1045.38 1206.48,1044.41 1203.39,1043.41 1200.31,1042.38 1197.25,1041.32 1194.19,1040.23 \n",
       "  1191.15,1039.11 1188.11,1037.95 1185.09,1036.77 1182.08,1035.55 1179.08,1034.31 1176.1,1033.04 1173.13,1031.73 1170.17,1030.4 1167.22,1029.04 1164.29,1027.64 \n",
       "  1161.38,1026.22 1158.47,1024.77 1155.58,1023.29 1152.71,1021.78 1149.85,1020.25 1147.01,1018.68 1144.18,1017.09 1141.37,1015.47 1138.58,1013.82 1135.8,1012.14 \n",
       "  1133.04,1010.43 1130.3,1008.7 1127.57,1006.94 1124.86,1005.15 1122.17,1003.34 1119.5,1001.49 1116.85,999.627 1114.21,997.732 1111.6,995.811 1109,993.865 \n",
       "  1106.42,991.892 1103.87,989.894 1101.33,987.87 1098.81,985.821 1096.32,983.747 1093.84,981.648 1091.39,979.524 1088.96,977.376 1086.55,975.203 1084.16,973.007 \n",
       "  1081.79,970.787 1079.45,968.543 1077.12,966.277 1074.82,963.986 1072.55,961.673 1070.29,959.338 1068.07,956.98 1065.86,954.6 1063.68,952.198 1061.52,949.774 \n",
       "  1059.39,947.328 1057.28,944.862 1055.19,942.375 1053.13,939.866 1051.1,937.338 1049.09,934.789 1047.11,932.22 1045.15,929.632 1043.22,927.024 1041.32,924.396 \n",
       "  1039.44,921.75 1037.59,919.086 1035.76,916.403 1033.96,913.701 1032.19,910.982 1030.45,908.246 1028.73,905.492 1027.04,902.721 1025.38,899.933 1023.75,897.129 \n",
       "  1022.14,894.309 1020.56,891.472 1019.02,888.62 1017.5,885.753 1016.01,882.871 1014.54,879.974 1013.11,877.062 1011.71,874.136 1010.33,871.197 1008.99,868.244 \n",
       "  1007.67,865.277 1006.39,862.298 1005.13,859.305 1003.9,856.301 1002.71,853.284 1001.54,850.255 1000.41,847.215 999.302,844.164 998.228,841.102 997.184,838.029 \n",
       "  996.172,834.946 995.19,831.853 994.239,828.75 993.319,825.638 992.43,822.517 991.573,819.387 990.747,816.249 989.952,813.103 989.189,809.949 988.457,806.787 \n",
       "  987.758,803.618 987.089,800.443 986.453,797.261 985.848,794.072 985.276,790.878 984.735,787.678 984.226,784.473 983.75,781.264 983.305,778.049 982.893,774.83 \n",
       "  982.513,771.607 982.165,768.381 981.85,765.151 981.567,761.918 981.316,758.683 981.097,755.445 980.911,752.206 980.757,748.964 980.636,745.721 980.547,742.477 \n",
       "  980.491,739.233 980.467,735.988 980.475,732.743 980.516,729.498 980.589,726.253 980.695,723.01 980.834,719.768 981.004,716.527 981.207,713.288 981.443,710.052 \n",
       "  981.71,706.818 982.011,703.587 982.343,700.359 982.708,697.134 983.104,693.913 983.534,690.697 983.995,687.484 984.488,684.277 985.013,681.075 985.571,677.878 \n",
       "  986.16,674.687 986.781,671.502 987.434,668.323 988.119,665.151 988.836,661.986 989.584,658.828 990.363,655.678 991.174,652.536 992.017,649.402 992.89,646.277 \n",
       "  993.795,643.16 994.731,640.053 995.699,636.955 996.697,633.868 997.725,630.79 998.785,627.723 999.875,624.666 1001,621.621 1002.15,618.586 1003.33,615.564 \n",
       "  1004.54,612.554 1005.78,609.555 1007.05,606.57 1008.35,603.597 1009.69,600.637 1011.05,597.691 1012.44,594.759 1013.85,591.84 1015.3,588.936 1016.78,586.047 \n",
       "  1018.29,583.172 1019.82,580.313 1021.38,577.469 1022.98,574.641 1024.6,571.829 1026.24,569.034 1027.92,566.255 1029.62,563.493 1031.35,560.748 1033.11,558.02 \n",
       "  1034.9,555.311 1036.71,552.619 1038.55,549.945 1040.42,547.29 1042.31,544.654 1044.23,542.037 1046.17,539.439 1048.14,536.861 1050.14,534.302 1052.16,531.764 \n",
       "  1054.21,529.246 1056.28,526.749 1058.38,524.272 1060.5,521.817 1062.64,519.383 1064.81,516.97 1067.01,514.579 1069.23,512.211 1071.47,509.864 1073.73,507.541 \n",
       "  1076.02,505.24 1078.33,502.962 1080.67,500.707 1083.02,498.475 1085.4,496.268 1087.8,494.084 1090.22,491.924 1092.67,489.789 1095.13,487.678 1097.62,485.592 \n",
       "  1100.12,483.531 1102.65,481.495 1105.2,479.484 1107.77,477.499 1110.35,475.54 1112.96,473.607 1115.59,471.7 1118.23,469.819 1120.89,467.965 1123.57,466.137 \n",
       "  1126.27,464.337 1128.99,462.563 1131.73,460.817 1134.48,459.098 1137.25,457.407 1140.04,455.744 1142.84,454.109 1145.66,452.501 1148.49,450.922 1151.34,449.372 \n",
       "  1154.21,447.849 1157.09,446.356 1159.99,444.892 1162.9,443.456 1165.82,442.05 1168.76,440.673 1171.71,439.326 1174.68,438.008 1177.66,436.72 1180.65,435.462 \n",
       "  1183.65,434.233 1186.67,433.035 1189.69,431.867 1192.73,430.729 1195.78,429.622 1198.85,428.546 1201.92,427.5 1205,426.484 1208.09,425.5 1211.19,424.547 \n",
       "  1214.31,423.624 1217.43,422.733 1220.55,421.873 1223.69,421.045 1226.84,420.248 1229.99,419.482 1233.15,418.748 1236.32,418.045 1239.5,417.375 1242.68,416.736 \n",
       "  1245.86,416.129 1249.06,415.553 1252.26,415.01 1255.46,414.499 1258.67,414.02 1261.89,413.573 1265.1,413.158 1268.33,412.775 1271.55,412.425 1274.78,412.107 \n",
       "  1278.02,411.821 1281.25,411.568 1284.49,411.347 1287.73,411.158 1290.97,411.002 1294.21,410.878 1297.46,410.786 1300.7,410.727 1303.95,410.701 1304.98,410.699 \n",
       "  \n",
       "  \"/>\n",
       "<path clip-path=\"url(#clip712)\" d=\"\n",
       "M1521.32 410.699 L1524.57 410.715 L1527.81 410.764 L1531.06 410.845 L1534.3 410.959 L1537.54 411.105 L1540.78 411.283 L1544.02 411.494 L1547.25 411.737 L1550.49 412.012 \n",
       "  L1553.72 412.32 L1556.95 412.66 L1560.17 413.033 L1563.39 413.437 L1566.6 413.874 L1569.82 414.343 L1573.02 414.844 L1576.22 415.377 L1579.42 415.942 L1582.61 416.539 \n",
       "  L1585.79 417.168 L1588.97 417.828 L1592.14 418.521 L1595.3 419.245 L1598.46 420 L1601.61 420.787 L1604.75 421.606 L1607.88 422.456 L1611 423.337 L1614.12 424.249 \n",
       "  L1617.22 425.193 L1620.32 426.167 L1623.4 427.173 L1626.48 428.209 L1629.54 429.276 L1632.6 430.373 L1635.64 431.501 L1638.67 432.66 L1641.69 433.848 L1644.7 435.067 \n",
       "  L1647.69 436.316 L1650.68 437.594 L1653.65 438.903 L1656.6 440.241 L1659.54 441.608 L1662.47 443.005 L1665.39 444.431 L1668.29 445.887 L1671.17 447.371 L1674.05 448.884 \n",
       "  L1676.9 450.425 L1679.74 451.995 L1682.57 453.593 L1685.37 455.22 L1688.17 456.874 L1690.94 458.557 L1693.7 460.267 L1696.44 462.004 L1699.16 463.769 L1701.87 465.561 \n",
       "  L1704.56 467.38 L1707.22 469.226 L1709.88 471.098 L1712.51 472.997 L1715.12 474.922 L1717.71 476.873 L1720.29 478.849 L1722.84 480.852 L1725.37 482.88 L1727.89 484.933 \n",
       "  L1730.38 487.011 L1732.85 489.114 L1735.3 491.241 L1737.73 493.393 L1740.14 495.569 L1742.52 497.77 L1744.89 499.993 L1747.23 502.241 L1749.54 504.511 L1751.84 506.805 \n",
       "  L1754.11 509.122 L1756.36 511.461 L1758.59 513.822 L1760.79 516.206 L1762.97 518.612 L1765.12 521.039 L1767.25 523.488 L1769.36 525.958 L1771.44 528.448 L1773.49 530.96 \n",
       "  L1775.52 533.492 L1777.53 536.044 L1779.5 538.616 L1781.46 541.207 L1783.38 543.818 L1785.29 546.448 L1787.16 549.097 L1789.01 551.765 L1790.83 554.451 L1792.62 557.155 \n",
       "  L1794.39 559.877 L1796.13 562.616 L1797.84 565.373 L1799.53 568.147 L1801.18 570.937 L1802.81 573.744 L1804.41 576.567 L1805.98 579.406 L1807.53 582.26 L1809.04 585.13 \n",
       "  L1810.53 588.014 L1811.99 590.914 L1813.42 593.828 L1814.82 596.756 L1816.19 599.697 L1817.53 602.653 L1818.84 605.621 L1820.12 608.603 L1821.37 611.597 L1822.59 614.604 \n",
       "  L1823.78 617.622 L1824.94 620.653 L1826.07 623.695 L1827.17 626.748 L1828.24 629.812 L1829.28 632.886 L1830.29 635.971 L1831.26 639.065 L1832.21 642.169 L1833.13 645.283 \n",
       "  L1834.01 648.405 L1834.86 651.537 L1835.68 654.676 L1836.47 657.824 L1837.23 660.979 L1837.96 664.142 L1838.65 667.312 L1839.31 670.488 L1839.95 673.671 L1840.55 676.861 \n",
       "  L1841.11 680.056 L1841.65 683.256 L1842.15 686.462 L1842.62 689.673 L1843.06 692.888 L1843.47 696.108 L1843.84 699.331 L1844.19 702.558 L1844.5 705.788 L1844.78 709.021 \n",
       "  L1845.02 712.257 L1845.24 715.495 L1845.42 718.735 L1845.56 721.977 L1845.68 725.22 L1845.76 728.464 L1845.82 731.709 L1845.83 734.954 L1845.82 738.199 L1845.77 741.444 \n",
       "  L1845.7 744.688 L1845.59 747.931 L1845.44 751.173 L1845.27 754.414 L1845.06 757.652 L1844.82 760.888 L1844.54 764.122 L1844.24 767.353 L1843.9 770.58 L1843.53 773.804 \n",
       "  L1843.13 777.024 L1842.7 780.24 L1842.23 783.452 L1841.73 786.658 L1841.2 789.86 L1840.64 793.056 L1840.04 796.246 L1839.42 799.43 L1838.76 802.608 L1838.07 805.779 \n",
       "  L1837.35 808.942 L1836.59 812.099 L1835.81 815.248 L1834.99 818.389 L1834.15 821.521 L1833.27 824.645 L1832.36 827.76 L1831.42 830.866 L1830.45 833.962 L1829.44 837.048 \n",
       "  L1828.41 840.124 L1827.34 843.19 L1826.25 846.245 L1825.12 849.288 L1823.97 852.32 L1822.78 855.341 L1821.56 858.35 L1820.32 861.346 L1819.04 864.329 L1817.74 867.3 \n",
       "  L1816.4 870.258 L1815.04 873.202 L1813.64 876.132 L1812.22 879.048 L1810.76 881.95 L1809.28 884.837 L1807.77 887.709 L1806.23 890.566 L1804.66 893.407 L1803.07 896.232 \n",
       "  L1801.44 899.042 L1799.79 901.835 L1798.11 904.611 L1796.4 907.37 L1794.67 910.113 L1792.91 912.837 L1791.12 915.544 L1789.3 918.233 L1787.46 920.904 L1785.59 923.556 \n",
       "  L1783.69 926.189 L1781.77 928.803 L1779.82 931.398 L1777.84 933.973 L1775.84 936.528 L1773.82 939.063 L1771.77 941.578 L1769.69 944.072 L1767.59 946.545 L1765.46 948.997 \n",
       "  L1763.31 951.428 L1761.14 953.837 L1758.94 956.224 L1756.72 958.589 L1754.47 960.932 L1752.2 963.252 L1749.91 965.55 L1747.6 967.824 L1745.26 970.075 L1742.9 972.303 \n",
       "  L1740.52 974.506 L1738.11 976.686 L1735.69 978.842 L1733.24 980.974 L1730.77 983.081 L1728.28 985.163 L1725.77 987.22 L1723.24 989.252 L1720.69 991.258 L1718.12 993.239 \n",
       "  L1715.53 995.194 L1712.92 997.123 L1710.3 999.026 L1707.65 1000.9 L1704.98 1002.75 L1702.3 1004.58 L1699.59 1006.37 L1696.87 1008.14 L1694.14 1009.88 L1691.38 1011.6 \n",
       "  L1688.61 1013.28 L1685.82 1014.94 L1683.01 1016.57 L1680.19 1018.18 L1677.35 1019.75 L1674.5 1021.3 L1671.63 1022.82 L1668.75 1024.3 L1665.85 1025.76 L1662.94 1027.19 \n",
       "  L1660.01 1028.6 L1657.07 1029.97 L1654.12 1031.31 L1651.15 1032.62 L1648.17 1033.91 L1645.18 1035.16 L1642.17 1036.38 L1639.15 1037.58 L1636.12 1038.74 L1633.08 1039.87 \n",
       "  L1630.03 1040.98 L1626.97 1042.05 L1623.89 1043.09 L1620.81 1044.1 L1617.72 1045.08 L1614.61 1046.03 L1611.5 1046.94 L1608.38 1047.83 L1605.25 1048.69 L1602.11 1049.51 \n",
       "  L1598.96 1050.3 L1595.81 1051.06 L1592.64 1051.79 L1589.47 1052.49 L1586.3 1053.15 L1583.12 1053.79 L1579.93 1054.39 L1576.73 1054.96 L1573.53 1055.5 L1570.33 1056 \n",
       "  L1567.12 1056.48 L1563.9 1056.92 L1560.68 1057.33 L1557.46 1057.71 L1554.23 1058.05 L1551 1058.37 L1547.77 1058.65 L1544.53 1058.89 L1541.3 1059.11 L1538.06 1059.29 \n",
       "  L1534.81 1059.45 L1531.57 1059.56 L1528.33 1059.65 L1525.08 1059.7 L1521.84 1059.73 L1518.59 1059.71 L1515.35 1059.67 L1512.1 1059.59 L1508.86 1059.49 L1505.62 1059.35 \n",
       "  L1502.38 1059.17 L1499.14 1058.97 L1495.9 1058.73 L1492.67 1058.46 L1489.44 1058.16 L1486.21 1057.82 L1482.99 1057.45 L1479.77 1057.05 L1476.55 1056.62 L1473.34 1056.16 \n",
       "  L1470.13 1055.66 L1466.93 1055.13 L1463.73 1054.57 L1460.54 1053.98 L1457.36 1053.36 L1454.18 1052.7 L1451.01 1052.02 L1447.84 1051.3 L1444.69 1050.55 L1441.54 1049.76 \n",
       "  L1438.39 1048.95 L1435.26 1048.11 L1432.14 1047.23 L1429.02 1046.32 L1425.92 1045.38 L1422.82 1044.41 L1419.73 1043.41 L1416.65 1042.38 L1413.59 1041.32 L1410.53 1040.23 \n",
       "  L1407.49 1039.11 L1404.45 1037.95 L1401.43 1036.77 L1398.42 1035.55 L1395.43 1034.31 L1392.44 1033.04 L1389.47 1031.73 L1386.51 1030.4 L1383.57 1029.04 L1380.63 1027.64 \n",
       "  L1377.72 1026.22 L1374.81 1024.77 L1371.93 1023.29 L1369.05 1021.78 L1366.2 1020.25 L1363.35 1018.68 L1360.53 1017.09 L1357.72 1015.47 L1354.92 1013.82 L1352.14 1012.14 \n",
       "  L1349.38 1010.43 L1346.64 1008.7 L1343.91 1006.94 L1341.2 1005.15 L1338.51 1003.34 L1335.84 1001.49 L1333.19 999.627 L1330.55 997.732 L1327.94 995.811 L1325.34 993.865 \n",
       "  L1322.77 991.892 L1320.21 989.894 L1317.67 987.87 L1315.16 985.821 L1312.66 983.747 L1310.18 981.648 L1307.73 979.524 L1305.3 977.376 L1302.89 975.203 L1300.5 973.007 \n",
       "  L1298.13 970.787 L1295.79 968.543 L1293.47 966.277 L1291.17 963.986 L1288.89 961.673 L1286.64 959.338 L1284.41 956.98 L1282.2 954.6 L1280.02 952.198 L1277.86 949.774 \n",
       "  L1275.73 947.328 L1273.62 944.862 L1271.54 942.375 L1269.48 939.866 L1267.44 937.338 L1265.43 934.789 L1263.45 932.22 L1261.49 929.632 L1259.56 927.024 L1257.66 924.396 \n",
       "  L1255.78 921.75 L1253.93 919.086 L1252.1 916.403 L1250.3 913.701 L1248.53 910.982 L1246.79 908.246 L1245.07 905.492 L1243.38 902.721 L1241.72 899.933 L1240.09 897.129 \n",
       "  L1238.48 894.309 L1236.91 891.472 L1235.36 888.62 L1233.84 885.753 L1232.35 882.871 L1230.89 879.974 L1229.45 877.062 L1228.05 874.136 L1226.67 871.197 L1225.33 868.244 \n",
       "  L1224.01 865.277 L1222.73 862.298 L1221.47 859.305 L1220.25 856.301 L1219.05 853.284 L1217.88 850.255 L1216.75 847.215 L1215.64 844.164 L1214.57 841.102 L1213.53 838.029 \n",
       "  L1212.51 834.946 L1211.53 831.853 L1210.58 828.75 L1209.66 825.638 L1208.77 822.517 L1207.92 819.387 L1207.09 816.249 L1206.29 813.103 L1205.53 809.949 L1204.8 806.787 \n",
       "  L1204.1 803.618 L1203.43 800.443 L1202.8 797.261 L1202.19 794.072 L1201.62 790.878 L1201.08 787.678 L1200.57 784.473 L1200.09 781.264 L1199.65 778.049 L1199.24 774.83 \n",
       "  L1198.86 771.607 L1198.51 768.381 L1198.19 765.151 L1197.91 761.918 L1197.66 758.683 L1197.44 755.445 L1197.25 752.206 L1197.1 748.964 L1196.98 745.721 L1196.89 742.477 \n",
       "  L1196.83 739.233 L1196.81 735.988 L1196.82 732.743 L1196.86 729.498 L1196.93 726.253 L1197.04 723.01 L1197.18 719.768 L1197.35 716.527 L1197.55 713.288 L1197.78 710.052 \n",
       "  L1198.05 706.818 L1198.35 703.587 L1198.69 700.359 L1199.05 697.134 L1199.45 693.913 L1199.88 690.697 L1200.34 687.484 L1200.83 684.277 L1201.36 681.075 L1201.91 677.878 \n",
       "  L1202.5 674.687 L1203.12 671.502 L1203.78 668.323 L1204.46 665.151 L1205.18 661.986 L1205.93 658.828 L1206.71 655.678 L1207.52 652.536 L1208.36 649.402 L1209.23 646.277 \n",
       "  L1210.14 643.16 L1211.07 640.053 L1212.04 636.955 L1213.04 633.868 L1214.07 630.79 L1215.13 627.723 L1216.22 624.666 L1217.34 621.621 L1218.49 618.586 L1219.67 615.564 \n",
       "  L1220.88 612.554 L1222.12 609.555 L1223.4 606.57 L1224.7 603.597 L1226.03 600.637 L1227.39 597.691 L1228.78 594.759 L1230.2 591.84 L1231.65 588.936 L1233.12 586.047 \n",
       "  L1234.63 583.172 L1236.16 580.313 L1237.73 577.469 L1239.32 574.641 L1240.94 571.829 L1242.59 569.034 L1244.26 566.255 L1245.96 563.493 L1247.7 560.748 L1249.45 558.02 \n",
       "  L1251.24 555.311 L1253.05 552.619 L1254.89 549.945 L1256.76 547.29 L1258.65 544.654 L1260.57 542.037 L1262.51 539.439 L1264.48 536.861 L1266.48 534.302 L1268.5 531.764 \n",
       "  L1270.55 529.246 L1272.62 526.749 L1274.72 524.272 L1276.84 521.817 L1278.99 519.383 L1281.16 516.97 L1283.35 514.579 L1285.57 512.211 L1287.81 509.864 L1290.08 507.541 \n",
       "  L1292.36 505.24 L1294.68 502.962 L1297.01 500.707 L1299.37 498.475 L1301.74 496.268 L1304.14 494.084 L1306.57 491.924 L1309.01 489.789 L1311.47 487.678 L1313.96 485.592 \n",
       "  L1316.47 483.531 L1318.99 481.495 L1321.54 479.484 L1324.11 477.499 L1326.7 475.54 L1329.3 473.607 L1331.93 471.7 L1334.57 469.819 L1337.24 467.965 L1339.92 466.137 \n",
       "  L1342.62 464.337 L1345.33 462.563 L1348.07 460.817 L1350.82 459.098 L1353.59 457.407 L1356.38 455.744 L1359.18 454.109 L1362 452.501 L1364.84 450.922 L1367.69 449.372 \n",
       "  L1370.55 447.849 L1373.43 446.356 L1376.33 444.892 L1379.24 443.456 L1382.16 442.05 L1385.1 440.673 L1388.05 439.326 L1391.02 438.008 L1394 436.72 L1396.99 435.462 \n",
       "  L1399.99 434.233 L1403.01 433.035 L1406.04 431.867 L1409.08 430.729 L1412.13 429.622 L1415.19 428.546 L1418.26 427.5 L1421.34 426.484 L1424.43 425.5 L1427.54 424.547 \n",
       "  L1430.65 423.624 L1433.77 422.733 L1436.9 421.873 L1440.03 421.045 L1443.18 420.248 L1446.33 419.482 L1449.49 418.748 L1452.66 418.045 L1455.84 417.375 L1459.02 416.736 \n",
       "  L1462.21 416.129 L1465.4 415.553 L1468.6 415.01 L1471.8 414.499 L1475.01 414.02 L1478.23 413.573 L1481.45 413.158 L1484.67 412.775 L1487.9 412.425 L1491.13 412.107 \n",
       "  L1494.36 411.821 L1497.59 411.568 L1500.83 411.347 L1504.07 411.158 L1507.31 411.002 L1510.55 410.878 L1513.8 410.786 L1517.04 410.727 L1520.29 410.701 L1521.32 410.699 \n",
       "   Z\n",
       "  \" fill=\"#ff0000\" fill-rule=\"evenodd\" fill-opacity=\"0.5\"/>\n",
       "<polyline clip-path=\"url(#clip712)\" style=\"stroke:#000000; stroke-width:4; stroke-opacity:1; fill:none\" points=\"\n",
       "  1521.32,410.699 1524.57,410.715 1527.81,410.764 1531.06,410.845 1534.3,410.959 1537.54,411.105 1540.78,411.283 1544.02,411.494 1547.25,411.737 1550.49,412.012 \n",
       "  1553.72,412.32 1556.95,412.66 1560.17,413.033 1563.39,413.437 1566.6,413.874 1569.82,414.343 1573.02,414.844 1576.22,415.377 1579.42,415.942 1582.61,416.539 \n",
       "  1585.79,417.168 1588.97,417.828 1592.14,418.521 1595.3,419.245 1598.46,420 1601.61,420.787 1604.75,421.606 1607.88,422.456 1611,423.337 1614.12,424.249 \n",
       "  1617.22,425.193 1620.32,426.167 1623.4,427.173 1626.48,428.209 1629.54,429.276 1632.6,430.373 1635.64,431.501 1638.67,432.66 1641.69,433.848 1644.7,435.067 \n",
       "  1647.69,436.316 1650.68,437.594 1653.65,438.903 1656.6,440.241 1659.54,441.608 1662.47,443.005 1665.39,444.431 1668.29,445.887 1671.17,447.371 1674.05,448.884 \n",
       "  1676.9,450.425 1679.74,451.995 1682.57,453.593 1685.37,455.22 1688.17,456.874 1690.94,458.557 1693.7,460.267 1696.44,462.004 1699.16,463.769 1701.87,465.561 \n",
       "  1704.56,467.38 1707.22,469.226 1709.88,471.098 1712.51,472.997 1715.12,474.922 1717.71,476.873 1720.29,478.849 1722.84,480.852 1725.37,482.88 1727.89,484.933 \n",
       "  1730.38,487.011 1732.85,489.114 1735.3,491.241 1737.73,493.393 1740.14,495.569 1742.52,497.77 1744.89,499.993 1747.23,502.241 1749.54,504.511 1751.84,506.805 \n",
       "  1754.11,509.122 1756.36,511.461 1758.59,513.822 1760.79,516.206 1762.97,518.612 1765.12,521.039 1767.25,523.488 1769.36,525.958 1771.44,528.448 1773.49,530.96 \n",
       "  1775.52,533.492 1777.53,536.044 1779.5,538.616 1781.46,541.207 1783.38,543.818 1785.29,546.448 1787.16,549.097 1789.01,551.765 1790.83,554.451 1792.62,557.155 \n",
       "  1794.39,559.877 1796.13,562.616 1797.84,565.373 1799.53,568.147 1801.18,570.937 1802.81,573.744 1804.41,576.567 1805.98,579.406 1807.53,582.26 1809.04,585.13 \n",
       "  1810.53,588.014 1811.99,590.914 1813.42,593.828 1814.82,596.756 1816.19,599.697 1817.53,602.653 1818.84,605.621 1820.12,608.603 1821.37,611.597 1822.59,614.604 \n",
       "  1823.78,617.622 1824.94,620.653 1826.07,623.695 1827.17,626.748 1828.24,629.812 1829.28,632.886 1830.29,635.971 1831.26,639.065 1832.21,642.169 1833.13,645.283 \n",
       "  1834.01,648.405 1834.86,651.537 1835.68,654.676 1836.47,657.824 1837.23,660.979 1837.96,664.142 1838.65,667.312 1839.31,670.488 1839.95,673.671 1840.55,676.861 \n",
       "  1841.11,680.056 1841.65,683.256 1842.15,686.462 1842.62,689.673 1843.06,692.888 1843.47,696.108 1843.84,699.331 1844.19,702.558 1844.5,705.788 1844.78,709.021 \n",
       "  1845.02,712.257 1845.24,715.495 1845.42,718.735 1845.56,721.977 1845.68,725.22 1845.76,728.464 1845.82,731.709 1845.83,734.954 1845.82,738.199 1845.77,741.444 \n",
       "  1845.7,744.688 1845.59,747.931 1845.44,751.173 1845.27,754.414 1845.06,757.652 1844.82,760.888 1844.54,764.122 1844.24,767.353 1843.9,770.58 1843.53,773.804 \n",
       "  1843.13,777.024 1842.7,780.24 1842.23,783.452 1841.73,786.658 1841.2,789.86 1840.64,793.056 1840.04,796.246 1839.42,799.43 1838.76,802.608 1838.07,805.779 \n",
       "  1837.35,808.942 1836.59,812.099 1835.81,815.248 1834.99,818.389 1834.15,821.521 1833.27,824.645 1832.36,827.76 1831.42,830.866 1830.45,833.962 1829.44,837.048 \n",
       "  1828.41,840.124 1827.34,843.19 1826.25,846.245 1825.12,849.288 1823.97,852.32 1822.78,855.341 1821.56,858.35 1820.32,861.346 1819.04,864.329 1817.74,867.3 \n",
       "  1816.4,870.258 1815.04,873.202 1813.64,876.132 1812.22,879.048 1810.76,881.95 1809.28,884.837 1807.77,887.709 1806.23,890.566 1804.66,893.407 1803.07,896.232 \n",
       "  1801.44,899.042 1799.79,901.835 1798.11,904.611 1796.4,907.37 1794.67,910.113 1792.91,912.837 1791.12,915.544 1789.3,918.233 1787.46,920.904 1785.59,923.556 \n",
       "  1783.69,926.189 1781.77,928.803 1779.82,931.398 1777.84,933.973 1775.84,936.528 1773.82,939.063 1771.77,941.578 1769.69,944.072 1767.59,946.545 1765.46,948.997 \n",
       "  1763.31,951.428 1761.14,953.837 1758.94,956.224 1756.72,958.589 1754.47,960.932 1752.2,963.252 1749.91,965.55 1747.6,967.824 1745.26,970.075 1742.9,972.303 \n",
       "  1740.52,974.506 1738.11,976.686 1735.69,978.842 1733.24,980.974 1730.77,983.081 1728.28,985.163 1725.77,987.22 1723.24,989.252 1720.69,991.258 1718.12,993.239 \n",
       "  1715.53,995.194 1712.92,997.123 1710.3,999.026 1707.65,1000.9 1704.98,1002.75 1702.3,1004.58 1699.59,1006.37 1696.87,1008.14 1694.14,1009.88 1691.38,1011.6 \n",
       "  1688.61,1013.28 1685.82,1014.94 1683.01,1016.57 1680.19,1018.18 1677.35,1019.75 1674.5,1021.3 1671.63,1022.82 1668.75,1024.3 1665.85,1025.76 1662.94,1027.19 \n",
       "  1660.01,1028.6 1657.07,1029.97 1654.12,1031.31 1651.15,1032.62 1648.17,1033.91 1645.18,1035.16 1642.17,1036.38 1639.15,1037.58 1636.12,1038.74 1633.08,1039.87 \n",
       "  1630.03,1040.98 1626.97,1042.05 1623.89,1043.09 1620.81,1044.1 1617.72,1045.08 1614.61,1046.03 1611.5,1046.94 1608.38,1047.83 1605.25,1048.69 1602.11,1049.51 \n",
       "  1598.96,1050.3 1595.81,1051.06 1592.64,1051.79 1589.47,1052.49 1586.3,1053.15 1583.12,1053.79 1579.93,1054.39 1576.73,1054.96 1573.53,1055.5 1570.33,1056 \n",
       "  1567.12,1056.48 1563.9,1056.92 1560.68,1057.33 1557.46,1057.71 1554.23,1058.05 1551,1058.37 1547.77,1058.65 1544.53,1058.89 1541.3,1059.11 1538.06,1059.29 \n",
       "  1534.81,1059.45 1531.57,1059.56 1528.33,1059.65 1525.08,1059.7 1521.84,1059.73 1518.59,1059.71 1515.35,1059.67 1512.1,1059.59 1508.86,1059.49 1505.62,1059.35 \n",
       "  1502.38,1059.17 1499.14,1058.97 1495.9,1058.73 1492.67,1058.46 1489.44,1058.16 1486.21,1057.82 1482.99,1057.45 1479.77,1057.05 1476.55,1056.62 1473.34,1056.16 \n",
       "  1470.13,1055.66 1466.93,1055.13 1463.73,1054.57 1460.54,1053.98 1457.36,1053.36 1454.18,1052.7 1451.01,1052.02 1447.84,1051.3 1444.69,1050.55 1441.54,1049.76 \n",
       "  1438.39,1048.95 1435.26,1048.11 1432.14,1047.23 1429.02,1046.32 1425.92,1045.38 1422.82,1044.41 1419.73,1043.41 1416.65,1042.38 1413.59,1041.32 1410.53,1040.23 \n",
       "  1407.49,1039.11 1404.45,1037.95 1401.43,1036.77 1398.42,1035.55 1395.43,1034.31 1392.44,1033.04 1389.47,1031.73 1386.51,1030.4 1383.57,1029.04 1380.63,1027.64 \n",
       "  1377.72,1026.22 1374.81,1024.77 1371.93,1023.29 1369.05,1021.78 1366.2,1020.25 1363.35,1018.68 1360.53,1017.09 1357.72,1015.47 1354.92,1013.82 1352.14,1012.14 \n",
       "  1349.38,1010.43 1346.64,1008.7 1343.91,1006.94 1341.2,1005.15 1338.51,1003.34 1335.84,1001.49 1333.19,999.627 1330.55,997.732 1327.94,995.811 1325.34,993.865 \n",
       "  1322.77,991.892 1320.21,989.894 1317.67,987.87 1315.16,985.821 1312.66,983.747 1310.18,981.648 1307.73,979.524 1305.3,977.376 1302.89,975.203 1300.5,973.007 \n",
       "  1298.13,970.787 1295.79,968.543 1293.47,966.277 1291.17,963.986 1288.89,961.673 1286.64,959.338 1284.41,956.98 1282.2,954.6 1280.02,952.198 1277.86,949.774 \n",
       "  1275.73,947.328 1273.62,944.862 1271.54,942.375 1269.48,939.866 1267.44,937.338 1265.43,934.789 1263.45,932.22 1261.49,929.632 1259.56,927.024 1257.66,924.396 \n",
       "  1255.78,921.75 1253.93,919.086 1252.1,916.403 1250.3,913.701 1248.53,910.982 1246.79,908.246 1245.07,905.492 1243.38,902.721 1241.72,899.933 1240.09,897.129 \n",
       "  1238.48,894.309 1236.91,891.472 1235.36,888.62 1233.84,885.753 1232.35,882.871 1230.89,879.974 1229.45,877.062 1228.05,874.136 1226.67,871.197 1225.33,868.244 \n",
       "  1224.01,865.277 1222.73,862.298 1221.47,859.305 1220.25,856.301 1219.05,853.284 1217.88,850.255 1216.75,847.215 1215.64,844.164 1214.57,841.102 1213.53,838.029 \n",
       "  1212.51,834.946 1211.53,831.853 1210.58,828.75 1209.66,825.638 1208.77,822.517 1207.92,819.387 1207.09,816.249 1206.29,813.103 1205.53,809.949 1204.8,806.787 \n",
       "  1204.1,803.618 1203.43,800.443 1202.8,797.261 1202.19,794.072 1201.62,790.878 1201.08,787.678 1200.57,784.473 1200.09,781.264 1199.65,778.049 1199.24,774.83 \n",
       "  1198.86,771.607 1198.51,768.381 1198.19,765.151 1197.91,761.918 1197.66,758.683 1197.44,755.445 1197.25,752.206 1197.1,748.964 1196.98,745.721 1196.89,742.477 \n",
       "  1196.83,739.233 1196.81,735.988 1196.82,732.743 1196.86,729.498 1196.93,726.253 1197.04,723.01 1197.18,719.768 1197.35,716.527 1197.55,713.288 1197.78,710.052 \n",
       "  1198.05,706.818 1198.35,703.587 1198.69,700.359 1199.05,697.134 1199.45,693.913 1199.88,690.697 1200.34,687.484 1200.83,684.277 1201.36,681.075 1201.91,677.878 \n",
       "  1202.5,674.687 1203.12,671.502 1203.78,668.323 1204.46,665.151 1205.18,661.986 1205.93,658.828 1206.71,655.678 1207.52,652.536 1208.36,649.402 1209.23,646.277 \n",
       "  1210.14,643.16 1211.07,640.053 1212.04,636.955 1213.04,633.868 1214.07,630.79 1215.13,627.723 1216.22,624.666 1217.34,621.621 1218.49,618.586 1219.67,615.564 \n",
       "  1220.88,612.554 1222.12,609.555 1223.4,606.57 1224.7,603.597 1226.03,600.637 1227.39,597.691 1228.78,594.759 1230.2,591.84 1231.65,588.936 1233.12,586.047 \n",
       "  1234.63,583.172 1236.16,580.313 1237.73,577.469 1239.32,574.641 1240.94,571.829 1242.59,569.034 1244.26,566.255 1245.96,563.493 1247.7,560.748 1249.45,558.02 \n",
       "  1251.24,555.311 1253.05,552.619 1254.89,549.945 1256.76,547.29 1258.65,544.654 1260.57,542.037 1262.51,539.439 1264.48,536.861 1266.48,534.302 1268.5,531.764 \n",
       "  1270.55,529.246 1272.62,526.749 1274.72,524.272 1276.84,521.817 1278.99,519.383 1281.16,516.97 1283.35,514.579 1285.57,512.211 1287.81,509.864 1290.08,507.541 \n",
       "  1292.36,505.24 1294.68,502.962 1297.01,500.707 1299.37,498.475 1301.74,496.268 1304.14,494.084 1306.57,491.924 1309.01,489.789 1311.47,487.678 1313.96,485.592 \n",
       "  1316.47,483.531 1318.99,481.495 1321.54,479.484 1324.11,477.499 1326.7,475.54 1329.3,473.607 1331.93,471.7 1334.57,469.819 1337.24,467.965 1339.92,466.137 \n",
       "  1342.62,464.337 1345.33,462.563 1348.07,460.817 1350.82,459.098 1353.59,457.407 1356.38,455.744 1359.18,454.109 1362,452.501 1364.84,450.922 1367.69,449.372 \n",
       "  1370.55,447.849 1373.43,446.356 1376.33,444.892 1379.24,443.456 1382.16,442.05 1385.1,440.673 1388.05,439.326 1391.02,438.008 1394,436.72 1396.99,435.462 \n",
       "  1399.99,434.233 1403.01,433.035 1406.04,431.867 1409.08,430.729 1412.13,429.622 1415.19,428.546 1418.26,427.5 1421.34,426.484 1424.43,425.5 1427.54,424.547 \n",
       "  1430.65,423.624 1433.77,422.733 1436.9,421.873 1440.03,421.045 1443.18,420.248 1446.33,419.482 1449.49,418.748 1452.66,418.045 1455.84,417.375 1459.02,416.736 \n",
       "  1462.21,416.129 1465.4,415.553 1468.6,415.01 1471.8,414.499 1475.01,414.02 1478.23,413.573 1481.45,413.158 1484.67,412.775 1487.9,412.425 1491.13,412.107 \n",
       "  1494.36,411.821 1497.59,411.568 1500.83,411.347 1504.07,411.158 1507.31,411.002 1510.55,410.878 1513.8,410.786 1517.04,410.727 1520.29,410.701 1521.32,410.699 \n",
       "  \n",
       "  \"/>\n",
       "<path clip-path=\"url(#clip712)\" d=\"\n",
       "M1304.98 86.1857 L1311.47 86.2181 L1317.96 86.3155 L1324.45 86.4777 L1330.93 86.7048 L1337.42 86.9968 L1343.9 87.3536 L1350.37 87.7751 L1356.85 88.2615 L1363.31 88.8125 \n",
       "  L1369.77 89.4281 L1376.23 90.1083 L1382.68 90.8531 L1389.12 91.6622 L1395.55 92.5358 L1401.97 93.4735 L1408.38 94.4755 L1414.78 95.5415 L1421.17 96.6715 L1427.55 97.8654 \n",
       "  L1433.92 99.123 L1440.28 100.444 L1446.62 101.829 L1452.94 103.277 L1459.25 104.788 L1465.55 106.362 L1471.83 107.999 L1478.09 109.699 L1484.34 111.462 L1490.57 113.287 \n",
       "  L1496.78 115.173 L1502.97 117.122 L1509.14 119.133 L1515.29 121.206 L1521.42 123.339 L1527.53 125.534 L1533.61 127.79 L1539.68 130.107 L1545.72 132.484 L1551.73 134.922 \n",
       "  L1557.72 137.419 L1563.69 139.976 L1569.63 142.593 L1575.54 145.269 L1581.43 148.004 L1587.28 150.798 L1593.11 153.65 L1598.91 156.561 L1604.69 159.529 L1610.43 162.555 \n",
       "  L1616.14 165.638 L1621.82 168.778 L1627.47 171.975 L1633.08 175.228 L1638.67 178.537 L1644.22 181.901 L1649.73 185.321 L1655.21 188.796 L1660.66 192.326 L1666.07 195.91 \n",
       "  L1671.45 199.548 L1676.79 203.239 L1682.09 206.984 L1687.35 210.781 L1692.57 214.631 L1697.76 218.533 L1702.91 222.486 L1708.02 226.491 L1713.08 230.547 L1718.11 234.653 \n",
       "  L1723.09 238.809 L1728.04 243.015 L1732.94 247.27 L1737.8 251.574 L1742.61 255.927 L1747.38 260.327 L1752.11 264.774 L1756.79 269.269 L1761.43 273.811 L1766.02 278.398 \n",
       "  L1770.56 283.031 L1775.06 287.709 L1779.51 292.433 L1783.92 297.2 L1788.27 302.011 L1792.58 306.866 L1796.84 311.763 L1801.05 316.703 L1805.21 321.684 L1809.32 326.707 \n",
       "  L1813.38 331.771 L1817.39 336.875 L1821.35 342.019 L1825.25 347.202 L1829.11 352.424 L1832.91 357.685 L1836.66 362.983 L1840.35 368.318 L1843.99 373.69 L1847.58 379.098 \n",
       "  L1851.12 384.542 L1854.6 390.021 L1858.02 395.534 L1861.39 401.081 L1864.7 406.662 L1867.96 412.275 L1871.16 417.921 L1874.31 423.599 L1877.39 429.308 L1880.42 435.047 \n",
       "  L1883.4 440.816 L1886.31 446.615 L1889.17 452.443 L1891.97 458.299 L1894.71 464.182 L1897.39 470.093 L1900.01 476.03 L1902.57 481.994 L1905.07 487.982 L1907.52 493.995 \n",
       "  L1909.9 500.033 L1912.22 506.093 L1914.48 512.177 L1916.68 518.283 L1918.82 524.411 L1920.9 530.56 L1922.91 536.729 L1924.87 542.918 L1926.76 549.127 L1928.59 555.354 \n",
       "  L1930.35 561.598 L1932.06 567.861 L1933.7 574.14 L1935.28 580.435 L1936.8 586.746 L1938.25 593.071 L1939.64 599.411 L1940.97 605.764 L1942.23 612.13 L1943.43 618.509 \n",
       "  L1944.56 624.899 L1945.63 631.3 L1946.64 637.712 L1947.58 644.133 L1948.46 650.564 L1949.28 657.003 L1950.03 663.45 L1950.71 669.904 L1951.33 676.364 L1951.89 682.83 \n",
       "  L1952.38 689.302 L1952.81 695.778 L1953.17 702.258 L1953.47 708.742 L1953.7 715.228 L1953.87 721.716 L1953.97 728.205 L1954.01 734.696 L1953.98 741.186 L1953.89 747.675 \n",
       "  L1953.73 754.164 L1953.51 760.65 L1953.22 767.134 L1952.87 773.615 L1952.45 780.092 L1951.97 786.564 L1951.43 793.031 L1950.81 799.493 L1950.14 805.948 L1949.4 812.396 \n",
       "  L1948.6 818.836 L1947.73 825.268 L1946.8 831.691 L1945.8 838.104 L1944.74 844.507 L1943.61 850.899 L1942.42 857.279 L1941.17 863.648 L1939.85 870.003 L1938.48 876.345 \n",
       "  L1937.03 882.673 L1935.53 888.986 L1933.96 895.283 L1932.32 901.565 L1930.63 907.83 L1928.87 914.078 L1927.05 920.308 L1925.17 926.519 L1923.23 932.711 L1921.22 938.884 \n",
       "  L1919.15 945.036 L1917.02 951.167 L1914.83 957.277 L1912.58 963.364 L1910.27 969.429 L1907.9 975.47 L1905.47 981.487 L1902.97 987.479 L1900.42 993.446 L1897.81 999.388 \n",
       "  L1895.14 1005.3 L1892.41 1011.19 L1889.62 1017.05 L1886.77 1022.88 L1883.86 1028.69 L1880.9 1034.46 L1877.88 1040.21 L1874.8 1045.92 L1871.67 1051.6 L1868.47 1057.25 \n",
       "  L1865.23 1062.87 L1861.92 1068.46 L1858.56 1074.01 L1855.14 1079.53 L1851.67 1085.01 L1848.15 1090.46 L1844.57 1095.88 L1840.94 1101.25 L1837.25 1106.59 L1833.51 1111.9 \n",
       "  L1829.71 1117.17 L1825.87 1122.39 L1821.97 1127.58 L1818.02 1132.73 L1814.02 1137.84 L1809.97 1142.91 L1805.87 1147.94 L1801.71 1152.93 L1797.51 1157.88 L1793.26 1162.78 \n",
       "  L1788.96 1167.64 L1784.61 1172.46 L1780.22 1177.24 L1775.77 1181.97 L1771.28 1186.65 L1766.74 1191.29 L1762.16 1195.89 L1757.53 1200.44 L1752.86 1204.94 L1748.14 1209.39 \n",
       "  L1743.37 1213.8 L1738.57 1218.16 L1733.71 1222.47 L1728.82 1226.74 L1723.88 1230.95 L1718.91 1235.11 L1713.89 1239.23 L1708.83 1243.29 L1703.72 1247.3 L1698.58 1251.27 \n",
       "  L1693.4 1255.18 L1688.18 1259.03 L1682.93 1262.84 L1677.63 1266.59 L1672.3 1270.29 L1666.93 1273.94 L1661.53 1277.53 L1656.08 1281.07 L1650.61 1284.55 L1645.1 1287.98 \n",
       "  L1639.55 1291.36 L1633.98 1294.67 L1628.36 1297.94 L1622.72 1301.14 L1617.05 1304.29 L1611.34 1307.38 L1605.6 1310.42 L1599.84 1313.4 L1594.04 1316.31 L1588.21 1319.18 \n",
       "  L1582.36 1321.98 L1576.48 1324.72 L1570.57 1327.41 L1564.63 1330.04 L1558.67 1332.6 L1552.69 1335.11 L1546.68 1337.56 L1540.64 1339.94 L1534.58 1342.27 L1528.5 1344.54 \n",
       "  L1522.4 1346.74 L1516.27 1348.88 L1510.12 1350.97 L1503.95 1352.99 L1497.77 1354.95 L1491.56 1356.84 L1485.33 1358.68 L1479.09 1360.45 L1472.83 1362.16 L1466.55 1363.81 \n",
       "  L1460.26 1365.39 L1453.95 1366.91 L1447.62 1368.37 L1441.29 1369.76 L1434.93 1371.1 L1428.57 1372.36 L1422.19 1373.57 L1415.8 1374.71 L1409.4 1375.78 L1402.99 1376.8 \n",
       "  L1396.57 1377.74 L1390.14 1378.63 L1383.7 1379.45 L1377.26 1380.2 L1370.8 1380.89 L1364.34 1381.52 L1357.88 1382.08 L1351.41 1382.58 L1344.93 1383.01 L1338.45 1383.38 \n",
       "  L1331.97 1383.68 L1325.48 1383.92 L1318.99 1384.09 L1312.5 1384.2 L1306.01 1384.24 L1299.52 1384.22 L1293.03 1384.13 L1286.54 1383.98 L1280.06 1383.76 L1273.57 1383.48 \n",
       "  L1267.09 1383.13 L1260.62 1382.72 L1254.14 1382.25 L1247.68 1381.7 L1241.21 1381.1 L1234.76 1380.43 L1228.31 1379.69 L1221.87 1378.9 L1215.44 1378.03 L1209.01 1377.1 \n",
       "  L1202.6 1376.11 L1196.19 1375.06 L1189.8 1373.94 L1183.42 1372.75 L1177.05 1371.51 L1170.69 1370.2 L1164.35 1368.82 L1158.02 1367.38 L1151.71 1365.88 L1145.41 1364.32 \n",
       "  L1139.13 1362.69 L1132.86 1361 L1126.61 1359.25 L1120.38 1357.43 L1114.17 1355.56 L1107.97 1353.62 L1101.8 1351.62 L1095.64 1349.55 L1089.51 1347.43 L1083.4 1345.24 \n",
       "  L1077.31 1343 L1071.25 1340.69 L1065.2 1338.32 L1059.18 1335.9 L1053.19 1333.41 L1047.22 1330.86 L1041.28 1328.25 L1035.36 1325.59 L1029.47 1322.86 L1023.61 1320.08 \n",
       "  L1017.77 1317.23 L1011.97 1314.33 L1006.19 1311.37 L1000.44 1308.36 L994.727 1305.28 L989.042 1302.15 L983.388 1298.96 L977.767 1295.72 L972.178 1292.42 L966.623 1289.06 \n",
       "  L961.101 1285.65 L955.614 1282.19 L950.162 1278.66 L944.745 1275.09 L939.365 1271.46 L934.021 1267.78 L928.714 1264.04 L923.444 1260.25 L918.213 1256.41 L913.02 1252.52 \n",
       "  L907.867 1248.57 L902.753 1244.57 L897.68 1240.53 L892.647 1236.43 L887.656 1232.28 L882.706 1228.08 L877.799 1223.84 L872.934 1219.54 L868.112 1215.19 L863.334 1210.8 \n",
       "  L858.601 1206.36 L853.911 1201.87 L849.267 1197.34 L844.669 1192.76 L840.117 1188.13 L835.611 1183.46 L831.152 1178.75 L826.74 1173.99 L822.376 1169.18 L818.061 1164.34 \n",
       "  L813.794 1159.44 L809.576 1154.51 L805.408 1149.54 L801.29 1144.52 L797.222 1139.46 L793.205 1134.37 L789.239 1129.23 L785.325 1124.05 L781.463 1118.83 L777.653 1113.58 \n",
       "  L773.895 1108.29 L770.191 1102.96 L766.541 1097.59 L762.944 1092.19 L759.401 1086.75 L755.913 1081.28 L752.48 1075.77 L749.102 1070.23 L745.78 1064.65 L742.513 1059.05 \n",
       "  L739.303 1053.4 L736.15 1047.73 L733.053 1042.03 L730.013 1036.29 L727.031 1030.53 L724.107 1024.74 L721.241 1018.91 L718.433 1013.06 L715.684 1007.18 L712.994 1001.27 \n",
       "  L710.363 995.342 L707.791 989.383 L705.28 983.398 L702.828 977.389 L700.436 971.355 L698.105 965.298 L695.835 959.218 L693.625 953.116 L691.477 946.991 L689.39 940.846 \n",
       "  L687.364 934.68 L685.4 928.494 L683.498 922.288 L681.659 916.064 L679.881 909.822 L678.167 903.562 L676.515 897.286 L674.925 890.993 L673.399 884.685 L671.936 878.362 \n",
       "  L670.536 872.024 L669.2 865.673 L667.927 859.309 L666.718 852.932 L665.572 846.544 L664.491 840.145 L663.474 833.735 L662.521 827.315 L661.632 820.886 L660.807 814.448 \n",
       "  L660.047 808.002 L659.352 801.55 L658.72 795.09 L658.154 788.625 L657.652 782.154 L657.215 775.678 L656.843 769.199 L656.535 762.716 L656.293 756.23 L656.115 749.742 \n",
       "  L656.002 743.253 L655.954 736.763 L655.971 730.273 L656.053 723.783 L656.2 717.294 L656.411 710.808 L656.688 704.323 L657.029 697.842 L657.435 691.364 L657.906 684.891 \n",
       "  L658.442 678.423 L659.042 671.961 L659.707 665.505 L660.436 659.056 L661.23 652.614 L662.088 646.181 L663.01 639.756 L663.997 633.342 L665.048 626.937 L666.163 620.543 \n",
       "  L667.341 614.161 L668.584 607.791 L669.89 601.433 L671.259 595.089 L672.692 588.759 L674.188 582.444 L675.747 576.143 L677.369 569.859 L679.054 563.591 L680.802 557.341 \n",
       "  L682.612 551.108 L684.484 544.894 L686.418 538.698 L688.414 532.523 L690.472 526.367 L692.591 520.233 L694.771 514.12 L697.013 508.029 L699.315 501.961 L701.678 495.916 \n",
       "  L704.101 489.895 L706.584 483.898 L709.127 477.927 L711.729 471.981 L714.391 466.062 L717.112 460.17 L719.892 454.305 L722.73 448.468 L725.627 442.66 L728.581 436.882 \n",
       "  L731.593 431.133 L734.663 425.414 L737.789 419.726 L740.973 414.07 L744.212 408.446 L747.508 402.855 L750.859 397.297 L754.266 391.773 L757.728 386.283 L761.244 380.828 \n",
       "  L764.815 375.409 L768.44 370.025 L772.119 364.678 L775.851 359.368 L779.636 354.096 L783.473 348.861 L787.363 343.666 L791.304 338.509 L795.297 333.392 L799.34 328.316 \n",
       "  L803.434 323.28 L807.579 318.285 L811.773 313.332 L816.016 308.421 L820.308 303.553 L824.649 298.728 L829.038 293.946 L833.474 289.209 L837.958 284.516 L842.488 279.869 \n",
       "  L847.065 275.267 L851.687 270.711 L856.355 266.201 L861.067 261.738 L865.824 257.323 L870.625 252.955 L875.469 248.636 L880.356 244.365 L885.286 240.144 L890.257 235.972 \n",
       "  L895.27 231.849 L900.324 227.778 L905.419 223.756 L910.553 219.786 L915.727 215.868 L920.94 212.002 L926.191 208.187 L931.48 204.426 L936.807 200.718 L942.17 197.063 \n",
       "  L947.57 193.461 L953.005 189.915 L958.475 186.422 L963.98 182.985 L969.52 179.602 L975.092 176.276 L980.698 173.005 L986.336 169.79 L992.006 166.632 L997.708 163.531 \n",
       "  L1003.44 160.487 L1009.2 157.5 L1014.99 154.571 L1020.81 151.7 L1026.66 148.888 L1032.54 146.134 L1038.45 143.439 L1044.38 140.804 L1050.33 138.227 L1056.32 135.711 \n",
       "  L1062.32 133.254 L1068.35 130.858 L1074.41 128.522 L1080.49 126.246 L1086.59 124.032 L1092.71 121.879 L1098.86 119.787 L1105.02 117.756 L1111.2 115.788 L1117.41 113.881 \n",
       "  L1123.63 112.036 L1129.87 110.254 L1136.13 108.534 L1142.41 106.877 L1148.7 105.283 L1155 103.751 L1161.33 102.283 L1167.66 100.878 L1174.01 99.5369 L1180.38 98.2591 \n",
       "  L1186.75 97.0449 L1193.14 95.8945 L1199.54 94.8081 L1205.95 93.7857 L1212.37 92.8275 L1218.79 91.9335 L1225.23 91.1038 L1231.68 90.3385 L1238.13 89.6378 L1244.59 89.0015 \n",
       "  L1251.05 88.4299 L1257.52 87.923 L1264 87.4808 L1270.48 87.1034 L1276.96 86.7908 L1283.44 86.543 L1289.93 86.3601 L1296.42 86.2421 L1302.91 86.189 L1304.98 86.1857 \n",
       "   Z\n",
       "  \" fill=\"#ff0000\" fill-rule=\"evenodd\" fill-opacity=\"0.5\"/>\n",
       "<polyline clip-path=\"url(#clip712)\" style=\"stroke:#000000; stroke-width:4; stroke-opacity:1; fill:none\" points=\"\n",
       "  1304.98,86.1857 1311.47,86.2181 1317.96,86.3155 1324.45,86.4777 1330.93,86.7048 1337.42,86.9968 1343.9,87.3536 1350.37,87.7751 1356.85,88.2615 1363.31,88.8125 \n",
       "  1369.77,89.4281 1376.23,90.1083 1382.68,90.8531 1389.12,91.6622 1395.55,92.5358 1401.97,93.4735 1408.38,94.4755 1414.78,95.5415 1421.17,96.6715 1427.55,97.8654 \n",
       "  1433.92,99.123 1440.28,100.444 1446.62,101.829 1452.94,103.277 1459.25,104.788 1465.55,106.362 1471.83,107.999 1478.09,109.699 1484.34,111.462 1490.57,113.287 \n",
       "  1496.78,115.173 1502.97,117.122 1509.14,119.133 1515.29,121.206 1521.42,123.339 1527.53,125.534 1533.61,127.79 1539.68,130.107 1545.72,132.484 1551.73,134.922 \n",
       "  1557.72,137.419 1563.69,139.976 1569.63,142.593 1575.54,145.269 1581.43,148.004 1587.28,150.798 1593.11,153.65 1598.91,156.561 1604.69,159.529 1610.43,162.555 \n",
       "  1616.14,165.638 1621.82,168.778 1627.47,171.975 1633.08,175.228 1638.67,178.537 1644.22,181.901 1649.73,185.321 1655.21,188.796 1660.66,192.326 1666.07,195.91 \n",
       "  1671.45,199.548 1676.79,203.239 1682.09,206.984 1687.35,210.781 1692.57,214.631 1697.76,218.533 1702.91,222.486 1708.02,226.491 1713.08,230.547 1718.11,234.653 \n",
       "  1723.09,238.809 1728.04,243.015 1732.94,247.27 1737.8,251.574 1742.61,255.927 1747.38,260.327 1752.11,264.774 1756.79,269.269 1761.43,273.811 1766.02,278.398 \n",
       "  1770.56,283.031 1775.06,287.709 1779.51,292.433 1783.92,297.2 1788.27,302.011 1792.58,306.866 1796.84,311.763 1801.05,316.703 1805.21,321.684 1809.32,326.707 \n",
       "  1813.38,331.771 1817.39,336.875 1821.35,342.019 1825.25,347.202 1829.11,352.424 1832.91,357.685 1836.66,362.983 1840.35,368.318 1843.99,373.69 1847.58,379.098 \n",
       "  1851.12,384.542 1854.6,390.021 1858.02,395.534 1861.39,401.081 1864.7,406.662 1867.96,412.275 1871.16,417.921 1874.31,423.599 1877.39,429.308 1880.42,435.047 \n",
       "  1883.4,440.816 1886.31,446.615 1889.17,452.443 1891.97,458.299 1894.71,464.182 1897.39,470.093 1900.01,476.03 1902.57,481.994 1905.07,487.982 1907.52,493.995 \n",
       "  1909.9,500.033 1912.22,506.093 1914.48,512.177 1916.68,518.283 1918.82,524.411 1920.9,530.56 1922.91,536.729 1924.87,542.918 1926.76,549.127 1928.59,555.354 \n",
       "  1930.35,561.598 1932.06,567.861 1933.7,574.14 1935.28,580.435 1936.8,586.746 1938.25,593.071 1939.64,599.411 1940.97,605.764 1942.23,612.13 1943.43,618.509 \n",
       "  1944.56,624.899 1945.63,631.3 1946.64,637.712 1947.58,644.133 1948.46,650.564 1949.28,657.003 1950.03,663.45 1950.71,669.904 1951.33,676.364 1951.89,682.83 \n",
       "  1952.38,689.302 1952.81,695.778 1953.17,702.258 1953.47,708.742 1953.7,715.228 1953.87,721.716 1953.97,728.205 1954.01,734.696 1953.98,741.186 1953.89,747.675 \n",
       "  1953.73,754.164 1953.51,760.65 1953.22,767.134 1952.87,773.615 1952.45,780.092 1951.97,786.564 1951.43,793.031 1950.81,799.493 1950.14,805.948 1949.4,812.396 \n",
       "  1948.6,818.836 1947.73,825.268 1946.8,831.691 1945.8,838.104 1944.74,844.507 1943.61,850.899 1942.42,857.279 1941.17,863.648 1939.85,870.003 1938.48,876.345 \n",
       "  1937.03,882.673 1935.53,888.986 1933.96,895.283 1932.32,901.565 1930.63,907.83 1928.87,914.078 1927.05,920.308 1925.17,926.519 1923.23,932.711 1921.22,938.884 \n",
       "  1919.15,945.036 1917.02,951.167 1914.83,957.277 1912.58,963.364 1910.27,969.429 1907.9,975.47 1905.47,981.487 1902.97,987.479 1900.42,993.446 1897.81,999.388 \n",
       "  1895.14,1005.3 1892.41,1011.19 1889.62,1017.05 1886.77,1022.88 1883.86,1028.69 1880.9,1034.46 1877.88,1040.21 1874.8,1045.92 1871.67,1051.6 1868.47,1057.25 \n",
       "  1865.23,1062.87 1861.92,1068.46 1858.56,1074.01 1855.14,1079.53 1851.67,1085.01 1848.15,1090.46 1844.57,1095.88 1840.94,1101.25 1837.25,1106.59 1833.51,1111.9 \n",
       "  1829.71,1117.17 1825.87,1122.39 1821.97,1127.58 1818.02,1132.73 1814.02,1137.84 1809.97,1142.91 1805.87,1147.94 1801.71,1152.93 1797.51,1157.88 1793.26,1162.78 \n",
       "  1788.96,1167.64 1784.61,1172.46 1780.22,1177.24 1775.77,1181.97 1771.28,1186.65 1766.74,1191.29 1762.16,1195.89 1757.53,1200.44 1752.86,1204.94 1748.14,1209.39 \n",
       "  1743.37,1213.8 1738.57,1218.16 1733.71,1222.47 1728.82,1226.74 1723.88,1230.95 1718.91,1235.11 1713.89,1239.23 1708.83,1243.29 1703.72,1247.3 1698.58,1251.27 \n",
       "  1693.4,1255.18 1688.18,1259.03 1682.93,1262.84 1677.63,1266.59 1672.3,1270.29 1666.93,1273.94 1661.53,1277.53 1656.08,1281.07 1650.61,1284.55 1645.1,1287.98 \n",
       "  1639.55,1291.36 1633.98,1294.67 1628.36,1297.94 1622.72,1301.14 1617.05,1304.29 1611.34,1307.38 1605.6,1310.42 1599.84,1313.4 1594.04,1316.31 1588.21,1319.18 \n",
       "  1582.36,1321.98 1576.48,1324.72 1570.57,1327.41 1564.63,1330.04 1558.67,1332.6 1552.69,1335.11 1546.68,1337.56 1540.64,1339.94 1534.58,1342.27 1528.5,1344.54 \n",
       "  1522.4,1346.74 1516.27,1348.88 1510.12,1350.97 1503.95,1352.99 1497.77,1354.95 1491.56,1356.84 1485.33,1358.68 1479.09,1360.45 1472.83,1362.16 1466.55,1363.81 \n",
       "  1460.26,1365.39 1453.95,1366.91 1447.62,1368.37 1441.29,1369.76 1434.93,1371.1 1428.57,1372.36 1422.19,1373.57 1415.8,1374.71 1409.4,1375.78 1402.99,1376.8 \n",
       "  1396.57,1377.74 1390.14,1378.63 1383.7,1379.45 1377.26,1380.2 1370.8,1380.89 1364.34,1381.52 1357.88,1382.08 1351.41,1382.58 1344.93,1383.01 1338.45,1383.38 \n",
       "  1331.97,1383.68 1325.48,1383.92 1318.99,1384.09 1312.5,1384.2 1306.01,1384.24 1299.52,1384.22 1293.03,1384.13 1286.54,1383.98 1280.06,1383.76 1273.57,1383.48 \n",
       "  1267.09,1383.13 1260.62,1382.72 1254.14,1382.25 1247.68,1381.7 1241.21,1381.1 1234.76,1380.43 1228.31,1379.69 1221.87,1378.9 1215.44,1378.03 1209.01,1377.1 \n",
       "  1202.6,1376.11 1196.19,1375.06 1189.8,1373.94 1183.42,1372.75 1177.05,1371.51 1170.69,1370.2 1164.35,1368.82 1158.02,1367.38 1151.71,1365.88 1145.41,1364.32 \n",
       "  1139.13,1362.69 1132.86,1361 1126.61,1359.25 1120.38,1357.43 1114.17,1355.56 1107.97,1353.62 1101.8,1351.62 1095.64,1349.55 1089.51,1347.43 1083.4,1345.24 \n",
       "  1077.31,1343 1071.25,1340.69 1065.2,1338.32 1059.18,1335.9 1053.19,1333.41 1047.22,1330.86 1041.28,1328.25 1035.36,1325.59 1029.47,1322.86 1023.61,1320.08 \n",
       "  1017.77,1317.23 1011.97,1314.33 1006.19,1311.37 1000.44,1308.36 994.727,1305.28 989.042,1302.15 983.388,1298.96 977.767,1295.72 972.178,1292.42 966.623,1289.06 \n",
       "  961.101,1285.65 955.614,1282.19 950.162,1278.66 944.745,1275.09 939.365,1271.46 934.021,1267.78 928.714,1264.04 923.444,1260.25 918.213,1256.41 913.02,1252.52 \n",
       "  907.867,1248.57 902.753,1244.57 897.68,1240.53 892.647,1236.43 887.656,1232.28 882.706,1228.08 877.799,1223.84 872.934,1219.54 868.112,1215.19 863.334,1210.8 \n",
       "  858.601,1206.36 853.911,1201.87 849.267,1197.34 844.669,1192.76 840.117,1188.13 835.611,1183.46 831.152,1178.75 826.74,1173.99 822.376,1169.18 818.061,1164.34 \n",
       "  813.794,1159.44 809.576,1154.51 805.408,1149.54 801.29,1144.52 797.222,1139.46 793.205,1134.37 789.239,1129.23 785.325,1124.05 781.463,1118.83 777.653,1113.58 \n",
       "  773.895,1108.29 770.191,1102.96 766.541,1097.59 762.944,1092.19 759.401,1086.75 755.913,1081.28 752.48,1075.77 749.102,1070.23 745.78,1064.65 742.513,1059.05 \n",
       "  739.303,1053.4 736.15,1047.73 733.053,1042.03 730.013,1036.29 727.031,1030.53 724.107,1024.74 721.241,1018.91 718.433,1013.06 715.684,1007.18 712.994,1001.27 \n",
       "  710.363,995.342 707.791,989.383 705.28,983.398 702.828,977.389 700.436,971.355 698.105,965.298 695.835,959.218 693.625,953.116 691.477,946.991 689.39,940.846 \n",
       "  687.364,934.68 685.4,928.494 683.498,922.288 681.659,916.064 679.881,909.822 678.167,903.562 676.515,897.286 674.925,890.993 673.399,884.685 671.936,878.362 \n",
       "  670.536,872.024 669.2,865.673 667.927,859.309 666.718,852.932 665.572,846.544 664.491,840.145 663.474,833.735 662.521,827.315 661.632,820.886 660.807,814.448 \n",
       "  660.047,808.002 659.352,801.55 658.72,795.09 658.154,788.625 657.652,782.154 657.215,775.678 656.843,769.199 656.535,762.716 656.293,756.23 656.115,749.742 \n",
       "  656.002,743.253 655.954,736.763 655.971,730.273 656.053,723.783 656.2,717.294 656.411,710.808 656.688,704.323 657.029,697.842 657.435,691.364 657.906,684.891 \n",
       "  658.442,678.423 659.042,671.961 659.707,665.505 660.436,659.056 661.23,652.614 662.088,646.181 663.01,639.756 663.997,633.342 665.048,626.937 666.163,620.543 \n",
       "  667.341,614.161 668.584,607.791 669.89,601.433 671.259,595.089 672.692,588.759 674.188,582.444 675.747,576.143 677.369,569.859 679.054,563.591 680.802,557.341 \n",
       "  682.612,551.108 684.484,544.894 686.418,538.698 688.414,532.523 690.472,526.367 692.591,520.233 694.771,514.12 697.013,508.029 699.315,501.961 701.678,495.916 \n",
       "  704.101,489.895 706.584,483.898 709.127,477.927 711.729,471.981 714.391,466.062 717.112,460.17 719.892,454.305 722.73,448.468 725.627,442.66 728.581,436.882 \n",
       "  731.593,431.133 734.663,425.414 737.789,419.726 740.973,414.07 744.212,408.446 747.508,402.855 750.859,397.297 754.266,391.773 757.728,386.283 761.244,380.828 \n",
       "  764.815,375.409 768.44,370.025 772.119,364.678 775.851,359.368 779.636,354.096 783.473,348.861 787.363,343.666 791.304,338.509 795.297,333.392 799.34,328.316 \n",
       "  803.434,323.28 807.579,318.285 811.773,313.332 816.016,308.421 820.308,303.553 824.649,298.728 829.038,293.946 833.474,289.209 837.958,284.516 842.488,279.869 \n",
       "  847.065,275.267 851.687,270.711 856.355,266.201 861.067,261.738 865.824,257.323 870.625,252.955 875.469,248.636 880.356,244.365 885.286,240.144 890.257,235.972 \n",
       "  895.27,231.849 900.324,227.778 905.419,223.756 910.553,219.786 915.727,215.868 920.94,212.002 926.191,208.187 931.48,204.426 936.807,200.718 942.17,197.063 \n",
       "  947.57,193.461 953.005,189.915 958.475,186.422 963.98,182.985 969.52,179.602 975.092,176.276 980.698,173.005 986.336,169.79 992.006,166.632 997.708,163.531 \n",
       "  1003.44,160.487 1009.2,157.5 1014.99,154.571 1020.81,151.7 1026.66,148.888 1032.54,146.134 1038.45,143.439 1044.38,140.804 1050.33,138.227 1056.32,135.711 \n",
       "  1062.32,133.254 1068.35,130.858 1074.41,128.522 1080.49,126.246 1086.59,124.032 1092.71,121.879 1098.86,119.787 1105.02,117.756 1111.2,115.788 1117.41,113.881 \n",
       "  1123.63,112.036 1129.87,110.254 1136.13,108.534 1142.41,106.877 1148.7,105.283 1155,103.751 1161.33,102.283 1167.66,100.878 1174.01,99.5369 1180.38,98.2591 \n",
       "  1186.75,97.0449 1193.14,95.8945 1199.54,94.8081 1205.95,93.7857 1212.37,92.8275 1218.79,91.9335 1225.23,91.1038 1231.68,90.3385 1238.13,89.6378 1244.59,89.0015 \n",
       "  1251.05,88.4299 1257.52,87.923 1264,87.4808 1270.48,87.1034 1276.96,86.7908 1283.44,86.543 1289.93,86.3601 1296.42,86.2421 1302.91,86.189 1304.98,86.1857 \n",
       "  \n",
       "  \"/>\n",
       "<circle clip-path=\"url(#clip712)\" cx=\"980.466\" cy=\"735.212\" r=\"14\" fill=\"#0000ff\" fill-rule=\"evenodd\" fill-opacity=\"1\" stroke=\"#000000\" stroke-opacity=\"1\" stroke-width=\"3.2\"/>\n",
       "<circle clip-path=\"url(#clip712)\" cx=\"1737.66\" cy=\"735.212\" r=\"14\" fill=\"#0000ff\" fill-rule=\"evenodd\" fill-opacity=\"1\" stroke=\"#000000\" stroke-opacity=\"1\" stroke-width=\"3.2\"/>\n",
       "<circle clip-path=\"url(#clip712)\" cx=\"1413.15\" cy=\"735.212\" r=\"14\" fill=\"#0000ff\" fill-rule=\"evenodd\" fill-opacity=\"1\" stroke=\"#000000\" stroke-opacity=\"1\" stroke-width=\"3.2\"/>\n",
       "<path clip-path=\"url(#clip710)\" d=\"\n",
       "M1514.86 274.549 L2282.9 274.549 L2282.9 93.1086 L1514.86 93.1086  Z\n",
       "  \" fill=\"#ffffff\" fill-rule=\"evenodd\" fill-opacity=\"1\"/>\n",
       "<polyline clip-path=\"url(#clip710)\" style=\"stroke:#000000; stroke-width:4; stroke-opacity:1; fill:none\" points=\"\n",
       "  1514.86,274.549 2282.9,274.549 2282.9,93.1086 1514.86,93.1086 1514.86,274.549 \n",
       "  \"/>\n",
       "<path clip-path=\"url(#clip710)\" d=\"\n",
       "M1538.14 177.781 L1677.85 177.781 L1677.85 129.397 L1538.14 129.397 L1538.14 177.781  Z\n",
       "  \" fill=\"#ff0000\" fill-rule=\"evenodd\" fill-opacity=\"0.5\"/>\n",
       "<polyline clip-path=\"url(#clip710)\" style=\"stroke:#000000; stroke-width:4; stroke-opacity:1; fill:none\" points=\"\n",
       "  1538.14,177.781 1677.85,177.781 1677.85,129.397 1538.14,129.397 1538.14,177.781 \n",
       "  \"/>\n",
       "<path clip-path=\"url(#clip710)\" d=\"M 0 0 M1726.69 165.938 L1726.69 156.656 L1719.05 156.656 L1719.05 152.813 L1731.32 152.813 L1731.32 167.651 Q1728.61 169.572 1725.34 170.568 Q1722.08 171.54 1718.38 171.54 Q1710.27 171.54 1705.69 166.818 Q1701.13 162.072 1701.13 153.623 Q1701.13 145.151 1705.69 140.429 Q1710.27 135.684 1718.38 135.684 Q1721.76 135.684 1724.79 136.517 Q1727.84 137.35 1730.41 138.971 L1730.41 143.947 Q1727.82 141.748 1724.9 140.637 Q1721.99 139.526 1718.77 139.526 Q1712.43 139.526 1709.23 143.068 Q1706.06 146.609 1706.06 153.623 Q1706.06 160.614 1709.23 164.156 Q1712.43 167.697 1718.77 167.697 Q1721.25 167.697 1723.19 167.281 Q1725.14 166.841 1726.69 165.938 Z\" fill=\"#000000\" fill-rule=\"evenodd\" fill-opacity=\"1\" /><path clip-path=\"url(#clip710)\" d=\"M 0 0 M1761.85 156.841 L1761.85 158.924 L1742.26 158.924 Q1742.54 163.322 1744.9 165.637 Q1747.29 167.929 1751.52 167.929 Q1753.98 167.929 1756.27 167.327 Q1758.58 166.725 1760.85 165.521 L1760.85 169.549 Q1758.56 170.521 1756.15 171.031 Q1753.75 171.54 1751.27 171.54 Q1745.07 171.54 1741.43 167.929 Q1737.82 164.318 1737.82 158.16 Q1737.82 151.795 1741.25 148.068 Q1744.7 144.318 1750.53 144.318 Q1755.76 144.318 1758.79 147.697 Q1761.85 151.054 1761.85 156.841 M1757.59 155.591 Q1757.54 152.096 1755.62 150.012 Q1753.72 147.929 1750.58 147.929 Q1747.01 147.929 1744.86 149.943 Q1742.73 151.957 1742.4 155.614 L1757.59 155.591 Z\" fill=\"#000000\" fill-rule=\"evenodd\" fill-opacity=\"1\" /><path clip-path=\"url(#clip710)\" d=\"M 0 0 M1783.86 148.924 Q1783.14 148.508 1782.29 148.322 Q1781.45 148.114 1780.44 148.114 Q1776.82 148.114 1774.88 150.475 Q1772.96 152.813 1772.96 157.211 L1772.96 170.869 L1768.68 170.869 L1768.68 144.943 L1772.96 144.943 L1772.96 148.971 Q1774.3 146.609 1776.45 145.475 Q1778.61 144.318 1781.69 144.318 Q1782.13 144.318 1782.66 144.387 Q1783.19 144.434 1783.84 144.549 L1783.86 148.924 Z\" fill=\"#000000\" fill-rule=\"evenodd\" fill-opacity=\"1\" /><path clip-path=\"url(#clip710)\" d=\"M 0 0 M1804.86 145.707 L1804.86 149.734 Q1803.05 148.809 1801.11 148.346 Q1799.16 147.883 1797.08 147.883 Q1793.91 147.883 1792.31 148.855 Q1790.74 149.827 1790.74 151.771 Q1790.74 153.253 1791.87 154.109 Q1793.01 154.943 1796.43 155.707 L1797.89 156.031 Q1802.43 157.003 1804.32 158.785 Q1806.25 160.545 1806.25 163.716 Q1806.25 167.327 1803.38 169.433 Q1800.53 171.54 1795.53 171.54 Q1793.45 171.54 1791.18 171.123 Q1788.93 170.73 1786.43 169.92 L1786.43 165.521 Q1788.79 166.748 1791.08 167.373 Q1793.38 167.975 1795.62 167.975 Q1798.63 167.975 1800.25 166.957 Q1801.87 165.915 1801.87 164.04 Q1801.87 162.304 1800.69 161.378 Q1799.53 160.452 1795.57 159.596 L1794.09 159.248 Q1790.14 158.415 1788.38 156.702 Q1786.62 154.966 1786.62 151.957 Q1786.62 148.299 1789.21 146.309 Q1791.8 144.318 1796.57 144.318 Q1798.93 144.318 1801.01 144.665 Q1803.1 145.012 1804.86 145.707 Z\" fill=\"#000000\" fill-rule=\"evenodd\" fill-opacity=\"1\" /><path clip-path=\"url(#clip710)\" d=\"M 0 0 M1834.58 155.221 L1834.58 170.869 L1830.32 170.869 L1830.32 155.359 Q1830.32 151.679 1828.88 149.85 Q1827.45 148.022 1824.58 148.022 Q1821.13 148.022 1819.14 150.221 Q1817.15 152.42 1817.15 156.216 L1817.15 170.869 L1812.87 170.869 L1812.87 134.85 L1817.15 134.85 L1817.15 148.971 Q1818.68 146.633 1820.74 145.475 Q1822.82 144.318 1825.53 144.318 Q1830 144.318 1832.29 147.096 Q1834.58 149.85 1834.58 155.221 Z\" fill=\"#000000\" fill-rule=\"evenodd\" fill-opacity=\"1\" /><path clip-path=\"url(#clip710)\" d=\"M 0 0 M1860.13 157.605 Q1860.13 152.975 1858.21 150.429 Q1856.32 147.883 1852.87 147.883 Q1849.44 147.883 1847.52 150.429 Q1845.62 152.975 1845.62 157.605 Q1845.62 162.211 1847.52 164.758 Q1849.44 167.304 1852.87 167.304 Q1856.32 167.304 1858.21 164.758 Q1860.13 162.211 1860.13 157.605 M1864.39 167.651 Q1864.39 174.271 1861.45 177.489 Q1858.51 180.73 1852.45 180.73 Q1850.2 180.73 1848.21 180.382 Q1846.22 180.058 1844.35 179.364 L1844.35 175.22 Q1846.22 176.239 1848.05 176.725 Q1849.88 177.211 1851.78 177.211 Q1855.97 177.211 1858.05 175.012 Q1860.13 172.836 1860.13 168.415 L1860.13 166.308 Q1858.82 168.6 1856.76 169.734 Q1854.69 170.869 1851.82 170.869 Q1847.06 170.869 1844.14 167.234 Q1841.22 163.6 1841.22 157.605 Q1841.22 151.586 1844.14 147.952 Q1847.06 144.318 1851.82 144.318 Q1854.69 144.318 1856.76 145.452 Q1858.82 146.586 1860.13 148.878 L1860.13 144.943 L1864.39 144.943 L1864.39 167.651 Z\" fill=\"#000000\" fill-rule=\"evenodd\" fill-opacity=\"1\" /><path clip-path=\"url(#clip710)\" d=\"M 0 0 M1883.21 147.929 Q1879.79 147.929 1877.8 150.614 Q1875.81 153.276 1875.81 157.929 Q1875.81 162.582 1877.77 165.267 Q1879.76 167.929 1883.21 167.929 Q1886.62 167.929 1888.61 165.244 Q1890.6 162.558 1890.6 157.929 Q1890.6 153.322 1888.61 150.637 Q1886.62 147.929 1883.21 147.929 M1883.21 144.318 Q1888.77 144.318 1891.94 147.929 Q1895.11 151.54 1895.11 157.929 Q1895.11 164.295 1891.94 167.929 Q1888.77 171.54 1883.21 171.54 Q1877.63 171.54 1874.46 167.929 Q1871.32 164.295 1871.32 157.929 Q1871.32 151.54 1874.46 147.929 Q1877.63 144.318 1883.21 144.318 Z\" fill=\"#000000\" fill-rule=\"evenodd\" fill-opacity=\"1\" /><path clip-path=\"url(#clip710)\" d=\"M 0 0 M1917.19 148.924 Q1916.48 148.508 1915.62 148.322 Q1914.79 148.114 1913.77 148.114 Q1910.16 148.114 1908.21 150.475 Q1906.29 152.813 1906.29 157.211 L1906.29 170.869 L1902.01 170.869 L1902.01 144.943 L1906.29 144.943 L1906.29 148.971 Q1907.63 146.609 1909.79 145.475 Q1911.94 144.318 1915.02 144.318 Q1915.46 144.318 1915.99 144.387 Q1916.52 144.434 1917.17 144.549 L1917.19 148.924 Z\" fill=\"#000000\" fill-rule=\"evenodd\" fill-opacity=\"1\" /><path clip-path=\"url(#clip710)\" d=\"M 0 0 M1921.66 144.943 L1925.92 144.943 L1925.92 170.869 L1921.66 170.869 L1921.66 144.943 M1921.66 134.85 L1925.92 134.85 L1925.92 140.244 L1921.66 140.244 L1921.66 134.85 Z\" fill=\"#000000\" fill-rule=\"evenodd\" fill-opacity=\"1\" /><path clip-path=\"url(#clip710)\" d=\"M 0 0 M1956.38 155.221 L1956.38 170.869 L1952.12 170.869 L1952.12 155.359 Q1952.12 151.679 1950.69 149.85 Q1949.25 148.022 1946.38 148.022 Q1942.94 148.022 1940.94 150.221 Q1938.95 152.42 1938.95 156.216 L1938.95 170.869 L1934.67 170.869 L1934.67 144.943 L1938.95 144.943 L1938.95 148.971 Q1940.48 146.633 1942.54 145.475 Q1944.62 144.318 1947.33 144.318 Q1951.8 144.318 1954.09 147.096 Q1956.38 149.85 1956.38 155.221 Z\" fill=\"#000000\" fill-rule=\"evenodd\" fill-opacity=\"1\" /><path clip-path=\"url(#clip710)\" d=\"M 0 0 M1998.56 157.929 Q1998.56 153.23 1996.62 150.568 Q1994.69 147.883 1991.31 147.883 Q1987.93 147.883 1985.99 150.568 Q1984.07 153.23 1984.07 157.929 Q1984.07 162.628 1985.99 165.313 Q1987.93 167.975 1991.31 167.975 Q1994.69 167.975 1996.62 165.313 Q1998.56 162.628 1998.56 157.929 M1984.07 148.878 Q1985.41 146.563 1987.45 145.452 Q1989.51 144.318 1992.36 144.318 Q1997.08 144.318 2000.02 148.068 Q2002.98 151.818 2002.98 157.929 Q2002.98 164.04 2000.02 167.79 Q1997.08 171.54 1992.36 171.54 Q1989.51 171.54 1987.45 170.429 Q1985.41 169.295 1984.07 166.98 L1984.07 170.869 L1979.79 170.869 L1979.79 134.85 L1984.07 134.85 L1984.07 148.878 Z\" fill=\"#000000\" fill-rule=\"evenodd\" fill-opacity=\"1\" /><path clip-path=\"url(#clip710)\" d=\"M 0 0 M2020.09 147.929 Q2016.66 147.929 2014.67 150.614 Q2012.68 153.276 2012.68 157.929 Q2012.68 162.582 2014.65 165.267 Q2016.64 167.929 2020.09 167.929 Q2023.49 167.929 2025.48 165.244 Q2027.47 162.558 2027.47 157.929 Q2027.47 153.322 2025.48 150.637 Q2023.49 147.929 2020.09 147.929 M2020.09 144.318 Q2025.64 144.318 2028.81 147.929 Q2031.99 151.54 2031.99 157.929 Q2031.99 164.295 2028.81 167.929 Q2025.64 171.54 2020.09 171.54 Q2014.51 171.54 2011.34 167.929 Q2008.19 164.295 2008.19 157.929 Q2008.19 151.54 2011.34 147.929 Q2014.51 144.318 2020.09 144.318 Z\" fill=\"#000000\" fill-rule=\"evenodd\" fill-opacity=\"1\" /><path clip-path=\"url(#clip710)\" d=\"M 0 0 M2038.61 160.637 L2038.61 144.943 L2042.87 144.943 L2042.87 160.475 Q2042.87 164.156 2044.3 166.008 Q2045.74 167.836 2048.61 167.836 Q2052.05 167.836 2054.05 165.637 Q2056.06 163.438 2056.06 159.642 L2056.06 144.943 L2060.32 144.943 L2060.32 170.869 L2056.06 170.869 L2056.06 166.887 Q2054.51 169.248 2052.45 170.406 Q2050.41 171.54 2047.7 171.54 Q2043.24 171.54 2040.92 168.762 Q2038.61 165.984 2038.61 160.637 M2049.32 144.318 L2049.32 144.318 Z\" fill=\"#000000\" fill-rule=\"evenodd\" fill-opacity=\"1\" /><path clip-path=\"url(#clip710)\" d=\"M 0 0 M2090.64 155.221 L2090.64 170.869 L2086.38 170.869 L2086.38 155.359 Q2086.38 151.679 2084.95 149.85 Q2083.51 148.022 2080.64 148.022 Q2077.19 148.022 2075.2 150.221 Q2073.21 152.42 2073.21 156.216 L2073.21 170.869 L2068.93 170.869 L2068.93 144.943 L2073.21 144.943 L2073.21 148.971 Q2074.74 146.633 2076.8 145.475 Q2078.88 144.318 2081.59 144.318 Q2086.06 144.318 2088.35 147.096 Q2090.64 149.85 2090.64 155.221 Z\" fill=\"#000000\" fill-rule=\"evenodd\" fill-opacity=\"1\" /><path clip-path=\"url(#clip710)\" d=\"M 0 0 M2116.2 148.878 L2116.2 134.85 L2120.46 134.85 L2120.46 170.869 L2116.2 170.869 L2116.2 166.98 Q2114.86 169.295 2112.8 170.429 Q2110.76 171.54 2107.89 171.54 Q2103.19 171.54 2100.23 167.79 Q2097.29 164.04 2097.29 157.929 Q2097.29 151.818 2100.23 148.068 Q2103.19 144.318 2107.89 144.318 Q2110.76 144.318 2112.8 145.452 Q2114.86 146.563 2116.2 148.878 M2101.68 157.929 Q2101.68 162.628 2103.61 165.313 Q2105.55 167.975 2108.93 167.975 Q2112.31 167.975 2114.25 165.313 Q2116.2 162.628 2116.2 157.929 Q2116.2 153.23 2114.25 150.568 Q2112.31 147.883 2108.93 147.883 Q2105.55 147.883 2103.61 150.568 Q2101.68 153.23 2101.68 157.929 Z\" fill=\"#000000\" fill-rule=\"evenodd\" fill-opacity=\"1\" /><path clip-path=\"url(#clip710)\" d=\"M 0 0 M2145.76 145.707 L2145.76 149.734 Q2143.95 148.809 2142.01 148.346 Q2140.06 147.883 2137.98 147.883 Q2134.81 147.883 2133.21 148.855 Q2131.64 149.827 2131.64 151.771 Q2131.64 153.253 2132.77 154.109 Q2133.91 154.943 2137.33 155.707 L2138.79 156.031 Q2143.33 157.003 2145.23 158.785 Q2147.15 160.545 2147.15 163.716 Q2147.15 167.327 2144.28 169.433 Q2141.43 171.54 2136.43 171.54 Q2134.35 171.54 2132.08 171.123 Q2129.83 170.73 2127.33 169.92 L2127.33 165.521 Q2129.69 166.748 2131.99 167.373 Q2134.28 167.975 2136.52 167.975 Q2139.53 167.975 2141.15 166.957 Q2142.77 165.915 2142.77 164.04 Q2142.77 162.304 2141.59 161.378 Q2140.43 160.452 2136.48 159.596 L2134.99 159.248 Q2131.04 158.415 2129.28 156.702 Q2127.52 154.966 2127.52 151.957 Q2127.52 148.299 2130.11 146.309 Q2132.7 144.318 2137.47 144.318 Q2139.83 144.318 2141.92 144.665 Q2144 145.012 2145.76 145.707 Z\" fill=\"#000000\" fill-rule=\"evenodd\" fill-opacity=\"1\" /><circle clip-path=\"url(#clip710)\" cx=\"1608\" cy=\"214.069\" r=\"23\" fill=\"#0000ff\" fill-rule=\"evenodd\" fill-opacity=\"1\" stroke=\"#000000\" stroke-opacity=\"1\" stroke-width=\"5.12\"/>\n",
       "<path clip-path=\"url(#clip710)\" d=\"M 0 0 M1721.64 206.418 L1721.64 210.4 Q1719.83 209.404 1718.01 208.918 Q1716.2 208.409 1714.35 208.409 Q1710.2 208.409 1707.91 211.048 Q1705.62 213.664 1705.62 218.409 Q1705.62 223.154 1707.91 225.793 Q1710.2 228.409 1714.35 228.409 Q1716.2 228.409 1718.01 227.923 Q1719.83 227.413 1721.64 226.418 L1721.64 230.353 Q1719.86 231.187 1717.94 231.603 Q1716.04 232.02 1713.89 232.02 Q1708.03 232.02 1704.58 228.339 Q1701.13 224.659 1701.13 218.409 Q1701.13 212.066 1704.6 208.432 Q1708.1 204.798 1714.16 204.798 Q1716.13 204.798 1718.01 205.215 Q1719.88 205.608 1721.64 206.418 Z\" fill=\"#000000\" fill-rule=\"evenodd\" fill-opacity=\"1\" /><path clip-path=\"url(#clip710)\" d=\"M 0 0 M1739.09 208.409 Q1735.67 208.409 1733.68 211.094 Q1731.69 213.756 1731.69 218.409 Q1731.69 223.062 1733.65 225.747 Q1735.64 228.409 1739.09 228.409 Q1742.5 228.409 1744.49 225.724 Q1746.48 223.038 1746.48 218.409 Q1746.48 213.802 1744.49 211.117 Q1742.5 208.409 1739.09 208.409 M1739.09 204.798 Q1744.65 204.798 1747.82 208.409 Q1750.99 212.02 1750.99 218.409 Q1750.99 224.775 1747.82 228.409 Q1744.65 232.02 1739.09 232.02 Q1733.51 232.02 1730.34 228.409 Q1727.2 224.775 1727.2 218.409 Q1727.2 212.02 1730.34 208.409 Q1733.51 204.798 1739.09 204.798 Z\" fill=\"#000000\" fill-rule=\"evenodd\" fill-opacity=\"1\" /><path clip-path=\"url(#clip710)\" d=\"M 0 0 M1778.24 210.4 Q1779.83 207.529 1782.06 206.164 Q1784.28 204.798 1787.29 204.798 Q1791.34 204.798 1793.54 207.645 Q1795.74 210.469 1795.74 215.701 L1795.74 231.349 L1791.45 231.349 L1791.45 215.839 Q1791.45 212.113 1790.14 210.307 Q1788.82 208.502 1786.11 208.502 Q1782.8 208.502 1780.88 210.701 Q1778.95 212.9 1778.95 216.696 L1778.95 231.349 L1774.67 231.349 L1774.67 215.839 Q1774.67 212.089 1773.35 210.307 Q1772.03 208.502 1769.28 208.502 Q1766.01 208.502 1764.09 210.724 Q1762.17 212.923 1762.17 216.696 L1762.17 231.349 L1757.89 231.349 L1757.89 205.423 L1762.17 205.423 L1762.17 209.451 Q1763.63 207.066 1765.67 205.932 Q1767.7 204.798 1770.51 204.798 Q1773.33 204.798 1775.3 206.233 Q1777.29 207.668 1778.24 210.4 Z\" fill=\"#000000\" fill-rule=\"evenodd\" fill-opacity=\"1\" /><path clip-path=\"url(#clip710)\" d=\"M 0 0 M1808.35 227.46 L1808.35 241.21 L1804.07 241.21 L1804.07 205.423 L1808.35 205.423 L1808.35 209.358 Q1809.7 207.043 1811.73 205.932 Q1813.79 204.798 1816.64 204.798 Q1821.36 204.798 1824.3 208.548 Q1827.26 212.298 1827.26 218.409 Q1827.26 224.52 1824.3 228.27 Q1821.36 232.02 1816.64 232.02 Q1813.79 232.02 1811.73 230.909 Q1809.7 229.775 1808.35 227.46 M1822.84 218.409 Q1822.84 213.71 1820.9 211.048 Q1818.98 208.363 1815.6 208.363 Q1812.22 208.363 1810.27 211.048 Q1808.35 213.71 1808.35 218.409 Q1808.35 223.108 1810.27 225.793 Q1812.22 228.455 1815.6 228.455 Q1818.98 228.455 1820.9 225.793 Q1822.84 223.108 1822.84 218.409 Z\" fill=\"#000000\" fill-rule=\"evenodd\" fill-opacity=\"1\" /><path clip-path=\"url(#clip710)\" d=\"M 0 0 M1833.88 221.117 L1833.88 205.423 L1838.14 205.423 L1838.14 220.955 Q1838.14 224.636 1839.58 226.488 Q1841.01 228.316 1843.88 228.316 Q1847.33 228.316 1849.32 226.117 Q1851.34 223.918 1851.34 220.122 L1851.34 205.423 L1855.6 205.423 L1855.6 231.349 L1851.34 231.349 L1851.34 227.367 Q1849.79 229.728 1847.73 230.886 Q1845.69 232.02 1842.98 232.02 Q1838.51 232.02 1836.2 229.242 Q1833.88 226.464 1833.88 221.117 M1844.6 204.798 L1844.6 204.798 Z\" fill=\"#000000\" fill-rule=\"evenodd\" fill-opacity=\"1\" /><path clip-path=\"url(#clip710)\" d=\"M 0 0 M1868.58 198.062 L1868.58 205.423 L1877.36 205.423 L1877.36 208.733 L1868.58 208.733 L1868.58 222.807 Q1868.58 225.978 1869.44 226.881 Q1870.32 227.784 1872.98 227.784 L1877.36 227.784 L1877.36 231.349 L1872.98 231.349 Q1868.05 231.349 1866.18 229.52 Q1864.3 227.668 1864.3 222.807 L1864.3 208.733 L1861.18 208.733 L1861.18 205.423 L1864.3 205.423 L1864.3 198.062 L1868.58 198.062 Z\" fill=\"#000000\" fill-rule=\"evenodd\" fill-opacity=\"1\" /><path clip-path=\"url(#clip710)\" d=\"M 0 0 M1905.13 217.321 L1905.13 219.404 L1885.55 219.404 Q1885.83 223.802 1888.19 226.117 Q1890.57 228.409 1894.81 228.409 Q1897.26 228.409 1899.56 227.807 Q1901.87 227.205 1904.14 226.001 L1904.14 230.029 Q1901.85 231.001 1899.44 231.511 Q1897.03 232.02 1894.56 232.02 Q1888.35 232.02 1884.72 228.409 Q1881.11 224.798 1881.11 218.64 Q1881.11 212.275 1884.53 208.548 Q1887.98 204.798 1893.82 204.798 Q1899.05 204.798 1902.08 208.177 Q1905.13 211.534 1905.13 217.321 M1900.88 216.071 Q1900.83 212.576 1898.91 210.492 Q1897.01 208.409 1893.86 208.409 Q1890.3 208.409 1888.14 210.423 Q1886.01 212.437 1885.69 216.094 L1900.88 216.071 Z\" fill=\"#000000\" fill-rule=\"evenodd\" fill-opacity=\"1\" /><path clip-path=\"url(#clip710)\" d=\"M 0 0 M1929.19 209.358 L1929.19 195.33 L1933.44 195.33 L1933.44 231.349 L1929.19 231.349 L1929.19 227.46 Q1927.84 229.775 1925.78 230.909 Q1923.75 232.02 1920.88 232.02 Q1916.18 232.02 1913.21 228.27 Q1910.27 224.52 1910.27 218.409 Q1910.27 212.298 1913.21 208.548 Q1916.18 204.798 1920.88 204.798 Q1923.75 204.798 1925.78 205.932 Q1927.84 207.043 1929.19 209.358 M1914.67 218.409 Q1914.67 223.108 1916.59 225.793 Q1918.54 228.455 1921.92 228.455 Q1925.3 228.455 1927.24 225.793 Q1929.19 223.108 1929.19 218.409 Q1929.19 213.71 1927.24 211.048 Q1925.3 208.363 1921.92 208.363 Q1918.54 208.363 1916.59 211.048 Q1914.67 213.71 1914.67 218.409 Z\" fill=\"#000000\" fill-rule=\"evenodd\" fill-opacity=\"1\" /><path clip-path=\"url(#clip710)\" d=\"M 0 0 M1979.46 217.321 L1979.46 219.404 L1959.88 219.404 Q1960.16 223.802 1962.52 226.117 Q1964.9 228.409 1969.14 228.409 Q1971.59 228.409 1973.88 227.807 Q1976.2 227.205 1978.47 226.001 L1978.47 230.029 Q1976.18 231.001 1973.77 231.511 Q1971.36 232.02 1968.88 232.02 Q1962.68 232.02 1959.05 228.409 Q1955.44 224.798 1955.44 218.64 Q1955.44 212.275 1958.86 208.548 Q1962.31 204.798 1968.14 204.798 Q1973.37 204.798 1976.41 208.177 Q1979.46 211.534 1979.46 217.321 M1975.2 216.071 Q1975.16 212.576 1973.24 210.492 Q1971.34 208.409 1968.19 208.409 Q1964.62 208.409 1962.47 210.423 Q1960.34 212.437 1960.02 216.094 L1975.2 216.071 Z\" fill=\"#000000\" fill-rule=\"evenodd\" fill-opacity=\"1\" /><path clip-path=\"url(#clip710)\" d=\"M 0 0 M1986.45 205.423 L1990.71 205.423 L1990.71 231.349 L1986.45 231.349 L1986.45 205.423 M1986.45 195.33 L1990.71 195.33 L1990.71 200.724 L1986.45 200.724 L1986.45 195.33 Z\" fill=\"#000000\" fill-rule=\"evenodd\" fill-opacity=\"1\" /><path clip-path=\"url(#clip710)\" d=\"M 0 0 M2016.68 218.085 Q2016.68 213.455 2014.76 210.909 Q2012.87 208.363 2009.42 208.363 Q2005.99 208.363 2004.07 210.909 Q2002.17 213.455 2002.17 218.085 Q2002.17 222.691 2004.07 225.238 Q2005.99 227.784 2009.42 227.784 Q2012.87 227.784 2014.76 225.238 Q2016.68 222.691 2016.68 218.085 M2020.94 228.131 Q2020.94 234.751 2018 237.969 Q2015.06 241.21 2009 241.21 Q2006.75 241.21 2004.76 240.862 Q2002.77 240.538 2000.9 239.844 L2000.9 235.7 Q2002.77 236.719 2004.6 237.205 Q2006.43 237.691 2008.33 237.691 Q2012.52 237.691 2014.6 235.492 Q2016.68 233.316 2016.68 228.895 L2016.68 226.788 Q2015.37 229.08 2013.31 230.214 Q2011.24 231.349 2008.37 231.349 Q2003.61 231.349 2000.69 227.714 Q1997.77 224.08 1997.77 218.085 Q1997.77 212.066 2000.69 208.432 Q2003.61 204.798 2008.37 204.798 Q2011.24 204.798 2013.31 205.932 Q2015.37 207.066 2016.68 209.358 L2016.68 205.423 L2020.94 205.423 L2020.94 228.131 Z\" fill=\"#000000\" fill-rule=\"evenodd\" fill-opacity=\"1\" /><path clip-path=\"url(#clip710)\" d=\"M 0 0 M2051.89 217.321 L2051.89 219.404 L2032.31 219.404 Q2032.59 223.802 2034.95 226.117 Q2037.33 228.409 2041.57 228.409 Q2044.02 228.409 2046.31 227.807 Q2048.63 227.205 2050.9 226.001 L2050.9 230.029 Q2048.61 231.001 2046.2 231.511 Q2043.79 232.02 2041.31 232.02 Q2035.11 232.02 2031.48 228.409 Q2027.87 224.798 2027.87 218.64 Q2027.87 212.275 2031.29 208.548 Q2034.74 204.798 2040.57 204.798 Q2045.8 204.798 2048.84 208.177 Q2051.89 211.534 2051.89 217.321 M2047.63 216.071 Q2047.59 212.576 2045.67 210.492 Q2043.77 208.409 2040.62 208.409 Q2037.06 208.409 2034.9 210.423 Q2032.77 212.437 2032.45 216.094 L2047.63 216.071 Z\" fill=\"#000000\" fill-rule=\"evenodd\" fill-opacity=\"1\" /><path clip-path=\"url(#clip710)\" d=\"M 0 0 M2080.43 215.701 L2080.43 231.349 L2076.18 231.349 L2076.18 215.839 Q2076.18 212.159 2074.74 210.33 Q2073.3 208.502 2070.43 208.502 Q2066.99 208.502 2064.99 210.701 Q2063 212.9 2063 216.696 L2063 231.349 L2058.72 231.349 L2058.72 205.423 L2063 205.423 L2063 209.451 Q2064.53 207.113 2066.59 205.955 Q2068.68 204.798 2071.38 204.798 Q2075.85 204.798 2078.14 207.576 Q2080.43 210.33 2080.43 215.701 Z\" fill=\"#000000\" fill-rule=\"evenodd\" fill-opacity=\"1\" /><path clip-path=\"url(#clip710)\" d=\"M 0 0 M2085.87 205.423 L2090.39 205.423 L2098.49 227.182 L2106.59 205.423 L2111.11 205.423 L2101.38 231.349 L2095.6 231.349 L2085.87 205.423 Z\" fill=\"#000000\" fill-rule=\"evenodd\" fill-opacity=\"1\" /><path clip-path=\"url(#clip710)\" d=\"M 0 0 M2128.77 218.316 Q2123.61 218.316 2121.61 219.497 Q2119.62 220.677 2119.62 223.525 Q2119.62 225.793 2121.11 227.136 Q2122.61 228.455 2125.18 228.455 Q2128.72 228.455 2130.85 225.955 Q2133 223.432 2133 219.265 L2133 218.316 L2128.77 218.316 M2137.26 216.557 L2137.26 231.349 L2133 231.349 L2133 227.413 Q2131.55 229.775 2129.37 230.909 Q2127.19 232.02 2124.05 232.02 Q2120.06 232.02 2117.7 229.798 Q2115.36 227.552 2115.36 223.802 Q2115.36 219.427 2118.28 217.205 Q2121.22 214.983 2127.03 214.983 L2133 214.983 L2133 214.566 Q2133 211.627 2131.06 210.029 Q2129.14 208.409 2125.64 208.409 Q2123.42 208.409 2121.31 208.941 Q2119.21 209.474 2117.26 210.539 L2117.26 206.603 Q2119.6 205.701 2121.8 205.261 Q2124 204.798 2126.08 204.798 Q2131.71 204.798 2134.49 207.714 Q2137.26 210.631 2137.26 216.557 Z\" fill=\"#000000\" fill-rule=\"evenodd\" fill-opacity=\"1\" /><path clip-path=\"url(#clip710)\" d=\"M 0 0 M2146.04 195.33 L2150.3 195.33 L2150.3 231.349 L2146.04 231.349 L2146.04 195.33 Z\" fill=\"#000000\" fill-rule=\"evenodd\" fill-opacity=\"1\" /><path clip-path=\"url(#clip710)\" d=\"M 0 0 M2158.77 221.117 L2158.77 205.423 L2163.03 205.423 L2163.03 220.955 Q2163.03 224.636 2164.46 226.488 Q2165.9 228.316 2168.77 228.316 Q2172.22 228.316 2174.21 226.117 Q2176.22 223.918 2176.22 220.122 L2176.22 205.423 L2180.48 205.423 L2180.48 231.349 L2176.22 231.349 L2176.22 227.367 Q2174.67 229.728 2172.61 230.886 Q2170.57 232.02 2167.86 232.02 Q2163.4 232.02 2161.08 229.242 Q2158.77 226.464 2158.77 221.117 M2169.48 204.798 L2169.48 204.798 Z\" fill=\"#000000\" fill-rule=\"evenodd\" fill-opacity=\"1\" /><path clip-path=\"url(#clip710)\" d=\"M 0 0 M2211.43 217.321 L2211.43 219.404 L2191.85 219.404 Q2192.12 223.802 2194.48 226.117 Q2196.87 228.409 2201.11 228.409 Q2203.56 228.409 2205.85 227.807 Q2208.17 227.205 2210.43 226.001 L2210.43 230.029 Q2208.14 231.001 2205.73 231.511 Q2203.33 232.02 2200.85 232.02 Q2194.65 232.02 2191.01 228.409 Q2187.4 224.798 2187.4 218.64 Q2187.4 212.275 2190.83 208.548 Q2194.28 204.798 2200.11 204.798 Q2205.34 204.798 2208.37 208.177 Q2211.43 211.534 2211.43 217.321 M2207.17 216.071 Q2207.12 212.576 2205.2 210.492 Q2203.3 208.409 2200.16 208.409 Q2196.59 208.409 2194.44 210.423 Q2192.31 212.437 2191.98 216.094 L2207.17 216.071 Z\" fill=\"#000000\" fill-rule=\"evenodd\" fill-opacity=\"1\" /><path clip-path=\"url(#clip710)\" d=\"M 0 0 M2234.95 206.187 L2234.95 210.214 Q2233.14 209.289 2231.2 208.826 Q2229.25 208.363 2227.17 208.363 Q2224 208.363 2222.4 209.335 Q2220.83 210.307 2220.83 212.251 Q2220.83 213.733 2221.96 214.589 Q2223.1 215.423 2226.52 216.187 L2227.98 216.511 Q2232.52 217.483 2234.42 219.265 Q2236.34 221.025 2236.34 224.196 Q2236.34 227.807 2233.47 229.913 Q2230.62 232.02 2225.62 232.02 Q2223.54 232.02 2221.27 231.603 Q2219.02 231.21 2216.52 230.4 L2216.52 226.001 Q2218.88 227.228 2221.17 227.853 Q2223.47 228.455 2225.71 228.455 Q2228.72 228.455 2230.34 227.437 Q2231.96 226.395 2231.96 224.52 Q2231.96 222.784 2230.78 221.858 Q2229.62 220.932 2225.67 220.076 L2224.18 219.728 Q2220.23 218.895 2218.47 217.182 Q2216.71 215.446 2216.71 212.437 Q2216.71 208.779 2219.3 206.789 Q2221.89 204.798 2226.66 204.798 Q2229.02 204.798 2231.1 205.145 Q2233.19 205.492 2234.95 206.187 Z\" fill=\"#000000\" fill-rule=\"evenodd\" fill-opacity=\"1\" /></svg>\n"
      ]
     },
     "execution_count": 298,
     "metadata": {},
     "output_type": "execute_result"
    }
   ],
   "source": [
    "d = disks[size(disks,1)]\n",
    "plot(draw_circle(d[1],0,d[2]), \n",
    "    seriestype = [:shape,], \n",
    "    color = :red, \n",
    "    fillalpha = 0.5,\n",
    "    label = \"Gershgorin bounds\"\n",
    ")\n",
    "for i in 1:size(disks,1)-1\n",
    "    d = disks[i]\n",
    "    plot!(draw_circle(d[1],0,d[2]), \n",
    "        seriestype = [:shape,], \n",
    "        color = :red, \n",
    "        fillalpha = 0.5 , \n",
    "        label = \"\",\n",
    "        aspect_ratio = 1\n",
    "    )\n",
    "end\n",
    "\n",
    "scatter!(ev_plot,\n",
    "    xlabel = \"Real axis\", \n",
    "    ylabel = \"Imaginary axis\",\n",
    "    label = \"computed eigenvalues\",\n",
    "    color = :blue\n",
    "    )"
   ]
  },
  {
   "cell_type": "markdown",
   "metadata": {},
   "source": [
    "Test 3"
   ]
  },
  {
   "cell_type": "code",
   "execution_count": 361,
   "metadata": {},
   "outputs": [
    {
     "data": {
      "text/plain": [
       "5×5 Matrix{Float64}:\n",
       "  0.31874    0.119202  -0.236792   -0.266374    0.157752\n",
       " -0.192374  -0.341966   0.345791    0.477778   -0.432812\n",
       "  0.291372  -0.247773   0.0100049  -0.0531531  -0.298621\n",
       " -0.187338  -0.242881  -0.0253584   0.456262    0.252972\n",
       " -0.468176   0.360532   0.015034    0.0388662   0.087702"
      ]
     },
     "execution_count": 361,
     "metadata": {},
     "output_type": "execute_result"
    }
   ],
   "source": [
    "A = rand(5,5)\n",
    "A = A .- 0.5"
   ]
  },
  {
   "cell_type": "code",
   "execution_count": 362,
   "metadata": {},
   "outputs": [
    {
     "data": {
      "text/plain": [
       "5-element Vector{Float64}:\n",
       " -0.1978114386899178\n",
       "  0.1475125751925771\n",
       "  0.5737417991749932\n",
       "  0.09240346615650043\n",
       " -0.08510282930314744"
      ]
     },
     "execution_count": 362,
     "metadata": {},
     "output_type": "execute_result"
    }
   ],
   "source": [
    "ev = find_eigenvalues(A,100, false)"
   ]
  },
  {
   "cell_type": "code",
   "execution_count": 363,
   "metadata": {},
   "outputs": [],
   "source": [
    "ev_plot = get_ev_coords(ev);\n",
    "disks = get_disks(A);"
   ]
  },
  {
   "cell_type": "code",
   "execution_count": 364,
   "metadata": {},
   "outputs": [
    {
     "data": {
      "image/svg+xml": [
       "<?xml version=\"1.0\" encoding=\"utf-8\"?>\n",
       "<svg xmlns=\"http://www.w3.org/2000/svg\" xmlns:xlink=\"http://www.w3.org/1999/xlink\" width=\"600\" height=\"400\" viewBox=\"0 0 2400 1600\">\n",
       "<defs>\n",
       "  <clipPath id=\"clip670\">\n",
       "    <rect x=\"0\" y=\"0\" width=\"2400\" height=\"1600\"/>\n",
       "  </clipPath>\n",
       "</defs>\n",
       "<path clip-path=\"url(#clip670)\" d=\"\n",
       "M0 1600 L2400 1600 L2400 0 L0 0  Z\n",
       "  \" fill=\"#ffffff\" fill-rule=\"evenodd\" fill-opacity=\"1\"/>\n",
       "<defs>\n",
       "  <clipPath id=\"clip671\">\n",
       "    <rect x=\"480\" y=\"0\" width=\"1681\" height=\"1600\"/>\n",
       "  </clipPath>\n",
       "</defs>\n",
       "<path clip-path=\"url(#clip670)\" d=\"\n",
       "M257.204 1423.18 L2352.76 1423.18 L2352.76 47.2441 L257.204 47.2441  Z\n",
       "  \" fill=\"#ffffff\" fill-rule=\"evenodd\" fill-opacity=\"1\"/>\n",
       "<defs>\n",
       "  <clipPath id=\"clip672\">\n",
       "    <rect x=\"257\" y=\"47\" width=\"2097\" height=\"1377\"/>\n",
       "  </clipPath>\n",
       "</defs>\n",
       "<polyline clip-path=\"url(#clip672)\" style=\"stroke:#000000; stroke-width:2; stroke-opacity:0.1; fill:none\" points=\"\n",
       "  549.201,1423.18 549.201,47.2441 \n",
       "  \"/>\n",
       "<polyline clip-path=\"url(#clip672)\" style=\"stroke:#000000; stroke-width:2; stroke-opacity:0.1; fill:none\" points=\"\n",
       "  997.19,1423.18 997.19,47.2441 \n",
       "  \"/>\n",
       "<polyline clip-path=\"url(#clip672)\" style=\"stroke:#000000; stroke-width:2; stroke-opacity:0.1; fill:none\" points=\"\n",
       "  1445.18,1423.18 1445.18,47.2441 \n",
       "  \"/>\n",
       "<polyline clip-path=\"url(#clip672)\" style=\"stroke:#000000; stroke-width:2; stroke-opacity:0.1; fill:none\" points=\"\n",
       "  1893.17,1423.18 1893.17,47.2441 \n",
       "  \"/>\n",
       "<polyline clip-path=\"url(#clip672)\" style=\"stroke:#000000; stroke-width:2; stroke-opacity:0.1; fill:none\" points=\"\n",
       "  2341.16,1423.18 2341.16,47.2441 \n",
       "  \"/>\n",
       "<polyline clip-path=\"url(#clip670)\" style=\"stroke:#000000; stroke-width:4; stroke-opacity:1; fill:none\" points=\"\n",
       "  257.204,1423.18 2352.76,1423.18 \n",
       "  \"/>\n",
       "<polyline clip-path=\"url(#clip670)\" style=\"stroke:#000000; stroke-width:4; stroke-opacity:1; fill:none\" points=\"\n",
       "  549.201,1423.18 549.201,1406.67 \n",
       "  \"/>\n",
       "<polyline clip-path=\"url(#clip670)\" style=\"stroke:#000000; stroke-width:4; stroke-opacity:1; fill:none\" points=\"\n",
       "  997.19,1423.18 997.19,1406.67 \n",
       "  \"/>\n",
       "<polyline clip-path=\"url(#clip670)\" style=\"stroke:#000000; stroke-width:4; stroke-opacity:1; fill:none\" points=\"\n",
       "  1445.18,1423.18 1445.18,1406.67 \n",
       "  \"/>\n",
       "<polyline clip-path=\"url(#clip670)\" style=\"stroke:#000000; stroke-width:4; stroke-opacity:1; fill:none\" points=\"\n",
       "  1893.17,1423.18 1893.17,1406.67 \n",
       "  \"/>\n",
       "<polyline clip-path=\"url(#clip670)\" style=\"stroke:#000000; stroke-width:4; stroke-opacity:1; fill:none\" points=\"\n",
       "  2341.16,1423.18 2341.16,1406.67 \n",
       "  \"/>\n",
       "<path clip-path=\"url(#clip670)\" d=\"M 0 0 M519.143 1467.02 L548.819 1467.02 L548.819 1470.96 L519.143 1470.96 L519.143 1467.02 Z\" fill=\"#000000\" fill-rule=\"evenodd\" fill-opacity=\"1\" /><path clip-path=\"url(#clip670)\" d=\"M 0 0 M562.939 1479.92 L579.259 1479.92 L579.259 1483.85 L557.314 1483.85 L557.314 1479.92 Q559.976 1477.16 564.56 1472.53 Q569.166 1467.88 570.347 1466.54 Q572.592 1464.01 573.472 1462.28 Q574.374 1460.52 574.374 1458.83 Q574.374 1456.07 572.43 1454.34 Q570.509 1452.6 567.407 1452.6 Q565.208 1452.6 562.754 1453.37 Q560.323 1454.13 557.546 1455.68 L557.546 1450.96 Q560.37 1449.82 562.823 1449.25 Q565.277 1448.67 567.314 1448.67 Q572.685 1448.67 575.879 1451.35 Q579.073 1454.04 579.073 1458.53 Q579.073 1460.66 578.263 1462.58 Q577.476 1464.48 575.37 1467.07 Q574.791 1467.74 571.689 1470.96 Q568.587 1474.15 562.939 1479.92 Z\" fill=\"#000000\" fill-rule=\"evenodd\" fill-opacity=\"1\" /><path clip-path=\"url(#clip670)\" d=\"M 0 0 M966.947 1467.02 L996.623 1467.02 L996.623 1470.96 L966.947 1470.96 L966.947 1467.02 Z\" fill=\"#000000\" fill-rule=\"evenodd\" fill-opacity=\"1\" /><path clip-path=\"url(#clip670)\" d=\"M 0 0 M1007.53 1479.92 L1015.16 1479.92 L1015.16 1453.55 L1006.85 1455.22 L1006.85 1450.96 L1015.12 1449.29 L1019.79 1449.29 L1019.79 1479.92 L1027.43 1479.92 L1027.43 1483.85 L1007.53 1483.85 L1007.53 1479.92 Z\" fill=\"#000000\" fill-rule=\"evenodd\" fill-opacity=\"1\" /><path clip-path=\"url(#clip670)\" d=\"M 0 0 M1445.18 1452.37 Q1441.57 1452.37 1439.74 1455.94 Q1437.93 1459.48 1437.93 1466.61 Q1437.93 1473.71 1439.74 1477.28 Q1441.57 1480.82 1445.18 1480.82 Q1448.81 1480.82 1450.62 1477.28 Q1452.45 1473.71 1452.45 1466.61 Q1452.45 1459.48 1450.62 1455.94 Q1448.81 1452.37 1445.18 1452.37 M1445.18 1448.67 Q1450.99 1448.67 1454.05 1453.27 Q1457.12 1457.86 1457.12 1466.61 Q1457.12 1475.33 1454.05 1479.94 Q1450.99 1484.52 1445.18 1484.52 Q1439.37 1484.52 1436.29 1479.94 Q1433.23 1475.33 1433.23 1466.61 Q1433.23 1457.86 1436.29 1453.27 Q1439.37 1448.67 1445.18 1448.67 Z\" fill=\"#000000\" fill-rule=\"evenodd\" fill-opacity=\"1\" /><path clip-path=\"url(#clip670)\" d=\"M 0 0 M1883.55 1479.92 L1891.19 1479.92 L1891.19 1453.55 L1882.88 1455.22 L1882.88 1450.96 L1891.14 1449.29 L1895.82 1449.29 L1895.82 1479.92 L1903.46 1479.92 L1903.46 1483.85 L1883.55 1483.85 L1883.55 1479.92 Z\" fill=\"#000000\" fill-rule=\"evenodd\" fill-opacity=\"1\" /><path clip-path=\"url(#clip670)\" d=\"M 0 0 M2335.81 1479.92 L2352.13 1479.92 L2352.13 1483.85 L2330.19 1483.85 L2330.19 1479.92 Q2332.85 1477.16 2337.43 1472.53 Q2342.04 1467.88 2343.22 1466.54 Q2345.46 1464.01 2346.34 1462.28 Q2347.25 1460.52 2347.25 1458.83 Q2347.25 1456.07 2345.3 1454.34 Q2343.38 1452.6 2340.28 1452.6 Q2338.08 1452.6 2335.63 1453.37 Q2333.19 1454.13 2330.42 1455.68 L2330.42 1450.96 Q2333.24 1449.82 2335.69 1449.25 Q2338.15 1448.67 2340.19 1448.67 Q2345.56 1448.67 2348.75 1451.35 Q2351.94 1454.04 2351.94 1458.53 Q2351.94 1460.66 2351.13 1462.58 Q2350.35 1464.48 2348.24 1467.07 Q2347.66 1467.74 2344.56 1470.96 Q2341.46 1474.15 2335.81 1479.92 Z\" fill=\"#000000\" fill-rule=\"evenodd\" fill-opacity=\"1\" /><path clip-path=\"url(#clip670)\" d=\"M 0 0 M1186.39 1545.76 Q1188.46 1546.46 1190.4 1548.76 Q1192.37 1551.05 1194.34 1555.06 L1200.87 1568.04 L1193.96 1568.04 L1187.88 1555.85 Q1185.53 1551.08 1183.3 1549.52 Q1181.1 1547.96 1177.28 1547.96 L1170.28 1547.96 L1170.28 1568.04 L1163.85 1568.04 L1163.85 1520.52 L1178.37 1520.52 Q1186.51 1520.52 1190.52 1523.93 Q1194.53 1527.34 1194.53 1534.21 Q1194.53 1538.7 1192.43 1541.66 Q1190.37 1544.62 1186.39 1545.76 M1170.28 1525.81 L1170.28 1542.68 L1178.37 1542.68 Q1183.01 1542.68 1185.37 1540.54 Q1187.76 1538.38 1187.76 1534.21 Q1187.76 1530.04 1185.37 1527.94 Q1183.01 1525.81 1178.37 1525.81 L1170.28 1525.81 Z\" fill=\"#000000\" fill-rule=\"evenodd\" fill-opacity=\"1\" /><path clip-path=\"url(#clip670)\" d=\"M 0 0 M1236.45 1548.76 L1236.45 1551.62 L1209.53 1551.62 Q1209.91 1557.67 1213.15 1560.85 Q1216.43 1564 1222.26 1564 Q1225.63 1564 1228.78 1563.17 Q1231.97 1562.35 1235.08 1560.69 L1235.08 1566.23 Q1231.93 1567.57 1228.62 1568.27 Q1225.31 1568.97 1221.91 1568.97 Q1213.38 1568.97 1208.38 1564 Q1203.42 1559.04 1203.42 1550.57 Q1203.42 1541.82 1208.13 1536.69 Q1212.87 1531.54 1220.89 1531.54 Q1228.08 1531.54 1232.25 1536.18 Q1236.45 1540.8 1236.45 1548.76 M1230.6 1547.04 Q1230.53 1542.23 1227.89 1539.37 Q1225.28 1536.5 1220.95 1536.5 Q1216.05 1536.5 1213.09 1539.27 Q1210.16 1542.04 1209.72 1547.07 L1230.6 1547.04 Z\" fill=\"#000000\" fill-rule=\"evenodd\" fill-opacity=\"1\" /><path clip-path=\"url(#clip670)\" d=\"M 0 0 M1262.27 1550.12 Q1255.17 1550.12 1252.43 1551.75 Q1249.69 1553.37 1249.69 1557.29 Q1249.69 1560.4 1251.73 1562.25 Q1253.8 1564.07 1257.33 1564.07 Q1262.2 1564.07 1265.13 1560.63 Q1268.09 1557.16 1268.09 1551.43 L1268.09 1550.12 L1262.27 1550.12 M1273.95 1547.71 L1273.95 1568.04 L1268.09 1568.04 L1268.09 1562.63 Q1266.09 1565.88 1263.09 1567.44 Q1260.1 1568.97 1255.77 1568.97 Q1250.3 1568.97 1247.05 1565.91 Q1243.84 1562.82 1243.84 1557.67 Q1243.84 1551.65 1247.85 1548.6 Q1251.89 1545.54 1259.88 1545.54 L1268.09 1545.54 L1268.09 1544.97 Q1268.09 1540.93 1265.42 1538.73 Q1262.78 1536.5 1257.97 1536.5 Q1254.91 1536.5 1252.02 1537.23 Q1249.12 1537.97 1246.45 1539.43 L1246.45 1534.02 Q1249.66 1532.78 1252.69 1532.17 Q1255.71 1531.54 1258.57 1531.54 Q1266.31 1531.54 1270.13 1535.55 Q1273.95 1539.56 1273.95 1547.71 Z\" fill=\"#000000\" fill-rule=\"evenodd\" fill-opacity=\"1\" /><path clip-path=\"url(#clip670)\" d=\"M 0 0 M1286.01 1518.52 L1291.87 1518.52 L1291.87 1568.04 L1286.01 1568.04 L1286.01 1518.52 Z\" fill=\"#000000\" fill-rule=\"evenodd\" fill-opacity=\"1\" /><path clip-path=\"url(#clip670)\" d=\"M 0 0 M1341.04 1550.12 Q1333.94 1550.12 1331.21 1551.75 Q1328.47 1553.37 1328.47 1557.29 Q1328.47 1560.4 1330.51 1562.25 Q1332.58 1564.07 1336.11 1564.07 Q1340.98 1564.07 1343.91 1560.63 Q1346.87 1557.16 1346.87 1551.43 L1346.87 1550.12 L1341.04 1550.12 M1352.72 1547.71 L1352.72 1568.04 L1346.87 1568.04 L1346.87 1562.63 Q1344.86 1565.88 1341.87 1567.44 Q1338.88 1568.97 1334.55 1568.97 Q1329.07 1568.97 1325.83 1565.91 Q1322.61 1562.82 1322.61 1557.67 Q1322.61 1551.65 1326.62 1548.6 Q1330.67 1545.54 1338.65 1545.54 L1346.87 1545.54 L1346.87 1544.97 Q1346.87 1540.93 1344.19 1538.73 Q1341.55 1536.5 1336.74 1536.5 Q1333.69 1536.5 1330.79 1537.23 Q1327.9 1537.97 1325.22 1539.43 L1325.22 1534.02 Q1328.44 1532.78 1331.46 1532.17 Q1334.49 1531.54 1337.35 1531.54 Q1345.08 1531.54 1348.9 1535.55 Q1352.72 1539.56 1352.72 1547.71 Z\" fill=\"#000000\" fill-rule=\"evenodd\" fill-opacity=\"1\" /><path clip-path=\"url(#clip670)\" d=\"M 0 0 M1394.42 1532.4 L1381.53 1549.74 L1395.09 1568.04 L1388.18 1568.04 L1377.8 1554.04 L1367.43 1568.04 L1360.52 1568.04 L1374.37 1549.39 L1361.7 1532.4 L1368.61 1532.4 L1378.06 1545.1 L1387.51 1532.4 L1394.42 1532.4 Z\" fill=\"#000000\" fill-rule=\"evenodd\" fill-opacity=\"1\" /><path clip-path=\"url(#clip670)\" d=\"M 0 0 M1403.36 1532.4 L1409.22 1532.4 L1409.22 1568.04 L1403.36 1568.04 L1403.36 1532.4 M1403.36 1518.52 L1409.22 1518.52 L1409.22 1525.93 L1403.36 1525.93 L1403.36 1518.52 Z\" fill=\"#000000\" fill-rule=\"evenodd\" fill-opacity=\"1\" /><path clip-path=\"url(#clip670)\" d=\"M 0 0 M1444.2 1533.45 L1444.2 1538.98 Q1441.72 1537.71 1439.04 1537.07 Q1436.37 1536.44 1433.5 1536.44 Q1429.14 1536.44 1426.95 1537.77 Q1424.78 1539.11 1424.78 1541.79 Q1424.78 1543.82 1426.34 1545 Q1427.9 1546.15 1432.61 1547.2 L1434.62 1547.64 Q1440.86 1548.98 1443.47 1551.43 Q1446.11 1553.85 1446.11 1558.21 Q1446.11 1563.17 1442.16 1566.07 Q1438.25 1568.97 1431.37 1568.97 Q1428.51 1568.97 1425.39 1568.39 Q1422.3 1567.85 1418.86 1566.74 L1418.86 1560.69 Q1422.11 1562.38 1425.26 1563.24 Q1428.41 1564.07 1431.5 1564.07 Q1435.64 1564.07 1437.86 1562.66 Q1440.09 1561.23 1440.09 1558.65 Q1440.09 1556.27 1438.47 1554.99 Q1436.88 1553.72 1431.43 1552.54 L1429.4 1552.07 Q1423.96 1550.92 1421.54 1548.56 Q1419.12 1546.18 1419.12 1542.04 Q1419.12 1537.01 1422.68 1534.27 Q1426.25 1531.54 1432.8 1531.54 Q1436.05 1531.54 1438.91 1532.01 Q1441.78 1532.49 1444.2 1533.45 Z\" fill=\"#000000\" fill-rule=\"evenodd\" fill-opacity=\"1\" /><polyline clip-path=\"url(#clip672)\" style=\"stroke:#000000; stroke-width:2; stroke-opacity:0.1; fill:none\" points=\"\n",
       "  257.204,1407.2 2352.76,1407.2 \n",
       "  \"/>\n",
       "<polyline clip-path=\"url(#clip672)\" style=\"stroke:#000000; stroke-width:2; stroke-opacity:0.1; fill:none\" points=\"\n",
       "  257.204,1183.2 2352.76,1183.2 \n",
       "  \"/>\n",
       "<polyline clip-path=\"url(#clip672)\" style=\"stroke:#000000; stroke-width:2; stroke-opacity:0.1; fill:none\" points=\"\n",
       "  257.204,959.207 2352.76,959.207 \n",
       "  \"/>\n",
       "<polyline clip-path=\"url(#clip672)\" style=\"stroke:#000000; stroke-width:2; stroke-opacity:0.1; fill:none\" points=\"\n",
       "  257.204,735.212 2352.76,735.212 \n",
       "  \"/>\n",
       "<polyline clip-path=\"url(#clip672)\" style=\"stroke:#000000; stroke-width:2; stroke-opacity:0.1; fill:none\" points=\"\n",
       "  257.204,511.218 2352.76,511.218 \n",
       "  \"/>\n",
       "<polyline clip-path=\"url(#clip672)\" style=\"stroke:#000000; stroke-width:2; stroke-opacity:0.1; fill:none\" points=\"\n",
       "  257.204,287.223 2352.76,287.223 \n",
       "  \"/>\n",
       "<polyline clip-path=\"url(#clip672)\" style=\"stroke:#000000; stroke-width:2; stroke-opacity:0.1; fill:none\" points=\"\n",
       "  257.204,63.2285 2352.76,63.2285 \n",
       "  \"/>\n",
       "<polyline clip-path=\"url(#clip670)\" style=\"stroke:#000000; stroke-width:4; stroke-opacity:1; fill:none\" points=\"\n",
       "  257.204,1423.18 257.204,47.2441 \n",
       "  \"/>\n",
       "<polyline clip-path=\"url(#clip670)\" style=\"stroke:#000000; stroke-width:4; stroke-opacity:1; fill:none\" points=\"\n",
       "  257.204,1407.2 282.351,1407.2 \n",
       "  \"/>\n",
       "<polyline clip-path=\"url(#clip670)\" style=\"stroke:#000000; stroke-width:4; stroke-opacity:1; fill:none\" points=\"\n",
       "  257.204,1183.2 282.351,1183.2 \n",
       "  \"/>\n",
       "<polyline clip-path=\"url(#clip670)\" style=\"stroke:#000000; stroke-width:4; stroke-opacity:1; fill:none\" points=\"\n",
       "  257.204,959.207 282.351,959.207 \n",
       "  \"/>\n",
       "<polyline clip-path=\"url(#clip670)\" style=\"stroke:#000000; stroke-width:4; stroke-opacity:1; fill:none\" points=\"\n",
       "  257.204,735.212 282.351,735.212 \n",
       "  \"/>\n",
       "<polyline clip-path=\"url(#clip670)\" style=\"stroke:#000000; stroke-width:4; stroke-opacity:1; fill:none\" points=\"\n",
       "  257.204,511.218 282.351,511.218 \n",
       "  \"/>\n",
       "<polyline clip-path=\"url(#clip670)\" style=\"stroke:#000000; stroke-width:4; stroke-opacity:1; fill:none\" points=\"\n",
       "  257.204,287.223 282.351,287.223 \n",
       "  \"/>\n",
       "<polyline clip-path=\"url(#clip670)\" style=\"stroke:#000000; stroke-width:4; stroke-opacity:1; fill:none\" points=\"\n",
       "  257.204,63.2285 282.351,63.2285 \n",
       "  \"/>\n",
       "<path clip-path=\"url(#clip670)\" d=\"M 0 0 M115.256 1407.65 L144.931 1407.65 L144.931 1411.58 L115.256 1411.58 L115.256 1407.65 Z\" fill=\"#000000\" fill-rule=\"evenodd\" fill-opacity=\"1\" /><path clip-path=\"url(#clip670)\" d=\"M 0 0 M155.834 1420.54 L163.473 1420.54 L163.473 1394.18 L155.163 1395.84 L155.163 1391.58 L163.427 1389.92 L168.102 1389.92 L168.102 1420.54 L175.741 1420.54 L175.741 1424.48 L155.834 1424.48 L155.834 1420.54 Z\" fill=\"#000000\" fill-rule=\"evenodd\" fill-opacity=\"1\" /><path clip-path=\"url(#clip670)\" d=\"M 0 0 M185.186 1418.6 L190.07 1418.6 L190.07 1424.48 L185.186 1424.48 L185.186 1418.6 Z\" fill=\"#000000\" fill-rule=\"evenodd\" fill-opacity=\"1\" /><path clip-path=\"url(#clip670)\" d=\"M 0 0 M200.301 1389.92 L218.658 1389.92 L218.658 1393.85 L204.584 1393.85 L204.584 1402.32 Q205.602 1401.98 206.621 1401.81 Q207.639 1401.63 208.658 1401.63 Q214.445 1401.63 217.824 1404.8 Q221.204 1407.97 221.204 1413.39 Q221.204 1418.97 217.732 1422.07 Q214.26 1425.15 207.94 1425.15 Q205.764 1425.15 203.496 1424.78 Q201.25 1424.41 198.843 1423.67 L198.843 1418.97 Q200.926 1420.1 203.149 1420.66 Q205.371 1421.21 207.848 1421.21 Q211.852 1421.21 214.19 1419.11 Q216.528 1417 216.528 1413.39 Q216.528 1409.78 214.19 1407.67 Q211.852 1405.56 207.848 1405.56 Q205.973 1405.56 204.098 1405.98 Q202.246 1406.4 200.301 1407.28 L200.301 1389.92 Z\" fill=\"#000000\" fill-rule=\"evenodd\" fill-opacity=\"1\" /><path clip-path=\"url(#clip670)\" d=\"M 0 0 M114.26 1183.65 L143.936 1183.65 L143.936 1187.59 L114.26 1187.59 L114.26 1183.65 Z\" fill=\"#000000\" fill-rule=\"evenodd\" fill-opacity=\"1\" /><path clip-path=\"url(#clip670)\" d=\"M 0 0 M154.839 1196.55 L162.477 1196.55 L162.477 1170.18 L154.167 1171.85 L154.167 1167.59 L162.431 1165.92 L167.107 1165.92 L167.107 1196.55 L174.746 1196.55 L174.746 1200.48 L154.839 1200.48 L154.839 1196.55 Z\" fill=\"#000000\" fill-rule=\"evenodd\" fill-opacity=\"1\" /><path clip-path=\"url(#clip670)\" d=\"M 0 0 M184.19 1194.6 L189.075 1194.6 L189.075 1200.48 L184.19 1200.48 L184.19 1194.6 Z\" fill=\"#000000\" fill-rule=\"evenodd\" fill-opacity=\"1\" /><path clip-path=\"url(#clip670)\" d=\"M 0 0 M209.26 1169 Q205.649 1169 203.82 1172.57 Q202.014 1176.11 202.014 1183.24 Q202.014 1190.34 203.82 1193.91 Q205.649 1197.45 209.26 1197.45 Q212.894 1197.45 214.699 1193.91 Q216.528 1190.34 216.528 1183.24 Q216.528 1176.11 214.699 1172.57 Q212.894 1169 209.26 1169 M209.26 1165.3 Q215.07 1165.3 218.125 1169.9 Q221.204 1174.49 221.204 1183.24 Q221.204 1191.96 218.125 1196.57 Q215.07 1201.15 209.26 1201.15 Q203.449 1201.15 200.371 1196.57 Q197.315 1191.96 197.315 1183.24 Q197.315 1174.49 200.371 1169.9 Q203.449 1165.3 209.26 1165.3 Z\" fill=\"#000000\" fill-rule=\"evenodd\" fill-opacity=\"1\" /><path clip-path=\"url(#clip670)\" d=\"M 0 0 M115.256 959.658 L144.931 959.658 L144.931 963.594 L115.256 963.594 L115.256 959.658 Z\" fill=\"#000000\" fill-rule=\"evenodd\" fill-opacity=\"1\" /><path clip-path=\"url(#clip670)\" d=\"M 0 0 M165.024 945.006 Q161.413 945.006 159.584 948.57 Q157.778 952.112 157.778 959.242 Q157.778 966.348 159.584 969.913 Q161.413 973.455 165.024 973.455 Q168.658 973.455 170.464 969.913 Q172.292 966.348 172.292 959.242 Q172.292 952.112 170.464 948.57 Q168.658 945.006 165.024 945.006 M165.024 941.302 Q170.834 941.302 173.889 945.908 Q176.968 950.492 176.968 959.242 Q176.968 967.969 173.889 972.575 Q170.834 977.158 165.024 977.158 Q159.214 977.158 156.135 972.575 Q153.079 967.969 153.079 959.242 Q153.079 950.492 156.135 945.908 Q159.214 941.302 165.024 941.302 Z\" fill=\"#000000\" fill-rule=\"evenodd\" fill-opacity=\"1\" /><path clip-path=\"url(#clip670)\" d=\"M 0 0 M185.186 970.607 L190.07 970.607 L190.07 976.487 L185.186 976.487 L185.186 970.607 Z\" fill=\"#000000\" fill-rule=\"evenodd\" fill-opacity=\"1\" /><path clip-path=\"url(#clip670)\" d=\"M 0 0 M200.301 941.927 L218.658 941.927 L218.658 945.862 L204.584 945.862 L204.584 954.334 Q205.602 953.987 206.621 953.825 Q207.639 953.64 208.658 953.64 Q214.445 953.64 217.824 956.811 Q221.204 959.982 221.204 965.399 Q221.204 970.978 217.732 974.08 Q214.26 977.158 207.94 977.158 Q205.764 977.158 203.496 976.788 Q201.25 976.418 198.843 975.677 L198.843 970.978 Q200.926 972.112 203.149 972.668 Q205.371 973.223 207.848 973.223 Q211.852 973.223 214.19 971.117 Q216.528 969.01 216.528 965.399 Q216.528 961.788 214.19 959.682 Q211.852 957.575 207.848 957.575 Q205.973 957.575 204.098 957.992 Q202.246 958.408 200.301 959.288 L200.301 941.927 Z\" fill=\"#000000\" fill-rule=\"evenodd\" fill-opacity=\"1\" /><path clip-path=\"url(#clip670)\" d=\"M 0 0 M164.028 721.011 Q160.417 721.011 158.589 724.576 Q156.783 728.118 156.783 735.247 Q156.783 742.354 158.589 745.918 Q160.417 749.46 164.028 749.46 Q167.663 749.46 169.468 745.918 Q171.297 742.354 171.297 735.247 Q171.297 728.118 169.468 724.576 Q167.663 721.011 164.028 721.011 M164.028 717.307 Q169.839 717.307 172.894 721.914 Q175.973 726.497 175.973 735.247 Q175.973 743.974 172.894 748.58 Q169.839 753.164 164.028 753.164 Q158.218 753.164 155.14 748.58 Q152.084 743.974 152.084 735.247 Q152.084 726.497 155.14 721.914 Q158.218 717.307 164.028 717.307 Z\" fill=\"#000000\" fill-rule=\"evenodd\" fill-opacity=\"1\" /><path clip-path=\"url(#clip670)\" d=\"M 0 0 M184.19 746.613 L189.075 746.613 L189.075 752.492 L184.19 752.492 L184.19 746.613 Z\" fill=\"#000000\" fill-rule=\"evenodd\" fill-opacity=\"1\" /><path clip-path=\"url(#clip670)\" d=\"M 0 0 M209.26 721.011 Q205.649 721.011 203.82 724.576 Q202.014 728.118 202.014 735.247 Q202.014 742.354 203.82 745.918 Q205.649 749.46 209.26 749.46 Q212.894 749.46 214.699 745.918 Q216.528 742.354 216.528 735.247 Q216.528 728.118 214.699 724.576 Q212.894 721.011 209.26 721.011 M209.26 717.307 Q215.07 717.307 218.125 721.914 Q221.204 726.497 221.204 735.247 Q221.204 743.974 218.125 748.58 Q215.07 753.164 209.26 753.164 Q203.449 753.164 200.371 748.58 Q197.315 743.974 197.315 735.247 Q197.315 726.497 200.371 721.914 Q203.449 717.307 209.26 717.307 Z\" fill=\"#000000\" fill-rule=\"evenodd\" fill-opacity=\"1\" /><path clip-path=\"url(#clip670)\" d=\"M 0 0 M165.024 497.016 Q161.413 497.016 159.584 500.581 Q157.778 504.123 157.778 511.252 Q157.778 518.359 159.584 521.924 Q161.413 525.465 165.024 525.465 Q168.658 525.465 170.464 521.924 Q172.292 518.359 172.292 511.252 Q172.292 504.123 170.464 500.581 Q168.658 497.016 165.024 497.016 M165.024 493.313 Q170.834 493.313 173.889 497.919 Q176.968 502.503 176.968 511.252 Q176.968 519.979 173.889 524.586 Q170.834 529.169 165.024 529.169 Q159.214 529.169 156.135 524.586 Q153.079 519.979 153.079 511.252 Q153.079 502.503 156.135 497.919 Q159.214 493.313 165.024 493.313 Z\" fill=\"#000000\" fill-rule=\"evenodd\" fill-opacity=\"1\" /><path clip-path=\"url(#clip670)\" d=\"M 0 0 M185.186 522.618 L190.07 522.618 L190.07 528.498 L185.186 528.498 L185.186 522.618 Z\" fill=\"#000000\" fill-rule=\"evenodd\" fill-opacity=\"1\" /><path clip-path=\"url(#clip670)\" d=\"M 0 0 M200.301 493.938 L218.658 493.938 L218.658 497.873 L204.584 497.873 L204.584 506.345 Q205.602 505.998 206.621 505.836 Q207.639 505.651 208.658 505.651 Q214.445 505.651 217.824 508.822 Q221.204 511.993 221.204 517.41 Q221.204 522.989 217.732 526.09 Q214.26 529.169 207.94 529.169 Q205.764 529.169 203.496 528.799 Q201.25 528.428 198.843 527.688 L198.843 522.989 Q200.926 524.123 203.149 524.678 Q205.371 525.234 207.848 525.234 Q211.852 525.234 214.19 523.127 Q216.528 521.021 216.528 517.41 Q216.528 513.799 214.19 511.692 Q211.852 509.586 207.848 509.586 Q205.973 509.586 204.098 510.002 Q202.246 510.419 200.301 511.299 L200.301 493.938 Z\" fill=\"#000000\" fill-rule=\"evenodd\" fill-opacity=\"1\" /><path clip-path=\"url(#clip670)\" d=\"M 0 0 M154.839 300.568 L162.477 300.568 L162.477 274.202 L154.167 275.869 L154.167 271.61 L162.431 269.943 L167.107 269.943 L167.107 300.568 L174.746 300.568 L174.746 304.503 L154.839 304.503 L154.839 300.568 Z\" fill=\"#000000\" fill-rule=\"evenodd\" fill-opacity=\"1\" /><path clip-path=\"url(#clip670)\" d=\"M 0 0 M184.19 298.624 L189.075 298.624 L189.075 304.503 L184.19 304.503 L184.19 298.624 Z\" fill=\"#000000\" fill-rule=\"evenodd\" fill-opacity=\"1\" /><path clip-path=\"url(#clip670)\" d=\"M 0 0 M209.26 273.022 Q205.649 273.022 203.82 276.587 Q202.014 280.128 202.014 287.258 Q202.014 294.364 203.82 297.929 Q205.649 301.471 209.26 301.471 Q212.894 301.471 214.699 297.929 Q216.528 294.364 216.528 287.258 Q216.528 280.128 214.699 276.587 Q212.894 273.022 209.26 273.022 M209.26 269.318 Q215.07 269.318 218.125 273.925 Q221.204 278.508 221.204 287.258 Q221.204 295.985 218.125 300.591 Q215.07 305.174 209.26 305.174 Q203.449 305.174 200.371 300.591 Q197.315 295.985 197.315 287.258 Q197.315 278.508 200.371 273.925 Q203.449 269.318 209.26 269.318 Z\" fill=\"#000000\" fill-rule=\"evenodd\" fill-opacity=\"1\" /><path clip-path=\"url(#clip670)\" d=\"M 0 0 M155.834 76.5734 L163.473 76.5734 L163.473 50.2078 L155.163 51.8744 L155.163 47.6152 L163.427 45.9485 L168.102 45.9485 L168.102 76.5734 L175.741 76.5734 L175.741 80.5085 L155.834 80.5085 L155.834 76.5734 Z\" fill=\"#000000\" fill-rule=\"evenodd\" fill-opacity=\"1\" /><path clip-path=\"url(#clip670)\" d=\"M 0 0 M185.186 74.6289 L190.07 74.6289 L190.07 80.5085 L185.186 80.5085 L185.186 74.6289 Z\" fill=\"#000000\" fill-rule=\"evenodd\" fill-opacity=\"1\" /><path clip-path=\"url(#clip670)\" d=\"M 0 0 M200.301 45.9485 L218.658 45.9485 L218.658 49.8837 L204.584 49.8837 L204.584 58.3559 Q205.602 58.0086 206.621 57.8466 Q207.639 57.6614 208.658 57.6614 Q214.445 57.6614 217.824 60.8327 Q221.204 64.004 221.204 69.4206 Q221.204 74.9993 217.732 78.1011 Q214.26 81.1798 207.94 81.1798 Q205.764 81.1798 203.496 80.8094 Q201.25 80.4391 198.843 79.6983 L198.843 74.9993 Q200.926 76.1335 203.149 76.6891 Q205.371 77.2446 207.848 77.2446 Q211.852 77.2446 214.19 75.1382 Q216.528 73.0317 216.528 69.4206 Q216.528 65.8095 214.19 63.7031 Q211.852 61.5966 207.848 61.5966 Q205.973 61.5966 204.098 62.0132 Q202.246 62.4299 200.301 63.3095 L200.301 45.9485 Z\" fill=\"#000000\" fill-rule=\"evenodd\" fill-opacity=\"1\" /><path clip-path=\"url(#clip670)\" d=\"M 0 0 M16.4842 970.473 L16.4842 964.043 L64.0042 964.043 L64.0042 970.473 L16.4842 970.473 Z\" fill=\"#000000\" fill-rule=\"evenodd\" fill-opacity=\"1\" /><path clip-path=\"url(#clip670)\" d=\"M 0 0 M35.1993 923.748 Q31.2526 921.552 29.3747 918.497 Q27.4968 915.441 27.4968 911.303 Q27.4968 905.733 31.4117 902.71 Q35.2948 899.686 42.4881 899.686 L64.0042 899.686 L64.0042 905.574 L42.679 905.574 Q37.5546 905.574 35.072 907.388 Q32.5894 909.203 32.5894 912.927 Q32.5894 917.478 35.6131 920.12 Q38.6368 922.762 43.8567 922.762 L64.0042 922.762 L64.0042 928.65 L42.679 928.65 Q37.5228 928.65 35.072 930.464 Q32.5894 932.278 32.5894 936.066 Q32.5894 940.554 35.6449 943.196 Q38.6686 945.837 43.8567 945.837 L64.0042 945.837 L64.0042 951.726 L28.3562 951.726 L28.3562 945.837 L33.8944 945.837 Q30.616 943.832 29.0564 941.031 Q27.4968 938.23 27.4968 934.379 Q27.4968 930.496 29.4702 927.791 Q31.4436 925.053 35.1993 923.748 Z\" fill=\"#000000\" fill-rule=\"evenodd\" fill-opacity=\"1\" /><path clip-path=\"url(#clip670)\" d=\"M 0 0 M46.0847 871.804 Q46.0847 878.902 47.7079 881.639 Q49.3312 884.376 53.2461 884.376 Q56.3653 884.376 58.2114 882.339 Q60.0256 880.271 60.0256 876.738 Q60.0256 871.868 56.5881 868.94 Q53.1188 865.979 47.3897 865.979 L46.0847 865.979 L46.0847 871.804 M43.6657 860.123 L64.0042 860.123 L64.0042 865.979 L58.5933 865.979 Q61.8398 867.985 63.3994 870.977 Q64.9272 873.968 64.9272 878.297 Q64.9272 883.772 61.8716 887.018 Q58.7843 890.233 53.6281 890.233 Q47.6125 890.233 44.5569 886.222 Q41.5014 882.18 41.5014 874.191 L41.5014 865.979 L40.9285 865.979 Q36.8862 865.979 34.6901 868.653 Q32.4621 871.295 32.4621 876.101 Q32.4621 879.157 33.1941 882.053 Q33.9262 884.949 35.3903 887.623 L29.9795 887.623 Q28.7381 884.408 28.1334 881.385 Q27.4968 878.361 27.4968 875.496 Q27.4968 867.762 31.5072 863.942 Q35.5176 860.123 43.6657 860.123 Z\" fill=\"#000000\" fill-rule=\"evenodd\" fill-opacity=\"1\" /><path clip-path=\"url(#clip670)\" d=\"M 0 0 M45.7664 824.602 Q39.4007 824.602 35.8996 827.244 Q32.3984 829.854 32.3984 834.597 Q32.3984 839.307 35.8996 841.949 Q39.4007 844.559 45.7664 844.559 Q52.1003 844.559 55.6014 841.949 Q59.1026 839.307 59.1026 834.597 Q59.1026 829.854 55.6014 827.244 Q52.1003 824.602 45.7664 824.602 M59.58 818.746 Q68.683 818.746 73.1071 822.788 Q77.5631 826.83 77.5631 835.169 Q77.5631 838.257 77.0857 840.994 Q76.6401 843.731 75.6852 846.309 L69.9879 846.309 Q71.3884 843.731 72.0568 841.217 Q72.7252 838.702 72.7252 836.093 Q72.7252 830.332 69.7015 827.467 Q66.7096 824.602 60.6303 824.602 L57.7339 824.602 Q60.885 826.417 62.4446 829.249 Q64.0042 832.082 64.0042 836.029 Q64.0042 842.586 59.0071 846.596 Q54.01 850.606 45.7664 850.606 Q37.491 850.606 32.4939 846.596 Q27.4968 842.586 27.4968 836.029 Q27.4968 832.082 29.0564 829.249 Q30.616 826.417 33.7671 824.602 L28.3562 824.602 L28.3562 818.746 L59.58 818.746 Z\" fill=\"#000000\" fill-rule=\"evenodd\" fill-opacity=\"1\" /><path clip-path=\"url(#clip670)\" d=\"M 0 0 M28.3562 806.683 L28.3562 800.826 L64.0042 800.826 L64.0042 806.683 L28.3562 806.683 M14.479 806.683 L14.479 800.826 L21.895 800.826 L21.895 806.683 L14.479 806.683 Z\" fill=\"#000000\" fill-rule=\"evenodd\" fill-opacity=\"1\" /><path clip-path=\"url(#clip670)\" d=\"M 0 0 M42.4881 758.94 L64.0042 758.94 L64.0042 764.797 L42.679 764.797 Q37.6183 764.797 35.1038 766.77 Q32.5894 768.743 32.5894 772.69 Q32.5894 777.433 35.6131 780.17 Q38.6368 782.907 43.8567 782.907 L64.0042 782.907 L64.0042 788.795 L28.3562 788.795 L28.3562 782.907 L33.8944 782.907 Q30.6797 780.806 29.0883 777.974 Q27.4968 775.109 27.4968 771.385 Q27.4968 765.242 31.3163 762.091 Q35.1038 758.94 42.4881 758.94 Z\" fill=\"#000000\" fill-rule=\"evenodd\" fill-opacity=\"1\" /><path clip-path=\"url(#clip670)\" d=\"M 0 0 M46.0847 731.058 Q46.0847 738.156 47.7079 740.893 Q49.3312 743.631 53.2461 743.631 Q56.3653 743.631 58.2114 741.594 Q60.0256 739.525 60.0256 735.992 Q60.0256 731.122 56.5881 728.194 Q53.1188 725.234 47.3897 725.234 L46.0847 725.234 L46.0847 731.058 M43.6657 719.377 L64.0042 719.377 L64.0042 725.234 L58.5933 725.234 Q61.8398 727.239 63.3994 730.231 Q64.9272 733.223 64.9272 737.551 Q64.9272 743.026 61.8716 746.272 Q58.7843 749.487 53.6281 749.487 Q47.6125 749.487 44.5569 745.477 Q41.5014 741.434 41.5014 733.445 L41.5014 725.234 L40.9285 725.234 Q36.8862 725.234 34.6901 727.907 Q32.4621 730.549 32.4621 735.355 Q32.4621 738.411 33.1941 741.307 Q33.9262 744.204 35.3903 746.877 L29.9795 746.877 Q28.7381 743.662 28.1334 740.639 Q27.4968 737.615 27.4968 734.75 Q27.4968 727.016 31.5072 723.197 Q35.5176 719.377 43.6657 719.377 Z\" fill=\"#000000\" fill-rule=\"evenodd\" fill-opacity=\"1\" /><path clip-path=\"url(#clip670)\" d=\"M 0 0 M33.8307 686.658 Q33.2578 687.644 33.0032 688.822 Q32.7167 689.968 32.7167 691.368 Q32.7167 696.333 35.9632 699.007 Q39.1779 701.649 45.2253 701.649 L64.0042 701.649 L64.0042 707.537 L28.3562 707.537 L28.3562 701.649 L33.8944 701.649 Q30.6479 699.803 29.0883 696.843 Q27.4968 693.883 27.4968 689.649 Q27.4968 689.045 27.5923 688.313 Q27.656 687.581 27.8151 686.689 L33.8307 686.658 Z\" fill=\"#000000\" fill-rule=\"evenodd\" fill-opacity=\"1\" /><path clip-path=\"url(#clip670)\" d=\"M 0 0 M67.3143 665.683 Q73.68 668.165 75.6216 670.52 Q77.5631 672.876 77.5631 676.823 L77.5631 681.501 L72.6615 681.501 L72.6615 678.064 Q72.6615 675.645 71.5157 674.308 Q70.3699 672.971 66.1048 671.348 L63.4312 670.298 L28.3562 684.716 L28.3562 678.509 L56.238 667.369 L28.3562 656.229 L28.3562 650.023 L67.3143 665.683 Z\" fill=\"#000000\" fill-rule=\"evenodd\" fill-opacity=\"1\" /><path clip-path=\"url(#clip670)\" d=\"M 0 0 M46.0847 605.017 Q46.0847 612.115 47.7079 614.852 Q49.3312 617.59 53.2461 617.59 Q56.3653 617.59 58.2114 615.553 Q60.0256 613.484 60.0256 609.951 Q60.0256 605.081 56.5881 602.153 Q53.1188 599.193 47.3897 599.193 L46.0847 599.193 L46.0847 605.017 M43.6657 593.336 L64.0042 593.336 L64.0042 599.193 L58.5933 599.193 Q61.8398 601.198 63.3994 604.19 Q64.9272 607.182 64.9272 611.51 Q64.9272 616.985 61.8716 620.231 Q58.7843 623.446 53.6281 623.446 Q47.6125 623.446 44.5569 619.436 Q41.5014 615.393 41.5014 607.404 L41.5014 599.193 L40.9285 599.193 Q36.8862 599.193 34.6901 601.866 Q32.4621 604.508 32.4621 609.314 Q32.4621 612.37 33.1941 615.266 Q33.9262 618.163 35.3903 620.836 L29.9795 620.836 Q28.7381 617.621 28.1334 614.598 Q27.4968 611.574 27.4968 608.709 Q27.4968 600.975 31.5072 597.156 Q35.5176 593.336 43.6657 593.336 Z\" fill=\"#000000\" fill-rule=\"evenodd\" fill-opacity=\"1\" /><path clip-path=\"url(#clip670)\" d=\"M 0 0 M28.3562 551.641 L45.7028 564.531 L64.0042 550.973 L64.0042 557.879 L49.9996 568.255 L64.0042 578.631 L64.0042 585.538 L45.3526 571.693 L28.3562 584.361 L28.3562 577.454 L41.0558 568.001 L28.3562 558.548 L28.3562 551.641 Z\" fill=\"#000000\" fill-rule=\"evenodd\" fill-opacity=\"1\" /><path clip-path=\"url(#clip670)\" d=\"M 0 0 M28.3562 542.697 L28.3562 536.841 L64.0042 536.841 L64.0042 542.697 L28.3562 542.697 M14.479 542.697 L14.479 536.841 L21.895 536.841 L21.895 542.697 L14.479 542.697 Z\" fill=\"#000000\" fill-rule=\"evenodd\" fill-opacity=\"1\" /><path clip-path=\"url(#clip670)\" d=\"M 0 0 M29.4065 501.861 L34.9447 501.861 Q33.6716 504.344 33.035 507.017 Q32.3984 509.691 32.3984 512.555 Q32.3984 516.916 33.7352 519.112 Q35.072 521.276 37.7456 521.276 Q39.7826 521.276 40.9603 519.717 Q42.1061 518.157 43.1565 513.447 L43.6021 511.441 Q44.9389 505.203 47.3897 502.593 Q49.8086 499.951 54.1691 499.951 Q59.1344 499.951 62.0308 503.898 Q64.9272 507.813 64.9272 514.688 Q64.9272 517.553 64.3543 520.672 Q63.8132 523.759 62.6992 527.197 L56.6518 527.197 Q58.3387 523.95 59.198 520.799 Q60.0256 517.648 60.0256 514.561 Q60.0256 510.423 58.6251 508.195 Q57.1929 505.967 54.6147 505.967 Q52.2276 505.967 50.9545 507.59 Q49.6813 509.182 48.5037 514.624 L48.0262 516.661 Q46.8804 522.104 44.5251 524.523 Q42.138 526.942 38.0002 526.942 Q32.9713 526.942 30.2341 523.377 Q27.4968 519.812 27.4968 513.256 Q27.4968 510.009 27.9743 507.145 Q28.4517 504.28 29.4065 501.861 Z\" fill=\"#000000\" fill-rule=\"evenodd\" fill-opacity=\"1\" /><path clip-path=\"url(#clip672)\" d=\"\n",
       "M1484.47 339.813 L1488.42 339.833 L1492.38 339.892 L1496.33 339.991 L1500.28 340.13 L1504.23 340.307 L1508.18 340.525 L1512.12 340.782 L1516.07 341.078 L1520.01 341.414 \n",
       "  L1523.94 341.789 L1527.88 342.203 L1531.8 342.657 L1535.73 343.15 L1539.64 343.682 L1543.56 344.253 L1547.46 344.864 L1551.36 345.513 L1555.26 346.202 L1559.14 346.929 \n",
       "  L1563.02 347.695 L1566.89 348.5 L1570.76 349.343 L1574.61 350.226 L1578.46 351.146 L1582.29 352.105 L1586.12 353.103 L1589.93 354.138 L1593.74 355.212 L1597.53 356.324 \n",
       "  L1601.32 357.473 L1605.09 358.661 L1608.85 359.886 L1612.6 361.148 L1616.33 362.448 L1620.05 363.785 L1623.76 365.16 L1627.45 366.571 L1631.13 368.019 L1634.8 369.504 \n",
       "  L1638.44 371.026 L1642.08 372.584 L1645.7 374.178 L1649.3 375.808 L1652.88 377.474 L1656.45 379.176 L1660.01 380.914 L1663.54 382.687 L1667.06 384.495 L1670.55 386.339 \n",
       "  L1674.03 388.217 L1677.49 390.13 L1680.93 392.078 L1684.36 394.059 L1687.76 396.075 L1691.14 398.125 L1694.5 400.209 L1697.84 402.326 L1701.16 404.476 L1704.45 406.659 \n",
       "  L1707.73 408.875 L1710.98 411.124 L1714.21 413.406 L1717.42 415.719 L1720.6 418.064 L1723.76 420.442 L1726.89 422.85 L1730.01 425.29 L1733.09 427.761 L1736.16 430.262 \n",
       "  L1739.19 432.795 L1742.2 435.357 L1745.19 437.949 L1748.15 440.571 L1751.08 443.223 L1753.99 445.903 L1756.87 448.613 L1759.72 451.351 L1762.54 454.118 L1765.34 456.913 \n",
       "  L1768.11 459.735 L1770.85 462.585 L1773.56 465.463 L1776.25 468.367 L1778.9 471.298 L1781.52 474.256 L1784.12 477.239 L1786.68 480.249 L1789.22 483.283 L1791.72 486.343 \n",
       "  L1794.2 489.428 L1796.64 492.538 L1799.05 495.672 L1801.43 498.829 L1803.78 502.011 L1806.09 505.215 L1808.38 508.443 L1810.63 511.693 L1812.85 514.966 L1815.03 518.261 \n",
       "  L1817.19 521.577 L1819.31 524.915 L1821.39 528.274 L1823.44 531.654 L1825.46 535.053 L1827.45 538.473 L1829.4 541.913 L1831.31 545.372 L1833.19 548.85 L1835.04 552.346 \n",
       "  L1836.85 555.861 L1838.63 559.394 L1840.37 562.944 L1842.07 566.512 L1843.74 570.096 L1845.37 573.697 L1846.97 577.314 L1848.53 580.947 L1850.06 584.595 L1851.55 588.258 \n",
       "  L1853 591.936 L1854.41 595.629 L1855.79 599.335 L1857.13 603.055 L1858.43 606.788 L1859.7 610.534 L1860.92 614.293 L1862.11 618.063 L1863.27 621.845 L1864.38 625.639 \n",
       "  L1865.46 629.444 L1866.5 633.259 L1867.5 637.084 L1868.46 640.919 L1869.38 644.764 L1870.27 648.617 L1871.12 652.48 L1871.92 656.35 L1872.69 660.229 L1873.42 664.115 \n",
       "  L1874.11 668.008 L1874.77 671.907 L1875.38 675.813 L1875.96 679.725 L1876.49 683.643 L1876.99 687.566 L1877.44 691.493 L1877.86 695.425 L1878.24 699.361 L1878.58 703.3 \n",
       "  L1878.88 707.243 L1879.14 711.188 L1879.36 715.136 L1879.54 719.086 L1879.68 723.037 L1879.78 726.99 L1879.84 730.944 L1879.87 734.898 L1879.85 738.851 L1879.8 742.805 \n",
       "  L1879.7 746.758 L1879.56 750.71 L1879.39 754.66 L1879.18 758.608 L1878.92 762.554 L1878.63 766.497 L1878.3 770.437 L1877.92 774.373 L1877.51 778.306 L1877.06 782.234 \n",
       "  L1876.57 786.157 L1876.04 790.076 L1875.47 793.989 L1874.87 797.896 L1874.22 801.797 L1873.54 805.691 L1872.81 809.578 L1872.05 813.457 L1871.25 817.329 L1870.41 821.193 \n",
       "  L1869.53 825.048 L1868.61 828.894 L1867.65 832.731 L1866.66 836.557 L1865.63 840.374 L1864.56 844.18 L1863.45 847.976 L1862.3 851.76 L1861.12 855.532 L1859.89 859.293 \n",
       "  L1858.64 863.041 L1857.34 866.776 L1856 870.498 L1854.63 874.207 L1853.22 877.901 L1851.78 881.582 L1850.3 885.247 L1848.78 888.898 L1847.22 892.533 L1845.63 896.153 \n",
       "  L1844 899.756 L1842.34 903.344 L1840.64 906.914 L1838.91 910.467 L1837.14 914.002 L1835.33 917.52 L1833.49 921.02 L1831.62 924.5 L1829.7 927.962 L1827.76 931.405 \n",
       "  L1825.78 934.828 L1823.77 938.231 L1821.72 941.614 L1819.64 944.976 L1817.53 948.317 L1815.38 951.637 L1813.2 954.935 L1810.98 958.212 L1808.74 961.465 L1806.46 964.697 \n",
       "  L1804.15 967.905 L1801.8 971.09 L1799.43 974.252 L1797.02 977.389 L1794.59 980.503 L1792.12 983.592 L1789.62 986.656 L1787.09 989.695 L1784.53 992.708 L1781.94 995.696 \n",
       "  L1779.32 998.657 L1776.67 1001.59 L1773.99 1004.5 L1771.29 1007.38 L1768.55 1010.24 L1765.78 1013.06 L1762.99 1015.86 L1760.17 1018.63 L1757.32 1021.38 L1754.45 1024.09 \n",
       "  L1751.55 1026.78 L1748.62 1029.43 L1745.66 1032.06 L1742.68 1034.66 L1739.67 1037.22 L1736.64 1039.76 L1733.58 1042.27 L1730.5 1044.74 L1727.39 1047.19 L1724.26 1049.6 \n",
       "  L1721.1 1051.98 L1717.92 1054.33 L1714.72 1056.65 L1711.5 1058.94 L1708.25 1061.19 L1704.98 1063.41 L1701.68 1065.6 L1698.37 1067.76 L1695.03 1069.88 L1691.68 1071.97 \n",
       "  L1688.3 1074.03 L1684.9 1076.05 L1681.48 1078.03 L1678.04 1079.99 L1674.59 1081.91 L1671.11 1083.79 L1667.61 1085.64 L1664.1 1087.45 L1660.57 1089.23 L1657.02 1090.97 \n",
       "  L1653.45 1092.68 L1649.87 1094.35 L1646.27 1095.99 L1642.66 1097.59 L1639.02 1099.15 L1635.38 1100.68 L1631.72 1102.17 L1628.04 1103.63 L1624.35 1105.04 L1620.64 1106.42 \n",
       "  L1616.92 1107.77 L1613.19 1109.07 L1609.45 1110.34 L1605.69 1111.57 L1601.92 1112.76 L1598.14 1113.92 L1594.34 1115.04 L1590.54 1116.12 L1586.73 1117.16 L1582.9 1118.16 \n",
       "  L1579.07 1119.13 L1575.22 1120.06 L1571.37 1120.94 L1567.51 1121.79 L1563.64 1122.6 L1559.76 1123.38 L1555.88 1124.11 L1551.98 1124.8 L1548.08 1125.46 L1544.18 1126.08 \n",
       "  L1540.27 1126.65 L1536.35 1127.19 L1532.43 1127.69 L1528.5 1128.15 L1524.57 1128.57 L1520.63 1128.95 L1516.69 1129.3 L1512.75 1129.6 L1508.81 1129.86 L1504.86 1130.09 \n",
       "  L1500.91 1130.27 L1496.96 1130.41 L1493.01 1130.52 L1489.05 1130.58 L1485.1 1130.61 L1481.14 1130.6 L1477.19 1130.54 L1473.24 1130.45 L1469.29 1130.32 L1465.34 1130.15 \n",
       "  L1461.39 1129.94 L1457.44 1129.69 L1453.5 1129.4 L1449.56 1129.07 L1445.62 1128.7 L1441.69 1128.29 L1437.76 1127.84 L1433.84 1127.36 L1429.92 1126.83 L1426 1126.27 \n",
       "  L1422.1 1125.66 L1418.2 1125.02 L1414.3 1124.34 L1410.41 1123.61 L1406.53 1122.85 L1402.66 1122.06 L1398.8 1121.22 L1394.94 1120.34 L1391.09 1119.43 L1387.26 1118.47 \n",
       "  L1383.43 1117.48 L1379.61 1116.45 L1375.8 1115.39 L1372.01 1114.28 L1368.22 1113.14 L1364.45 1111.96 L1360.69 1110.74 L1356.94 1109.48 L1353.2 1108.19 L1349.48 1106.85 \n",
       "  L1345.77 1105.49 L1342.07 1104.08 L1338.39 1102.64 L1334.73 1101.16 L1331.07 1099.64 L1327.44 1098.09 L1323.82 1096.5 L1320.21 1094.88 L1316.62 1093.22 L1313.05 1091.52 \n",
       "  L1309.5 1089.79 L1305.96 1088.02 L1302.44 1086.22 L1298.94 1084.38 L1295.46 1082.51 L1291.99 1080.6 L1288.55 1078.66 L1285.13 1076.68 L1281.72 1074.67 L1278.34 1072.63 \n",
       "  L1274.97 1070.55 L1271.63 1068.44 L1268.31 1066.29 L1265.01 1064.12 L1261.73 1061.9 L1258.47 1059.66 L1255.24 1057.38 L1252.03 1055.08 L1248.84 1052.74 L1245.68 1050.36 \n",
       "  L1242.54 1047.96 L1239.43 1045.53 L1236.33 1043.06 L1233.27 1040.56 L1230.23 1038.04 L1227.21 1035.48 L1224.22 1032.89 L1221.26 1030.27 L1218.32 1027.63 L1215.41 1024.95 \n",
       "  L1212.53 1022.25 L1209.67 1019.51 L1206.84 1016.75 L1204.04 1013.96 L1201.27 1011.14 L1198.52 1008.3 L1195.8 1005.42 L1193.12 1002.52 L1190.46 999.595 L1187.83 996.642 \n",
       "  L1185.23 993.662 L1182.66 990.657 L1180.12 987.626 L1177.61 984.57 L1175.13 981.489 L1172.69 978.384 L1170.27 975.254 L1167.89 972.1 L1165.53 968.922 L1163.21 965.721 \n",
       "  L1160.92 962.497 L1158.67 959.25 L1156.44 955.981 L1154.25 952.69 L1152.09 949.377 L1149.97 946.043 L1147.88 942.687 L1145.82 939.311 L1143.79 935.914 L1141.8 932.497 \n",
       "  L1139.85 929.061 L1137.93 925.605 L1136.04 922.13 L1134.19 918.637 L1132.37 915.125 L1130.59 911.595 L1128.84 908.047 L1127.13 904.483 L1125.46 900.901 L1123.82 897.303 \n",
       "  L1122.22 893.688 L1120.65 890.058 L1119.12 886.412 L1117.63 882.751 L1116.17 879.075 L1114.75 875.385 L1113.37 871.681 L1112.02 867.963 L1110.71 864.232 L1109.44 860.488 \n",
       "  L1108.21 856.731 L1107.01 852.963 L1105.85 849.182 L1104.73 845.391 L1103.65 841.588 L1102.6 837.774 L1101.6 833.951 L1100.63 830.117 L1099.7 826.274 L1098.81 822.422 \n",
       "  L1097.95 818.561 L1097.14 814.692 L1096.36 810.814 L1095.63 806.93 L1094.93 803.038 L1094.27 799.139 L1093.65 795.234 L1093.07 791.323 L1092.53 787.406 L1092.03 783.484 \n",
       "  L1091.56 779.557 L1091.14 775.626 L1090.76 771.691 L1090.41 767.752 L1090.11 763.81 L1089.84 759.865 L1089.61 755.917 L1089.43 751.968 L1089.28 748.017 L1089.17 744.064 \n",
       "  L1089.1 740.111 L1089.07 736.157 L1089.08 732.203 L1089.13 728.249 L1089.22 724.296 L1089.35 720.345 L1089.52 716.394 L1089.73 712.446 L1089.97 708.499 L1090.26 704.556 \n",
       "  L1090.59 700.615 L1090.95 696.678 L1091.36 692.745 L1091.8 688.816 L1092.28 684.892 L1092.81 680.973 L1093.37 677.059 L1093.97 673.151 L1094.61 669.249 L1095.29 665.354 \n",
       "  L1096.01 661.466 L1096.76 657.585 L1097.56 653.712 L1098.39 649.847 L1099.27 645.99 L1100.18 642.143 L1101.13 638.305 L1102.12 634.476 L1103.14 630.658 L1104.21 626.85 \n",
       "  L1105.31 623.053 L1106.45 619.267 L1107.63 615.492 L1108.85 611.73 L1110.1 607.98 L1111.39 604.243 L1112.72 600.519 L1114.08 596.808 L1115.49 593.111 L1116.93 589.428 \n",
       "  L1118.4 585.76 L1119.92 582.107 L1121.46 578.469 L1123.05 574.847 L1124.67 571.241 L1126.33 567.651 L1128.02 564.078 L1129.75 560.523 L1131.52 556.984 L1133.32 553.464 \n",
       "  L1135.15 549.961 L1137.02 546.477 L1138.93 543.013 L1140.87 539.567 L1142.84 536.141 L1144.85 532.734 L1146.89 529.348 L1148.96 525.983 L1151.07 522.638 L1153.22 519.315 \n",
       "  L1155.39 516.013 L1157.6 512.734 L1159.84 509.476 L1162.11 506.241 L1164.42 503.029 L1166.76 499.84 L1169.13 496.675 L1171.53 493.533 L1173.96 490.416 L1176.42 487.323 \n",
       "  L1178.92 484.255 L1181.44 481.213 L1184 478.195 L1186.58 475.203 L1189.2 472.237 L1191.84 469.298 L1194.52 466.385 L1197.22 463.499 L1199.95 460.64 L1202.71 457.809 \n",
       "  L1205.5 455.005 L1208.31 452.229 L1211.16 449.482 L1214.03 446.763 L1216.93 444.073 L1219.85 441.413 L1222.8 438.781 L1225.78 436.179 L1228.78 433.607 L1231.81 431.066 \n",
       "  L1234.87 428.554 L1237.95 426.074 L1241.05 423.624 L1244.18 421.205 L1247.33 418.818 L1250.51 416.463 L1253.7 414.139 L1256.93 411.847 L1260.17 409.588 L1263.44 407.362 \n",
       "  L1266.73 405.168 L1270.04 403.007 L1273.37 400.879 L1276.73 398.785 L1280.1 396.724 L1283.5 394.698 L1286.91 392.705 L1290.35 390.747 L1293.8 388.823 L1297.27 386.933 \n",
       "  L1300.77 385.079 L1304.28 383.259 L1307.8 381.475 L1311.35 379.726 L1314.91 378.013 L1318.49 376.335 L1322.09 374.693 L1325.7 373.088 L1329.33 371.518 L1332.98 369.985 \n",
       "  L1336.64 368.488 L1340.31 367.028 L1344 365.605 L1347.71 364.219 L1351.42 362.87 L1355.15 361.558 L1358.89 360.284 L1362.65 359.047 L1366.42 357.847 L1370.2 356.686 \n",
       "  L1373.99 355.562 L1377.79 354.476 L1381.6 353.428 L1385.43 352.419 L1389.26 351.448 L1393.1 350.515 L1396.95 349.62 L1400.81 348.764 L1404.68 347.947 L1408.56 347.169 \n",
       "  L1412.44 346.429 L1416.33 345.728 L1420.23 345.066 L1424.14 344.443 L1428.05 343.86 L1431.96 343.315 L1435.88 342.81 L1439.81 342.343 L1443.74 341.916 L1447.68 341.529 \n",
       "  L1451.62 341.181 L1455.56 340.872 L1459.5 340.602 L1463.45 340.372 L1467.4 340.182 L1471.35 340.031 L1475.3 339.92 L1479.26 339.848 L1483.21 339.815 L1484.47 339.813 \n",
       "   Z\n",
       "  \" fill=\"#ff0000\" fill-rule=\"evenodd\" fill-opacity=\"0.5\"/>\n",
       "<polyline clip-path=\"url(#clip672)\" style=\"stroke:#000000; stroke-width:4; stroke-opacity:1; fill:none\" points=\"\n",
       "  1484.47,339.813 1488.42,339.833 1492.38,339.892 1496.33,339.991 1500.28,340.13 1504.23,340.307 1508.18,340.525 1512.12,340.782 1516.07,341.078 1520.01,341.414 \n",
       "  1523.94,341.789 1527.88,342.203 1531.8,342.657 1535.73,343.15 1539.64,343.682 1543.56,344.253 1547.46,344.864 1551.36,345.513 1555.26,346.202 1559.14,346.929 \n",
       "  1563.02,347.695 1566.89,348.5 1570.76,349.343 1574.61,350.226 1578.46,351.146 1582.29,352.105 1586.12,353.103 1589.93,354.138 1593.74,355.212 1597.53,356.324 \n",
       "  1601.32,357.473 1605.09,358.661 1608.85,359.886 1612.6,361.148 1616.33,362.448 1620.05,363.785 1623.76,365.16 1627.45,366.571 1631.13,368.019 1634.8,369.504 \n",
       "  1638.44,371.026 1642.08,372.584 1645.7,374.178 1649.3,375.808 1652.88,377.474 1656.45,379.176 1660.01,380.914 1663.54,382.687 1667.06,384.495 1670.55,386.339 \n",
       "  1674.03,388.217 1677.49,390.13 1680.93,392.078 1684.36,394.059 1687.76,396.075 1691.14,398.125 1694.5,400.209 1697.84,402.326 1701.16,404.476 1704.45,406.659 \n",
       "  1707.73,408.875 1710.98,411.124 1714.21,413.406 1717.42,415.719 1720.6,418.064 1723.76,420.442 1726.89,422.85 1730.01,425.29 1733.09,427.761 1736.16,430.262 \n",
       "  1739.19,432.795 1742.2,435.357 1745.19,437.949 1748.15,440.571 1751.08,443.223 1753.99,445.903 1756.87,448.613 1759.72,451.351 1762.54,454.118 1765.34,456.913 \n",
       "  1768.11,459.735 1770.85,462.585 1773.56,465.463 1776.25,468.367 1778.9,471.298 1781.52,474.256 1784.12,477.239 1786.68,480.249 1789.22,483.283 1791.72,486.343 \n",
       "  1794.2,489.428 1796.64,492.538 1799.05,495.672 1801.43,498.829 1803.78,502.011 1806.09,505.215 1808.38,508.443 1810.63,511.693 1812.85,514.966 1815.03,518.261 \n",
       "  1817.19,521.577 1819.31,524.915 1821.39,528.274 1823.44,531.654 1825.46,535.053 1827.45,538.473 1829.4,541.913 1831.31,545.372 1833.19,548.85 1835.04,552.346 \n",
       "  1836.85,555.861 1838.63,559.394 1840.37,562.944 1842.07,566.512 1843.74,570.096 1845.37,573.697 1846.97,577.314 1848.53,580.947 1850.06,584.595 1851.55,588.258 \n",
       "  1853,591.936 1854.41,595.629 1855.79,599.335 1857.13,603.055 1858.43,606.788 1859.7,610.534 1860.92,614.293 1862.11,618.063 1863.27,621.845 1864.38,625.639 \n",
       "  1865.46,629.444 1866.5,633.259 1867.5,637.084 1868.46,640.919 1869.38,644.764 1870.27,648.617 1871.12,652.48 1871.92,656.35 1872.69,660.229 1873.42,664.115 \n",
       "  1874.11,668.008 1874.77,671.907 1875.38,675.813 1875.96,679.725 1876.49,683.643 1876.99,687.566 1877.44,691.493 1877.86,695.425 1878.24,699.361 1878.58,703.3 \n",
       "  1878.88,707.243 1879.14,711.188 1879.36,715.136 1879.54,719.086 1879.68,723.037 1879.78,726.99 1879.84,730.944 1879.87,734.898 1879.85,738.851 1879.8,742.805 \n",
       "  1879.7,746.758 1879.56,750.71 1879.39,754.66 1879.18,758.608 1878.92,762.554 1878.63,766.497 1878.3,770.437 1877.92,774.373 1877.51,778.306 1877.06,782.234 \n",
       "  1876.57,786.157 1876.04,790.076 1875.47,793.989 1874.87,797.896 1874.22,801.797 1873.54,805.691 1872.81,809.578 1872.05,813.457 1871.25,817.329 1870.41,821.193 \n",
       "  1869.53,825.048 1868.61,828.894 1867.65,832.731 1866.66,836.557 1865.63,840.374 1864.56,844.18 1863.45,847.976 1862.3,851.76 1861.12,855.532 1859.89,859.293 \n",
       "  1858.64,863.041 1857.34,866.776 1856,870.498 1854.63,874.207 1853.22,877.901 1851.78,881.582 1850.3,885.247 1848.78,888.898 1847.22,892.533 1845.63,896.153 \n",
       "  1844,899.756 1842.34,903.344 1840.64,906.914 1838.91,910.467 1837.14,914.002 1835.33,917.52 1833.49,921.02 1831.62,924.5 1829.7,927.962 1827.76,931.405 \n",
       "  1825.78,934.828 1823.77,938.231 1821.72,941.614 1819.64,944.976 1817.53,948.317 1815.38,951.637 1813.2,954.935 1810.98,958.212 1808.74,961.465 1806.46,964.697 \n",
       "  1804.15,967.905 1801.8,971.09 1799.43,974.252 1797.02,977.389 1794.59,980.503 1792.12,983.592 1789.62,986.656 1787.09,989.695 1784.53,992.708 1781.94,995.696 \n",
       "  1779.32,998.657 1776.67,1001.59 1773.99,1004.5 1771.29,1007.38 1768.55,1010.24 1765.78,1013.06 1762.99,1015.86 1760.17,1018.63 1757.32,1021.38 1754.45,1024.09 \n",
       "  1751.55,1026.78 1748.62,1029.43 1745.66,1032.06 1742.68,1034.66 1739.67,1037.22 1736.64,1039.76 1733.58,1042.27 1730.5,1044.74 1727.39,1047.19 1724.26,1049.6 \n",
       "  1721.1,1051.98 1717.92,1054.33 1714.72,1056.65 1711.5,1058.94 1708.25,1061.19 1704.98,1063.41 1701.68,1065.6 1698.37,1067.76 1695.03,1069.88 1691.68,1071.97 \n",
       "  1688.3,1074.03 1684.9,1076.05 1681.48,1078.03 1678.04,1079.99 1674.59,1081.91 1671.11,1083.79 1667.61,1085.64 1664.1,1087.45 1660.57,1089.23 1657.02,1090.97 \n",
       "  1653.45,1092.68 1649.87,1094.35 1646.27,1095.99 1642.66,1097.59 1639.02,1099.15 1635.38,1100.68 1631.72,1102.17 1628.04,1103.63 1624.35,1105.04 1620.64,1106.42 \n",
       "  1616.92,1107.77 1613.19,1109.07 1609.45,1110.34 1605.69,1111.57 1601.92,1112.76 1598.14,1113.92 1594.34,1115.04 1590.54,1116.12 1586.73,1117.16 1582.9,1118.16 \n",
       "  1579.07,1119.13 1575.22,1120.06 1571.37,1120.94 1567.51,1121.79 1563.64,1122.6 1559.76,1123.38 1555.88,1124.11 1551.98,1124.8 1548.08,1125.46 1544.18,1126.08 \n",
       "  1540.27,1126.65 1536.35,1127.19 1532.43,1127.69 1528.5,1128.15 1524.57,1128.57 1520.63,1128.95 1516.69,1129.3 1512.75,1129.6 1508.81,1129.86 1504.86,1130.09 \n",
       "  1500.91,1130.27 1496.96,1130.41 1493.01,1130.52 1489.05,1130.58 1485.1,1130.61 1481.14,1130.6 1477.19,1130.54 1473.24,1130.45 1469.29,1130.32 1465.34,1130.15 \n",
       "  1461.39,1129.94 1457.44,1129.69 1453.5,1129.4 1449.56,1129.07 1445.62,1128.7 1441.69,1128.29 1437.76,1127.84 1433.84,1127.36 1429.92,1126.83 1426,1126.27 \n",
       "  1422.1,1125.66 1418.2,1125.02 1414.3,1124.34 1410.41,1123.61 1406.53,1122.85 1402.66,1122.06 1398.8,1121.22 1394.94,1120.34 1391.09,1119.43 1387.26,1118.47 \n",
       "  1383.43,1117.48 1379.61,1116.45 1375.8,1115.39 1372.01,1114.28 1368.22,1113.14 1364.45,1111.96 1360.69,1110.74 1356.94,1109.48 1353.2,1108.19 1349.48,1106.85 \n",
       "  1345.77,1105.49 1342.07,1104.08 1338.39,1102.64 1334.73,1101.16 1331.07,1099.64 1327.44,1098.09 1323.82,1096.5 1320.21,1094.88 1316.62,1093.22 1313.05,1091.52 \n",
       "  1309.5,1089.79 1305.96,1088.02 1302.44,1086.22 1298.94,1084.38 1295.46,1082.51 1291.99,1080.6 1288.55,1078.66 1285.13,1076.68 1281.72,1074.67 1278.34,1072.63 \n",
       "  1274.97,1070.55 1271.63,1068.44 1268.31,1066.29 1265.01,1064.12 1261.73,1061.9 1258.47,1059.66 1255.24,1057.38 1252.03,1055.08 1248.84,1052.74 1245.68,1050.36 \n",
       "  1242.54,1047.96 1239.43,1045.53 1236.33,1043.06 1233.27,1040.56 1230.23,1038.04 1227.21,1035.48 1224.22,1032.89 1221.26,1030.27 1218.32,1027.63 1215.41,1024.95 \n",
       "  1212.53,1022.25 1209.67,1019.51 1206.84,1016.75 1204.04,1013.96 1201.27,1011.14 1198.52,1008.3 1195.8,1005.42 1193.12,1002.52 1190.46,999.595 1187.83,996.642 \n",
       "  1185.23,993.662 1182.66,990.657 1180.12,987.626 1177.61,984.57 1175.13,981.489 1172.69,978.384 1170.27,975.254 1167.89,972.1 1165.53,968.922 1163.21,965.721 \n",
       "  1160.92,962.497 1158.67,959.25 1156.44,955.981 1154.25,952.69 1152.09,949.377 1149.97,946.043 1147.88,942.687 1145.82,939.311 1143.79,935.914 1141.8,932.497 \n",
       "  1139.85,929.061 1137.93,925.605 1136.04,922.13 1134.19,918.637 1132.37,915.125 1130.59,911.595 1128.84,908.047 1127.13,904.483 1125.46,900.901 1123.82,897.303 \n",
       "  1122.22,893.688 1120.65,890.058 1119.12,886.412 1117.63,882.751 1116.17,879.075 1114.75,875.385 1113.37,871.681 1112.02,867.963 1110.71,864.232 1109.44,860.488 \n",
       "  1108.21,856.731 1107.01,852.963 1105.85,849.182 1104.73,845.391 1103.65,841.588 1102.6,837.774 1101.6,833.951 1100.63,830.117 1099.7,826.274 1098.81,822.422 \n",
       "  1097.95,818.561 1097.14,814.692 1096.36,810.814 1095.63,806.93 1094.93,803.038 1094.27,799.139 1093.65,795.234 1093.07,791.323 1092.53,787.406 1092.03,783.484 \n",
       "  1091.56,779.557 1091.14,775.626 1090.76,771.691 1090.41,767.752 1090.11,763.81 1089.84,759.865 1089.61,755.917 1089.43,751.968 1089.28,748.017 1089.17,744.064 \n",
       "  1089.1,740.111 1089.07,736.157 1089.08,732.203 1089.13,728.249 1089.22,724.296 1089.35,720.345 1089.52,716.394 1089.73,712.446 1089.97,708.499 1090.26,704.556 \n",
       "  1090.59,700.615 1090.95,696.678 1091.36,692.745 1091.8,688.816 1092.28,684.892 1092.81,680.973 1093.37,677.059 1093.97,673.151 1094.61,669.249 1095.29,665.354 \n",
       "  1096.01,661.466 1096.76,657.585 1097.56,653.712 1098.39,649.847 1099.27,645.99 1100.18,642.143 1101.13,638.305 1102.12,634.476 1103.14,630.658 1104.21,626.85 \n",
       "  1105.31,623.053 1106.45,619.267 1107.63,615.492 1108.85,611.73 1110.1,607.98 1111.39,604.243 1112.72,600.519 1114.08,596.808 1115.49,593.111 1116.93,589.428 \n",
       "  1118.4,585.76 1119.92,582.107 1121.46,578.469 1123.05,574.847 1124.67,571.241 1126.33,567.651 1128.02,564.078 1129.75,560.523 1131.52,556.984 1133.32,553.464 \n",
       "  1135.15,549.961 1137.02,546.477 1138.93,543.013 1140.87,539.567 1142.84,536.141 1144.85,532.734 1146.89,529.348 1148.96,525.983 1151.07,522.638 1153.22,519.315 \n",
       "  1155.39,516.013 1157.6,512.734 1159.84,509.476 1162.11,506.241 1164.42,503.029 1166.76,499.84 1169.13,496.675 1171.53,493.533 1173.96,490.416 1176.42,487.323 \n",
       "  1178.92,484.255 1181.44,481.213 1184,478.195 1186.58,475.203 1189.2,472.237 1191.84,469.298 1194.52,466.385 1197.22,463.499 1199.95,460.64 1202.71,457.809 \n",
       "  1205.5,455.005 1208.31,452.229 1211.16,449.482 1214.03,446.763 1216.93,444.073 1219.85,441.413 1222.8,438.781 1225.78,436.179 1228.78,433.607 1231.81,431.066 \n",
       "  1234.87,428.554 1237.95,426.074 1241.05,423.624 1244.18,421.205 1247.33,418.818 1250.51,416.463 1253.7,414.139 1256.93,411.847 1260.17,409.588 1263.44,407.362 \n",
       "  1266.73,405.168 1270.04,403.007 1273.37,400.879 1276.73,398.785 1280.1,396.724 1283.5,394.698 1286.91,392.705 1290.35,390.747 1293.8,388.823 1297.27,386.933 \n",
       "  1300.77,385.079 1304.28,383.259 1307.8,381.475 1311.35,379.726 1314.91,378.013 1318.49,376.335 1322.09,374.693 1325.7,373.088 1329.33,371.518 1332.98,369.985 \n",
       "  1336.64,368.488 1340.31,367.028 1344,365.605 1347.71,364.219 1351.42,362.87 1355.15,361.558 1358.89,360.284 1362.65,359.047 1366.42,357.847 1370.2,356.686 \n",
       "  1373.99,355.562 1377.79,354.476 1381.6,353.428 1385.43,352.419 1389.26,351.448 1393.1,350.515 1396.95,349.62 1400.81,348.764 1404.68,347.947 1408.56,347.169 \n",
       "  1412.44,346.429 1416.33,345.728 1420.23,345.066 1424.14,344.443 1428.05,343.86 1431.96,343.315 1435.88,342.81 1439.81,342.343 1443.74,341.916 1447.68,341.529 \n",
       "  1451.62,341.181 1455.56,340.872 1459.5,340.602 1463.45,340.372 1467.4,340.182 1471.35,340.031 1475.3,339.92 1479.26,339.848 1483.21,339.815 1484.47,339.813 \n",
       "  \n",
       "  \"/>\n",
       "<path clip-path=\"url(#clip672)\" d=\"\n",
       "M1587.97 385.727 L1591.47 385.744 L1594.96 385.797 L1598.45 385.884 L1601.95 386.006 L1605.44 386.164 L1608.93 386.356 L1612.42 386.583 L1615.9 386.845 L1619.38 387.141 \n",
       "  L1622.86 387.473 L1626.34 387.839 L1629.81 388.24 L1633.28 388.676 L1636.74 389.146 L1640.2 389.651 L1643.65 390.191 L1647.1 390.765 L1650.54 391.373 L1653.97 392.016 \n",
       "  L1657.4 392.693 L1660.83 393.405 L1664.24 394.15 L1667.65 394.93 L1671.05 395.744 L1674.44 396.591 L1677.82 397.473 L1681.19 398.388 L1684.55 399.337 L1687.91 400.32 \n",
       "  L1691.25 401.336 L1694.59 402.386 L1697.91 403.468 L1701.22 404.584 L1704.52 405.733 L1707.81 406.915 L1711.09 408.13 L1714.35 409.377 L1717.6 410.657 L1720.84 411.97 \n",
       "  L1724.07 413.315 L1727.28 414.692 L1730.48 416.101 L1733.66 417.542 L1736.83 419.015 L1739.99 420.519 L1743.12 422.055 L1746.25 423.622 L1749.36 425.22 L1752.45 426.85 \n",
       "  L1755.52 428.51 L1758.58 430.201 L1761.62 431.922 L1764.65 433.674 L1767.65 435.456 L1770.64 437.267 L1773.61 439.109 L1776.57 440.98 L1779.5 442.881 L1782.41 444.811 \n",
       "  L1785.31 446.769 L1788.18 448.757 L1791.03 450.774 L1793.87 452.818 L1796.68 454.891 L1799.48 456.993 L1802.25 459.121 L1805 461.278 L1807.73 463.462 L1810.43 465.673 \n",
       "  L1813.12 467.911 L1815.78 470.176 L1818.42 472.467 L1821.03 474.785 L1823.63 477.128 L1826.19 479.498 L1828.74 481.893 L1831.26 484.313 L1833.76 486.758 L1836.23 489.229 \n",
       "  L1838.68 491.723 L1841.1 494.243 L1843.5 496.786 L1845.87 499.353 L1848.21 501.944 L1850.53 504.558 L1852.83 507.195 L1855.09 509.855 L1857.33 512.537 L1859.55 515.242 \n",
       "  L1861.73 517.969 L1863.89 520.717 L1866.02 523.487 L1868.13 526.278 L1870.2 529.09 L1872.25 531.923 L1874.27 534.775 L1876.26 537.648 L1878.22 540.541 L1880.15 543.453 \n",
       "  L1882.05 546.385 L1883.93 549.335 L1885.77 552.304 L1887.59 555.291 L1889.37 558.296 L1891.12 561.318 L1892.85 564.359 L1894.54 567.416 L1896.2 570.49 L1897.83 573.58 \n",
       "  L1899.44 576.687 L1901.01 579.81 L1902.54 582.948 L1904.05 586.101 L1905.53 589.269 L1906.97 592.452 L1908.38 595.649 L1909.76 598.86 L1911.11 602.085 L1912.42 605.323 \n",
       "  L1913.71 608.574 L1914.96 611.837 L1916.17 615.113 L1917.36 618.401 L1918.51 621.701 L1919.63 625.012 L1920.71 628.334 L1921.77 631.666 L1922.78 635.01 L1923.77 638.363 \n",
       "  L1924.72 641.725 L1925.64 645.098 L1926.52 648.479 L1927.37 651.868 L1928.19 655.267 L1928.97 658.673 L1929.72 662.086 L1930.44 665.508 L1931.12 668.936 L1931.76 672.37 \n",
       "  L1932.37 675.811 L1932.95 679.258 L1933.49 682.711 L1934 686.169 L1934.47 689.631 L1934.91 693.098 L1935.31 696.57 L1935.68 700.045 L1936.02 703.524 L1936.32 707.006 \n",
       "  L1936.58 710.491 L1936.81 713.978 L1937.01 717.467 L1937.17 720.959 L1937.29 724.451 L1937.38 727.945 L1937.44 731.439 L1937.46 734.934 L1937.44 738.429 L1937.39 741.923 \n",
       "  L1937.31 745.417 L1937.19 748.91 L1937.03 752.401 L1936.84 755.891 L1936.62 759.379 L1936.36 762.864 L1936.07 766.346 L1935.74 769.826 L1935.38 773.302 L1934.98 776.774 \n",
       "  L1934.54 780.242 L1934.08 783.705 L1933.57 787.164 L1933.04 790.617 L1932.47 794.065 L1931.86 797.507 L1931.22 800.943 L1930.55 804.372 L1929.84 807.794 L1929.09 811.209 \n",
       "  L1928.32 814.616 L1927.51 818.016 L1926.66 821.407 L1925.78 824.789 L1924.87 828.163 L1923.92 831.527 L1922.94 834.882 L1921.93 838.227 L1920.88 841.561 L1919.8 844.885 \n",
       "  L1918.69 848.197 L1917.54 851.499 L1916.36 854.789 L1915.15 858.067 L1913.91 861.332 L1912.63 864.585 L1911.32 867.825 L1909.98 871.052 L1908.6 874.265 L1907.2 877.465 \n",
       "  L1905.76 880.65 L1904.29 883.82 L1902.79 886.976 L1901.25 890.116 L1899.69 893.241 L1898.09 896.351 L1896.46 899.444 L1894.81 902.52 L1893.12 905.58 L1891.4 908.623 \n",
       "  L1889.65 911.649 L1887.87 914.657 L1886.06 917.647 L1884.22 920.618 L1882.35 923.572 L1880.46 926.506 L1878.53 929.421 L1876.57 932.317 L1874.59 935.193 L1872.57 938.049 \n",
       "  L1870.53 940.885 L1868.46 943.7 L1866.36 946.495 L1864.23 949.268 L1862.08 952.02 L1859.9 954.75 L1857.69 957.458 L1855.45 960.144 L1853.19 962.808 L1850.9 965.449 \n",
       "  L1848.58 968.066 L1846.24 970.661 L1843.88 973.232 L1841.48 975.779 L1839.06 978.302 L1836.62 980.8 L1834.15 983.275 L1831.66 985.724 L1829.14 988.148 L1826.6 990.547 \n",
       "  L1824.04 992.921 L1821.45 995.269 L1818.84 997.59 L1816.2 999.886 L1813.54 1002.15 L1810.86 1004.4 L1808.16 1006.61 L1805.43 1008.8 L1802.69 1010.96 L1799.92 1013.09 \n",
       "  L1797.13 1015.2 L1794.32 1017.28 L1791.49 1019.33 L1788.64 1021.35 L1785.77 1023.34 L1782.87 1025.3 L1779.96 1027.24 L1777.03 1029.14 L1774.08 1031.02 L1771.12 1032.87 \n",
       "  L1768.13 1034.68 L1765.13 1036.47 L1762.11 1038.23 L1759.07 1039.95 L1756.01 1041.65 L1752.94 1043.31 L1749.85 1044.95 L1746.74 1046.55 L1743.62 1048.12 L1740.49 1049.66 \n",
       "  L1737.33 1051.17 L1734.17 1052.65 L1730.99 1054.1 L1727.79 1055.51 L1724.58 1056.89 L1721.36 1058.24 L1718.12 1059.56 L1714.87 1060.85 L1711.61 1062.1 L1708.33 1063.32 \n",
       "  L1705.05 1064.51 L1701.75 1065.66 L1698.44 1066.78 L1695.12 1067.87 L1691.78 1068.92 L1688.44 1069.95 L1685.09 1070.93 L1681.73 1071.89 L1678.36 1072.81 L1674.97 1073.7 \n",
       "  L1671.59 1074.55 L1668.19 1075.37 L1664.78 1076.15 L1661.37 1076.9 L1657.95 1077.62 L1654.52 1078.3 L1651.09 1078.95 L1647.65 1079.57 L1644.2 1080.14 L1640.75 1080.69 \n",
       "  L1637.29 1081.2 L1633.83 1081.68 L1630.36 1082.12 L1626.89 1082.52 L1623.42 1082.9 L1619.94 1083.23 L1616.46 1083.54 L1612.97 1083.8 L1609.48 1084.04 L1605.99 1084.23 \n",
       "  L1602.5 1084.4 L1599.01 1084.52 L1595.52 1084.62 L1592.02 1084.67 L1588.53 1084.7 L1585.03 1084.69 L1581.54 1084.64 L1578.04 1084.56 L1574.55 1084.44 L1571.06 1084.29 \n",
       "  L1567.57 1084.1 L1564.08 1083.88 L1560.6 1083.62 L1557.11 1083.33 L1553.64 1083.01 L1550.16 1082.65 L1546.69 1082.25 L1543.22 1081.82 L1539.75 1081.36 L1536.3 1080.86 \n",
       "  L1532.84 1080.32 L1529.39 1079.75 L1525.95 1079.15 L1522.51 1078.51 L1519.09 1077.84 L1515.66 1077.14 L1512.25 1076.4 L1508.84 1075.62 L1505.44 1074.81 L1502.05 1073.97 \n",
       "  L1498.66 1073.09 L1495.29 1072.18 L1491.92 1071.24 L1488.57 1070.26 L1485.22 1069.25 L1481.89 1068.21 L1478.56 1067.13 L1475.25 1066.02 L1471.95 1064.88 L1468.66 1063.7 \n",
       "  L1465.38 1062.49 L1462.11 1061.25 L1458.86 1059.97 L1455.62 1058.67 L1452.39 1057.33 L1449.17 1055.95 L1445.97 1054.55 L1442.79 1053.11 L1439.62 1051.65 L1436.46 1050.15 \n",
       "  L1433.32 1048.62 L1430.19 1047.05 L1427.08 1045.46 L1423.99 1043.84 L1420.91 1042.18 L1417.85 1040.5 L1414.8 1038.78 L1411.78 1037.03 L1408.77 1035.25 L1405.77 1033.45 \n",
       "  L1402.8 1031.61 L1399.85 1029.74 L1396.91 1027.85 L1393.99 1025.92 L1391.1 1023.97 L1388.22 1021.99 L1385.36 1019.97 L1382.52 1017.93 L1379.71 1015.87 L1376.91 1013.77 \n",
       "  L1374.14 1011.64 L1371.38 1009.49 L1368.65 1007.31 L1365.94 1005.11 L1363.25 1002.87 L1360.59 1000.61 L1357.94 998.324 L1355.33 996.011 L1352.73 993.671 L1350.16 991.306 \n",
       "  L1347.61 988.915 L1345.08 986.499 L1342.58 984.058 L1340.11 981.591 L1337.65 979.1 L1335.23 976.585 L1332.83 974.046 L1330.45 971.482 L1328.1 968.895 L1325.78 966.285 \n",
       "  L1323.48 963.651 L1321.21 960.995 L1318.96 958.316 L1316.75 955.615 L1314.56 952.892 L1312.39 950.147 L1310.26 947.38 L1308.15 944.593 L1306.07 941.784 L1304.02 938.955 \n",
       "  L1302 936.105 L1300 933.235 L1298.04 930.346 L1296.1 927.437 L1294.19 924.508 L1292.31 921.561 L1290.46 918.595 L1288.64 915.611 L1286.86 912.609 L1285.1 909.589 \n",
       "  L1283.37 906.551 L1281.67 903.497 L1280 900.426 L1278.37 897.338 L1276.76 894.234 L1275.19 891.114 L1273.64 887.978 L1272.13 884.827 L1270.65 881.661 L1269.2 878.481 \n",
       "  L1267.78 875.286 L1266.4 872.077 L1265.05 868.855 L1263.73 865.619 L1262.44 862.37 L1261.18 859.108 L1259.96 855.834 L1258.77 852.548 L1257.61 849.25 L1256.49 845.941 \n",
       "  L1255.4 842.621 L1254.34 839.29 L1253.32 835.948 L1252.33 832.597 L1251.37 829.236 L1250.45 825.865 L1249.56 822.485 L1248.7 819.097 L1247.88 815.7 L1247.09 812.295 \n",
       "  L1246.34 808.882 L1245.62 805.463 L1244.93 802.036 L1244.28 798.602 L1243.67 795.162 L1243.08 791.716 L1242.54 788.264 L1242.02 784.807 L1241.54 781.345 L1241.1 777.879 \n",
       "  L1240.69 774.408 L1240.32 770.933 L1239.98 767.455 L1239.67 763.974 L1239.4 760.489 L1239.17 757.002 L1238.97 753.513 L1238.8 750.022 L1238.67 746.53 L1238.57 743.036 \n",
       "  L1238.51 739.542 L1238.49 736.047 L1238.5 732.552 L1238.54 729.058 L1238.62 725.564 L1238.73 722.071 L1238.88 718.579 L1239.07 715.089 L1239.28 711.601 L1239.54 708.116 \n",
       "  L1239.83 704.633 L1240.15 701.153 L1240.51 697.676 L1240.9 694.204 L1241.33 690.735 L1241.79 687.271 L1242.29 683.812 L1242.82 680.357 L1243.38 676.909 L1243.98 673.466 \n",
       "  L1244.62 670.029 L1245.29 666.599 L1245.99 663.175 L1246.73 659.759 L1247.5 656.351 L1248.31 652.95 L1249.15 649.557 L1250.02 646.174 L1250.93 642.799 L1251.87 639.433 \n",
       "  L1252.84 636.077 L1253.85 632.73 L1254.89 629.394 L1255.97 626.069 L1257.07 622.754 L1258.21 619.451 L1259.39 616.159 L1260.6 612.879 L1261.84 609.612 L1263.11 606.357 \n",
       "  L1264.41 603.115 L1265.75 599.886 L1267.12 596.67 L1268.52 593.469 L1269.95 590.281 L1271.42 587.108 L1272.92 583.95 L1274.44 580.807 L1276 577.68 L1277.59 574.568 \n",
       "  L1279.22 571.473 L1280.87 568.393 L1282.55 565.331 L1284.27 562.285 L1286.01 559.257 L1287.79 556.246 L1289.59 553.253 L1291.43 550.278 L1293.29 547.322 L1295.18 544.385 \n",
       "  L1297.11 541.467 L1299.06 538.568 L1301.04 535.688 L1303.05 532.829 L1305.09 529.99 L1307.15 527.171 L1309.25 524.374 L1311.37 521.597 L1313.52 518.842 L1315.7 516.108 \n",
       "  L1317.9 513.396 L1320.13 510.707 L1322.39 508.04 L1324.68 505.395 L1326.99 502.774 L1329.33 500.176 L1331.69 497.601 L1334.08 495.05 L1336.49 492.523 L1338.93 490.021 \n",
       "  L1341.4 487.543 L1343.88 485.089 L1346.4 482.661 L1348.94 480.258 L1351.5 477.88 L1354.08 475.528 L1356.69 473.202 L1359.32 470.903 L1361.98 468.63 L1364.65 466.383 \n",
       "  L1367.35 464.163 L1370.07 461.971 L1372.82 459.805 L1375.58 457.668 L1378.37 455.558 L1381.18 453.476 L1384 451.422 L1386.85 449.396 L1389.72 447.4 L1392.61 445.431 \n",
       "  L1395.51 443.492 L1398.44 441.582 L1401.39 439.702 L1404.35 437.851 L1407.33 436.029 L1410.34 434.238 L1413.35 432.477 L1416.39 430.746 L1419.44 429.045 L1422.51 427.375 \n",
       "  L1425.6 425.736 L1428.7 424.128 L1431.82 422.551 L1434.96 421.005 L1438.11 419.49 L1441.27 418.008 L1444.45 416.557 L1447.64 415.137 L1450.85 413.75 L1454.07 412.395 \n",
       "  L1457.31 411.072 L1460.55 409.782 L1463.82 408.524 L1467.09 407.299 L1470.37 406.106 L1473.67 404.947 L1476.98 403.82 L1480.3 402.727 L1483.63 401.667 L1486.97 400.64 \n",
       "  L1490.32 399.647 L1493.68 398.687 L1497.05 397.761 L1500.43 396.869 L1503.82 396.01 L1507.21 395.186 L1510.62 394.395 L1514.03 393.638 L1517.45 392.916 L1520.88 392.228 \n",
       "  L1524.31 391.574 L1527.75 390.955 L1531.19 390.37 L1534.64 389.819 L1538.1 389.303 L1541.56 388.822 L1545.03 388.375 L1548.5 387.963 L1551.97 387.586 L1555.45 387.243 \n",
       "  L1558.93 386.935 L1562.42 386.662 L1565.9 386.424 L1569.39 386.221 L1572.88 386.053 L1576.38 385.919 L1579.87 385.821 L1583.36 385.757 L1586.86 385.729 L1587.97 385.727 \n",
       "   Z\n",
       "  \" fill=\"#ff0000\" fill-rule=\"evenodd\" fill-opacity=\"0.5\"/>\n",
       "<polyline clip-path=\"url(#clip672)\" style=\"stroke:#000000; stroke-width:4; stroke-opacity:1; fill:none\" points=\"\n",
       "  1587.97,385.727 1591.47,385.744 1594.96,385.797 1598.45,385.884 1601.95,386.006 1605.44,386.164 1608.93,386.356 1612.42,386.583 1615.9,386.845 1619.38,387.141 \n",
       "  1622.86,387.473 1626.34,387.839 1629.81,388.24 1633.28,388.676 1636.74,389.146 1640.2,389.651 1643.65,390.191 1647.1,390.765 1650.54,391.373 1653.97,392.016 \n",
       "  1657.4,392.693 1660.83,393.405 1664.24,394.15 1667.65,394.93 1671.05,395.744 1674.44,396.591 1677.82,397.473 1681.19,398.388 1684.55,399.337 1687.91,400.32 \n",
       "  1691.25,401.336 1694.59,402.386 1697.91,403.468 1701.22,404.584 1704.52,405.733 1707.81,406.915 1711.09,408.13 1714.35,409.377 1717.6,410.657 1720.84,411.97 \n",
       "  1724.07,413.315 1727.28,414.692 1730.48,416.101 1733.66,417.542 1736.83,419.015 1739.99,420.519 1743.12,422.055 1746.25,423.622 1749.36,425.22 1752.45,426.85 \n",
       "  1755.52,428.51 1758.58,430.201 1761.62,431.922 1764.65,433.674 1767.65,435.456 1770.64,437.267 1773.61,439.109 1776.57,440.98 1779.5,442.881 1782.41,444.811 \n",
       "  1785.31,446.769 1788.18,448.757 1791.03,450.774 1793.87,452.818 1796.68,454.891 1799.48,456.993 1802.25,459.121 1805,461.278 1807.73,463.462 1810.43,465.673 \n",
       "  1813.12,467.911 1815.78,470.176 1818.42,472.467 1821.03,474.785 1823.63,477.128 1826.19,479.498 1828.74,481.893 1831.26,484.313 1833.76,486.758 1836.23,489.229 \n",
       "  1838.68,491.723 1841.1,494.243 1843.5,496.786 1845.87,499.353 1848.21,501.944 1850.53,504.558 1852.83,507.195 1855.09,509.855 1857.33,512.537 1859.55,515.242 \n",
       "  1861.73,517.969 1863.89,520.717 1866.02,523.487 1868.13,526.278 1870.2,529.09 1872.25,531.923 1874.27,534.775 1876.26,537.648 1878.22,540.541 1880.15,543.453 \n",
       "  1882.05,546.385 1883.93,549.335 1885.77,552.304 1887.59,555.291 1889.37,558.296 1891.12,561.318 1892.85,564.359 1894.54,567.416 1896.2,570.49 1897.83,573.58 \n",
       "  1899.44,576.687 1901.01,579.81 1902.54,582.948 1904.05,586.101 1905.53,589.269 1906.97,592.452 1908.38,595.649 1909.76,598.86 1911.11,602.085 1912.42,605.323 \n",
       "  1913.71,608.574 1914.96,611.837 1916.17,615.113 1917.36,618.401 1918.51,621.701 1919.63,625.012 1920.71,628.334 1921.77,631.666 1922.78,635.01 1923.77,638.363 \n",
       "  1924.72,641.725 1925.64,645.098 1926.52,648.479 1927.37,651.868 1928.19,655.267 1928.97,658.673 1929.72,662.086 1930.44,665.508 1931.12,668.936 1931.76,672.37 \n",
       "  1932.37,675.811 1932.95,679.258 1933.49,682.711 1934,686.169 1934.47,689.631 1934.91,693.098 1935.31,696.57 1935.68,700.045 1936.02,703.524 1936.32,707.006 \n",
       "  1936.58,710.491 1936.81,713.978 1937.01,717.467 1937.17,720.959 1937.29,724.451 1937.38,727.945 1937.44,731.439 1937.46,734.934 1937.44,738.429 1937.39,741.923 \n",
       "  1937.31,745.417 1937.19,748.91 1937.03,752.401 1936.84,755.891 1936.62,759.379 1936.36,762.864 1936.07,766.346 1935.74,769.826 1935.38,773.302 1934.98,776.774 \n",
       "  1934.54,780.242 1934.08,783.705 1933.57,787.164 1933.04,790.617 1932.47,794.065 1931.86,797.507 1931.22,800.943 1930.55,804.372 1929.84,807.794 1929.09,811.209 \n",
       "  1928.32,814.616 1927.51,818.016 1926.66,821.407 1925.78,824.789 1924.87,828.163 1923.92,831.527 1922.94,834.882 1921.93,838.227 1920.88,841.561 1919.8,844.885 \n",
       "  1918.69,848.197 1917.54,851.499 1916.36,854.789 1915.15,858.067 1913.91,861.332 1912.63,864.585 1911.32,867.825 1909.98,871.052 1908.6,874.265 1907.2,877.465 \n",
       "  1905.76,880.65 1904.29,883.82 1902.79,886.976 1901.25,890.116 1899.69,893.241 1898.09,896.351 1896.46,899.444 1894.81,902.52 1893.12,905.58 1891.4,908.623 \n",
       "  1889.65,911.649 1887.87,914.657 1886.06,917.647 1884.22,920.618 1882.35,923.572 1880.46,926.506 1878.53,929.421 1876.57,932.317 1874.59,935.193 1872.57,938.049 \n",
       "  1870.53,940.885 1868.46,943.7 1866.36,946.495 1864.23,949.268 1862.08,952.02 1859.9,954.75 1857.69,957.458 1855.45,960.144 1853.19,962.808 1850.9,965.449 \n",
       "  1848.58,968.066 1846.24,970.661 1843.88,973.232 1841.48,975.779 1839.06,978.302 1836.62,980.8 1834.15,983.275 1831.66,985.724 1829.14,988.148 1826.6,990.547 \n",
       "  1824.04,992.921 1821.45,995.269 1818.84,997.59 1816.2,999.886 1813.54,1002.15 1810.86,1004.4 1808.16,1006.61 1805.43,1008.8 1802.69,1010.96 1799.92,1013.09 \n",
       "  1797.13,1015.2 1794.32,1017.28 1791.49,1019.33 1788.64,1021.35 1785.77,1023.34 1782.87,1025.3 1779.96,1027.24 1777.03,1029.14 1774.08,1031.02 1771.12,1032.87 \n",
       "  1768.13,1034.68 1765.13,1036.47 1762.11,1038.23 1759.07,1039.95 1756.01,1041.65 1752.94,1043.31 1749.85,1044.95 1746.74,1046.55 1743.62,1048.12 1740.49,1049.66 \n",
       "  1737.33,1051.17 1734.17,1052.65 1730.99,1054.1 1727.79,1055.51 1724.58,1056.89 1721.36,1058.24 1718.12,1059.56 1714.87,1060.85 1711.61,1062.1 1708.33,1063.32 \n",
       "  1705.05,1064.51 1701.75,1065.66 1698.44,1066.78 1695.12,1067.87 1691.78,1068.92 1688.44,1069.95 1685.09,1070.93 1681.73,1071.89 1678.36,1072.81 1674.97,1073.7 \n",
       "  1671.59,1074.55 1668.19,1075.37 1664.78,1076.15 1661.37,1076.9 1657.95,1077.62 1654.52,1078.3 1651.09,1078.95 1647.65,1079.57 1644.2,1080.14 1640.75,1080.69 \n",
       "  1637.29,1081.2 1633.83,1081.68 1630.36,1082.12 1626.89,1082.52 1623.42,1082.9 1619.94,1083.23 1616.46,1083.54 1612.97,1083.8 1609.48,1084.04 1605.99,1084.23 \n",
       "  1602.5,1084.4 1599.01,1084.52 1595.52,1084.62 1592.02,1084.67 1588.53,1084.7 1585.03,1084.69 1581.54,1084.64 1578.04,1084.56 1574.55,1084.44 1571.06,1084.29 \n",
       "  1567.57,1084.1 1564.08,1083.88 1560.6,1083.62 1557.11,1083.33 1553.64,1083.01 1550.16,1082.65 1546.69,1082.25 1543.22,1081.82 1539.75,1081.36 1536.3,1080.86 \n",
       "  1532.84,1080.32 1529.39,1079.75 1525.95,1079.15 1522.51,1078.51 1519.09,1077.84 1515.66,1077.14 1512.25,1076.4 1508.84,1075.62 1505.44,1074.81 1502.05,1073.97 \n",
       "  1498.66,1073.09 1495.29,1072.18 1491.92,1071.24 1488.57,1070.26 1485.22,1069.25 1481.89,1068.21 1478.56,1067.13 1475.25,1066.02 1471.95,1064.88 1468.66,1063.7 \n",
       "  1465.38,1062.49 1462.11,1061.25 1458.86,1059.97 1455.62,1058.67 1452.39,1057.33 1449.17,1055.95 1445.97,1054.55 1442.79,1053.11 1439.62,1051.65 1436.46,1050.15 \n",
       "  1433.32,1048.62 1430.19,1047.05 1427.08,1045.46 1423.99,1043.84 1420.91,1042.18 1417.85,1040.5 1414.8,1038.78 1411.78,1037.03 1408.77,1035.25 1405.77,1033.45 \n",
       "  1402.8,1031.61 1399.85,1029.74 1396.91,1027.85 1393.99,1025.92 1391.1,1023.97 1388.22,1021.99 1385.36,1019.97 1382.52,1017.93 1379.71,1015.87 1376.91,1013.77 \n",
       "  1374.14,1011.64 1371.38,1009.49 1368.65,1007.31 1365.94,1005.11 1363.25,1002.87 1360.59,1000.61 1357.94,998.324 1355.33,996.011 1352.73,993.671 1350.16,991.306 \n",
       "  1347.61,988.915 1345.08,986.499 1342.58,984.058 1340.11,981.591 1337.65,979.1 1335.23,976.585 1332.83,974.046 1330.45,971.482 1328.1,968.895 1325.78,966.285 \n",
       "  1323.48,963.651 1321.21,960.995 1318.96,958.316 1316.75,955.615 1314.56,952.892 1312.39,950.147 1310.26,947.38 1308.15,944.593 1306.07,941.784 1304.02,938.955 \n",
       "  1302,936.105 1300,933.235 1298.04,930.346 1296.1,927.437 1294.19,924.508 1292.31,921.561 1290.46,918.595 1288.64,915.611 1286.86,912.609 1285.1,909.589 \n",
       "  1283.37,906.551 1281.67,903.497 1280,900.426 1278.37,897.338 1276.76,894.234 1275.19,891.114 1273.64,887.978 1272.13,884.827 1270.65,881.661 1269.2,878.481 \n",
       "  1267.78,875.286 1266.4,872.077 1265.05,868.855 1263.73,865.619 1262.44,862.37 1261.18,859.108 1259.96,855.834 1258.77,852.548 1257.61,849.25 1256.49,845.941 \n",
       "  1255.4,842.621 1254.34,839.29 1253.32,835.948 1252.33,832.597 1251.37,829.236 1250.45,825.865 1249.56,822.485 1248.7,819.097 1247.88,815.7 1247.09,812.295 \n",
       "  1246.34,808.882 1245.62,805.463 1244.93,802.036 1244.28,798.602 1243.67,795.162 1243.08,791.716 1242.54,788.264 1242.02,784.807 1241.54,781.345 1241.1,777.879 \n",
       "  1240.69,774.408 1240.32,770.933 1239.98,767.455 1239.67,763.974 1239.4,760.489 1239.17,757.002 1238.97,753.513 1238.8,750.022 1238.67,746.53 1238.57,743.036 \n",
       "  1238.51,739.542 1238.49,736.047 1238.5,732.552 1238.54,729.058 1238.62,725.564 1238.73,722.071 1238.88,718.579 1239.07,715.089 1239.28,711.601 1239.54,708.116 \n",
       "  1239.83,704.633 1240.15,701.153 1240.51,697.676 1240.9,694.204 1241.33,690.735 1241.79,687.271 1242.29,683.812 1242.82,680.357 1243.38,676.909 1243.98,673.466 \n",
       "  1244.62,670.029 1245.29,666.599 1245.99,663.175 1246.73,659.759 1247.5,656.351 1248.31,652.95 1249.15,649.557 1250.02,646.174 1250.93,642.799 1251.87,639.433 \n",
       "  1252.84,636.077 1253.85,632.73 1254.89,629.394 1255.97,626.069 1257.07,622.754 1258.21,619.451 1259.39,616.159 1260.6,612.879 1261.84,609.612 1263.11,606.357 \n",
       "  1264.41,603.115 1265.75,599.886 1267.12,596.67 1268.52,593.469 1269.95,590.281 1271.42,587.108 1272.92,583.95 1274.44,580.807 1276,577.68 1277.59,574.568 \n",
       "  1279.22,571.473 1280.87,568.393 1282.55,565.331 1284.27,562.285 1286.01,559.257 1287.79,556.246 1289.59,553.253 1291.43,550.278 1293.29,547.322 1295.18,544.385 \n",
       "  1297.11,541.467 1299.06,538.568 1301.04,535.688 1303.05,532.829 1305.09,529.99 1307.15,527.171 1309.25,524.374 1311.37,521.597 1313.52,518.842 1315.7,516.108 \n",
       "  1317.9,513.396 1320.13,510.707 1322.39,508.04 1324.68,505.395 1326.99,502.774 1329.33,500.176 1331.69,497.601 1334.08,495.05 1336.49,492.523 1338.93,490.021 \n",
       "  1341.4,487.543 1343.88,485.089 1346.4,482.661 1348.94,480.258 1351.5,477.88 1354.08,475.528 1356.69,473.202 1359.32,470.903 1361.98,468.63 1364.65,466.383 \n",
       "  1367.35,464.163 1370.07,461.971 1372.82,459.805 1375.58,457.668 1378.37,455.558 1381.18,453.476 1384,451.422 1386.85,449.396 1389.72,447.4 1392.61,445.431 \n",
       "  1395.51,443.492 1398.44,441.582 1401.39,439.702 1404.35,437.851 1407.33,436.029 1410.34,434.238 1413.35,432.477 1416.39,430.746 1419.44,429.045 1422.51,427.375 \n",
       "  1425.6,425.736 1428.7,424.128 1431.82,422.551 1434.96,421.005 1438.11,419.49 1441.27,418.008 1444.45,416.557 1447.64,415.137 1450.85,413.75 1454.07,412.395 \n",
       "  1457.31,411.072 1460.55,409.782 1463.82,408.524 1467.09,407.299 1470.37,406.106 1473.67,404.947 1476.98,403.82 1480.3,402.727 1483.63,401.667 1486.97,400.64 \n",
       "  1490.32,399.647 1493.68,398.687 1497.05,397.761 1500.43,396.869 1503.82,396.01 1507.21,395.186 1510.62,394.395 1514.03,393.638 1517.45,392.916 1520.88,392.228 \n",
       "  1524.31,391.574 1527.75,390.955 1531.19,390.37 1534.64,389.819 1538.1,389.303 1541.56,388.822 1545.03,388.375 1548.5,387.963 1551.97,387.586 1555.45,387.243 \n",
       "  1558.93,386.935 1562.42,386.662 1565.9,386.424 1569.39,386.221 1572.88,386.053 1576.38,385.919 1579.87,385.821 1583.36,385.757 1586.86,385.729 1587.97,385.727 \n",
       "  \n",
       "  \"/>\n",
       "<path clip-path=\"url(#clip672)\" d=\"\n",
       "M1291.98 86.1857 L1298.47 86.2181 L1304.96 86.3155 L1311.45 86.4777 L1317.94 86.7048 L1324.42 86.9968 L1330.9 87.3536 L1337.38 87.7751 L1343.85 88.2615 L1350.32 88.8125 \n",
       "  L1356.78 89.4281 L1363.23 90.1083 L1369.68 90.8531 L1376.12 91.6622 L1382.55 92.5358 L1388.97 93.4735 L1395.38 94.4755 L1401.79 95.5415 L1408.18 96.6715 L1414.56 97.8654 \n",
       "  L1420.92 99.123 L1427.28 100.444 L1433.62 101.829 L1439.95 103.277 L1446.26 104.788 L1452.55 106.362 L1458.83 107.999 L1465.1 109.699 L1471.34 111.462 L1477.57 113.287 \n",
       "  L1483.78 115.173 L1489.97 117.122 L1496.14 119.133 L1502.3 121.206 L1508.42 123.339 L1514.53 125.534 L1520.62 127.79 L1526.68 130.107 L1532.72 132.484 L1538.73 134.922 \n",
       "  L1544.73 137.419 L1550.69 139.976 L1556.63 142.593 L1562.54 145.269 L1568.43 148.004 L1574.29 150.798 L1580.12 153.65 L1585.92 156.561 L1591.69 159.529 L1597.43 162.555 \n",
       "  L1603.14 165.638 L1608.82 168.778 L1614.47 171.975 L1620.09 175.228 L1625.67 178.537 L1631.22 181.901 L1636.74 185.321 L1642.22 188.796 L1647.66 192.326 L1653.08 195.91 \n",
       "  L1658.45 199.548 L1663.79 203.239 L1669.09 206.984 L1674.35 210.781 L1679.58 214.631 L1684.76 218.533 L1689.91 222.486 L1695.02 226.491 L1700.09 230.547 L1705.11 234.653 \n",
       "  L1710.1 238.809 L1715.04 243.015 L1719.94 247.27 L1724.8 251.574 L1729.61 255.927 L1734.38 260.327 L1739.11 264.774 L1743.79 269.269 L1748.43 273.811 L1753.02 278.398 \n",
       "  L1757.57 283.031 L1762.06 287.709 L1766.52 292.433 L1770.92 297.2 L1775.28 302.011 L1779.58 306.866 L1783.84 311.763 L1788.05 316.703 L1792.21 321.684 L1796.32 326.707 \n",
       "  L1800.38 331.771 L1804.39 336.875 L1808.35 342.019 L1812.26 347.202 L1816.11 352.424 L1819.91 357.685 L1823.66 362.983 L1827.36 368.318 L1831 373.69 L1834.59 379.098 \n",
       "  L1838.12 384.542 L1841.6 390.021 L1845.02 395.534 L1848.39 401.081 L1851.71 406.662 L1854.96 412.275 L1858.16 417.921 L1861.31 423.599 L1864.4 429.308 L1867.43 435.047 \n",
       "  L1870.4 440.816 L1873.31 446.615 L1876.17 452.443 L1878.97 458.299 L1881.71 464.182 L1884.39 470.093 L1887.01 476.03 L1889.57 481.994 L1892.08 487.982 L1894.52 493.995 \n",
       "  L1896.9 500.033 L1899.22 506.093 L1901.48 512.177 L1903.68 518.283 L1905.82 524.411 L1907.9 530.56 L1909.91 536.729 L1911.87 542.918 L1913.76 549.127 L1915.59 555.354 \n",
       "  L1917.36 561.598 L1919.06 567.861 L1920.7 574.14 L1922.28 580.435 L1923.8 586.746 L1925.25 593.071 L1926.64 599.411 L1927.97 605.764 L1929.23 612.13 L1930.43 618.509 \n",
       "  L1931.57 624.899 L1932.64 631.3 L1933.64 637.712 L1934.59 644.133 L1935.47 650.564 L1936.28 657.003 L1937.03 663.45 L1937.71 669.904 L1938.34 676.364 L1938.89 682.83 \n",
       "  L1939.38 689.302 L1939.81 695.778 L1940.17 702.258 L1940.47 708.742 L1940.7 715.228 L1940.87 721.716 L1940.97 728.205 L1941.01 734.696 L1940.98 741.186 L1940.89 747.675 \n",
       "  L1940.73 754.164 L1940.51 760.65 L1940.22 767.134 L1939.87 773.615 L1939.46 780.092 L1938.97 786.564 L1938.43 793.031 L1937.82 799.493 L1937.14 805.948 L1936.4 812.396 \n",
       "  L1935.6 818.836 L1934.73 825.268 L1933.8 831.691 L1932.8 838.104 L1931.74 844.507 L1930.62 850.899 L1929.43 857.279 L1928.17 863.648 L1926.86 870.003 L1925.48 876.345 \n",
       "  L1924.04 882.673 L1922.53 888.986 L1920.96 895.283 L1919.33 901.565 L1917.63 907.83 L1915.88 914.078 L1914.06 920.308 L1912.17 926.519 L1910.23 932.711 L1908.22 938.884 \n",
       "  L1906.16 945.036 L1904.03 951.167 L1901.84 957.277 L1899.59 963.364 L1897.27 969.429 L1894.9 975.47 L1892.47 981.487 L1889.98 987.479 L1887.42 993.446 L1884.81 999.388 \n",
       "  L1882.14 1005.3 L1879.41 1011.19 L1876.62 1017.05 L1873.77 1022.88 L1870.87 1028.69 L1867.9 1034.46 L1864.88 1040.21 L1861.8 1045.92 L1858.67 1051.6 L1855.48 1057.25 \n",
       "  L1852.23 1062.87 L1848.92 1068.46 L1845.56 1074.01 L1842.15 1079.53 L1838.68 1085.01 L1835.15 1090.46 L1831.57 1095.88 L1827.94 1101.25 L1824.25 1106.59 L1820.51 1111.9 \n",
       "  L1816.72 1117.17 L1812.87 1122.39 L1808.97 1127.58 L1805.03 1132.73 L1801.02 1137.84 L1796.97 1142.91 L1792.87 1147.94 L1788.72 1152.93 L1784.52 1157.88 L1780.27 1162.78 \n",
       "  L1775.97 1167.64 L1771.62 1172.46 L1767.22 1177.24 L1762.78 1181.97 L1758.29 1186.65 L1753.75 1191.29 L1749.16 1195.89 L1744.53 1200.44 L1739.86 1204.94 L1735.14 1209.39 \n",
       "  L1730.38 1213.8 L1725.57 1218.16 L1720.72 1222.47 L1715.82 1226.74 L1710.89 1230.95 L1705.91 1235.11 L1700.89 1239.23 L1695.83 1243.29 L1690.73 1247.3 L1685.59 1251.27 \n",
       "  L1680.41 1255.18 L1675.19 1259.03 L1669.93 1262.84 L1664.64 1266.59 L1659.3 1270.29 L1653.93 1273.94 L1648.53 1277.53 L1643.09 1281.07 L1637.61 1284.55 L1632.1 1287.98 \n",
       "  L1626.56 1291.36 L1620.98 1294.67 L1615.37 1297.94 L1609.72 1301.14 L1604.05 1304.29 L1598.34 1307.38 L1592.61 1310.42 L1586.84 1313.4 L1581.04 1316.31 L1575.22 1319.18 \n",
       "  L1569.36 1321.98 L1563.48 1324.72 L1557.57 1327.41 L1551.64 1330.04 L1545.68 1332.6 L1539.69 1335.11 L1533.68 1337.56 L1527.64 1339.94 L1521.58 1342.27 L1515.5 1344.54 \n",
       "  L1509.4 1346.74 L1503.27 1348.88 L1497.13 1350.97 L1490.96 1352.99 L1484.77 1354.95 L1478.56 1356.84 L1472.34 1358.68 L1466.09 1360.45 L1459.83 1362.16 L1453.56 1363.81 \n",
       "  L1447.26 1365.39 L1440.95 1366.91 L1434.63 1368.37 L1428.29 1369.76 L1421.94 1371.1 L1415.57 1372.36 L1409.19 1373.57 L1402.8 1374.71 L1396.4 1375.78 L1389.99 1376.8 \n",
       "  L1383.57 1377.74 L1377.14 1378.63 L1370.71 1379.45 L1364.26 1380.2 L1357.81 1380.89 L1351.35 1381.52 L1344.88 1382.08 L1338.41 1382.58 L1331.93 1383.01 L1325.45 1383.38 \n",
       "  L1318.97 1383.68 L1312.48 1383.92 L1306 1384.09 L1299.51 1384.2 L1293.02 1384.24 L1286.53 1384.22 L1280.04 1384.13 L1273.55 1383.98 L1267.06 1383.76 L1260.58 1383.48 \n",
       "  L1254.1 1383.13 L1247.62 1382.72 L1241.15 1382.25 L1234.68 1381.7 L1228.22 1381.1 L1221.76 1380.43 L1215.31 1379.69 L1208.87 1378.9 L1202.44 1378.03 L1196.02 1377.1 \n",
       "  L1189.6 1376.11 L1183.2 1375.06 L1176.8 1373.94 L1170.42 1372.75 L1164.05 1371.51 L1157.7 1370.2 L1151.35 1368.82 L1145.03 1367.38 L1138.71 1365.88 L1132.41 1364.32 \n",
       "  L1126.13 1362.69 L1119.86 1361 L1113.61 1359.25 L1107.38 1357.43 L1101.17 1355.56 L1094.98 1353.62 L1088.8 1351.62 L1082.65 1349.55 L1076.52 1347.43 L1070.4 1345.24 \n",
       "  L1064.31 1343 L1058.25 1340.69 L1052.21 1338.32 L1046.19 1335.9 L1040.19 1333.41 L1034.22 1330.86 L1028.28 1328.25 L1022.36 1325.59 L1016.47 1322.86 L1010.61 1320.08 \n",
       "  L1004.77 1317.23 L998.969 1314.33 L993.193 1311.37 L987.446 1308.36 L981.73 1305.28 L976.045 1302.15 L970.391 1298.96 L964.77 1295.72 L959.181 1292.42 L953.626 1289.06 \n",
       "  L948.105 1285.65 L942.618 1282.19 L937.165 1278.66 L931.749 1275.09 L926.368 1271.46 L921.024 1267.78 L915.717 1264.04 L910.448 1260.25 L905.216 1256.41 L900.024 1252.52 \n",
       "  L894.87 1248.57 L889.757 1244.57 L884.683 1240.53 L879.651 1236.43 L874.659 1232.28 L869.709 1228.08 L864.802 1223.84 L859.937 1219.54 L855.115 1215.19 L850.338 1210.8 \n",
       "  L845.604 1206.36 L840.915 1201.87 L836.271 1197.34 L831.672 1192.76 L827.12 1188.13 L822.614 1183.46 L818.155 1178.75 L813.744 1173.99 L809.38 1169.18 L805.064 1164.34 \n",
       "  L800.797 1159.44 L796.58 1154.51 L792.412 1149.54 L788.293 1144.52 L784.226 1139.46 L780.209 1134.37 L776.243 1129.23 L772.328 1124.05 L768.466 1118.83 L764.656 1113.58 \n",
       "  L760.899 1108.29 L757.195 1102.96 L753.544 1097.59 L749.947 1092.19 L746.405 1086.75 L742.916 1081.28 L739.483 1075.77 L736.105 1070.23 L732.783 1064.65 L729.517 1059.05 \n",
       "  L726.307 1053.4 L723.153 1047.73 L720.056 1042.03 L717.017 1036.29 L714.035 1030.53 L711.11 1024.74 L708.244 1018.91 L705.437 1013.06 L702.687 1007.18 L699.997 1001.27 \n",
       "  L697.366 995.342 L694.795 989.383 L692.283 983.398 L689.831 977.389 L687.44 971.355 L685.108 965.298 L682.838 959.218 L680.628 953.116 L678.48 946.991 L676.393 940.846 \n",
       "  L674.367 934.68 L672.404 928.494 L670.502 922.288 L668.662 916.064 L666.885 909.822 L665.17 903.562 L663.518 897.286 L661.929 890.993 L660.402 884.685 L658.939 878.362 \n",
       "  L657.539 872.024 L656.203 865.673 L654.93 859.309 L653.721 852.932 L652.576 846.544 L651.494 840.145 L650.477 833.735 L649.524 827.315 L648.635 820.886 L647.811 814.448 \n",
       "  L647.05 808.002 L646.355 801.55 L645.724 795.09 L645.157 788.625 L644.656 782.154 L644.218 775.678 L643.846 769.199 L643.539 762.716 L643.296 756.23 L643.118 749.742 \n",
       "  L643.006 743.253 L642.958 736.763 L642.975 730.273 L643.056 723.783 L643.203 717.294 L643.415 710.808 L643.691 704.323 L644.033 697.842 L644.439 691.364 L644.909 684.891 \n",
       "  L645.445 678.423 L646.045 671.961 L646.71 665.505 L647.439 659.056 L648.233 652.614 L649.091 646.181 L650.014 639.756 L651 633.342 L652.051 626.937 L653.166 620.543 \n",
       "  L654.344 614.161 L655.587 607.791 L656.893 601.433 L658.262 595.089 L659.695 588.759 L661.191 582.444 L662.751 576.143 L664.373 569.859 L666.058 563.591 L667.805 557.341 \n",
       "  L669.615 551.108 L671.487 544.894 L673.421 538.698 L675.417 532.523 L677.475 526.367 L679.594 520.233 L681.775 514.12 L684.016 508.029 L686.318 501.961 L688.681 495.916 \n",
       "  L691.104 489.895 L693.587 483.898 L696.13 477.927 L698.733 471.981 L701.395 466.062 L704.116 460.17 L706.896 454.305 L709.734 448.468 L712.63 442.66 L715.585 436.882 \n",
       "  L718.597 431.133 L721.666 425.414 L724.793 419.726 L727.976 414.07 L731.215 408.446 L734.511 402.855 L737.862 397.297 L741.269 391.773 L744.731 386.283 L748.248 380.828 \n",
       "  L751.819 375.409 L755.444 370.025 L759.122 364.678 L762.854 359.368 L766.639 354.096 L770.476 348.861 L774.366 343.666 L778.307 338.509 L782.3 333.392 L786.343 328.316 \n",
       "  L790.438 323.28 L794.582 318.285 L798.776 313.332 L803.019 308.421 L807.312 303.553 L811.653 298.728 L816.041 293.946 L820.478 289.209 L824.961 284.516 L829.491 279.869 \n",
       "  L834.068 275.267 L838.69 270.711 L843.358 266.201 L848.07 261.738 L852.827 257.323 L857.628 252.955 L862.472 248.636 L867.359 244.365 L872.289 240.144 L877.261 235.972 \n",
       "  L882.274 231.849 L887.328 227.778 L892.422 223.756 L897.557 219.786 L902.73 215.868 L907.943 212.002 L913.194 208.187 L918.484 204.426 L923.81 200.718 L929.173 197.063 \n",
       "  L934.573 193.461 L940.008 189.915 L945.479 186.422 L950.984 182.985 L956.523 179.602 L962.096 176.276 L967.702 173.005 L973.34 169.79 L979.01 166.632 L984.711 163.531 \n",
       "  L990.443 160.487 L996.205 157.5 L1002 154.571 L1007.82 151.7 L1013.67 148.888 L1019.54 146.134 L1025.45 143.439 L1031.38 140.804 L1037.34 138.227 L1043.32 135.711 \n",
       "  L1049.33 133.254 L1055.36 130.858 L1061.41 128.522 L1067.49 126.246 L1073.59 124.032 L1079.72 121.879 L1085.86 119.787 L1092.02 117.756 L1098.21 115.788 L1104.41 113.881 \n",
       "  L1110.63 112.036 L1116.88 110.254 L1123.13 108.534 L1129.41 106.877 L1135.7 105.283 L1142.01 103.751 L1148.33 102.283 L1154.67 100.878 L1161.02 99.5369 L1167.38 98.2591 \n",
       "  L1173.75 97.0449 L1180.14 95.8945 L1186.54 94.8081 L1192.95 93.7857 L1199.37 92.8275 L1205.8 91.9335 L1212.23 91.1038 L1218.68 90.3385 L1225.13 89.6378 L1231.59 89.0015 \n",
       "  L1238.06 88.4299 L1244.53 87.923 L1251 87.4808 L1257.48 87.1034 L1263.96 86.7908 L1270.45 86.543 L1276.94 86.3601 L1283.43 86.2421 L1289.92 86.189 L1291.98 86.1857 \n",
       "   Z\n",
       "  \" fill=\"#ff0000\" fill-rule=\"evenodd\" fill-opacity=\"0.5\"/>\n",
       "<polyline clip-path=\"url(#clip672)\" style=\"stroke:#000000; stroke-width:4; stroke-opacity:1; fill:none\" points=\"\n",
       "  1291.98,86.1857 1298.47,86.2181 1304.96,86.3155 1311.45,86.4777 1317.94,86.7048 1324.42,86.9968 1330.9,87.3536 1337.38,87.7751 1343.85,88.2615 1350.32,88.8125 \n",
       "  1356.78,89.4281 1363.23,90.1083 1369.68,90.8531 1376.12,91.6622 1382.55,92.5358 1388.97,93.4735 1395.38,94.4755 1401.79,95.5415 1408.18,96.6715 1414.56,97.8654 \n",
       "  1420.92,99.123 1427.28,100.444 1433.62,101.829 1439.95,103.277 1446.26,104.788 1452.55,106.362 1458.83,107.999 1465.1,109.699 1471.34,111.462 1477.57,113.287 \n",
       "  1483.78,115.173 1489.97,117.122 1496.14,119.133 1502.3,121.206 1508.42,123.339 1514.53,125.534 1520.62,127.79 1526.68,130.107 1532.72,132.484 1538.73,134.922 \n",
       "  1544.73,137.419 1550.69,139.976 1556.63,142.593 1562.54,145.269 1568.43,148.004 1574.29,150.798 1580.12,153.65 1585.92,156.561 1591.69,159.529 1597.43,162.555 \n",
       "  1603.14,165.638 1608.82,168.778 1614.47,171.975 1620.09,175.228 1625.67,178.537 1631.22,181.901 1636.74,185.321 1642.22,188.796 1647.66,192.326 1653.08,195.91 \n",
       "  1658.45,199.548 1663.79,203.239 1669.09,206.984 1674.35,210.781 1679.58,214.631 1684.76,218.533 1689.91,222.486 1695.02,226.491 1700.09,230.547 1705.11,234.653 \n",
       "  1710.1,238.809 1715.04,243.015 1719.94,247.27 1724.8,251.574 1729.61,255.927 1734.38,260.327 1739.11,264.774 1743.79,269.269 1748.43,273.811 1753.02,278.398 \n",
       "  1757.57,283.031 1762.06,287.709 1766.52,292.433 1770.92,297.2 1775.28,302.011 1779.58,306.866 1783.84,311.763 1788.05,316.703 1792.21,321.684 1796.32,326.707 \n",
       "  1800.38,331.771 1804.39,336.875 1808.35,342.019 1812.26,347.202 1816.11,352.424 1819.91,357.685 1823.66,362.983 1827.36,368.318 1831,373.69 1834.59,379.098 \n",
       "  1838.12,384.542 1841.6,390.021 1845.02,395.534 1848.39,401.081 1851.71,406.662 1854.96,412.275 1858.16,417.921 1861.31,423.599 1864.4,429.308 1867.43,435.047 \n",
       "  1870.4,440.816 1873.31,446.615 1876.17,452.443 1878.97,458.299 1881.71,464.182 1884.39,470.093 1887.01,476.03 1889.57,481.994 1892.08,487.982 1894.52,493.995 \n",
       "  1896.9,500.033 1899.22,506.093 1901.48,512.177 1903.68,518.283 1905.82,524.411 1907.9,530.56 1909.91,536.729 1911.87,542.918 1913.76,549.127 1915.59,555.354 \n",
       "  1917.36,561.598 1919.06,567.861 1920.7,574.14 1922.28,580.435 1923.8,586.746 1925.25,593.071 1926.64,599.411 1927.97,605.764 1929.23,612.13 1930.43,618.509 \n",
       "  1931.57,624.899 1932.64,631.3 1933.64,637.712 1934.59,644.133 1935.47,650.564 1936.28,657.003 1937.03,663.45 1937.71,669.904 1938.34,676.364 1938.89,682.83 \n",
       "  1939.38,689.302 1939.81,695.778 1940.17,702.258 1940.47,708.742 1940.7,715.228 1940.87,721.716 1940.97,728.205 1941.01,734.696 1940.98,741.186 1940.89,747.675 \n",
       "  1940.73,754.164 1940.51,760.65 1940.22,767.134 1939.87,773.615 1939.46,780.092 1938.97,786.564 1938.43,793.031 1937.82,799.493 1937.14,805.948 1936.4,812.396 \n",
       "  1935.6,818.836 1934.73,825.268 1933.8,831.691 1932.8,838.104 1931.74,844.507 1930.62,850.899 1929.43,857.279 1928.17,863.648 1926.86,870.003 1925.48,876.345 \n",
       "  1924.04,882.673 1922.53,888.986 1920.96,895.283 1919.33,901.565 1917.63,907.83 1915.88,914.078 1914.06,920.308 1912.17,926.519 1910.23,932.711 1908.22,938.884 \n",
       "  1906.16,945.036 1904.03,951.167 1901.84,957.277 1899.59,963.364 1897.27,969.429 1894.9,975.47 1892.47,981.487 1889.98,987.479 1887.42,993.446 1884.81,999.388 \n",
       "  1882.14,1005.3 1879.41,1011.19 1876.62,1017.05 1873.77,1022.88 1870.87,1028.69 1867.9,1034.46 1864.88,1040.21 1861.8,1045.92 1858.67,1051.6 1855.48,1057.25 \n",
       "  1852.23,1062.87 1848.92,1068.46 1845.56,1074.01 1842.15,1079.53 1838.68,1085.01 1835.15,1090.46 1831.57,1095.88 1827.94,1101.25 1824.25,1106.59 1820.51,1111.9 \n",
       "  1816.72,1117.17 1812.87,1122.39 1808.97,1127.58 1805.03,1132.73 1801.02,1137.84 1796.97,1142.91 1792.87,1147.94 1788.72,1152.93 1784.52,1157.88 1780.27,1162.78 \n",
       "  1775.97,1167.64 1771.62,1172.46 1767.22,1177.24 1762.78,1181.97 1758.29,1186.65 1753.75,1191.29 1749.16,1195.89 1744.53,1200.44 1739.86,1204.94 1735.14,1209.39 \n",
       "  1730.38,1213.8 1725.57,1218.16 1720.72,1222.47 1715.82,1226.74 1710.89,1230.95 1705.91,1235.11 1700.89,1239.23 1695.83,1243.29 1690.73,1247.3 1685.59,1251.27 \n",
       "  1680.41,1255.18 1675.19,1259.03 1669.93,1262.84 1664.64,1266.59 1659.3,1270.29 1653.93,1273.94 1648.53,1277.53 1643.09,1281.07 1637.61,1284.55 1632.1,1287.98 \n",
       "  1626.56,1291.36 1620.98,1294.67 1615.37,1297.94 1609.72,1301.14 1604.05,1304.29 1598.34,1307.38 1592.61,1310.42 1586.84,1313.4 1581.04,1316.31 1575.22,1319.18 \n",
       "  1569.36,1321.98 1563.48,1324.72 1557.57,1327.41 1551.64,1330.04 1545.68,1332.6 1539.69,1335.11 1533.68,1337.56 1527.64,1339.94 1521.58,1342.27 1515.5,1344.54 \n",
       "  1509.4,1346.74 1503.27,1348.88 1497.13,1350.97 1490.96,1352.99 1484.77,1354.95 1478.56,1356.84 1472.34,1358.68 1466.09,1360.45 1459.83,1362.16 1453.56,1363.81 \n",
       "  1447.26,1365.39 1440.95,1366.91 1434.63,1368.37 1428.29,1369.76 1421.94,1371.1 1415.57,1372.36 1409.19,1373.57 1402.8,1374.71 1396.4,1375.78 1389.99,1376.8 \n",
       "  1383.57,1377.74 1377.14,1378.63 1370.71,1379.45 1364.26,1380.2 1357.81,1380.89 1351.35,1381.52 1344.88,1382.08 1338.41,1382.58 1331.93,1383.01 1325.45,1383.38 \n",
       "  1318.97,1383.68 1312.48,1383.92 1306,1384.09 1299.51,1384.2 1293.02,1384.24 1286.53,1384.22 1280.04,1384.13 1273.55,1383.98 1267.06,1383.76 1260.58,1383.48 \n",
       "  1254.1,1383.13 1247.62,1382.72 1241.15,1382.25 1234.68,1381.7 1228.22,1381.1 1221.76,1380.43 1215.31,1379.69 1208.87,1378.9 1202.44,1378.03 1196.02,1377.1 \n",
       "  1189.6,1376.11 1183.2,1375.06 1176.8,1373.94 1170.42,1372.75 1164.05,1371.51 1157.7,1370.2 1151.35,1368.82 1145.03,1367.38 1138.71,1365.88 1132.41,1364.32 \n",
       "  1126.13,1362.69 1119.86,1361 1113.61,1359.25 1107.38,1357.43 1101.17,1355.56 1094.98,1353.62 1088.8,1351.62 1082.65,1349.55 1076.52,1347.43 1070.4,1345.24 \n",
       "  1064.31,1343 1058.25,1340.69 1052.21,1338.32 1046.19,1335.9 1040.19,1333.41 1034.22,1330.86 1028.28,1328.25 1022.36,1325.59 1016.47,1322.86 1010.61,1320.08 \n",
       "  1004.77,1317.23 998.969,1314.33 993.193,1311.37 987.446,1308.36 981.73,1305.28 976.045,1302.15 970.391,1298.96 964.77,1295.72 959.181,1292.42 953.626,1289.06 \n",
       "  948.105,1285.65 942.618,1282.19 937.165,1278.66 931.749,1275.09 926.368,1271.46 921.024,1267.78 915.717,1264.04 910.448,1260.25 905.216,1256.41 900.024,1252.52 \n",
       "  894.87,1248.57 889.757,1244.57 884.683,1240.53 879.651,1236.43 874.659,1232.28 869.709,1228.08 864.802,1223.84 859.937,1219.54 855.115,1215.19 850.338,1210.8 \n",
       "  845.604,1206.36 840.915,1201.87 836.271,1197.34 831.672,1192.76 827.12,1188.13 822.614,1183.46 818.155,1178.75 813.744,1173.99 809.38,1169.18 805.064,1164.34 \n",
       "  800.797,1159.44 796.58,1154.51 792.412,1149.54 788.293,1144.52 784.226,1139.46 780.209,1134.37 776.243,1129.23 772.328,1124.05 768.466,1118.83 764.656,1113.58 \n",
       "  760.899,1108.29 757.195,1102.96 753.544,1097.59 749.947,1092.19 746.405,1086.75 742.916,1081.28 739.483,1075.77 736.105,1070.23 732.783,1064.65 729.517,1059.05 \n",
       "  726.307,1053.4 723.153,1047.73 720.056,1042.03 717.017,1036.29 714.035,1030.53 711.11,1024.74 708.244,1018.91 705.437,1013.06 702.687,1007.18 699.997,1001.27 \n",
       "  697.366,995.342 694.795,989.383 692.283,983.398 689.831,977.389 687.44,971.355 685.108,965.298 682.838,959.218 680.628,953.116 678.48,946.991 676.393,940.846 \n",
       "  674.367,934.68 672.404,928.494 670.502,922.288 668.662,916.064 666.885,909.822 665.17,903.562 663.518,897.286 661.929,890.993 660.402,884.685 658.939,878.362 \n",
       "  657.539,872.024 656.203,865.673 654.93,859.309 653.721,852.932 652.576,846.544 651.494,840.145 650.477,833.735 649.524,827.315 648.635,820.886 647.811,814.448 \n",
       "  647.05,808.002 646.355,801.55 645.724,795.09 645.157,788.625 644.656,782.154 644.218,775.678 643.846,769.199 643.539,762.716 643.296,756.23 643.118,749.742 \n",
       "  643.006,743.253 642.958,736.763 642.975,730.273 643.056,723.783 643.203,717.294 643.415,710.808 643.691,704.323 644.033,697.842 644.439,691.364 644.909,684.891 \n",
       "  645.445,678.423 646.045,671.961 646.71,665.505 647.439,659.056 648.233,652.614 649.091,646.181 650.014,639.756 651,633.342 652.051,626.937 653.166,620.543 \n",
       "  654.344,614.161 655.587,607.791 656.893,601.433 658.262,595.089 659.695,588.759 661.191,582.444 662.751,576.143 664.373,569.859 666.058,563.591 667.805,557.341 \n",
       "  669.615,551.108 671.487,544.894 673.421,538.698 675.417,532.523 677.475,526.367 679.594,520.233 681.775,514.12 684.016,508.029 686.318,501.961 688.681,495.916 \n",
       "  691.104,489.895 693.587,483.898 696.13,477.927 698.733,471.981 701.395,466.062 704.116,460.17 706.896,454.305 709.734,448.468 712.63,442.66 715.585,436.882 \n",
       "  718.597,431.133 721.666,425.414 724.793,419.726 727.976,414.07 731.215,408.446 734.511,402.855 737.862,397.297 741.269,391.773 744.731,386.283 748.248,380.828 \n",
       "  751.819,375.409 755.444,370.025 759.122,364.678 762.854,359.368 766.639,354.096 770.476,348.861 774.366,343.666 778.307,338.509 782.3,333.392 786.343,328.316 \n",
       "  790.438,323.28 794.582,318.285 798.776,313.332 803.019,308.421 807.312,303.553 811.653,298.728 816.041,293.946 820.478,289.209 824.961,284.516 829.491,279.869 \n",
       "  834.068,275.267 838.69,270.711 843.358,266.201 848.07,261.738 852.827,257.323 857.628,252.955 862.472,248.636 867.359,244.365 872.289,240.144 877.261,235.972 \n",
       "  882.274,231.849 887.328,227.778 892.422,223.756 897.557,219.786 902.73,215.868 907.943,212.002 913.194,208.187 918.484,204.426 923.81,200.718 929.173,197.063 \n",
       "  934.573,193.461 940.008,189.915 945.479,186.422 950.984,182.985 956.523,179.602 962.096,176.276 967.702,173.005 973.34,169.79 979.01,166.632 984.711,163.531 \n",
       "  990.443,160.487 996.205,157.5 1002,154.571 1007.82,151.7 1013.67,148.888 1019.54,146.134 1025.45,143.439 1031.38,140.804 1037.34,138.227 1043.32,135.711 \n",
       "  1049.33,133.254 1055.36,130.858 1061.41,128.522 1067.49,126.246 1073.59,124.032 1079.72,121.879 1085.86,119.787 1092.02,117.756 1098.21,115.788 1104.41,113.881 \n",
       "  1110.63,112.036 1116.88,110.254 1123.13,108.534 1129.41,106.877 1135.7,105.283 1142.01,103.751 1148.33,102.283 1154.67,100.878 1161.02,99.5369 1167.38,98.2591 \n",
       "  1173.75,97.0449 1180.14,95.8945 1186.54,94.8081 1192.95,93.7857 1199.37,92.8275 1205.8,91.9335 1212.23,91.1038 1218.68,90.3385 1225.13,89.6378 1231.59,89.0015 \n",
       "  1238.06,88.4299 1244.53,87.923 1251,87.4808 1257.48,87.1034 1263.96,86.7908 1270.45,86.543 1276.94,86.3601 1283.43,86.2421 1289.92,86.189 1291.98,86.1857 \n",
       "  \n",
       "  \"/>\n",
       "<path clip-path=\"url(#clip672)\" d=\"\n",
       "M1449.66 336.09 L1453.65 336.11 L1457.64 336.17 L1461.63 336.27 L1465.62 336.41 L1469.61 336.589 L1473.59 336.808 L1477.58 337.068 L1481.56 337.367 L1485.53 337.706 \n",
       "  L1489.51 338.084 L1493.48 338.503 L1497.44 338.96 L1501.4 339.458 L1505.36 339.995 L1509.31 340.572 L1513.25 341.188 L1517.19 341.844 L1521.12 342.539 L1525.04 343.273 \n",
       "  L1528.95 344.046 L1532.86 344.859 L1536.76 345.71 L1540.65 346.601 L1544.53 347.53 L1548.41 348.498 L1552.27 349.505 L1556.12 350.55 L1559.96 351.634 L1563.79 352.756 \n",
       "  L1567.61 353.916 L1571.42 355.115 L1575.21 356.352 L1578.99 357.626 L1582.76 358.938 L1586.52 360.288 L1590.26 361.675 L1593.99 363.1 L1597.7 364.562 L1601.4 366.061 \n",
       "  L1605.09 367.597 L1608.76 369.169 L1612.41 370.778 L1616.04 372.424 L1619.66 374.106 L1623.27 375.824 L1626.85 377.578 L1630.42 379.368 L1633.97 381.193 L1637.5 383.054 \n",
       "  L1641.01 384.95 L1644.5 386.881 L1647.98 388.847 L1651.43 390.847 L1654.86 392.882 L1658.28 394.951 L1661.67 397.054 L1665.04 399.191 L1668.39 401.362 L1671.72 403.566 \n",
       "  L1675.02 405.803 L1678.31 408.073 L1681.57 410.375 L1684.8 412.711 L1688.02 415.078 L1691.2 417.478 L1694.37 419.909 L1697.51 422.372 L1700.63 424.866 L1703.72 427.391 \n",
       "  L1706.78 429.947 L1709.82 432.533 L1712.84 435.15 L1715.82 437.797 L1718.78 440.473 L1721.72 443.179 L1724.63 445.914 L1727.5 448.678 L1730.36 451.471 L1733.18 454.292 \n",
       "  L1735.97 457.141 L1738.74 460.018 L1741.48 462.923 L1744.19 465.855 L1746.86 468.813 L1749.51 471.799 L1752.13 474.81 L1754.72 477.848 L1757.28 480.911 L1759.81 484 \n",
       "  L1762.3 487.114 L1764.77 490.253 L1767.2 493.416 L1769.61 496.604 L1771.98 499.815 L1774.31 503.05 L1776.62 506.308 L1778.89 509.589 L1781.13 512.892 L1783.34 516.218 \n",
       "  L1785.51 519.566 L1787.65 522.935 L1789.76 526.325 L1791.83 529.737 L1793.87 533.169 L1795.87 536.621 L1797.84 540.093 L1799.77 543.584 L1801.67 547.095 L1803.53 550.624 \n",
       "  L1805.36 554.172 L1807.15 557.738 L1808.91 561.322 L1810.63 564.923 L1812.32 568.541 L1813.97 572.176 L1815.58 575.827 L1817.15 579.494 L1818.69 583.177 L1820.19 586.875 \n",
       "  L1821.66 590.587 L1823.09 594.315 L1824.48 598.056 L1825.83 601.811 L1827.14 605.579 L1828.42 609.36 L1829.66 613.154 L1830.86 616.96 L1832.03 620.778 L1833.15 624.607 \n",
       "  L1834.24 628.448 L1835.29 632.299 L1836.3 636.16 L1837.27 640.031 L1838.2 643.912 L1839.09 647.802 L1839.95 651.701 L1840.76 655.608 L1841.54 659.523 L1842.28 663.445 \n",
       "  L1842.98 667.375 L1843.63 671.311 L1844.25 675.254 L1844.83 679.203 L1845.37 683.157 L1845.88 687.117 L1846.34 691.082 L1846.76 695.05 L1847.14 699.023 L1847.48 703 \n",
       "  L1847.78 706.98 L1848.05 710.962 L1848.27 714.947 L1848.45 718.934 L1848.59 722.923 L1848.7 726.913 L1848.76 730.903 L1848.78 734.895 L1848.77 738.886 L1848.71 742.877 \n",
       "  L1848.61 746.867 L1848.48 750.855 L1848.3 754.843 L1848.08 758.828 L1847.83 762.811 L1847.53 766.791 L1847.2 770.768 L1846.82 774.742 L1846.41 778.711 L1845.95 782.677 \n",
       "  L1845.46 786.637 L1844.92 790.592 L1844.35 794.542 L1843.74 798.486 L1843.08 802.424 L1842.39 806.354 L1841.66 810.278 L1840.89 814.194 L1840.08 818.102 L1839.23 822.002 \n",
       "  L1838.35 825.894 L1837.42 829.776 L1836.45 833.649 L1835.45 837.512 L1834.41 841.364 L1833.33 845.207 L1832.21 849.038 L1831.05 852.857 L1829.86 856.665 L1828.62 860.461 \n",
       "  L1827.35 864.244 L1826.04 868.015 L1824.69 871.772 L1823.31 875.515 L1821.89 879.245 L1820.43 882.96 L1818.93 886.66 L1817.4 890.345 L1815.83 894.015 L1814.22 897.668 \n",
       "  L1812.58 901.306 L1810.9 904.927 L1809.19 908.531 L1807.44 912.117 L1805.65 915.686 L1803.83 919.237 L1801.97 922.769 L1800.08 926.283 L1798.15 929.777 L1796.19 933.252 \n",
       "  L1794.19 936.708 L1792.16 940.143 L1790.09 943.557 L1787.99 946.951 L1785.85 950.324 L1783.69 953.675 L1781.48 957.004 L1779.25 960.311 L1776.98 963.596 L1774.68 966.858 \n",
       "  L1772.35 970.096 L1769.99 973.311 L1767.59 976.503 L1765.16 979.67 L1762.7 982.812 L1760.21 985.93 L1757.69 989.023 L1755.13 992.091 L1752.55 995.133 L1749.93 998.148 \n",
       "  L1747.29 1001.14 L1744.61 1004.1 L1741.91 1007.04 L1739.18 1009.95 L1736.42 1012.83 L1733.63 1015.68 L1730.81 1018.51 L1727.96 1021.3 L1725.09 1024.07 L1722.18 1026.81 \n",
       "  L1719.25 1029.52 L1716.3 1032.2 L1713.31 1034.86 L1710.3 1037.48 L1707.27 1040.07 L1704.21 1042.63 L1701.12 1045.16 L1698.01 1047.66 L1694.87 1050.13 L1691.71 1052.56 \n",
       "  L1688.52 1054.97 L1685.32 1057.34 L1682.08 1059.68 L1678.83 1061.99 L1675.55 1064.26 L1672.25 1066.51 L1668.92 1068.71 L1665.58 1070.89 L1662.21 1073.03 L1658.82 1075.14 \n",
       "  L1655.41 1077.22 L1651.98 1079.26 L1648.53 1081.26 L1645.06 1083.23 L1641.57 1085.17 L1638.06 1087.07 L1634.53 1088.94 L1630.98 1090.77 L1627.42 1092.56 L1623.84 1094.32 \n",
       "  L1620.24 1096.05 L1616.62 1097.74 L1612.99 1099.39 L1609.34 1101 L1605.67 1102.58 L1601.99 1104.12 L1598.29 1105.63 L1594.58 1107.09 L1590.86 1108.53 L1587.12 1109.92 \n",
       "  L1583.36 1111.27 L1579.6 1112.59 L1575.82 1113.87 L1572.02 1115.12 L1568.22 1116.32 L1564.4 1117.49 L1560.57 1118.61 L1556.73 1119.7 L1552.88 1120.76 L1549.02 1121.77 \n",
       "  L1545.15 1122.74 L1541.27 1123.68 L1537.38 1124.58 L1533.48 1125.43 L1529.58 1126.25 L1525.66 1127.03 L1521.74 1127.77 L1517.81 1128.47 L1513.88 1129.13 L1509.93 1129.76 \n",
       "  L1505.99 1130.34 L1502.03 1130.88 L1498.07 1131.39 L1494.11 1131.85 L1490.14 1132.28 L1486.17 1132.66 L1482.19 1133.01 L1478.21 1133.31 L1474.23 1133.58 L1470.24 1133.8 \n",
       "  L1466.26 1133.99 L1462.27 1134.14 L1458.28 1134.24 L1454.29 1134.31 L1450.3 1134.33 L1446.31 1134.32 L1442.32 1134.27 L1438.32 1134.17 L1434.34 1134.04 L1430.35 1133.87 \n",
       "  L1426.36 1133.65 L1422.38 1133.4 L1418.4 1133.11 L1414.42 1132.78 L1410.45 1132.4 L1406.48 1131.99 L1402.51 1131.54 L1398.55 1131.05 L1394.6 1130.52 L1390.65 1129.95 \n",
       "  L1386.7 1129.34 L1382.76 1128.69 L1378.83 1128 L1374.91 1127.27 L1370.99 1126.5 L1367.08 1125.7 L1363.18 1124.85 L1359.29 1123.97 L1355.41 1123.05 L1351.53 1122.08 \n",
       "  L1347.67 1121.08 L1343.82 1120.04 L1339.97 1118.97 L1336.14 1117.85 L1332.32 1116.7 L1328.51 1115.5 L1324.71 1114.27 L1320.93 1113 L1317.16 1111.7 L1313.4 1110.35 \n",
       "  L1309.66 1108.97 L1305.93 1107.55 L1302.21 1106.1 L1298.51 1104.61 L1294.82 1103.08 L1291.15 1101.51 L1287.5 1099.91 L1283.86 1098.27 L1280.23 1096.59 L1276.63 1094.88 \n",
       "  L1273.04 1093.13 L1269.47 1091.34 L1265.92 1089.52 L1262.39 1087.67 L1258.87 1085.78 L1255.37 1083.85 L1251.9 1081.89 L1248.44 1079.9 L1245 1077.87 L1241.59 1075.81 \n",
       "  L1238.19 1073.71 L1234.82 1071.58 L1231.46 1069.41 L1228.13 1067.21 L1224.83 1064.98 L1221.54 1062.72 L1218.28 1060.42 L1215.03 1058.09 L1211.82 1055.73 L1208.62 1053.33 \n",
       "  L1205.46 1050.91 L1202.31 1048.45 L1199.19 1045.96 L1196.1 1043.44 L1193.03 1040.89 L1189.98 1038.31 L1186.96 1035.69 L1183.97 1033.05 L1181.01 1030.38 L1178.07 1027.68 \n",
       "  L1175.16 1024.95 L1172.28 1022.19 L1169.42 1019.4 L1166.59 1016.58 L1163.79 1013.74 L1161.02 1010.87 L1158.28 1007.97 L1155.57 1005.04 L1152.88 1002.08 L1150.23 999.103 \n",
       "  L1147.6 996.096 L1145.01 993.062 L1142.45 990.003 L1139.92 986.918 L1137.41 983.808 L1134.94 980.673 L1132.5 977.514 L1130.1 974.33 L1127.72 971.123 L1125.38 967.892 \n",
       "  L1123.07 964.637 L1120.79 961.36 L1118.55 958.06 L1116.33 954.738 L1114.16 951.394 L1112.01 948.028 L1109.9 944.641 L1107.82 941.233 L1105.78 937.804 L1103.77 934.355 \n",
       "  L1101.8 930.886 L1099.86 927.398 L1097.95 923.89 L1096.08 920.364 L1094.25 916.819 L1092.45 913.256 L1090.69 909.675 L1088.96 906.076 L1087.27 902.461 L1085.62 898.829 \n",
       "  L1084 895.18 L1082.42 891.516 L1080.87 887.835 L1079.37 884.14 L1077.89 880.43 L1076.46 876.705 L1075.07 872.966 L1073.71 869.213 L1072.39 865.447 L1071.1 861.668 \n",
       "  L1069.86 857.876 L1068.65 854.072 L1067.48 850.256 L1066.35 846.428 L1065.25 842.589 L1064.2 838.74 L1063.18 834.88 L1062.21 831.011 L1061.27 827.131 L1060.37 823.243 \n",
       "  L1059.51 819.346 L1058.69 815.44 L1057.9 811.526 L1057.16 807.605 L1056.46 803.676 L1055.79 799.741 L1055.16 795.799 L1054.58 791.851 L1054.03 787.898 L1053.52 783.939 \n",
       "  L1053.06 779.975 L1052.63 776.007 L1052.24 772.034 L1051.89 768.058 L1051.58 764.079 L1051.32 760.097 L1051.09 756.112 L1050.9 752.126 L1050.75 748.137 L1050.64 744.148 \n",
       "  L1050.57 740.157 L1050.54 736.166 L1050.55 732.175 L1050.6 728.184 L1050.69 724.194 L1050.82 720.205 L1050.99 716.217 L1051.2 712.231 L1051.45 708.248 L1051.74 704.267 \n",
       "  L1052.07 700.29 L1052.44 696.315 L1052.85 692.345 L1053.3 688.379 L1053.78 684.418 L1054.31 680.462 L1054.88 676.511 L1055.49 672.566 L1056.13 668.628 L1056.82 664.696 \n",
       "  L1057.54 660.771 L1058.31 656.854 L1059.11 652.944 L1059.95 649.043 L1060.83 645.15 L1061.75 641.266 L1062.71 637.392 L1063.71 633.528 L1064.75 629.673 L1065.82 625.829 \n",
       "  L1066.93 621.997 L1068.08 618.175 L1069.27 614.365 L1070.5 610.567 L1071.77 606.782 L1073.07 603.01 L1074.41 599.25 L1075.79 595.505 L1077.21 591.773 L1078.66 588.056 \n",
       "  L1080.15 584.353 L1081.68 580.666 L1083.24 576.994 L1084.84 573.337 L1086.48 569.697 L1088.15 566.074 L1089.86 562.467 L1091.6 558.878 L1093.39 555.306 L1095.2 551.752 \n",
       "  L1097.06 548.217 L1098.94 544.7 L1100.87 541.203 L1102.82 537.725 L1104.82 534.266 L1106.84 530.828 L1108.9 527.41 L1111 524.013 L1113.13 520.637 L1115.29 517.282 \n",
       "  L1117.49 513.949 L1119.71 510.639 L1121.98 507.35 L1124.27 504.085 L1126.6 500.843 L1128.96 497.624 L1131.35 494.429 L1133.77 491.258 L1136.23 488.111 L1138.72 484.989 \n",
       "  L1141.23 481.892 L1143.78 478.821 L1146.36 475.775 L1148.97 472.755 L1151.61 469.761 L1154.28 466.794 L1156.98 463.854 L1159.71 460.94 L1162.46 458.055 L1165.25 455.197 \n",
       "  L1168.06 452.367 L1170.91 449.565 L1173.78 446.792 L1176.68 444.047 L1179.6 441.332 L1182.55 438.646 L1185.53 435.99 L1188.54 433.364 L1191.57 430.767 L1194.63 428.202 \n",
       "  L1197.71 425.667 L1200.82 423.163 L1203.95 420.69 L1207.11 418.249 L1210.29 415.839 L1213.49 413.461 L1216.72 411.116 L1219.98 408.803 L1223.25 406.522 L1226.55 404.275 \n",
       "  L1229.87 402.06 L1233.21 399.879 L1236.58 397.731 L1239.96 395.617 L1243.37 393.537 L1246.8 391.491 L1250.24 389.48 L1253.71 387.503 L1257.2 385.561 L1260.7 383.654 \n",
       "  L1264.23 381.782 L1267.77 379.945 L1271.33 378.144 L1274.91 376.379 L1278.51 374.649 L1282.12 372.956 L1285.76 371.299 L1289.4 369.678 L1293.07 368.094 L1296.74 366.546 \n",
       "  L1300.44 365.035 L1304.15 363.562 L1307.87 362.125 L1311.61 360.726 L1315.36 359.364 L1319.13 358.04 L1322.9 356.753 L1326.7 355.505 L1330.5 354.294 L1334.31 353.122 \n",
       "  L1338.14 351.987 L1341.98 350.891 L1345.83 349.834 L1349.69 348.814 L1353.55 347.834 L1357.43 346.892 L1361.32 345.99 L1365.22 345.126 L1369.12 344.301 L1373.04 343.515 \n",
       "  L1376.96 342.768 L1380.88 342.061 L1384.82 341.393 L1388.76 340.764 L1392.71 340.175 L1396.66 339.625 L1400.62 339.115 L1404.58 338.644 L1408.55 338.213 L1412.52 337.822 \n",
       "  L1416.5 337.47 L1420.48 337.159 L1424.46 336.887 L1428.44 336.655 L1432.43 336.462 L1436.42 336.31 L1440.41 336.198 L1444.4 336.125 L1448.39 336.092 L1449.66 336.09 \n",
       "   Z\n",
       "  \" fill=\"#ff0000\" fill-rule=\"evenodd\" fill-opacity=\"0.5\"/>\n",
       "<polyline clip-path=\"url(#clip672)\" style=\"stroke:#000000; stroke-width:4; stroke-opacity:1; fill:none\" points=\"\n",
       "  1449.66,336.09 1453.65,336.11 1457.64,336.17 1461.63,336.27 1465.62,336.41 1469.61,336.589 1473.59,336.808 1477.58,337.068 1481.56,337.367 1485.53,337.706 \n",
       "  1489.51,338.084 1493.48,338.503 1497.44,338.96 1501.4,339.458 1505.36,339.995 1509.31,340.572 1513.25,341.188 1517.19,341.844 1521.12,342.539 1525.04,343.273 \n",
       "  1528.95,344.046 1532.86,344.859 1536.76,345.71 1540.65,346.601 1544.53,347.53 1548.41,348.498 1552.27,349.505 1556.12,350.55 1559.96,351.634 1563.79,352.756 \n",
       "  1567.61,353.916 1571.42,355.115 1575.21,356.352 1578.99,357.626 1582.76,358.938 1586.52,360.288 1590.26,361.675 1593.99,363.1 1597.7,364.562 1601.4,366.061 \n",
       "  1605.09,367.597 1608.76,369.169 1612.41,370.778 1616.04,372.424 1619.66,374.106 1623.27,375.824 1626.85,377.578 1630.42,379.368 1633.97,381.193 1637.5,383.054 \n",
       "  1641.01,384.95 1644.5,386.881 1647.98,388.847 1651.43,390.847 1654.86,392.882 1658.28,394.951 1661.67,397.054 1665.04,399.191 1668.39,401.362 1671.72,403.566 \n",
       "  1675.02,405.803 1678.31,408.073 1681.57,410.375 1684.8,412.711 1688.02,415.078 1691.2,417.478 1694.37,419.909 1697.51,422.372 1700.63,424.866 1703.72,427.391 \n",
       "  1706.78,429.947 1709.82,432.533 1712.84,435.15 1715.82,437.797 1718.78,440.473 1721.72,443.179 1724.63,445.914 1727.5,448.678 1730.36,451.471 1733.18,454.292 \n",
       "  1735.97,457.141 1738.74,460.018 1741.48,462.923 1744.19,465.855 1746.86,468.813 1749.51,471.799 1752.13,474.81 1754.72,477.848 1757.28,480.911 1759.81,484 \n",
       "  1762.3,487.114 1764.77,490.253 1767.2,493.416 1769.61,496.604 1771.98,499.815 1774.31,503.05 1776.62,506.308 1778.89,509.589 1781.13,512.892 1783.34,516.218 \n",
       "  1785.51,519.566 1787.65,522.935 1789.76,526.325 1791.83,529.737 1793.87,533.169 1795.87,536.621 1797.84,540.093 1799.77,543.584 1801.67,547.095 1803.53,550.624 \n",
       "  1805.36,554.172 1807.15,557.738 1808.91,561.322 1810.63,564.923 1812.32,568.541 1813.97,572.176 1815.58,575.827 1817.15,579.494 1818.69,583.177 1820.19,586.875 \n",
       "  1821.66,590.587 1823.09,594.315 1824.48,598.056 1825.83,601.811 1827.14,605.579 1828.42,609.36 1829.66,613.154 1830.86,616.96 1832.03,620.778 1833.15,624.607 \n",
       "  1834.24,628.448 1835.29,632.299 1836.3,636.16 1837.27,640.031 1838.2,643.912 1839.09,647.802 1839.95,651.701 1840.76,655.608 1841.54,659.523 1842.28,663.445 \n",
       "  1842.98,667.375 1843.63,671.311 1844.25,675.254 1844.83,679.203 1845.37,683.157 1845.88,687.117 1846.34,691.082 1846.76,695.05 1847.14,699.023 1847.48,703 \n",
       "  1847.78,706.98 1848.05,710.962 1848.27,714.947 1848.45,718.934 1848.59,722.923 1848.7,726.913 1848.76,730.903 1848.78,734.895 1848.77,738.886 1848.71,742.877 \n",
       "  1848.61,746.867 1848.48,750.855 1848.3,754.843 1848.08,758.828 1847.83,762.811 1847.53,766.791 1847.2,770.768 1846.82,774.742 1846.41,778.711 1845.95,782.677 \n",
       "  1845.46,786.637 1844.92,790.592 1844.35,794.542 1843.74,798.486 1843.08,802.424 1842.39,806.354 1841.66,810.278 1840.89,814.194 1840.08,818.102 1839.23,822.002 \n",
       "  1838.35,825.894 1837.42,829.776 1836.45,833.649 1835.45,837.512 1834.41,841.364 1833.33,845.207 1832.21,849.038 1831.05,852.857 1829.86,856.665 1828.62,860.461 \n",
       "  1827.35,864.244 1826.04,868.015 1824.69,871.772 1823.31,875.515 1821.89,879.245 1820.43,882.96 1818.93,886.66 1817.4,890.345 1815.83,894.015 1814.22,897.668 \n",
       "  1812.58,901.306 1810.9,904.927 1809.19,908.531 1807.44,912.117 1805.65,915.686 1803.83,919.237 1801.97,922.769 1800.08,926.283 1798.15,929.777 1796.19,933.252 \n",
       "  1794.19,936.708 1792.16,940.143 1790.09,943.557 1787.99,946.951 1785.85,950.324 1783.69,953.675 1781.48,957.004 1779.25,960.311 1776.98,963.596 1774.68,966.858 \n",
       "  1772.35,970.096 1769.99,973.311 1767.59,976.503 1765.16,979.67 1762.7,982.812 1760.21,985.93 1757.69,989.023 1755.13,992.091 1752.55,995.133 1749.93,998.148 \n",
       "  1747.29,1001.14 1744.61,1004.1 1741.91,1007.04 1739.18,1009.95 1736.42,1012.83 1733.63,1015.68 1730.81,1018.51 1727.96,1021.3 1725.09,1024.07 1722.18,1026.81 \n",
       "  1719.25,1029.52 1716.3,1032.2 1713.31,1034.86 1710.3,1037.48 1707.27,1040.07 1704.21,1042.63 1701.12,1045.16 1698.01,1047.66 1694.87,1050.13 1691.71,1052.56 \n",
       "  1688.52,1054.97 1685.32,1057.34 1682.08,1059.68 1678.83,1061.99 1675.55,1064.26 1672.25,1066.51 1668.92,1068.71 1665.58,1070.89 1662.21,1073.03 1658.82,1075.14 \n",
       "  1655.41,1077.22 1651.98,1079.26 1648.53,1081.26 1645.06,1083.23 1641.57,1085.17 1638.06,1087.07 1634.53,1088.94 1630.98,1090.77 1627.42,1092.56 1623.84,1094.32 \n",
       "  1620.24,1096.05 1616.62,1097.74 1612.99,1099.39 1609.34,1101 1605.67,1102.58 1601.99,1104.12 1598.29,1105.63 1594.58,1107.09 1590.86,1108.53 1587.12,1109.92 \n",
       "  1583.36,1111.27 1579.6,1112.59 1575.82,1113.87 1572.02,1115.12 1568.22,1116.32 1564.4,1117.49 1560.57,1118.61 1556.73,1119.7 1552.88,1120.76 1549.02,1121.77 \n",
       "  1545.15,1122.74 1541.27,1123.68 1537.38,1124.58 1533.48,1125.43 1529.58,1126.25 1525.66,1127.03 1521.74,1127.77 1517.81,1128.47 1513.88,1129.13 1509.93,1129.76 \n",
       "  1505.99,1130.34 1502.03,1130.88 1498.07,1131.39 1494.11,1131.85 1490.14,1132.28 1486.17,1132.66 1482.19,1133.01 1478.21,1133.31 1474.23,1133.58 1470.24,1133.8 \n",
       "  1466.26,1133.99 1462.27,1134.14 1458.28,1134.24 1454.29,1134.31 1450.3,1134.33 1446.31,1134.32 1442.32,1134.27 1438.32,1134.17 1434.34,1134.04 1430.35,1133.87 \n",
       "  1426.36,1133.65 1422.38,1133.4 1418.4,1133.11 1414.42,1132.78 1410.45,1132.4 1406.48,1131.99 1402.51,1131.54 1398.55,1131.05 1394.6,1130.52 1390.65,1129.95 \n",
       "  1386.7,1129.34 1382.76,1128.69 1378.83,1128 1374.91,1127.27 1370.99,1126.5 1367.08,1125.7 1363.18,1124.85 1359.29,1123.97 1355.41,1123.05 1351.53,1122.08 \n",
       "  1347.67,1121.08 1343.82,1120.04 1339.97,1118.97 1336.14,1117.85 1332.32,1116.7 1328.51,1115.5 1324.71,1114.27 1320.93,1113 1317.16,1111.7 1313.4,1110.35 \n",
       "  1309.66,1108.97 1305.93,1107.55 1302.21,1106.1 1298.51,1104.61 1294.82,1103.08 1291.15,1101.51 1287.5,1099.91 1283.86,1098.27 1280.23,1096.59 1276.63,1094.88 \n",
       "  1273.04,1093.13 1269.47,1091.34 1265.92,1089.52 1262.39,1087.67 1258.87,1085.78 1255.37,1083.85 1251.9,1081.89 1248.44,1079.9 1245,1077.87 1241.59,1075.81 \n",
       "  1238.19,1073.71 1234.82,1071.58 1231.46,1069.41 1228.13,1067.21 1224.83,1064.98 1221.54,1062.72 1218.28,1060.42 1215.03,1058.09 1211.82,1055.73 1208.62,1053.33 \n",
       "  1205.46,1050.91 1202.31,1048.45 1199.19,1045.96 1196.1,1043.44 1193.03,1040.89 1189.98,1038.31 1186.96,1035.69 1183.97,1033.05 1181.01,1030.38 1178.07,1027.68 \n",
       "  1175.16,1024.95 1172.28,1022.19 1169.42,1019.4 1166.59,1016.58 1163.79,1013.74 1161.02,1010.87 1158.28,1007.97 1155.57,1005.04 1152.88,1002.08 1150.23,999.103 \n",
       "  1147.6,996.096 1145.01,993.062 1142.45,990.003 1139.92,986.918 1137.41,983.808 1134.94,980.673 1132.5,977.514 1130.1,974.33 1127.72,971.123 1125.38,967.892 \n",
       "  1123.07,964.637 1120.79,961.36 1118.55,958.06 1116.33,954.738 1114.16,951.394 1112.01,948.028 1109.9,944.641 1107.82,941.233 1105.78,937.804 1103.77,934.355 \n",
       "  1101.8,930.886 1099.86,927.398 1097.95,923.89 1096.08,920.364 1094.25,916.819 1092.45,913.256 1090.69,909.675 1088.96,906.076 1087.27,902.461 1085.62,898.829 \n",
       "  1084,895.18 1082.42,891.516 1080.87,887.835 1079.37,884.14 1077.89,880.43 1076.46,876.705 1075.07,872.966 1073.71,869.213 1072.39,865.447 1071.1,861.668 \n",
       "  1069.86,857.876 1068.65,854.072 1067.48,850.256 1066.35,846.428 1065.25,842.589 1064.2,838.74 1063.18,834.88 1062.21,831.011 1061.27,827.131 1060.37,823.243 \n",
       "  1059.51,819.346 1058.69,815.44 1057.9,811.526 1057.16,807.605 1056.46,803.676 1055.79,799.741 1055.16,795.799 1054.58,791.851 1054.03,787.898 1053.52,783.939 \n",
       "  1053.06,779.975 1052.63,776.007 1052.24,772.034 1051.89,768.058 1051.58,764.079 1051.32,760.097 1051.09,756.112 1050.9,752.126 1050.75,748.137 1050.64,744.148 \n",
       "  1050.57,740.157 1050.54,736.166 1050.55,732.175 1050.6,728.184 1050.69,724.194 1050.82,720.205 1050.99,716.217 1051.2,712.231 1051.45,708.248 1051.74,704.267 \n",
       "  1052.07,700.29 1052.44,696.315 1052.85,692.345 1053.3,688.379 1053.78,684.418 1054.31,680.462 1054.88,676.511 1055.49,672.566 1056.13,668.628 1056.82,664.696 \n",
       "  1057.54,660.771 1058.31,656.854 1059.11,652.944 1059.95,649.043 1060.83,645.15 1061.75,641.266 1062.71,637.392 1063.71,633.528 1064.75,629.673 1065.82,625.829 \n",
       "  1066.93,621.997 1068.08,618.175 1069.27,614.365 1070.5,610.567 1071.77,606.782 1073.07,603.01 1074.41,599.25 1075.79,595.505 1077.21,591.773 1078.66,588.056 \n",
       "  1080.15,584.353 1081.68,580.666 1083.24,576.994 1084.84,573.337 1086.48,569.697 1088.15,566.074 1089.86,562.467 1091.6,558.878 1093.39,555.306 1095.2,551.752 \n",
       "  1097.06,548.217 1098.94,544.7 1100.87,541.203 1102.82,537.725 1104.82,534.266 1106.84,530.828 1108.9,527.41 1111,524.013 1113.13,520.637 1115.29,517.282 \n",
       "  1117.49,513.949 1119.71,510.639 1121.98,507.35 1124.27,504.085 1126.6,500.843 1128.96,497.624 1131.35,494.429 1133.77,491.258 1136.23,488.111 1138.72,484.989 \n",
       "  1141.23,481.892 1143.78,478.821 1146.36,475.775 1148.97,472.755 1151.61,469.761 1154.28,466.794 1156.98,463.854 1159.71,460.94 1162.46,458.055 1165.25,455.197 \n",
       "  1168.06,452.367 1170.91,449.565 1173.78,446.792 1176.68,444.047 1179.6,441.332 1182.55,438.646 1185.53,435.99 1188.54,433.364 1191.57,430.767 1194.63,428.202 \n",
       "  1197.71,425.667 1200.82,423.163 1203.95,420.69 1207.11,418.249 1210.29,415.839 1213.49,413.461 1216.72,411.116 1219.98,408.803 1223.25,406.522 1226.55,404.275 \n",
       "  1229.87,402.06 1233.21,399.879 1236.58,397.731 1239.96,395.617 1243.37,393.537 1246.8,391.491 1250.24,389.48 1253.71,387.503 1257.2,385.561 1260.7,383.654 \n",
       "  1264.23,381.782 1267.77,379.945 1271.33,378.144 1274.91,376.379 1278.51,374.649 1282.12,372.956 1285.76,371.299 1289.4,369.678 1293.07,368.094 1296.74,366.546 \n",
       "  1300.44,365.035 1304.15,363.562 1307.87,362.125 1311.61,360.726 1315.36,359.364 1319.13,358.04 1322.9,356.753 1326.7,355.505 1330.5,354.294 1334.31,353.122 \n",
       "  1338.14,351.987 1341.98,350.891 1345.83,349.834 1349.69,348.814 1353.55,347.834 1357.43,346.892 1361.32,345.99 1365.22,345.126 1369.12,344.301 1373.04,343.515 \n",
       "  1376.96,342.768 1380.88,342.061 1384.82,341.393 1388.76,340.764 1392.71,340.175 1396.66,339.625 1400.62,339.115 1404.58,338.644 1408.55,338.213 1412.52,337.822 \n",
       "  1416.5,337.47 1420.48,337.159 1424.46,336.887 1428.44,336.655 1432.43,336.462 1436.42,336.31 1440.41,336.198 1444.4,336.125 1448.39,336.092 1449.66,336.09 \n",
       "  \n",
       "  \"/>\n",
       "<path clip-path=\"url(#clip672)\" d=\"\n",
       "M1649.58 417.79 L1652.75 417.806 L1655.93 417.853 L1659.1 417.933 L1662.27 418.044 L1665.44 418.187 L1668.61 418.361 L1671.78 418.567 L1674.95 418.805 L1678.11 419.075 \n",
       "  L1681.27 419.376 L1684.43 419.708 L1687.58 420.073 L1690.73 420.468 L1693.87 420.895 L1697.01 421.354 L1700.15 421.844 L1703.28 422.366 L1706.41 422.918 L1709.53 423.502 \n",
       "  L1712.64 424.117 L1715.75 424.763 L1718.85 425.441 L1721.95 426.149 L1725.03 426.888 L1728.11 427.658 L1731.18 428.458 L1734.25 429.29 L1737.3 430.152 L1740.35 431.044 \n",
       "  L1743.38 431.967 L1746.41 432.92 L1749.43 433.904 L1752.44 434.917 L1755.44 435.961 L1758.42 437.034 L1761.4 438.138 L1764.36 439.271 L1767.32 440.433 L1770.26 441.625 \n",
       "  L1773.19 442.847 L1776.11 444.098 L1779.01 445.377 L1781.9 446.686 L1784.78 448.024 L1787.65 449.39 L1790.5 450.785 L1793.34 452.208 L1796.16 453.66 L1798.97 455.14 \n",
       "  L1801.76 456.648 L1804.54 458.184 L1807.3 459.747 L1810.05 461.338 L1812.78 462.956 L1815.49 464.602 L1818.19 466.274 L1820.87 467.974 L1823.54 469.7 L1826.18 471.453 \n",
       "  L1828.81 473.232 L1831.42 475.038 L1834.01 476.869 L1836.59 478.726 L1839.14 480.609 L1841.68 482.517 L1844.2 484.451 L1846.69 486.41 L1849.17 488.393 L1851.63 490.401 \n",
       "  L1854.07 492.434 L1856.49 494.491 L1858.88 496.572 L1861.26 498.677 L1863.61 500.806 L1865.95 502.958 L1868.26 505.133 L1870.55 507.331 L1872.82 509.552 L1875.06 511.796 \n",
       "  L1877.28 514.062 L1879.48 516.35 L1881.66 518.66 L1883.82 520.992 L1885.95 523.345 L1888.05 525.719 L1890.14 528.114 L1892.2 530.53 L1894.23 532.966 L1896.24 535.423 \n",
       "  L1898.23 537.899 L1900.19 540.396 L1902.12 542.911 L1904.03 545.446 L1905.92 548 L1907.78 550.573 L1909.61 553.164 L1911.42 555.774 L1913.2 558.401 L1914.95 561.046 \n",
       "  L1916.68 563.708 L1918.38 566.388 L1920.06 569.084 L1921.71 571.797 L1923.33 574.527 L1924.92 577.272 L1926.49 580.033 L1928.02 582.81 L1929.53 585.602 L1931.02 588.409 \n",
       "  L1932.47 591.231 L1933.89 594.067 L1935.29 596.917 L1936.66 599.781 L1938 602.658 L1939.31 605.549 L1940.59 608.453 L1941.85 611.369 L1943.07 614.298 L1944.27 617.239 \n",
       "  L1945.43 620.192 L1946.57 623.156 L1947.67 626.131 L1948.75 629.118 L1949.79 632.115 L1950.81 635.122 L1951.79 638.139 L1952.75 641.166 L1953.68 644.203 L1954.57 647.248 \n",
       "  L1955.43 650.302 L1956.27 653.365 L1957.07 656.436 L1957.84 659.515 L1958.59 662.601 L1959.3 665.695 L1959.98 668.795 L1960.62 671.903 L1961.24 675.016 L1961.83 678.136 \n",
       "  L1962.38 681.261 L1962.91 684.392 L1963.4 687.527 L1963.86 690.668 L1964.29 693.813 L1964.69 696.962 L1965.06 700.115 L1965.39 703.272 L1965.69 706.431 L1965.97 709.594 \n",
       "  L1966.21 712.759 L1966.42 715.926 L1966.59 719.095 L1966.74 722.266 L1966.85 725.438 L1966.93 728.612 L1966.98 731.785 L1967 734.96 L1966.99 738.134 L1966.94 741.308 \n",
       "  L1966.87 744.481 L1966.76 747.653 L1966.62 750.824 L1966.45 753.994 L1966.24 757.162 L1966.01 760.327 L1965.74 763.49 L1965.44 766.65 L1965.11 769.807 L1964.75 772.961 \n",
       "  L1964.36 776.111 L1963.93 779.256 L1963.48 782.397 L1962.99 785.534 L1962.47 788.666 L1961.92 791.792 L1961.34 794.912 L1960.73 798.027 L1960.08 801.135 L1959.41 804.237 \n",
       "  L1958.7 807.331 L1957.96 810.419 L1957.2 813.499 L1956.4 816.571 L1955.57 819.635 L1954.71 822.691 L1953.82 825.738 L1952.9 828.776 L1951.95 831.804 L1950.97 834.823 \n",
       "  L1949.96 837.832 L1948.92 840.83 L1947.84 843.818 L1946.74 846.796 L1945.61 849.762 L1944.45 852.716 L1943.26 855.659 L1942.04 858.59 L1940.8 861.508 L1939.52 864.414 \n",
       "  L1938.21 867.307 L1936.88 870.186 L1935.51 873.053 L1934.12 875.905 L1932.7 878.743 L1931.25 881.567 L1929.77 884.377 L1928.27 887.171 L1926.73 889.95 L1925.17 892.714 \n",
       "  L1923.58 895.462 L1921.97 898.194 L1920.32 900.91 L1918.65 903.609 L1916.95 906.291 L1915.23 908.956 L1913.48 911.604 L1911.7 914.234 L1909.9 916.846 L1908.07 919.44 \n",
       "  L1906.21 922.016 L1904.33 924.573 L1902.43 927.111 L1900.5 929.63 L1898.54 932.129 L1896.56 934.609 L1894.55 937.069 L1892.52 939.508 L1890.47 941.927 L1888.39 944.326 \n",
       "  L1886.28 946.703 L1884.16 949.06 L1882.01 951.395 L1879.83 953.708 L1877.64 956 L1875.42 958.269 L1873.18 960.517 L1870.91 962.741 L1868.63 964.943 L1866.32 967.122 \n",
       "  L1863.99 969.278 L1861.64 971.41 L1859.26 973.519 L1856.87 975.604 L1854.46 977.665 L1852.02 979.701 L1849.57 981.713 L1847.09 983.701 L1844.6 985.663 L1842.08 987.601 \n",
       "  L1839.55 989.513 L1837 991.4 L1834.42 993.262 L1831.84 995.097 L1829.23 996.907 L1826.6 998.69 L1823.96 1000.45 L1821.3 1002.18 L1818.62 1003.88 L1815.92 1005.56 \n",
       "  L1813.21 1007.21 L1810.48 1008.83 L1807.74 1010.43 L1804.98 1011.99 L1802.2 1013.53 L1799.41 1015.05 L1796.61 1016.53 L1793.79 1017.99 L1790.95 1019.41 L1788.1 1020.81 \n",
       "  L1785.24 1022.19 L1782.36 1023.53 L1779.47 1024.84 L1776.57 1026.13 L1773.66 1027.38 L1770.73 1028.61 L1767.79 1029.8 L1764.84 1030.97 L1761.87 1032.11 L1758.9 1033.22 \n",
       "  L1755.91 1034.3 L1752.92 1035.34 L1749.91 1036.36 L1746.89 1037.35 L1743.87 1038.31 L1740.83 1039.24 L1737.79 1040.13 L1734.73 1041 L1731.67 1041.84 L1728.6 1042.64 \n",
       "  L1725.52 1043.42 L1722.44 1044.16 L1719.34 1044.87 L1716.24 1045.56 L1713.14 1046.21 L1710.02 1046.83 L1706.91 1047.42 L1703.78 1047.97 L1700.65 1048.5 L1697.51 1048.99 \n",
       "  L1694.37 1049.46 L1691.23 1049.89 L1688.08 1050.29 L1684.93 1050.66 L1681.77 1051 L1678.61 1051.3 L1675.45 1051.58 L1672.29 1051.82 L1669.12 1052.03 L1665.95 1052.21 \n",
       "  L1662.78 1052.36 L1659.61 1052.48 L1656.43 1052.56 L1653.26 1052.61 L1650.09 1052.63 L1646.91 1052.62 L1643.74 1052.58 L1640.56 1052.51 L1637.39 1052.4 L1634.22 1052.26 \n",
       "  L1631.05 1052.09 L1627.88 1051.89 L1624.72 1051.66 L1621.55 1051.4 L1618.39 1051.1 L1615.24 1050.77 L1612.08 1050.41 L1608.93 1050.02 L1605.79 1049.6 L1602.64 1049.15 \n",
       "  L1599.51 1048.66 L1596.38 1048.14 L1593.25 1047.6 L1590.13 1047.02 L1587.01 1046.41 L1583.9 1045.77 L1580.8 1045.09 L1577.71 1044.39 L1574.62 1043.66 L1571.54 1042.89 \n",
       "  L1568.47 1042.1 L1565.4 1041.27 L1562.34 1040.41 L1559.3 1039.52 L1556.26 1038.61 L1553.23 1037.66 L1550.21 1036.68 L1547.2 1035.67 L1544.2 1034.63 L1541.21 1033.56 \n",
       "  L1538.23 1032.46 L1535.27 1031.34 L1532.31 1030.18 L1529.37 1028.99 L1526.44 1027.77 L1523.52 1026.53 L1520.61 1025.25 L1517.72 1023.95 L1514.83 1022.62 L1511.97 1021.25 \n",
       "  L1509.11 1019.86 L1506.27 1018.44 L1503.45 1017 L1500.64 1015.52 L1497.84 1014.02 L1495.06 1012.49 L1492.3 1010.93 L1489.55 1009.34 L1486.82 1007.73 L1484.1 1006.09 \n",
       "  L1481.4 1004.42 L1478.71 1002.72 L1476.05 1001 L1473.4 999.253 L1470.77 997.478 L1468.15 995.676 L1465.56 993.849 L1462.98 991.996 L1460.42 990.117 L1457.88 988.213 \n",
       "  L1455.36 986.283 L1452.86 984.329 L1450.38 982.349 L1447.92 980.345 L1445.48 978.316 L1443.06 976.263 L1440.66 974.186 L1438.28 972.084 L1435.92 969.96 L1433.58 967.811 \n",
       "  L1431.27 965.64 L1428.97 963.445 L1426.7 961.228 L1424.45 958.988 L1422.23 956.725 L1420.02 954.441 L1417.84 952.134 L1415.69 949.806 L1413.55 947.456 L1411.44 945.085 \n",
       "  L1409.35 942.694 L1407.29 940.281 L1405.25 937.848 L1403.24 935.395 L1401.25 932.921 L1399.28 930.428 L1397.34 927.915 L1395.43 925.383 L1393.54 922.832 L1391.68 920.263 \n",
       "  L1389.84 917.674 L1388.03 915.068 L1386.24 912.444 L1384.48 909.801 L1382.75 907.142 L1381.05 904.465 L1379.37 901.771 L1377.71 899.061 L1376.09 896.334 L1374.49 893.591 \n",
       "  L1372.92 890.832 L1371.38 888.058 L1369.87 885.268 L1368.38 882.464 L1366.92 879.644 L1365.49 876.811 L1364.09 873.963 L1362.72 871.101 L1361.37 868.225 L1360.05 865.337 \n",
       "  L1358.77 862.435 L1357.51 859.521 L1356.28 856.594 L1355.08 853.655 L1353.91 850.704 L1352.77 847.742 L1351.66 844.768 L1350.58 841.783 L1349.53 838.788 L1348.51 835.782 \n",
       "  L1347.52 832.767 L1346.56 829.741 L1345.63 826.706 L1344.73 823.662 L1343.86 820.61 L1343.02 817.548 L1342.21 814.478 L1341.44 811.401 L1340.69 808.316 L1339.97 805.223 \n",
       "  L1339.29 802.124 L1338.64 799.018 L1338.01 795.905 L1337.42 792.786 L1336.86 789.662 L1336.33 786.532 L1335.84 783.397 L1335.37 780.257 L1334.93 777.113 L1334.53 773.964 \n",
       "  L1334.16 770.812 L1333.82 767.656 L1333.51 764.497 L1333.23 761.335 L1332.99 758.17 L1332.77 755.003 L1332.59 751.834 L1332.44 748.664 L1332.32 745.492 L1332.24 742.319 \n",
       "  L1332.18 739.145 L1332.16 735.971 L1332.17 732.796 L1332.21 729.623 L1332.28 726.449 L1332.38 723.277 L1332.52 720.105 L1332.68 716.935 L1332.88 713.767 L1333.11 710.602 \n",
       "  L1333.37 707.438 L1333.67 704.278 L1333.99 701.12 L1334.35 697.966 L1334.74 694.816 L1335.16 691.669 L1335.61 688.527 L1336.09 685.39 L1336.61 682.258 L1337.15 679.131 \n",
       "  L1337.73 676.009 L1338.33 672.894 L1338.97 669.784 L1339.64 666.682 L1340.34 663.586 L1341.08 660.497 L1341.84 657.416 L1342.63 654.342 L1343.46 651.277 L1344.31 648.22 \n",
       "  L1345.2 645.172 L1346.11 642.132 L1347.06 639.102 L1348.03 636.082 L1349.04 633.072 L1350.08 630.071 L1351.14 627.082 L1352.24 624.103 L1353.36 621.135 L1354.52 618.178 \n",
       "  L1355.71 615.234 L1356.92 612.301 L1358.16 609.381 L1359.44 606.473 L1360.74 603.578 L1362.07 600.696 L1363.43 597.828 L1364.82 594.973 L1366.23 592.133 L1367.68 589.306 \n",
       "  L1369.15 586.495 L1370.65 583.698 L1372.18 580.916 L1373.74 578.15 L1375.32 575.399 L1376.93 572.665 L1378.57 569.947 L1380.24 567.245 L1381.93 564.56 L1383.65 561.892 \n",
       "  L1385.4 559.241 L1387.17 556.608 L1388.97 553.993 L1390.8 551.396 L1392.65 548.818 L1394.52 546.258 L1396.43 543.717 L1398.35 541.195 L1400.31 538.692 L1402.28 536.21 \n",
       "  L1404.29 533.747 L1406.31 531.304 L1408.37 528.881 L1410.44 526.48 L1412.54 524.099 L1414.66 521.739 L1416.81 519.4 L1418.98 517.083 L1421.17 514.788 L1423.39 512.515 \n",
       "  L1425.63 510.265 L1427.89 508.036 L1430.17 505.831 L1432.47 503.648 L1434.8 501.489 L1437.15 499.353 L1439.52 497.24 L1441.91 495.151 L1444.32 493.087 L1446.75 491.046 \n",
       "  L1449.2 489.03 L1451.67 487.039 L1454.16 485.072 L1456.68 483.131 L1459.21 481.214 L1461.76 479.323 L1464.32 477.458 L1466.91 475.618 L1469.52 473.804 L1472.14 472.017 \n",
       "  L1474.78 470.256 L1477.44 468.521 L1480.11 466.813 L1482.81 465.132 L1485.52 463.478 L1488.24 461.85 L1490.98 460.251 L1493.74 458.679 L1496.51 457.134 L1499.3 455.617 \n",
       "  L1502.1 454.129 L1504.92 452.668 L1507.76 451.235 L1510.6 449.831 L1513.46 448.456 L1516.34 447.109 L1519.22 445.791 L1522.13 444.502 L1525.04 443.242 L1527.96 442.011 \n",
       "  L1530.9 440.81 L1533.85 439.638 L1536.81 438.495 L1539.79 437.382 L1542.77 436.299 L1545.77 435.246 L1548.77 434.223 L1551.78 433.23 L1554.81 432.267 L1557.84 431.335 \n",
       "  L1560.89 430.433 L1563.94 429.561 L1567 428.72 L1570.07 427.909 L1573.15 427.13 L1576.23 426.381 L1579.32 425.663 L1582.42 424.976 L1585.53 424.32 L1588.64 423.695 \n",
       "  L1591.76 423.101 L1594.88 422.538 L1598.01 422.007 L1601.15 421.507 L1604.28 421.038 L1607.43 420.601 L1610.58 420.195 L1613.73 419.821 L1616.88 419.478 L1620.04 419.167 \n",
       "  L1623.21 418.887 L1626.37 418.64 L1629.54 418.423 L1632.71 418.239 L1635.88 418.086 L1639.05 417.965 L1642.22 417.875 L1645.39 417.817 L1648.57 417.791 L1649.58 417.79 \n",
       "   Z\n",
       "  \" fill=\"#ff0000\" fill-rule=\"evenodd\" fill-opacity=\"0.5\"/>\n",
       "<polyline clip-path=\"url(#clip672)\" style=\"stroke:#000000; stroke-width:4; stroke-opacity:1; fill:none\" points=\"\n",
       "  1649.58,417.79 1652.75,417.806 1655.93,417.853 1659.1,417.933 1662.27,418.044 1665.44,418.187 1668.61,418.361 1671.78,418.567 1674.95,418.805 1678.11,419.075 \n",
       "  1681.27,419.376 1684.43,419.708 1687.58,420.073 1690.73,420.468 1693.87,420.895 1697.01,421.354 1700.15,421.844 1703.28,422.366 1706.41,422.918 1709.53,423.502 \n",
       "  1712.64,424.117 1715.75,424.763 1718.85,425.441 1721.95,426.149 1725.03,426.888 1728.11,427.658 1731.18,428.458 1734.25,429.29 1737.3,430.152 1740.35,431.044 \n",
       "  1743.38,431.967 1746.41,432.92 1749.43,433.904 1752.44,434.917 1755.44,435.961 1758.42,437.034 1761.4,438.138 1764.36,439.271 1767.32,440.433 1770.26,441.625 \n",
       "  1773.19,442.847 1776.11,444.098 1779.01,445.377 1781.9,446.686 1784.78,448.024 1787.65,449.39 1790.5,450.785 1793.34,452.208 1796.16,453.66 1798.97,455.14 \n",
       "  1801.76,456.648 1804.54,458.184 1807.3,459.747 1810.05,461.338 1812.78,462.956 1815.49,464.602 1818.19,466.274 1820.87,467.974 1823.54,469.7 1826.18,471.453 \n",
       "  1828.81,473.232 1831.42,475.038 1834.01,476.869 1836.59,478.726 1839.14,480.609 1841.68,482.517 1844.2,484.451 1846.69,486.41 1849.17,488.393 1851.63,490.401 \n",
       "  1854.07,492.434 1856.49,494.491 1858.88,496.572 1861.26,498.677 1863.61,500.806 1865.95,502.958 1868.26,505.133 1870.55,507.331 1872.82,509.552 1875.06,511.796 \n",
       "  1877.28,514.062 1879.48,516.35 1881.66,518.66 1883.82,520.992 1885.95,523.345 1888.05,525.719 1890.14,528.114 1892.2,530.53 1894.23,532.966 1896.24,535.423 \n",
       "  1898.23,537.899 1900.19,540.396 1902.12,542.911 1904.03,545.446 1905.92,548 1907.78,550.573 1909.61,553.164 1911.42,555.774 1913.2,558.401 1914.95,561.046 \n",
       "  1916.68,563.708 1918.38,566.388 1920.06,569.084 1921.71,571.797 1923.33,574.527 1924.92,577.272 1926.49,580.033 1928.02,582.81 1929.53,585.602 1931.02,588.409 \n",
       "  1932.47,591.231 1933.89,594.067 1935.29,596.917 1936.66,599.781 1938,602.658 1939.31,605.549 1940.59,608.453 1941.85,611.369 1943.07,614.298 1944.27,617.239 \n",
       "  1945.43,620.192 1946.57,623.156 1947.67,626.131 1948.75,629.118 1949.79,632.115 1950.81,635.122 1951.79,638.139 1952.75,641.166 1953.68,644.203 1954.57,647.248 \n",
       "  1955.43,650.302 1956.27,653.365 1957.07,656.436 1957.84,659.515 1958.59,662.601 1959.3,665.695 1959.98,668.795 1960.62,671.903 1961.24,675.016 1961.83,678.136 \n",
       "  1962.38,681.261 1962.91,684.392 1963.4,687.527 1963.86,690.668 1964.29,693.813 1964.69,696.962 1965.06,700.115 1965.39,703.272 1965.69,706.431 1965.97,709.594 \n",
       "  1966.21,712.759 1966.42,715.926 1966.59,719.095 1966.74,722.266 1966.85,725.438 1966.93,728.612 1966.98,731.785 1967,734.96 1966.99,738.134 1966.94,741.308 \n",
       "  1966.87,744.481 1966.76,747.653 1966.62,750.824 1966.45,753.994 1966.24,757.162 1966.01,760.327 1965.74,763.49 1965.44,766.65 1965.11,769.807 1964.75,772.961 \n",
       "  1964.36,776.111 1963.93,779.256 1963.48,782.397 1962.99,785.534 1962.47,788.666 1961.92,791.792 1961.34,794.912 1960.73,798.027 1960.08,801.135 1959.41,804.237 \n",
       "  1958.7,807.331 1957.96,810.419 1957.2,813.499 1956.4,816.571 1955.57,819.635 1954.71,822.691 1953.82,825.738 1952.9,828.776 1951.95,831.804 1950.97,834.823 \n",
       "  1949.96,837.832 1948.92,840.83 1947.84,843.818 1946.74,846.796 1945.61,849.762 1944.45,852.716 1943.26,855.659 1942.04,858.59 1940.8,861.508 1939.52,864.414 \n",
       "  1938.21,867.307 1936.88,870.186 1935.51,873.053 1934.12,875.905 1932.7,878.743 1931.25,881.567 1929.77,884.377 1928.27,887.171 1926.73,889.95 1925.17,892.714 \n",
       "  1923.58,895.462 1921.97,898.194 1920.32,900.91 1918.65,903.609 1916.95,906.291 1915.23,908.956 1913.48,911.604 1911.7,914.234 1909.9,916.846 1908.07,919.44 \n",
       "  1906.21,922.016 1904.33,924.573 1902.43,927.111 1900.5,929.63 1898.54,932.129 1896.56,934.609 1894.55,937.069 1892.52,939.508 1890.47,941.927 1888.39,944.326 \n",
       "  1886.28,946.703 1884.16,949.06 1882.01,951.395 1879.83,953.708 1877.64,956 1875.42,958.269 1873.18,960.517 1870.91,962.741 1868.63,964.943 1866.32,967.122 \n",
       "  1863.99,969.278 1861.64,971.41 1859.26,973.519 1856.87,975.604 1854.46,977.665 1852.02,979.701 1849.57,981.713 1847.09,983.701 1844.6,985.663 1842.08,987.601 \n",
       "  1839.55,989.513 1837,991.4 1834.42,993.262 1831.84,995.097 1829.23,996.907 1826.6,998.69 1823.96,1000.45 1821.3,1002.18 1818.62,1003.88 1815.92,1005.56 \n",
       "  1813.21,1007.21 1810.48,1008.83 1807.74,1010.43 1804.98,1011.99 1802.2,1013.53 1799.41,1015.05 1796.61,1016.53 1793.79,1017.99 1790.95,1019.41 1788.1,1020.81 \n",
       "  1785.24,1022.19 1782.36,1023.53 1779.47,1024.84 1776.57,1026.13 1773.66,1027.38 1770.73,1028.61 1767.79,1029.8 1764.84,1030.97 1761.87,1032.11 1758.9,1033.22 \n",
       "  1755.91,1034.3 1752.92,1035.34 1749.91,1036.36 1746.89,1037.35 1743.87,1038.31 1740.83,1039.24 1737.79,1040.13 1734.73,1041 1731.67,1041.84 1728.6,1042.64 \n",
       "  1725.52,1043.42 1722.44,1044.16 1719.34,1044.87 1716.24,1045.56 1713.14,1046.21 1710.02,1046.83 1706.91,1047.42 1703.78,1047.97 1700.65,1048.5 1697.51,1048.99 \n",
       "  1694.37,1049.46 1691.23,1049.89 1688.08,1050.29 1684.93,1050.66 1681.77,1051 1678.61,1051.3 1675.45,1051.58 1672.29,1051.82 1669.12,1052.03 1665.95,1052.21 \n",
       "  1662.78,1052.36 1659.61,1052.48 1656.43,1052.56 1653.26,1052.61 1650.09,1052.63 1646.91,1052.62 1643.74,1052.58 1640.56,1052.51 1637.39,1052.4 1634.22,1052.26 \n",
       "  1631.05,1052.09 1627.88,1051.89 1624.72,1051.66 1621.55,1051.4 1618.39,1051.1 1615.24,1050.77 1612.08,1050.41 1608.93,1050.02 1605.79,1049.6 1602.64,1049.15 \n",
       "  1599.51,1048.66 1596.38,1048.14 1593.25,1047.6 1590.13,1047.02 1587.01,1046.41 1583.9,1045.77 1580.8,1045.09 1577.71,1044.39 1574.62,1043.66 1571.54,1042.89 \n",
       "  1568.47,1042.1 1565.4,1041.27 1562.34,1040.41 1559.3,1039.52 1556.26,1038.61 1553.23,1037.66 1550.21,1036.68 1547.2,1035.67 1544.2,1034.63 1541.21,1033.56 \n",
       "  1538.23,1032.46 1535.27,1031.34 1532.31,1030.18 1529.37,1028.99 1526.44,1027.77 1523.52,1026.53 1520.61,1025.25 1517.72,1023.95 1514.83,1022.62 1511.97,1021.25 \n",
       "  1509.11,1019.86 1506.27,1018.44 1503.45,1017 1500.64,1015.52 1497.84,1014.02 1495.06,1012.49 1492.3,1010.93 1489.55,1009.34 1486.82,1007.73 1484.1,1006.09 \n",
       "  1481.4,1004.42 1478.71,1002.72 1476.05,1001 1473.4,999.253 1470.77,997.478 1468.15,995.676 1465.56,993.849 1462.98,991.996 1460.42,990.117 1457.88,988.213 \n",
       "  1455.36,986.283 1452.86,984.329 1450.38,982.349 1447.92,980.345 1445.48,978.316 1443.06,976.263 1440.66,974.186 1438.28,972.084 1435.92,969.96 1433.58,967.811 \n",
       "  1431.27,965.64 1428.97,963.445 1426.7,961.228 1424.45,958.988 1422.23,956.725 1420.02,954.441 1417.84,952.134 1415.69,949.806 1413.55,947.456 1411.44,945.085 \n",
       "  1409.35,942.694 1407.29,940.281 1405.25,937.848 1403.24,935.395 1401.25,932.921 1399.28,930.428 1397.34,927.915 1395.43,925.383 1393.54,922.832 1391.68,920.263 \n",
       "  1389.84,917.674 1388.03,915.068 1386.24,912.444 1384.48,909.801 1382.75,907.142 1381.05,904.465 1379.37,901.771 1377.71,899.061 1376.09,896.334 1374.49,893.591 \n",
       "  1372.92,890.832 1371.38,888.058 1369.87,885.268 1368.38,882.464 1366.92,879.644 1365.49,876.811 1364.09,873.963 1362.72,871.101 1361.37,868.225 1360.05,865.337 \n",
       "  1358.77,862.435 1357.51,859.521 1356.28,856.594 1355.08,853.655 1353.91,850.704 1352.77,847.742 1351.66,844.768 1350.58,841.783 1349.53,838.788 1348.51,835.782 \n",
       "  1347.52,832.767 1346.56,829.741 1345.63,826.706 1344.73,823.662 1343.86,820.61 1343.02,817.548 1342.21,814.478 1341.44,811.401 1340.69,808.316 1339.97,805.223 \n",
       "  1339.29,802.124 1338.64,799.018 1338.01,795.905 1337.42,792.786 1336.86,789.662 1336.33,786.532 1335.84,783.397 1335.37,780.257 1334.93,777.113 1334.53,773.964 \n",
       "  1334.16,770.812 1333.82,767.656 1333.51,764.497 1333.23,761.335 1332.99,758.17 1332.77,755.003 1332.59,751.834 1332.44,748.664 1332.32,745.492 1332.24,742.319 \n",
       "  1332.18,739.145 1332.16,735.971 1332.17,732.796 1332.21,729.623 1332.28,726.449 1332.38,723.277 1332.52,720.105 1332.68,716.935 1332.88,713.767 1333.11,710.602 \n",
       "  1333.37,707.438 1333.67,704.278 1333.99,701.12 1334.35,697.966 1334.74,694.816 1335.16,691.669 1335.61,688.527 1336.09,685.39 1336.61,682.258 1337.15,679.131 \n",
       "  1337.73,676.009 1338.33,672.894 1338.97,669.784 1339.64,666.682 1340.34,663.586 1341.08,660.497 1341.84,657.416 1342.63,654.342 1343.46,651.277 1344.31,648.22 \n",
       "  1345.2,645.172 1346.11,642.132 1347.06,639.102 1348.03,636.082 1349.04,633.072 1350.08,630.071 1351.14,627.082 1352.24,624.103 1353.36,621.135 1354.52,618.178 \n",
       "  1355.71,615.234 1356.92,612.301 1358.16,609.381 1359.44,606.473 1360.74,603.578 1362.07,600.696 1363.43,597.828 1364.82,594.973 1366.23,592.133 1367.68,589.306 \n",
       "  1369.15,586.495 1370.65,583.698 1372.18,580.916 1373.74,578.15 1375.32,575.399 1376.93,572.665 1378.57,569.947 1380.24,567.245 1381.93,564.56 1383.65,561.892 \n",
       "  1385.4,559.241 1387.17,556.608 1388.97,553.993 1390.8,551.396 1392.65,548.818 1394.52,546.258 1396.43,543.717 1398.35,541.195 1400.31,538.692 1402.28,536.21 \n",
       "  1404.29,533.747 1406.31,531.304 1408.37,528.881 1410.44,526.48 1412.54,524.099 1414.66,521.739 1416.81,519.4 1418.98,517.083 1421.17,514.788 1423.39,512.515 \n",
       "  1425.63,510.265 1427.89,508.036 1430.17,505.831 1432.47,503.648 1434.8,501.489 1437.15,499.353 1439.52,497.24 1441.91,495.151 1444.32,493.087 1446.75,491.046 \n",
       "  1449.2,489.03 1451.67,487.039 1454.16,485.072 1456.68,483.131 1459.21,481.214 1461.76,479.323 1464.32,477.458 1466.91,475.618 1469.52,473.804 1472.14,472.017 \n",
       "  1474.78,470.256 1477.44,468.521 1480.11,466.813 1482.81,465.132 1485.52,463.478 1488.24,461.85 1490.98,460.251 1493.74,458.679 1496.51,457.134 1499.3,455.617 \n",
       "  1502.1,454.129 1504.92,452.668 1507.76,451.235 1510.6,449.831 1513.46,448.456 1516.34,447.109 1519.22,445.791 1522.13,444.502 1525.04,443.242 1527.96,442.011 \n",
       "  1530.9,440.81 1533.85,439.638 1536.81,438.495 1539.79,437.382 1542.77,436.299 1545.77,435.246 1548.77,434.223 1551.78,433.23 1554.81,432.267 1557.84,431.335 \n",
       "  1560.89,430.433 1563.94,429.561 1567,428.72 1570.07,427.909 1573.15,427.13 1576.23,426.381 1579.32,425.663 1582.42,424.976 1585.53,424.32 1588.64,423.695 \n",
       "  1591.76,423.101 1594.88,422.538 1598.01,422.007 1601.15,421.507 1604.28,421.038 1607.43,420.601 1610.58,420.195 1613.73,419.821 1616.88,419.478 1620.04,419.167 \n",
       "  1623.21,418.887 1626.37,418.64 1629.54,418.423 1632.71,418.239 1635.88,418.086 1639.05,417.965 1642.22,417.875 1645.39,417.817 1648.57,417.791 1649.58,417.79 \n",
       "  \n",
       "  \"/>\n",
       "<circle clip-path=\"url(#clip672)\" cx=\"1356.56\" cy=\"735.212\" r=\"14\" fill=\"#0000ff\" fill-rule=\"evenodd\" fill-opacity=\"1\" stroke=\"#000000\" stroke-opacity=\"1\" stroke-width=\"3.2\"/>\n",
       "<circle clip-path=\"url(#clip672)\" cx=\"1511.26\" cy=\"735.212\" r=\"14\" fill=\"#0000ff\" fill-rule=\"evenodd\" fill-opacity=\"1\" stroke=\"#000000\" stroke-opacity=\"1\" stroke-width=\"3.2\"/>\n",
       "<circle clip-path=\"url(#clip672)\" cx=\"1702.21\" cy=\"735.212\" r=\"14\" fill=\"#0000ff\" fill-rule=\"evenodd\" fill-opacity=\"1\" stroke=\"#000000\" stroke-opacity=\"1\" stroke-width=\"3.2\"/>\n",
       "<circle clip-path=\"url(#clip672)\" cx=\"1486.58\" cy=\"735.212\" r=\"14\" fill=\"#0000ff\" fill-rule=\"evenodd\" fill-opacity=\"1\" stroke=\"#000000\" stroke-opacity=\"1\" stroke-width=\"3.2\"/>\n",
       "<circle clip-path=\"url(#clip672)\" cx=\"1407.05\" cy=\"735.212\" r=\"14\" fill=\"#0000ff\" fill-rule=\"evenodd\" fill-opacity=\"1\" stroke=\"#000000\" stroke-opacity=\"1\" stroke-width=\"3.2\"/>\n",
       "<path clip-path=\"url(#clip670)\" d=\"\n",
       "M1514.86 274.549 L2282.9 274.549 L2282.9 93.1086 L1514.86 93.1086  Z\n",
       "  \" fill=\"#ffffff\" fill-rule=\"evenodd\" fill-opacity=\"1\"/>\n",
       "<polyline clip-path=\"url(#clip670)\" style=\"stroke:#000000; stroke-width:4; stroke-opacity:1; fill:none\" points=\"\n",
       "  1514.86,274.549 2282.9,274.549 2282.9,93.1086 1514.86,93.1086 1514.86,274.549 \n",
       "  \"/>\n",
       "<path clip-path=\"url(#clip670)\" d=\"\n",
       "M1538.14 177.781 L1677.85 177.781 L1677.85 129.397 L1538.14 129.397 L1538.14 177.781  Z\n",
       "  \" fill=\"#ff0000\" fill-rule=\"evenodd\" fill-opacity=\"0.5\"/>\n",
       "<polyline clip-path=\"url(#clip670)\" style=\"stroke:#000000; stroke-width:4; stroke-opacity:1; fill:none\" points=\"\n",
       "  1538.14,177.781 1677.85,177.781 1677.85,129.397 1538.14,129.397 1538.14,177.781 \n",
       "  \"/>\n",
       "<path clip-path=\"url(#clip670)\" d=\"M 0 0 M1726.69 165.938 L1726.69 156.656 L1719.05 156.656 L1719.05 152.813 L1731.32 152.813 L1731.32 167.651 Q1728.61 169.572 1725.34 170.568 Q1722.08 171.54 1718.38 171.54 Q1710.27 171.54 1705.69 166.818 Q1701.13 162.072 1701.13 153.623 Q1701.13 145.151 1705.69 140.429 Q1710.27 135.684 1718.38 135.684 Q1721.76 135.684 1724.79 136.517 Q1727.84 137.35 1730.41 138.971 L1730.41 143.947 Q1727.82 141.748 1724.9 140.637 Q1721.99 139.526 1718.77 139.526 Q1712.43 139.526 1709.23 143.068 Q1706.06 146.609 1706.06 153.623 Q1706.06 160.614 1709.23 164.156 Q1712.43 167.697 1718.77 167.697 Q1721.25 167.697 1723.19 167.281 Q1725.14 166.841 1726.69 165.938 Z\" fill=\"#000000\" fill-rule=\"evenodd\" fill-opacity=\"1\" /><path clip-path=\"url(#clip670)\" d=\"M 0 0 M1761.85 156.841 L1761.85 158.924 L1742.26 158.924 Q1742.54 163.322 1744.9 165.637 Q1747.29 167.929 1751.52 167.929 Q1753.98 167.929 1756.27 167.327 Q1758.58 166.725 1760.85 165.521 L1760.85 169.549 Q1758.56 170.521 1756.15 171.031 Q1753.75 171.54 1751.27 171.54 Q1745.07 171.54 1741.43 167.929 Q1737.82 164.318 1737.82 158.16 Q1737.82 151.795 1741.25 148.068 Q1744.7 144.318 1750.53 144.318 Q1755.76 144.318 1758.79 147.697 Q1761.85 151.054 1761.85 156.841 M1757.59 155.591 Q1757.54 152.096 1755.62 150.012 Q1753.72 147.929 1750.58 147.929 Q1747.01 147.929 1744.86 149.943 Q1742.73 151.957 1742.4 155.614 L1757.59 155.591 Z\" fill=\"#000000\" fill-rule=\"evenodd\" fill-opacity=\"1\" /><path clip-path=\"url(#clip670)\" d=\"M 0 0 M1783.86 148.924 Q1783.14 148.508 1782.29 148.322 Q1781.45 148.114 1780.44 148.114 Q1776.82 148.114 1774.88 150.475 Q1772.96 152.813 1772.96 157.211 L1772.96 170.869 L1768.68 170.869 L1768.68 144.943 L1772.96 144.943 L1772.96 148.971 Q1774.3 146.609 1776.45 145.475 Q1778.61 144.318 1781.69 144.318 Q1782.13 144.318 1782.66 144.387 Q1783.19 144.434 1783.84 144.549 L1783.86 148.924 Z\" fill=\"#000000\" fill-rule=\"evenodd\" fill-opacity=\"1\" /><path clip-path=\"url(#clip670)\" d=\"M 0 0 M1804.86 145.707 L1804.86 149.734 Q1803.05 148.809 1801.11 148.346 Q1799.16 147.883 1797.08 147.883 Q1793.91 147.883 1792.31 148.855 Q1790.74 149.827 1790.74 151.771 Q1790.74 153.253 1791.87 154.109 Q1793.01 154.943 1796.43 155.707 L1797.89 156.031 Q1802.43 157.003 1804.32 158.785 Q1806.25 160.545 1806.25 163.716 Q1806.25 167.327 1803.38 169.433 Q1800.53 171.54 1795.53 171.54 Q1793.45 171.54 1791.18 171.123 Q1788.93 170.73 1786.43 169.92 L1786.43 165.521 Q1788.79 166.748 1791.08 167.373 Q1793.38 167.975 1795.62 167.975 Q1798.63 167.975 1800.25 166.957 Q1801.87 165.915 1801.87 164.04 Q1801.87 162.304 1800.69 161.378 Q1799.53 160.452 1795.57 159.596 L1794.09 159.248 Q1790.14 158.415 1788.38 156.702 Q1786.62 154.966 1786.62 151.957 Q1786.62 148.299 1789.21 146.309 Q1791.8 144.318 1796.57 144.318 Q1798.93 144.318 1801.01 144.665 Q1803.1 145.012 1804.86 145.707 Z\" fill=\"#000000\" fill-rule=\"evenodd\" fill-opacity=\"1\" /><path clip-path=\"url(#clip670)\" d=\"M 0 0 M1834.58 155.221 L1834.58 170.869 L1830.32 170.869 L1830.32 155.359 Q1830.32 151.679 1828.88 149.85 Q1827.45 148.022 1824.58 148.022 Q1821.13 148.022 1819.14 150.221 Q1817.15 152.42 1817.15 156.216 L1817.15 170.869 L1812.87 170.869 L1812.87 134.85 L1817.15 134.85 L1817.15 148.971 Q1818.68 146.633 1820.74 145.475 Q1822.82 144.318 1825.53 144.318 Q1830 144.318 1832.29 147.096 Q1834.58 149.85 1834.58 155.221 Z\" fill=\"#000000\" fill-rule=\"evenodd\" fill-opacity=\"1\" /><path clip-path=\"url(#clip670)\" d=\"M 0 0 M1860.13 157.605 Q1860.13 152.975 1858.21 150.429 Q1856.32 147.883 1852.87 147.883 Q1849.44 147.883 1847.52 150.429 Q1845.62 152.975 1845.62 157.605 Q1845.62 162.211 1847.52 164.758 Q1849.44 167.304 1852.87 167.304 Q1856.32 167.304 1858.21 164.758 Q1860.13 162.211 1860.13 157.605 M1864.39 167.651 Q1864.39 174.271 1861.45 177.489 Q1858.51 180.73 1852.45 180.73 Q1850.2 180.73 1848.21 180.382 Q1846.22 180.058 1844.35 179.364 L1844.35 175.22 Q1846.22 176.239 1848.05 176.725 Q1849.88 177.211 1851.78 177.211 Q1855.97 177.211 1858.05 175.012 Q1860.13 172.836 1860.13 168.415 L1860.13 166.308 Q1858.82 168.6 1856.76 169.734 Q1854.69 170.869 1851.82 170.869 Q1847.06 170.869 1844.14 167.234 Q1841.22 163.6 1841.22 157.605 Q1841.22 151.586 1844.14 147.952 Q1847.06 144.318 1851.82 144.318 Q1854.69 144.318 1856.76 145.452 Q1858.82 146.586 1860.13 148.878 L1860.13 144.943 L1864.39 144.943 L1864.39 167.651 Z\" fill=\"#000000\" fill-rule=\"evenodd\" fill-opacity=\"1\" /><path clip-path=\"url(#clip670)\" d=\"M 0 0 M1883.21 147.929 Q1879.79 147.929 1877.8 150.614 Q1875.81 153.276 1875.81 157.929 Q1875.81 162.582 1877.77 165.267 Q1879.76 167.929 1883.21 167.929 Q1886.62 167.929 1888.61 165.244 Q1890.6 162.558 1890.6 157.929 Q1890.6 153.322 1888.61 150.637 Q1886.62 147.929 1883.21 147.929 M1883.21 144.318 Q1888.77 144.318 1891.94 147.929 Q1895.11 151.54 1895.11 157.929 Q1895.11 164.295 1891.94 167.929 Q1888.77 171.54 1883.21 171.54 Q1877.63 171.54 1874.46 167.929 Q1871.32 164.295 1871.32 157.929 Q1871.32 151.54 1874.46 147.929 Q1877.63 144.318 1883.21 144.318 Z\" fill=\"#000000\" fill-rule=\"evenodd\" fill-opacity=\"1\" /><path clip-path=\"url(#clip670)\" d=\"M 0 0 M1917.19 148.924 Q1916.48 148.508 1915.62 148.322 Q1914.79 148.114 1913.77 148.114 Q1910.16 148.114 1908.21 150.475 Q1906.29 152.813 1906.29 157.211 L1906.29 170.869 L1902.01 170.869 L1902.01 144.943 L1906.29 144.943 L1906.29 148.971 Q1907.63 146.609 1909.79 145.475 Q1911.94 144.318 1915.02 144.318 Q1915.46 144.318 1915.99 144.387 Q1916.52 144.434 1917.17 144.549 L1917.19 148.924 Z\" fill=\"#000000\" fill-rule=\"evenodd\" fill-opacity=\"1\" /><path clip-path=\"url(#clip670)\" d=\"M 0 0 M1921.66 144.943 L1925.92 144.943 L1925.92 170.869 L1921.66 170.869 L1921.66 144.943 M1921.66 134.85 L1925.92 134.85 L1925.92 140.244 L1921.66 140.244 L1921.66 134.85 Z\" fill=\"#000000\" fill-rule=\"evenodd\" fill-opacity=\"1\" /><path clip-path=\"url(#clip670)\" d=\"M 0 0 M1956.38 155.221 L1956.38 170.869 L1952.12 170.869 L1952.12 155.359 Q1952.12 151.679 1950.69 149.85 Q1949.25 148.022 1946.38 148.022 Q1942.94 148.022 1940.94 150.221 Q1938.95 152.42 1938.95 156.216 L1938.95 170.869 L1934.67 170.869 L1934.67 144.943 L1938.95 144.943 L1938.95 148.971 Q1940.48 146.633 1942.54 145.475 Q1944.62 144.318 1947.33 144.318 Q1951.8 144.318 1954.09 147.096 Q1956.38 149.85 1956.38 155.221 Z\" fill=\"#000000\" fill-rule=\"evenodd\" fill-opacity=\"1\" /><path clip-path=\"url(#clip670)\" d=\"M 0 0 M1998.56 157.929 Q1998.56 153.23 1996.62 150.568 Q1994.69 147.883 1991.31 147.883 Q1987.93 147.883 1985.99 150.568 Q1984.07 153.23 1984.07 157.929 Q1984.07 162.628 1985.99 165.313 Q1987.93 167.975 1991.31 167.975 Q1994.69 167.975 1996.62 165.313 Q1998.56 162.628 1998.56 157.929 M1984.07 148.878 Q1985.41 146.563 1987.45 145.452 Q1989.51 144.318 1992.36 144.318 Q1997.08 144.318 2000.02 148.068 Q2002.98 151.818 2002.98 157.929 Q2002.98 164.04 2000.02 167.79 Q1997.08 171.54 1992.36 171.54 Q1989.51 171.54 1987.45 170.429 Q1985.41 169.295 1984.07 166.98 L1984.07 170.869 L1979.79 170.869 L1979.79 134.85 L1984.07 134.85 L1984.07 148.878 Z\" fill=\"#000000\" fill-rule=\"evenodd\" fill-opacity=\"1\" /><path clip-path=\"url(#clip670)\" d=\"M 0 0 M2020.09 147.929 Q2016.66 147.929 2014.67 150.614 Q2012.68 153.276 2012.68 157.929 Q2012.68 162.582 2014.65 165.267 Q2016.64 167.929 2020.09 167.929 Q2023.49 167.929 2025.48 165.244 Q2027.47 162.558 2027.47 157.929 Q2027.47 153.322 2025.48 150.637 Q2023.49 147.929 2020.09 147.929 M2020.09 144.318 Q2025.64 144.318 2028.81 147.929 Q2031.99 151.54 2031.99 157.929 Q2031.99 164.295 2028.81 167.929 Q2025.64 171.54 2020.09 171.54 Q2014.51 171.54 2011.34 167.929 Q2008.19 164.295 2008.19 157.929 Q2008.19 151.54 2011.34 147.929 Q2014.51 144.318 2020.09 144.318 Z\" fill=\"#000000\" fill-rule=\"evenodd\" fill-opacity=\"1\" /><path clip-path=\"url(#clip670)\" d=\"M 0 0 M2038.61 160.637 L2038.61 144.943 L2042.87 144.943 L2042.87 160.475 Q2042.87 164.156 2044.3 166.008 Q2045.74 167.836 2048.61 167.836 Q2052.05 167.836 2054.05 165.637 Q2056.06 163.438 2056.06 159.642 L2056.06 144.943 L2060.32 144.943 L2060.32 170.869 L2056.06 170.869 L2056.06 166.887 Q2054.51 169.248 2052.45 170.406 Q2050.41 171.54 2047.7 171.54 Q2043.24 171.54 2040.92 168.762 Q2038.61 165.984 2038.61 160.637 M2049.32 144.318 L2049.32 144.318 Z\" fill=\"#000000\" fill-rule=\"evenodd\" fill-opacity=\"1\" /><path clip-path=\"url(#clip670)\" d=\"M 0 0 M2090.64 155.221 L2090.64 170.869 L2086.38 170.869 L2086.38 155.359 Q2086.38 151.679 2084.95 149.85 Q2083.51 148.022 2080.64 148.022 Q2077.19 148.022 2075.2 150.221 Q2073.21 152.42 2073.21 156.216 L2073.21 170.869 L2068.93 170.869 L2068.93 144.943 L2073.21 144.943 L2073.21 148.971 Q2074.74 146.633 2076.8 145.475 Q2078.88 144.318 2081.59 144.318 Q2086.06 144.318 2088.35 147.096 Q2090.64 149.85 2090.64 155.221 Z\" fill=\"#000000\" fill-rule=\"evenodd\" fill-opacity=\"1\" /><path clip-path=\"url(#clip670)\" d=\"M 0 0 M2116.2 148.878 L2116.2 134.85 L2120.46 134.85 L2120.46 170.869 L2116.2 170.869 L2116.2 166.98 Q2114.86 169.295 2112.8 170.429 Q2110.76 171.54 2107.89 171.54 Q2103.19 171.54 2100.23 167.79 Q2097.29 164.04 2097.29 157.929 Q2097.29 151.818 2100.23 148.068 Q2103.19 144.318 2107.89 144.318 Q2110.76 144.318 2112.8 145.452 Q2114.86 146.563 2116.2 148.878 M2101.68 157.929 Q2101.68 162.628 2103.61 165.313 Q2105.55 167.975 2108.93 167.975 Q2112.31 167.975 2114.25 165.313 Q2116.2 162.628 2116.2 157.929 Q2116.2 153.23 2114.25 150.568 Q2112.31 147.883 2108.93 147.883 Q2105.55 147.883 2103.61 150.568 Q2101.68 153.23 2101.68 157.929 Z\" fill=\"#000000\" fill-rule=\"evenodd\" fill-opacity=\"1\" /><path clip-path=\"url(#clip670)\" d=\"M 0 0 M2145.76 145.707 L2145.76 149.734 Q2143.95 148.809 2142.01 148.346 Q2140.06 147.883 2137.98 147.883 Q2134.81 147.883 2133.21 148.855 Q2131.64 149.827 2131.64 151.771 Q2131.64 153.253 2132.77 154.109 Q2133.91 154.943 2137.33 155.707 L2138.79 156.031 Q2143.33 157.003 2145.23 158.785 Q2147.15 160.545 2147.15 163.716 Q2147.15 167.327 2144.28 169.433 Q2141.43 171.54 2136.43 171.54 Q2134.35 171.54 2132.08 171.123 Q2129.83 170.73 2127.33 169.92 L2127.33 165.521 Q2129.69 166.748 2131.99 167.373 Q2134.28 167.975 2136.52 167.975 Q2139.53 167.975 2141.15 166.957 Q2142.77 165.915 2142.77 164.04 Q2142.77 162.304 2141.59 161.378 Q2140.43 160.452 2136.48 159.596 L2134.99 159.248 Q2131.04 158.415 2129.28 156.702 Q2127.52 154.966 2127.52 151.957 Q2127.52 148.299 2130.11 146.309 Q2132.7 144.318 2137.47 144.318 Q2139.83 144.318 2141.92 144.665 Q2144 145.012 2145.76 145.707 Z\" fill=\"#000000\" fill-rule=\"evenodd\" fill-opacity=\"1\" /><circle clip-path=\"url(#clip670)\" cx=\"1608\" cy=\"214.069\" r=\"23\" fill=\"#0000ff\" fill-rule=\"evenodd\" fill-opacity=\"1\" stroke=\"#000000\" stroke-opacity=\"1\" stroke-width=\"5.12\"/>\n",
       "<path clip-path=\"url(#clip670)\" d=\"M 0 0 M1721.64 206.418 L1721.64 210.4 Q1719.83 209.404 1718.01 208.918 Q1716.2 208.409 1714.35 208.409 Q1710.2 208.409 1707.91 211.048 Q1705.62 213.664 1705.62 218.409 Q1705.62 223.154 1707.91 225.793 Q1710.2 228.409 1714.35 228.409 Q1716.2 228.409 1718.01 227.923 Q1719.83 227.413 1721.64 226.418 L1721.64 230.353 Q1719.86 231.187 1717.94 231.603 Q1716.04 232.02 1713.89 232.02 Q1708.03 232.02 1704.58 228.339 Q1701.13 224.659 1701.13 218.409 Q1701.13 212.066 1704.6 208.432 Q1708.1 204.798 1714.16 204.798 Q1716.13 204.798 1718.01 205.215 Q1719.88 205.608 1721.64 206.418 Z\" fill=\"#000000\" fill-rule=\"evenodd\" fill-opacity=\"1\" /><path clip-path=\"url(#clip670)\" d=\"M 0 0 M1739.09 208.409 Q1735.67 208.409 1733.68 211.094 Q1731.69 213.756 1731.69 218.409 Q1731.69 223.062 1733.65 225.747 Q1735.64 228.409 1739.09 228.409 Q1742.5 228.409 1744.49 225.724 Q1746.48 223.038 1746.48 218.409 Q1746.48 213.802 1744.49 211.117 Q1742.5 208.409 1739.09 208.409 M1739.09 204.798 Q1744.65 204.798 1747.82 208.409 Q1750.99 212.02 1750.99 218.409 Q1750.99 224.775 1747.82 228.409 Q1744.65 232.02 1739.09 232.02 Q1733.51 232.02 1730.34 228.409 Q1727.2 224.775 1727.2 218.409 Q1727.2 212.02 1730.34 208.409 Q1733.51 204.798 1739.09 204.798 Z\" fill=\"#000000\" fill-rule=\"evenodd\" fill-opacity=\"1\" /><path clip-path=\"url(#clip670)\" d=\"M 0 0 M1778.24 210.4 Q1779.83 207.529 1782.06 206.164 Q1784.28 204.798 1787.29 204.798 Q1791.34 204.798 1793.54 207.645 Q1795.74 210.469 1795.74 215.701 L1795.74 231.349 L1791.45 231.349 L1791.45 215.839 Q1791.45 212.113 1790.14 210.307 Q1788.82 208.502 1786.11 208.502 Q1782.8 208.502 1780.88 210.701 Q1778.95 212.9 1778.95 216.696 L1778.95 231.349 L1774.67 231.349 L1774.67 215.839 Q1774.67 212.089 1773.35 210.307 Q1772.03 208.502 1769.28 208.502 Q1766.01 208.502 1764.09 210.724 Q1762.17 212.923 1762.17 216.696 L1762.17 231.349 L1757.89 231.349 L1757.89 205.423 L1762.17 205.423 L1762.17 209.451 Q1763.63 207.066 1765.67 205.932 Q1767.7 204.798 1770.51 204.798 Q1773.33 204.798 1775.3 206.233 Q1777.29 207.668 1778.24 210.4 Z\" fill=\"#000000\" fill-rule=\"evenodd\" fill-opacity=\"1\" /><path clip-path=\"url(#clip670)\" d=\"M 0 0 M1808.35 227.46 L1808.35 241.21 L1804.07 241.21 L1804.07 205.423 L1808.35 205.423 L1808.35 209.358 Q1809.7 207.043 1811.73 205.932 Q1813.79 204.798 1816.64 204.798 Q1821.36 204.798 1824.3 208.548 Q1827.26 212.298 1827.26 218.409 Q1827.26 224.52 1824.3 228.27 Q1821.36 232.02 1816.64 232.02 Q1813.79 232.02 1811.73 230.909 Q1809.7 229.775 1808.35 227.46 M1822.84 218.409 Q1822.84 213.71 1820.9 211.048 Q1818.98 208.363 1815.6 208.363 Q1812.22 208.363 1810.27 211.048 Q1808.35 213.71 1808.35 218.409 Q1808.35 223.108 1810.27 225.793 Q1812.22 228.455 1815.6 228.455 Q1818.98 228.455 1820.9 225.793 Q1822.84 223.108 1822.84 218.409 Z\" fill=\"#000000\" fill-rule=\"evenodd\" fill-opacity=\"1\" /><path clip-path=\"url(#clip670)\" d=\"M 0 0 M1833.88 221.117 L1833.88 205.423 L1838.14 205.423 L1838.14 220.955 Q1838.14 224.636 1839.58 226.488 Q1841.01 228.316 1843.88 228.316 Q1847.33 228.316 1849.32 226.117 Q1851.34 223.918 1851.34 220.122 L1851.34 205.423 L1855.6 205.423 L1855.6 231.349 L1851.34 231.349 L1851.34 227.367 Q1849.79 229.728 1847.73 230.886 Q1845.69 232.02 1842.98 232.02 Q1838.51 232.02 1836.2 229.242 Q1833.88 226.464 1833.88 221.117 M1844.6 204.798 L1844.6 204.798 Z\" fill=\"#000000\" fill-rule=\"evenodd\" fill-opacity=\"1\" /><path clip-path=\"url(#clip670)\" d=\"M 0 0 M1868.58 198.062 L1868.58 205.423 L1877.36 205.423 L1877.36 208.733 L1868.58 208.733 L1868.58 222.807 Q1868.58 225.978 1869.44 226.881 Q1870.32 227.784 1872.98 227.784 L1877.36 227.784 L1877.36 231.349 L1872.98 231.349 Q1868.05 231.349 1866.18 229.52 Q1864.3 227.668 1864.3 222.807 L1864.3 208.733 L1861.18 208.733 L1861.18 205.423 L1864.3 205.423 L1864.3 198.062 L1868.58 198.062 Z\" fill=\"#000000\" fill-rule=\"evenodd\" fill-opacity=\"1\" /><path clip-path=\"url(#clip670)\" d=\"M 0 0 M1905.13 217.321 L1905.13 219.404 L1885.55 219.404 Q1885.83 223.802 1888.19 226.117 Q1890.57 228.409 1894.81 228.409 Q1897.26 228.409 1899.56 227.807 Q1901.87 227.205 1904.14 226.001 L1904.14 230.029 Q1901.85 231.001 1899.44 231.511 Q1897.03 232.02 1894.56 232.02 Q1888.35 232.02 1884.72 228.409 Q1881.11 224.798 1881.11 218.64 Q1881.11 212.275 1884.53 208.548 Q1887.98 204.798 1893.82 204.798 Q1899.05 204.798 1902.08 208.177 Q1905.13 211.534 1905.13 217.321 M1900.88 216.071 Q1900.83 212.576 1898.91 210.492 Q1897.01 208.409 1893.86 208.409 Q1890.3 208.409 1888.14 210.423 Q1886.01 212.437 1885.69 216.094 L1900.88 216.071 Z\" fill=\"#000000\" fill-rule=\"evenodd\" fill-opacity=\"1\" /><path clip-path=\"url(#clip670)\" d=\"M 0 0 M1929.19 209.358 L1929.19 195.33 L1933.44 195.33 L1933.44 231.349 L1929.19 231.349 L1929.19 227.46 Q1927.84 229.775 1925.78 230.909 Q1923.75 232.02 1920.88 232.02 Q1916.18 232.02 1913.21 228.27 Q1910.27 224.52 1910.27 218.409 Q1910.27 212.298 1913.21 208.548 Q1916.18 204.798 1920.88 204.798 Q1923.75 204.798 1925.78 205.932 Q1927.84 207.043 1929.19 209.358 M1914.67 218.409 Q1914.67 223.108 1916.59 225.793 Q1918.54 228.455 1921.92 228.455 Q1925.3 228.455 1927.24 225.793 Q1929.19 223.108 1929.19 218.409 Q1929.19 213.71 1927.24 211.048 Q1925.3 208.363 1921.92 208.363 Q1918.54 208.363 1916.59 211.048 Q1914.67 213.71 1914.67 218.409 Z\" fill=\"#000000\" fill-rule=\"evenodd\" fill-opacity=\"1\" /><path clip-path=\"url(#clip670)\" d=\"M 0 0 M1979.46 217.321 L1979.46 219.404 L1959.88 219.404 Q1960.16 223.802 1962.52 226.117 Q1964.9 228.409 1969.14 228.409 Q1971.59 228.409 1973.88 227.807 Q1976.2 227.205 1978.47 226.001 L1978.47 230.029 Q1976.18 231.001 1973.77 231.511 Q1971.36 232.02 1968.88 232.02 Q1962.68 232.02 1959.05 228.409 Q1955.44 224.798 1955.44 218.64 Q1955.44 212.275 1958.86 208.548 Q1962.31 204.798 1968.14 204.798 Q1973.37 204.798 1976.41 208.177 Q1979.46 211.534 1979.46 217.321 M1975.2 216.071 Q1975.16 212.576 1973.24 210.492 Q1971.34 208.409 1968.19 208.409 Q1964.62 208.409 1962.47 210.423 Q1960.34 212.437 1960.02 216.094 L1975.2 216.071 Z\" fill=\"#000000\" fill-rule=\"evenodd\" fill-opacity=\"1\" /><path clip-path=\"url(#clip670)\" d=\"M 0 0 M1986.45 205.423 L1990.71 205.423 L1990.71 231.349 L1986.45 231.349 L1986.45 205.423 M1986.45 195.33 L1990.71 195.33 L1990.71 200.724 L1986.45 200.724 L1986.45 195.33 Z\" fill=\"#000000\" fill-rule=\"evenodd\" fill-opacity=\"1\" /><path clip-path=\"url(#clip670)\" d=\"M 0 0 M2016.68 218.085 Q2016.68 213.455 2014.76 210.909 Q2012.87 208.363 2009.42 208.363 Q2005.99 208.363 2004.07 210.909 Q2002.17 213.455 2002.17 218.085 Q2002.17 222.691 2004.07 225.238 Q2005.99 227.784 2009.42 227.784 Q2012.87 227.784 2014.76 225.238 Q2016.68 222.691 2016.68 218.085 M2020.94 228.131 Q2020.94 234.751 2018 237.969 Q2015.06 241.21 2009 241.21 Q2006.75 241.21 2004.76 240.862 Q2002.77 240.538 2000.9 239.844 L2000.9 235.7 Q2002.77 236.719 2004.6 237.205 Q2006.43 237.691 2008.33 237.691 Q2012.52 237.691 2014.6 235.492 Q2016.68 233.316 2016.68 228.895 L2016.68 226.788 Q2015.37 229.08 2013.31 230.214 Q2011.24 231.349 2008.37 231.349 Q2003.61 231.349 2000.69 227.714 Q1997.77 224.08 1997.77 218.085 Q1997.77 212.066 2000.69 208.432 Q2003.61 204.798 2008.37 204.798 Q2011.24 204.798 2013.31 205.932 Q2015.37 207.066 2016.68 209.358 L2016.68 205.423 L2020.94 205.423 L2020.94 228.131 Z\" fill=\"#000000\" fill-rule=\"evenodd\" fill-opacity=\"1\" /><path clip-path=\"url(#clip670)\" d=\"M 0 0 M2051.89 217.321 L2051.89 219.404 L2032.31 219.404 Q2032.59 223.802 2034.95 226.117 Q2037.33 228.409 2041.57 228.409 Q2044.02 228.409 2046.31 227.807 Q2048.63 227.205 2050.9 226.001 L2050.9 230.029 Q2048.61 231.001 2046.2 231.511 Q2043.79 232.02 2041.31 232.02 Q2035.11 232.02 2031.48 228.409 Q2027.87 224.798 2027.87 218.64 Q2027.87 212.275 2031.29 208.548 Q2034.74 204.798 2040.57 204.798 Q2045.8 204.798 2048.84 208.177 Q2051.89 211.534 2051.89 217.321 M2047.63 216.071 Q2047.59 212.576 2045.67 210.492 Q2043.77 208.409 2040.62 208.409 Q2037.06 208.409 2034.9 210.423 Q2032.77 212.437 2032.45 216.094 L2047.63 216.071 Z\" fill=\"#000000\" fill-rule=\"evenodd\" fill-opacity=\"1\" /><path clip-path=\"url(#clip670)\" d=\"M 0 0 M2080.43 215.701 L2080.43 231.349 L2076.18 231.349 L2076.18 215.839 Q2076.18 212.159 2074.74 210.33 Q2073.3 208.502 2070.43 208.502 Q2066.99 208.502 2064.99 210.701 Q2063 212.9 2063 216.696 L2063 231.349 L2058.72 231.349 L2058.72 205.423 L2063 205.423 L2063 209.451 Q2064.53 207.113 2066.59 205.955 Q2068.68 204.798 2071.38 204.798 Q2075.85 204.798 2078.14 207.576 Q2080.43 210.33 2080.43 215.701 Z\" fill=\"#000000\" fill-rule=\"evenodd\" fill-opacity=\"1\" /><path clip-path=\"url(#clip670)\" d=\"M 0 0 M2085.87 205.423 L2090.39 205.423 L2098.49 227.182 L2106.59 205.423 L2111.11 205.423 L2101.38 231.349 L2095.6 231.349 L2085.87 205.423 Z\" fill=\"#000000\" fill-rule=\"evenodd\" fill-opacity=\"1\" /><path clip-path=\"url(#clip670)\" d=\"M 0 0 M2128.77 218.316 Q2123.61 218.316 2121.61 219.497 Q2119.62 220.677 2119.62 223.525 Q2119.62 225.793 2121.11 227.136 Q2122.61 228.455 2125.18 228.455 Q2128.72 228.455 2130.85 225.955 Q2133 223.432 2133 219.265 L2133 218.316 L2128.77 218.316 M2137.26 216.557 L2137.26 231.349 L2133 231.349 L2133 227.413 Q2131.55 229.775 2129.37 230.909 Q2127.19 232.02 2124.05 232.02 Q2120.06 232.02 2117.7 229.798 Q2115.36 227.552 2115.36 223.802 Q2115.36 219.427 2118.28 217.205 Q2121.22 214.983 2127.03 214.983 L2133 214.983 L2133 214.566 Q2133 211.627 2131.06 210.029 Q2129.14 208.409 2125.64 208.409 Q2123.42 208.409 2121.31 208.941 Q2119.21 209.474 2117.26 210.539 L2117.26 206.603 Q2119.6 205.701 2121.8 205.261 Q2124 204.798 2126.08 204.798 Q2131.71 204.798 2134.49 207.714 Q2137.26 210.631 2137.26 216.557 Z\" fill=\"#000000\" fill-rule=\"evenodd\" fill-opacity=\"1\" /><path clip-path=\"url(#clip670)\" d=\"M 0 0 M2146.04 195.33 L2150.3 195.33 L2150.3 231.349 L2146.04 231.349 L2146.04 195.33 Z\" fill=\"#000000\" fill-rule=\"evenodd\" fill-opacity=\"1\" /><path clip-path=\"url(#clip670)\" d=\"M 0 0 M2158.77 221.117 L2158.77 205.423 L2163.03 205.423 L2163.03 220.955 Q2163.03 224.636 2164.46 226.488 Q2165.9 228.316 2168.77 228.316 Q2172.22 228.316 2174.21 226.117 Q2176.22 223.918 2176.22 220.122 L2176.22 205.423 L2180.48 205.423 L2180.48 231.349 L2176.22 231.349 L2176.22 227.367 Q2174.67 229.728 2172.61 230.886 Q2170.57 232.02 2167.86 232.02 Q2163.4 232.02 2161.08 229.242 Q2158.77 226.464 2158.77 221.117 M2169.48 204.798 L2169.48 204.798 Z\" fill=\"#000000\" fill-rule=\"evenodd\" fill-opacity=\"1\" /><path clip-path=\"url(#clip670)\" d=\"M 0 0 M2211.43 217.321 L2211.43 219.404 L2191.85 219.404 Q2192.12 223.802 2194.48 226.117 Q2196.87 228.409 2201.11 228.409 Q2203.56 228.409 2205.85 227.807 Q2208.17 227.205 2210.43 226.001 L2210.43 230.029 Q2208.14 231.001 2205.73 231.511 Q2203.33 232.02 2200.85 232.02 Q2194.65 232.02 2191.01 228.409 Q2187.4 224.798 2187.4 218.64 Q2187.4 212.275 2190.83 208.548 Q2194.28 204.798 2200.11 204.798 Q2205.34 204.798 2208.37 208.177 Q2211.43 211.534 2211.43 217.321 M2207.17 216.071 Q2207.12 212.576 2205.2 210.492 Q2203.3 208.409 2200.16 208.409 Q2196.59 208.409 2194.44 210.423 Q2192.31 212.437 2191.98 216.094 L2207.17 216.071 Z\" fill=\"#000000\" fill-rule=\"evenodd\" fill-opacity=\"1\" /><path clip-path=\"url(#clip670)\" d=\"M 0 0 M2234.95 206.187 L2234.95 210.214 Q2233.14 209.289 2231.2 208.826 Q2229.25 208.363 2227.17 208.363 Q2224 208.363 2222.4 209.335 Q2220.83 210.307 2220.83 212.251 Q2220.83 213.733 2221.96 214.589 Q2223.1 215.423 2226.52 216.187 L2227.98 216.511 Q2232.52 217.483 2234.42 219.265 Q2236.34 221.025 2236.34 224.196 Q2236.34 227.807 2233.47 229.913 Q2230.62 232.02 2225.62 232.02 Q2223.54 232.02 2221.27 231.603 Q2219.02 231.21 2216.52 230.4 L2216.52 226.001 Q2218.88 227.228 2221.17 227.853 Q2223.47 228.455 2225.71 228.455 Q2228.72 228.455 2230.34 227.437 Q2231.96 226.395 2231.96 224.52 Q2231.96 222.784 2230.78 221.858 Q2229.62 220.932 2225.67 220.076 L2224.18 219.728 Q2220.23 218.895 2218.47 217.182 Q2216.71 215.446 2216.71 212.437 Q2216.71 208.779 2219.3 206.789 Q2221.89 204.798 2226.66 204.798 Q2229.02 204.798 2231.1 205.145 Q2233.19 205.492 2234.95 206.187 Z\" fill=\"#000000\" fill-rule=\"evenodd\" fill-opacity=\"1\" /></svg>\n"
      ]
     },
     "execution_count": 364,
     "metadata": {},
     "output_type": "execute_result"
    }
   ],
   "source": [
    "d = disks[size(disks,1)]\n",
    "plot(draw_circle(d[1],0,d[2]), \n",
    "    seriestype = [:shape,], \n",
    "    color = :red, \n",
    "    fillalpha = 0.5,\n",
    "    label = \"Gershgorin bounds\"\n",
    ")\n",
    "for i in 1:size(disks,1)-1\n",
    "    d = disks[i]\n",
    "    plot!(draw_circle(d[1],0,d[2]), \n",
    "        seriestype = [:shape,], \n",
    "        color = :red, \n",
    "        fillalpha = 0.5 , \n",
    "        label = \"\",\n",
    "        aspect_ratio = 1\n",
    "    )\n",
    "end\n",
    "\n",
    "scatter!(ev_plot,\n",
    "    xlabel = \"Real axis\", \n",
    "    ylabel = \"Imaginary axis\",\n",
    "    label = \"computed eigenvalues\",\n",
    "    color = :blue\n",
    "    )"
   ]
  },
  {
   "cell_type": "markdown",
   "metadata": {},
   "source": [
    "test 4"
   ]
  },
  {
   "cell_type": "code",
   "execution_count": 365,
   "metadata": {},
   "outputs": [
    {
     "data": {
      "text/plain": [
       "2×2 Matrix{Float64}:\n",
       "  0.265225  -0.16412\n",
       " -0.082671   0.0182943"
      ]
     },
     "execution_count": 365,
     "metadata": {},
     "output_type": "execute_result"
    }
   ],
   "source": [
    "A = rand(2,2)\n",
    "A = A .- 0.5"
   ]
  },
  {
   "cell_type": "code",
   "execution_count": 366,
   "metadata": {},
   "outputs": [
    {
     "data": {
      "text/plain": [
       "2×2 Matrix{Float64}:\n",
       "  0.265225  -0.16412\n",
       " -0.082671   0.0182943"
      ]
     },
     "execution_count": 366,
     "metadata": {},
     "output_type": "execute_result"
    }
   ],
   "source": [
    "A"
   ]
  },
  {
   "cell_type": "code",
   "execution_count": 367,
   "metadata": {},
   "outputs": [
    {
     "data": {
      "text/plain": [
       "2×2 Matrix{Float64}:\n",
       "  0.3115        0.081449\n",
       " -7.01932e-28  -0.0279803"
      ]
     },
     "metadata": {},
     "output_type": "display_data"
    },
    {
     "data": {
      "text/plain": [
       "2×2 Matrix{Float64}:\n",
       "  0.3115       -0.081449\n",
       " -4.79927e-54  -0.0279803"
      ]
     },
     "metadata": {},
     "output_type": "display_data"
    },
    {
     "data": {
      "text/plain": [
       "2×2 Matrix{Float64}:\n",
       "  0.3115        0.081449\n",
       " -3.28137e-80  -0.0279803"
      ]
     },
     "metadata": {},
     "output_type": "display_data"
    },
    {
     "data": {
      "text/plain": [
       "2×2 Matrix{Float64}:\n",
       "  0.3115        -0.081449\n",
       " -2.24355e-106  -0.0279803"
      ]
     },
     "metadata": {},
     "output_type": "display_data"
    },
    {
     "data": {
      "text/plain": [
       "2-element Vector{Float64}:\n",
       "  0.31149973220146504\n",
       " -0.027980332800681643"
      ]
     },
     "execution_count": 367,
     "metadata": {},
     "output_type": "execute_result"
    }
   ],
   "source": [
    "ev = find_eigenvalues(A,100, true)"
   ]
  },
  {
   "cell_type": "code",
   "execution_count": 368,
   "metadata": {},
   "outputs": [],
   "source": [
    "ev_plot = get_ev_coords(ev);\n",
    "disks = get_disks(A);"
   ]
  },
  {
   "cell_type": "code",
   "execution_count": 369,
   "metadata": {},
   "outputs": [
    {
     "data": {
      "image/svg+xml": [
       "<?xml version=\"1.0\" encoding=\"utf-8\"?>\n",
       "<svg xmlns=\"http://www.w3.org/2000/svg\" xmlns:xlink=\"http://www.w3.org/1999/xlink\" width=\"600\" height=\"400\" viewBox=\"0 0 2400 1600\">\n",
       "<defs>\n",
       "  <clipPath id=\"clip710\">\n",
       "    <rect x=\"0\" y=\"0\" width=\"2400\" height=\"1600\"/>\n",
       "  </clipPath>\n",
       "</defs>\n",
       "<path clip-path=\"url(#clip710)\" d=\"\n",
       "M0 1600 L2400 1600 L2400 0 L0 0  Z\n",
       "  \" fill=\"#ffffff\" fill-rule=\"evenodd\" fill-opacity=\"1\"/>\n",
       "<defs>\n",
       "  <clipPath id=\"clip711\">\n",
       "    <rect x=\"480\" y=\"0\" width=\"1681\" height=\"1600\"/>\n",
       "  </clipPath>\n",
       "</defs>\n",
       "<path clip-path=\"url(#clip710)\" d=\"\n",
       "M287.366 1423.18 L2352.76 1423.18 L2352.76 47.2441 L287.366 47.2441  Z\n",
       "  \" fill=\"#ffffff\" fill-rule=\"evenodd\" fill-opacity=\"1\"/>\n",
       "<defs>\n",
       "  <clipPath id=\"clip712\">\n",
       "    <rect x=\"287\" y=\"47\" width=\"2066\" height=\"1377\"/>\n",
       "  </clipPath>\n",
       "</defs>\n",
       "<polyline clip-path=\"url(#clip712)\" style=\"stroke:#000000; stroke-width:2; stroke-opacity:0.1; fill:none\" points=\"\n",
       "  599.883,1423.18 599.883,47.2441 \n",
       "  \"/>\n",
       "<polyline clip-path=\"url(#clip712)\" style=\"stroke:#000000; stroke-width:2; stroke-opacity:0.1; fill:none\" points=\"\n",
       "  994.535,1423.18 994.535,47.2441 \n",
       "  \"/>\n",
       "<polyline clip-path=\"url(#clip712)\" style=\"stroke:#000000; stroke-width:2; stroke-opacity:0.1; fill:none\" points=\"\n",
       "  1389.19,1423.18 1389.19,47.2441 \n",
       "  \"/>\n",
       "<polyline clip-path=\"url(#clip712)\" style=\"stroke:#000000; stroke-width:2; stroke-opacity:0.1; fill:none\" points=\"\n",
       "  1783.84,1423.18 1783.84,47.2441 \n",
       "  \"/>\n",
       "<polyline clip-path=\"url(#clip712)\" style=\"stroke:#000000; stroke-width:2; stroke-opacity:0.1; fill:none\" points=\"\n",
       "  2178.49,1423.18 2178.49,47.2441 \n",
       "  \"/>\n",
       "<polyline clip-path=\"url(#clip710)\" style=\"stroke:#000000; stroke-width:4; stroke-opacity:1; fill:none\" points=\"\n",
       "  287.366,1423.18 2352.76,1423.18 \n",
       "  \"/>\n",
       "<polyline clip-path=\"url(#clip710)\" style=\"stroke:#000000; stroke-width:4; stroke-opacity:1; fill:none\" points=\"\n",
       "  599.883,1423.18 599.883,1406.67 \n",
       "  \"/>\n",
       "<polyline clip-path=\"url(#clip710)\" style=\"stroke:#000000; stroke-width:4; stroke-opacity:1; fill:none\" points=\"\n",
       "  994.535,1423.18 994.535,1406.67 \n",
       "  \"/>\n",
       "<polyline clip-path=\"url(#clip710)\" style=\"stroke:#000000; stroke-width:4; stroke-opacity:1; fill:none\" points=\"\n",
       "  1389.19,1423.18 1389.19,1406.67 \n",
       "  \"/>\n",
       "<polyline clip-path=\"url(#clip710)\" style=\"stroke:#000000; stroke-width:4; stroke-opacity:1; fill:none\" points=\"\n",
       "  1783.84,1423.18 1783.84,1406.67 \n",
       "  \"/>\n",
       "<polyline clip-path=\"url(#clip710)\" style=\"stroke:#000000; stroke-width:4; stroke-opacity:1; fill:none\" points=\"\n",
       "  2178.49,1423.18 2178.49,1406.67 \n",
       "  \"/>\n",
       "<path clip-path=\"url(#clip710)\" d=\"M 0 0 M577.268 1452.37 Q573.657 1452.37 571.828 1455.94 Q570.022 1459.48 570.022 1466.61 Q570.022 1473.71 571.828 1477.28 Q573.657 1480.82 577.268 1480.82 Q580.902 1480.82 582.708 1477.28 Q584.536 1473.71 584.536 1466.61 Q584.536 1459.48 582.708 1455.94 Q580.902 1452.37 577.268 1452.37 M577.268 1448.67 Q583.078 1448.67 586.133 1453.27 Q589.212 1457.86 589.212 1466.61 Q589.212 1475.33 586.133 1479.94 Q583.078 1484.52 577.268 1484.52 Q571.458 1484.52 568.379 1479.94 Q565.323 1475.33 565.323 1466.61 Q565.323 1457.86 568.379 1453.27 Q571.458 1448.67 577.268 1448.67 Z\" fill=\"#000000\" fill-rule=\"evenodd\" fill-opacity=\"1\" /><path clip-path=\"url(#clip710)\" d=\"M 0 0 M597.43 1477.97 L602.314 1477.97 L602.314 1483.85 L597.43 1483.85 L597.43 1477.97 Z\" fill=\"#000000\" fill-rule=\"evenodd\" fill-opacity=\"1\" /><path clip-path=\"url(#clip710)\" d=\"M 0 0 M622.499 1452.37 Q618.888 1452.37 617.059 1455.94 Q615.254 1459.48 615.254 1466.61 Q615.254 1473.71 617.059 1477.28 Q618.888 1480.82 622.499 1480.82 Q626.133 1480.82 627.939 1477.28 Q629.767 1473.71 629.767 1466.61 Q629.767 1459.48 627.939 1455.94 Q626.133 1452.37 622.499 1452.37 M622.499 1448.67 Q628.309 1448.67 631.365 1453.27 Q634.443 1457.86 634.443 1466.61 Q634.443 1475.33 631.365 1479.94 Q628.309 1484.52 622.499 1484.52 Q616.689 1484.52 613.61 1479.94 Q610.555 1475.33 610.555 1466.61 Q610.555 1457.86 613.61 1453.27 Q616.689 1448.67 622.499 1448.67 Z\" fill=\"#000000\" fill-rule=\"evenodd\" fill-opacity=\"1\" /><path clip-path=\"url(#clip710)\" d=\"M 0 0 M972.533 1452.37 Q968.922 1452.37 967.093 1455.94 Q965.288 1459.48 965.288 1466.61 Q965.288 1473.71 967.093 1477.28 Q968.922 1480.82 972.533 1480.82 Q976.167 1480.82 977.973 1477.28 Q979.801 1473.71 979.801 1466.61 Q979.801 1459.48 977.973 1455.94 Q976.167 1452.37 972.533 1452.37 M972.533 1448.67 Q978.343 1448.67 981.399 1453.27 Q984.477 1457.86 984.477 1466.61 Q984.477 1475.33 981.399 1479.94 Q978.343 1484.52 972.533 1484.52 Q966.723 1484.52 963.644 1479.94 Q960.589 1475.33 960.589 1466.61 Q960.589 1457.86 963.644 1453.27 Q966.723 1448.67 972.533 1448.67 Z\" fill=\"#000000\" fill-rule=\"evenodd\" fill-opacity=\"1\" /><path clip-path=\"url(#clip710)\" d=\"M 0 0 M992.695 1477.97 L997.579 1477.97 L997.579 1483.85 L992.695 1483.85 L992.695 1477.97 Z\" fill=\"#000000\" fill-rule=\"evenodd\" fill-opacity=\"1\" /><path clip-path=\"url(#clip710)\" d=\"M 0 0 M1008.57 1479.92 L1016.21 1479.92 L1016.21 1453.55 L1007.9 1455.22 L1007.9 1450.96 L1016.17 1449.29 L1020.84 1449.29 L1020.84 1479.92 L1028.48 1479.92 L1028.48 1483.85 L1008.57 1483.85 L1008.57 1479.92 Z\" fill=\"#000000\" fill-rule=\"evenodd\" fill-opacity=\"1\" /><path clip-path=\"url(#clip710)\" d=\"M 0 0 M1367.37 1452.37 Q1363.76 1452.37 1361.93 1455.94 Q1360.12 1459.48 1360.12 1466.61 Q1360.12 1473.71 1361.93 1477.28 Q1363.76 1480.82 1367.37 1480.82 Q1371 1480.82 1372.81 1477.28 Q1374.64 1473.71 1374.64 1466.61 Q1374.64 1459.48 1372.81 1455.94 Q1371 1452.37 1367.37 1452.37 M1367.37 1448.67 Q1373.18 1448.67 1376.24 1453.27 Q1379.31 1457.86 1379.31 1466.61 Q1379.31 1475.33 1376.24 1479.94 Q1373.18 1484.52 1367.37 1484.52 Q1361.56 1484.52 1358.48 1479.94 Q1355.43 1475.33 1355.43 1466.61 Q1355.43 1457.86 1358.48 1453.27 Q1361.56 1448.67 1367.37 1448.67 Z\" fill=\"#000000\" fill-rule=\"evenodd\" fill-opacity=\"1\" /><path clip-path=\"url(#clip710)\" d=\"M 0 0 M1387.53 1477.97 L1392.42 1477.97 L1392.42 1483.85 L1387.53 1483.85 L1387.53 1477.97 Z\" fill=\"#000000\" fill-rule=\"evenodd\" fill-opacity=\"1\" /><path clip-path=\"url(#clip710)\" d=\"M 0 0 M1406.63 1479.92 L1422.95 1479.92 L1422.95 1483.85 L1401 1483.85 L1401 1479.92 Q1403.67 1477.16 1408.25 1472.53 Q1412.86 1467.88 1414.04 1466.54 Q1416.28 1464.01 1417.16 1462.28 Q1418.06 1460.52 1418.06 1458.83 Q1418.06 1456.07 1416.12 1454.34 Q1414.2 1452.6 1411.1 1452.6 Q1408.9 1452.6 1406.44 1453.37 Q1404.01 1454.13 1401.24 1455.68 L1401.24 1450.96 Q1404.06 1449.82 1406.51 1449.25 Q1408.97 1448.67 1411 1448.67 Q1416.37 1448.67 1419.57 1451.35 Q1422.76 1454.04 1422.76 1458.53 Q1422.76 1460.66 1421.95 1462.58 Q1421.17 1464.48 1419.06 1467.07 Q1418.48 1467.74 1415.38 1470.96 Q1412.28 1474.15 1406.63 1479.92 Z\" fill=\"#000000\" fill-rule=\"evenodd\" fill-opacity=\"1\" /><path clip-path=\"url(#clip710)\" d=\"M 0 0 M1761.55 1452.37 Q1757.94 1452.37 1756.11 1455.94 Q1754.3 1459.48 1754.3 1466.61 Q1754.3 1473.71 1756.11 1477.28 Q1757.94 1480.82 1761.55 1480.82 Q1765.18 1480.82 1766.99 1477.28 Q1768.82 1473.71 1768.82 1466.61 Q1768.82 1459.48 1766.99 1455.94 Q1765.18 1452.37 1761.55 1452.37 M1761.55 1448.67 Q1767.36 1448.67 1770.41 1453.27 Q1773.49 1457.86 1773.49 1466.61 Q1773.49 1475.33 1770.41 1479.94 Q1767.36 1484.52 1761.55 1484.52 Q1755.74 1484.52 1752.66 1479.94 Q1749.6 1475.33 1749.6 1466.61 Q1749.6 1457.86 1752.66 1453.27 Q1755.74 1448.67 1761.55 1448.67 Z\" fill=\"#000000\" fill-rule=\"evenodd\" fill-opacity=\"1\" /><path clip-path=\"url(#clip710)\" d=\"M 0 0 M1781.71 1477.97 L1786.59 1477.97 L1786.59 1483.85 L1781.71 1483.85 L1781.71 1477.97 Z\" fill=\"#000000\" fill-rule=\"evenodd\" fill-opacity=\"1\" /><path clip-path=\"url(#clip710)\" d=\"M 0 0 M1810.95 1465.22 Q1814.3 1465.94 1816.18 1468.2 Q1818.07 1470.47 1818.07 1473.81 Q1818.07 1478.92 1814.56 1481.72 Q1811.04 1484.52 1804.56 1484.52 Q1802.38 1484.52 1800.07 1484.08 Q1797.77 1483.67 1795.32 1482.81 L1795.32 1478.3 Q1797.26 1479.43 1799.58 1480.01 Q1801.89 1480.59 1804.42 1480.59 Q1808.82 1480.59 1811.11 1478.85 Q1813.42 1477.12 1813.42 1473.81 Q1813.42 1470.75 1811.27 1469.04 Q1809.14 1467.3 1805.32 1467.3 L1801.29 1467.3 L1801.29 1463.46 L1805.51 1463.46 Q1808.95 1463.46 1810.78 1462.09 Q1812.61 1460.7 1812.61 1458.11 Q1812.61 1455.45 1810.71 1454.04 Q1808.84 1452.6 1805.32 1452.6 Q1803.4 1452.6 1801.2 1453.02 Q1799 1453.44 1796.36 1454.31 L1796.36 1450.15 Q1799.02 1449.41 1801.34 1449.04 Q1803.68 1448.67 1805.74 1448.67 Q1811.06 1448.67 1814.16 1451.1 Q1817.26 1453.5 1817.26 1457.63 Q1817.26 1460.5 1815.62 1462.49 Q1813.98 1464.45 1810.95 1465.22 Z\" fill=\"#000000\" fill-rule=\"evenodd\" fill-opacity=\"1\" /><path clip-path=\"url(#clip710)\" d=\"M 0 0 M2155.63 1452.37 Q2152.02 1452.37 2150.19 1455.94 Q2148.39 1459.48 2148.39 1466.61 Q2148.39 1473.71 2150.19 1477.28 Q2152.02 1480.82 2155.63 1480.82 Q2159.27 1480.82 2161.07 1477.28 Q2162.9 1473.71 2162.9 1466.61 Q2162.9 1459.48 2161.07 1455.94 Q2159.27 1452.37 2155.63 1452.37 M2155.63 1448.67 Q2161.44 1448.67 2164.5 1453.27 Q2167.58 1457.86 2167.58 1466.61 Q2167.58 1475.33 2164.5 1479.94 Q2161.44 1484.52 2155.63 1484.52 Q2149.82 1484.52 2146.74 1479.94 Q2143.69 1475.33 2143.69 1466.61 Q2143.69 1457.86 2146.74 1453.27 Q2149.82 1448.67 2155.63 1448.67 Z\" fill=\"#000000\" fill-rule=\"evenodd\" fill-opacity=\"1\" /><path clip-path=\"url(#clip710)\" d=\"M 0 0 M2175.79 1477.97 L2180.68 1477.97 L2180.68 1483.85 L2175.79 1483.85 L2175.79 1477.97 Z\" fill=\"#000000\" fill-rule=\"evenodd\" fill-opacity=\"1\" /><path clip-path=\"url(#clip710)\" d=\"M 0 0 M2203.71 1453.37 L2191.9 1471.81 L2203.71 1471.81 L2203.71 1453.37 M2202.48 1449.29 L2208.36 1449.29 L2208.36 1471.81 L2213.29 1471.81 L2213.29 1475.7 L2208.36 1475.7 L2208.36 1483.85 L2203.71 1483.85 L2203.71 1475.7 L2188.11 1475.7 L2188.11 1471.19 L2202.48 1449.29 Z\" fill=\"#000000\" fill-rule=\"evenodd\" fill-opacity=\"1\" /><path clip-path=\"url(#clip710)\" d=\"M 0 0 M1201.47 1545.76 Q1203.54 1546.46 1205.48 1548.76 Q1207.45 1551.05 1209.42 1555.06 L1215.95 1568.04 L1209.04 1568.04 L1202.96 1555.85 Q1200.61 1551.08 1198.38 1549.52 Q1196.18 1547.96 1192.36 1547.96 L1185.36 1547.96 L1185.36 1568.04 L1178.93 1568.04 L1178.93 1520.52 L1193.45 1520.52 Q1201.6 1520.52 1205.61 1523.93 Q1209.62 1527.34 1209.62 1534.21 Q1209.62 1538.7 1207.52 1541.66 Q1205.45 1544.62 1201.47 1545.76 M1185.36 1525.81 L1185.36 1542.68 L1193.45 1542.68 Q1198.09 1542.68 1200.45 1540.54 Q1202.84 1538.38 1202.84 1534.21 Q1202.84 1530.04 1200.45 1527.94 Q1198.09 1525.81 1193.45 1525.81 L1185.36 1525.81 Z\" fill=\"#000000\" fill-rule=\"evenodd\" fill-opacity=\"1\" /><path clip-path=\"url(#clip710)\" d=\"M 0 0 M1251.53 1548.76 L1251.53 1551.62 L1224.61 1551.62 Q1224.99 1557.67 1228.24 1560.85 Q1231.51 1564 1237.34 1564 Q1240.71 1564 1243.86 1563.17 Q1247.05 1562.35 1250.17 1560.69 L1250.17 1566.23 Q1247.01 1567.57 1243.7 1568.27 Q1240.39 1568.97 1236.99 1568.97 Q1228.46 1568.97 1223.46 1564 Q1218.5 1559.04 1218.5 1550.57 Q1218.5 1541.82 1223.21 1536.69 Q1227.95 1531.54 1235.97 1531.54 Q1243.16 1531.54 1247.33 1536.18 Q1251.53 1540.8 1251.53 1548.76 M1245.68 1547.04 Q1245.61 1542.23 1242.97 1539.37 Q1240.36 1536.5 1236.03 1536.5 Q1231.13 1536.5 1228.17 1539.27 Q1225.24 1542.04 1224.8 1547.07 L1245.68 1547.04 Z\" fill=\"#000000\" fill-rule=\"evenodd\" fill-opacity=\"1\" /><path clip-path=\"url(#clip710)\" d=\"M 0 0 M1277.35 1550.12 Q1270.25 1550.12 1267.51 1551.75 Q1264.77 1553.37 1264.77 1557.29 Q1264.77 1560.4 1266.81 1562.25 Q1268.88 1564.07 1272.41 1564.07 Q1277.28 1564.07 1280.21 1560.63 Q1283.17 1557.16 1283.17 1551.43 L1283.17 1550.12 L1277.35 1550.12 M1289.03 1547.71 L1289.03 1568.04 L1283.17 1568.04 L1283.17 1562.63 Q1281.17 1565.88 1278.17 1567.44 Q1275.18 1568.97 1270.85 1568.97 Q1265.38 1568.97 1262.13 1565.91 Q1258.92 1562.82 1258.92 1557.67 Q1258.92 1551.65 1262.93 1548.6 Q1266.97 1545.54 1274.96 1545.54 L1283.17 1545.54 L1283.17 1544.97 Q1283.17 1540.93 1280.5 1538.73 Q1277.86 1536.5 1273.05 1536.5 Q1269.99 1536.5 1267.1 1537.23 Q1264.2 1537.97 1261.53 1539.43 L1261.53 1534.02 Q1264.74 1532.78 1267.77 1532.17 Q1270.79 1531.54 1273.65 1531.54 Q1281.39 1531.54 1285.21 1535.55 Q1289.03 1539.56 1289.03 1547.71 Z\" fill=\"#000000\" fill-rule=\"evenodd\" fill-opacity=\"1\" /><path clip-path=\"url(#clip710)\" d=\"M 0 0 M1301.09 1518.52 L1306.95 1518.52 L1306.95 1568.04 L1301.09 1568.04 L1301.09 1518.52 Z\" fill=\"#000000\" fill-rule=\"evenodd\" fill-opacity=\"1\" /><path clip-path=\"url(#clip710)\" d=\"M 0 0 M1356.12 1550.12 Q1349.02 1550.12 1346.29 1551.75 Q1343.55 1553.37 1343.55 1557.29 Q1343.55 1560.4 1345.59 1562.25 Q1347.66 1564.07 1351.19 1564.07 Q1356.06 1564.07 1358.99 1560.63 Q1361.95 1557.16 1361.95 1551.43 L1361.95 1550.12 L1356.12 1550.12 M1367.8 1547.71 L1367.8 1568.04 L1361.95 1568.04 L1361.95 1562.63 Q1359.94 1565.88 1356.95 1567.44 Q1353.96 1568.97 1349.63 1568.97 Q1344.16 1568.97 1340.91 1565.91 Q1337.69 1562.82 1337.69 1557.67 Q1337.69 1551.65 1341.7 1548.6 Q1345.75 1545.54 1353.74 1545.54 L1361.95 1545.54 L1361.95 1544.97 Q1361.95 1540.93 1359.27 1538.73 Q1356.63 1536.5 1351.83 1536.5 Q1348.77 1536.5 1345.87 1537.23 Q1342.98 1537.97 1340.3 1539.43 L1340.3 1534.02 Q1343.52 1532.78 1346.54 1532.17 Q1349.57 1531.54 1352.43 1531.54 Q1360.16 1531.54 1363.98 1535.55 Q1367.8 1539.56 1367.8 1547.71 Z\" fill=\"#000000\" fill-rule=\"evenodd\" fill-opacity=\"1\" /><path clip-path=\"url(#clip710)\" d=\"M 0 0 M1409.5 1532.4 L1396.61 1549.74 L1410.17 1568.04 L1403.26 1568.04 L1392.88 1554.04 L1382.51 1568.04 L1375.6 1568.04 L1389.45 1549.39 L1376.78 1532.4 L1383.69 1532.4 L1393.14 1545.1 L1402.59 1532.4 L1409.5 1532.4 Z\" fill=\"#000000\" fill-rule=\"evenodd\" fill-opacity=\"1\" /><path clip-path=\"url(#clip710)\" d=\"M 0 0 M1418.44 1532.4 L1424.3 1532.4 L1424.3 1568.04 L1418.44 1568.04 L1418.44 1532.4 M1418.44 1518.52 L1424.3 1518.52 L1424.3 1525.93 L1418.44 1525.93 L1418.44 1518.52 Z\" fill=\"#000000\" fill-rule=\"evenodd\" fill-opacity=\"1\" /><path clip-path=\"url(#clip710)\" d=\"M 0 0 M1459.28 1533.45 L1459.28 1538.98 Q1456.8 1537.71 1454.12 1537.07 Q1451.45 1536.44 1448.58 1536.44 Q1444.22 1536.44 1442.03 1537.77 Q1439.86 1539.11 1439.86 1541.79 Q1439.86 1543.82 1441.42 1545 Q1442.98 1546.15 1447.69 1547.2 L1449.7 1547.64 Q1455.94 1548.98 1458.55 1551.43 Q1461.19 1553.85 1461.19 1558.21 Q1461.19 1563.17 1457.24 1566.07 Q1453.33 1568.97 1446.45 1568.97 Q1443.59 1568.97 1440.47 1568.39 Q1437.38 1567.85 1433.94 1566.74 L1433.94 1560.69 Q1437.19 1562.38 1440.34 1563.24 Q1443.49 1564.07 1446.58 1564.07 Q1450.72 1564.07 1452.95 1562.66 Q1455.17 1561.23 1455.17 1558.65 Q1455.17 1556.27 1453.55 1554.99 Q1451.96 1553.72 1446.52 1552.54 L1444.48 1552.07 Q1439.04 1550.92 1436.62 1548.56 Q1434.2 1546.18 1434.2 1542.04 Q1434.2 1537.01 1437.76 1534.27 Q1441.33 1531.54 1447.88 1531.54 Q1451.13 1531.54 1454 1532.01 Q1456.86 1532.49 1459.28 1533.45 Z\" fill=\"#000000\" fill-rule=\"evenodd\" fill-opacity=\"1\" /><polyline clip-path=\"url(#clip712)\" style=\"stroke:#000000; stroke-width:2; stroke-opacity:0.1; fill:none\" points=\"\n",
       "  287.366,1327.19 2352.76,1327.19 \n",
       "  \"/>\n",
       "<polyline clip-path=\"url(#clip712)\" style=\"stroke:#000000; stroke-width:2; stroke-opacity:0.1; fill:none\" points=\"\n",
       "  287.366,1129.86 2352.76,1129.86 \n",
       "  \"/>\n",
       "<polyline clip-path=\"url(#clip712)\" style=\"stroke:#000000; stroke-width:2; stroke-opacity:0.1; fill:none\" points=\"\n",
       "  287.366,932.538 2352.76,932.538 \n",
       "  \"/>\n",
       "<polyline clip-path=\"url(#clip712)\" style=\"stroke:#000000; stroke-width:2; stroke-opacity:0.1; fill:none\" points=\"\n",
       "  287.366,735.212 2352.76,735.212 \n",
       "  \"/>\n",
       "<polyline clip-path=\"url(#clip712)\" style=\"stroke:#000000; stroke-width:2; stroke-opacity:0.1; fill:none\" points=\"\n",
       "  287.366,537.886 2352.76,537.886 \n",
       "  \"/>\n",
       "<polyline clip-path=\"url(#clip712)\" style=\"stroke:#000000; stroke-width:2; stroke-opacity:0.1; fill:none\" points=\"\n",
       "  287.366,340.561 2352.76,340.561 \n",
       "  \"/>\n",
       "<polyline clip-path=\"url(#clip712)\" style=\"stroke:#000000; stroke-width:2; stroke-opacity:0.1; fill:none\" points=\"\n",
       "  287.366,143.235 2352.76,143.235 \n",
       "  \"/>\n",
       "<polyline clip-path=\"url(#clip710)\" style=\"stroke:#000000; stroke-width:4; stroke-opacity:1; fill:none\" points=\"\n",
       "  287.366,1423.18 287.366,47.2441 \n",
       "  \"/>\n",
       "<polyline clip-path=\"url(#clip710)\" style=\"stroke:#000000; stroke-width:4; stroke-opacity:1; fill:none\" points=\"\n",
       "  287.366,1327.19 312.151,1327.19 \n",
       "  \"/>\n",
       "<polyline clip-path=\"url(#clip710)\" style=\"stroke:#000000; stroke-width:4; stroke-opacity:1; fill:none\" points=\"\n",
       "  287.366,1129.86 312.151,1129.86 \n",
       "  \"/>\n",
       "<polyline clip-path=\"url(#clip710)\" style=\"stroke:#000000; stroke-width:4; stroke-opacity:1; fill:none\" points=\"\n",
       "  287.366,932.538 312.151,932.538 \n",
       "  \"/>\n",
       "<polyline clip-path=\"url(#clip710)\" style=\"stroke:#000000; stroke-width:4; stroke-opacity:1; fill:none\" points=\"\n",
       "  287.366,735.212 312.151,735.212 \n",
       "  \"/>\n",
       "<polyline clip-path=\"url(#clip710)\" style=\"stroke:#000000; stroke-width:4; stroke-opacity:1; fill:none\" points=\"\n",
       "  287.366,537.886 312.151,537.886 \n",
       "  \"/>\n",
       "<polyline clip-path=\"url(#clip710)\" style=\"stroke:#000000; stroke-width:4; stroke-opacity:1; fill:none\" points=\"\n",
       "  287.366,340.561 312.151,340.561 \n",
       "  \"/>\n",
       "<polyline clip-path=\"url(#clip710)\" style=\"stroke:#000000; stroke-width:4; stroke-opacity:1; fill:none\" points=\"\n",
       "  287.366,143.235 312.151,143.235 \n",
       "  \"/>\n",
       "<path clip-path=\"url(#clip710)\" d=\"M 0 0 M115.256 1327.64 L144.931 1327.64 L144.931 1331.58 L115.256 1331.58 L115.256 1327.64 Z\" fill=\"#000000\" fill-rule=\"evenodd\" fill-opacity=\"1\" /><path clip-path=\"url(#clip710)\" d=\"M 0 0 M165.024 1312.99 Q161.413 1312.99 159.584 1316.55 Q157.778 1320.1 157.778 1327.22 Q157.778 1334.33 159.584 1337.9 Q161.413 1341.44 165.024 1341.44 Q168.658 1341.44 170.464 1337.9 Q172.292 1334.33 172.292 1327.22 Q172.292 1320.1 170.464 1316.55 Q168.658 1312.99 165.024 1312.99 M165.024 1309.29 Q170.834 1309.29 173.889 1313.89 Q176.968 1318.47 176.968 1327.22 Q176.968 1335.95 173.889 1340.56 Q170.834 1345.14 165.024 1345.14 Q159.214 1345.14 156.135 1340.56 Q153.079 1335.95 153.079 1327.22 Q153.079 1318.47 156.135 1313.89 Q159.214 1309.29 165.024 1309.29 Z\" fill=\"#000000\" fill-rule=\"evenodd\" fill-opacity=\"1\" /><path clip-path=\"url(#clip710)\" d=\"M 0 0 M185.186 1338.59 L190.07 1338.59 L190.07 1344.47 L185.186 1344.47 L185.186 1338.59 Z\" fill=\"#000000\" fill-rule=\"evenodd\" fill-opacity=\"1\" /><path clip-path=\"url(#clip710)\" d=\"M 0 0 M201.065 1340.53 L208.704 1340.53 L208.704 1314.17 L200.394 1315.84 L200.394 1311.58 L208.658 1309.91 L213.334 1309.91 L213.334 1340.53 L220.973 1340.53 L220.973 1344.47 L201.065 1344.47 L201.065 1340.53 Z\" fill=\"#000000\" fill-rule=\"evenodd\" fill-opacity=\"1\" /><path clip-path=\"url(#clip710)\" d=\"M 0 0 M230.463 1309.91 L248.82 1309.91 L248.82 1313.85 L234.746 1313.85 L234.746 1322.32 Q235.764 1321.97 236.783 1321.81 Q237.801 1321.62 238.82 1321.62 Q244.607 1321.62 247.986 1324.79 Q251.366 1327.97 251.366 1333.38 Q251.366 1338.96 247.894 1342.06 Q244.421 1345.14 238.102 1345.14 Q235.926 1345.14 233.658 1344.77 Q231.412 1344.4 229.005 1343.66 L229.005 1338.96 Q231.088 1340.1 233.31 1340.65 Q235.533 1341.21 238.009 1341.21 Q242.014 1341.21 244.352 1339.1 Q246.69 1336.99 246.69 1333.38 Q246.69 1329.77 244.352 1327.66 Q242.014 1325.56 238.009 1325.56 Q236.135 1325.56 234.26 1325.97 Q232.408 1326.39 230.463 1327.27 L230.463 1309.91 Z\" fill=\"#000000\" fill-rule=\"evenodd\" fill-opacity=\"1\" /><path clip-path=\"url(#clip710)\" d=\"M 0 0 M114.26 1130.32 L143.936 1130.32 L143.936 1134.25 L114.26 1134.25 L114.26 1130.32 Z\" fill=\"#000000\" fill-rule=\"evenodd\" fill-opacity=\"1\" /><path clip-path=\"url(#clip710)\" d=\"M 0 0 M164.028 1115.66 Q160.417 1115.66 158.589 1119.23 Q156.783 1122.77 156.783 1129.9 Q156.783 1137.01 158.589 1140.57 Q160.417 1144.11 164.028 1144.11 Q167.663 1144.11 169.468 1140.57 Q171.297 1137.01 171.297 1129.9 Q171.297 1122.77 169.468 1119.23 Q167.663 1115.66 164.028 1115.66 M164.028 1111.96 Q169.839 1111.96 172.894 1116.57 Q175.973 1121.15 175.973 1129.9 Q175.973 1138.63 172.894 1143.23 Q169.839 1147.82 164.028 1147.82 Q158.218 1147.82 155.14 1143.23 Q152.084 1138.63 152.084 1129.9 Q152.084 1121.15 155.14 1116.57 Q158.218 1111.96 164.028 1111.96 Z\" fill=\"#000000\" fill-rule=\"evenodd\" fill-opacity=\"1\" /><path clip-path=\"url(#clip710)\" d=\"M 0 0 M184.19 1141.26 L189.075 1141.26 L189.075 1147.14 L184.19 1147.14 L184.19 1141.26 Z\" fill=\"#000000\" fill-rule=\"evenodd\" fill-opacity=\"1\" /><path clip-path=\"url(#clip710)\" d=\"M 0 0 M200.07 1143.21 L207.709 1143.21 L207.709 1116.84 L199.399 1118.51 L199.399 1114.25 L207.662 1112.58 L212.338 1112.58 L212.338 1143.21 L219.977 1143.21 L219.977 1147.14 L200.07 1147.14 L200.07 1143.21 Z\" fill=\"#000000\" fill-rule=\"evenodd\" fill-opacity=\"1\" /><path clip-path=\"url(#clip710)\" d=\"M 0 0 M239.422 1115.66 Q235.81 1115.66 233.982 1119.23 Q232.176 1122.77 232.176 1129.9 Q232.176 1137.01 233.982 1140.57 Q235.81 1144.11 239.422 1144.11 Q243.056 1144.11 244.861 1140.57 Q246.69 1137.01 246.69 1129.9 Q246.69 1122.77 244.861 1119.23 Q243.056 1115.66 239.422 1115.66 M239.422 1111.96 Q245.232 1111.96 248.287 1116.57 Q251.366 1121.15 251.366 1129.9 Q251.366 1138.63 248.287 1143.23 Q245.232 1147.82 239.422 1147.82 Q233.611 1147.82 230.533 1143.23 Q227.477 1138.63 227.477 1129.9 Q227.477 1121.15 230.533 1116.57 Q233.611 1111.96 239.422 1111.96 Z\" fill=\"#000000\" fill-rule=\"evenodd\" fill-opacity=\"1\" /><path clip-path=\"url(#clip710)\" d=\"M 0 0 M115.256 932.99 L144.931 932.99 L144.931 936.925 L115.256 936.925 L115.256 932.99 Z\" fill=\"#000000\" fill-rule=\"evenodd\" fill-opacity=\"1\" /><path clip-path=\"url(#clip710)\" d=\"M 0 0 M165.024 918.337 Q161.413 918.337 159.584 921.902 Q157.778 925.443 157.778 932.573 Q157.778 939.679 159.584 943.244 Q161.413 946.786 165.024 946.786 Q168.658 946.786 170.464 943.244 Q172.292 939.679 172.292 932.573 Q172.292 925.443 170.464 921.902 Q168.658 918.337 165.024 918.337 M165.024 914.633 Q170.834 914.633 173.889 919.24 Q176.968 923.823 176.968 932.573 Q176.968 941.3 173.889 945.906 Q170.834 950.49 165.024 950.49 Q159.214 950.49 156.135 945.906 Q153.079 941.3 153.079 932.573 Q153.079 923.823 156.135 919.24 Q159.214 914.633 165.024 914.633 Z\" fill=\"#000000\" fill-rule=\"evenodd\" fill-opacity=\"1\" /><path clip-path=\"url(#clip710)\" d=\"M 0 0 M185.186 943.939 L190.07 943.939 L190.07 949.818 L185.186 949.818 L185.186 943.939 Z\" fill=\"#000000\" fill-rule=\"evenodd\" fill-opacity=\"1\" /><path clip-path=\"url(#clip710)\" d=\"M 0 0 M210.255 918.337 Q206.644 918.337 204.815 921.902 Q203.01 925.443 203.01 932.573 Q203.01 939.679 204.815 943.244 Q206.644 946.786 210.255 946.786 Q213.889 946.786 215.695 943.244 Q217.523 939.679 217.523 932.573 Q217.523 925.443 215.695 921.902 Q213.889 918.337 210.255 918.337 M210.255 914.633 Q216.065 914.633 219.121 919.24 Q222.199 923.823 222.199 932.573 Q222.199 941.3 219.121 945.906 Q216.065 950.49 210.255 950.49 Q204.445 950.49 201.366 945.906 Q198.311 941.3 198.311 932.573 Q198.311 923.823 201.366 919.24 Q204.445 914.633 210.255 914.633 Z\" fill=\"#000000\" fill-rule=\"evenodd\" fill-opacity=\"1\" /><path clip-path=\"url(#clip710)\" d=\"M 0 0 M230.463 915.258 L248.82 915.258 L248.82 919.193 L234.746 919.193 L234.746 927.666 Q235.764 927.318 236.783 927.156 Q237.801 926.971 238.82 926.971 Q244.607 926.971 247.986 930.142 Q251.366 933.314 251.366 938.73 Q251.366 944.309 247.894 947.411 Q244.421 950.49 238.102 950.49 Q235.926 950.49 233.658 950.119 Q231.412 949.749 229.005 949.008 L229.005 944.309 Q231.088 945.443 233.31 945.999 Q235.533 946.554 238.009 946.554 Q242.014 946.554 244.352 944.448 Q246.69 942.341 246.69 938.73 Q246.69 935.119 244.352 933.013 Q242.014 930.906 238.009 930.906 Q236.135 930.906 234.26 931.323 Q232.408 931.74 230.463 932.619 L230.463 915.258 Z\" fill=\"#000000\" fill-rule=\"evenodd\" fill-opacity=\"1\" /><path clip-path=\"url(#clip710)\" d=\"M 0 0 M164.028 721.011 Q160.417 721.011 158.589 724.576 Q156.783 728.118 156.783 735.247 Q156.783 742.354 158.589 745.918 Q160.417 749.46 164.028 749.46 Q167.663 749.46 169.468 745.918 Q171.297 742.354 171.297 735.247 Q171.297 728.118 169.468 724.576 Q167.663 721.011 164.028 721.011 M164.028 717.307 Q169.839 717.307 172.894 721.914 Q175.973 726.497 175.973 735.247 Q175.973 743.974 172.894 748.58 Q169.839 753.164 164.028 753.164 Q158.218 753.164 155.14 748.58 Q152.084 743.974 152.084 735.247 Q152.084 726.497 155.14 721.914 Q158.218 717.307 164.028 717.307 Z\" fill=\"#000000\" fill-rule=\"evenodd\" fill-opacity=\"1\" /><path clip-path=\"url(#clip710)\" d=\"M 0 0 M184.19 746.613 L189.075 746.613 L189.075 752.492 L184.19 752.492 L184.19 746.613 Z\" fill=\"#000000\" fill-rule=\"evenodd\" fill-opacity=\"1\" /><path clip-path=\"url(#clip710)\" d=\"M 0 0 M209.26 721.011 Q205.649 721.011 203.82 724.576 Q202.014 728.118 202.014 735.247 Q202.014 742.354 203.82 745.918 Q205.649 749.46 209.26 749.46 Q212.894 749.46 214.699 745.918 Q216.528 742.354 216.528 735.247 Q216.528 728.118 214.699 724.576 Q212.894 721.011 209.26 721.011 M209.26 717.307 Q215.07 717.307 218.125 721.914 Q221.204 726.497 221.204 735.247 Q221.204 743.974 218.125 748.58 Q215.07 753.164 209.26 753.164 Q203.449 753.164 200.371 748.58 Q197.315 743.974 197.315 735.247 Q197.315 726.497 200.371 721.914 Q203.449 717.307 209.26 717.307 Z\" fill=\"#000000\" fill-rule=\"evenodd\" fill-opacity=\"1\" /><path clip-path=\"url(#clip710)\" d=\"M 0 0 M239.422 721.011 Q235.81 721.011 233.982 724.576 Q232.176 728.118 232.176 735.247 Q232.176 742.354 233.982 745.918 Q235.81 749.46 239.422 749.46 Q243.056 749.46 244.861 745.918 Q246.69 742.354 246.69 735.247 Q246.69 728.118 244.861 724.576 Q243.056 721.011 239.422 721.011 M239.422 717.307 Q245.232 717.307 248.287 721.914 Q251.366 726.497 251.366 735.247 Q251.366 743.974 248.287 748.58 Q245.232 753.164 239.422 753.164 Q233.611 753.164 230.533 748.58 Q227.477 743.974 227.477 735.247 Q227.477 726.497 230.533 721.914 Q233.611 717.307 239.422 717.307 Z\" fill=\"#000000\" fill-rule=\"evenodd\" fill-opacity=\"1\" /><path clip-path=\"url(#clip710)\" d=\"M 0 0 M165.024 523.685 Q161.413 523.685 159.584 527.25 Q157.778 530.792 157.778 537.921 Q157.778 545.028 159.584 548.592 Q161.413 552.134 165.024 552.134 Q168.658 552.134 170.464 548.592 Q172.292 545.028 172.292 537.921 Q172.292 530.792 170.464 527.25 Q168.658 523.685 165.024 523.685 M165.024 519.981 Q170.834 519.981 173.889 524.588 Q176.968 529.171 176.968 537.921 Q176.968 546.648 173.889 551.254 Q170.834 555.838 165.024 555.838 Q159.214 555.838 156.135 551.254 Q153.079 546.648 153.079 537.921 Q153.079 529.171 156.135 524.588 Q159.214 519.981 165.024 519.981 Z\" fill=\"#000000\" fill-rule=\"evenodd\" fill-opacity=\"1\" /><path clip-path=\"url(#clip710)\" d=\"M 0 0 M185.186 549.287 L190.07 549.287 L190.07 555.166 L185.186 555.166 L185.186 549.287 Z\" fill=\"#000000\" fill-rule=\"evenodd\" fill-opacity=\"1\" /><path clip-path=\"url(#clip710)\" d=\"M 0 0 M210.255 523.685 Q206.644 523.685 204.815 527.25 Q203.01 530.792 203.01 537.921 Q203.01 545.028 204.815 548.592 Q206.644 552.134 210.255 552.134 Q213.889 552.134 215.695 548.592 Q217.523 545.028 217.523 537.921 Q217.523 530.792 215.695 527.25 Q213.889 523.685 210.255 523.685 M210.255 519.981 Q216.065 519.981 219.121 524.588 Q222.199 529.171 222.199 537.921 Q222.199 546.648 219.121 551.254 Q216.065 555.838 210.255 555.838 Q204.445 555.838 201.366 551.254 Q198.311 546.648 198.311 537.921 Q198.311 529.171 201.366 524.588 Q204.445 519.981 210.255 519.981 Z\" fill=\"#000000\" fill-rule=\"evenodd\" fill-opacity=\"1\" /><path clip-path=\"url(#clip710)\" d=\"M 0 0 M230.463 520.606 L248.82 520.606 L248.82 524.542 L234.746 524.542 L234.746 533.014 Q235.764 532.667 236.783 532.505 Q237.801 532.319 238.82 532.319 Q244.607 532.319 247.986 535.491 Q251.366 538.662 251.366 544.079 Q251.366 549.657 247.894 552.759 Q244.421 555.838 238.102 555.838 Q235.926 555.838 233.658 555.467 Q231.412 555.097 229.005 554.356 L229.005 549.657 Q231.088 550.792 233.31 551.347 Q235.533 551.903 238.009 551.903 Q242.014 551.903 244.352 549.796 Q246.69 547.69 246.69 544.079 Q246.69 540.467 244.352 538.361 Q242.014 536.255 238.009 536.255 Q236.135 536.255 234.26 536.671 Q232.408 537.088 230.463 537.967 L230.463 520.606 Z\" fill=\"#000000\" fill-rule=\"evenodd\" fill-opacity=\"1\" /><path clip-path=\"url(#clip710)\" d=\"M 0 0 M164.028 326.359 Q160.417 326.359 158.589 329.924 Q156.783 333.466 156.783 340.595 Q156.783 347.702 158.589 351.267 Q160.417 354.808 164.028 354.808 Q167.663 354.808 169.468 351.267 Q171.297 347.702 171.297 340.595 Q171.297 333.466 169.468 329.924 Q167.663 326.359 164.028 326.359 M164.028 322.656 Q169.839 322.656 172.894 327.262 Q175.973 331.845 175.973 340.595 Q175.973 349.322 172.894 353.929 Q169.839 358.512 164.028 358.512 Q158.218 358.512 155.14 353.929 Q152.084 349.322 152.084 340.595 Q152.084 331.845 155.14 327.262 Q158.218 322.656 164.028 322.656 Z\" fill=\"#000000\" fill-rule=\"evenodd\" fill-opacity=\"1\" /><path clip-path=\"url(#clip710)\" d=\"M 0 0 M184.19 351.961 L189.075 351.961 L189.075 357.841 L184.19 357.841 L184.19 351.961 Z\" fill=\"#000000\" fill-rule=\"evenodd\" fill-opacity=\"1\" /><path clip-path=\"url(#clip710)\" d=\"M 0 0 M200.07 353.905 L207.709 353.905 L207.709 327.54 L199.399 329.206 L199.399 324.947 L207.662 323.281 L212.338 323.281 L212.338 353.905 L219.977 353.905 L219.977 357.841 L200.07 357.841 L200.07 353.905 Z\" fill=\"#000000\" fill-rule=\"evenodd\" fill-opacity=\"1\" /><path clip-path=\"url(#clip710)\" d=\"M 0 0 M239.422 326.359 Q235.81 326.359 233.982 329.924 Q232.176 333.466 232.176 340.595 Q232.176 347.702 233.982 351.267 Q235.81 354.808 239.422 354.808 Q243.056 354.808 244.861 351.267 Q246.69 347.702 246.69 340.595 Q246.69 333.466 244.861 329.924 Q243.056 326.359 239.422 326.359 M239.422 322.656 Q245.232 322.656 248.287 327.262 Q251.366 331.845 251.366 340.595 Q251.366 349.322 248.287 353.929 Q245.232 358.512 239.422 358.512 Q233.611 358.512 230.533 353.929 Q227.477 349.322 227.477 340.595 Q227.477 331.845 230.533 327.262 Q233.611 322.656 239.422 322.656 Z\" fill=\"#000000\" fill-rule=\"evenodd\" fill-opacity=\"1\" /><path clip-path=\"url(#clip710)\" d=\"M 0 0 M165.024 129.033 Q161.413 129.033 159.584 132.598 Q157.778 136.14 157.778 143.269 Q157.778 150.376 159.584 153.941 Q161.413 157.482 165.024 157.482 Q168.658 157.482 170.464 153.941 Q172.292 150.376 172.292 143.269 Q172.292 136.14 170.464 132.598 Q168.658 129.033 165.024 129.033 M165.024 125.33 Q170.834 125.33 173.889 129.936 Q176.968 134.519 176.968 143.269 Q176.968 151.996 173.889 156.603 Q170.834 161.186 165.024 161.186 Q159.214 161.186 156.135 156.603 Q153.079 151.996 153.079 143.269 Q153.079 134.519 156.135 129.936 Q159.214 125.33 165.024 125.33 Z\" fill=\"#000000\" fill-rule=\"evenodd\" fill-opacity=\"1\" /><path clip-path=\"url(#clip710)\" d=\"M 0 0 M185.186 154.635 L190.07 154.635 L190.07 160.515 L185.186 160.515 L185.186 154.635 Z\" fill=\"#000000\" fill-rule=\"evenodd\" fill-opacity=\"1\" /><path clip-path=\"url(#clip710)\" d=\"M 0 0 M201.065 156.58 L208.704 156.58 L208.704 130.214 L200.394 131.881 L200.394 127.621 L208.658 125.955 L213.334 125.955 L213.334 156.58 L220.973 156.58 L220.973 160.515 L201.065 160.515 L201.065 156.58 Z\" fill=\"#000000\" fill-rule=\"evenodd\" fill-opacity=\"1\" /><path clip-path=\"url(#clip710)\" d=\"M 0 0 M230.463 125.955 L248.82 125.955 L248.82 129.89 L234.746 129.89 L234.746 138.362 Q235.764 138.015 236.783 137.853 Q237.801 137.668 238.82 137.668 Q244.607 137.668 247.986 140.839 Q251.366 144.01 251.366 149.427 Q251.366 155.005 247.894 158.107 Q244.421 161.186 238.102 161.186 Q235.926 161.186 233.658 160.816 Q231.412 160.445 229.005 159.704 L229.005 155.005 Q231.088 156.14 233.31 156.695 Q235.533 157.251 238.009 157.251 Q242.014 157.251 244.352 155.144 Q246.69 153.038 246.69 149.427 Q246.69 145.816 244.352 143.709 Q242.014 141.603 238.009 141.603 Q236.135 141.603 234.26 142.019 Q232.408 142.436 230.463 143.316 L230.463 125.955 Z\" fill=\"#000000\" fill-rule=\"evenodd\" fill-opacity=\"1\" /><path clip-path=\"url(#clip710)\" d=\"M 0 0 M16.4842 970.473 L16.4842 964.043 L64.0042 964.043 L64.0042 970.473 L16.4842 970.473 Z\" fill=\"#000000\" fill-rule=\"evenodd\" fill-opacity=\"1\" /><path clip-path=\"url(#clip710)\" d=\"M 0 0 M35.1993 923.748 Q31.2526 921.552 29.3747 918.497 Q27.4968 915.441 27.4968 911.303 Q27.4968 905.733 31.4117 902.71 Q35.2948 899.686 42.4881 899.686 L64.0042 899.686 L64.0042 905.574 L42.679 905.574 Q37.5546 905.574 35.072 907.388 Q32.5894 909.203 32.5894 912.927 Q32.5894 917.478 35.6131 920.12 Q38.6368 922.762 43.8567 922.762 L64.0042 922.762 L64.0042 928.65 L42.679 928.65 Q37.5228 928.65 35.072 930.464 Q32.5894 932.278 32.5894 936.066 Q32.5894 940.554 35.6449 943.196 Q38.6686 945.837 43.8567 945.837 L64.0042 945.837 L64.0042 951.726 L28.3562 951.726 L28.3562 945.837 L33.8944 945.837 Q30.616 943.832 29.0564 941.031 Q27.4968 938.23 27.4968 934.379 Q27.4968 930.496 29.4702 927.791 Q31.4436 925.053 35.1993 923.748 Z\" fill=\"#000000\" fill-rule=\"evenodd\" fill-opacity=\"1\" /><path clip-path=\"url(#clip710)\" d=\"M 0 0 M46.0847 871.804 Q46.0847 878.902 47.7079 881.639 Q49.3312 884.376 53.2461 884.376 Q56.3653 884.376 58.2114 882.339 Q60.0256 880.271 60.0256 876.738 Q60.0256 871.868 56.5881 868.94 Q53.1188 865.979 47.3897 865.979 L46.0847 865.979 L46.0847 871.804 M43.6657 860.123 L64.0042 860.123 L64.0042 865.979 L58.5933 865.979 Q61.8398 867.985 63.3994 870.977 Q64.9272 873.968 64.9272 878.297 Q64.9272 883.772 61.8716 887.018 Q58.7843 890.233 53.6281 890.233 Q47.6125 890.233 44.5569 886.222 Q41.5014 882.18 41.5014 874.191 L41.5014 865.979 L40.9285 865.979 Q36.8862 865.979 34.6901 868.653 Q32.4621 871.295 32.4621 876.101 Q32.4621 879.157 33.1941 882.053 Q33.9262 884.949 35.3903 887.623 L29.9795 887.623 Q28.7381 884.408 28.1334 881.385 Q27.4968 878.361 27.4968 875.496 Q27.4968 867.762 31.5072 863.942 Q35.5176 860.123 43.6657 860.123 Z\" fill=\"#000000\" fill-rule=\"evenodd\" fill-opacity=\"1\" /><path clip-path=\"url(#clip710)\" d=\"M 0 0 M45.7664 824.602 Q39.4007 824.602 35.8996 827.244 Q32.3984 829.854 32.3984 834.597 Q32.3984 839.307 35.8996 841.949 Q39.4007 844.559 45.7664 844.559 Q52.1003 844.559 55.6014 841.949 Q59.1026 839.307 59.1026 834.597 Q59.1026 829.854 55.6014 827.244 Q52.1003 824.602 45.7664 824.602 M59.58 818.746 Q68.683 818.746 73.1071 822.788 Q77.5631 826.83 77.5631 835.169 Q77.5631 838.257 77.0857 840.994 Q76.6401 843.731 75.6852 846.309 L69.9879 846.309 Q71.3884 843.731 72.0568 841.217 Q72.7252 838.702 72.7252 836.093 Q72.7252 830.332 69.7015 827.467 Q66.7096 824.602 60.6303 824.602 L57.7339 824.602 Q60.885 826.417 62.4446 829.249 Q64.0042 832.082 64.0042 836.029 Q64.0042 842.586 59.0071 846.596 Q54.01 850.606 45.7664 850.606 Q37.491 850.606 32.4939 846.596 Q27.4968 842.586 27.4968 836.029 Q27.4968 832.082 29.0564 829.249 Q30.616 826.417 33.7671 824.602 L28.3562 824.602 L28.3562 818.746 L59.58 818.746 Z\" fill=\"#000000\" fill-rule=\"evenodd\" fill-opacity=\"1\" /><path clip-path=\"url(#clip710)\" d=\"M 0 0 M28.3562 806.683 L28.3562 800.826 L64.0042 800.826 L64.0042 806.683 L28.3562 806.683 M14.479 806.683 L14.479 800.826 L21.895 800.826 L21.895 806.683 L14.479 806.683 Z\" fill=\"#000000\" fill-rule=\"evenodd\" fill-opacity=\"1\" /><path clip-path=\"url(#clip710)\" d=\"M 0 0 M42.4881 758.94 L64.0042 758.94 L64.0042 764.797 L42.679 764.797 Q37.6183 764.797 35.1038 766.77 Q32.5894 768.743 32.5894 772.69 Q32.5894 777.433 35.6131 780.17 Q38.6368 782.907 43.8567 782.907 L64.0042 782.907 L64.0042 788.795 L28.3562 788.795 L28.3562 782.907 L33.8944 782.907 Q30.6797 780.806 29.0883 777.974 Q27.4968 775.109 27.4968 771.385 Q27.4968 765.242 31.3163 762.091 Q35.1038 758.94 42.4881 758.94 Z\" fill=\"#000000\" fill-rule=\"evenodd\" fill-opacity=\"1\" /><path clip-path=\"url(#clip710)\" d=\"M 0 0 M46.0847 731.058 Q46.0847 738.156 47.7079 740.893 Q49.3312 743.631 53.2461 743.631 Q56.3653 743.631 58.2114 741.594 Q60.0256 739.525 60.0256 735.992 Q60.0256 731.122 56.5881 728.194 Q53.1188 725.234 47.3897 725.234 L46.0847 725.234 L46.0847 731.058 M43.6657 719.377 L64.0042 719.377 L64.0042 725.234 L58.5933 725.234 Q61.8398 727.239 63.3994 730.231 Q64.9272 733.223 64.9272 737.551 Q64.9272 743.026 61.8716 746.272 Q58.7843 749.487 53.6281 749.487 Q47.6125 749.487 44.5569 745.477 Q41.5014 741.434 41.5014 733.445 L41.5014 725.234 L40.9285 725.234 Q36.8862 725.234 34.6901 727.907 Q32.4621 730.549 32.4621 735.355 Q32.4621 738.411 33.1941 741.307 Q33.9262 744.204 35.3903 746.877 L29.9795 746.877 Q28.7381 743.662 28.1334 740.639 Q27.4968 737.615 27.4968 734.75 Q27.4968 727.016 31.5072 723.197 Q35.5176 719.377 43.6657 719.377 Z\" fill=\"#000000\" fill-rule=\"evenodd\" fill-opacity=\"1\" /><path clip-path=\"url(#clip710)\" d=\"M 0 0 M33.8307 686.658 Q33.2578 687.644 33.0032 688.822 Q32.7167 689.968 32.7167 691.368 Q32.7167 696.333 35.9632 699.007 Q39.1779 701.649 45.2253 701.649 L64.0042 701.649 L64.0042 707.537 L28.3562 707.537 L28.3562 701.649 L33.8944 701.649 Q30.6479 699.803 29.0883 696.843 Q27.4968 693.883 27.4968 689.649 Q27.4968 689.045 27.5923 688.313 Q27.656 687.581 27.8151 686.689 L33.8307 686.658 Z\" fill=\"#000000\" fill-rule=\"evenodd\" fill-opacity=\"1\" /><path clip-path=\"url(#clip710)\" d=\"M 0 0 M67.3143 665.683 Q73.68 668.165 75.6216 670.52 Q77.5631 672.876 77.5631 676.823 L77.5631 681.501 L72.6615 681.501 L72.6615 678.064 Q72.6615 675.645 71.5157 674.308 Q70.3699 672.971 66.1048 671.348 L63.4312 670.298 L28.3562 684.716 L28.3562 678.509 L56.238 667.369 L28.3562 656.229 L28.3562 650.023 L67.3143 665.683 Z\" fill=\"#000000\" fill-rule=\"evenodd\" fill-opacity=\"1\" /><path clip-path=\"url(#clip710)\" d=\"M 0 0 M46.0847 605.017 Q46.0847 612.115 47.7079 614.852 Q49.3312 617.59 53.2461 617.59 Q56.3653 617.59 58.2114 615.553 Q60.0256 613.484 60.0256 609.951 Q60.0256 605.081 56.5881 602.153 Q53.1188 599.193 47.3897 599.193 L46.0847 599.193 L46.0847 605.017 M43.6657 593.336 L64.0042 593.336 L64.0042 599.193 L58.5933 599.193 Q61.8398 601.198 63.3994 604.19 Q64.9272 607.182 64.9272 611.51 Q64.9272 616.985 61.8716 620.231 Q58.7843 623.446 53.6281 623.446 Q47.6125 623.446 44.5569 619.436 Q41.5014 615.393 41.5014 607.404 L41.5014 599.193 L40.9285 599.193 Q36.8862 599.193 34.6901 601.866 Q32.4621 604.508 32.4621 609.314 Q32.4621 612.37 33.1941 615.266 Q33.9262 618.163 35.3903 620.836 L29.9795 620.836 Q28.7381 617.621 28.1334 614.598 Q27.4968 611.574 27.4968 608.709 Q27.4968 600.975 31.5072 597.156 Q35.5176 593.336 43.6657 593.336 Z\" fill=\"#000000\" fill-rule=\"evenodd\" fill-opacity=\"1\" /><path clip-path=\"url(#clip710)\" d=\"M 0 0 M28.3562 551.641 L45.7028 564.531 L64.0042 550.973 L64.0042 557.879 L49.9996 568.255 L64.0042 578.631 L64.0042 585.538 L45.3526 571.693 L28.3562 584.361 L28.3562 577.454 L41.0558 568.001 L28.3562 558.548 L28.3562 551.641 Z\" fill=\"#000000\" fill-rule=\"evenodd\" fill-opacity=\"1\" /><path clip-path=\"url(#clip710)\" d=\"M 0 0 M28.3562 542.697 L28.3562 536.841 L64.0042 536.841 L64.0042 542.697 L28.3562 542.697 M14.479 542.697 L14.479 536.841 L21.895 536.841 L21.895 542.697 L14.479 542.697 Z\" fill=\"#000000\" fill-rule=\"evenodd\" fill-opacity=\"1\" /><path clip-path=\"url(#clip710)\" d=\"M 0 0 M29.4065 501.861 L34.9447 501.861 Q33.6716 504.344 33.035 507.017 Q32.3984 509.691 32.3984 512.555 Q32.3984 516.916 33.7352 519.112 Q35.072 521.276 37.7456 521.276 Q39.7826 521.276 40.9603 519.717 Q42.1061 518.157 43.1565 513.447 L43.6021 511.441 Q44.9389 505.203 47.3897 502.593 Q49.8086 499.951 54.1691 499.951 Q59.1344 499.951 62.0308 503.898 Q64.9272 507.813 64.9272 514.688 Q64.9272 517.553 64.3543 520.672 Q63.8132 523.759 62.6992 527.197 L56.6518 527.197 Q58.3387 523.95 59.198 520.799 Q60.0256 517.648 60.0256 514.561 Q60.0256 510.423 58.6251 508.195 Q57.1929 505.967 54.6147 505.967 Q52.2276 505.967 50.9545 507.59 Q49.6813 509.182 48.5037 514.624 L48.0262 516.661 Q46.8804 522.104 44.5251 524.523 Q42.138 526.942 38.0002 526.942 Q32.9713 526.942 30.2341 523.377 Q27.4968 519.812 27.4968 513.256 Q27.4968 510.009 27.9743 507.145 Q28.4517 504.28 29.4065 501.861 Z\" fill=\"#000000\" fill-rule=\"evenodd\" fill-opacity=\"1\" /><path clip-path=\"url(#clip712)\" d=\"\n",
       "M672.082 408.95 L675.345 408.966 L678.607 409.015 L681.868 409.097 L685.129 409.211 L688.388 409.358 L691.646 409.537 L694.902 409.749 L698.155 409.993 L701.406 410.27 \n",
       "  L704.654 410.58 L707.899 410.922 L711.14 411.296 L714.377 411.703 L717.61 412.142 L720.838 412.613 L724.062 413.117 L727.28 413.653 L730.493 414.221 L733.7 414.821 \n",
       "  L736.9 415.453 L740.095 416.117 L743.282 416.814 L746.463 417.541 L749.636 418.301 L752.801 419.092 L755.958 419.915 L759.107 420.77 L762.247 421.656 L765.378 422.573 \n",
       "  L768.499 423.522 L771.611 424.502 L774.713 425.512 L777.805 426.554 L780.886 427.627 L783.957 428.73 L787.016 429.864 L790.064 431.029 L793.1 432.224 L796.123 433.449 \n",
       "  L799.135 434.705 L802.133 435.99 L805.119 437.306 L808.091 438.651 L811.05 440.026 L813.995 441.43 L816.926 442.864 L819.842 444.327 L822.743 445.819 L825.63 447.34 \n",
       "  L828.501 448.89 L831.356 450.468 L834.195 452.075 L837.019 453.711 L839.825 455.374 L842.615 457.065 L845.388 458.785 L848.144 460.532 L850.882 462.306 L853.602 464.107 \n",
       "  L856.304 465.936 L858.987 467.792 L861.652 469.674 L864.298 471.583 L866.925 473.519 L869.532 475.48 L872.119 477.467 L874.687 479.481 L877.234 481.519 L879.76 483.584 \n",
       "  L882.266 485.673 L884.751 487.787 L887.215 489.926 L889.657 492.09 L892.077 494.278 L894.475 496.49 L896.851 498.725 L899.205 500.985 L901.536 503.268 L903.844 505.574 \n",
       "  L906.129 507.903 L908.39 510.255 L910.628 512.629 L912.841 515.026 L915.031 517.444 L917.197 519.885 L919.338 522.346 L921.454 524.83 L923.545 527.334 L925.611 529.859 \n",
       "  L927.652 532.404 L929.668 534.97 L931.657 537.556 L933.621 540.161 L935.558 542.787 L937.469 545.431 L939.354 548.094 L941.211 550.776 L943.042 553.477 L944.846 556.195 \n",
       "  L946.623 558.932 L948.372 561.686 L950.093 564.458 L951.787 567.246 L953.452 570.052 L955.09 572.874 L956.699 575.712 L958.28 578.566 L959.832 581.436 L961.355 584.321 \n",
       "  L962.85 587.221 L964.315 590.136 L965.751 593.065 L967.158 596.009 L968.535 598.967 L969.883 601.938 L971.201 604.923 L972.489 607.92 L973.746 610.931 L974.974 613.954 \n",
       "  L976.172 616.989 L977.339 620.035 L978.475 623.094 L979.581 626.163 L980.656 629.243 L981.7 632.334 L982.714 635.436 L983.696 638.547 L984.647 641.668 L985.567 644.798 \n",
       "  L986.455 647.938 L987.312 651.086 L988.138 654.242 L988.931 657.407 L989.694 660.579 L990.424 663.759 L991.123 666.946 L991.789 670.139 L992.424 673.34 L993.027 676.546 \n",
       "  L993.597 679.758 L994.136 682.976 L994.642 686.199 L995.116 689.427 L995.558 692.66 L995.967 695.897 L996.344 699.138 L996.689 702.382 L997.001 705.63 L997.28 708.88 \n",
       "  L997.527 712.133 L997.742 715.389 L997.924 718.647 L998.073 721.906 L998.19 725.166 L998.274 728.428 L998.326 731.69 L998.345 734.953 L998.331 738.215 L998.284 741.477 \n",
       "  L998.206 744.739 L998.094 748 L997.95 751.259 L997.773 754.517 L997.564 757.773 L997.322 761.027 L997.047 764.278 L996.741 767.526 L996.401 770.771 L996.029 774.012 \n",
       "  L995.625 777.25 L995.189 780.483 L994.72 783.712 L994.219 786.935 L993.685 790.154 L993.12 793.367 L992.522 796.575 L991.893 799.776 L991.231 802.971 L990.537 806.159 \n",
       "  L989.812 809.34 L989.055 812.513 L988.266 815.679 L987.446 818.837 L986.594 821.986 L985.71 825.127 L984.795 828.259 L983.849 831.381 L982.872 834.494 L981.864 837.597 \n",
       "  L980.824 840.69 L979.754 843.772 L978.653 846.843 L977.522 849.903 L976.359 852.952 L975.167 855.989 L973.944 859.013 L972.691 862.026 L971.408 865.025 L970.095 868.012 \n",
       "  L968.752 870.986 L967.379 873.945 L965.977 876.891 L964.546 879.823 L963.085 882.741 L961.595 885.643 L960.076 888.531 L958.529 891.403 L956.953 894.26 L955.348 897.1 \n",
       "  L953.715 899.925 L952.054 902.733 L950.365 905.524 L948.648 908.298 L946.903 911.055 L945.131 913.795 L943.331 916.516 L941.505 919.22 L939.651 921.905 L937.771 924.571 \n",
       "  L935.864 927.218 L933.931 929.846 L931.972 932.455 L929.986 935.044 L927.975 937.613 L925.938 940.162 L923.876 942.69 L921.789 945.198 L919.676 947.684 L917.539 950.15 \n",
       "  L915.378 952.593 L913.192 955.015 L910.982 957.415 L908.748 959.793 L906.49 962.149 L904.209 964.481 L901.905 966.791 L899.578 969.078 L897.228 971.341 L894.855 973.581 \n",
       "  L892.46 975.796 L890.044 977.988 L887.605 980.156 L885.145 982.298 L882.663 984.417 L880.161 986.51 L877.637 988.578 L875.094 990.621 L872.529 992.638 L869.945 994.63 \n",
       "  L867.341 996.596 L864.718 998.535 L862.075 1000.45 L859.413 1002.33 L856.732 1004.19 L854.033 1006.03 L851.316 1007.83 L848.581 1009.61 L845.828 1011.36 L843.058 1013.09 \n",
       "  L840.271 1014.78 L837.467 1016.45 L834.646 1018.09 L831.809 1019.7 L828.956 1021.29 L826.088 1022.84 L823.204 1024.37 L820.305 1025.86 L817.391 1027.33 L814.463 1028.77 \n",
       "  L811.52 1030.18 L808.564 1031.56 L805.593 1032.91 L802.61 1034.23 L799.613 1035.52 L796.604 1036.78 L793.582 1038.01 L790.548 1039.21 L787.502 1040.38 L784.445 1041.52 \n",
       "  L781.376 1042.62 L778.297 1043.7 L775.206 1044.75 L772.106 1045.76 L768.996 1046.75 L765.875 1047.7 L762.746 1048.62 L759.607 1049.52 L756.46 1050.38 L753.304 1051.2 \n",
       "  L750.14 1052 L746.968 1052.76 L743.789 1053.5 L740.603 1054.2 L737.41 1054.87 L734.21 1055.51 L731.004 1056.11 L727.792 1056.68 L724.575 1057.22 L721.352 1057.73 \n",
       "  L718.124 1058.21 L714.892 1058.65 L711.655 1059.07 L708.415 1059.45 L705.171 1059.79 L701.924 1060.11 L698.673 1060.39 L695.42 1060.64 L692.165 1060.86 L688.907 1061.04 \n",
       "  L685.648 1061.19 L682.388 1061.31 L679.126 1061.4 L675.864 1061.45 L672.602 1061.47 L669.339 1061.46 L666.077 1061.42 L662.815 1061.34 L659.554 1061.23 L656.295 1061.09 \n",
       "  L653.037 1060.92 L649.781 1060.71 L646.527 1060.47 L643.276 1060.2 L640.027 1059.9 L636.782 1059.56 L633.54 1059.19 L630.303 1058.79 L627.069 1058.35 L623.84 1057.89 \n",
       "  L620.616 1057.39 L617.396 1056.86 L614.183 1056.3 L610.975 1055.7 L607.773 1055.07 L604.578 1054.42 L601.389 1053.72 L598.208 1053 L595.033 1052.25 L591.867 1051.46 \n",
       "  L588.709 1050.64 L585.558 1049.79 L582.417 1048.91 L579.285 1048 L576.161 1047.06 L573.048 1046.08 L569.944 1045.08 L566.851 1044.04 L563.768 1042.97 L560.696 1041.87 \n",
       "  L557.635 1040.74 L554.585 1039.58 L551.547 1038.39 L548.522 1037.17 L545.508 1035.92 L542.507 1034.64 L539.52 1033.33 L536.545 1031.99 L533.584 1030.62 L530.637 1029.22 \n",
       "  L527.704 1027.79 L524.786 1026.33 L521.882 1024.85 L518.993 1023.33 L516.12 1021.78 L513.262 1020.21 L510.42 1018.61 L507.594 1016.98 L504.785 1015.32 L501.992 1013.63 \n",
       "  L499.216 1011.92 L496.458 1010.17 L493.717 1008.4 L490.994 1006.61 L488.289 1004.78 L485.603 1002.93 L482.935 1001.05 L480.286 999.147 L477.657 997.216 L475.046 995.259 \n",
       "  L472.456 993.276 L469.885 991.266 L467.335 989.232 L464.805 987.172 L462.296 985.086 L459.807 982.976 L457.34 980.841 L454.895 978.681 L452.471 976.497 L450.069 974.289 \n",
       "  L447.69 972.057 L445.332 969.801 L442.998 967.522 L440.686 965.22 L438.398 962.894 L436.133 960.546 L433.891 958.175 L431.674 955.782 L429.48 953.367 L427.311 950.93 \n",
       "  L425.166 948.472 L423.045 945.992 L420.95 943.491 L418.88 940.97 L416.835 938.427 L414.816 935.865 L412.822 933.282 L410.854 930.68 L408.913 928.058 L406.998 925.416 \n",
       "  L405.109 922.756 L403.247 920.077 L401.412 917.379 L399.603 914.664 L397.823 911.93 L396.069 909.178 L394.343 906.41 L392.645 903.624 L390.975 900.821 L389.333 898.002 \n",
       "  L387.719 895.166 L386.134 892.315 L384.577 889.447 L383.049 886.565 L381.55 883.667 L380.08 880.754 L378.64 877.827 L377.228 874.885 L375.846 871.93 L374.494 868.961 \n",
       "  L373.171 865.978 L371.879 862.983 L370.616 859.974 L369.383 856.953 L368.181 853.92 L367.009 850.875 L365.868 847.819 L364.757 844.751 L363.677 841.673 L362.628 838.583 \n",
       "  L361.61 835.484 L360.623 832.374 L359.667 829.255 L358.742 826.126 L357.848 822.988 L356.986 819.841 L356.156 816.686 L355.357 813.523 L354.59 810.352 L353.854 807.173 \n",
       "  L353.15 803.987 L352.479 800.794 L351.839 797.595 L351.231 794.39 L350.655 791.178 L350.112 787.961 L349.6 784.739 L349.121 781.512 L348.674 778.28 L348.26 775.044 \n",
       "  L347.878 771.804 L347.528 768.56 L347.211 765.313 L346.926 762.062 L346.674 758.81 L346.454 755.554 L346.267 752.297 L346.112 749.038 L345.991 745.778 L345.901 742.516 \n",
       "  L345.844 739.254 L345.82 735.992 L345.829 732.729 L345.87 729.467 L345.944 726.205 L346.05 722.944 L346.189 719.685 L346.361 716.426 L346.565 713.17 L346.802 709.916 \n",
       "  L347.071 706.665 L347.372 703.416 L347.707 700.171 L348.073 696.929 L348.472 693.691 L348.904 690.457 L349.367 687.227 L349.863 684.002 L350.392 680.783 L350.952 677.569 \n",
       "  L351.544 674.36 L352.169 671.158 L352.826 667.962 L353.514 664.773 L354.234 661.591 L354.986 658.416 L355.77 655.249 L356.586 652.09 L357.433 648.939 L358.311 645.797 \n",
       "  L359.221 642.664 L360.162 639.54 L361.134 636.426 L362.138 633.321 L363.172 630.227 L364.237 627.143 L365.333 624.07 L366.46 621.008 L367.617 617.958 L368.805 614.919 \n",
       "  L370.023 611.892 L371.272 608.878 L372.55 605.876 L373.858 602.887 L375.196 599.912 L376.564 596.95 L377.962 594.002 L379.388 591.068 L380.844 588.148 L382.33 585.243 \n",
       "  L383.844 582.353 L385.387 579.478 L386.958 576.619 L388.559 573.776 L390.187 570.949 L391.844 568.138 L393.529 565.344 L395.241 562.567 L396.981 559.807 L398.749 557.065 \n",
       "  L400.544 554.341 L402.367 551.634 L404.216 548.947 L406.092 546.277 L407.994 543.627 L409.923 540.996 L411.879 538.384 L413.86 535.792 L415.867 533.219 L417.9 530.667 \n",
       "  L419.958 528.136 L422.041 525.625 L424.15 523.135 L426.283 520.666 L428.44 518.219 L430.622 515.794 L432.829 513.39 L435.059 511.009 L437.313 508.65 L439.59 506.313 \n",
       "  L441.891 504 L444.214 501.71 L446.561 499.443 L448.93 497.199 L451.321 494.98 L453.734 492.784 L456.169 490.613 L458.626 488.466 L461.104 486.344 L463.603 484.246 \n",
       "  L466.123 482.174 L468.664 480.127 L471.225 478.106 L473.806 476.11 L476.407 474.14 L479.027 472.197 L481.667 470.279 L484.326 468.389 L487.004 466.524 L489.7 464.687 \n",
       "  L492.414 462.877 L495.146 461.094 L497.896 459.338 L500.664 457.61 L503.448 455.91 L506.25 454.237 L509.068 452.593 L511.902 450.977 L514.752 449.39 L517.618 447.831 \n",
       "  L520.5 446.3 L523.396 444.799 L526.308 443.327 L529.234 441.884 L532.174 440.47 L535.129 439.086 L538.097 437.731 L541.078 436.406 L544.073 435.111 L547.08 433.846 \n",
       "  L550.1 432.611 L553.132 431.406 L556.176 430.232 L559.232 429.088 L562.298 427.975 L565.376 426.892 L568.465 425.841 L571.564 424.82 L574.672 423.83 L577.791 422.872 \n",
       "  L580.919 421.945 L584.056 421.049 L587.202 420.184 L590.357 419.351 L593.519 418.55 L596.69 417.78 L599.868 417.042 L603.053 416.336 L606.245 415.661 L609.444 415.019 \n",
       "  L612.649 414.409 L615.86 413.83 L619.077 413.284 L622.299 412.77 L625.525 412.289 L628.757 411.839 L631.993 411.422 L635.233 411.037 L638.476 410.685 L641.723 410.365 \n",
       "  L644.973 410.078 L648.226 409.823 L651.481 409.601 L654.738 409.411 L657.997 409.254 L661.257 409.129 L664.518 409.037 L667.78 408.978 L671.043 408.951 L672.082 408.95 \n",
       "   Z\n",
       "  \" fill=\"#ff0000\" fill-rule=\"evenodd\" fill-opacity=\"0.5\"/>\n",
       "<polyline clip-path=\"url(#clip712)\" style=\"stroke:#000000; stroke-width:4; stroke-opacity:1; fill:none\" points=\"\n",
       "  672.082,408.95 675.345,408.966 678.607,409.015 681.868,409.097 685.129,409.211 688.388,409.358 691.646,409.537 694.902,409.749 698.155,409.993 701.406,410.27 \n",
       "  704.654,410.58 707.899,410.922 711.14,411.296 714.377,411.703 717.61,412.142 720.838,412.613 724.062,413.117 727.28,413.653 730.493,414.221 733.7,414.821 \n",
       "  736.9,415.453 740.095,416.117 743.282,416.814 746.463,417.541 749.636,418.301 752.801,419.092 755.958,419.915 759.107,420.77 762.247,421.656 765.378,422.573 \n",
       "  768.499,423.522 771.611,424.502 774.713,425.512 777.805,426.554 780.886,427.627 783.957,428.73 787.016,429.864 790.064,431.029 793.1,432.224 796.123,433.449 \n",
       "  799.135,434.705 802.133,435.99 805.119,437.306 808.091,438.651 811.05,440.026 813.995,441.43 816.926,442.864 819.842,444.327 822.743,445.819 825.63,447.34 \n",
       "  828.501,448.89 831.356,450.468 834.195,452.075 837.019,453.711 839.825,455.374 842.615,457.065 845.388,458.785 848.144,460.532 850.882,462.306 853.602,464.107 \n",
       "  856.304,465.936 858.987,467.792 861.652,469.674 864.298,471.583 866.925,473.519 869.532,475.48 872.119,477.467 874.687,479.481 877.234,481.519 879.76,483.584 \n",
       "  882.266,485.673 884.751,487.787 887.215,489.926 889.657,492.09 892.077,494.278 894.475,496.49 896.851,498.725 899.205,500.985 901.536,503.268 903.844,505.574 \n",
       "  906.129,507.903 908.39,510.255 910.628,512.629 912.841,515.026 915.031,517.444 917.197,519.885 919.338,522.346 921.454,524.83 923.545,527.334 925.611,529.859 \n",
       "  927.652,532.404 929.668,534.97 931.657,537.556 933.621,540.161 935.558,542.787 937.469,545.431 939.354,548.094 941.211,550.776 943.042,553.477 944.846,556.195 \n",
       "  946.623,558.932 948.372,561.686 950.093,564.458 951.787,567.246 953.452,570.052 955.09,572.874 956.699,575.712 958.28,578.566 959.832,581.436 961.355,584.321 \n",
       "  962.85,587.221 964.315,590.136 965.751,593.065 967.158,596.009 968.535,598.967 969.883,601.938 971.201,604.923 972.489,607.92 973.746,610.931 974.974,613.954 \n",
       "  976.172,616.989 977.339,620.035 978.475,623.094 979.581,626.163 980.656,629.243 981.7,632.334 982.714,635.436 983.696,638.547 984.647,641.668 985.567,644.798 \n",
       "  986.455,647.938 987.312,651.086 988.138,654.242 988.931,657.407 989.694,660.579 990.424,663.759 991.123,666.946 991.789,670.139 992.424,673.34 993.027,676.546 \n",
       "  993.597,679.758 994.136,682.976 994.642,686.199 995.116,689.427 995.558,692.66 995.967,695.897 996.344,699.138 996.689,702.382 997.001,705.63 997.28,708.88 \n",
       "  997.527,712.133 997.742,715.389 997.924,718.647 998.073,721.906 998.19,725.166 998.274,728.428 998.326,731.69 998.345,734.953 998.331,738.215 998.284,741.477 \n",
       "  998.206,744.739 998.094,748 997.95,751.259 997.773,754.517 997.564,757.773 997.322,761.027 997.047,764.278 996.741,767.526 996.401,770.771 996.029,774.012 \n",
       "  995.625,777.25 995.189,780.483 994.72,783.712 994.219,786.935 993.685,790.154 993.12,793.367 992.522,796.575 991.893,799.776 991.231,802.971 990.537,806.159 \n",
       "  989.812,809.34 989.055,812.513 988.266,815.679 987.446,818.837 986.594,821.986 985.71,825.127 984.795,828.259 983.849,831.381 982.872,834.494 981.864,837.597 \n",
       "  980.824,840.69 979.754,843.772 978.653,846.843 977.522,849.903 976.359,852.952 975.167,855.989 973.944,859.013 972.691,862.026 971.408,865.025 970.095,868.012 \n",
       "  968.752,870.986 967.379,873.945 965.977,876.891 964.546,879.823 963.085,882.741 961.595,885.643 960.076,888.531 958.529,891.403 956.953,894.26 955.348,897.1 \n",
       "  953.715,899.925 952.054,902.733 950.365,905.524 948.648,908.298 946.903,911.055 945.131,913.795 943.331,916.516 941.505,919.22 939.651,921.905 937.771,924.571 \n",
       "  935.864,927.218 933.931,929.846 931.972,932.455 929.986,935.044 927.975,937.613 925.938,940.162 923.876,942.69 921.789,945.198 919.676,947.684 917.539,950.15 \n",
       "  915.378,952.593 913.192,955.015 910.982,957.415 908.748,959.793 906.49,962.149 904.209,964.481 901.905,966.791 899.578,969.078 897.228,971.341 894.855,973.581 \n",
       "  892.46,975.796 890.044,977.988 887.605,980.156 885.145,982.298 882.663,984.417 880.161,986.51 877.637,988.578 875.094,990.621 872.529,992.638 869.945,994.63 \n",
       "  867.341,996.596 864.718,998.535 862.075,1000.45 859.413,1002.33 856.732,1004.19 854.033,1006.03 851.316,1007.83 848.581,1009.61 845.828,1011.36 843.058,1013.09 \n",
       "  840.271,1014.78 837.467,1016.45 834.646,1018.09 831.809,1019.7 828.956,1021.29 826.088,1022.84 823.204,1024.37 820.305,1025.86 817.391,1027.33 814.463,1028.77 \n",
       "  811.52,1030.18 808.564,1031.56 805.593,1032.91 802.61,1034.23 799.613,1035.52 796.604,1036.78 793.582,1038.01 790.548,1039.21 787.502,1040.38 784.445,1041.52 \n",
       "  781.376,1042.62 778.297,1043.7 775.206,1044.75 772.106,1045.76 768.996,1046.75 765.875,1047.7 762.746,1048.62 759.607,1049.52 756.46,1050.38 753.304,1051.2 \n",
       "  750.14,1052 746.968,1052.76 743.789,1053.5 740.603,1054.2 737.41,1054.87 734.21,1055.51 731.004,1056.11 727.792,1056.68 724.575,1057.22 721.352,1057.73 \n",
       "  718.124,1058.21 714.892,1058.65 711.655,1059.07 708.415,1059.45 705.171,1059.79 701.924,1060.11 698.673,1060.39 695.42,1060.64 692.165,1060.86 688.907,1061.04 \n",
       "  685.648,1061.19 682.388,1061.31 679.126,1061.4 675.864,1061.45 672.602,1061.47 669.339,1061.46 666.077,1061.42 662.815,1061.34 659.554,1061.23 656.295,1061.09 \n",
       "  653.037,1060.92 649.781,1060.71 646.527,1060.47 643.276,1060.2 640.027,1059.9 636.782,1059.56 633.54,1059.19 630.303,1058.79 627.069,1058.35 623.84,1057.89 \n",
       "  620.616,1057.39 617.396,1056.86 614.183,1056.3 610.975,1055.7 607.773,1055.07 604.578,1054.42 601.389,1053.72 598.208,1053 595.033,1052.25 591.867,1051.46 \n",
       "  588.709,1050.64 585.558,1049.79 582.417,1048.91 579.285,1048 576.161,1047.06 573.048,1046.08 569.944,1045.08 566.851,1044.04 563.768,1042.97 560.696,1041.87 \n",
       "  557.635,1040.74 554.585,1039.58 551.547,1038.39 548.522,1037.17 545.508,1035.92 542.507,1034.64 539.52,1033.33 536.545,1031.99 533.584,1030.62 530.637,1029.22 \n",
       "  527.704,1027.79 524.786,1026.33 521.882,1024.85 518.993,1023.33 516.12,1021.78 513.262,1020.21 510.42,1018.61 507.594,1016.98 504.785,1015.32 501.992,1013.63 \n",
       "  499.216,1011.92 496.458,1010.17 493.717,1008.4 490.994,1006.61 488.289,1004.78 485.603,1002.93 482.935,1001.05 480.286,999.147 477.657,997.216 475.046,995.259 \n",
       "  472.456,993.276 469.885,991.266 467.335,989.232 464.805,987.172 462.296,985.086 459.807,982.976 457.34,980.841 454.895,978.681 452.471,976.497 450.069,974.289 \n",
       "  447.69,972.057 445.332,969.801 442.998,967.522 440.686,965.22 438.398,962.894 436.133,960.546 433.891,958.175 431.674,955.782 429.48,953.367 427.311,950.93 \n",
       "  425.166,948.472 423.045,945.992 420.95,943.491 418.88,940.97 416.835,938.427 414.816,935.865 412.822,933.282 410.854,930.68 408.913,928.058 406.998,925.416 \n",
       "  405.109,922.756 403.247,920.077 401.412,917.379 399.603,914.664 397.823,911.93 396.069,909.178 394.343,906.41 392.645,903.624 390.975,900.821 389.333,898.002 \n",
       "  387.719,895.166 386.134,892.315 384.577,889.447 383.049,886.565 381.55,883.667 380.08,880.754 378.64,877.827 377.228,874.885 375.846,871.93 374.494,868.961 \n",
       "  373.171,865.978 371.879,862.983 370.616,859.974 369.383,856.953 368.181,853.92 367.009,850.875 365.868,847.819 364.757,844.751 363.677,841.673 362.628,838.583 \n",
       "  361.61,835.484 360.623,832.374 359.667,829.255 358.742,826.126 357.848,822.988 356.986,819.841 356.156,816.686 355.357,813.523 354.59,810.352 353.854,807.173 \n",
       "  353.15,803.987 352.479,800.794 351.839,797.595 351.231,794.39 350.655,791.178 350.112,787.961 349.6,784.739 349.121,781.512 348.674,778.28 348.26,775.044 \n",
       "  347.878,771.804 347.528,768.56 347.211,765.313 346.926,762.062 346.674,758.81 346.454,755.554 346.267,752.297 346.112,749.038 345.991,745.778 345.901,742.516 \n",
       "  345.844,739.254 345.82,735.992 345.829,732.729 345.87,729.467 345.944,726.205 346.05,722.944 346.189,719.685 346.361,716.426 346.565,713.17 346.802,709.916 \n",
       "  347.071,706.665 347.372,703.416 347.707,700.171 348.073,696.929 348.472,693.691 348.904,690.457 349.367,687.227 349.863,684.002 350.392,680.783 350.952,677.569 \n",
       "  351.544,674.36 352.169,671.158 352.826,667.962 353.514,664.773 354.234,661.591 354.986,658.416 355.77,655.249 356.586,652.09 357.433,648.939 358.311,645.797 \n",
       "  359.221,642.664 360.162,639.54 361.134,636.426 362.138,633.321 363.172,630.227 364.237,627.143 365.333,624.07 366.46,621.008 367.617,617.958 368.805,614.919 \n",
       "  370.023,611.892 371.272,608.878 372.55,605.876 373.858,602.887 375.196,599.912 376.564,596.95 377.962,594.002 379.388,591.068 380.844,588.148 382.33,585.243 \n",
       "  383.844,582.353 385.387,579.478 386.958,576.619 388.559,573.776 390.187,570.949 391.844,568.138 393.529,565.344 395.241,562.567 396.981,559.807 398.749,557.065 \n",
       "  400.544,554.341 402.367,551.634 404.216,548.947 406.092,546.277 407.994,543.627 409.923,540.996 411.879,538.384 413.86,535.792 415.867,533.219 417.9,530.667 \n",
       "  419.958,528.136 422.041,525.625 424.15,523.135 426.283,520.666 428.44,518.219 430.622,515.794 432.829,513.39 435.059,511.009 437.313,508.65 439.59,506.313 \n",
       "  441.891,504 444.214,501.71 446.561,499.443 448.93,497.199 451.321,494.98 453.734,492.784 456.169,490.613 458.626,488.466 461.104,486.344 463.603,484.246 \n",
       "  466.123,482.174 468.664,480.127 471.225,478.106 473.806,476.11 476.407,474.14 479.027,472.197 481.667,470.279 484.326,468.389 487.004,466.524 489.7,464.687 \n",
       "  492.414,462.877 495.146,461.094 497.896,459.338 500.664,457.61 503.448,455.91 506.25,454.237 509.068,452.593 511.902,450.977 514.752,449.39 517.618,447.831 \n",
       "  520.5,446.3 523.396,444.799 526.308,443.327 529.234,441.884 532.174,440.47 535.129,439.086 538.097,437.731 541.078,436.406 544.073,435.111 547.08,433.846 \n",
       "  550.1,432.611 553.132,431.406 556.176,430.232 559.232,429.088 562.298,427.975 565.376,426.892 568.465,425.841 571.564,424.82 574.672,423.83 577.791,422.872 \n",
       "  580.919,421.945 584.056,421.049 587.202,420.184 590.357,419.351 593.519,418.55 596.69,417.78 599.868,417.042 603.053,416.336 606.245,415.661 609.444,415.019 \n",
       "  612.649,414.409 615.86,413.83 619.077,413.284 622.299,412.77 625.525,412.289 628.757,411.839 631.993,411.422 635.233,411.037 638.476,410.685 641.723,410.365 \n",
       "  644.973,410.078 648.226,409.823 651.481,409.601 654.738,409.411 657.997,409.254 661.257,409.129 664.518,409.037 667.78,408.978 671.043,408.951 672.082,408.95 \n",
       "  \n",
       "  \"/>\n",
       "<path clip-path=\"url(#clip712)\" d=\"\n",
       "M1646.6 87.5098 L1653.08 87.5422 L1659.55 87.6393 L1666.03 87.8012 L1672.5 88.0279 L1678.97 88.3192 L1685.44 88.6753 L1691.9 89.096 L1698.36 89.5813 L1704.81 90.1312 \n",
       "  L1711.26 90.7456 L1717.7 91.4244 L1724.14 92.1676 L1730.56 92.9752 L1736.98 93.8469 L1743.39 94.7828 L1749.79 95.7827 L1756.18 96.8466 L1762.56 97.9743 L1768.92 99.1657 \n",
       "  L1775.28 100.421 L1781.62 101.739 L1787.95 103.121 L1794.26 104.566 L1800.56 106.074 L1806.84 107.645 L1813.11 109.279 L1819.36 110.975 L1825.6 112.734 L1831.81 114.555 \n",
       "  L1838.01 116.438 L1844.19 118.383 L1850.34 120.39 L1856.48 122.458 L1862.6 124.588 L1868.69 126.778 L1874.77 129.03 L1880.82 131.342 L1886.85 133.714 L1892.85 136.146 \n",
       "  L1898.83 138.639 L1904.78 141.191 L1910.71 143.802 L1916.61 146.473 L1922.48 149.202 L1928.33 151.99 L1934.15 154.837 L1939.93 157.741 L1945.69 160.703 L1951.42 163.723 \n",
       "  L1957.12 166.8 L1962.79 169.933 L1968.43 173.124 L1974.03 176.37 L1979.61 179.672 L1985.14 183.03 L1990.65 186.443 L1996.12 189.911 L2001.56 193.433 L2006.96 197.01 \n",
       "  L2012.32 200.64 L2017.65 204.324 L2022.94 208.061 L2028.19 211.851 L2033.4 215.693 L2038.58 219.587 L2043.72 223.532 L2048.81 227.529 L2053.87 231.577 L2058.89 235.674 \n",
       "  L2063.86 239.822 L2068.79 244.019 L2073.68 248.266 L2078.53 252.561 L2083.34 256.904 L2088.1 261.296 L2092.82 265.734 L2097.49 270.22 L2102.11 274.752 L2106.7 279.33 \n",
       "  L2111.23 283.954 L2115.72 288.622 L2120.16 293.336 L2124.56 298.094 L2128.91 302.895 L2133.21 307.74 L2137.46 312.627 L2141.66 317.557 L2145.81 322.528 L2149.91 327.541 \n",
       "  L2153.96 332.594 L2157.96 337.688 L2161.91 342.821 L2165.81 347.994 L2169.66 353.205 L2173.45 358.455 L2177.19 363.742 L2180.88 369.066 L2184.51 374.427 L2188.1 379.825 \n",
       "  L2191.62 385.257 L2195.09 390.725 L2198.51 396.227 L2201.87 401.763 L2205.18 407.332 L2208.43 412.934 L2211.63 418.569 L2214.76 424.235 L2217.85 429.932 L2220.87 435.659 \n",
       "  L2223.84 441.417 L2226.75 447.204 L2229.6 453.02 L2232.39 458.864 L2235.12 464.735 L2237.8 470.634 L2240.41 476.559 L2242.97 482.51 L2245.47 488.486 L2247.91 494.487 \n",
       "  L2250.28 500.512 L2252.6 506.561 L2254.86 512.632 L2257.05 518.726 L2259.19 524.841 L2261.26 530.977 L2263.27 537.134 L2265.22 543.31 L2267.11 549.506 L2268.93 555.72 \n",
       "  L2270.7 561.953 L2272.4 568.202 L2274.04 574.468 L2275.61 580.751 L2277.13 587.049 L2278.58 593.361 L2279.96 599.688 L2281.29 606.028 L2282.55 612.382 L2283.74 618.747 \n",
       "  L2284.88 625.124 L2285.95 631.512 L2286.95 637.911 L2287.89 644.319 L2288.77 650.737 L2289.58 657.162 L2290.33 663.596 L2291.01 670.037 L2291.63 676.484 L2292.19 682.937 \n",
       "  L2292.68 689.396 L2293.11 695.859 L2293.47 702.326 L2293.76 708.796 L2293.99 715.269 L2294.16 721.744 L2294.26 728.22 L2294.3 734.697 L2294.27 741.174 L2294.18 747.65 \n",
       "  L2294.03 754.125 L2293.8 760.598 L2293.52 767.069 L2293.17 773.536 L2292.75 780 L2292.27 786.459 L2291.73 792.913 L2291.12 799.362 L2290.44 805.803 L2289.71 812.238 \n",
       "  L2288.9 818.665 L2288.04 825.084 L2287.11 831.494 L2286.11 837.894 L2285.05 844.284 L2283.93 850.663 L2282.74 857.03 L2281.49 863.385 L2280.18 869.728 L2278.8 876.057 \n",
       "  L2277.36 882.372 L2275.86 888.672 L2274.29 894.957 L2272.66 901.226 L2270.97 907.478 L2269.22 913.713 L2267.4 919.93 L2265.53 926.129 L2263.59 932.308 L2261.58 938.468 \n",
       "  L2259.52 944.608 L2257.4 950.727 L2255.21 956.824 L2252.96 962.899 L2250.66 968.951 L2248.29 974.979 L2245.86 980.984 L2243.37 986.965 L2240.83 992.92 L2238.22 998.849 \n",
       "  L2235.55 1004.75 L2232.83 1010.63 L2230.05 1016.48 L2227.2 1022.3 L2224.3 1028.09 L2221.35 1033.85 L2218.33 1039.58 L2215.26 1045.28 L2212.13 1050.96 L2208.94 1056.6 \n",
       "  L2205.7 1062.2 L2202.4 1067.78 L2199.05 1073.32 L2195.64 1078.83 L2192.18 1084.3 L2188.66 1089.74 L2185.09 1095.14 L2181.46 1100.51 L2177.78 1105.84 L2174.05 1111.13 \n",
       "  L2170.26 1116.39 L2166.43 1121.6 L2162.54 1126.78 L2158.6 1131.92 L2154.6 1137.02 L2150.56 1142.08 L2146.47 1147.1 L2142.32 1152.08 L2138.13 1157.02 L2133.89 1161.91 \n",
       "  L2129.59 1166.76 L2125.25 1171.57 L2120.87 1176.33 L2116.43 1181.05 L2111.95 1185.73 L2107.42 1190.36 L2102.85 1194.95 L2098.23 1199.49 L2093.56 1203.98 L2088.85 1208.43 \n",
       "  L2084.1 1212.82 L2079.3 1217.18 L2074.46 1221.48 L2069.58 1225.73 L2064.65 1229.94 L2059.68 1234.09 L2054.67 1238.2 L2049.62 1242.25 L2044.53 1246.26 L2039.4 1250.21 \n",
       "  L2034.23 1254.12 L2029.02 1257.97 L2023.78 1261.76 L2018.49 1265.51 L2013.17 1269.2 L2007.81 1272.84 L2002.42 1276.43 L1996.99 1279.96 L1991.52 1283.43 L1986.02 1286.85 \n",
       "  L1980.49 1290.22 L1974.92 1293.53 L1969.32 1296.79 L1963.69 1299.99 L1958.03 1303.13 L1952.33 1306.22 L1946.61 1309.24 L1940.85 1312.22 L1935.07 1315.13 L1929.26 1317.98 \n",
       "  L1923.41 1320.78 L1917.54 1323.52 L1911.65 1326.2 L1905.73 1328.82 L1899.78 1331.38 L1893.8 1333.89 L1887.8 1336.33 L1881.78 1338.71 L1875.73 1341.03 L1869.66 1343.29 \n",
       "  L1863.57 1345.49 L1857.46 1347.63 L1851.32 1349.71 L1845.17 1351.73 L1838.99 1353.68 L1832.8 1355.57 L1826.59 1357.4 L1820.36 1359.17 L1814.11 1360.88 L1807.84 1362.52 \n",
       "  L1801.56 1364.1 L1795.26 1365.62 L1788.95 1367.08 L1782.63 1368.47 L1776.29 1369.8 L1769.94 1371.06 L1763.57 1372.27 L1757.2 1373.4 L1750.81 1374.48 L1744.41 1375.49 \n",
       "  L1738 1376.43 L1731.59 1377.32 L1725.16 1378.13 L1718.73 1378.89 L1712.29 1379.58 L1705.84 1380.2 L1699.39 1380.76 L1692.93 1381.26 L1686.47 1381.69 L1680 1382.05 \n",
       "  L1673.53 1382.35 L1667.06 1382.59 L1660.58 1382.76 L1654.11 1382.87 L1647.63 1382.91 L1641.15 1382.89 L1634.68 1382.81 L1628.2 1382.65 L1621.73 1382.44 L1615.26 1382.16 \n",
       "  L1608.79 1381.81 L1602.33 1381.4 L1595.87 1380.93 L1589.41 1380.39 L1582.96 1379.78 L1576.52 1379.11 L1570.09 1378.38 L1563.66 1377.58 L1557.24 1376.72 L1550.83 1375.8 \n",
       "  L1544.43 1374.81 L1538.04 1373.75 L1531.66 1372.63 L1525.29 1371.45 L1518.93 1370.21 L1512.59 1368.9 L1506.26 1367.53 L1499.94 1366.09 L1493.64 1364.59 L1487.35 1363.03 \n",
       "  L1481.08 1361.41 L1474.83 1359.72 L1468.59 1357.97 L1462.38 1356.16 L1456.18 1354.29 L1449.99 1352.36 L1443.83 1350.36 L1437.69 1348.3 L1431.57 1346.18 L1425.47 1344 \n",
       "  L1419.4 1341.76 L1413.34 1339.46 L1407.31 1337.09 L1401.3 1334.67 L1395.32 1332.19 L1389.37 1329.64 L1383.43 1327.04 L1377.53 1324.38 L1371.65 1321.66 L1365.8 1318.88 \n",
       "  L1359.98 1316.05 L1354.18 1313.15 L1348.42 1310.2 L1342.68 1307.19 L1336.98 1304.12 L1331.31 1300.99 L1325.66 1297.81 L1320.05 1294.58 L1314.48 1291.28 L1308.93 1287.93 \n",
       "  L1303.42 1284.53 L1297.95 1281.07 L1292.51 1277.56 L1287.1 1273.99 L1281.73 1270.37 L1276.4 1266.69 L1271.1 1262.96 L1265.84 1259.18 L1260.62 1255.35 L1255.44 1251.46 \n",
       "  L1250.3 1247.52 L1245.19 1243.54 L1240.13 1239.5 L1235.11 1235.41 L1230.13 1231.27 L1225.19 1227.08 L1220.29 1222.84 L1215.44 1218.55 L1210.62 1214.22 L1205.86 1209.83 \n",
       "  L1201.13 1205.4 L1196.45 1200.92 L1191.82 1196.4 L1187.23 1191.83 L1182.68 1187.21 L1178.19 1182.55 L1173.74 1177.84 L1169.34 1173.09 L1164.98 1168.3 L1160.67 1163.46 \n",
       "  L1156.42 1158.58 L1152.21 1153.66 L1148.05 1148.69 L1143.94 1143.69 L1139.88 1138.64 L1135.87 1133.55 L1131.91 1128.42 L1128.01 1123.26 L1124.15 1118.05 L1120.35 1112.81 \n",
       "  L1116.6 1107.53 L1112.9 1102.21 L1109.26 1096.85 L1105.67 1091.46 L1102.13 1086.04 L1098.65 1080.57 L1095.23 1075.08 L1091.86 1069.55 L1088.54 1063.98 L1085.28 1058.38 \n",
       "  L1082.08 1052.76 L1078.93 1047.09 L1075.84 1041.4 L1072.81 1035.68 L1069.83 1029.93 L1066.91 1024.14 L1064.05 1018.33 L1061.25 1012.49 L1058.51 1006.63 L1055.82 1000.73 \n",
       "  L1053.2 994.811 L1050.63 988.864 L1048.12 982.892 L1045.68 976.895 L1043.29 970.874 L1040.96 964.829 L1038.7 958.761 L1036.49 952.671 L1034.35 946.559 L1032.27 940.426 \n",
       "  L1030.24 934.273 L1028.28 928.099 L1026.39 921.907 L1024.55 915.695 L1022.78 909.466 L1021.07 903.219 L1019.42 896.955 L1017.83 890.676 L1016.31 884.38 L1014.85 878.07 \n",
       "  L1013.45 871.745 L1012.12 865.407 L1010.85 859.056 L1009.64 852.692 L1008.5 846.317 L1007.42 839.93 L1006.4 833.534 L1005.45 827.127 L1004.56 820.711 L1003.74 814.286 \n",
       "  L1002.98 807.854 L1002.29 801.414 L1001.66 794.968 L1001.09 788.516 L1000.59 782.058 L1000.16 775.596 L999.785 769.129 L999.478 762.66 L999.236 756.187 L999.059 749.713 \n",
       "  L998.946 743.237 L998.898 736.76 L998.915 730.283 L998.997 723.806 L999.143 717.331 L999.355 710.857 L999.63 704.386 L999.971 697.918 L1000.38 691.454 L1000.85 684.994 \n",
       "  L1001.38 678.539 L1001.98 672.09 L1002.64 665.647 L1003.37 659.211 L1004.16 652.783 L1005.02 646.362 L1005.94 639.951 L1006.92 633.549 L1007.97 627.158 L1009.09 620.777 \n",
       "  L1010.26 614.408 L1011.5 608.051 L1012.81 601.706 L1014.17 595.375 L1015.6 589.058 L1017.09 582.755 L1018.65 576.468 L1020.27 570.196 L1021.95 563.942 L1023.7 557.704 \n",
       "  L1025.5 551.484 L1027.37 545.282 L1029.3 539.099 L1031.29 532.936 L1033.35 526.793 L1035.46 520.671 L1037.64 514.571 L1039.87 508.492 L1042.17 502.436 L1044.53 496.404 \n",
       "  L1046.95 490.395 L1049.42 484.411 L1051.96 478.452 L1054.56 472.518 L1057.22 466.611 L1059.93 460.731 L1062.71 454.878 L1065.54 449.053 L1068.43 443.257 L1071.38 437.49 \n",
       "  L1074.38 431.753 L1077.45 426.046 L1080.57 420.37 L1083.74 414.726 L1086.98 409.113 L1090.26 403.533 L1093.61 397.987 L1097.01 392.474 L1100.46 386.995 L1103.97 381.551 \n",
       "  L1107.54 376.143 L1111.15 370.77 L1114.83 365.434 L1118.55 360.135 L1122.33 354.873 L1126.16 349.65 L1130.04 344.465 L1133.97 339.319 L1137.96 334.212 L1141.99 329.146 \n",
       "  L1146.08 324.12 L1150.21 319.136 L1154.4 314.193 L1158.63 309.292 L1162.92 304.433 L1167.25 299.618 L1171.63 294.847 L1176.06 290.119 L1180.53 285.436 L1185.05 280.798 \n",
       "  L1189.62 276.205 L1194.23 271.658 L1198.89 267.158 L1203.59 262.704 L1208.34 258.298 L1213.13 253.939 L1217.97 249.629 L1222.84 245.367 L1227.76 241.154 L1232.72 236.99 \n",
       "  L1237.73 232.876 L1242.77 228.813 L1247.85 224.8 L1252.98 220.838 L1258.14 216.928 L1263.34 213.069 L1268.58 209.263 L1273.86 205.509 L1279.18 201.808 L1284.53 198.161 \n",
       "  L1289.92 194.567 L1295.34 191.027 L1300.8 187.542 L1306.3 184.111 L1311.82 180.736 L1317.39 177.416 L1322.98 174.152 L1328.61 170.944 L1334.26 167.792 L1339.95 164.697 \n",
       "  L1345.68 161.659 L1351.43 158.679 L1357.21 155.756 L1363.01 152.891 L1368.85 150.084 L1374.72 147.336 L1380.61 144.647 L1386.53 142.016 L1392.47 139.445 L1398.44 136.934 \n",
       "  L1404.44 134.482 L1410.46 132.091 L1416.5 129.759 L1422.57 127.489 L1428.65 125.279 L1434.76 123.13 L1440.9 121.042 L1447.05 119.016 L1453.22 117.051 L1459.41 115.148 \n",
       "  L1465.62 113.308 L1471.85 111.529 L1478.09 109.813 L1484.36 108.159 L1490.64 106.568 L1496.93 105.04 L1503.24 103.575 L1509.56 102.173 L1515.9 100.834 L1522.25 99.5586 \n",
       "  L1528.61 98.3469 L1534.99 97.1988 L1541.37 96.1146 L1547.77 95.0943 L1554.17 94.1381 L1560.59 93.2459 L1567.01 92.4179 L1573.45 91.6542 L1579.88 90.9548 L1586.33 90.3199 \n",
       "  L1592.78 89.7495 L1599.24 89.2436 L1605.7 88.8023 L1612.17 88.4256 L1618.64 88.1137 L1625.11 87.8664 L1631.58 87.6839 L1638.06 87.5661 L1644.54 87.5131 L1646.6 87.5098 \n",
       "   Z\n",
       "  \" fill=\"#ff0000\" fill-rule=\"evenodd\" fill-opacity=\"0.5\"/>\n",
       "<polyline clip-path=\"url(#clip712)\" style=\"stroke:#000000; stroke-width:4; stroke-opacity:1; fill:none\" points=\"\n",
       "  1646.6,87.5098 1653.08,87.5422 1659.55,87.6393 1666.03,87.8012 1672.5,88.0279 1678.97,88.3192 1685.44,88.6753 1691.9,89.096 1698.36,89.5813 1704.81,90.1312 \n",
       "  1711.26,90.7456 1717.7,91.4244 1724.14,92.1676 1730.56,92.9752 1736.98,93.8469 1743.39,94.7828 1749.79,95.7827 1756.18,96.8466 1762.56,97.9743 1768.92,99.1657 \n",
       "  1775.28,100.421 1781.62,101.739 1787.95,103.121 1794.26,104.566 1800.56,106.074 1806.84,107.645 1813.11,109.279 1819.36,110.975 1825.6,112.734 1831.81,114.555 \n",
       "  1838.01,116.438 1844.19,118.383 1850.34,120.39 1856.48,122.458 1862.6,124.588 1868.69,126.778 1874.77,129.03 1880.82,131.342 1886.85,133.714 1892.85,136.146 \n",
       "  1898.83,138.639 1904.78,141.191 1910.71,143.802 1916.61,146.473 1922.48,149.202 1928.33,151.99 1934.15,154.837 1939.93,157.741 1945.69,160.703 1951.42,163.723 \n",
       "  1957.12,166.8 1962.79,169.933 1968.43,173.124 1974.03,176.37 1979.61,179.672 1985.14,183.03 1990.65,186.443 1996.12,189.911 2001.56,193.433 2006.96,197.01 \n",
       "  2012.32,200.64 2017.65,204.324 2022.94,208.061 2028.19,211.851 2033.4,215.693 2038.58,219.587 2043.72,223.532 2048.81,227.529 2053.87,231.577 2058.89,235.674 \n",
       "  2063.86,239.822 2068.79,244.019 2073.68,248.266 2078.53,252.561 2083.34,256.904 2088.1,261.296 2092.82,265.734 2097.49,270.22 2102.11,274.752 2106.7,279.33 \n",
       "  2111.23,283.954 2115.72,288.622 2120.16,293.336 2124.56,298.094 2128.91,302.895 2133.21,307.74 2137.46,312.627 2141.66,317.557 2145.81,322.528 2149.91,327.541 \n",
       "  2153.96,332.594 2157.96,337.688 2161.91,342.821 2165.81,347.994 2169.66,353.205 2173.45,358.455 2177.19,363.742 2180.88,369.066 2184.51,374.427 2188.1,379.825 \n",
       "  2191.62,385.257 2195.09,390.725 2198.51,396.227 2201.87,401.763 2205.18,407.332 2208.43,412.934 2211.63,418.569 2214.76,424.235 2217.85,429.932 2220.87,435.659 \n",
       "  2223.84,441.417 2226.75,447.204 2229.6,453.02 2232.39,458.864 2235.12,464.735 2237.8,470.634 2240.41,476.559 2242.97,482.51 2245.47,488.486 2247.91,494.487 \n",
       "  2250.28,500.512 2252.6,506.561 2254.86,512.632 2257.05,518.726 2259.19,524.841 2261.26,530.977 2263.27,537.134 2265.22,543.31 2267.11,549.506 2268.93,555.72 \n",
       "  2270.7,561.953 2272.4,568.202 2274.04,574.468 2275.61,580.751 2277.13,587.049 2278.58,593.361 2279.96,599.688 2281.29,606.028 2282.55,612.382 2283.74,618.747 \n",
       "  2284.88,625.124 2285.95,631.512 2286.95,637.911 2287.89,644.319 2288.77,650.737 2289.58,657.162 2290.33,663.596 2291.01,670.037 2291.63,676.484 2292.19,682.937 \n",
       "  2292.68,689.396 2293.11,695.859 2293.47,702.326 2293.76,708.796 2293.99,715.269 2294.16,721.744 2294.26,728.22 2294.3,734.697 2294.27,741.174 2294.18,747.65 \n",
       "  2294.03,754.125 2293.8,760.598 2293.52,767.069 2293.17,773.536 2292.75,780 2292.27,786.459 2291.73,792.913 2291.12,799.362 2290.44,805.803 2289.71,812.238 \n",
       "  2288.9,818.665 2288.04,825.084 2287.11,831.494 2286.11,837.894 2285.05,844.284 2283.93,850.663 2282.74,857.03 2281.49,863.385 2280.18,869.728 2278.8,876.057 \n",
       "  2277.36,882.372 2275.86,888.672 2274.29,894.957 2272.66,901.226 2270.97,907.478 2269.22,913.713 2267.4,919.93 2265.53,926.129 2263.59,932.308 2261.58,938.468 \n",
       "  2259.52,944.608 2257.4,950.727 2255.21,956.824 2252.96,962.899 2250.66,968.951 2248.29,974.979 2245.86,980.984 2243.37,986.965 2240.83,992.92 2238.22,998.849 \n",
       "  2235.55,1004.75 2232.83,1010.63 2230.05,1016.48 2227.2,1022.3 2224.3,1028.09 2221.35,1033.85 2218.33,1039.58 2215.26,1045.28 2212.13,1050.96 2208.94,1056.6 \n",
       "  2205.7,1062.2 2202.4,1067.78 2199.05,1073.32 2195.64,1078.83 2192.18,1084.3 2188.66,1089.74 2185.09,1095.14 2181.46,1100.51 2177.78,1105.84 2174.05,1111.13 \n",
       "  2170.26,1116.39 2166.43,1121.6 2162.54,1126.78 2158.6,1131.92 2154.6,1137.02 2150.56,1142.08 2146.47,1147.1 2142.32,1152.08 2138.13,1157.02 2133.89,1161.91 \n",
       "  2129.59,1166.76 2125.25,1171.57 2120.87,1176.33 2116.43,1181.05 2111.95,1185.73 2107.42,1190.36 2102.85,1194.95 2098.23,1199.49 2093.56,1203.98 2088.85,1208.43 \n",
       "  2084.1,1212.82 2079.3,1217.18 2074.46,1221.48 2069.58,1225.73 2064.65,1229.94 2059.68,1234.09 2054.67,1238.2 2049.62,1242.25 2044.53,1246.26 2039.4,1250.21 \n",
       "  2034.23,1254.12 2029.02,1257.97 2023.78,1261.76 2018.49,1265.51 2013.17,1269.2 2007.81,1272.84 2002.42,1276.43 1996.99,1279.96 1991.52,1283.43 1986.02,1286.85 \n",
       "  1980.49,1290.22 1974.92,1293.53 1969.32,1296.79 1963.69,1299.99 1958.03,1303.13 1952.33,1306.22 1946.61,1309.24 1940.85,1312.22 1935.07,1315.13 1929.26,1317.98 \n",
       "  1923.41,1320.78 1917.54,1323.52 1911.65,1326.2 1905.73,1328.82 1899.78,1331.38 1893.8,1333.89 1887.8,1336.33 1881.78,1338.71 1875.73,1341.03 1869.66,1343.29 \n",
       "  1863.57,1345.49 1857.46,1347.63 1851.32,1349.71 1845.17,1351.73 1838.99,1353.68 1832.8,1355.57 1826.59,1357.4 1820.36,1359.17 1814.11,1360.88 1807.84,1362.52 \n",
       "  1801.56,1364.1 1795.26,1365.62 1788.95,1367.08 1782.63,1368.47 1776.29,1369.8 1769.94,1371.06 1763.57,1372.27 1757.2,1373.4 1750.81,1374.48 1744.41,1375.49 \n",
       "  1738,1376.43 1731.59,1377.32 1725.16,1378.13 1718.73,1378.89 1712.29,1379.58 1705.84,1380.2 1699.39,1380.76 1692.93,1381.26 1686.47,1381.69 1680,1382.05 \n",
       "  1673.53,1382.35 1667.06,1382.59 1660.58,1382.76 1654.11,1382.87 1647.63,1382.91 1641.15,1382.89 1634.68,1382.81 1628.2,1382.65 1621.73,1382.44 1615.26,1382.16 \n",
       "  1608.79,1381.81 1602.33,1381.4 1595.87,1380.93 1589.41,1380.39 1582.96,1379.78 1576.52,1379.11 1570.09,1378.38 1563.66,1377.58 1557.24,1376.72 1550.83,1375.8 \n",
       "  1544.43,1374.81 1538.04,1373.75 1531.66,1372.63 1525.29,1371.45 1518.93,1370.21 1512.59,1368.9 1506.26,1367.53 1499.94,1366.09 1493.64,1364.59 1487.35,1363.03 \n",
       "  1481.08,1361.41 1474.83,1359.72 1468.59,1357.97 1462.38,1356.16 1456.18,1354.29 1449.99,1352.36 1443.83,1350.36 1437.69,1348.3 1431.57,1346.18 1425.47,1344 \n",
       "  1419.4,1341.76 1413.34,1339.46 1407.31,1337.09 1401.3,1334.67 1395.32,1332.19 1389.37,1329.64 1383.43,1327.04 1377.53,1324.38 1371.65,1321.66 1365.8,1318.88 \n",
       "  1359.98,1316.05 1354.18,1313.15 1348.42,1310.2 1342.68,1307.19 1336.98,1304.12 1331.31,1300.99 1325.66,1297.81 1320.05,1294.58 1314.48,1291.28 1308.93,1287.93 \n",
       "  1303.42,1284.53 1297.95,1281.07 1292.51,1277.56 1287.1,1273.99 1281.73,1270.37 1276.4,1266.69 1271.1,1262.96 1265.84,1259.18 1260.62,1255.35 1255.44,1251.46 \n",
       "  1250.3,1247.52 1245.19,1243.54 1240.13,1239.5 1235.11,1235.41 1230.13,1231.27 1225.19,1227.08 1220.29,1222.84 1215.44,1218.55 1210.62,1214.22 1205.86,1209.83 \n",
       "  1201.13,1205.4 1196.45,1200.92 1191.82,1196.4 1187.23,1191.83 1182.68,1187.21 1178.19,1182.55 1173.74,1177.84 1169.34,1173.09 1164.98,1168.3 1160.67,1163.46 \n",
       "  1156.42,1158.58 1152.21,1153.66 1148.05,1148.69 1143.94,1143.69 1139.88,1138.64 1135.87,1133.55 1131.91,1128.42 1128.01,1123.26 1124.15,1118.05 1120.35,1112.81 \n",
       "  1116.6,1107.53 1112.9,1102.21 1109.26,1096.85 1105.67,1091.46 1102.13,1086.04 1098.65,1080.57 1095.23,1075.08 1091.86,1069.55 1088.54,1063.98 1085.28,1058.38 \n",
       "  1082.08,1052.76 1078.93,1047.09 1075.84,1041.4 1072.81,1035.68 1069.83,1029.93 1066.91,1024.14 1064.05,1018.33 1061.25,1012.49 1058.51,1006.63 1055.82,1000.73 \n",
       "  1053.2,994.811 1050.63,988.864 1048.12,982.892 1045.68,976.895 1043.29,970.874 1040.96,964.829 1038.7,958.761 1036.49,952.671 1034.35,946.559 1032.27,940.426 \n",
       "  1030.24,934.273 1028.28,928.099 1026.39,921.907 1024.55,915.695 1022.78,909.466 1021.07,903.219 1019.42,896.955 1017.83,890.676 1016.31,884.38 1014.85,878.07 \n",
       "  1013.45,871.745 1012.12,865.407 1010.85,859.056 1009.64,852.692 1008.5,846.317 1007.42,839.93 1006.4,833.534 1005.45,827.127 1004.56,820.711 1003.74,814.286 \n",
       "  1002.98,807.854 1002.29,801.414 1001.66,794.968 1001.09,788.516 1000.59,782.058 1000.16,775.596 999.785,769.129 999.478,762.66 999.236,756.187 999.059,749.713 \n",
       "  998.946,743.237 998.898,736.76 998.915,730.283 998.997,723.806 999.143,717.331 999.355,710.857 999.63,704.386 999.971,697.918 1000.38,691.454 1000.85,684.994 \n",
       "  1001.38,678.539 1001.98,672.09 1002.64,665.647 1003.37,659.211 1004.16,652.783 1005.02,646.362 1005.94,639.951 1006.92,633.549 1007.97,627.158 1009.09,620.777 \n",
       "  1010.26,614.408 1011.5,608.051 1012.81,601.706 1014.17,595.375 1015.6,589.058 1017.09,582.755 1018.65,576.468 1020.27,570.196 1021.95,563.942 1023.7,557.704 \n",
       "  1025.5,551.484 1027.37,545.282 1029.3,539.099 1031.29,532.936 1033.35,526.793 1035.46,520.671 1037.64,514.571 1039.87,508.492 1042.17,502.436 1044.53,496.404 \n",
       "  1046.95,490.395 1049.42,484.411 1051.96,478.452 1054.56,472.518 1057.22,466.611 1059.93,460.731 1062.71,454.878 1065.54,449.053 1068.43,443.257 1071.38,437.49 \n",
       "  1074.38,431.753 1077.45,426.046 1080.57,420.37 1083.74,414.726 1086.98,409.113 1090.26,403.533 1093.61,397.987 1097.01,392.474 1100.46,386.995 1103.97,381.551 \n",
       "  1107.54,376.143 1111.15,370.77 1114.83,365.434 1118.55,360.135 1122.33,354.873 1126.16,349.65 1130.04,344.465 1133.97,339.319 1137.96,334.212 1141.99,329.146 \n",
       "  1146.08,324.12 1150.21,319.136 1154.4,314.193 1158.63,309.292 1162.92,304.433 1167.25,299.618 1171.63,294.847 1176.06,290.119 1180.53,285.436 1185.05,280.798 \n",
       "  1189.62,276.205 1194.23,271.658 1198.89,267.158 1203.59,262.704 1208.34,258.298 1213.13,253.939 1217.97,249.629 1222.84,245.367 1227.76,241.154 1232.72,236.99 \n",
       "  1237.73,232.876 1242.77,228.813 1247.85,224.8 1252.98,220.838 1258.14,216.928 1263.34,213.069 1268.58,209.263 1273.86,205.509 1279.18,201.808 1284.53,198.161 \n",
       "  1289.92,194.567 1295.34,191.027 1300.8,187.542 1306.3,184.111 1311.82,180.736 1317.39,177.416 1322.98,174.152 1328.61,170.944 1334.26,167.792 1339.95,164.697 \n",
       "  1345.68,161.659 1351.43,158.679 1357.21,155.756 1363.01,152.891 1368.85,150.084 1374.72,147.336 1380.61,144.647 1386.53,142.016 1392.47,139.445 1398.44,136.934 \n",
       "  1404.44,134.482 1410.46,132.091 1416.5,129.759 1422.57,127.489 1428.65,125.279 1434.76,123.13 1440.9,121.042 1447.05,119.016 1453.22,117.051 1459.41,115.148 \n",
       "  1465.62,113.308 1471.85,111.529 1478.09,109.813 1484.36,108.159 1490.64,106.568 1496.93,105.04 1503.24,103.575 1509.56,102.173 1515.9,100.834 1522.25,99.5586 \n",
       "  1528.61,98.3469 1534.99,97.1988 1541.37,96.1146 1547.77,95.0943 1554.17,94.1381 1560.59,93.2459 1567.01,92.4179 1573.45,91.6542 1579.88,90.9548 1586.33,90.3199 \n",
       "  1592.78,89.7495 1599.24,89.2436 1605.7,88.8023 1612.17,88.4256 1618.64,88.1137 1625.11,87.8664 1631.58,87.6839 1638.06,87.5661 1644.54,87.5131 1646.6,87.5098 \n",
       "  \n",
       "  \"/>\n",
       "<circle clip-path=\"url(#clip712)\" cx=\"1829.22\" cy=\"735.212\" r=\"14\" fill=\"#0000ff\" fill-rule=\"evenodd\" fill-opacity=\"1\" stroke=\"#000000\" stroke-opacity=\"1\" stroke-width=\"3.2\"/>\n",
       "<circle clip-path=\"url(#clip712)\" cx=\"489.458\" cy=\"735.212\" r=\"14\" fill=\"#0000ff\" fill-rule=\"evenodd\" fill-opacity=\"1\" stroke=\"#000000\" stroke-opacity=\"1\" stroke-width=\"3.2\"/>\n",
       "<path clip-path=\"url(#clip710)\" d=\"\n",
       "M1519.22 274.549 L2283.91 274.549 L2283.91 93.1086 L1519.22 93.1086  Z\n",
       "  \" fill=\"#ffffff\" fill-rule=\"evenodd\" fill-opacity=\"1\"/>\n",
       "<polyline clip-path=\"url(#clip710)\" style=\"stroke:#000000; stroke-width:4; stroke-opacity:1; fill:none\" points=\"\n",
       "  1519.22,274.549 2283.91,274.549 2283.91,93.1086 1519.22,93.1086 1519.22,274.549 \n",
       "  \"/>\n",
       "<path clip-path=\"url(#clip710)\" d=\"\n",
       "M1542.17 177.781 L1679.86 177.781 L1679.86 129.397 L1542.17 129.397 L1542.17 177.781  Z\n",
       "  \" fill=\"#ff0000\" fill-rule=\"evenodd\" fill-opacity=\"0.5\"/>\n",
       "<polyline clip-path=\"url(#clip710)\" style=\"stroke:#000000; stroke-width:4; stroke-opacity:1; fill:none\" points=\"\n",
       "  1542.17,177.781 1679.86,177.781 1679.86,129.397 1542.17,129.397 1542.17,177.781 \n",
       "  \"/>\n",
       "<path clip-path=\"url(#clip710)\" d=\"M 0 0 M1728.36 165.938 L1728.36 156.656 L1720.72 156.656 L1720.72 152.813 L1732.99 152.813 L1732.99 167.651 Q1730.28 169.572 1727.02 170.568 Q1723.76 171.54 1720.05 171.54 Q1711.95 171.54 1707.37 166.818 Q1702.81 162.072 1702.81 153.623 Q1702.81 145.151 1707.37 140.429 Q1711.95 135.684 1720.05 135.684 Q1723.43 135.684 1726.46 136.517 Q1729.52 137.35 1732.09 138.971 L1732.09 143.947 Q1729.5 141.748 1726.58 140.637 Q1723.66 139.526 1720.45 139.526 Q1714.1 139.526 1710.91 143.068 Q1707.74 146.609 1707.74 153.623 Q1707.74 160.614 1710.91 164.156 Q1714.1 167.697 1720.45 167.697 Q1722.92 167.697 1724.87 167.281 Q1726.81 166.841 1728.36 165.938 Z\" fill=\"#000000\" fill-rule=\"evenodd\" fill-opacity=\"1\" /><path clip-path=\"url(#clip710)\" d=\"M 0 0 M1763.52 156.841 L1763.52 158.924 L1743.94 158.924 Q1744.22 163.322 1746.58 165.637 Q1748.96 167.929 1753.2 167.929 Q1755.65 167.929 1757.95 167.327 Q1760.26 166.725 1762.53 165.521 L1762.53 169.549 Q1760.24 170.521 1757.83 171.031 Q1755.42 171.54 1752.95 171.54 Q1746.74 171.54 1743.11 167.929 Q1739.5 164.318 1739.5 158.16 Q1739.5 151.795 1742.92 148.068 Q1746.37 144.318 1752.2 144.318 Q1757.44 144.318 1760.47 147.697 Q1763.52 151.054 1763.52 156.841 M1759.26 155.591 Q1759.22 152.096 1757.3 150.012 Q1755.4 147.929 1752.25 147.929 Q1748.69 147.929 1746.53 149.943 Q1744.4 151.957 1744.08 155.614 L1759.26 155.591 Z\" fill=\"#000000\" fill-rule=\"evenodd\" fill-opacity=\"1\" /><path clip-path=\"url(#clip710)\" d=\"M 0 0 M1785.54 148.924 Q1784.82 148.508 1783.96 148.322 Q1783.13 148.114 1782.11 148.114 Q1778.5 148.114 1776.56 150.475 Q1774.63 152.813 1774.63 157.211 L1774.63 170.869 L1770.35 170.869 L1770.35 144.943 L1774.63 144.943 L1774.63 148.971 Q1775.98 146.609 1778.13 145.475 Q1780.28 144.318 1783.36 144.318 Q1783.8 144.318 1784.33 144.387 Q1784.87 144.434 1785.51 144.549 L1785.54 148.924 Z\" fill=\"#000000\" fill-rule=\"evenodd\" fill-opacity=\"1\" /><path clip-path=\"url(#clip710)\" d=\"M 0 0 M1806.53 145.707 L1806.53 149.734 Q1804.73 148.809 1802.78 148.346 Q1800.84 147.883 1798.76 147.883 Q1795.58 147.883 1793.99 148.855 Q1792.41 149.827 1792.41 151.771 Q1792.41 153.253 1793.55 154.109 Q1794.68 154.943 1798.11 155.707 L1799.57 156.031 Q1804.1 157.003 1806 158.785 Q1807.92 160.545 1807.92 163.716 Q1807.92 167.327 1805.05 169.433 Q1802.2 171.54 1797.2 171.54 Q1795.12 171.54 1792.85 171.123 Q1790.61 170.73 1788.11 169.92 L1788.11 165.521 Q1790.47 166.748 1792.76 167.373 Q1795.05 167.975 1797.3 167.975 Q1800.31 167.975 1801.93 166.957 Q1803.55 165.915 1803.55 164.04 Q1803.55 162.304 1802.37 161.378 Q1801.21 160.452 1797.25 159.596 L1795.77 159.248 Q1791.81 158.415 1790.05 156.702 Q1788.29 154.966 1788.29 151.957 Q1788.29 148.299 1790.88 146.309 Q1793.48 144.318 1798.25 144.318 Q1800.61 144.318 1802.69 144.665 Q1804.77 145.012 1806.53 145.707 Z\" fill=\"#000000\" fill-rule=\"evenodd\" fill-opacity=\"1\" /><path clip-path=\"url(#clip710)\" d=\"M 0 0 M1836.25 155.221 L1836.25 170.869 L1832 170.869 L1832 155.359 Q1832 151.679 1830.56 149.85 Q1829.13 148.022 1826.25 148.022 Q1822.81 148.022 1820.82 150.221 Q1818.82 152.42 1818.82 156.216 L1818.82 170.869 L1814.54 170.869 L1814.54 134.85 L1818.82 134.85 L1818.82 148.971 Q1820.35 146.633 1822.41 145.475 Q1824.5 144.318 1827.2 144.318 Q1831.67 144.318 1833.96 147.096 Q1836.25 149.85 1836.25 155.221 Z\" fill=\"#000000\" fill-rule=\"evenodd\" fill-opacity=\"1\" /><path clip-path=\"url(#clip710)\" d=\"M 0 0 M1861.81 157.605 Q1861.81 152.975 1859.89 150.429 Q1857.99 147.883 1854.54 147.883 Q1851.12 147.883 1849.19 150.429 Q1847.3 152.975 1847.3 157.605 Q1847.3 162.211 1849.19 164.758 Q1851.12 167.304 1854.54 167.304 Q1857.99 167.304 1859.89 164.758 Q1861.81 162.211 1861.81 157.605 M1866.07 167.651 Q1866.07 174.271 1863.13 177.489 Q1860.19 180.73 1854.13 180.73 Q1851.88 180.73 1849.89 180.382 Q1847.9 180.058 1846.02 179.364 L1846.02 175.22 Q1847.9 176.239 1849.73 176.725 Q1851.56 177.211 1853.45 177.211 Q1857.64 177.211 1859.73 175.012 Q1861.81 172.836 1861.81 168.415 L1861.81 166.308 Q1860.49 168.6 1858.43 169.734 Q1856.37 170.869 1853.5 170.869 Q1848.73 170.869 1845.82 167.234 Q1842.9 163.6 1842.9 157.605 Q1842.9 151.586 1845.82 147.952 Q1848.73 144.318 1853.5 144.318 Q1856.37 144.318 1858.43 145.452 Q1860.49 146.586 1861.81 148.878 L1861.81 144.943 L1866.07 144.943 L1866.07 167.651 Z\" fill=\"#000000\" fill-rule=\"evenodd\" fill-opacity=\"1\" /><path clip-path=\"url(#clip710)\" d=\"M 0 0 M1884.89 147.929 Q1881.46 147.929 1879.47 150.614 Q1877.48 153.276 1877.48 157.929 Q1877.48 162.582 1879.45 165.267 Q1881.44 167.929 1884.89 167.929 Q1888.29 167.929 1890.28 165.244 Q1892.27 162.558 1892.27 157.929 Q1892.27 153.322 1890.28 150.637 Q1888.29 147.929 1884.89 147.929 M1884.89 144.318 Q1890.44 144.318 1893.62 147.929 Q1896.79 151.54 1896.79 157.929 Q1896.79 164.295 1893.62 167.929 Q1890.44 171.54 1884.89 171.54 Q1879.31 171.54 1876.14 167.929 Q1872.99 164.295 1872.99 157.929 Q1872.99 151.54 1876.14 147.929 Q1879.31 144.318 1884.89 144.318 Z\" fill=\"#000000\" fill-rule=\"evenodd\" fill-opacity=\"1\" /><path clip-path=\"url(#clip710)\" d=\"M 0 0 M1918.87 148.924 Q1918.15 148.508 1917.3 148.322 Q1916.46 148.114 1915.44 148.114 Q1911.83 148.114 1909.89 150.475 Q1907.97 152.813 1907.97 157.211 L1907.97 170.869 L1903.69 170.869 L1903.69 144.943 L1907.97 144.943 L1907.97 148.971 Q1909.31 146.609 1911.46 145.475 Q1913.62 144.318 1916.69 144.318 Q1917.13 144.318 1917.67 144.387 Q1918.2 144.434 1918.85 144.549 L1918.87 148.924 Z\" fill=\"#000000\" fill-rule=\"evenodd\" fill-opacity=\"1\" /><path clip-path=\"url(#clip710)\" d=\"M 0 0 M1923.34 144.943 L1927.6 144.943 L1927.6 170.869 L1923.34 170.869 L1923.34 144.943 M1923.34 134.85 L1927.6 134.85 L1927.6 140.244 L1923.34 140.244 L1923.34 134.85 Z\" fill=\"#000000\" fill-rule=\"evenodd\" fill-opacity=\"1\" /><path clip-path=\"url(#clip710)\" d=\"M 0 0 M1958.06 155.221 L1958.06 170.869 L1953.8 170.869 L1953.8 155.359 Q1953.8 151.679 1952.37 149.85 Q1950.93 148.022 1948.06 148.022 Q1944.61 148.022 1942.62 150.221 Q1940.63 152.42 1940.63 156.216 L1940.63 170.869 L1936.35 170.869 L1936.35 144.943 L1940.63 144.943 L1940.63 148.971 Q1942.16 146.633 1944.22 145.475 Q1946.3 144.318 1949.01 144.318 Q1953.48 144.318 1955.77 147.096 Q1958.06 149.85 1958.06 155.221 Z\" fill=\"#000000\" fill-rule=\"evenodd\" fill-opacity=\"1\" /><path clip-path=\"url(#clip710)\" d=\"M 0 0 M2000.24 157.929 Q2000.24 153.23 1998.29 150.568 Q1996.37 147.883 1992.99 147.883 Q1989.61 147.883 1987.67 150.568 Q1985.74 153.23 1985.74 157.929 Q1985.74 162.628 1987.67 165.313 Q1989.61 167.975 1992.99 167.975 Q1996.37 167.975 1998.29 165.313 Q2000.24 162.628 2000.24 157.929 M1985.74 148.878 Q1987.09 146.563 1989.12 145.452 Q1991.18 144.318 1994.03 144.318 Q1998.75 144.318 2001.69 148.068 Q2004.66 151.818 2004.66 157.929 Q2004.66 164.04 2001.69 167.79 Q1998.75 171.54 1994.03 171.54 Q1991.18 171.54 1989.12 170.429 Q1987.09 169.295 1985.74 166.98 L1985.74 170.869 L1981.46 170.869 L1981.46 134.85 L1985.74 134.85 L1985.74 148.878 Z\" fill=\"#000000\" fill-rule=\"evenodd\" fill-opacity=\"1\" /><path clip-path=\"url(#clip710)\" d=\"M 0 0 M2021.76 147.929 Q2018.34 147.929 2016.35 150.614 Q2014.36 153.276 2014.36 157.929 Q2014.36 162.582 2016.32 165.267 Q2018.31 167.929 2021.76 167.929 Q2025.17 167.929 2027.16 165.244 Q2029.15 162.558 2029.15 157.929 Q2029.15 153.322 2027.16 150.637 Q2025.17 147.929 2021.76 147.929 M2021.76 144.318 Q2027.32 144.318 2030.49 147.929 Q2033.66 151.54 2033.66 157.929 Q2033.66 164.295 2030.49 167.929 Q2027.32 171.54 2021.76 171.54 Q2016.18 171.54 2013.01 167.929 Q2009.87 164.295 2009.87 157.929 Q2009.87 151.54 2013.01 147.929 Q2016.18 144.318 2021.76 144.318 Z\" fill=\"#000000\" fill-rule=\"evenodd\" fill-opacity=\"1\" /><path clip-path=\"url(#clip710)\" d=\"M 0 0 M2040.28 160.637 L2040.28 144.943 L2044.54 144.943 L2044.54 160.475 Q2044.54 164.156 2045.98 166.008 Q2047.41 167.836 2050.28 167.836 Q2053.73 167.836 2055.72 165.637 Q2057.74 163.438 2057.74 159.642 L2057.74 144.943 L2061.99 144.943 L2061.99 170.869 L2057.74 170.869 L2057.74 166.887 Q2056.18 169.248 2054.12 170.406 Q2052.09 171.54 2049.38 171.54 Q2044.91 171.54 2042.6 168.762 Q2040.28 165.984 2040.28 160.637 M2051 144.318 L2051 144.318 Z\" fill=\"#000000\" fill-rule=\"evenodd\" fill-opacity=\"1\" /><path clip-path=\"url(#clip710)\" d=\"M 0 0 M2092.32 155.221 L2092.32 170.869 L2088.06 170.869 L2088.06 155.359 Q2088.06 151.679 2086.62 149.85 Q2085.19 148.022 2082.32 148.022 Q2078.87 148.022 2076.88 150.221 Q2074.89 152.42 2074.89 156.216 L2074.89 170.869 L2070.61 170.869 L2070.61 144.943 L2074.89 144.943 L2074.89 148.971 Q2076.42 146.633 2078.48 145.475 Q2080.56 144.318 2083.27 144.318 Q2087.74 144.318 2090.03 147.096 Q2092.32 149.85 2092.32 155.221 Z\" fill=\"#000000\" fill-rule=\"evenodd\" fill-opacity=\"1\" /><path clip-path=\"url(#clip710)\" d=\"M 0 0 M2117.87 148.878 L2117.87 134.85 L2122.13 134.85 L2122.13 170.869 L2117.87 170.869 L2117.87 166.98 Q2116.53 169.295 2114.47 170.429 Q2112.43 171.54 2109.56 171.54 Q2104.86 171.54 2101.9 167.79 Q2098.96 164.04 2098.96 157.929 Q2098.96 151.818 2101.9 148.068 Q2104.86 144.318 2109.56 144.318 Q2112.43 144.318 2114.47 145.452 Q2116.53 146.563 2117.87 148.878 M2103.36 157.929 Q2103.36 162.628 2105.28 165.313 Q2107.23 167.975 2110.61 167.975 Q2113.98 167.975 2115.93 165.313 Q2117.87 162.628 2117.87 157.929 Q2117.87 153.23 2115.93 150.568 Q2113.98 147.883 2110.61 147.883 Q2107.23 147.883 2105.28 150.568 Q2103.36 153.23 2103.36 157.929 Z\" fill=\"#000000\" fill-rule=\"evenodd\" fill-opacity=\"1\" /><path clip-path=\"url(#clip710)\" d=\"M 0 0 M2147.43 145.707 L2147.43 149.734 Q2145.63 148.809 2143.68 148.346 Q2141.74 147.883 2139.66 147.883 Q2136.48 147.883 2134.89 148.855 Q2133.31 149.827 2133.31 151.771 Q2133.31 153.253 2134.45 154.109 Q2135.58 154.943 2139.01 155.707 L2140.47 156.031 Q2145 157.003 2146.9 158.785 Q2148.82 160.545 2148.82 163.716 Q2148.82 167.327 2145.95 169.433 Q2143.11 171.54 2138.11 171.54 Q2136.02 171.54 2133.75 171.123 Q2131.51 170.73 2129.01 169.92 L2129.01 165.521 Q2131.37 166.748 2133.66 167.373 Q2135.95 167.975 2138.2 167.975 Q2141.21 167.975 2142.83 166.957 Q2144.45 165.915 2144.45 164.04 Q2144.45 162.304 2143.27 161.378 Q2142.11 160.452 2138.15 159.596 L2136.67 159.248 Q2132.71 158.415 2130.95 156.702 Q2129.19 154.966 2129.19 151.957 Q2129.19 148.299 2131.79 146.309 Q2134.38 144.318 2139.15 144.318 Q2141.51 144.318 2143.59 144.665 Q2145.67 145.012 2147.43 145.707 Z\" fill=\"#000000\" fill-rule=\"evenodd\" fill-opacity=\"1\" /><circle clip-path=\"url(#clip710)\" cx=\"1611.01\" cy=\"214.069\" r=\"23\" fill=\"#0000ff\" fill-rule=\"evenodd\" fill-opacity=\"1\" stroke=\"#000000\" stroke-opacity=\"1\" stroke-width=\"5.12\"/>\n",
       "<path clip-path=\"url(#clip710)\" d=\"M 0 0 M1723.32 206.418 L1723.32 210.4 Q1721.51 209.404 1719.68 208.918 Q1717.88 208.409 1716.02 208.409 Q1711.88 208.409 1709.59 211.048 Q1707.3 213.664 1707.3 218.409 Q1707.3 223.154 1709.59 225.793 Q1711.88 228.409 1716.02 228.409 Q1717.88 228.409 1719.68 227.923 Q1721.51 227.413 1723.32 226.418 L1723.32 230.353 Q1721.53 231.187 1719.61 231.603 Q1717.71 232.02 1715.56 232.02 Q1709.7 232.02 1706.26 228.339 Q1702.81 224.659 1702.81 218.409 Q1702.81 212.066 1706.28 208.432 Q1709.77 204.798 1715.84 204.798 Q1717.81 204.798 1719.68 205.215 Q1721.56 205.608 1723.32 206.418 Z\" fill=\"#000000\" fill-rule=\"evenodd\" fill-opacity=\"1\" /><path clip-path=\"url(#clip710)\" d=\"M 0 0 M1740.77 208.409 Q1737.34 208.409 1735.35 211.094 Q1733.36 213.756 1733.36 218.409 Q1733.36 223.062 1735.33 225.747 Q1737.32 228.409 1740.77 228.409 Q1744.17 228.409 1746.16 225.724 Q1748.15 223.038 1748.15 218.409 Q1748.15 213.802 1746.16 211.117 Q1744.17 208.409 1740.77 208.409 M1740.77 204.798 Q1746.32 204.798 1749.5 208.409 Q1752.67 212.02 1752.67 218.409 Q1752.67 224.775 1749.5 228.409 Q1746.32 232.02 1740.77 232.02 Q1735.19 232.02 1732.02 228.409 Q1728.87 224.775 1728.87 218.409 Q1728.87 212.02 1732.02 208.409 Q1735.19 204.798 1740.77 204.798 Z\" fill=\"#000000\" fill-rule=\"evenodd\" fill-opacity=\"1\" /><path clip-path=\"url(#clip710)\" d=\"M 0 0 M1779.91 210.4 Q1781.51 207.529 1783.73 206.164 Q1785.95 204.798 1788.96 204.798 Q1793.01 204.798 1795.21 207.645 Q1797.41 210.469 1797.41 215.701 L1797.41 231.349 L1793.13 231.349 L1793.13 215.839 Q1793.13 212.113 1791.81 210.307 Q1790.49 208.502 1787.78 208.502 Q1784.47 208.502 1782.55 210.701 Q1780.63 212.9 1780.63 216.696 L1780.63 231.349 L1776.35 231.349 L1776.35 215.839 Q1776.35 212.089 1775.03 210.307 Q1773.71 208.502 1770.95 208.502 Q1767.69 208.502 1765.77 210.724 Q1763.85 212.923 1763.85 216.696 L1763.85 231.349 L1759.57 231.349 L1759.57 205.423 L1763.85 205.423 L1763.85 209.451 Q1765.31 207.066 1767.34 205.932 Q1769.38 204.798 1772.18 204.798 Q1775.01 204.798 1776.97 206.233 Q1778.96 207.668 1779.91 210.4 Z\" fill=\"#000000\" fill-rule=\"evenodd\" fill-opacity=\"1\" /><path clip-path=\"url(#clip710)\" d=\"M 0 0 M1810.03 227.46 L1810.03 241.21 L1805.75 241.21 L1805.75 205.423 L1810.03 205.423 L1810.03 209.358 Q1811.37 207.043 1813.41 205.932 Q1815.47 204.798 1818.32 204.798 Q1823.04 204.798 1825.98 208.548 Q1828.94 212.298 1828.94 218.409 Q1828.94 224.52 1825.98 228.27 Q1823.04 232.02 1818.32 232.02 Q1815.47 232.02 1813.41 230.909 Q1811.37 229.775 1810.03 227.46 M1824.52 218.409 Q1824.52 213.71 1822.57 211.048 Q1820.65 208.363 1817.27 208.363 Q1813.89 208.363 1811.95 211.048 Q1810.03 213.71 1810.03 218.409 Q1810.03 223.108 1811.95 225.793 Q1813.89 228.455 1817.27 228.455 Q1820.65 228.455 1822.57 225.793 Q1824.52 223.108 1824.52 218.409 Z\" fill=\"#000000\" fill-rule=\"evenodd\" fill-opacity=\"1\" /><path clip-path=\"url(#clip710)\" d=\"M 0 0 M1835.56 221.117 L1835.56 205.423 L1839.82 205.423 L1839.82 220.955 Q1839.82 224.636 1841.25 226.488 Q1842.69 228.316 1845.56 228.316 Q1849.01 228.316 1851 226.117 Q1853.01 223.918 1853.01 220.122 L1853.01 205.423 L1857.27 205.423 L1857.27 231.349 L1853.01 231.349 L1853.01 227.367 Q1851.46 229.728 1849.4 230.886 Q1847.37 232.02 1844.66 232.02 Q1840.19 232.02 1837.88 229.242 Q1835.56 226.464 1835.56 221.117 M1846.28 204.798 L1846.28 204.798 Z\" fill=\"#000000\" fill-rule=\"evenodd\" fill-opacity=\"1\" /><path clip-path=\"url(#clip710)\" d=\"M 0 0 M1870.26 198.062 L1870.26 205.423 L1879.03 205.423 L1879.03 208.733 L1870.26 208.733 L1870.26 222.807 Q1870.26 225.978 1871.12 226.881 Q1872 227.784 1874.66 227.784 L1879.03 227.784 L1879.03 231.349 L1874.66 231.349 Q1869.73 231.349 1867.85 229.52 Q1865.98 227.668 1865.98 222.807 L1865.98 208.733 L1862.85 208.733 L1862.85 205.423 L1865.98 205.423 L1865.98 198.062 L1870.26 198.062 Z\" fill=\"#000000\" fill-rule=\"evenodd\" fill-opacity=\"1\" /><path clip-path=\"url(#clip710)\" d=\"M 0 0 M1906.81 217.321 L1906.81 219.404 L1887.23 219.404 Q1887.5 223.802 1889.87 226.117 Q1892.25 228.409 1896.49 228.409 Q1898.94 228.409 1901.23 227.807 Q1903.55 227.205 1905.81 226.001 L1905.81 230.029 Q1903.52 231.001 1901.12 231.511 Q1898.71 232.02 1896.23 232.02 Q1890.03 232.02 1886.39 228.409 Q1882.78 224.798 1882.78 218.64 Q1882.78 212.275 1886.21 208.548 Q1889.66 204.798 1895.49 204.798 Q1900.72 204.798 1903.75 208.177 Q1906.81 211.534 1906.81 217.321 M1902.55 216.071 Q1902.5 212.576 1900.58 210.492 Q1898.69 208.409 1895.54 208.409 Q1891.97 208.409 1889.82 210.423 Q1887.69 212.437 1887.37 216.094 L1902.55 216.071 Z\" fill=\"#000000\" fill-rule=\"evenodd\" fill-opacity=\"1\" /><path clip-path=\"url(#clip710)\" d=\"M 0 0 M1930.86 209.358 L1930.86 195.33 L1935.12 195.33 L1935.12 231.349 L1930.86 231.349 L1930.86 227.46 Q1929.52 229.775 1927.46 230.909 Q1925.42 232.02 1922.55 232.02 Q1917.85 232.02 1914.89 228.27 Q1911.95 224.52 1911.95 218.409 Q1911.95 212.298 1914.89 208.548 Q1917.85 204.798 1922.55 204.798 Q1925.42 204.798 1927.46 205.932 Q1929.52 207.043 1930.86 209.358 M1916.35 218.409 Q1916.35 223.108 1918.27 225.793 Q1920.21 228.455 1923.59 228.455 Q1926.97 228.455 1928.92 225.793 Q1930.86 223.108 1930.86 218.409 Q1930.86 213.71 1928.92 211.048 Q1926.97 208.363 1923.59 208.363 Q1920.21 208.363 1918.27 211.048 Q1916.35 213.71 1916.35 218.409 Z\" fill=\"#000000\" fill-rule=\"evenodd\" fill-opacity=\"1\" /><path clip-path=\"url(#clip710)\" d=\"M 0 0 M1981.14 217.321 L1981.14 219.404 L1961.56 219.404 Q1961.83 223.802 1964.19 226.117 Q1966.58 228.409 1970.81 228.409 Q1973.27 228.409 1975.56 227.807 Q1977.87 227.205 1980.14 226.001 L1980.14 230.029 Q1977.85 231.001 1975.44 231.511 Q1973.04 232.02 1970.56 232.02 Q1964.36 232.02 1960.72 228.409 Q1957.11 224.798 1957.11 218.64 Q1957.11 212.275 1960.54 208.548 Q1963.99 204.798 1969.82 204.798 Q1975.05 204.798 1978.08 208.177 Q1981.14 211.534 1981.14 217.321 M1976.88 216.071 Q1976.83 212.576 1974.91 210.492 Q1973.01 208.409 1969.87 208.409 Q1966.3 208.409 1964.15 210.423 Q1962.02 212.437 1961.69 216.094 L1976.88 216.071 Z\" fill=\"#000000\" fill-rule=\"evenodd\" fill-opacity=\"1\" /><path clip-path=\"url(#clip710)\" d=\"M 0 0 M1988.13 205.423 L1992.39 205.423 L1992.39 231.349 L1988.13 231.349 L1988.13 205.423 M1988.13 195.33 L1992.39 195.33 L1992.39 200.724 L1988.13 200.724 L1988.13 195.33 Z\" fill=\"#000000\" fill-rule=\"evenodd\" fill-opacity=\"1\" /><path clip-path=\"url(#clip710)\" d=\"M 0 0 M2018.36 218.085 Q2018.36 213.455 2016.44 210.909 Q2014.54 208.363 2011.09 208.363 Q2007.67 208.363 2005.74 210.909 Q2003.85 213.455 2003.85 218.085 Q2003.85 222.691 2005.74 225.238 Q2007.67 227.784 2011.09 227.784 Q2014.54 227.784 2016.44 225.238 Q2018.36 222.691 2018.36 218.085 M2022.62 228.131 Q2022.62 234.751 2019.68 237.969 Q2016.74 241.21 2010.68 241.21 Q2008.43 241.21 2006.44 240.862 Q2004.45 240.538 2002.57 239.844 L2002.57 235.7 Q2004.45 236.719 2006.28 237.205 Q2008.11 237.691 2010 237.691 Q2014.19 237.691 2016.28 235.492 Q2018.36 233.316 2018.36 228.895 L2018.36 226.788 Q2017.04 229.08 2014.98 230.214 Q2012.92 231.349 2010.05 231.349 Q2005.28 231.349 2002.37 227.714 Q1999.45 224.08 1999.45 218.085 Q1999.45 212.066 2002.37 208.432 Q2005.28 204.798 2010.05 204.798 Q2012.92 204.798 2014.98 205.932 Q2017.04 207.066 2018.36 209.358 L2018.36 205.423 L2022.62 205.423 L2022.62 228.131 Z\" fill=\"#000000\" fill-rule=\"evenodd\" fill-opacity=\"1\" /><path clip-path=\"url(#clip710)\" d=\"M 0 0 M2053.57 217.321 L2053.57 219.404 L2033.99 219.404 Q2034.26 223.802 2036.62 226.117 Q2039.01 228.409 2043.24 228.409 Q2045.7 228.409 2047.99 227.807 Q2050.3 227.205 2052.57 226.001 L2052.57 230.029 Q2050.28 231.001 2047.87 231.511 Q2045.47 232.02 2042.99 232.02 Q2036.79 232.02 2033.15 228.409 Q2029.54 224.798 2029.54 218.64 Q2029.54 212.275 2032.97 208.548 Q2036.42 204.798 2042.25 204.798 Q2047.48 204.798 2050.51 208.177 Q2053.57 211.534 2053.57 217.321 M2049.31 216.071 Q2049.26 212.576 2047.34 210.492 Q2045.44 208.409 2042.3 208.409 Q2038.73 208.409 2036.58 210.423 Q2034.45 212.437 2034.12 216.094 L2049.31 216.071 Z\" fill=\"#000000\" fill-rule=\"evenodd\" fill-opacity=\"1\" /><path clip-path=\"url(#clip710)\" d=\"M 0 0 M2082.11 215.701 L2082.11 231.349 L2077.85 231.349 L2077.85 215.839 Q2077.85 212.159 2076.42 210.33 Q2074.98 208.502 2072.11 208.502 Q2068.66 208.502 2066.67 210.701 Q2064.68 212.9 2064.68 216.696 L2064.68 231.349 L2060.4 231.349 L2060.4 205.423 L2064.68 205.423 L2064.68 209.451 Q2066.21 207.113 2068.27 205.955 Q2070.35 204.798 2073.06 204.798 Q2077.53 204.798 2079.82 207.576 Q2082.11 210.33 2082.11 215.701 Z\" fill=\"#000000\" fill-rule=\"evenodd\" fill-opacity=\"1\" /><path clip-path=\"url(#clip710)\" d=\"M 0 0 M2087.55 205.423 L2092.06 205.423 L2100.17 227.182 L2108.27 205.423 L2112.78 205.423 L2103.06 231.349 L2097.27 231.349 L2087.55 205.423 Z\" fill=\"#000000\" fill-rule=\"evenodd\" fill-opacity=\"1\" /><path clip-path=\"url(#clip710)\" d=\"M 0 0 M2130.44 218.316 Q2125.28 218.316 2123.29 219.497 Q2121.3 220.677 2121.3 223.525 Q2121.3 225.793 2122.78 227.136 Q2124.29 228.455 2126.86 228.455 Q2130.4 228.455 2132.53 225.955 Q2134.68 223.432 2134.68 219.265 L2134.68 218.316 L2130.44 218.316 M2138.94 216.557 L2138.94 231.349 L2134.68 231.349 L2134.68 227.413 Q2133.22 229.775 2131.04 230.909 Q2128.87 232.02 2125.72 232.02 Q2121.74 232.02 2119.38 229.798 Q2117.04 227.552 2117.04 223.802 Q2117.04 219.427 2119.96 217.205 Q2122.9 214.983 2128.71 214.983 L2134.68 214.983 L2134.68 214.566 Q2134.68 211.627 2132.73 210.029 Q2130.81 208.409 2127.32 208.409 Q2125.1 208.409 2122.99 208.941 Q2120.88 209.474 2118.94 210.539 L2118.94 206.603 Q2121.28 205.701 2123.48 205.261 Q2125.67 204.798 2127.76 204.798 Q2133.38 204.798 2136.16 207.714 Q2138.94 210.631 2138.94 216.557 Z\" fill=\"#000000\" fill-rule=\"evenodd\" fill-opacity=\"1\" /><path clip-path=\"url(#clip710)\" d=\"M 0 0 M2147.71 195.33 L2151.97 195.33 L2151.97 231.349 L2147.71 231.349 L2147.71 195.33 Z\" fill=\"#000000\" fill-rule=\"evenodd\" fill-opacity=\"1\" /><path clip-path=\"url(#clip710)\" d=\"M 0 0 M2160.44 221.117 L2160.44 205.423 L2164.7 205.423 L2164.7 220.955 Q2164.7 224.636 2166.14 226.488 Q2167.57 228.316 2170.44 228.316 Q2173.89 228.316 2175.88 226.117 Q2177.9 223.918 2177.9 220.122 L2177.9 205.423 L2182.16 205.423 L2182.16 231.349 L2177.9 231.349 L2177.9 227.367 Q2176.35 229.728 2174.29 230.886 Q2172.25 232.02 2169.54 232.02 Q2165.07 232.02 2162.76 229.242 Q2160.44 226.464 2160.44 221.117 M2171.16 204.798 L2171.16 204.798 Z\" fill=\"#000000\" fill-rule=\"evenodd\" fill-opacity=\"1\" /><path clip-path=\"url(#clip710)\" d=\"M 0 0 M2213.1 217.321 L2213.1 219.404 L2193.52 219.404 Q2193.8 223.802 2196.16 226.117 Q2198.54 228.409 2202.78 228.409 Q2205.23 228.409 2207.53 227.807 Q2209.84 227.205 2212.11 226.001 L2212.11 230.029 Q2209.82 231.001 2207.41 231.511 Q2205 232.02 2202.53 232.02 Q2196.32 232.02 2192.69 228.409 Q2189.08 224.798 2189.08 218.64 Q2189.08 212.275 2192.5 208.548 Q2195.95 204.798 2201.79 204.798 Q2207.02 204.798 2210.05 208.177 Q2213.1 211.534 2213.1 217.321 M2208.85 216.071 Q2208.8 212.576 2206.88 210.492 Q2204.98 208.409 2201.83 208.409 Q2198.27 208.409 2196.11 210.423 Q2193.98 212.437 2193.66 216.094 L2208.85 216.071 Z\" fill=\"#000000\" fill-rule=\"evenodd\" fill-opacity=\"1\" /><path clip-path=\"url(#clip710)\" d=\"M 0 0 M2236.62 206.187 L2236.62 210.214 Q2234.82 209.289 2232.87 208.826 Q2230.93 208.363 2228.85 208.363 Q2225.67 208.363 2224.08 209.335 Q2222.5 210.307 2222.5 212.251 Q2222.5 213.733 2223.64 214.589 Q2224.77 215.423 2228.2 216.187 L2229.66 216.511 Q2234.19 217.483 2236.09 219.265 Q2238.01 221.025 2238.01 224.196 Q2238.01 227.807 2235.14 229.913 Q2232.29 232.02 2227.29 232.02 Q2225.21 232.02 2222.94 231.603 Q2220.7 231.21 2218.2 230.4 L2218.2 226.001 Q2220.56 227.228 2222.85 227.853 Q2225.14 228.455 2227.39 228.455 Q2230.4 228.455 2232.02 227.437 Q2233.64 226.395 2233.64 224.52 Q2233.64 222.784 2232.46 221.858 Q2231.3 220.932 2227.34 220.076 L2225.86 219.728 Q2221.9 218.895 2220.14 217.182 Q2218.38 215.446 2218.38 212.437 Q2218.38 208.779 2220.98 206.789 Q2223.57 204.798 2228.34 204.798 Q2230.7 204.798 2232.78 205.145 Q2234.86 205.492 2236.62 206.187 Z\" fill=\"#000000\" fill-rule=\"evenodd\" fill-opacity=\"1\" /></svg>\n"
      ]
     },
     "execution_count": 369,
     "metadata": {},
     "output_type": "execute_result"
    }
   ],
   "source": [
    "d = disks[size(disks,1)]\n",
    "plot(draw_circle(d[1],0,d[2]), \n",
    "    seriestype = [:shape,], \n",
    "    color = :red, \n",
    "    fillalpha = 0.5,\n",
    "    label = \"Gershgorin bounds\"\n",
    ")\n",
    "for i in 1:size(disks,1)-1\n",
    "    d = disks[i]\n",
    "    plot!(draw_circle(d[1],0,d[2]), \n",
    "        seriestype = [:shape,], \n",
    "        color = :red, \n",
    "        fillalpha = 0.5 , \n",
    "        label = \"\",\n",
    "        aspect_ratio = 1\n",
    "    )\n",
    "end\n",
    "\n",
    "scatter!(ev_plot,\n",
    "    xlabel = \"Real axis\", \n",
    "    ylabel = \"Imaginary axis\",\n",
    "    label = \"computed eigenvalues\",\n",
    "    color = :blue\n",
    "    )"
   ]
  },
  {
   "cell_type": "code",
   "execution_count": null,
   "metadata": {},
   "outputs": [],
   "source": []
  },
  {
   "cell_type": "code",
   "execution_count": null,
   "metadata": {},
   "outputs": [],
   "source": []
  }
 ],
 "metadata": {
  "kernelspec": {
   "display_name": "Julia 1.6.0",
   "language": "julia",
   "name": "julia-1.6"
  },
  "language_info": {
   "file_extension": ".jl",
   "mimetype": "application/julia",
   "name": "julia",
   "version": "1.6.0"
  }
 },
 "nbformat": 4,
 "nbformat_minor": 2
}
